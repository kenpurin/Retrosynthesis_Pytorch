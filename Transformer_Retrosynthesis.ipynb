{
  "nbformat": 4,
  "nbformat_minor": 5,
  "metadata": {
    "kernelspec": {
      "display_name": "Python 3",
      "language": "python",
      "name": "python3"
    },
    "language_info": {
      "codemirror_mode": {
        "name": "ipython",
        "version": 3
      },
      "file_extension": ".py",
      "mimetype": "text/x-python",
      "name": "python",
      "nbconvert_exporter": "python",
      "pygments_lexer": "ipython3",
      "version": "3.8.5"
    },
    "colab": {
      "name": "Transformer_Retrosynthesis.ipynb",
      "provenance": [],
      "machine_shape": "hm",
      "include_colab_link": true
    },
    "accelerator": "GPU"
  },
  "cells": [
    {
      "cell_type": "markdown",
      "metadata": {
        "id": "view-in-github",
        "colab_type": "text"
      },
      "source": [
        "<a href=\"https://colab.research.google.com/github/kenpurin/Retrosynthesis_TF/blob/main/Transformer_Retrosynthesis.ipynb\" target=\"_parent\"><img src=\"https://colab.research.google.com/assets/colab-badge.svg\" alt=\"Open In Colab\"/></a>"
      ]
    },
    {
      "cell_type": "markdown",
      "metadata": {
        "id": "AuyLoi9uOemv"
      },
      "source": [
        "# LANGUAGE TRANSLATION WITH TRANSFORMER"
      ],
      "id": "AuyLoi9uOemv"
    },
    {
      "cell_type": "code",
      "metadata": {
        "colab": {
          "base_uri": "https://localhost:8080/"
        },
        "id": "n7-pt1ZNOj6f",
        "outputId": "6915c069-5b23-4742-9783-c681576a4fe6"
      },
      "source": [
        "!nvidia-smi"
      ],
      "id": "n7-pt1ZNOj6f",
      "execution_count": 1,
      "outputs": [
        {
          "output_type": "stream",
          "text": [
            "Sat May 22 20:39:56 2021       \n",
            "+-----------------------------------------------------------------------------+\n",
            "| NVIDIA-SMI 465.19.01    Driver Version: 460.32.03    CUDA Version: 11.2     |\n",
            "|-------------------------------+----------------------+----------------------+\n",
            "| GPU  Name        Persistence-M| Bus-Id        Disp.A | Volatile Uncorr. ECC |\n",
            "| Fan  Temp  Perf  Pwr:Usage/Cap|         Memory-Usage | GPU-Util  Compute M. |\n",
            "|                               |                      |               MIG M. |\n",
            "|===============================+======================+======================|\n",
            "|   0  Tesla P100-PCIE...  Off  | 00000000:00:04.0 Off |                    0 |\n",
            "| N/A   35C    P0    26W / 250W |      0MiB / 16280MiB |      0%      Default |\n",
            "|                               |                      |                  N/A |\n",
            "+-------------------------------+----------------------+----------------------+\n",
            "                                                                               \n",
            "+-----------------------------------------------------------------------------+\n",
            "| Processes:                                                                  |\n",
            "|  GPU   GI   CI        PID   Type   Process name                  GPU Memory |\n",
            "|        ID   ID                                                   Usage      |\n",
            "|=============================================================================|\n",
            "|  No running processes found                                                 |\n",
            "+-----------------------------------------------------------------------------+\n"
          ],
          "name": "stdout"
        }
      ]
    },
    {
      "cell_type": "code",
      "metadata": {
        "colab": {
          "base_uri": "https://localhost:8080/"
        },
        "id": "rQUpW-B07Wvw",
        "outputId": "d47bab08-0582-456d-885a-1ffab37f2a4e"
      },
      "source": [
        "from google.colab import drive\n",
        "drive.mount('/content/gdrive')"
      ],
      "id": "rQUpW-B07Wvw",
      "execution_count": null,
      "outputs": [
        {
          "output_type": "stream",
          "text": [
            "Mounted at /content/gdrive\n"
          ],
          "name": "stdout"
        }
      ]
    },
    {
      "cell_type": "markdown",
      "metadata": {
        "id": "yD3jtJw1Y07o"
      },
      "source": [
        "#load data and insatall"
      ],
      "id": "yD3jtJw1Y07o"
    },
    {
      "cell_type": "code",
      "metadata": {
        "colab": {
          "base_uri": "https://localhost:8080/"
        },
        "id": "Ij-QtfSdOxKG",
        "outputId": "f1d4ac23-3a64-4e89-dbfa-98e592166874"
      },
      "source": [
        "!git clone https://github.com/kenpurin/Retrosynthesis_TF.git"
      ],
      "id": "Ij-QtfSdOxKG",
      "execution_count": 2,
      "outputs": [
        {
          "output_type": "stream",
          "text": [
            "Cloning into 'Retrosynthesis_TF'...\n",
            "remote: Enumerating objects: 94, done.\u001b[K\n",
            "remote: Counting objects: 100% (94/94), done.\u001b[K\n",
            "remote: Compressing objects: 100% (89/89), done.\u001b[K\n",
            "remote: Total 94 (delta 37), reused 0 (delta 0), pack-reused 0\u001b[K\n",
            "Unpacking objects: 100% (94/94), done.\n"
          ],
          "name": "stdout"
        }
      ]
    },
    {
      "cell_type": "code",
      "metadata": {
        "colab": {
          "base_uri": "https://localhost:8080/"
        },
        "id": "RpYFi7_17AeU",
        "outputId": "06e5db51-ba39-4dc5-90e5-b51acd1e1b8d"
      },
      "source": [
        "!pip3 install rich\n",
        "!pip3 show torch"
      ],
      "id": "RpYFi7_17AeU",
      "execution_count": 3,
      "outputs": [
        {
          "output_type": "stream",
          "text": [
            "Collecting rich\n",
            "\u001b[?25l  Downloading https://files.pythonhosted.org/packages/6b/39/fbe8d15f0b017d63701f2a42e4ccb9a73cd4175e5c56214c1b5685e3dd79/rich-10.2.2-py3-none-any.whl (203kB)\n",
            "\u001b[K     |████████████████████████████████| 204kB 2.9MB/s \n",
            "\u001b[?25hCollecting commonmark<0.10.0,>=0.9.0\n",
            "\u001b[?25l  Downloading https://files.pythonhosted.org/packages/b1/92/dfd892312d822f36c55366118b95d914e5f16de11044a27cf10a7d71bbbf/commonmark-0.9.1-py2.py3-none-any.whl (51kB)\n",
            "\u001b[K     |████████████████████████████████| 51kB 7.6MB/s \n",
            "\u001b[?25hRequirement already satisfied: typing-extensions<4.0.0,>=3.7.4; python_version < \"3.8\" in /usr/local/lib/python3.7/dist-packages (from rich) (3.7.4.3)\n",
            "Requirement already satisfied: pygments<3.0.0,>=2.6.0 in /usr/local/lib/python3.7/dist-packages (from rich) (2.6.1)\n",
            "Collecting colorama<0.5.0,>=0.4.0\n",
            "  Downloading https://files.pythonhosted.org/packages/44/98/5b86278fbbf250d239ae0ecb724f8572af1c91f4a11edf4d36a206189440/colorama-0.4.4-py2.py3-none-any.whl\n",
            "Installing collected packages: commonmark, colorama, rich\n",
            "Successfully installed colorama-0.4.4 commonmark-0.9.1 rich-10.2.2\n",
            "Name: torch\n",
            "Version: 1.8.1+cu101\n",
            "Summary: Tensors and Dynamic neural networks in Python with strong GPU acceleration\n",
            "Home-page: https://pytorch.org/\n",
            "Author: PyTorch Team\n",
            "Author-email: packages@pytorch.org\n",
            "License: BSD-3\n",
            "Location: /usr/local/lib/python3.7/dist-packages\n",
            "Requires: typing-extensions, numpy\n",
            "Required-by: torchvision, torchtext, fastai\n"
          ],
          "name": "stdout"
        }
      ]
    },
    {
      "cell_type": "markdown",
      "metadata": {
        "id": "k3YfZKcVOVBP"
      },
      "source": [
        "# Data Processing"
      ],
      "id": "k3YfZKcVOVBP"
    },
    {
      "cell_type": "code",
      "metadata": {
        "id": "greater-timeline"
      },
      "source": [
        "import math\n",
        "import torchtext\n",
        "import torch\n",
        "import torch.nn as nn\n",
        "from torchtext.data.utils import get_tokenizer\n",
        "from collections import Counter\n",
        "from torchtext.vocab import Vocab\n",
        "from torchtext.utils import download_from_url, extract_archive\n",
        "from torch import Tensor\n",
        "import io\n",
        "import time\n",
        "from rich import print\n",
        "import matplotlib.pyplot as plt\n"
      ],
      "id": "greater-timeline",
      "execution_count": 4,
      "outputs": []
    },
    {
      "cell_type": "code",
      "metadata": {
        "colab": {
          "base_uri": "https://localhost:8080/",
          "height": 0
        },
        "id": "aiIInor-9RHJ",
        "outputId": "a7186dc2-5196-4c3e-c05b-617543c27108"
      },
      "source": [
        "torch.manual_seed(0)\n",
        "torch.use_deterministic_algorithms(True)\n",
        "device = torch.device('cuda' if torch.cuda.is_available() else 'cpu')\n",
        "print(torch.__version__)\n",
        "print(torch.cuda.is_available())\n",
        "\n",
        "if device.type == 'cuda':\n",
        "    print(torch.cuda.get_device_name(torch.cuda.current_device()))\n",
        "    print('Memory Usage:')\n",
        "    print('Allocated:', round(torch.cuda.memory_allocated(0)/1024**3,1), 'GB')\n",
        "    print('Cached:   ', round(torch.cuda.memory_reserved(0)/1024**3,1), 'GB')\n",
        "!nvcc --version"
      ],
      "id": "aiIInor-9RHJ",
      "execution_count": 5,
      "outputs": [
        {
          "output_type": "display_data",
          "data": {
            "text/html": [
              "<pre style=\"white-space:pre;overflow-x:auto;line-height:normal;font-family:Menlo,'DejaVu Sans Mono',consolas,'Courier New',monospace\"><span style=\"color: #008080; text-decoration-color: #008080; font-weight: bold\">1.8</span>.<span style=\"color: #008080; text-decoration-color: #008080; font-weight: bold\">1</span>+cu101\n",
              "</pre>\n"
            ],
            "text/plain": [
              "\u001b[1;36m1.8\u001b[0m.\u001b[1;36m1\u001b[0m+cu101\n"
            ]
          },
          "metadata": {
            "tags": []
          }
        },
        {
          "output_type": "display_data",
          "data": {
            "text/html": [
              "<pre style=\"white-space:pre;overflow-x:auto;line-height:normal;font-family:Menlo,'DejaVu Sans Mono',consolas,'Courier New',monospace\"><span style=\"color: #00ff00; text-decoration-color: #00ff00; font-style: italic\">True</span>\n",
              "</pre>\n"
            ],
            "text/plain": [
              "\u001b[3;92mTrue\u001b[0m\n"
            ]
          },
          "metadata": {
            "tags": []
          }
        },
        {
          "output_type": "display_data",
          "data": {
            "text/html": [
              "<pre style=\"white-space:pre;overflow-x:auto;line-height:normal;font-family:Menlo,'DejaVu Sans Mono',consolas,'Courier New',monospace\">Tesla P100-PCIE-16GB\n",
              "</pre>\n"
            ],
            "text/plain": [
              "Tesla P100-PCIE-16GB\n"
            ]
          },
          "metadata": {
            "tags": []
          }
        },
        {
          "output_type": "display_data",
          "data": {
            "text/html": [
              "<pre style=\"white-space:pre;overflow-x:auto;line-height:normal;font-family:Menlo,'DejaVu Sans Mono',consolas,'Courier New',monospace\">Memory Usage:\n",
              "</pre>\n"
            ],
            "text/plain": [
              "Memory Usage:\n"
            ]
          },
          "metadata": {
            "tags": []
          }
        },
        {
          "output_type": "display_data",
          "data": {
            "text/html": [
              "<pre style=\"white-space:pre;overflow-x:auto;line-height:normal;font-family:Menlo,'DejaVu Sans Mono',consolas,'Courier New',monospace\">Allocated: <span style=\"color: #008080; text-decoration-color: #008080; font-weight: bold\">0.0</span> GB\n",
              "</pre>\n"
            ],
            "text/plain": [
              "Allocated: \u001b[1;36m0.0\u001b[0m GB\n"
            ]
          },
          "metadata": {
            "tags": []
          }
        },
        {
          "output_type": "display_data",
          "data": {
            "text/html": [
              "<pre style=\"white-space:pre;overflow-x:auto;line-height:normal;font-family:Menlo,'DejaVu Sans Mono',consolas,'Courier New',monospace\">Cached:    <span style=\"color: #008080; text-decoration-color: #008080; font-weight: bold\">0.0</span> GB\n",
              "</pre>\n"
            ],
            "text/plain": [
              "Cached:    \u001b[1;36m0.0\u001b[0m GB\n"
            ]
          },
          "metadata": {
            "tags": []
          }
        },
        {
          "output_type": "stream",
          "text": [
            "nvcc: NVIDIA (R) Cuda compiler driver\n",
            "Copyright (c) 2005-2020 NVIDIA Corporation\n",
            "Built on Wed_Jul_22_19:09:09_PDT_2020\n",
            "Cuda compilation tools, release 11.0, V11.0.221\n",
            "Build cuda_11.0_bu.TC445_37.28845127_0\n"
          ],
          "name": "stdout"
        }
      ]
    },
    {
      "cell_type": "code",
      "metadata": {
        "id": "arbitrary-china"
      },
      "source": [
        "#load data USPTO-50K\n",
        "train_src_filepaths='Retrosynthesis_TF/USPTO-50K/src/src-train.txt'\n",
        "train_tgt_filepaths='Retrosynthesis_TF/USPTO-50K/tgt/tgt-train.txt'\n",
        "val_src_filepaths='Retrosynthesis_TF/USPTO-50K/src/src-val.txt'\n",
        "val_tgt_filepaths='Retrosynthesis_TF/USPTO-50K/tgt/tgt-val.txt'\n",
        "test_src_filepaths='Retrosynthesis_TF/USPTO-50K/src/src-test.txt'\n",
        "test_tgt_filepaths='Retrosynthesis_TF/USPTO-50K/tgt/tgt-test.txt'"
      ],
      "id": "arbitrary-china",
      "execution_count": 6,
      "outputs": []
    },
    {
      "cell_type": "code",
      "metadata": {
        "id": "sIImMkN62sbz"
      },
      "source": [
        "#build_vocab\n",
        "src_filepath='Retrosynthesis_TF/USPTO-50K/src/src.txt'\n",
        "tgt_filepath='Retrosynthesis_TF/USPTO-50K/tgt/tgt.txt'"
      ],
      "id": "sIImMkN62sbz",
      "execution_count": 7,
      "outputs": []
    },
    {
      "cell_type": "code",
      "metadata": {
        "id": "circular-south"
      },
      "source": [
        "#https://pytorch.org/text/stable/data_utils.html use toktok or spacy\n",
        "tokenizer = get_tokenizer('toktok')"
      ],
      "id": "circular-south",
      "execution_count": 8,
      "outputs": []
    },
    {
      "cell_type": "code",
      "metadata": {
        "id": "g4nOKwrE2odn"
      },
      "source": [
        "def build_vocab(filepath, tokenizer):\n",
        "  counter = Counter()\n",
        "  with io.open(filepath, encoding=\"utf8\") as f:\n",
        "    for string_ in f:\n",
        "      counter.update(tokenizer(string_))\n",
        "  return Vocab(counter, specials=['<unk>', '<pad>', '<bos>', '<eos>'])\n",
        "src_vocab = build_vocab(src_filepath,tokenizer)\n",
        "tgt_vocab = build_vocab(tgt_filepath,tokenizer)"
      ],
      "id": "g4nOKwrE2odn",
      "execution_count": 9,
      "outputs": []
    },
    {
      "cell_type": "code",
      "metadata": {
        "id": "recorded-crawford"
      },
      "source": [
        "def data_process(filepaths1,filepaths2):\n",
        "  raw_src_iter = iter(io.open(filepaths1, encoding=\"utf8\"))\n",
        "  raw_tgt_iter = iter(io.open(filepaths2, encoding=\"utf8\"))\n",
        "  data = []\n",
        "  for (raw_src, raw_tgt) in zip(raw_src_iter, raw_tgt_iter):\n",
        "    src_tensor_ = torch.tensor([src_vocab[token] for token in tokenizer(raw_src.rstrip(\"\\n\"))],\n",
        "                            dtype=torch.long)\n",
        "    tgt_tensor_ = torch.tensor([tgt_vocab[token] for token in tokenizer(raw_tgt.rstrip(\"\\n\"))],\n",
        "                            dtype=torch.long)\n",
        "    data.append((src_tensor_, tgt_tensor_))\n",
        "  return data"
      ],
      "id": "recorded-crawford",
      "execution_count": 10,
      "outputs": []
    },
    {
      "cell_type": "code",
      "metadata": {
        "id": "polished-truth"
      },
      "source": [
        "train_data = data_process(train_src_filepaths,train_tgt_filepaths)\n",
        "val_data = data_process(val_src_filepaths,val_tgt_filepaths)\n",
        "test_data = data_process(test_src_filepaths,test_tgt_filepaths)"
      ],
      "id": "polished-truth",
      "execution_count": 11,
      "outputs": []
    },
    {
      "cell_type": "code",
      "metadata": {
        "id": "korean-savage"
      },
      "source": [
        "device = torch.device('cuda' if torch.cuda.is_available() else 'cpu')\n",
        "BATCH_SIZE = 128\n",
        "PAD_IDX = src_vocab['<pad>']\n",
        "BOS_IDX = src_vocab['<bos>']\n",
        "EOS_IDX = src_vocab['<eos>']"
      ],
      "id": "korean-savage",
      "execution_count": 12,
      "outputs": []
    },
    {
      "cell_type": "markdown",
      "metadata": {
        "id": "dJcCX4xNOSgZ"
      },
      "source": [
        "# DataLoader"
      ],
      "id": "dJcCX4xNOSgZ"
    },
    {
      "cell_type": "code",
      "metadata": {
        "id": "hundred-translator"
      },
      "source": [
        "from torch.nn.utils.rnn import pad_sequence\n",
        "from torch.utils.data import DataLoader\n",
        "\n",
        "def generate_batch(data_batch):\n",
        "  src_batch, tgt_batch = [], []\n",
        "  for (src_item, tgt_item) in data_batch:\n",
        "    src_batch.append(torch.cat([torch.tensor([BOS_IDX]), src_item, torch.tensor([EOS_IDX])], dim=0))\n",
        "    tgt_batch.append(torch.cat([torch.tensor([BOS_IDX]), tgt_item, torch.tensor([EOS_IDX])], dim=0))\n",
        "  src_batch = pad_sequence(src_batch, padding_value=PAD_IDX)\n",
        "  tgt_batch = pad_sequence(tgt_batch, padding_value=PAD_IDX)\n",
        "  return src_batch, tgt_batch\n",
        "\n",
        "train_iter = DataLoader(train_data, batch_size=BATCH_SIZE,\n",
        "                        shuffle=True, collate_fn=generate_batch)\n",
        "valid_iter = DataLoader(val_data, batch_size=BATCH_SIZE,\n",
        "                        shuffle=True, collate_fn=generate_batch)\n",
        "test_iter = DataLoader(test_data, batch_size=BATCH_SIZE,\n",
        "                       shuffle=True, collate_fn=generate_batch)"
      ],
      "id": "hundred-translator",
      "execution_count": 13,
      "outputs": []
    },
    {
      "cell_type": "markdown",
      "metadata": {
        "id": "JsF46_xVOBv7"
      },
      "source": [
        "#Transformer"
      ],
      "id": "JsF46_xVOBv7"
    },
    {
      "cell_type": "code",
      "metadata": {
        "id": "coupled-ballot"
      },
      "source": [
        "#https://pytorch.org/docs/master/nn.html?highlight=multiheadattention#torch.nn.MultiheadAttention\n",
        "from torch.nn import (TransformerEncoder, TransformerDecoder,\n",
        "                      TransformerEncoderLayer, TransformerDecoderLayer)\n",
        "\n",
        "\n",
        "class Seq2SeqTransformer(nn.Module):\n",
        "    def __init__(self, num_encoder_layers: int, num_decoder_layers: int,\n",
        "                 emb_size: int, src_vocab_size: int, tgt_vocab_size: int,\n",
        "                 dim_feedforward:int = 512, dropout:float = 0.1):\n",
        "        super(Seq2SeqTransformer, self).__init__()\n",
        "        #TransformerEncoderLayer is made up of self-attn and feedforward network.\n",
        "        encoder_layer = TransformerEncoderLayer(d_model=emb_size, nhead=NHEAD,\n",
        "                                                dim_feedforward=dim_feedforward)\n",
        "        #TransformerEncoder is a stack of N encoder layers\n",
        "        self.transformer_encoder = TransformerEncoder(encoder_layer, num_layers=num_encoder_layers)\n",
        "        #\tTransformerDecoderLayer is made up of self-attn, multi-head-attn and feedforward network.\n",
        "        decoder_layer = TransformerDecoderLayer(d_model=emb_size, nhead=NHEAD,\n",
        "                                                dim_feedforward=dim_feedforward)\n",
        "        #TransformerDecoder is a stack of N decoder layers\n",
        "        self.transformer_decoder = TransformerDecoder(decoder_layer, num_layers=num_decoder_layers)\n",
        "\n",
        "        self.generator = nn.Linear(emb_size, tgt_vocab_size)\n",
        "        self.src_tok_emb = TokenEmbedding(src_vocab_size, emb_size)\n",
        "        self.tgt_tok_emb = TokenEmbedding(tgt_vocab_size, emb_size)\n",
        "        self.positional_encoding = PositionalEncoding(emb_size, dropout=dropout)\n",
        "\n",
        "    def forward(self, src: Tensor, trg: Tensor, src_mask: Tensor,\n",
        "                tgt_mask: Tensor, src_padding_mask: Tensor,\n",
        "                tgt_padding_mask: Tensor, memory_key_padding_mask: Tensor):\n",
        "        src_emb = self.positional_encoding(self.src_tok_emb(src))\n",
        "        tgt_emb = self.positional_encoding(self.tgt_tok_emb(trg))\n",
        "        memory = self.transformer_encoder(src_emb, src_mask, src_padding_mask)\n",
        "        outs = self.transformer_decoder(tgt_emb, memory, tgt_mask, None,\n",
        "                                        tgt_padding_mask, memory_key_padding_mask)\n",
        "        return self.generator(outs)\n",
        "\n",
        "    def encode(self, src: Tensor, src_mask: Tensor):\n",
        "        return self.transformer_encoder(self.positional_encoding(\n",
        "                            self.src_tok_emb(src)), src_mask)\n",
        "\n",
        "    def decode(self, tgt: Tensor, memory: Tensor, tgt_mask: Tensor):\n",
        "        return self.transformer_decoder(self.positional_encoding(\n",
        "                          self.tgt_tok_emb(tgt)), memory,\n",
        "                          tgt_mask)"
      ],
      "id": "coupled-ballot",
      "execution_count": 14,
      "outputs": []
    },
    {
      "cell_type": "code",
      "metadata": {
        "id": "random-trance"
      },
      "source": [
        "class PositionalEncoding(nn.Module):\n",
        "    def __init__(self, emb_size: int, dropout, maxlen: int = 5000):\n",
        "        super(PositionalEncoding, self).__init__()\n",
        "        den = torch.exp(- torch.arange(0, emb_size, 2) * math.log(10000) / emb_size)\n",
        "        pos = torch.arange(0, maxlen).reshape(maxlen, 1)\n",
        "        pos_embedding = torch.zeros((maxlen, emb_size))\n",
        "        pos_embedding[:, 0::2] = torch.sin(pos * den)\n",
        "        pos_embedding[:, 1::2] = torch.cos(pos * den)\n",
        "        pos_embedding = pos_embedding.unsqueeze(-2)\n",
        "\n",
        "        self.dropout = nn.Dropout(dropout)\n",
        "        self.register_buffer('pos_embedding', pos_embedding)\n",
        "\n",
        "    def forward(self, token_embedding: Tensor):\n",
        "        return self.dropout(token_embedding +\n",
        "                            self.pos_embedding[:token_embedding.size(0),:])\n",
        "\n",
        "class TokenEmbedding(nn.Module):\n",
        "    def __init__(self, vocab_size: int, emb_size):\n",
        "        super(TokenEmbedding, self).__init__()\n",
        "        self.embedding = nn.Embedding(vocab_size, emb_size)\n",
        "        self.emb_size = emb_size\n",
        "    def forward(self, tokens: Tensor):\n",
        "        return self.embedding(tokens.long()) * math.sqrt(self.emb_size)"
      ],
      "id": "random-trance",
      "execution_count": 15,
      "outputs": []
    },
    {
      "cell_type": "code",
      "metadata": {
        "id": "japanese-polls"
      },
      "source": [
        "def generate_square_subsequent_mask(sz):\n",
        "    mask = (torch.triu(torch.ones((sz, sz), device=DEVICE)) == 1).transpose(0, 1)\n",
        "    mask = mask.float().masked_fill(mask == 0, float('-inf')).masked_fill(mask == 1, float(0.0))\n",
        "    return mask\n",
        "\n",
        "def create_mask(src, tgt):\n",
        "  src_seq_len = src.shape[0]\n",
        "  tgt_seq_len = tgt.shape[0]\n",
        "\n",
        "  tgt_mask = generate_square_subsequent_mask(tgt_seq_len)\n",
        "  src_mask = torch.zeros((src_seq_len, src_seq_len), device=DEVICE).type(torch.bool)\n",
        "\n",
        "  src_padding_mask = (src == PAD_IDX).transpose(0, 1)\n",
        "  tgt_padding_mask = (tgt == PAD_IDX).transpose(0, 1)\n",
        "  return src_mask, tgt_mask, src_padding_mask, tgt_padding_mask"
      ],
      "id": "japanese-polls",
      "execution_count": 16,
      "outputs": []
    },
    {
      "cell_type": "code",
      "metadata": {
        "id": "convenient-facial"
      },
      "source": [
        "# Training hyperparameters\n",
        "SRC_VOCAB_SIZE = len(src_vocab)\n",
        "TGT_VOCAB_SIZE = len(tgt_vocab)\n",
        "EMB_SIZE = 512\n",
        "NHEAD = 8\n",
        "FFN_HID_DIM = 512\n",
        "BATCH_SIZE = 128\n",
        "NUM_ENCODER_LAYERS = 3\n",
        "NUM_DECODER_LAYERS = 3\n",
        "NUM_EPOCHS = 500\n",
        "\n",
        "DEVICE = torch.device('cuda:0' if torch.cuda.is_available() else 'cpu')\n",
        "\n",
        "transformer = Seq2SeqTransformer(NUM_ENCODER_LAYERS, NUM_DECODER_LAYERS,\n",
        "                                 EMB_SIZE, SRC_VOCAB_SIZE, TGT_VOCAB_SIZE,\n",
        "                                 FFN_HID_DIM)\n",
        "\n",
        "for p in transformer.parameters():\n",
        "    if p.dim() > 1:\n",
        "        nn.init.xavier_uniform_(p)\n",
        "#model \n",
        "transformer = transformer.to(device)\n",
        "\n",
        "loss_fn = torch.nn.CrossEntropyLoss(ignore_index=PAD_IDX)\n",
        "\n",
        "optimizer = torch.optim.Adam(\n",
        "    transformer.parameters(), lr=0.0001, betas=(0.9, 0.98), eps=1e-9\n",
        ")"
      ],
      "id": "convenient-facial",
      "execution_count": 17,
      "outputs": []
    },
    {
      "cell_type": "code",
      "metadata": {
        "colab": {
          "base_uri": "https://localhost:8080/",
          "height": 0
        },
        "id": "n6OqEmQs7HrH",
        "outputId": "395deea5-4c23-4843-8d01-68448410bbf2"
      },
      "source": [
        "#show model\n",
        "print(transformer)"
      ],
      "id": "n6OqEmQs7HrH",
      "execution_count": 18,
      "outputs": [
        {
          "output_type": "display_data",
          "data": {
            "text/html": [
              "<pre style=\"white-space:pre;overflow-x:auto;line-height:normal;font-family:Menlo,'DejaVu Sans Mono',consolas,'Courier New',monospace\"><span style=\"color: #800080; text-decoration-color: #800080; font-weight: bold\">Seq2SeqTransformer</span><span style=\"font-weight: bold\">(</span>\n",
              "  <span style=\"font-weight: bold\">(</span>transformer_encoder<span style=\"font-weight: bold\">)</span>: <span style=\"color: #800080; text-decoration-color: #800080; font-weight: bold\">TransformerEncoder</span><span style=\"font-weight: bold\">(</span>\n",
              "    <span style=\"font-weight: bold\">(</span>layers<span style=\"font-weight: bold\">)</span>: <span style=\"color: #800080; text-decoration-color: #800080; font-weight: bold\">ModuleList</span><span style=\"font-weight: bold\">(</span>\n",
              "      <span style=\"font-weight: bold\">(</span><span style=\"color: #008080; text-decoration-color: #008080; font-weight: bold\">0</span><span style=\"font-weight: bold\">)</span>: <span style=\"color: #800080; text-decoration-color: #800080; font-weight: bold\">TransformerEncoderLayer</span><span style=\"font-weight: bold\">(</span>\n",
              "        <span style=\"font-weight: bold\">(</span>self_attn<span style=\"font-weight: bold\">)</span>: <span style=\"color: #800080; text-decoration-color: #800080; font-weight: bold\">MultiheadAttention</span><span style=\"font-weight: bold\">(</span>\n",
              "          <span style=\"font-weight: bold\">(</span>out_proj<span style=\"font-weight: bold\">)</span>: <span style=\"color: #800080; text-decoration-color: #800080; font-weight: bold\">_LinearWithBias</span><span style=\"font-weight: bold\">(</span><span style=\"color: #808000; text-decoration-color: #808000\">in_features</span>=<span style=\"color: #008080; text-decoration-color: #008080; font-weight: bold\">512</span>, <span style=\"color: #808000; text-decoration-color: #808000\">out_features</span>=<span style=\"color: #008080; text-decoration-color: #008080; font-weight: bold\">512</span>, <span style=\"color: #808000; text-decoration-color: #808000\">bias</span>=<span style=\"color: #00ff00; text-decoration-color: #00ff00; font-style: italic\">True</span><span style=\"font-weight: bold\">)</span>\n",
              "        <span style=\"font-weight: bold\">)</span>\n",
              "        <span style=\"font-weight: bold\">(</span>linear1<span style=\"font-weight: bold\">)</span>: <span style=\"color: #800080; text-decoration-color: #800080; font-weight: bold\">Linear</span><span style=\"font-weight: bold\">(</span><span style=\"color: #808000; text-decoration-color: #808000\">in_features</span>=<span style=\"color: #008080; text-decoration-color: #008080; font-weight: bold\">512</span>, <span style=\"color: #808000; text-decoration-color: #808000\">out_features</span>=<span style=\"color: #008080; text-decoration-color: #008080; font-weight: bold\">512</span>, <span style=\"color: #808000; text-decoration-color: #808000\">bias</span>=<span style=\"color: #00ff00; text-decoration-color: #00ff00; font-style: italic\">True</span><span style=\"font-weight: bold\">)</span>\n",
              "        <span style=\"font-weight: bold\">(</span>dropout<span style=\"font-weight: bold\">)</span>: <span style=\"color: #800080; text-decoration-color: #800080; font-weight: bold\">Dropout</span><span style=\"font-weight: bold\">(</span><span style=\"color: #808000; text-decoration-color: #808000\">p</span>=<span style=\"color: #008080; text-decoration-color: #008080; font-weight: bold\">0.1</span>, <span style=\"color: #808000; text-decoration-color: #808000\">inplace</span>=<span style=\"color: #ff0000; text-decoration-color: #ff0000; font-style: italic\">False</span><span style=\"font-weight: bold\">)</span>\n",
              "        <span style=\"font-weight: bold\">(</span>linear2<span style=\"font-weight: bold\">)</span>: <span style=\"color: #800080; text-decoration-color: #800080; font-weight: bold\">Linear</span><span style=\"font-weight: bold\">(</span><span style=\"color: #808000; text-decoration-color: #808000\">in_features</span>=<span style=\"color: #008080; text-decoration-color: #008080; font-weight: bold\">512</span>, <span style=\"color: #808000; text-decoration-color: #808000\">out_features</span>=<span style=\"color: #008080; text-decoration-color: #008080; font-weight: bold\">512</span>, <span style=\"color: #808000; text-decoration-color: #808000\">bias</span>=<span style=\"color: #00ff00; text-decoration-color: #00ff00; font-style: italic\">True</span><span style=\"font-weight: bold\">)</span>\n",
              "        <span style=\"font-weight: bold\">(</span>norm1<span style=\"font-weight: bold\">)</span>: <span style=\"color: #800080; text-decoration-color: #800080; font-weight: bold\">LayerNorm</span><span style=\"font-weight: bold\">((</span><span style=\"color: #008080; text-decoration-color: #008080; font-weight: bold\">512</span>,<span style=\"font-weight: bold\">)</span>, <span style=\"color: #808000; text-decoration-color: #808000\">eps</span>=<span style=\"color: #008080; text-decoration-color: #008080; font-weight: bold\">1e-05</span>, <span style=\"color: #808000; text-decoration-color: #808000\">elementwise_affine</span>=<span style=\"color: #00ff00; text-decoration-color: #00ff00; font-style: italic\">True</span><span style=\"font-weight: bold\">)</span>\n",
              "        <span style=\"font-weight: bold\">(</span>norm2<span style=\"font-weight: bold\">)</span>: <span style=\"color: #800080; text-decoration-color: #800080; font-weight: bold\">LayerNorm</span><span style=\"font-weight: bold\">((</span><span style=\"color: #008080; text-decoration-color: #008080; font-weight: bold\">512</span>,<span style=\"font-weight: bold\">)</span>, <span style=\"color: #808000; text-decoration-color: #808000\">eps</span>=<span style=\"color: #008080; text-decoration-color: #008080; font-weight: bold\">1e-05</span>, <span style=\"color: #808000; text-decoration-color: #808000\">elementwise_affine</span>=<span style=\"color: #00ff00; text-decoration-color: #00ff00; font-style: italic\">True</span><span style=\"font-weight: bold\">)</span>\n",
              "        <span style=\"font-weight: bold\">(</span>dropout1<span style=\"font-weight: bold\">)</span>: <span style=\"color: #800080; text-decoration-color: #800080; font-weight: bold\">Dropout</span><span style=\"font-weight: bold\">(</span><span style=\"color: #808000; text-decoration-color: #808000\">p</span>=<span style=\"color: #008080; text-decoration-color: #008080; font-weight: bold\">0.1</span>, <span style=\"color: #808000; text-decoration-color: #808000\">inplace</span>=<span style=\"color: #ff0000; text-decoration-color: #ff0000; font-style: italic\">False</span><span style=\"font-weight: bold\">)</span>\n",
              "        <span style=\"font-weight: bold\">(</span>dropout2<span style=\"font-weight: bold\">)</span>: <span style=\"color: #800080; text-decoration-color: #800080; font-weight: bold\">Dropout</span><span style=\"font-weight: bold\">(</span><span style=\"color: #808000; text-decoration-color: #808000\">p</span>=<span style=\"color: #008080; text-decoration-color: #008080; font-weight: bold\">0.1</span>, <span style=\"color: #808000; text-decoration-color: #808000\">inplace</span>=<span style=\"color: #ff0000; text-decoration-color: #ff0000; font-style: italic\">False</span><span style=\"font-weight: bold\">)</span>\n",
              "      <span style=\"font-weight: bold\">)</span>\n",
              "      <span style=\"font-weight: bold\">(</span><span style=\"color: #008080; text-decoration-color: #008080; font-weight: bold\">1</span><span style=\"font-weight: bold\">)</span>: <span style=\"color: #800080; text-decoration-color: #800080; font-weight: bold\">TransformerEncoderLayer</span><span style=\"font-weight: bold\">(</span>\n",
              "        <span style=\"font-weight: bold\">(</span>self_attn<span style=\"font-weight: bold\">)</span>: <span style=\"color: #800080; text-decoration-color: #800080; font-weight: bold\">MultiheadAttention</span><span style=\"font-weight: bold\">(</span>\n",
              "          <span style=\"font-weight: bold\">(</span>out_proj<span style=\"font-weight: bold\">)</span>: <span style=\"color: #800080; text-decoration-color: #800080; font-weight: bold\">_LinearWithBias</span><span style=\"font-weight: bold\">(</span><span style=\"color: #808000; text-decoration-color: #808000\">in_features</span>=<span style=\"color: #008080; text-decoration-color: #008080; font-weight: bold\">512</span>, <span style=\"color: #808000; text-decoration-color: #808000\">out_features</span>=<span style=\"color: #008080; text-decoration-color: #008080; font-weight: bold\">512</span>, <span style=\"color: #808000; text-decoration-color: #808000\">bias</span>=<span style=\"color: #00ff00; text-decoration-color: #00ff00; font-style: italic\">True</span><span style=\"font-weight: bold\">)</span>\n",
              "        <span style=\"font-weight: bold\">)</span>\n",
              "        <span style=\"font-weight: bold\">(</span>linear1<span style=\"font-weight: bold\">)</span>: <span style=\"color: #800080; text-decoration-color: #800080; font-weight: bold\">Linear</span><span style=\"font-weight: bold\">(</span><span style=\"color: #808000; text-decoration-color: #808000\">in_features</span>=<span style=\"color: #008080; text-decoration-color: #008080; font-weight: bold\">512</span>, <span style=\"color: #808000; text-decoration-color: #808000\">out_features</span>=<span style=\"color: #008080; text-decoration-color: #008080; font-weight: bold\">512</span>, <span style=\"color: #808000; text-decoration-color: #808000\">bias</span>=<span style=\"color: #00ff00; text-decoration-color: #00ff00; font-style: italic\">True</span><span style=\"font-weight: bold\">)</span>\n",
              "        <span style=\"font-weight: bold\">(</span>dropout<span style=\"font-weight: bold\">)</span>: <span style=\"color: #800080; text-decoration-color: #800080; font-weight: bold\">Dropout</span><span style=\"font-weight: bold\">(</span><span style=\"color: #808000; text-decoration-color: #808000\">p</span>=<span style=\"color: #008080; text-decoration-color: #008080; font-weight: bold\">0.1</span>, <span style=\"color: #808000; text-decoration-color: #808000\">inplace</span>=<span style=\"color: #ff0000; text-decoration-color: #ff0000; font-style: italic\">False</span><span style=\"font-weight: bold\">)</span>\n",
              "        <span style=\"font-weight: bold\">(</span>linear2<span style=\"font-weight: bold\">)</span>: <span style=\"color: #800080; text-decoration-color: #800080; font-weight: bold\">Linear</span><span style=\"font-weight: bold\">(</span><span style=\"color: #808000; text-decoration-color: #808000\">in_features</span>=<span style=\"color: #008080; text-decoration-color: #008080; font-weight: bold\">512</span>, <span style=\"color: #808000; text-decoration-color: #808000\">out_features</span>=<span style=\"color: #008080; text-decoration-color: #008080; font-weight: bold\">512</span>, <span style=\"color: #808000; text-decoration-color: #808000\">bias</span>=<span style=\"color: #00ff00; text-decoration-color: #00ff00; font-style: italic\">True</span><span style=\"font-weight: bold\">)</span>\n",
              "        <span style=\"font-weight: bold\">(</span>norm1<span style=\"font-weight: bold\">)</span>: <span style=\"color: #800080; text-decoration-color: #800080; font-weight: bold\">LayerNorm</span><span style=\"font-weight: bold\">((</span><span style=\"color: #008080; text-decoration-color: #008080; font-weight: bold\">512</span>,<span style=\"font-weight: bold\">)</span>, <span style=\"color: #808000; text-decoration-color: #808000\">eps</span>=<span style=\"color: #008080; text-decoration-color: #008080; font-weight: bold\">1e-05</span>, <span style=\"color: #808000; text-decoration-color: #808000\">elementwise_affine</span>=<span style=\"color: #00ff00; text-decoration-color: #00ff00; font-style: italic\">True</span><span style=\"font-weight: bold\">)</span>\n",
              "        <span style=\"font-weight: bold\">(</span>norm2<span style=\"font-weight: bold\">)</span>: <span style=\"color: #800080; text-decoration-color: #800080; font-weight: bold\">LayerNorm</span><span style=\"font-weight: bold\">((</span><span style=\"color: #008080; text-decoration-color: #008080; font-weight: bold\">512</span>,<span style=\"font-weight: bold\">)</span>, <span style=\"color: #808000; text-decoration-color: #808000\">eps</span>=<span style=\"color: #008080; text-decoration-color: #008080; font-weight: bold\">1e-05</span>, <span style=\"color: #808000; text-decoration-color: #808000\">elementwise_affine</span>=<span style=\"color: #00ff00; text-decoration-color: #00ff00; font-style: italic\">True</span><span style=\"font-weight: bold\">)</span>\n",
              "        <span style=\"font-weight: bold\">(</span>dropout1<span style=\"font-weight: bold\">)</span>: <span style=\"color: #800080; text-decoration-color: #800080; font-weight: bold\">Dropout</span><span style=\"font-weight: bold\">(</span><span style=\"color: #808000; text-decoration-color: #808000\">p</span>=<span style=\"color: #008080; text-decoration-color: #008080; font-weight: bold\">0.1</span>, <span style=\"color: #808000; text-decoration-color: #808000\">inplace</span>=<span style=\"color: #ff0000; text-decoration-color: #ff0000; font-style: italic\">False</span><span style=\"font-weight: bold\">)</span>\n",
              "        <span style=\"font-weight: bold\">(</span>dropout2<span style=\"font-weight: bold\">)</span>: <span style=\"color: #800080; text-decoration-color: #800080; font-weight: bold\">Dropout</span><span style=\"font-weight: bold\">(</span><span style=\"color: #808000; text-decoration-color: #808000\">p</span>=<span style=\"color: #008080; text-decoration-color: #008080; font-weight: bold\">0.1</span>, <span style=\"color: #808000; text-decoration-color: #808000\">inplace</span>=<span style=\"color: #ff0000; text-decoration-color: #ff0000; font-style: italic\">False</span><span style=\"font-weight: bold\">)</span>\n",
              "      <span style=\"font-weight: bold\">)</span>\n",
              "      <span style=\"font-weight: bold\">(</span><span style=\"color: #008080; text-decoration-color: #008080; font-weight: bold\">2</span><span style=\"font-weight: bold\">)</span>: <span style=\"color: #800080; text-decoration-color: #800080; font-weight: bold\">TransformerEncoderLayer</span><span style=\"font-weight: bold\">(</span>\n",
              "        <span style=\"font-weight: bold\">(</span>self_attn<span style=\"font-weight: bold\">)</span>: <span style=\"color: #800080; text-decoration-color: #800080; font-weight: bold\">MultiheadAttention</span><span style=\"font-weight: bold\">(</span>\n",
              "          <span style=\"font-weight: bold\">(</span>out_proj<span style=\"font-weight: bold\">)</span>: <span style=\"color: #800080; text-decoration-color: #800080; font-weight: bold\">_LinearWithBias</span><span style=\"font-weight: bold\">(</span><span style=\"color: #808000; text-decoration-color: #808000\">in_features</span>=<span style=\"color: #008080; text-decoration-color: #008080; font-weight: bold\">512</span>, <span style=\"color: #808000; text-decoration-color: #808000\">out_features</span>=<span style=\"color: #008080; text-decoration-color: #008080; font-weight: bold\">512</span>, <span style=\"color: #808000; text-decoration-color: #808000\">bias</span>=<span style=\"color: #00ff00; text-decoration-color: #00ff00; font-style: italic\">True</span><span style=\"font-weight: bold\">)</span>\n",
              "        <span style=\"font-weight: bold\">)</span>\n",
              "        <span style=\"font-weight: bold\">(</span>linear1<span style=\"font-weight: bold\">)</span>: <span style=\"color: #800080; text-decoration-color: #800080; font-weight: bold\">Linear</span><span style=\"font-weight: bold\">(</span><span style=\"color: #808000; text-decoration-color: #808000\">in_features</span>=<span style=\"color: #008080; text-decoration-color: #008080; font-weight: bold\">512</span>, <span style=\"color: #808000; text-decoration-color: #808000\">out_features</span>=<span style=\"color: #008080; text-decoration-color: #008080; font-weight: bold\">512</span>, <span style=\"color: #808000; text-decoration-color: #808000\">bias</span>=<span style=\"color: #00ff00; text-decoration-color: #00ff00; font-style: italic\">True</span><span style=\"font-weight: bold\">)</span>\n",
              "        <span style=\"font-weight: bold\">(</span>dropout<span style=\"font-weight: bold\">)</span>: <span style=\"color: #800080; text-decoration-color: #800080; font-weight: bold\">Dropout</span><span style=\"font-weight: bold\">(</span><span style=\"color: #808000; text-decoration-color: #808000\">p</span>=<span style=\"color: #008080; text-decoration-color: #008080; font-weight: bold\">0.1</span>, <span style=\"color: #808000; text-decoration-color: #808000\">inplace</span>=<span style=\"color: #ff0000; text-decoration-color: #ff0000; font-style: italic\">False</span><span style=\"font-weight: bold\">)</span>\n",
              "        <span style=\"font-weight: bold\">(</span>linear2<span style=\"font-weight: bold\">)</span>: <span style=\"color: #800080; text-decoration-color: #800080; font-weight: bold\">Linear</span><span style=\"font-weight: bold\">(</span><span style=\"color: #808000; text-decoration-color: #808000\">in_features</span>=<span style=\"color: #008080; text-decoration-color: #008080; font-weight: bold\">512</span>, <span style=\"color: #808000; text-decoration-color: #808000\">out_features</span>=<span style=\"color: #008080; text-decoration-color: #008080; font-weight: bold\">512</span>, <span style=\"color: #808000; text-decoration-color: #808000\">bias</span>=<span style=\"color: #00ff00; text-decoration-color: #00ff00; font-style: italic\">True</span><span style=\"font-weight: bold\">)</span>\n",
              "        <span style=\"font-weight: bold\">(</span>norm1<span style=\"font-weight: bold\">)</span>: <span style=\"color: #800080; text-decoration-color: #800080; font-weight: bold\">LayerNorm</span><span style=\"font-weight: bold\">((</span><span style=\"color: #008080; text-decoration-color: #008080; font-weight: bold\">512</span>,<span style=\"font-weight: bold\">)</span>, <span style=\"color: #808000; text-decoration-color: #808000\">eps</span>=<span style=\"color: #008080; text-decoration-color: #008080; font-weight: bold\">1e-05</span>, <span style=\"color: #808000; text-decoration-color: #808000\">elementwise_affine</span>=<span style=\"color: #00ff00; text-decoration-color: #00ff00; font-style: italic\">True</span><span style=\"font-weight: bold\">)</span>\n",
              "        <span style=\"font-weight: bold\">(</span>norm2<span style=\"font-weight: bold\">)</span>: <span style=\"color: #800080; text-decoration-color: #800080; font-weight: bold\">LayerNorm</span><span style=\"font-weight: bold\">((</span><span style=\"color: #008080; text-decoration-color: #008080; font-weight: bold\">512</span>,<span style=\"font-weight: bold\">)</span>, <span style=\"color: #808000; text-decoration-color: #808000\">eps</span>=<span style=\"color: #008080; text-decoration-color: #008080; font-weight: bold\">1e-05</span>, <span style=\"color: #808000; text-decoration-color: #808000\">elementwise_affine</span>=<span style=\"color: #00ff00; text-decoration-color: #00ff00; font-style: italic\">True</span><span style=\"font-weight: bold\">)</span>\n",
              "        <span style=\"font-weight: bold\">(</span>dropout1<span style=\"font-weight: bold\">)</span>: <span style=\"color: #800080; text-decoration-color: #800080; font-weight: bold\">Dropout</span><span style=\"font-weight: bold\">(</span><span style=\"color: #808000; text-decoration-color: #808000\">p</span>=<span style=\"color: #008080; text-decoration-color: #008080; font-weight: bold\">0.1</span>, <span style=\"color: #808000; text-decoration-color: #808000\">inplace</span>=<span style=\"color: #ff0000; text-decoration-color: #ff0000; font-style: italic\">False</span><span style=\"font-weight: bold\">)</span>\n",
              "        <span style=\"font-weight: bold\">(</span>dropout2<span style=\"font-weight: bold\">)</span>: <span style=\"color: #800080; text-decoration-color: #800080; font-weight: bold\">Dropout</span><span style=\"font-weight: bold\">(</span><span style=\"color: #808000; text-decoration-color: #808000\">p</span>=<span style=\"color: #008080; text-decoration-color: #008080; font-weight: bold\">0.1</span>, <span style=\"color: #808000; text-decoration-color: #808000\">inplace</span>=<span style=\"color: #ff0000; text-decoration-color: #ff0000; font-style: italic\">False</span><span style=\"font-weight: bold\">)</span>\n",
              "      <span style=\"font-weight: bold\">)</span>\n",
              "    <span style=\"font-weight: bold\">)</span>\n",
              "  <span style=\"font-weight: bold\">)</span>\n",
              "  <span style=\"font-weight: bold\">(</span>transformer_decoder<span style=\"font-weight: bold\">)</span>: <span style=\"color: #800080; text-decoration-color: #800080; font-weight: bold\">TransformerDecoder</span><span style=\"font-weight: bold\">(</span>\n",
              "    <span style=\"font-weight: bold\">(</span>layers<span style=\"font-weight: bold\">)</span>: <span style=\"color: #800080; text-decoration-color: #800080; font-weight: bold\">ModuleList</span><span style=\"font-weight: bold\">(</span>\n",
              "      <span style=\"font-weight: bold\">(</span><span style=\"color: #008080; text-decoration-color: #008080; font-weight: bold\">0</span><span style=\"font-weight: bold\">)</span>: <span style=\"color: #800080; text-decoration-color: #800080; font-weight: bold\">TransformerDecoderLayer</span><span style=\"font-weight: bold\">(</span>\n",
              "        <span style=\"font-weight: bold\">(</span>self_attn<span style=\"font-weight: bold\">)</span>: <span style=\"color: #800080; text-decoration-color: #800080; font-weight: bold\">MultiheadAttention</span><span style=\"font-weight: bold\">(</span>\n",
              "          <span style=\"font-weight: bold\">(</span>out_proj<span style=\"font-weight: bold\">)</span>: <span style=\"color: #800080; text-decoration-color: #800080; font-weight: bold\">_LinearWithBias</span><span style=\"font-weight: bold\">(</span><span style=\"color: #808000; text-decoration-color: #808000\">in_features</span>=<span style=\"color: #008080; text-decoration-color: #008080; font-weight: bold\">512</span>, <span style=\"color: #808000; text-decoration-color: #808000\">out_features</span>=<span style=\"color: #008080; text-decoration-color: #008080; font-weight: bold\">512</span>, <span style=\"color: #808000; text-decoration-color: #808000\">bias</span>=<span style=\"color: #00ff00; text-decoration-color: #00ff00; font-style: italic\">True</span><span style=\"font-weight: bold\">)</span>\n",
              "        <span style=\"font-weight: bold\">)</span>\n",
              "        <span style=\"font-weight: bold\">(</span>multihead_attn<span style=\"font-weight: bold\">)</span>: <span style=\"color: #800080; text-decoration-color: #800080; font-weight: bold\">MultiheadAttention</span><span style=\"font-weight: bold\">(</span>\n",
              "          <span style=\"font-weight: bold\">(</span>out_proj<span style=\"font-weight: bold\">)</span>: <span style=\"color: #800080; text-decoration-color: #800080; font-weight: bold\">_LinearWithBias</span><span style=\"font-weight: bold\">(</span><span style=\"color: #808000; text-decoration-color: #808000\">in_features</span>=<span style=\"color: #008080; text-decoration-color: #008080; font-weight: bold\">512</span>, <span style=\"color: #808000; text-decoration-color: #808000\">out_features</span>=<span style=\"color: #008080; text-decoration-color: #008080; font-weight: bold\">512</span>, <span style=\"color: #808000; text-decoration-color: #808000\">bias</span>=<span style=\"color: #00ff00; text-decoration-color: #00ff00; font-style: italic\">True</span><span style=\"font-weight: bold\">)</span>\n",
              "        <span style=\"font-weight: bold\">)</span>\n",
              "        <span style=\"font-weight: bold\">(</span>linear1<span style=\"font-weight: bold\">)</span>: <span style=\"color: #800080; text-decoration-color: #800080; font-weight: bold\">Linear</span><span style=\"font-weight: bold\">(</span><span style=\"color: #808000; text-decoration-color: #808000\">in_features</span>=<span style=\"color: #008080; text-decoration-color: #008080; font-weight: bold\">512</span>, <span style=\"color: #808000; text-decoration-color: #808000\">out_features</span>=<span style=\"color: #008080; text-decoration-color: #008080; font-weight: bold\">512</span>, <span style=\"color: #808000; text-decoration-color: #808000\">bias</span>=<span style=\"color: #00ff00; text-decoration-color: #00ff00; font-style: italic\">True</span><span style=\"font-weight: bold\">)</span>\n",
              "        <span style=\"font-weight: bold\">(</span>dropout<span style=\"font-weight: bold\">)</span>: <span style=\"color: #800080; text-decoration-color: #800080; font-weight: bold\">Dropout</span><span style=\"font-weight: bold\">(</span><span style=\"color: #808000; text-decoration-color: #808000\">p</span>=<span style=\"color: #008080; text-decoration-color: #008080; font-weight: bold\">0.1</span>, <span style=\"color: #808000; text-decoration-color: #808000\">inplace</span>=<span style=\"color: #ff0000; text-decoration-color: #ff0000; font-style: italic\">False</span><span style=\"font-weight: bold\">)</span>\n",
              "        <span style=\"font-weight: bold\">(</span>linear2<span style=\"font-weight: bold\">)</span>: <span style=\"color: #800080; text-decoration-color: #800080; font-weight: bold\">Linear</span><span style=\"font-weight: bold\">(</span><span style=\"color: #808000; text-decoration-color: #808000\">in_features</span>=<span style=\"color: #008080; text-decoration-color: #008080; font-weight: bold\">512</span>, <span style=\"color: #808000; text-decoration-color: #808000\">out_features</span>=<span style=\"color: #008080; text-decoration-color: #008080; font-weight: bold\">512</span>, <span style=\"color: #808000; text-decoration-color: #808000\">bias</span>=<span style=\"color: #00ff00; text-decoration-color: #00ff00; font-style: italic\">True</span><span style=\"font-weight: bold\">)</span>\n",
              "        <span style=\"font-weight: bold\">(</span>norm1<span style=\"font-weight: bold\">)</span>: <span style=\"color: #800080; text-decoration-color: #800080; font-weight: bold\">LayerNorm</span><span style=\"font-weight: bold\">((</span><span style=\"color: #008080; text-decoration-color: #008080; font-weight: bold\">512</span>,<span style=\"font-weight: bold\">)</span>, <span style=\"color: #808000; text-decoration-color: #808000\">eps</span>=<span style=\"color: #008080; text-decoration-color: #008080; font-weight: bold\">1e-05</span>, <span style=\"color: #808000; text-decoration-color: #808000\">elementwise_affine</span>=<span style=\"color: #00ff00; text-decoration-color: #00ff00; font-style: italic\">True</span><span style=\"font-weight: bold\">)</span>\n",
              "        <span style=\"font-weight: bold\">(</span>norm2<span style=\"font-weight: bold\">)</span>: <span style=\"color: #800080; text-decoration-color: #800080; font-weight: bold\">LayerNorm</span><span style=\"font-weight: bold\">((</span><span style=\"color: #008080; text-decoration-color: #008080; font-weight: bold\">512</span>,<span style=\"font-weight: bold\">)</span>, <span style=\"color: #808000; text-decoration-color: #808000\">eps</span>=<span style=\"color: #008080; text-decoration-color: #008080; font-weight: bold\">1e-05</span>, <span style=\"color: #808000; text-decoration-color: #808000\">elementwise_affine</span>=<span style=\"color: #00ff00; text-decoration-color: #00ff00; font-style: italic\">True</span><span style=\"font-weight: bold\">)</span>\n",
              "        <span style=\"font-weight: bold\">(</span>norm3<span style=\"font-weight: bold\">)</span>: <span style=\"color: #800080; text-decoration-color: #800080; font-weight: bold\">LayerNorm</span><span style=\"font-weight: bold\">((</span><span style=\"color: #008080; text-decoration-color: #008080; font-weight: bold\">512</span>,<span style=\"font-weight: bold\">)</span>, <span style=\"color: #808000; text-decoration-color: #808000\">eps</span>=<span style=\"color: #008080; text-decoration-color: #008080; font-weight: bold\">1e-05</span>, <span style=\"color: #808000; text-decoration-color: #808000\">elementwise_affine</span>=<span style=\"color: #00ff00; text-decoration-color: #00ff00; font-style: italic\">True</span><span style=\"font-weight: bold\">)</span>\n",
              "        <span style=\"font-weight: bold\">(</span>dropout1<span style=\"font-weight: bold\">)</span>: <span style=\"color: #800080; text-decoration-color: #800080; font-weight: bold\">Dropout</span><span style=\"font-weight: bold\">(</span><span style=\"color: #808000; text-decoration-color: #808000\">p</span>=<span style=\"color: #008080; text-decoration-color: #008080; font-weight: bold\">0.1</span>, <span style=\"color: #808000; text-decoration-color: #808000\">inplace</span>=<span style=\"color: #ff0000; text-decoration-color: #ff0000; font-style: italic\">False</span><span style=\"font-weight: bold\">)</span>\n",
              "        <span style=\"font-weight: bold\">(</span>dropout2<span style=\"font-weight: bold\">)</span>: <span style=\"color: #800080; text-decoration-color: #800080; font-weight: bold\">Dropout</span><span style=\"font-weight: bold\">(</span><span style=\"color: #808000; text-decoration-color: #808000\">p</span>=<span style=\"color: #008080; text-decoration-color: #008080; font-weight: bold\">0.1</span>, <span style=\"color: #808000; text-decoration-color: #808000\">inplace</span>=<span style=\"color: #ff0000; text-decoration-color: #ff0000; font-style: italic\">False</span><span style=\"font-weight: bold\">)</span>\n",
              "        <span style=\"font-weight: bold\">(</span>dropout3<span style=\"font-weight: bold\">)</span>: <span style=\"color: #800080; text-decoration-color: #800080; font-weight: bold\">Dropout</span><span style=\"font-weight: bold\">(</span><span style=\"color: #808000; text-decoration-color: #808000\">p</span>=<span style=\"color: #008080; text-decoration-color: #008080; font-weight: bold\">0.1</span>, <span style=\"color: #808000; text-decoration-color: #808000\">inplace</span>=<span style=\"color: #ff0000; text-decoration-color: #ff0000; font-style: italic\">False</span><span style=\"font-weight: bold\">)</span>\n",
              "      <span style=\"font-weight: bold\">)</span>\n",
              "      <span style=\"font-weight: bold\">(</span><span style=\"color: #008080; text-decoration-color: #008080; font-weight: bold\">1</span><span style=\"font-weight: bold\">)</span>: <span style=\"color: #800080; text-decoration-color: #800080; font-weight: bold\">TransformerDecoderLayer</span><span style=\"font-weight: bold\">(</span>\n",
              "        <span style=\"font-weight: bold\">(</span>self_attn<span style=\"font-weight: bold\">)</span>: <span style=\"color: #800080; text-decoration-color: #800080; font-weight: bold\">MultiheadAttention</span><span style=\"font-weight: bold\">(</span>\n",
              "          <span style=\"font-weight: bold\">(</span>out_proj<span style=\"font-weight: bold\">)</span>: <span style=\"color: #800080; text-decoration-color: #800080; font-weight: bold\">_LinearWithBias</span><span style=\"font-weight: bold\">(</span><span style=\"color: #808000; text-decoration-color: #808000\">in_features</span>=<span style=\"color: #008080; text-decoration-color: #008080; font-weight: bold\">512</span>, <span style=\"color: #808000; text-decoration-color: #808000\">out_features</span>=<span style=\"color: #008080; text-decoration-color: #008080; font-weight: bold\">512</span>, <span style=\"color: #808000; text-decoration-color: #808000\">bias</span>=<span style=\"color: #00ff00; text-decoration-color: #00ff00; font-style: italic\">True</span><span style=\"font-weight: bold\">)</span>\n",
              "        <span style=\"font-weight: bold\">)</span>\n",
              "        <span style=\"font-weight: bold\">(</span>multihead_attn<span style=\"font-weight: bold\">)</span>: <span style=\"color: #800080; text-decoration-color: #800080; font-weight: bold\">MultiheadAttention</span><span style=\"font-weight: bold\">(</span>\n",
              "          <span style=\"font-weight: bold\">(</span>out_proj<span style=\"font-weight: bold\">)</span>: <span style=\"color: #800080; text-decoration-color: #800080; font-weight: bold\">_LinearWithBias</span><span style=\"font-weight: bold\">(</span><span style=\"color: #808000; text-decoration-color: #808000\">in_features</span>=<span style=\"color: #008080; text-decoration-color: #008080; font-weight: bold\">512</span>, <span style=\"color: #808000; text-decoration-color: #808000\">out_features</span>=<span style=\"color: #008080; text-decoration-color: #008080; font-weight: bold\">512</span>, <span style=\"color: #808000; text-decoration-color: #808000\">bias</span>=<span style=\"color: #00ff00; text-decoration-color: #00ff00; font-style: italic\">True</span><span style=\"font-weight: bold\">)</span>\n",
              "        <span style=\"font-weight: bold\">)</span>\n",
              "        <span style=\"font-weight: bold\">(</span>linear1<span style=\"font-weight: bold\">)</span>: <span style=\"color: #800080; text-decoration-color: #800080; font-weight: bold\">Linear</span><span style=\"font-weight: bold\">(</span><span style=\"color: #808000; text-decoration-color: #808000\">in_features</span>=<span style=\"color: #008080; text-decoration-color: #008080; font-weight: bold\">512</span>, <span style=\"color: #808000; text-decoration-color: #808000\">out_features</span>=<span style=\"color: #008080; text-decoration-color: #008080; font-weight: bold\">512</span>, <span style=\"color: #808000; text-decoration-color: #808000\">bias</span>=<span style=\"color: #00ff00; text-decoration-color: #00ff00; font-style: italic\">True</span><span style=\"font-weight: bold\">)</span>\n",
              "        <span style=\"font-weight: bold\">(</span>dropout<span style=\"font-weight: bold\">)</span>: <span style=\"color: #800080; text-decoration-color: #800080; font-weight: bold\">Dropout</span><span style=\"font-weight: bold\">(</span><span style=\"color: #808000; text-decoration-color: #808000\">p</span>=<span style=\"color: #008080; text-decoration-color: #008080; font-weight: bold\">0.1</span>, <span style=\"color: #808000; text-decoration-color: #808000\">inplace</span>=<span style=\"color: #ff0000; text-decoration-color: #ff0000; font-style: italic\">False</span><span style=\"font-weight: bold\">)</span>\n",
              "        <span style=\"font-weight: bold\">(</span>linear2<span style=\"font-weight: bold\">)</span>: <span style=\"color: #800080; text-decoration-color: #800080; font-weight: bold\">Linear</span><span style=\"font-weight: bold\">(</span><span style=\"color: #808000; text-decoration-color: #808000\">in_features</span>=<span style=\"color: #008080; text-decoration-color: #008080; font-weight: bold\">512</span>, <span style=\"color: #808000; text-decoration-color: #808000\">out_features</span>=<span style=\"color: #008080; text-decoration-color: #008080; font-weight: bold\">512</span>, <span style=\"color: #808000; text-decoration-color: #808000\">bias</span>=<span style=\"color: #00ff00; text-decoration-color: #00ff00; font-style: italic\">True</span><span style=\"font-weight: bold\">)</span>\n",
              "        <span style=\"font-weight: bold\">(</span>norm1<span style=\"font-weight: bold\">)</span>: <span style=\"color: #800080; text-decoration-color: #800080; font-weight: bold\">LayerNorm</span><span style=\"font-weight: bold\">((</span><span style=\"color: #008080; text-decoration-color: #008080; font-weight: bold\">512</span>,<span style=\"font-weight: bold\">)</span>, <span style=\"color: #808000; text-decoration-color: #808000\">eps</span>=<span style=\"color: #008080; text-decoration-color: #008080; font-weight: bold\">1e-05</span>, <span style=\"color: #808000; text-decoration-color: #808000\">elementwise_affine</span>=<span style=\"color: #00ff00; text-decoration-color: #00ff00; font-style: italic\">True</span><span style=\"font-weight: bold\">)</span>\n",
              "        <span style=\"font-weight: bold\">(</span>norm2<span style=\"font-weight: bold\">)</span>: <span style=\"color: #800080; text-decoration-color: #800080; font-weight: bold\">LayerNorm</span><span style=\"font-weight: bold\">((</span><span style=\"color: #008080; text-decoration-color: #008080; font-weight: bold\">512</span>,<span style=\"font-weight: bold\">)</span>, <span style=\"color: #808000; text-decoration-color: #808000\">eps</span>=<span style=\"color: #008080; text-decoration-color: #008080; font-weight: bold\">1e-05</span>, <span style=\"color: #808000; text-decoration-color: #808000\">elementwise_affine</span>=<span style=\"color: #00ff00; text-decoration-color: #00ff00; font-style: italic\">True</span><span style=\"font-weight: bold\">)</span>\n",
              "        <span style=\"font-weight: bold\">(</span>norm3<span style=\"font-weight: bold\">)</span>: <span style=\"color: #800080; text-decoration-color: #800080; font-weight: bold\">LayerNorm</span><span style=\"font-weight: bold\">((</span><span style=\"color: #008080; text-decoration-color: #008080; font-weight: bold\">512</span>,<span style=\"font-weight: bold\">)</span>, <span style=\"color: #808000; text-decoration-color: #808000\">eps</span>=<span style=\"color: #008080; text-decoration-color: #008080; font-weight: bold\">1e-05</span>, <span style=\"color: #808000; text-decoration-color: #808000\">elementwise_affine</span>=<span style=\"color: #00ff00; text-decoration-color: #00ff00; font-style: italic\">True</span><span style=\"font-weight: bold\">)</span>\n",
              "        <span style=\"font-weight: bold\">(</span>dropout1<span style=\"font-weight: bold\">)</span>: <span style=\"color: #800080; text-decoration-color: #800080; font-weight: bold\">Dropout</span><span style=\"font-weight: bold\">(</span><span style=\"color: #808000; text-decoration-color: #808000\">p</span>=<span style=\"color: #008080; text-decoration-color: #008080; font-weight: bold\">0.1</span>, <span style=\"color: #808000; text-decoration-color: #808000\">inplace</span>=<span style=\"color: #ff0000; text-decoration-color: #ff0000; font-style: italic\">False</span><span style=\"font-weight: bold\">)</span>\n",
              "        <span style=\"font-weight: bold\">(</span>dropout2<span style=\"font-weight: bold\">)</span>: <span style=\"color: #800080; text-decoration-color: #800080; font-weight: bold\">Dropout</span><span style=\"font-weight: bold\">(</span><span style=\"color: #808000; text-decoration-color: #808000\">p</span>=<span style=\"color: #008080; text-decoration-color: #008080; font-weight: bold\">0.1</span>, <span style=\"color: #808000; text-decoration-color: #808000\">inplace</span>=<span style=\"color: #ff0000; text-decoration-color: #ff0000; font-style: italic\">False</span><span style=\"font-weight: bold\">)</span>\n",
              "        <span style=\"font-weight: bold\">(</span>dropout3<span style=\"font-weight: bold\">)</span>: <span style=\"color: #800080; text-decoration-color: #800080; font-weight: bold\">Dropout</span><span style=\"font-weight: bold\">(</span><span style=\"color: #808000; text-decoration-color: #808000\">p</span>=<span style=\"color: #008080; text-decoration-color: #008080; font-weight: bold\">0.1</span>, <span style=\"color: #808000; text-decoration-color: #808000\">inplace</span>=<span style=\"color: #ff0000; text-decoration-color: #ff0000; font-style: italic\">False</span><span style=\"font-weight: bold\">)</span>\n",
              "      <span style=\"font-weight: bold\">)</span>\n",
              "      <span style=\"font-weight: bold\">(</span><span style=\"color: #008080; text-decoration-color: #008080; font-weight: bold\">2</span><span style=\"font-weight: bold\">)</span>: <span style=\"color: #800080; text-decoration-color: #800080; font-weight: bold\">TransformerDecoderLayer</span><span style=\"font-weight: bold\">(</span>\n",
              "        <span style=\"font-weight: bold\">(</span>self_attn<span style=\"font-weight: bold\">)</span>: <span style=\"color: #800080; text-decoration-color: #800080; font-weight: bold\">MultiheadAttention</span><span style=\"font-weight: bold\">(</span>\n",
              "          <span style=\"font-weight: bold\">(</span>out_proj<span style=\"font-weight: bold\">)</span>: <span style=\"color: #800080; text-decoration-color: #800080; font-weight: bold\">_LinearWithBias</span><span style=\"font-weight: bold\">(</span><span style=\"color: #808000; text-decoration-color: #808000\">in_features</span>=<span style=\"color: #008080; text-decoration-color: #008080; font-weight: bold\">512</span>, <span style=\"color: #808000; text-decoration-color: #808000\">out_features</span>=<span style=\"color: #008080; text-decoration-color: #008080; font-weight: bold\">512</span>, <span style=\"color: #808000; text-decoration-color: #808000\">bias</span>=<span style=\"color: #00ff00; text-decoration-color: #00ff00; font-style: italic\">True</span><span style=\"font-weight: bold\">)</span>\n",
              "        <span style=\"font-weight: bold\">)</span>\n",
              "        <span style=\"font-weight: bold\">(</span>multihead_attn<span style=\"font-weight: bold\">)</span>: <span style=\"color: #800080; text-decoration-color: #800080; font-weight: bold\">MultiheadAttention</span><span style=\"font-weight: bold\">(</span>\n",
              "          <span style=\"font-weight: bold\">(</span>out_proj<span style=\"font-weight: bold\">)</span>: <span style=\"color: #800080; text-decoration-color: #800080; font-weight: bold\">_LinearWithBias</span><span style=\"font-weight: bold\">(</span><span style=\"color: #808000; text-decoration-color: #808000\">in_features</span>=<span style=\"color: #008080; text-decoration-color: #008080; font-weight: bold\">512</span>, <span style=\"color: #808000; text-decoration-color: #808000\">out_features</span>=<span style=\"color: #008080; text-decoration-color: #008080; font-weight: bold\">512</span>, <span style=\"color: #808000; text-decoration-color: #808000\">bias</span>=<span style=\"color: #00ff00; text-decoration-color: #00ff00; font-style: italic\">True</span><span style=\"font-weight: bold\">)</span>\n",
              "        <span style=\"font-weight: bold\">)</span>\n",
              "        <span style=\"font-weight: bold\">(</span>linear1<span style=\"font-weight: bold\">)</span>: <span style=\"color: #800080; text-decoration-color: #800080; font-weight: bold\">Linear</span><span style=\"font-weight: bold\">(</span><span style=\"color: #808000; text-decoration-color: #808000\">in_features</span>=<span style=\"color: #008080; text-decoration-color: #008080; font-weight: bold\">512</span>, <span style=\"color: #808000; text-decoration-color: #808000\">out_features</span>=<span style=\"color: #008080; text-decoration-color: #008080; font-weight: bold\">512</span>, <span style=\"color: #808000; text-decoration-color: #808000\">bias</span>=<span style=\"color: #00ff00; text-decoration-color: #00ff00; font-style: italic\">True</span><span style=\"font-weight: bold\">)</span>\n",
              "        <span style=\"font-weight: bold\">(</span>dropout<span style=\"font-weight: bold\">)</span>: <span style=\"color: #800080; text-decoration-color: #800080; font-weight: bold\">Dropout</span><span style=\"font-weight: bold\">(</span><span style=\"color: #808000; text-decoration-color: #808000\">p</span>=<span style=\"color: #008080; text-decoration-color: #008080; font-weight: bold\">0.1</span>, <span style=\"color: #808000; text-decoration-color: #808000\">inplace</span>=<span style=\"color: #ff0000; text-decoration-color: #ff0000; font-style: italic\">False</span><span style=\"font-weight: bold\">)</span>\n",
              "        <span style=\"font-weight: bold\">(</span>linear2<span style=\"font-weight: bold\">)</span>: <span style=\"color: #800080; text-decoration-color: #800080; font-weight: bold\">Linear</span><span style=\"font-weight: bold\">(</span><span style=\"color: #808000; text-decoration-color: #808000\">in_features</span>=<span style=\"color: #008080; text-decoration-color: #008080; font-weight: bold\">512</span>, <span style=\"color: #808000; text-decoration-color: #808000\">out_features</span>=<span style=\"color: #008080; text-decoration-color: #008080; font-weight: bold\">512</span>, <span style=\"color: #808000; text-decoration-color: #808000\">bias</span>=<span style=\"color: #00ff00; text-decoration-color: #00ff00; font-style: italic\">True</span><span style=\"font-weight: bold\">)</span>\n",
              "        <span style=\"font-weight: bold\">(</span>norm1<span style=\"font-weight: bold\">)</span>: <span style=\"color: #800080; text-decoration-color: #800080; font-weight: bold\">LayerNorm</span><span style=\"font-weight: bold\">((</span><span style=\"color: #008080; text-decoration-color: #008080; font-weight: bold\">512</span>,<span style=\"font-weight: bold\">)</span>, <span style=\"color: #808000; text-decoration-color: #808000\">eps</span>=<span style=\"color: #008080; text-decoration-color: #008080; font-weight: bold\">1e-05</span>, <span style=\"color: #808000; text-decoration-color: #808000\">elementwise_affine</span>=<span style=\"color: #00ff00; text-decoration-color: #00ff00; font-style: italic\">True</span><span style=\"font-weight: bold\">)</span>\n",
              "        <span style=\"font-weight: bold\">(</span>norm2<span style=\"font-weight: bold\">)</span>: <span style=\"color: #800080; text-decoration-color: #800080; font-weight: bold\">LayerNorm</span><span style=\"font-weight: bold\">((</span><span style=\"color: #008080; text-decoration-color: #008080; font-weight: bold\">512</span>,<span style=\"font-weight: bold\">)</span>, <span style=\"color: #808000; text-decoration-color: #808000\">eps</span>=<span style=\"color: #008080; text-decoration-color: #008080; font-weight: bold\">1e-05</span>, <span style=\"color: #808000; text-decoration-color: #808000\">elementwise_affine</span>=<span style=\"color: #00ff00; text-decoration-color: #00ff00; font-style: italic\">True</span><span style=\"font-weight: bold\">)</span>\n",
              "        <span style=\"font-weight: bold\">(</span>norm3<span style=\"font-weight: bold\">)</span>: <span style=\"color: #800080; text-decoration-color: #800080; font-weight: bold\">LayerNorm</span><span style=\"font-weight: bold\">((</span><span style=\"color: #008080; text-decoration-color: #008080; font-weight: bold\">512</span>,<span style=\"font-weight: bold\">)</span>, <span style=\"color: #808000; text-decoration-color: #808000\">eps</span>=<span style=\"color: #008080; text-decoration-color: #008080; font-weight: bold\">1e-05</span>, <span style=\"color: #808000; text-decoration-color: #808000\">elementwise_affine</span>=<span style=\"color: #00ff00; text-decoration-color: #00ff00; font-style: italic\">True</span><span style=\"font-weight: bold\">)</span>\n",
              "        <span style=\"font-weight: bold\">(</span>dropout1<span style=\"font-weight: bold\">)</span>: <span style=\"color: #800080; text-decoration-color: #800080; font-weight: bold\">Dropout</span><span style=\"font-weight: bold\">(</span><span style=\"color: #808000; text-decoration-color: #808000\">p</span>=<span style=\"color: #008080; text-decoration-color: #008080; font-weight: bold\">0.1</span>, <span style=\"color: #808000; text-decoration-color: #808000\">inplace</span>=<span style=\"color: #ff0000; text-decoration-color: #ff0000; font-style: italic\">False</span><span style=\"font-weight: bold\">)</span>\n",
              "        <span style=\"font-weight: bold\">(</span>dropout2<span style=\"font-weight: bold\">)</span>: <span style=\"color: #800080; text-decoration-color: #800080; font-weight: bold\">Dropout</span><span style=\"font-weight: bold\">(</span><span style=\"color: #808000; text-decoration-color: #808000\">p</span>=<span style=\"color: #008080; text-decoration-color: #008080; font-weight: bold\">0.1</span>, <span style=\"color: #808000; text-decoration-color: #808000\">inplace</span>=<span style=\"color: #ff0000; text-decoration-color: #ff0000; font-style: italic\">False</span><span style=\"font-weight: bold\">)</span>\n",
              "        <span style=\"font-weight: bold\">(</span>dropout3<span style=\"font-weight: bold\">)</span>: <span style=\"color: #800080; text-decoration-color: #800080; font-weight: bold\">Dropout</span><span style=\"font-weight: bold\">(</span><span style=\"color: #808000; text-decoration-color: #808000\">p</span>=<span style=\"color: #008080; text-decoration-color: #008080; font-weight: bold\">0.1</span>, <span style=\"color: #808000; text-decoration-color: #808000\">inplace</span>=<span style=\"color: #ff0000; text-decoration-color: #ff0000; font-style: italic\">False</span><span style=\"font-weight: bold\">)</span>\n",
              "      <span style=\"font-weight: bold\">)</span>\n",
              "    <span style=\"font-weight: bold\">)</span>\n",
              "  <span style=\"font-weight: bold\">)</span>\n",
              "  <span style=\"font-weight: bold\">(</span>generator<span style=\"font-weight: bold\">)</span>: <span style=\"color: #800080; text-decoration-color: #800080; font-weight: bold\">Linear</span><span style=\"font-weight: bold\">(</span><span style=\"color: #808000; text-decoration-color: #808000\">in_features</span>=<span style=\"color: #008080; text-decoration-color: #008080; font-weight: bold\">512</span>, <span style=\"color: #808000; text-decoration-color: #808000\">out_features</span>=<span style=\"color: #008080; text-decoration-color: #008080; font-weight: bold\">50</span>, <span style=\"color: #808000; text-decoration-color: #808000\">bias</span>=<span style=\"color: #00ff00; text-decoration-color: #00ff00; font-style: italic\">True</span><span style=\"font-weight: bold\">)</span>\n",
              "  <span style=\"font-weight: bold\">(</span>src_tok_emb<span style=\"font-weight: bold\">)</span>: <span style=\"color: #800080; text-decoration-color: #800080; font-weight: bold\">TokenEmbedding</span><span style=\"font-weight: bold\">(</span>\n",
              "    <span style=\"font-weight: bold\">(</span>embedding<span style=\"font-weight: bold\">)</span>: <span style=\"color: #800080; text-decoration-color: #800080; font-weight: bold\">Embedding</span><span style=\"font-weight: bold\">(</span><span style=\"color: #008080; text-decoration-color: #008080; font-weight: bold\">52</span>, <span style=\"color: #008080; text-decoration-color: #008080; font-weight: bold\">512</span><span style=\"font-weight: bold\">)</span>\n",
              "  <span style=\"font-weight: bold\">)</span>\n",
              "  <span style=\"font-weight: bold\">(</span>tgt_tok_emb<span style=\"font-weight: bold\">)</span>: <span style=\"color: #800080; text-decoration-color: #800080; font-weight: bold\">TokenEmbedding</span><span style=\"font-weight: bold\">(</span>\n",
              "    <span style=\"font-weight: bold\">(</span>embedding<span style=\"font-weight: bold\">)</span>: <span style=\"color: #800080; text-decoration-color: #800080; font-weight: bold\">Embedding</span><span style=\"font-weight: bold\">(</span><span style=\"color: #008080; text-decoration-color: #008080; font-weight: bold\">50</span>, <span style=\"color: #008080; text-decoration-color: #008080; font-weight: bold\">512</span><span style=\"font-weight: bold\">)</span>\n",
              "  <span style=\"font-weight: bold\">)</span>\n",
              "  <span style=\"font-weight: bold\">(</span>positional_encoding<span style=\"font-weight: bold\">)</span>: <span style=\"color: #800080; text-decoration-color: #800080; font-weight: bold\">PositionalEncoding</span><span style=\"font-weight: bold\">(</span>\n",
              "    <span style=\"font-weight: bold\">(</span>dropout<span style=\"font-weight: bold\">)</span>: <span style=\"color: #800080; text-decoration-color: #800080; font-weight: bold\">Dropout</span><span style=\"font-weight: bold\">(</span><span style=\"color: #808000; text-decoration-color: #808000\">p</span>=<span style=\"color: #008080; text-decoration-color: #008080; font-weight: bold\">0.1</span>, <span style=\"color: #808000; text-decoration-color: #808000\">inplace</span>=<span style=\"color: #ff0000; text-decoration-color: #ff0000; font-style: italic\">False</span><span style=\"font-weight: bold\">)</span>\n",
              "  <span style=\"font-weight: bold\">)</span>\n",
              "<span style=\"font-weight: bold\">)</span>\n",
              "</pre>\n"
            ],
            "text/plain": [
              "\u001b[1;35mSeq2SeqTransformer\u001b[0m\u001b[1m(\u001b[0m\n",
              "  \u001b[1m(\u001b[0mtransformer_encoder\u001b[1m)\u001b[0m: \u001b[1;35mTransformerEncoder\u001b[0m\u001b[1m(\u001b[0m\n",
              "    \u001b[1m(\u001b[0mlayers\u001b[1m)\u001b[0m: \u001b[1;35mModuleList\u001b[0m\u001b[1m(\u001b[0m\n",
              "      \u001b[1m(\u001b[0m\u001b[1;36m0\u001b[0m\u001b[1m)\u001b[0m: \u001b[1;35mTransformerEncoderLayer\u001b[0m\u001b[1m(\u001b[0m\n",
              "        \u001b[1m(\u001b[0mself_attn\u001b[1m)\u001b[0m: \u001b[1;35mMultiheadAttention\u001b[0m\u001b[1m(\u001b[0m\n",
              "          \u001b[1m(\u001b[0mout_proj\u001b[1m)\u001b[0m: \u001b[1;35m_LinearWithBias\u001b[0m\u001b[1m(\u001b[0m\u001b[33min_features\u001b[0m=\u001b[1;36m512\u001b[0m, \u001b[33mout_features\u001b[0m=\u001b[1;36m512\u001b[0m, \u001b[33mbias\u001b[0m=\u001b[3;92mTrue\u001b[0m\u001b[1m)\u001b[0m\n",
              "        \u001b[1m)\u001b[0m\n",
              "        \u001b[1m(\u001b[0mlinear1\u001b[1m)\u001b[0m: \u001b[1;35mLinear\u001b[0m\u001b[1m(\u001b[0m\u001b[33min_features\u001b[0m=\u001b[1;36m512\u001b[0m, \u001b[33mout_features\u001b[0m=\u001b[1;36m512\u001b[0m, \u001b[33mbias\u001b[0m=\u001b[3;92mTrue\u001b[0m\u001b[1m)\u001b[0m\n",
              "        \u001b[1m(\u001b[0mdropout\u001b[1m)\u001b[0m: \u001b[1;35mDropout\u001b[0m\u001b[1m(\u001b[0m\u001b[33mp\u001b[0m=\u001b[1;36m0\u001b[0m\u001b[1;36m.1\u001b[0m, \u001b[33minplace\u001b[0m=\u001b[3;91mFalse\u001b[0m\u001b[1m)\u001b[0m\n",
              "        \u001b[1m(\u001b[0mlinear2\u001b[1m)\u001b[0m: \u001b[1;35mLinear\u001b[0m\u001b[1m(\u001b[0m\u001b[33min_features\u001b[0m=\u001b[1;36m512\u001b[0m, \u001b[33mout_features\u001b[0m=\u001b[1;36m512\u001b[0m, \u001b[33mbias\u001b[0m=\u001b[3;92mTrue\u001b[0m\u001b[1m)\u001b[0m\n",
              "        \u001b[1m(\u001b[0mnorm1\u001b[1m)\u001b[0m: \u001b[1;35mLayerNorm\u001b[0m\u001b[1m(\u001b[0m\u001b[1m(\u001b[0m\u001b[1;36m512\u001b[0m,\u001b[1m)\u001b[0m, \u001b[33meps\u001b[0m=\u001b[1;36m1e\u001b[0m\u001b[1;36m-05\u001b[0m, \u001b[33melementwise_affine\u001b[0m=\u001b[3;92mTrue\u001b[0m\u001b[1m)\u001b[0m\n",
              "        \u001b[1m(\u001b[0mnorm2\u001b[1m)\u001b[0m: \u001b[1;35mLayerNorm\u001b[0m\u001b[1m(\u001b[0m\u001b[1m(\u001b[0m\u001b[1;36m512\u001b[0m,\u001b[1m)\u001b[0m, \u001b[33meps\u001b[0m=\u001b[1;36m1e\u001b[0m\u001b[1;36m-05\u001b[0m, \u001b[33melementwise_affine\u001b[0m=\u001b[3;92mTrue\u001b[0m\u001b[1m)\u001b[0m\n",
              "        \u001b[1m(\u001b[0mdropout1\u001b[1m)\u001b[0m: \u001b[1;35mDropout\u001b[0m\u001b[1m(\u001b[0m\u001b[33mp\u001b[0m=\u001b[1;36m0\u001b[0m\u001b[1;36m.1\u001b[0m, \u001b[33minplace\u001b[0m=\u001b[3;91mFalse\u001b[0m\u001b[1m)\u001b[0m\n",
              "        \u001b[1m(\u001b[0mdropout2\u001b[1m)\u001b[0m: \u001b[1;35mDropout\u001b[0m\u001b[1m(\u001b[0m\u001b[33mp\u001b[0m=\u001b[1;36m0\u001b[0m\u001b[1;36m.1\u001b[0m, \u001b[33minplace\u001b[0m=\u001b[3;91mFalse\u001b[0m\u001b[1m)\u001b[0m\n",
              "      \u001b[1m)\u001b[0m\n",
              "      \u001b[1m(\u001b[0m\u001b[1;36m1\u001b[0m\u001b[1m)\u001b[0m: \u001b[1;35mTransformerEncoderLayer\u001b[0m\u001b[1m(\u001b[0m\n",
              "        \u001b[1m(\u001b[0mself_attn\u001b[1m)\u001b[0m: \u001b[1;35mMultiheadAttention\u001b[0m\u001b[1m(\u001b[0m\n",
              "          \u001b[1m(\u001b[0mout_proj\u001b[1m)\u001b[0m: \u001b[1;35m_LinearWithBias\u001b[0m\u001b[1m(\u001b[0m\u001b[33min_features\u001b[0m=\u001b[1;36m512\u001b[0m, \u001b[33mout_features\u001b[0m=\u001b[1;36m512\u001b[0m, \u001b[33mbias\u001b[0m=\u001b[3;92mTrue\u001b[0m\u001b[1m)\u001b[0m\n",
              "        \u001b[1m)\u001b[0m\n",
              "        \u001b[1m(\u001b[0mlinear1\u001b[1m)\u001b[0m: \u001b[1;35mLinear\u001b[0m\u001b[1m(\u001b[0m\u001b[33min_features\u001b[0m=\u001b[1;36m512\u001b[0m, \u001b[33mout_features\u001b[0m=\u001b[1;36m512\u001b[0m, \u001b[33mbias\u001b[0m=\u001b[3;92mTrue\u001b[0m\u001b[1m)\u001b[0m\n",
              "        \u001b[1m(\u001b[0mdropout\u001b[1m)\u001b[0m: \u001b[1;35mDropout\u001b[0m\u001b[1m(\u001b[0m\u001b[33mp\u001b[0m=\u001b[1;36m0\u001b[0m\u001b[1;36m.1\u001b[0m, \u001b[33minplace\u001b[0m=\u001b[3;91mFalse\u001b[0m\u001b[1m)\u001b[0m\n",
              "        \u001b[1m(\u001b[0mlinear2\u001b[1m)\u001b[0m: \u001b[1;35mLinear\u001b[0m\u001b[1m(\u001b[0m\u001b[33min_features\u001b[0m=\u001b[1;36m512\u001b[0m, \u001b[33mout_features\u001b[0m=\u001b[1;36m512\u001b[0m, \u001b[33mbias\u001b[0m=\u001b[3;92mTrue\u001b[0m\u001b[1m)\u001b[0m\n",
              "        \u001b[1m(\u001b[0mnorm1\u001b[1m)\u001b[0m: \u001b[1;35mLayerNorm\u001b[0m\u001b[1m(\u001b[0m\u001b[1m(\u001b[0m\u001b[1;36m512\u001b[0m,\u001b[1m)\u001b[0m, \u001b[33meps\u001b[0m=\u001b[1;36m1e\u001b[0m\u001b[1;36m-05\u001b[0m, \u001b[33melementwise_affine\u001b[0m=\u001b[3;92mTrue\u001b[0m\u001b[1m)\u001b[0m\n",
              "        \u001b[1m(\u001b[0mnorm2\u001b[1m)\u001b[0m: \u001b[1;35mLayerNorm\u001b[0m\u001b[1m(\u001b[0m\u001b[1m(\u001b[0m\u001b[1;36m512\u001b[0m,\u001b[1m)\u001b[0m, \u001b[33meps\u001b[0m=\u001b[1;36m1e\u001b[0m\u001b[1;36m-05\u001b[0m, \u001b[33melementwise_affine\u001b[0m=\u001b[3;92mTrue\u001b[0m\u001b[1m)\u001b[0m\n",
              "        \u001b[1m(\u001b[0mdropout1\u001b[1m)\u001b[0m: \u001b[1;35mDropout\u001b[0m\u001b[1m(\u001b[0m\u001b[33mp\u001b[0m=\u001b[1;36m0\u001b[0m\u001b[1;36m.1\u001b[0m, \u001b[33minplace\u001b[0m=\u001b[3;91mFalse\u001b[0m\u001b[1m)\u001b[0m\n",
              "        \u001b[1m(\u001b[0mdropout2\u001b[1m)\u001b[0m: \u001b[1;35mDropout\u001b[0m\u001b[1m(\u001b[0m\u001b[33mp\u001b[0m=\u001b[1;36m0\u001b[0m\u001b[1;36m.1\u001b[0m, \u001b[33minplace\u001b[0m=\u001b[3;91mFalse\u001b[0m\u001b[1m)\u001b[0m\n",
              "      \u001b[1m)\u001b[0m\n",
              "      \u001b[1m(\u001b[0m\u001b[1;36m2\u001b[0m\u001b[1m)\u001b[0m: \u001b[1;35mTransformerEncoderLayer\u001b[0m\u001b[1m(\u001b[0m\n",
              "        \u001b[1m(\u001b[0mself_attn\u001b[1m)\u001b[0m: \u001b[1;35mMultiheadAttention\u001b[0m\u001b[1m(\u001b[0m\n",
              "          \u001b[1m(\u001b[0mout_proj\u001b[1m)\u001b[0m: \u001b[1;35m_LinearWithBias\u001b[0m\u001b[1m(\u001b[0m\u001b[33min_features\u001b[0m=\u001b[1;36m512\u001b[0m, \u001b[33mout_features\u001b[0m=\u001b[1;36m512\u001b[0m, \u001b[33mbias\u001b[0m=\u001b[3;92mTrue\u001b[0m\u001b[1m)\u001b[0m\n",
              "        \u001b[1m)\u001b[0m\n",
              "        \u001b[1m(\u001b[0mlinear1\u001b[1m)\u001b[0m: \u001b[1;35mLinear\u001b[0m\u001b[1m(\u001b[0m\u001b[33min_features\u001b[0m=\u001b[1;36m512\u001b[0m, \u001b[33mout_features\u001b[0m=\u001b[1;36m512\u001b[0m, \u001b[33mbias\u001b[0m=\u001b[3;92mTrue\u001b[0m\u001b[1m)\u001b[0m\n",
              "        \u001b[1m(\u001b[0mdropout\u001b[1m)\u001b[0m: \u001b[1;35mDropout\u001b[0m\u001b[1m(\u001b[0m\u001b[33mp\u001b[0m=\u001b[1;36m0\u001b[0m\u001b[1;36m.1\u001b[0m, \u001b[33minplace\u001b[0m=\u001b[3;91mFalse\u001b[0m\u001b[1m)\u001b[0m\n",
              "        \u001b[1m(\u001b[0mlinear2\u001b[1m)\u001b[0m: \u001b[1;35mLinear\u001b[0m\u001b[1m(\u001b[0m\u001b[33min_features\u001b[0m=\u001b[1;36m512\u001b[0m, \u001b[33mout_features\u001b[0m=\u001b[1;36m512\u001b[0m, \u001b[33mbias\u001b[0m=\u001b[3;92mTrue\u001b[0m\u001b[1m)\u001b[0m\n",
              "        \u001b[1m(\u001b[0mnorm1\u001b[1m)\u001b[0m: \u001b[1;35mLayerNorm\u001b[0m\u001b[1m(\u001b[0m\u001b[1m(\u001b[0m\u001b[1;36m512\u001b[0m,\u001b[1m)\u001b[0m, \u001b[33meps\u001b[0m=\u001b[1;36m1e\u001b[0m\u001b[1;36m-05\u001b[0m, \u001b[33melementwise_affine\u001b[0m=\u001b[3;92mTrue\u001b[0m\u001b[1m)\u001b[0m\n",
              "        \u001b[1m(\u001b[0mnorm2\u001b[1m)\u001b[0m: \u001b[1;35mLayerNorm\u001b[0m\u001b[1m(\u001b[0m\u001b[1m(\u001b[0m\u001b[1;36m512\u001b[0m,\u001b[1m)\u001b[0m, \u001b[33meps\u001b[0m=\u001b[1;36m1e\u001b[0m\u001b[1;36m-05\u001b[0m, \u001b[33melementwise_affine\u001b[0m=\u001b[3;92mTrue\u001b[0m\u001b[1m)\u001b[0m\n",
              "        \u001b[1m(\u001b[0mdropout1\u001b[1m)\u001b[0m: \u001b[1;35mDropout\u001b[0m\u001b[1m(\u001b[0m\u001b[33mp\u001b[0m=\u001b[1;36m0\u001b[0m\u001b[1;36m.1\u001b[0m, \u001b[33minplace\u001b[0m=\u001b[3;91mFalse\u001b[0m\u001b[1m)\u001b[0m\n",
              "        \u001b[1m(\u001b[0mdropout2\u001b[1m)\u001b[0m: \u001b[1;35mDropout\u001b[0m\u001b[1m(\u001b[0m\u001b[33mp\u001b[0m=\u001b[1;36m0\u001b[0m\u001b[1;36m.1\u001b[0m, \u001b[33minplace\u001b[0m=\u001b[3;91mFalse\u001b[0m\u001b[1m)\u001b[0m\n",
              "      \u001b[1m)\u001b[0m\n",
              "    \u001b[1m)\u001b[0m\n",
              "  \u001b[1m)\u001b[0m\n",
              "  \u001b[1m(\u001b[0mtransformer_decoder\u001b[1m)\u001b[0m: \u001b[1;35mTransformerDecoder\u001b[0m\u001b[1m(\u001b[0m\n",
              "    \u001b[1m(\u001b[0mlayers\u001b[1m)\u001b[0m: \u001b[1;35mModuleList\u001b[0m\u001b[1m(\u001b[0m\n",
              "      \u001b[1m(\u001b[0m\u001b[1;36m0\u001b[0m\u001b[1m)\u001b[0m: \u001b[1;35mTransformerDecoderLayer\u001b[0m\u001b[1m(\u001b[0m\n",
              "        \u001b[1m(\u001b[0mself_attn\u001b[1m)\u001b[0m: \u001b[1;35mMultiheadAttention\u001b[0m\u001b[1m(\u001b[0m\n",
              "          \u001b[1m(\u001b[0mout_proj\u001b[1m)\u001b[0m: \u001b[1;35m_LinearWithBias\u001b[0m\u001b[1m(\u001b[0m\u001b[33min_features\u001b[0m=\u001b[1;36m512\u001b[0m, \u001b[33mout_features\u001b[0m=\u001b[1;36m512\u001b[0m, \u001b[33mbias\u001b[0m=\u001b[3;92mTrue\u001b[0m\u001b[1m)\u001b[0m\n",
              "        \u001b[1m)\u001b[0m\n",
              "        \u001b[1m(\u001b[0mmultihead_attn\u001b[1m)\u001b[0m: \u001b[1;35mMultiheadAttention\u001b[0m\u001b[1m(\u001b[0m\n",
              "          \u001b[1m(\u001b[0mout_proj\u001b[1m)\u001b[0m: \u001b[1;35m_LinearWithBias\u001b[0m\u001b[1m(\u001b[0m\u001b[33min_features\u001b[0m=\u001b[1;36m512\u001b[0m, \u001b[33mout_features\u001b[0m=\u001b[1;36m512\u001b[0m, \u001b[33mbias\u001b[0m=\u001b[3;92mTrue\u001b[0m\u001b[1m)\u001b[0m\n",
              "        \u001b[1m)\u001b[0m\n",
              "        \u001b[1m(\u001b[0mlinear1\u001b[1m)\u001b[0m: \u001b[1;35mLinear\u001b[0m\u001b[1m(\u001b[0m\u001b[33min_features\u001b[0m=\u001b[1;36m512\u001b[0m, \u001b[33mout_features\u001b[0m=\u001b[1;36m512\u001b[0m, \u001b[33mbias\u001b[0m=\u001b[3;92mTrue\u001b[0m\u001b[1m)\u001b[0m\n",
              "        \u001b[1m(\u001b[0mdropout\u001b[1m)\u001b[0m: \u001b[1;35mDropout\u001b[0m\u001b[1m(\u001b[0m\u001b[33mp\u001b[0m=\u001b[1;36m0\u001b[0m\u001b[1;36m.1\u001b[0m, \u001b[33minplace\u001b[0m=\u001b[3;91mFalse\u001b[0m\u001b[1m)\u001b[0m\n",
              "        \u001b[1m(\u001b[0mlinear2\u001b[1m)\u001b[0m: \u001b[1;35mLinear\u001b[0m\u001b[1m(\u001b[0m\u001b[33min_features\u001b[0m=\u001b[1;36m512\u001b[0m, \u001b[33mout_features\u001b[0m=\u001b[1;36m512\u001b[0m, \u001b[33mbias\u001b[0m=\u001b[3;92mTrue\u001b[0m\u001b[1m)\u001b[0m\n",
              "        \u001b[1m(\u001b[0mnorm1\u001b[1m)\u001b[0m: \u001b[1;35mLayerNorm\u001b[0m\u001b[1m(\u001b[0m\u001b[1m(\u001b[0m\u001b[1;36m512\u001b[0m,\u001b[1m)\u001b[0m, \u001b[33meps\u001b[0m=\u001b[1;36m1e\u001b[0m\u001b[1;36m-05\u001b[0m, \u001b[33melementwise_affine\u001b[0m=\u001b[3;92mTrue\u001b[0m\u001b[1m)\u001b[0m\n",
              "        \u001b[1m(\u001b[0mnorm2\u001b[1m)\u001b[0m: \u001b[1;35mLayerNorm\u001b[0m\u001b[1m(\u001b[0m\u001b[1m(\u001b[0m\u001b[1;36m512\u001b[0m,\u001b[1m)\u001b[0m, \u001b[33meps\u001b[0m=\u001b[1;36m1e\u001b[0m\u001b[1;36m-05\u001b[0m, \u001b[33melementwise_affine\u001b[0m=\u001b[3;92mTrue\u001b[0m\u001b[1m)\u001b[0m\n",
              "        \u001b[1m(\u001b[0mnorm3\u001b[1m)\u001b[0m: \u001b[1;35mLayerNorm\u001b[0m\u001b[1m(\u001b[0m\u001b[1m(\u001b[0m\u001b[1;36m512\u001b[0m,\u001b[1m)\u001b[0m, \u001b[33meps\u001b[0m=\u001b[1;36m1e\u001b[0m\u001b[1;36m-05\u001b[0m, \u001b[33melementwise_affine\u001b[0m=\u001b[3;92mTrue\u001b[0m\u001b[1m)\u001b[0m\n",
              "        \u001b[1m(\u001b[0mdropout1\u001b[1m)\u001b[0m: \u001b[1;35mDropout\u001b[0m\u001b[1m(\u001b[0m\u001b[33mp\u001b[0m=\u001b[1;36m0\u001b[0m\u001b[1;36m.1\u001b[0m, \u001b[33minplace\u001b[0m=\u001b[3;91mFalse\u001b[0m\u001b[1m)\u001b[0m\n",
              "        \u001b[1m(\u001b[0mdropout2\u001b[1m)\u001b[0m: \u001b[1;35mDropout\u001b[0m\u001b[1m(\u001b[0m\u001b[33mp\u001b[0m=\u001b[1;36m0\u001b[0m\u001b[1;36m.1\u001b[0m, \u001b[33minplace\u001b[0m=\u001b[3;91mFalse\u001b[0m\u001b[1m)\u001b[0m\n",
              "        \u001b[1m(\u001b[0mdropout3\u001b[1m)\u001b[0m: \u001b[1;35mDropout\u001b[0m\u001b[1m(\u001b[0m\u001b[33mp\u001b[0m=\u001b[1;36m0\u001b[0m\u001b[1;36m.1\u001b[0m, \u001b[33minplace\u001b[0m=\u001b[3;91mFalse\u001b[0m\u001b[1m)\u001b[0m\n",
              "      \u001b[1m)\u001b[0m\n",
              "      \u001b[1m(\u001b[0m\u001b[1;36m1\u001b[0m\u001b[1m)\u001b[0m: \u001b[1;35mTransformerDecoderLayer\u001b[0m\u001b[1m(\u001b[0m\n",
              "        \u001b[1m(\u001b[0mself_attn\u001b[1m)\u001b[0m: \u001b[1;35mMultiheadAttention\u001b[0m\u001b[1m(\u001b[0m\n",
              "          \u001b[1m(\u001b[0mout_proj\u001b[1m)\u001b[0m: \u001b[1;35m_LinearWithBias\u001b[0m\u001b[1m(\u001b[0m\u001b[33min_features\u001b[0m=\u001b[1;36m512\u001b[0m, \u001b[33mout_features\u001b[0m=\u001b[1;36m512\u001b[0m, \u001b[33mbias\u001b[0m=\u001b[3;92mTrue\u001b[0m\u001b[1m)\u001b[0m\n",
              "        \u001b[1m)\u001b[0m\n",
              "        \u001b[1m(\u001b[0mmultihead_attn\u001b[1m)\u001b[0m: \u001b[1;35mMultiheadAttention\u001b[0m\u001b[1m(\u001b[0m\n",
              "          \u001b[1m(\u001b[0mout_proj\u001b[1m)\u001b[0m: \u001b[1;35m_LinearWithBias\u001b[0m\u001b[1m(\u001b[0m\u001b[33min_features\u001b[0m=\u001b[1;36m512\u001b[0m, \u001b[33mout_features\u001b[0m=\u001b[1;36m512\u001b[0m, \u001b[33mbias\u001b[0m=\u001b[3;92mTrue\u001b[0m\u001b[1m)\u001b[0m\n",
              "        \u001b[1m)\u001b[0m\n",
              "        \u001b[1m(\u001b[0mlinear1\u001b[1m)\u001b[0m: \u001b[1;35mLinear\u001b[0m\u001b[1m(\u001b[0m\u001b[33min_features\u001b[0m=\u001b[1;36m512\u001b[0m, \u001b[33mout_features\u001b[0m=\u001b[1;36m512\u001b[0m, \u001b[33mbias\u001b[0m=\u001b[3;92mTrue\u001b[0m\u001b[1m)\u001b[0m\n",
              "        \u001b[1m(\u001b[0mdropout\u001b[1m)\u001b[0m: \u001b[1;35mDropout\u001b[0m\u001b[1m(\u001b[0m\u001b[33mp\u001b[0m=\u001b[1;36m0\u001b[0m\u001b[1;36m.1\u001b[0m, \u001b[33minplace\u001b[0m=\u001b[3;91mFalse\u001b[0m\u001b[1m)\u001b[0m\n",
              "        \u001b[1m(\u001b[0mlinear2\u001b[1m)\u001b[0m: \u001b[1;35mLinear\u001b[0m\u001b[1m(\u001b[0m\u001b[33min_features\u001b[0m=\u001b[1;36m512\u001b[0m, \u001b[33mout_features\u001b[0m=\u001b[1;36m512\u001b[0m, \u001b[33mbias\u001b[0m=\u001b[3;92mTrue\u001b[0m\u001b[1m)\u001b[0m\n",
              "        \u001b[1m(\u001b[0mnorm1\u001b[1m)\u001b[0m: \u001b[1;35mLayerNorm\u001b[0m\u001b[1m(\u001b[0m\u001b[1m(\u001b[0m\u001b[1;36m512\u001b[0m,\u001b[1m)\u001b[0m, \u001b[33meps\u001b[0m=\u001b[1;36m1e\u001b[0m\u001b[1;36m-05\u001b[0m, \u001b[33melementwise_affine\u001b[0m=\u001b[3;92mTrue\u001b[0m\u001b[1m)\u001b[0m\n",
              "        \u001b[1m(\u001b[0mnorm2\u001b[1m)\u001b[0m: \u001b[1;35mLayerNorm\u001b[0m\u001b[1m(\u001b[0m\u001b[1m(\u001b[0m\u001b[1;36m512\u001b[0m,\u001b[1m)\u001b[0m, \u001b[33meps\u001b[0m=\u001b[1;36m1e\u001b[0m\u001b[1;36m-05\u001b[0m, \u001b[33melementwise_affine\u001b[0m=\u001b[3;92mTrue\u001b[0m\u001b[1m)\u001b[0m\n",
              "        \u001b[1m(\u001b[0mnorm3\u001b[1m)\u001b[0m: \u001b[1;35mLayerNorm\u001b[0m\u001b[1m(\u001b[0m\u001b[1m(\u001b[0m\u001b[1;36m512\u001b[0m,\u001b[1m)\u001b[0m, \u001b[33meps\u001b[0m=\u001b[1;36m1e\u001b[0m\u001b[1;36m-05\u001b[0m, \u001b[33melementwise_affine\u001b[0m=\u001b[3;92mTrue\u001b[0m\u001b[1m)\u001b[0m\n",
              "        \u001b[1m(\u001b[0mdropout1\u001b[1m)\u001b[0m: \u001b[1;35mDropout\u001b[0m\u001b[1m(\u001b[0m\u001b[33mp\u001b[0m=\u001b[1;36m0\u001b[0m\u001b[1;36m.1\u001b[0m, \u001b[33minplace\u001b[0m=\u001b[3;91mFalse\u001b[0m\u001b[1m)\u001b[0m\n",
              "        \u001b[1m(\u001b[0mdropout2\u001b[1m)\u001b[0m: \u001b[1;35mDropout\u001b[0m\u001b[1m(\u001b[0m\u001b[33mp\u001b[0m=\u001b[1;36m0\u001b[0m\u001b[1;36m.1\u001b[0m, \u001b[33minplace\u001b[0m=\u001b[3;91mFalse\u001b[0m\u001b[1m)\u001b[0m\n",
              "        \u001b[1m(\u001b[0mdropout3\u001b[1m)\u001b[0m: \u001b[1;35mDropout\u001b[0m\u001b[1m(\u001b[0m\u001b[33mp\u001b[0m=\u001b[1;36m0\u001b[0m\u001b[1;36m.1\u001b[0m, \u001b[33minplace\u001b[0m=\u001b[3;91mFalse\u001b[0m\u001b[1m)\u001b[0m\n",
              "      \u001b[1m)\u001b[0m\n",
              "      \u001b[1m(\u001b[0m\u001b[1;36m2\u001b[0m\u001b[1m)\u001b[0m: \u001b[1;35mTransformerDecoderLayer\u001b[0m\u001b[1m(\u001b[0m\n",
              "        \u001b[1m(\u001b[0mself_attn\u001b[1m)\u001b[0m: \u001b[1;35mMultiheadAttention\u001b[0m\u001b[1m(\u001b[0m\n",
              "          \u001b[1m(\u001b[0mout_proj\u001b[1m)\u001b[0m: \u001b[1;35m_LinearWithBias\u001b[0m\u001b[1m(\u001b[0m\u001b[33min_features\u001b[0m=\u001b[1;36m512\u001b[0m, \u001b[33mout_features\u001b[0m=\u001b[1;36m512\u001b[0m, \u001b[33mbias\u001b[0m=\u001b[3;92mTrue\u001b[0m\u001b[1m)\u001b[0m\n",
              "        \u001b[1m)\u001b[0m\n",
              "        \u001b[1m(\u001b[0mmultihead_attn\u001b[1m)\u001b[0m: \u001b[1;35mMultiheadAttention\u001b[0m\u001b[1m(\u001b[0m\n",
              "          \u001b[1m(\u001b[0mout_proj\u001b[1m)\u001b[0m: \u001b[1;35m_LinearWithBias\u001b[0m\u001b[1m(\u001b[0m\u001b[33min_features\u001b[0m=\u001b[1;36m512\u001b[0m, \u001b[33mout_features\u001b[0m=\u001b[1;36m512\u001b[0m, \u001b[33mbias\u001b[0m=\u001b[3;92mTrue\u001b[0m\u001b[1m)\u001b[0m\n",
              "        \u001b[1m)\u001b[0m\n",
              "        \u001b[1m(\u001b[0mlinear1\u001b[1m)\u001b[0m: \u001b[1;35mLinear\u001b[0m\u001b[1m(\u001b[0m\u001b[33min_features\u001b[0m=\u001b[1;36m512\u001b[0m, \u001b[33mout_features\u001b[0m=\u001b[1;36m512\u001b[0m, \u001b[33mbias\u001b[0m=\u001b[3;92mTrue\u001b[0m\u001b[1m)\u001b[0m\n",
              "        \u001b[1m(\u001b[0mdropout\u001b[1m)\u001b[0m: \u001b[1;35mDropout\u001b[0m\u001b[1m(\u001b[0m\u001b[33mp\u001b[0m=\u001b[1;36m0\u001b[0m\u001b[1;36m.1\u001b[0m, \u001b[33minplace\u001b[0m=\u001b[3;91mFalse\u001b[0m\u001b[1m)\u001b[0m\n",
              "        \u001b[1m(\u001b[0mlinear2\u001b[1m)\u001b[0m: \u001b[1;35mLinear\u001b[0m\u001b[1m(\u001b[0m\u001b[33min_features\u001b[0m=\u001b[1;36m512\u001b[0m, \u001b[33mout_features\u001b[0m=\u001b[1;36m512\u001b[0m, \u001b[33mbias\u001b[0m=\u001b[3;92mTrue\u001b[0m\u001b[1m)\u001b[0m\n",
              "        \u001b[1m(\u001b[0mnorm1\u001b[1m)\u001b[0m: \u001b[1;35mLayerNorm\u001b[0m\u001b[1m(\u001b[0m\u001b[1m(\u001b[0m\u001b[1;36m512\u001b[0m,\u001b[1m)\u001b[0m, \u001b[33meps\u001b[0m=\u001b[1;36m1e\u001b[0m\u001b[1;36m-05\u001b[0m, \u001b[33melementwise_affine\u001b[0m=\u001b[3;92mTrue\u001b[0m\u001b[1m)\u001b[0m\n",
              "        \u001b[1m(\u001b[0mnorm2\u001b[1m)\u001b[0m: \u001b[1;35mLayerNorm\u001b[0m\u001b[1m(\u001b[0m\u001b[1m(\u001b[0m\u001b[1;36m512\u001b[0m,\u001b[1m)\u001b[0m, \u001b[33meps\u001b[0m=\u001b[1;36m1e\u001b[0m\u001b[1;36m-05\u001b[0m, \u001b[33melementwise_affine\u001b[0m=\u001b[3;92mTrue\u001b[0m\u001b[1m)\u001b[0m\n",
              "        \u001b[1m(\u001b[0mnorm3\u001b[1m)\u001b[0m: \u001b[1;35mLayerNorm\u001b[0m\u001b[1m(\u001b[0m\u001b[1m(\u001b[0m\u001b[1;36m512\u001b[0m,\u001b[1m)\u001b[0m, \u001b[33meps\u001b[0m=\u001b[1;36m1e\u001b[0m\u001b[1;36m-05\u001b[0m, \u001b[33melementwise_affine\u001b[0m=\u001b[3;92mTrue\u001b[0m\u001b[1m)\u001b[0m\n",
              "        \u001b[1m(\u001b[0mdropout1\u001b[1m)\u001b[0m: \u001b[1;35mDropout\u001b[0m\u001b[1m(\u001b[0m\u001b[33mp\u001b[0m=\u001b[1;36m0\u001b[0m\u001b[1;36m.1\u001b[0m, \u001b[33minplace\u001b[0m=\u001b[3;91mFalse\u001b[0m\u001b[1m)\u001b[0m\n",
              "        \u001b[1m(\u001b[0mdropout2\u001b[1m)\u001b[0m: \u001b[1;35mDropout\u001b[0m\u001b[1m(\u001b[0m\u001b[33mp\u001b[0m=\u001b[1;36m0\u001b[0m\u001b[1;36m.1\u001b[0m, \u001b[33minplace\u001b[0m=\u001b[3;91mFalse\u001b[0m\u001b[1m)\u001b[0m\n",
              "        \u001b[1m(\u001b[0mdropout3\u001b[1m)\u001b[0m: \u001b[1;35mDropout\u001b[0m\u001b[1m(\u001b[0m\u001b[33mp\u001b[0m=\u001b[1;36m0\u001b[0m\u001b[1;36m.1\u001b[0m, \u001b[33minplace\u001b[0m=\u001b[3;91mFalse\u001b[0m\u001b[1m)\u001b[0m\n",
              "      \u001b[1m)\u001b[0m\n",
              "    \u001b[1m)\u001b[0m\n",
              "  \u001b[1m)\u001b[0m\n",
              "  \u001b[1m(\u001b[0mgenerator\u001b[1m)\u001b[0m: \u001b[1;35mLinear\u001b[0m\u001b[1m(\u001b[0m\u001b[33min_features\u001b[0m=\u001b[1;36m512\u001b[0m, \u001b[33mout_features\u001b[0m=\u001b[1;36m50\u001b[0m, \u001b[33mbias\u001b[0m=\u001b[3;92mTrue\u001b[0m\u001b[1m)\u001b[0m\n",
              "  \u001b[1m(\u001b[0msrc_tok_emb\u001b[1m)\u001b[0m: \u001b[1;35mTokenEmbedding\u001b[0m\u001b[1m(\u001b[0m\n",
              "    \u001b[1m(\u001b[0membedding\u001b[1m)\u001b[0m: \u001b[1;35mEmbedding\u001b[0m\u001b[1m(\u001b[0m\u001b[1;36m52\u001b[0m, \u001b[1;36m512\u001b[0m\u001b[1m)\u001b[0m\n",
              "  \u001b[1m)\u001b[0m\n",
              "  \u001b[1m(\u001b[0mtgt_tok_emb\u001b[1m)\u001b[0m: \u001b[1;35mTokenEmbedding\u001b[0m\u001b[1m(\u001b[0m\n",
              "    \u001b[1m(\u001b[0membedding\u001b[1m)\u001b[0m: \u001b[1;35mEmbedding\u001b[0m\u001b[1m(\u001b[0m\u001b[1;36m50\u001b[0m, \u001b[1;36m512\u001b[0m\u001b[1m)\u001b[0m\n",
              "  \u001b[1m)\u001b[0m\n",
              "  \u001b[1m(\u001b[0mpositional_encoding\u001b[1m)\u001b[0m: \u001b[1;35mPositionalEncoding\u001b[0m\u001b[1m(\u001b[0m\n",
              "    \u001b[1m(\u001b[0mdropout\u001b[1m)\u001b[0m: \u001b[1;35mDropout\u001b[0m\u001b[1m(\u001b[0m\u001b[33mp\u001b[0m=\u001b[1;36m0\u001b[0m\u001b[1;36m.1\u001b[0m, \u001b[33minplace\u001b[0m=\u001b[3;91mFalse\u001b[0m\u001b[1m)\u001b[0m\n",
              "  \u001b[1m)\u001b[0m\n",
              "\u001b[1m)\u001b[0m\n"
            ]
          },
          "metadata": {
            "tags": []
          }
        }
      ]
    },
    {
      "cell_type": "markdown",
      "metadata": {
        "id": "bXSMEOITdq_s"
      },
      "source": [
        "#Save checkpoint"
      ],
      "id": "bXSMEOITdq_s"
    },
    {
      "cell_type": "code",
      "metadata": {
        "id": "Jqj_bDp0iCgl"
      },
      "source": [
        "load_model = True\n",
        "save_model = True"
      ],
      "id": "Jqj_bDp0iCgl",
      "execution_count": 19,
      "outputs": []
    },
    {
      "cell_type": "code",
      "metadata": {
        "id": "MFgGyot-dqR6"
      },
      "source": [
        "def save_checkpoint(state, filename):\n",
        "    #filename=\"my_checkpoint_\"+str(epoch)+\".pth\"\n",
        "    print(\"=> Saving checkpoint\")\n",
        "    torch.save(state, filename)"
      ],
      "id": "MFgGyot-dqR6",
      "execution_count": 20,
      "outputs": []
    },
    {
      "cell_type": "markdown",
      "metadata": {
        "id": "PIW9IxYXe0FK"
      },
      "source": [
        "#Load checkpoint"
      ],
      "id": "PIW9IxYXe0FK"
    },
    {
      "cell_type": "code",
      "metadata": {
        "id": "fSK3X09Me4L-"
      },
      "source": [
        "def load_checkpoint(checkpoint, model, optimizer):\n",
        "    print(\"=> Loading checkpoint\")\n",
        "    model.load_state_dict(checkpoint[\"state_dict\"])\n",
        "    optimizer.load_state_dict(checkpoint[\"optimizer\"])"
      ],
      "id": "fSK3X09Me4L-",
      "execution_count": null,
      "outputs": []
    },
    {
      "cell_type": "code",
      "metadata": {
        "id": "F5Q-dpDvfLSC",
        "colab": {
          "base_uri": "https://localhost:8080/",
          "height": 34
        },
        "outputId": "e178e0de-e504-4346-c77c-a8864f1a37af"
      },
      "source": [
        "if load_model:\n",
        "    load_checkpoint(torch.load(\"my_checkpoint_10.pth\"), transformer, optimizer)\n",
        "\n"
      ],
      "id": "F5Q-dpDvfLSC",
      "execution_count": null,
      "outputs": [
        {
          "output_type": "display_data",
          "data": {
            "text/html": [
              "<pre style=\"white-space:pre;overflow-x:auto;line-height:normal;font-family:Menlo,'DejaVu Sans Mono',consolas,'Courier New',monospace\">=&gt; Loading checkpoint\n",
              "</pre>\n"
            ],
            "text/plain": [
              "=> Loading checkpoint\n"
            ]
          },
          "metadata": {
            "tags": []
          }
        }
      ]
    },
    {
      "cell_type": "markdown",
      "metadata": {
        "id": "iA-ga-sAPhK1"
      },
      "source": [
        "# Train model"
      ],
      "id": "iA-ga-sAPhK1"
    },
    {
      "cell_type": "code",
      "metadata": {
        "id": "obvious-curve"
      },
      "source": [
        "def train_epoch(model, train_iter, optimizer):\n",
        "  model.train()\n",
        "  losses = 0\n",
        "  for idx, (src, tgt) in enumerate(train_iter):\n",
        "      src = src.to(device)\n",
        "      tgt = tgt.to(device)\n",
        "\n",
        "      tgt_input = tgt[:-1, :]\n",
        "\n",
        "      src_mask, tgt_mask, src_padding_mask, tgt_padding_mask = create_mask(src, tgt_input)\n",
        "\n",
        "      logits = model(src, tgt_input, src_mask, tgt_mask,\n",
        "                                src_padding_mask, tgt_padding_mask, src_padding_mask)\n",
        "\n",
        "      optimizer.zero_grad()\n",
        "\n",
        "      tgt_out = tgt[1:,:]\n",
        "      loss = loss_fn(logits.reshape(-1, logits.shape[-1]), tgt_out.reshape(-1))\n",
        "      loss.backward()\n",
        "\n",
        "      optimizer.step()\n",
        "      losses += loss.item()\n",
        "  return losses / len(train_iter)\n",
        "\n",
        "\n",
        "def evaluate(model, val_iter):\n",
        "  model.eval()\n",
        "  losses = 0\n",
        "  for idx, (src, tgt) in (enumerate(valid_iter)):\n",
        "    src = src.to(device)\n",
        "    tgt = tgt.to(device)\n",
        "\n",
        "    tgt_input = tgt[:-1, :]\n",
        "\n",
        "    src_mask, tgt_mask, src_padding_mask, tgt_padding_mask = create_mask(src, tgt_input)\n",
        "\n",
        "    logits = model(src, tgt_input, src_mask, tgt_mask,\n",
        "                              src_padding_mask, tgt_padding_mask, src_padding_mask)\n",
        "    tgt_out = tgt[1:,:]\n",
        "    loss = loss_fn(logits.reshape(-1, logits.shape[-1]), tgt_out.reshape(-1))\n",
        "    losses += loss.item()\n",
        "  return losses / len(val_iter)"
      ],
      "id": "obvious-curve",
      "execution_count": 21,
      "outputs": []
    },
    {
      "cell_type": "code",
      "metadata": {
        "colab": {
          "base_uri": "https://localhost:8080/",
          "height": 1000
        },
        "id": "palestinian-singapore",
        "outputId": "66bd79a2-ffa9-429e-bad3-ce62317dbb51"
      },
      "source": [
        "train_loss_ex = []\n",
        "val_loss_ex = []\n",
        "epoch_ex=[]\n",
        "for epoch in range(1, NUM_EPOCHS+1):\n",
        "  start_time = time.time()\n",
        "  train_loss = train_epoch(transformer, train_iter, optimizer)\n",
        "  end_time = time.time()\n",
        "  val_loss = evaluate(transformer, valid_iter)\n",
        "  #Save the general checkpoint\n",
        "  if epoch%100==0:\n",
        "    filename=\"my_checkpoint_\"+str(epoch)+\".pth\"\n",
        "    print(\"true\")\n",
        "    checkpoint = {\"state_dict\": transformer.state_dict(),\"optimizer\": optimizer.state_dict(),}\n",
        "    save_checkpoint(checkpoint,filename)\n",
        "\n",
        "  print((f\"Epoch: {epoch}, Train loss: {train_loss:.3f}, Val loss: {val_loss:.3f}, \"\n",
        "          f\"Epoch time = {(end_time - start_time):.3f}s\"))\n",
        "  #plot\n",
        "  train_loss_ex.append(train_loss)\n",
        "  epoch_ex.append(epoch)\n",
        "  val_loss_ex.append(val_loss)\n",
        "  \n",
        "print(\"Done!\")"
      ],
      "id": "palestinian-singapore",
      "execution_count": 22,
      "outputs": [
        {
          "output_type": "display_data",
          "data": {
            "text/html": [
              "<pre style=\"white-space:pre;overflow-x:auto;line-height:normal;font-family:Menlo,'DejaVu Sans Mono',consolas,'Courier New',monospace\">Epoch: <span style=\"color: #008080; text-decoration-color: #008080; font-weight: bold\">1</span>, Train loss: <span style=\"color: #008080; text-decoration-color: #008080; font-weight: bold\">1.533</span>, Val loss: <span style=\"color: #008080; text-decoration-color: #008080; font-weight: bold\">1.026</span>, Epoch time = <span style=\"color: #008080; text-decoration-color: #008080; font-weight: bold\">92.</span>444s\n",
              "</pre>\n"
            ],
            "text/plain": [
              "Epoch: \u001b[1;36m1\u001b[0m, Train loss: \u001b[1;36m1.533\u001b[0m, Val loss: \u001b[1;36m1.026\u001b[0m, Epoch time = \u001b[1;36m92.\u001b[0m444s\n"
            ]
          },
          "metadata": {
            "tags": []
          }
        },
        {
          "output_type": "display_data",
          "data": {
            "text/html": [
              "<pre style=\"white-space:pre;overflow-x:auto;line-height:normal;font-family:Menlo,'DejaVu Sans Mono',consolas,'Courier New',monospace\">Epoch: <span style=\"color: #008080; text-decoration-color: #008080; font-weight: bold\">2</span>, Train loss: <span style=\"color: #008080; text-decoration-color: #008080; font-weight: bold\">1.006</span>, Val loss: <span style=\"color: #008080; text-decoration-color: #008080; font-weight: bold\">0.809</span>, Epoch time = <span style=\"color: #008080; text-decoration-color: #008080; font-weight: bold\">91.</span>709s\n",
              "</pre>\n"
            ],
            "text/plain": [
              "Epoch: \u001b[1;36m2\u001b[0m, Train loss: \u001b[1;36m1.006\u001b[0m, Val loss: \u001b[1;36m0.809\u001b[0m, Epoch time = \u001b[1;36m91.\u001b[0m709s\n"
            ]
          },
          "metadata": {
            "tags": []
          }
        },
        {
          "output_type": "display_data",
          "data": {
            "text/html": [
              "<pre style=\"white-space:pre;overflow-x:auto;line-height:normal;font-family:Menlo,'DejaVu Sans Mono',consolas,'Courier New',monospace\">Epoch: <span style=\"color: #008080; text-decoration-color: #008080; font-weight: bold\">3</span>, Train loss: <span style=\"color: #008080; text-decoration-color: #008080; font-weight: bold\">0.853</span>, Val loss: <span style=\"color: #008080; text-decoration-color: #008080; font-weight: bold\">0.704</span>, Epoch time = <span style=\"color: #008080; text-decoration-color: #008080; font-weight: bold\">91.</span>513s\n",
              "</pre>\n"
            ],
            "text/plain": [
              "Epoch: \u001b[1;36m3\u001b[0m, Train loss: \u001b[1;36m0.853\u001b[0m, Val loss: \u001b[1;36m0.704\u001b[0m, Epoch time = \u001b[1;36m91.\u001b[0m513s\n"
            ]
          },
          "metadata": {
            "tags": []
          }
        },
        {
          "output_type": "display_data",
          "data": {
            "text/html": [
              "<pre style=\"white-space:pre;overflow-x:auto;line-height:normal;font-family:Menlo,'DejaVu Sans Mono',consolas,'Courier New',monospace\">Epoch: <span style=\"color: #008080; text-decoration-color: #008080; font-weight: bold\">4</span>, Train loss: <span style=\"color: #008080; text-decoration-color: #008080; font-weight: bold\">0.765</span>, Val loss: <span style=\"color: #008080; text-decoration-color: #008080; font-weight: bold\">0.636</span>, Epoch time = <span style=\"color: #008080; text-decoration-color: #008080; font-weight: bold\">91.</span>669s\n",
              "</pre>\n"
            ],
            "text/plain": [
              "Epoch: \u001b[1;36m4\u001b[0m, Train loss: \u001b[1;36m0.765\u001b[0m, Val loss: \u001b[1;36m0.636\u001b[0m, Epoch time = \u001b[1;36m91.\u001b[0m669s\n"
            ]
          },
          "metadata": {
            "tags": []
          }
        },
        {
          "output_type": "display_data",
          "data": {
            "text/html": [
              "<pre style=\"white-space:pre;overflow-x:auto;line-height:normal;font-family:Menlo,'DejaVu Sans Mono',consolas,'Courier New',monospace\">Epoch: <span style=\"color: #008080; text-decoration-color: #008080; font-weight: bold\">5</span>, Train loss: <span style=\"color: #008080; text-decoration-color: #008080; font-weight: bold\">0.704</span>, Val loss: <span style=\"color: #008080; text-decoration-color: #008080; font-weight: bold\">0.580</span>, Epoch time = <span style=\"color: #008080; text-decoration-color: #008080; font-weight: bold\">91.</span>423s\n",
              "</pre>\n"
            ],
            "text/plain": [
              "Epoch: \u001b[1;36m5\u001b[0m, Train loss: \u001b[1;36m0.704\u001b[0m, Val loss: \u001b[1;36m0.580\u001b[0m, Epoch time = \u001b[1;36m91.\u001b[0m423s\n"
            ]
          },
          "metadata": {
            "tags": []
          }
        },
        {
          "output_type": "display_data",
          "data": {
            "text/html": [
              "<pre style=\"white-space:pre;overflow-x:auto;line-height:normal;font-family:Menlo,'DejaVu Sans Mono',consolas,'Courier New',monospace\">Epoch: <span style=\"color: #008080; text-decoration-color: #008080; font-weight: bold\">6</span>, Train loss: <span style=\"color: #008080; text-decoration-color: #008080; font-weight: bold\">0.658</span>, Val loss: <span style=\"color: #008080; text-decoration-color: #008080; font-weight: bold\">0.555</span>, Epoch time = <span style=\"color: #008080; text-decoration-color: #008080; font-weight: bold\">91.</span>776s\n",
              "</pre>\n"
            ],
            "text/plain": [
              "Epoch: \u001b[1;36m6\u001b[0m, Train loss: \u001b[1;36m0.658\u001b[0m, Val loss: \u001b[1;36m0.555\u001b[0m, Epoch time = \u001b[1;36m91.\u001b[0m776s\n"
            ]
          },
          "metadata": {
            "tags": []
          }
        },
        {
          "output_type": "display_data",
          "data": {
            "text/html": [
              "<pre style=\"white-space:pre;overflow-x:auto;line-height:normal;font-family:Menlo,'DejaVu Sans Mono',consolas,'Courier New',monospace\">Epoch: <span style=\"color: #008080; text-decoration-color: #008080; font-weight: bold\">7</span>, Train loss: <span style=\"color: #008080; text-decoration-color: #008080; font-weight: bold\">0.619</span>, Val loss: <span style=\"color: #008080; text-decoration-color: #008080; font-weight: bold\">0.511</span>, Epoch time = <span style=\"color: #008080; text-decoration-color: #008080; font-weight: bold\">91.</span>666s\n",
              "</pre>\n"
            ],
            "text/plain": [
              "Epoch: \u001b[1;36m7\u001b[0m, Train loss: \u001b[1;36m0.619\u001b[0m, Val loss: \u001b[1;36m0.511\u001b[0m, Epoch time = \u001b[1;36m91.\u001b[0m666s\n"
            ]
          },
          "metadata": {
            "tags": []
          }
        },
        {
          "output_type": "display_data",
          "data": {
            "text/html": [
              "<pre style=\"white-space:pre;overflow-x:auto;line-height:normal;font-family:Menlo,'DejaVu Sans Mono',consolas,'Courier New',monospace\">Epoch: <span style=\"color: #008080; text-decoration-color: #008080; font-weight: bold\">8</span>, Train loss: <span style=\"color: #008080; text-decoration-color: #008080; font-weight: bold\">0.585</span>, Val loss: <span style=\"color: #008080; text-decoration-color: #008080; font-weight: bold\">0.486</span>, Epoch time = <span style=\"color: #008080; text-decoration-color: #008080; font-weight: bold\">92.</span>433s\n",
              "</pre>\n"
            ],
            "text/plain": [
              "Epoch: \u001b[1;36m8\u001b[0m, Train loss: \u001b[1;36m0.585\u001b[0m, Val loss: \u001b[1;36m0.486\u001b[0m, Epoch time = \u001b[1;36m92.\u001b[0m433s\n"
            ]
          },
          "metadata": {
            "tags": []
          }
        },
        {
          "output_type": "display_data",
          "data": {
            "text/html": [
              "<pre style=\"white-space:pre;overflow-x:auto;line-height:normal;font-family:Menlo,'DejaVu Sans Mono',consolas,'Courier New',monospace\">Epoch: <span style=\"color: #008080; text-decoration-color: #008080; font-weight: bold\">9</span>, Train loss: <span style=\"color: #008080; text-decoration-color: #008080; font-weight: bold\">0.555</span>, Val loss: <span style=\"color: #008080; text-decoration-color: #008080; font-weight: bold\">0.448</span>, Epoch time = <span style=\"color: #008080; text-decoration-color: #008080; font-weight: bold\">91.</span>984s\n",
              "</pre>\n"
            ],
            "text/plain": [
              "Epoch: \u001b[1;36m9\u001b[0m, Train loss: \u001b[1;36m0.555\u001b[0m, Val loss: \u001b[1;36m0.448\u001b[0m, Epoch time = \u001b[1;36m91.\u001b[0m984s\n"
            ]
          },
          "metadata": {
            "tags": []
          }
        },
        {
          "output_type": "display_data",
          "data": {
            "text/html": [
              "<pre style=\"white-space:pre;overflow-x:auto;line-height:normal;font-family:Menlo,'DejaVu Sans Mono',consolas,'Courier New',monospace\">Epoch: <span style=\"color: #008080; text-decoration-color: #008080; font-weight: bold\">10</span>, Train loss: <span style=\"color: #008080; text-decoration-color: #008080; font-weight: bold\">0.525</span>, Val loss: <span style=\"color: #008080; text-decoration-color: #008080; font-weight: bold\">0.424</span>, Epoch time = <span style=\"color: #008080; text-decoration-color: #008080; font-weight: bold\">91.</span>401s\n",
              "</pre>\n"
            ],
            "text/plain": [
              "Epoch: \u001b[1;36m10\u001b[0m, Train loss: \u001b[1;36m0.525\u001b[0m, Val loss: \u001b[1;36m0.424\u001b[0m, Epoch time = \u001b[1;36m91.\u001b[0m401s\n"
            ]
          },
          "metadata": {
            "tags": []
          }
        },
        {
          "output_type": "display_data",
          "data": {
            "text/html": [
              "<pre style=\"white-space:pre;overflow-x:auto;line-height:normal;font-family:Menlo,'DejaVu Sans Mono',consolas,'Courier New',monospace\">Epoch: <span style=\"color: #008080; text-decoration-color: #008080; font-weight: bold\">11</span>, Train loss: <span style=\"color: #008080; text-decoration-color: #008080; font-weight: bold\">0.499</span>, Val loss: <span style=\"color: #008080; text-decoration-color: #008080; font-weight: bold\">0.397</span>, Epoch time = <span style=\"color: #008080; text-decoration-color: #008080; font-weight: bold\">91.</span>825s\n",
              "</pre>\n"
            ],
            "text/plain": [
              "Epoch: \u001b[1;36m11\u001b[0m, Train loss: \u001b[1;36m0.499\u001b[0m, Val loss: \u001b[1;36m0.397\u001b[0m, Epoch time = \u001b[1;36m91.\u001b[0m825s\n"
            ]
          },
          "metadata": {
            "tags": []
          }
        },
        {
          "output_type": "display_data",
          "data": {
            "text/html": [
              "<pre style=\"white-space:pre;overflow-x:auto;line-height:normal;font-family:Menlo,'DejaVu Sans Mono',consolas,'Courier New',monospace\">Epoch: <span style=\"color: #008080; text-decoration-color: #008080; font-weight: bold\">12</span>, Train loss: <span style=\"color: #008080; text-decoration-color: #008080; font-weight: bold\">0.473</span>, Val loss: <span style=\"color: #008080; text-decoration-color: #008080; font-weight: bold\">0.382</span>, Epoch time = <span style=\"color: #008080; text-decoration-color: #008080; font-weight: bold\">92.</span>055s\n",
              "</pre>\n"
            ],
            "text/plain": [
              "Epoch: \u001b[1;36m12\u001b[0m, Train loss: \u001b[1;36m0.473\u001b[0m, Val loss: \u001b[1;36m0.382\u001b[0m, Epoch time = \u001b[1;36m92.\u001b[0m055s\n"
            ]
          },
          "metadata": {
            "tags": []
          }
        },
        {
          "output_type": "display_data",
          "data": {
            "text/html": [
              "<pre style=\"white-space:pre;overflow-x:auto;line-height:normal;font-family:Menlo,'DejaVu Sans Mono',consolas,'Courier New',monospace\">Epoch: <span style=\"color: #008080; text-decoration-color: #008080; font-weight: bold\">13</span>, Train loss: <span style=\"color: #008080; text-decoration-color: #008080; font-weight: bold\">0.450</span>, Val loss: <span style=\"color: #008080; text-decoration-color: #008080; font-weight: bold\">0.355</span>, Epoch time = <span style=\"color: #008080; text-decoration-color: #008080; font-weight: bold\">92.</span>521s\n",
              "</pre>\n"
            ],
            "text/plain": [
              "Epoch: \u001b[1;36m13\u001b[0m, Train loss: \u001b[1;36m0.450\u001b[0m, Val loss: \u001b[1;36m0.355\u001b[0m, Epoch time = \u001b[1;36m92.\u001b[0m521s\n"
            ]
          },
          "metadata": {
            "tags": []
          }
        },
        {
          "output_type": "display_data",
          "data": {
            "text/html": [
              "<pre style=\"white-space:pre;overflow-x:auto;line-height:normal;font-family:Menlo,'DejaVu Sans Mono',consolas,'Courier New',monospace\">Epoch: <span style=\"color: #008080; text-decoration-color: #008080; font-weight: bold\">14</span>, Train loss: <span style=\"color: #008080; text-decoration-color: #008080; font-weight: bold\">0.426</span>, Val loss: <span style=\"color: #008080; text-decoration-color: #008080; font-weight: bold\">0.327</span>, Epoch time = <span style=\"color: #008080; text-decoration-color: #008080; font-weight: bold\">91.</span>871s\n",
              "</pre>\n"
            ],
            "text/plain": [
              "Epoch: \u001b[1;36m14\u001b[0m, Train loss: \u001b[1;36m0.426\u001b[0m, Val loss: \u001b[1;36m0.327\u001b[0m, Epoch time = \u001b[1;36m91.\u001b[0m871s\n"
            ]
          },
          "metadata": {
            "tags": []
          }
        },
        {
          "output_type": "display_data",
          "data": {
            "text/html": [
              "<pre style=\"white-space:pre;overflow-x:auto;line-height:normal;font-family:Menlo,'DejaVu Sans Mono',consolas,'Courier New',monospace\">Epoch: <span style=\"color: #008080; text-decoration-color: #008080; font-weight: bold\">15</span>, Train loss: <span style=\"color: #008080; text-decoration-color: #008080; font-weight: bold\">0.404</span>, Val loss: <span style=\"color: #008080; text-decoration-color: #008080; font-weight: bold\">0.306</span>, Epoch time = <span style=\"color: #008080; text-decoration-color: #008080; font-weight: bold\">91.</span>417s\n",
              "</pre>\n"
            ],
            "text/plain": [
              "Epoch: \u001b[1;36m15\u001b[0m, Train loss: \u001b[1;36m0.404\u001b[0m, Val loss: \u001b[1;36m0.306\u001b[0m, Epoch time = \u001b[1;36m91.\u001b[0m417s\n"
            ]
          },
          "metadata": {
            "tags": []
          }
        },
        {
          "output_type": "display_data",
          "data": {
            "text/html": [
              "<pre style=\"white-space:pre;overflow-x:auto;line-height:normal;font-family:Menlo,'DejaVu Sans Mono',consolas,'Courier New',monospace\">Epoch: <span style=\"color: #008080; text-decoration-color: #008080; font-weight: bold\">16</span>, Train loss: <span style=\"color: #008080; text-decoration-color: #008080; font-weight: bold\">0.385</span>, Val loss: <span style=\"color: #008080; text-decoration-color: #008080; font-weight: bold\">0.293</span>, Epoch time = <span style=\"color: #008080; text-decoration-color: #008080; font-weight: bold\">91.</span>943s\n",
              "</pre>\n"
            ],
            "text/plain": [
              "Epoch: \u001b[1;36m16\u001b[0m, Train loss: \u001b[1;36m0.385\u001b[0m, Val loss: \u001b[1;36m0.293\u001b[0m, Epoch time = \u001b[1;36m91.\u001b[0m943s\n"
            ]
          },
          "metadata": {
            "tags": []
          }
        },
        {
          "output_type": "display_data",
          "data": {
            "text/html": [
              "<pre style=\"white-space:pre;overflow-x:auto;line-height:normal;font-family:Menlo,'DejaVu Sans Mono',consolas,'Courier New',monospace\">Epoch: <span style=\"color: #008080; text-decoration-color: #008080; font-weight: bold\">17</span>, Train loss: <span style=\"color: #008080; text-decoration-color: #008080; font-weight: bold\">0.366</span>, Val loss: <span style=\"color: #008080; text-decoration-color: #008080; font-weight: bold\">0.282</span>, Epoch time = <span style=\"color: #008080; text-decoration-color: #008080; font-weight: bold\">91.</span>411s\n",
              "</pre>\n"
            ],
            "text/plain": [
              "Epoch: \u001b[1;36m17\u001b[0m, Train loss: \u001b[1;36m0.366\u001b[0m, Val loss: \u001b[1;36m0.282\u001b[0m, Epoch time = \u001b[1;36m91.\u001b[0m411s\n"
            ]
          },
          "metadata": {
            "tags": []
          }
        },
        {
          "output_type": "display_data",
          "data": {
            "text/html": [
              "<pre style=\"white-space:pre;overflow-x:auto;line-height:normal;font-family:Menlo,'DejaVu Sans Mono',consolas,'Courier New',monospace\">Epoch: <span style=\"color: #008080; text-decoration-color: #008080; font-weight: bold\">18</span>, Train loss: <span style=\"color: #008080; text-decoration-color: #008080; font-weight: bold\">0.350</span>, Val loss: <span style=\"color: #008080; text-decoration-color: #008080; font-weight: bold\">0.264</span>, Epoch time = <span style=\"color: #008080; text-decoration-color: #008080; font-weight: bold\">91.</span>731s\n",
              "</pre>\n"
            ],
            "text/plain": [
              "Epoch: \u001b[1;36m18\u001b[0m, Train loss: \u001b[1;36m0.350\u001b[0m, Val loss: \u001b[1;36m0.264\u001b[0m, Epoch time = \u001b[1;36m91.\u001b[0m731s\n"
            ]
          },
          "metadata": {
            "tags": []
          }
        },
        {
          "output_type": "display_data",
          "data": {
            "text/html": [
              "<pre style=\"white-space:pre;overflow-x:auto;line-height:normal;font-family:Menlo,'DejaVu Sans Mono',consolas,'Courier New',monospace\">Epoch: <span style=\"color: #008080; text-decoration-color: #008080; font-weight: bold\">19</span>, Train loss: <span style=\"color: #008080; text-decoration-color: #008080; font-weight: bold\">0.334</span>, Val loss: <span style=\"color: #008080; text-decoration-color: #008080; font-weight: bold\">0.255</span>, Epoch time = <span style=\"color: #008080; text-decoration-color: #008080; font-weight: bold\">92.</span>045s\n",
              "</pre>\n"
            ],
            "text/plain": [
              "Epoch: \u001b[1;36m19\u001b[0m, Train loss: \u001b[1;36m0.334\u001b[0m, Val loss: \u001b[1;36m0.255\u001b[0m, Epoch time = \u001b[1;36m92.\u001b[0m045s\n"
            ]
          },
          "metadata": {
            "tags": []
          }
        },
        {
          "output_type": "display_data",
          "data": {
            "text/html": [
              "<pre style=\"white-space:pre;overflow-x:auto;line-height:normal;font-family:Menlo,'DejaVu Sans Mono',consolas,'Courier New',monospace\">Epoch: <span style=\"color: #008080; text-decoration-color: #008080; font-weight: bold\">20</span>, Train loss: <span style=\"color: #008080; text-decoration-color: #008080; font-weight: bold\">0.319</span>, Val loss: <span style=\"color: #008080; text-decoration-color: #008080; font-weight: bold\">0.245</span>, Epoch time = <span style=\"color: #008080; text-decoration-color: #008080; font-weight: bold\">92.</span>433s\n",
              "</pre>\n"
            ],
            "text/plain": [
              "Epoch: \u001b[1;36m20\u001b[0m, Train loss: \u001b[1;36m0.319\u001b[0m, Val loss: \u001b[1;36m0.245\u001b[0m, Epoch time = \u001b[1;36m92.\u001b[0m433s\n"
            ]
          },
          "metadata": {
            "tags": []
          }
        },
        {
          "output_type": "display_data",
          "data": {
            "text/html": [
              "<pre style=\"white-space:pre;overflow-x:auto;line-height:normal;font-family:Menlo,'DejaVu Sans Mono',consolas,'Courier New',monospace\">Epoch: <span style=\"color: #008080; text-decoration-color: #008080; font-weight: bold\">21</span>, Train loss: <span style=\"color: #008080; text-decoration-color: #008080; font-weight: bold\">0.305</span>, Val loss: <span style=\"color: #008080; text-decoration-color: #008080; font-weight: bold\">0.229</span>, Epoch time = <span style=\"color: #008080; text-decoration-color: #008080; font-weight: bold\">91.</span>646s\n",
              "</pre>\n"
            ],
            "text/plain": [
              "Epoch: \u001b[1;36m21\u001b[0m, Train loss: \u001b[1;36m0.305\u001b[0m, Val loss: \u001b[1;36m0.229\u001b[0m, Epoch time = \u001b[1;36m91.\u001b[0m646s\n"
            ]
          },
          "metadata": {
            "tags": []
          }
        },
        {
          "output_type": "display_data",
          "data": {
            "text/html": [
              "<pre style=\"white-space:pre;overflow-x:auto;line-height:normal;font-family:Menlo,'DejaVu Sans Mono',consolas,'Courier New',monospace\">Epoch: <span style=\"color: #008080; text-decoration-color: #008080; font-weight: bold\">22</span>, Train loss: <span style=\"color: #008080; text-decoration-color: #008080; font-weight: bold\">0.292</span>, Val loss: <span style=\"color: #008080; text-decoration-color: #008080; font-weight: bold\">0.224</span>, Epoch time = <span style=\"color: #008080; text-decoration-color: #008080; font-weight: bold\">92.</span>517s\n",
              "</pre>\n"
            ],
            "text/plain": [
              "Epoch: \u001b[1;36m22\u001b[0m, Train loss: \u001b[1;36m0.292\u001b[0m, Val loss: \u001b[1;36m0.224\u001b[0m, Epoch time = \u001b[1;36m92.\u001b[0m517s\n"
            ]
          },
          "metadata": {
            "tags": []
          }
        },
        {
          "output_type": "display_data",
          "data": {
            "text/html": [
              "<pre style=\"white-space:pre;overflow-x:auto;line-height:normal;font-family:Menlo,'DejaVu Sans Mono',consolas,'Courier New',monospace\">Epoch: <span style=\"color: #008080; text-decoration-color: #008080; font-weight: bold\">23</span>, Train loss: <span style=\"color: #008080; text-decoration-color: #008080; font-weight: bold\">0.280</span>, Val loss: <span style=\"color: #008080; text-decoration-color: #008080; font-weight: bold\">0.207</span>, Epoch time = <span style=\"color: #008080; text-decoration-color: #008080; font-weight: bold\">91.</span>476s\n",
              "</pre>\n"
            ],
            "text/plain": [
              "Epoch: \u001b[1;36m23\u001b[0m, Train loss: \u001b[1;36m0.280\u001b[0m, Val loss: \u001b[1;36m0.207\u001b[0m, Epoch time = \u001b[1;36m91.\u001b[0m476s\n"
            ]
          },
          "metadata": {
            "tags": []
          }
        },
        {
          "output_type": "display_data",
          "data": {
            "text/html": [
              "<pre style=\"white-space:pre;overflow-x:auto;line-height:normal;font-family:Menlo,'DejaVu Sans Mono',consolas,'Courier New',monospace\">Epoch: <span style=\"color: #008080; text-decoration-color: #008080; font-weight: bold\">24</span>, Train loss: <span style=\"color: #008080; text-decoration-color: #008080; font-weight: bold\">0.267</span>, Val loss: <span style=\"color: #008080; text-decoration-color: #008080; font-weight: bold\">0.198</span>, Epoch time = <span style=\"color: #008080; text-decoration-color: #008080; font-weight: bold\">91.</span>605s\n",
              "</pre>\n"
            ],
            "text/plain": [
              "Epoch: \u001b[1;36m24\u001b[0m, Train loss: \u001b[1;36m0.267\u001b[0m, Val loss: \u001b[1;36m0.198\u001b[0m, Epoch time = \u001b[1;36m91.\u001b[0m605s\n"
            ]
          },
          "metadata": {
            "tags": []
          }
        },
        {
          "output_type": "display_data",
          "data": {
            "text/html": [
              "<pre style=\"white-space:pre;overflow-x:auto;line-height:normal;font-family:Menlo,'DejaVu Sans Mono',consolas,'Courier New',monospace\">Epoch: <span style=\"color: #008080; text-decoration-color: #008080; font-weight: bold\">25</span>, Train loss: <span style=\"color: #008080; text-decoration-color: #008080; font-weight: bold\">0.257</span>, Val loss: <span style=\"color: #008080; text-decoration-color: #008080; font-weight: bold\">0.197</span>, Epoch time = <span style=\"color: #008080; text-decoration-color: #008080; font-weight: bold\">91.</span>464s\n",
              "</pre>\n"
            ],
            "text/plain": [
              "Epoch: \u001b[1;36m25\u001b[0m, Train loss: \u001b[1;36m0.257\u001b[0m, Val loss: \u001b[1;36m0.197\u001b[0m, Epoch time = \u001b[1;36m91.\u001b[0m464s\n"
            ]
          },
          "metadata": {
            "tags": []
          }
        },
        {
          "output_type": "display_data",
          "data": {
            "text/html": [
              "<pre style=\"white-space:pre;overflow-x:auto;line-height:normal;font-family:Menlo,'DejaVu Sans Mono',consolas,'Courier New',monospace\">Epoch: <span style=\"color: #008080; text-decoration-color: #008080; font-weight: bold\">26</span>, Train loss: <span style=\"color: #008080; text-decoration-color: #008080; font-weight: bold\">0.247</span>, Val loss: <span style=\"color: #008080; text-decoration-color: #008080; font-weight: bold\">0.187</span>, Epoch time = <span style=\"color: #008080; text-decoration-color: #008080; font-weight: bold\">92.</span>069s\n",
              "</pre>\n"
            ],
            "text/plain": [
              "Epoch: \u001b[1;36m26\u001b[0m, Train loss: \u001b[1;36m0.247\u001b[0m, Val loss: \u001b[1;36m0.187\u001b[0m, Epoch time = \u001b[1;36m92.\u001b[0m069s\n"
            ]
          },
          "metadata": {
            "tags": []
          }
        },
        {
          "output_type": "display_data",
          "data": {
            "text/html": [
              "<pre style=\"white-space:pre;overflow-x:auto;line-height:normal;font-family:Menlo,'DejaVu Sans Mono',consolas,'Courier New',monospace\">Epoch: <span style=\"color: #008080; text-decoration-color: #008080; font-weight: bold\">27</span>, Train loss: <span style=\"color: #008080; text-decoration-color: #008080; font-weight: bold\">0.237</span>, Val loss: <span style=\"color: #008080; text-decoration-color: #008080; font-weight: bold\">0.179</span>, Epoch time = <span style=\"color: #008080; text-decoration-color: #008080; font-weight: bold\">92.</span>320s\n",
              "</pre>\n"
            ],
            "text/plain": [
              "Epoch: \u001b[1;36m27\u001b[0m, Train loss: \u001b[1;36m0.237\u001b[0m, Val loss: \u001b[1;36m0.179\u001b[0m, Epoch time = \u001b[1;36m92.\u001b[0m320s\n"
            ]
          },
          "metadata": {
            "tags": []
          }
        },
        {
          "output_type": "display_data",
          "data": {
            "text/html": [
              "<pre style=\"white-space:pre;overflow-x:auto;line-height:normal;font-family:Menlo,'DejaVu Sans Mono',consolas,'Courier New',monospace\">Epoch: <span style=\"color: #008080; text-decoration-color: #008080; font-weight: bold\">28</span>, Train loss: <span style=\"color: #008080; text-decoration-color: #008080; font-weight: bold\">0.229</span>, Val loss: <span style=\"color: #008080; text-decoration-color: #008080; font-weight: bold\">0.173</span>, Epoch time = <span style=\"color: #008080; text-decoration-color: #008080; font-weight: bold\">91.</span>745s\n",
              "</pre>\n"
            ],
            "text/plain": [
              "Epoch: \u001b[1;36m28\u001b[0m, Train loss: \u001b[1;36m0.229\u001b[0m, Val loss: \u001b[1;36m0.173\u001b[0m, Epoch time = \u001b[1;36m91.\u001b[0m745s\n"
            ]
          },
          "metadata": {
            "tags": []
          }
        },
        {
          "output_type": "display_data",
          "data": {
            "text/html": [
              "<pre style=\"white-space:pre;overflow-x:auto;line-height:normal;font-family:Menlo,'DejaVu Sans Mono',consolas,'Courier New',monospace\">Epoch: <span style=\"color: #008080; text-decoration-color: #008080; font-weight: bold\">29</span>, Train loss: <span style=\"color: #008080; text-decoration-color: #008080; font-weight: bold\">0.219</span>, Val loss: <span style=\"color: #008080; text-decoration-color: #008080; font-weight: bold\">0.166</span>, Epoch time = <span style=\"color: #008080; text-decoration-color: #008080; font-weight: bold\">91.</span>596s\n",
              "</pre>\n"
            ],
            "text/plain": [
              "Epoch: \u001b[1;36m29\u001b[0m, Train loss: \u001b[1;36m0.219\u001b[0m, Val loss: \u001b[1;36m0.166\u001b[0m, Epoch time = \u001b[1;36m91.\u001b[0m596s\n"
            ]
          },
          "metadata": {
            "tags": []
          }
        },
        {
          "output_type": "display_data",
          "data": {
            "text/html": [
              "<pre style=\"white-space:pre;overflow-x:auto;line-height:normal;font-family:Menlo,'DejaVu Sans Mono',consolas,'Courier New',monospace\">Epoch: <span style=\"color: #008080; text-decoration-color: #008080; font-weight: bold\">30</span>, Train loss: <span style=\"color: #008080; text-decoration-color: #008080; font-weight: bold\">0.212</span>, Val loss: <span style=\"color: #008080; text-decoration-color: #008080; font-weight: bold\">0.164</span>, Epoch time = <span style=\"color: #008080; text-decoration-color: #008080; font-weight: bold\">91.</span>945s\n",
              "</pre>\n"
            ],
            "text/plain": [
              "Epoch: \u001b[1;36m30\u001b[0m, Train loss: \u001b[1;36m0.212\u001b[0m, Val loss: \u001b[1;36m0.164\u001b[0m, Epoch time = \u001b[1;36m91.\u001b[0m945s\n"
            ]
          },
          "metadata": {
            "tags": []
          }
        },
        {
          "output_type": "display_data",
          "data": {
            "text/html": [
              "<pre style=\"white-space:pre;overflow-x:auto;line-height:normal;font-family:Menlo,'DejaVu Sans Mono',consolas,'Courier New',monospace\">Epoch: <span style=\"color: #008080; text-decoration-color: #008080; font-weight: bold\">31</span>, Train loss: <span style=\"color: #008080; text-decoration-color: #008080; font-weight: bold\">0.204</span>, Val loss: <span style=\"color: #008080; text-decoration-color: #008080; font-weight: bold\">0.155</span>, Epoch time = <span style=\"color: #008080; text-decoration-color: #008080; font-weight: bold\">91.</span>797s\n",
              "</pre>\n"
            ],
            "text/plain": [
              "Epoch: \u001b[1;36m31\u001b[0m, Train loss: \u001b[1;36m0.204\u001b[0m, Val loss: \u001b[1;36m0.155\u001b[0m, Epoch time = \u001b[1;36m91.\u001b[0m797s\n"
            ]
          },
          "metadata": {
            "tags": []
          }
        },
        {
          "output_type": "display_data",
          "data": {
            "text/html": [
              "<pre style=\"white-space:pre;overflow-x:auto;line-height:normal;font-family:Menlo,'DejaVu Sans Mono',consolas,'Courier New',monospace\">Epoch: <span style=\"color: #008080; text-decoration-color: #008080; font-weight: bold\">32</span>, Train loss: <span style=\"color: #008080; text-decoration-color: #008080; font-weight: bold\">0.197</span>, Val loss: <span style=\"color: #008080; text-decoration-color: #008080; font-weight: bold\">0.153</span>, Epoch time = <span style=\"color: #008080; text-decoration-color: #008080; font-weight: bold\">91.</span>979s\n",
              "</pre>\n"
            ],
            "text/plain": [
              "Epoch: \u001b[1;36m32\u001b[0m, Train loss: \u001b[1;36m0.197\u001b[0m, Val loss: \u001b[1;36m0.153\u001b[0m, Epoch time = \u001b[1;36m91.\u001b[0m979s\n"
            ]
          },
          "metadata": {
            "tags": []
          }
        },
        {
          "output_type": "display_data",
          "data": {
            "text/html": [
              "<pre style=\"white-space:pre;overflow-x:auto;line-height:normal;font-family:Menlo,'DejaVu Sans Mono',consolas,'Courier New',monospace\">Epoch: <span style=\"color: #008080; text-decoration-color: #008080; font-weight: bold\">33</span>, Train loss: <span style=\"color: #008080; text-decoration-color: #008080; font-weight: bold\">0.191</span>, Val loss: <span style=\"color: #008080; text-decoration-color: #008080; font-weight: bold\">0.147</span>, Epoch time = <span style=\"color: #008080; text-decoration-color: #008080; font-weight: bold\">92.</span>030s\n",
              "</pre>\n"
            ],
            "text/plain": [
              "Epoch: \u001b[1;36m33\u001b[0m, Train loss: \u001b[1;36m0.191\u001b[0m, Val loss: \u001b[1;36m0.147\u001b[0m, Epoch time = \u001b[1;36m92.\u001b[0m030s\n"
            ]
          },
          "metadata": {
            "tags": []
          }
        },
        {
          "output_type": "display_data",
          "data": {
            "text/html": [
              "<pre style=\"white-space:pre;overflow-x:auto;line-height:normal;font-family:Menlo,'DejaVu Sans Mono',consolas,'Courier New',monospace\">Epoch: <span style=\"color: #008080; text-decoration-color: #008080; font-weight: bold\">34</span>, Train loss: <span style=\"color: #008080; text-decoration-color: #008080; font-weight: bold\">0.185</span>, Val loss: <span style=\"color: #008080; text-decoration-color: #008080; font-weight: bold\">0.143</span>, Epoch time = <span style=\"color: #008080; text-decoration-color: #008080; font-weight: bold\">91.</span>730s\n",
              "</pre>\n"
            ],
            "text/plain": [
              "Epoch: \u001b[1;36m34\u001b[0m, Train loss: \u001b[1;36m0.185\u001b[0m, Val loss: \u001b[1;36m0.143\u001b[0m, Epoch time = \u001b[1;36m91.\u001b[0m730s\n"
            ]
          },
          "metadata": {
            "tags": []
          }
        },
        {
          "output_type": "display_data",
          "data": {
            "text/html": [
              "<pre style=\"white-space:pre;overflow-x:auto;line-height:normal;font-family:Menlo,'DejaVu Sans Mono',consolas,'Courier New',monospace\">Epoch: <span style=\"color: #008080; text-decoration-color: #008080; font-weight: bold\">35</span>, Train loss: <span style=\"color: #008080; text-decoration-color: #008080; font-weight: bold\">0.178</span>, Val loss: <span style=\"color: #008080; text-decoration-color: #008080; font-weight: bold\">0.142</span>, Epoch time = <span style=\"color: #008080; text-decoration-color: #008080; font-weight: bold\">92.</span>135s\n",
              "</pre>\n"
            ],
            "text/plain": [
              "Epoch: \u001b[1;36m35\u001b[0m, Train loss: \u001b[1;36m0.178\u001b[0m, Val loss: \u001b[1;36m0.142\u001b[0m, Epoch time = \u001b[1;36m92.\u001b[0m135s\n"
            ]
          },
          "metadata": {
            "tags": []
          }
        },
        {
          "output_type": "display_data",
          "data": {
            "text/html": [
              "<pre style=\"white-space:pre;overflow-x:auto;line-height:normal;font-family:Menlo,'DejaVu Sans Mono',consolas,'Courier New',monospace\">Epoch: <span style=\"color: #008080; text-decoration-color: #008080; font-weight: bold\">36</span>, Train loss: <span style=\"color: #008080; text-decoration-color: #008080; font-weight: bold\">0.174</span>, Val loss: <span style=\"color: #008080; text-decoration-color: #008080; font-weight: bold\">0.140</span>, Epoch time = <span style=\"color: #008080; text-decoration-color: #008080; font-weight: bold\">92.</span>070s\n",
              "</pre>\n"
            ],
            "text/plain": [
              "Epoch: \u001b[1;36m36\u001b[0m, Train loss: \u001b[1;36m0.174\u001b[0m, Val loss: \u001b[1;36m0.140\u001b[0m, Epoch time = \u001b[1;36m92.\u001b[0m070s\n"
            ]
          },
          "metadata": {
            "tags": []
          }
        },
        {
          "output_type": "display_data",
          "data": {
            "text/html": [
              "<pre style=\"white-space:pre;overflow-x:auto;line-height:normal;font-family:Menlo,'DejaVu Sans Mono',consolas,'Courier New',monospace\">Epoch: <span style=\"color: #008080; text-decoration-color: #008080; font-weight: bold\">37</span>, Train loss: <span style=\"color: #008080; text-decoration-color: #008080; font-weight: bold\">0.168</span>, Val loss: <span style=\"color: #008080; text-decoration-color: #008080; font-weight: bold\">0.137</span>, Epoch time = <span style=\"color: #008080; text-decoration-color: #008080; font-weight: bold\">92.</span>265s\n",
              "</pre>\n"
            ],
            "text/plain": [
              "Epoch: \u001b[1;36m37\u001b[0m, Train loss: \u001b[1;36m0.168\u001b[0m, Val loss: \u001b[1;36m0.137\u001b[0m, Epoch time = \u001b[1;36m92.\u001b[0m265s\n"
            ]
          },
          "metadata": {
            "tags": []
          }
        },
        {
          "output_type": "display_data",
          "data": {
            "text/html": [
              "<pre style=\"white-space:pre;overflow-x:auto;line-height:normal;font-family:Menlo,'DejaVu Sans Mono',consolas,'Courier New',monospace\">Epoch: <span style=\"color: #008080; text-decoration-color: #008080; font-weight: bold\">38</span>, Train loss: <span style=\"color: #008080; text-decoration-color: #008080; font-weight: bold\">0.163</span>, Val loss: <span style=\"color: #008080; text-decoration-color: #008080; font-weight: bold\">0.134</span>, Epoch time = <span style=\"color: #008080; text-decoration-color: #008080; font-weight: bold\">92.</span>761s\n",
              "</pre>\n"
            ],
            "text/plain": [
              "Epoch: \u001b[1;36m38\u001b[0m, Train loss: \u001b[1;36m0.163\u001b[0m, Val loss: \u001b[1;36m0.134\u001b[0m, Epoch time = \u001b[1;36m92.\u001b[0m761s\n"
            ]
          },
          "metadata": {
            "tags": []
          }
        },
        {
          "output_type": "display_data",
          "data": {
            "text/html": [
              "<pre style=\"white-space:pre;overflow-x:auto;line-height:normal;font-family:Menlo,'DejaVu Sans Mono',consolas,'Courier New',monospace\">Epoch: <span style=\"color: #008080; text-decoration-color: #008080; font-weight: bold\">39</span>, Train loss: <span style=\"color: #008080; text-decoration-color: #008080; font-weight: bold\">0.159</span>, Val loss: <span style=\"color: #008080; text-decoration-color: #008080; font-weight: bold\">0.128</span>, Epoch time = <span style=\"color: #008080; text-decoration-color: #008080; font-weight: bold\">92.</span>655s\n",
              "</pre>\n"
            ],
            "text/plain": [
              "Epoch: \u001b[1;36m39\u001b[0m, Train loss: \u001b[1;36m0.159\u001b[0m, Val loss: \u001b[1;36m0.128\u001b[0m, Epoch time = \u001b[1;36m92.\u001b[0m655s\n"
            ]
          },
          "metadata": {
            "tags": []
          }
        },
        {
          "output_type": "display_data",
          "data": {
            "text/html": [
              "<pre style=\"white-space:pre;overflow-x:auto;line-height:normal;font-family:Menlo,'DejaVu Sans Mono',consolas,'Courier New',monospace\">Epoch: <span style=\"color: #008080; text-decoration-color: #008080; font-weight: bold\">40</span>, Train loss: <span style=\"color: #008080; text-decoration-color: #008080; font-weight: bold\">0.155</span>, Val loss: <span style=\"color: #008080; text-decoration-color: #008080; font-weight: bold\">0.127</span>, Epoch time = <span style=\"color: #008080; text-decoration-color: #008080; font-weight: bold\">92.</span>001s\n",
              "</pre>\n"
            ],
            "text/plain": [
              "Epoch: \u001b[1;36m40\u001b[0m, Train loss: \u001b[1;36m0.155\u001b[0m, Val loss: \u001b[1;36m0.127\u001b[0m, Epoch time = \u001b[1;36m92.\u001b[0m001s\n"
            ]
          },
          "metadata": {
            "tags": []
          }
        },
        {
          "output_type": "display_data",
          "data": {
            "text/html": [
              "<pre style=\"white-space:pre;overflow-x:auto;line-height:normal;font-family:Menlo,'DejaVu Sans Mono',consolas,'Courier New',monospace\">Epoch: <span style=\"color: #008080; text-decoration-color: #008080; font-weight: bold\">41</span>, Train loss: <span style=\"color: #008080; text-decoration-color: #008080; font-weight: bold\">0.151</span>, Val loss: <span style=\"color: #008080; text-decoration-color: #008080; font-weight: bold\">0.126</span>, Epoch time = <span style=\"color: #008080; text-decoration-color: #008080; font-weight: bold\">91.</span>732s\n",
              "</pre>\n"
            ],
            "text/plain": [
              "Epoch: \u001b[1;36m41\u001b[0m, Train loss: \u001b[1;36m0.151\u001b[0m, Val loss: \u001b[1;36m0.126\u001b[0m, Epoch time = \u001b[1;36m91.\u001b[0m732s\n"
            ]
          },
          "metadata": {
            "tags": []
          }
        },
        {
          "output_type": "display_data",
          "data": {
            "text/html": [
              "<pre style=\"white-space:pre;overflow-x:auto;line-height:normal;font-family:Menlo,'DejaVu Sans Mono',consolas,'Courier New',monospace\">Epoch: <span style=\"color: #008080; text-decoration-color: #008080; font-weight: bold\">42</span>, Train loss: <span style=\"color: #008080; text-decoration-color: #008080; font-weight: bold\">0.147</span>, Val loss: <span style=\"color: #008080; text-decoration-color: #008080; font-weight: bold\">0.125</span>, Epoch time = <span style=\"color: #008080; text-decoration-color: #008080; font-weight: bold\">92.</span>876s\n",
              "</pre>\n"
            ],
            "text/plain": [
              "Epoch: \u001b[1;36m42\u001b[0m, Train loss: \u001b[1;36m0.147\u001b[0m, Val loss: \u001b[1;36m0.125\u001b[0m, Epoch time = \u001b[1;36m92.\u001b[0m876s\n"
            ]
          },
          "metadata": {
            "tags": []
          }
        },
        {
          "output_type": "display_data",
          "data": {
            "text/html": [
              "<pre style=\"white-space:pre;overflow-x:auto;line-height:normal;font-family:Menlo,'DejaVu Sans Mono',consolas,'Courier New',monospace\">Epoch: <span style=\"color: #008080; text-decoration-color: #008080; font-weight: bold\">43</span>, Train loss: <span style=\"color: #008080; text-decoration-color: #008080; font-weight: bold\">0.143</span>, Val loss: <span style=\"color: #008080; text-decoration-color: #008080; font-weight: bold\">0.121</span>, Epoch time = <span style=\"color: #008080; text-decoration-color: #008080; font-weight: bold\">91.</span>848s\n",
              "</pre>\n"
            ],
            "text/plain": [
              "Epoch: \u001b[1;36m43\u001b[0m, Train loss: \u001b[1;36m0.143\u001b[0m, Val loss: \u001b[1;36m0.121\u001b[0m, Epoch time = \u001b[1;36m91.\u001b[0m848s\n"
            ]
          },
          "metadata": {
            "tags": []
          }
        },
        {
          "output_type": "display_data",
          "data": {
            "text/html": [
              "<pre style=\"white-space:pre;overflow-x:auto;line-height:normal;font-family:Menlo,'DejaVu Sans Mono',consolas,'Courier New',monospace\">Epoch: <span style=\"color: #008080; text-decoration-color: #008080; font-weight: bold\">44</span>, Train loss: <span style=\"color: #008080; text-decoration-color: #008080; font-weight: bold\">0.140</span>, Val loss: <span style=\"color: #008080; text-decoration-color: #008080; font-weight: bold\">0.121</span>, Epoch time = <span style=\"color: #008080; text-decoration-color: #008080; font-weight: bold\">92.</span>038s\n",
              "</pre>\n"
            ],
            "text/plain": [
              "Epoch: \u001b[1;36m44\u001b[0m, Train loss: \u001b[1;36m0.140\u001b[0m, Val loss: \u001b[1;36m0.121\u001b[0m, Epoch time = \u001b[1;36m92.\u001b[0m038s\n"
            ]
          },
          "metadata": {
            "tags": []
          }
        },
        {
          "output_type": "display_data",
          "data": {
            "text/html": [
              "<pre style=\"white-space:pre;overflow-x:auto;line-height:normal;font-family:Menlo,'DejaVu Sans Mono',consolas,'Courier New',monospace\">Epoch: <span style=\"color: #008080; text-decoration-color: #008080; font-weight: bold\">45</span>, Train loss: <span style=\"color: #008080; text-decoration-color: #008080; font-weight: bold\">0.136</span>, Val loss: <span style=\"color: #008080; text-decoration-color: #008080; font-weight: bold\">0.121</span>, Epoch time = <span style=\"color: #008080; text-decoration-color: #008080; font-weight: bold\">91.</span>551s\n",
              "</pre>\n"
            ],
            "text/plain": [
              "Epoch: \u001b[1;36m45\u001b[0m, Train loss: \u001b[1;36m0.136\u001b[0m, Val loss: \u001b[1;36m0.121\u001b[0m, Epoch time = \u001b[1;36m91.\u001b[0m551s\n"
            ]
          },
          "metadata": {
            "tags": []
          }
        },
        {
          "output_type": "display_data",
          "data": {
            "text/html": [
              "<pre style=\"white-space:pre;overflow-x:auto;line-height:normal;font-family:Menlo,'DejaVu Sans Mono',consolas,'Courier New',monospace\">Epoch: <span style=\"color: #008080; text-decoration-color: #008080; font-weight: bold\">46</span>, Train loss: <span style=\"color: #008080; text-decoration-color: #008080; font-weight: bold\">0.133</span>, Val loss: <span style=\"color: #008080; text-decoration-color: #008080; font-weight: bold\">0.120</span>, Epoch time = <span style=\"color: #008080; text-decoration-color: #008080; font-weight: bold\">92.</span>120s\n",
              "</pre>\n"
            ],
            "text/plain": [
              "Epoch: \u001b[1;36m46\u001b[0m, Train loss: \u001b[1;36m0.133\u001b[0m, Val loss: \u001b[1;36m0.120\u001b[0m, Epoch time = \u001b[1;36m92.\u001b[0m120s\n"
            ]
          },
          "metadata": {
            "tags": []
          }
        },
        {
          "output_type": "display_data",
          "data": {
            "text/html": [
              "<pre style=\"white-space:pre;overflow-x:auto;line-height:normal;font-family:Menlo,'DejaVu Sans Mono',consolas,'Courier New',monospace\">Epoch: <span style=\"color: #008080; text-decoration-color: #008080; font-weight: bold\">47</span>, Train loss: <span style=\"color: #008080; text-decoration-color: #008080; font-weight: bold\">0.130</span>, Val loss: <span style=\"color: #008080; text-decoration-color: #008080; font-weight: bold\">0.117</span>, Epoch time = <span style=\"color: #008080; text-decoration-color: #008080; font-weight: bold\">91.</span>639s\n",
              "</pre>\n"
            ],
            "text/plain": [
              "Epoch: \u001b[1;36m47\u001b[0m, Train loss: \u001b[1;36m0.130\u001b[0m, Val loss: \u001b[1;36m0.117\u001b[0m, Epoch time = \u001b[1;36m91.\u001b[0m639s\n"
            ]
          },
          "metadata": {
            "tags": []
          }
        },
        {
          "output_type": "display_data",
          "data": {
            "text/html": [
              "<pre style=\"white-space:pre;overflow-x:auto;line-height:normal;font-family:Menlo,'DejaVu Sans Mono',consolas,'Courier New',monospace\">Epoch: <span style=\"color: #008080; text-decoration-color: #008080; font-weight: bold\">48</span>, Train loss: <span style=\"color: #008080; text-decoration-color: #008080; font-weight: bold\">0.127</span>, Val loss: <span style=\"color: #008080; text-decoration-color: #008080; font-weight: bold\">0.114</span>, Epoch time = <span style=\"color: #008080; text-decoration-color: #008080; font-weight: bold\">92.</span>147s\n",
              "</pre>\n"
            ],
            "text/plain": [
              "Epoch: \u001b[1;36m48\u001b[0m, Train loss: \u001b[1;36m0.127\u001b[0m, Val loss: \u001b[1;36m0.114\u001b[0m, Epoch time = \u001b[1;36m92.\u001b[0m147s\n"
            ]
          },
          "metadata": {
            "tags": []
          }
        },
        {
          "output_type": "display_data",
          "data": {
            "text/html": [
              "<pre style=\"white-space:pre;overflow-x:auto;line-height:normal;font-family:Menlo,'DejaVu Sans Mono',consolas,'Courier New',monospace\">Epoch: <span style=\"color: #008080; text-decoration-color: #008080; font-weight: bold\">49</span>, Train loss: <span style=\"color: #008080; text-decoration-color: #008080; font-weight: bold\">0.124</span>, Val loss: <span style=\"color: #008080; text-decoration-color: #008080; font-weight: bold\">0.114</span>, Epoch time = <span style=\"color: #008080; text-decoration-color: #008080; font-weight: bold\">92.</span>281s\n",
              "</pre>\n"
            ],
            "text/plain": [
              "Epoch: \u001b[1;36m49\u001b[0m, Train loss: \u001b[1;36m0.124\u001b[0m, Val loss: \u001b[1;36m0.114\u001b[0m, Epoch time = \u001b[1;36m92.\u001b[0m281s\n"
            ]
          },
          "metadata": {
            "tags": []
          }
        },
        {
          "output_type": "display_data",
          "data": {
            "text/html": [
              "<pre style=\"white-space:pre;overflow-x:auto;line-height:normal;font-family:Menlo,'DejaVu Sans Mono',consolas,'Courier New',monospace\">Epoch: <span style=\"color: #008080; text-decoration-color: #008080; font-weight: bold\">50</span>, Train loss: <span style=\"color: #008080; text-decoration-color: #008080; font-weight: bold\">0.121</span>, Val loss: <span style=\"color: #008080; text-decoration-color: #008080; font-weight: bold\">0.114</span>, Epoch time = <span style=\"color: #008080; text-decoration-color: #008080; font-weight: bold\">91.</span>869s\n",
              "</pre>\n"
            ],
            "text/plain": [
              "Epoch: \u001b[1;36m50\u001b[0m, Train loss: \u001b[1;36m0.121\u001b[0m, Val loss: \u001b[1;36m0.114\u001b[0m, Epoch time = \u001b[1;36m91.\u001b[0m869s\n"
            ]
          },
          "metadata": {
            "tags": []
          }
        },
        {
          "output_type": "display_data",
          "data": {
            "text/html": [
              "<pre style=\"white-space:pre;overflow-x:auto;line-height:normal;font-family:Menlo,'DejaVu Sans Mono',consolas,'Courier New',monospace\">Epoch: <span style=\"color: #008080; text-decoration-color: #008080; font-weight: bold\">51</span>, Train loss: <span style=\"color: #008080; text-decoration-color: #008080; font-weight: bold\">0.119</span>, Val loss: <span style=\"color: #008080; text-decoration-color: #008080; font-weight: bold\">0.112</span>, Epoch time = <span style=\"color: #008080; text-decoration-color: #008080; font-weight: bold\">91.</span>352s\n",
              "</pre>\n"
            ],
            "text/plain": [
              "Epoch: \u001b[1;36m51\u001b[0m, Train loss: \u001b[1;36m0.119\u001b[0m, Val loss: \u001b[1;36m0.112\u001b[0m, Epoch time = \u001b[1;36m91.\u001b[0m352s\n"
            ]
          },
          "metadata": {
            "tags": []
          }
        },
        {
          "output_type": "display_data",
          "data": {
            "text/html": [
              "<pre style=\"white-space:pre;overflow-x:auto;line-height:normal;font-family:Menlo,'DejaVu Sans Mono',consolas,'Courier New',monospace\">Epoch: <span style=\"color: #008080; text-decoration-color: #008080; font-weight: bold\">52</span>, Train loss: <span style=\"color: #008080; text-decoration-color: #008080; font-weight: bold\">0.116</span>, Val loss: <span style=\"color: #008080; text-decoration-color: #008080; font-weight: bold\">0.108</span>, Epoch time = <span style=\"color: #008080; text-decoration-color: #008080; font-weight: bold\">91.</span>958s\n",
              "</pre>\n"
            ],
            "text/plain": [
              "Epoch: \u001b[1;36m52\u001b[0m, Train loss: \u001b[1;36m0.116\u001b[0m, Val loss: \u001b[1;36m0.108\u001b[0m, Epoch time = \u001b[1;36m91.\u001b[0m958s\n"
            ]
          },
          "metadata": {
            "tags": []
          }
        },
        {
          "output_type": "display_data",
          "data": {
            "text/html": [
              "<pre style=\"white-space:pre;overflow-x:auto;line-height:normal;font-family:Menlo,'DejaVu Sans Mono',consolas,'Courier New',monospace\">Epoch: <span style=\"color: #008080; text-decoration-color: #008080; font-weight: bold\">53</span>, Train loss: <span style=\"color: #008080; text-decoration-color: #008080; font-weight: bold\">0.114</span>, Val loss: <span style=\"color: #008080; text-decoration-color: #008080; font-weight: bold\">0.107</span>, Epoch time = <span style=\"color: #008080; text-decoration-color: #008080; font-weight: bold\">92.</span>089s\n",
              "</pre>\n"
            ],
            "text/plain": [
              "Epoch: \u001b[1;36m53\u001b[0m, Train loss: \u001b[1;36m0.114\u001b[0m, Val loss: \u001b[1;36m0.107\u001b[0m, Epoch time = \u001b[1;36m92.\u001b[0m089s\n"
            ]
          },
          "metadata": {
            "tags": []
          }
        },
        {
          "output_type": "display_data",
          "data": {
            "text/html": [
              "<pre style=\"white-space:pre;overflow-x:auto;line-height:normal;font-family:Menlo,'DejaVu Sans Mono',consolas,'Courier New',monospace\">Epoch: <span style=\"color: #008080; text-decoration-color: #008080; font-weight: bold\">54</span>, Train loss: <span style=\"color: #008080; text-decoration-color: #008080; font-weight: bold\">0.111</span>, Val loss: <span style=\"color: #008080; text-decoration-color: #008080; font-weight: bold\">0.109</span>, Epoch time = <span style=\"color: #008080; text-decoration-color: #008080; font-weight: bold\">92.</span>431s\n",
              "</pre>\n"
            ],
            "text/plain": [
              "Epoch: \u001b[1;36m54\u001b[0m, Train loss: \u001b[1;36m0.111\u001b[0m, Val loss: \u001b[1;36m0.109\u001b[0m, Epoch time = \u001b[1;36m92.\u001b[0m431s\n"
            ]
          },
          "metadata": {
            "tags": []
          }
        },
        {
          "output_type": "display_data",
          "data": {
            "text/html": [
              "<pre style=\"white-space:pre;overflow-x:auto;line-height:normal;font-family:Menlo,'DejaVu Sans Mono',consolas,'Courier New',monospace\">Epoch: <span style=\"color: #008080; text-decoration-color: #008080; font-weight: bold\">55</span>, Train loss: <span style=\"color: #008080; text-decoration-color: #008080; font-weight: bold\">0.110</span>, Val loss: <span style=\"color: #008080; text-decoration-color: #008080; font-weight: bold\">0.107</span>, Epoch time = <span style=\"color: #008080; text-decoration-color: #008080; font-weight: bold\">92.</span>083s\n",
              "</pre>\n"
            ],
            "text/plain": [
              "Epoch: \u001b[1;36m55\u001b[0m, Train loss: \u001b[1;36m0.110\u001b[0m, Val loss: \u001b[1;36m0.107\u001b[0m, Epoch time = \u001b[1;36m92.\u001b[0m083s\n"
            ]
          },
          "metadata": {
            "tags": []
          }
        },
        {
          "output_type": "display_data",
          "data": {
            "text/html": [
              "<pre style=\"white-space:pre;overflow-x:auto;line-height:normal;font-family:Menlo,'DejaVu Sans Mono',consolas,'Courier New',monospace\">Epoch: <span style=\"color: #008080; text-decoration-color: #008080; font-weight: bold\">56</span>, Train loss: <span style=\"color: #008080; text-decoration-color: #008080; font-weight: bold\">0.107</span>, Val loss: <span style=\"color: #008080; text-decoration-color: #008080; font-weight: bold\">0.105</span>, Epoch time = <span style=\"color: #008080; text-decoration-color: #008080; font-weight: bold\">91.</span>788s\n",
              "</pre>\n"
            ],
            "text/plain": [
              "Epoch: \u001b[1;36m56\u001b[0m, Train loss: \u001b[1;36m0.107\u001b[0m, Val loss: \u001b[1;36m0.105\u001b[0m, Epoch time = \u001b[1;36m91.\u001b[0m788s\n"
            ]
          },
          "metadata": {
            "tags": []
          }
        },
        {
          "output_type": "display_data",
          "data": {
            "text/html": [
              "<pre style=\"white-space:pre;overflow-x:auto;line-height:normal;font-family:Menlo,'DejaVu Sans Mono',consolas,'Courier New',monospace\">Epoch: <span style=\"color: #008080; text-decoration-color: #008080; font-weight: bold\">57</span>, Train loss: <span style=\"color: #008080; text-decoration-color: #008080; font-weight: bold\">0.105</span>, Val loss: <span style=\"color: #008080; text-decoration-color: #008080; font-weight: bold\">0.108</span>, Epoch time = <span style=\"color: #008080; text-decoration-color: #008080; font-weight: bold\">92.</span>099s\n",
              "</pre>\n"
            ],
            "text/plain": [
              "Epoch: \u001b[1;36m57\u001b[0m, Train loss: \u001b[1;36m0.105\u001b[0m, Val loss: \u001b[1;36m0.108\u001b[0m, Epoch time = \u001b[1;36m92.\u001b[0m099s\n"
            ]
          },
          "metadata": {
            "tags": []
          }
        },
        {
          "output_type": "display_data",
          "data": {
            "text/html": [
              "<pre style=\"white-space:pre;overflow-x:auto;line-height:normal;font-family:Menlo,'DejaVu Sans Mono',consolas,'Courier New',monospace\">Epoch: <span style=\"color: #008080; text-decoration-color: #008080; font-weight: bold\">58</span>, Train loss: <span style=\"color: #008080; text-decoration-color: #008080; font-weight: bold\">0.103</span>, Val loss: <span style=\"color: #008080; text-decoration-color: #008080; font-weight: bold\">0.105</span>, Epoch time = <span style=\"color: #008080; text-decoration-color: #008080; font-weight: bold\">91.</span>936s\n",
              "</pre>\n"
            ],
            "text/plain": [
              "Epoch: \u001b[1;36m58\u001b[0m, Train loss: \u001b[1;36m0.103\u001b[0m, Val loss: \u001b[1;36m0.105\u001b[0m, Epoch time = \u001b[1;36m91.\u001b[0m936s\n"
            ]
          },
          "metadata": {
            "tags": []
          }
        },
        {
          "output_type": "display_data",
          "data": {
            "text/html": [
              "<pre style=\"white-space:pre;overflow-x:auto;line-height:normal;font-family:Menlo,'DejaVu Sans Mono',consolas,'Courier New',monospace\">Epoch: <span style=\"color: #008080; text-decoration-color: #008080; font-weight: bold\">59</span>, Train loss: <span style=\"color: #008080; text-decoration-color: #008080; font-weight: bold\">0.101</span>, Val loss: <span style=\"color: #008080; text-decoration-color: #008080; font-weight: bold\">0.109</span>, Epoch time = <span style=\"color: #008080; text-decoration-color: #008080; font-weight: bold\">91.</span>591s\n",
              "</pre>\n"
            ],
            "text/plain": [
              "Epoch: \u001b[1;36m59\u001b[0m, Train loss: \u001b[1;36m0.101\u001b[0m, Val loss: \u001b[1;36m0.109\u001b[0m, Epoch time = \u001b[1;36m91.\u001b[0m591s\n"
            ]
          },
          "metadata": {
            "tags": []
          }
        },
        {
          "output_type": "display_data",
          "data": {
            "text/html": [
              "<pre style=\"white-space:pre;overflow-x:auto;line-height:normal;font-family:Menlo,'DejaVu Sans Mono',consolas,'Courier New',monospace\">Epoch: <span style=\"color: #008080; text-decoration-color: #008080; font-weight: bold\">60</span>, Train loss: <span style=\"color: #008080; text-decoration-color: #008080; font-weight: bold\">0.099</span>, Val loss: <span style=\"color: #008080; text-decoration-color: #008080; font-weight: bold\">0.106</span>, Epoch time = <span style=\"color: #008080; text-decoration-color: #008080; font-weight: bold\">92.</span>158s\n",
              "</pre>\n"
            ],
            "text/plain": [
              "Epoch: \u001b[1;36m60\u001b[0m, Train loss: \u001b[1;36m0.099\u001b[0m, Val loss: \u001b[1;36m0.106\u001b[0m, Epoch time = \u001b[1;36m92.\u001b[0m158s\n"
            ]
          },
          "metadata": {
            "tags": []
          }
        },
        {
          "output_type": "display_data",
          "data": {
            "text/html": [
              "<pre style=\"white-space:pre;overflow-x:auto;line-height:normal;font-family:Menlo,'DejaVu Sans Mono',consolas,'Courier New',monospace\">Epoch: <span style=\"color: #008080; text-decoration-color: #008080; font-weight: bold\">61</span>, Train loss: <span style=\"color: #008080; text-decoration-color: #008080; font-weight: bold\">0.097</span>, Val loss: <span style=\"color: #008080; text-decoration-color: #008080; font-weight: bold\">0.106</span>, Epoch time = <span style=\"color: #008080; text-decoration-color: #008080; font-weight: bold\">92.</span>195s\n",
              "</pre>\n"
            ],
            "text/plain": [
              "Epoch: \u001b[1;36m61\u001b[0m, Train loss: \u001b[1;36m0.097\u001b[0m, Val loss: \u001b[1;36m0.106\u001b[0m, Epoch time = \u001b[1;36m92.\u001b[0m195s\n"
            ]
          },
          "metadata": {
            "tags": []
          }
        },
        {
          "output_type": "display_data",
          "data": {
            "text/html": [
              "<pre style=\"white-space:pre;overflow-x:auto;line-height:normal;font-family:Menlo,'DejaVu Sans Mono',consolas,'Courier New',monospace\">Epoch: <span style=\"color: #008080; text-decoration-color: #008080; font-weight: bold\">62</span>, Train loss: <span style=\"color: #008080; text-decoration-color: #008080; font-weight: bold\">0.096</span>, Val loss: <span style=\"color: #008080; text-decoration-color: #008080; font-weight: bold\">0.104</span>, Epoch time = <span style=\"color: #008080; text-decoration-color: #008080; font-weight: bold\">91.</span>404s\n",
              "</pre>\n"
            ],
            "text/plain": [
              "Epoch: \u001b[1;36m62\u001b[0m, Train loss: \u001b[1;36m0.096\u001b[0m, Val loss: \u001b[1;36m0.104\u001b[0m, Epoch time = \u001b[1;36m91.\u001b[0m404s\n"
            ]
          },
          "metadata": {
            "tags": []
          }
        },
        {
          "output_type": "display_data",
          "data": {
            "text/html": [
              "<pre style=\"white-space:pre;overflow-x:auto;line-height:normal;font-family:Menlo,'DejaVu Sans Mono',consolas,'Courier New',monospace\">Epoch: <span style=\"color: #008080; text-decoration-color: #008080; font-weight: bold\">63</span>, Train loss: <span style=\"color: #008080; text-decoration-color: #008080; font-weight: bold\">0.094</span>, Val loss: <span style=\"color: #008080; text-decoration-color: #008080; font-weight: bold\">0.102</span>, Epoch time = <span style=\"color: #008080; text-decoration-color: #008080; font-weight: bold\">92.</span>321s\n",
              "</pre>\n"
            ],
            "text/plain": [
              "Epoch: \u001b[1;36m63\u001b[0m, Train loss: \u001b[1;36m0.094\u001b[0m, Val loss: \u001b[1;36m0.102\u001b[0m, Epoch time = \u001b[1;36m92.\u001b[0m321s\n"
            ]
          },
          "metadata": {
            "tags": []
          }
        },
        {
          "output_type": "display_data",
          "data": {
            "text/html": [
              "<pre style=\"white-space:pre;overflow-x:auto;line-height:normal;font-family:Menlo,'DejaVu Sans Mono',consolas,'Courier New',monospace\">Epoch: <span style=\"color: #008080; text-decoration-color: #008080; font-weight: bold\">64</span>, Train loss: <span style=\"color: #008080; text-decoration-color: #008080; font-weight: bold\">0.092</span>, Val loss: <span style=\"color: #008080; text-decoration-color: #008080; font-weight: bold\">0.103</span>, Epoch time = <span style=\"color: #008080; text-decoration-color: #008080; font-weight: bold\">92.</span>415s\n",
              "</pre>\n"
            ],
            "text/plain": [
              "Epoch: \u001b[1;36m64\u001b[0m, Train loss: \u001b[1;36m0.092\u001b[0m, Val loss: \u001b[1;36m0.103\u001b[0m, Epoch time = \u001b[1;36m92.\u001b[0m415s\n"
            ]
          },
          "metadata": {
            "tags": []
          }
        },
        {
          "output_type": "display_data",
          "data": {
            "text/html": [
              "<pre style=\"white-space:pre;overflow-x:auto;line-height:normal;font-family:Menlo,'DejaVu Sans Mono',consolas,'Courier New',monospace\">Epoch: <span style=\"color: #008080; text-decoration-color: #008080; font-weight: bold\">65</span>, Train loss: <span style=\"color: #008080; text-decoration-color: #008080; font-weight: bold\">0.091</span>, Val loss: <span style=\"color: #008080; text-decoration-color: #008080; font-weight: bold\">0.105</span>, Epoch time = <span style=\"color: #008080; text-decoration-color: #008080; font-weight: bold\">91.</span>520s\n",
              "</pre>\n"
            ],
            "text/plain": [
              "Epoch: \u001b[1;36m65\u001b[0m, Train loss: \u001b[1;36m0.091\u001b[0m, Val loss: \u001b[1;36m0.105\u001b[0m, Epoch time = \u001b[1;36m91.\u001b[0m520s\n"
            ]
          },
          "metadata": {
            "tags": []
          }
        },
        {
          "output_type": "display_data",
          "data": {
            "text/html": [
              "<pre style=\"white-space:pre;overflow-x:auto;line-height:normal;font-family:Menlo,'DejaVu Sans Mono',consolas,'Courier New',monospace\">Epoch: <span style=\"color: #008080; text-decoration-color: #008080; font-weight: bold\">66</span>, Train loss: <span style=\"color: #008080; text-decoration-color: #008080; font-weight: bold\">0.089</span>, Val loss: <span style=\"color: #008080; text-decoration-color: #008080; font-weight: bold\">0.100</span>, Epoch time = <span style=\"color: #008080; text-decoration-color: #008080; font-weight: bold\">91.</span>682s\n",
              "</pre>\n"
            ],
            "text/plain": [
              "Epoch: \u001b[1;36m66\u001b[0m, Train loss: \u001b[1;36m0.089\u001b[0m, Val loss: \u001b[1;36m0.100\u001b[0m, Epoch time = \u001b[1;36m91.\u001b[0m682s\n"
            ]
          },
          "metadata": {
            "tags": []
          }
        },
        {
          "output_type": "display_data",
          "data": {
            "text/html": [
              "<pre style=\"white-space:pre;overflow-x:auto;line-height:normal;font-family:Menlo,'DejaVu Sans Mono',consolas,'Courier New',monospace\">Epoch: <span style=\"color: #008080; text-decoration-color: #008080; font-weight: bold\">67</span>, Train loss: <span style=\"color: #008080; text-decoration-color: #008080; font-weight: bold\">0.088</span>, Val loss: <span style=\"color: #008080; text-decoration-color: #008080; font-weight: bold\">0.102</span>, Epoch time = <span style=\"color: #008080; text-decoration-color: #008080; font-weight: bold\">92.</span>310s\n",
              "</pre>\n"
            ],
            "text/plain": [
              "Epoch: \u001b[1;36m67\u001b[0m, Train loss: \u001b[1;36m0.088\u001b[0m, Val loss: \u001b[1;36m0.102\u001b[0m, Epoch time = \u001b[1;36m92.\u001b[0m310s\n"
            ]
          },
          "metadata": {
            "tags": []
          }
        },
        {
          "output_type": "display_data",
          "data": {
            "text/html": [
              "<pre style=\"white-space:pre;overflow-x:auto;line-height:normal;font-family:Menlo,'DejaVu Sans Mono',consolas,'Courier New',monospace\">Epoch: <span style=\"color: #008080; text-decoration-color: #008080; font-weight: bold\">68</span>, Train loss: <span style=\"color: #008080; text-decoration-color: #008080; font-weight: bold\">0.086</span>, Val loss: <span style=\"color: #008080; text-decoration-color: #008080; font-weight: bold\">0.106</span>, Epoch time = <span style=\"color: #008080; text-decoration-color: #008080; font-weight: bold\">92.</span>347s\n",
              "</pre>\n"
            ],
            "text/plain": [
              "Epoch: \u001b[1;36m68\u001b[0m, Train loss: \u001b[1;36m0.086\u001b[0m, Val loss: \u001b[1;36m0.106\u001b[0m, Epoch time = \u001b[1;36m92.\u001b[0m347s\n"
            ]
          },
          "metadata": {
            "tags": []
          }
        },
        {
          "output_type": "display_data",
          "data": {
            "text/html": [
              "<pre style=\"white-space:pre;overflow-x:auto;line-height:normal;font-family:Menlo,'DejaVu Sans Mono',consolas,'Courier New',monospace\">Epoch: <span style=\"color: #008080; text-decoration-color: #008080; font-weight: bold\">69</span>, Train loss: <span style=\"color: #008080; text-decoration-color: #008080; font-weight: bold\">0.085</span>, Val loss: <span style=\"color: #008080; text-decoration-color: #008080; font-weight: bold\">0.100</span>, Epoch time = <span style=\"color: #008080; text-decoration-color: #008080; font-weight: bold\">91.</span>824s\n",
              "</pre>\n"
            ],
            "text/plain": [
              "Epoch: \u001b[1;36m69\u001b[0m, Train loss: \u001b[1;36m0.085\u001b[0m, Val loss: \u001b[1;36m0.100\u001b[0m, Epoch time = \u001b[1;36m91.\u001b[0m824s\n"
            ]
          },
          "metadata": {
            "tags": []
          }
        },
        {
          "output_type": "display_data",
          "data": {
            "text/html": [
              "<pre style=\"white-space:pre;overflow-x:auto;line-height:normal;font-family:Menlo,'DejaVu Sans Mono',consolas,'Courier New',monospace\">Epoch: <span style=\"color: #008080; text-decoration-color: #008080; font-weight: bold\">70</span>, Train loss: <span style=\"color: #008080; text-decoration-color: #008080; font-weight: bold\">0.084</span>, Val loss: <span style=\"color: #008080; text-decoration-color: #008080; font-weight: bold\">0.100</span>, Epoch time = <span style=\"color: #008080; text-decoration-color: #008080; font-weight: bold\">92.</span>070s\n",
              "</pre>\n"
            ],
            "text/plain": [
              "Epoch: \u001b[1;36m70\u001b[0m, Train loss: \u001b[1;36m0.084\u001b[0m, Val loss: \u001b[1;36m0.100\u001b[0m, Epoch time = \u001b[1;36m92.\u001b[0m070s\n"
            ]
          },
          "metadata": {
            "tags": []
          }
        },
        {
          "output_type": "display_data",
          "data": {
            "text/html": [
              "<pre style=\"white-space:pre;overflow-x:auto;line-height:normal;font-family:Menlo,'DejaVu Sans Mono',consolas,'Courier New',monospace\">Epoch: <span style=\"color: #008080; text-decoration-color: #008080; font-weight: bold\">71</span>, Train loss: <span style=\"color: #008080; text-decoration-color: #008080; font-weight: bold\">0.082</span>, Val loss: <span style=\"color: #008080; text-decoration-color: #008080; font-weight: bold\">0.102</span>, Epoch time = <span style=\"color: #008080; text-decoration-color: #008080; font-weight: bold\">91.</span>722s\n",
              "</pre>\n"
            ],
            "text/plain": [
              "Epoch: \u001b[1;36m71\u001b[0m, Train loss: \u001b[1;36m0.082\u001b[0m, Val loss: \u001b[1;36m0.102\u001b[0m, Epoch time = \u001b[1;36m91.\u001b[0m722s\n"
            ]
          },
          "metadata": {
            "tags": []
          }
        },
        {
          "output_type": "display_data",
          "data": {
            "text/html": [
              "<pre style=\"white-space:pre;overflow-x:auto;line-height:normal;font-family:Menlo,'DejaVu Sans Mono',consolas,'Courier New',monospace\">Epoch: <span style=\"color: #008080; text-decoration-color: #008080; font-weight: bold\">72</span>, Train loss: <span style=\"color: #008080; text-decoration-color: #008080; font-weight: bold\">0.081</span>, Val loss: <span style=\"color: #008080; text-decoration-color: #008080; font-weight: bold\">0.100</span>, Epoch time = <span style=\"color: #008080; text-decoration-color: #008080; font-weight: bold\">92.</span>089s\n",
              "</pre>\n"
            ],
            "text/plain": [
              "Epoch: \u001b[1;36m72\u001b[0m, Train loss: \u001b[1;36m0.081\u001b[0m, Val loss: \u001b[1;36m0.100\u001b[0m, Epoch time = \u001b[1;36m92.\u001b[0m089s\n"
            ]
          },
          "metadata": {
            "tags": []
          }
        },
        {
          "output_type": "display_data",
          "data": {
            "text/html": [
              "<pre style=\"white-space:pre;overflow-x:auto;line-height:normal;font-family:Menlo,'DejaVu Sans Mono',consolas,'Courier New',monospace\">Epoch: <span style=\"color: #008080; text-decoration-color: #008080; font-weight: bold\">73</span>, Train loss: <span style=\"color: #008080; text-decoration-color: #008080; font-weight: bold\">0.080</span>, Val loss: <span style=\"color: #008080; text-decoration-color: #008080; font-weight: bold\">0.101</span>, Epoch time = <span style=\"color: #008080; text-decoration-color: #008080; font-weight: bold\">91.</span>901s\n",
              "</pre>\n"
            ],
            "text/plain": [
              "Epoch: \u001b[1;36m73\u001b[0m, Train loss: \u001b[1;36m0.080\u001b[0m, Val loss: \u001b[1;36m0.101\u001b[0m, Epoch time = \u001b[1;36m91.\u001b[0m901s\n"
            ]
          },
          "metadata": {
            "tags": []
          }
        },
        {
          "output_type": "display_data",
          "data": {
            "text/html": [
              "<pre style=\"white-space:pre;overflow-x:auto;line-height:normal;font-family:Menlo,'DejaVu Sans Mono',consolas,'Courier New',monospace\">Epoch: <span style=\"color: #008080; text-decoration-color: #008080; font-weight: bold\">74</span>, Train loss: <span style=\"color: #008080; text-decoration-color: #008080; font-weight: bold\">0.078</span>, Val loss: <span style=\"color: #008080; text-decoration-color: #008080; font-weight: bold\">0.100</span>, Epoch time = <span style=\"color: #008080; text-decoration-color: #008080; font-weight: bold\">92.</span>053s\n",
              "</pre>\n"
            ],
            "text/plain": [
              "Epoch: \u001b[1;36m74\u001b[0m, Train loss: \u001b[1;36m0.078\u001b[0m, Val loss: \u001b[1;36m0.100\u001b[0m, Epoch time = \u001b[1;36m92.\u001b[0m053s\n"
            ]
          },
          "metadata": {
            "tags": []
          }
        },
        {
          "output_type": "display_data",
          "data": {
            "text/html": [
              "<pre style=\"white-space:pre;overflow-x:auto;line-height:normal;font-family:Menlo,'DejaVu Sans Mono',consolas,'Courier New',monospace\">Epoch: <span style=\"color: #008080; text-decoration-color: #008080; font-weight: bold\">75</span>, Train loss: <span style=\"color: #008080; text-decoration-color: #008080; font-weight: bold\">0.077</span>, Val loss: <span style=\"color: #008080; text-decoration-color: #008080; font-weight: bold\">0.102</span>, Epoch time = <span style=\"color: #008080; text-decoration-color: #008080; font-weight: bold\">91.</span>799s\n",
              "</pre>\n"
            ],
            "text/plain": [
              "Epoch: \u001b[1;36m75\u001b[0m, Train loss: \u001b[1;36m0.077\u001b[0m, Val loss: \u001b[1;36m0.102\u001b[0m, Epoch time = \u001b[1;36m91.\u001b[0m799s\n"
            ]
          },
          "metadata": {
            "tags": []
          }
        },
        {
          "output_type": "display_data",
          "data": {
            "text/html": [
              "<pre style=\"white-space:pre;overflow-x:auto;line-height:normal;font-family:Menlo,'DejaVu Sans Mono',consolas,'Courier New',monospace\">Epoch: <span style=\"color: #008080; text-decoration-color: #008080; font-weight: bold\">76</span>, Train loss: <span style=\"color: #008080; text-decoration-color: #008080; font-weight: bold\">0.076</span>, Val loss: <span style=\"color: #008080; text-decoration-color: #008080; font-weight: bold\">0.099</span>, Epoch time = <span style=\"color: #008080; text-decoration-color: #008080; font-weight: bold\">91.</span>806s\n",
              "</pre>\n"
            ],
            "text/plain": [
              "Epoch: \u001b[1;36m76\u001b[0m, Train loss: \u001b[1;36m0.076\u001b[0m, Val loss: \u001b[1;36m0.099\u001b[0m, Epoch time = \u001b[1;36m91.\u001b[0m806s\n"
            ]
          },
          "metadata": {
            "tags": []
          }
        },
        {
          "output_type": "display_data",
          "data": {
            "text/html": [
              "<pre style=\"white-space:pre;overflow-x:auto;line-height:normal;font-family:Menlo,'DejaVu Sans Mono',consolas,'Courier New',monospace\">Epoch: <span style=\"color: #008080; text-decoration-color: #008080; font-weight: bold\">77</span>, Train loss: <span style=\"color: #008080; text-decoration-color: #008080; font-weight: bold\">0.075</span>, Val loss: <span style=\"color: #008080; text-decoration-color: #008080; font-weight: bold\">0.102</span>, Epoch time = <span style=\"color: #008080; text-decoration-color: #008080; font-weight: bold\">92.</span>169s\n",
              "</pre>\n"
            ],
            "text/plain": [
              "Epoch: \u001b[1;36m77\u001b[0m, Train loss: \u001b[1;36m0.075\u001b[0m, Val loss: \u001b[1;36m0.102\u001b[0m, Epoch time = \u001b[1;36m92.\u001b[0m169s\n"
            ]
          },
          "metadata": {
            "tags": []
          }
        },
        {
          "output_type": "display_data",
          "data": {
            "text/html": [
              "<pre style=\"white-space:pre;overflow-x:auto;line-height:normal;font-family:Menlo,'DejaVu Sans Mono',consolas,'Courier New',monospace\">Epoch: <span style=\"color: #008080; text-decoration-color: #008080; font-weight: bold\">78</span>, Train loss: <span style=\"color: #008080; text-decoration-color: #008080; font-weight: bold\">0.073</span>, Val loss: <span style=\"color: #008080; text-decoration-color: #008080; font-weight: bold\">0.100</span>, Epoch time = <span style=\"color: #008080; text-decoration-color: #008080; font-weight: bold\">92.</span>114s\n",
              "</pre>\n"
            ],
            "text/plain": [
              "Epoch: \u001b[1;36m78\u001b[0m, Train loss: \u001b[1;36m0.073\u001b[0m, Val loss: \u001b[1;36m0.100\u001b[0m, Epoch time = \u001b[1;36m92.\u001b[0m114s\n"
            ]
          },
          "metadata": {
            "tags": []
          }
        },
        {
          "output_type": "display_data",
          "data": {
            "text/html": [
              "<pre style=\"white-space:pre;overflow-x:auto;line-height:normal;font-family:Menlo,'DejaVu Sans Mono',consolas,'Courier New',monospace\">Epoch: <span style=\"color: #008080; text-decoration-color: #008080; font-weight: bold\">79</span>, Train loss: <span style=\"color: #008080; text-decoration-color: #008080; font-weight: bold\">0.073</span>, Val loss: <span style=\"color: #008080; text-decoration-color: #008080; font-weight: bold\">0.100</span>, Epoch time = <span style=\"color: #008080; text-decoration-color: #008080; font-weight: bold\">92.</span>396s\n",
              "</pre>\n"
            ],
            "text/plain": [
              "Epoch: \u001b[1;36m79\u001b[0m, Train loss: \u001b[1;36m0.073\u001b[0m, Val loss: \u001b[1;36m0.100\u001b[0m, Epoch time = \u001b[1;36m92.\u001b[0m396s\n"
            ]
          },
          "metadata": {
            "tags": []
          }
        },
        {
          "output_type": "display_data",
          "data": {
            "text/html": [
              "<pre style=\"white-space:pre;overflow-x:auto;line-height:normal;font-family:Menlo,'DejaVu Sans Mono',consolas,'Courier New',monospace\">Epoch: <span style=\"color: #008080; text-decoration-color: #008080; font-weight: bold\">80</span>, Train loss: <span style=\"color: #008080; text-decoration-color: #008080; font-weight: bold\">0.072</span>, Val loss: <span style=\"color: #008080; text-decoration-color: #008080; font-weight: bold\">0.098</span>, Epoch time = <span style=\"color: #008080; text-decoration-color: #008080; font-weight: bold\">91.</span>451s\n",
              "</pre>\n"
            ],
            "text/plain": [
              "Epoch: \u001b[1;36m80\u001b[0m, Train loss: \u001b[1;36m0.072\u001b[0m, Val loss: \u001b[1;36m0.098\u001b[0m, Epoch time = \u001b[1;36m91.\u001b[0m451s\n"
            ]
          },
          "metadata": {
            "tags": []
          }
        },
        {
          "output_type": "display_data",
          "data": {
            "text/html": [
              "<pre style=\"white-space:pre;overflow-x:auto;line-height:normal;font-family:Menlo,'DejaVu Sans Mono',consolas,'Courier New',monospace\">Epoch: <span style=\"color: #008080; text-decoration-color: #008080; font-weight: bold\">81</span>, Train loss: <span style=\"color: #008080; text-decoration-color: #008080; font-weight: bold\">0.070</span>, Val loss: <span style=\"color: #008080; text-decoration-color: #008080; font-weight: bold\">0.101</span>, Epoch time = <span style=\"color: #008080; text-decoration-color: #008080; font-weight: bold\">91.</span>980s\n",
              "</pre>\n"
            ],
            "text/plain": [
              "Epoch: \u001b[1;36m81\u001b[0m, Train loss: \u001b[1;36m0.070\u001b[0m, Val loss: \u001b[1;36m0.101\u001b[0m, Epoch time = \u001b[1;36m91.\u001b[0m980s\n"
            ]
          },
          "metadata": {
            "tags": []
          }
        },
        {
          "output_type": "display_data",
          "data": {
            "text/html": [
              "<pre style=\"white-space:pre;overflow-x:auto;line-height:normal;font-family:Menlo,'DejaVu Sans Mono',consolas,'Courier New',monospace\">Epoch: <span style=\"color: #008080; text-decoration-color: #008080; font-weight: bold\">82</span>, Train loss: <span style=\"color: #008080; text-decoration-color: #008080; font-weight: bold\">0.069</span>, Val loss: <span style=\"color: #008080; text-decoration-color: #008080; font-weight: bold\">0.099</span>, Epoch time = <span style=\"color: #008080; text-decoration-color: #008080; font-weight: bold\">92.</span>182s\n",
              "</pre>\n"
            ],
            "text/plain": [
              "Epoch: \u001b[1;36m82\u001b[0m, Train loss: \u001b[1;36m0.069\u001b[0m, Val loss: \u001b[1;36m0.099\u001b[0m, Epoch time = \u001b[1;36m92.\u001b[0m182s\n"
            ]
          },
          "metadata": {
            "tags": []
          }
        },
        {
          "output_type": "display_data",
          "data": {
            "text/html": [
              "<pre style=\"white-space:pre;overflow-x:auto;line-height:normal;font-family:Menlo,'DejaVu Sans Mono',consolas,'Courier New',monospace\">Epoch: <span style=\"color: #008080; text-decoration-color: #008080; font-weight: bold\">83</span>, Train loss: <span style=\"color: #008080; text-decoration-color: #008080; font-weight: bold\">0.069</span>, Val loss: <span style=\"color: #008080; text-decoration-color: #008080; font-weight: bold\">0.100</span>, Epoch time = <span style=\"color: #008080; text-decoration-color: #008080; font-weight: bold\">91.</span>760s\n",
              "</pre>\n"
            ],
            "text/plain": [
              "Epoch: \u001b[1;36m83\u001b[0m, Train loss: \u001b[1;36m0.069\u001b[0m, Val loss: \u001b[1;36m0.100\u001b[0m, Epoch time = \u001b[1;36m91.\u001b[0m760s\n"
            ]
          },
          "metadata": {
            "tags": []
          }
        },
        {
          "output_type": "display_data",
          "data": {
            "text/html": [
              "<pre style=\"white-space:pre;overflow-x:auto;line-height:normal;font-family:Menlo,'DejaVu Sans Mono',consolas,'Courier New',monospace\">Epoch: <span style=\"color: #008080; text-decoration-color: #008080; font-weight: bold\">84</span>, Train loss: <span style=\"color: #008080; text-decoration-color: #008080; font-weight: bold\">0.068</span>, Val loss: <span style=\"color: #008080; text-decoration-color: #008080; font-weight: bold\">0.101</span>, Epoch time = <span style=\"color: #008080; text-decoration-color: #008080; font-weight: bold\">91.</span>489s\n",
              "</pre>\n"
            ],
            "text/plain": [
              "Epoch: \u001b[1;36m84\u001b[0m, Train loss: \u001b[1;36m0.068\u001b[0m, Val loss: \u001b[1;36m0.101\u001b[0m, Epoch time = \u001b[1;36m91.\u001b[0m489s\n"
            ]
          },
          "metadata": {
            "tags": []
          }
        },
        {
          "output_type": "display_data",
          "data": {
            "text/html": [
              "<pre style=\"white-space:pre;overflow-x:auto;line-height:normal;font-family:Menlo,'DejaVu Sans Mono',consolas,'Courier New',monospace\">Epoch: <span style=\"color: #008080; text-decoration-color: #008080; font-weight: bold\">85</span>, Train loss: <span style=\"color: #008080; text-decoration-color: #008080; font-weight: bold\">0.066</span>, Val loss: <span style=\"color: #008080; text-decoration-color: #008080; font-weight: bold\">0.099</span>, Epoch time = <span style=\"color: #008080; text-decoration-color: #008080; font-weight: bold\">92.</span>157s\n",
              "</pre>\n"
            ],
            "text/plain": [
              "Epoch: \u001b[1;36m85\u001b[0m, Train loss: \u001b[1;36m0.066\u001b[0m, Val loss: \u001b[1;36m0.099\u001b[0m, Epoch time = \u001b[1;36m92.\u001b[0m157s\n"
            ]
          },
          "metadata": {
            "tags": []
          }
        },
        {
          "output_type": "display_data",
          "data": {
            "text/html": [
              "<pre style=\"white-space:pre;overflow-x:auto;line-height:normal;font-family:Menlo,'DejaVu Sans Mono',consolas,'Courier New',monospace\">Epoch: <span style=\"color: #008080; text-decoration-color: #008080; font-weight: bold\">86</span>, Train loss: <span style=\"color: #008080; text-decoration-color: #008080; font-weight: bold\">0.066</span>, Val loss: <span style=\"color: #008080; text-decoration-color: #008080; font-weight: bold\">0.101</span>, Epoch time = <span style=\"color: #008080; text-decoration-color: #008080; font-weight: bold\">91.</span>749s\n",
              "</pre>\n"
            ],
            "text/plain": [
              "Epoch: \u001b[1;36m86\u001b[0m, Train loss: \u001b[1;36m0.066\u001b[0m, Val loss: \u001b[1;36m0.101\u001b[0m, Epoch time = \u001b[1;36m91.\u001b[0m749s\n"
            ]
          },
          "metadata": {
            "tags": []
          }
        },
        {
          "output_type": "display_data",
          "data": {
            "text/html": [
              "<pre style=\"white-space:pre;overflow-x:auto;line-height:normal;font-family:Menlo,'DejaVu Sans Mono',consolas,'Courier New',monospace\">Epoch: <span style=\"color: #008080; text-decoration-color: #008080; font-weight: bold\">87</span>, Train loss: <span style=\"color: #008080; text-decoration-color: #008080; font-weight: bold\">0.065</span>, Val loss: <span style=\"color: #008080; text-decoration-color: #008080; font-weight: bold\">0.099</span>, Epoch time = <span style=\"color: #008080; text-decoration-color: #008080; font-weight: bold\">92.</span>333s\n",
              "</pre>\n"
            ],
            "text/plain": [
              "Epoch: \u001b[1;36m87\u001b[0m, Train loss: \u001b[1;36m0.065\u001b[0m, Val loss: \u001b[1;36m0.099\u001b[0m, Epoch time = \u001b[1;36m92.\u001b[0m333s\n"
            ]
          },
          "metadata": {
            "tags": []
          }
        },
        {
          "output_type": "display_data",
          "data": {
            "text/html": [
              "<pre style=\"white-space:pre;overflow-x:auto;line-height:normal;font-family:Menlo,'DejaVu Sans Mono',consolas,'Courier New',monospace\">Epoch: <span style=\"color: #008080; text-decoration-color: #008080; font-weight: bold\">88</span>, Train loss: <span style=\"color: #008080; text-decoration-color: #008080; font-weight: bold\">0.064</span>, Val loss: <span style=\"color: #008080; text-decoration-color: #008080; font-weight: bold\">0.099</span>, Epoch time = <span style=\"color: #008080; text-decoration-color: #008080; font-weight: bold\">92.</span>015s\n",
              "</pre>\n"
            ],
            "text/plain": [
              "Epoch: \u001b[1;36m88\u001b[0m, Train loss: \u001b[1;36m0.064\u001b[0m, Val loss: \u001b[1;36m0.099\u001b[0m, Epoch time = \u001b[1;36m92.\u001b[0m015s\n"
            ]
          },
          "metadata": {
            "tags": []
          }
        },
        {
          "output_type": "display_data",
          "data": {
            "text/html": [
              "<pre style=\"white-space:pre;overflow-x:auto;line-height:normal;font-family:Menlo,'DejaVu Sans Mono',consolas,'Courier New',monospace\">Epoch: <span style=\"color: #008080; text-decoration-color: #008080; font-weight: bold\">89</span>, Train loss: <span style=\"color: #008080; text-decoration-color: #008080; font-weight: bold\">0.063</span>, Val loss: <span style=\"color: #008080; text-decoration-color: #008080; font-weight: bold\">0.099</span>, Epoch time = <span style=\"color: #008080; text-decoration-color: #008080; font-weight: bold\">92.</span>481s\n",
              "</pre>\n"
            ],
            "text/plain": [
              "Epoch: \u001b[1;36m89\u001b[0m, Train loss: \u001b[1;36m0.063\u001b[0m, Val loss: \u001b[1;36m0.099\u001b[0m, Epoch time = \u001b[1;36m92.\u001b[0m481s\n"
            ]
          },
          "metadata": {
            "tags": []
          }
        },
        {
          "output_type": "display_data",
          "data": {
            "text/html": [
              "<pre style=\"white-space:pre;overflow-x:auto;line-height:normal;font-family:Menlo,'DejaVu Sans Mono',consolas,'Courier New',monospace\">Epoch: <span style=\"color: #008080; text-decoration-color: #008080; font-weight: bold\">90</span>, Train loss: <span style=\"color: #008080; text-decoration-color: #008080; font-weight: bold\">0.062</span>, Val loss: <span style=\"color: #008080; text-decoration-color: #008080; font-weight: bold\">0.098</span>, Epoch time = <span style=\"color: #008080; text-decoration-color: #008080; font-weight: bold\">92.</span>239s\n",
              "</pre>\n"
            ],
            "text/plain": [
              "Epoch: \u001b[1;36m90\u001b[0m, Train loss: \u001b[1;36m0.062\u001b[0m, Val loss: \u001b[1;36m0.098\u001b[0m, Epoch time = \u001b[1;36m92.\u001b[0m239s\n"
            ]
          },
          "metadata": {
            "tags": []
          }
        },
        {
          "output_type": "display_data",
          "data": {
            "text/html": [
              "<pre style=\"white-space:pre;overflow-x:auto;line-height:normal;font-family:Menlo,'DejaVu Sans Mono',consolas,'Courier New',monospace\">Epoch: <span style=\"color: #008080; text-decoration-color: #008080; font-weight: bold\">91</span>, Train loss: <span style=\"color: #008080; text-decoration-color: #008080; font-weight: bold\">0.062</span>, Val loss: <span style=\"color: #008080; text-decoration-color: #008080; font-weight: bold\">0.099</span>, Epoch time = <span style=\"color: #008080; text-decoration-color: #008080; font-weight: bold\">91.</span>701s\n",
              "</pre>\n"
            ],
            "text/plain": [
              "Epoch: \u001b[1;36m91\u001b[0m, Train loss: \u001b[1;36m0.062\u001b[0m, Val loss: \u001b[1;36m0.099\u001b[0m, Epoch time = \u001b[1;36m91.\u001b[0m701s\n"
            ]
          },
          "metadata": {
            "tags": []
          }
        },
        {
          "output_type": "display_data",
          "data": {
            "text/html": [
              "<pre style=\"white-space:pre;overflow-x:auto;line-height:normal;font-family:Menlo,'DejaVu Sans Mono',consolas,'Courier New',monospace\">Epoch: <span style=\"color: #008080; text-decoration-color: #008080; font-weight: bold\">92</span>, Train loss: <span style=\"color: #008080; text-decoration-color: #008080; font-weight: bold\">0.061</span>, Val loss: <span style=\"color: #008080; text-decoration-color: #008080; font-weight: bold\">0.098</span>, Epoch time = <span style=\"color: #008080; text-decoration-color: #008080; font-weight: bold\">92.</span>036s\n",
              "</pre>\n"
            ],
            "text/plain": [
              "Epoch: \u001b[1;36m92\u001b[0m, Train loss: \u001b[1;36m0.061\u001b[0m, Val loss: \u001b[1;36m0.098\u001b[0m, Epoch time = \u001b[1;36m92.\u001b[0m036s\n"
            ]
          },
          "metadata": {
            "tags": []
          }
        },
        {
          "output_type": "display_data",
          "data": {
            "text/html": [
              "<pre style=\"white-space:pre;overflow-x:auto;line-height:normal;font-family:Menlo,'DejaVu Sans Mono',consolas,'Courier New',monospace\">Epoch: <span style=\"color: #008080; text-decoration-color: #008080; font-weight: bold\">93</span>, Train loss: <span style=\"color: #008080; text-decoration-color: #008080; font-weight: bold\">0.060</span>, Val loss: <span style=\"color: #008080; text-decoration-color: #008080; font-weight: bold\">0.100</span>, Epoch time = <span style=\"color: #008080; text-decoration-color: #008080; font-weight: bold\">91.</span>929s\n",
              "</pre>\n"
            ],
            "text/plain": [
              "Epoch: \u001b[1;36m93\u001b[0m, Train loss: \u001b[1;36m0.060\u001b[0m, Val loss: \u001b[1;36m0.100\u001b[0m, Epoch time = \u001b[1;36m91.\u001b[0m929s\n"
            ]
          },
          "metadata": {
            "tags": []
          }
        },
        {
          "output_type": "display_data",
          "data": {
            "text/html": [
              "<pre style=\"white-space:pre;overflow-x:auto;line-height:normal;font-family:Menlo,'DejaVu Sans Mono',consolas,'Courier New',monospace\">Epoch: <span style=\"color: #008080; text-decoration-color: #008080; font-weight: bold\">94</span>, Train loss: <span style=\"color: #008080; text-decoration-color: #008080; font-weight: bold\">0.059</span>, Val loss: <span style=\"color: #008080; text-decoration-color: #008080; font-weight: bold\">0.101</span>, Epoch time = <span style=\"color: #008080; text-decoration-color: #008080; font-weight: bold\">92.</span>234s\n",
              "</pre>\n"
            ],
            "text/plain": [
              "Epoch: \u001b[1;36m94\u001b[0m, Train loss: \u001b[1;36m0.059\u001b[0m, Val loss: \u001b[1;36m0.101\u001b[0m, Epoch time = \u001b[1;36m92.\u001b[0m234s\n"
            ]
          },
          "metadata": {
            "tags": []
          }
        },
        {
          "output_type": "display_data",
          "data": {
            "text/html": [
              "<pre style=\"white-space:pre;overflow-x:auto;line-height:normal;font-family:Menlo,'DejaVu Sans Mono',consolas,'Courier New',monospace\">Epoch: <span style=\"color: #008080; text-decoration-color: #008080; font-weight: bold\">95</span>, Train loss: <span style=\"color: #008080; text-decoration-color: #008080; font-weight: bold\">0.058</span>, Val loss: <span style=\"color: #008080; text-decoration-color: #008080; font-weight: bold\">0.100</span>, Epoch time = <span style=\"color: #008080; text-decoration-color: #008080; font-weight: bold\">92.</span>066s\n",
              "</pre>\n"
            ],
            "text/plain": [
              "Epoch: \u001b[1;36m95\u001b[0m, Train loss: \u001b[1;36m0.058\u001b[0m, Val loss: \u001b[1;36m0.100\u001b[0m, Epoch time = \u001b[1;36m92.\u001b[0m066s\n"
            ]
          },
          "metadata": {
            "tags": []
          }
        },
        {
          "output_type": "display_data",
          "data": {
            "text/html": [
              "<pre style=\"white-space:pre;overflow-x:auto;line-height:normal;font-family:Menlo,'DejaVu Sans Mono',consolas,'Courier New',monospace\">Epoch: <span style=\"color: #008080; text-decoration-color: #008080; font-weight: bold\">96</span>, Train loss: <span style=\"color: #008080; text-decoration-color: #008080; font-weight: bold\">0.058</span>, Val loss: <span style=\"color: #008080; text-decoration-color: #008080; font-weight: bold\">0.102</span>, Epoch time = <span style=\"color: #008080; text-decoration-color: #008080; font-weight: bold\">92.</span>591s\n",
              "</pre>\n"
            ],
            "text/plain": [
              "Epoch: \u001b[1;36m96\u001b[0m, Train loss: \u001b[1;36m0.058\u001b[0m, Val loss: \u001b[1;36m0.102\u001b[0m, Epoch time = \u001b[1;36m92.\u001b[0m591s\n"
            ]
          },
          "metadata": {
            "tags": []
          }
        },
        {
          "output_type": "display_data",
          "data": {
            "text/html": [
              "<pre style=\"white-space:pre;overflow-x:auto;line-height:normal;font-family:Menlo,'DejaVu Sans Mono',consolas,'Courier New',monospace\">Epoch: <span style=\"color: #008080; text-decoration-color: #008080; font-weight: bold\">97</span>, Train loss: <span style=\"color: #008080; text-decoration-color: #008080; font-weight: bold\">0.057</span>, Val loss: <span style=\"color: #008080; text-decoration-color: #008080; font-weight: bold\">0.102</span>, Epoch time = <span style=\"color: #008080; text-decoration-color: #008080; font-weight: bold\">91.</span>415s\n",
              "</pre>\n"
            ],
            "text/plain": [
              "Epoch: \u001b[1;36m97\u001b[0m, Train loss: \u001b[1;36m0.057\u001b[0m, Val loss: \u001b[1;36m0.102\u001b[0m, Epoch time = \u001b[1;36m91.\u001b[0m415s\n"
            ]
          },
          "metadata": {
            "tags": []
          }
        },
        {
          "output_type": "display_data",
          "data": {
            "text/html": [
              "<pre style=\"white-space:pre;overflow-x:auto;line-height:normal;font-family:Menlo,'DejaVu Sans Mono',consolas,'Courier New',monospace\">Epoch: <span style=\"color: #008080; text-decoration-color: #008080; font-weight: bold\">98</span>, Train loss: <span style=\"color: #008080; text-decoration-color: #008080; font-weight: bold\">0.056</span>, Val loss: <span style=\"color: #008080; text-decoration-color: #008080; font-weight: bold\">0.099</span>, Epoch time = <span style=\"color: #008080; text-decoration-color: #008080; font-weight: bold\">91.</span>789s\n",
              "</pre>\n"
            ],
            "text/plain": [
              "Epoch: \u001b[1;36m98\u001b[0m, Train loss: \u001b[1;36m0.056\u001b[0m, Val loss: \u001b[1;36m0.099\u001b[0m, Epoch time = \u001b[1;36m91.\u001b[0m789s\n"
            ]
          },
          "metadata": {
            "tags": []
          }
        },
        {
          "output_type": "display_data",
          "data": {
            "text/html": [
              "<pre style=\"white-space:pre;overflow-x:auto;line-height:normal;font-family:Menlo,'DejaVu Sans Mono',consolas,'Courier New',monospace\">Epoch: <span style=\"color: #008080; text-decoration-color: #008080; font-weight: bold\">99</span>, Train loss: <span style=\"color: #008080; text-decoration-color: #008080; font-weight: bold\">0.056</span>, Val loss: <span style=\"color: #008080; text-decoration-color: #008080; font-weight: bold\">0.100</span>, Epoch time = <span style=\"color: #008080; text-decoration-color: #008080; font-weight: bold\">91.</span>747s\n",
              "</pre>\n"
            ],
            "text/plain": [
              "Epoch: \u001b[1;36m99\u001b[0m, Train loss: \u001b[1;36m0.056\u001b[0m, Val loss: \u001b[1;36m0.100\u001b[0m, Epoch time = \u001b[1;36m91.\u001b[0m747s\n"
            ]
          },
          "metadata": {
            "tags": []
          }
        },
        {
          "output_type": "display_data",
          "data": {
            "text/html": [
              "<pre style=\"white-space:pre;overflow-x:auto;line-height:normal;font-family:Menlo,'DejaVu Sans Mono',consolas,'Courier New',monospace\">true\n",
              "</pre>\n"
            ],
            "text/plain": [
              "true\n"
            ]
          },
          "metadata": {
            "tags": []
          }
        },
        {
          "output_type": "display_data",
          "data": {
            "text/html": [
              "<pre style=\"white-space:pre;overflow-x:auto;line-height:normal;font-family:Menlo,'DejaVu Sans Mono',consolas,'Courier New',monospace\">=&gt; Saving checkpoint\n",
              "</pre>\n"
            ],
            "text/plain": [
              "=> Saving checkpoint\n"
            ]
          },
          "metadata": {
            "tags": []
          }
        },
        {
          "output_type": "display_data",
          "data": {
            "text/html": [
              "<pre style=\"white-space:pre;overflow-x:auto;line-height:normal;font-family:Menlo,'DejaVu Sans Mono',consolas,'Courier New',monospace\">Epoch: <span style=\"color: #008080; text-decoration-color: #008080; font-weight: bold\">100</span>, Train loss: <span style=\"color: #008080; text-decoration-color: #008080; font-weight: bold\">0.054</span>, Val loss: <span style=\"color: #008080; text-decoration-color: #008080; font-weight: bold\">0.104</span>, Epoch time = <span style=\"color: #008080; text-decoration-color: #008080; font-weight: bold\">92.</span>133s\n",
              "</pre>\n"
            ],
            "text/plain": [
              "Epoch: \u001b[1;36m100\u001b[0m, Train loss: \u001b[1;36m0.054\u001b[0m, Val loss: \u001b[1;36m0.104\u001b[0m, Epoch time = \u001b[1;36m92.\u001b[0m133s\n"
            ]
          },
          "metadata": {
            "tags": []
          }
        },
        {
          "output_type": "display_data",
          "data": {
            "text/html": [
              "<pre style=\"white-space:pre;overflow-x:auto;line-height:normal;font-family:Menlo,'DejaVu Sans Mono',consolas,'Courier New',monospace\">Epoch: <span style=\"color: #008080; text-decoration-color: #008080; font-weight: bold\">101</span>, Train loss: <span style=\"color: #008080; text-decoration-color: #008080; font-weight: bold\">0.054</span>, Val loss: <span style=\"color: #008080; text-decoration-color: #008080; font-weight: bold\">0.099</span>, Epoch time = <span style=\"color: #008080; text-decoration-color: #008080; font-weight: bold\">91.</span>761s\n",
              "</pre>\n"
            ],
            "text/plain": [
              "Epoch: \u001b[1;36m101\u001b[0m, Train loss: \u001b[1;36m0.054\u001b[0m, Val loss: \u001b[1;36m0.099\u001b[0m, Epoch time = \u001b[1;36m91.\u001b[0m761s\n"
            ]
          },
          "metadata": {
            "tags": []
          }
        },
        {
          "output_type": "display_data",
          "data": {
            "text/html": [
              "<pre style=\"white-space:pre;overflow-x:auto;line-height:normal;font-family:Menlo,'DejaVu Sans Mono',consolas,'Courier New',monospace\">Epoch: <span style=\"color: #008080; text-decoration-color: #008080; font-weight: bold\">102</span>, Train loss: <span style=\"color: #008080; text-decoration-color: #008080; font-weight: bold\">0.053</span>, Val loss: <span style=\"color: #008080; text-decoration-color: #008080; font-weight: bold\">0.102</span>, Epoch time = <span style=\"color: #008080; text-decoration-color: #008080; font-weight: bold\">91.</span>207s\n",
              "</pre>\n"
            ],
            "text/plain": [
              "Epoch: \u001b[1;36m102\u001b[0m, Train loss: \u001b[1;36m0.053\u001b[0m, Val loss: \u001b[1;36m0.102\u001b[0m, Epoch time = \u001b[1;36m91.\u001b[0m207s\n"
            ]
          },
          "metadata": {
            "tags": []
          }
        },
        {
          "output_type": "display_data",
          "data": {
            "text/html": [
              "<pre style=\"white-space:pre;overflow-x:auto;line-height:normal;font-family:Menlo,'DejaVu Sans Mono',consolas,'Courier New',monospace\">Epoch: <span style=\"color: #008080; text-decoration-color: #008080; font-weight: bold\">103</span>, Train loss: <span style=\"color: #008080; text-decoration-color: #008080; font-weight: bold\">0.053</span>, Val loss: <span style=\"color: #008080; text-decoration-color: #008080; font-weight: bold\">0.099</span>, Epoch time = <span style=\"color: #008080; text-decoration-color: #008080; font-weight: bold\">91.</span>967s\n",
              "</pre>\n"
            ],
            "text/plain": [
              "Epoch: \u001b[1;36m103\u001b[0m, Train loss: \u001b[1;36m0.053\u001b[0m, Val loss: \u001b[1;36m0.099\u001b[0m, Epoch time = \u001b[1;36m91.\u001b[0m967s\n"
            ]
          },
          "metadata": {
            "tags": []
          }
        },
        {
          "output_type": "display_data",
          "data": {
            "text/html": [
              "<pre style=\"white-space:pre;overflow-x:auto;line-height:normal;font-family:Menlo,'DejaVu Sans Mono',consolas,'Courier New',monospace\">Epoch: <span style=\"color: #008080; text-decoration-color: #008080; font-weight: bold\">104</span>, Train loss: <span style=\"color: #008080; text-decoration-color: #008080; font-weight: bold\">0.053</span>, Val loss: <span style=\"color: #008080; text-decoration-color: #008080; font-weight: bold\">0.101</span>, Epoch time = <span style=\"color: #008080; text-decoration-color: #008080; font-weight: bold\">91.</span>458s\n",
              "</pre>\n"
            ],
            "text/plain": [
              "Epoch: \u001b[1;36m104\u001b[0m, Train loss: \u001b[1;36m0.053\u001b[0m, Val loss: \u001b[1;36m0.101\u001b[0m, Epoch time = \u001b[1;36m91.\u001b[0m458s\n"
            ]
          },
          "metadata": {
            "tags": []
          }
        },
        {
          "output_type": "display_data",
          "data": {
            "text/html": [
              "<pre style=\"white-space:pre;overflow-x:auto;line-height:normal;font-family:Menlo,'DejaVu Sans Mono',consolas,'Courier New',monospace\">Epoch: <span style=\"color: #008080; text-decoration-color: #008080; font-weight: bold\">105</span>, Train loss: <span style=\"color: #008080; text-decoration-color: #008080; font-weight: bold\">0.052</span>, Val loss: <span style=\"color: #008080; text-decoration-color: #008080; font-weight: bold\">0.101</span>, Epoch time = <span style=\"color: #008080; text-decoration-color: #008080; font-weight: bold\">91.</span>519s\n",
              "</pre>\n"
            ],
            "text/plain": [
              "Epoch: \u001b[1;36m105\u001b[0m, Train loss: \u001b[1;36m0.052\u001b[0m, Val loss: \u001b[1;36m0.101\u001b[0m, Epoch time = \u001b[1;36m91.\u001b[0m519s\n"
            ]
          },
          "metadata": {
            "tags": []
          }
        },
        {
          "output_type": "display_data",
          "data": {
            "text/html": [
              "<pre style=\"white-space:pre;overflow-x:auto;line-height:normal;font-family:Menlo,'DejaVu Sans Mono',consolas,'Courier New',monospace\">Epoch: <span style=\"color: #008080; text-decoration-color: #008080; font-weight: bold\">106</span>, Train loss: <span style=\"color: #008080; text-decoration-color: #008080; font-weight: bold\">0.051</span>, Val loss: <span style=\"color: #008080; text-decoration-color: #008080; font-weight: bold\">0.103</span>, Epoch time = <span style=\"color: #008080; text-decoration-color: #008080; font-weight: bold\">92.</span>493s\n",
              "</pre>\n"
            ],
            "text/plain": [
              "Epoch: \u001b[1;36m106\u001b[0m, Train loss: \u001b[1;36m0.051\u001b[0m, Val loss: \u001b[1;36m0.103\u001b[0m, Epoch time = \u001b[1;36m92.\u001b[0m493s\n"
            ]
          },
          "metadata": {
            "tags": []
          }
        },
        {
          "output_type": "display_data",
          "data": {
            "text/html": [
              "<pre style=\"white-space:pre;overflow-x:auto;line-height:normal;font-family:Menlo,'DejaVu Sans Mono',consolas,'Courier New',monospace\">Epoch: <span style=\"color: #008080; text-decoration-color: #008080; font-weight: bold\">107</span>, Train loss: <span style=\"color: #008080; text-decoration-color: #008080; font-weight: bold\">0.050</span>, Val loss: <span style=\"color: #008080; text-decoration-color: #008080; font-weight: bold\">0.103</span>, Epoch time = <span style=\"color: #008080; text-decoration-color: #008080; font-weight: bold\">91.</span>877s\n",
              "</pre>\n"
            ],
            "text/plain": [
              "Epoch: \u001b[1;36m107\u001b[0m, Train loss: \u001b[1;36m0.050\u001b[0m, Val loss: \u001b[1;36m0.103\u001b[0m, Epoch time = \u001b[1;36m91.\u001b[0m877s\n"
            ]
          },
          "metadata": {
            "tags": []
          }
        },
        {
          "output_type": "display_data",
          "data": {
            "text/html": [
              "<pre style=\"white-space:pre;overflow-x:auto;line-height:normal;font-family:Menlo,'DejaVu Sans Mono',consolas,'Courier New',monospace\">Epoch: <span style=\"color: #008080; text-decoration-color: #008080; font-weight: bold\">108</span>, Train loss: <span style=\"color: #008080; text-decoration-color: #008080; font-weight: bold\">0.050</span>, Val loss: <span style=\"color: #008080; text-decoration-color: #008080; font-weight: bold\">0.100</span>, Epoch time = <span style=\"color: #008080; text-decoration-color: #008080; font-weight: bold\">91.</span>630s\n",
              "</pre>\n"
            ],
            "text/plain": [
              "Epoch: \u001b[1;36m108\u001b[0m, Train loss: \u001b[1;36m0.050\u001b[0m, Val loss: \u001b[1;36m0.100\u001b[0m, Epoch time = \u001b[1;36m91.\u001b[0m630s\n"
            ]
          },
          "metadata": {
            "tags": []
          }
        },
        {
          "output_type": "display_data",
          "data": {
            "text/html": [
              "<pre style=\"white-space:pre;overflow-x:auto;line-height:normal;font-family:Menlo,'DejaVu Sans Mono',consolas,'Courier New',monospace\">Epoch: <span style=\"color: #008080; text-decoration-color: #008080; font-weight: bold\">109</span>, Train loss: <span style=\"color: #008080; text-decoration-color: #008080; font-weight: bold\">0.049</span>, Val loss: <span style=\"color: #008080; text-decoration-color: #008080; font-weight: bold\">0.102</span>, Epoch time = <span style=\"color: #008080; text-decoration-color: #008080; font-weight: bold\">91.</span>458s\n",
              "</pre>\n"
            ],
            "text/plain": [
              "Epoch: \u001b[1;36m109\u001b[0m, Train loss: \u001b[1;36m0.049\u001b[0m, Val loss: \u001b[1;36m0.102\u001b[0m, Epoch time = \u001b[1;36m91.\u001b[0m458s\n"
            ]
          },
          "metadata": {
            "tags": []
          }
        },
        {
          "output_type": "display_data",
          "data": {
            "text/html": [
              "<pre style=\"white-space:pre;overflow-x:auto;line-height:normal;font-family:Menlo,'DejaVu Sans Mono',consolas,'Courier New',monospace\">Epoch: <span style=\"color: #008080; text-decoration-color: #008080; font-weight: bold\">110</span>, Train loss: <span style=\"color: #008080; text-decoration-color: #008080; font-weight: bold\">0.049</span>, Val loss: <span style=\"color: #008080; text-decoration-color: #008080; font-weight: bold\">0.104</span>, Epoch time = <span style=\"color: #008080; text-decoration-color: #008080; font-weight: bold\">91.</span>612s\n",
              "</pre>\n"
            ],
            "text/plain": [
              "Epoch: \u001b[1;36m110\u001b[0m, Train loss: \u001b[1;36m0.049\u001b[0m, Val loss: \u001b[1;36m0.104\u001b[0m, Epoch time = \u001b[1;36m91.\u001b[0m612s\n"
            ]
          },
          "metadata": {
            "tags": []
          }
        },
        {
          "output_type": "display_data",
          "data": {
            "text/html": [
              "<pre style=\"white-space:pre;overflow-x:auto;line-height:normal;font-family:Menlo,'DejaVu Sans Mono',consolas,'Courier New',monospace\">Epoch: <span style=\"color: #008080; text-decoration-color: #008080; font-weight: bold\">111</span>, Train loss: <span style=\"color: #008080; text-decoration-color: #008080; font-weight: bold\">0.048</span>, Val loss: <span style=\"color: #008080; text-decoration-color: #008080; font-weight: bold\">0.103</span>, Epoch time = <span style=\"color: #008080; text-decoration-color: #008080; font-weight: bold\">91.</span>771s\n",
              "</pre>\n"
            ],
            "text/plain": [
              "Epoch: \u001b[1;36m111\u001b[0m, Train loss: \u001b[1;36m0.048\u001b[0m, Val loss: \u001b[1;36m0.103\u001b[0m, Epoch time = \u001b[1;36m91.\u001b[0m771s\n"
            ]
          },
          "metadata": {
            "tags": []
          }
        },
        {
          "output_type": "display_data",
          "data": {
            "text/html": [
              "<pre style=\"white-space:pre;overflow-x:auto;line-height:normal;font-family:Menlo,'DejaVu Sans Mono',consolas,'Courier New',monospace\">Epoch: <span style=\"color: #008080; text-decoration-color: #008080; font-weight: bold\">112</span>, Train loss: <span style=\"color: #008080; text-decoration-color: #008080; font-weight: bold\">0.048</span>, Val loss: <span style=\"color: #008080; text-decoration-color: #008080; font-weight: bold\">0.103</span>, Epoch time = <span style=\"color: #008080; text-decoration-color: #008080; font-weight: bold\">92.</span>705s\n",
              "</pre>\n"
            ],
            "text/plain": [
              "Epoch: \u001b[1;36m112\u001b[0m, Train loss: \u001b[1;36m0.048\u001b[0m, Val loss: \u001b[1;36m0.103\u001b[0m, Epoch time = \u001b[1;36m92.\u001b[0m705s\n"
            ]
          },
          "metadata": {
            "tags": []
          }
        },
        {
          "output_type": "display_data",
          "data": {
            "text/html": [
              "<pre style=\"white-space:pre;overflow-x:auto;line-height:normal;font-family:Menlo,'DejaVu Sans Mono',consolas,'Courier New',monospace\">Epoch: <span style=\"color: #008080; text-decoration-color: #008080; font-weight: bold\">113</span>, Train loss: <span style=\"color: #008080; text-decoration-color: #008080; font-weight: bold\">0.047</span>, Val loss: <span style=\"color: #008080; text-decoration-color: #008080; font-weight: bold\">0.102</span>, Epoch time = <span style=\"color: #008080; text-decoration-color: #008080; font-weight: bold\">91.</span>949s\n",
              "</pre>\n"
            ],
            "text/plain": [
              "Epoch: \u001b[1;36m113\u001b[0m, Train loss: \u001b[1;36m0.047\u001b[0m, Val loss: \u001b[1;36m0.102\u001b[0m, Epoch time = \u001b[1;36m91.\u001b[0m949s\n"
            ]
          },
          "metadata": {
            "tags": []
          }
        },
        {
          "output_type": "display_data",
          "data": {
            "text/html": [
              "<pre style=\"white-space:pre;overflow-x:auto;line-height:normal;font-family:Menlo,'DejaVu Sans Mono',consolas,'Courier New',monospace\">Epoch: <span style=\"color: #008080; text-decoration-color: #008080; font-weight: bold\">114</span>, Train loss: <span style=\"color: #008080; text-decoration-color: #008080; font-weight: bold\">0.046</span>, Val loss: <span style=\"color: #008080; text-decoration-color: #008080; font-weight: bold\">0.106</span>, Epoch time = <span style=\"color: #008080; text-decoration-color: #008080; font-weight: bold\">92.</span>187s\n",
              "</pre>\n"
            ],
            "text/plain": [
              "Epoch: \u001b[1;36m114\u001b[0m, Train loss: \u001b[1;36m0.046\u001b[0m, Val loss: \u001b[1;36m0.106\u001b[0m, Epoch time = \u001b[1;36m92.\u001b[0m187s\n"
            ]
          },
          "metadata": {
            "tags": []
          }
        },
        {
          "output_type": "display_data",
          "data": {
            "text/html": [
              "<pre style=\"white-space:pre;overflow-x:auto;line-height:normal;font-family:Menlo,'DejaVu Sans Mono',consolas,'Courier New',monospace\">Epoch: <span style=\"color: #008080; text-decoration-color: #008080; font-weight: bold\">115</span>, Train loss: <span style=\"color: #008080; text-decoration-color: #008080; font-weight: bold\">0.046</span>, Val loss: <span style=\"color: #008080; text-decoration-color: #008080; font-weight: bold\">0.102</span>, Epoch time = <span style=\"color: #008080; text-decoration-color: #008080; font-weight: bold\">92.</span>203s\n",
              "</pre>\n"
            ],
            "text/plain": [
              "Epoch: \u001b[1;36m115\u001b[0m, Train loss: \u001b[1;36m0.046\u001b[0m, Val loss: \u001b[1;36m0.102\u001b[0m, Epoch time = \u001b[1;36m92.\u001b[0m203s\n"
            ]
          },
          "metadata": {
            "tags": []
          }
        },
        {
          "output_type": "display_data",
          "data": {
            "text/html": [
              "<pre style=\"white-space:pre;overflow-x:auto;line-height:normal;font-family:Menlo,'DejaVu Sans Mono',consolas,'Courier New',monospace\">Epoch: <span style=\"color: #008080; text-decoration-color: #008080; font-weight: bold\">116</span>, Train loss: <span style=\"color: #008080; text-decoration-color: #008080; font-weight: bold\">0.046</span>, Val loss: <span style=\"color: #008080; text-decoration-color: #008080; font-weight: bold\">0.103</span>, Epoch time = <span style=\"color: #008080; text-decoration-color: #008080; font-weight: bold\">92.</span>538s\n",
              "</pre>\n"
            ],
            "text/plain": [
              "Epoch: \u001b[1;36m116\u001b[0m, Train loss: \u001b[1;36m0.046\u001b[0m, Val loss: \u001b[1;36m0.103\u001b[0m, Epoch time = \u001b[1;36m92.\u001b[0m538s\n"
            ]
          },
          "metadata": {
            "tags": []
          }
        },
        {
          "output_type": "display_data",
          "data": {
            "text/html": [
              "<pre style=\"white-space:pre;overflow-x:auto;line-height:normal;font-family:Menlo,'DejaVu Sans Mono',consolas,'Courier New',monospace\">Epoch: <span style=\"color: #008080; text-decoration-color: #008080; font-weight: bold\">117</span>, Train loss: <span style=\"color: #008080; text-decoration-color: #008080; font-weight: bold\">0.045</span>, Val loss: <span style=\"color: #008080; text-decoration-color: #008080; font-weight: bold\">0.104</span>, Epoch time = <span style=\"color: #008080; text-decoration-color: #008080; font-weight: bold\">91.</span>700s\n",
              "</pre>\n"
            ],
            "text/plain": [
              "Epoch: \u001b[1;36m117\u001b[0m, Train loss: \u001b[1;36m0.045\u001b[0m, Val loss: \u001b[1;36m0.104\u001b[0m, Epoch time = \u001b[1;36m91.\u001b[0m700s\n"
            ]
          },
          "metadata": {
            "tags": []
          }
        },
        {
          "output_type": "display_data",
          "data": {
            "text/html": [
              "<pre style=\"white-space:pre;overflow-x:auto;line-height:normal;font-family:Menlo,'DejaVu Sans Mono',consolas,'Courier New',monospace\">Epoch: <span style=\"color: #008080; text-decoration-color: #008080; font-weight: bold\">118</span>, Train loss: <span style=\"color: #008080; text-decoration-color: #008080; font-weight: bold\">0.045</span>, Val loss: <span style=\"color: #008080; text-decoration-color: #008080; font-weight: bold\">0.103</span>, Epoch time = <span style=\"color: #008080; text-decoration-color: #008080; font-weight: bold\">92.</span>032s\n",
              "</pre>\n"
            ],
            "text/plain": [
              "Epoch: \u001b[1;36m118\u001b[0m, Train loss: \u001b[1;36m0.045\u001b[0m, Val loss: \u001b[1;36m0.103\u001b[0m, Epoch time = \u001b[1;36m92.\u001b[0m032s\n"
            ]
          },
          "metadata": {
            "tags": []
          }
        },
        {
          "output_type": "display_data",
          "data": {
            "text/html": [
              "<pre style=\"white-space:pre;overflow-x:auto;line-height:normal;font-family:Menlo,'DejaVu Sans Mono',consolas,'Courier New',monospace\">Epoch: <span style=\"color: #008080; text-decoration-color: #008080; font-weight: bold\">119</span>, Train loss: <span style=\"color: #008080; text-decoration-color: #008080; font-weight: bold\">0.044</span>, Val loss: <span style=\"color: #008080; text-decoration-color: #008080; font-weight: bold\">0.103</span>, Epoch time = <span style=\"color: #008080; text-decoration-color: #008080; font-weight: bold\">91.</span>600s\n",
              "</pre>\n"
            ],
            "text/plain": [
              "Epoch: \u001b[1;36m119\u001b[0m, Train loss: \u001b[1;36m0.044\u001b[0m, Val loss: \u001b[1;36m0.103\u001b[0m, Epoch time = \u001b[1;36m91.\u001b[0m600s\n"
            ]
          },
          "metadata": {
            "tags": []
          }
        },
        {
          "output_type": "display_data",
          "data": {
            "text/html": [
              "<pre style=\"white-space:pre;overflow-x:auto;line-height:normal;font-family:Menlo,'DejaVu Sans Mono',consolas,'Courier New',monospace\">Epoch: <span style=\"color: #008080; text-decoration-color: #008080; font-weight: bold\">120</span>, Train loss: <span style=\"color: #008080; text-decoration-color: #008080; font-weight: bold\">0.044</span>, Val loss: <span style=\"color: #008080; text-decoration-color: #008080; font-weight: bold\">0.104</span>, Epoch time = <span style=\"color: #008080; text-decoration-color: #008080; font-weight: bold\">91.</span>746s\n",
              "</pre>\n"
            ],
            "text/plain": [
              "Epoch: \u001b[1;36m120\u001b[0m, Train loss: \u001b[1;36m0.044\u001b[0m, Val loss: \u001b[1;36m0.104\u001b[0m, Epoch time = \u001b[1;36m91.\u001b[0m746s\n"
            ]
          },
          "metadata": {
            "tags": []
          }
        },
        {
          "output_type": "display_data",
          "data": {
            "text/html": [
              "<pre style=\"white-space:pre;overflow-x:auto;line-height:normal;font-family:Menlo,'DejaVu Sans Mono',consolas,'Courier New',monospace\">Epoch: <span style=\"color: #008080; text-decoration-color: #008080; font-weight: bold\">121</span>, Train loss: <span style=\"color: #008080; text-decoration-color: #008080; font-weight: bold\">0.043</span>, Val loss: <span style=\"color: #008080; text-decoration-color: #008080; font-weight: bold\">0.103</span>, Epoch time = <span style=\"color: #008080; text-decoration-color: #008080; font-weight: bold\">92.</span>046s\n",
              "</pre>\n"
            ],
            "text/plain": [
              "Epoch: \u001b[1;36m121\u001b[0m, Train loss: \u001b[1;36m0.043\u001b[0m, Val loss: \u001b[1;36m0.103\u001b[0m, Epoch time = \u001b[1;36m92.\u001b[0m046s\n"
            ]
          },
          "metadata": {
            "tags": []
          }
        },
        {
          "output_type": "display_data",
          "data": {
            "text/html": [
              "<pre style=\"white-space:pre;overflow-x:auto;line-height:normal;font-family:Menlo,'DejaVu Sans Mono',consolas,'Courier New',monospace\">Epoch: <span style=\"color: #008080; text-decoration-color: #008080; font-weight: bold\">122</span>, Train loss: <span style=\"color: #008080; text-decoration-color: #008080; font-weight: bold\">0.043</span>, Val loss: <span style=\"color: #008080; text-decoration-color: #008080; font-weight: bold\">0.103</span>, Epoch time = <span style=\"color: #008080; text-decoration-color: #008080; font-weight: bold\">92.</span>529s\n",
              "</pre>\n"
            ],
            "text/plain": [
              "Epoch: \u001b[1;36m122\u001b[0m, Train loss: \u001b[1;36m0.043\u001b[0m, Val loss: \u001b[1;36m0.103\u001b[0m, Epoch time = \u001b[1;36m92.\u001b[0m529s\n"
            ]
          },
          "metadata": {
            "tags": []
          }
        },
        {
          "output_type": "display_data",
          "data": {
            "text/html": [
              "<pre style=\"white-space:pre;overflow-x:auto;line-height:normal;font-family:Menlo,'DejaVu Sans Mono',consolas,'Courier New',monospace\">Epoch: <span style=\"color: #008080; text-decoration-color: #008080; font-weight: bold\">123</span>, Train loss: <span style=\"color: #008080; text-decoration-color: #008080; font-weight: bold\">0.042</span>, Val loss: <span style=\"color: #008080; text-decoration-color: #008080; font-weight: bold\">0.105</span>, Epoch time = <span style=\"color: #008080; text-decoration-color: #008080; font-weight: bold\">91.</span>770s\n",
              "</pre>\n"
            ],
            "text/plain": [
              "Epoch: \u001b[1;36m123\u001b[0m, Train loss: \u001b[1;36m0.042\u001b[0m, Val loss: \u001b[1;36m0.105\u001b[0m, Epoch time = \u001b[1;36m91.\u001b[0m770s\n"
            ]
          },
          "metadata": {
            "tags": []
          }
        },
        {
          "output_type": "display_data",
          "data": {
            "text/html": [
              "<pre style=\"white-space:pre;overflow-x:auto;line-height:normal;font-family:Menlo,'DejaVu Sans Mono',consolas,'Courier New',monospace\">Epoch: <span style=\"color: #008080; text-decoration-color: #008080; font-weight: bold\">124</span>, Train loss: <span style=\"color: #008080; text-decoration-color: #008080; font-weight: bold\">0.042</span>, Val loss: <span style=\"color: #008080; text-decoration-color: #008080; font-weight: bold\">0.106</span>, Epoch time = <span style=\"color: #008080; text-decoration-color: #008080; font-weight: bold\">92.</span>225s\n",
              "</pre>\n"
            ],
            "text/plain": [
              "Epoch: \u001b[1;36m124\u001b[0m, Train loss: \u001b[1;36m0.042\u001b[0m, Val loss: \u001b[1;36m0.106\u001b[0m, Epoch time = \u001b[1;36m92.\u001b[0m225s\n"
            ]
          },
          "metadata": {
            "tags": []
          }
        },
        {
          "output_type": "display_data",
          "data": {
            "text/html": [
              "<pre style=\"white-space:pre;overflow-x:auto;line-height:normal;font-family:Menlo,'DejaVu Sans Mono',consolas,'Courier New',monospace\">Epoch: <span style=\"color: #008080; text-decoration-color: #008080; font-weight: bold\">125</span>, Train loss: <span style=\"color: #008080; text-decoration-color: #008080; font-weight: bold\">0.041</span>, Val loss: <span style=\"color: #008080; text-decoration-color: #008080; font-weight: bold\">0.106</span>, Epoch time = <span style=\"color: #008080; text-decoration-color: #008080; font-weight: bold\">91.</span>490s\n",
              "</pre>\n"
            ],
            "text/plain": [
              "Epoch: \u001b[1;36m125\u001b[0m, Train loss: \u001b[1;36m0.041\u001b[0m, Val loss: \u001b[1;36m0.106\u001b[0m, Epoch time = \u001b[1;36m91.\u001b[0m490s\n"
            ]
          },
          "metadata": {
            "tags": []
          }
        },
        {
          "output_type": "display_data",
          "data": {
            "text/html": [
              "<pre style=\"white-space:pre;overflow-x:auto;line-height:normal;font-family:Menlo,'DejaVu Sans Mono',consolas,'Courier New',monospace\">Epoch: <span style=\"color: #008080; text-decoration-color: #008080; font-weight: bold\">126</span>, Train loss: <span style=\"color: #008080; text-decoration-color: #008080; font-weight: bold\">0.041</span>, Val loss: <span style=\"color: #008080; text-decoration-color: #008080; font-weight: bold\">0.107</span>, Epoch time = <span style=\"color: #008080; text-decoration-color: #008080; font-weight: bold\">92.</span>095s\n",
              "</pre>\n"
            ],
            "text/plain": [
              "Epoch: \u001b[1;36m126\u001b[0m, Train loss: \u001b[1;36m0.041\u001b[0m, Val loss: \u001b[1;36m0.107\u001b[0m, Epoch time = \u001b[1;36m92.\u001b[0m095s\n"
            ]
          },
          "metadata": {
            "tags": []
          }
        },
        {
          "output_type": "display_data",
          "data": {
            "text/html": [
              "<pre style=\"white-space:pre;overflow-x:auto;line-height:normal;font-family:Menlo,'DejaVu Sans Mono',consolas,'Courier New',monospace\">Epoch: <span style=\"color: #008080; text-decoration-color: #008080; font-weight: bold\">127</span>, Train loss: <span style=\"color: #008080; text-decoration-color: #008080; font-weight: bold\">0.041</span>, Val loss: <span style=\"color: #008080; text-decoration-color: #008080; font-weight: bold\">0.107</span>, Epoch time = <span style=\"color: #008080; text-decoration-color: #008080; font-weight: bold\">91.</span>480s\n",
              "</pre>\n"
            ],
            "text/plain": [
              "Epoch: \u001b[1;36m127\u001b[0m, Train loss: \u001b[1;36m0.041\u001b[0m, Val loss: \u001b[1;36m0.107\u001b[0m, Epoch time = \u001b[1;36m91.\u001b[0m480s\n"
            ]
          },
          "metadata": {
            "tags": []
          }
        },
        {
          "output_type": "display_data",
          "data": {
            "text/html": [
              "<pre style=\"white-space:pre;overflow-x:auto;line-height:normal;font-family:Menlo,'DejaVu Sans Mono',consolas,'Courier New',monospace\">Epoch: <span style=\"color: #008080; text-decoration-color: #008080; font-weight: bold\">128</span>, Train loss: <span style=\"color: #008080; text-decoration-color: #008080; font-weight: bold\">0.040</span>, Val loss: <span style=\"color: #008080; text-decoration-color: #008080; font-weight: bold\">0.107</span>, Epoch time = <span style=\"color: #008080; text-decoration-color: #008080; font-weight: bold\">91.</span>800s\n",
              "</pre>\n"
            ],
            "text/plain": [
              "Epoch: \u001b[1;36m128\u001b[0m, Train loss: \u001b[1;36m0.040\u001b[0m, Val loss: \u001b[1;36m0.107\u001b[0m, Epoch time = \u001b[1;36m91.\u001b[0m800s\n"
            ]
          },
          "metadata": {
            "tags": []
          }
        },
        {
          "output_type": "display_data",
          "data": {
            "text/html": [
              "<pre style=\"white-space:pre;overflow-x:auto;line-height:normal;font-family:Menlo,'DejaVu Sans Mono',consolas,'Courier New',monospace\">Epoch: <span style=\"color: #008080; text-decoration-color: #008080; font-weight: bold\">129</span>, Train loss: <span style=\"color: #008080; text-decoration-color: #008080; font-weight: bold\">0.040</span>, Val loss: <span style=\"color: #008080; text-decoration-color: #008080; font-weight: bold\">0.108</span>, Epoch time = <span style=\"color: #008080; text-decoration-color: #008080; font-weight: bold\">91.</span>849s\n",
              "</pre>\n"
            ],
            "text/plain": [
              "Epoch: \u001b[1;36m129\u001b[0m, Train loss: \u001b[1;36m0.040\u001b[0m, Val loss: \u001b[1;36m0.108\u001b[0m, Epoch time = \u001b[1;36m91.\u001b[0m849s\n"
            ]
          },
          "metadata": {
            "tags": []
          }
        },
        {
          "output_type": "display_data",
          "data": {
            "text/html": [
              "<pre style=\"white-space:pre;overflow-x:auto;line-height:normal;font-family:Menlo,'DejaVu Sans Mono',consolas,'Courier New',monospace\">Epoch: <span style=\"color: #008080; text-decoration-color: #008080; font-weight: bold\">130</span>, Train loss: <span style=\"color: #008080; text-decoration-color: #008080; font-weight: bold\">0.040</span>, Val loss: <span style=\"color: #008080; text-decoration-color: #008080; font-weight: bold\">0.107</span>, Epoch time = <span style=\"color: #008080; text-decoration-color: #008080; font-weight: bold\">91.</span>170s\n",
              "</pre>\n"
            ],
            "text/plain": [
              "Epoch: \u001b[1;36m130\u001b[0m, Train loss: \u001b[1;36m0.040\u001b[0m, Val loss: \u001b[1;36m0.107\u001b[0m, Epoch time = \u001b[1;36m91.\u001b[0m170s\n"
            ]
          },
          "metadata": {
            "tags": []
          }
        },
        {
          "output_type": "display_data",
          "data": {
            "text/html": [
              "<pre style=\"white-space:pre;overflow-x:auto;line-height:normal;font-family:Menlo,'DejaVu Sans Mono',consolas,'Courier New',monospace\">Epoch: <span style=\"color: #008080; text-decoration-color: #008080; font-weight: bold\">131</span>, Train loss: <span style=\"color: #008080; text-decoration-color: #008080; font-weight: bold\">0.039</span>, Val loss: <span style=\"color: #008080; text-decoration-color: #008080; font-weight: bold\">0.107</span>, Epoch time = <span style=\"color: #008080; text-decoration-color: #008080; font-weight: bold\">91.</span>664s\n",
              "</pre>\n"
            ],
            "text/plain": [
              "Epoch: \u001b[1;36m131\u001b[0m, Train loss: \u001b[1;36m0.039\u001b[0m, Val loss: \u001b[1;36m0.107\u001b[0m, Epoch time = \u001b[1;36m91.\u001b[0m664s\n"
            ]
          },
          "metadata": {
            "tags": []
          }
        },
        {
          "output_type": "display_data",
          "data": {
            "text/html": [
              "<pre style=\"white-space:pre;overflow-x:auto;line-height:normal;font-family:Menlo,'DejaVu Sans Mono',consolas,'Courier New',monospace\">Epoch: <span style=\"color: #008080; text-decoration-color: #008080; font-weight: bold\">132</span>, Train loss: <span style=\"color: #008080; text-decoration-color: #008080; font-weight: bold\">0.038</span>, Val loss: <span style=\"color: #008080; text-decoration-color: #008080; font-weight: bold\">0.107</span>, Epoch time = <span style=\"color: #008080; text-decoration-color: #008080; font-weight: bold\">91.</span>384s\n",
              "</pre>\n"
            ],
            "text/plain": [
              "Epoch: \u001b[1;36m132\u001b[0m, Train loss: \u001b[1;36m0.038\u001b[0m, Val loss: \u001b[1;36m0.107\u001b[0m, Epoch time = \u001b[1;36m91.\u001b[0m384s\n"
            ]
          },
          "metadata": {
            "tags": []
          }
        },
        {
          "output_type": "display_data",
          "data": {
            "text/html": [
              "<pre style=\"white-space:pre;overflow-x:auto;line-height:normal;font-family:Menlo,'DejaVu Sans Mono',consolas,'Courier New',monospace\">Epoch: <span style=\"color: #008080; text-decoration-color: #008080; font-weight: bold\">133</span>, Train loss: <span style=\"color: #008080; text-decoration-color: #008080; font-weight: bold\">0.038</span>, Val loss: <span style=\"color: #008080; text-decoration-color: #008080; font-weight: bold\">0.106</span>, Epoch time = <span style=\"color: #008080; text-decoration-color: #008080; font-weight: bold\">92.</span>238s\n",
              "</pre>\n"
            ],
            "text/plain": [
              "Epoch: \u001b[1;36m133\u001b[0m, Train loss: \u001b[1;36m0.038\u001b[0m, Val loss: \u001b[1;36m0.106\u001b[0m, Epoch time = \u001b[1;36m92.\u001b[0m238s\n"
            ]
          },
          "metadata": {
            "tags": []
          }
        },
        {
          "output_type": "display_data",
          "data": {
            "text/html": [
              "<pre style=\"white-space:pre;overflow-x:auto;line-height:normal;font-family:Menlo,'DejaVu Sans Mono',consolas,'Courier New',monospace\">Epoch: <span style=\"color: #008080; text-decoration-color: #008080; font-weight: bold\">134</span>, Train loss: <span style=\"color: #008080; text-decoration-color: #008080; font-weight: bold\">0.038</span>, Val loss: <span style=\"color: #008080; text-decoration-color: #008080; font-weight: bold\">0.109</span>, Epoch time = <span style=\"color: #008080; text-decoration-color: #008080; font-weight: bold\">91.</span>283s\n",
              "</pre>\n"
            ],
            "text/plain": [
              "Epoch: \u001b[1;36m134\u001b[0m, Train loss: \u001b[1;36m0.038\u001b[0m, Val loss: \u001b[1;36m0.109\u001b[0m, Epoch time = \u001b[1;36m91.\u001b[0m283s\n"
            ]
          },
          "metadata": {
            "tags": []
          }
        },
        {
          "output_type": "display_data",
          "data": {
            "text/html": [
              "<pre style=\"white-space:pre;overflow-x:auto;line-height:normal;font-family:Menlo,'DejaVu Sans Mono',consolas,'Courier New',monospace\">Epoch: <span style=\"color: #008080; text-decoration-color: #008080; font-weight: bold\">135</span>, Train loss: <span style=\"color: #008080; text-decoration-color: #008080; font-weight: bold\">0.038</span>, Val loss: <span style=\"color: #008080; text-decoration-color: #008080; font-weight: bold\">0.109</span>, Epoch time = <span style=\"color: #008080; text-decoration-color: #008080; font-weight: bold\">91.</span>547s\n",
              "</pre>\n"
            ],
            "text/plain": [
              "Epoch: \u001b[1;36m135\u001b[0m, Train loss: \u001b[1;36m0.038\u001b[0m, Val loss: \u001b[1;36m0.109\u001b[0m, Epoch time = \u001b[1;36m91.\u001b[0m547s\n"
            ]
          },
          "metadata": {
            "tags": []
          }
        },
        {
          "output_type": "display_data",
          "data": {
            "text/html": [
              "<pre style=\"white-space:pre;overflow-x:auto;line-height:normal;font-family:Menlo,'DejaVu Sans Mono',consolas,'Courier New',monospace\">Epoch: <span style=\"color: #008080; text-decoration-color: #008080; font-weight: bold\">136</span>, Train loss: <span style=\"color: #008080; text-decoration-color: #008080; font-weight: bold\">0.037</span>, Val loss: <span style=\"color: #008080; text-decoration-color: #008080; font-weight: bold\">0.107</span>, Epoch time = <span style=\"color: #008080; text-decoration-color: #008080; font-weight: bold\">92.</span>143s\n",
              "</pre>\n"
            ],
            "text/plain": [
              "Epoch: \u001b[1;36m136\u001b[0m, Train loss: \u001b[1;36m0.037\u001b[0m, Val loss: \u001b[1;36m0.107\u001b[0m, Epoch time = \u001b[1;36m92.\u001b[0m143s\n"
            ]
          },
          "metadata": {
            "tags": []
          }
        },
        {
          "output_type": "display_data",
          "data": {
            "text/html": [
              "<pre style=\"white-space:pre;overflow-x:auto;line-height:normal;font-family:Menlo,'DejaVu Sans Mono',consolas,'Courier New',monospace\">Epoch: <span style=\"color: #008080; text-decoration-color: #008080; font-weight: bold\">137</span>, Train loss: <span style=\"color: #008080; text-decoration-color: #008080; font-weight: bold\">0.037</span>, Val loss: <span style=\"color: #008080; text-decoration-color: #008080; font-weight: bold\">0.111</span>, Epoch time = <span style=\"color: #008080; text-decoration-color: #008080; font-weight: bold\">92.</span>342s\n",
              "</pre>\n"
            ],
            "text/plain": [
              "Epoch: \u001b[1;36m137\u001b[0m, Train loss: \u001b[1;36m0.037\u001b[0m, Val loss: \u001b[1;36m0.111\u001b[0m, Epoch time = \u001b[1;36m92.\u001b[0m342s\n"
            ]
          },
          "metadata": {
            "tags": []
          }
        },
        {
          "output_type": "display_data",
          "data": {
            "text/html": [
              "<pre style=\"white-space:pre;overflow-x:auto;line-height:normal;font-family:Menlo,'DejaVu Sans Mono',consolas,'Courier New',monospace\">Epoch: <span style=\"color: #008080; text-decoration-color: #008080; font-weight: bold\">138</span>, Train loss: <span style=\"color: #008080; text-decoration-color: #008080; font-weight: bold\">0.037</span>, Val loss: <span style=\"color: #008080; text-decoration-color: #008080; font-weight: bold\">0.115</span>, Epoch time = <span style=\"color: #008080; text-decoration-color: #008080; font-weight: bold\">91.</span>953s\n",
              "</pre>\n"
            ],
            "text/plain": [
              "Epoch: \u001b[1;36m138\u001b[0m, Train loss: \u001b[1;36m0.037\u001b[0m, Val loss: \u001b[1;36m0.115\u001b[0m, Epoch time = \u001b[1;36m91.\u001b[0m953s\n"
            ]
          },
          "metadata": {
            "tags": []
          }
        },
        {
          "output_type": "display_data",
          "data": {
            "text/html": [
              "<pre style=\"white-space:pre;overflow-x:auto;line-height:normal;font-family:Menlo,'DejaVu Sans Mono',consolas,'Courier New',monospace\">Epoch: <span style=\"color: #008080; text-decoration-color: #008080; font-weight: bold\">139</span>, Train loss: <span style=\"color: #008080; text-decoration-color: #008080; font-weight: bold\">0.036</span>, Val loss: <span style=\"color: #008080; text-decoration-color: #008080; font-weight: bold\">0.111</span>, Epoch time = <span style=\"color: #008080; text-decoration-color: #008080; font-weight: bold\">91.</span>745s\n",
              "</pre>\n"
            ],
            "text/plain": [
              "Epoch: \u001b[1;36m139\u001b[0m, Train loss: \u001b[1;36m0.036\u001b[0m, Val loss: \u001b[1;36m0.111\u001b[0m, Epoch time = \u001b[1;36m91.\u001b[0m745s\n"
            ]
          },
          "metadata": {
            "tags": []
          }
        },
        {
          "output_type": "display_data",
          "data": {
            "text/html": [
              "<pre style=\"white-space:pre;overflow-x:auto;line-height:normal;font-family:Menlo,'DejaVu Sans Mono',consolas,'Courier New',monospace\">Epoch: <span style=\"color: #008080; text-decoration-color: #008080; font-weight: bold\">140</span>, Train loss: <span style=\"color: #008080; text-decoration-color: #008080; font-weight: bold\">0.036</span>, Val loss: <span style=\"color: #008080; text-decoration-color: #008080; font-weight: bold\">0.115</span>, Epoch time = <span style=\"color: #008080; text-decoration-color: #008080; font-weight: bold\">91.</span>830s\n",
              "</pre>\n"
            ],
            "text/plain": [
              "Epoch: \u001b[1;36m140\u001b[0m, Train loss: \u001b[1;36m0.036\u001b[0m, Val loss: \u001b[1;36m0.115\u001b[0m, Epoch time = \u001b[1;36m91.\u001b[0m830s\n"
            ]
          },
          "metadata": {
            "tags": []
          }
        },
        {
          "output_type": "display_data",
          "data": {
            "text/html": [
              "<pre style=\"white-space:pre;overflow-x:auto;line-height:normal;font-family:Menlo,'DejaVu Sans Mono',consolas,'Courier New',monospace\">Epoch: <span style=\"color: #008080; text-decoration-color: #008080; font-weight: bold\">141</span>, Train loss: <span style=\"color: #008080; text-decoration-color: #008080; font-weight: bold\">0.036</span>, Val loss: <span style=\"color: #008080; text-decoration-color: #008080; font-weight: bold\">0.109</span>, Epoch time = <span style=\"color: #008080; text-decoration-color: #008080; font-weight: bold\">91.</span>781s\n",
              "</pre>\n"
            ],
            "text/plain": [
              "Epoch: \u001b[1;36m141\u001b[0m, Train loss: \u001b[1;36m0.036\u001b[0m, Val loss: \u001b[1;36m0.109\u001b[0m, Epoch time = \u001b[1;36m91.\u001b[0m781s\n"
            ]
          },
          "metadata": {
            "tags": []
          }
        },
        {
          "output_type": "display_data",
          "data": {
            "text/html": [
              "<pre style=\"white-space:pre;overflow-x:auto;line-height:normal;font-family:Menlo,'DejaVu Sans Mono',consolas,'Courier New',monospace\">Epoch: <span style=\"color: #008080; text-decoration-color: #008080; font-weight: bold\">142</span>, Train loss: <span style=\"color: #008080; text-decoration-color: #008080; font-weight: bold\">0.036</span>, Val loss: <span style=\"color: #008080; text-decoration-color: #008080; font-weight: bold\">0.109</span>, Epoch time = <span style=\"color: #008080; text-decoration-color: #008080; font-weight: bold\">92.</span>073s\n",
              "</pre>\n"
            ],
            "text/plain": [
              "Epoch: \u001b[1;36m142\u001b[0m, Train loss: \u001b[1;36m0.036\u001b[0m, Val loss: \u001b[1;36m0.109\u001b[0m, Epoch time = \u001b[1;36m92.\u001b[0m073s\n"
            ]
          },
          "metadata": {
            "tags": []
          }
        },
        {
          "output_type": "display_data",
          "data": {
            "text/html": [
              "<pre style=\"white-space:pre;overflow-x:auto;line-height:normal;font-family:Menlo,'DejaVu Sans Mono',consolas,'Courier New',monospace\">Epoch: <span style=\"color: #008080; text-decoration-color: #008080; font-weight: bold\">143</span>, Train loss: <span style=\"color: #008080; text-decoration-color: #008080; font-weight: bold\">0.035</span>, Val loss: <span style=\"color: #008080; text-decoration-color: #008080; font-weight: bold\">0.108</span>, Epoch time = <span style=\"color: #008080; text-decoration-color: #008080; font-weight: bold\">91.</span>927s\n",
              "</pre>\n"
            ],
            "text/plain": [
              "Epoch: \u001b[1;36m143\u001b[0m, Train loss: \u001b[1;36m0.035\u001b[0m, Val loss: \u001b[1;36m0.108\u001b[0m, Epoch time = \u001b[1;36m91.\u001b[0m927s\n"
            ]
          },
          "metadata": {
            "tags": []
          }
        },
        {
          "output_type": "display_data",
          "data": {
            "text/html": [
              "<pre style=\"white-space:pre;overflow-x:auto;line-height:normal;font-family:Menlo,'DejaVu Sans Mono',consolas,'Courier New',monospace\">Epoch: <span style=\"color: #008080; text-decoration-color: #008080; font-weight: bold\">144</span>, Train loss: <span style=\"color: #008080; text-decoration-color: #008080; font-weight: bold\">0.035</span>, Val loss: <span style=\"color: #008080; text-decoration-color: #008080; font-weight: bold\">0.113</span>, Epoch time = <span style=\"color: #008080; text-decoration-color: #008080; font-weight: bold\">92.</span>044s\n",
              "</pre>\n"
            ],
            "text/plain": [
              "Epoch: \u001b[1;36m144\u001b[0m, Train loss: \u001b[1;36m0.035\u001b[0m, Val loss: \u001b[1;36m0.113\u001b[0m, Epoch time = \u001b[1;36m92.\u001b[0m044s\n"
            ]
          },
          "metadata": {
            "tags": []
          }
        },
        {
          "output_type": "display_data",
          "data": {
            "text/html": [
              "<pre style=\"white-space:pre;overflow-x:auto;line-height:normal;font-family:Menlo,'DejaVu Sans Mono',consolas,'Courier New',monospace\">Epoch: <span style=\"color: #008080; text-decoration-color: #008080; font-weight: bold\">145</span>, Train loss: <span style=\"color: #008080; text-decoration-color: #008080; font-weight: bold\">0.034</span>, Val loss: <span style=\"color: #008080; text-decoration-color: #008080; font-weight: bold\">0.110</span>, Epoch time = <span style=\"color: #008080; text-decoration-color: #008080; font-weight: bold\">91.</span>428s\n",
              "</pre>\n"
            ],
            "text/plain": [
              "Epoch: \u001b[1;36m145\u001b[0m, Train loss: \u001b[1;36m0.034\u001b[0m, Val loss: \u001b[1;36m0.110\u001b[0m, Epoch time = \u001b[1;36m91.\u001b[0m428s\n"
            ]
          },
          "metadata": {
            "tags": []
          }
        },
        {
          "output_type": "display_data",
          "data": {
            "text/html": [
              "<pre style=\"white-space:pre;overflow-x:auto;line-height:normal;font-family:Menlo,'DejaVu Sans Mono',consolas,'Courier New',monospace\">Epoch: <span style=\"color: #008080; text-decoration-color: #008080; font-weight: bold\">146</span>, Train loss: <span style=\"color: #008080; text-decoration-color: #008080; font-weight: bold\">0.034</span>, Val loss: <span style=\"color: #008080; text-decoration-color: #008080; font-weight: bold\">0.112</span>, Epoch time = <span style=\"color: #008080; text-decoration-color: #008080; font-weight: bold\">92.</span>019s\n",
              "</pre>\n"
            ],
            "text/plain": [
              "Epoch: \u001b[1;36m146\u001b[0m, Train loss: \u001b[1;36m0.034\u001b[0m, Val loss: \u001b[1;36m0.112\u001b[0m, Epoch time = \u001b[1;36m92.\u001b[0m019s\n"
            ]
          },
          "metadata": {
            "tags": []
          }
        },
        {
          "output_type": "display_data",
          "data": {
            "text/html": [
              "<pre style=\"white-space:pre;overflow-x:auto;line-height:normal;font-family:Menlo,'DejaVu Sans Mono',consolas,'Courier New',monospace\">Epoch: <span style=\"color: #008080; text-decoration-color: #008080; font-weight: bold\">147</span>, Train loss: <span style=\"color: #008080; text-decoration-color: #008080; font-weight: bold\">0.034</span>, Val loss: <span style=\"color: #008080; text-decoration-color: #008080; font-weight: bold\">0.111</span>, Epoch time = <span style=\"color: #008080; text-decoration-color: #008080; font-weight: bold\">91.</span>748s\n",
              "</pre>\n"
            ],
            "text/plain": [
              "Epoch: \u001b[1;36m147\u001b[0m, Train loss: \u001b[1;36m0.034\u001b[0m, Val loss: \u001b[1;36m0.111\u001b[0m, Epoch time = \u001b[1;36m91.\u001b[0m748s\n"
            ]
          },
          "metadata": {
            "tags": []
          }
        },
        {
          "output_type": "display_data",
          "data": {
            "text/html": [
              "<pre style=\"white-space:pre;overflow-x:auto;line-height:normal;font-family:Menlo,'DejaVu Sans Mono',consolas,'Courier New',monospace\">Epoch: <span style=\"color: #008080; text-decoration-color: #008080; font-weight: bold\">148</span>, Train loss: <span style=\"color: #008080; text-decoration-color: #008080; font-weight: bold\">0.033</span>, Val loss: <span style=\"color: #008080; text-decoration-color: #008080; font-weight: bold\">0.111</span>, Epoch time = <span style=\"color: #008080; text-decoration-color: #008080; font-weight: bold\">92.</span>158s\n",
              "</pre>\n"
            ],
            "text/plain": [
              "Epoch: \u001b[1;36m148\u001b[0m, Train loss: \u001b[1;36m0.033\u001b[0m, Val loss: \u001b[1;36m0.111\u001b[0m, Epoch time = \u001b[1;36m92.\u001b[0m158s\n"
            ]
          },
          "metadata": {
            "tags": []
          }
        },
        {
          "output_type": "display_data",
          "data": {
            "text/html": [
              "<pre style=\"white-space:pre;overflow-x:auto;line-height:normal;font-family:Menlo,'DejaVu Sans Mono',consolas,'Courier New',monospace\">Epoch: <span style=\"color: #008080; text-decoration-color: #008080; font-weight: bold\">149</span>, Train loss: <span style=\"color: #008080; text-decoration-color: #008080; font-weight: bold\">0.033</span>, Val loss: <span style=\"color: #008080; text-decoration-color: #008080; font-weight: bold\">0.111</span>, Epoch time = <span style=\"color: #008080; text-decoration-color: #008080; font-weight: bold\">92.</span>405s\n",
              "</pre>\n"
            ],
            "text/plain": [
              "Epoch: \u001b[1;36m149\u001b[0m, Train loss: \u001b[1;36m0.033\u001b[0m, Val loss: \u001b[1;36m0.111\u001b[0m, Epoch time = \u001b[1;36m92.\u001b[0m405s\n"
            ]
          },
          "metadata": {
            "tags": []
          }
        },
        {
          "output_type": "display_data",
          "data": {
            "text/html": [
              "<pre style=\"white-space:pre;overflow-x:auto;line-height:normal;font-family:Menlo,'DejaVu Sans Mono',consolas,'Courier New',monospace\">Epoch: <span style=\"color: #008080; text-decoration-color: #008080; font-weight: bold\">150</span>, Train loss: <span style=\"color: #008080; text-decoration-color: #008080; font-weight: bold\">0.033</span>, Val loss: <span style=\"color: #008080; text-decoration-color: #008080; font-weight: bold\">0.112</span>, Epoch time = <span style=\"color: #008080; text-decoration-color: #008080; font-weight: bold\">91.</span>941s\n",
              "</pre>\n"
            ],
            "text/plain": [
              "Epoch: \u001b[1;36m150\u001b[0m, Train loss: \u001b[1;36m0.033\u001b[0m, Val loss: \u001b[1;36m0.112\u001b[0m, Epoch time = \u001b[1;36m91.\u001b[0m941s\n"
            ]
          },
          "metadata": {
            "tags": []
          }
        },
        {
          "output_type": "display_data",
          "data": {
            "text/html": [
              "<pre style=\"white-space:pre;overflow-x:auto;line-height:normal;font-family:Menlo,'DejaVu Sans Mono',consolas,'Courier New',monospace\">Epoch: <span style=\"color: #008080; text-decoration-color: #008080; font-weight: bold\">151</span>, Train loss: <span style=\"color: #008080; text-decoration-color: #008080; font-weight: bold\">0.033</span>, Val loss: <span style=\"color: #008080; text-decoration-color: #008080; font-weight: bold\">0.110</span>, Epoch time = <span style=\"color: #008080; text-decoration-color: #008080; font-weight: bold\">91.</span>729s\n",
              "</pre>\n"
            ],
            "text/plain": [
              "Epoch: \u001b[1;36m151\u001b[0m, Train loss: \u001b[1;36m0.033\u001b[0m, Val loss: \u001b[1;36m0.110\u001b[0m, Epoch time = \u001b[1;36m91.\u001b[0m729s\n"
            ]
          },
          "metadata": {
            "tags": []
          }
        },
        {
          "output_type": "display_data",
          "data": {
            "text/html": [
              "<pre style=\"white-space:pre;overflow-x:auto;line-height:normal;font-family:Menlo,'DejaVu Sans Mono',consolas,'Courier New',monospace\">Epoch: <span style=\"color: #008080; text-decoration-color: #008080; font-weight: bold\">152</span>, Train loss: <span style=\"color: #008080; text-decoration-color: #008080; font-weight: bold\">0.032</span>, Val loss: <span style=\"color: #008080; text-decoration-color: #008080; font-weight: bold\">0.111</span>, Epoch time = <span style=\"color: #008080; text-decoration-color: #008080; font-weight: bold\">92.</span>111s\n",
              "</pre>\n"
            ],
            "text/plain": [
              "Epoch: \u001b[1;36m152\u001b[0m, Train loss: \u001b[1;36m0.032\u001b[0m, Val loss: \u001b[1;36m0.111\u001b[0m, Epoch time = \u001b[1;36m92.\u001b[0m111s\n"
            ]
          },
          "metadata": {
            "tags": []
          }
        },
        {
          "output_type": "display_data",
          "data": {
            "text/html": [
              "<pre style=\"white-space:pre;overflow-x:auto;line-height:normal;font-family:Menlo,'DejaVu Sans Mono',consolas,'Courier New',monospace\">Epoch: <span style=\"color: #008080; text-decoration-color: #008080; font-weight: bold\">153</span>, Train loss: <span style=\"color: #008080; text-decoration-color: #008080; font-weight: bold\">0.032</span>, Val loss: <span style=\"color: #008080; text-decoration-color: #008080; font-weight: bold\">0.114</span>, Epoch time = <span style=\"color: #008080; text-decoration-color: #008080; font-weight: bold\">92.</span>225s\n",
              "</pre>\n"
            ],
            "text/plain": [
              "Epoch: \u001b[1;36m153\u001b[0m, Train loss: \u001b[1;36m0.032\u001b[0m, Val loss: \u001b[1;36m0.114\u001b[0m, Epoch time = \u001b[1;36m92.\u001b[0m225s\n"
            ]
          },
          "metadata": {
            "tags": []
          }
        },
        {
          "output_type": "display_data",
          "data": {
            "text/html": [
              "<pre style=\"white-space:pre;overflow-x:auto;line-height:normal;font-family:Menlo,'DejaVu Sans Mono',consolas,'Courier New',monospace\">Epoch: <span style=\"color: #008080; text-decoration-color: #008080; font-weight: bold\">154</span>, Train loss: <span style=\"color: #008080; text-decoration-color: #008080; font-weight: bold\">0.032</span>, Val loss: <span style=\"color: #008080; text-decoration-color: #008080; font-weight: bold\">0.111</span>, Epoch time = <span style=\"color: #008080; text-decoration-color: #008080; font-weight: bold\">91.</span>889s\n",
              "</pre>\n"
            ],
            "text/plain": [
              "Epoch: \u001b[1;36m154\u001b[0m, Train loss: \u001b[1;36m0.032\u001b[0m, Val loss: \u001b[1;36m0.111\u001b[0m, Epoch time = \u001b[1;36m91.\u001b[0m889s\n"
            ]
          },
          "metadata": {
            "tags": []
          }
        },
        {
          "output_type": "display_data",
          "data": {
            "text/html": [
              "<pre style=\"white-space:pre;overflow-x:auto;line-height:normal;font-family:Menlo,'DejaVu Sans Mono',consolas,'Courier New',monospace\">Epoch: <span style=\"color: #008080; text-decoration-color: #008080; font-weight: bold\">155</span>, Train loss: <span style=\"color: #008080; text-decoration-color: #008080; font-weight: bold\">0.031</span>, Val loss: <span style=\"color: #008080; text-decoration-color: #008080; font-weight: bold\">0.115</span>, Epoch time = <span style=\"color: #008080; text-decoration-color: #008080; font-weight: bold\">91.</span>593s\n",
              "</pre>\n"
            ],
            "text/plain": [
              "Epoch: \u001b[1;36m155\u001b[0m, Train loss: \u001b[1;36m0.031\u001b[0m, Val loss: \u001b[1;36m0.115\u001b[0m, Epoch time = \u001b[1;36m91.\u001b[0m593s\n"
            ]
          },
          "metadata": {
            "tags": []
          }
        },
        {
          "output_type": "display_data",
          "data": {
            "text/html": [
              "<pre style=\"white-space:pre;overflow-x:auto;line-height:normal;font-family:Menlo,'DejaVu Sans Mono',consolas,'Courier New',monospace\">Epoch: <span style=\"color: #008080; text-decoration-color: #008080; font-weight: bold\">156</span>, Train loss: <span style=\"color: #008080; text-decoration-color: #008080; font-weight: bold\">0.031</span>, Val loss: <span style=\"color: #008080; text-decoration-color: #008080; font-weight: bold\">0.114</span>, Epoch time = <span style=\"color: #008080; text-decoration-color: #008080; font-weight: bold\">91.</span>765s\n",
              "</pre>\n"
            ],
            "text/plain": [
              "Epoch: \u001b[1;36m156\u001b[0m, Train loss: \u001b[1;36m0.031\u001b[0m, Val loss: \u001b[1;36m0.114\u001b[0m, Epoch time = \u001b[1;36m91.\u001b[0m765s\n"
            ]
          },
          "metadata": {
            "tags": []
          }
        },
        {
          "output_type": "display_data",
          "data": {
            "text/html": [
              "<pre style=\"white-space:pre;overflow-x:auto;line-height:normal;font-family:Menlo,'DejaVu Sans Mono',consolas,'Courier New',monospace\">Epoch: <span style=\"color: #008080; text-decoration-color: #008080; font-weight: bold\">157</span>, Train loss: <span style=\"color: #008080; text-decoration-color: #008080; font-weight: bold\">0.031</span>, Val loss: <span style=\"color: #008080; text-decoration-color: #008080; font-weight: bold\">0.112</span>, Epoch time = <span style=\"color: #008080; text-decoration-color: #008080; font-weight: bold\">91.</span>426s\n",
              "</pre>\n"
            ],
            "text/plain": [
              "Epoch: \u001b[1;36m157\u001b[0m, Train loss: \u001b[1;36m0.031\u001b[0m, Val loss: \u001b[1;36m0.112\u001b[0m, Epoch time = \u001b[1;36m91.\u001b[0m426s\n"
            ]
          },
          "metadata": {
            "tags": []
          }
        },
        {
          "output_type": "display_data",
          "data": {
            "text/html": [
              "<pre style=\"white-space:pre;overflow-x:auto;line-height:normal;font-family:Menlo,'DejaVu Sans Mono',consolas,'Courier New',monospace\">Epoch: <span style=\"color: #008080; text-decoration-color: #008080; font-weight: bold\">158</span>, Train loss: <span style=\"color: #008080; text-decoration-color: #008080; font-weight: bold\">0.030</span>, Val loss: <span style=\"color: #008080; text-decoration-color: #008080; font-weight: bold\">0.116</span>, Epoch time = <span style=\"color: #008080; text-decoration-color: #008080; font-weight: bold\">92.</span>007s\n",
              "</pre>\n"
            ],
            "text/plain": [
              "Epoch: \u001b[1;36m158\u001b[0m, Train loss: \u001b[1;36m0.030\u001b[0m, Val loss: \u001b[1;36m0.116\u001b[0m, Epoch time = \u001b[1;36m92.\u001b[0m007s\n"
            ]
          },
          "metadata": {
            "tags": []
          }
        },
        {
          "output_type": "display_data",
          "data": {
            "text/html": [
              "<pre style=\"white-space:pre;overflow-x:auto;line-height:normal;font-family:Menlo,'DejaVu Sans Mono',consolas,'Courier New',monospace\">Epoch: <span style=\"color: #008080; text-decoration-color: #008080; font-weight: bold\">159</span>, Train loss: <span style=\"color: #008080; text-decoration-color: #008080; font-weight: bold\">0.030</span>, Val loss: <span style=\"color: #008080; text-decoration-color: #008080; font-weight: bold\">0.113</span>, Epoch time = <span style=\"color: #008080; text-decoration-color: #008080; font-weight: bold\">91.</span>923s\n",
              "</pre>\n"
            ],
            "text/plain": [
              "Epoch: \u001b[1;36m159\u001b[0m, Train loss: \u001b[1;36m0.030\u001b[0m, Val loss: \u001b[1;36m0.113\u001b[0m, Epoch time = \u001b[1;36m91.\u001b[0m923s\n"
            ]
          },
          "metadata": {
            "tags": []
          }
        },
        {
          "output_type": "display_data",
          "data": {
            "text/html": [
              "<pre style=\"white-space:pre;overflow-x:auto;line-height:normal;font-family:Menlo,'DejaVu Sans Mono',consolas,'Courier New',monospace\">Epoch: <span style=\"color: #008080; text-decoration-color: #008080; font-weight: bold\">160</span>, Train loss: <span style=\"color: #008080; text-decoration-color: #008080; font-weight: bold\">0.030</span>, Val loss: <span style=\"color: #008080; text-decoration-color: #008080; font-weight: bold\">0.114</span>, Epoch time = <span style=\"color: #008080; text-decoration-color: #008080; font-weight: bold\">92.</span>079s\n",
              "</pre>\n"
            ],
            "text/plain": [
              "Epoch: \u001b[1;36m160\u001b[0m, Train loss: \u001b[1;36m0.030\u001b[0m, Val loss: \u001b[1;36m0.114\u001b[0m, Epoch time = \u001b[1;36m92.\u001b[0m079s\n"
            ]
          },
          "metadata": {
            "tags": []
          }
        },
        {
          "output_type": "display_data",
          "data": {
            "text/html": [
              "<pre style=\"white-space:pre;overflow-x:auto;line-height:normal;font-family:Menlo,'DejaVu Sans Mono',consolas,'Courier New',monospace\">Epoch: <span style=\"color: #008080; text-decoration-color: #008080; font-weight: bold\">161</span>, Train loss: <span style=\"color: #008080; text-decoration-color: #008080; font-weight: bold\">0.030</span>, Val loss: <span style=\"color: #008080; text-decoration-color: #008080; font-weight: bold\">0.113</span>, Epoch time = <span style=\"color: #008080; text-decoration-color: #008080; font-weight: bold\">91.</span>794s\n",
              "</pre>\n"
            ],
            "text/plain": [
              "Epoch: \u001b[1;36m161\u001b[0m, Train loss: \u001b[1;36m0.030\u001b[0m, Val loss: \u001b[1;36m0.113\u001b[0m, Epoch time = \u001b[1;36m91.\u001b[0m794s\n"
            ]
          },
          "metadata": {
            "tags": []
          }
        },
        {
          "output_type": "display_data",
          "data": {
            "text/html": [
              "<pre style=\"white-space:pre;overflow-x:auto;line-height:normal;font-family:Menlo,'DejaVu Sans Mono',consolas,'Courier New',monospace\">Epoch: <span style=\"color: #008080; text-decoration-color: #008080; font-weight: bold\">162</span>, Train loss: <span style=\"color: #008080; text-decoration-color: #008080; font-weight: bold\">0.030</span>, Val loss: <span style=\"color: #008080; text-decoration-color: #008080; font-weight: bold\">0.117</span>, Epoch time = <span style=\"color: #008080; text-decoration-color: #008080; font-weight: bold\">91.</span>776s\n",
              "</pre>\n"
            ],
            "text/plain": [
              "Epoch: \u001b[1;36m162\u001b[0m, Train loss: \u001b[1;36m0.030\u001b[0m, Val loss: \u001b[1;36m0.117\u001b[0m, Epoch time = \u001b[1;36m91.\u001b[0m776s\n"
            ]
          },
          "metadata": {
            "tags": []
          }
        },
        {
          "output_type": "display_data",
          "data": {
            "text/html": [
              "<pre style=\"white-space:pre;overflow-x:auto;line-height:normal;font-family:Menlo,'DejaVu Sans Mono',consolas,'Courier New',monospace\">Epoch: <span style=\"color: #008080; text-decoration-color: #008080; font-weight: bold\">163</span>, Train loss: <span style=\"color: #008080; text-decoration-color: #008080; font-weight: bold\">0.029</span>, Val loss: <span style=\"color: #008080; text-decoration-color: #008080; font-weight: bold\">0.117</span>, Epoch time = <span style=\"color: #008080; text-decoration-color: #008080; font-weight: bold\">91.</span>971s\n",
              "</pre>\n"
            ],
            "text/plain": [
              "Epoch: \u001b[1;36m163\u001b[0m, Train loss: \u001b[1;36m0.029\u001b[0m, Val loss: \u001b[1;36m0.117\u001b[0m, Epoch time = \u001b[1;36m91.\u001b[0m971s\n"
            ]
          },
          "metadata": {
            "tags": []
          }
        },
        {
          "output_type": "display_data",
          "data": {
            "text/html": [
              "<pre style=\"white-space:pre;overflow-x:auto;line-height:normal;font-family:Menlo,'DejaVu Sans Mono',consolas,'Courier New',monospace\">Epoch: <span style=\"color: #008080; text-decoration-color: #008080; font-weight: bold\">164</span>, Train loss: <span style=\"color: #008080; text-decoration-color: #008080; font-weight: bold\">0.029</span>, Val loss: <span style=\"color: #008080; text-decoration-color: #008080; font-weight: bold\">0.117</span>, Epoch time = <span style=\"color: #008080; text-decoration-color: #008080; font-weight: bold\">92.</span>664s\n",
              "</pre>\n"
            ],
            "text/plain": [
              "Epoch: \u001b[1;36m164\u001b[0m, Train loss: \u001b[1;36m0.029\u001b[0m, Val loss: \u001b[1;36m0.117\u001b[0m, Epoch time = \u001b[1;36m92.\u001b[0m664s\n"
            ]
          },
          "metadata": {
            "tags": []
          }
        },
        {
          "output_type": "display_data",
          "data": {
            "text/html": [
              "<pre style=\"white-space:pre;overflow-x:auto;line-height:normal;font-family:Menlo,'DejaVu Sans Mono',consolas,'Courier New',monospace\">Epoch: <span style=\"color: #008080; text-decoration-color: #008080; font-weight: bold\">165</span>, Train loss: <span style=\"color: #008080; text-decoration-color: #008080; font-weight: bold\">0.029</span>, Val loss: <span style=\"color: #008080; text-decoration-color: #008080; font-weight: bold\">0.112</span>, Epoch time = <span style=\"color: #008080; text-decoration-color: #008080; font-weight: bold\">90.</span>954s\n",
              "</pre>\n"
            ],
            "text/plain": [
              "Epoch: \u001b[1;36m165\u001b[0m, Train loss: \u001b[1;36m0.029\u001b[0m, Val loss: \u001b[1;36m0.112\u001b[0m, Epoch time = \u001b[1;36m90.\u001b[0m954s\n"
            ]
          },
          "metadata": {
            "tags": []
          }
        },
        {
          "output_type": "display_data",
          "data": {
            "text/html": [
              "<pre style=\"white-space:pre;overflow-x:auto;line-height:normal;font-family:Menlo,'DejaVu Sans Mono',consolas,'Courier New',monospace\">Epoch: <span style=\"color: #008080; text-decoration-color: #008080; font-weight: bold\">166</span>, Train loss: <span style=\"color: #008080; text-decoration-color: #008080; font-weight: bold\">0.029</span>, Val loss: <span style=\"color: #008080; text-decoration-color: #008080; font-weight: bold\">0.114</span>, Epoch time = <span style=\"color: #008080; text-decoration-color: #008080; font-weight: bold\">91.</span>918s\n",
              "</pre>\n"
            ],
            "text/plain": [
              "Epoch: \u001b[1;36m166\u001b[0m, Train loss: \u001b[1;36m0.029\u001b[0m, Val loss: \u001b[1;36m0.114\u001b[0m, Epoch time = \u001b[1;36m91.\u001b[0m918s\n"
            ]
          },
          "metadata": {
            "tags": []
          }
        },
        {
          "output_type": "display_data",
          "data": {
            "text/html": [
              "<pre style=\"white-space:pre;overflow-x:auto;line-height:normal;font-family:Menlo,'DejaVu Sans Mono',consolas,'Courier New',monospace\">Epoch: <span style=\"color: #008080; text-decoration-color: #008080; font-weight: bold\">167</span>, Train loss: <span style=\"color: #008080; text-decoration-color: #008080; font-weight: bold\">0.029</span>, Val loss: <span style=\"color: #008080; text-decoration-color: #008080; font-weight: bold\">0.118</span>, Epoch time = <span style=\"color: #008080; text-decoration-color: #008080; font-weight: bold\">91.</span>784s\n",
              "</pre>\n"
            ],
            "text/plain": [
              "Epoch: \u001b[1;36m167\u001b[0m, Train loss: \u001b[1;36m0.029\u001b[0m, Val loss: \u001b[1;36m0.118\u001b[0m, Epoch time = \u001b[1;36m91.\u001b[0m784s\n"
            ]
          },
          "metadata": {
            "tags": []
          }
        },
        {
          "output_type": "display_data",
          "data": {
            "text/html": [
              "<pre style=\"white-space:pre;overflow-x:auto;line-height:normal;font-family:Menlo,'DejaVu Sans Mono',consolas,'Courier New',monospace\">Epoch: <span style=\"color: #008080; text-decoration-color: #008080; font-weight: bold\">168</span>, Train loss: <span style=\"color: #008080; text-decoration-color: #008080; font-weight: bold\">0.029</span>, Val loss: <span style=\"color: #008080; text-decoration-color: #008080; font-weight: bold\">0.118</span>, Epoch time = <span style=\"color: #008080; text-decoration-color: #008080; font-weight: bold\">92.</span>218s\n",
              "</pre>\n"
            ],
            "text/plain": [
              "Epoch: \u001b[1;36m168\u001b[0m, Train loss: \u001b[1;36m0.029\u001b[0m, Val loss: \u001b[1;36m0.118\u001b[0m, Epoch time = \u001b[1;36m92.\u001b[0m218s\n"
            ]
          },
          "metadata": {
            "tags": []
          }
        },
        {
          "output_type": "display_data",
          "data": {
            "text/html": [
              "<pre style=\"white-space:pre;overflow-x:auto;line-height:normal;font-family:Menlo,'DejaVu Sans Mono',consolas,'Courier New',monospace\">Epoch: <span style=\"color: #008080; text-decoration-color: #008080; font-weight: bold\">169</span>, Train loss: <span style=\"color: #008080; text-decoration-color: #008080; font-weight: bold\">0.028</span>, Val loss: <span style=\"color: #008080; text-decoration-color: #008080; font-weight: bold\">0.118</span>, Epoch time = <span style=\"color: #008080; text-decoration-color: #008080; font-weight: bold\">92.</span>304s\n",
              "</pre>\n"
            ],
            "text/plain": [
              "Epoch: \u001b[1;36m169\u001b[0m, Train loss: \u001b[1;36m0.028\u001b[0m, Val loss: \u001b[1;36m0.118\u001b[0m, Epoch time = \u001b[1;36m92.\u001b[0m304s\n"
            ]
          },
          "metadata": {
            "tags": []
          }
        },
        {
          "output_type": "display_data",
          "data": {
            "text/html": [
              "<pre style=\"white-space:pre;overflow-x:auto;line-height:normal;font-family:Menlo,'DejaVu Sans Mono',consolas,'Courier New',monospace\">Epoch: <span style=\"color: #008080; text-decoration-color: #008080; font-weight: bold\">170</span>, Train loss: <span style=\"color: #008080; text-decoration-color: #008080; font-weight: bold\">0.028</span>, Val loss: <span style=\"color: #008080; text-decoration-color: #008080; font-weight: bold\">0.115</span>, Epoch time = <span style=\"color: #008080; text-decoration-color: #008080; font-weight: bold\">91.</span>738s\n",
              "</pre>\n"
            ],
            "text/plain": [
              "Epoch: \u001b[1;36m170\u001b[0m, Train loss: \u001b[1;36m0.028\u001b[0m, Val loss: \u001b[1;36m0.115\u001b[0m, Epoch time = \u001b[1;36m91.\u001b[0m738s\n"
            ]
          },
          "metadata": {
            "tags": []
          }
        },
        {
          "output_type": "display_data",
          "data": {
            "text/html": [
              "<pre style=\"white-space:pre;overflow-x:auto;line-height:normal;font-family:Menlo,'DejaVu Sans Mono',consolas,'Courier New',monospace\">Epoch: <span style=\"color: #008080; text-decoration-color: #008080; font-weight: bold\">171</span>, Train loss: <span style=\"color: #008080; text-decoration-color: #008080; font-weight: bold\">0.028</span>, Val loss: <span style=\"color: #008080; text-decoration-color: #008080; font-weight: bold\">0.117</span>, Epoch time = <span style=\"color: #008080; text-decoration-color: #008080; font-weight: bold\">91.</span>640s\n",
              "</pre>\n"
            ],
            "text/plain": [
              "Epoch: \u001b[1;36m171\u001b[0m, Train loss: \u001b[1;36m0.028\u001b[0m, Val loss: \u001b[1;36m0.117\u001b[0m, Epoch time = \u001b[1;36m91.\u001b[0m640s\n"
            ]
          },
          "metadata": {
            "tags": []
          }
        },
        {
          "output_type": "display_data",
          "data": {
            "text/html": [
              "<pre style=\"white-space:pre;overflow-x:auto;line-height:normal;font-family:Menlo,'DejaVu Sans Mono',consolas,'Courier New',monospace\">Epoch: <span style=\"color: #008080; text-decoration-color: #008080; font-weight: bold\">172</span>, Train loss: <span style=\"color: #008080; text-decoration-color: #008080; font-weight: bold\">0.028</span>, Val loss: <span style=\"color: #008080; text-decoration-color: #008080; font-weight: bold\">0.116</span>, Epoch time = <span style=\"color: #008080; text-decoration-color: #008080; font-weight: bold\">92.</span>360s\n",
              "</pre>\n"
            ],
            "text/plain": [
              "Epoch: \u001b[1;36m172\u001b[0m, Train loss: \u001b[1;36m0.028\u001b[0m, Val loss: \u001b[1;36m0.116\u001b[0m, Epoch time = \u001b[1;36m92.\u001b[0m360s\n"
            ]
          },
          "metadata": {
            "tags": []
          }
        },
        {
          "output_type": "display_data",
          "data": {
            "text/html": [
              "<pre style=\"white-space:pre;overflow-x:auto;line-height:normal;font-family:Menlo,'DejaVu Sans Mono',consolas,'Courier New',monospace\">Epoch: <span style=\"color: #008080; text-decoration-color: #008080; font-weight: bold\">173</span>, Train loss: <span style=\"color: #008080; text-decoration-color: #008080; font-weight: bold\">0.027</span>, Val loss: <span style=\"color: #008080; text-decoration-color: #008080; font-weight: bold\">0.115</span>, Epoch time = <span style=\"color: #008080; text-decoration-color: #008080; font-weight: bold\">91.</span>618s\n",
              "</pre>\n"
            ],
            "text/plain": [
              "Epoch: \u001b[1;36m173\u001b[0m, Train loss: \u001b[1;36m0.027\u001b[0m, Val loss: \u001b[1;36m0.115\u001b[0m, Epoch time = \u001b[1;36m91.\u001b[0m618s\n"
            ]
          },
          "metadata": {
            "tags": []
          }
        },
        {
          "output_type": "display_data",
          "data": {
            "text/html": [
              "<pre style=\"white-space:pre;overflow-x:auto;line-height:normal;font-family:Menlo,'DejaVu Sans Mono',consolas,'Courier New',monospace\">Epoch: <span style=\"color: #008080; text-decoration-color: #008080; font-weight: bold\">174</span>, Train loss: <span style=\"color: #008080; text-decoration-color: #008080; font-weight: bold\">0.027</span>, Val loss: <span style=\"color: #008080; text-decoration-color: #008080; font-weight: bold\">0.116</span>, Epoch time = <span style=\"color: #008080; text-decoration-color: #008080; font-weight: bold\">92.</span>006s\n",
              "</pre>\n"
            ],
            "text/plain": [
              "Epoch: \u001b[1;36m174\u001b[0m, Train loss: \u001b[1;36m0.027\u001b[0m, Val loss: \u001b[1;36m0.116\u001b[0m, Epoch time = \u001b[1;36m92.\u001b[0m006s\n"
            ]
          },
          "metadata": {
            "tags": []
          }
        },
        {
          "output_type": "display_data",
          "data": {
            "text/html": [
              "<pre style=\"white-space:pre;overflow-x:auto;line-height:normal;font-family:Menlo,'DejaVu Sans Mono',consolas,'Courier New',monospace\">Epoch: <span style=\"color: #008080; text-decoration-color: #008080; font-weight: bold\">175</span>, Train loss: <span style=\"color: #008080; text-decoration-color: #008080; font-weight: bold\">0.027</span>, Val loss: <span style=\"color: #008080; text-decoration-color: #008080; font-weight: bold\">0.117</span>, Epoch time = <span style=\"color: #008080; text-decoration-color: #008080; font-weight: bold\">91.</span>794s\n",
              "</pre>\n"
            ],
            "text/plain": [
              "Epoch: \u001b[1;36m175\u001b[0m, Train loss: \u001b[1;36m0.027\u001b[0m, Val loss: \u001b[1;36m0.117\u001b[0m, Epoch time = \u001b[1;36m91.\u001b[0m794s\n"
            ]
          },
          "metadata": {
            "tags": []
          }
        },
        {
          "output_type": "display_data",
          "data": {
            "text/html": [
              "<pre style=\"white-space:pre;overflow-x:auto;line-height:normal;font-family:Menlo,'DejaVu Sans Mono',consolas,'Courier New',monospace\">Epoch: <span style=\"color: #008080; text-decoration-color: #008080; font-weight: bold\">176</span>, Train loss: <span style=\"color: #008080; text-decoration-color: #008080; font-weight: bold\">0.027</span>, Val loss: <span style=\"color: #008080; text-decoration-color: #008080; font-weight: bold\">0.118</span>, Epoch time = <span style=\"color: #008080; text-decoration-color: #008080; font-weight: bold\">91.</span>817s\n",
              "</pre>\n"
            ],
            "text/plain": [
              "Epoch: \u001b[1;36m176\u001b[0m, Train loss: \u001b[1;36m0.027\u001b[0m, Val loss: \u001b[1;36m0.118\u001b[0m, Epoch time = \u001b[1;36m91.\u001b[0m817s\n"
            ]
          },
          "metadata": {
            "tags": []
          }
        },
        {
          "output_type": "display_data",
          "data": {
            "text/html": [
              "<pre style=\"white-space:pre;overflow-x:auto;line-height:normal;font-family:Menlo,'DejaVu Sans Mono',consolas,'Courier New',monospace\">Epoch: <span style=\"color: #008080; text-decoration-color: #008080; font-weight: bold\">177</span>, Train loss: <span style=\"color: #008080; text-decoration-color: #008080; font-weight: bold\">0.026</span>, Val loss: <span style=\"color: #008080; text-decoration-color: #008080; font-weight: bold\">0.118</span>, Epoch time = <span style=\"color: #008080; text-decoration-color: #008080; font-weight: bold\">92.</span>250s\n",
              "</pre>\n"
            ],
            "text/plain": [
              "Epoch: \u001b[1;36m177\u001b[0m, Train loss: \u001b[1;36m0.026\u001b[0m, Val loss: \u001b[1;36m0.118\u001b[0m, Epoch time = \u001b[1;36m92.\u001b[0m250s\n"
            ]
          },
          "metadata": {
            "tags": []
          }
        },
        {
          "output_type": "display_data",
          "data": {
            "text/html": [
              "<pre style=\"white-space:pre;overflow-x:auto;line-height:normal;font-family:Menlo,'DejaVu Sans Mono',consolas,'Courier New',monospace\">Epoch: <span style=\"color: #008080; text-decoration-color: #008080; font-weight: bold\">178</span>, Train loss: <span style=\"color: #008080; text-decoration-color: #008080; font-weight: bold\">0.026</span>, Val loss: <span style=\"color: #008080; text-decoration-color: #008080; font-weight: bold\">0.120</span>, Epoch time = <span style=\"color: #008080; text-decoration-color: #008080; font-weight: bold\">92.</span>130s\n",
              "</pre>\n"
            ],
            "text/plain": [
              "Epoch: \u001b[1;36m178\u001b[0m, Train loss: \u001b[1;36m0.026\u001b[0m, Val loss: \u001b[1;36m0.120\u001b[0m, Epoch time = \u001b[1;36m92.\u001b[0m130s\n"
            ]
          },
          "metadata": {
            "tags": []
          }
        },
        {
          "output_type": "display_data",
          "data": {
            "text/html": [
              "<pre style=\"white-space:pre;overflow-x:auto;line-height:normal;font-family:Menlo,'DejaVu Sans Mono',consolas,'Courier New',monospace\">Epoch: <span style=\"color: #008080; text-decoration-color: #008080; font-weight: bold\">179</span>, Train loss: <span style=\"color: #008080; text-decoration-color: #008080; font-weight: bold\">0.026</span>, Val loss: <span style=\"color: #008080; text-decoration-color: #008080; font-weight: bold\">0.120</span>, Epoch time = <span style=\"color: #008080; text-decoration-color: #008080; font-weight: bold\">91.</span>590s\n",
              "</pre>\n"
            ],
            "text/plain": [
              "Epoch: \u001b[1;36m179\u001b[0m, Train loss: \u001b[1;36m0.026\u001b[0m, Val loss: \u001b[1;36m0.120\u001b[0m, Epoch time = \u001b[1;36m91.\u001b[0m590s\n"
            ]
          },
          "metadata": {
            "tags": []
          }
        },
        {
          "output_type": "display_data",
          "data": {
            "text/html": [
              "<pre style=\"white-space:pre;overflow-x:auto;line-height:normal;font-family:Menlo,'DejaVu Sans Mono',consolas,'Courier New',monospace\">Epoch: <span style=\"color: #008080; text-decoration-color: #008080; font-weight: bold\">180</span>, Train loss: <span style=\"color: #008080; text-decoration-color: #008080; font-weight: bold\">0.026</span>, Val loss: <span style=\"color: #008080; text-decoration-color: #008080; font-weight: bold\">0.119</span>, Epoch time = <span style=\"color: #008080; text-decoration-color: #008080; font-weight: bold\">92.</span>342s\n",
              "</pre>\n"
            ],
            "text/plain": [
              "Epoch: \u001b[1;36m180\u001b[0m, Train loss: \u001b[1;36m0.026\u001b[0m, Val loss: \u001b[1;36m0.119\u001b[0m, Epoch time = \u001b[1;36m92.\u001b[0m342s\n"
            ]
          },
          "metadata": {
            "tags": []
          }
        },
        {
          "output_type": "display_data",
          "data": {
            "text/html": [
              "<pre style=\"white-space:pre;overflow-x:auto;line-height:normal;font-family:Menlo,'DejaVu Sans Mono',consolas,'Courier New',monospace\">Epoch: <span style=\"color: #008080; text-decoration-color: #008080; font-weight: bold\">181</span>, Train loss: <span style=\"color: #008080; text-decoration-color: #008080; font-weight: bold\">0.025</span>, Val loss: <span style=\"color: #008080; text-decoration-color: #008080; font-weight: bold\">0.121</span>, Epoch time = <span style=\"color: #008080; text-decoration-color: #008080; font-weight: bold\">91.</span>431s\n",
              "</pre>\n"
            ],
            "text/plain": [
              "Epoch: \u001b[1;36m181\u001b[0m, Train loss: \u001b[1;36m0.025\u001b[0m, Val loss: \u001b[1;36m0.121\u001b[0m, Epoch time = \u001b[1;36m91.\u001b[0m431s\n"
            ]
          },
          "metadata": {
            "tags": []
          }
        },
        {
          "output_type": "display_data",
          "data": {
            "text/html": [
              "<pre style=\"white-space:pre;overflow-x:auto;line-height:normal;font-family:Menlo,'DejaVu Sans Mono',consolas,'Courier New',monospace\">Epoch: <span style=\"color: #008080; text-decoration-color: #008080; font-weight: bold\">182</span>, Train loss: <span style=\"color: #008080; text-decoration-color: #008080; font-weight: bold\">0.026</span>, Val loss: <span style=\"color: #008080; text-decoration-color: #008080; font-weight: bold\">0.120</span>, Epoch time = <span style=\"color: #008080; text-decoration-color: #008080; font-weight: bold\">91.</span>266s\n",
              "</pre>\n"
            ],
            "text/plain": [
              "Epoch: \u001b[1;36m182\u001b[0m, Train loss: \u001b[1;36m0.026\u001b[0m, Val loss: \u001b[1;36m0.120\u001b[0m, Epoch time = \u001b[1;36m91.\u001b[0m266s\n"
            ]
          },
          "metadata": {
            "tags": []
          }
        },
        {
          "output_type": "display_data",
          "data": {
            "text/html": [
              "<pre style=\"white-space:pre;overflow-x:auto;line-height:normal;font-family:Menlo,'DejaVu Sans Mono',consolas,'Courier New',monospace\">Epoch: <span style=\"color: #008080; text-decoration-color: #008080; font-weight: bold\">183</span>, Train loss: <span style=\"color: #008080; text-decoration-color: #008080; font-weight: bold\">0.026</span>, Val loss: <span style=\"color: #008080; text-decoration-color: #008080; font-weight: bold\">0.120</span>, Epoch time = <span style=\"color: #008080; text-decoration-color: #008080; font-weight: bold\">92.</span>395s\n",
              "</pre>\n"
            ],
            "text/plain": [
              "Epoch: \u001b[1;36m183\u001b[0m, Train loss: \u001b[1;36m0.026\u001b[0m, Val loss: \u001b[1;36m0.120\u001b[0m, Epoch time = \u001b[1;36m92.\u001b[0m395s\n"
            ]
          },
          "metadata": {
            "tags": []
          }
        },
        {
          "output_type": "display_data",
          "data": {
            "text/html": [
              "<pre style=\"white-space:pre;overflow-x:auto;line-height:normal;font-family:Menlo,'DejaVu Sans Mono',consolas,'Courier New',monospace\">Epoch: <span style=\"color: #008080; text-decoration-color: #008080; font-weight: bold\">184</span>, Train loss: <span style=\"color: #008080; text-decoration-color: #008080; font-weight: bold\">0.025</span>, Val loss: <span style=\"color: #008080; text-decoration-color: #008080; font-weight: bold\">0.121</span>, Epoch time = <span style=\"color: #008080; text-decoration-color: #008080; font-weight: bold\">92.</span>147s\n",
              "</pre>\n"
            ],
            "text/plain": [
              "Epoch: \u001b[1;36m184\u001b[0m, Train loss: \u001b[1;36m0.025\u001b[0m, Val loss: \u001b[1;36m0.121\u001b[0m, Epoch time = \u001b[1;36m92.\u001b[0m147s\n"
            ]
          },
          "metadata": {
            "tags": []
          }
        },
        {
          "output_type": "display_data",
          "data": {
            "text/html": [
              "<pre style=\"white-space:pre;overflow-x:auto;line-height:normal;font-family:Menlo,'DejaVu Sans Mono',consolas,'Courier New',monospace\">Epoch: <span style=\"color: #008080; text-decoration-color: #008080; font-weight: bold\">185</span>, Train loss: <span style=\"color: #008080; text-decoration-color: #008080; font-weight: bold\">0.025</span>, Val loss: <span style=\"color: #008080; text-decoration-color: #008080; font-weight: bold\">0.125</span>, Epoch time = <span style=\"color: #008080; text-decoration-color: #008080; font-weight: bold\">91.</span>437s\n",
              "</pre>\n"
            ],
            "text/plain": [
              "Epoch: \u001b[1;36m185\u001b[0m, Train loss: \u001b[1;36m0.025\u001b[0m, Val loss: \u001b[1;36m0.125\u001b[0m, Epoch time = \u001b[1;36m91.\u001b[0m437s\n"
            ]
          },
          "metadata": {
            "tags": []
          }
        },
        {
          "output_type": "display_data",
          "data": {
            "text/html": [
              "<pre style=\"white-space:pre;overflow-x:auto;line-height:normal;font-family:Menlo,'DejaVu Sans Mono',consolas,'Courier New',monospace\">Epoch: <span style=\"color: #008080; text-decoration-color: #008080; font-weight: bold\">186</span>, Train loss: <span style=\"color: #008080; text-decoration-color: #008080; font-weight: bold\">0.025</span>, Val loss: <span style=\"color: #008080; text-decoration-color: #008080; font-weight: bold\">0.119</span>, Epoch time = <span style=\"color: #008080; text-decoration-color: #008080; font-weight: bold\">92.</span>230s\n",
              "</pre>\n"
            ],
            "text/plain": [
              "Epoch: \u001b[1;36m186\u001b[0m, Train loss: \u001b[1;36m0.025\u001b[0m, Val loss: \u001b[1;36m0.119\u001b[0m, Epoch time = \u001b[1;36m92.\u001b[0m230s\n"
            ]
          },
          "metadata": {
            "tags": []
          }
        },
        {
          "output_type": "display_data",
          "data": {
            "text/html": [
              "<pre style=\"white-space:pre;overflow-x:auto;line-height:normal;font-family:Menlo,'DejaVu Sans Mono',consolas,'Courier New',monospace\">Epoch: <span style=\"color: #008080; text-decoration-color: #008080; font-weight: bold\">187</span>, Train loss: <span style=\"color: #008080; text-decoration-color: #008080; font-weight: bold\">0.025</span>, Val loss: <span style=\"color: #008080; text-decoration-color: #008080; font-weight: bold\">0.118</span>, Epoch time = <span style=\"color: #008080; text-decoration-color: #008080; font-weight: bold\">92.</span>541s\n",
              "</pre>\n"
            ],
            "text/plain": [
              "Epoch: \u001b[1;36m187\u001b[0m, Train loss: \u001b[1;36m0.025\u001b[0m, Val loss: \u001b[1;36m0.118\u001b[0m, Epoch time = \u001b[1;36m92.\u001b[0m541s\n"
            ]
          },
          "metadata": {
            "tags": []
          }
        },
        {
          "output_type": "display_data",
          "data": {
            "text/html": [
              "<pre style=\"white-space:pre;overflow-x:auto;line-height:normal;font-family:Menlo,'DejaVu Sans Mono',consolas,'Courier New',monospace\">Epoch: <span style=\"color: #008080; text-decoration-color: #008080; font-weight: bold\">188</span>, Train loss: <span style=\"color: #008080; text-decoration-color: #008080; font-weight: bold\">0.025</span>, Val loss: <span style=\"color: #008080; text-decoration-color: #008080; font-weight: bold\">0.119</span>, Epoch time = <span style=\"color: #008080; text-decoration-color: #008080; font-weight: bold\">91.</span>957s\n",
              "</pre>\n"
            ],
            "text/plain": [
              "Epoch: \u001b[1;36m188\u001b[0m, Train loss: \u001b[1;36m0.025\u001b[0m, Val loss: \u001b[1;36m0.119\u001b[0m, Epoch time = \u001b[1;36m91.\u001b[0m957s\n"
            ]
          },
          "metadata": {
            "tags": []
          }
        },
        {
          "output_type": "display_data",
          "data": {
            "text/html": [
              "<pre style=\"white-space:pre;overflow-x:auto;line-height:normal;font-family:Menlo,'DejaVu Sans Mono',consolas,'Courier New',monospace\">Epoch: <span style=\"color: #008080; text-decoration-color: #008080; font-weight: bold\">189</span>, Train loss: <span style=\"color: #008080; text-decoration-color: #008080; font-weight: bold\">0.024</span>, Val loss: <span style=\"color: #008080; text-decoration-color: #008080; font-weight: bold\">0.125</span>, Epoch time = <span style=\"color: #008080; text-decoration-color: #008080; font-weight: bold\">91.</span>877s\n",
              "</pre>\n"
            ],
            "text/plain": [
              "Epoch: \u001b[1;36m189\u001b[0m, Train loss: \u001b[1;36m0.024\u001b[0m, Val loss: \u001b[1;36m0.125\u001b[0m, Epoch time = \u001b[1;36m91.\u001b[0m877s\n"
            ]
          },
          "metadata": {
            "tags": []
          }
        },
        {
          "output_type": "display_data",
          "data": {
            "text/html": [
              "<pre style=\"white-space:pre;overflow-x:auto;line-height:normal;font-family:Menlo,'DejaVu Sans Mono',consolas,'Courier New',monospace\">Epoch: <span style=\"color: #008080; text-decoration-color: #008080; font-weight: bold\">190</span>, Train loss: <span style=\"color: #008080; text-decoration-color: #008080; font-weight: bold\">0.024</span>, Val loss: <span style=\"color: #008080; text-decoration-color: #008080; font-weight: bold\">0.121</span>, Epoch time = <span style=\"color: #008080; text-decoration-color: #008080; font-weight: bold\">92.</span>261s\n",
              "</pre>\n"
            ],
            "text/plain": [
              "Epoch: \u001b[1;36m190\u001b[0m, Train loss: \u001b[1;36m0.024\u001b[0m, Val loss: \u001b[1;36m0.121\u001b[0m, Epoch time = \u001b[1;36m92.\u001b[0m261s\n"
            ]
          },
          "metadata": {
            "tags": []
          }
        },
        {
          "output_type": "display_data",
          "data": {
            "text/html": [
              "<pre style=\"white-space:pre;overflow-x:auto;line-height:normal;font-family:Menlo,'DejaVu Sans Mono',consolas,'Courier New',monospace\">Epoch: <span style=\"color: #008080; text-decoration-color: #008080; font-weight: bold\">191</span>, Train loss: <span style=\"color: #008080; text-decoration-color: #008080; font-weight: bold\">0.024</span>, Val loss: <span style=\"color: #008080; text-decoration-color: #008080; font-weight: bold\">0.120</span>, Epoch time = <span style=\"color: #008080; text-decoration-color: #008080; font-weight: bold\">91.</span>749s\n",
              "</pre>\n"
            ],
            "text/plain": [
              "Epoch: \u001b[1;36m191\u001b[0m, Train loss: \u001b[1;36m0.024\u001b[0m, Val loss: \u001b[1;36m0.120\u001b[0m, Epoch time = \u001b[1;36m91.\u001b[0m749s\n"
            ]
          },
          "metadata": {
            "tags": []
          }
        },
        {
          "output_type": "display_data",
          "data": {
            "text/html": [
              "<pre style=\"white-space:pre;overflow-x:auto;line-height:normal;font-family:Menlo,'DejaVu Sans Mono',consolas,'Courier New',monospace\">Epoch: <span style=\"color: #008080; text-decoration-color: #008080; font-weight: bold\">192</span>, Train loss: <span style=\"color: #008080; text-decoration-color: #008080; font-weight: bold\">0.024</span>, Val loss: <span style=\"color: #008080; text-decoration-color: #008080; font-weight: bold\">0.121</span>, Epoch time = <span style=\"color: #008080; text-decoration-color: #008080; font-weight: bold\">91.</span>796s\n",
              "</pre>\n"
            ],
            "text/plain": [
              "Epoch: \u001b[1;36m192\u001b[0m, Train loss: \u001b[1;36m0.024\u001b[0m, Val loss: \u001b[1;36m0.121\u001b[0m, Epoch time = \u001b[1;36m91.\u001b[0m796s\n"
            ]
          },
          "metadata": {
            "tags": []
          }
        },
        {
          "output_type": "display_data",
          "data": {
            "text/html": [
              "<pre style=\"white-space:pre;overflow-x:auto;line-height:normal;font-family:Menlo,'DejaVu Sans Mono',consolas,'Courier New',monospace\">Epoch: <span style=\"color: #008080; text-decoration-color: #008080; font-weight: bold\">193</span>, Train loss: <span style=\"color: #008080; text-decoration-color: #008080; font-weight: bold\">0.024</span>, Val loss: <span style=\"color: #008080; text-decoration-color: #008080; font-weight: bold\">0.121</span>, Epoch time = <span style=\"color: #008080; text-decoration-color: #008080; font-weight: bold\">91.</span>373s\n",
              "</pre>\n"
            ],
            "text/plain": [
              "Epoch: \u001b[1;36m193\u001b[0m, Train loss: \u001b[1;36m0.024\u001b[0m, Val loss: \u001b[1;36m0.121\u001b[0m, Epoch time = \u001b[1;36m91.\u001b[0m373s\n"
            ]
          },
          "metadata": {
            "tags": []
          }
        },
        {
          "output_type": "display_data",
          "data": {
            "text/html": [
              "<pre style=\"white-space:pre;overflow-x:auto;line-height:normal;font-family:Menlo,'DejaVu Sans Mono',consolas,'Courier New',monospace\">Epoch: <span style=\"color: #008080; text-decoration-color: #008080; font-weight: bold\">194</span>, Train loss: <span style=\"color: #008080; text-decoration-color: #008080; font-weight: bold\">0.023</span>, Val loss: <span style=\"color: #008080; text-decoration-color: #008080; font-weight: bold\">0.125</span>, Epoch time = <span style=\"color: #008080; text-decoration-color: #008080; font-weight: bold\">91.</span>749s\n",
              "</pre>\n"
            ],
            "text/plain": [
              "Epoch: \u001b[1;36m194\u001b[0m, Train loss: \u001b[1;36m0.023\u001b[0m, Val loss: \u001b[1;36m0.125\u001b[0m, Epoch time = \u001b[1;36m91.\u001b[0m749s\n"
            ]
          },
          "metadata": {
            "tags": []
          }
        },
        {
          "output_type": "display_data",
          "data": {
            "text/html": [
              "<pre style=\"white-space:pre;overflow-x:auto;line-height:normal;font-family:Menlo,'DejaVu Sans Mono',consolas,'Courier New',monospace\">Epoch: <span style=\"color: #008080; text-decoration-color: #008080; font-weight: bold\">195</span>, Train loss: <span style=\"color: #008080; text-decoration-color: #008080; font-weight: bold\">0.023</span>, Val loss: <span style=\"color: #008080; text-decoration-color: #008080; font-weight: bold\">0.124</span>, Epoch time = <span style=\"color: #008080; text-decoration-color: #008080; font-weight: bold\">91.</span>594s\n",
              "</pre>\n"
            ],
            "text/plain": [
              "Epoch: \u001b[1;36m195\u001b[0m, Train loss: \u001b[1;36m0.023\u001b[0m, Val loss: \u001b[1;36m0.124\u001b[0m, Epoch time = \u001b[1;36m91.\u001b[0m594s\n"
            ]
          },
          "metadata": {
            "tags": []
          }
        },
        {
          "output_type": "display_data",
          "data": {
            "text/html": [
              "<pre style=\"white-space:pre;overflow-x:auto;line-height:normal;font-family:Menlo,'DejaVu Sans Mono',consolas,'Courier New',monospace\">Epoch: <span style=\"color: #008080; text-decoration-color: #008080; font-weight: bold\">196</span>, Train loss: <span style=\"color: #008080; text-decoration-color: #008080; font-weight: bold\">0.023</span>, Val loss: <span style=\"color: #008080; text-decoration-color: #008080; font-weight: bold\">0.123</span>, Epoch time = <span style=\"color: #008080; text-decoration-color: #008080; font-weight: bold\">90.</span>959s\n",
              "</pre>\n"
            ],
            "text/plain": [
              "Epoch: \u001b[1;36m196\u001b[0m, Train loss: \u001b[1;36m0.023\u001b[0m, Val loss: \u001b[1;36m0.123\u001b[0m, Epoch time = \u001b[1;36m90.\u001b[0m959s\n"
            ]
          },
          "metadata": {
            "tags": []
          }
        },
        {
          "output_type": "display_data",
          "data": {
            "text/html": [
              "<pre style=\"white-space:pre;overflow-x:auto;line-height:normal;font-family:Menlo,'DejaVu Sans Mono',consolas,'Courier New',monospace\">Epoch: <span style=\"color: #008080; text-decoration-color: #008080; font-weight: bold\">197</span>, Train loss: <span style=\"color: #008080; text-decoration-color: #008080; font-weight: bold\">0.023</span>, Val loss: <span style=\"color: #008080; text-decoration-color: #008080; font-weight: bold\">0.125</span>, Epoch time = <span style=\"color: #008080; text-decoration-color: #008080; font-weight: bold\">91.</span>415s\n",
              "</pre>\n"
            ],
            "text/plain": [
              "Epoch: \u001b[1;36m197\u001b[0m, Train loss: \u001b[1;36m0.023\u001b[0m, Val loss: \u001b[1;36m0.125\u001b[0m, Epoch time = \u001b[1;36m91.\u001b[0m415s\n"
            ]
          },
          "metadata": {
            "tags": []
          }
        },
        {
          "output_type": "display_data",
          "data": {
            "text/html": [
              "<pre style=\"white-space:pre;overflow-x:auto;line-height:normal;font-family:Menlo,'DejaVu Sans Mono',consolas,'Courier New',monospace\">Epoch: <span style=\"color: #008080; text-decoration-color: #008080; font-weight: bold\">198</span>, Train loss: <span style=\"color: #008080; text-decoration-color: #008080; font-weight: bold\">0.023</span>, Val loss: <span style=\"color: #008080; text-decoration-color: #008080; font-weight: bold\">0.121</span>, Epoch time = <span style=\"color: #008080; text-decoration-color: #008080; font-weight: bold\">91.</span>968s\n",
              "</pre>\n"
            ],
            "text/plain": [
              "Epoch: \u001b[1;36m198\u001b[0m, Train loss: \u001b[1;36m0.023\u001b[0m, Val loss: \u001b[1;36m0.121\u001b[0m, Epoch time = \u001b[1;36m91.\u001b[0m968s\n"
            ]
          },
          "metadata": {
            "tags": []
          }
        },
        {
          "output_type": "display_data",
          "data": {
            "text/html": [
              "<pre style=\"white-space:pre;overflow-x:auto;line-height:normal;font-family:Menlo,'DejaVu Sans Mono',consolas,'Courier New',monospace\">Epoch: <span style=\"color: #008080; text-decoration-color: #008080; font-weight: bold\">199</span>, Train loss: <span style=\"color: #008080; text-decoration-color: #008080; font-weight: bold\">0.023</span>, Val loss: <span style=\"color: #008080; text-decoration-color: #008080; font-weight: bold\">0.122</span>, Epoch time = <span style=\"color: #008080; text-decoration-color: #008080; font-weight: bold\">92.</span>319s\n",
              "</pre>\n"
            ],
            "text/plain": [
              "Epoch: \u001b[1;36m199\u001b[0m, Train loss: \u001b[1;36m0.023\u001b[0m, Val loss: \u001b[1;36m0.122\u001b[0m, Epoch time = \u001b[1;36m92.\u001b[0m319s\n"
            ]
          },
          "metadata": {
            "tags": []
          }
        },
        {
          "output_type": "display_data",
          "data": {
            "text/html": [
              "<pre style=\"white-space:pre;overflow-x:auto;line-height:normal;font-family:Menlo,'DejaVu Sans Mono',consolas,'Courier New',monospace\">true\n",
              "</pre>\n"
            ],
            "text/plain": [
              "true\n"
            ]
          },
          "metadata": {
            "tags": []
          }
        },
        {
          "output_type": "display_data",
          "data": {
            "text/html": [
              "<pre style=\"white-space:pre;overflow-x:auto;line-height:normal;font-family:Menlo,'DejaVu Sans Mono',consolas,'Courier New',monospace\">=&gt; Saving checkpoint\n",
              "</pre>\n"
            ],
            "text/plain": [
              "=> Saving checkpoint\n"
            ]
          },
          "metadata": {
            "tags": []
          }
        },
        {
          "output_type": "display_data",
          "data": {
            "text/html": [
              "<pre style=\"white-space:pre;overflow-x:auto;line-height:normal;font-family:Menlo,'DejaVu Sans Mono',consolas,'Courier New',monospace\">Epoch: <span style=\"color: #008080; text-decoration-color: #008080; font-weight: bold\">200</span>, Train loss: <span style=\"color: #008080; text-decoration-color: #008080; font-weight: bold\">0.023</span>, Val loss: <span style=\"color: #008080; text-decoration-color: #008080; font-weight: bold\">0.120</span>, Epoch time = <span style=\"color: #008080; text-decoration-color: #008080; font-weight: bold\">91.</span>843s\n",
              "</pre>\n"
            ],
            "text/plain": [
              "Epoch: \u001b[1;36m200\u001b[0m, Train loss: \u001b[1;36m0.023\u001b[0m, Val loss: \u001b[1;36m0.120\u001b[0m, Epoch time = \u001b[1;36m91.\u001b[0m843s\n"
            ]
          },
          "metadata": {
            "tags": []
          }
        },
        {
          "output_type": "display_data",
          "data": {
            "text/html": [
              "<pre style=\"white-space:pre;overflow-x:auto;line-height:normal;font-family:Menlo,'DejaVu Sans Mono',consolas,'Courier New',monospace\">Epoch: <span style=\"color: #008080; text-decoration-color: #008080; font-weight: bold\">201</span>, Train loss: <span style=\"color: #008080; text-decoration-color: #008080; font-weight: bold\">0.023</span>, Val loss: <span style=\"color: #008080; text-decoration-color: #008080; font-weight: bold\">0.122</span>, Epoch time = <span style=\"color: #008080; text-decoration-color: #008080; font-weight: bold\">91.</span>536s\n",
              "</pre>\n"
            ],
            "text/plain": [
              "Epoch: \u001b[1;36m201\u001b[0m, Train loss: \u001b[1;36m0.023\u001b[0m, Val loss: \u001b[1;36m0.122\u001b[0m, Epoch time = \u001b[1;36m91.\u001b[0m536s\n"
            ]
          },
          "metadata": {
            "tags": []
          }
        },
        {
          "output_type": "display_data",
          "data": {
            "text/html": [
              "<pre style=\"white-space:pre;overflow-x:auto;line-height:normal;font-family:Menlo,'DejaVu Sans Mono',consolas,'Courier New',monospace\">Epoch: <span style=\"color: #008080; text-decoration-color: #008080; font-weight: bold\">202</span>, Train loss: <span style=\"color: #008080; text-decoration-color: #008080; font-weight: bold\">0.022</span>, Val loss: <span style=\"color: #008080; text-decoration-color: #008080; font-weight: bold\">0.121</span>, Epoch time = <span style=\"color: #008080; text-decoration-color: #008080; font-weight: bold\">91.</span>963s\n",
              "</pre>\n"
            ],
            "text/plain": [
              "Epoch: \u001b[1;36m202\u001b[0m, Train loss: \u001b[1;36m0.022\u001b[0m, Val loss: \u001b[1;36m0.121\u001b[0m, Epoch time = \u001b[1;36m91.\u001b[0m963s\n"
            ]
          },
          "metadata": {
            "tags": []
          }
        },
        {
          "output_type": "display_data",
          "data": {
            "text/html": [
              "<pre style=\"white-space:pre;overflow-x:auto;line-height:normal;font-family:Menlo,'DejaVu Sans Mono',consolas,'Courier New',monospace\">Epoch: <span style=\"color: #008080; text-decoration-color: #008080; font-weight: bold\">203</span>, Train loss: <span style=\"color: #008080; text-decoration-color: #008080; font-weight: bold\">0.022</span>, Val loss: <span style=\"color: #008080; text-decoration-color: #008080; font-weight: bold\">0.123</span>, Epoch time = <span style=\"color: #008080; text-decoration-color: #008080; font-weight: bold\">91.</span>886s\n",
              "</pre>\n"
            ],
            "text/plain": [
              "Epoch: \u001b[1;36m203\u001b[0m, Train loss: \u001b[1;36m0.022\u001b[0m, Val loss: \u001b[1;36m0.123\u001b[0m, Epoch time = \u001b[1;36m91.\u001b[0m886s\n"
            ]
          },
          "metadata": {
            "tags": []
          }
        },
        {
          "output_type": "display_data",
          "data": {
            "text/html": [
              "<pre style=\"white-space:pre;overflow-x:auto;line-height:normal;font-family:Menlo,'DejaVu Sans Mono',consolas,'Courier New',monospace\">Epoch: <span style=\"color: #008080; text-decoration-color: #008080; font-weight: bold\">204</span>, Train loss: <span style=\"color: #008080; text-decoration-color: #008080; font-weight: bold\">0.022</span>, Val loss: <span style=\"color: #008080; text-decoration-color: #008080; font-weight: bold\">0.124</span>, Epoch time = <span style=\"color: #008080; text-decoration-color: #008080; font-weight: bold\">91.</span>412s\n",
              "</pre>\n"
            ],
            "text/plain": [
              "Epoch: \u001b[1;36m204\u001b[0m, Train loss: \u001b[1;36m0.022\u001b[0m, Val loss: \u001b[1;36m0.124\u001b[0m, Epoch time = \u001b[1;36m91.\u001b[0m412s\n"
            ]
          },
          "metadata": {
            "tags": []
          }
        },
        {
          "output_type": "display_data",
          "data": {
            "text/html": [
              "<pre style=\"white-space:pre;overflow-x:auto;line-height:normal;font-family:Menlo,'DejaVu Sans Mono',consolas,'Courier New',monospace\">Epoch: <span style=\"color: #008080; text-decoration-color: #008080; font-weight: bold\">205</span>, Train loss: <span style=\"color: #008080; text-decoration-color: #008080; font-weight: bold\">0.022</span>, Val loss: <span style=\"color: #008080; text-decoration-color: #008080; font-weight: bold\">0.129</span>, Epoch time = <span style=\"color: #008080; text-decoration-color: #008080; font-weight: bold\">91.</span>999s\n",
              "</pre>\n"
            ],
            "text/plain": [
              "Epoch: \u001b[1;36m205\u001b[0m, Train loss: \u001b[1;36m0.022\u001b[0m, Val loss: \u001b[1;36m0.129\u001b[0m, Epoch time = \u001b[1;36m91.\u001b[0m999s\n"
            ]
          },
          "metadata": {
            "tags": []
          }
        },
        {
          "output_type": "display_data",
          "data": {
            "text/html": [
              "<pre style=\"white-space:pre;overflow-x:auto;line-height:normal;font-family:Menlo,'DejaVu Sans Mono',consolas,'Courier New',monospace\">Epoch: <span style=\"color: #008080; text-decoration-color: #008080; font-weight: bold\">206</span>, Train loss: <span style=\"color: #008080; text-decoration-color: #008080; font-weight: bold\">0.022</span>, Val loss: <span style=\"color: #008080; text-decoration-color: #008080; font-weight: bold\">0.124</span>, Epoch time = <span style=\"color: #008080; text-decoration-color: #008080; font-weight: bold\">91.</span>857s\n",
              "</pre>\n"
            ],
            "text/plain": [
              "Epoch: \u001b[1;36m206\u001b[0m, Train loss: \u001b[1;36m0.022\u001b[0m, Val loss: \u001b[1;36m0.124\u001b[0m, Epoch time = \u001b[1;36m91.\u001b[0m857s\n"
            ]
          },
          "metadata": {
            "tags": []
          }
        },
        {
          "output_type": "display_data",
          "data": {
            "text/html": [
              "<pre style=\"white-space:pre;overflow-x:auto;line-height:normal;font-family:Menlo,'DejaVu Sans Mono',consolas,'Courier New',monospace\">Epoch: <span style=\"color: #008080; text-decoration-color: #008080; font-weight: bold\">207</span>, Train loss: <span style=\"color: #008080; text-decoration-color: #008080; font-weight: bold\">0.022</span>, Val loss: <span style=\"color: #008080; text-decoration-color: #008080; font-weight: bold\">0.122</span>, Epoch time = <span style=\"color: #008080; text-decoration-color: #008080; font-weight: bold\">92.</span>154s\n",
              "</pre>\n"
            ],
            "text/plain": [
              "Epoch: \u001b[1;36m207\u001b[0m, Train loss: \u001b[1;36m0.022\u001b[0m, Val loss: \u001b[1;36m0.122\u001b[0m, Epoch time = \u001b[1;36m92.\u001b[0m154s\n"
            ]
          },
          "metadata": {
            "tags": []
          }
        },
        {
          "output_type": "display_data",
          "data": {
            "text/html": [
              "<pre style=\"white-space:pre;overflow-x:auto;line-height:normal;font-family:Menlo,'DejaVu Sans Mono',consolas,'Courier New',monospace\">Epoch: <span style=\"color: #008080; text-decoration-color: #008080; font-weight: bold\">208</span>, Train loss: <span style=\"color: #008080; text-decoration-color: #008080; font-weight: bold\">0.022</span>, Val loss: <span style=\"color: #008080; text-decoration-color: #008080; font-weight: bold\">0.124</span>, Epoch time = <span style=\"color: #008080; text-decoration-color: #008080; font-weight: bold\">91.</span>988s\n",
              "</pre>\n"
            ],
            "text/plain": [
              "Epoch: \u001b[1;36m208\u001b[0m, Train loss: \u001b[1;36m0.022\u001b[0m, Val loss: \u001b[1;36m0.124\u001b[0m, Epoch time = \u001b[1;36m91.\u001b[0m988s\n"
            ]
          },
          "metadata": {
            "tags": []
          }
        },
        {
          "output_type": "display_data",
          "data": {
            "text/html": [
              "<pre style=\"white-space:pre;overflow-x:auto;line-height:normal;font-family:Menlo,'DejaVu Sans Mono',consolas,'Courier New',monospace\">Epoch: <span style=\"color: #008080; text-decoration-color: #008080; font-weight: bold\">209</span>, Train loss: <span style=\"color: #008080; text-decoration-color: #008080; font-weight: bold\">0.022</span>, Val loss: <span style=\"color: #008080; text-decoration-color: #008080; font-weight: bold\">0.124</span>, Epoch time = <span style=\"color: #008080; text-decoration-color: #008080; font-weight: bold\">92.</span>573s\n",
              "</pre>\n"
            ],
            "text/plain": [
              "Epoch: \u001b[1;36m209\u001b[0m, Train loss: \u001b[1;36m0.022\u001b[0m, Val loss: \u001b[1;36m0.124\u001b[0m, Epoch time = \u001b[1;36m92.\u001b[0m573s\n"
            ]
          },
          "metadata": {
            "tags": []
          }
        },
        {
          "output_type": "display_data",
          "data": {
            "text/html": [
              "<pre style=\"white-space:pre;overflow-x:auto;line-height:normal;font-family:Menlo,'DejaVu Sans Mono',consolas,'Courier New',monospace\">Epoch: <span style=\"color: #008080; text-decoration-color: #008080; font-weight: bold\">210</span>, Train loss: <span style=\"color: #008080; text-decoration-color: #008080; font-weight: bold\">0.022</span>, Val loss: <span style=\"color: #008080; text-decoration-color: #008080; font-weight: bold\">0.123</span>, Epoch time = <span style=\"color: #008080; text-decoration-color: #008080; font-weight: bold\">91.</span>361s\n",
              "</pre>\n"
            ],
            "text/plain": [
              "Epoch: \u001b[1;36m210\u001b[0m, Train loss: \u001b[1;36m0.022\u001b[0m, Val loss: \u001b[1;36m0.123\u001b[0m, Epoch time = \u001b[1;36m91.\u001b[0m361s\n"
            ]
          },
          "metadata": {
            "tags": []
          }
        },
        {
          "output_type": "display_data",
          "data": {
            "text/html": [
              "<pre style=\"white-space:pre;overflow-x:auto;line-height:normal;font-family:Menlo,'DejaVu Sans Mono',consolas,'Courier New',monospace\">Epoch: <span style=\"color: #008080; text-decoration-color: #008080; font-weight: bold\">211</span>, Train loss: <span style=\"color: #008080; text-decoration-color: #008080; font-weight: bold\">0.021</span>, Val loss: <span style=\"color: #008080; text-decoration-color: #008080; font-weight: bold\">0.123</span>, Epoch time = <span style=\"color: #008080; text-decoration-color: #008080; font-weight: bold\">91.</span>981s\n",
              "</pre>\n"
            ],
            "text/plain": [
              "Epoch: \u001b[1;36m211\u001b[0m, Train loss: \u001b[1;36m0.021\u001b[0m, Val loss: \u001b[1;36m0.123\u001b[0m, Epoch time = \u001b[1;36m91.\u001b[0m981s\n"
            ]
          },
          "metadata": {
            "tags": []
          }
        },
        {
          "output_type": "display_data",
          "data": {
            "text/html": [
              "<pre style=\"white-space:pre;overflow-x:auto;line-height:normal;font-family:Menlo,'DejaVu Sans Mono',consolas,'Courier New',monospace\">Epoch: <span style=\"color: #008080; text-decoration-color: #008080; font-weight: bold\">212</span>, Train loss: <span style=\"color: #008080; text-decoration-color: #008080; font-weight: bold\">0.021</span>, Val loss: <span style=\"color: #008080; text-decoration-color: #008080; font-weight: bold\">0.123</span>, Epoch time = <span style=\"color: #008080; text-decoration-color: #008080; font-weight: bold\">91.</span>945s\n",
              "</pre>\n"
            ],
            "text/plain": [
              "Epoch: \u001b[1;36m212\u001b[0m, Train loss: \u001b[1;36m0.021\u001b[0m, Val loss: \u001b[1;36m0.123\u001b[0m, Epoch time = \u001b[1;36m91.\u001b[0m945s\n"
            ]
          },
          "metadata": {
            "tags": []
          }
        },
        {
          "output_type": "display_data",
          "data": {
            "text/html": [
              "<pre style=\"white-space:pre;overflow-x:auto;line-height:normal;font-family:Menlo,'DejaVu Sans Mono',consolas,'Courier New',monospace\">Epoch: <span style=\"color: #008080; text-decoration-color: #008080; font-weight: bold\">213</span>, Train loss: <span style=\"color: #008080; text-decoration-color: #008080; font-weight: bold\">0.021</span>, Val loss: <span style=\"color: #008080; text-decoration-color: #008080; font-weight: bold\">0.121</span>, Epoch time = <span style=\"color: #008080; text-decoration-color: #008080; font-weight: bold\">92.</span>276s\n",
              "</pre>\n"
            ],
            "text/plain": [
              "Epoch: \u001b[1;36m213\u001b[0m, Train loss: \u001b[1;36m0.021\u001b[0m, Val loss: \u001b[1;36m0.121\u001b[0m, Epoch time = \u001b[1;36m92.\u001b[0m276s\n"
            ]
          },
          "metadata": {
            "tags": []
          }
        },
        {
          "output_type": "display_data",
          "data": {
            "text/html": [
              "<pre style=\"white-space:pre;overflow-x:auto;line-height:normal;font-family:Menlo,'DejaVu Sans Mono',consolas,'Courier New',monospace\">Epoch: <span style=\"color: #008080; text-decoration-color: #008080; font-weight: bold\">214</span>, Train loss: <span style=\"color: #008080; text-decoration-color: #008080; font-weight: bold\">0.021</span>, Val loss: <span style=\"color: #008080; text-decoration-color: #008080; font-weight: bold\">0.125</span>, Epoch time = <span style=\"color: #008080; text-decoration-color: #008080; font-weight: bold\">92.</span>162s\n",
              "</pre>\n"
            ],
            "text/plain": [
              "Epoch: \u001b[1;36m214\u001b[0m, Train loss: \u001b[1;36m0.021\u001b[0m, Val loss: \u001b[1;36m0.125\u001b[0m, Epoch time = \u001b[1;36m92.\u001b[0m162s\n"
            ]
          },
          "metadata": {
            "tags": []
          }
        },
        {
          "output_type": "display_data",
          "data": {
            "text/html": [
              "<pre style=\"white-space:pre;overflow-x:auto;line-height:normal;font-family:Menlo,'DejaVu Sans Mono',consolas,'Courier New',monospace\">Epoch: <span style=\"color: #008080; text-decoration-color: #008080; font-weight: bold\">215</span>, Train loss: <span style=\"color: #008080; text-decoration-color: #008080; font-weight: bold\">0.021</span>, Val loss: <span style=\"color: #008080; text-decoration-color: #008080; font-weight: bold\">0.125</span>, Epoch time = <span style=\"color: #008080; text-decoration-color: #008080; font-weight: bold\">91.</span>756s\n",
              "</pre>\n"
            ],
            "text/plain": [
              "Epoch: \u001b[1;36m215\u001b[0m, Train loss: \u001b[1;36m0.021\u001b[0m, Val loss: \u001b[1;36m0.125\u001b[0m, Epoch time = \u001b[1;36m91.\u001b[0m756s\n"
            ]
          },
          "metadata": {
            "tags": []
          }
        },
        {
          "output_type": "display_data",
          "data": {
            "text/html": [
              "<pre style=\"white-space:pre;overflow-x:auto;line-height:normal;font-family:Menlo,'DejaVu Sans Mono',consolas,'Courier New',monospace\">Epoch: <span style=\"color: #008080; text-decoration-color: #008080; font-weight: bold\">216</span>, Train loss: <span style=\"color: #008080; text-decoration-color: #008080; font-weight: bold\">0.021</span>, Val loss: <span style=\"color: #008080; text-decoration-color: #008080; font-weight: bold\">0.124</span>, Epoch time = <span style=\"color: #008080; text-decoration-color: #008080; font-weight: bold\">92.</span>559s\n",
              "</pre>\n"
            ],
            "text/plain": [
              "Epoch: \u001b[1;36m216\u001b[0m, Train loss: \u001b[1;36m0.021\u001b[0m, Val loss: \u001b[1;36m0.124\u001b[0m, Epoch time = \u001b[1;36m92.\u001b[0m559s\n"
            ]
          },
          "metadata": {
            "tags": []
          }
        },
        {
          "output_type": "display_data",
          "data": {
            "text/html": [
              "<pre style=\"white-space:pre;overflow-x:auto;line-height:normal;font-family:Menlo,'DejaVu Sans Mono',consolas,'Courier New',monospace\">Epoch: <span style=\"color: #008080; text-decoration-color: #008080; font-weight: bold\">217</span>, Train loss: <span style=\"color: #008080; text-decoration-color: #008080; font-weight: bold\">0.020</span>, Val loss: <span style=\"color: #008080; text-decoration-color: #008080; font-weight: bold\">0.125</span>, Epoch time = <span style=\"color: #008080; text-decoration-color: #008080; font-weight: bold\">92.</span>333s\n",
              "</pre>\n"
            ],
            "text/plain": [
              "Epoch: \u001b[1;36m217\u001b[0m, Train loss: \u001b[1;36m0.020\u001b[0m, Val loss: \u001b[1;36m0.125\u001b[0m, Epoch time = \u001b[1;36m92.\u001b[0m333s\n"
            ]
          },
          "metadata": {
            "tags": []
          }
        },
        {
          "output_type": "display_data",
          "data": {
            "text/html": [
              "<pre style=\"white-space:pre;overflow-x:auto;line-height:normal;font-family:Menlo,'DejaVu Sans Mono',consolas,'Courier New',monospace\">Epoch: <span style=\"color: #008080; text-decoration-color: #008080; font-weight: bold\">218</span>, Train loss: <span style=\"color: #008080; text-decoration-color: #008080; font-weight: bold\">0.020</span>, Val loss: <span style=\"color: #008080; text-decoration-color: #008080; font-weight: bold\">0.127</span>, Epoch time = <span style=\"color: #008080; text-decoration-color: #008080; font-weight: bold\">91.</span>969s\n",
              "</pre>\n"
            ],
            "text/plain": [
              "Epoch: \u001b[1;36m218\u001b[0m, Train loss: \u001b[1;36m0.020\u001b[0m, Val loss: \u001b[1;36m0.127\u001b[0m, Epoch time = \u001b[1;36m91.\u001b[0m969s\n"
            ]
          },
          "metadata": {
            "tags": []
          }
        },
        {
          "output_type": "display_data",
          "data": {
            "text/html": [
              "<pre style=\"white-space:pre;overflow-x:auto;line-height:normal;font-family:Menlo,'DejaVu Sans Mono',consolas,'Courier New',monospace\">Epoch: <span style=\"color: #008080; text-decoration-color: #008080; font-weight: bold\">219</span>, Train loss: <span style=\"color: #008080; text-decoration-color: #008080; font-weight: bold\">0.020</span>, Val loss: <span style=\"color: #008080; text-decoration-color: #008080; font-weight: bold\">0.124</span>, Epoch time = <span style=\"color: #008080; text-decoration-color: #008080; font-weight: bold\">91.</span>936s\n",
              "</pre>\n"
            ],
            "text/plain": [
              "Epoch: \u001b[1;36m219\u001b[0m, Train loss: \u001b[1;36m0.020\u001b[0m, Val loss: \u001b[1;36m0.124\u001b[0m, Epoch time = \u001b[1;36m91.\u001b[0m936s\n"
            ]
          },
          "metadata": {
            "tags": []
          }
        },
        {
          "output_type": "display_data",
          "data": {
            "text/html": [
              "<pre style=\"white-space:pre;overflow-x:auto;line-height:normal;font-family:Menlo,'DejaVu Sans Mono',consolas,'Courier New',monospace\">Epoch: <span style=\"color: #008080; text-decoration-color: #008080; font-weight: bold\">220</span>, Train loss: <span style=\"color: #008080; text-decoration-color: #008080; font-weight: bold\">0.020</span>, Val loss: <span style=\"color: #008080; text-decoration-color: #008080; font-weight: bold\">0.130</span>, Epoch time = <span style=\"color: #008080; text-decoration-color: #008080; font-weight: bold\">92.</span>293s\n",
              "</pre>\n"
            ],
            "text/plain": [
              "Epoch: \u001b[1;36m220\u001b[0m, Train loss: \u001b[1;36m0.020\u001b[0m, Val loss: \u001b[1;36m0.130\u001b[0m, Epoch time = \u001b[1;36m92.\u001b[0m293s\n"
            ]
          },
          "metadata": {
            "tags": []
          }
        },
        {
          "output_type": "display_data",
          "data": {
            "text/html": [
              "<pre style=\"white-space:pre;overflow-x:auto;line-height:normal;font-family:Menlo,'DejaVu Sans Mono',consolas,'Courier New',monospace\">Epoch: <span style=\"color: #008080; text-decoration-color: #008080; font-weight: bold\">221</span>, Train loss: <span style=\"color: #008080; text-decoration-color: #008080; font-weight: bold\">0.020</span>, Val loss: <span style=\"color: #008080; text-decoration-color: #008080; font-weight: bold\">0.130</span>, Epoch time = <span style=\"color: #008080; text-decoration-color: #008080; font-weight: bold\">92.</span>591s\n",
              "</pre>\n"
            ],
            "text/plain": [
              "Epoch: \u001b[1;36m221\u001b[0m, Train loss: \u001b[1;36m0.020\u001b[0m, Val loss: \u001b[1;36m0.130\u001b[0m, Epoch time = \u001b[1;36m92.\u001b[0m591s\n"
            ]
          },
          "metadata": {
            "tags": []
          }
        },
        {
          "output_type": "display_data",
          "data": {
            "text/html": [
              "<pre style=\"white-space:pre;overflow-x:auto;line-height:normal;font-family:Menlo,'DejaVu Sans Mono',consolas,'Courier New',monospace\">Epoch: <span style=\"color: #008080; text-decoration-color: #008080; font-weight: bold\">222</span>, Train loss: <span style=\"color: #008080; text-decoration-color: #008080; font-weight: bold\">0.020</span>, Val loss: <span style=\"color: #008080; text-decoration-color: #008080; font-weight: bold\">0.127</span>, Epoch time = <span style=\"color: #008080; text-decoration-color: #008080; font-weight: bold\">91.</span>312s\n",
              "</pre>\n"
            ],
            "text/plain": [
              "Epoch: \u001b[1;36m222\u001b[0m, Train loss: \u001b[1;36m0.020\u001b[0m, Val loss: \u001b[1;36m0.127\u001b[0m, Epoch time = \u001b[1;36m91.\u001b[0m312s\n"
            ]
          },
          "metadata": {
            "tags": []
          }
        },
        {
          "output_type": "display_data",
          "data": {
            "text/html": [
              "<pre style=\"white-space:pre;overflow-x:auto;line-height:normal;font-family:Menlo,'DejaVu Sans Mono',consolas,'Courier New',monospace\">Epoch: <span style=\"color: #008080; text-decoration-color: #008080; font-weight: bold\">223</span>, Train loss: <span style=\"color: #008080; text-decoration-color: #008080; font-weight: bold\">0.020</span>, Val loss: <span style=\"color: #008080; text-decoration-color: #008080; font-weight: bold\">0.126</span>, Epoch time = <span style=\"color: #008080; text-decoration-color: #008080; font-weight: bold\">92.</span>153s\n",
              "</pre>\n"
            ],
            "text/plain": [
              "Epoch: \u001b[1;36m223\u001b[0m, Train loss: \u001b[1;36m0.020\u001b[0m, Val loss: \u001b[1;36m0.126\u001b[0m, Epoch time = \u001b[1;36m92.\u001b[0m153s\n"
            ]
          },
          "metadata": {
            "tags": []
          }
        },
        {
          "output_type": "display_data",
          "data": {
            "text/html": [
              "<pre style=\"white-space:pre;overflow-x:auto;line-height:normal;font-family:Menlo,'DejaVu Sans Mono',consolas,'Courier New',monospace\">Epoch: <span style=\"color: #008080; text-decoration-color: #008080; font-weight: bold\">224</span>, Train loss: <span style=\"color: #008080; text-decoration-color: #008080; font-weight: bold\">0.020</span>, Val loss: <span style=\"color: #008080; text-decoration-color: #008080; font-weight: bold\">0.126</span>, Epoch time = <span style=\"color: #008080; text-decoration-color: #008080; font-weight: bold\">92.</span>503s\n",
              "</pre>\n"
            ],
            "text/plain": [
              "Epoch: \u001b[1;36m224\u001b[0m, Train loss: \u001b[1;36m0.020\u001b[0m, Val loss: \u001b[1;36m0.126\u001b[0m, Epoch time = \u001b[1;36m92.\u001b[0m503s\n"
            ]
          },
          "metadata": {
            "tags": []
          }
        },
        {
          "output_type": "display_data",
          "data": {
            "text/html": [
              "<pre style=\"white-space:pre;overflow-x:auto;line-height:normal;font-family:Menlo,'DejaVu Sans Mono',consolas,'Courier New',monospace\">Epoch: <span style=\"color: #008080; text-decoration-color: #008080; font-weight: bold\">225</span>, Train loss: <span style=\"color: #008080; text-decoration-color: #008080; font-weight: bold\">0.020</span>, Val loss: <span style=\"color: #008080; text-decoration-color: #008080; font-weight: bold\">0.129</span>, Epoch time = <span style=\"color: #008080; text-decoration-color: #008080; font-weight: bold\">91.</span>862s\n",
              "</pre>\n"
            ],
            "text/plain": [
              "Epoch: \u001b[1;36m225\u001b[0m, Train loss: \u001b[1;36m0.020\u001b[0m, Val loss: \u001b[1;36m0.129\u001b[0m, Epoch time = \u001b[1;36m91.\u001b[0m862s\n"
            ]
          },
          "metadata": {
            "tags": []
          }
        },
        {
          "output_type": "display_data",
          "data": {
            "text/html": [
              "<pre style=\"white-space:pre;overflow-x:auto;line-height:normal;font-family:Menlo,'DejaVu Sans Mono',consolas,'Courier New',monospace\">Epoch: <span style=\"color: #008080; text-decoration-color: #008080; font-weight: bold\">226</span>, Train loss: <span style=\"color: #008080; text-decoration-color: #008080; font-weight: bold\">0.020</span>, Val loss: <span style=\"color: #008080; text-decoration-color: #008080; font-weight: bold\">0.126</span>, Epoch time = <span style=\"color: #008080; text-decoration-color: #008080; font-weight: bold\">91.</span>513s\n",
              "</pre>\n"
            ],
            "text/plain": [
              "Epoch: \u001b[1;36m226\u001b[0m, Train loss: \u001b[1;36m0.020\u001b[0m, Val loss: \u001b[1;36m0.126\u001b[0m, Epoch time = \u001b[1;36m91.\u001b[0m513s\n"
            ]
          },
          "metadata": {
            "tags": []
          }
        },
        {
          "output_type": "display_data",
          "data": {
            "text/html": [
              "<pre style=\"white-space:pre;overflow-x:auto;line-height:normal;font-family:Menlo,'DejaVu Sans Mono',consolas,'Courier New',monospace\">Epoch: <span style=\"color: #008080; text-decoration-color: #008080; font-weight: bold\">227</span>, Train loss: <span style=\"color: #008080; text-decoration-color: #008080; font-weight: bold\">0.019</span>, Val loss: <span style=\"color: #008080; text-decoration-color: #008080; font-weight: bold\">0.126</span>, Epoch time = <span style=\"color: #008080; text-decoration-color: #008080; font-weight: bold\">91.</span>687s\n",
              "</pre>\n"
            ],
            "text/plain": [
              "Epoch: \u001b[1;36m227\u001b[0m, Train loss: \u001b[1;36m0.019\u001b[0m, Val loss: \u001b[1;36m0.126\u001b[0m, Epoch time = \u001b[1;36m91.\u001b[0m687s\n"
            ]
          },
          "metadata": {
            "tags": []
          }
        },
        {
          "output_type": "display_data",
          "data": {
            "text/html": [
              "<pre style=\"white-space:pre;overflow-x:auto;line-height:normal;font-family:Menlo,'DejaVu Sans Mono',consolas,'Courier New',monospace\">Epoch: <span style=\"color: #008080; text-decoration-color: #008080; font-weight: bold\">228</span>, Train loss: <span style=\"color: #008080; text-decoration-color: #008080; font-weight: bold\">0.019</span>, Val loss: <span style=\"color: #008080; text-decoration-color: #008080; font-weight: bold\">0.128</span>, Epoch time = <span style=\"color: #008080; text-decoration-color: #008080; font-weight: bold\">91.</span>873s\n",
              "</pre>\n"
            ],
            "text/plain": [
              "Epoch: \u001b[1;36m228\u001b[0m, Train loss: \u001b[1;36m0.019\u001b[0m, Val loss: \u001b[1;36m0.128\u001b[0m, Epoch time = \u001b[1;36m91.\u001b[0m873s\n"
            ]
          },
          "metadata": {
            "tags": []
          }
        },
        {
          "output_type": "display_data",
          "data": {
            "text/html": [
              "<pre style=\"white-space:pre;overflow-x:auto;line-height:normal;font-family:Menlo,'DejaVu Sans Mono',consolas,'Courier New',monospace\">Epoch: <span style=\"color: #008080; text-decoration-color: #008080; font-weight: bold\">229</span>, Train loss: <span style=\"color: #008080; text-decoration-color: #008080; font-weight: bold\">0.019</span>, Val loss: <span style=\"color: #008080; text-decoration-color: #008080; font-weight: bold\">0.128</span>, Epoch time = <span style=\"color: #008080; text-decoration-color: #008080; font-weight: bold\">92.</span>393s\n",
              "</pre>\n"
            ],
            "text/plain": [
              "Epoch: \u001b[1;36m229\u001b[0m, Train loss: \u001b[1;36m0.019\u001b[0m, Val loss: \u001b[1;36m0.128\u001b[0m, Epoch time = \u001b[1;36m92.\u001b[0m393s\n"
            ]
          },
          "metadata": {
            "tags": []
          }
        },
        {
          "output_type": "display_data",
          "data": {
            "text/html": [
              "<pre style=\"white-space:pre;overflow-x:auto;line-height:normal;font-family:Menlo,'DejaVu Sans Mono',consolas,'Courier New',monospace\">Epoch: <span style=\"color: #008080; text-decoration-color: #008080; font-weight: bold\">230</span>, Train loss: <span style=\"color: #008080; text-decoration-color: #008080; font-weight: bold\">0.019</span>, Val loss: <span style=\"color: #008080; text-decoration-color: #008080; font-weight: bold\">0.127</span>, Epoch time = <span style=\"color: #008080; text-decoration-color: #008080; font-weight: bold\">92.</span>089s\n",
              "</pre>\n"
            ],
            "text/plain": [
              "Epoch: \u001b[1;36m230\u001b[0m, Train loss: \u001b[1;36m0.019\u001b[0m, Val loss: \u001b[1;36m0.127\u001b[0m, Epoch time = \u001b[1;36m92.\u001b[0m089s\n"
            ]
          },
          "metadata": {
            "tags": []
          }
        },
        {
          "output_type": "display_data",
          "data": {
            "text/html": [
              "<pre style=\"white-space:pre;overflow-x:auto;line-height:normal;font-family:Menlo,'DejaVu Sans Mono',consolas,'Courier New',monospace\">Epoch: <span style=\"color: #008080; text-decoration-color: #008080; font-weight: bold\">231</span>, Train loss: <span style=\"color: #008080; text-decoration-color: #008080; font-weight: bold\">0.019</span>, Val loss: <span style=\"color: #008080; text-decoration-color: #008080; font-weight: bold\">0.127</span>, Epoch time = <span style=\"color: #008080; text-decoration-color: #008080; font-weight: bold\">92.</span>063s\n",
              "</pre>\n"
            ],
            "text/plain": [
              "Epoch: \u001b[1;36m231\u001b[0m, Train loss: \u001b[1;36m0.019\u001b[0m, Val loss: \u001b[1;36m0.127\u001b[0m, Epoch time = \u001b[1;36m92.\u001b[0m063s\n"
            ]
          },
          "metadata": {
            "tags": []
          }
        },
        {
          "output_type": "display_data",
          "data": {
            "text/html": [
              "<pre style=\"white-space:pre;overflow-x:auto;line-height:normal;font-family:Menlo,'DejaVu Sans Mono',consolas,'Courier New',monospace\">Epoch: <span style=\"color: #008080; text-decoration-color: #008080; font-weight: bold\">232</span>, Train loss: <span style=\"color: #008080; text-decoration-color: #008080; font-weight: bold\">0.019</span>, Val loss: <span style=\"color: #008080; text-decoration-color: #008080; font-weight: bold\">0.128</span>, Epoch time = <span style=\"color: #008080; text-decoration-color: #008080; font-weight: bold\">91.</span>395s\n",
              "</pre>\n"
            ],
            "text/plain": [
              "Epoch: \u001b[1;36m232\u001b[0m, Train loss: \u001b[1;36m0.019\u001b[0m, Val loss: \u001b[1;36m0.128\u001b[0m, Epoch time = \u001b[1;36m91.\u001b[0m395s\n"
            ]
          },
          "metadata": {
            "tags": []
          }
        },
        {
          "output_type": "display_data",
          "data": {
            "text/html": [
              "<pre style=\"white-space:pre;overflow-x:auto;line-height:normal;font-family:Menlo,'DejaVu Sans Mono',consolas,'Courier New',monospace\">Epoch: <span style=\"color: #008080; text-decoration-color: #008080; font-weight: bold\">233</span>, Train loss: <span style=\"color: #008080; text-decoration-color: #008080; font-weight: bold\">0.019</span>, Val loss: <span style=\"color: #008080; text-decoration-color: #008080; font-weight: bold\">0.128</span>, Epoch time = <span style=\"color: #008080; text-decoration-color: #008080; font-weight: bold\">91.</span>694s\n",
              "</pre>\n"
            ],
            "text/plain": [
              "Epoch: \u001b[1;36m233\u001b[0m, Train loss: \u001b[1;36m0.019\u001b[0m, Val loss: \u001b[1;36m0.128\u001b[0m, Epoch time = \u001b[1;36m91.\u001b[0m694s\n"
            ]
          },
          "metadata": {
            "tags": []
          }
        },
        {
          "output_type": "display_data",
          "data": {
            "text/html": [
              "<pre style=\"white-space:pre;overflow-x:auto;line-height:normal;font-family:Menlo,'DejaVu Sans Mono',consolas,'Courier New',monospace\">Epoch: <span style=\"color: #008080; text-decoration-color: #008080; font-weight: bold\">234</span>, Train loss: <span style=\"color: #008080; text-decoration-color: #008080; font-weight: bold\">0.019</span>, Val loss: <span style=\"color: #008080; text-decoration-color: #008080; font-weight: bold\">0.126</span>, Epoch time = <span style=\"color: #008080; text-decoration-color: #008080; font-weight: bold\">91.</span>911s\n",
              "</pre>\n"
            ],
            "text/plain": [
              "Epoch: \u001b[1;36m234\u001b[0m, Train loss: \u001b[1;36m0.019\u001b[0m, Val loss: \u001b[1;36m0.126\u001b[0m, Epoch time = \u001b[1;36m91.\u001b[0m911s\n"
            ]
          },
          "metadata": {
            "tags": []
          }
        },
        {
          "output_type": "display_data",
          "data": {
            "text/html": [
              "<pre style=\"white-space:pre;overflow-x:auto;line-height:normal;font-family:Menlo,'DejaVu Sans Mono',consolas,'Courier New',monospace\">Epoch: <span style=\"color: #008080; text-decoration-color: #008080; font-weight: bold\">235</span>, Train loss: <span style=\"color: #008080; text-decoration-color: #008080; font-weight: bold\">0.019</span>, Val loss: <span style=\"color: #008080; text-decoration-color: #008080; font-weight: bold\">0.129</span>, Epoch time = <span style=\"color: #008080; text-decoration-color: #008080; font-weight: bold\">91.</span>849s\n",
              "</pre>\n"
            ],
            "text/plain": [
              "Epoch: \u001b[1;36m235\u001b[0m, Train loss: \u001b[1;36m0.019\u001b[0m, Val loss: \u001b[1;36m0.129\u001b[0m, Epoch time = \u001b[1;36m91.\u001b[0m849s\n"
            ]
          },
          "metadata": {
            "tags": []
          }
        },
        {
          "output_type": "display_data",
          "data": {
            "text/html": [
              "<pre style=\"white-space:pre;overflow-x:auto;line-height:normal;font-family:Menlo,'DejaVu Sans Mono',consolas,'Courier New',monospace\">Epoch: <span style=\"color: #008080; text-decoration-color: #008080; font-weight: bold\">236</span>, Train loss: <span style=\"color: #008080; text-decoration-color: #008080; font-weight: bold\">0.019</span>, Val loss: <span style=\"color: #008080; text-decoration-color: #008080; font-weight: bold\">0.134</span>, Epoch time = <span style=\"color: #008080; text-decoration-color: #008080; font-weight: bold\">91.</span>368s\n",
              "</pre>\n"
            ],
            "text/plain": [
              "Epoch: \u001b[1;36m236\u001b[0m, Train loss: \u001b[1;36m0.019\u001b[0m, Val loss: \u001b[1;36m0.134\u001b[0m, Epoch time = \u001b[1;36m91.\u001b[0m368s\n"
            ]
          },
          "metadata": {
            "tags": []
          }
        },
        {
          "output_type": "display_data",
          "data": {
            "text/html": [
              "<pre style=\"white-space:pre;overflow-x:auto;line-height:normal;font-family:Menlo,'DejaVu Sans Mono',consolas,'Courier New',monospace\">Epoch: <span style=\"color: #008080; text-decoration-color: #008080; font-weight: bold\">237</span>, Train loss: <span style=\"color: #008080; text-decoration-color: #008080; font-weight: bold\">0.018</span>, Val loss: <span style=\"color: #008080; text-decoration-color: #008080; font-weight: bold\">0.129</span>, Epoch time = <span style=\"color: #008080; text-decoration-color: #008080; font-weight: bold\">92.</span>156s\n",
              "</pre>\n"
            ],
            "text/plain": [
              "Epoch: \u001b[1;36m237\u001b[0m, Train loss: \u001b[1;36m0.018\u001b[0m, Val loss: \u001b[1;36m0.129\u001b[0m, Epoch time = \u001b[1;36m92.\u001b[0m156s\n"
            ]
          },
          "metadata": {
            "tags": []
          }
        },
        {
          "output_type": "display_data",
          "data": {
            "text/html": [
              "<pre style=\"white-space:pre;overflow-x:auto;line-height:normal;font-family:Menlo,'DejaVu Sans Mono',consolas,'Courier New',monospace\">Epoch: <span style=\"color: #008080; text-decoration-color: #008080; font-weight: bold\">238</span>, Train loss: <span style=\"color: #008080; text-decoration-color: #008080; font-weight: bold\">0.018</span>, Val loss: <span style=\"color: #008080; text-decoration-color: #008080; font-weight: bold\">0.128</span>, Epoch time = <span style=\"color: #008080; text-decoration-color: #008080; font-weight: bold\">91.</span>772s\n",
              "</pre>\n"
            ],
            "text/plain": [
              "Epoch: \u001b[1;36m238\u001b[0m, Train loss: \u001b[1;36m0.018\u001b[0m, Val loss: \u001b[1;36m0.128\u001b[0m, Epoch time = \u001b[1;36m91.\u001b[0m772s\n"
            ]
          },
          "metadata": {
            "tags": []
          }
        },
        {
          "output_type": "display_data",
          "data": {
            "text/html": [
              "<pre style=\"white-space:pre;overflow-x:auto;line-height:normal;font-family:Menlo,'DejaVu Sans Mono',consolas,'Courier New',monospace\">Epoch: <span style=\"color: #008080; text-decoration-color: #008080; font-weight: bold\">239</span>, Train loss: <span style=\"color: #008080; text-decoration-color: #008080; font-weight: bold\">0.018</span>, Val loss: <span style=\"color: #008080; text-decoration-color: #008080; font-weight: bold\">0.129</span>, Epoch time = <span style=\"color: #008080; text-decoration-color: #008080; font-weight: bold\">92.</span>391s\n",
              "</pre>\n"
            ],
            "text/plain": [
              "Epoch: \u001b[1;36m239\u001b[0m, Train loss: \u001b[1;36m0.018\u001b[0m, Val loss: \u001b[1;36m0.129\u001b[0m, Epoch time = \u001b[1;36m92.\u001b[0m391s\n"
            ]
          },
          "metadata": {
            "tags": []
          }
        },
        {
          "output_type": "display_data",
          "data": {
            "text/html": [
              "<pre style=\"white-space:pre;overflow-x:auto;line-height:normal;font-family:Menlo,'DejaVu Sans Mono',consolas,'Courier New',monospace\">Epoch: <span style=\"color: #008080; text-decoration-color: #008080; font-weight: bold\">240</span>, Train loss: <span style=\"color: #008080; text-decoration-color: #008080; font-weight: bold\">0.018</span>, Val loss: <span style=\"color: #008080; text-decoration-color: #008080; font-weight: bold\">0.131</span>, Epoch time = <span style=\"color: #008080; text-decoration-color: #008080; font-weight: bold\">91.</span>980s\n",
              "</pre>\n"
            ],
            "text/plain": [
              "Epoch: \u001b[1;36m240\u001b[0m, Train loss: \u001b[1;36m0.018\u001b[0m, Val loss: \u001b[1;36m0.131\u001b[0m, Epoch time = \u001b[1;36m91.\u001b[0m980s\n"
            ]
          },
          "metadata": {
            "tags": []
          }
        },
        {
          "output_type": "display_data",
          "data": {
            "text/html": [
              "<pre style=\"white-space:pre;overflow-x:auto;line-height:normal;font-family:Menlo,'DejaVu Sans Mono',consolas,'Courier New',monospace\">Epoch: <span style=\"color: #008080; text-decoration-color: #008080; font-weight: bold\">241</span>, Train loss: <span style=\"color: #008080; text-decoration-color: #008080; font-weight: bold\">0.018</span>, Val loss: <span style=\"color: #008080; text-decoration-color: #008080; font-weight: bold\">0.129</span>, Epoch time = <span style=\"color: #008080; text-decoration-color: #008080; font-weight: bold\">91.</span>812s\n",
              "</pre>\n"
            ],
            "text/plain": [
              "Epoch: \u001b[1;36m241\u001b[0m, Train loss: \u001b[1;36m0.018\u001b[0m, Val loss: \u001b[1;36m0.129\u001b[0m, Epoch time = \u001b[1;36m91.\u001b[0m812s\n"
            ]
          },
          "metadata": {
            "tags": []
          }
        },
        {
          "output_type": "display_data",
          "data": {
            "text/html": [
              "<pre style=\"white-space:pre;overflow-x:auto;line-height:normal;font-family:Menlo,'DejaVu Sans Mono',consolas,'Courier New',monospace\">Epoch: <span style=\"color: #008080; text-decoration-color: #008080; font-weight: bold\">242</span>, Train loss: <span style=\"color: #008080; text-decoration-color: #008080; font-weight: bold\">0.018</span>, Val loss: <span style=\"color: #008080; text-decoration-color: #008080; font-weight: bold\">0.128</span>, Epoch time = <span style=\"color: #008080; text-decoration-color: #008080; font-weight: bold\">91.</span>754s\n",
              "</pre>\n"
            ],
            "text/plain": [
              "Epoch: \u001b[1;36m242\u001b[0m, Train loss: \u001b[1;36m0.018\u001b[0m, Val loss: \u001b[1;36m0.128\u001b[0m, Epoch time = \u001b[1;36m91.\u001b[0m754s\n"
            ]
          },
          "metadata": {
            "tags": []
          }
        },
        {
          "output_type": "display_data",
          "data": {
            "text/html": [
              "<pre style=\"white-space:pre;overflow-x:auto;line-height:normal;font-family:Menlo,'DejaVu Sans Mono',consolas,'Courier New',monospace\">Epoch: <span style=\"color: #008080; text-decoration-color: #008080; font-weight: bold\">243</span>, Train loss: <span style=\"color: #008080; text-decoration-color: #008080; font-weight: bold\">0.018</span>, Val loss: <span style=\"color: #008080; text-decoration-color: #008080; font-weight: bold\">0.129</span>, Epoch time = <span style=\"color: #008080; text-decoration-color: #008080; font-weight: bold\">91.</span>593s\n",
              "</pre>\n"
            ],
            "text/plain": [
              "Epoch: \u001b[1;36m243\u001b[0m, Train loss: \u001b[1;36m0.018\u001b[0m, Val loss: \u001b[1;36m0.129\u001b[0m, Epoch time = \u001b[1;36m91.\u001b[0m593s\n"
            ]
          },
          "metadata": {
            "tags": []
          }
        },
        {
          "output_type": "display_data",
          "data": {
            "text/html": [
              "<pre style=\"white-space:pre;overflow-x:auto;line-height:normal;font-family:Menlo,'DejaVu Sans Mono',consolas,'Courier New',monospace\">Epoch: <span style=\"color: #008080; text-decoration-color: #008080; font-weight: bold\">244</span>, Train loss: <span style=\"color: #008080; text-decoration-color: #008080; font-weight: bold\">0.018</span>, Val loss: <span style=\"color: #008080; text-decoration-color: #008080; font-weight: bold\">0.129</span>, Epoch time = <span style=\"color: #008080; text-decoration-color: #008080; font-weight: bold\">91.</span>723s\n",
              "</pre>\n"
            ],
            "text/plain": [
              "Epoch: \u001b[1;36m244\u001b[0m, Train loss: \u001b[1;36m0.018\u001b[0m, Val loss: \u001b[1;36m0.129\u001b[0m, Epoch time = \u001b[1;36m91.\u001b[0m723s\n"
            ]
          },
          "metadata": {
            "tags": []
          }
        },
        {
          "output_type": "display_data",
          "data": {
            "text/html": [
              "<pre style=\"white-space:pre;overflow-x:auto;line-height:normal;font-family:Menlo,'DejaVu Sans Mono',consolas,'Courier New',monospace\">Epoch: <span style=\"color: #008080; text-decoration-color: #008080; font-weight: bold\">245</span>, Train loss: <span style=\"color: #008080; text-decoration-color: #008080; font-weight: bold\">0.018</span>, Val loss: <span style=\"color: #008080; text-decoration-color: #008080; font-weight: bold\">0.131</span>, Epoch time = <span style=\"color: #008080; text-decoration-color: #008080; font-weight: bold\">91.</span>504s\n",
              "</pre>\n"
            ],
            "text/plain": [
              "Epoch: \u001b[1;36m245\u001b[0m, Train loss: \u001b[1;36m0.018\u001b[0m, Val loss: \u001b[1;36m0.131\u001b[0m, Epoch time = \u001b[1;36m91.\u001b[0m504s\n"
            ]
          },
          "metadata": {
            "tags": []
          }
        },
        {
          "output_type": "display_data",
          "data": {
            "text/html": [
              "<pre style=\"white-space:pre;overflow-x:auto;line-height:normal;font-family:Menlo,'DejaVu Sans Mono',consolas,'Courier New',monospace\">Epoch: <span style=\"color: #008080; text-decoration-color: #008080; font-weight: bold\">246</span>, Train loss: <span style=\"color: #008080; text-decoration-color: #008080; font-weight: bold\">0.017</span>, Val loss: <span style=\"color: #008080; text-decoration-color: #008080; font-weight: bold\">0.131</span>, Epoch time = <span style=\"color: #008080; text-decoration-color: #008080; font-weight: bold\">91.</span>932s\n",
              "</pre>\n"
            ],
            "text/plain": [
              "Epoch: \u001b[1;36m246\u001b[0m, Train loss: \u001b[1;36m0.017\u001b[0m, Val loss: \u001b[1;36m0.131\u001b[0m, Epoch time = \u001b[1;36m91.\u001b[0m932s\n"
            ]
          },
          "metadata": {
            "tags": []
          }
        },
        {
          "output_type": "display_data",
          "data": {
            "text/html": [
              "<pre style=\"white-space:pre;overflow-x:auto;line-height:normal;font-family:Menlo,'DejaVu Sans Mono',consolas,'Courier New',monospace\">Epoch: <span style=\"color: #008080; text-decoration-color: #008080; font-weight: bold\">247</span>, Train loss: <span style=\"color: #008080; text-decoration-color: #008080; font-weight: bold\">0.018</span>, Val loss: <span style=\"color: #008080; text-decoration-color: #008080; font-weight: bold\">0.131</span>, Epoch time = <span style=\"color: #008080; text-decoration-color: #008080; font-weight: bold\">91.</span>953s\n",
              "</pre>\n"
            ],
            "text/plain": [
              "Epoch: \u001b[1;36m247\u001b[0m, Train loss: \u001b[1;36m0.018\u001b[0m, Val loss: \u001b[1;36m0.131\u001b[0m, Epoch time = \u001b[1;36m91.\u001b[0m953s\n"
            ]
          },
          "metadata": {
            "tags": []
          }
        },
        {
          "output_type": "display_data",
          "data": {
            "text/html": [
              "<pre style=\"white-space:pre;overflow-x:auto;line-height:normal;font-family:Menlo,'DejaVu Sans Mono',consolas,'Courier New',monospace\">Epoch: <span style=\"color: #008080; text-decoration-color: #008080; font-weight: bold\">248</span>, Train loss: <span style=\"color: #008080; text-decoration-color: #008080; font-weight: bold\">0.018</span>, Val loss: <span style=\"color: #008080; text-decoration-color: #008080; font-weight: bold\">0.131</span>, Epoch time = <span style=\"color: #008080; text-decoration-color: #008080; font-weight: bold\">91.</span>779s\n",
              "</pre>\n"
            ],
            "text/plain": [
              "Epoch: \u001b[1;36m248\u001b[0m, Train loss: \u001b[1;36m0.018\u001b[0m, Val loss: \u001b[1;36m0.131\u001b[0m, Epoch time = \u001b[1;36m91.\u001b[0m779s\n"
            ]
          },
          "metadata": {
            "tags": []
          }
        },
        {
          "output_type": "display_data",
          "data": {
            "text/html": [
              "<pre style=\"white-space:pre;overflow-x:auto;line-height:normal;font-family:Menlo,'DejaVu Sans Mono',consolas,'Courier New',monospace\">Epoch: <span style=\"color: #008080; text-decoration-color: #008080; font-weight: bold\">249</span>, Train loss: <span style=\"color: #008080; text-decoration-color: #008080; font-weight: bold\">0.017</span>, Val loss: <span style=\"color: #008080; text-decoration-color: #008080; font-weight: bold\">0.130</span>, Epoch time = <span style=\"color: #008080; text-decoration-color: #008080; font-weight: bold\">91.</span>773s\n",
              "</pre>\n"
            ],
            "text/plain": [
              "Epoch: \u001b[1;36m249\u001b[0m, Train loss: \u001b[1;36m0.017\u001b[0m, Val loss: \u001b[1;36m0.130\u001b[0m, Epoch time = \u001b[1;36m91.\u001b[0m773s\n"
            ]
          },
          "metadata": {
            "tags": []
          }
        },
        {
          "output_type": "display_data",
          "data": {
            "text/html": [
              "<pre style=\"white-space:pre;overflow-x:auto;line-height:normal;font-family:Menlo,'DejaVu Sans Mono',consolas,'Courier New',monospace\">Epoch: <span style=\"color: #008080; text-decoration-color: #008080; font-weight: bold\">250</span>, Train loss: <span style=\"color: #008080; text-decoration-color: #008080; font-weight: bold\">0.017</span>, Val loss: <span style=\"color: #008080; text-decoration-color: #008080; font-weight: bold\">0.134</span>, Epoch time = <span style=\"color: #008080; text-decoration-color: #008080; font-weight: bold\">91.</span>869s\n",
              "</pre>\n"
            ],
            "text/plain": [
              "Epoch: \u001b[1;36m250\u001b[0m, Train loss: \u001b[1;36m0.017\u001b[0m, Val loss: \u001b[1;36m0.134\u001b[0m, Epoch time = \u001b[1;36m91.\u001b[0m869s\n"
            ]
          },
          "metadata": {
            "tags": []
          }
        },
        {
          "output_type": "display_data",
          "data": {
            "text/html": [
              "<pre style=\"white-space:pre;overflow-x:auto;line-height:normal;font-family:Menlo,'DejaVu Sans Mono',consolas,'Courier New',monospace\">Epoch: <span style=\"color: #008080; text-decoration-color: #008080; font-weight: bold\">251</span>, Train loss: <span style=\"color: #008080; text-decoration-color: #008080; font-weight: bold\">0.017</span>, Val loss: <span style=\"color: #008080; text-decoration-color: #008080; font-weight: bold\">0.137</span>, Epoch time = <span style=\"color: #008080; text-decoration-color: #008080; font-weight: bold\">91.</span>438s\n",
              "</pre>\n"
            ],
            "text/plain": [
              "Epoch: \u001b[1;36m251\u001b[0m, Train loss: \u001b[1;36m0.017\u001b[0m, Val loss: \u001b[1;36m0.137\u001b[0m, Epoch time = \u001b[1;36m91.\u001b[0m438s\n"
            ]
          },
          "metadata": {
            "tags": []
          }
        },
        {
          "output_type": "display_data",
          "data": {
            "text/html": [
              "<pre style=\"white-space:pre;overflow-x:auto;line-height:normal;font-family:Menlo,'DejaVu Sans Mono',consolas,'Courier New',monospace\">Epoch: <span style=\"color: #008080; text-decoration-color: #008080; font-weight: bold\">252</span>, Train loss: <span style=\"color: #008080; text-decoration-color: #008080; font-weight: bold\">0.017</span>, Val loss: <span style=\"color: #008080; text-decoration-color: #008080; font-weight: bold\">0.132</span>, Epoch time = <span style=\"color: #008080; text-decoration-color: #008080; font-weight: bold\">91.</span>805s\n",
              "</pre>\n"
            ],
            "text/plain": [
              "Epoch: \u001b[1;36m252\u001b[0m, Train loss: \u001b[1;36m0.017\u001b[0m, Val loss: \u001b[1;36m0.132\u001b[0m, Epoch time = \u001b[1;36m91.\u001b[0m805s\n"
            ]
          },
          "metadata": {
            "tags": []
          }
        },
        {
          "output_type": "display_data",
          "data": {
            "text/html": [
              "<pre style=\"white-space:pre;overflow-x:auto;line-height:normal;font-family:Menlo,'DejaVu Sans Mono',consolas,'Courier New',monospace\">Epoch: <span style=\"color: #008080; text-decoration-color: #008080; font-weight: bold\">253</span>, Train loss: <span style=\"color: #008080; text-decoration-color: #008080; font-weight: bold\">0.017</span>, Val loss: <span style=\"color: #008080; text-decoration-color: #008080; font-weight: bold\">0.133</span>, Epoch time = <span style=\"color: #008080; text-decoration-color: #008080; font-weight: bold\">90.</span>938s\n",
              "</pre>\n"
            ],
            "text/plain": [
              "Epoch: \u001b[1;36m253\u001b[0m, Train loss: \u001b[1;36m0.017\u001b[0m, Val loss: \u001b[1;36m0.133\u001b[0m, Epoch time = \u001b[1;36m90.\u001b[0m938s\n"
            ]
          },
          "metadata": {
            "tags": []
          }
        },
        {
          "output_type": "display_data",
          "data": {
            "text/html": [
              "<pre style=\"white-space:pre;overflow-x:auto;line-height:normal;font-family:Menlo,'DejaVu Sans Mono',consolas,'Courier New',monospace\">Epoch: <span style=\"color: #008080; text-decoration-color: #008080; font-weight: bold\">254</span>, Train loss: <span style=\"color: #008080; text-decoration-color: #008080; font-weight: bold\">0.017</span>, Val loss: <span style=\"color: #008080; text-decoration-color: #008080; font-weight: bold\">0.130</span>, Epoch time = <span style=\"color: #008080; text-decoration-color: #008080; font-weight: bold\">92.</span>249s\n",
              "</pre>\n"
            ],
            "text/plain": [
              "Epoch: \u001b[1;36m254\u001b[0m, Train loss: \u001b[1;36m0.017\u001b[0m, Val loss: \u001b[1;36m0.130\u001b[0m, Epoch time = \u001b[1;36m92.\u001b[0m249s\n"
            ]
          },
          "metadata": {
            "tags": []
          }
        },
        {
          "output_type": "display_data",
          "data": {
            "text/html": [
              "<pre style=\"white-space:pre;overflow-x:auto;line-height:normal;font-family:Menlo,'DejaVu Sans Mono',consolas,'Courier New',monospace\">Epoch: <span style=\"color: #008080; text-decoration-color: #008080; font-weight: bold\">255</span>, Train loss: <span style=\"color: #008080; text-decoration-color: #008080; font-weight: bold\">0.017</span>, Val loss: <span style=\"color: #008080; text-decoration-color: #008080; font-weight: bold\">0.133</span>, Epoch time = <span style=\"color: #008080; text-decoration-color: #008080; font-weight: bold\">92.</span>082s\n",
              "</pre>\n"
            ],
            "text/plain": [
              "Epoch: \u001b[1;36m255\u001b[0m, Train loss: \u001b[1;36m0.017\u001b[0m, Val loss: \u001b[1;36m0.133\u001b[0m, Epoch time = \u001b[1;36m92.\u001b[0m082s\n"
            ]
          },
          "metadata": {
            "tags": []
          }
        },
        {
          "output_type": "display_data",
          "data": {
            "text/html": [
              "<pre style=\"white-space:pre;overflow-x:auto;line-height:normal;font-family:Menlo,'DejaVu Sans Mono',consolas,'Courier New',monospace\">Epoch: <span style=\"color: #008080; text-decoration-color: #008080; font-weight: bold\">256</span>, Train loss: <span style=\"color: #008080; text-decoration-color: #008080; font-weight: bold\">0.017</span>, Val loss: <span style=\"color: #008080; text-decoration-color: #008080; font-weight: bold\">0.132</span>, Epoch time = <span style=\"color: #008080; text-decoration-color: #008080; font-weight: bold\">91.</span>841s\n",
              "</pre>\n"
            ],
            "text/plain": [
              "Epoch: \u001b[1;36m256\u001b[0m, Train loss: \u001b[1;36m0.017\u001b[0m, Val loss: \u001b[1;36m0.132\u001b[0m, Epoch time = \u001b[1;36m91.\u001b[0m841s\n"
            ]
          },
          "metadata": {
            "tags": []
          }
        },
        {
          "output_type": "display_data",
          "data": {
            "text/html": [
              "<pre style=\"white-space:pre;overflow-x:auto;line-height:normal;font-family:Menlo,'DejaVu Sans Mono',consolas,'Courier New',monospace\">Epoch: <span style=\"color: #008080; text-decoration-color: #008080; font-weight: bold\">257</span>, Train loss: <span style=\"color: #008080; text-decoration-color: #008080; font-weight: bold\">0.017</span>, Val loss: <span style=\"color: #008080; text-decoration-color: #008080; font-weight: bold\">0.136</span>, Epoch time = <span style=\"color: #008080; text-decoration-color: #008080; font-weight: bold\">91.</span>467s\n",
              "</pre>\n"
            ],
            "text/plain": [
              "Epoch: \u001b[1;36m257\u001b[0m, Train loss: \u001b[1;36m0.017\u001b[0m, Val loss: \u001b[1;36m0.136\u001b[0m, Epoch time = \u001b[1;36m91.\u001b[0m467s\n"
            ]
          },
          "metadata": {
            "tags": []
          }
        },
        {
          "output_type": "display_data",
          "data": {
            "text/html": [
              "<pre style=\"white-space:pre;overflow-x:auto;line-height:normal;font-family:Menlo,'DejaVu Sans Mono',consolas,'Courier New',monospace\">Epoch: <span style=\"color: #008080; text-decoration-color: #008080; font-weight: bold\">258</span>, Train loss: <span style=\"color: #008080; text-decoration-color: #008080; font-weight: bold\">0.017</span>, Val loss: <span style=\"color: #008080; text-decoration-color: #008080; font-weight: bold\">0.133</span>, Epoch time = <span style=\"color: #008080; text-decoration-color: #008080; font-weight: bold\">91.</span>871s\n",
              "</pre>\n"
            ],
            "text/plain": [
              "Epoch: \u001b[1;36m258\u001b[0m, Train loss: \u001b[1;36m0.017\u001b[0m, Val loss: \u001b[1;36m0.133\u001b[0m, Epoch time = \u001b[1;36m91.\u001b[0m871s\n"
            ]
          },
          "metadata": {
            "tags": []
          }
        },
        {
          "output_type": "display_data",
          "data": {
            "text/html": [
              "<pre style=\"white-space:pre;overflow-x:auto;line-height:normal;font-family:Menlo,'DejaVu Sans Mono',consolas,'Courier New',monospace\">Epoch: <span style=\"color: #008080; text-decoration-color: #008080; font-weight: bold\">259</span>, Train loss: <span style=\"color: #008080; text-decoration-color: #008080; font-weight: bold\">0.017</span>, Val loss: <span style=\"color: #008080; text-decoration-color: #008080; font-weight: bold\">0.131</span>, Epoch time = <span style=\"color: #008080; text-decoration-color: #008080; font-weight: bold\">91.</span>967s\n",
              "</pre>\n"
            ],
            "text/plain": [
              "Epoch: \u001b[1;36m259\u001b[0m, Train loss: \u001b[1;36m0.017\u001b[0m, Val loss: \u001b[1;36m0.131\u001b[0m, Epoch time = \u001b[1;36m91.\u001b[0m967s\n"
            ]
          },
          "metadata": {
            "tags": []
          }
        },
        {
          "output_type": "display_data",
          "data": {
            "text/html": [
              "<pre style=\"white-space:pre;overflow-x:auto;line-height:normal;font-family:Menlo,'DejaVu Sans Mono',consolas,'Courier New',monospace\">Epoch: <span style=\"color: #008080; text-decoration-color: #008080; font-weight: bold\">260</span>, Train loss: <span style=\"color: #008080; text-decoration-color: #008080; font-weight: bold\">0.016</span>, Val loss: <span style=\"color: #008080; text-decoration-color: #008080; font-weight: bold\">0.131</span>, Epoch time = <span style=\"color: #008080; text-decoration-color: #008080; font-weight: bold\">91.</span>554s\n",
              "</pre>\n"
            ],
            "text/plain": [
              "Epoch: \u001b[1;36m260\u001b[0m, Train loss: \u001b[1;36m0.016\u001b[0m, Val loss: \u001b[1;36m0.131\u001b[0m, Epoch time = \u001b[1;36m91.\u001b[0m554s\n"
            ]
          },
          "metadata": {
            "tags": []
          }
        },
        {
          "output_type": "display_data",
          "data": {
            "text/html": [
              "<pre style=\"white-space:pre;overflow-x:auto;line-height:normal;font-family:Menlo,'DejaVu Sans Mono',consolas,'Courier New',monospace\">Epoch: <span style=\"color: #008080; text-decoration-color: #008080; font-weight: bold\">261</span>, Train loss: <span style=\"color: #008080; text-decoration-color: #008080; font-weight: bold\">0.016</span>, Val loss: <span style=\"color: #008080; text-decoration-color: #008080; font-weight: bold\">0.129</span>, Epoch time = <span style=\"color: #008080; text-decoration-color: #008080; font-weight: bold\">92.</span>021s\n",
              "</pre>\n"
            ],
            "text/plain": [
              "Epoch: \u001b[1;36m261\u001b[0m, Train loss: \u001b[1;36m0.016\u001b[0m, Val loss: \u001b[1;36m0.129\u001b[0m, Epoch time = \u001b[1;36m92.\u001b[0m021s\n"
            ]
          },
          "metadata": {
            "tags": []
          }
        },
        {
          "output_type": "display_data",
          "data": {
            "text/html": [
              "<pre style=\"white-space:pre;overflow-x:auto;line-height:normal;font-family:Menlo,'DejaVu Sans Mono',consolas,'Courier New',monospace\">Epoch: <span style=\"color: #008080; text-decoration-color: #008080; font-weight: bold\">262</span>, Train loss: <span style=\"color: #008080; text-decoration-color: #008080; font-weight: bold\">0.016</span>, Val loss: <span style=\"color: #008080; text-decoration-color: #008080; font-weight: bold\">0.132</span>, Epoch time = <span style=\"color: #008080; text-decoration-color: #008080; font-weight: bold\">92.</span>746s\n",
              "</pre>\n"
            ],
            "text/plain": [
              "Epoch: \u001b[1;36m262\u001b[0m, Train loss: \u001b[1;36m0.016\u001b[0m, Val loss: \u001b[1;36m0.132\u001b[0m, Epoch time = \u001b[1;36m92.\u001b[0m746s\n"
            ]
          },
          "metadata": {
            "tags": []
          }
        },
        {
          "output_type": "display_data",
          "data": {
            "text/html": [
              "<pre style=\"white-space:pre;overflow-x:auto;line-height:normal;font-family:Menlo,'DejaVu Sans Mono',consolas,'Courier New',monospace\">Epoch: <span style=\"color: #008080; text-decoration-color: #008080; font-weight: bold\">263</span>, Train loss: <span style=\"color: #008080; text-decoration-color: #008080; font-weight: bold\">0.016</span>, Val loss: <span style=\"color: #008080; text-decoration-color: #008080; font-weight: bold\">0.132</span>, Epoch time = <span style=\"color: #008080; text-decoration-color: #008080; font-weight: bold\">91.</span>735s\n",
              "</pre>\n"
            ],
            "text/plain": [
              "Epoch: \u001b[1;36m263\u001b[0m, Train loss: \u001b[1;36m0.016\u001b[0m, Val loss: \u001b[1;36m0.132\u001b[0m, Epoch time = \u001b[1;36m91.\u001b[0m735s\n"
            ]
          },
          "metadata": {
            "tags": []
          }
        },
        {
          "output_type": "display_data",
          "data": {
            "text/html": [
              "<pre style=\"white-space:pre;overflow-x:auto;line-height:normal;font-family:Menlo,'DejaVu Sans Mono',consolas,'Courier New',monospace\">Epoch: <span style=\"color: #008080; text-decoration-color: #008080; font-weight: bold\">264</span>, Train loss: <span style=\"color: #008080; text-decoration-color: #008080; font-weight: bold\">0.016</span>, Val loss: <span style=\"color: #008080; text-decoration-color: #008080; font-weight: bold\">0.132</span>, Epoch time = <span style=\"color: #008080; text-decoration-color: #008080; font-weight: bold\">91.</span>778s\n",
              "</pre>\n"
            ],
            "text/plain": [
              "Epoch: \u001b[1;36m264\u001b[0m, Train loss: \u001b[1;36m0.016\u001b[0m, Val loss: \u001b[1;36m0.132\u001b[0m, Epoch time = \u001b[1;36m91.\u001b[0m778s\n"
            ]
          },
          "metadata": {
            "tags": []
          }
        },
        {
          "output_type": "display_data",
          "data": {
            "text/html": [
              "<pre style=\"white-space:pre;overflow-x:auto;line-height:normal;font-family:Menlo,'DejaVu Sans Mono',consolas,'Courier New',monospace\">Epoch: <span style=\"color: #008080; text-decoration-color: #008080; font-weight: bold\">265</span>, Train loss: <span style=\"color: #008080; text-decoration-color: #008080; font-weight: bold\">0.016</span>, Val loss: <span style=\"color: #008080; text-decoration-color: #008080; font-weight: bold\">0.131</span>, Epoch time = <span style=\"color: #008080; text-decoration-color: #008080; font-weight: bold\">92.</span>039s\n",
              "</pre>\n"
            ],
            "text/plain": [
              "Epoch: \u001b[1;36m265\u001b[0m, Train loss: \u001b[1;36m0.016\u001b[0m, Val loss: \u001b[1;36m0.131\u001b[0m, Epoch time = \u001b[1;36m92.\u001b[0m039s\n"
            ]
          },
          "metadata": {
            "tags": []
          }
        },
        {
          "output_type": "display_data",
          "data": {
            "text/html": [
              "<pre style=\"white-space:pre;overflow-x:auto;line-height:normal;font-family:Menlo,'DejaVu Sans Mono',consolas,'Courier New',monospace\">Epoch: <span style=\"color: #008080; text-decoration-color: #008080; font-weight: bold\">266</span>, Train loss: <span style=\"color: #008080; text-decoration-color: #008080; font-weight: bold\">0.016</span>, Val loss: <span style=\"color: #008080; text-decoration-color: #008080; font-weight: bold\">0.130</span>, Epoch time = <span style=\"color: #008080; text-decoration-color: #008080; font-weight: bold\">92.</span>092s\n",
              "</pre>\n"
            ],
            "text/plain": [
              "Epoch: \u001b[1;36m266\u001b[0m, Train loss: \u001b[1;36m0.016\u001b[0m, Val loss: \u001b[1;36m0.130\u001b[0m, Epoch time = \u001b[1;36m92.\u001b[0m092s\n"
            ]
          },
          "metadata": {
            "tags": []
          }
        },
        {
          "output_type": "display_data",
          "data": {
            "text/html": [
              "<pre style=\"white-space:pre;overflow-x:auto;line-height:normal;font-family:Menlo,'DejaVu Sans Mono',consolas,'Courier New',monospace\">Epoch: <span style=\"color: #008080; text-decoration-color: #008080; font-weight: bold\">267</span>, Train loss: <span style=\"color: #008080; text-decoration-color: #008080; font-weight: bold\">0.016</span>, Val loss: <span style=\"color: #008080; text-decoration-color: #008080; font-weight: bold\">0.132</span>, Epoch time = <span style=\"color: #008080; text-decoration-color: #008080; font-weight: bold\">92.</span>320s\n",
              "</pre>\n"
            ],
            "text/plain": [
              "Epoch: \u001b[1;36m267\u001b[0m, Train loss: \u001b[1;36m0.016\u001b[0m, Val loss: \u001b[1;36m0.132\u001b[0m, Epoch time = \u001b[1;36m92.\u001b[0m320s\n"
            ]
          },
          "metadata": {
            "tags": []
          }
        },
        {
          "output_type": "display_data",
          "data": {
            "text/html": [
              "<pre style=\"white-space:pre;overflow-x:auto;line-height:normal;font-family:Menlo,'DejaVu Sans Mono',consolas,'Courier New',monospace\">Epoch: <span style=\"color: #008080; text-decoration-color: #008080; font-weight: bold\">268</span>, Train loss: <span style=\"color: #008080; text-decoration-color: #008080; font-weight: bold\">0.016</span>, Val loss: <span style=\"color: #008080; text-decoration-color: #008080; font-weight: bold\">0.132</span>, Epoch time = <span style=\"color: #008080; text-decoration-color: #008080; font-weight: bold\">91.</span>944s\n",
              "</pre>\n"
            ],
            "text/plain": [
              "Epoch: \u001b[1;36m268\u001b[0m, Train loss: \u001b[1;36m0.016\u001b[0m, Val loss: \u001b[1;36m0.132\u001b[0m, Epoch time = \u001b[1;36m91.\u001b[0m944s\n"
            ]
          },
          "metadata": {
            "tags": []
          }
        },
        {
          "output_type": "display_data",
          "data": {
            "text/html": [
              "<pre style=\"white-space:pre;overflow-x:auto;line-height:normal;font-family:Menlo,'DejaVu Sans Mono',consolas,'Courier New',monospace\">Epoch: <span style=\"color: #008080; text-decoration-color: #008080; font-weight: bold\">269</span>, Train loss: <span style=\"color: #008080; text-decoration-color: #008080; font-weight: bold\">0.016</span>, Val loss: <span style=\"color: #008080; text-decoration-color: #008080; font-weight: bold\">0.133</span>, Epoch time = <span style=\"color: #008080; text-decoration-color: #008080; font-weight: bold\">92.</span>262s\n",
              "</pre>\n"
            ],
            "text/plain": [
              "Epoch: \u001b[1;36m269\u001b[0m, Train loss: \u001b[1;36m0.016\u001b[0m, Val loss: \u001b[1;36m0.133\u001b[0m, Epoch time = \u001b[1;36m92.\u001b[0m262s\n"
            ]
          },
          "metadata": {
            "tags": []
          }
        },
        {
          "output_type": "display_data",
          "data": {
            "text/html": [
              "<pre style=\"white-space:pre;overflow-x:auto;line-height:normal;font-family:Menlo,'DejaVu Sans Mono',consolas,'Courier New',monospace\">Epoch: <span style=\"color: #008080; text-decoration-color: #008080; font-weight: bold\">270</span>, Train loss: <span style=\"color: #008080; text-decoration-color: #008080; font-weight: bold\">0.016</span>, Val loss: <span style=\"color: #008080; text-decoration-color: #008080; font-weight: bold\">0.132</span>, Epoch time = <span style=\"color: #008080; text-decoration-color: #008080; font-weight: bold\">92.</span>247s\n",
              "</pre>\n"
            ],
            "text/plain": [
              "Epoch: \u001b[1;36m270\u001b[0m, Train loss: \u001b[1;36m0.016\u001b[0m, Val loss: \u001b[1;36m0.132\u001b[0m, Epoch time = \u001b[1;36m92.\u001b[0m247s\n"
            ]
          },
          "metadata": {
            "tags": []
          }
        },
        {
          "output_type": "display_data",
          "data": {
            "text/html": [
              "<pre style=\"white-space:pre;overflow-x:auto;line-height:normal;font-family:Menlo,'DejaVu Sans Mono',consolas,'Courier New',monospace\">Epoch: <span style=\"color: #008080; text-decoration-color: #008080; font-weight: bold\">271</span>, Train loss: <span style=\"color: #008080; text-decoration-color: #008080; font-weight: bold\">0.016</span>, Val loss: <span style=\"color: #008080; text-decoration-color: #008080; font-weight: bold\">0.134</span>, Epoch time = <span style=\"color: #008080; text-decoration-color: #008080; font-weight: bold\">91.</span>480s\n",
              "</pre>\n"
            ],
            "text/plain": [
              "Epoch: \u001b[1;36m271\u001b[0m, Train loss: \u001b[1;36m0.016\u001b[0m, Val loss: \u001b[1;36m0.134\u001b[0m, Epoch time = \u001b[1;36m91.\u001b[0m480s\n"
            ]
          },
          "metadata": {
            "tags": []
          }
        },
        {
          "output_type": "display_data",
          "data": {
            "text/html": [
              "<pre style=\"white-space:pre;overflow-x:auto;line-height:normal;font-family:Menlo,'DejaVu Sans Mono',consolas,'Courier New',monospace\">Epoch: <span style=\"color: #008080; text-decoration-color: #008080; font-weight: bold\">272</span>, Train loss: <span style=\"color: #008080; text-decoration-color: #008080; font-weight: bold\">0.016</span>, Val loss: <span style=\"color: #008080; text-decoration-color: #008080; font-weight: bold\">0.132</span>, Epoch time = <span style=\"color: #008080; text-decoration-color: #008080; font-weight: bold\">91.</span>768s\n",
              "</pre>\n"
            ],
            "text/plain": [
              "Epoch: \u001b[1;36m272\u001b[0m, Train loss: \u001b[1;36m0.016\u001b[0m, Val loss: \u001b[1;36m0.132\u001b[0m, Epoch time = \u001b[1;36m91.\u001b[0m768s\n"
            ]
          },
          "metadata": {
            "tags": []
          }
        },
        {
          "output_type": "display_data",
          "data": {
            "text/html": [
              "<pre style=\"white-space:pre;overflow-x:auto;line-height:normal;font-family:Menlo,'DejaVu Sans Mono',consolas,'Courier New',monospace\">Epoch: <span style=\"color: #008080; text-decoration-color: #008080; font-weight: bold\">273</span>, Train loss: <span style=\"color: #008080; text-decoration-color: #008080; font-weight: bold\">0.016</span>, Val loss: <span style=\"color: #008080; text-decoration-color: #008080; font-weight: bold\">0.134</span>, Epoch time = <span style=\"color: #008080; text-decoration-color: #008080; font-weight: bold\">91.</span>752s\n",
              "</pre>\n"
            ],
            "text/plain": [
              "Epoch: \u001b[1;36m273\u001b[0m, Train loss: \u001b[1;36m0.016\u001b[0m, Val loss: \u001b[1;36m0.134\u001b[0m, Epoch time = \u001b[1;36m91.\u001b[0m752s\n"
            ]
          },
          "metadata": {
            "tags": []
          }
        },
        {
          "output_type": "display_data",
          "data": {
            "text/html": [
              "<pre style=\"white-space:pre;overflow-x:auto;line-height:normal;font-family:Menlo,'DejaVu Sans Mono',consolas,'Courier New',monospace\">Epoch: <span style=\"color: #008080; text-decoration-color: #008080; font-weight: bold\">274</span>, Train loss: <span style=\"color: #008080; text-decoration-color: #008080; font-weight: bold\">0.016</span>, Val loss: <span style=\"color: #008080; text-decoration-color: #008080; font-weight: bold\">0.134</span>, Epoch time = <span style=\"color: #008080; text-decoration-color: #008080; font-weight: bold\">91.</span>909s\n",
              "</pre>\n"
            ],
            "text/plain": [
              "Epoch: \u001b[1;36m274\u001b[0m, Train loss: \u001b[1;36m0.016\u001b[0m, Val loss: \u001b[1;36m0.134\u001b[0m, Epoch time = \u001b[1;36m91.\u001b[0m909s\n"
            ]
          },
          "metadata": {
            "tags": []
          }
        },
        {
          "output_type": "display_data",
          "data": {
            "text/html": [
              "<pre style=\"white-space:pre;overflow-x:auto;line-height:normal;font-family:Menlo,'DejaVu Sans Mono',consolas,'Courier New',monospace\">Epoch: <span style=\"color: #008080; text-decoration-color: #008080; font-weight: bold\">275</span>, Train loss: <span style=\"color: #008080; text-decoration-color: #008080; font-weight: bold\">0.015</span>, Val loss: <span style=\"color: #008080; text-decoration-color: #008080; font-weight: bold\">0.133</span>, Epoch time = <span style=\"color: #008080; text-decoration-color: #008080; font-weight: bold\">91.</span>853s\n",
              "</pre>\n"
            ],
            "text/plain": [
              "Epoch: \u001b[1;36m275\u001b[0m, Train loss: \u001b[1;36m0.015\u001b[0m, Val loss: \u001b[1;36m0.133\u001b[0m, Epoch time = \u001b[1;36m91.\u001b[0m853s\n"
            ]
          },
          "metadata": {
            "tags": []
          }
        },
        {
          "output_type": "display_data",
          "data": {
            "text/html": [
              "<pre style=\"white-space:pre;overflow-x:auto;line-height:normal;font-family:Menlo,'DejaVu Sans Mono',consolas,'Courier New',monospace\">Epoch: <span style=\"color: #008080; text-decoration-color: #008080; font-weight: bold\">276</span>, Train loss: <span style=\"color: #008080; text-decoration-color: #008080; font-weight: bold\">0.016</span>, Val loss: <span style=\"color: #008080; text-decoration-color: #008080; font-weight: bold\">0.137</span>, Epoch time = <span style=\"color: #008080; text-decoration-color: #008080; font-weight: bold\">91.</span>991s\n",
              "</pre>\n"
            ],
            "text/plain": [
              "Epoch: \u001b[1;36m276\u001b[0m, Train loss: \u001b[1;36m0.016\u001b[0m, Val loss: \u001b[1;36m0.137\u001b[0m, Epoch time = \u001b[1;36m91.\u001b[0m991s\n"
            ]
          },
          "metadata": {
            "tags": []
          }
        },
        {
          "output_type": "display_data",
          "data": {
            "text/html": [
              "<pre style=\"white-space:pre;overflow-x:auto;line-height:normal;font-family:Menlo,'DejaVu Sans Mono',consolas,'Courier New',monospace\">Epoch: <span style=\"color: #008080; text-decoration-color: #008080; font-weight: bold\">277</span>, Train loss: <span style=\"color: #008080; text-decoration-color: #008080; font-weight: bold\">0.015</span>, Val loss: <span style=\"color: #008080; text-decoration-color: #008080; font-weight: bold\">0.135</span>, Epoch time = <span style=\"color: #008080; text-decoration-color: #008080; font-weight: bold\">91.</span>742s\n",
              "</pre>\n"
            ],
            "text/plain": [
              "Epoch: \u001b[1;36m277\u001b[0m, Train loss: \u001b[1;36m0.015\u001b[0m, Val loss: \u001b[1;36m0.135\u001b[0m, Epoch time = \u001b[1;36m91.\u001b[0m742s\n"
            ]
          },
          "metadata": {
            "tags": []
          }
        },
        {
          "output_type": "display_data",
          "data": {
            "text/html": [
              "<pre style=\"white-space:pre;overflow-x:auto;line-height:normal;font-family:Menlo,'DejaVu Sans Mono',consolas,'Courier New',monospace\">Epoch: <span style=\"color: #008080; text-decoration-color: #008080; font-weight: bold\">278</span>, Train loss: <span style=\"color: #008080; text-decoration-color: #008080; font-weight: bold\">0.015</span>, Val loss: <span style=\"color: #008080; text-decoration-color: #008080; font-weight: bold\">0.135</span>, Epoch time = <span style=\"color: #008080; text-decoration-color: #008080; font-weight: bold\">92.</span>760s\n",
              "</pre>\n"
            ],
            "text/plain": [
              "Epoch: \u001b[1;36m278\u001b[0m, Train loss: \u001b[1;36m0.015\u001b[0m, Val loss: \u001b[1;36m0.135\u001b[0m, Epoch time = \u001b[1;36m92.\u001b[0m760s\n"
            ]
          },
          "metadata": {
            "tags": []
          }
        },
        {
          "output_type": "display_data",
          "data": {
            "text/html": [
              "<pre style=\"white-space:pre;overflow-x:auto;line-height:normal;font-family:Menlo,'DejaVu Sans Mono',consolas,'Courier New',monospace\">Epoch: <span style=\"color: #008080; text-decoration-color: #008080; font-weight: bold\">279</span>, Train loss: <span style=\"color: #008080; text-decoration-color: #008080; font-weight: bold\">0.015</span>, Val loss: <span style=\"color: #008080; text-decoration-color: #008080; font-weight: bold\">0.134</span>, Epoch time = <span style=\"color: #008080; text-decoration-color: #008080; font-weight: bold\">92.</span>574s\n",
              "</pre>\n"
            ],
            "text/plain": [
              "Epoch: \u001b[1;36m279\u001b[0m, Train loss: \u001b[1;36m0.015\u001b[0m, Val loss: \u001b[1;36m0.134\u001b[0m, Epoch time = \u001b[1;36m92.\u001b[0m574s\n"
            ]
          },
          "metadata": {
            "tags": []
          }
        },
        {
          "output_type": "display_data",
          "data": {
            "text/html": [
              "<pre style=\"white-space:pre;overflow-x:auto;line-height:normal;font-family:Menlo,'DejaVu Sans Mono',consolas,'Courier New',monospace\">Epoch: <span style=\"color: #008080; text-decoration-color: #008080; font-weight: bold\">280</span>, Train loss: <span style=\"color: #008080; text-decoration-color: #008080; font-weight: bold\">0.015</span>, Val loss: <span style=\"color: #008080; text-decoration-color: #008080; font-weight: bold\">0.134</span>, Epoch time = <span style=\"color: #008080; text-decoration-color: #008080; font-weight: bold\">92.</span>234s\n",
              "</pre>\n"
            ],
            "text/plain": [
              "Epoch: \u001b[1;36m280\u001b[0m, Train loss: \u001b[1;36m0.015\u001b[0m, Val loss: \u001b[1;36m0.134\u001b[0m, Epoch time = \u001b[1;36m92.\u001b[0m234s\n"
            ]
          },
          "metadata": {
            "tags": []
          }
        },
        {
          "output_type": "display_data",
          "data": {
            "text/html": [
              "<pre style=\"white-space:pre;overflow-x:auto;line-height:normal;font-family:Menlo,'DejaVu Sans Mono',consolas,'Courier New',monospace\">Epoch: <span style=\"color: #008080; text-decoration-color: #008080; font-weight: bold\">281</span>, Train loss: <span style=\"color: #008080; text-decoration-color: #008080; font-weight: bold\">0.015</span>, Val loss: <span style=\"color: #008080; text-decoration-color: #008080; font-weight: bold\">0.134</span>, Epoch time = <span style=\"color: #008080; text-decoration-color: #008080; font-weight: bold\">91.</span>976s\n",
              "</pre>\n"
            ],
            "text/plain": [
              "Epoch: \u001b[1;36m281\u001b[0m, Train loss: \u001b[1;36m0.015\u001b[0m, Val loss: \u001b[1;36m0.134\u001b[0m, Epoch time = \u001b[1;36m91.\u001b[0m976s\n"
            ]
          },
          "metadata": {
            "tags": []
          }
        },
        {
          "output_type": "display_data",
          "data": {
            "text/html": [
              "<pre style=\"white-space:pre;overflow-x:auto;line-height:normal;font-family:Menlo,'DejaVu Sans Mono',consolas,'Courier New',monospace\">Epoch: <span style=\"color: #008080; text-decoration-color: #008080; font-weight: bold\">282</span>, Train loss: <span style=\"color: #008080; text-decoration-color: #008080; font-weight: bold\">0.015</span>, Val loss: <span style=\"color: #008080; text-decoration-color: #008080; font-weight: bold\">0.134</span>, Epoch time = <span style=\"color: #008080; text-decoration-color: #008080; font-weight: bold\">92.</span>223s\n",
              "</pre>\n"
            ],
            "text/plain": [
              "Epoch: \u001b[1;36m282\u001b[0m, Train loss: \u001b[1;36m0.015\u001b[0m, Val loss: \u001b[1;36m0.134\u001b[0m, Epoch time = \u001b[1;36m92.\u001b[0m223s\n"
            ]
          },
          "metadata": {
            "tags": []
          }
        },
        {
          "output_type": "display_data",
          "data": {
            "text/html": [
              "<pre style=\"white-space:pre;overflow-x:auto;line-height:normal;font-family:Menlo,'DejaVu Sans Mono',consolas,'Courier New',monospace\">Epoch: <span style=\"color: #008080; text-decoration-color: #008080; font-weight: bold\">283</span>, Train loss: <span style=\"color: #008080; text-decoration-color: #008080; font-weight: bold\">0.015</span>, Val loss: <span style=\"color: #008080; text-decoration-color: #008080; font-weight: bold\">0.138</span>, Epoch time = <span style=\"color: #008080; text-decoration-color: #008080; font-weight: bold\">91.</span>990s\n",
              "</pre>\n"
            ],
            "text/plain": [
              "Epoch: \u001b[1;36m283\u001b[0m, Train loss: \u001b[1;36m0.015\u001b[0m, Val loss: \u001b[1;36m0.138\u001b[0m, Epoch time = \u001b[1;36m91.\u001b[0m990s\n"
            ]
          },
          "metadata": {
            "tags": []
          }
        },
        {
          "output_type": "display_data",
          "data": {
            "text/html": [
              "<pre style=\"white-space:pre;overflow-x:auto;line-height:normal;font-family:Menlo,'DejaVu Sans Mono',consolas,'Courier New',monospace\">Epoch: <span style=\"color: #008080; text-decoration-color: #008080; font-weight: bold\">284</span>, Train loss: <span style=\"color: #008080; text-decoration-color: #008080; font-weight: bold\">0.015</span>, Val loss: <span style=\"color: #008080; text-decoration-color: #008080; font-weight: bold\">0.136</span>, Epoch time = <span style=\"color: #008080; text-decoration-color: #008080; font-weight: bold\">91.</span>890s\n",
              "</pre>\n"
            ],
            "text/plain": [
              "Epoch: \u001b[1;36m284\u001b[0m, Train loss: \u001b[1;36m0.015\u001b[0m, Val loss: \u001b[1;36m0.136\u001b[0m, Epoch time = \u001b[1;36m91.\u001b[0m890s\n"
            ]
          },
          "metadata": {
            "tags": []
          }
        },
        {
          "output_type": "display_data",
          "data": {
            "text/html": [
              "<pre style=\"white-space:pre;overflow-x:auto;line-height:normal;font-family:Menlo,'DejaVu Sans Mono',consolas,'Courier New',monospace\">Epoch: <span style=\"color: #008080; text-decoration-color: #008080; font-weight: bold\">285</span>, Train loss: <span style=\"color: #008080; text-decoration-color: #008080; font-weight: bold\">0.015</span>, Val loss: <span style=\"color: #008080; text-decoration-color: #008080; font-weight: bold\">0.137</span>, Epoch time = <span style=\"color: #008080; text-decoration-color: #008080; font-weight: bold\">92.</span>030s\n",
              "</pre>\n"
            ],
            "text/plain": [
              "Epoch: \u001b[1;36m285\u001b[0m, Train loss: \u001b[1;36m0.015\u001b[0m, Val loss: \u001b[1;36m0.137\u001b[0m, Epoch time = \u001b[1;36m92.\u001b[0m030s\n"
            ]
          },
          "metadata": {
            "tags": []
          }
        },
        {
          "output_type": "display_data",
          "data": {
            "text/html": [
              "<pre style=\"white-space:pre;overflow-x:auto;line-height:normal;font-family:Menlo,'DejaVu Sans Mono',consolas,'Courier New',monospace\">Epoch: <span style=\"color: #008080; text-decoration-color: #008080; font-weight: bold\">286</span>, Train loss: <span style=\"color: #008080; text-decoration-color: #008080; font-weight: bold\">0.015</span>, Val loss: <span style=\"color: #008080; text-decoration-color: #008080; font-weight: bold\">0.144</span>, Epoch time = <span style=\"color: #008080; text-decoration-color: #008080; font-weight: bold\">92.</span>047s\n",
              "</pre>\n"
            ],
            "text/plain": [
              "Epoch: \u001b[1;36m286\u001b[0m, Train loss: \u001b[1;36m0.015\u001b[0m, Val loss: \u001b[1;36m0.144\u001b[0m, Epoch time = \u001b[1;36m92.\u001b[0m047s\n"
            ]
          },
          "metadata": {
            "tags": []
          }
        },
        {
          "output_type": "display_data",
          "data": {
            "text/html": [
              "<pre style=\"white-space:pre;overflow-x:auto;line-height:normal;font-family:Menlo,'DejaVu Sans Mono',consolas,'Courier New',monospace\">Epoch: <span style=\"color: #008080; text-decoration-color: #008080; font-weight: bold\">287</span>, Train loss: <span style=\"color: #008080; text-decoration-color: #008080; font-weight: bold\">0.015</span>, Val loss: <span style=\"color: #008080; text-decoration-color: #008080; font-weight: bold\">0.137</span>, Epoch time = <span style=\"color: #008080; text-decoration-color: #008080; font-weight: bold\">91.</span>710s\n",
              "</pre>\n"
            ],
            "text/plain": [
              "Epoch: \u001b[1;36m287\u001b[0m, Train loss: \u001b[1;36m0.015\u001b[0m, Val loss: \u001b[1;36m0.137\u001b[0m, Epoch time = \u001b[1;36m91.\u001b[0m710s\n"
            ]
          },
          "metadata": {
            "tags": []
          }
        },
        {
          "output_type": "display_data",
          "data": {
            "text/html": [
              "<pre style=\"white-space:pre;overflow-x:auto;line-height:normal;font-family:Menlo,'DejaVu Sans Mono',consolas,'Courier New',monospace\">Epoch: <span style=\"color: #008080; text-decoration-color: #008080; font-weight: bold\">288</span>, Train loss: <span style=\"color: #008080; text-decoration-color: #008080; font-weight: bold\">0.015</span>, Val loss: <span style=\"color: #008080; text-decoration-color: #008080; font-weight: bold\">0.136</span>, Epoch time = <span style=\"color: #008080; text-decoration-color: #008080; font-weight: bold\">92.</span>274s\n",
              "</pre>\n"
            ],
            "text/plain": [
              "Epoch: \u001b[1;36m288\u001b[0m, Train loss: \u001b[1;36m0.015\u001b[0m, Val loss: \u001b[1;36m0.136\u001b[0m, Epoch time = \u001b[1;36m92.\u001b[0m274s\n"
            ]
          },
          "metadata": {
            "tags": []
          }
        },
        {
          "output_type": "display_data",
          "data": {
            "text/html": [
              "<pre style=\"white-space:pre;overflow-x:auto;line-height:normal;font-family:Menlo,'DejaVu Sans Mono',consolas,'Courier New',monospace\">Epoch: <span style=\"color: #008080; text-decoration-color: #008080; font-weight: bold\">289</span>, Train loss: <span style=\"color: #008080; text-decoration-color: #008080; font-weight: bold\">0.015</span>, Val loss: <span style=\"color: #008080; text-decoration-color: #008080; font-weight: bold\">0.137</span>, Epoch time = <span style=\"color: #008080; text-decoration-color: #008080; font-weight: bold\">92.</span>297s\n",
              "</pre>\n"
            ],
            "text/plain": [
              "Epoch: \u001b[1;36m289\u001b[0m, Train loss: \u001b[1;36m0.015\u001b[0m, Val loss: \u001b[1;36m0.137\u001b[0m, Epoch time = \u001b[1;36m92.\u001b[0m297s\n"
            ]
          },
          "metadata": {
            "tags": []
          }
        },
        {
          "output_type": "display_data",
          "data": {
            "text/html": [
              "<pre style=\"white-space:pre;overflow-x:auto;line-height:normal;font-family:Menlo,'DejaVu Sans Mono',consolas,'Courier New',monospace\">Epoch: <span style=\"color: #008080; text-decoration-color: #008080; font-weight: bold\">290</span>, Train loss: <span style=\"color: #008080; text-decoration-color: #008080; font-weight: bold\">0.014</span>, Val loss: <span style=\"color: #008080; text-decoration-color: #008080; font-weight: bold\">0.135</span>, Epoch time = <span style=\"color: #008080; text-decoration-color: #008080; font-weight: bold\">92.</span>354s\n",
              "</pre>\n"
            ],
            "text/plain": [
              "Epoch: \u001b[1;36m290\u001b[0m, Train loss: \u001b[1;36m0.014\u001b[0m, Val loss: \u001b[1;36m0.135\u001b[0m, Epoch time = \u001b[1;36m92.\u001b[0m354s\n"
            ]
          },
          "metadata": {
            "tags": []
          }
        },
        {
          "output_type": "display_data",
          "data": {
            "text/html": [
              "<pre style=\"white-space:pre;overflow-x:auto;line-height:normal;font-family:Menlo,'DejaVu Sans Mono',consolas,'Courier New',monospace\">Epoch: <span style=\"color: #008080; text-decoration-color: #008080; font-weight: bold\">291</span>, Train loss: <span style=\"color: #008080; text-decoration-color: #008080; font-weight: bold\">0.014</span>, Val loss: <span style=\"color: #008080; text-decoration-color: #008080; font-weight: bold\">0.133</span>, Epoch time = <span style=\"color: #008080; text-decoration-color: #008080; font-weight: bold\">91.</span>892s\n",
              "</pre>\n"
            ],
            "text/plain": [
              "Epoch: \u001b[1;36m291\u001b[0m, Train loss: \u001b[1;36m0.014\u001b[0m, Val loss: \u001b[1;36m0.133\u001b[0m, Epoch time = \u001b[1;36m91.\u001b[0m892s\n"
            ]
          },
          "metadata": {
            "tags": []
          }
        },
        {
          "output_type": "display_data",
          "data": {
            "text/html": [
              "<pre style=\"white-space:pre;overflow-x:auto;line-height:normal;font-family:Menlo,'DejaVu Sans Mono',consolas,'Courier New',monospace\">Epoch: <span style=\"color: #008080; text-decoration-color: #008080; font-weight: bold\">292</span>, Train loss: <span style=\"color: #008080; text-decoration-color: #008080; font-weight: bold\">0.015</span>, Val loss: <span style=\"color: #008080; text-decoration-color: #008080; font-weight: bold\">0.136</span>, Epoch time = <span style=\"color: #008080; text-decoration-color: #008080; font-weight: bold\">92.</span>025s\n",
              "</pre>\n"
            ],
            "text/plain": [
              "Epoch: \u001b[1;36m292\u001b[0m, Train loss: \u001b[1;36m0.015\u001b[0m, Val loss: \u001b[1;36m0.136\u001b[0m, Epoch time = \u001b[1;36m92.\u001b[0m025s\n"
            ]
          },
          "metadata": {
            "tags": []
          }
        },
        {
          "output_type": "display_data",
          "data": {
            "text/html": [
              "<pre style=\"white-space:pre;overflow-x:auto;line-height:normal;font-family:Menlo,'DejaVu Sans Mono',consolas,'Courier New',monospace\">Epoch: <span style=\"color: #008080; text-decoration-color: #008080; font-weight: bold\">293</span>, Train loss: <span style=\"color: #008080; text-decoration-color: #008080; font-weight: bold\">0.014</span>, Val loss: <span style=\"color: #008080; text-decoration-color: #008080; font-weight: bold\">0.136</span>, Epoch time = <span style=\"color: #008080; text-decoration-color: #008080; font-weight: bold\">92.</span>295s\n",
              "</pre>\n"
            ],
            "text/plain": [
              "Epoch: \u001b[1;36m293\u001b[0m, Train loss: \u001b[1;36m0.014\u001b[0m, Val loss: \u001b[1;36m0.136\u001b[0m, Epoch time = \u001b[1;36m92.\u001b[0m295s\n"
            ]
          },
          "metadata": {
            "tags": []
          }
        },
        {
          "output_type": "display_data",
          "data": {
            "text/html": [
              "<pre style=\"white-space:pre;overflow-x:auto;line-height:normal;font-family:Menlo,'DejaVu Sans Mono',consolas,'Courier New',monospace\">Epoch: <span style=\"color: #008080; text-decoration-color: #008080; font-weight: bold\">294</span>, Train loss: <span style=\"color: #008080; text-decoration-color: #008080; font-weight: bold\">0.014</span>, Val loss: <span style=\"color: #008080; text-decoration-color: #008080; font-weight: bold\">0.138</span>, Epoch time = <span style=\"color: #008080; text-decoration-color: #008080; font-weight: bold\">91.</span>807s\n",
              "</pre>\n"
            ],
            "text/plain": [
              "Epoch: \u001b[1;36m294\u001b[0m, Train loss: \u001b[1;36m0.014\u001b[0m, Val loss: \u001b[1;36m0.138\u001b[0m, Epoch time = \u001b[1;36m91.\u001b[0m807s\n"
            ]
          },
          "metadata": {
            "tags": []
          }
        },
        {
          "output_type": "display_data",
          "data": {
            "text/html": [
              "<pre style=\"white-space:pre;overflow-x:auto;line-height:normal;font-family:Menlo,'DejaVu Sans Mono',consolas,'Courier New',monospace\">Epoch: <span style=\"color: #008080; text-decoration-color: #008080; font-weight: bold\">295</span>, Train loss: <span style=\"color: #008080; text-decoration-color: #008080; font-weight: bold\">0.014</span>, Val loss: <span style=\"color: #008080; text-decoration-color: #008080; font-weight: bold\">0.136</span>, Epoch time = <span style=\"color: #008080; text-decoration-color: #008080; font-weight: bold\">91.</span>696s\n",
              "</pre>\n"
            ],
            "text/plain": [
              "Epoch: \u001b[1;36m295\u001b[0m, Train loss: \u001b[1;36m0.014\u001b[0m, Val loss: \u001b[1;36m0.136\u001b[0m, Epoch time = \u001b[1;36m91.\u001b[0m696s\n"
            ]
          },
          "metadata": {
            "tags": []
          }
        },
        {
          "output_type": "display_data",
          "data": {
            "text/html": [
              "<pre style=\"white-space:pre;overflow-x:auto;line-height:normal;font-family:Menlo,'DejaVu Sans Mono',consolas,'Courier New',monospace\">Epoch: <span style=\"color: #008080; text-decoration-color: #008080; font-weight: bold\">296</span>, Train loss: <span style=\"color: #008080; text-decoration-color: #008080; font-weight: bold\">0.014</span>, Val loss: <span style=\"color: #008080; text-decoration-color: #008080; font-weight: bold\">0.138</span>, Epoch time = <span style=\"color: #008080; text-decoration-color: #008080; font-weight: bold\">92.</span>281s\n",
              "</pre>\n"
            ],
            "text/plain": [
              "Epoch: \u001b[1;36m296\u001b[0m, Train loss: \u001b[1;36m0.014\u001b[0m, Val loss: \u001b[1;36m0.138\u001b[0m, Epoch time = \u001b[1;36m92.\u001b[0m281s\n"
            ]
          },
          "metadata": {
            "tags": []
          }
        },
        {
          "output_type": "display_data",
          "data": {
            "text/html": [
              "<pre style=\"white-space:pre;overflow-x:auto;line-height:normal;font-family:Menlo,'DejaVu Sans Mono',consolas,'Courier New',monospace\">Epoch: <span style=\"color: #008080; text-decoration-color: #008080; font-weight: bold\">297</span>, Train loss: <span style=\"color: #008080; text-decoration-color: #008080; font-weight: bold\">0.014</span>, Val loss: <span style=\"color: #008080; text-decoration-color: #008080; font-weight: bold\">0.137</span>, Epoch time = <span style=\"color: #008080; text-decoration-color: #008080; font-weight: bold\">92.</span>065s\n",
              "</pre>\n"
            ],
            "text/plain": [
              "Epoch: \u001b[1;36m297\u001b[0m, Train loss: \u001b[1;36m0.014\u001b[0m, Val loss: \u001b[1;36m0.137\u001b[0m, Epoch time = \u001b[1;36m92.\u001b[0m065s\n"
            ]
          },
          "metadata": {
            "tags": []
          }
        },
        {
          "output_type": "display_data",
          "data": {
            "text/html": [
              "<pre style=\"white-space:pre;overflow-x:auto;line-height:normal;font-family:Menlo,'DejaVu Sans Mono',consolas,'Courier New',monospace\">Epoch: <span style=\"color: #008080; text-decoration-color: #008080; font-weight: bold\">298</span>, Train loss: <span style=\"color: #008080; text-decoration-color: #008080; font-weight: bold\">0.014</span>, Val loss: <span style=\"color: #008080; text-decoration-color: #008080; font-weight: bold\">0.137</span>, Epoch time = <span style=\"color: #008080; text-decoration-color: #008080; font-weight: bold\">92.</span>264s\n",
              "</pre>\n"
            ],
            "text/plain": [
              "Epoch: \u001b[1;36m298\u001b[0m, Train loss: \u001b[1;36m0.014\u001b[0m, Val loss: \u001b[1;36m0.137\u001b[0m, Epoch time = \u001b[1;36m92.\u001b[0m264s\n"
            ]
          },
          "metadata": {
            "tags": []
          }
        },
        {
          "output_type": "display_data",
          "data": {
            "text/html": [
              "<pre style=\"white-space:pre;overflow-x:auto;line-height:normal;font-family:Menlo,'DejaVu Sans Mono',consolas,'Courier New',monospace\">Epoch: <span style=\"color: #008080; text-decoration-color: #008080; font-weight: bold\">299</span>, Train loss: <span style=\"color: #008080; text-decoration-color: #008080; font-weight: bold\">0.014</span>, Val loss: <span style=\"color: #008080; text-decoration-color: #008080; font-weight: bold\">0.135</span>, Epoch time = <span style=\"color: #008080; text-decoration-color: #008080; font-weight: bold\">91.</span>968s\n",
              "</pre>\n"
            ],
            "text/plain": [
              "Epoch: \u001b[1;36m299\u001b[0m, Train loss: \u001b[1;36m0.014\u001b[0m, Val loss: \u001b[1;36m0.135\u001b[0m, Epoch time = \u001b[1;36m91.\u001b[0m968s\n"
            ]
          },
          "metadata": {
            "tags": []
          }
        },
        {
          "output_type": "display_data",
          "data": {
            "text/html": [
              "<pre style=\"white-space:pre;overflow-x:auto;line-height:normal;font-family:Menlo,'DejaVu Sans Mono',consolas,'Courier New',monospace\">true\n",
              "</pre>\n"
            ],
            "text/plain": [
              "true\n"
            ]
          },
          "metadata": {
            "tags": []
          }
        },
        {
          "output_type": "display_data",
          "data": {
            "text/html": [
              "<pre style=\"white-space:pre;overflow-x:auto;line-height:normal;font-family:Menlo,'DejaVu Sans Mono',consolas,'Courier New',monospace\">=&gt; Saving checkpoint\n",
              "</pre>\n"
            ],
            "text/plain": [
              "=> Saving checkpoint\n"
            ]
          },
          "metadata": {
            "tags": []
          }
        },
        {
          "output_type": "display_data",
          "data": {
            "text/html": [
              "<pre style=\"white-space:pre;overflow-x:auto;line-height:normal;font-family:Menlo,'DejaVu Sans Mono',consolas,'Courier New',monospace\">Epoch: <span style=\"color: #008080; text-decoration-color: #008080; font-weight: bold\">300</span>, Train loss: <span style=\"color: #008080; text-decoration-color: #008080; font-weight: bold\">0.014</span>, Val loss: <span style=\"color: #008080; text-decoration-color: #008080; font-weight: bold\">0.142</span>, Epoch time = <span style=\"color: #008080; text-decoration-color: #008080; font-weight: bold\">91.</span>722s\n",
              "</pre>\n"
            ],
            "text/plain": [
              "Epoch: \u001b[1;36m300\u001b[0m, Train loss: \u001b[1;36m0.014\u001b[0m, Val loss: \u001b[1;36m0.142\u001b[0m, Epoch time = \u001b[1;36m91.\u001b[0m722s\n"
            ]
          },
          "metadata": {
            "tags": []
          }
        },
        {
          "output_type": "display_data",
          "data": {
            "text/html": [
              "<pre style=\"white-space:pre;overflow-x:auto;line-height:normal;font-family:Menlo,'DejaVu Sans Mono',consolas,'Courier New',monospace\">Epoch: <span style=\"color: #008080; text-decoration-color: #008080; font-weight: bold\">301</span>, Train loss: <span style=\"color: #008080; text-decoration-color: #008080; font-weight: bold\">0.014</span>, Val loss: <span style=\"color: #008080; text-decoration-color: #008080; font-weight: bold\">0.136</span>, Epoch time = <span style=\"color: #008080; text-decoration-color: #008080; font-weight: bold\">92.</span>699s\n",
              "</pre>\n"
            ],
            "text/plain": [
              "Epoch: \u001b[1;36m301\u001b[0m, Train loss: \u001b[1;36m0.014\u001b[0m, Val loss: \u001b[1;36m0.136\u001b[0m, Epoch time = \u001b[1;36m92.\u001b[0m699s\n"
            ]
          },
          "metadata": {
            "tags": []
          }
        },
        {
          "output_type": "display_data",
          "data": {
            "text/html": [
              "<pre style=\"white-space:pre;overflow-x:auto;line-height:normal;font-family:Menlo,'DejaVu Sans Mono',consolas,'Courier New',monospace\">Epoch: <span style=\"color: #008080; text-decoration-color: #008080; font-weight: bold\">302</span>, Train loss: <span style=\"color: #008080; text-decoration-color: #008080; font-weight: bold\">0.014</span>, Val loss: <span style=\"color: #008080; text-decoration-color: #008080; font-weight: bold\">0.136</span>, Epoch time = <span style=\"color: #008080; text-decoration-color: #008080; font-weight: bold\">92.</span>643s\n",
              "</pre>\n"
            ],
            "text/plain": [
              "Epoch: \u001b[1;36m302\u001b[0m, Train loss: \u001b[1;36m0.014\u001b[0m, Val loss: \u001b[1;36m0.136\u001b[0m, Epoch time = \u001b[1;36m92.\u001b[0m643s\n"
            ]
          },
          "metadata": {
            "tags": []
          }
        },
        {
          "output_type": "display_data",
          "data": {
            "text/html": [
              "<pre style=\"white-space:pre;overflow-x:auto;line-height:normal;font-family:Menlo,'DejaVu Sans Mono',consolas,'Courier New',monospace\">Epoch: <span style=\"color: #008080; text-decoration-color: #008080; font-weight: bold\">303</span>, Train loss: <span style=\"color: #008080; text-decoration-color: #008080; font-weight: bold\">0.014</span>, Val loss: <span style=\"color: #008080; text-decoration-color: #008080; font-weight: bold\">0.136</span>, Epoch time = <span style=\"color: #008080; text-decoration-color: #008080; font-weight: bold\">91.</span>676s\n",
              "</pre>\n"
            ],
            "text/plain": [
              "Epoch: \u001b[1;36m303\u001b[0m, Train loss: \u001b[1;36m0.014\u001b[0m, Val loss: \u001b[1;36m0.136\u001b[0m, Epoch time = \u001b[1;36m91.\u001b[0m676s\n"
            ]
          },
          "metadata": {
            "tags": []
          }
        },
        {
          "output_type": "display_data",
          "data": {
            "text/html": [
              "<pre style=\"white-space:pre;overflow-x:auto;line-height:normal;font-family:Menlo,'DejaVu Sans Mono',consolas,'Courier New',monospace\">Epoch: <span style=\"color: #008080; text-decoration-color: #008080; font-weight: bold\">304</span>, Train loss: <span style=\"color: #008080; text-decoration-color: #008080; font-weight: bold\">0.014</span>, Val loss: <span style=\"color: #008080; text-decoration-color: #008080; font-weight: bold\">0.137</span>, Epoch time = <span style=\"color: #008080; text-decoration-color: #008080; font-weight: bold\">92.</span>237s\n",
              "</pre>\n"
            ],
            "text/plain": [
              "Epoch: \u001b[1;36m304\u001b[0m, Train loss: \u001b[1;36m0.014\u001b[0m, Val loss: \u001b[1;36m0.137\u001b[0m, Epoch time = \u001b[1;36m92.\u001b[0m237s\n"
            ]
          },
          "metadata": {
            "tags": []
          }
        },
        {
          "output_type": "display_data",
          "data": {
            "text/html": [
              "<pre style=\"white-space:pre;overflow-x:auto;line-height:normal;font-family:Menlo,'DejaVu Sans Mono',consolas,'Courier New',monospace\">Epoch: <span style=\"color: #008080; text-decoration-color: #008080; font-weight: bold\">305</span>, Train loss: <span style=\"color: #008080; text-decoration-color: #008080; font-weight: bold\">0.014</span>, Val loss: <span style=\"color: #008080; text-decoration-color: #008080; font-weight: bold\">0.136</span>, Epoch time = <span style=\"color: #008080; text-decoration-color: #008080; font-weight: bold\">91.</span>540s\n",
              "</pre>\n"
            ],
            "text/plain": [
              "Epoch: \u001b[1;36m305\u001b[0m, Train loss: \u001b[1;36m0.014\u001b[0m, Val loss: \u001b[1;36m0.136\u001b[0m, Epoch time = \u001b[1;36m91.\u001b[0m540s\n"
            ]
          },
          "metadata": {
            "tags": []
          }
        },
        {
          "output_type": "display_data",
          "data": {
            "text/html": [
              "<pre style=\"white-space:pre;overflow-x:auto;line-height:normal;font-family:Menlo,'DejaVu Sans Mono',consolas,'Courier New',monospace\">Epoch: <span style=\"color: #008080; text-decoration-color: #008080; font-weight: bold\">306</span>, Train loss: <span style=\"color: #008080; text-decoration-color: #008080; font-weight: bold\">0.014</span>, Val loss: <span style=\"color: #008080; text-decoration-color: #008080; font-weight: bold\">0.138</span>, Epoch time = <span style=\"color: #008080; text-decoration-color: #008080; font-weight: bold\">91.</span>831s\n",
              "</pre>\n"
            ],
            "text/plain": [
              "Epoch: \u001b[1;36m306\u001b[0m, Train loss: \u001b[1;36m0.014\u001b[0m, Val loss: \u001b[1;36m0.138\u001b[0m, Epoch time = \u001b[1;36m91.\u001b[0m831s\n"
            ]
          },
          "metadata": {
            "tags": []
          }
        },
        {
          "output_type": "display_data",
          "data": {
            "text/html": [
              "<pre style=\"white-space:pre;overflow-x:auto;line-height:normal;font-family:Menlo,'DejaVu Sans Mono',consolas,'Courier New',monospace\">Epoch: <span style=\"color: #008080; text-decoration-color: #008080; font-weight: bold\">307</span>, Train loss: <span style=\"color: #008080; text-decoration-color: #008080; font-weight: bold\">0.014</span>, Val loss: <span style=\"color: #008080; text-decoration-color: #008080; font-weight: bold\">0.142</span>, Epoch time = <span style=\"color: #008080; text-decoration-color: #008080; font-weight: bold\">91.</span>592s\n",
              "</pre>\n"
            ],
            "text/plain": [
              "Epoch: \u001b[1;36m307\u001b[0m, Train loss: \u001b[1;36m0.014\u001b[0m, Val loss: \u001b[1;36m0.142\u001b[0m, Epoch time = \u001b[1;36m91.\u001b[0m592s\n"
            ]
          },
          "metadata": {
            "tags": []
          }
        },
        {
          "output_type": "display_data",
          "data": {
            "text/html": [
              "<pre style=\"white-space:pre;overflow-x:auto;line-height:normal;font-family:Menlo,'DejaVu Sans Mono',consolas,'Courier New',monospace\">Epoch: <span style=\"color: #008080; text-decoration-color: #008080; font-weight: bold\">308</span>, Train loss: <span style=\"color: #008080; text-decoration-color: #008080; font-weight: bold\">0.013</span>, Val loss: <span style=\"color: #008080; text-decoration-color: #008080; font-weight: bold\">0.142</span>, Epoch time = <span style=\"color: #008080; text-decoration-color: #008080; font-weight: bold\">92.</span>054s\n",
              "</pre>\n"
            ],
            "text/plain": [
              "Epoch: \u001b[1;36m308\u001b[0m, Train loss: \u001b[1;36m0.013\u001b[0m, Val loss: \u001b[1;36m0.142\u001b[0m, Epoch time = \u001b[1;36m92.\u001b[0m054s\n"
            ]
          },
          "metadata": {
            "tags": []
          }
        },
        {
          "output_type": "display_data",
          "data": {
            "text/html": [
              "<pre style=\"white-space:pre;overflow-x:auto;line-height:normal;font-family:Menlo,'DejaVu Sans Mono',consolas,'Courier New',monospace\">Epoch: <span style=\"color: #008080; text-decoration-color: #008080; font-weight: bold\">309</span>, Train loss: <span style=\"color: #008080; text-decoration-color: #008080; font-weight: bold\">0.014</span>, Val loss: <span style=\"color: #008080; text-decoration-color: #008080; font-weight: bold\">0.138</span>, Epoch time = <span style=\"color: #008080; text-decoration-color: #008080; font-weight: bold\">92.</span>254s\n",
              "</pre>\n"
            ],
            "text/plain": [
              "Epoch: \u001b[1;36m309\u001b[0m, Train loss: \u001b[1;36m0.014\u001b[0m, Val loss: \u001b[1;36m0.138\u001b[0m, Epoch time = \u001b[1;36m92.\u001b[0m254s\n"
            ]
          },
          "metadata": {
            "tags": []
          }
        },
        {
          "output_type": "display_data",
          "data": {
            "text/html": [
              "<pre style=\"white-space:pre;overflow-x:auto;line-height:normal;font-family:Menlo,'DejaVu Sans Mono',consolas,'Courier New',monospace\">Epoch: <span style=\"color: #008080; text-decoration-color: #008080; font-weight: bold\">310</span>, Train loss: <span style=\"color: #008080; text-decoration-color: #008080; font-weight: bold\">0.014</span>, Val loss: <span style=\"color: #008080; text-decoration-color: #008080; font-weight: bold\">0.137</span>, Epoch time = <span style=\"color: #008080; text-decoration-color: #008080; font-weight: bold\">91.</span>722s\n",
              "</pre>\n"
            ],
            "text/plain": [
              "Epoch: \u001b[1;36m310\u001b[0m, Train loss: \u001b[1;36m0.014\u001b[0m, Val loss: \u001b[1;36m0.137\u001b[0m, Epoch time = \u001b[1;36m91.\u001b[0m722s\n"
            ]
          },
          "metadata": {
            "tags": []
          }
        },
        {
          "output_type": "display_data",
          "data": {
            "text/html": [
              "<pre style=\"white-space:pre;overflow-x:auto;line-height:normal;font-family:Menlo,'DejaVu Sans Mono',consolas,'Courier New',monospace\">Epoch: <span style=\"color: #008080; text-decoration-color: #008080; font-weight: bold\">311</span>, Train loss: <span style=\"color: #008080; text-decoration-color: #008080; font-weight: bold\">0.014</span>, Val loss: <span style=\"color: #008080; text-decoration-color: #008080; font-weight: bold\">0.136</span>, Epoch time = <span style=\"color: #008080; text-decoration-color: #008080; font-weight: bold\">91.</span>771s\n",
              "</pre>\n"
            ],
            "text/plain": [
              "Epoch: \u001b[1;36m311\u001b[0m, Train loss: \u001b[1;36m0.014\u001b[0m, Val loss: \u001b[1;36m0.136\u001b[0m, Epoch time = \u001b[1;36m91.\u001b[0m771s\n"
            ]
          },
          "metadata": {
            "tags": []
          }
        },
        {
          "output_type": "display_data",
          "data": {
            "text/html": [
              "<pre style=\"white-space:pre;overflow-x:auto;line-height:normal;font-family:Menlo,'DejaVu Sans Mono',consolas,'Courier New',monospace\">Epoch: <span style=\"color: #008080; text-decoration-color: #008080; font-weight: bold\">312</span>, Train loss: <span style=\"color: #008080; text-decoration-color: #008080; font-weight: bold\">0.013</span>, Val loss: <span style=\"color: #008080; text-decoration-color: #008080; font-weight: bold\">0.139</span>, Epoch time = <span style=\"color: #008080; text-decoration-color: #008080; font-weight: bold\">92.</span>075s\n",
              "</pre>\n"
            ],
            "text/plain": [
              "Epoch: \u001b[1;36m312\u001b[0m, Train loss: \u001b[1;36m0.013\u001b[0m, Val loss: \u001b[1;36m0.139\u001b[0m, Epoch time = \u001b[1;36m92.\u001b[0m075s\n"
            ]
          },
          "metadata": {
            "tags": []
          }
        },
        {
          "output_type": "display_data",
          "data": {
            "text/html": [
              "<pre style=\"white-space:pre;overflow-x:auto;line-height:normal;font-family:Menlo,'DejaVu Sans Mono',consolas,'Courier New',monospace\">Epoch: <span style=\"color: #008080; text-decoration-color: #008080; font-weight: bold\">313</span>, Train loss: <span style=\"color: #008080; text-decoration-color: #008080; font-weight: bold\">0.013</span>, Val loss: <span style=\"color: #008080; text-decoration-color: #008080; font-weight: bold\">0.139</span>, Epoch time = <span style=\"color: #008080; text-decoration-color: #008080; font-weight: bold\">91.</span>594s\n",
              "</pre>\n"
            ],
            "text/plain": [
              "Epoch: \u001b[1;36m313\u001b[0m, Train loss: \u001b[1;36m0.013\u001b[0m, Val loss: \u001b[1;36m0.139\u001b[0m, Epoch time = \u001b[1;36m91.\u001b[0m594s\n"
            ]
          },
          "metadata": {
            "tags": []
          }
        },
        {
          "output_type": "display_data",
          "data": {
            "text/html": [
              "<pre style=\"white-space:pre;overflow-x:auto;line-height:normal;font-family:Menlo,'DejaVu Sans Mono',consolas,'Courier New',monospace\">Epoch: <span style=\"color: #008080; text-decoration-color: #008080; font-weight: bold\">314</span>, Train loss: <span style=\"color: #008080; text-decoration-color: #008080; font-weight: bold\">0.013</span>, Val loss: <span style=\"color: #008080; text-decoration-color: #008080; font-weight: bold\">0.135</span>, Epoch time = <span style=\"color: #008080; text-decoration-color: #008080; font-weight: bold\">92.</span>175s\n",
              "</pre>\n"
            ],
            "text/plain": [
              "Epoch: \u001b[1;36m314\u001b[0m, Train loss: \u001b[1;36m0.013\u001b[0m, Val loss: \u001b[1;36m0.135\u001b[0m, Epoch time = \u001b[1;36m92.\u001b[0m175s\n"
            ]
          },
          "metadata": {
            "tags": []
          }
        },
        {
          "output_type": "display_data",
          "data": {
            "text/html": [
              "<pre style=\"white-space:pre;overflow-x:auto;line-height:normal;font-family:Menlo,'DejaVu Sans Mono',consolas,'Courier New',monospace\">Epoch: <span style=\"color: #008080; text-decoration-color: #008080; font-weight: bold\">315</span>, Train loss: <span style=\"color: #008080; text-decoration-color: #008080; font-weight: bold\">0.013</span>, Val loss: <span style=\"color: #008080; text-decoration-color: #008080; font-weight: bold\">0.141</span>, Epoch time = <span style=\"color: #008080; text-decoration-color: #008080; font-weight: bold\">91.</span>373s\n",
              "</pre>\n"
            ],
            "text/plain": [
              "Epoch: \u001b[1;36m315\u001b[0m, Train loss: \u001b[1;36m0.013\u001b[0m, Val loss: \u001b[1;36m0.141\u001b[0m, Epoch time = \u001b[1;36m91.\u001b[0m373s\n"
            ]
          },
          "metadata": {
            "tags": []
          }
        },
        {
          "output_type": "display_data",
          "data": {
            "text/html": [
              "<pre style=\"white-space:pre;overflow-x:auto;line-height:normal;font-family:Menlo,'DejaVu Sans Mono',consolas,'Courier New',monospace\">Epoch: <span style=\"color: #008080; text-decoration-color: #008080; font-weight: bold\">316</span>, Train loss: <span style=\"color: #008080; text-decoration-color: #008080; font-weight: bold\">0.013</span>, Val loss: <span style=\"color: #008080; text-decoration-color: #008080; font-weight: bold\">0.138</span>, Epoch time = <span style=\"color: #008080; text-decoration-color: #008080; font-weight: bold\">92.</span>498s\n",
              "</pre>\n"
            ],
            "text/plain": [
              "Epoch: \u001b[1;36m316\u001b[0m, Train loss: \u001b[1;36m0.013\u001b[0m, Val loss: \u001b[1;36m0.138\u001b[0m, Epoch time = \u001b[1;36m92.\u001b[0m498s\n"
            ]
          },
          "metadata": {
            "tags": []
          }
        },
        {
          "output_type": "display_data",
          "data": {
            "text/html": [
              "<pre style=\"white-space:pre;overflow-x:auto;line-height:normal;font-family:Menlo,'DejaVu Sans Mono',consolas,'Courier New',monospace\">Epoch: <span style=\"color: #008080; text-decoration-color: #008080; font-weight: bold\">317</span>, Train loss: <span style=\"color: #008080; text-decoration-color: #008080; font-weight: bold\">0.013</span>, Val loss: <span style=\"color: #008080; text-decoration-color: #008080; font-weight: bold\">0.138</span>, Epoch time = <span style=\"color: #008080; text-decoration-color: #008080; font-weight: bold\">91.</span>485s\n",
              "</pre>\n"
            ],
            "text/plain": [
              "Epoch: \u001b[1;36m317\u001b[0m, Train loss: \u001b[1;36m0.013\u001b[0m, Val loss: \u001b[1;36m0.138\u001b[0m, Epoch time = \u001b[1;36m91.\u001b[0m485s\n"
            ]
          },
          "metadata": {
            "tags": []
          }
        },
        {
          "output_type": "display_data",
          "data": {
            "text/html": [
              "<pre style=\"white-space:pre;overflow-x:auto;line-height:normal;font-family:Menlo,'DejaVu Sans Mono',consolas,'Courier New',monospace\">Epoch: <span style=\"color: #008080; text-decoration-color: #008080; font-weight: bold\">318</span>, Train loss: <span style=\"color: #008080; text-decoration-color: #008080; font-weight: bold\">0.013</span>, Val loss: <span style=\"color: #008080; text-decoration-color: #008080; font-weight: bold\">0.139</span>, Epoch time = <span style=\"color: #008080; text-decoration-color: #008080; font-weight: bold\">91.</span>941s\n",
              "</pre>\n"
            ],
            "text/plain": [
              "Epoch: \u001b[1;36m318\u001b[0m, Train loss: \u001b[1;36m0.013\u001b[0m, Val loss: \u001b[1;36m0.139\u001b[0m, Epoch time = \u001b[1;36m91.\u001b[0m941s\n"
            ]
          },
          "metadata": {
            "tags": []
          }
        },
        {
          "output_type": "display_data",
          "data": {
            "text/html": [
              "<pre style=\"white-space:pre;overflow-x:auto;line-height:normal;font-family:Menlo,'DejaVu Sans Mono',consolas,'Courier New',monospace\">Epoch: <span style=\"color: #008080; text-decoration-color: #008080; font-weight: bold\">319</span>, Train loss: <span style=\"color: #008080; text-decoration-color: #008080; font-weight: bold\">0.013</span>, Val loss: <span style=\"color: #008080; text-decoration-color: #008080; font-weight: bold\">0.137</span>, Epoch time = <span style=\"color: #008080; text-decoration-color: #008080; font-weight: bold\">91.</span>692s\n",
              "</pre>\n"
            ],
            "text/plain": [
              "Epoch: \u001b[1;36m319\u001b[0m, Train loss: \u001b[1;36m0.013\u001b[0m, Val loss: \u001b[1;36m0.137\u001b[0m, Epoch time = \u001b[1;36m91.\u001b[0m692s\n"
            ]
          },
          "metadata": {
            "tags": []
          }
        },
        {
          "output_type": "display_data",
          "data": {
            "text/html": [
              "<pre style=\"white-space:pre;overflow-x:auto;line-height:normal;font-family:Menlo,'DejaVu Sans Mono',consolas,'Courier New',monospace\">Epoch: <span style=\"color: #008080; text-decoration-color: #008080; font-weight: bold\">320</span>, Train loss: <span style=\"color: #008080; text-decoration-color: #008080; font-weight: bold\">0.013</span>, Val loss: <span style=\"color: #008080; text-decoration-color: #008080; font-weight: bold\">0.140</span>, Epoch time = <span style=\"color: #008080; text-decoration-color: #008080; font-weight: bold\">91.</span>844s\n",
              "</pre>\n"
            ],
            "text/plain": [
              "Epoch: \u001b[1;36m320\u001b[0m, Train loss: \u001b[1;36m0.013\u001b[0m, Val loss: \u001b[1;36m0.140\u001b[0m, Epoch time = \u001b[1;36m91.\u001b[0m844s\n"
            ]
          },
          "metadata": {
            "tags": []
          }
        },
        {
          "output_type": "display_data",
          "data": {
            "text/html": [
              "<pre style=\"white-space:pre;overflow-x:auto;line-height:normal;font-family:Menlo,'DejaVu Sans Mono',consolas,'Courier New',monospace\">Epoch: <span style=\"color: #008080; text-decoration-color: #008080; font-weight: bold\">321</span>, Train loss: <span style=\"color: #008080; text-decoration-color: #008080; font-weight: bold\">0.013</span>, Val loss: <span style=\"color: #008080; text-decoration-color: #008080; font-weight: bold\">0.136</span>, Epoch time = <span style=\"color: #008080; text-decoration-color: #008080; font-weight: bold\">91.</span>388s\n",
              "</pre>\n"
            ],
            "text/plain": [
              "Epoch: \u001b[1;36m321\u001b[0m, Train loss: \u001b[1;36m0.013\u001b[0m, Val loss: \u001b[1;36m0.136\u001b[0m, Epoch time = \u001b[1;36m91.\u001b[0m388s\n"
            ]
          },
          "metadata": {
            "tags": []
          }
        },
        {
          "output_type": "display_data",
          "data": {
            "text/html": [
              "<pre style=\"white-space:pre;overflow-x:auto;line-height:normal;font-family:Menlo,'DejaVu Sans Mono',consolas,'Courier New',monospace\">Epoch: <span style=\"color: #008080; text-decoration-color: #008080; font-weight: bold\">322</span>, Train loss: <span style=\"color: #008080; text-decoration-color: #008080; font-weight: bold\">0.013</span>, Val loss: <span style=\"color: #008080; text-decoration-color: #008080; font-weight: bold\">0.141</span>, Epoch time = <span style=\"color: #008080; text-decoration-color: #008080; font-weight: bold\">92.</span>160s\n",
              "</pre>\n"
            ],
            "text/plain": [
              "Epoch: \u001b[1;36m322\u001b[0m, Train loss: \u001b[1;36m0.013\u001b[0m, Val loss: \u001b[1;36m0.141\u001b[0m, Epoch time = \u001b[1;36m92.\u001b[0m160s\n"
            ]
          },
          "metadata": {
            "tags": []
          }
        },
        {
          "output_type": "display_data",
          "data": {
            "text/html": [
              "<pre style=\"white-space:pre;overflow-x:auto;line-height:normal;font-family:Menlo,'DejaVu Sans Mono',consolas,'Courier New',monospace\">Epoch: <span style=\"color: #008080; text-decoration-color: #008080; font-weight: bold\">323</span>, Train loss: <span style=\"color: #008080; text-decoration-color: #008080; font-weight: bold\">0.013</span>, Val loss: <span style=\"color: #008080; text-decoration-color: #008080; font-weight: bold\">0.139</span>, Epoch time = <span style=\"color: #008080; text-decoration-color: #008080; font-weight: bold\">91.</span>609s\n",
              "</pre>\n"
            ],
            "text/plain": [
              "Epoch: \u001b[1;36m323\u001b[0m, Train loss: \u001b[1;36m0.013\u001b[0m, Val loss: \u001b[1;36m0.139\u001b[0m, Epoch time = \u001b[1;36m91.\u001b[0m609s\n"
            ]
          },
          "metadata": {
            "tags": []
          }
        },
        {
          "output_type": "display_data",
          "data": {
            "text/html": [
              "<pre style=\"white-space:pre;overflow-x:auto;line-height:normal;font-family:Menlo,'DejaVu Sans Mono',consolas,'Courier New',monospace\">Epoch: <span style=\"color: #008080; text-decoration-color: #008080; font-weight: bold\">324</span>, Train loss: <span style=\"color: #008080; text-decoration-color: #008080; font-weight: bold\">0.013</span>, Val loss: <span style=\"color: #008080; text-decoration-color: #008080; font-weight: bold\">0.138</span>, Epoch time = <span style=\"color: #008080; text-decoration-color: #008080; font-weight: bold\">91.</span>842s\n",
              "</pre>\n"
            ],
            "text/plain": [
              "Epoch: \u001b[1;36m324\u001b[0m, Train loss: \u001b[1;36m0.013\u001b[0m, Val loss: \u001b[1;36m0.138\u001b[0m, Epoch time = \u001b[1;36m91.\u001b[0m842s\n"
            ]
          },
          "metadata": {
            "tags": []
          }
        },
        {
          "output_type": "display_data",
          "data": {
            "text/html": [
              "<pre style=\"white-space:pre;overflow-x:auto;line-height:normal;font-family:Menlo,'DejaVu Sans Mono',consolas,'Courier New',monospace\">Epoch: <span style=\"color: #008080; text-decoration-color: #008080; font-weight: bold\">325</span>, Train loss: <span style=\"color: #008080; text-decoration-color: #008080; font-weight: bold\">0.013</span>, Val loss: <span style=\"color: #008080; text-decoration-color: #008080; font-weight: bold\">0.138</span>, Epoch time = <span style=\"color: #008080; text-decoration-color: #008080; font-weight: bold\">92.</span>089s\n",
              "</pre>\n"
            ],
            "text/plain": [
              "Epoch: \u001b[1;36m325\u001b[0m, Train loss: \u001b[1;36m0.013\u001b[0m, Val loss: \u001b[1;36m0.138\u001b[0m, Epoch time = \u001b[1;36m92.\u001b[0m089s\n"
            ]
          },
          "metadata": {
            "tags": []
          }
        },
        {
          "output_type": "display_data",
          "data": {
            "text/html": [
              "<pre style=\"white-space:pre;overflow-x:auto;line-height:normal;font-family:Menlo,'DejaVu Sans Mono',consolas,'Courier New',monospace\">Epoch: <span style=\"color: #008080; text-decoration-color: #008080; font-weight: bold\">326</span>, Train loss: <span style=\"color: #008080; text-decoration-color: #008080; font-weight: bold\">0.013</span>, Val loss: <span style=\"color: #008080; text-decoration-color: #008080; font-weight: bold\">0.138</span>, Epoch time = <span style=\"color: #008080; text-decoration-color: #008080; font-weight: bold\">92.</span>186s\n",
              "</pre>\n"
            ],
            "text/plain": [
              "Epoch: \u001b[1;36m326\u001b[0m, Train loss: \u001b[1;36m0.013\u001b[0m, Val loss: \u001b[1;36m0.138\u001b[0m, Epoch time = \u001b[1;36m92.\u001b[0m186s\n"
            ]
          },
          "metadata": {
            "tags": []
          }
        },
        {
          "output_type": "display_data",
          "data": {
            "text/html": [
              "<pre style=\"white-space:pre;overflow-x:auto;line-height:normal;font-family:Menlo,'DejaVu Sans Mono',consolas,'Courier New',monospace\">Epoch: <span style=\"color: #008080; text-decoration-color: #008080; font-weight: bold\">327</span>, Train loss: <span style=\"color: #008080; text-decoration-color: #008080; font-weight: bold\">0.013</span>, Val loss: <span style=\"color: #008080; text-decoration-color: #008080; font-weight: bold\">0.141</span>, Epoch time = <span style=\"color: #008080; text-decoration-color: #008080; font-weight: bold\">91.</span>427s\n",
              "</pre>\n"
            ],
            "text/plain": [
              "Epoch: \u001b[1;36m327\u001b[0m, Train loss: \u001b[1;36m0.013\u001b[0m, Val loss: \u001b[1;36m0.141\u001b[0m, Epoch time = \u001b[1;36m91.\u001b[0m427s\n"
            ]
          },
          "metadata": {
            "tags": []
          }
        },
        {
          "output_type": "display_data",
          "data": {
            "text/html": [
              "<pre style=\"white-space:pre;overflow-x:auto;line-height:normal;font-family:Menlo,'DejaVu Sans Mono',consolas,'Courier New',monospace\">Epoch: <span style=\"color: #008080; text-decoration-color: #008080; font-weight: bold\">328</span>, Train loss: <span style=\"color: #008080; text-decoration-color: #008080; font-weight: bold\">0.013</span>, Val loss: <span style=\"color: #008080; text-decoration-color: #008080; font-weight: bold\">0.140</span>, Epoch time = <span style=\"color: #008080; text-decoration-color: #008080; font-weight: bold\">91.</span>484s\n",
              "</pre>\n"
            ],
            "text/plain": [
              "Epoch: \u001b[1;36m328\u001b[0m, Train loss: \u001b[1;36m0.013\u001b[0m, Val loss: \u001b[1;36m0.140\u001b[0m, Epoch time = \u001b[1;36m91.\u001b[0m484s\n"
            ]
          },
          "metadata": {
            "tags": []
          }
        },
        {
          "output_type": "display_data",
          "data": {
            "text/html": [
              "<pre style=\"white-space:pre;overflow-x:auto;line-height:normal;font-family:Menlo,'DejaVu Sans Mono',consolas,'Courier New',monospace\">Epoch: <span style=\"color: #008080; text-decoration-color: #008080; font-weight: bold\">329</span>, Train loss: <span style=\"color: #008080; text-decoration-color: #008080; font-weight: bold\">0.013</span>, Val loss: <span style=\"color: #008080; text-decoration-color: #008080; font-weight: bold\">0.141</span>, Epoch time = <span style=\"color: #008080; text-decoration-color: #008080; font-weight: bold\">91.</span>511s\n",
              "</pre>\n"
            ],
            "text/plain": [
              "Epoch: \u001b[1;36m329\u001b[0m, Train loss: \u001b[1;36m0.013\u001b[0m, Val loss: \u001b[1;36m0.141\u001b[0m, Epoch time = \u001b[1;36m91.\u001b[0m511s\n"
            ]
          },
          "metadata": {
            "tags": []
          }
        },
        {
          "output_type": "display_data",
          "data": {
            "text/html": [
              "<pre style=\"white-space:pre;overflow-x:auto;line-height:normal;font-family:Menlo,'DejaVu Sans Mono',consolas,'Courier New',monospace\">Epoch: <span style=\"color: #008080; text-decoration-color: #008080; font-weight: bold\">330</span>, Train loss: <span style=\"color: #008080; text-decoration-color: #008080; font-weight: bold\">0.013</span>, Val loss: <span style=\"color: #008080; text-decoration-color: #008080; font-weight: bold\">0.139</span>, Epoch time = <span style=\"color: #008080; text-decoration-color: #008080; font-weight: bold\">91.</span>277s\n",
              "</pre>\n"
            ],
            "text/plain": [
              "Epoch: \u001b[1;36m330\u001b[0m, Train loss: \u001b[1;36m0.013\u001b[0m, Val loss: \u001b[1;36m0.139\u001b[0m, Epoch time = \u001b[1;36m91.\u001b[0m277s\n"
            ]
          },
          "metadata": {
            "tags": []
          }
        },
        {
          "output_type": "display_data",
          "data": {
            "text/html": [
              "<pre style=\"white-space:pre;overflow-x:auto;line-height:normal;font-family:Menlo,'DejaVu Sans Mono',consolas,'Courier New',monospace\">Epoch: <span style=\"color: #008080; text-decoration-color: #008080; font-weight: bold\">331</span>, Train loss: <span style=\"color: #008080; text-decoration-color: #008080; font-weight: bold\">0.013</span>, Val loss: <span style=\"color: #008080; text-decoration-color: #008080; font-weight: bold\">0.139</span>, Epoch time = <span style=\"color: #008080; text-decoration-color: #008080; font-weight: bold\">92.</span>633s\n",
              "</pre>\n"
            ],
            "text/plain": [
              "Epoch: \u001b[1;36m331\u001b[0m, Train loss: \u001b[1;36m0.013\u001b[0m, Val loss: \u001b[1;36m0.139\u001b[0m, Epoch time = \u001b[1;36m92.\u001b[0m633s\n"
            ]
          },
          "metadata": {
            "tags": []
          }
        },
        {
          "output_type": "display_data",
          "data": {
            "text/html": [
              "<pre style=\"white-space:pre;overflow-x:auto;line-height:normal;font-family:Menlo,'DejaVu Sans Mono',consolas,'Courier New',monospace\">Epoch: <span style=\"color: #008080; text-decoration-color: #008080; font-weight: bold\">332</span>, Train loss: <span style=\"color: #008080; text-decoration-color: #008080; font-weight: bold\">0.013</span>, Val loss: <span style=\"color: #008080; text-decoration-color: #008080; font-weight: bold\">0.140</span>, Epoch time = <span style=\"color: #008080; text-decoration-color: #008080; font-weight: bold\">91.</span>653s\n",
              "</pre>\n"
            ],
            "text/plain": [
              "Epoch: \u001b[1;36m332\u001b[0m, Train loss: \u001b[1;36m0.013\u001b[0m, Val loss: \u001b[1;36m0.140\u001b[0m, Epoch time = \u001b[1;36m91.\u001b[0m653s\n"
            ]
          },
          "metadata": {
            "tags": []
          }
        },
        {
          "output_type": "display_data",
          "data": {
            "text/html": [
              "<pre style=\"white-space:pre;overflow-x:auto;line-height:normal;font-family:Menlo,'DejaVu Sans Mono',consolas,'Courier New',monospace\">Epoch: <span style=\"color: #008080; text-decoration-color: #008080; font-weight: bold\">333</span>, Train loss: <span style=\"color: #008080; text-decoration-color: #008080; font-weight: bold\">0.012</span>, Val loss: <span style=\"color: #008080; text-decoration-color: #008080; font-weight: bold\">0.139</span>, Epoch time = <span style=\"color: #008080; text-decoration-color: #008080; font-weight: bold\">92.</span>692s\n",
              "</pre>\n"
            ],
            "text/plain": [
              "Epoch: \u001b[1;36m333\u001b[0m, Train loss: \u001b[1;36m0.012\u001b[0m, Val loss: \u001b[1;36m0.139\u001b[0m, Epoch time = \u001b[1;36m92.\u001b[0m692s\n"
            ]
          },
          "metadata": {
            "tags": []
          }
        },
        {
          "output_type": "display_data",
          "data": {
            "text/html": [
              "<pre style=\"white-space:pre;overflow-x:auto;line-height:normal;font-family:Menlo,'DejaVu Sans Mono',consolas,'Courier New',monospace\">Epoch: <span style=\"color: #008080; text-decoration-color: #008080; font-weight: bold\">334</span>, Train loss: <span style=\"color: #008080; text-decoration-color: #008080; font-weight: bold\">0.012</span>, Val loss: <span style=\"color: #008080; text-decoration-color: #008080; font-weight: bold\">0.139</span>, Epoch time = <span style=\"color: #008080; text-decoration-color: #008080; font-weight: bold\">91.</span>690s\n",
              "</pre>\n"
            ],
            "text/plain": [
              "Epoch: \u001b[1;36m334\u001b[0m, Train loss: \u001b[1;36m0.012\u001b[0m, Val loss: \u001b[1;36m0.139\u001b[0m, Epoch time = \u001b[1;36m91.\u001b[0m690s\n"
            ]
          },
          "metadata": {
            "tags": []
          }
        },
        {
          "output_type": "display_data",
          "data": {
            "text/html": [
              "<pre style=\"white-space:pre;overflow-x:auto;line-height:normal;font-family:Menlo,'DejaVu Sans Mono',consolas,'Courier New',monospace\">Epoch: <span style=\"color: #008080; text-decoration-color: #008080; font-weight: bold\">335</span>, Train loss: <span style=\"color: #008080; text-decoration-color: #008080; font-weight: bold\">0.012</span>, Val loss: <span style=\"color: #008080; text-decoration-color: #008080; font-weight: bold\">0.141</span>, Epoch time = <span style=\"color: #008080; text-decoration-color: #008080; font-weight: bold\">91.</span>276s\n",
              "</pre>\n"
            ],
            "text/plain": [
              "Epoch: \u001b[1;36m335\u001b[0m, Train loss: \u001b[1;36m0.012\u001b[0m, Val loss: \u001b[1;36m0.141\u001b[0m, Epoch time = \u001b[1;36m91.\u001b[0m276s\n"
            ]
          },
          "metadata": {
            "tags": []
          }
        },
        {
          "output_type": "display_data",
          "data": {
            "text/html": [
              "<pre style=\"white-space:pre;overflow-x:auto;line-height:normal;font-family:Menlo,'DejaVu Sans Mono',consolas,'Courier New',monospace\">Epoch: <span style=\"color: #008080; text-decoration-color: #008080; font-weight: bold\">336</span>, Train loss: <span style=\"color: #008080; text-decoration-color: #008080; font-weight: bold\">0.012</span>, Val loss: <span style=\"color: #008080; text-decoration-color: #008080; font-weight: bold\">0.140</span>, Epoch time = <span style=\"color: #008080; text-decoration-color: #008080; font-weight: bold\">92.</span>245s\n",
              "</pre>\n"
            ],
            "text/plain": [
              "Epoch: \u001b[1;36m336\u001b[0m, Train loss: \u001b[1;36m0.012\u001b[0m, Val loss: \u001b[1;36m0.140\u001b[0m, Epoch time = \u001b[1;36m92.\u001b[0m245s\n"
            ]
          },
          "metadata": {
            "tags": []
          }
        },
        {
          "output_type": "display_data",
          "data": {
            "text/html": [
              "<pre style=\"white-space:pre;overflow-x:auto;line-height:normal;font-family:Menlo,'DejaVu Sans Mono',consolas,'Courier New',monospace\">Epoch: <span style=\"color: #008080; text-decoration-color: #008080; font-weight: bold\">337</span>, Train loss: <span style=\"color: #008080; text-decoration-color: #008080; font-weight: bold\">0.012</span>, Val loss: <span style=\"color: #008080; text-decoration-color: #008080; font-weight: bold\">0.143</span>, Epoch time = <span style=\"color: #008080; text-decoration-color: #008080; font-weight: bold\">91.</span>502s\n",
              "</pre>\n"
            ],
            "text/plain": [
              "Epoch: \u001b[1;36m337\u001b[0m, Train loss: \u001b[1;36m0.012\u001b[0m, Val loss: \u001b[1;36m0.143\u001b[0m, Epoch time = \u001b[1;36m91.\u001b[0m502s\n"
            ]
          },
          "metadata": {
            "tags": []
          }
        },
        {
          "output_type": "display_data",
          "data": {
            "text/html": [
              "<pre style=\"white-space:pre;overflow-x:auto;line-height:normal;font-family:Menlo,'DejaVu Sans Mono',consolas,'Courier New',monospace\">Epoch: <span style=\"color: #008080; text-decoration-color: #008080; font-weight: bold\">338</span>, Train loss: <span style=\"color: #008080; text-decoration-color: #008080; font-weight: bold\">0.012</span>, Val loss: <span style=\"color: #008080; text-decoration-color: #008080; font-weight: bold\">0.140</span>, Epoch time = <span style=\"color: #008080; text-decoration-color: #008080; font-weight: bold\">93.</span>196s\n",
              "</pre>\n"
            ],
            "text/plain": [
              "Epoch: \u001b[1;36m338\u001b[0m, Train loss: \u001b[1;36m0.012\u001b[0m, Val loss: \u001b[1;36m0.140\u001b[0m, Epoch time = \u001b[1;36m93.\u001b[0m196s\n"
            ]
          },
          "metadata": {
            "tags": []
          }
        },
        {
          "output_type": "display_data",
          "data": {
            "text/html": [
              "<pre style=\"white-space:pre;overflow-x:auto;line-height:normal;font-family:Menlo,'DejaVu Sans Mono',consolas,'Courier New',monospace\">Epoch: <span style=\"color: #008080; text-decoration-color: #008080; font-weight: bold\">339</span>, Train loss: <span style=\"color: #008080; text-decoration-color: #008080; font-weight: bold\">0.012</span>, Val loss: <span style=\"color: #008080; text-decoration-color: #008080; font-weight: bold\">0.139</span>, Epoch time = <span style=\"color: #008080; text-decoration-color: #008080; font-weight: bold\">92.</span>105s\n",
              "</pre>\n"
            ],
            "text/plain": [
              "Epoch: \u001b[1;36m339\u001b[0m, Train loss: \u001b[1;36m0.012\u001b[0m, Val loss: \u001b[1;36m0.139\u001b[0m, Epoch time = \u001b[1;36m92.\u001b[0m105s\n"
            ]
          },
          "metadata": {
            "tags": []
          }
        },
        {
          "output_type": "display_data",
          "data": {
            "text/html": [
              "<pre style=\"white-space:pre;overflow-x:auto;line-height:normal;font-family:Menlo,'DejaVu Sans Mono',consolas,'Courier New',monospace\">Epoch: <span style=\"color: #008080; text-decoration-color: #008080; font-weight: bold\">340</span>, Train loss: <span style=\"color: #008080; text-decoration-color: #008080; font-weight: bold\">0.012</span>, Val loss: <span style=\"color: #008080; text-decoration-color: #008080; font-weight: bold\">0.147</span>, Epoch time = <span style=\"color: #008080; text-decoration-color: #008080; font-weight: bold\">91.</span>923s\n",
              "</pre>\n"
            ],
            "text/plain": [
              "Epoch: \u001b[1;36m340\u001b[0m, Train loss: \u001b[1;36m0.012\u001b[0m, Val loss: \u001b[1;36m0.147\u001b[0m, Epoch time = \u001b[1;36m91.\u001b[0m923s\n"
            ]
          },
          "metadata": {
            "tags": []
          }
        },
        {
          "output_type": "display_data",
          "data": {
            "text/html": [
              "<pre style=\"white-space:pre;overflow-x:auto;line-height:normal;font-family:Menlo,'DejaVu Sans Mono',consolas,'Courier New',monospace\">Epoch: <span style=\"color: #008080; text-decoration-color: #008080; font-weight: bold\">341</span>, Train loss: <span style=\"color: #008080; text-decoration-color: #008080; font-weight: bold\">0.012</span>, Val loss: <span style=\"color: #008080; text-decoration-color: #008080; font-weight: bold\">0.145</span>, Epoch time = <span style=\"color: #008080; text-decoration-color: #008080; font-weight: bold\">92.</span>194s\n",
              "</pre>\n"
            ],
            "text/plain": [
              "Epoch: \u001b[1;36m341\u001b[0m, Train loss: \u001b[1;36m0.012\u001b[0m, Val loss: \u001b[1;36m0.145\u001b[0m, Epoch time = \u001b[1;36m92.\u001b[0m194s\n"
            ]
          },
          "metadata": {
            "tags": []
          }
        },
        {
          "output_type": "display_data",
          "data": {
            "text/html": [
              "<pre style=\"white-space:pre;overflow-x:auto;line-height:normal;font-family:Menlo,'DejaVu Sans Mono',consolas,'Courier New',monospace\">Epoch: <span style=\"color: #008080; text-decoration-color: #008080; font-weight: bold\">342</span>, Train loss: <span style=\"color: #008080; text-decoration-color: #008080; font-weight: bold\">0.012</span>, Val loss: <span style=\"color: #008080; text-decoration-color: #008080; font-weight: bold\">0.143</span>, Epoch time = <span style=\"color: #008080; text-decoration-color: #008080; font-weight: bold\">92.</span>005s\n",
              "</pre>\n"
            ],
            "text/plain": [
              "Epoch: \u001b[1;36m342\u001b[0m, Train loss: \u001b[1;36m0.012\u001b[0m, Val loss: \u001b[1;36m0.143\u001b[0m, Epoch time = \u001b[1;36m92.\u001b[0m005s\n"
            ]
          },
          "metadata": {
            "tags": []
          }
        },
        {
          "output_type": "display_data",
          "data": {
            "text/html": [
              "<pre style=\"white-space:pre;overflow-x:auto;line-height:normal;font-family:Menlo,'DejaVu Sans Mono',consolas,'Courier New',monospace\">Epoch: <span style=\"color: #008080; text-decoration-color: #008080; font-weight: bold\">343</span>, Train loss: <span style=\"color: #008080; text-decoration-color: #008080; font-weight: bold\">0.012</span>, Val loss: <span style=\"color: #008080; text-decoration-color: #008080; font-weight: bold\">0.141</span>, Epoch time = <span style=\"color: #008080; text-decoration-color: #008080; font-weight: bold\">91.</span>242s\n",
              "</pre>\n"
            ],
            "text/plain": [
              "Epoch: \u001b[1;36m343\u001b[0m, Train loss: \u001b[1;36m0.012\u001b[0m, Val loss: \u001b[1;36m0.141\u001b[0m, Epoch time = \u001b[1;36m91.\u001b[0m242s\n"
            ]
          },
          "metadata": {
            "tags": []
          }
        },
        {
          "output_type": "display_data",
          "data": {
            "text/html": [
              "<pre style=\"white-space:pre;overflow-x:auto;line-height:normal;font-family:Menlo,'DejaVu Sans Mono',consolas,'Courier New',monospace\">Epoch: <span style=\"color: #008080; text-decoration-color: #008080; font-weight: bold\">344</span>, Train loss: <span style=\"color: #008080; text-decoration-color: #008080; font-weight: bold\">0.012</span>, Val loss: <span style=\"color: #008080; text-decoration-color: #008080; font-weight: bold\">0.140</span>, Epoch time = <span style=\"color: #008080; text-decoration-color: #008080; font-weight: bold\">92.</span>033s\n",
              "</pre>\n"
            ],
            "text/plain": [
              "Epoch: \u001b[1;36m344\u001b[0m, Train loss: \u001b[1;36m0.012\u001b[0m, Val loss: \u001b[1;36m0.140\u001b[0m, Epoch time = \u001b[1;36m92.\u001b[0m033s\n"
            ]
          },
          "metadata": {
            "tags": []
          }
        },
        {
          "output_type": "display_data",
          "data": {
            "text/html": [
              "<pre style=\"white-space:pre;overflow-x:auto;line-height:normal;font-family:Menlo,'DejaVu Sans Mono',consolas,'Courier New',monospace\">Epoch: <span style=\"color: #008080; text-decoration-color: #008080; font-weight: bold\">345</span>, Train loss: <span style=\"color: #008080; text-decoration-color: #008080; font-weight: bold\">0.012</span>, Val loss: <span style=\"color: #008080; text-decoration-color: #008080; font-weight: bold\">0.140</span>, Epoch time = <span style=\"color: #008080; text-decoration-color: #008080; font-weight: bold\">92.</span>095s\n",
              "</pre>\n"
            ],
            "text/plain": [
              "Epoch: \u001b[1;36m345\u001b[0m, Train loss: \u001b[1;36m0.012\u001b[0m, Val loss: \u001b[1;36m0.140\u001b[0m, Epoch time = \u001b[1;36m92.\u001b[0m095s\n"
            ]
          },
          "metadata": {
            "tags": []
          }
        },
        {
          "output_type": "display_data",
          "data": {
            "text/html": [
              "<pre style=\"white-space:pre;overflow-x:auto;line-height:normal;font-family:Menlo,'DejaVu Sans Mono',consolas,'Courier New',monospace\">Epoch: <span style=\"color: #008080; text-decoration-color: #008080; font-weight: bold\">346</span>, Train loss: <span style=\"color: #008080; text-decoration-color: #008080; font-weight: bold\">0.012</span>, Val loss: <span style=\"color: #008080; text-decoration-color: #008080; font-weight: bold\">0.143</span>, Epoch time = <span style=\"color: #008080; text-decoration-color: #008080; font-weight: bold\">92.</span>213s\n",
              "</pre>\n"
            ],
            "text/plain": [
              "Epoch: \u001b[1;36m346\u001b[0m, Train loss: \u001b[1;36m0.012\u001b[0m, Val loss: \u001b[1;36m0.143\u001b[0m, Epoch time = \u001b[1;36m92.\u001b[0m213s\n"
            ]
          },
          "metadata": {
            "tags": []
          }
        },
        {
          "output_type": "display_data",
          "data": {
            "text/html": [
              "<pre style=\"white-space:pre;overflow-x:auto;line-height:normal;font-family:Menlo,'DejaVu Sans Mono',consolas,'Courier New',monospace\">Epoch: <span style=\"color: #008080; text-decoration-color: #008080; font-weight: bold\">347</span>, Train loss: <span style=\"color: #008080; text-decoration-color: #008080; font-weight: bold\">0.012</span>, Val loss: <span style=\"color: #008080; text-decoration-color: #008080; font-weight: bold\">0.141</span>, Epoch time = <span style=\"color: #008080; text-decoration-color: #008080; font-weight: bold\">91.</span>795s\n",
              "</pre>\n"
            ],
            "text/plain": [
              "Epoch: \u001b[1;36m347\u001b[0m, Train loss: \u001b[1;36m0.012\u001b[0m, Val loss: \u001b[1;36m0.141\u001b[0m, Epoch time = \u001b[1;36m91.\u001b[0m795s\n"
            ]
          },
          "metadata": {
            "tags": []
          }
        },
        {
          "output_type": "display_data",
          "data": {
            "text/html": [
              "<pre style=\"white-space:pre;overflow-x:auto;line-height:normal;font-family:Menlo,'DejaVu Sans Mono',consolas,'Courier New',monospace\">Epoch: <span style=\"color: #008080; text-decoration-color: #008080; font-weight: bold\">348</span>, Train loss: <span style=\"color: #008080; text-decoration-color: #008080; font-weight: bold\">0.012</span>, Val loss: <span style=\"color: #008080; text-decoration-color: #008080; font-weight: bold\">0.141</span>, Epoch time = <span style=\"color: #008080; text-decoration-color: #008080; font-weight: bold\">92.</span>075s\n",
              "</pre>\n"
            ],
            "text/plain": [
              "Epoch: \u001b[1;36m348\u001b[0m, Train loss: \u001b[1;36m0.012\u001b[0m, Val loss: \u001b[1;36m0.141\u001b[0m, Epoch time = \u001b[1;36m92.\u001b[0m075s\n"
            ]
          },
          "metadata": {
            "tags": []
          }
        },
        {
          "output_type": "display_data",
          "data": {
            "text/html": [
              "<pre style=\"white-space:pre;overflow-x:auto;line-height:normal;font-family:Menlo,'DejaVu Sans Mono',consolas,'Courier New',monospace\">Epoch: <span style=\"color: #008080; text-decoration-color: #008080; font-weight: bold\">349</span>, Train loss: <span style=\"color: #008080; text-decoration-color: #008080; font-weight: bold\">0.012</span>, Val loss: <span style=\"color: #008080; text-decoration-color: #008080; font-weight: bold\">0.141</span>, Epoch time = <span style=\"color: #008080; text-decoration-color: #008080; font-weight: bold\">91.</span>674s\n",
              "</pre>\n"
            ],
            "text/plain": [
              "Epoch: \u001b[1;36m349\u001b[0m, Train loss: \u001b[1;36m0.012\u001b[0m, Val loss: \u001b[1;36m0.141\u001b[0m, Epoch time = \u001b[1;36m91.\u001b[0m674s\n"
            ]
          },
          "metadata": {
            "tags": []
          }
        },
        {
          "output_type": "display_data",
          "data": {
            "text/html": [
              "<pre style=\"white-space:pre;overflow-x:auto;line-height:normal;font-family:Menlo,'DejaVu Sans Mono',consolas,'Courier New',monospace\">Epoch: <span style=\"color: #008080; text-decoration-color: #008080; font-weight: bold\">350</span>, Train loss: <span style=\"color: #008080; text-decoration-color: #008080; font-weight: bold\">0.012</span>, Val loss: <span style=\"color: #008080; text-decoration-color: #008080; font-weight: bold\">0.141</span>, Epoch time = <span style=\"color: #008080; text-decoration-color: #008080; font-weight: bold\">92.</span>688s\n",
              "</pre>\n"
            ],
            "text/plain": [
              "Epoch: \u001b[1;36m350\u001b[0m, Train loss: \u001b[1;36m0.012\u001b[0m, Val loss: \u001b[1;36m0.141\u001b[0m, Epoch time = \u001b[1;36m92.\u001b[0m688s\n"
            ]
          },
          "metadata": {
            "tags": []
          }
        },
        {
          "output_type": "display_data",
          "data": {
            "text/html": [
              "<pre style=\"white-space:pre;overflow-x:auto;line-height:normal;font-family:Menlo,'DejaVu Sans Mono',consolas,'Courier New',monospace\">Epoch: <span style=\"color: #008080; text-decoration-color: #008080; font-weight: bold\">351</span>, Train loss: <span style=\"color: #008080; text-decoration-color: #008080; font-weight: bold\">0.012</span>, Val loss: <span style=\"color: #008080; text-decoration-color: #008080; font-weight: bold\">0.142</span>, Epoch time = <span style=\"color: #008080; text-decoration-color: #008080; font-weight: bold\">92.</span>074s\n",
              "</pre>\n"
            ],
            "text/plain": [
              "Epoch: \u001b[1;36m351\u001b[0m, Train loss: \u001b[1;36m0.012\u001b[0m, Val loss: \u001b[1;36m0.142\u001b[0m, Epoch time = \u001b[1;36m92.\u001b[0m074s\n"
            ]
          },
          "metadata": {
            "tags": []
          }
        },
        {
          "output_type": "display_data",
          "data": {
            "text/html": [
              "<pre style=\"white-space:pre;overflow-x:auto;line-height:normal;font-family:Menlo,'DejaVu Sans Mono',consolas,'Courier New',monospace\">Epoch: <span style=\"color: #008080; text-decoration-color: #008080; font-weight: bold\">352</span>, Train loss: <span style=\"color: #008080; text-decoration-color: #008080; font-weight: bold\">0.012</span>, Val loss: <span style=\"color: #008080; text-decoration-color: #008080; font-weight: bold\">0.139</span>, Epoch time = <span style=\"color: #008080; text-decoration-color: #008080; font-weight: bold\">91.</span>741s\n",
              "</pre>\n"
            ],
            "text/plain": [
              "Epoch: \u001b[1;36m352\u001b[0m, Train loss: \u001b[1;36m0.012\u001b[0m, Val loss: \u001b[1;36m0.139\u001b[0m, Epoch time = \u001b[1;36m91.\u001b[0m741s\n"
            ]
          },
          "metadata": {
            "tags": []
          }
        },
        {
          "output_type": "display_data",
          "data": {
            "text/html": [
              "<pre style=\"white-space:pre;overflow-x:auto;line-height:normal;font-family:Menlo,'DejaVu Sans Mono',consolas,'Courier New',monospace\">Epoch: <span style=\"color: #008080; text-decoration-color: #008080; font-weight: bold\">353</span>, Train loss: <span style=\"color: #008080; text-decoration-color: #008080; font-weight: bold\">0.012</span>, Val loss: <span style=\"color: #008080; text-decoration-color: #008080; font-weight: bold\">0.138</span>, Epoch time = <span style=\"color: #008080; text-decoration-color: #008080; font-weight: bold\">92.</span>221s\n",
              "</pre>\n"
            ],
            "text/plain": [
              "Epoch: \u001b[1;36m353\u001b[0m, Train loss: \u001b[1;36m0.012\u001b[0m, Val loss: \u001b[1;36m0.138\u001b[0m, Epoch time = \u001b[1;36m92.\u001b[0m221s\n"
            ]
          },
          "metadata": {
            "tags": []
          }
        },
        {
          "output_type": "display_data",
          "data": {
            "text/html": [
              "<pre style=\"white-space:pre;overflow-x:auto;line-height:normal;font-family:Menlo,'DejaVu Sans Mono',consolas,'Courier New',monospace\">Epoch: <span style=\"color: #008080; text-decoration-color: #008080; font-weight: bold\">354</span>, Train loss: <span style=\"color: #008080; text-decoration-color: #008080; font-weight: bold\">0.012</span>, Val loss: <span style=\"color: #008080; text-decoration-color: #008080; font-weight: bold\">0.140</span>, Epoch time = <span style=\"color: #008080; text-decoration-color: #008080; font-weight: bold\">91.</span>793s\n",
              "</pre>\n"
            ],
            "text/plain": [
              "Epoch: \u001b[1;36m354\u001b[0m, Train loss: \u001b[1;36m0.012\u001b[0m, Val loss: \u001b[1;36m0.140\u001b[0m, Epoch time = \u001b[1;36m91.\u001b[0m793s\n"
            ]
          },
          "metadata": {
            "tags": []
          }
        },
        {
          "output_type": "display_data",
          "data": {
            "text/html": [
              "<pre style=\"white-space:pre;overflow-x:auto;line-height:normal;font-family:Menlo,'DejaVu Sans Mono',consolas,'Courier New',monospace\">Epoch: <span style=\"color: #008080; text-decoration-color: #008080; font-weight: bold\">355</span>, Train loss: <span style=\"color: #008080; text-decoration-color: #008080; font-weight: bold\">0.012</span>, Val loss: <span style=\"color: #008080; text-decoration-color: #008080; font-weight: bold\">0.140</span>, Epoch time = <span style=\"color: #008080; text-decoration-color: #008080; font-weight: bold\">92.</span>412s\n",
              "</pre>\n"
            ],
            "text/plain": [
              "Epoch: \u001b[1;36m355\u001b[0m, Train loss: \u001b[1;36m0.012\u001b[0m, Val loss: \u001b[1;36m0.140\u001b[0m, Epoch time = \u001b[1;36m92.\u001b[0m412s\n"
            ]
          },
          "metadata": {
            "tags": []
          }
        },
        {
          "output_type": "display_data",
          "data": {
            "text/html": [
              "<pre style=\"white-space:pre;overflow-x:auto;line-height:normal;font-family:Menlo,'DejaVu Sans Mono',consolas,'Courier New',monospace\">Epoch: <span style=\"color: #008080; text-decoration-color: #008080; font-weight: bold\">356</span>, Train loss: <span style=\"color: #008080; text-decoration-color: #008080; font-weight: bold\">0.012</span>, Val loss: <span style=\"color: #008080; text-decoration-color: #008080; font-weight: bold\">0.144</span>, Epoch time = <span style=\"color: #008080; text-decoration-color: #008080; font-weight: bold\">91.</span>876s\n",
              "</pre>\n"
            ],
            "text/plain": [
              "Epoch: \u001b[1;36m356\u001b[0m, Train loss: \u001b[1;36m0.012\u001b[0m, Val loss: \u001b[1;36m0.144\u001b[0m, Epoch time = \u001b[1;36m91.\u001b[0m876s\n"
            ]
          },
          "metadata": {
            "tags": []
          }
        },
        {
          "output_type": "display_data",
          "data": {
            "text/html": [
              "<pre style=\"white-space:pre;overflow-x:auto;line-height:normal;font-family:Menlo,'DejaVu Sans Mono',consolas,'Courier New',monospace\">Epoch: <span style=\"color: #008080; text-decoration-color: #008080; font-weight: bold\">357</span>, Train loss: <span style=\"color: #008080; text-decoration-color: #008080; font-weight: bold\">0.012</span>, Val loss: <span style=\"color: #008080; text-decoration-color: #008080; font-weight: bold\">0.139</span>, Epoch time = <span style=\"color: #008080; text-decoration-color: #008080; font-weight: bold\">92.</span>112s\n",
              "</pre>\n"
            ],
            "text/plain": [
              "Epoch: \u001b[1;36m357\u001b[0m, Train loss: \u001b[1;36m0.012\u001b[0m, Val loss: \u001b[1;36m0.139\u001b[0m, Epoch time = \u001b[1;36m92.\u001b[0m112s\n"
            ]
          },
          "metadata": {
            "tags": []
          }
        },
        {
          "output_type": "display_data",
          "data": {
            "text/html": [
              "<pre style=\"white-space:pre;overflow-x:auto;line-height:normal;font-family:Menlo,'DejaVu Sans Mono',consolas,'Courier New',monospace\">Epoch: <span style=\"color: #008080; text-decoration-color: #008080; font-weight: bold\">358</span>, Train loss: <span style=\"color: #008080; text-decoration-color: #008080; font-weight: bold\">0.012</span>, Val loss: <span style=\"color: #008080; text-decoration-color: #008080; font-weight: bold\">0.152</span>, Epoch time = <span style=\"color: #008080; text-decoration-color: #008080; font-weight: bold\">91.</span>976s\n",
              "</pre>\n"
            ],
            "text/plain": [
              "Epoch: \u001b[1;36m358\u001b[0m, Train loss: \u001b[1;36m0.012\u001b[0m, Val loss: \u001b[1;36m0.152\u001b[0m, Epoch time = \u001b[1;36m91.\u001b[0m976s\n"
            ]
          },
          "metadata": {
            "tags": []
          }
        },
        {
          "output_type": "display_data",
          "data": {
            "text/html": [
              "<pre style=\"white-space:pre;overflow-x:auto;line-height:normal;font-family:Menlo,'DejaVu Sans Mono',consolas,'Courier New',monospace\">Epoch: <span style=\"color: #008080; text-decoration-color: #008080; font-weight: bold\">359</span>, Train loss: <span style=\"color: #008080; text-decoration-color: #008080; font-weight: bold\">0.012</span>, Val loss: <span style=\"color: #008080; text-decoration-color: #008080; font-weight: bold\">0.145</span>, Epoch time = <span style=\"color: #008080; text-decoration-color: #008080; font-weight: bold\">92.</span>128s\n",
              "</pre>\n"
            ],
            "text/plain": [
              "Epoch: \u001b[1;36m359\u001b[0m, Train loss: \u001b[1;36m0.012\u001b[0m, Val loss: \u001b[1;36m0.145\u001b[0m, Epoch time = \u001b[1;36m92.\u001b[0m128s\n"
            ]
          },
          "metadata": {
            "tags": []
          }
        },
        {
          "output_type": "display_data",
          "data": {
            "text/html": [
              "<pre style=\"white-space:pre;overflow-x:auto;line-height:normal;font-family:Menlo,'DejaVu Sans Mono',consolas,'Courier New',monospace\">Epoch: <span style=\"color: #008080; text-decoration-color: #008080; font-weight: bold\">360</span>, Train loss: <span style=\"color: #008080; text-decoration-color: #008080; font-weight: bold\">0.011</span>, Val loss: <span style=\"color: #008080; text-decoration-color: #008080; font-weight: bold\">0.143</span>, Epoch time = <span style=\"color: #008080; text-decoration-color: #008080; font-weight: bold\">92.</span>380s\n",
              "</pre>\n"
            ],
            "text/plain": [
              "Epoch: \u001b[1;36m360\u001b[0m, Train loss: \u001b[1;36m0.011\u001b[0m, Val loss: \u001b[1;36m0.143\u001b[0m, Epoch time = \u001b[1;36m92.\u001b[0m380s\n"
            ]
          },
          "metadata": {
            "tags": []
          }
        },
        {
          "output_type": "display_data",
          "data": {
            "text/html": [
              "<pre style=\"white-space:pre;overflow-x:auto;line-height:normal;font-family:Menlo,'DejaVu Sans Mono',consolas,'Courier New',monospace\">Epoch: <span style=\"color: #008080; text-decoration-color: #008080; font-weight: bold\">361</span>, Train loss: <span style=\"color: #008080; text-decoration-color: #008080; font-weight: bold\">0.012</span>, Val loss: <span style=\"color: #008080; text-decoration-color: #008080; font-weight: bold\">0.141</span>, Epoch time = <span style=\"color: #008080; text-decoration-color: #008080; font-weight: bold\">92.</span>380s\n",
              "</pre>\n"
            ],
            "text/plain": [
              "Epoch: \u001b[1;36m361\u001b[0m, Train loss: \u001b[1;36m0.012\u001b[0m, Val loss: \u001b[1;36m0.141\u001b[0m, Epoch time = \u001b[1;36m92.\u001b[0m380s\n"
            ]
          },
          "metadata": {
            "tags": []
          }
        },
        {
          "output_type": "display_data",
          "data": {
            "text/html": [
              "<pre style=\"white-space:pre;overflow-x:auto;line-height:normal;font-family:Menlo,'DejaVu Sans Mono',consolas,'Courier New',monospace\">Epoch: <span style=\"color: #008080; text-decoration-color: #008080; font-weight: bold\">362</span>, Train loss: <span style=\"color: #008080; text-decoration-color: #008080; font-weight: bold\">0.011</span>, Val loss: <span style=\"color: #008080; text-decoration-color: #008080; font-weight: bold\">0.146</span>, Epoch time = <span style=\"color: #008080; text-decoration-color: #008080; font-weight: bold\">92.</span>268s\n",
              "</pre>\n"
            ],
            "text/plain": [
              "Epoch: \u001b[1;36m362\u001b[0m, Train loss: \u001b[1;36m0.011\u001b[0m, Val loss: \u001b[1;36m0.146\u001b[0m, Epoch time = \u001b[1;36m92.\u001b[0m268s\n"
            ]
          },
          "metadata": {
            "tags": []
          }
        },
        {
          "output_type": "display_data",
          "data": {
            "text/html": [
              "<pre style=\"white-space:pre;overflow-x:auto;line-height:normal;font-family:Menlo,'DejaVu Sans Mono',consolas,'Courier New',monospace\">Epoch: <span style=\"color: #008080; text-decoration-color: #008080; font-weight: bold\">363</span>, Train loss: <span style=\"color: #008080; text-decoration-color: #008080; font-weight: bold\">0.011</span>, Val loss: <span style=\"color: #008080; text-decoration-color: #008080; font-weight: bold\">0.146</span>, Epoch time = <span style=\"color: #008080; text-decoration-color: #008080; font-weight: bold\">91.</span>964s\n",
              "</pre>\n"
            ],
            "text/plain": [
              "Epoch: \u001b[1;36m363\u001b[0m, Train loss: \u001b[1;36m0.011\u001b[0m, Val loss: \u001b[1;36m0.146\u001b[0m, Epoch time = \u001b[1;36m91.\u001b[0m964s\n"
            ]
          },
          "metadata": {
            "tags": []
          }
        },
        {
          "output_type": "display_data",
          "data": {
            "text/html": [
              "<pre style=\"white-space:pre;overflow-x:auto;line-height:normal;font-family:Menlo,'DejaVu Sans Mono',consolas,'Courier New',monospace\">Epoch: <span style=\"color: #008080; text-decoration-color: #008080; font-weight: bold\">364</span>, Train loss: <span style=\"color: #008080; text-decoration-color: #008080; font-weight: bold\">0.011</span>, Val loss: <span style=\"color: #008080; text-decoration-color: #008080; font-weight: bold\">0.144</span>, Epoch time = <span style=\"color: #008080; text-decoration-color: #008080; font-weight: bold\">92.</span>404s\n",
              "</pre>\n"
            ],
            "text/plain": [
              "Epoch: \u001b[1;36m364\u001b[0m, Train loss: \u001b[1;36m0.011\u001b[0m, Val loss: \u001b[1;36m0.144\u001b[0m, Epoch time = \u001b[1;36m92.\u001b[0m404s\n"
            ]
          },
          "metadata": {
            "tags": []
          }
        },
        {
          "output_type": "display_data",
          "data": {
            "text/html": [
              "<pre style=\"white-space:pre;overflow-x:auto;line-height:normal;font-family:Menlo,'DejaVu Sans Mono',consolas,'Courier New',monospace\">Epoch: <span style=\"color: #008080; text-decoration-color: #008080; font-weight: bold\">365</span>, Train loss: <span style=\"color: #008080; text-decoration-color: #008080; font-weight: bold\">0.011</span>, Val loss: <span style=\"color: #008080; text-decoration-color: #008080; font-weight: bold\">0.142</span>, Epoch time = <span style=\"color: #008080; text-decoration-color: #008080; font-weight: bold\">91.</span>632s\n",
              "</pre>\n"
            ],
            "text/plain": [
              "Epoch: \u001b[1;36m365\u001b[0m, Train loss: \u001b[1;36m0.011\u001b[0m, Val loss: \u001b[1;36m0.142\u001b[0m, Epoch time = \u001b[1;36m91.\u001b[0m632s\n"
            ]
          },
          "metadata": {
            "tags": []
          }
        },
        {
          "output_type": "display_data",
          "data": {
            "text/html": [
              "<pre style=\"white-space:pre;overflow-x:auto;line-height:normal;font-family:Menlo,'DejaVu Sans Mono',consolas,'Courier New',monospace\">Epoch: <span style=\"color: #008080; text-decoration-color: #008080; font-weight: bold\">366</span>, Train loss: <span style=\"color: #008080; text-decoration-color: #008080; font-weight: bold\">0.011</span>, Val loss: <span style=\"color: #008080; text-decoration-color: #008080; font-weight: bold\">0.143</span>, Epoch time = <span style=\"color: #008080; text-decoration-color: #008080; font-weight: bold\">91.</span>631s\n",
              "</pre>\n"
            ],
            "text/plain": [
              "Epoch: \u001b[1;36m366\u001b[0m, Train loss: \u001b[1;36m0.011\u001b[0m, Val loss: \u001b[1;36m0.143\u001b[0m, Epoch time = \u001b[1;36m91.\u001b[0m631s\n"
            ]
          },
          "metadata": {
            "tags": []
          }
        },
        {
          "output_type": "display_data",
          "data": {
            "text/html": [
              "<pre style=\"white-space:pre;overflow-x:auto;line-height:normal;font-family:Menlo,'DejaVu Sans Mono',consolas,'Courier New',monospace\">Epoch: <span style=\"color: #008080; text-decoration-color: #008080; font-weight: bold\">367</span>, Train loss: <span style=\"color: #008080; text-decoration-color: #008080; font-weight: bold\">0.011</span>, Val loss: <span style=\"color: #008080; text-decoration-color: #008080; font-weight: bold\">0.140</span>, Epoch time = <span style=\"color: #008080; text-decoration-color: #008080; font-weight: bold\">91.</span>957s\n",
              "</pre>\n"
            ],
            "text/plain": [
              "Epoch: \u001b[1;36m367\u001b[0m, Train loss: \u001b[1;36m0.011\u001b[0m, Val loss: \u001b[1;36m0.140\u001b[0m, Epoch time = \u001b[1;36m91.\u001b[0m957s\n"
            ]
          },
          "metadata": {
            "tags": []
          }
        },
        {
          "output_type": "display_data",
          "data": {
            "text/html": [
              "<pre style=\"white-space:pre;overflow-x:auto;line-height:normal;font-family:Menlo,'DejaVu Sans Mono',consolas,'Courier New',monospace\">Epoch: <span style=\"color: #008080; text-decoration-color: #008080; font-weight: bold\">368</span>, Train loss: <span style=\"color: #008080; text-decoration-color: #008080; font-weight: bold\">0.011</span>, Val loss: <span style=\"color: #008080; text-decoration-color: #008080; font-weight: bold\">0.141</span>, Epoch time = <span style=\"color: #008080; text-decoration-color: #008080; font-weight: bold\">91.</span>989s\n",
              "</pre>\n"
            ],
            "text/plain": [
              "Epoch: \u001b[1;36m368\u001b[0m, Train loss: \u001b[1;36m0.011\u001b[0m, Val loss: \u001b[1;36m0.141\u001b[0m, Epoch time = \u001b[1;36m91.\u001b[0m989s\n"
            ]
          },
          "metadata": {
            "tags": []
          }
        },
        {
          "output_type": "display_data",
          "data": {
            "text/html": [
              "<pre style=\"white-space:pre;overflow-x:auto;line-height:normal;font-family:Menlo,'DejaVu Sans Mono',consolas,'Courier New',monospace\">Epoch: <span style=\"color: #008080; text-decoration-color: #008080; font-weight: bold\">369</span>, Train loss: <span style=\"color: #008080; text-decoration-color: #008080; font-weight: bold\">0.011</span>, Val loss: <span style=\"color: #008080; text-decoration-color: #008080; font-weight: bold\">0.144</span>, Epoch time = <span style=\"color: #008080; text-decoration-color: #008080; font-weight: bold\">92.</span>440s\n",
              "</pre>\n"
            ],
            "text/plain": [
              "Epoch: \u001b[1;36m369\u001b[0m, Train loss: \u001b[1;36m0.011\u001b[0m, Val loss: \u001b[1;36m0.144\u001b[0m, Epoch time = \u001b[1;36m92.\u001b[0m440s\n"
            ]
          },
          "metadata": {
            "tags": []
          }
        },
        {
          "output_type": "display_data",
          "data": {
            "text/html": [
              "<pre style=\"white-space:pre;overflow-x:auto;line-height:normal;font-family:Menlo,'DejaVu Sans Mono',consolas,'Courier New',monospace\">Epoch: <span style=\"color: #008080; text-decoration-color: #008080; font-weight: bold\">370</span>, Train loss: <span style=\"color: #008080; text-decoration-color: #008080; font-weight: bold\">0.011</span>, Val loss: <span style=\"color: #008080; text-decoration-color: #008080; font-weight: bold\">0.142</span>, Epoch time = <span style=\"color: #008080; text-decoration-color: #008080; font-weight: bold\">92.</span>146s\n",
              "</pre>\n"
            ],
            "text/plain": [
              "Epoch: \u001b[1;36m370\u001b[0m, Train loss: \u001b[1;36m0.011\u001b[0m, Val loss: \u001b[1;36m0.142\u001b[0m, Epoch time = \u001b[1;36m92.\u001b[0m146s\n"
            ]
          },
          "metadata": {
            "tags": []
          }
        },
        {
          "output_type": "display_data",
          "data": {
            "text/html": [
              "<pre style=\"white-space:pre;overflow-x:auto;line-height:normal;font-family:Menlo,'DejaVu Sans Mono',consolas,'Courier New',monospace\">Epoch: <span style=\"color: #008080; text-decoration-color: #008080; font-weight: bold\">371</span>, Train loss: <span style=\"color: #008080; text-decoration-color: #008080; font-weight: bold\">0.011</span>, Val loss: <span style=\"color: #008080; text-decoration-color: #008080; font-weight: bold\">0.141</span>, Epoch time = <span style=\"color: #008080; text-decoration-color: #008080; font-weight: bold\">91.</span>906s\n",
              "</pre>\n"
            ],
            "text/plain": [
              "Epoch: \u001b[1;36m371\u001b[0m, Train loss: \u001b[1;36m0.011\u001b[0m, Val loss: \u001b[1;36m0.141\u001b[0m, Epoch time = \u001b[1;36m91.\u001b[0m906s\n"
            ]
          },
          "metadata": {
            "tags": []
          }
        },
        {
          "output_type": "display_data",
          "data": {
            "text/html": [
              "<pre style=\"white-space:pre;overflow-x:auto;line-height:normal;font-family:Menlo,'DejaVu Sans Mono',consolas,'Courier New',monospace\">Epoch: <span style=\"color: #008080; text-decoration-color: #008080; font-weight: bold\">372</span>, Train loss: <span style=\"color: #008080; text-decoration-color: #008080; font-weight: bold\">0.011</span>, Val loss: <span style=\"color: #008080; text-decoration-color: #008080; font-weight: bold\">0.144</span>, Epoch time = <span style=\"color: #008080; text-decoration-color: #008080; font-weight: bold\">91.</span>549s\n",
              "</pre>\n"
            ],
            "text/plain": [
              "Epoch: \u001b[1;36m372\u001b[0m, Train loss: \u001b[1;36m0.011\u001b[0m, Val loss: \u001b[1;36m0.144\u001b[0m, Epoch time = \u001b[1;36m91.\u001b[0m549s\n"
            ]
          },
          "metadata": {
            "tags": []
          }
        },
        {
          "output_type": "display_data",
          "data": {
            "text/html": [
              "<pre style=\"white-space:pre;overflow-x:auto;line-height:normal;font-family:Menlo,'DejaVu Sans Mono',consolas,'Courier New',monospace\">Epoch: <span style=\"color: #008080; text-decoration-color: #008080; font-weight: bold\">373</span>, Train loss: <span style=\"color: #008080; text-decoration-color: #008080; font-weight: bold\">0.011</span>, Val loss: <span style=\"color: #008080; text-decoration-color: #008080; font-weight: bold\">0.144</span>, Epoch time = <span style=\"color: #008080; text-decoration-color: #008080; font-weight: bold\">92.</span>840s\n",
              "</pre>\n"
            ],
            "text/plain": [
              "Epoch: \u001b[1;36m373\u001b[0m, Train loss: \u001b[1;36m0.011\u001b[0m, Val loss: \u001b[1;36m0.144\u001b[0m, Epoch time = \u001b[1;36m92.\u001b[0m840s\n"
            ]
          },
          "metadata": {
            "tags": []
          }
        },
        {
          "output_type": "display_data",
          "data": {
            "text/html": [
              "<pre style=\"white-space:pre;overflow-x:auto;line-height:normal;font-family:Menlo,'DejaVu Sans Mono',consolas,'Courier New',monospace\">Epoch: <span style=\"color: #008080; text-decoration-color: #008080; font-weight: bold\">374</span>, Train loss: <span style=\"color: #008080; text-decoration-color: #008080; font-weight: bold\">0.011</span>, Val loss: <span style=\"color: #008080; text-decoration-color: #008080; font-weight: bold\">0.146</span>, Epoch time = <span style=\"color: #008080; text-decoration-color: #008080; font-weight: bold\">92.</span>240s\n",
              "</pre>\n"
            ],
            "text/plain": [
              "Epoch: \u001b[1;36m374\u001b[0m, Train loss: \u001b[1;36m0.011\u001b[0m, Val loss: \u001b[1;36m0.146\u001b[0m, Epoch time = \u001b[1;36m92.\u001b[0m240s\n"
            ]
          },
          "metadata": {
            "tags": []
          }
        },
        {
          "output_type": "display_data",
          "data": {
            "text/html": [
              "<pre style=\"white-space:pre;overflow-x:auto;line-height:normal;font-family:Menlo,'DejaVu Sans Mono',consolas,'Courier New',monospace\">Epoch: <span style=\"color: #008080; text-decoration-color: #008080; font-weight: bold\">375</span>, Train loss: <span style=\"color: #008080; text-decoration-color: #008080; font-weight: bold\">0.011</span>, Val loss: <span style=\"color: #008080; text-decoration-color: #008080; font-weight: bold\">0.142</span>, Epoch time = <span style=\"color: #008080; text-decoration-color: #008080; font-weight: bold\">91.</span>861s\n",
              "</pre>\n"
            ],
            "text/plain": [
              "Epoch: \u001b[1;36m375\u001b[0m, Train loss: \u001b[1;36m0.011\u001b[0m, Val loss: \u001b[1;36m0.142\u001b[0m, Epoch time = \u001b[1;36m91.\u001b[0m861s\n"
            ]
          },
          "metadata": {
            "tags": []
          }
        },
        {
          "output_type": "display_data",
          "data": {
            "text/html": [
              "<pre style=\"white-space:pre;overflow-x:auto;line-height:normal;font-family:Menlo,'DejaVu Sans Mono',consolas,'Courier New',monospace\">Epoch: <span style=\"color: #008080; text-decoration-color: #008080; font-weight: bold\">376</span>, Train loss: <span style=\"color: #008080; text-decoration-color: #008080; font-weight: bold\">0.011</span>, Val loss: <span style=\"color: #008080; text-decoration-color: #008080; font-weight: bold\">0.142</span>, Epoch time = <span style=\"color: #008080; text-decoration-color: #008080; font-weight: bold\">91.</span>741s\n",
              "</pre>\n"
            ],
            "text/plain": [
              "Epoch: \u001b[1;36m376\u001b[0m, Train loss: \u001b[1;36m0.011\u001b[0m, Val loss: \u001b[1;36m0.142\u001b[0m, Epoch time = \u001b[1;36m91.\u001b[0m741s\n"
            ]
          },
          "metadata": {
            "tags": []
          }
        },
        {
          "output_type": "display_data",
          "data": {
            "text/html": [
              "<pre style=\"white-space:pre;overflow-x:auto;line-height:normal;font-family:Menlo,'DejaVu Sans Mono',consolas,'Courier New',monospace\">Epoch: <span style=\"color: #008080; text-decoration-color: #008080; font-weight: bold\">377</span>, Train loss: <span style=\"color: #008080; text-decoration-color: #008080; font-weight: bold\">0.011</span>, Val loss: <span style=\"color: #008080; text-decoration-color: #008080; font-weight: bold\">0.144</span>, Epoch time = <span style=\"color: #008080; text-decoration-color: #008080; font-weight: bold\">91.</span>573s\n",
              "</pre>\n"
            ],
            "text/plain": [
              "Epoch: \u001b[1;36m377\u001b[0m, Train loss: \u001b[1;36m0.011\u001b[0m, Val loss: \u001b[1;36m0.144\u001b[0m, Epoch time = \u001b[1;36m91.\u001b[0m573s\n"
            ]
          },
          "metadata": {
            "tags": []
          }
        },
        {
          "output_type": "display_data",
          "data": {
            "text/html": [
              "<pre style=\"white-space:pre;overflow-x:auto;line-height:normal;font-family:Menlo,'DejaVu Sans Mono',consolas,'Courier New',monospace\">Epoch: <span style=\"color: #008080; text-decoration-color: #008080; font-weight: bold\">378</span>, Train loss: <span style=\"color: #008080; text-decoration-color: #008080; font-weight: bold\">0.011</span>, Val loss: <span style=\"color: #008080; text-decoration-color: #008080; font-weight: bold\">0.143</span>, Epoch time = <span style=\"color: #008080; text-decoration-color: #008080; font-weight: bold\">91.</span>653s\n",
              "</pre>\n"
            ],
            "text/plain": [
              "Epoch: \u001b[1;36m378\u001b[0m, Train loss: \u001b[1;36m0.011\u001b[0m, Val loss: \u001b[1;36m0.143\u001b[0m, Epoch time = \u001b[1;36m91.\u001b[0m653s\n"
            ]
          },
          "metadata": {
            "tags": []
          }
        },
        {
          "output_type": "display_data",
          "data": {
            "text/html": [
              "<pre style=\"white-space:pre;overflow-x:auto;line-height:normal;font-family:Menlo,'DejaVu Sans Mono',consolas,'Courier New',monospace\">Epoch: <span style=\"color: #008080; text-decoration-color: #008080; font-weight: bold\">379</span>, Train loss: <span style=\"color: #008080; text-decoration-color: #008080; font-weight: bold\">0.011</span>, Val loss: <span style=\"color: #008080; text-decoration-color: #008080; font-weight: bold\">0.145</span>, Epoch time = <span style=\"color: #008080; text-decoration-color: #008080; font-weight: bold\">91.</span>728s\n",
              "</pre>\n"
            ],
            "text/plain": [
              "Epoch: \u001b[1;36m379\u001b[0m, Train loss: \u001b[1;36m0.011\u001b[0m, Val loss: \u001b[1;36m0.145\u001b[0m, Epoch time = \u001b[1;36m91.\u001b[0m728s\n"
            ]
          },
          "metadata": {
            "tags": []
          }
        },
        {
          "output_type": "display_data",
          "data": {
            "text/html": [
              "<pre style=\"white-space:pre;overflow-x:auto;line-height:normal;font-family:Menlo,'DejaVu Sans Mono',consolas,'Courier New',monospace\">Epoch: <span style=\"color: #008080; text-decoration-color: #008080; font-weight: bold\">380</span>, Train loss: <span style=\"color: #008080; text-decoration-color: #008080; font-weight: bold\">0.011</span>, Val loss: <span style=\"color: #008080; text-decoration-color: #008080; font-weight: bold\">0.145</span>, Epoch time = <span style=\"color: #008080; text-decoration-color: #008080; font-weight: bold\">91.</span>532s\n",
              "</pre>\n"
            ],
            "text/plain": [
              "Epoch: \u001b[1;36m380\u001b[0m, Train loss: \u001b[1;36m0.011\u001b[0m, Val loss: \u001b[1;36m0.145\u001b[0m, Epoch time = \u001b[1;36m91.\u001b[0m532s\n"
            ]
          },
          "metadata": {
            "tags": []
          }
        },
        {
          "output_type": "display_data",
          "data": {
            "text/html": [
              "<pre style=\"white-space:pre;overflow-x:auto;line-height:normal;font-family:Menlo,'DejaVu Sans Mono',consolas,'Courier New',monospace\">Epoch: <span style=\"color: #008080; text-decoration-color: #008080; font-weight: bold\">381</span>, Train loss: <span style=\"color: #008080; text-decoration-color: #008080; font-weight: bold\">0.011</span>, Val loss: <span style=\"color: #008080; text-decoration-color: #008080; font-weight: bold\">0.143</span>, Epoch time = <span style=\"color: #008080; text-decoration-color: #008080; font-weight: bold\">91.</span>572s\n",
              "</pre>\n"
            ],
            "text/plain": [
              "Epoch: \u001b[1;36m381\u001b[0m, Train loss: \u001b[1;36m0.011\u001b[0m, Val loss: \u001b[1;36m0.143\u001b[0m, Epoch time = \u001b[1;36m91.\u001b[0m572s\n"
            ]
          },
          "metadata": {
            "tags": []
          }
        },
        {
          "output_type": "display_data",
          "data": {
            "text/html": [
              "<pre style=\"white-space:pre;overflow-x:auto;line-height:normal;font-family:Menlo,'DejaVu Sans Mono',consolas,'Courier New',monospace\">Epoch: <span style=\"color: #008080; text-decoration-color: #008080; font-weight: bold\">382</span>, Train loss: <span style=\"color: #008080; text-decoration-color: #008080; font-weight: bold\">0.011</span>, Val loss: <span style=\"color: #008080; text-decoration-color: #008080; font-weight: bold\">0.147</span>, Epoch time = <span style=\"color: #008080; text-decoration-color: #008080; font-weight: bold\">91.</span>708s\n",
              "</pre>\n"
            ],
            "text/plain": [
              "Epoch: \u001b[1;36m382\u001b[0m, Train loss: \u001b[1;36m0.011\u001b[0m, Val loss: \u001b[1;36m0.147\u001b[0m, Epoch time = \u001b[1;36m91.\u001b[0m708s\n"
            ]
          },
          "metadata": {
            "tags": []
          }
        },
        {
          "output_type": "display_data",
          "data": {
            "text/html": [
              "<pre style=\"white-space:pre;overflow-x:auto;line-height:normal;font-family:Menlo,'DejaVu Sans Mono',consolas,'Courier New',monospace\">Epoch: <span style=\"color: #008080; text-decoration-color: #008080; font-weight: bold\">383</span>, Train loss: <span style=\"color: #008080; text-decoration-color: #008080; font-weight: bold\">0.011</span>, Val loss: <span style=\"color: #008080; text-decoration-color: #008080; font-weight: bold\">0.143</span>, Epoch time = <span style=\"color: #008080; text-decoration-color: #008080; font-weight: bold\">92.</span>174s\n",
              "</pre>\n"
            ],
            "text/plain": [
              "Epoch: \u001b[1;36m383\u001b[0m, Train loss: \u001b[1;36m0.011\u001b[0m, Val loss: \u001b[1;36m0.143\u001b[0m, Epoch time = \u001b[1;36m92.\u001b[0m174s\n"
            ]
          },
          "metadata": {
            "tags": []
          }
        },
        {
          "output_type": "display_data",
          "data": {
            "text/html": [
              "<pre style=\"white-space:pre;overflow-x:auto;line-height:normal;font-family:Menlo,'DejaVu Sans Mono',consolas,'Courier New',monospace\">Epoch: <span style=\"color: #008080; text-decoration-color: #008080; font-weight: bold\">384</span>, Train loss: <span style=\"color: #008080; text-decoration-color: #008080; font-weight: bold\">0.011</span>, Val loss: <span style=\"color: #008080; text-decoration-color: #008080; font-weight: bold\">0.147</span>, Epoch time = <span style=\"color: #008080; text-decoration-color: #008080; font-weight: bold\">92.</span>242s\n",
              "</pre>\n"
            ],
            "text/plain": [
              "Epoch: \u001b[1;36m384\u001b[0m, Train loss: \u001b[1;36m0.011\u001b[0m, Val loss: \u001b[1;36m0.147\u001b[0m, Epoch time = \u001b[1;36m92.\u001b[0m242s\n"
            ]
          },
          "metadata": {
            "tags": []
          }
        },
        {
          "output_type": "display_data",
          "data": {
            "text/html": [
              "<pre style=\"white-space:pre;overflow-x:auto;line-height:normal;font-family:Menlo,'DejaVu Sans Mono',consolas,'Courier New',monospace\">Epoch: <span style=\"color: #008080; text-decoration-color: #008080; font-weight: bold\">385</span>, Train loss: <span style=\"color: #008080; text-decoration-color: #008080; font-weight: bold\">0.011</span>, Val loss: <span style=\"color: #008080; text-decoration-color: #008080; font-weight: bold\">0.143</span>, Epoch time = <span style=\"color: #008080; text-decoration-color: #008080; font-weight: bold\">91.</span>565s\n",
              "</pre>\n"
            ],
            "text/plain": [
              "Epoch: \u001b[1;36m385\u001b[0m, Train loss: \u001b[1;36m0.011\u001b[0m, Val loss: \u001b[1;36m0.143\u001b[0m, Epoch time = \u001b[1;36m91.\u001b[0m565s\n"
            ]
          },
          "metadata": {
            "tags": []
          }
        },
        {
          "output_type": "display_data",
          "data": {
            "text/html": [
              "<pre style=\"white-space:pre;overflow-x:auto;line-height:normal;font-family:Menlo,'DejaVu Sans Mono',consolas,'Courier New',monospace\">Epoch: <span style=\"color: #008080; text-decoration-color: #008080; font-weight: bold\">386</span>, Train loss: <span style=\"color: #008080; text-decoration-color: #008080; font-weight: bold\">0.011</span>, Val loss: <span style=\"color: #008080; text-decoration-color: #008080; font-weight: bold\">0.149</span>, Epoch time = <span style=\"color: #008080; text-decoration-color: #008080; font-weight: bold\">92.</span>208s\n",
              "</pre>\n"
            ],
            "text/plain": [
              "Epoch: \u001b[1;36m386\u001b[0m, Train loss: \u001b[1;36m0.011\u001b[0m, Val loss: \u001b[1;36m0.149\u001b[0m, Epoch time = \u001b[1;36m92.\u001b[0m208s\n"
            ]
          },
          "metadata": {
            "tags": []
          }
        },
        {
          "output_type": "display_data",
          "data": {
            "text/html": [
              "<pre style=\"white-space:pre;overflow-x:auto;line-height:normal;font-family:Menlo,'DejaVu Sans Mono',consolas,'Courier New',monospace\">Epoch: <span style=\"color: #008080; text-decoration-color: #008080; font-weight: bold\">387</span>, Train loss: <span style=\"color: #008080; text-decoration-color: #008080; font-weight: bold\">0.011</span>, Val loss: <span style=\"color: #008080; text-decoration-color: #008080; font-weight: bold\">0.144</span>, Epoch time = <span style=\"color: #008080; text-decoration-color: #008080; font-weight: bold\">92.</span>410s\n",
              "</pre>\n"
            ],
            "text/plain": [
              "Epoch: \u001b[1;36m387\u001b[0m, Train loss: \u001b[1;36m0.011\u001b[0m, Val loss: \u001b[1;36m0.144\u001b[0m, Epoch time = \u001b[1;36m92.\u001b[0m410s\n"
            ]
          },
          "metadata": {
            "tags": []
          }
        },
        {
          "output_type": "display_data",
          "data": {
            "text/html": [
              "<pre style=\"white-space:pre;overflow-x:auto;line-height:normal;font-family:Menlo,'DejaVu Sans Mono',consolas,'Courier New',monospace\">Epoch: <span style=\"color: #008080; text-decoration-color: #008080; font-weight: bold\">388</span>, Train loss: <span style=\"color: #008080; text-decoration-color: #008080; font-weight: bold\">0.011</span>, Val loss: <span style=\"color: #008080; text-decoration-color: #008080; font-weight: bold\">0.143</span>, Epoch time = <span style=\"color: #008080; text-decoration-color: #008080; font-weight: bold\">91.</span>216s\n",
              "</pre>\n"
            ],
            "text/plain": [
              "Epoch: \u001b[1;36m388\u001b[0m, Train loss: \u001b[1;36m0.011\u001b[0m, Val loss: \u001b[1;36m0.143\u001b[0m, Epoch time = \u001b[1;36m91.\u001b[0m216s\n"
            ]
          },
          "metadata": {
            "tags": []
          }
        },
        {
          "output_type": "display_data",
          "data": {
            "text/html": [
              "<pre style=\"white-space:pre;overflow-x:auto;line-height:normal;font-family:Menlo,'DejaVu Sans Mono',consolas,'Courier New',monospace\">Epoch: <span style=\"color: #008080; text-decoration-color: #008080; font-weight: bold\">389</span>, Train loss: <span style=\"color: #008080; text-decoration-color: #008080; font-weight: bold\">0.010</span>, Val loss: <span style=\"color: #008080; text-decoration-color: #008080; font-weight: bold\">0.145</span>, Epoch time = <span style=\"color: #008080; text-decoration-color: #008080; font-weight: bold\">91.</span>763s\n",
              "</pre>\n"
            ],
            "text/plain": [
              "Epoch: \u001b[1;36m389\u001b[0m, Train loss: \u001b[1;36m0.010\u001b[0m, Val loss: \u001b[1;36m0.145\u001b[0m, Epoch time = \u001b[1;36m91.\u001b[0m763s\n"
            ]
          },
          "metadata": {
            "tags": []
          }
        },
        {
          "output_type": "display_data",
          "data": {
            "text/html": [
              "<pre style=\"white-space:pre;overflow-x:auto;line-height:normal;font-family:Menlo,'DejaVu Sans Mono',consolas,'Courier New',monospace\">Epoch: <span style=\"color: #008080; text-decoration-color: #008080; font-weight: bold\">390</span>, Train loss: <span style=\"color: #008080; text-decoration-color: #008080; font-weight: bold\">0.011</span>, Val loss: <span style=\"color: #008080; text-decoration-color: #008080; font-weight: bold\">0.144</span>, Epoch time = <span style=\"color: #008080; text-decoration-color: #008080; font-weight: bold\">91.</span>531s\n",
              "</pre>\n"
            ],
            "text/plain": [
              "Epoch: \u001b[1;36m390\u001b[0m, Train loss: \u001b[1;36m0.011\u001b[0m, Val loss: \u001b[1;36m0.144\u001b[0m, Epoch time = \u001b[1;36m91.\u001b[0m531s\n"
            ]
          },
          "metadata": {
            "tags": []
          }
        },
        {
          "output_type": "display_data",
          "data": {
            "text/html": [
              "<pre style=\"white-space:pre;overflow-x:auto;line-height:normal;font-family:Menlo,'DejaVu Sans Mono',consolas,'Courier New',monospace\">Epoch: <span style=\"color: #008080; text-decoration-color: #008080; font-weight: bold\">391</span>, Train loss: <span style=\"color: #008080; text-decoration-color: #008080; font-weight: bold\">0.010</span>, Val loss: <span style=\"color: #008080; text-decoration-color: #008080; font-weight: bold\">0.142</span>, Epoch time = <span style=\"color: #008080; text-decoration-color: #008080; font-weight: bold\">92.</span>037s\n",
              "</pre>\n"
            ],
            "text/plain": [
              "Epoch: \u001b[1;36m391\u001b[0m, Train loss: \u001b[1;36m0.010\u001b[0m, Val loss: \u001b[1;36m0.142\u001b[0m, Epoch time = \u001b[1;36m92.\u001b[0m037s\n"
            ]
          },
          "metadata": {
            "tags": []
          }
        },
        {
          "output_type": "display_data",
          "data": {
            "text/html": [
              "<pre style=\"white-space:pre;overflow-x:auto;line-height:normal;font-family:Menlo,'DejaVu Sans Mono',consolas,'Courier New',monospace\">Epoch: <span style=\"color: #008080; text-decoration-color: #008080; font-weight: bold\">392</span>, Train loss: <span style=\"color: #008080; text-decoration-color: #008080; font-weight: bold\">0.010</span>, Val loss: <span style=\"color: #008080; text-decoration-color: #008080; font-weight: bold\">0.145</span>, Epoch time = <span style=\"color: #008080; text-decoration-color: #008080; font-weight: bold\">92.</span>184s\n",
              "</pre>\n"
            ],
            "text/plain": [
              "Epoch: \u001b[1;36m392\u001b[0m, Train loss: \u001b[1;36m0.010\u001b[0m, Val loss: \u001b[1;36m0.145\u001b[0m, Epoch time = \u001b[1;36m92.\u001b[0m184s\n"
            ]
          },
          "metadata": {
            "tags": []
          }
        },
        {
          "output_type": "display_data",
          "data": {
            "text/html": [
              "<pre style=\"white-space:pre;overflow-x:auto;line-height:normal;font-family:Menlo,'DejaVu Sans Mono',consolas,'Courier New',monospace\">Epoch: <span style=\"color: #008080; text-decoration-color: #008080; font-weight: bold\">393</span>, Train loss: <span style=\"color: #008080; text-decoration-color: #008080; font-weight: bold\">0.011</span>, Val loss: <span style=\"color: #008080; text-decoration-color: #008080; font-weight: bold\">0.144</span>, Epoch time = <span style=\"color: #008080; text-decoration-color: #008080; font-weight: bold\">91.</span>365s\n",
              "</pre>\n"
            ],
            "text/plain": [
              "Epoch: \u001b[1;36m393\u001b[0m, Train loss: \u001b[1;36m0.011\u001b[0m, Val loss: \u001b[1;36m0.144\u001b[0m, Epoch time = \u001b[1;36m91.\u001b[0m365s\n"
            ]
          },
          "metadata": {
            "tags": []
          }
        },
        {
          "output_type": "display_data",
          "data": {
            "text/html": [
              "<pre style=\"white-space:pre;overflow-x:auto;line-height:normal;font-family:Menlo,'DejaVu Sans Mono',consolas,'Courier New',monospace\">Epoch: <span style=\"color: #008080; text-decoration-color: #008080; font-weight: bold\">394</span>, Train loss: <span style=\"color: #008080; text-decoration-color: #008080; font-weight: bold\">0.010</span>, Val loss: <span style=\"color: #008080; text-decoration-color: #008080; font-weight: bold\">0.149</span>, Epoch time = <span style=\"color: #008080; text-decoration-color: #008080; font-weight: bold\">91.</span>106s\n",
              "</pre>\n"
            ],
            "text/plain": [
              "Epoch: \u001b[1;36m394\u001b[0m, Train loss: \u001b[1;36m0.010\u001b[0m, Val loss: \u001b[1;36m0.149\u001b[0m, Epoch time = \u001b[1;36m91.\u001b[0m106s\n"
            ]
          },
          "metadata": {
            "tags": []
          }
        },
        {
          "output_type": "display_data",
          "data": {
            "text/html": [
              "<pre style=\"white-space:pre;overflow-x:auto;line-height:normal;font-family:Menlo,'DejaVu Sans Mono',consolas,'Courier New',monospace\">Epoch: <span style=\"color: #008080; text-decoration-color: #008080; font-weight: bold\">395</span>, Train loss: <span style=\"color: #008080; text-decoration-color: #008080; font-weight: bold\">0.011</span>, Val loss: <span style=\"color: #008080; text-decoration-color: #008080; font-weight: bold\">0.142</span>, Epoch time = <span style=\"color: #008080; text-decoration-color: #008080; font-weight: bold\">91.</span>844s\n",
              "</pre>\n"
            ],
            "text/plain": [
              "Epoch: \u001b[1;36m395\u001b[0m, Train loss: \u001b[1;36m0.011\u001b[0m, Val loss: \u001b[1;36m0.142\u001b[0m, Epoch time = \u001b[1;36m91.\u001b[0m844s\n"
            ]
          },
          "metadata": {
            "tags": []
          }
        },
        {
          "output_type": "display_data",
          "data": {
            "text/html": [
              "<pre style=\"white-space:pre;overflow-x:auto;line-height:normal;font-family:Menlo,'DejaVu Sans Mono',consolas,'Courier New',monospace\">Epoch: <span style=\"color: #008080; text-decoration-color: #008080; font-weight: bold\">396</span>, Train loss: <span style=\"color: #008080; text-decoration-color: #008080; font-weight: bold\">0.011</span>, Val loss: <span style=\"color: #008080; text-decoration-color: #008080; font-weight: bold\">0.146</span>, Epoch time = <span style=\"color: #008080; text-decoration-color: #008080; font-weight: bold\">92.</span>502s\n",
              "</pre>\n"
            ],
            "text/plain": [
              "Epoch: \u001b[1;36m396\u001b[0m, Train loss: \u001b[1;36m0.011\u001b[0m, Val loss: \u001b[1;36m0.146\u001b[0m, Epoch time = \u001b[1;36m92.\u001b[0m502s\n"
            ]
          },
          "metadata": {
            "tags": []
          }
        },
        {
          "output_type": "display_data",
          "data": {
            "text/html": [
              "<pre style=\"white-space:pre;overflow-x:auto;line-height:normal;font-family:Menlo,'DejaVu Sans Mono',consolas,'Courier New',monospace\">Epoch: <span style=\"color: #008080; text-decoration-color: #008080; font-weight: bold\">397</span>, Train loss: <span style=\"color: #008080; text-decoration-color: #008080; font-weight: bold\">0.010</span>, Val loss: <span style=\"color: #008080; text-decoration-color: #008080; font-weight: bold\">0.147</span>, Epoch time = <span style=\"color: #008080; text-decoration-color: #008080; font-weight: bold\">91.</span>947s\n",
              "</pre>\n"
            ],
            "text/plain": [
              "Epoch: \u001b[1;36m397\u001b[0m, Train loss: \u001b[1;36m0.010\u001b[0m, Val loss: \u001b[1;36m0.147\u001b[0m, Epoch time = \u001b[1;36m91.\u001b[0m947s\n"
            ]
          },
          "metadata": {
            "tags": []
          }
        },
        {
          "output_type": "display_data",
          "data": {
            "text/html": [
              "<pre style=\"white-space:pre;overflow-x:auto;line-height:normal;font-family:Menlo,'DejaVu Sans Mono',consolas,'Courier New',monospace\">Epoch: <span style=\"color: #008080; text-decoration-color: #008080; font-weight: bold\">398</span>, Train loss: <span style=\"color: #008080; text-decoration-color: #008080; font-weight: bold\">0.010</span>, Val loss: <span style=\"color: #008080; text-decoration-color: #008080; font-weight: bold\">0.143</span>, Epoch time = <span style=\"color: #008080; text-decoration-color: #008080; font-weight: bold\">92.</span>231s\n",
              "</pre>\n"
            ],
            "text/plain": [
              "Epoch: \u001b[1;36m398\u001b[0m, Train loss: \u001b[1;36m0.010\u001b[0m, Val loss: \u001b[1;36m0.143\u001b[0m, Epoch time = \u001b[1;36m92.\u001b[0m231s\n"
            ]
          },
          "metadata": {
            "tags": []
          }
        },
        {
          "output_type": "display_data",
          "data": {
            "text/html": [
              "<pre style=\"white-space:pre;overflow-x:auto;line-height:normal;font-family:Menlo,'DejaVu Sans Mono',consolas,'Courier New',monospace\">Epoch: <span style=\"color: #008080; text-decoration-color: #008080; font-weight: bold\">399</span>, Train loss: <span style=\"color: #008080; text-decoration-color: #008080; font-weight: bold\">0.010</span>, Val loss: <span style=\"color: #008080; text-decoration-color: #008080; font-weight: bold\">0.144</span>, Epoch time = <span style=\"color: #008080; text-decoration-color: #008080; font-weight: bold\">91.</span>561s\n",
              "</pre>\n"
            ],
            "text/plain": [
              "Epoch: \u001b[1;36m399\u001b[0m, Train loss: \u001b[1;36m0.010\u001b[0m, Val loss: \u001b[1;36m0.144\u001b[0m, Epoch time = \u001b[1;36m91.\u001b[0m561s\n"
            ]
          },
          "metadata": {
            "tags": []
          }
        },
        {
          "output_type": "display_data",
          "data": {
            "text/html": [
              "<pre style=\"white-space:pre;overflow-x:auto;line-height:normal;font-family:Menlo,'DejaVu Sans Mono',consolas,'Courier New',monospace\">true\n",
              "</pre>\n"
            ],
            "text/plain": [
              "true\n"
            ]
          },
          "metadata": {
            "tags": []
          }
        },
        {
          "output_type": "display_data",
          "data": {
            "text/html": [
              "<pre style=\"white-space:pre;overflow-x:auto;line-height:normal;font-family:Menlo,'DejaVu Sans Mono',consolas,'Courier New',monospace\">=&gt; Saving checkpoint\n",
              "</pre>\n"
            ],
            "text/plain": [
              "=> Saving checkpoint\n"
            ]
          },
          "metadata": {
            "tags": []
          }
        },
        {
          "output_type": "display_data",
          "data": {
            "text/html": [
              "<pre style=\"white-space:pre;overflow-x:auto;line-height:normal;font-family:Menlo,'DejaVu Sans Mono',consolas,'Courier New',monospace\">Epoch: <span style=\"color: #008080; text-decoration-color: #008080; font-weight: bold\">400</span>, Train loss: <span style=\"color: #008080; text-decoration-color: #008080; font-weight: bold\">0.010</span>, Val loss: <span style=\"color: #008080; text-decoration-color: #008080; font-weight: bold\">0.142</span>, Epoch time = <span style=\"color: #008080; text-decoration-color: #008080; font-weight: bold\">91.</span>587s\n",
              "</pre>\n"
            ],
            "text/plain": [
              "Epoch: \u001b[1;36m400\u001b[0m, Train loss: \u001b[1;36m0.010\u001b[0m, Val loss: \u001b[1;36m0.142\u001b[0m, Epoch time = \u001b[1;36m91.\u001b[0m587s\n"
            ]
          },
          "metadata": {
            "tags": []
          }
        },
        {
          "output_type": "display_data",
          "data": {
            "text/html": [
              "<pre style=\"white-space:pre;overflow-x:auto;line-height:normal;font-family:Menlo,'DejaVu Sans Mono',consolas,'Courier New',monospace\">Epoch: <span style=\"color: #008080; text-decoration-color: #008080; font-weight: bold\">401</span>, Train loss: <span style=\"color: #008080; text-decoration-color: #008080; font-weight: bold\">0.010</span>, Val loss: <span style=\"color: #008080; text-decoration-color: #008080; font-weight: bold\">0.143</span>, Epoch time = <span style=\"color: #008080; text-decoration-color: #008080; font-weight: bold\">92.</span>219s\n",
              "</pre>\n"
            ],
            "text/plain": [
              "Epoch: \u001b[1;36m401\u001b[0m, Train loss: \u001b[1;36m0.010\u001b[0m, Val loss: \u001b[1;36m0.143\u001b[0m, Epoch time = \u001b[1;36m92.\u001b[0m219s\n"
            ]
          },
          "metadata": {
            "tags": []
          }
        },
        {
          "output_type": "display_data",
          "data": {
            "text/html": [
              "<pre style=\"white-space:pre;overflow-x:auto;line-height:normal;font-family:Menlo,'DejaVu Sans Mono',consolas,'Courier New',monospace\">Epoch: <span style=\"color: #008080; text-decoration-color: #008080; font-weight: bold\">402</span>, Train loss: <span style=\"color: #008080; text-decoration-color: #008080; font-weight: bold\">0.010</span>, Val loss: <span style=\"color: #008080; text-decoration-color: #008080; font-weight: bold\">0.144</span>, Epoch time = <span style=\"color: #008080; text-decoration-color: #008080; font-weight: bold\">91.</span>416s\n",
              "</pre>\n"
            ],
            "text/plain": [
              "Epoch: \u001b[1;36m402\u001b[0m, Train loss: \u001b[1;36m0.010\u001b[0m, Val loss: \u001b[1;36m0.144\u001b[0m, Epoch time = \u001b[1;36m91.\u001b[0m416s\n"
            ]
          },
          "metadata": {
            "tags": []
          }
        },
        {
          "output_type": "display_data",
          "data": {
            "text/html": [
              "<pre style=\"white-space:pre;overflow-x:auto;line-height:normal;font-family:Menlo,'DejaVu Sans Mono',consolas,'Courier New',monospace\">Epoch: <span style=\"color: #008080; text-decoration-color: #008080; font-weight: bold\">403</span>, Train loss: <span style=\"color: #008080; text-decoration-color: #008080; font-weight: bold\">0.010</span>, Val loss: <span style=\"color: #008080; text-decoration-color: #008080; font-weight: bold\">0.143</span>, Epoch time = <span style=\"color: #008080; text-decoration-color: #008080; font-weight: bold\">92.</span>194s\n",
              "</pre>\n"
            ],
            "text/plain": [
              "Epoch: \u001b[1;36m403\u001b[0m, Train loss: \u001b[1;36m0.010\u001b[0m, Val loss: \u001b[1;36m0.143\u001b[0m, Epoch time = \u001b[1;36m92.\u001b[0m194s\n"
            ]
          },
          "metadata": {
            "tags": []
          }
        },
        {
          "output_type": "display_data",
          "data": {
            "text/html": [
              "<pre style=\"white-space:pre;overflow-x:auto;line-height:normal;font-family:Menlo,'DejaVu Sans Mono',consolas,'Courier New',monospace\">Epoch: <span style=\"color: #008080; text-decoration-color: #008080; font-weight: bold\">404</span>, Train loss: <span style=\"color: #008080; text-decoration-color: #008080; font-weight: bold\">0.010</span>, Val loss: <span style=\"color: #008080; text-decoration-color: #008080; font-weight: bold\">0.145</span>, Epoch time = <span style=\"color: #008080; text-decoration-color: #008080; font-weight: bold\">92.</span>074s\n",
              "</pre>\n"
            ],
            "text/plain": [
              "Epoch: \u001b[1;36m404\u001b[0m, Train loss: \u001b[1;36m0.010\u001b[0m, Val loss: \u001b[1;36m0.145\u001b[0m, Epoch time = \u001b[1;36m92.\u001b[0m074s\n"
            ]
          },
          "metadata": {
            "tags": []
          }
        },
        {
          "output_type": "display_data",
          "data": {
            "text/html": [
              "<pre style=\"white-space:pre;overflow-x:auto;line-height:normal;font-family:Menlo,'DejaVu Sans Mono',consolas,'Courier New',monospace\">Epoch: <span style=\"color: #008080; text-decoration-color: #008080; font-weight: bold\">405</span>, Train loss: <span style=\"color: #008080; text-decoration-color: #008080; font-weight: bold\">0.010</span>, Val loss: <span style=\"color: #008080; text-decoration-color: #008080; font-weight: bold\">0.147</span>, Epoch time = <span style=\"color: #008080; text-decoration-color: #008080; font-weight: bold\">91.</span>574s\n",
              "</pre>\n"
            ],
            "text/plain": [
              "Epoch: \u001b[1;36m405\u001b[0m, Train loss: \u001b[1;36m0.010\u001b[0m, Val loss: \u001b[1;36m0.147\u001b[0m, Epoch time = \u001b[1;36m91.\u001b[0m574s\n"
            ]
          },
          "metadata": {
            "tags": []
          }
        },
        {
          "output_type": "display_data",
          "data": {
            "text/html": [
              "<pre style=\"white-space:pre;overflow-x:auto;line-height:normal;font-family:Menlo,'DejaVu Sans Mono',consolas,'Courier New',monospace\">Epoch: <span style=\"color: #008080; text-decoration-color: #008080; font-weight: bold\">406</span>, Train loss: <span style=\"color: #008080; text-decoration-color: #008080; font-weight: bold\">0.010</span>, Val loss: <span style=\"color: #008080; text-decoration-color: #008080; font-weight: bold\">0.144</span>, Epoch time = <span style=\"color: #008080; text-decoration-color: #008080; font-weight: bold\">92.</span>199s\n",
              "</pre>\n"
            ],
            "text/plain": [
              "Epoch: \u001b[1;36m406\u001b[0m, Train loss: \u001b[1;36m0.010\u001b[0m, Val loss: \u001b[1;36m0.144\u001b[0m, Epoch time = \u001b[1;36m92.\u001b[0m199s\n"
            ]
          },
          "metadata": {
            "tags": []
          }
        },
        {
          "output_type": "display_data",
          "data": {
            "text/html": [
              "<pre style=\"white-space:pre;overflow-x:auto;line-height:normal;font-family:Menlo,'DejaVu Sans Mono',consolas,'Courier New',monospace\">Epoch: <span style=\"color: #008080; text-decoration-color: #008080; font-weight: bold\">407</span>, Train loss: <span style=\"color: #008080; text-decoration-color: #008080; font-weight: bold\">0.010</span>, Val loss: <span style=\"color: #008080; text-decoration-color: #008080; font-weight: bold\">0.154</span>, Epoch time = <span style=\"color: #008080; text-decoration-color: #008080; font-weight: bold\">91.</span>953s\n",
              "</pre>\n"
            ],
            "text/plain": [
              "Epoch: \u001b[1;36m407\u001b[0m, Train loss: \u001b[1;36m0.010\u001b[0m, Val loss: \u001b[1;36m0.154\u001b[0m, Epoch time = \u001b[1;36m91.\u001b[0m953s\n"
            ]
          },
          "metadata": {
            "tags": []
          }
        },
        {
          "output_type": "display_data",
          "data": {
            "text/html": [
              "<pre style=\"white-space:pre;overflow-x:auto;line-height:normal;font-family:Menlo,'DejaVu Sans Mono',consolas,'Courier New',monospace\">Epoch: <span style=\"color: #008080; text-decoration-color: #008080; font-weight: bold\">408</span>, Train loss: <span style=\"color: #008080; text-decoration-color: #008080; font-weight: bold\">0.010</span>, Val loss: <span style=\"color: #008080; text-decoration-color: #008080; font-weight: bold\">0.148</span>, Epoch time = <span style=\"color: #008080; text-decoration-color: #008080; font-weight: bold\">91.</span>996s\n",
              "</pre>\n"
            ],
            "text/plain": [
              "Epoch: \u001b[1;36m408\u001b[0m, Train loss: \u001b[1;36m0.010\u001b[0m, Val loss: \u001b[1;36m0.148\u001b[0m, Epoch time = \u001b[1;36m91.\u001b[0m996s\n"
            ]
          },
          "metadata": {
            "tags": []
          }
        },
        {
          "output_type": "display_data",
          "data": {
            "text/html": [
              "<pre style=\"white-space:pre;overflow-x:auto;line-height:normal;font-family:Menlo,'DejaVu Sans Mono',consolas,'Courier New',monospace\">Epoch: <span style=\"color: #008080; text-decoration-color: #008080; font-weight: bold\">409</span>, Train loss: <span style=\"color: #008080; text-decoration-color: #008080; font-weight: bold\">0.010</span>, Val loss: <span style=\"color: #008080; text-decoration-color: #008080; font-weight: bold\">0.146</span>, Epoch time = <span style=\"color: #008080; text-decoration-color: #008080; font-weight: bold\">91.</span>507s\n",
              "</pre>\n"
            ],
            "text/plain": [
              "Epoch: \u001b[1;36m409\u001b[0m, Train loss: \u001b[1;36m0.010\u001b[0m, Val loss: \u001b[1;36m0.146\u001b[0m, Epoch time = \u001b[1;36m91.\u001b[0m507s\n"
            ]
          },
          "metadata": {
            "tags": []
          }
        },
        {
          "output_type": "display_data",
          "data": {
            "text/html": [
              "<pre style=\"white-space:pre;overflow-x:auto;line-height:normal;font-family:Menlo,'DejaVu Sans Mono',consolas,'Courier New',monospace\">Epoch: <span style=\"color: #008080; text-decoration-color: #008080; font-weight: bold\">410</span>, Train loss: <span style=\"color: #008080; text-decoration-color: #008080; font-weight: bold\">0.010</span>, Val loss: <span style=\"color: #008080; text-decoration-color: #008080; font-weight: bold\">0.148</span>, Epoch time = <span style=\"color: #008080; text-decoration-color: #008080; font-weight: bold\">92.</span>139s\n",
              "</pre>\n"
            ],
            "text/plain": [
              "Epoch: \u001b[1;36m410\u001b[0m, Train loss: \u001b[1;36m0.010\u001b[0m, Val loss: \u001b[1;36m0.148\u001b[0m, Epoch time = \u001b[1;36m92.\u001b[0m139s\n"
            ]
          },
          "metadata": {
            "tags": []
          }
        },
        {
          "output_type": "display_data",
          "data": {
            "text/html": [
              "<pre style=\"white-space:pre;overflow-x:auto;line-height:normal;font-family:Menlo,'DejaVu Sans Mono',consolas,'Courier New',monospace\">Epoch: <span style=\"color: #008080; text-decoration-color: #008080; font-weight: bold\">411</span>, Train loss: <span style=\"color: #008080; text-decoration-color: #008080; font-weight: bold\">0.010</span>, Val loss: <span style=\"color: #008080; text-decoration-color: #008080; font-weight: bold\">0.142</span>, Epoch time = <span style=\"color: #008080; text-decoration-color: #008080; font-weight: bold\">91.</span>790s\n",
              "</pre>\n"
            ],
            "text/plain": [
              "Epoch: \u001b[1;36m411\u001b[0m, Train loss: \u001b[1;36m0.010\u001b[0m, Val loss: \u001b[1;36m0.142\u001b[0m, Epoch time = \u001b[1;36m91.\u001b[0m790s\n"
            ]
          },
          "metadata": {
            "tags": []
          }
        },
        {
          "output_type": "display_data",
          "data": {
            "text/html": [
              "<pre style=\"white-space:pre;overflow-x:auto;line-height:normal;font-family:Menlo,'DejaVu Sans Mono',consolas,'Courier New',monospace\">Epoch: <span style=\"color: #008080; text-decoration-color: #008080; font-weight: bold\">412</span>, Train loss: <span style=\"color: #008080; text-decoration-color: #008080; font-weight: bold\">0.010</span>, Val loss: <span style=\"color: #008080; text-decoration-color: #008080; font-weight: bold\">0.146</span>, Epoch time = <span style=\"color: #008080; text-decoration-color: #008080; font-weight: bold\">92.</span>217s\n",
              "</pre>\n"
            ],
            "text/plain": [
              "Epoch: \u001b[1;36m412\u001b[0m, Train loss: \u001b[1;36m0.010\u001b[0m, Val loss: \u001b[1;36m0.146\u001b[0m, Epoch time = \u001b[1;36m92.\u001b[0m217s\n"
            ]
          },
          "metadata": {
            "tags": []
          }
        },
        {
          "output_type": "display_data",
          "data": {
            "text/html": [
              "<pre style=\"white-space:pre;overflow-x:auto;line-height:normal;font-family:Menlo,'DejaVu Sans Mono',consolas,'Courier New',monospace\">Epoch: <span style=\"color: #008080; text-decoration-color: #008080; font-weight: bold\">413</span>, Train loss: <span style=\"color: #008080; text-decoration-color: #008080; font-weight: bold\">0.010</span>, Val loss: <span style=\"color: #008080; text-decoration-color: #008080; font-weight: bold\">0.145</span>, Epoch time = <span style=\"color: #008080; text-decoration-color: #008080; font-weight: bold\">92.</span>344s\n",
              "</pre>\n"
            ],
            "text/plain": [
              "Epoch: \u001b[1;36m413\u001b[0m, Train loss: \u001b[1;36m0.010\u001b[0m, Val loss: \u001b[1;36m0.145\u001b[0m, Epoch time = \u001b[1;36m92.\u001b[0m344s\n"
            ]
          },
          "metadata": {
            "tags": []
          }
        },
        {
          "output_type": "display_data",
          "data": {
            "text/html": [
              "<pre style=\"white-space:pre;overflow-x:auto;line-height:normal;font-family:Menlo,'DejaVu Sans Mono',consolas,'Courier New',monospace\">Epoch: <span style=\"color: #008080; text-decoration-color: #008080; font-weight: bold\">414</span>, Train loss: <span style=\"color: #008080; text-decoration-color: #008080; font-weight: bold\">0.010</span>, Val loss: <span style=\"color: #008080; text-decoration-color: #008080; font-weight: bold\">0.148</span>, Epoch time = <span style=\"color: #008080; text-decoration-color: #008080; font-weight: bold\">91.</span>399s\n",
              "</pre>\n"
            ],
            "text/plain": [
              "Epoch: \u001b[1;36m414\u001b[0m, Train loss: \u001b[1;36m0.010\u001b[0m, Val loss: \u001b[1;36m0.148\u001b[0m, Epoch time = \u001b[1;36m91.\u001b[0m399s\n"
            ]
          },
          "metadata": {
            "tags": []
          }
        },
        {
          "output_type": "display_data",
          "data": {
            "text/html": [
              "<pre style=\"white-space:pre;overflow-x:auto;line-height:normal;font-family:Menlo,'DejaVu Sans Mono',consolas,'Courier New',monospace\">Epoch: <span style=\"color: #008080; text-decoration-color: #008080; font-weight: bold\">415</span>, Train loss: <span style=\"color: #008080; text-decoration-color: #008080; font-weight: bold\">0.010</span>, Val loss: <span style=\"color: #008080; text-decoration-color: #008080; font-weight: bold\">0.145</span>, Epoch time = <span style=\"color: #008080; text-decoration-color: #008080; font-weight: bold\">92.</span>303s\n",
              "</pre>\n"
            ],
            "text/plain": [
              "Epoch: \u001b[1;36m415\u001b[0m, Train loss: \u001b[1;36m0.010\u001b[0m, Val loss: \u001b[1;36m0.145\u001b[0m, Epoch time = \u001b[1;36m92.\u001b[0m303s\n"
            ]
          },
          "metadata": {
            "tags": []
          }
        },
        {
          "output_type": "display_data",
          "data": {
            "text/html": [
              "<pre style=\"white-space:pre;overflow-x:auto;line-height:normal;font-family:Menlo,'DejaVu Sans Mono',consolas,'Courier New',monospace\">Epoch: <span style=\"color: #008080; text-decoration-color: #008080; font-weight: bold\">416</span>, Train loss: <span style=\"color: #008080; text-decoration-color: #008080; font-weight: bold\">0.010</span>, Val loss: <span style=\"color: #008080; text-decoration-color: #008080; font-weight: bold\">0.147</span>, Epoch time = <span style=\"color: #008080; text-decoration-color: #008080; font-weight: bold\">91.</span>782s\n",
              "</pre>\n"
            ],
            "text/plain": [
              "Epoch: \u001b[1;36m416\u001b[0m, Train loss: \u001b[1;36m0.010\u001b[0m, Val loss: \u001b[1;36m0.147\u001b[0m, Epoch time = \u001b[1;36m91.\u001b[0m782s\n"
            ]
          },
          "metadata": {
            "tags": []
          }
        },
        {
          "output_type": "display_data",
          "data": {
            "text/html": [
              "<pre style=\"white-space:pre;overflow-x:auto;line-height:normal;font-family:Menlo,'DejaVu Sans Mono',consolas,'Courier New',monospace\">Epoch: <span style=\"color: #008080; text-decoration-color: #008080; font-weight: bold\">417</span>, Train loss: <span style=\"color: #008080; text-decoration-color: #008080; font-weight: bold\">0.010</span>, Val loss: <span style=\"color: #008080; text-decoration-color: #008080; font-weight: bold\">0.148</span>, Epoch time = <span style=\"color: #008080; text-decoration-color: #008080; font-weight: bold\">92.</span>496s\n",
              "</pre>\n"
            ],
            "text/plain": [
              "Epoch: \u001b[1;36m417\u001b[0m, Train loss: \u001b[1;36m0.010\u001b[0m, Val loss: \u001b[1;36m0.148\u001b[0m, Epoch time = \u001b[1;36m92.\u001b[0m496s\n"
            ]
          },
          "metadata": {
            "tags": []
          }
        },
        {
          "output_type": "display_data",
          "data": {
            "text/html": [
              "<pre style=\"white-space:pre;overflow-x:auto;line-height:normal;font-family:Menlo,'DejaVu Sans Mono',consolas,'Courier New',monospace\">Epoch: <span style=\"color: #008080; text-decoration-color: #008080; font-weight: bold\">418</span>, Train loss: <span style=\"color: #008080; text-decoration-color: #008080; font-weight: bold\">0.010</span>, Val loss: <span style=\"color: #008080; text-decoration-color: #008080; font-weight: bold\">0.147</span>, Epoch time = <span style=\"color: #008080; text-decoration-color: #008080; font-weight: bold\">92.</span>095s\n",
              "</pre>\n"
            ],
            "text/plain": [
              "Epoch: \u001b[1;36m418\u001b[0m, Train loss: \u001b[1;36m0.010\u001b[0m, Val loss: \u001b[1;36m0.147\u001b[0m, Epoch time = \u001b[1;36m92.\u001b[0m095s\n"
            ]
          },
          "metadata": {
            "tags": []
          }
        },
        {
          "output_type": "display_data",
          "data": {
            "text/html": [
              "<pre style=\"white-space:pre;overflow-x:auto;line-height:normal;font-family:Menlo,'DejaVu Sans Mono',consolas,'Courier New',monospace\">Epoch: <span style=\"color: #008080; text-decoration-color: #008080; font-weight: bold\">419</span>, Train loss: <span style=\"color: #008080; text-decoration-color: #008080; font-weight: bold\">0.010</span>, Val loss: <span style=\"color: #008080; text-decoration-color: #008080; font-weight: bold\">0.145</span>, Epoch time = <span style=\"color: #008080; text-decoration-color: #008080; font-weight: bold\">91.</span>800s\n",
              "</pre>\n"
            ],
            "text/plain": [
              "Epoch: \u001b[1;36m419\u001b[0m, Train loss: \u001b[1;36m0.010\u001b[0m, Val loss: \u001b[1;36m0.145\u001b[0m, Epoch time = \u001b[1;36m91.\u001b[0m800s\n"
            ]
          },
          "metadata": {
            "tags": []
          }
        },
        {
          "output_type": "display_data",
          "data": {
            "text/html": [
              "<pre style=\"white-space:pre;overflow-x:auto;line-height:normal;font-family:Menlo,'DejaVu Sans Mono',consolas,'Courier New',monospace\">Epoch: <span style=\"color: #008080; text-decoration-color: #008080; font-weight: bold\">420</span>, Train loss: <span style=\"color: #008080; text-decoration-color: #008080; font-weight: bold\">0.010</span>, Val loss: <span style=\"color: #008080; text-decoration-color: #008080; font-weight: bold\">0.144</span>, Epoch time = <span style=\"color: #008080; text-decoration-color: #008080; font-weight: bold\">92.</span>501s\n",
              "</pre>\n"
            ],
            "text/plain": [
              "Epoch: \u001b[1;36m420\u001b[0m, Train loss: \u001b[1;36m0.010\u001b[0m, Val loss: \u001b[1;36m0.144\u001b[0m, Epoch time = \u001b[1;36m92.\u001b[0m501s\n"
            ]
          },
          "metadata": {
            "tags": []
          }
        },
        {
          "output_type": "display_data",
          "data": {
            "text/html": [
              "<pre style=\"white-space:pre;overflow-x:auto;line-height:normal;font-family:Menlo,'DejaVu Sans Mono',consolas,'Courier New',monospace\">Epoch: <span style=\"color: #008080; text-decoration-color: #008080; font-weight: bold\">421</span>, Train loss: <span style=\"color: #008080; text-decoration-color: #008080; font-weight: bold\">0.010</span>, Val loss: <span style=\"color: #008080; text-decoration-color: #008080; font-weight: bold\">0.141</span>, Epoch time = <span style=\"color: #008080; text-decoration-color: #008080; font-weight: bold\">92.</span>087s\n",
              "</pre>\n"
            ],
            "text/plain": [
              "Epoch: \u001b[1;36m421\u001b[0m, Train loss: \u001b[1;36m0.010\u001b[0m, Val loss: \u001b[1;36m0.141\u001b[0m, Epoch time = \u001b[1;36m92.\u001b[0m087s\n"
            ]
          },
          "metadata": {
            "tags": []
          }
        },
        {
          "output_type": "display_data",
          "data": {
            "text/html": [
              "<pre style=\"white-space:pre;overflow-x:auto;line-height:normal;font-family:Menlo,'DejaVu Sans Mono',consolas,'Courier New',monospace\">Epoch: <span style=\"color: #008080; text-decoration-color: #008080; font-weight: bold\">422</span>, Train loss: <span style=\"color: #008080; text-decoration-color: #008080; font-weight: bold\">0.010</span>, Val loss: <span style=\"color: #008080; text-decoration-color: #008080; font-weight: bold\">0.148</span>, Epoch time = <span style=\"color: #008080; text-decoration-color: #008080; font-weight: bold\">92.</span>284s\n",
              "</pre>\n"
            ],
            "text/plain": [
              "Epoch: \u001b[1;36m422\u001b[0m, Train loss: \u001b[1;36m0.010\u001b[0m, Val loss: \u001b[1;36m0.148\u001b[0m, Epoch time = \u001b[1;36m92.\u001b[0m284s\n"
            ]
          },
          "metadata": {
            "tags": []
          }
        },
        {
          "output_type": "display_data",
          "data": {
            "text/html": [
              "<pre style=\"white-space:pre;overflow-x:auto;line-height:normal;font-family:Menlo,'DejaVu Sans Mono',consolas,'Courier New',monospace\">Epoch: <span style=\"color: #008080; text-decoration-color: #008080; font-weight: bold\">423</span>, Train loss: <span style=\"color: #008080; text-decoration-color: #008080; font-weight: bold\">0.010</span>, Val loss: <span style=\"color: #008080; text-decoration-color: #008080; font-weight: bold\">0.144</span>, Epoch time = <span style=\"color: #008080; text-decoration-color: #008080; font-weight: bold\">92.</span>217s\n",
              "</pre>\n"
            ],
            "text/plain": [
              "Epoch: \u001b[1;36m423\u001b[0m, Train loss: \u001b[1;36m0.010\u001b[0m, Val loss: \u001b[1;36m0.144\u001b[0m, Epoch time = \u001b[1;36m92.\u001b[0m217s\n"
            ]
          },
          "metadata": {
            "tags": []
          }
        },
        {
          "output_type": "display_data",
          "data": {
            "text/html": [
              "<pre style=\"white-space:pre;overflow-x:auto;line-height:normal;font-family:Menlo,'DejaVu Sans Mono',consolas,'Courier New',monospace\">Epoch: <span style=\"color: #008080; text-decoration-color: #008080; font-weight: bold\">424</span>, Train loss: <span style=\"color: #008080; text-decoration-color: #008080; font-weight: bold\">0.010</span>, Val loss: <span style=\"color: #008080; text-decoration-color: #008080; font-weight: bold\">0.148</span>, Epoch time = <span style=\"color: #008080; text-decoration-color: #008080; font-weight: bold\">92.</span>244s\n",
              "</pre>\n"
            ],
            "text/plain": [
              "Epoch: \u001b[1;36m424\u001b[0m, Train loss: \u001b[1;36m0.010\u001b[0m, Val loss: \u001b[1;36m0.148\u001b[0m, Epoch time = \u001b[1;36m92.\u001b[0m244s\n"
            ]
          },
          "metadata": {
            "tags": []
          }
        },
        {
          "output_type": "display_data",
          "data": {
            "text/html": [
              "<pre style=\"white-space:pre;overflow-x:auto;line-height:normal;font-family:Menlo,'DejaVu Sans Mono',consolas,'Courier New',monospace\">Epoch: <span style=\"color: #008080; text-decoration-color: #008080; font-weight: bold\">425</span>, Train loss: <span style=\"color: #008080; text-decoration-color: #008080; font-weight: bold\">0.009</span>, Val loss: <span style=\"color: #008080; text-decoration-color: #008080; font-weight: bold\">0.146</span>, Epoch time = <span style=\"color: #008080; text-decoration-color: #008080; font-weight: bold\">91.</span>810s\n",
              "</pre>\n"
            ],
            "text/plain": [
              "Epoch: \u001b[1;36m425\u001b[0m, Train loss: \u001b[1;36m0.009\u001b[0m, Val loss: \u001b[1;36m0.146\u001b[0m, Epoch time = \u001b[1;36m91.\u001b[0m810s\n"
            ]
          },
          "metadata": {
            "tags": []
          }
        },
        {
          "output_type": "display_data",
          "data": {
            "text/html": [
              "<pre style=\"white-space:pre;overflow-x:auto;line-height:normal;font-family:Menlo,'DejaVu Sans Mono',consolas,'Courier New',monospace\">Epoch: <span style=\"color: #008080; text-decoration-color: #008080; font-weight: bold\">426</span>, Train loss: <span style=\"color: #008080; text-decoration-color: #008080; font-weight: bold\">0.010</span>, Val loss: <span style=\"color: #008080; text-decoration-color: #008080; font-weight: bold\">0.153</span>, Epoch time = <span style=\"color: #008080; text-decoration-color: #008080; font-weight: bold\">92.</span>115s\n",
              "</pre>\n"
            ],
            "text/plain": [
              "Epoch: \u001b[1;36m426\u001b[0m, Train loss: \u001b[1;36m0.010\u001b[0m, Val loss: \u001b[1;36m0.153\u001b[0m, Epoch time = \u001b[1;36m92.\u001b[0m115s\n"
            ]
          },
          "metadata": {
            "tags": []
          }
        },
        {
          "output_type": "display_data",
          "data": {
            "text/html": [
              "<pre style=\"white-space:pre;overflow-x:auto;line-height:normal;font-family:Menlo,'DejaVu Sans Mono',consolas,'Courier New',monospace\">Epoch: <span style=\"color: #008080; text-decoration-color: #008080; font-weight: bold\">427</span>, Train loss: <span style=\"color: #008080; text-decoration-color: #008080; font-weight: bold\">0.009</span>, Val loss: <span style=\"color: #008080; text-decoration-color: #008080; font-weight: bold\">0.147</span>, Epoch time = <span style=\"color: #008080; text-decoration-color: #008080; font-weight: bold\">92.</span>018s\n",
              "</pre>\n"
            ],
            "text/plain": [
              "Epoch: \u001b[1;36m427\u001b[0m, Train loss: \u001b[1;36m0.009\u001b[0m, Val loss: \u001b[1;36m0.147\u001b[0m, Epoch time = \u001b[1;36m92.\u001b[0m018s\n"
            ]
          },
          "metadata": {
            "tags": []
          }
        },
        {
          "output_type": "display_data",
          "data": {
            "text/html": [
              "<pre style=\"white-space:pre;overflow-x:auto;line-height:normal;font-family:Menlo,'DejaVu Sans Mono',consolas,'Courier New',monospace\">Epoch: <span style=\"color: #008080; text-decoration-color: #008080; font-weight: bold\">428</span>, Train loss: <span style=\"color: #008080; text-decoration-color: #008080; font-weight: bold\">0.010</span>, Val loss: <span style=\"color: #008080; text-decoration-color: #008080; font-weight: bold\">0.146</span>, Epoch time = <span style=\"color: #008080; text-decoration-color: #008080; font-weight: bold\">91.</span>518s\n",
              "</pre>\n"
            ],
            "text/plain": [
              "Epoch: \u001b[1;36m428\u001b[0m, Train loss: \u001b[1;36m0.010\u001b[0m, Val loss: \u001b[1;36m0.146\u001b[0m, Epoch time = \u001b[1;36m91.\u001b[0m518s\n"
            ]
          },
          "metadata": {
            "tags": []
          }
        },
        {
          "output_type": "display_data",
          "data": {
            "text/html": [
              "<pre style=\"white-space:pre;overflow-x:auto;line-height:normal;font-family:Menlo,'DejaVu Sans Mono',consolas,'Courier New',monospace\">Epoch: <span style=\"color: #008080; text-decoration-color: #008080; font-weight: bold\">429</span>, Train loss: <span style=\"color: #008080; text-decoration-color: #008080; font-weight: bold\">0.010</span>, Val loss: <span style=\"color: #008080; text-decoration-color: #008080; font-weight: bold\">0.147</span>, Epoch time = <span style=\"color: #008080; text-decoration-color: #008080; font-weight: bold\">92.</span>806s\n",
              "</pre>\n"
            ],
            "text/plain": [
              "Epoch: \u001b[1;36m429\u001b[0m, Train loss: \u001b[1;36m0.010\u001b[0m, Val loss: \u001b[1;36m0.147\u001b[0m, Epoch time = \u001b[1;36m92.\u001b[0m806s\n"
            ]
          },
          "metadata": {
            "tags": []
          }
        },
        {
          "output_type": "display_data",
          "data": {
            "text/html": [
              "<pre style=\"white-space:pre;overflow-x:auto;line-height:normal;font-family:Menlo,'DejaVu Sans Mono',consolas,'Courier New',monospace\">Epoch: <span style=\"color: #008080; text-decoration-color: #008080; font-weight: bold\">430</span>, Train loss: <span style=\"color: #008080; text-decoration-color: #008080; font-weight: bold\">0.010</span>, Val loss: <span style=\"color: #008080; text-decoration-color: #008080; font-weight: bold\">0.144</span>, Epoch time = <span style=\"color: #008080; text-decoration-color: #008080; font-weight: bold\">91.</span>450s\n",
              "</pre>\n"
            ],
            "text/plain": [
              "Epoch: \u001b[1;36m430\u001b[0m, Train loss: \u001b[1;36m0.010\u001b[0m, Val loss: \u001b[1;36m0.144\u001b[0m, Epoch time = \u001b[1;36m91.\u001b[0m450s\n"
            ]
          },
          "metadata": {
            "tags": []
          }
        },
        {
          "output_type": "display_data",
          "data": {
            "text/html": [
              "<pre style=\"white-space:pre;overflow-x:auto;line-height:normal;font-family:Menlo,'DejaVu Sans Mono',consolas,'Courier New',monospace\">Epoch: <span style=\"color: #008080; text-decoration-color: #008080; font-weight: bold\">431</span>, Train loss: <span style=\"color: #008080; text-decoration-color: #008080; font-weight: bold\">0.010</span>, Val loss: <span style=\"color: #008080; text-decoration-color: #008080; font-weight: bold\">0.146</span>, Epoch time = <span style=\"color: #008080; text-decoration-color: #008080; font-weight: bold\">91.</span>582s\n",
              "</pre>\n"
            ],
            "text/plain": [
              "Epoch: \u001b[1;36m431\u001b[0m, Train loss: \u001b[1;36m0.010\u001b[0m, Val loss: \u001b[1;36m0.146\u001b[0m, Epoch time = \u001b[1;36m91.\u001b[0m582s\n"
            ]
          },
          "metadata": {
            "tags": []
          }
        },
        {
          "output_type": "display_data",
          "data": {
            "text/html": [
              "<pre style=\"white-space:pre;overflow-x:auto;line-height:normal;font-family:Menlo,'DejaVu Sans Mono',consolas,'Courier New',monospace\">Epoch: <span style=\"color: #008080; text-decoration-color: #008080; font-weight: bold\">432</span>, Train loss: <span style=\"color: #008080; text-decoration-color: #008080; font-weight: bold\">0.010</span>, Val loss: <span style=\"color: #008080; text-decoration-color: #008080; font-weight: bold\">0.148</span>, Epoch time = <span style=\"color: #008080; text-decoration-color: #008080; font-weight: bold\">92.</span>407s\n",
              "</pre>\n"
            ],
            "text/plain": [
              "Epoch: \u001b[1;36m432\u001b[0m, Train loss: \u001b[1;36m0.010\u001b[0m, Val loss: \u001b[1;36m0.148\u001b[0m, Epoch time = \u001b[1;36m92.\u001b[0m407s\n"
            ]
          },
          "metadata": {
            "tags": []
          }
        },
        {
          "output_type": "display_data",
          "data": {
            "text/html": [
              "<pre style=\"white-space:pre;overflow-x:auto;line-height:normal;font-family:Menlo,'DejaVu Sans Mono',consolas,'Courier New',monospace\">Epoch: <span style=\"color: #008080; text-decoration-color: #008080; font-weight: bold\">433</span>, Train loss: <span style=\"color: #008080; text-decoration-color: #008080; font-weight: bold\">0.010</span>, Val loss: <span style=\"color: #008080; text-decoration-color: #008080; font-weight: bold\">0.147</span>, Epoch time = <span style=\"color: #008080; text-decoration-color: #008080; font-weight: bold\">92.</span>276s\n",
              "</pre>\n"
            ],
            "text/plain": [
              "Epoch: \u001b[1;36m433\u001b[0m, Train loss: \u001b[1;36m0.010\u001b[0m, Val loss: \u001b[1;36m0.147\u001b[0m, Epoch time = \u001b[1;36m92.\u001b[0m276s\n"
            ]
          },
          "metadata": {
            "tags": []
          }
        },
        {
          "output_type": "display_data",
          "data": {
            "text/html": [
              "<pre style=\"white-space:pre;overflow-x:auto;line-height:normal;font-family:Menlo,'DejaVu Sans Mono',consolas,'Courier New',monospace\">Epoch: <span style=\"color: #008080; text-decoration-color: #008080; font-weight: bold\">434</span>, Train loss: <span style=\"color: #008080; text-decoration-color: #008080; font-weight: bold\">0.010</span>, Val loss: <span style=\"color: #008080; text-decoration-color: #008080; font-weight: bold\">0.145</span>, Epoch time = <span style=\"color: #008080; text-decoration-color: #008080; font-weight: bold\">92.</span>443s\n",
              "</pre>\n"
            ],
            "text/plain": [
              "Epoch: \u001b[1;36m434\u001b[0m, Train loss: \u001b[1;36m0.010\u001b[0m, Val loss: \u001b[1;36m0.145\u001b[0m, Epoch time = \u001b[1;36m92.\u001b[0m443s\n"
            ]
          },
          "metadata": {
            "tags": []
          }
        },
        {
          "output_type": "display_data",
          "data": {
            "text/html": [
              "<pre style=\"white-space:pre;overflow-x:auto;line-height:normal;font-family:Menlo,'DejaVu Sans Mono',consolas,'Courier New',monospace\">Epoch: <span style=\"color: #008080; text-decoration-color: #008080; font-weight: bold\">435</span>, Train loss: <span style=\"color: #008080; text-decoration-color: #008080; font-weight: bold\">0.010</span>, Val loss: <span style=\"color: #008080; text-decoration-color: #008080; font-weight: bold\">0.146</span>, Epoch time = <span style=\"color: #008080; text-decoration-color: #008080; font-weight: bold\">91.</span>794s\n",
              "</pre>\n"
            ],
            "text/plain": [
              "Epoch: \u001b[1;36m435\u001b[0m, Train loss: \u001b[1;36m0.010\u001b[0m, Val loss: \u001b[1;36m0.146\u001b[0m, Epoch time = \u001b[1;36m91.\u001b[0m794s\n"
            ]
          },
          "metadata": {
            "tags": []
          }
        },
        {
          "output_type": "display_data",
          "data": {
            "text/html": [
              "<pre style=\"white-space:pre;overflow-x:auto;line-height:normal;font-family:Menlo,'DejaVu Sans Mono',consolas,'Courier New',monospace\">Epoch: <span style=\"color: #008080; text-decoration-color: #008080; font-weight: bold\">436</span>, Train loss: <span style=\"color: #008080; text-decoration-color: #008080; font-weight: bold\">0.009</span>, Val loss: <span style=\"color: #008080; text-decoration-color: #008080; font-weight: bold\">0.147</span>, Epoch time = <span style=\"color: #008080; text-decoration-color: #008080; font-weight: bold\">91.</span>917s\n",
              "</pre>\n"
            ],
            "text/plain": [
              "Epoch: \u001b[1;36m436\u001b[0m, Train loss: \u001b[1;36m0.009\u001b[0m, Val loss: \u001b[1;36m0.147\u001b[0m, Epoch time = \u001b[1;36m91.\u001b[0m917s\n"
            ]
          },
          "metadata": {
            "tags": []
          }
        },
        {
          "output_type": "display_data",
          "data": {
            "text/html": [
              "<pre style=\"white-space:pre;overflow-x:auto;line-height:normal;font-family:Menlo,'DejaVu Sans Mono',consolas,'Courier New',monospace\">Epoch: <span style=\"color: #008080; text-decoration-color: #008080; font-weight: bold\">437</span>, Train loss: <span style=\"color: #008080; text-decoration-color: #008080; font-weight: bold\">0.009</span>, Val loss: <span style=\"color: #008080; text-decoration-color: #008080; font-weight: bold\">0.149</span>, Epoch time = <span style=\"color: #008080; text-decoration-color: #008080; font-weight: bold\">91.</span>820s\n",
              "</pre>\n"
            ],
            "text/plain": [
              "Epoch: \u001b[1;36m437\u001b[0m, Train loss: \u001b[1;36m0.009\u001b[0m, Val loss: \u001b[1;36m0.149\u001b[0m, Epoch time = \u001b[1;36m91.\u001b[0m820s\n"
            ]
          },
          "metadata": {
            "tags": []
          }
        },
        {
          "output_type": "display_data",
          "data": {
            "text/html": [
              "<pre style=\"white-space:pre;overflow-x:auto;line-height:normal;font-family:Menlo,'DejaVu Sans Mono',consolas,'Courier New',monospace\">Epoch: <span style=\"color: #008080; text-decoration-color: #008080; font-weight: bold\">438</span>, Train loss: <span style=\"color: #008080; text-decoration-color: #008080; font-weight: bold\">0.009</span>, Val loss: <span style=\"color: #008080; text-decoration-color: #008080; font-weight: bold\">0.147</span>, Epoch time = <span style=\"color: #008080; text-decoration-color: #008080; font-weight: bold\">91.</span>954s\n",
              "</pre>\n"
            ],
            "text/plain": [
              "Epoch: \u001b[1;36m438\u001b[0m, Train loss: \u001b[1;36m0.009\u001b[0m, Val loss: \u001b[1;36m0.147\u001b[0m, Epoch time = \u001b[1;36m91.\u001b[0m954s\n"
            ]
          },
          "metadata": {
            "tags": []
          }
        },
        {
          "output_type": "display_data",
          "data": {
            "text/html": [
              "<pre style=\"white-space:pre;overflow-x:auto;line-height:normal;font-family:Menlo,'DejaVu Sans Mono',consolas,'Courier New',monospace\">Epoch: <span style=\"color: #008080; text-decoration-color: #008080; font-weight: bold\">439</span>, Train loss: <span style=\"color: #008080; text-decoration-color: #008080; font-weight: bold\">0.009</span>, Val loss: <span style=\"color: #008080; text-decoration-color: #008080; font-weight: bold\">0.143</span>, Epoch time = <span style=\"color: #008080; text-decoration-color: #008080; font-weight: bold\">92.</span>074s\n",
              "</pre>\n"
            ],
            "text/plain": [
              "Epoch: \u001b[1;36m439\u001b[0m, Train loss: \u001b[1;36m0.009\u001b[0m, Val loss: \u001b[1;36m0.143\u001b[0m, Epoch time = \u001b[1;36m92.\u001b[0m074s\n"
            ]
          },
          "metadata": {
            "tags": []
          }
        },
        {
          "output_type": "display_data",
          "data": {
            "text/html": [
              "<pre style=\"white-space:pre;overflow-x:auto;line-height:normal;font-family:Menlo,'DejaVu Sans Mono',consolas,'Courier New',monospace\">Epoch: <span style=\"color: #008080; text-decoration-color: #008080; font-weight: bold\">440</span>, Train loss: <span style=\"color: #008080; text-decoration-color: #008080; font-weight: bold\">0.009</span>, Val loss: <span style=\"color: #008080; text-decoration-color: #008080; font-weight: bold\">0.144</span>, Epoch time = <span style=\"color: #008080; text-decoration-color: #008080; font-weight: bold\">91.</span>957s\n",
              "</pre>\n"
            ],
            "text/plain": [
              "Epoch: \u001b[1;36m440\u001b[0m, Train loss: \u001b[1;36m0.009\u001b[0m, Val loss: \u001b[1;36m0.144\u001b[0m, Epoch time = \u001b[1;36m91.\u001b[0m957s\n"
            ]
          },
          "metadata": {
            "tags": []
          }
        },
        {
          "output_type": "display_data",
          "data": {
            "text/html": [
              "<pre style=\"white-space:pre;overflow-x:auto;line-height:normal;font-family:Menlo,'DejaVu Sans Mono',consolas,'Courier New',monospace\">Epoch: <span style=\"color: #008080; text-decoration-color: #008080; font-weight: bold\">441</span>, Train loss: <span style=\"color: #008080; text-decoration-color: #008080; font-weight: bold\">0.009</span>, Val loss: <span style=\"color: #008080; text-decoration-color: #008080; font-weight: bold\">0.148</span>, Epoch time = <span style=\"color: #008080; text-decoration-color: #008080; font-weight: bold\">92.</span>117s\n",
              "</pre>\n"
            ],
            "text/plain": [
              "Epoch: \u001b[1;36m441\u001b[0m, Train loss: \u001b[1;36m0.009\u001b[0m, Val loss: \u001b[1;36m0.148\u001b[0m, Epoch time = \u001b[1;36m92.\u001b[0m117s\n"
            ]
          },
          "metadata": {
            "tags": []
          }
        },
        {
          "output_type": "display_data",
          "data": {
            "text/html": [
              "<pre style=\"white-space:pre;overflow-x:auto;line-height:normal;font-family:Menlo,'DejaVu Sans Mono',consolas,'Courier New',monospace\">Epoch: <span style=\"color: #008080; text-decoration-color: #008080; font-weight: bold\">442</span>, Train loss: <span style=\"color: #008080; text-decoration-color: #008080; font-weight: bold\">0.009</span>, Val loss: <span style=\"color: #008080; text-decoration-color: #008080; font-weight: bold\">0.147</span>, Epoch time = <span style=\"color: #008080; text-decoration-color: #008080; font-weight: bold\">92.</span>636s\n",
              "</pre>\n"
            ],
            "text/plain": [
              "Epoch: \u001b[1;36m442\u001b[0m, Train loss: \u001b[1;36m0.009\u001b[0m, Val loss: \u001b[1;36m0.147\u001b[0m, Epoch time = \u001b[1;36m92.\u001b[0m636s\n"
            ]
          },
          "metadata": {
            "tags": []
          }
        },
        {
          "output_type": "display_data",
          "data": {
            "text/html": [
              "<pre style=\"white-space:pre;overflow-x:auto;line-height:normal;font-family:Menlo,'DejaVu Sans Mono',consolas,'Courier New',monospace\">Epoch: <span style=\"color: #008080; text-decoration-color: #008080; font-weight: bold\">443</span>, Train loss: <span style=\"color: #008080; text-decoration-color: #008080; font-weight: bold\">0.009</span>, Val loss: <span style=\"color: #008080; text-decoration-color: #008080; font-weight: bold\">0.145</span>, Epoch time = <span style=\"color: #008080; text-decoration-color: #008080; font-weight: bold\">91.</span>696s\n",
              "</pre>\n"
            ],
            "text/plain": [
              "Epoch: \u001b[1;36m443\u001b[0m, Train loss: \u001b[1;36m0.009\u001b[0m, Val loss: \u001b[1;36m0.145\u001b[0m, Epoch time = \u001b[1;36m91.\u001b[0m696s\n"
            ]
          },
          "metadata": {
            "tags": []
          }
        },
        {
          "output_type": "display_data",
          "data": {
            "text/html": [
              "<pre style=\"white-space:pre;overflow-x:auto;line-height:normal;font-family:Menlo,'DejaVu Sans Mono',consolas,'Courier New',monospace\">Epoch: <span style=\"color: #008080; text-decoration-color: #008080; font-weight: bold\">444</span>, Train loss: <span style=\"color: #008080; text-decoration-color: #008080; font-weight: bold\">0.010</span>, Val loss: <span style=\"color: #008080; text-decoration-color: #008080; font-weight: bold\">0.145</span>, Epoch time = <span style=\"color: #008080; text-decoration-color: #008080; font-weight: bold\">92.</span>044s\n",
              "</pre>\n"
            ],
            "text/plain": [
              "Epoch: \u001b[1;36m444\u001b[0m, Train loss: \u001b[1;36m0.010\u001b[0m, Val loss: \u001b[1;36m0.145\u001b[0m, Epoch time = \u001b[1;36m92.\u001b[0m044s\n"
            ]
          },
          "metadata": {
            "tags": []
          }
        },
        {
          "output_type": "display_data",
          "data": {
            "text/html": [
              "<pre style=\"white-space:pre;overflow-x:auto;line-height:normal;font-family:Menlo,'DejaVu Sans Mono',consolas,'Courier New',monospace\">Epoch: <span style=\"color: #008080; text-decoration-color: #008080; font-weight: bold\">445</span>, Train loss: <span style=\"color: #008080; text-decoration-color: #008080; font-weight: bold\">0.009</span>, Val loss: <span style=\"color: #008080; text-decoration-color: #008080; font-weight: bold\">0.147</span>, Epoch time = <span style=\"color: #008080; text-decoration-color: #008080; font-weight: bold\">91.</span>109s\n",
              "</pre>\n"
            ],
            "text/plain": [
              "Epoch: \u001b[1;36m445\u001b[0m, Train loss: \u001b[1;36m0.009\u001b[0m, Val loss: \u001b[1;36m0.147\u001b[0m, Epoch time = \u001b[1;36m91.\u001b[0m109s\n"
            ]
          },
          "metadata": {
            "tags": []
          }
        },
        {
          "output_type": "display_data",
          "data": {
            "text/html": [
              "<pre style=\"white-space:pre;overflow-x:auto;line-height:normal;font-family:Menlo,'DejaVu Sans Mono',consolas,'Courier New',monospace\">Epoch: <span style=\"color: #008080; text-decoration-color: #008080; font-weight: bold\">446</span>, Train loss: <span style=\"color: #008080; text-decoration-color: #008080; font-weight: bold\">0.009</span>, Val loss: <span style=\"color: #008080; text-decoration-color: #008080; font-weight: bold\">0.145</span>, Epoch time = <span style=\"color: #008080; text-decoration-color: #008080; font-weight: bold\">91.</span>500s\n",
              "</pre>\n"
            ],
            "text/plain": [
              "Epoch: \u001b[1;36m446\u001b[0m, Train loss: \u001b[1;36m0.009\u001b[0m, Val loss: \u001b[1;36m0.145\u001b[0m, Epoch time = \u001b[1;36m91.\u001b[0m500s\n"
            ]
          },
          "metadata": {
            "tags": []
          }
        },
        {
          "output_type": "display_data",
          "data": {
            "text/html": [
              "<pre style=\"white-space:pre;overflow-x:auto;line-height:normal;font-family:Menlo,'DejaVu Sans Mono',consolas,'Courier New',monospace\">Epoch: <span style=\"color: #008080; text-decoration-color: #008080; font-weight: bold\">447</span>, Train loss: <span style=\"color: #008080; text-decoration-color: #008080; font-weight: bold\">0.009</span>, Val loss: <span style=\"color: #008080; text-decoration-color: #008080; font-weight: bold\">0.148</span>, Epoch time = <span style=\"color: #008080; text-decoration-color: #008080; font-weight: bold\">91.</span>747s\n",
              "</pre>\n"
            ],
            "text/plain": [
              "Epoch: \u001b[1;36m447\u001b[0m, Train loss: \u001b[1;36m0.009\u001b[0m, Val loss: \u001b[1;36m0.148\u001b[0m, Epoch time = \u001b[1;36m91.\u001b[0m747s\n"
            ]
          },
          "metadata": {
            "tags": []
          }
        },
        {
          "output_type": "display_data",
          "data": {
            "text/html": [
              "<pre style=\"white-space:pre;overflow-x:auto;line-height:normal;font-family:Menlo,'DejaVu Sans Mono',consolas,'Courier New',monospace\">Epoch: <span style=\"color: #008080; text-decoration-color: #008080; font-weight: bold\">448</span>, Train loss: <span style=\"color: #008080; text-decoration-color: #008080; font-weight: bold\">0.009</span>, Val loss: <span style=\"color: #008080; text-decoration-color: #008080; font-weight: bold\">0.149</span>, Epoch time = <span style=\"color: #008080; text-decoration-color: #008080; font-weight: bold\">91.</span>760s\n",
              "</pre>\n"
            ],
            "text/plain": [
              "Epoch: \u001b[1;36m448\u001b[0m, Train loss: \u001b[1;36m0.009\u001b[0m, Val loss: \u001b[1;36m0.149\u001b[0m, Epoch time = \u001b[1;36m91.\u001b[0m760s\n"
            ]
          },
          "metadata": {
            "tags": []
          }
        },
        {
          "output_type": "display_data",
          "data": {
            "text/html": [
              "<pre style=\"white-space:pre;overflow-x:auto;line-height:normal;font-family:Menlo,'DejaVu Sans Mono',consolas,'Courier New',monospace\">Epoch: <span style=\"color: #008080; text-decoration-color: #008080; font-weight: bold\">449</span>, Train loss: <span style=\"color: #008080; text-decoration-color: #008080; font-weight: bold\">0.009</span>, Val loss: <span style=\"color: #008080; text-decoration-color: #008080; font-weight: bold\">0.145</span>, Epoch time = <span style=\"color: #008080; text-decoration-color: #008080; font-weight: bold\">91.</span>754s\n",
              "</pre>\n"
            ],
            "text/plain": [
              "Epoch: \u001b[1;36m449\u001b[0m, Train loss: \u001b[1;36m0.009\u001b[0m, Val loss: \u001b[1;36m0.145\u001b[0m, Epoch time = \u001b[1;36m91.\u001b[0m754s\n"
            ]
          },
          "metadata": {
            "tags": []
          }
        },
        {
          "output_type": "display_data",
          "data": {
            "text/html": [
              "<pre style=\"white-space:pre;overflow-x:auto;line-height:normal;font-family:Menlo,'DejaVu Sans Mono',consolas,'Courier New',monospace\">Epoch: <span style=\"color: #008080; text-decoration-color: #008080; font-weight: bold\">450</span>, Train loss: <span style=\"color: #008080; text-decoration-color: #008080; font-weight: bold\">0.009</span>, Val loss: <span style=\"color: #008080; text-decoration-color: #008080; font-weight: bold\">0.156</span>, Epoch time = <span style=\"color: #008080; text-decoration-color: #008080; font-weight: bold\">91.</span>401s\n",
              "</pre>\n"
            ],
            "text/plain": [
              "Epoch: \u001b[1;36m450\u001b[0m, Train loss: \u001b[1;36m0.009\u001b[0m, Val loss: \u001b[1;36m0.156\u001b[0m, Epoch time = \u001b[1;36m91.\u001b[0m401s\n"
            ]
          },
          "metadata": {
            "tags": []
          }
        },
        {
          "output_type": "display_data",
          "data": {
            "text/html": [
              "<pre style=\"white-space:pre;overflow-x:auto;line-height:normal;font-family:Menlo,'DejaVu Sans Mono',consolas,'Courier New',monospace\">Epoch: <span style=\"color: #008080; text-decoration-color: #008080; font-weight: bold\">451</span>, Train loss: <span style=\"color: #008080; text-decoration-color: #008080; font-weight: bold\">0.009</span>, Val loss: <span style=\"color: #008080; text-decoration-color: #008080; font-weight: bold\">0.147</span>, Epoch time = <span style=\"color: #008080; text-decoration-color: #008080; font-weight: bold\">92.</span>054s\n",
              "</pre>\n"
            ],
            "text/plain": [
              "Epoch: \u001b[1;36m451\u001b[0m, Train loss: \u001b[1;36m0.009\u001b[0m, Val loss: \u001b[1;36m0.147\u001b[0m, Epoch time = \u001b[1;36m92.\u001b[0m054s\n"
            ]
          },
          "metadata": {
            "tags": []
          }
        },
        {
          "output_type": "display_data",
          "data": {
            "text/html": [
              "<pre style=\"white-space:pre;overflow-x:auto;line-height:normal;font-family:Menlo,'DejaVu Sans Mono',consolas,'Courier New',monospace\">Epoch: <span style=\"color: #008080; text-decoration-color: #008080; font-weight: bold\">452</span>, Train loss: <span style=\"color: #008080; text-decoration-color: #008080; font-weight: bold\">0.009</span>, Val loss: <span style=\"color: #008080; text-decoration-color: #008080; font-weight: bold\">0.147</span>, Epoch time = <span style=\"color: #008080; text-decoration-color: #008080; font-weight: bold\">91.</span>932s\n",
              "</pre>\n"
            ],
            "text/plain": [
              "Epoch: \u001b[1;36m452\u001b[0m, Train loss: \u001b[1;36m0.009\u001b[0m, Val loss: \u001b[1;36m0.147\u001b[0m, Epoch time = \u001b[1;36m91.\u001b[0m932s\n"
            ]
          },
          "metadata": {
            "tags": []
          }
        },
        {
          "output_type": "display_data",
          "data": {
            "text/html": [
              "<pre style=\"white-space:pre;overflow-x:auto;line-height:normal;font-family:Menlo,'DejaVu Sans Mono',consolas,'Courier New',monospace\">Epoch: <span style=\"color: #008080; text-decoration-color: #008080; font-weight: bold\">453</span>, Train loss: <span style=\"color: #008080; text-decoration-color: #008080; font-weight: bold\">0.009</span>, Val loss: <span style=\"color: #008080; text-decoration-color: #008080; font-weight: bold\">0.147</span>, Epoch time = <span style=\"color: #008080; text-decoration-color: #008080; font-weight: bold\">91.</span>787s\n",
              "</pre>\n"
            ],
            "text/plain": [
              "Epoch: \u001b[1;36m453\u001b[0m, Train loss: \u001b[1;36m0.009\u001b[0m, Val loss: \u001b[1;36m0.147\u001b[0m, Epoch time = \u001b[1;36m91.\u001b[0m787s\n"
            ]
          },
          "metadata": {
            "tags": []
          }
        },
        {
          "output_type": "display_data",
          "data": {
            "text/html": [
              "<pre style=\"white-space:pre;overflow-x:auto;line-height:normal;font-family:Menlo,'DejaVu Sans Mono',consolas,'Courier New',monospace\">Epoch: <span style=\"color: #008080; text-decoration-color: #008080; font-weight: bold\">454</span>, Train loss: <span style=\"color: #008080; text-decoration-color: #008080; font-weight: bold\">0.009</span>, Val loss: <span style=\"color: #008080; text-decoration-color: #008080; font-weight: bold\">0.145</span>, Epoch time = <span style=\"color: #008080; text-decoration-color: #008080; font-weight: bold\">92.</span>140s\n",
              "</pre>\n"
            ],
            "text/plain": [
              "Epoch: \u001b[1;36m454\u001b[0m, Train loss: \u001b[1;36m0.009\u001b[0m, Val loss: \u001b[1;36m0.145\u001b[0m, Epoch time = \u001b[1;36m92.\u001b[0m140s\n"
            ]
          },
          "metadata": {
            "tags": []
          }
        },
        {
          "output_type": "display_data",
          "data": {
            "text/html": [
              "<pre style=\"white-space:pre;overflow-x:auto;line-height:normal;font-family:Menlo,'DejaVu Sans Mono',consolas,'Courier New',monospace\">Epoch: <span style=\"color: #008080; text-decoration-color: #008080; font-weight: bold\">455</span>, Train loss: <span style=\"color: #008080; text-decoration-color: #008080; font-weight: bold\">0.009</span>, Val loss: <span style=\"color: #008080; text-decoration-color: #008080; font-weight: bold\">0.149</span>, Epoch time = <span style=\"color: #008080; text-decoration-color: #008080; font-weight: bold\">92.</span>110s\n",
              "</pre>\n"
            ],
            "text/plain": [
              "Epoch: \u001b[1;36m455\u001b[0m, Train loss: \u001b[1;36m0.009\u001b[0m, Val loss: \u001b[1;36m0.149\u001b[0m, Epoch time = \u001b[1;36m92.\u001b[0m110s\n"
            ]
          },
          "metadata": {
            "tags": []
          }
        },
        {
          "output_type": "display_data",
          "data": {
            "text/html": [
              "<pre style=\"white-space:pre;overflow-x:auto;line-height:normal;font-family:Menlo,'DejaVu Sans Mono',consolas,'Courier New',monospace\">Epoch: <span style=\"color: #008080; text-decoration-color: #008080; font-weight: bold\">456</span>, Train loss: <span style=\"color: #008080; text-decoration-color: #008080; font-weight: bold\">0.009</span>, Val loss: <span style=\"color: #008080; text-decoration-color: #008080; font-weight: bold\">0.149</span>, Epoch time = <span style=\"color: #008080; text-decoration-color: #008080; font-weight: bold\">92.</span>039s\n",
              "</pre>\n"
            ],
            "text/plain": [
              "Epoch: \u001b[1;36m456\u001b[0m, Train loss: \u001b[1;36m0.009\u001b[0m, Val loss: \u001b[1;36m0.149\u001b[0m, Epoch time = \u001b[1;36m92.\u001b[0m039s\n"
            ]
          },
          "metadata": {
            "tags": []
          }
        },
        {
          "output_type": "display_data",
          "data": {
            "text/html": [
              "<pre style=\"white-space:pre;overflow-x:auto;line-height:normal;font-family:Menlo,'DejaVu Sans Mono',consolas,'Courier New',monospace\">Epoch: <span style=\"color: #008080; text-decoration-color: #008080; font-weight: bold\">457</span>, Train loss: <span style=\"color: #008080; text-decoration-color: #008080; font-weight: bold\">0.009</span>, Val loss: <span style=\"color: #008080; text-decoration-color: #008080; font-weight: bold\">0.147</span>, Epoch time = <span style=\"color: #008080; text-decoration-color: #008080; font-weight: bold\">91.</span>264s\n",
              "</pre>\n"
            ],
            "text/plain": [
              "Epoch: \u001b[1;36m457\u001b[0m, Train loss: \u001b[1;36m0.009\u001b[0m, Val loss: \u001b[1;36m0.147\u001b[0m, Epoch time = \u001b[1;36m91.\u001b[0m264s\n"
            ]
          },
          "metadata": {
            "tags": []
          }
        },
        {
          "output_type": "display_data",
          "data": {
            "text/html": [
              "<pre style=\"white-space:pre;overflow-x:auto;line-height:normal;font-family:Menlo,'DejaVu Sans Mono',consolas,'Courier New',monospace\">Epoch: <span style=\"color: #008080; text-decoration-color: #008080; font-weight: bold\">458</span>, Train loss: <span style=\"color: #008080; text-decoration-color: #008080; font-weight: bold\">0.009</span>, Val loss: <span style=\"color: #008080; text-decoration-color: #008080; font-weight: bold\">0.150</span>, Epoch time = <span style=\"color: #008080; text-decoration-color: #008080; font-weight: bold\">91.</span>942s\n",
              "</pre>\n"
            ],
            "text/plain": [
              "Epoch: \u001b[1;36m458\u001b[0m, Train loss: \u001b[1;36m0.009\u001b[0m, Val loss: \u001b[1;36m0.150\u001b[0m, Epoch time = \u001b[1;36m91.\u001b[0m942s\n"
            ]
          },
          "metadata": {
            "tags": []
          }
        },
        {
          "output_type": "display_data",
          "data": {
            "text/html": [
              "<pre style=\"white-space:pre;overflow-x:auto;line-height:normal;font-family:Menlo,'DejaVu Sans Mono',consolas,'Courier New',monospace\">Epoch: <span style=\"color: #008080; text-decoration-color: #008080; font-weight: bold\">459</span>, Train loss: <span style=\"color: #008080; text-decoration-color: #008080; font-weight: bold\">0.009</span>, Val loss: <span style=\"color: #008080; text-decoration-color: #008080; font-weight: bold\">0.149</span>, Epoch time = <span style=\"color: #008080; text-decoration-color: #008080; font-weight: bold\">92.</span>278s\n",
              "</pre>\n"
            ],
            "text/plain": [
              "Epoch: \u001b[1;36m459\u001b[0m, Train loss: \u001b[1;36m0.009\u001b[0m, Val loss: \u001b[1;36m0.149\u001b[0m, Epoch time = \u001b[1;36m92.\u001b[0m278s\n"
            ]
          },
          "metadata": {
            "tags": []
          }
        },
        {
          "output_type": "display_data",
          "data": {
            "text/html": [
              "<pre style=\"white-space:pre;overflow-x:auto;line-height:normal;font-family:Menlo,'DejaVu Sans Mono',consolas,'Courier New',monospace\">Epoch: <span style=\"color: #008080; text-decoration-color: #008080; font-weight: bold\">460</span>, Train loss: <span style=\"color: #008080; text-decoration-color: #008080; font-weight: bold\">0.009</span>, Val loss: <span style=\"color: #008080; text-decoration-color: #008080; font-weight: bold\">0.146</span>, Epoch time = <span style=\"color: #008080; text-decoration-color: #008080; font-weight: bold\">91.</span>628s\n",
              "</pre>\n"
            ],
            "text/plain": [
              "Epoch: \u001b[1;36m460\u001b[0m, Train loss: \u001b[1;36m0.009\u001b[0m, Val loss: \u001b[1;36m0.146\u001b[0m, Epoch time = \u001b[1;36m91.\u001b[0m628s\n"
            ]
          },
          "metadata": {
            "tags": []
          }
        },
        {
          "output_type": "display_data",
          "data": {
            "text/html": [
              "<pre style=\"white-space:pre;overflow-x:auto;line-height:normal;font-family:Menlo,'DejaVu Sans Mono',consolas,'Courier New',monospace\">Epoch: <span style=\"color: #008080; text-decoration-color: #008080; font-weight: bold\">461</span>, Train loss: <span style=\"color: #008080; text-decoration-color: #008080; font-weight: bold\">0.009</span>, Val loss: <span style=\"color: #008080; text-decoration-color: #008080; font-weight: bold\">0.146</span>, Epoch time = <span style=\"color: #008080; text-decoration-color: #008080; font-weight: bold\">91.</span>718s\n",
              "</pre>\n"
            ],
            "text/plain": [
              "Epoch: \u001b[1;36m461\u001b[0m, Train loss: \u001b[1;36m0.009\u001b[0m, Val loss: \u001b[1;36m0.146\u001b[0m, Epoch time = \u001b[1;36m91.\u001b[0m718s\n"
            ]
          },
          "metadata": {
            "tags": []
          }
        },
        {
          "output_type": "display_data",
          "data": {
            "text/html": [
              "<pre style=\"white-space:pre;overflow-x:auto;line-height:normal;font-family:Menlo,'DejaVu Sans Mono',consolas,'Courier New',monospace\">Epoch: <span style=\"color: #008080; text-decoration-color: #008080; font-weight: bold\">462</span>, Train loss: <span style=\"color: #008080; text-decoration-color: #008080; font-weight: bold\">0.009</span>, Val loss: <span style=\"color: #008080; text-decoration-color: #008080; font-weight: bold\">0.146</span>, Epoch time = <span style=\"color: #008080; text-decoration-color: #008080; font-weight: bold\">91.</span>825s\n",
              "</pre>\n"
            ],
            "text/plain": [
              "Epoch: \u001b[1;36m462\u001b[0m, Train loss: \u001b[1;36m0.009\u001b[0m, Val loss: \u001b[1;36m0.146\u001b[0m, Epoch time = \u001b[1;36m91.\u001b[0m825s\n"
            ]
          },
          "metadata": {
            "tags": []
          }
        },
        {
          "output_type": "display_data",
          "data": {
            "text/html": [
              "<pre style=\"white-space:pre;overflow-x:auto;line-height:normal;font-family:Menlo,'DejaVu Sans Mono',consolas,'Courier New',monospace\">Epoch: <span style=\"color: #008080; text-decoration-color: #008080; font-weight: bold\">463</span>, Train loss: <span style=\"color: #008080; text-decoration-color: #008080; font-weight: bold\">0.009</span>, Val loss: <span style=\"color: #008080; text-decoration-color: #008080; font-weight: bold\">0.145</span>, Epoch time = <span style=\"color: #008080; text-decoration-color: #008080; font-weight: bold\">92.</span>076s\n",
              "</pre>\n"
            ],
            "text/plain": [
              "Epoch: \u001b[1;36m463\u001b[0m, Train loss: \u001b[1;36m0.009\u001b[0m, Val loss: \u001b[1;36m0.145\u001b[0m, Epoch time = \u001b[1;36m92.\u001b[0m076s\n"
            ]
          },
          "metadata": {
            "tags": []
          }
        },
        {
          "output_type": "display_data",
          "data": {
            "text/html": [
              "<pre style=\"white-space:pre;overflow-x:auto;line-height:normal;font-family:Menlo,'DejaVu Sans Mono',consolas,'Courier New',monospace\">Epoch: <span style=\"color: #008080; text-decoration-color: #008080; font-weight: bold\">464</span>, Train loss: <span style=\"color: #008080; text-decoration-color: #008080; font-weight: bold\">0.009</span>, Val loss: <span style=\"color: #008080; text-decoration-color: #008080; font-weight: bold\">0.150</span>, Epoch time = <span style=\"color: #008080; text-decoration-color: #008080; font-weight: bold\">92.</span>581s\n",
              "</pre>\n"
            ],
            "text/plain": [
              "Epoch: \u001b[1;36m464\u001b[0m, Train loss: \u001b[1;36m0.009\u001b[0m, Val loss: \u001b[1;36m0.150\u001b[0m, Epoch time = \u001b[1;36m92.\u001b[0m581s\n"
            ]
          },
          "metadata": {
            "tags": []
          }
        },
        {
          "output_type": "display_data",
          "data": {
            "text/html": [
              "<pre style=\"white-space:pre;overflow-x:auto;line-height:normal;font-family:Menlo,'DejaVu Sans Mono',consolas,'Courier New',monospace\">Epoch: <span style=\"color: #008080; text-decoration-color: #008080; font-weight: bold\">465</span>, Train loss: <span style=\"color: #008080; text-decoration-color: #008080; font-weight: bold\">0.009</span>, Val loss: <span style=\"color: #008080; text-decoration-color: #008080; font-weight: bold\">0.149</span>, Epoch time = <span style=\"color: #008080; text-decoration-color: #008080; font-weight: bold\">91.</span>912s\n",
              "</pre>\n"
            ],
            "text/plain": [
              "Epoch: \u001b[1;36m465\u001b[0m, Train loss: \u001b[1;36m0.009\u001b[0m, Val loss: \u001b[1;36m0.149\u001b[0m, Epoch time = \u001b[1;36m91.\u001b[0m912s\n"
            ]
          },
          "metadata": {
            "tags": []
          }
        },
        {
          "output_type": "display_data",
          "data": {
            "text/html": [
              "<pre style=\"white-space:pre;overflow-x:auto;line-height:normal;font-family:Menlo,'DejaVu Sans Mono',consolas,'Courier New',monospace\">Epoch: <span style=\"color: #008080; text-decoration-color: #008080; font-weight: bold\">466</span>, Train loss: <span style=\"color: #008080; text-decoration-color: #008080; font-weight: bold\">0.009</span>, Val loss: <span style=\"color: #008080; text-decoration-color: #008080; font-weight: bold\">0.150</span>, Epoch time = <span style=\"color: #008080; text-decoration-color: #008080; font-weight: bold\">92.</span>023s\n",
              "</pre>\n"
            ],
            "text/plain": [
              "Epoch: \u001b[1;36m466\u001b[0m, Train loss: \u001b[1;36m0.009\u001b[0m, Val loss: \u001b[1;36m0.150\u001b[0m, Epoch time = \u001b[1;36m92.\u001b[0m023s\n"
            ]
          },
          "metadata": {
            "tags": []
          }
        },
        {
          "output_type": "display_data",
          "data": {
            "text/html": [
              "<pre style=\"white-space:pre;overflow-x:auto;line-height:normal;font-family:Menlo,'DejaVu Sans Mono',consolas,'Courier New',monospace\">Epoch: <span style=\"color: #008080; text-decoration-color: #008080; font-weight: bold\">467</span>, Train loss: <span style=\"color: #008080; text-decoration-color: #008080; font-weight: bold\">0.009</span>, Val loss: <span style=\"color: #008080; text-decoration-color: #008080; font-weight: bold\">0.150</span>, Epoch time = <span style=\"color: #008080; text-decoration-color: #008080; font-weight: bold\">92.</span>338s\n",
              "</pre>\n"
            ],
            "text/plain": [
              "Epoch: \u001b[1;36m467\u001b[0m, Train loss: \u001b[1;36m0.009\u001b[0m, Val loss: \u001b[1;36m0.150\u001b[0m, Epoch time = \u001b[1;36m92.\u001b[0m338s\n"
            ]
          },
          "metadata": {
            "tags": []
          }
        },
        {
          "output_type": "display_data",
          "data": {
            "text/html": [
              "<pre style=\"white-space:pre;overflow-x:auto;line-height:normal;font-family:Menlo,'DejaVu Sans Mono',consolas,'Courier New',monospace\">Epoch: <span style=\"color: #008080; text-decoration-color: #008080; font-weight: bold\">468</span>, Train loss: <span style=\"color: #008080; text-decoration-color: #008080; font-weight: bold\">0.009</span>, Val loss: <span style=\"color: #008080; text-decoration-color: #008080; font-weight: bold\">0.146</span>, Epoch time = <span style=\"color: #008080; text-decoration-color: #008080; font-weight: bold\">91.</span>563s\n",
              "</pre>\n"
            ],
            "text/plain": [
              "Epoch: \u001b[1;36m468\u001b[0m, Train loss: \u001b[1;36m0.009\u001b[0m, Val loss: \u001b[1;36m0.146\u001b[0m, Epoch time = \u001b[1;36m91.\u001b[0m563s\n"
            ]
          },
          "metadata": {
            "tags": []
          }
        },
        {
          "output_type": "display_data",
          "data": {
            "text/html": [
              "<pre style=\"white-space:pre;overflow-x:auto;line-height:normal;font-family:Menlo,'DejaVu Sans Mono',consolas,'Courier New',monospace\">Epoch: <span style=\"color: #008080; text-decoration-color: #008080; font-weight: bold\">469</span>, Train loss: <span style=\"color: #008080; text-decoration-color: #008080; font-weight: bold\">0.009</span>, Val loss: <span style=\"color: #008080; text-decoration-color: #008080; font-weight: bold\">0.151</span>, Epoch time = <span style=\"color: #008080; text-decoration-color: #008080; font-weight: bold\">91.</span>812s\n",
              "</pre>\n"
            ],
            "text/plain": [
              "Epoch: \u001b[1;36m469\u001b[0m, Train loss: \u001b[1;36m0.009\u001b[0m, Val loss: \u001b[1;36m0.151\u001b[0m, Epoch time = \u001b[1;36m91.\u001b[0m812s\n"
            ]
          },
          "metadata": {
            "tags": []
          }
        },
        {
          "output_type": "display_data",
          "data": {
            "text/html": [
              "<pre style=\"white-space:pre;overflow-x:auto;line-height:normal;font-family:Menlo,'DejaVu Sans Mono',consolas,'Courier New',monospace\">Epoch: <span style=\"color: #008080; text-decoration-color: #008080; font-weight: bold\">470</span>, Train loss: <span style=\"color: #008080; text-decoration-color: #008080; font-weight: bold\">0.009</span>, Val loss: <span style=\"color: #008080; text-decoration-color: #008080; font-weight: bold\">0.151</span>, Epoch time = <span style=\"color: #008080; text-decoration-color: #008080; font-weight: bold\">91.</span>897s\n",
              "</pre>\n"
            ],
            "text/plain": [
              "Epoch: \u001b[1;36m470\u001b[0m, Train loss: \u001b[1;36m0.009\u001b[0m, Val loss: \u001b[1;36m0.151\u001b[0m, Epoch time = \u001b[1;36m91.\u001b[0m897s\n"
            ]
          },
          "metadata": {
            "tags": []
          }
        },
        {
          "output_type": "display_data",
          "data": {
            "text/html": [
              "<pre style=\"white-space:pre;overflow-x:auto;line-height:normal;font-family:Menlo,'DejaVu Sans Mono',consolas,'Courier New',monospace\">Epoch: <span style=\"color: #008080; text-decoration-color: #008080; font-weight: bold\">471</span>, Train loss: <span style=\"color: #008080; text-decoration-color: #008080; font-weight: bold\">0.009</span>, Val loss: <span style=\"color: #008080; text-decoration-color: #008080; font-weight: bold\">0.150</span>, Epoch time = <span style=\"color: #008080; text-decoration-color: #008080; font-weight: bold\">92.</span>196s\n",
              "</pre>\n"
            ],
            "text/plain": [
              "Epoch: \u001b[1;36m471\u001b[0m, Train loss: \u001b[1;36m0.009\u001b[0m, Val loss: \u001b[1;36m0.150\u001b[0m, Epoch time = \u001b[1;36m92.\u001b[0m196s\n"
            ]
          },
          "metadata": {
            "tags": []
          }
        },
        {
          "output_type": "display_data",
          "data": {
            "text/html": [
              "<pre style=\"white-space:pre;overflow-x:auto;line-height:normal;font-family:Menlo,'DejaVu Sans Mono',consolas,'Courier New',monospace\">Epoch: <span style=\"color: #008080; text-decoration-color: #008080; font-weight: bold\">472</span>, Train loss: <span style=\"color: #008080; text-decoration-color: #008080; font-weight: bold\">0.009</span>, Val loss: <span style=\"color: #008080; text-decoration-color: #008080; font-weight: bold\">0.149</span>, Epoch time = <span style=\"color: #008080; text-decoration-color: #008080; font-weight: bold\">91.</span>846s\n",
              "</pre>\n"
            ],
            "text/plain": [
              "Epoch: \u001b[1;36m472\u001b[0m, Train loss: \u001b[1;36m0.009\u001b[0m, Val loss: \u001b[1;36m0.149\u001b[0m, Epoch time = \u001b[1;36m91.\u001b[0m846s\n"
            ]
          },
          "metadata": {
            "tags": []
          }
        },
        {
          "output_type": "display_data",
          "data": {
            "text/html": [
              "<pre style=\"white-space:pre;overflow-x:auto;line-height:normal;font-family:Menlo,'DejaVu Sans Mono',consolas,'Courier New',monospace\">Epoch: <span style=\"color: #008080; text-decoration-color: #008080; font-weight: bold\">473</span>, Train loss: <span style=\"color: #008080; text-decoration-color: #008080; font-weight: bold\">0.009</span>, Val loss: <span style=\"color: #008080; text-decoration-color: #008080; font-weight: bold\">0.151</span>, Epoch time = <span style=\"color: #008080; text-decoration-color: #008080; font-weight: bold\">92.</span>072s\n",
              "</pre>\n"
            ],
            "text/plain": [
              "Epoch: \u001b[1;36m473\u001b[0m, Train loss: \u001b[1;36m0.009\u001b[0m, Val loss: \u001b[1;36m0.151\u001b[0m, Epoch time = \u001b[1;36m92.\u001b[0m072s\n"
            ]
          },
          "metadata": {
            "tags": []
          }
        },
        {
          "output_type": "display_data",
          "data": {
            "text/html": [
              "<pre style=\"white-space:pre;overflow-x:auto;line-height:normal;font-family:Menlo,'DejaVu Sans Mono',consolas,'Courier New',monospace\">Epoch: <span style=\"color: #008080; text-decoration-color: #008080; font-weight: bold\">474</span>, Train loss: <span style=\"color: #008080; text-decoration-color: #008080; font-weight: bold\">0.009</span>, Val loss: <span style=\"color: #008080; text-decoration-color: #008080; font-weight: bold\">0.152</span>, Epoch time = <span style=\"color: #008080; text-decoration-color: #008080; font-weight: bold\">91.</span>934s\n",
              "</pre>\n"
            ],
            "text/plain": [
              "Epoch: \u001b[1;36m474\u001b[0m, Train loss: \u001b[1;36m0.009\u001b[0m, Val loss: \u001b[1;36m0.152\u001b[0m, Epoch time = \u001b[1;36m91.\u001b[0m934s\n"
            ]
          },
          "metadata": {
            "tags": []
          }
        },
        {
          "output_type": "display_data",
          "data": {
            "text/html": [
              "<pre style=\"white-space:pre;overflow-x:auto;line-height:normal;font-family:Menlo,'DejaVu Sans Mono',consolas,'Courier New',monospace\">Epoch: <span style=\"color: #008080; text-decoration-color: #008080; font-weight: bold\">475</span>, Train loss: <span style=\"color: #008080; text-decoration-color: #008080; font-weight: bold\">0.009</span>, Val loss: <span style=\"color: #008080; text-decoration-color: #008080; font-weight: bold\">0.149</span>, Epoch time = <span style=\"color: #008080; text-decoration-color: #008080; font-weight: bold\">91.</span>872s\n",
              "</pre>\n"
            ],
            "text/plain": [
              "Epoch: \u001b[1;36m475\u001b[0m, Train loss: \u001b[1;36m0.009\u001b[0m, Val loss: \u001b[1;36m0.149\u001b[0m, Epoch time = \u001b[1;36m91.\u001b[0m872s\n"
            ]
          },
          "metadata": {
            "tags": []
          }
        },
        {
          "output_type": "display_data",
          "data": {
            "text/html": [
              "<pre style=\"white-space:pre;overflow-x:auto;line-height:normal;font-family:Menlo,'DejaVu Sans Mono',consolas,'Courier New',monospace\">Epoch: <span style=\"color: #008080; text-decoration-color: #008080; font-weight: bold\">476</span>, Train loss: <span style=\"color: #008080; text-decoration-color: #008080; font-weight: bold\">0.009</span>, Val loss: <span style=\"color: #008080; text-decoration-color: #008080; font-weight: bold\">0.147</span>, Epoch time = <span style=\"color: #008080; text-decoration-color: #008080; font-weight: bold\">91.</span>622s\n",
              "</pre>\n"
            ],
            "text/plain": [
              "Epoch: \u001b[1;36m476\u001b[0m, Train loss: \u001b[1;36m0.009\u001b[0m, Val loss: \u001b[1;36m0.147\u001b[0m, Epoch time = \u001b[1;36m91.\u001b[0m622s\n"
            ]
          },
          "metadata": {
            "tags": []
          }
        },
        {
          "output_type": "display_data",
          "data": {
            "text/html": [
              "<pre style=\"white-space:pre;overflow-x:auto;line-height:normal;font-family:Menlo,'DejaVu Sans Mono',consolas,'Courier New',monospace\">Epoch: <span style=\"color: #008080; text-decoration-color: #008080; font-weight: bold\">477</span>, Train loss: <span style=\"color: #008080; text-decoration-color: #008080; font-weight: bold\">0.008</span>, Val loss: <span style=\"color: #008080; text-decoration-color: #008080; font-weight: bold\">0.151</span>, Epoch time = <span style=\"color: #008080; text-decoration-color: #008080; font-weight: bold\">92.</span>006s\n",
              "</pre>\n"
            ],
            "text/plain": [
              "Epoch: \u001b[1;36m477\u001b[0m, Train loss: \u001b[1;36m0.008\u001b[0m, Val loss: \u001b[1;36m0.151\u001b[0m, Epoch time = \u001b[1;36m92.\u001b[0m006s\n"
            ]
          },
          "metadata": {
            "tags": []
          }
        },
        {
          "output_type": "display_data",
          "data": {
            "text/html": [
              "<pre style=\"white-space:pre;overflow-x:auto;line-height:normal;font-family:Menlo,'DejaVu Sans Mono',consolas,'Courier New',monospace\">Epoch: <span style=\"color: #008080; text-decoration-color: #008080; font-weight: bold\">478</span>, Train loss: <span style=\"color: #008080; text-decoration-color: #008080; font-weight: bold\">0.009</span>, Val loss: <span style=\"color: #008080; text-decoration-color: #008080; font-weight: bold\">0.149</span>, Epoch time = <span style=\"color: #008080; text-decoration-color: #008080; font-weight: bold\">91.</span>301s\n",
              "</pre>\n"
            ],
            "text/plain": [
              "Epoch: \u001b[1;36m478\u001b[0m, Train loss: \u001b[1;36m0.009\u001b[0m, Val loss: \u001b[1;36m0.149\u001b[0m, Epoch time = \u001b[1;36m91.\u001b[0m301s\n"
            ]
          },
          "metadata": {
            "tags": []
          }
        },
        {
          "output_type": "display_data",
          "data": {
            "text/html": [
              "<pre style=\"white-space:pre;overflow-x:auto;line-height:normal;font-family:Menlo,'DejaVu Sans Mono',consolas,'Courier New',monospace\">Epoch: <span style=\"color: #008080; text-decoration-color: #008080; font-weight: bold\">479</span>, Train loss: <span style=\"color: #008080; text-decoration-color: #008080; font-weight: bold\">0.009</span>, Val loss: <span style=\"color: #008080; text-decoration-color: #008080; font-weight: bold\">0.151</span>, Epoch time = <span style=\"color: #008080; text-decoration-color: #008080; font-weight: bold\">92.</span>393s\n",
              "</pre>\n"
            ],
            "text/plain": [
              "Epoch: \u001b[1;36m479\u001b[0m, Train loss: \u001b[1;36m0.009\u001b[0m, Val loss: \u001b[1;36m0.151\u001b[0m, Epoch time = \u001b[1;36m92.\u001b[0m393s\n"
            ]
          },
          "metadata": {
            "tags": []
          }
        },
        {
          "output_type": "display_data",
          "data": {
            "text/html": [
              "<pre style=\"white-space:pre;overflow-x:auto;line-height:normal;font-family:Menlo,'DejaVu Sans Mono',consolas,'Courier New',monospace\">Epoch: <span style=\"color: #008080; text-decoration-color: #008080; font-weight: bold\">480</span>, Train loss: <span style=\"color: #008080; text-decoration-color: #008080; font-weight: bold\">0.009</span>, Val loss: <span style=\"color: #008080; text-decoration-color: #008080; font-weight: bold\">0.151</span>, Epoch time = <span style=\"color: #008080; text-decoration-color: #008080; font-weight: bold\">92.</span>641s\n",
              "</pre>\n"
            ],
            "text/plain": [
              "Epoch: \u001b[1;36m480\u001b[0m, Train loss: \u001b[1;36m0.009\u001b[0m, Val loss: \u001b[1;36m0.151\u001b[0m, Epoch time = \u001b[1;36m92.\u001b[0m641s\n"
            ]
          },
          "metadata": {
            "tags": []
          }
        },
        {
          "output_type": "display_data",
          "data": {
            "text/html": [
              "<pre style=\"white-space:pre;overflow-x:auto;line-height:normal;font-family:Menlo,'DejaVu Sans Mono',consolas,'Courier New',monospace\">Epoch: <span style=\"color: #008080; text-decoration-color: #008080; font-weight: bold\">481</span>, Train loss: <span style=\"color: #008080; text-decoration-color: #008080; font-weight: bold\">0.009</span>, Val loss: <span style=\"color: #008080; text-decoration-color: #008080; font-weight: bold\">0.149</span>, Epoch time = <span style=\"color: #008080; text-decoration-color: #008080; font-weight: bold\">92.</span>833s\n",
              "</pre>\n"
            ],
            "text/plain": [
              "Epoch: \u001b[1;36m481\u001b[0m, Train loss: \u001b[1;36m0.009\u001b[0m, Val loss: \u001b[1;36m0.149\u001b[0m, Epoch time = \u001b[1;36m92.\u001b[0m833s\n"
            ]
          },
          "metadata": {
            "tags": []
          }
        },
        {
          "output_type": "display_data",
          "data": {
            "text/html": [
              "<pre style=\"white-space:pre;overflow-x:auto;line-height:normal;font-family:Menlo,'DejaVu Sans Mono',consolas,'Courier New',monospace\">Epoch: <span style=\"color: #008080; text-decoration-color: #008080; font-weight: bold\">482</span>, Train loss: <span style=\"color: #008080; text-decoration-color: #008080; font-weight: bold\">0.008</span>, Val loss: <span style=\"color: #008080; text-decoration-color: #008080; font-weight: bold\">0.152</span>, Epoch time = <span style=\"color: #008080; text-decoration-color: #008080; font-weight: bold\">91.</span>959s\n",
              "</pre>\n"
            ],
            "text/plain": [
              "Epoch: \u001b[1;36m482\u001b[0m, Train loss: \u001b[1;36m0.008\u001b[0m, Val loss: \u001b[1;36m0.152\u001b[0m, Epoch time = \u001b[1;36m91.\u001b[0m959s\n"
            ]
          },
          "metadata": {
            "tags": []
          }
        },
        {
          "output_type": "display_data",
          "data": {
            "text/html": [
              "<pre style=\"white-space:pre;overflow-x:auto;line-height:normal;font-family:Menlo,'DejaVu Sans Mono',consolas,'Courier New',monospace\">Epoch: <span style=\"color: #008080; text-decoration-color: #008080; font-weight: bold\">483</span>, Train loss: <span style=\"color: #008080; text-decoration-color: #008080; font-weight: bold\">0.009</span>, Val loss: <span style=\"color: #008080; text-decoration-color: #008080; font-weight: bold\">0.150</span>, Epoch time = <span style=\"color: #008080; text-decoration-color: #008080; font-weight: bold\">92.</span>043s\n",
              "</pre>\n"
            ],
            "text/plain": [
              "Epoch: \u001b[1;36m483\u001b[0m, Train loss: \u001b[1;36m0.009\u001b[0m, Val loss: \u001b[1;36m0.150\u001b[0m, Epoch time = \u001b[1;36m92.\u001b[0m043s\n"
            ]
          },
          "metadata": {
            "tags": []
          }
        },
        {
          "output_type": "display_data",
          "data": {
            "text/html": [
              "<pre style=\"white-space:pre;overflow-x:auto;line-height:normal;font-family:Menlo,'DejaVu Sans Mono',consolas,'Courier New',monospace\">Epoch: <span style=\"color: #008080; text-decoration-color: #008080; font-weight: bold\">484</span>, Train loss: <span style=\"color: #008080; text-decoration-color: #008080; font-weight: bold\">0.009</span>, Val loss: <span style=\"color: #008080; text-decoration-color: #008080; font-weight: bold\">0.149</span>, Epoch time = <span style=\"color: #008080; text-decoration-color: #008080; font-weight: bold\">92.</span>475s\n",
              "</pre>\n"
            ],
            "text/plain": [
              "Epoch: \u001b[1;36m484\u001b[0m, Train loss: \u001b[1;36m0.009\u001b[0m, Val loss: \u001b[1;36m0.149\u001b[0m, Epoch time = \u001b[1;36m92.\u001b[0m475s\n"
            ]
          },
          "metadata": {
            "tags": []
          }
        },
        {
          "output_type": "display_data",
          "data": {
            "text/html": [
              "<pre style=\"white-space:pre;overflow-x:auto;line-height:normal;font-family:Menlo,'DejaVu Sans Mono',consolas,'Courier New',monospace\">Epoch: <span style=\"color: #008080; text-decoration-color: #008080; font-weight: bold\">485</span>, Train loss: <span style=\"color: #008080; text-decoration-color: #008080; font-weight: bold\">0.009</span>, Val loss: <span style=\"color: #008080; text-decoration-color: #008080; font-weight: bold\">0.148</span>, Epoch time = <span style=\"color: #008080; text-decoration-color: #008080; font-weight: bold\">92.</span>172s\n",
              "</pre>\n"
            ],
            "text/plain": [
              "Epoch: \u001b[1;36m485\u001b[0m, Train loss: \u001b[1;36m0.009\u001b[0m, Val loss: \u001b[1;36m0.148\u001b[0m, Epoch time = \u001b[1;36m92.\u001b[0m172s\n"
            ]
          },
          "metadata": {
            "tags": []
          }
        },
        {
          "output_type": "display_data",
          "data": {
            "text/html": [
              "<pre style=\"white-space:pre;overflow-x:auto;line-height:normal;font-family:Menlo,'DejaVu Sans Mono',consolas,'Courier New',monospace\">Epoch: <span style=\"color: #008080; text-decoration-color: #008080; font-weight: bold\">486</span>, Train loss: <span style=\"color: #008080; text-decoration-color: #008080; font-weight: bold\">0.009</span>, Val loss: <span style=\"color: #008080; text-decoration-color: #008080; font-weight: bold\">0.148</span>, Epoch time = <span style=\"color: #008080; text-decoration-color: #008080; font-weight: bold\">91.</span>708s\n",
              "</pre>\n"
            ],
            "text/plain": [
              "Epoch: \u001b[1;36m486\u001b[0m, Train loss: \u001b[1;36m0.009\u001b[0m, Val loss: \u001b[1;36m0.148\u001b[0m, Epoch time = \u001b[1;36m91.\u001b[0m708s\n"
            ]
          },
          "metadata": {
            "tags": []
          }
        },
        {
          "output_type": "display_data",
          "data": {
            "text/html": [
              "<pre style=\"white-space:pre;overflow-x:auto;line-height:normal;font-family:Menlo,'DejaVu Sans Mono',consolas,'Courier New',monospace\">Epoch: <span style=\"color: #008080; text-decoration-color: #008080; font-weight: bold\">487</span>, Train loss: <span style=\"color: #008080; text-decoration-color: #008080; font-weight: bold\">0.009</span>, Val loss: <span style=\"color: #008080; text-decoration-color: #008080; font-weight: bold\">0.149</span>, Epoch time = <span style=\"color: #008080; text-decoration-color: #008080; font-weight: bold\">92.</span>230s\n",
              "</pre>\n"
            ],
            "text/plain": [
              "Epoch: \u001b[1;36m487\u001b[0m, Train loss: \u001b[1;36m0.009\u001b[0m, Val loss: \u001b[1;36m0.149\u001b[0m, Epoch time = \u001b[1;36m92.\u001b[0m230s\n"
            ]
          },
          "metadata": {
            "tags": []
          }
        },
        {
          "output_type": "display_data",
          "data": {
            "text/html": [
              "<pre style=\"white-space:pre;overflow-x:auto;line-height:normal;font-family:Menlo,'DejaVu Sans Mono',consolas,'Courier New',monospace\">Epoch: <span style=\"color: #008080; text-decoration-color: #008080; font-weight: bold\">488</span>, Train loss: <span style=\"color: #008080; text-decoration-color: #008080; font-weight: bold\">0.009</span>, Val loss: <span style=\"color: #008080; text-decoration-color: #008080; font-weight: bold\">0.157</span>, Epoch time = <span style=\"color: #008080; text-decoration-color: #008080; font-weight: bold\">92.</span>039s\n",
              "</pre>\n"
            ],
            "text/plain": [
              "Epoch: \u001b[1;36m488\u001b[0m, Train loss: \u001b[1;36m0.009\u001b[0m, Val loss: \u001b[1;36m0.157\u001b[0m, Epoch time = \u001b[1;36m92.\u001b[0m039s\n"
            ]
          },
          "metadata": {
            "tags": []
          }
        },
        {
          "output_type": "display_data",
          "data": {
            "text/html": [
              "<pre style=\"white-space:pre;overflow-x:auto;line-height:normal;font-family:Menlo,'DejaVu Sans Mono',consolas,'Courier New',monospace\">Epoch: <span style=\"color: #008080; text-decoration-color: #008080; font-weight: bold\">489</span>, Train loss: <span style=\"color: #008080; text-decoration-color: #008080; font-weight: bold\">0.009</span>, Val loss: <span style=\"color: #008080; text-decoration-color: #008080; font-weight: bold\">0.149</span>, Epoch time = <span style=\"color: #008080; text-decoration-color: #008080; font-weight: bold\">91.</span>612s\n",
              "</pre>\n"
            ],
            "text/plain": [
              "Epoch: \u001b[1;36m489\u001b[0m, Train loss: \u001b[1;36m0.009\u001b[0m, Val loss: \u001b[1;36m0.149\u001b[0m, Epoch time = \u001b[1;36m91.\u001b[0m612s\n"
            ]
          },
          "metadata": {
            "tags": []
          }
        },
        {
          "output_type": "display_data",
          "data": {
            "text/html": [
              "<pre style=\"white-space:pre;overflow-x:auto;line-height:normal;font-family:Menlo,'DejaVu Sans Mono',consolas,'Courier New',monospace\">Epoch: <span style=\"color: #008080; text-decoration-color: #008080; font-weight: bold\">490</span>, Train loss: <span style=\"color: #008080; text-decoration-color: #008080; font-weight: bold\">0.008</span>, Val loss: <span style=\"color: #008080; text-decoration-color: #008080; font-weight: bold\">0.149</span>, Epoch time = <span style=\"color: #008080; text-decoration-color: #008080; font-weight: bold\">92.</span>014s\n",
              "</pre>\n"
            ],
            "text/plain": [
              "Epoch: \u001b[1;36m490\u001b[0m, Train loss: \u001b[1;36m0.008\u001b[0m, Val loss: \u001b[1;36m0.149\u001b[0m, Epoch time = \u001b[1;36m92.\u001b[0m014s\n"
            ]
          },
          "metadata": {
            "tags": []
          }
        },
        {
          "output_type": "display_data",
          "data": {
            "text/html": [
              "<pre style=\"white-space:pre;overflow-x:auto;line-height:normal;font-family:Menlo,'DejaVu Sans Mono',consolas,'Courier New',monospace\">Epoch: <span style=\"color: #008080; text-decoration-color: #008080; font-weight: bold\">491</span>, Train loss: <span style=\"color: #008080; text-decoration-color: #008080; font-weight: bold\">0.008</span>, Val loss: <span style=\"color: #008080; text-decoration-color: #008080; font-weight: bold\">0.147</span>, Epoch time = <span style=\"color: #008080; text-decoration-color: #008080; font-weight: bold\">91.</span>886s\n",
              "</pre>\n"
            ],
            "text/plain": [
              "Epoch: \u001b[1;36m491\u001b[0m, Train loss: \u001b[1;36m0.008\u001b[0m, Val loss: \u001b[1;36m0.147\u001b[0m, Epoch time = \u001b[1;36m91.\u001b[0m886s\n"
            ]
          },
          "metadata": {
            "tags": []
          }
        },
        {
          "output_type": "display_data",
          "data": {
            "text/html": [
              "<pre style=\"white-space:pre;overflow-x:auto;line-height:normal;font-family:Menlo,'DejaVu Sans Mono',consolas,'Courier New',monospace\">Epoch: <span style=\"color: #008080; text-decoration-color: #008080; font-weight: bold\">492</span>, Train loss: <span style=\"color: #008080; text-decoration-color: #008080; font-weight: bold\">0.008</span>, Val loss: <span style=\"color: #008080; text-decoration-color: #008080; font-weight: bold\">0.150</span>, Epoch time = <span style=\"color: #008080; text-decoration-color: #008080; font-weight: bold\">91.</span>193s\n",
              "</pre>\n"
            ],
            "text/plain": [
              "Epoch: \u001b[1;36m492\u001b[0m, Train loss: \u001b[1;36m0.008\u001b[0m, Val loss: \u001b[1;36m0.150\u001b[0m, Epoch time = \u001b[1;36m91.\u001b[0m193s\n"
            ]
          },
          "metadata": {
            "tags": []
          }
        },
        {
          "output_type": "display_data",
          "data": {
            "text/html": [
              "<pre style=\"white-space:pre;overflow-x:auto;line-height:normal;font-family:Menlo,'DejaVu Sans Mono',consolas,'Courier New',monospace\">Epoch: <span style=\"color: #008080; text-decoration-color: #008080; font-weight: bold\">493</span>, Train loss: <span style=\"color: #008080; text-decoration-color: #008080; font-weight: bold\">0.008</span>, Val loss: <span style=\"color: #008080; text-decoration-color: #008080; font-weight: bold\">0.153</span>, Epoch time = <span style=\"color: #008080; text-decoration-color: #008080; font-weight: bold\">91.</span>290s\n",
              "</pre>\n"
            ],
            "text/plain": [
              "Epoch: \u001b[1;36m493\u001b[0m, Train loss: \u001b[1;36m0.008\u001b[0m, Val loss: \u001b[1;36m0.153\u001b[0m, Epoch time = \u001b[1;36m91.\u001b[0m290s\n"
            ]
          },
          "metadata": {
            "tags": []
          }
        },
        {
          "output_type": "display_data",
          "data": {
            "text/html": [
              "<pre style=\"white-space:pre;overflow-x:auto;line-height:normal;font-family:Menlo,'DejaVu Sans Mono',consolas,'Courier New',monospace\">Epoch: <span style=\"color: #008080; text-decoration-color: #008080; font-weight: bold\">494</span>, Train loss: <span style=\"color: #008080; text-decoration-color: #008080; font-weight: bold\">0.008</span>, Val loss: <span style=\"color: #008080; text-decoration-color: #008080; font-weight: bold\">0.149</span>, Epoch time = <span style=\"color: #008080; text-decoration-color: #008080; font-weight: bold\">92.</span>251s\n",
              "</pre>\n"
            ],
            "text/plain": [
              "Epoch: \u001b[1;36m494\u001b[0m, Train loss: \u001b[1;36m0.008\u001b[0m, Val loss: \u001b[1;36m0.149\u001b[0m, Epoch time = \u001b[1;36m92.\u001b[0m251s\n"
            ]
          },
          "metadata": {
            "tags": []
          }
        },
        {
          "output_type": "display_data",
          "data": {
            "text/html": [
              "<pre style=\"white-space:pre;overflow-x:auto;line-height:normal;font-family:Menlo,'DejaVu Sans Mono',consolas,'Courier New',monospace\">Epoch: <span style=\"color: #008080; text-decoration-color: #008080; font-weight: bold\">495</span>, Train loss: <span style=\"color: #008080; text-decoration-color: #008080; font-weight: bold\">0.008</span>, Val loss: <span style=\"color: #008080; text-decoration-color: #008080; font-weight: bold\">0.152</span>, Epoch time = <span style=\"color: #008080; text-decoration-color: #008080; font-weight: bold\">92.</span>014s\n",
              "</pre>\n"
            ],
            "text/plain": [
              "Epoch: \u001b[1;36m495\u001b[0m, Train loss: \u001b[1;36m0.008\u001b[0m, Val loss: \u001b[1;36m0.152\u001b[0m, Epoch time = \u001b[1;36m92.\u001b[0m014s\n"
            ]
          },
          "metadata": {
            "tags": []
          }
        },
        {
          "output_type": "display_data",
          "data": {
            "text/html": [
              "<pre style=\"white-space:pre;overflow-x:auto;line-height:normal;font-family:Menlo,'DejaVu Sans Mono',consolas,'Courier New',monospace\">Epoch: <span style=\"color: #008080; text-decoration-color: #008080; font-weight: bold\">496</span>, Train loss: <span style=\"color: #008080; text-decoration-color: #008080; font-weight: bold\">0.009</span>, Val loss: <span style=\"color: #008080; text-decoration-color: #008080; font-weight: bold\">0.153</span>, Epoch time = <span style=\"color: #008080; text-decoration-color: #008080; font-weight: bold\">91.</span>932s\n",
              "</pre>\n"
            ],
            "text/plain": [
              "Epoch: \u001b[1;36m496\u001b[0m, Train loss: \u001b[1;36m0.009\u001b[0m, Val loss: \u001b[1;36m0.153\u001b[0m, Epoch time = \u001b[1;36m91.\u001b[0m932s\n"
            ]
          },
          "metadata": {
            "tags": []
          }
        },
        {
          "output_type": "display_data",
          "data": {
            "text/html": [
              "<pre style=\"white-space:pre;overflow-x:auto;line-height:normal;font-family:Menlo,'DejaVu Sans Mono',consolas,'Courier New',monospace\">Epoch: <span style=\"color: #008080; text-decoration-color: #008080; font-weight: bold\">497</span>, Train loss: <span style=\"color: #008080; text-decoration-color: #008080; font-weight: bold\">0.008</span>, Val loss: <span style=\"color: #008080; text-decoration-color: #008080; font-weight: bold\">0.156</span>, Epoch time = <span style=\"color: #008080; text-decoration-color: #008080; font-weight: bold\">92.</span>489s\n",
              "</pre>\n"
            ],
            "text/plain": [
              "Epoch: \u001b[1;36m497\u001b[0m, Train loss: \u001b[1;36m0.008\u001b[0m, Val loss: \u001b[1;36m0.156\u001b[0m, Epoch time = \u001b[1;36m92.\u001b[0m489s\n"
            ]
          },
          "metadata": {
            "tags": []
          }
        },
        {
          "output_type": "display_data",
          "data": {
            "text/html": [
              "<pre style=\"white-space:pre;overflow-x:auto;line-height:normal;font-family:Menlo,'DejaVu Sans Mono',consolas,'Courier New',monospace\">Epoch: <span style=\"color: #008080; text-decoration-color: #008080; font-weight: bold\">498</span>, Train loss: <span style=\"color: #008080; text-decoration-color: #008080; font-weight: bold\">0.008</span>, Val loss: <span style=\"color: #008080; text-decoration-color: #008080; font-weight: bold\">0.150</span>, Epoch time = <span style=\"color: #008080; text-decoration-color: #008080; font-weight: bold\">92.</span>179s\n",
              "</pre>\n"
            ],
            "text/plain": [
              "Epoch: \u001b[1;36m498\u001b[0m, Train loss: \u001b[1;36m0.008\u001b[0m, Val loss: \u001b[1;36m0.150\u001b[0m, Epoch time = \u001b[1;36m92.\u001b[0m179s\n"
            ]
          },
          "metadata": {
            "tags": []
          }
        },
        {
          "output_type": "display_data",
          "data": {
            "text/html": [
              "<pre style=\"white-space:pre;overflow-x:auto;line-height:normal;font-family:Menlo,'DejaVu Sans Mono',consolas,'Courier New',monospace\">Epoch: <span style=\"color: #008080; text-decoration-color: #008080; font-weight: bold\">499</span>, Train loss: <span style=\"color: #008080; text-decoration-color: #008080; font-weight: bold\">0.008</span>, Val loss: <span style=\"color: #008080; text-decoration-color: #008080; font-weight: bold\">0.149</span>, Epoch time = <span style=\"color: #008080; text-decoration-color: #008080; font-weight: bold\">92.</span>264s\n",
              "</pre>\n"
            ],
            "text/plain": [
              "Epoch: \u001b[1;36m499\u001b[0m, Train loss: \u001b[1;36m0.008\u001b[0m, Val loss: \u001b[1;36m0.149\u001b[0m, Epoch time = \u001b[1;36m92.\u001b[0m264s\n"
            ]
          },
          "metadata": {
            "tags": []
          }
        },
        {
          "output_type": "display_data",
          "data": {
            "text/html": [
              "<pre style=\"white-space:pre;overflow-x:auto;line-height:normal;font-family:Menlo,'DejaVu Sans Mono',consolas,'Courier New',monospace\">true\n",
              "</pre>\n"
            ],
            "text/plain": [
              "true\n"
            ]
          },
          "metadata": {
            "tags": []
          }
        },
        {
          "output_type": "display_data",
          "data": {
            "text/html": [
              "<pre style=\"white-space:pre;overflow-x:auto;line-height:normal;font-family:Menlo,'DejaVu Sans Mono',consolas,'Courier New',monospace\">=&gt; Saving checkpoint\n",
              "</pre>\n"
            ],
            "text/plain": [
              "=> Saving checkpoint\n"
            ]
          },
          "metadata": {
            "tags": []
          }
        },
        {
          "output_type": "display_data",
          "data": {
            "text/html": [
              "<pre style=\"white-space:pre;overflow-x:auto;line-height:normal;font-family:Menlo,'DejaVu Sans Mono',consolas,'Courier New',monospace\">Epoch: <span style=\"color: #008080; text-decoration-color: #008080; font-weight: bold\">500</span>, Train loss: <span style=\"color: #008080; text-decoration-color: #008080; font-weight: bold\">0.008</span>, Val loss: <span style=\"color: #008080; text-decoration-color: #008080; font-weight: bold\">0.149</span>, Epoch time = <span style=\"color: #008080; text-decoration-color: #008080; font-weight: bold\">91.</span>585s\n",
              "</pre>\n"
            ],
            "text/plain": [
              "Epoch: \u001b[1;36m500\u001b[0m, Train loss: \u001b[1;36m0.008\u001b[0m, Val loss: \u001b[1;36m0.149\u001b[0m, Epoch time = \u001b[1;36m91.\u001b[0m585s\n"
            ]
          },
          "metadata": {
            "tags": []
          }
        },
        {
          "output_type": "display_data",
          "data": {
            "text/html": [
              "<pre style=\"white-space:pre;overflow-x:auto;line-height:normal;font-family:Menlo,'DejaVu Sans Mono',consolas,'Courier New',monospace\">Done!\n",
              "</pre>\n"
            ],
            "text/plain": [
              "Done!\n"
            ]
          },
          "metadata": {
            "tags": []
          }
        }
      ]
    },
    {
      "cell_type": "markdown",
      "metadata": {
        "id": "_G6RxBQKZECv"
      },
      "source": [
        "#Plot graph"
      ],
      "id": "_G6RxBQKZECv"
    },
    {
      "cell_type": "code",
      "metadata": {
        "colab": {
          "base_uri": "https://localhost:8080/",
          "height": 350
        },
        "id": "OgMZrMbwP_VO",
        "outputId": "1ad5317c-a589-4256-cbb2-33cc97aaffb0"
      },
      "source": [
        "#https://machinelearningmastery.com/display-deep-learning-model-training-history-in-keras/\n",
        "import numpy as np\n",
        "#https://pytorch.org/tutorials/beginner/fgsm_tutorial.html\n",
        "plt.figure(figsize=(5,5))\n",
        "plt.plot(train_loss_ex)\n",
        "plt.plot(val_loss_ex)\n",
        "#plt.yticks(np.arange(0.2, 1.5, step=0.1))\n",
        "#plt.xticks(np.arange(1, 15, step=1))\n",
        "plt.title(\"model loss\")\n",
        "plt.xlabel(\"Epoch\")\n",
        "plt.ylabel(\"Loss\")\n",
        "plt.legend(['train', 'val'], loc='upper left')\n",
        "plt.show()"
      ],
      "id": "OgMZrMbwP_VO",
      "execution_count": 23,
      "outputs": [
        {
          "output_type": "display_data",
          "data": {
            "image/png": "[encoded data removed]",
            "text/plain": [
              "<Figure size 360x360 with 1 Axes>"
            ]
          },
          "metadata": {
            "tags": [],
            "needs_background": "light"
          }
        }
      ]
    },
    {
      "cell_type": "code",
      "metadata": {
        "id": "vuD7kQ2U8Ywj"
      },
      "source": [
        "#total_data_loss = pd.Series(epoch_ex,train_loss_ex,val_loss_ex)\n",
        "total_train_loss = pd.Series(train_loss_ex)\n",
        "total_val_loss = pd.Series(val_loss_ex)\n",
        "total_train_loss=pd.DataFrame(total_train_loss, columns=[\"train loss\"])\n",
        "total_val_loss =pd.DataFrame(total_val_loss, columns=[\"val loss\"])\n",
        "total_data_loss=pd.concat([total_train_loss,total_val_loss], axis=1)\n",
        "total_train_loss\n",
        "total_data_loss.to_csv(r'total_loss.csv',  index=None)"
      ],
      "id": "vuD7kQ2U8Ywj",
      "execution_count": 55,
      "outputs": []
    },
    {
      "cell_type": "markdown",
      "metadata": {
        "id": "BR18XFXdTnG5"
      },
      "source": [
        "# Save model"
      ],
      "id": "BR18XFXdTnG5"
    },
    {
      "cell_type": "code",
      "metadata": {
        "id": "G6LO44AGTiGC"
      },
      "source": [
        "#https://pytorch.org/tutorials/beginner/basics/saveloadrun_tutorial.html"
      ],
      "id": "G6LO44AGTiGC",
      "execution_count": 24,
      "outputs": []
    },
    {
      "cell_type": "code",
      "metadata": {
        "id": "Dp04s1QPSggC"
      },
      "source": [
        "save_name=\"model_tranformer_epochs_\"+str(NUM_EPOCHS)+\".pth\"\n",
        "torch.save(transformer,save_name)"
      ],
      "id": "Dp04s1QPSggC",
      "execution_count": 25,
      "outputs": []
    },
    {
      "cell_type": "code",
      "metadata": {
        "colab": {
          "base_uri": "https://localhost:8080/",
          "height": 17
        },
        "id": "G727aVpIfFNd",
        "outputId": "e99f1ac2-5b99-44a7-a953-40aa2f8ec7b6"
      },
      "source": [
        "from google.colab import files\n",
        "files.download(save_name)"
      ],
      "id": "G727aVpIfFNd",
      "execution_count": 26,
      "outputs": [
        {
          "output_type": "display_data",
          "data": {
            "application/javascript": [
              "\n",
              "    async function download(id, filename, size) {\n",
              "      if (!google.colab.kernel.accessAllowed) {\n",
              "        return;\n",
              "      }\n",
              "      const div = document.createElement('div');\n",
              "      const label = document.createElement('label');\n",
              "      label.textContent = `Downloading \"${filename}\": `;\n",
              "      div.appendChild(label);\n",
              "      const progress = document.createElement('progress');\n",
              "      progress.max = size;\n",
              "      div.appendChild(progress);\n",
              "      document.body.appendChild(div);\n",
              "\n",
              "      const buffers = [];\n",
              "      let downloaded = 0;\n",
              "\n",
              "      const channel = await google.colab.kernel.comms.open(id);\n",
              "      // Send a message to notify the kernel that we're ready.\n",
              "      channel.send({})\n",
              "\n",
              "      for await (const message of channel.messages) {\n",
              "        // Send a message to notify the kernel that we're ready.\n",
              "        channel.send({})\n",
              "        if (message.buffers) {\n",
              "          for (const buffer of message.buffers) {\n",
              "            buffers.push(buffer);\n",
              "            downloaded += buffer.byteLength;\n",
              "            progress.value = downloaded;\n",
              "          }\n",
              "        }\n",
              "      }\n",
              "      const blob = new Blob(buffers, {type: 'application/binary'});\n",
              "      const a = document.createElement('a');\n",
              "      a.href = window.URL.createObjectURL(blob);\n",
              "      a.download = filename;\n",
              "      div.appendChild(a);\n",
              "      a.click();\n",
              "      div.remove();\n",
              "    }\n",
              "  "
            ],
            "text/plain": [
              "<IPython.core.display.Javascript object>"
            ]
          },
          "metadata": {
            "tags": []
          }
        },
        {
          "output_type": "display_data",
          "data": {
            "application/javascript": [
              "download(\"download_fe2af2ce-d093-43bf-88aa-fb0e74f98523\", \"model_tranformer_epochs_500.pth\", 61089158)"
            ],
            "text/plain": [
              "<IPython.core.display.Javascript object>"
            ]
          },
          "metadata": {
            "tags": []
          }
        }
      ]
    },
    {
      "cell_type": "markdown",
      "metadata": {
        "id": "CG4a4hNDDzie"
      },
      "source": [
        "save file .pt"
      ],
      "id": "CG4a4hNDDzie"
    },
    {
      "cell_type": "code",
      "metadata": {
        "id": "LAInYkolDgXE"
      },
      "source": [
        "save_name_pt=\"model_tranformer_epochs_\"+str(NUM_EPOCHS)+\".pt\"\n",
        "torch.save(transformer,save_name_pt)"
      ],
      "id": "LAInYkolDgXE",
      "execution_count": null,
      "outputs": []
    },
    {
      "cell_type": "code",
      "metadata": {
        "colab": {
          "base_uri": "https://localhost:8080/",
          "height": 34
        },
        "id": "Wn2T5UBGDkBe",
        "outputId": "41dd0d91-3cf7-42f0-a978-6198e6c10482"
      },
      "source": [
        "files.download(\"/content/my_checkpoint_300.pth\")"
      ],
      "id": "Wn2T5UBGDkBe",
      "execution_count": 48,
      "outputs": [
        {
          "output_type": "display_data",
          "data": {
            "application/javascript": [
              "\n",
              "    async function download(id, filename, size) {\n",
              "      if (!google.colab.kernel.accessAllowed) {\n",
              "        return;\n",
              "      }\n",
              "      const div = document.createElement('div');\n",
              "      const label = document.createElement('label');\n",
              "      label.textContent = `Downloading \"${filename}\": `;\n",
              "      div.appendChild(label);\n",
              "      const progress = document.createElement('progress');\n",
              "      progress.max = size;\n",
              "      div.appendChild(progress);\n",
              "      document.body.appendChild(div);\n",
              "\n",
              "      const buffers = [];\n",
              "      let downloaded = 0;\n",
              "\n",
              "      const channel = await google.colab.kernel.comms.open(id);\n",
              "      // Send a message to notify the kernel that we're ready.\n",
              "      channel.send({})\n",
              "\n",
              "      for await (const message of channel.messages) {\n",
              "        // Send a message to notify the kernel that we're ready.\n",
              "        channel.send({})\n",
              "        if (message.buffers) {\n",
              "          for (const buffer of message.buffers) {\n",
              "            buffers.push(buffer);\n",
              "            downloaded += buffer.byteLength;\n",
              "            progress.value = downloaded;\n",
              "          }\n",
              "        }\n",
              "      }\n",
              "      const blob = new Blob(buffers, {type: 'application/binary'});\n",
              "      const a = document.createElement('a');\n",
              "      a.href = window.URL.createObjectURL(blob);\n",
              "      a.download = filename;\n",
              "      div.appendChild(a);\n",
              "      a.click();\n",
              "      div.remove();\n",
              "    }\n",
              "  "
            ],
            "text/plain": [
              "<IPython.core.display.Javascript object>"
            ]
          },
          "metadata": {
            "tags": []
          }
        },
        {
          "output_type": "display_data",
          "data": {
            "application/javascript": [
              "download(\"download_56e0e2eb-ceb6-4987-81dd-fcffa59c521f\", \"my_checkpoint_300.pth\", 162747554)"
            ],
            "text/plain": [
              "<IPython.core.display.Javascript object>"
            ]
          },
          "metadata": {
            "tags": []
          }
        }
      ]
    },
    {
      "cell_type": "markdown",
      "metadata": {
        "id": "oo_0B6raTtaI"
      },
      "source": [
        "# Load model"
      ],
      "id": "oo_0B6raTtaI"
    },
    {
      "cell_type": "code",
      "metadata": {
        "id": "tyaO_Dw7ThW9"
      },
      "source": [
        "model = torch.load('/content/gdrive/MyDrive/Colab Notebooks/code transformer/model/model/model_tranformer_epochs_500.pth')"
      ],
      "id": "tyaO_Dw7ThW9",
      "execution_count": null,
      "outputs": []
    },
    {
      "cell_type": "markdown",
      "metadata": {
        "id": "nhokmIYyT81V"
      },
      "source": [
        "#Translation"
      ],
      "id": "nhokmIYyT81V"
    },
    {
      "cell_type": "code",
      "metadata": {
        "id": "molecular-newton"
      },
      "source": [
        "import pandas as pd\n",
        "import numpy as np"
      ],
      "id": "molecular-newton",
      "execution_count": 27,
      "outputs": []
    },
    {
      "cell_type": "code",
      "metadata": {
        "id": "supreme-sword",
        "colab": {
          "base_uri": "https://localhost:8080/",
          "height": 419
        },
        "outputId": "44f4a6f6-5b50-43c5-ca03-de9310a4ed61"
      },
      "source": [
        "df_src=pd.read_csv(src_filepath,names=[\"input\"])\n",
        "df_tgt=pd.read_csv(tgt_filepath,names=[\"target\"])\n",
        "df = pd.concat([df_src,df_tgt], axis=1)\n",
        "df"
      ],
      "id": "supreme-sword",
      "execution_count": 28,
      "outputs": [
        {
          "output_type": "execute_result",
          "data": {
            "text/html": [
              "<div>\n",
              "<style scoped>\n",
              "    .dataframe tbody tr th:only-of-type {\n",
              "        vertical-align: middle;\n",
              "    }\n",
              "\n",
              "    .dataframe tbody tr th {\n",
              "        vertical-align: top;\n",
              "    }\n",
              "\n",
              "    .dataframe thead th {\n",
              "        text-align: right;\n",
              "    }\n",
              "</style>\n",
              "<table border=\"1\" class=\"dataframe\">\n",
              "  <thead>\n",
              "    <tr style=\"text-align: right;\">\n",
              "      <th></th>\n",
              "      <th>input</th>\n",
              "      <th>target</th>\n",
              "    </tr>\n",
              "  </thead>\n",
              "  <tbody>\n",
              "    <tr>\n",
              "      <th>0</th>\n",
              "      <td>&lt;RX_1&gt; O = C 1 C C [ C @ H ] ( C N 2 C C N ( C...</td>\n",
              "      <td>C S ( = O ) ( = O ) O C [ C @ H ] 1 C C C ( = ...</td>\n",
              "    </tr>\n",
              "    <tr>\n",
              "      <th>1</th>\n",
              "      <td>&lt;RX_6&gt; N c 1 n c 2 [ n H ] c ( C C C c 3 c s c...</td>\n",
              "      <td>C O C ( = O ) c 1 c c ( C C C c 2 c c 3 c ( = ...</td>\n",
              "    </tr>\n",
              "    <tr>\n",
              "      <th>2</th>\n",
              "      <td>&lt;RX_9&gt; C C 1 ( C ) O B ( c 2 c c c c ( N c 3 n...</td>\n",
              "      <td>C C 1 ( C ) O B ( B 2 O C ( C ) ( C ) C ( C ) ...</td>\n",
              "    </tr>\n",
              "    <tr>\n",
              "      <th>3</th>\n",
              "      <td>&lt;RX_6&gt; C C ( C ) ( C ) O C ( = O ) N C C ( = O...</td>\n",
              "      <td>C C ( C ) ( C ) O C ( = O ) N C C ( = O ) C C ...</td>\n",
              "    </tr>\n",
              "    <tr>\n",
              "      <th>4</th>\n",
              "      <td>&lt;RX_1&gt; F c 1 c c 2 c ( N C 3 C C C C C C 3 ) n...</td>\n",
              "      <td>F c 1 c c 2 c ( C l ) n c n c 2 c n 1 . N C 1 ...</td>\n",
              "    </tr>\n",
              "    <tr>\n",
              "      <th>...</th>\n",
              "      <td>...</td>\n",
              "      <td>...</td>\n",
              "    </tr>\n",
              "    <tr>\n",
              "      <th>50032</th>\n",
              "      <td>&lt;RX_1&gt; C C ( C ) ( C ) O C ( = O ) N 1 C C c 2...</td>\n",
              "      <td>C C ( C ) ( C ) O C ( = O ) N 1 C C c 2 c c c ...</td>\n",
              "    </tr>\n",
              "    <tr>\n",
              "      <th>50033</th>\n",
              "      <td>&lt;RX_2&gt; C C ( = O ) O C C N C ( = O ) O C ( C )...</td>\n",
              "      <td>C C ( = O ) C l . C C ( C ) ( C ) O C ( = O ) ...</td>\n",
              "    </tr>\n",
              "    <tr>\n",
              "      <th>50034</th>\n",
              "      <td>&lt;RX_3&gt; C c 1 c c c ( - c 2 c c n c c 2 ) c c 1...</td>\n",
              "      <td>C c 1 c c c ( B r ) c c 1 C = O . O B ( O ) c ...</td>\n",
              "    </tr>\n",
              "    <tr>\n",
              "      <th>50035</th>\n",
              "      <td>&lt;RX_1&gt; C C ( C ) ( C ) O C 1 C [ C @ @ H ] 2 C...</td>\n",
              "      <td>C C ( C ) ( C ) O . O = C C 1 = C [ C @ H ] 2 ...</td>\n",
              "    </tr>\n",
              "    <tr>\n",
              "      <th>50036</th>\n",
              "      <td>&lt;RX_4&gt; F c 1 c c ( B r ) c c 2 [ n H ] c n c 1 2</td>\n",
              "      <td>N c 1 c c ( B r ) c c ( F ) c 1 N . O = C O</td>\n",
              "    </tr>\n",
              "  </tbody>\n",
              "</table>\n",
              "<p>50037 rows × 2 columns</p>\n",
              "</div>"
            ],
            "text/plain": [
              "                                                   input                                             target\n",
              "0      <RX_1> O = C 1 C C [ C @ H ] ( C N 2 C C N ( C...  C S ( = O ) ( = O ) O C [ C @ H ] 1 C C C ( = ...\n",
              "1      <RX_6> N c 1 n c 2 [ n H ] c ( C C C c 3 c s c...  C O C ( = O ) c 1 c c ( C C C c 2 c c 3 c ( = ...\n",
              "2      <RX_9> C C 1 ( C ) O B ( c 2 c c c c ( N c 3 n...  C C 1 ( C ) O B ( B 2 O C ( C ) ( C ) C ( C ) ...\n",
              "3      <RX_6> C C ( C ) ( C ) O C ( = O ) N C C ( = O...  C C ( C ) ( C ) O C ( = O ) N C C ( = O ) C C ...\n",
              "4      <RX_1> F c 1 c c 2 c ( N C 3 C C C C C C 3 ) n...  F c 1 c c 2 c ( C l ) n c n c 2 c n 1 . N C 1 ...\n",
              "...                                                  ...                                                ...\n",
              "50032  <RX_1> C C ( C ) ( C ) O C ( = O ) N 1 C C c 2...  C C ( C ) ( C ) O C ( = O ) N 1 C C c 2 c c c ...\n",
              "50033  <RX_2> C C ( = O ) O C C N C ( = O ) O C ( C )...  C C ( = O ) C l . C C ( C ) ( C ) O C ( = O ) ...\n",
              "50034  <RX_3> C c 1 c c c ( - c 2 c c n c c 2 ) c c 1...  C c 1 c c c ( B r ) c c 1 C = O . O B ( O ) c ...\n",
              "50035  <RX_1> C C ( C ) ( C ) O C 1 C [ C @ @ H ] 2 C...  C C ( C ) ( C ) O . O = C C 1 = C [ C @ H ] 2 ...\n",
              "50036   <RX_4> F c 1 c c ( B r ) c c 2 [ n H ] c n c 1 2        N c 1 c c ( B r ) c c ( F ) c 1 N . O = C O\n",
              "\n",
              "[50037 rows x 2 columns]"
            ]
          },
          "metadata": {
            "tags": []
          },
          "execution_count": 28
        }
      ]
    },
    {
      "cell_type": "code",
      "metadata": {
        "id": "Mx6FphMOK0ZK"
      },
      "source": [
        "def greedy_decode(model, src, src_mask, max_len, start_symbol):\n",
        "    src = src.to(device)\n",
        "    src_mask = src_mask.to(device)\n",
        "\n",
        "    memory = model.encode(src, src_mask)\n",
        "    ys = torch.ones(1, 1).fill_(start_symbol).type(torch.long).to(device)\n",
        "    for i in range(max_len-1):\n",
        "        memory = memory.to(device)\n",
        "        memory_mask = torch.zeros(ys.shape[0], memory.shape[0]).to(device).type(torch.bool)\n",
        "        tgt_mask = (generate_square_subsequent_mask(ys.size(0))\n",
        "                                    .type(torch.bool)).to(device)\n",
        "        out = model.decode(ys, memory, tgt_mask)\n",
        "        out = out.transpose(0, 1)\n",
        "        prob = model.generator(out[:, -1])\n",
        "        _, next_word = torch.max(prob, dim = 1)\n",
        "        next_word = next_word.item()\n",
        "\n",
        "        ys = torch.cat([ys,\n",
        "                        torch.ones(1, 1).type_as(src.data).fill_(next_word)], dim=0)\n",
        "        if next_word == EOS_IDX:\n",
        "          break\n",
        "    return ys\n",
        "\n",
        "\n",
        "def translate(model, src, src_vocab, tgt_vocab, src_tokenizer):\n",
        "  model.eval()\n",
        "  tokens = [BOS_IDX] + [src_vocab.stoi[tok] for tok in src_tokenizer(src)]+ [EOS_IDX]\n",
        "  num_tokens = len(tokens)\n",
        "  src = (torch.LongTensor(tokens).reshape(num_tokens, 1) )\n",
        "  src_mask = (torch.zeros(num_tokens, num_tokens)).type(torch.bool)\n",
        "  tgt_tokens = greedy_decode(model,  src, src_mask, max_len=num_tokens + 5, start_symbol=BOS_IDX).flatten()\n",
        "  print(\"Product:\"+ \" \"+df.input[i])\n",
        "  print(\"Reaction Real:\"+\" \"+df.target[i])\n",
        "  return print(\"prediction:\"+\" \".join([tgt_vocab.itos[tok] for tok in tgt_tokens]).replace(\"<bos>\", \"\").replace(\"<eos>\", \"\"))\n",
        "  #return \" \".join([tgt_vocab.itos[tok] for tok in tgt_tokens]).replace(\"<bos>\", \"\").replace(\"<eos>\", \"\")"
      ],
      "id": "Mx6FphMOK0ZK",
      "execution_count": 33,
      "outputs": []
    },
    {
      "cell_type": "code",
      "metadata": {
        "colab": {
          "base_uri": "https://localhost:8080/",
          "height": 945
        },
        "id": "79hdw1aEMr1C",
        "outputId": "af4eac88-b86b-480a-d9f6-3654c4a868d5"
      },
      "source": [
        "for i in range(50000,50010):\n",
        "  translate(transformer, df.input[i], src_vocab, tgt_vocab, tokenizer)\n",
        "  print(\"    \")"
      ],
      "id": "79hdw1aEMr1C",
      "execution_count": 34,
      "outputs": [
        {
          "output_type": "display_data",
          "data": {
            "text/html": [
              "<pre style=\"white-space:pre;overflow-x:auto;line-height:normal;font-family:Menlo,'DejaVu Sans Mono',consolas,'Courier New',monospace\">Product: <span style=\"font-weight: bold\">&lt;</span><span style=\"color: #ff00ff; text-decoration-color: #ff00ff; font-weight: bold\">RX_9</span><span style=\"font-weight: bold\">&gt;</span> O = C <span style=\"font-weight: bold\">(</span> O <span style=\"font-weight: bold\">)</span> C <span style=\"font-weight: bold\">(</span> = O <span style=\"font-weight: bold\">)</span> O\n",
              "</pre>\n"
            ],
            "text/plain": [
              "Product: \u001b[1m<\u001b[0m\u001b[1;95mRX_9\u001b[0m\u001b[1m>\u001b[0m O = C \u001b[1m(\u001b[0m O \u001b[1m)\u001b[0m C \u001b[1m(\u001b[0m = O \u001b[1m)\u001b[0m O\n"
            ]
          },
          "metadata": {
            "tags": []
          }
        },
        {
          "output_type": "display_data",
          "data": {
            "text/html": [
              "<pre style=\"white-space:pre;overflow-x:auto;line-height:normal;font-family:Menlo,'DejaVu Sans Mono',consolas,'Courier New',monospace\">Reaction Real: C c <span style=\"color: #008080; text-decoration-color: #008080; font-weight: bold\">1</span> c c c <span style=\"font-weight: bold\">(</span> B r <span style=\"font-weight: bold\">)</span> c <span style=\"color: #008080; text-decoration-color: #008080; font-weight: bold\">2</span> c <span style=\"color: #008080; text-decoration-color: #008080; font-weight: bold\">1</span> C <span style=\"font-weight: bold\">(</span> C <span style=\"font-weight: bold\">(</span> C <span style=\"font-weight: bold\">)</span> C <span style=\"font-weight: bold\">)</span> N <span style=\"font-weight: bold\">(</span> C <span style=\"font-weight: bold\">(</span> = O <span style=\"font-weight: bold\">)</span> C N C C <span style=\"color: #008080; text-decoration-color: #008080; font-weight: bold\">1</span> <span style=\"font-weight: bold\">(</span> O <span style=\"font-weight: bold\">)</span> C C \n",
              "C C C <span style=\"color: #008080; text-decoration-color: #008080; font-weight: bold\">1</span> <span style=\"font-weight: bold\">)</span> C C <span style=\"color: #008080; text-decoration-color: #008080; font-weight: bold\">2</span>\n",
              "</pre>\n"
            ],
            "text/plain": [
              "Reaction Real: C c \u001b[1;36m1\u001b[0m c c c \u001b[1m(\u001b[0m B r \u001b[1m)\u001b[0m c \u001b[1;36m2\u001b[0m c \u001b[1;36m1\u001b[0m C \u001b[1m(\u001b[0m C \u001b[1m(\u001b[0m C \u001b[1m)\u001b[0m C \u001b[1m)\u001b[0m N \u001b[1m(\u001b[0m C \u001b[1m(\u001b[0m = O \u001b[1m)\u001b[0m C N C C \u001b[1;36m1\u001b[0m \u001b[1m(\u001b[0m O \u001b[1m)\u001b[0m C C \n",
              "C C C \u001b[1;36m1\u001b[0m \u001b[1m)\u001b[0m C C \u001b[1;36m2\u001b[0m\n"
            ]
          },
          "metadata": {
            "tags": []
          }
        },
        {
          "output_type": "display_data",
          "data": {
            "text/html": [
              "<pre style=\"white-space:pre;overflow-x:auto;line-height:normal;font-family:Menlo,'DejaVu Sans Mono',consolas,'Courier New',monospace\">prediction: N # C c <span style=\"color: #008080; text-decoration-color: #008080; font-weight: bold\">1</span> n c <span style=\"font-weight: bold\">(</span> - c <span style=\"color: #008080; text-decoration-color: #008080; font-weight: bold\">2</span> c c c c c <span style=\"color: #008080; text-decoration-color: #008080; font-weight: bold\">2</span> <span style=\"font-weight: bold\">)</span> c\n",
              "</pre>\n"
            ],
            "text/plain": [
              "prediction: N # C c \u001b[1;36m1\u001b[0m n c \u001b[1m(\u001b[0m - c \u001b[1;36m2\u001b[0m c c c c c \u001b[1;36m2\u001b[0m \u001b[1m)\u001b[0m c\n"
            ]
          },
          "metadata": {
            "tags": []
          }
        },
        {
          "output_type": "display_data",
          "data": {
            "text/html": [
              "<pre style=\"white-space:pre;overflow-x:auto;line-height:normal;font-family:Menlo,'DejaVu Sans Mono',consolas,'Courier New',monospace\">    \n",
              "</pre>\n"
            ],
            "text/plain": [
              "    \n"
            ]
          },
          "metadata": {
            "tags": []
          }
        },
        {
          "output_type": "display_data",
          "data": {
            "text/html": [
              "<pre style=\"white-space:pre;overflow-x:auto;line-height:normal;font-family:Menlo,'DejaVu Sans Mono',consolas,'Courier New',monospace\">Product: <span style=\"font-weight: bold\">&lt;</span><span style=\"color: #ff00ff; text-decoration-color: #ff00ff; font-weight: bold\">RX_3</span><span style=\"font-weight: bold\">&gt;</span> C C O C <span style=\"font-weight: bold\">(</span> = O <span style=\"font-weight: bold\">)</span> C = C C c <span style=\"color: #008080; text-decoration-color: #008080; font-weight: bold\">1</span> c c c <span style=\"font-weight: bold\">(</span> B r <span style=\"font-weight: bold\">)</span> c c <span style=\"color: #008080; text-decoration-color: #008080; font-weight: bold\">1</span>\n",
              "</pre>\n"
            ],
            "text/plain": [
              "Product: \u001b[1m<\u001b[0m\u001b[1;95mRX_3\u001b[0m\u001b[1m>\u001b[0m C C O C \u001b[1m(\u001b[0m = O \u001b[1m)\u001b[0m C = C C c \u001b[1;36m1\u001b[0m c c c \u001b[1m(\u001b[0m B r \u001b[1m)\u001b[0m c c \u001b[1;36m1\u001b[0m\n"
            ]
          },
          "metadata": {
            "tags": []
          }
        },
        {
          "output_type": "display_data",
          "data": {
            "text/html": [
              "<pre style=\"white-space:pre;overflow-x:auto;line-height:normal;font-family:Menlo,'DejaVu Sans Mono',consolas,'Courier New',monospace\">Reaction Real: C C O C <span style=\"font-weight: bold\">(</span> = O <span style=\"font-weight: bold\">)</span> C = P <span style=\"font-weight: bold\">(</span> c <span style=\"color: #008080; text-decoration-color: #008080; font-weight: bold\">1</span> c c c c c <span style=\"color: #008080; text-decoration-color: #008080; font-weight: bold\">1</span> <span style=\"font-weight: bold\">)</span> <span style=\"font-weight: bold\">(</span> c <span style=\"color: #008080; text-decoration-color: #008080; font-weight: bold\">1</span> c c c c c <span style=\"color: #008080; text-decoration-color: #008080; font-weight: bold\">1</span> <span style=\"font-weight: bold\">)</span> c <span style=\"color: #008080; text-decoration-color: #008080; font-weight: bold\">1</span> c c c c c <span style=\"color: #008080; text-decoration-color: #008080; font-weight: bold\">1</span> \n",
              ". O = C C c <span style=\"color: #008080; text-decoration-color: #008080; font-weight: bold\">1</span> c c c <span style=\"font-weight: bold\">(</span> B r <span style=\"font-weight: bold\">)</span> c c <span style=\"color: #008080; text-decoration-color: #008080; font-weight: bold\">1</span>\n",
              "</pre>\n"
            ],
            "text/plain": [
              "Reaction Real: C C O C \u001b[1m(\u001b[0m = O \u001b[1m)\u001b[0m C = P \u001b[1m(\u001b[0m c \u001b[1;36m1\u001b[0m c c c c c \u001b[1;36m1\u001b[0m \u001b[1m)\u001b[0m \u001b[1m(\u001b[0m c \u001b[1;36m1\u001b[0m c c c c c \u001b[1;36m1\u001b[0m \u001b[1m)\u001b[0m c \u001b[1;36m1\u001b[0m c c c c c \u001b[1;36m1\u001b[0m \n",
              ". O = C C c \u001b[1;36m1\u001b[0m c c c \u001b[1m(\u001b[0m B r \u001b[1m)\u001b[0m c c \u001b[1;36m1\u001b[0m\n"
            ]
          },
          "metadata": {
            "tags": []
          }
        },
        {
          "output_type": "display_data",
          "data": {
            "text/html": [
              "<pre style=\"white-space:pre;overflow-x:auto;line-height:normal;font-family:Menlo,'DejaVu Sans Mono',consolas,'Courier New',monospace\">prediction: B r c <span style=\"color: #008080; text-decoration-color: #008080; font-weight: bold\">1</span> c c c <span style=\"font-weight: bold\">(</span> C <span style=\"font-weight: bold\">[</span> P + <span style=\"font-weight: bold\">]</span> <span style=\"font-weight: bold\">(</span> c <span style=\"color: #008080; text-decoration-color: #008080; font-weight: bold\">2</span> c c c c c <span style=\"color: #008080; text-decoration-color: #008080; font-weight: bold\">2</span> <span style=\"font-weight: bold\">)</span> <span style=\"font-weight: bold\">(</span> c <span style=\"color: #008080; text-decoration-color: #008080; font-weight: bold\">2</span> c c c c c\n",
              "</pre>\n"
            ],
            "text/plain": [
              "prediction: B r c \u001b[1;36m1\u001b[0m c c c \u001b[1m(\u001b[0m C \u001b[1m[\u001b[0m P + \u001b[1m]\u001b[0m \u001b[1m(\u001b[0m c \u001b[1;36m2\u001b[0m c c c c c \u001b[1;36m2\u001b[0m \u001b[1m)\u001b[0m \u001b[1m(\u001b[0m c \u001b[1;36m2\u001b[0m c c c c c\n"
            ]
          },
          "metadata": {
            "tags": []
          }
        },
        {
          "output_type": "display_data",
          "data": {
            "text/html": [
              "<pre style=\"white-space:pre;overflow-x:auto;line-height:normal;font-family:Menlo,'DejaVu Sans Mono',consolas,'Courier New',monospace\">    \n",
              "</pre>\n"
            ],
            "text/plain": [
              "    \n"
            ]
          },
          "metadata": {
            "tags": []
          }
        },
        {
          "output_type": "display_data",
          "data": {
            "text/html": [
              "<pre style=\"white-space:pre;overflow-x:auto;line-height:normal;font-family:Menlo,'DejaVu Sans Mono',consolas,'Courier New',monospace\">Product: <span style=\"font-weight: bold\">&lt;</span><span style=\"color: #ff00ff; text-decoration-color: #ff00ff; font-weight: bold\">RX_6</span><span style=\"font-weight: bold\">&gt;</span> C c <span style=\"color: #008080; text-decoration-color: #008080; font-weight: bold\">1</span> c c <span style=\"font-weight: bold\">(</span> C <span style=\"color: #008080; text-decoration-color: #008080; font-weight: bold\">2</span> = N O C <span style=\"font-weight: bold\">(</span> c <span style=\"color: #008080; text-decoration-color: #008080; font-weight: bold\">3</span> c c <span style=\"font-weight: bold\">(</span> C l <span style=\"font-weight: bold\">)</span> c c <span style=\"font-weight: bold\">(</span> C l <span style=\"font-weight: bold\">)</span> c <span style=\"color: #008080; text-decoration-color: #008080; font-weight: bold\">3</span> <span style=\"font-weight: bold\">)</span> <span style=\"font-weight: bold\">(</span> C <span style=\"font-weight: bold\">(</span> F <span style=\"font-weight: bold\">)</span> <span style=\"font-weight: bold\">(</span> F <span style=\"font-weight: bold\">)</span> F\n",
              "<span style=\"font-weight: bold\">)</span> C <span style=\"color: #008080; text-decoration-color: #008080; font-weight: bold\">2</span> = N O <span style=\"font-weight: bold\">)</span> c c c <span style=\"color: #008080; text-decoration-color: #008080; font-weight: bold\">1</span> C <span style=\"font-weight: bold\">(</span> = O <span style=\"font-weight: bold\">)</span> O\n",
              "</pre>\n"
            ],
            "text/plain": [
              "Product: \u001b[1m<\u001b[0m\u001b[1;95mRX_6\u001b[0m\u001b[1m>\u001b[0m C c \u001b[1;36m1\u001b[0m c c \u001b[1m(\u001b[0m C \u001b[1;36m2\u001b[0m = N O C \u001b[1m(\u001b[0m c \u001b[1;36m3\u001b[0m c c \u001b[1m(\u001b[0m C l \u001b[1m)\u001b[0m c c \u001b[1m(\u001b[0m C l \u001b[1m)\u001b[0m c \u001b[1;36m3\u001b[0m \u001b[1m)\u001b[0m \u001b[1m(\u001b[0m C \u001b[1m(\u001b[0m F \u001b[1m)\u001b[0m \u001b[1m(\u001b[0m F \u001b[1m)\u001b[0m F\n",
              "\u001b[1m)\u001b[0m C \u001b[1;36m2\u001b[0m = N O \u001b[1m)\u001b[0m c c c \u001b[1;36m1\u001b[0m C \u001b[1m(\u001b[0m = O \u001b[1m)\u001b[0m O\n"
            ]
          },
          "metadata": {
            "tags": []
          }
        },
        {
          "output_type": "display_data",
          "data": {
            "text/html": [
              "<pre style=\"white-space:pre;overflow-x:auto;line-height:normal;font-family:Menlo,'DejaVu Sans Mono',consolas,'Courier New',monospace\">Reaction Real: C c <span style=\"color: #008080; text-decoration-color: #008080; font-weight: bold\">1</span> c c <span style=\"font-weight: bold\">(</span> C <span style=\"color: #008080; text-decoration-color: #008080; font-weight: bold\">2</span> = N O C <span style=\"font-weight: bold\">(</span> c <span style=\"color: #008080; text-decoration-color: #008080; font-weight: bold\">3</span> c c <span style=\"font-weight: bold\">(</span> C l <span style=\"font-weight: bold\">)</span> c c <span style=\"font-weight: bold\">(</span> C l <span style=\"font-weight: bold\">)</span> c <span style=\"color: #008080; text-decoration-color: #008080; font-weight: bold\">3</span> <span style=\"font-weight: bold\">)</span> <span style=\"font-weight: bold\">(</span> C <span style=\"font-weight: bold\">(</span> F <span style=\"font-weight: bold\">)</span> <span style=\"font-weight: bold\">(</span> F <span style=\"font-weight: bold\">)</span> F \n",
              "<span style=\"font-weight: bold\">)</span> C <span style=\"color: #008080; text-decoration-color: #008080; font-weight: bold\">2</span> = N O <span style=\"font-weight: bold\">)</span> c c c <span style=\"color: #008080; text-decoration-color: #008080; font-weight: bold\">1</span> C <span style=\"font-weight: bold\">(</span> = O <span style=\"font-weight: bold\">)</span> O C <span style=\"font-weight: bold\">(</span> C <span style=\"font-weight: bold\">)</span> <span style=\"font-weight: bold\">(</span> C <span style=\"font-weight: bold\">)</span> C\n",
              "</pre>\n"
            ],
            "text/plain": [
              "Reaction Real: C c \u001b[1;36m1\u001b[0m c c \u001b[1m(\u001b[0m C \u001b[1;36m2\u001b[0m = N O C \u001b[1m(\u001b[0m c \u001b[1;36m3\u001b[0m c c \u001b[1m(\u001b[0m C l \u001b[1m)\u001b[0m c c \u001b[1m(\u001b[0m C l \u001b[1m)\u001b[0m c \u001b[1;36m3\u001b[0m \u001b[1m)\u001b[0m \u001b[1m(\u001b[0m C \u001b[1m(\u001b[0m F \u001b[1m)\u001b[0m \u001b[1m(\u001b[0m F \u001b[1m)\u001b[0m F \n",
              "\u001b[1m)\u001b[0m C \u001b[1;36m2\u001b[0m = N O \u001b[1m)\u001b[0m c c c \u001b[1;36m1\u001b[0m C \u001b[1m(\u001b[0m = O \u001b[1m)\u001b[0m O C \u001b[1m(\u001b[0m C \u001b[1m)\u001b[0m \u001b[1m(\u001b[0m C \u001b[1m)\u001b[0m C\n"
            ]
          },
          "metadata": {
            "tags": []
          }
        },
        {
          "output_type": "display_data",
          "data": {
            "text/html": [
              "<pre style=\"white-space:pre;overflow-x:auto;line-height:normal;font-family:Menlo,'DejaVu Sans Mono',consolas,'Courier New',monospace\">prediction: C O C <span style=\"font-weight: bold\">(</span> = O <span style=\"font-weight: bold\">)</span> c <span style=\"color: #008080; text-decoration-color: #008080; font-weight: bold\">1</span> c c c <span style=\"font-weight: bold\">(</span> C <span style=\"color: #008080; text-decoration-color: #008080; font-weight: bold\">2</span> = N O C <span style=\"font-weight: bold\">(</span> c <span style=\"color: #008080; text-decoration-color: #008080; font-weight: bold\">3</span> c c <span style=\"font-weight: bold\">(</span> C l <span style=\"font-weight: bold\">)</span> c c <span style=\"font-weight: bold\">(</span> C l <span style=\"font-weight: bold\">)</span> c <span style=\"color: #008080; text-decoration-color: #008080; font-weight: bold\">3</span> <span style=\"font-weight: bold\">)</span> <span style=\"font-weight: bold\">(</span> C <span style=\"font-weight: bold\">(</span> F\n",
              "<span style=\"font-weight: bold\">)</span> <span style=\"font-weight: bold\">(</span> F <span style=\"font-weight: bold\">)</span> F <span style=\"font-weight: bold\">)</span> C <span style=\"color: #008080; text-decoration-color: #008080; font-weight: bold\">2</span> = N O <span style=\"font-weight: bold\">)</span> c c <span style=\"color: #008080; text-decoration-color: #008080; font-weight: bold\">1</span> C \n",
              "</pre>\n"
            ],
            "text/plain": [
              "prediction: C O C \u001b[1m(\u001b[0m = O \u001b[1m)\u001b[0m c \u001b[1;36m1\u001b[0m c c c \u001b[1m(\u001b[0m C \u001b[1;36m2\u001b[0m = N O C \u001b[1m(\u001b[0m c \u001b[1;36m3\u001b[0m c c \u001b[1m(\u001b[0m C l \u001b[1m)\u001b[0m c c \u001b[1m(\u001b[0m C l \u001b[1m)\u001b[0m c \u001b[1;36m3\u001b[0m \u001b[1m)\u001b[0m \u001b[1m(\u001b[0m C \u001b[1m(\u001b[0m F\n",
              "\u001b[1m)\u001b[0m \u001b[1m(\u001b[0m F \u001b[1m)\u001b[0m F \u001b[1m)\u001b[0m C \u001b[1;36m2\u001b[0m = N O \u001b[1m)\u001b[0m c c \u001b[1;36m1\u001b[0m C \n"
            ]
          },
          "metadata": {
            "tags": []
          }
        },
        {
          "output_type": "display_data",
          "data": {
            "text/html": [
              "<pre style=\"white-space:pre;overflow-x:auto;line-height:normal;font-family:Menlo,'DejaVu Sans Mono',consolas,'Courier New',monospace\">    \n",
              "</pre>\n"
            ],
            "text/plain": [
              "    \n"
            ]
          },
          "metadata": {
            "tags": []
          }
        },
        {
          "output_type": "display_data",
          "data": {
            "text/html": [
              "<pre style=\"white-space:pre;overflow-x:auto;line-height:normal;font-family:Menlo,'DejaVu Sans Mono',consolas,'Courier New',monospace\">Product: <span style=\"font-weight: bold\">&lt;</span><span style=\"color: #ff00ff; text-decoration-color: #ff00ff; font-weight: bold\">RX_6</span><span style=\"font-weight: bold\">&gt;</span> N # C c <span style=\"color: #008080; text-decoration-color: #008080; font-weight: bold\">1</span> n c c <span style=\"font-weight: bold\">(</span> B r <span style=\"font-weight: bold\">)</span> c <span style=\"font-weight: bold\">(</span> N <span style=\"font-weight: bold\">(</span> N <span style=\"font-weight: bold\">)</span> C <span style=\"color: #008080; text-decoration-color: #008080; font-weight: bold\">2</span> C C O C C <span style=\"color: #008080; text-decoration-color: #008080; font-weight: bold\">2</span> <span style=\"font-weight: bold\">)</span> n <span style=\"color: #008080; text-decoration-color: #008080; font-weight: bold\">1</span>\n",
              "</pre>\n"
            ],
            "text/plain": [
              "Product: \u001b[1m<\u001b[0m\u001b[1;95mRX_6\u001b[0m\u001b[1m>\u001b[0m N # C c \u001b[1;36m1\u001b[0m n c c \u001b[1m(\u001b[0m B r \u001b[1m)\u001b[0m c \u001b[1m(\u001b[0m N \u001b[1m(\u001b[0m N \u001b[1m)\u001b[0m C \u001b[1;36m2\u001b[0m C C O C C \u001b[1;36m2\u001b[0m \u001b[1m)\u001b[0m n \u001b[1;36m1\u001b[0m\n"
            ]
          },
          "metadata": {
            "tags": []
          }
        },
        {
          "output_type": "display_data",
          "data": {
            "text/html": [
              "<pre style=\"white-space:pre;overflow-x:auto;line-height:normal;font-family:Menlo,'DejaVu Sans Mono',consolas,'Courier New',monospace\">Reaction Real: C C <span style=\"font-weight: bold\">(</span> C <span style=\"font-weight: bold\">)</span> <span style=\"font-weight: bold\">(</span> C <span style=\"font-weight: bold\">)</span> O C <span style=\"font-weight: bold\">(</span> = O <span style=\"font-weight: bold\">)</span> N N <span style=\"font-weight: bold\">(</span> c <span style=\"color: #008080; text-decoration-color: #008080; font-weight: bold\">1</span> n c <span style=\"font-weight: bold\">(</span> C # N <span style=\"font-weight: bold\">)</span> n c c <span style=\"color: #008080; text-decoration-color: #008080; font-weight: bold\">1</span> B r <span style=\"font-weight: bold\">)</span> C <span style=\"color: #008080; text-decoration-color: #008080; font-weight: bold\">1</span> C C O C \n",
              "C <span style=\"color: #008080; text-decoration-color: #008080; font-weight: bold\">1</span>\n",
              "</pre>\n"
            ],
            "text/plain": [
              "Reaction Real: C C \u001b[1m(\u001b[0m C \u001b[1m)\u001b[0m \u001b[1m(\u001b[0m C \u001b[1m)\u001b[0m O C \u001b[1m(\u001b[0m = O \u001b[1m)\u001b[0m N N \u001b[1m(\u001b[0m c \u001b[1;36m1\u001b[0m n c \u001b[1m(\u001b[0m C # N \u001b[1m)\u001b[0m n c c \u001b[1;36m1\u001b[0m B r \u001b[1m)\u001b[0m C \u001b[1;36m1\u001b[0m C C O C \n",
              "C \u001b[1;36m1\u001b[0m\n"
            ]
          },
          "metadata": {
            "tags": []
          }
        },
        {
          "output_type": "display_data",
          "data": {
            "text/html": [
              "<pre style=\"white-space:pre;overflow-x:auto;line-height:normal;font-family:Menlo,'DejaVu Sans Mono',consolas,'Courier New',monospace\">prediction: C C <span style=\"font-weight: bold\">(</span> C <span style=\"font-weight: bold\">)</span> <span style=\"font-weight: bold\">(</span> C <span style=\"font-weight: bold\">)</span> O C <span style=\"font-weight: bold\">(</span> = O <span style=\"font-weight: bold\">)</span> N N <span style=\"font-weight: bold\">(</span> c <span style=\"color: #008080; text-decoration-color: #008080; font-weight: bold\">1</span> n c <span style=\"font-weight: bold\">(</span> C # N <span style=\"font-weight: bold\">)</span> n c c <span style=\"color: #008080; text-decoration-color: #008080; font-weight: bold\">1</span> B r <span style=\"font-weight: bold\">)</span> C <span style=\"color: #008080; text-decoration-color: #008080; font-weight: bold\">1</span> C\n",
              "</pre>\n"
            ],
            "text/plain": [
              "prediction: C C \u001b[1m(\u001b[0m C \u001b[1m)\u001b[0m \u001b[1m(\u001b[0m C \u001b[1m)\u001b[0m O C \u001b[1m(\u001b[0m = O \u001b[1m)\u001b[0m N N \u001b[1m(\u001b[0m c \u001b[1;36m1\u001b[0m n c \u001b[1m(\u001b[0m C # N \u001b[1m)\u001b[0m n c c \u001b[1;36m1\u001b[0m B r \u001b[1m)\u001b[0m C \u001b[1;36m1\u001b[0m C\n"
            ]
          },
          "metadata": {
            "tags": []
          }
        },
        {
          "output_type": "display_data",
          "data": {
            "text/html": [
              "<pre style=\"white-space:pre;overflow-x:auto;line-height:normal;font-family:Menlo,'DejaVu Sans Mono',consolas,'Courier New',monospace\">    \n",
              "</pre>\n"
            ],
            "text/plain": [
              "    \n"
            ]
          },
          "metadata": {
            "tags": []
          }
        },
        {
          "output_type": "display_data",
          "data": {
            "text/html": [
              "<pre style=\"white-space:pre;overflow-x:auto;line-height:normal;font-family:Menlo,'DejaVu Sans Mono',consolas,'Courier New',monospace\">Product: <span style=\"font-weight: bold\">&lt;</span><span style=\"color: #ff00ff; text-decoration-color: #ff00ff; font-weight: bold\">RX_2</span><span style=\"font-weight: bold\">&gt;</span> O = C <span style=\"color: #008080; text-decoration-color: #008080; font-weight: bold\">1</span> C C C <span style=\"font-weight: bold\">(</span> N <span style=\"color: #008080; text-decoration-color: #008080; font-weight: bold\">2</span> C c <span style=\"color: #008080; text-decoration-color: #008080; font-weight: bold\">3</span> c c <span style=\"font-weight: bold\">(</span> C N C <span style=\"font-weight: bold\">(</span> = O <span style=\"font-weight: bold\">)</span> N <span style=\"color: #008080; text-decoration-color: #008080; font-weight: bold\">4</span> C C O C C <span style=\"color: #008080; text-decoration-color: #008080; font-weight: bold\">4</span> <span style=\"font-weight: bold\">)</span> c c c <span style=\"color: #008080; text-decoration-color: #008080; font-weight: bold\">3</span> C <span style=\"color: #008080; text-decoration-color: #008080; font-weight: bold\">2</span> =\n",
              "O <span style=\"font-weight: bold\">)</span> C <span style=\"font-weight: bold\">(</span> = O <span style=\"font-weight: bold\">)</span> N <span style=\"color: #008080; text-decoration-color: #008080; font-weight: bold\">1</span>\n",
              "</pre>\n"
            ],
            "text/plain": [
              "Product: \u001b[1m<\u001b[0m\u001b[1;95mRX_2\u001b[0m\u001b[1m>\u001b[0m O = C \u001b[1;36m1\u001b[0m C C C \u001b[1m(\u001b[0m N \u001b[1;36m2\u001b[0m C c \u001b[1;36m3\u001b[0m c c \u001b[1m(\u001b[0m C N C \u001b[1m(\u001b[0m = O \u001b[1m)\u001b[0m N \u001b[1;36m4\u001b[0m C C O C C \u001b[1;36m4\u001b[0m \u001b[1m)\u001b[0m c c c \u001b[1;36m3\u001b[0m C \u001b[1;36m2\u001b[0m =\n",
              "O \u001b[1m)\u001b[0m C \u001b[1m(\u001b[0m = O \u001b[1m)\u001b[0m N \u001b[1;36m1\u001b[0m\n"
            ]
          },
          "metadata": {
            "tags": []
          }
        },
        {
          "output_type": "display_data",
          "data": {
            "text/html": [
              "<pre style=\"white-space:pre;overflow-x:auto;line-height:normal;font-family:Menlo,'DejaVu Sans Mono',consolas,'Courier New',monospace\">Reaction Real: N C c <span style=\"color: #008080; text-decoration-color: #008080; font-weight: bold\">1</span> c c c <span style=\"color: #008080; text-decoration-color: #008080; font-weight: bold\">2</span> c <span style=\"font-weight: bold\">(</span> c <span style=\"color: #008080; text-decoration-color: #008080; font-weight: bold\">1</span> <span style=\"font-weight: bold\">)</span> C N <span style=\"font-weight: bold\">(</span> C <span style=\"color: #008080; text-decoration-color: #008080; font-weight: bold\">1</span> C C C <span style=\"font-weight: bold\">(</span> = O <span style=\"font-weight: bold\">)</span> N C <span style=\"color: #008080; text-decoration-color: #008080; font-weight: bold\">1</span> = O <span style=\"font-weight: bold\">)</span> C <span style=\"color: #008080; text-decoration-color: #008080; font-weight: bold\">2</span> = O . O = C \n",
              "<span style=\"font-weight: bold\">(</span> C l <span style=\"font-weight: bold\">)</span> N <span style=\"color: #008080; text-decoration-color: #008080; font-weight: bold\">1</span> C C O C C <span style=\"color: #008080; text-decoration-color: #008080; font-weight: bold\">1</span>\n",
              "</pre>\n"
            ],
            "text/plain": [
              "Reaction Real: N C c \u001b[1;36m1\u001b[0m c c c \u001b[1;36m2\u001b[0m c \u001b[1m(\u001b[0m c \u001b[1;36m1\u001b[0m \u001b[1m)\u001b[0m C N \u001b[1m(\u001b[0m C \u001b[1;36m1\u001b[0m C C C \u001b[1m(\u001b[0m = O \u001b[1m)\u001b[0m N C \u001b[1;36m1\u001b[0m = O \u001b[1m)\u001b[0m C \u001b[1;36m2\u001b[0m = O . O = C \n",
              "\u001b[1m(\u001b[0m C l \u001b[1m)\u001b[0m N \u001b[1;36m1\u001b[0m C C O C C \u001b[1;36m1\u001b[0m\n"
            ]
          },
          "metadata": {
            "tags": []
          }
        },
        {
          "output_type": "display_data",
          "data": {
            "text/html": [
              "<pre style=\"white-space:pre;overflow-x:auto;line-height:normal;font-family:Menlo,'DejaVu Sans Mono',consolas,'Courier New',monospace\">prediction: N C c <span style=\"color: #008080; text-decoration-color: #008080; font-weight: bold\">1</span> c c c <span style=\"color: #008080; text-decoration-color: #008080; font-weight: bold\">2</span> c <span style=\"font-weight: bold\">(</span> c <span style=\"color: #008080; text-decoration-color: #008080; font-weight: bold\">1</span> <span style=\"font-weight: bold\">)</span> C N <span style=\"font-weight: bold\">(</span> C <span style=\"color: #008080; text-decoration-color: #008080; font-weight: bold\">1</span> C C C <span style=\"font-weight: bold\">(</span> = O <span style=\"font-weight: bold\">)</span> N C <span style=\"color: #008080; text-decoration-color: #008080; font-weight: bold\">1</span> = O <span style=\"font-weight: bold\">)</span> C <span style=\"color: #008080; text-decoration-color: #008080; font-weight: bold\">2</span> = O . O = C <span style=\"font-weight: bold\">(</span> C\n",
              "l <span style=\"font-weight: bold\">)</span> N <span style=\"color: #008080; text-decoration-color: #008080; font-weight: bold\">1</span> C C O C C <span style=\"color: #008080; text-decoration-color: #008080; font-weight: bold\">1</span> \n",
              "</pre>\n"
            ],
            "text/plain": [
              "prediction: N C c \u001b[1;36m1\u001b[0m c c c \u001b[1;36m2\u001b[0m c \u001b[1m(\u001b[0m c \u001b[1;36m1\u001b[0m \u001b[1m)\u001b[0m C N \u001b[1m(\u001b[0m C \u001b[1;36m1\u001b[0m C C C \u001b[1m(\u001b[0m = O \u001b[1m)\u001b[0m N C \u001b[1;36m1\u001b[0m = O \u001b[1m)\u001b[0m C \u001b[1;36m2\u001b[0m = O . O = C \u001b[1m(\u001b[0m C\n",
              "l \u001b[1m)\u001b[0m N \u001b[1;36m1\u001b[0m C C O C C \u001b[1;36m1\u001b[0m \n"
            ]
          },
          "metadata": {
            "tags": []
          }
        },
        {
          "output_type": "display_data",
          "data": {
            "text/html": [
              "<pre style=\"white-space:pre;overflow-x:auto;line-height:normal;font-family:Menlo,'DejaVu Sans Mono',consolas,'Courier New',monospace\">    \n",
              "</pre>\n"
            ],
            "text/plain": [
              "    \n"
            ]
          },
          "metadata": {
            "tags": []
          }
        },
        {
          "output_type": "display_data",
          "data": {
            "text/html": [
              "<pre style=\"white-space:pre;overflow-x:auto;line-height:normal;font-family:Menlo,'DejaVu Sans Mono',consolas,'Courier New',monospace\">Product: <span style=\"font-weight: bold\">&lt;</span><span style=\"color: #ff00ff; text-decoration-color: #ff00ff; font-weight: bold\">RX_7</span><span style=\"font-weight: bold\">&gt;</span> C c <span style=\"color: #008080; text-decoration-color: #008080; font-weight: bold\">1</span> c c c <span style=\"font-weight: bold\">(</span> N <span style=\"font-weight: bold\">)</span> c c <span style=\"color: #008080; text-decoration-color: #008080; font-weight: bold\">1</span> C <span style=\"font-weight: bold\">(</span> = O <span style=\"font-weight: bold\">)</span> N S <span style=\"font-weight: bold\">(</span> C <span style=\"font-weight: bold\">)</span> <span style=\"font-weight: bold\">(</span> = O <span style=\"font-weight: bold\">)</span> = O\n",
              "</pre>\n"
            ],
            "text/plain": [
              "Product: \u001b[1m<\u001b[0m\u001b[1;95mRX_7\u001b[0m\u001b[1m>\u001b[0m C c \u001b[1;36m1\u001b[0m c c c \u001b[1m(\u001b[0m N \u001b[1m)\u001b[0m c c \u001b[1;36m1\u001b[0m C \u001b[1m(\u001b[0m = O \u001b[1m)\u001b[0m N S \u001b[1m(\u001b[0m C \u001b[1m)\u001b[0m \u001b[1m(\u001b[0m = O \u001b[1m)\u001b[0m = O\n"
            ]
          },
          "metadata": {
            "tags": []
          }
        },
        {
          "output_type": "display_data",
          "data": {
            "text/html": [
              "<pre style=\"white-space:pre;overflow-x:auto;line-height:normal;font-family:Menlo,'DejaVu Sans Mono',consolas,'Courier New',monospace\">Reaction Real: C c <span style=\"color: #008080; text-decoration-color: #008080; font-weight: bold\">1</span> c c c <span style=\"font-weight: bold\">(</span> <span style=\"font-weight: bold\">[</span> N + <span style=\"font-weight: bold\">]</span> <span style=\"font-weight: bold\">(</span> = O <span style=\"font-weight: bold\">)</span> <span style=\"font-weight: bold\">[</span> O - <span style=\"font-weight: bold\">]</span> <span style=\"font-weight: bold\">)</span> c c <span style=\"color: #008080; text-decoration-color: #008080; font-weight: bold\">1</span> C <span style=\"font-weight: bold\">(</span> = O <span style=\"font-weight: bold\">)</span> N S <span style=\"font-weight: bold\">(</span> C <span style=\"font-weight: bold\">)</span> <span style=\"font-weight: bold\">(</span> = O <span style=\"font-weight: bold\">)</span> = O\n",
              "</pre>\n"
            ],
            "text/plain": [
              "Reaction Real: C c \u001b[1;36m1\u001b[0m c c c \u001b[1m(\u001b[0m \u001b[1m[\u001b[0m N + \u001b[1m]\u001b[0m \u001b[1m(\u001b[0m = O \u001b[1m)\u001b[0m \u001b[1m[\u001b[0m O - \u001b[1m]\u001b[0m \u001b[1m)\u001b[0m c c \u001b[1;36m1\u001b[0m C \u001b[1m(\u001b[0m = O \u001b[1m)\u001b[0m N S \u001b[1m(\u001b[0m C \u001b[1m)\u001b[0m \u001b[1m(\u001b[0m = O \u001b[1m)\u001b[0m = O\n"
            ]
          },
          "metadata": {
            "tags": []
          }
        },
        {
          "output_type": "display_data",
          "data": {
            "text/html": [
              "<pre style=\"white-space:pre;overflow-x:auto;line-height:normal;font-family:Menlo,'DejaVu Sans Mono',consolas,'Courier New',monospace\">prediction: C c <span style=\"color: #008080; text-decoration-color: #008080; font-weight: bold\">1</span> c c c <span style=\"font-weight: bold\">(</span> <span style=\"font-weight: bold\">[</span> N + <span style=\"font-weight: bold\">]</span> <span style=\"font-weight: bold\">(</span> = O <span style=\"font-weight: bold\">)</span> <span style=\"font-weight: bold\">[</span> O - <span style=\"font-weight: bold\">]</span> <span style=\"font-weight: bold\">)</span> c c <span style=\"color: #008080; text-decoration-color: #008080; font-weight: bold\">1</span> C <span style=\"font-weight: bold\">(</span> = O <span style=\"font-weight: bold\">)</span> N S <span style=\"font-weight: bold\">(</span> C <span style=\"font-weight: bold\">)</span> <span style=\"font-weight: bold\">(</span> =\n",
              "</pre>\n"
            ],
            "text/plain": [
              "prediction: C c \u001b[1;36m1\u001b[0m c c c \u001b[1m(\u001b[0m \u001b[1m[\u001b[0m N + \u001b[1m]\u001b[0m \u001b[1m(\u001b[0m = O \u001b[1m)\u001b[0m \u001b[1m[\u001b[0m O - \u001b[1m]\u001b[0m \u001b[1m)\u001b[0m c c \u001b[1;36m1\u001b[0m C \u001b[1m(\u001b[0m = O \u001b[1m)\u001b[0m N S \u001b[1m(\u001b[0m C \u001b[1m)\u001b[0m \u001b[1m(\u001b[0m =\n"
            ]
          },
          "metadata": {
            "tags": []
          }
        },
        {
          "output_type": "display_data",
          "data": {
            "text/html": [
              "<pre style=\"white-space:pre;overflow-x:auto;line-height:normal;font-family:Menlo,'DejaVu Sans Mono',consolas,'Courier New',monospace\">    \n",
              "</pre>\n"
            ],
            "text/plain": [
              "    \n"
            ]
          },
          "metadata": {
            "tags": []
          }
        },
        {
          "output_type": "display_data",
          "data": {
            "text/html": [
              "<pre style=\"white-space:pre;overflow-x:auto;line-height:normal;font-family:Menlo,'DejaVu Sans Mono',consolas,'Courier New',monospace\">Product: <span style=\"font-weight: bold\">&lt;</span><span style=\"color: #ff00ff; text-decoration-color: #ff00ff; font-weight: bold\">RX_6</span><span style=\"font-weight: bold\">&gt;</span> O = C <span style=\"font-weight: bold\">(</span> O <span style=\"font-weight: bold\">)</span> C c <span style=\"color: #008080; text-decoration-color: #008080; font-weight: bold\">1</span> c c c <span style=\"color: #008080; text-decoration-color: #008080; font-weight: bold\">2</span> s c <span style=\"font-weight: bold\">(</span> = O <span style=\"font-weight: bold\">)</span> <span style=\"font-weight: bold\">[</span> n H <span style=\"font-weight: bold\">]</span> c <span style=\"color: #008080; text-decoration-color: #008080; font-weight: bold\">2</span> c <span style=\"color: #008080; text-decoration-color: #008080; font-weight: bold\">1</span>\n",
              "</pre>\n"
            ],
            "text/plain": [
              "Product: \u001b[1m<\u001b[0m\u001b[1;95mRX_6\u001b[0m\u001b[1m>\u001b[0m O = C \u001b[1m(\u001b[0m O \u001b[1m)\u001b[0m C c \u001b[1;36m1\u001b[0m c c c \u001b[1;36m2\u001b[0m s c \u001b[1m(\u001b[0m = O \u001b[1m)\u001b[0m \u001b[1m[\u001b[0m n H \u001b[1m]\u001b[0m c \u001b[1;36m2\u001b[0m c \u001b[1;36m1\u001b[0m\n"
            ]
          },
          "metadata": {
            "tags": []
          }
        },
        {
          "output_type": "display_data",
          "data": {
            "text/html": [
              "<pre style=\"white-space:pre;overflow-x:auto;line-height:normal;font-family:Menlo,'DejaVu Sans Mono',consolas,'Courier New',monospace\">Reaction Real: C C O C <span style=\"font-weight: bold\">(</span> = O <span style=\"font-weight: bold\">)</span> C c <span style=\"color: #008080; text-decoration-color: #008080; font-weight: bold\">1</span> c c c <span style=\"color: #008080; text-decoration-color: #008080; font-weight: bold\">2</span> s c <span style=\"font-weight: bold\">(</span> = O <span style=\"font-weight: bold\">)</span> <span style=\"font-weight: bold\">[</span> n H <span style=\"font-weight: bold\">]</span> c <span style=\"color: #008080; text-decoration-color: #008080; font-weight: bold\">2</span> c <span style=\"color: #008080; text-decoration-color: #008080; font-weight: bold\">1</span>\n",
              "</pre>\n"
            ],
            "text/plain": [
              "Reaction Real: C C O C \u001b[1m(\u001b[0m = O \u001b[1m)\u001b[0m C c \u001b[1;36m1\u001b[0m c c c \u001b[1;36m2\u001b[0m s c \u001b[1m(\u001b[0m = O \u001b[1m)\u001b[0m \u001b[1m[\u001b[0m n H \u001b[1m]\u001b[0m c \u001b[1;36m2\u001b[0m c \u001b[1;36m1\u001b[0m\n"
            ]
          },
          "metadata": {
            "tags": []
          }
        },
        {
          "output_type": "display_data",
          "data": {
            "text/html": [
              "<pre style=\"white-space:pre;overflow-x:auto;line-height:normal;font-family:Menlo,'DejaVu Sans Mono',consolas,'Courier New',monospace\">prediction: C C O C <span style=\"font-weight: bold\">(</span> = O <span style=\"font-weight: bold\">)</span> C c <span style=\"color: #008080; text-decoration-color: #008080; font-weight: bold\">1</span> c c c <span style=\"color: #008080; text-decoration-color: #008080; font-weight: bold\">2</span> s c <span style=\"font-weight: bold\">(</span> = O <span style=\"font-weight: bold\">)</span> <span style=\"font-weight: bold\">[</span> n H <span style=\"font-weight: bold\">]</span> c <span style=\"color: #008080; text-decoration-color: #008080; font-weight: bold\">2</span> c <span style=\"color: #008080; text-decoration-color: #008080; font-weight: bold\">1</span> \n",
              "</pre>\n"
            ],
            "text/plain": [
              "prediction: C C O C \u001b[1m(\u001b[0m = O \u001b[1m)\u001b[0m C c \u001b[1;36m1\u001b[0m c c c \u001b[1;36m2\u001b[0m s c \u001b[1m(\u001b[0m = O \u001b[1m)\u001b[0m \u001b[1m[\u001b[0m n H \u001b[1m]\u001b[0m c \u001b[1;36m2\u001b[0m c \u001b[1;36m1\u001b[0m \n"
            ]
          },
          "metadata": {
            "tags": []
          }
        },
        {
          "output_type": "display_data",
          "data": {
            "text/html": [
              "<pre style=\"white-space:pre;overflow-x:auto;line-height:normal;font-family:Menlo,'DejaVu Sans Mono',consolas,'Courier New',monospace\">    \n",
              "</pre>\n"
            ],
            "text/plain": [
              "    \n"
            ]
          },
          "metadata": {
            "tags": []
          }
        },
        {
          "output_type": "display_data",
          "data": {
            "text/html": [
              "<pre style=\"white-space:pre;overflow-x:auto;line-height:normal;font-family:Menlo,'DejaVu Sans Mono',consolas,'Courier New',monospace\">Product: <span style=\"font-weight: bold\">&lt;</span><span style=\"color: #ff00ff; text-decoration-color: #ff00ff; font-weight: bold\">RX_9</span><span style=\"font-weight: bold\">&gt;</span> N C <span style=\"font-weight: bold\">(</span> = O <span style=\"font-weight: bold\">)</span> C <span style=\"color: #008080; text-decoration-color: #008080; font-weight: bold\">1</span> C C N <span style=\"font-weight: bold\">(</span> C C C O c <span style=\"color: #008080; text-decoration-color: #008080; font-weight: bold\">2</span> c c c <span style=\"font-weight: bold\">(</span> - n <span style=\"color: #008080; text-decoration-color: #008080; font-weight: bold\">3</span> n c <span style=\"color: #008080; text-decoration-color: #008080; font-weight: bold\">4</span> c c c c c <span style=\"color: #008080; text-decoration-color: #008080; font-weight: bold\">4</span> c <span style=\"color: #008080; text-decoration-color: #008080; font-weight: bold\">3</span> C l <span style=\"font-weight: bold\">)</span>\n",
              "c c <span style=\"color: #008080; text-decoration-color: #008080; font-weight: bold\">2</span> <span style=\"font-weight: bold\">)</span> C C <span style=\"color: #008080; text-decoration-color: #008080; font-weight: bold\">1</span>\n",
              "</pre>\n"
            ],
            "text/plain": [
              "Product: \u001b[1m<\u001b[0m\u001b[1;95mRX_9\u001b[0m\u001b[1m>\u001b[0m N C \u001b[1m(\u001b[0m = O \u001b[1m)\u001b[0m C \u001b[1;36m1\u001b[0m C C N \u001b[1m(\u001b[0m C C C O c \u001b[1;36m2\u001b[0m c c c \u001b[1m(\u001b[0m - n \u001b[1;36m3\u001b[0m n c \u001b[1;36m4\u001b[0m c c c c c \u001b[1;36m4\u001b[0m c \u001b[1;36m3\u001b[0m C l \u001b[1m)\u001b[0m\n",
              "c c \u001b[1;36m2\u001b[0m \u001b[1m)\u001b[0m C C \u001b[1;36m1\u001b[0m\n"
            ]
          },
          "metadata": {
            "tags": []
          }
        },
        {
          "output_type": "display_data",
          "data": {
            "text/html": [
              "<pre style=\"white-space:pre;overflow-x:auto;line-height:normal;font-family:Menlo,'DejaVu Sans Mono',consolas,'Courier New',monospace\">Reaction Real: N . O = C <span style=\"font-weight: bold\">(</span> O <span style=\"font-weight: bold\">)</span> C <span style=\"color: #008080; text-decoration-color: #008080; font-weight: bold\">1</span> C C N <span style=\"font-weight: bold\">(</span> C C C O c <span style=\"color: #008080; text-decoration-color: #008080; font-weight: bold\">2</span> c c c <span style=\"font-weight: bold\">(</span> - n <span style=\"color: #008080; text-decoration-color: #008080; font-weight: bold\">3</span> n c <span style=\"color: #008080; text-decoration-color: #008080; font-weight: bold\">4</span> c c c c c <span style=\"color: #008080; text-decoration-color: #008080; font-weight: bold\">4</span> c <span style=\"color: #008080; text-decoration-color: #008080; font-weight: bold\">3</span> C \n",
              "l <span style=\"font-weight: bold\">)</span> c c <span style=\"color: #008080; text-decoration-color: #008080; font-weight: bold\">2</span> <span style=\"font-weight: bold\">)</span> C C <span style=\"color: #008080; text-decoration-color: #008080; font-weight: bold\">1</span>\n",
              "</pre>\n"
            ],
            "text/plain": [
              "Reaction Real: N . O = C \u001b[1m(\u001b[0m O \u001b[1m)\u001b[0m C \u001b[1;36m1\u001b[0m C C N \u001b[1m(\u001b[0m C C C O c \u001b[1;36m2\u001b[0m c c c \u001b[1m(\u001b[0m - n \u001b[1;36m3\u001b[0m n c \u001b[1;36m4\u001b[0m c c c c c \u001b[1;36m4\u001b[0m c \u001b[1;36m3\u001b[0m C \n",
              "l \u001b[1m)\u001b[0m c c \u001b[1;36m2\u001b[0m \u001b[1m)\u001b[0m C C \u001b[1;36m1\u001b[0m\n"
            ]
          },
          "metadata": {
            "tags": []
          }
        },
        {
          "output_type": "display_data",
          "data": {
            "text/html": [
              "<pre style=\"white-space:pre;overflow-x:auto;line-height:normal;font-family:Menlo,'DejaVu Sans Mono',consolas,'Courier New',monospace\">prediction: C O C <span style=\"font-weight: bold\">(</span> = O <span style=\"font-weight: bold\">)</span> C <span style=\"color: #008080; text-decoration-color: #008080; font-weight: bold\">1</span> C C N <span style=\"font-weight: bold\">(</span> C C C O c <span style=\"color: #008080; text-decoration-color: #008080; font-weight: bold\">2</span> c c c <span style=\"font-weight: bold\">(</span> - n <span style=\"color: #008080; text-decoration-color: #008080; font-weight: bold\">3</span> n c <span style=\"color: #008080; text-decoration-color: #008080; font-weight: bold\">4</span> c c c c c <span style=\"color: #008080; text-decoration-color: #008080; font-weight: bold\">4</span> c <span style=\"color: #008080; text-decoration-color: #008080; font-weight: bold\">3</span> C l <span style=\"font-weight: bold\">)</span> c\n",
              "c <span style=\"color: #008080; text-decoration-color: #008080; font-weight: bold\">2</span> <span style=\"font-weight: bold\">)</span> C C <span style=\"color: #008080; text-decoration-color: #008080; font-weight: bold\">1</span> . N \n",
              "</pre>\n"
            ],
            "text/plain": [
              "prediction: C O C \u001b[1m(\u001b[0m = O \u001b[1m)\u001b[0m C \u001b[1;36m1\u001b[0m C C N \u001b[1m(\u001b[0m C C C O c \u001b[1;36m2\u001b[0m c c c \u001b[1m(\u001b[0m - n \u001b[1;36m3\u001b[0m n c \u001b[1;36m4\u001b[0m c c c c c \u001b[1;36m4\u001b[0m c \u001b[1;36m3\u001b[0m C l \u001b[1m)\u001b[0m c\n",
              "c \u001b[1;36m2\u001b[0m \u001b[1m)\u001b[0m C C \u001b[1;36m1\u001b[0m . N \n"
            ]
          },
          "metadata": {
            "tags": []
          }
        },
        {
          "output_type": "display_data",
          "data": {
            "text/html": [
              "<pre style=\"white-space:pre;overflow-x:auto;line-height:normal;font-family:Menlo,'DejaVu Sans Mono',consolas,'Courier New',monospace\">    \n",
              "</pre>\n"
            ],
            "text/plain": [
              "    \n"
            ]
          },
          "metadata": {
            "tags": []
          }
        },
        {
          "output_type": "display_data",
          "data": {
            "text/html": [
              "<pre style=\"white-space:pre;overflow-x:auto;line-height:normal;font-family:Menlo,'DejaVu Sans Mono',consolas,'Courier New',monospace\">Product: <span style=\"font-weight: bold\">&lt;</span><span style=\"color: #ff00ff; text-decoration-color: #ff00ff; font-weight: bold\">RX_2</span><span style=\"font-weight: bold\">&gt;</span> C C <span style=\"font-weight: bold\">(</span> C <span style=\"font-weight: bold\">)</span> <span style=\"font-weight: bold\">(</span> C <span style=\"font-weight: bold\">)</span> c <span style=\"color: #008080; text-decoration-color: #008080; font-weight: bold\">1</span> c c c <span style=\"font-weight: bold\">(</span> C N <span style=\"font-weight: bold\">(</span> C C c <span style=\"color: #008080; text-decoration-color: #008080; font-weight: bold\">2</span> c c <span style=\"font-weight: bold\">(</span> F <span style=\"font-weight: bold\">)</span> c c <span style=\"font-weight: bold\">(</span> C <span style=\"font-weight: bold\">(</span> F <span style=\"font-weight: bold\">)</span> <span style=\"font-weight: bold\">(</span> F <span style=\"font-weight: bold\">)</span> F <span style=\"font-weight: bold\">)</span> c\n",
              "<span style=\"color: #008080; text-decoration-color: #008080; font-weight: bold\">2</span> <span style=\"font-weight: bold\">)</span> C <span style=\"font-weight: bold\">(</span> = O <span style=\"font-weight: bold\">)</span> c <span style=\"color: #008080; text-decoration-color: #008080; font-weight: bold\">2</span> c c <span style=\"font-weight: bold\">(</span> C <span style=\"font-weight: bold\">(</span> F <span style=\"font-weight: bold\">)</span> <span style=\"font-weight: bold\">(</span> F <span style=\"font-weight: bold\">)</span> F <span style=\"font-weight: bold\">)</span> c c <span style=\"font-weight: bold\">(</span> C l <span style=\"font-weight: bold\">)</span> c <span style=\"color: #008080; text-decoration-color: #008080; font-weight: bold\">2</span> F <span style=\"font-weight: bold\">)</span> c c <span style=\"color: #008080; text-decoration-color: #008080; font-weight: bold\">1</span>\n",
              "</pre>\n"
            ],
            "text/plain": [
              "Product: \u001b[1m<\u001b[0m\u001b[1;95mRX_2\u001b[0m\u001b[1m>\u001b[0m C C \u001b[1m(\u001b[0m C \u001b[1m)\u001b[0m \u001b[1m(\u001b[0m C \u001b[1m)\u001b[0m c \u001b[1;36m1\u001b[0m c c c \u001b[1m(\u001b[0m C N \u001b[1m(\u001b[0m C C c \u001b[1;36m2\u001b[0m c c \u001b[1m(\u001b[0m F \u001b[1m)\u001b[0m c c \u001b[1m(\u001b[0m C \u001b[1m(\u001b[0m F \u001b[1m)\u001b[0m \u001b[1m(\u001b[0m F \u001b[1m)\u001b[0m F \u001b[1m)\u001b[0m c\n",
              "\u001b[1;36m2\u001b[0m \u001b[1m)\u001b[0m C \u001b[1m(\u001b[0m = O \u001b[1m)\u001b[0m c \u001b[1;36m2\u001b[0m c c \u001b[1m(\u001b[0m C \u001b[1m(\u001b[0m F \u001b[1m)\u001b[0m \u001b[1m(\u001b[0m F \u001b[1m)\u001b[0m F \u001b[1m)\u001b[0m c c \u001b[1m(\u001b[0m C l \u001b[1m)\u001b[0m c \u001b[1;36m2\u001b[0m F \u001b[1m)\u001b[0m c c \u001b[1;36m1\u001b[0m\n"
            ]
          },
          "metadata": {
            "tags": []
          }
        },
        {
          "output_type": "display_data",
          "data": {
            "text/html": [
              "<pre style=\"white-space:pre;overflow-x:auto;line-height:normal;font-family:Menlo,'DejaVu Sans Mono',consolas,'Courier New',monospace\">Reaction Real: C C <span style=\"font-weight: bold\">(</span> C <span style=\"font-weight: bold\">)</span> <span style=\"font-weight: bold\">(</span> C <span style=\"font-weight: bold\">)</span> c <span style=\"color: #008080; text-decoration-color: #008080; font-weight: bold\">1</span> c c c <span style=\"font-weight: bold\">(</span> C N C C c <span style=\"color: #008080; text-decoration-color: #008080; font-weight: bold\">2</span> c c <span style=\"font-weight: bold\">(</span> F <span style=\"font-weight: bold\">)</span> c c <span style=\"font-weight: bold\">(</span> C <span style=\"font-weight: bold\">(</span> F <span style=\"font-weight: bold\">)</span> <span style=\"font-weight: bold\">(</span> F <span style=\"font-weight: bold\">)</span> F <span style=\"font-weight: bold\">)</span> c <span style=\"color: #008080; text-decoration-color: #008080; font-weight: bold\">2</span> \n",
              "<span style=\"font-weight: bold\">)</span> c c <span style=\"color: #008080; text-decoration-color: #008080; font-weight: bold\">1</span> . O = C <span style=\"font-weight: bold\">(</span> O <span style=\"font-weight: bold\">)</span> c <span style=\"color: #008080; text-decoration-color: #008080; font-weight: bold\">1</span> c c <span style=\"font-weight: bold\">(</span> C <span style=\"font-weight: bold\">(</span> F <span style=\"font-weight: bold\">)</span> <span style=\"font-weight: bold\">(</span> F <span style=\"font-weight: bold\">)</span> F <span style=\"font-weight: bold\">)</span> c c <span style=\"font-weight: bold\">(</span> C l <span style=\"font-weight: bold\">)</span> c <span style=\"color: #008080; text-decoration-color: #008080; font-weight: bold\">1</span> F\n",
              "</pre>\n"
            ],
            "text/plain": [
              "Reaction Real: C C \u001b[1m(\u001b[0m C \u001b[1m)\u001b[0m \u001b[1m(\u001b[0m C \u001b[1m)\u001b[0m c \u001b[1;36m1\u001b[0m c c c \u001b[1m(\u001b[0m C N C C c \u001b[1;36m2\u001b[0m c c \u001b[1m(\u001b[0m F \u001b[1m)\u001b[0m c c \u001b[1m(\u001b[0m C \u001b[1m(\u001b[0m F \u001b[1m)\u001b[0m \u001b[1m(\u001b[0m F \u001b[1m)\u001b[0m F \u001b[1m)\u001b[0m c \u001b[1;36m2\u001b[0m \n",
              "\u001b[1m)\u001b[0m c c \u001b[1;36m1\u001b[0m . O = C \u001b[1m(\u001b[0m O \u001b[1m)\u001b[0m c \u001b[1;36m1\u001b[0m c c \u001b[1m(\u001b[0m C \u001b[1m(\u001b[0m F \u001b[1m)\u001b[0m \u001b[1m(\u001b[0m F \u001b[1m)\u001b[0m F \u001b[1m)\u001b[0m c c \u001b[1m(\u001b[0m C l \u001b[1m)\u001b[0m c \u001b[1;36m1\u001b[0m F\n"
            ]
          },
          "metadata": {
            "tags": []
          }
        },
        {
          "output_type": "display_data",
          "data": {
            "text/html": [
              "<pre style=\"white-space:pre;overflow-x:auto;line-height:normal;font-family:Menlo,'DejaVu Sans Mono',consolas,'Courier New',monospace\">prediction: C C <span style=\"font-weight: bold\">(</span> C <span style=\"font-weight: bold\">)</span> <span style=\"font-weight: bold\">(</span> C <span style=\"font-weight: bold\">)</span> c <span style=\"color: #008080; text-decoration-color: #008080; font-weight: bold\">1</span> c c c <span style=\"font-weight: bold\">(</span> C N C C c <span style=\"color: #008080; text-decoration-color: #008080; font-weight: bold\">2</span> c c <span style=\"font-weight: bold\">(</span> F <span style=\"font-weight: bold\">)</span> c c <span style=\"font-weight: bold\">(</span> C <span style=\"font-weight: bold\">(</span> F <span style=\"font-weight: bold\">)</span> <span style=\"font-weight: bold\">(</span> F <span style=\"font-weight: bold\">)</span> F <span style=\"font-weight: bold\">)</span> c <span style=\"color: #008080; text-decoration-color: #008080; font-weight: bold\">2</span> <span style=\"font-weight: bold\">)</span> c\n",
              "c <span style=\"color: #008080; text-decoration-color: #008080; font-weight: bold\">1</span> . O = C <span style=\"font-weight: bold\">(</span> O <span style=\"font-weight: bold\">)</span> c <span style=\"color: #008080; text-decoration-color: #008080; font-weight: bold\">1</span> c c <span style=\"font-weight: bold\">(</span> C <span style=\"font-weight: bold\">(</span> F <span style=\"font-weight: bold\">)</span> <span style=\"font-weight: bold\">(</span> F <span style=\"font-weight: bold\">)</span> F <span style=\"font-weight: bold\">)</span> c c <span style=\"font-weight: bold\">(</span> C l <span style=\"font-weight: bold\">)</span> c <span style=\"color: #008080; text-decoration-color: #008080; font-weight: bold\">1</span> F \n",
              "</pre>\n"
            ],
            "text/plain": [
              "prediction: C C \u001b[1m(\u001b[0m C \u001b[1m)\u001b[0m \u001b[1m(\u001b[0m C \u001b[1m)\u001b[0m c \u001b[1;36m1\u001b[0m c c c \u001b[1m(\u001b[0m C N C C c \u001b[1;36m2\u001b[0m c c \u001b[1m(\u001b[0m F \u001b[1m)\u001b[0m c c \u001b[1m(\u001b[0m C \u001b[1m(\u001b[0m F \u001b[1m)\u001b[0m \u001b[1m(\u001b[0m F \u001b[1m)\u001b[0m F \u001b[1m)\u001b[0m c \u001b[1;36m2\u001b[0m \u001b[1m)\u001b[0m c\n",
              "c \u001b[1;36m1\u001b[0m . O = C \u001b[1m(\u001b[0m O \u001b[1m)\u001b[0m c \u001b[1;36m1\u001b[0m c c \u001b[1m(\u001b[0m C \u001b[1m(\u001b[0m F \u001b[1m)\u001b[0m \u001b[1m(\u001b[0m F \u001b[1m)\u001b[0m F \u001b[1m)\u001b[0m c c \u001b[1m(\u001b[0m C l \u001b[1m)\u001b[0m c \u001b[1;36m1\u001b[0m F \n"
            ]
          },
          "metadata": {
            "tags": []
          }
        },
        {
          "output_type": "display_data",
          "data": {
            "text/html": [
              "<pre style=\"white-space:pre;overflow-x:auto;line-height:normal;font-family:Menlo,'DejaVu Sans Mono',consolas,'Courier New',monospace\">    \n",
              "</pre>\n"
            ],
            "text/plain": [
              "    \n"
            ]
          },
          "metadata": {
            "tags": []
          }
        },
        {
          "output_type": "display_data",
          "data": {
            "text/html": [
              "<pre style=\"white-space:pre;overflow-x:auto;line-height:normal;font-family:Menlo,'DejaVu Sans Mono',consolas,'Courier New',monospace\">Product: <span style=\"font-weight: bold\">&lt;</span><span style=\"color: #ff00ff; text-decoration-color: #ff00ff; font-weight: bold\">RX_1</span><span style=\"font-weight: bold\">&gt;</span> C C O C <span style=\"font-weight: bold\">(</span> = O <span style=\"font-weight: bold\">)</span> c <span style=\"color: #008080; text-decoration-color: #008080; font-weight: bold\">1</span> c o c <span style=\"color: #008080; text-decoration-color: #008080; font-weight: bold\">2</span> c c <span style=\"font-weight: bold\">(</span> N <span style=\"color: #008080; text-decoration-color: #008080; font-weight: bold\">3</span> C <span style=\"font-weight: bold\">(</span> = O <span style=\"font-weight: bold\">)</span> c <span style=\"color: #008080; text-decoration-color: #008080; font-weight: bold\">4</span> c c c c c <span style=\"color: #008080; text-decoration-color: #008080; font-weight: bold\">4</span> C <span style=\"color: #008080; text-decoration-color: #008080; font-weight: bold\">3</span> = O <span style=\"font-weight: bold\">)</span> c c\n",
              "c <span style=\"color: #008080; text-decoration-color: #008080; font-weight: bold\">1</span> <span style=\"color: #008080; text-decoration-color: #008080; font-weight: bold\">2</span>\n",
              "</pre>\n"
            ],
            "text/plain": [
              "Product: \u001b[1m<\u001b[0m\u001b[1;95mRX_1\u001b[0m\u001b[1m>\u001b[0m C C O C \u001b[1m(\u001b[0m = O \u001b[1m)\u001b[0m c \u001b[1;36m1\u001b[0m c o c \u001b[1;36m2\u001b[0m c c \u001b[1m(\u001b[0m N \u001b[1;36m3\u001b[0m C \u001b[1m(\u001b[0m = O \u001b[1m)\u001b[0m c \u001b[1;36m4\u001b[0m c c c c c \u001b[1;36m4\u001b[0m C \u001b[1;36m3\u001b[0m = O \u001b[1m)\u001b[0m c c\n",
              "c \u001b[1;36m1\u001b[0m \u001b[1;36m2\u001b[0m\n"
            ]
          },
          "metadata": {
            "tags": []
          }
        },
        {
          "output_type": "display_data",
          "data": {
            "text/html": [
              "<pre style=\"white-space:pre;overflow-x:auto;line-height:normal;font-family:Menlo,'DejaVu Sans Mono',consolas,'Courier New',monospace\">Reaction Real: C C O C <span style=\"font-weight: bold\">(</span> = O <span style=\"font-weight: bold\">)</span> c <span style=\"color: #008080; text-decoration-color: #008080; font-weight: bold\">1</span> c o c <span style=\"color: #008080; text-decoration-color: #008080; font-weight: bold\">2</span> c c <span style=\"font-weight: bold\">(</span> B r <span style=\"font-weight: bold\">)</span> c c c <span style=\"color: #008080; text-decoration-color: #008080; font-weight: bold\">1</span> <span style=\"color: #008080; text-decoration-color: #008080; font-weight: bold\">2</span> . O = C <span style=\"color: #008080; text-decoration-color: #008080; font-weight: bold\">1</span> N C <span style=\"font-weight: bold\">(</span> = O <span style=\"font-weight: bold\">)</span> c <span style=\"color: #008080; text-decoration-color: #008080; font-weight: bold\">2</span> c \n",
              "c c c c <span style=\"color: #008080; text-decoration-color: #008080; font-weight: bold\">2</span> <span style=\"color: #008080; text-decoration-color: #008080; font-weight: bold\">1</span>\n",
              "</pre>\n"
            ],
            "text/plain": [
              "Reaction Real: C C O C \u001b[1m(\u001b[0m = O \u001b[1m)\u001b[0m c \u001b[1;36m1\u001b[0m c o c \u001b[1;36m2\u001b[0m c c \u001b[1m(\u001b[0m B r \u001b[1m)\u001b[0m c c c \u001b[1;36m1\u001b[0m \u001b[1;36m2\u001b[0m . O = C \u001b[1;36m1\u001b[0m N C \u001b[1m(\u001b[0m = O \u001b[1m)\u001b[0m c \u001b[1;36m2\u001b[0m c \n",
              "c c c c \u001b[1;36m2\u001b[0m \u001b[1;36m1\u001b[0m\n"
            ]
          },
          "metadata": {
            "tags": []
          }
        },
        {
          "output_type": "display_data",
          "data": {
            "text/html": [
              "<pre style=\"white-space:pre;overflow-x:auto;line-height:normal;font-family:Menlo,'DejaVu Sans Mono',consolas,'Courier New',monospace\">prediction: C C O C <span style=\"font-weight: bold\">(</span> = O <span style=\"font-weight: bold\">)</span> c <span style=\"color: #008080; text-decoration-color: #008080; font-weight: bold\">1</span> c o c <span style=\"color: #008080; text-decoration-color: #008080; font-weight: bold\">2</span> c c <span style=\"font-weight: bold\">(</span> N C <span style=\"font-weight: bold\">(</span> = O <span style=\"font-weight: bold\">)</span> c <span style=\"color: #008080; text-decoration-color: #008080; font-weight: bold\">3</span> c c c c c <span style=\"color: #008080; text-decoration-color: #008080; font-weight: bold\">3</span> C <span style=\"font-weight: bold\">(</span> = O <span style=\"font-weight: bold\">)</span> O C <span style=\"font-weight: bold\">)</span> c c\n",
              "c <span style=\"color: #008080; text-decoration-color: #008080; font-weight: bold\">1</span> <span style=\"color: #008080; text-decoration-color: #008080; font-weight: bold\">2</span> \n",
              "</pre>\n"
            ],
            "text/plain": [
              "prediction: C C O C \u001b[1m(\u001b[0m = O \u001b[1m)\u001b[0m c \u001b[1;36m1\u001b[0m c o c \u001b[1;36m2\u001b[0m c c \u001b[1m(\u001b[0m N C \u001b[1m(\u001b[0m = O \u001b[1m)\u001b[0m c \u001b[1;36m3\u001b[0m c c c c c \u001b[1;36m3\u001b[0m C \u001b[1m(\u001b[0m = O \u001b[1m)\u001b[0m O C \u001b[1m)\u001b[0m c c\n",
              "c \u001b[1;36m1\u001b[0m \u001b[1;36m2\u001b[0m \n"
            ]
          },
          "metadata": {
            "tags": []
          }
        },
        {
          "output_type": "display_data",
          "data": {
            "text/html": [
              "<pre style=\"white-space:pre;overflow-x:auto;line-height:normal;font-family:Menlo,'DejaVu Sans Mono',consolas,'Courier New',monospace\">    \n",
              "</pre>\n"
            ],
            "text/plain": [
              "    \n"
            ]
          },
          "metadata": {
            "tags": []
          }
        }
      ]
    },
    {
      "cell_type": "code",
      "metadata": {
        "colab": {
          "base_uri": "https://localhost:8080/",
          "height": 65
        },
        "id": "IGGb5BnRFdLj",
        "outputId": "0289b9aa-3b72-4f83-c509-6b8dfa68e500"
      },
      "source": [
        "i=50034\n",
        "translate(transformer, df.input[i], src_vocab, tgt_vocab, tokenizer)"
      ],
      "id": "IGGb5BnRFdLj",
      "execution_count": 59,
      "outputs": [
        {
          "output_type": "display_data",
          "data": {
            "text/html": [
              "<pre style=\"white-space:pre;overflow-x:auto;line-height:normal;font-family:Menlo,'DejaVu Sans Mono',consolas,'Courier New',monospace\">Product: <span style=\"font-weight: bold\">&lt;</span><span style=\"color: #ff00ff; text-decoration-color: #ff00ff; font-weight: bold\">RX_3</span><span style=\"font-weight: bold\">&gt;</span> C c <span style=\"color: #008080; text-decoration-color: #008080; font-weight: bold\">1</span> c c c <span style=\"font-weight: bold\">(</span> - c <span style=\"color: #008080; text-decoration-color: #008080; font-weight: bold\">2</span> c c n c c <span style=\"color: #008080; text-decoration-color: #008080; font-weight: bold\">2</span> <span style=\"font-weight: bold\">)</span> c c <span style=\"color: #008080; text-decoration-color: #008080; font-weight: bold\">1</span> C = O\n",
              "</pre>\n"
            ],
            "text/plain": [
              "Product: \u001b[1m<\u001b[0m\u001b[1;95mRX_3\u001b[0m\u001b[1m>\u001b[0m C c \u001b[1;36m1\u001b[0m c c c \u001b[1m(\u001b[0m - c \u001b[1;36m2\u001b[0m c c n c c \u001b[1;36m2\u001b[0m \u001b[1m)\u001b[0m c c \u001b[1;36m1\u001b[0m C = O\n"
            ]
          },
          "metadata": {
            "tags": []
          }
        },
        {
          "output_type": "display_data",
          "data": {
            "text/html": [
              "<pre style=\"white-space:pre;overflow-x:auto;line-height:normal;font-family:Menlo,'DejaVu Sans Mono',consolas,'Courier New',monospace\">Reaction Real: C c <span style=\"color: #008080; text-decoration-color: #008080; font-weight: bold\">1</span> c c c <span style=\"font-weight: bold\">(</span> B r <span style=\"font-weight: bold\">)</span> c c <span style=\"color: #008080; text-decoration-color: #008080; font-weight: bold\">1</span> C = O . O B <span style=\"font-weight: bold\">(</span> O <span style=\"font-weight: bold\">)</span> c <span style=\"color: #008080; text-decoration-color: #008080; font-weight: bold\">1</span> c c n c c <span style=\"color: #008080; text-decoration-color: #008080; font-weight: bold\">1</span>\n",
              "</pre>\n"
            ],
            "text/plain": [
              "Reaction Real: C c \u001b[1;36m1\u001b[0m c c c \u001b[1m(\u001b[0m B r \u001b[1m)\u001b[0m c c \u001b[1;36m1\u001b[0m C = O . O B \u001b[1m(\u001b[0m O \u001b[1m)\u001b[0m c \u001b[1;36m1\u001b[0m c c n c c \u001b[1;36m1\u001b[0m\n"
            ]
          },
          "metadata": {
            "tags": []
          }
        },
        {
          "output_type": "display_data",
          "data": {
            "text/html": [
              "<pre style=\"white-space:pre;overflow-x:auto;line-height:normal;font-family:Menlo,'DejaVu Sans Mono',consolas,'Courier New',monospace\">prediction: C c <span style=\"color: #008080; text-decoration-color: #008080; font-weight: bold\">1</span> c c c <span style=\"font-weight: bold\">(</span> B r <span style=\"font-weight: bold\">)</span> c c <span style=\"color: #008080; text-decoration-color: #008080; font-weight: bold\">1</span> C = O . O B <span style=\"font-weight: bold\">(</span> O <span style=\"font-weight: bold\">)</span> c <span style=\"color: #008080; text-decoration-color: #008080; font-weight: bold\">1</span> c c n c c <span style=\"color: #008080; text-decoration-color: #008080; font-weight: bold\">1</span>\n",
              "</pre>\n"
            ],
            "text/plain": [
              "prediction: C c \u001b[1;36m1\u001b[0m c c c \u001b[1m(\u001b[0m B r \u001b[1m)\u001b[0m c c \u001b[1;36m1\u001b[0m C = O . O B \u001b[1m(\u001b[0m O \u001b[1m)\u001b[0m c \u001b[1;36m1\u001b[0m c c n c c \u001b[1;36m1\u001b[0m\n"
            ]
          },
          "metadata": {
            "tags": []
          }
        }
      ]
    },
    {
      "cell_type": "markdown",
      "metadata": {
        "id": "cQud1sNaKsK2"
      },
      "source": [
        "#TEST"
      ],
      "id": "cQud1sNaKsK2"
    },
    {
      "cell_type": "code",
      "metadata": {
        "colab": {
          "base_uri": "https://localhost:8080/",
          "height": 419
        },
        "id": "fiIkBfmNKzD9",
        "outputId": "5279c0ab-af9a-4e17-ad49-e64b793ab3e6"
      },
      "source": [
        "df_test=pd.read_csv(\"/content/Retrosynthesis_TF/USPTO-50K/src/src-test.txt\",names=[\"input\"])\n",
        "df_test"
      ],
      "id": "fiIkBfmNKzD9",
      "execution_count": null,
      "outputs": [
        {
          "output_type": "execute_result",
          "data": {
            "text/html": [
              "<div>\n",
              "<style scoped>\n",
              "    .dataframe tbody tr th:only-of-type {\n",
              "        vertical-align: middle;\n",
              "    }\n",
              "\n",
              "    .dataframe tbody tr th {\n",
              "        vertical-align: top;\n",
              "    }\n",
              "\n",
              "    .dataframe thead th {\n",
              "        text-align: right;\n",
              "    }\n",
              "</style>\n",
              "<table border=\"1\" class=\"dataframe\">\n",
              "  <thead>\n",
              "    <tr style=\"text-align: right;\">\n",
              "      <th></th>\n",
              "      <th>input</th>\n",
              "    </tr>\n",
              "  </thead>\n",
              "  <tbody>\n",
              "    <tr>\n",
              "      <th>0</th>\n",
              "      <td>&lt;RX_1&gt; C O C ( = O ) C C C ( = O ) c 1 c c c (...</td>\n",
              "    </tr>\n",
              "    <tr>\n",
              "      <th>1</th>\n",
              "      <td>&lt;RX_4&gt; C O C ( = O ) c 1 c c c c ( - c 2 n c 3...</td>\n",
              "    </tr>\n",
              "    <tr>\n",
              "      <th>2</th>\n",
              "      <td>&lt;RX_2&gt; C O N ( C ) C ( = O ) C 1 C C C ( N C (...</td>\n",
              "    </tr>\n",
              "    <tr>\n",
              "      <th>3</th>\n",
              "      <td>&lt;RX_1&gt; O = [ N + ] ( [ O - ] ) c 1 c c c ( C l...</td>\n",
              "    </tr>\n",
              "    <tr>\n",
              "      <th>4</th>\n",
              "      <td>&lt;RX_9&gt; N C C 1 = C C [ C @ @ H ] ( c 2 c c c (...</td>\n",
              "    </tr>\n",
              "    <tr>\n",
              "      <th>...</th>\n",
              "      <td>...</td>\n",
              "    </tr>\n",
              "    <tr>\n",
              "      <th>4999</th>\n",
              "      <td>&lt;RX_1&gt; C c 1 c c ( [ N + ] ( = O ) [ O - ] ) c...</td>\n",
              "    </tr>\n",
              "    <tr>\n",
              "      <th>5000</th>\n",
              "      <td>&lt;RX_6&gt; C O C ( = O ) c 1 [ n H ] c 2 c c ( C l...</td>\n",
              "    </tr>\n",
              "    <tr>\n",
              "      <th>5001</th>\n",
              "      <td>&lt;RX_7&gt; C O c 1 c c ( C ( F ) ( F ) F ) c c ( S...</td>\n",
              "    </tr>\n",
              "    <tr>\n",
              "      <th>5002</th>\n",
              "      <td>&lt;RX_10&gt; C c 1 n n ( C C ( C ) C O ) c ( - c 2 ...</td>\n",
              "    </tr>\n",
              "    <tr>\n",
              "      <th>5003</th>\n",
              "      <td>&lt;RX_1&gt; C O C ( = O ) c 1 c c ( S C c 2 c c c (...</td>\n",
              "    </tr>\n",
              "  </tbody>\n",
              "</table>\n",
              "<p>5004 rows × 1 columns</p>\n",
              "</div>"
            ],
            "text/plain": [
              "                                                  input\n",
              "0     <RX_1> C O C ( = O ) C C C ( = O ) c 1 c c c (...\n",
              "1     <RX_4> C O C ( = O ) c 1 c c c c ( - c 2 n c 3...\n",
              "2     <RX_2> C O N ( C ) C ( = O ) C 1 C C C ( N C (...\n",
              "3     <RX_1> O = [ N + ] ( [ O - ] ) c 1 c c c ( C l...\n",
              "4     <RX_9> N C C 1 = C C [ C @ @ H ] ( c 2 c c c (...\n",
              "...                                                 ...\n",
              "4999  <RX_1> C c 1 c c ( [ N + ] ( = O ) [ O - ] ) c...\n",
              "5000  <RX_6> C O C ( = O ) c 1 [ n H ] c 2 c c ( C l...\n",
              "5001  <RX_7> C O c 1 c c ( C ( F ) ( F ) F ) c c ( S...\n",
              "5002  <RX_10> C c 1 n n ( C C ( C ) C O ) c ( - c 2 ...\n",
              "5003  <RX_1> C O C ( = O ) c 1 c c ( S C c 2 c c c (...\n",
              "\n",
              "[5004 rows x 1 columns]"
            ]
          },
          "metadata": {
            "tags": []
          },
          "execution_count": 51
        }
      ]
    },
    {
      "cell_type": "code",
      "metadata": {
        "colab": {
          "base_uri": "https://localhost:8080/"
        },
        "id": "uydV8ir4LpW7",
        "outputId": "736b0828-6eb7-42d4-f6e2-571c5eb1c8e4"
      },
      "source": [
        "len(df_test.input)\n",
        "len(df.input)"
      ],
      "id": "uydV8ir4LpW7",
      "execution_count": null,
      "outputs": [
        {
          "output_type": "execute_result",
          "data": {
            "text/plain": [
              "50037"
            ]
          },
          "metadata": {
            "tags": []
          },
          "execution_count": 66
        }
      ]
    },
    {
      "cell_type": "code",
      "metadata": {
        "colab": {
          "base_uri": "https://localhost:8080/",
          "height": 34
        },
        "id": "NbT8HBEhJtvg",
        "outputId": "6da1b3d4-cbda-40de-e6f1-9c8679ee8e94"
      },
      "source": [
        "a=0\n",
        "src_input=[]\n",
        "for i in range(len(df.input)):\n",
        "  translate_src=translate(model, df.input[i], src_vocab, tgt_vocab, tokenizer)\n",
        "  src_input.append(translate_src)\n",
        "  a=a+1\n",
        "print(a)         "
      ],
      "id": "NbT8HBEhJtvg",
      "execution_count": null,
      "outputs": [
        {
          "output_type": "display_data",
          "data": {
            "text/html": [
              "<pre style=\"white-space:pre;overflow-x:auto;line-height:normal;font-family:Menlo,'DejaVu Sans Mono',consolas,'Courier New',monospace\"><span style=\"color: #008080; text-decoration-color: #008080; font-weight: bold\">5004</span>\n",
              "</pre>\n"
            ],
            "text/plain": [
              "\u001b[1;36m5004\u001b[0m\n"
            ]
          },
          "metadata": {
            "tags": []
          }
        }
      ]
    },
    {
      "cell_type": "code",
      "metadata": {
        "colab": {
          "base_uri": "https://localhost:8080/"
        },
        "id": "qGURjRfVTaN7",
        "outputId": "1da0e267-17d2-4ab6-f693-68296180a983"
      },
      "source": [
        "df_test_prediction = pd.Series(src_input)\n",
        "df_test_prediction"
      ],
      "id": "qGURjRfVTaN7",
      "execution_count": null,
      "outputs": [
        {
          "output_type": "execute_result",
          "data": {
            "text/plain": [
              "0        c s ( = o ) ( = o ) o c [ c @ h ] 1 c c c ( =...\n",
              "1        c o c ( = o ) c 1 c c ( c c c c 2 c c 3 c ( =...\n",
              "2        c c 1 ( c ) o b ( b 2 o c ( c ) ( c ) c ( c )...\n",
              "3        c c ( c ) ( c ) o c ( = o ) n c c ( = o ) c c...\n",
              "4        f c 1 c c 2 c ( c l ) n c n c 2 c n 1 . n c 1...\n",
              "                              ...                        \n",
              "4999            c c ( c ) ( c ) o c ( = o ) n 1 c c c ( c\n",
              "5000     n c 1 c c c ( n 2 c c n ( c 3 n c c c n 3 ) c...\n",
              "5001     b r c c c o c 1 c c c c c 1 . c o c ( = o ) c...\n",
              "5002     c n . o = c 1 n c ( = o ) c 2 c 1 c ( - c 1 c...\n",
              "5003     c c ( c ) n 1 c ( b r ) c c 2 c 1 c ( c 1 c c...\n",
              "Length: 5004, dtype: object"
            ]
          },
          "metadata": {
            "tags": []
          },
          "execution_count": 60
        }
      ]
    },
    {
      "cell_type": "code",
      "metadata": {
        "id": "-XkReFXr8V_g"
      },
      "source": [
        ""
      ],
      "id": "-XkReFXr8V_g",
      "execution_count": null,
      "outputs": []
    },
    {
      "cell_type": "code",
      "metadata": {
        "colab": {
          "base_uri": "https://localhost:8080/",
          "height": 419
        },
        "id": "SbDUmAhUT7K0",
        "outputId": "5fd667c8-172f-46fa-cefe-65d22a5498be"
      },
      "source": [
        "df_test_prediction= pd.DataFrame(df_test_prediction, columns=[\"prediction\"])\n",
        "df_test_prediction"
      ],
      "id": "SbDUmAhUT7K0",
      "execution_count": null,
      "outputs": [
        {
          "output_type": "execute_result",
          "data": {
            "text/html": [
              "<div>\n",
              "<style scoped>\n",
              "    .dataframe tbody tr th:only-of-type {\n",
              "        vertical-align: middle;\n",
              "    }\n",
              "\n",
              "    .dataframe tbody tr th {\n",
              "        vertical-align: top;\n",
              "    }\n",
              "\n",
              "    .dataframe thead th {\n",
              "        text-align: right;\n",
              "    }\n",
              "</style>\n",
              "<table border=\"1\" class=\"dataframe\">\n",
              "  <thead>\n",
              "    <tr style=\"text-align: right;\">\n",
              "      <th></th>\n",
              "      <th>prediction</th>\n",
              "    </tr>\n",
              "  </thead>\n",
              "  <tbody>\n",
              "    <tr>\n",
              "      <th>0</th>\n",
              "      <td>c s ( = o ) ( = o ) o c [ c @ h ] 1 c c c ( =...</td>\n",
              "    </tr>\n",
              "    <tr>\n",
              "      <th>1</th>\n",
              "      <td>c o c ( = o ) c 1 c c ( c c c c 2 c c 3 c ( =...</td>\n",
              "    </tr>\n",
              "    <tr>\n",
              "      <th>2</th>\n",
              "      <td>c c 1 ( c ) o b ( b 2 o c ( c ) ( c ) c ( c )...</td>\n",
              "    </tr>\n",
              "    <tr>\n",
              "      <th>3</th>\n",
              "      <td>c c ( c ) ( c ) o c ( = o ) n c c ( = o ) c c...</td>\n",
              "    </tr>\n",
              "    <tr>\n",
              "      <th>4</th>\n",
              "      <td>f c 1 c c 2 c ( c l ) n c n c 2 c n 1 . n c 1...</td>\n",
              "    </tr>\n",
              "    <tr>\n",
              "      <th>...</th>\n",
              "      <td>...</td>\n",
              "    </tr>\n",
              "    <tr>\n",
              "      <th>4999</th>\n",
              "      <td>c c ( c ) ( c ) o c ( = o ) n 1 c c c ( c</td>\n",
              "    </tr>\n",
              "    <tr>\n",
              "      <th>5000</th>\n",
              "      <td>n c 1 c c c ( n 2 c c n ( c 3 n c c c n 3 ) c...</td>\n",
              "    </tr>\n",
              "    <tr>\n",
              "      <th>5001</th>\n",
              "      <td>b r c c c o c 1 c c c c c 1 . c o c ( = o ) c...</td>\n",
              "    </tr>\n",
              "    <tr>\n",
              "      <th>5002</th>\n",
              "      <td>c n . o = c 1 n c ( = o ) c 2 c 1 c ( - c 1 c...</td>\n",
              "    </tr>\n",
              "    <tr>\n",
              "      <th>5003</th>\n",
              "      <td>c c ( c ) n 1 c ( b r ) c c 2 c 1 c ( c 1 c c...</td>\n",
              "    </tr>\n",
              "  </tbody>\n",
              "</table>\n",
              "<p>5004 rows × 1 columns</p>\n",
              "</div>"
            ],
            "text/plain": [
              "                                             prediction\n",
              "0      c s ( = o ) ( = o ) o c [ c @ h ] 1 c c c ( =...\n",
              "1      c o c ( = o ) c 1 c c ( c c c c 2 c c 3 c ( =...\n",
              "2      c c 1 ( c ) o b ( b 2 o c ( c ) ( c ) c ( c )...\n",
              "3      c c ( c ) ( c ) o c ( = o ) n c c ( = o ) c c...\n",
              "4      f c 1 c c 2 c ( c l ) n c n c 2 c n 1 . n c 1...\n",
              "...                                                 ...\n",
              "4999          c c ( c ) ( c ) o c ( = o ) n 1 c c c ( c\n",
              "5000   n c 1 c c c ( n 2 c c n ( c 3 n c c c n 3 ) c...\n",
              "5001   b r c c c o c 1 c c c c c 1 . c o c ( = o ) c...\n",
              "5002   c n . o = c 1 n c ( = o ) c 2 c 1 c ( - c 1 c...\n",
              "5003   c c ( c ) n 1 c ( b r ) c c 2 c 1 c ( c 1 c c...\n",
              "\n",
              "[5004 rows x 1 columns]"
            ]
          },
          "metadata": {
            "tags": []
          },
          "execution_count": 62
        }
      ]
    },
    {
      "cell_type": "code",
      "metadata": {
        "id": "CKsSlIBvUHvA"
      },
      "source": [
        "#save df to .txt"
      ],
      "id": "CKsSlIBvUHvA",
      "execution_count": null,
      "outputs": []
    },
    {
      "cell_type": "code",
      "metadata": {
        "id": "gO3ixMp_LCV_"
      },
      "source": [
        "#https://stackoverflow.com/questions/31247198/python-pandas-write-content-of-dataframe-into-text-file\n",
        "df_test_prediction.to_csv(r'predictions.csv', header=None, index=None)\n"
      ],
      "id": "gO3ixMp_LCV_",
      "execution_count": null,
      "outputs": []
    },
    {
      "cell_type": "markdown",
      "metadata": {
        "id": "rdpUmPLI8MRv"
      },
      "source": [
        "#beam search "
      ],
      "id": "rdpUmPLI8MRv"
    },
    {
      "cell_type": "code",
      "metadata": {
        "colab": {
          "base_uri": "https://localhost:8080/",
          "height": 299
        },
        "id": "NTxdRT7ZFHna",
        "outputId": "16563771-b34d-4405-9016-f67b9e861309"
      },
      "source": [
        ""
      ],
      "id": "NTxdRT7ZFHna",
      "execution_count": null,
      "outputs": [
        {
          "output_type": "error",
          "ename": "ModuleNotFoundError",
          "evalue": "ignored",
          "traceback": [
            "\u001b[0;31m---------------------------------------------------------------------------\u001b[0m",
            "\u001b[0;31mModuleNotFoundError\u001b[0m                       Traceback (most recent call last)",
            "\u001b[0;32m<ipython-input-53-3a181df69616>\u001b[0m in \u001b[0;36m<module>\u001b[0;34m()\u001b[0m\n\u001b[0;32m----> 1\u001b[0;31m \u001b[0;32mfrom\u001b[0m \u001b[0mrdkit\u001b[0m \u001b[0;32mimport\u001b[0m \u001b[0mChem\u001b[0m\u001b[0;34m\u001b[0m\u001b[0;34m\u001b[0m\u001b[0m\n\u001b[0m",
            "\u001b[0;31mModuleNotFoundError\u001b[0m: No module named 'rdkit'",
            "",
            "\u001b[0;31m---------------------------------------------------------------------------\u001b[0;32m\nNOTE: If your import is failing due to a missing package, you can\nmanually install dependencies using either !pip or !apt.\n\nTo view examples of installing some common dependencies, click the\n\"Open Examples\" button below.\n\u001b[0;31m---------------------------------------------------------------------------\u001b[0m\n"
          ]
        }
      ]
    }
  ]
}