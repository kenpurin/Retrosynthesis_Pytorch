{
  "nbformat": 4,
  "nbformat_minor": 5,
  "metadata": {
    "kernelspec": {
      "display_name": "Python 3",
      "language": "python",
      "name": "python3"
    },
    "language_info": {
      "codemirror_mode": {
        "name": "ipython",
        "version": 3
      },
      "file_extension": ".py",
      "mimetype": "text/x-python",
      "name": "python",
      "nbconvert_exporter": "python",
      "pygments_lexer": "ipython3",
      "version": "3.8.5"
    },
    "colab": {
      "name": "Transformer_Retrosynthesis.ipynb",
      "provenance": [],
      "machine_shape": "hm",
      "include_colab_link": true
    },
    "accelerator": "GPU"
  },
  "cells": [
    {
      "cell_type": "markdown",
      "metadata": {
        "id": "view-in-github",
        "colab_type": "text"
      },
      "source": [
        "<a href=\"https://colab.research.google.com/github/kenpurin/Retrosynthesis_TF/blob/main/Transformer_Retrosynthesis.ipynb\" target=\"_parent\"><img src=\"https://colab.research.google.com/assets/colab-badge.svg\" alt=\"Open In Colab\"/></a>"
      ]
    },
    {
      "cell_type": "markdown",
      "metadata": {
        "id": "AuyLoi9uOemv"
      },
      "source": [
        "# LANGUAGE TRANSLATION WITH TRANSFORMER"
      ],
      "id": "AuyLoi9uOemv"
    },
    {
      "cell_type": "code",
      "metadata": {
        "colab": {
          "base_uri": "https://localhost:8080/"
        },
        "id": "n7-pt1ZNOj6f",
        "outputId": "5417e735-6707-451e-c9e0-2ebaed9888ca"
      },
      "source": [
        "!nvidia-smi"
      ],
      "id": "n7-pt1ZNOj6f",
      "execution_count": 1,
      "outputs": [
        {
          "output_type": "stream",
          "text": [
            "Sat May 22 03:28:39 2021       \n",
            "+-----------------------------------------------------------------------------+\n",
            "| NVIDIA-SMI 465.19.01    Driver Version: 460.32.03    CUDA Version: 11.2     |\n",
            "|-------------------------------+----------------------+----------------------+\n",
            "| GPU  Name        Persistence-M| Bus-Id        Disp.A | Volatile Uncorr. ECC |\n",
            "| Fan  Temp  Perf  Pwr:Usage/Cap|         Memory-Usage | GPU-Util  Compute M. |\n",
            "|                               |                      |               MIG M. |\n",
            "|===============================+======================+======================|\n",
            "|   0  Tesla P100-PCIE...  Off  | 00000000:00:04.0 Off |                    0 |\n",
            "| N/A   36C    P0    28W / 250W |      0MiB / 16280MiB |      0%      Default |\n",
            "|                               |                      |                  N/A |\n",
            "+-------------------------------+----------------------+----------------------+\n",
            "                                                                               \n",
            "+-----------------------------------------------------------------------------+\n",
            "| Processes:                                                                  |\n",
            "|  GPU   GI   CI        PID   Type   Process name                  GPU Memory |\n",
            "|        ID   ID                                                   Usage      |\n",
            "|=============================================================================|\n",
            "|  No running processes found                                                 |\n",
            "+-----------------------------------------------------------------------------+\n"
          ],
          "name": "stdout"
        }
      ]
    },
    {
      "cell_type": "code",
      "metadata": {
        "colab": {
          "base_uri": "https://localhost:8080/"
        },
        "id": "rQUpW-B07Wvw",
        "outputId": "d47bab08-0582-456d-885a-1ffab37f2a4e"
      },
      "source": [
        "from google.colab import drive\n",
        "drive.mount('/content/gdrive')"
      ],
      "id": "rQUpW-B07Wvw",
      "execution_count": 3,
      "outputs": [
        {
          "output_type": "stream",
          "text": [
            "Mounted at /content/gdrive\n"
          ],
          "name": "stdout"
        }
      ]
    },
    {
      "cell_type": "markdown",
      "metadata": {
        "id": "yD3jtJw1Y07o"
      },
      "source": [
        "#load data and insatall"
      ],
      "id": "yD3jtJw1Y07o"
    },
    {
      "cell_type": "code",
      "metadata": {
        "colab": {
          "base_uri": "https://localhost:8080/"
        },
        "id": "Ij-QtfSdOxKG",
        "outputId": "5a7fdffe-7ea1-4728-b20b-1fc294369b4c"
      },
      "source": [
        "!git clone https://github.com/kenpurin/Retrosynthesis_TF.git"
      ],
      "id": "Ij-QtfSdOxKG",
      "execution_count": 4,
      "outputs": [
        {
          "output_type": "stream",
          "text": [
            "Cloning into 'Retrosynthesis_TF'...\n",
            "remote: Enumerating objects: 70, done.\u001b[K\n",
            "remote: Counting objects: 100% (70/70), done.\u001b[K\n",
            "remote: Compressing objects: 100% (66/66), done.\u001b[K\n",
            "remote: Total 70 (delta 26), reused 0 (delta 0), pack-reused 0\u001b[K\n",
            "Unpacking objects: 100% (70/70), done.\n"
          ],
          "name": "stdout"
        }
      ]
    },
    {
      "cell_type": "code",
      "metadata": {
        "colab": {
          "base_uri": "https://localhost:8080/"
        },
        "id": "RpYFi7_17AeU",
        "outputId": "03dfe0f5-61f4-4a09-e942-60dee65820f1"
      },
      "source": [
        "!pip3 install rich\n",
        "!pip3 show torch"
      ],
      "id": "RpYFi7_17AeU",
      "execution_count": 2,
      "outputs": [
        {
          "output_type": "stream",
          "text": [
            "Collecting rich\n",
            "\u001b[?25l  Downloading https://files.pythonhosted.org/packages/6b/39/fbe8d15f0b017d63701f2a42e4ccb9a73cd4175e5c56214c1b5685e3dd79/rich-10.2.2-py3-none-any.whl (203kB)\n",
            "\u001b[K     |████████████████████████████████| 204kB 6.0MB/s \n",
            "\u001b[?25hCollecting commonmark<0.10.0,>=0.9.0\n",
            "\u001b[?25l  Downloading https://files.pythonhosted.org/packages/b1/92/dfd892312d822f36c55366118b95d914e5f16de11044a27cf10a7d71bbbf/commonmark-0.9.1-py2.py3-none-any.whl (51kB)\n",
            "\u001b[K     |████████████████████████████████| 51kB 4.7MB/s \n",
            "\u001b[?25hRequirement already satisfied: pygments<3.0.0,>=2.6.0 in /usr/local/lib/python3.7/dist-packages (from rich) (2.6.1)\n",
            "Collecting colorama<0.5.0,>=0.4.0\n",
            "  Downloading https://files.pythonhosted.org/packages/44/98/5b86278fbbf250d239ae0ecb724f8572af1c91f4a11edf4d36a206189440/colorama-0.4.4-py2.py3-none-any.whl\n",
            "Requirement already satisfied: typing-extensions<4.0.0,>=3.7.4; python_version < \"3.8\" in /usr/local/lib/python3.7/dist-packages (from rich) (3.7.4.3)\n",
            "Installing collected packages: commonmark, colorama, rich\n",
            "Successfully installed colorama-0.4.4 commonmark-0.9.1 rich-10.2.2\n",
            "Name: torch\n",
            "Version: 1.8.1+cu101\n",
            "Summary: Tensors and Dynamic neural networks in Python with strong GPU acceleration\n",
            "Home-page: https://pytorch.org/\n",
            "Author: PyTorch Team\n",
            "Author-email: packages@pytorch.org\n",
            "License: BSD-3\n",
            "Location: /usr/local/lib/python3.7/dist-packages\n",
            "Requires: typing-extensions, numpy\n",
            "Required-by: torchvision, torchtext, fastai\n"
          ],
          "name": "stdout"
        }
      ]
    },
    {
      "cell_type": "markdown",
      "metadata": {
        "id": "k3YfZKcVOVBP"
      },
      "source": [
        "# Data Processing"
      ],
      "id": "k3YfZKcVOVBP"
    },
    {
      "cell_type": "code",
      "metadata": {
        "id": "greater-timeline"
      },
      "source": [
        "import math\n",
        "import torchtext\n",
        "import torch\n",
        "import torch.nn as nn\n",
        "from torchtext.data.utils import get_tokenizer\n",
        "from collections import Counter\n",
        "from torchtext.vocab import Vocab\n",
        "from torchtext.utils import download_from_url, extract_archive\n",
        "from torch import Tensor\n",
        "import io\n",
        "import time\n",
        "from rich import print\n",
        "import matplotlib.pyplot as plt\n"
      ],
      "id": "greater-timeline",
      "execution_count": 3,
      "outputs": []
    },
    {
      "cell_type": "code",
      "metadata": {
        "colab": {
          "base_uri": "https://localhost:8080/",
          "height": 204
        },
        "id": "aiIInor-9RHJ",
        "outputId": "7b11fbf1-9122-4776-e433-58939ddb2942"
      },
      "source": [
        "torch.manual_seed(0)\n",
        "torch.use_deterministic_algorithms(True)\n",
        "device = torch.device('cuda' if torch.cuda.is_available() else 'cpu')\n",
        "print(torch.__version__)\n",
        "print(torch.cuda.is_available())\n",
        "\n",
        "if device.type == 'cuda':\n",
        "    print(torch.cuda.get_device_name(torch.cuda.current_device()))\n",
        "    print('Memory Usage:')\n",
        "    print('Allocated:', round(torch.cuda.memory_allocated(0)/1024**3,1), 'GB')\n",
        "    print('Cached:   ', round(torch.cuda.memory_reserved(0)/1024**3,1), 'GB')\n",
        "!nvcc --version"
      ],
      "id": "aiIInor-9RHJ",
      "execution_count": 7,
      "outputs": [
        {
          "output_type": "display_data",
          "data": {
            "text/html": [
              "<pre style=\"white-space:pre;overflow-x:auto;line-height:normal;font-family:Menlo,'DejaVu Sans Mono',consolas,'Courier New',monospace\"><span style=\"color: #008080; text-decoration-color: #008080; font-weight: bold\">1.8</span>.<span style=\"color: #008080; text-decoration-color: #008080; font-weight: bold\">1</span>+cu101\n",
              "</pre>\n"
            ],
            "text/plain": [
              "\u001b[1;36m1.8\u001b[0m.\u001b[1;36m1\u001b[0m+cu101\n"
            ]
          },
          "metadata": {
            "tags": []
          }
        },
        {
          "output_type": "display_data",
          "data": {
            "text/html": [
              "<pre style=\"white-space:pre;overflow-x:auto;line-height:normal;font-family:Menlo,'DejaVu Sans Mono',consolas,'Courier New',monospace\"><span style=\"color: #00ff00; text-decoration-color: #00ff00; font-style: italic\">True</span>\n",
              "</pre>\n"
            ],
            "text/plain": [
              "\u001b[3;92mTrue\u001b[0m\n"
            ]
          },
          "metadata": {
            "tags": []
          }
        },
        {
          "output_type": "display_data",
          "data": {
            "text/html": [
              "<pre style=\"white-space:pre;overflow-x:auto;line-height:normal;font-family:Menlo,'DejaVu Sans Mono',consolas,'Courier New',monospace\">Tesla P100-PCIE-16GB\n",
              "</pre>\n"
            ],
            "text/plain": [
              "Tesla P100-PCIE-16GB\n"
            ]
          },
          "metadata": {
            "tags": []
          }
        },
        {
          "output_type": "display_data",
          "data": {
            "text/html": [
              "<pre style=\"white-space:pre;overflow-x:auto;line-height:normal;font-family:Menlo,'DejaVu Sans Mono',consolas,'Courier New',monospace\">Memory Usage:\n",
              "</pre>\n"
            ],
            "text/plain": [
              "Memory Usage:\n"
            ]
          },
          "metadata": {
            "tags": []
          }
        },
        {
          "output_type": "display_data",
          "data": {
            "text/html": [
              "<pre style=\"white-space:pre;overflow-x:auto;line-height:normal;font-family:Menlo,'DejaVu Sans Mono',consolas,'Courier New',monospace\">Allocated: <span style=\"color: #008080; text-decoration-color: #008080; font-weight: bold\">0.0</span> GB\n",
              "</pre>\n"
            ],
            "text/plain": [
              "Allocated: \u001b[1;36m0.0\u001b[0m GB\n"
            ]
          },
          "metadata": {
            "tags": []
          }
        },
        {
          "output_type": "display_data",
          "data": {
            "text/html": [
              "<pre style=\"white-space:pre;overflow-x:auto;line-height:normal;font-family:Menlo,'DejaVu Sans Mono',consolas,'Courier New',monospace\">Cached:    <span style=\"color: #008080; text-decoration-color: #008080; font-weight: bold\">0.0</span> GB\n",
              "</pre>\n"
            ],
            "text/plain": [
              "Cached:    \u001b[1;36m0.0\u001b[0m GB\n"
            ]
          },
          "metadata": {
            "tags": []
          }
        },
        {
          "output_type": "stream",
          "text": [
            "nvcc: NVIDIA (R) Cuda compiler driver\n",
            "Copyright (c) 2005-2020 NVIDIA Corporation\n",
            "Built on Wed_Jul_22_19:09:09_PDT_2020\n",
            "Cuda compilation tools, release 11.0, V11.0.221\n",
            "Build cuda_11.0_bu.TC445_37.28845127_0\n"
          ],
          "name": "stdout"
        }
      ]
    },
    {
      "cell_type": "code",
      "metadata": {
        "id": "arbitrary-china"
      },
      "source": [
        "#load data USPTO-50K\n",
        "train_src_filepaths='Retrosynthesis_TF/USPTO-50K/src/src-train.txt'\n",
        "train_tgt_filepaths='Retrosynthesis_TF/USPTO-50K/tgt/tgt-train.txt'\n",
        "val_src_filepaths='Retrosynthesis_TF/USPTO-50K/src/src-val.txt'\n",
        "val_tgt_filepaths='Retrosynthesis_TF/USPTO-50K/tgt/tgt-val.txt'\n",
        "test_src_filepaths='Retrosynthesis_TF/USPTO-50K/src/src-test.txt'\n",
        "test_tgt_filepaths='Retrosynthesis_TF/USPTO-50K/tgt/tgt-test.txt'"
      ],
      "id": "arbitrary-china",
      "execution_count": 8,
      "outputs": []
    },
    {
      "cell_type": "code",
      "metadata": {
        "id": "sIImMkN62sbz"
      },
      "source": [
        "#build_vocab\n",
        "src_filepath='Retrosynthesis_TF/USPTO-50K/src/src.txt'\n",
        "tgt_filepath='Retrosynthesis_TF/USPTO-50K/tgt/tgt.txt'"
      ],
      "id": "sIImMkN62sbz",
      "execution_count": null,
      "outputs": []
    },
    {
      "cell_type": "code",
      "metadata": {
        "id": "circular-south"
      },
      "source": [
        "#https://pytorch.org/text/stable/data_utils.html use toktok or spacy\n",
        "tokenizer = get_tokenizer('toktok')"
      ],
      "id": "circular-south",
      "execution_count": 32,
      "outputs": []
    },
    {
      "cell_type": "code",
      "metadata": {
        "id": "g4nOKwrE2odn"
      },
      "source": [
        "def build_vocab(filepath, tokenizer):\n",
        "  counter = Counter()\n",
        "  with io.open(filepath, encoding=\"utf8\") as f:\n",
        "    for string_ in f:\n",
        "      counter.update(tokenizer(string_))\n",
        "  return Vocab(counter, specials=['<unk>', '<pad>', '<bos>', '<eos>'])\n",
        "src_vocab = build_vocab(src_filepath,tokenizer)\n",
        "tgt_vocab = build_vocab(tgt_filepath,tokenizer)"
      ],
      "id": "g4nOKwrE2odn",
      "execution_count": null,
      "outputs": []
    },
    {
      "cell_type": "code",
      "metadata": {
        "id": "recorded-crawford"
      },
      "source": [
        "def data_process(filepaths1,filepaths2):\n",
        "  raw_src_iter = iter(io.open(filepaths1, encoding=\"utf8\"))\n",
        "  raw_tgt_iter = iter(io.open(filepaths2, encoding=\"utf8\"))\n",
        "  data = []\n",
        "  for (raw_src, raw_tgt) in zip(raw_src_iter, raw_tgt_iter):\n",
        "    src_tensor_ = torch.tensor([src_vocab[token] for token in tokenizer(raw_src.rstrip(\"\\n\"))],\n",
        "                            dtype=torch.long)\n",
        "    tgt_tensor_ = torch.tensor([tgt_vocab[token] for token in tokenizer(raw_tgt.rstrip(\"\\n\"))],\n",
        "                            dtype=torch.long)\n",
        "    data.append((src_tensor_, tgt_tensor_))\n",
        "  return data"
      ],
      "id": "recorded-crawford",
      "execution_count": 10,
      "outputs": []
    },
    {
      "cell_type": "code",
      "metadata": {
        "id": "polished-truth"
      },
      "source": [
        "train_data = data_process(train_src_filepaths,train_tgt_filepaths)\n",
        "val_data = data_process(val_src_filepaths,val_tgt_filepaths)\n",
        "test_data = data_process(test_src_filepaths,test_tgt_filepaths)"
      ],
      "id": "polished-truth",
      "execution_count": 11,
      "outputs": []
    },
    {
      "cell_type": "code",
      "metadata": {
        "id": "korean-savage"
      },
      "source": [
        "device = torch.device('cuda' if torch.cuda.is_available() else 'cpu')\n",
        "BATCH_SIZE = 128\n",
        "PAD_IDX = src_vocab['<pad>']\n",
        "BOS_IDX = src_vocab['<bos>']\n",
        "EOS_IDX = src_vocab['<eos>']"
      ],
      "id": "korean-savage",
      "execution_count": 12,
      "outputs": []
    },
    {
      "cell_type": "markdown",
      "metadata": {
        "id": "dJcCX4xNOSgZ"
      },
      "source": [
        "# DataLoader"
      ],
      "id": "dJcCX4xNOSgZ"
    },
    {
      "cell_type": "code",
      "metadata": {
        "id": "hundred-translator"
      },
      "source": [
        "from torch.nn.utils.rnn import pad_sequence\n",
        "from torch.utils.data import DataLoader\n",
        "\n",
        "def generate_batch(data_batch):\n",
        "  src_batch, tgt_batch = [], []\n",
        "  for (src_item, tgt_item) in data_batch:\n",
        "    src_batch.append(torch.cat([torch.tensor([BOS_IDX]), src_item, torch.tensor([EOS_IDX])], dim=0))\n",
        "    tgt_batch.append(torch.cat([torch.tensor([BOS_IDX]), tgt_item, torch.tensor([EOS_IDX])], dim=0))\n",
        "  src_batch = pad_sequence(src_batch, padding_value=PAD_IDX)\n",
        "  tgt_batch = pad_sequence(tgt_batch, padding_value=PAD_IDX)\n",
        "  return src_batch, tgt_batch\n",
        "\n",
        "train_iter = DataLoader(train_data, batch_size=BATCH_SIZE,\n",
        "                        shuffle=True, collate_fn=generate_batch)\n",
        "valid_iter = DataLoader(val_data, batch_size=BATCH_SIZE,\n",
        "                        shuffle=True, collate_fn=generate_batch)\n",
        "test_iter = DataLoader(test_data, batch_size=BATCH_SIZE,\n",
        "                       shuffle=True, collate_fn=generate_batch)"
      ],
      "id": "hundred-translator",
      "execution_count": 13,
      "outputs": []
    },
    {
      "cell_type": "markdown",
      "metadata": {
        "id": "JsF46_xVOBv7"
      },
      "source": [
        "#Transformer"
      ],
      "id": "JsF46_xVOBv7"
    },
    {
      "cell_type": "code",
      "metadata": {
        "id": "coupled-ballot"
      },
      "source": [
        "#https://pytorch.org/docs/master/nn.html?highlight=multiheadattention#torch.nn.MultiheadAttention\n",
        "from torch.nn import (TransformerEncoder, TransformerDecoder,\n",
        "                      TransformerEncoderLayer, TransformerDecoderLayer)\n",
        "\n",
        "\n",
        "class Seq2SeqTransformer(nn.Module):\n",
        "    def __init__(self, num_encoder_layers: int, num_decoder_layers: int,\n",
        "                 emb_size: int, src_vocab_size: int, tgt_vocab_size: int,\n",
        "                 dim_feedforward:int = 512, dropout:float = 0.1):\n",
        "        super(Seq2SeqTransformer, self).__init__()\n",
        "        #TransformerEncoderLayer is made up of self-attn and feedforward network.\n",
        "        encoder_layer = TransformerEncoderLayer(d_model=emb_size, nhead=NHEAD,\n",
        "                                                dim_feedforward=dim_feedforward)\n",
        "        #TransformerEncoder is a stack of N encoder layers\n",
        "        self.transformer_encoder = TransformerEncoder(encoder_layer, num_layers=num_encoder_layers)\n",
        "        #\tTransformerDecoderLayer is made up of self-attn, multi-head-attn and feedforward network.\n",
        "        decoder_layer = TransformerDecoderLayer(d_model=emb_size, nhead=NHEAD,\n",
        "                                                dim_feedforward=dim_feedforward)\n",
        "        #TransformerDecoder is a stack of N decoder layers\n",
        "        self.transformer_decoder = TransformerDecoder(decoder_layer, num_layers=num_decoder_layers)\n",
        "\n",
        "        self.generator = nn.Linear(emb_size, tgt_vocab_size)\n",
        "        self.src_tok_emb = TokenEmbedding(src_vocab_size, emb_size)\n",
        "        self.tgt_tok_emb = TokenEmbedding(tgt_vocab_size, emb_size)\n",
        "        self.positional_encoding = PositionalEncoding(emb_size, dropout=dropout)\n",
        "\n",
        "    def forward(self, src: Tensor, trg: Tensor, src_mask: Tensor,\n",
        "                tgt_mask: Tensor, src_padding_mask: Tensor,\n",
        "                tgt_padding_mask: Tensor, memory_key_padding_mask: Tensor):\n",
        "        src_emb = self.positional_encoding(self.src_tok_emb(src))\n",
        "        tgt_emb = self.positional_encoding(self.tgt_tok_emb(trg))\n",
        "        memory = self.transformer_encoder(src_emb, src_mask, src_padding_mask)\n",
        "        outs = self.transformer_decoder(tgt_emb, memory, tgt_mask, None,\n",
        "                                        tgt_padding_mask, memory_key_padding_mask)\n",
        "        return self.generator(outs)\n",
        "\n",
        "    def encode(self, src: Tensor, src_mask: Tensor):\n",
        "        return self.transformer_encoder(self.positional_encoding(\n",
        "                            self.src_tok_emb(src)), src_mask)\n",
        "\n",
        "    def decode(self, tgt: Tensor, memory: Tensor, tgt_mask: Tensor):\n",
        "        return self.transformer_decoder(self.positional_encoding(\n",
        "                          self.tgt_tok_emb(tgt)), memory,\n",
        "                          tgt_mask)"
      ],
      "id": "coupled-ballot",
      "execution_count": 14,
      "outputs": []
    },
    {
      "cell_type": "code",
      "metadata": {
        "id": "random-trance"
      },
      "source": [
        "class PositionalEncoding(nn.Module):\n",
        "    def __init__(self, emb_size: int, dropout, maxlen: int = 5000):\n",
        "        super(PositionalEncoding, self).__init__()\n",
        "        den = torch.exp(- torch.arange(0, emb_size, 2) * math.log(10000) / emb_size)\n",
        "        pos = torch.arange(0, maxlen).reshape(maxlen, 1)\n",
        "        pos_embedding = torch.zeros((maxlen, emb_size))\n",
        "        pos_embedding[:, 0::2] = torch.sin(pos * den)\n",
        "        pos_embedding[:, 1::2] = torch.cos(pos * den)\n",
        "        pos_embedding = pos_embedding.unsqueeze(-2)\n",
        "\n",
        "        self.dropout = nn.Dropout(dropout)\n",
        "        self.register_buffer('pos_embedding', pos_embedding)\n",
        "\n",
        "    def forward(self, token_embedding: Tensor):\n",
        "        return self.dropout(token_embedding +\n",
        "                            self.pos_embedding[:token_embedding.size(0),:])\n",
        "\n",
        "class TokenEmbedding(nn.Module):\n",
        "    def __init__(self, vocab_size: int, emb_size):\n",
        "        super(TokenEmbedding, self).__init__()\n",
        "        self.embedding = nn.Embedding(vocab_size, emb_size)\n",
        "        self.emb_size = emb_size\n",
        "    def forward(self, tokens: Tensor):\n",
        "        return self.embedding(tokens.long()) * math.sqrt(self.emb_size)"
      ],
      "id": "random-trance",
      "execution_count": 15,
      "outputs": []
    },
    {
      "cell_type": "code",
      "metadata": {
        "id": "japanese-polls"
      },
      "source": [
        "def generate_square_subsequent_mask(sz):\n",
        "    mask = (torch.triu(torch.ones((sz, sz), device=DEVICE)) == 1).transpose(0, 1)\n",
        "    mask = mask.float().masked_fill(mask == 0, float('-inf')).masked_fill(mask == 1, float(0.0))\n",
        "    return mask\n",
        "\n",
        "def create_mask(src, tgt):\n",
        "  src_seq_len = src.shape[0]\n",
        "  tgt_seq_len = tgt.shape[0]\n",
        "\n",
        "  tgt_mask = generate_square_subsequent_mask(tgt_seq_len)\n",
        "  src_mask = torch.zeros((src_seq_len, src_seq_len), device=DEVICE).type(torch.bool)\n",
        "\n",
        "  src_padding_mask = (src == PAD_IDX).transpose(0, 1)\n",
        "  tgt_padding_mask = (tgt == PAD_IDX).transpose(0, 1)\n",
        "  return src_mask, tgt_mask, src_padding_mask, tgt_padding_mask"
      ],
      "id": "japanese-polls",
      "execution_count": 16,
      "outputs": []
    },
    {
      "cell_type": "code",
      "metadata": {
        "id": "convenient-facial"
      },
      "source": [
        "# Training hyperparameters\n",
        "SRC_VOCAB_SIZE = len(src_vocab)\n",
        "TGT_VOCAB_SIZE = len(tgt_vocab)\n",
        "EMB_SIZE = 512\n",
        "NHEAD = 8\n",
        "FFN_HID_DIM = 512\n",
        "BATCH_SIZE = 128\n",
        "NUM_ENCODER_LAYERS = 3\n",
        "NUM_DECODER_LAYERS = 3\n",
        "NUM_EPOCHS = 100\n",
        "\n",
        "DEVICE = torch.device('cuda:0' if torch.cuda.is_available() else 'cpu')\n",
        "\n",
        "transformer = Seq2SeqTransformer(NUM_ENCODER_LAYERS, NUM_DECODER_LAYERS,\n",
        "                                 EMB_SIZE, SRC_VOCAB_SIZE, TGT_VOCAB_SIZE,\n",
        "                                 FFN_HID_DIM)\n",
        "\n",
        "for p in transformer.parameters():\n",
        "    if p.dim() > 1:\n",
        "        nn.init.xavier_uniform_(p)\n",
        "#model \n",
        "transformer = transformer.to(device)\n",
        "\n",
        "loss_fn = torch.nn.CrossEntropyLoss(ignore_index=PAD_IDX)\n",
        "\n",
        "optimizer = torch.optim.Adam(\n",
        "    transformer.parameters(), lr=0.0001, betas=(0.9, 0.98), eps=1e-9\n",
        ")"
      ],
      "id": "convenient-facial",
      "execution_count": 17,
      "outputs": []
    },
    {
      "cell_type": "code",
      "metadata": {
        "colab": {
          "base_uri": "https://localhost:8080/",
          "height": 0
        },
        "id": "n6OqEmQs7HrH",
        "outputId": "78311d66-32de-4ea0-c619-4a43d40dc13b"
      },
      "source": [
        "#show model\n",
        "print(transformer)"
      ],
      "id": "n6OqEmQs7HrH",
      "execution_count": 18,
      "outputs": [
        {
          "output_type": "display_data",
          "data": {
            "text/html": [
              "<pre style=\"white-space:pre;overflow-x:auto;line-height:normal;font-family:Menlo,'DejaVu Sans Mono',consolas,'Courier New',monospace\"><span style=\"color: #800080; text-decoration-color: #800080; font-weight: bold\">Seq2SeqTransformer</span><span style=\"font-weight: bold\">(</span>\n",
              "  <span style=\"font-weight: bold\">(</span>transformer_encoder<span style=\"font-weight: bold\">)</span>: <span style=\"color: #800080; text-decoration-color: #800080; font-weight: bold\">TransformerEncoder</span><span style=\"font-weight: bold\">(</span>\n",
              "    <span style=\"font-weight: bold\">(</span>layers<span style=\"font-weight: bold\">)</span>: <span style=\"color: #800080; text-decoration-color: #800080; font-weight: bold\">ModuleList</span><span style=\"font-weight: bold\">(</span>\n",
              "      <span style=\"font-weight: bold\">(</span><span style=\"color: #008080; text-decoration-color: #008080; font-weight: bold\">0</span><span style=\"font-weight: bold\">)</span>: <span style=\"color: #800080; text-decoration-color: #800080; font-weight: bold\">TransformerEncoderLayer</span><span style=\"font-weight: bold\">(</span>\n",
              "        <span style=\"font-weight: bold\">(</span>self_attn<span style=\"font-weight: bold\">)</span>: <span style=\"color: #800080; text-decoration-color: #800080; font-weight: bold\">MultiheadAttention</span><span style=\"font-weight: bold\">(</span>\n",
              "          <span style=\"font-weight: bold\">(</span>out_proj<span style=\"font-weight: bold\">)</span>: <span style=\"color: #800080; text-decoration-color: #800080; font-weight: bold\">_LinearWithBias</span><span style=\"font-weight: bold\">(</span><span style=\"color: #808000; text-decoration-color: #808000\">in_features</span>=<span style=\"color: #008080; text-decoration-color: #008080; font-weight: bold\">512</span>, <span style=\"color: #808000; text-decoration-color: #808000\">out_features</span>=<span style=\"color: #008080; text-decoration-color: #008080; font-weight: bold\">512</span>, <span style=\"color: #808000; text-decoration-color: #808000\">bias</span>=<span style=\"color: #00ff00; text-decoration-color: #00ff00; font-style: italic\">True</span><span style=\"font-weight: bold\">)</span>\n",
              "        <span style=\"font-weight: bold\">)</span>\n",
              "        <span style=\"font-weight: bold\">(</span>linear1<span style=\"font-weight: bold\">)</span>: <span style=\"color: #800080; text-decoration-color: #800080; font-weight: bold\">Linear</span><span style=\"font-weight: bold\">(</span><span style=\"color: #808000; text-decoration-color: #808000\">in_features</span>=<span style=\"color: #008080; text-decoration-color: #008080; font-weight: bold\">512</span>, <span style=\"color: #808000; text-decoration-color: #808000\">out_features</span>=<span style=\"color: #008080; text-decoration-color: #008080; font-weight: bold\">512</span>, <span style=\"color: #808000; text-decoration-color: #808000\">bias</span>=<span style=\"color: #00ff00; text-decoration-color: #00ff00; font-style: italic\">True</span><span style=\"font-weight: bold\">)</span>\n",
              "        <span style=\"font-weight: bold\">(</span>dropout<span style=\"font-weight: bold\">)</span>: <span style=\"color: #800080; text-decoration-color: #800080; font-weight: bold\">Dropout</span><span style=\"font-weight: bold\">(</span><span style=\"color: #808000; text-decoration-color: #808000\">p</span>=<span style=\"color: #008080; text-decoration-color: #008080; font-weight: bold\">0.1</span>, <span style=\"color: #808000; text-decoration-color: #808000\">inplace</span>=<span style=\"color: #ff0000; text-decoration-color: #ff0000; font-style: italic\">False</span><span style=\"font-weight: bold\">)</span>\n",
              "        <span style=\"font-weight: bold\">(</span>linear2<span style=\"font-weight: bold\">)</span>: <span style=\"color: #800080; text-decoration-color: #800080; font-weight: bold\">Linear</span><span style=\"font-weight: bold\">(</span><span style=\"color: #808000; text-decoration-color: #808000\">in_features</span>=<span style=\"color: #008080; text-decoration-color: #008080; font-weight: bold\">512</span>, <span style=\"color: #808000; text-decoration-color: #808000\">out_features</span>=<span style=\"color: #008080; text-decoration-color: #008080; font-weight: bold\">512</span>, <span style=\"color: #808000; text-decoration-color: #808000\">bias</span>=<span style=\"color: #00ff00; text-decoration-color: #00ff00; font-style: italic\">True</span><span style=\"font-weight: bold\">)</span>\n",
              "        <span style=\"font-weight: bold\">(</span>norm1<span style=\"font-weight: bold\">)</span>: <span style=\"color: #800080; text-decoration-color: #800080; font-weight: bold\">LayerNorm</span><span style=\"font-weight: bold\">((</span><span style=\"color: #008080; text-decoration-color: #008080; font-weight: bold\">512</span>,<span style=\"font-weight: bold\">)</span>, <span style=\"color: #808000; text-decoration-color: #808000\">eps</span>=<span style=\"color: #008080; text-decoration-color: #008080; font-weight: bold\">1e-05</span>, <span style=\"color: #808000; text-decoration-color: #808000\">elementwise_affine</span>=<span style=\"color: #00ff00; text-decoration-color: #00ff00; font-style: italic\">True</span><span style=\"font-weight: bold\">)</span>\n",
              "        <span style=\"font-weight: bold\">(</span>norm2<span style=\"font-weight: bold\">)</span>: <span style=\"color: #800080; text-decoration-color: #800080; font-weight: bold\">LayerNorm</span><span style=\"font-weight: bold\">((</span><span style=\"color: #008080; text-decoration-color: #008080; font-weight: bold\">512</span>,<span style=\"font-weight: bold\">)</span>, <span style=\"color: #808000; text-decoration-color: #808000\">eps</span>=<span style=\"color: #008080; text-decoration-color: #008080; font-weight: bold\">1e-05</span>, <span style=\"color: #808000; text-decoration-color: #808000\">elementwise_affine</span>=<span style=\"color: #00ff00; text-decoration-color: #00ff00; font-style: italic\">True</span><span style=\"font-weight: bold\">)</span>\n",
              "        <span style=\"font-weight: bold\">(</span>dropout1<span style=\"font-weight: bold\">)</span>: <span style=\"color: #800080; text-decoration-color: #800080; font-weight: bold\">Dropout</span><span style=\"font-weight: bold\">(</span><span style=\"color: #808000; text-decoration-color: #808000\">p</span>=<span style=\"color: #008080; text-decoration-color: #008080; font-weight: bold\">0.1</span>, <span style=\"color: #808000; text-decoration-color: #808000\">inplace</span>=<span style=\"color: #ff0000; text-decoration-color: #ff0000; font-style: italic\">False</span><span style=\"font-weight: bold\">)</span>\n",
              "        <span style=\"font-weight: bold\">(</span>dropout2<span style=\"font-weight: bold\">)</span>: <span style=\"color: #800080; text-decoration-color: #800080; font-weight: bold\">Dropout</span><span style=\"font-weight: bold\">(</span><span style=\"color: #808000; text-decoration-color: #808000\">p</span>=<span style=\"color: #008080; text-decoration-color: #008080; font-weight: bold\">0.1</span>, <span style=\"color: #808000; text-decoration-color: #808000\">inplace</span>=<span style=\"color: #ff0000; text-decoration-color: #ff0000; font-style: italic\">False</span><span style=\"font-weight: bold\">)</span>\n",
              "      <span style=\"font-weight: bold\">)</span>\n",
              "      <span style=\"font-weight: bold\">(</span><span style=\"color: #008080; text-decoration-color: #008080; font-weight: bold\">1</span><span style=\"font-weight: bold\">)</span>: <span style=\"color: #800080; text-decoration-color: #800080; font-weight: bold\">TransformerEncoderLayer</span><span style=\"font-weight: bold\">(</span>\n",
              "        <span style=\"font-weight: bold\">(</span>self_attn<span style=\"font-weight: bold\">)</span>: <span style=\"color: #800080; text-decoration-color: #800080; font-weight: bold\">MultiheadAttention</span><span style=\"font-weight: bold\">(</span>\n",
              "          <span style=\"font-weight: bold\">(</span>out_proj<span style=\"font-weight: bold\">)</span>: <span style=\"color: #800080; text-decoration-color: #800080; font-weight: bold\">_LinearWithBias</span><span style=\"font-weight: bold\">(</span><span style=\"color: #808000; text-decoration-color: #808000\">in_features</span>=<span style=\"color: #008080; text-decoration-color: #008080; font-weight: bold\">512</span>, <span style=\"color: #808000; text-decoration-color: #808000\">out_features</span>=<span style=\"color: #008080; text-decoration-color: #008080; font-weight: bold\">512</span>, <span style=\"color: #808000; text-decoration-color: #808000\">bias</span>=<span style=\"color: #00ff00; text-decoration-color: #00ff00; font-style: italic\">True</span><span style=\"font-weight: bold\">)</span>\n",
              "        <span style=\"font-weight: bold\">)</span>\n",
              "        <span style=\"font-weight: bold\">(</span>linear1<span style=\"font-weight: bold\">)</span>: <span style=\"color: #800080; text-decoration-color: #800080; font-weight: bold\">Linear</span><span style=\"font-weight: bold\">(</span><span style=\"color: #808000; text-decoration-color: #808000\">in_features</span>=<span style=\"color: #008080; text-decoration-color: #008080; font-weight: bold\">512</span>, <span style=\"color: #808000; text-decoration-color: #808000\">out_features</span>=<span style=\"color: #008080; text-decoration-color: #008080; font-weight: bold\">512</span>, <span style=\"color: #808000; text-decoration-color: #808000\">bias</span>=<span style=\"color: #00ff00; text-decoration-color: #00ff00; font-style: italic\">True</span><span style=\"font-weight: bold\">)</span>\n",
              "        <span style=\"font-weight: bold\">(</span>dropout<span style=\"font-weight: bold\">)</span>: <span style=\"color: #800080; text-decoration-color: #800080; font-weight: bold\">Dropout</span><span style=\"font-weight: bold\">(</span><span style=\"color: #808000; text-decoration-color: #808000\">p</span>=<span style=\"color: #008080; text-decoration-color: #008080; font-weight: bold\">0.1</span>, <span style=\"color: #808000; text-decoration-color: #808000\">inplace</span>=<span style=\"color: #ff0000; text-decoration-color: #ff0000; font-style: italic\">False</span><span style=\"font-weight: bold\">)</span>\n",
              "        <span style=\"font-weight: bold\">(</span>linear2<span style=\"font-weight: bold\">)</span>: <span style=\"color: #800080; text-decoration-color: #800080; font-weight: bold\">Linear</span><span style=\"font-weight: bold\">(</span><span style=\"color: #808000; text-decoration-color: #808000\">in_features</span>=<span style=\"color: #008080; text-decoration-color: #008080; font-weight: bold\">512</span>, <span style=\"color: #808000; text-decoration-color: #808000\">out_features</span>=<span style=\"color: #008080; text-decoration-color: #008080; font-weight: bold\">512</span>, <span style=\"color: #808000; text-decoration-color: #808000\">bias</span>=<span style=\"color: #00ff00; text-decoration-color: #00ff00; font-style: italic\">True</span><span style=\"font-weight: bold\">)</span>\n",
              "        <span style=\"font-weight: bold\">(</span>norm1<span style=\"font-weight: bold\">)</span>: <span style=\"color: #800080; text-decoration-color: #800080; font-weight: bold\">LayerNorm</span><span style=\"font-weight: bold\">((</span><span style=\"color: #008080; text-decoration-color: #008080; font-weight: bold\">512</span>,<span style=\"font-weight: bold\">)</span>, <span style=\"color: #808000; text-decoration-color: #808000\">eps</span>=<span style=\"color: #008080; text-decoration-color: #008080; font-weight: bold\">1e-05</span>, <span style=\"color: #808000; text-decoration-color: #808000\">elementwise_affine</span>=<span style=\"color: #00ff00; text-decoration-color: #00ff00; font-style: italic\">True</span><span style=\"font-weight: bold\">)</span>\n",
              "        <span style=\"font-weight: bold\">(</span>norm2<span style=\"font-weight: bold\">)</span>: <span style=\"color: #800080; text-decoration-color: #800080; font-weight: bold\">LayerNorm</span><span style=\"font-weight: bold\">((</span><span style=\"color: #008080; text-decoration-color: #008080; font-weight: bold\">512</span>,<span style=\"font-weight: bold\">)</span>, <span style=\"color: #808000; text-decoration-color: #808000\">eps</span>=<span style=\"color: #008080; text-decoration-color: #008080; font-weight: bold\">1e-05</span>, <span style=\"color: #808000; text-decoration-color: #808000\">elementwise_affine</span>=<span style=\"color: #00ff00; text-decoration-color: #00ff00; font-style: italic\">True</span><span style=\"font-weight: bold\">)</span>\n",
              "        <span style=\"font-weight: bold\">(</span>dropout1<span style=\"font-weight: bold\">)</span>: <span style=\"color: #800080; text-decoration-color: #800080; font-weight: bold\">Dropout</span><span style=\"font-weight: bold\">(</span><span style=\"color: #808000; text-decoration-color: #808000\">p</span>=<span style=\"color: #008080; text-decoration-color: #008080; font-weight: bold\">0.1</span>, <span style=\"color: #808000; text-decoration-color: #808000\">inplace</span>=<span style=\"color: #ff0000; text-decoration-color: #ff0000; font-style: italic\">False</span><span style=\"font-weight: bold\">)</span>\n",
              "        <span style=\"font-weight: bold\">(</span>dropout2<span style=\"font-weight: bold\">)</span>: <span style=\"color: #800080; text-decoration-color: #800080; font-weight: bold\">Dropout</span><span style=\"font-weight: bold\">(</span><span style=\"color: #808000; text-decoration-color: #808000\">p</span>=<span style=\"color: #008080; text-decoration-color: #008080; font-weight: bold\">0.1</span>, <span style=\"color: #808000; text-decoration-color: #808000\">inplace</span>=<span style=\"color: #ff0000; text-decoration-color: #ff0000; font-style: italic\">False</span><span style=\"font-weight: bold\">)</span>\n",
              "      <span style=\"font-weight: bold\">)</span>\n",
              "      <span style=\"font-weight: bold\">(</span><span style=\"color: #008080; text-decoration-color: #008080; font-weight: bold\">2</span><span style=\"font-weight: bold\">)</span>: <span style=\"color: #800080; text-decoration-color: #800080; font-weight: bold\">TransformerEncoderLayer</span><span style=\"font-weight: bold\">(</span>\n",
              "        <span style=\"font-weight: bold\">(</span>self_attn<span style=\"font-weight: bold\">)</span>: <span style=\"color: #800080; text-decoration-color: #800080; font-weight: bold\">MultiheadAttention</span><span style=\"font-weight: bold\">(</span>\n",
              "          <span style=\"font-weight: bold\">(</span>out_proj<span style=\"font-weight: bold\">)</span>: <span style=\"color: #800080; text-decoration-color: #800080; font-weight: bold\">_LinearWithBias</span><span style=\"font-weight: bold\">(</span><span style=\"color: #808000; text-decoration-color: #808000\">in_features</span>=<span style=\"color: #008080; text-decoration-color: #008080; font-weight: bold\">512</span>, <span style=\"color: #808000; text-decoration-color: #808000\">out_features</span>=<span style=\"color: #008080; text-decoration-color: #008080; font-weight: bold\">512</span>, <span style=\"color: #808000; text-decoration-color: #808000\">bias</span>=<span style=\"color: #00ff00; text-decoration-color: #00ff00; font-style: italic\">True</span><span style=\"font-weight: bold\">)</span>\n",
              "        <span style=\"font-weight: bold\">)</span>\n",
              "        <span style=\"font-weight: bold\">(</span>linear1<span style=\"font-weight: bold\">)</span>: <span style=\"color: #800080; text-decoration-color: #800080; font-weight: bold\">Linear</span><span style=\"font-weight: bold\">(</span><span style=\"color: #808000; text-decoration-color: #808000\">in_features</span>=<span style=\"color: #008080; text-decoration-color: #008080; font-weight: bold\">512</span>, <span style=\"color: #808000; text-decoration-color: #808000\">out_features</span>=<span style=\"color: #008080; text-decoration-color: #008080; font-weight: bold\">512</span>, <span style=\"color: #808000; text-decoration-color: #808000\">bias</span>=<span style=\"color: #00ff00; text-decoration-color: #00ff00; font-style: italic\">True</span><span style=\"font-weight: bold\">)</span>\n",
              "        <span style=\"font-weight: bold\">(</span>dropout<span style=\"font-weight: bold\">)</span>: <span style=\"color: #800080; text-decoration-color: #800080; font-weight: bold\">Dropout</span><span style=\"font-weight: bold\">(</span><span style=\"color: #808000; text-decoration-color: #808000\">p</span>=<span style=\"color: #008080; text-decoration-color: #008080; font-weight: bold\">0.1</span>, <span style=\"color: #808000; text-decoration-color: #808000\">inplace</span>=<span style=\"color: #ff0000; text-decoration-color: #ff0000; font-style: italic\">False</span><span style=\"font-weight: bold\">)</span>\n",
              "        <span style=\"font-weight: bold\">(</span>linear2<span style=\"font-weight: bold\">)</span>: <span style=\"color: #800080; text-decoration-color: #800080; font-weight: bold\">Linear</span><span style=\"font-weight: bold\">(</span><span style=\"color: #808000; text-decoration-color: #808000\">in_features</span>=<span style=\"color: #008080; text-decoration-color: #008080; font-weight: bold\">512</span>, <span style=\"color: #808000; text-decoration-color: #808000\">out_features</span>=<span style=\"color: #008080; text-decoration-color: #008080; font-weight: bold\">512</span>, <span style=\"color: #808000; text-decoration-color: #808000\">bias</span>=<span style=\"color: #00ff00; text-decoration-color: #00ff00; font-style: italic\">True</span><span style=\"font-weight: bold\">)</span>\n",
              "        <span style=\"font-weight: bold\">(</span>norm1<span style=\"font-weight: bold\">)</span>: <span style=\"color: #800080; text-decoration-color: #800080; font-weight: bold\">LayerNorm</span><span style=\"font-weight: bold\">((</span><span style=\"color: #008080; text-decoration-color: #008080; font-weight: bold\">512</span>,<span style=\"font-weight: bold\">)</span>, <span style=\"color: #808000; text-decoration-color: #808000\">eps</span>=<span style=\"color: #008080; text-decoration-color: #008080; font-weight: bold\">1e-05</span>, <span style=\"color: #808000; text-decoration-color: #808000\">elementwise_affine</span>=<span style=\"color: #00ff00; text-decoration-color: #00ff00; font-style: italic\">True</span><span style=\"font-weight: bold\">)</span>\n",
              "        <span style=\"font-weight: bold\">(</span>norm2<span style=\"font-weight: bold\">)</span>: <span style=\"color: #800080; text-decoration-color: #800080; font-weight: bold\">LayerNorm</span><span style=\"font-weight: bold\">((</span><span style=\"color: #008080; text-decoration-color: #008080; font-weight: bold\">512</span>,<span style=\"font-weight: bold\">)</span>, <span style=\"color: #808000; text-decoration-color: #808000\">eps</span>=<span style=\"color: #008080; text-decoration-color: #008080; font-weight: bold\">1e-05</span>, <span style=\"color: #808000; text-decoration-color: #808000\">elementwise_affine</span>=<span style=\"color: #00ff00; text-decoration-color: #00ff00; font-style: italic\">True</span><span style=\"font-weight: bold\">)</span>\n",
              "        <span style=\"font-weight: bold\">(</span>dropout1<span style=\"font-weight: bold\">)</span>: <span style=\"color: #800080; text-decoration-color: #800080; font-weight: bold\">Dropout</span><span style=\"font-weight: bold\">(</span><span style=\"color: #808000; text-decoration-color: #808000\">p</span>=<span style=\"color: #008080; text-decoration-color: #008080; font-weight: bold\">0.1</span>, <span style=\"color: #808000; text-decoration-color: #808000\">inplace</span>=<span style=\"color: #ff0000; text-decoration-color: #ff0000; font-style: italic\">False</span><span style=\"font-weight: bold\">)</span>\n",
              "        <span style=\"font-weight: bold\">(</span>dropout2<span style=\"font-weight: bold\">)</span>: <span style=\"color: #800080; text-decoration-color: #800080; font-weight: bold\">Dropout</span><span style=\"font-weight: bold\">(</span><span style=\"color: #808000; text-decoration-color: #808000\">p</span>=<span style=\"color: #008080; text-decoration-color: #008080; font-weight: bold\">0.1</span>, <span style=\"color: #808000; text-decoration-color: #808000\">inplace</span>=<span style=\"color: #ff0000; text-decoration-color: #ff0000; font-style: italic\">False</span><span style=\"font-weight: bold\">)</span>\n",
              "      <span style=\"font-weight: bold\">)</span>\n",
              "    <span style=\"font-weight: bold\">)</span>\n",
              "  <span style=\"font-weight: bold\">)</span>\n",
              "  <span style=\"font-weight: bold\">(</span>transformer_decoder<span style=\"font-weight: bold\">)</span>: <span style=\"color: #800080; text-decoration-color: #800080; font-weight: bold\">TransformerDecoder</span><span style=\"font-weight: bold\">(</span>\n",
              "    <span style=\"font-weight: bold\">(</span>layers<span style=\"font-weight: bold\">)</span>: <span style=\"color: #800080; text-decoration-color: #800080; font-weight: bold\">ModuleList</span><span style=\"font-weight: bold\">(</span>\n",
              "      <span style=\"font-weight: bold\">(</span><span style=\"color: #008080; text-decoration-color: #008080; font-weight: bold\">0</span><span style=\"font-weight: bold\">)</span>: <span style=\"color: #800080; text-decoration-color: #800080; font-weight: bold\">TransformerDecoderLayer</span><span style=\"font-weight: bold\">(</span>\n",
              "        <span style=\"font-weight: bold\">(</span>self_attn<span style=\"font-weight: bold\">)</span>: <span style=\"color: #800080; text-decoration-color: #800080; font-weight: bold\">MultiheadAttention</span><span style=\"font-weight: bold\">(</span>\n",
              "          <span style=\"font-weight: bold\">(</span>out_proj<span style=\"font-weight: bold\">)</span>: <span style=\"color: #800080; text-decoration-color: #800080; font-weight: bold\">_LinearWithBias</span><span style=\"font-weight: bold\">(</span><span style=\"color: #808000; text-decoration-color: #808000\">in_features</span>=<span style=\"color: #008080; text-decoration-color: #008080; font-weight: bold\">512</span>, <span style=\"color: #808000; text-decoration-color: #808000\">out_features</span>=<span style=\"color: #008080; text-decoration-color: #008080; font-weight: bold\">512</span>, <span style=\"color: #808000; text-decoration-color: #808000\">bias</span>=<span style=\"color: #00ff00; text-decoration-color: #00ff00; font-style: italic\">True</span><span style=\"font-weight: bold\">)</span>\n",
              "        <span style=\"font-weight: bold\">)</span>\n",
              "        <span style=\"font-weight: bold\">(</span>multihead_attn<span style=\"font-weight: bold\">)</span>: <span style=\"color: #800080; text-decoration-color: #800080; font-weight: bold\">MultiheadAttention</span><span style=\"font-weight: bold\">(</span>\n",
              "          <span style=\"font-weight: bold\">(</span>out_proj<span style=\"font-weight: bold\">)</span>: <span style=\"color: #800080; text-decoration-color: #800080; font-weight: bold\">_LinearWithBias</span><span style=\"font-weight: bold\">(</span><span style=\"color: #808000; text-decoration-color: #808000\">in_features</span>=<span style=\"color: #008080; text-decoration-color: #008080; font-weight: bold\">512</span>, <span style=\"color: #808000; text-decoration-color: #808000\">out_features</span>=<span style=\"color: #008080; text-decoration-color: #008080; font-weight: bold\">512</span>, <span style=\"color: #808000; text-decoration-color: #808000\">bias</span>=<span style=\"color: #00ff00; text-decoration-color: #00ff00; font-style: italic\">True</span><span style=\"font-weight: bold\">)</span>\n",
              "        <span style=\"font-weight: bold\">)</span>\n",
              "        <span style=\"font-weight: bold\">(</span>linear1<span style=\"font-weight: bold\">)</span>: <span style=\"color: #800080; text-decoration-color: #800080; font-weight: bold\">Linear</span><span style=\"font-weight: bold\">(</span><span style=\"color: #808000; text-decoration-color: #808000\">in_features</span>=<span style=\"color: #008080; text-decoration-color: #008080; font-weight: bold\">512</span>, <span style=\"color: #808000; text-decoration-color: #808000\">out_features</span>=<span style=\"color: #008080; text-decoration-color: #008080; font-weight: bold\">512</span>, <span style=\"color: #808000; text-decoration-color: #808000\">bias</span>=<span style=\"color: #00ff00; text-decoration-color: #00ff00; font-style: italic\">True</span><span style=\"font-weight: bold\">)</span>\n",
              "        <span style=\"font-weight: bold\">(</span>dropout<span style=\"font-weight: bold\">)</span>: <span style=\"color: #800080; text-decoration-color: #800080; font-weight: bold\">Dropout</span><span style=\"font-weight: bold\">(</span><span style=\"color: #808000; text-decoration-color: #808000\">p</span>=<span style=\"color: #008080; text-decoration-color: #008080; font-weight: bold\">0.1</span>, <span style=\"color: #808000; text-decoration-color: #808000\">inplace</span>=<span style=\"color: #ff0000; text-decoration-color: #ff0000; font-style: italic\">False</span><span style=\"font-weight: bold\">)</span>\n",
              "        <span style=\"font-weight: bold\">(</span>linear2<span style=\"font-weight: bold\">)</span>: <span style=\"color: #800080; text-decoration-color: #800080; font-weight: bold\">Linear</span><span style=\"font-weight: bold\">(</span><span style=\"color: #808000; text-decoration-color: #808000\">in_features</span>=<span style=\"color: #008080; text-decoration-color: #008080; font-weight: bold\">512</span>, <span style=\"color: #808000; text-decoration-color: #808000\">out_features</span>=<span style=\"color: #008080; text-decoration-color: #008080; font-weight: bold\">512</span>, <span style=\"color: #808000; text-decoration-color: #808000\">bias</span>=<span style=\"color: #00ff00; text-decoration-color: #00ff00; font-style: italic\">True</span><span style=\"font-weight: bold\">)</span>\n",
              "        <span style=\"font-weight: bold\">(</span>norm1<span style=\"font-weight: bold\">)</span>: <span style=\"color: #800080; text-decoration-color: #800080; font-weight: bold\">LayerNorm</span><span style=\"font-weight: bold\">((</span><span style=\"color: #008080; text-decoration-color: #008080; font-weight: bold\">512</span>,<span style=\"font-weight: bold\">)</span>, <span style=\"color: #808000; text-decoration-color: #808000\">eps</span>=<span style=\"color: #008080; text-decoration-color: #008080; font-weight: bold\">1e-05</span>, <span style=\"color: #808000; text-decoration-color: #808000\">elementwise_affine</span>=<span style=\"color: #00ff00; text-decoration-color: #00ff00; font-style: italic\">True</span><span style=\"font-weight: bold\">)</span>\n",
              "        <span style=\"font-weight: bold\">(</span>norm2<span style=\"font-weight: bold\">)</span>: <span style=\"color: #800080; text-decoration-color: #800080; font-weight: bold\">LayerNorm</span><span style=\"font-weight: bold\">((</span><span style=\"color: #008080; text-decoration-color: #008080; font-weight: bold\">512</span>,<span style=\"font-weight: bold\">)</span>, <span style=\"color: #808000; text-decoration-color: #808000\">eps</span>=<span style=\"color: #008080; text-decoration-color: #008080; font-weight: bold\">1e-05</span>, <span style=\"color: #808000; text-decoration-color: #808000\">elementwise_affine</span>=<span style=\"color: #00ff00; text-decoration-color: #00ff00; font-style: italic\">True</span><span style=\"font-weight: bold\">)</span>\n",
              "        <span style=\"font-weight: bold\">(</span>norm3<span style=\"font-weight: bold\">)</span>: <span style=\"color: #800080; text-decoration-color: #800080; font-weight: bold\">LayerNorm</span><span style=\"font-weight: bold\">((</span><span style=\"color: #008080; text-decoration-color: #008080; font-weight: bold\">512</span>,<span style=\"font-weight: bold\">)</span>, <span style=\"color: #808000; text-decoration-color: #808000\">eps</span>=<span style=\"color: #008080; text-decoration-color: #008080; font-weight: bold\">1e-05</span>, <span style=\"color: #808000; text-decoration-color: #808000\">elementwise_affine</span>=<span style=\"color: #00ff00; text-decoration-color: #00ff00; font-style: italic\">True</span><span style=\"font-weight: bold\">)</span>\n",
              "        <span style=\"font-weight: bold\">(</span>dropout1<span style=\"font-weight: bold\">)</span>: <span style=\"color: #800080; text-decoration-color: #800080; font-weight: bold\">Dropout</span><span style=\"font-weight: bold\">(</span><span style=\"color: #808000; text-decoration-color: #808000\">p</span>=<span style=\"color: #008080; text-decoration-color: #008080; font-weight: bold\">0.1</span>, <span style=\"color: #808000; text-decoration-color: #808000\">inplace</span>=<span style=\"color: #ff0000; text-decoration-color: #ff0000; font-style: italic\">False</span><span style=\"font-weight: bold\">)</span>\n",
              "        <span style=\"font-weight: bold\">(</span>dropout2<span style=\"font-weight: bold\">)</span>: <span style=\"color: #800080; text-decoration-color: #800080; font-weight: bold\">Dropout</span><span style=\"font-weight: bold\">(</span><span style=\"color: #808000; text-decoration-color: #808000\">p</span>=<span style=\"color: #008080; text-decoration-color: #008080; font-weight: bold\">0.1</span>, <span style=\"color: #808000; text-decoration-color: #808000\">inplace</span>=<span style=\"color: #ff0000; text-decoration-color: #ff0000; font-style: italic\">False</span><span style=\"font-weight: bold\">)</span>\n",
              "        <span style=\"font-weight: bold\">(</span>dropout3<span style=\"font-weight: bold\">)</span>: <span style=\"color: #800080; text-decoration-color: #800080; font-weight: bold\">Dropout</span><span style=\"font-weight: bold\">(</span><span style=\"color: #808000; text-decoration-color: #808000\">p</span>=<span style=\"color: #008080; text-decoration-color: #008080; font-weight: bold\">0.1</span>, <span style=\"color: #808000; text-decoration-color: #808000\">inplace</span>=<span style=\"color: #ff0000; text-decoration-color: #ff0000; font-style: italic\">False</span><span style=\"font-weight: bold\">)</span>\n",
              "      <span style=\"font-weight: bold\">)</span>\n",
              "      <span style=\"font-weight: bold\">(</span><span style=\"color: #008080; text-decoration-color: #008080; font-weight: bold\">1</span><span style=\"font-weight: bold\">)</span>: <span style=\"color: #800080; text-decoration-color: #800080; font-weight: bold\">TransformerDecoderLayer</span><span style=\"font-weight: bold\">(</span>\n",
              "        <span style=\"font-weight: bold\">(</span>self_attn<span style=\"font-weight: bold\">)</span>: <span style=\"color: #800080; text-decoration-color: #800080; font-weight: bold\">MultiheadAttention</span><span style=\"font-weight: bold\">(</span>\n",
              "          <span style=\"font-weight: bold\">(</span>out_proj<span style=\"font-weight: bold\">)</span>: <span style=\"color: #800080; text-decoration-color: #800080; font-weight: bold\">_LinearWithBias</span><span style=\"font-weight: bold\">(</span><span style=\"color: #808000; text-decoration-color: #808000\">in_features</span>=<span style=\"color: #008080; text-decoration-color: #008080; font-weight: bold\">512</span>, <span style=\"color: #808000; text-decoration-color: #808000\">out_features</span>=<span style=\"color: #008080; text-decoration-color: #008080; font-weight: bold\">512</span>, <span style=\"color: #808000; text-decoration-color: #808000\">bias</span>=<span style=\"color: #00ff00; text-decoration-color: #00ff00; font-style: italic\">True</span><span style=\"font-weight: bold\">)</span>\n",
              "        <span style=\"font-weight: bold\">)</span>\n",
              "        <span style=\"font-weight: bold\">(</span>multihead_attn<span style=\"font-weight: bold\">)</span>: <span style=\"color: #800080; text-decoration-color: #800080; font-weight: bold\">MultiheadAttention</span><span style=\"font-weight: bold\">(</span>\n",
              "          <span style=\"font-weight: bold\">(</span>out_proj<span style=\"font-weight: bold\">)</span>: <span style=\"color: #800080; text-decoration-color: #800080; font-weight: bold\">_LinearWithBias</span><span style=\"font-weight: bold\">(</span><span style=\"color: #808000; text-decoration-color: #808000\">in_features</span>=<span style=\"color: #008080; text-decoration-color: #008080; font-weight: bold\">512</span>, <span style=\"color: #808000; text-decoration-color: #808000\">out_features</span>=<span style=\"color: #008080; text-decoration-color: #008080; font-weight: bold\">512</span>, <span style=\"color: #808000; text-decoration-color: #808000\">bias</span>=<span style=\"color: #00ff00; text-decoration-color: #00ff00; font-style: italic\">True</span><span style=\"font-weight: bold\">)</span>\n",
              "        <span style=\"font-weight: bold\">)</span>\n",
              "        <span style=\"font-weight: bold\">(</span>linear1<span style=\"font-weight: bold\">)</span>: <span style=\"color: #800080; text-decoration-color: #800080; font-weight: bold\">Linear</span><span style=\"font-weight: bold\">(</span><span style=\"color: #808000; text-decoration-color: #808000\">in_features</span>=<span style=\"color: #008080; text-decoration-color: #008080; font-weight: bold\">512</span>, <span style=\"color: #808000; text-decoration-color: #808000\">out_features</span>=<span style=\"color: #008080; text-decoration-color: #008080; font-weight: bold\">512</span>, <span style=\"color: #808000; text-decoration-color: #808000\">bias</span>=<span style=\"color: #00ff00; text-decoration-color: #00ff00; font-style: italic\">True</span><span style=\"font-weight: bold\">)</span>\n",
              "        <span style=\"font-weight: bold\">(</span>dropout<span style=\"font-weight: bold\">)</span>: <span style=\"color: #800080; text-decoration-color: #800080; font-weight: bold\">Dropout</span><span style=\"font-weight: bold\">(</span><span style=\"color: #808000; text-decoration-color: #808000\">p</span>=<span style=\"color: #008080; text-decoration-color: #008080; font-weight: bold\">0.1</span>, <span style=\"color: #808000; text-decoration-color: #808000\">inplace</span>=<span style=\"color: #ff0000; text-decoration-color: #ff0000; font-style: italic\">False</span><span style=\"font-weight: bold\">)</span>\n",
              "        <span style=\"font-weight: bold\">(</span>linear2<span style=\"font-weight: bold\">)</span>: <span style=\"color: #800080; text-decoration-color: #800080; font-weight: bold\">Linear</span><span style=\"font-weight: bold\">(</span><span style=\"color: #808000; text-decoration-color: #808000\">in_features</span>=<span style=\"color: #008080; text-decoration-color: #008080; font-weight: bold\">512</span>, <span style=\"color: #808000; text-decoration-color: #808000\">out_features</span>=<span style=\"color: #008080; text-decoration-color: #008080; font-weight: bold\">512</span>, <span style=\"color: #808000; text-decoration-color: #808000\">bias</span>=<span style=\"color: #00ff00; text-decoration-color: #00ff00; font-style: italic\">True</span><span style=\"font-weight: bold\">)</span>\n",
              "        <span style=\"font-weight: bold\">(</span>norm1<span style=\"font-weight: bold\">)</span>: <span style=\"color: #800080; text-decoration-color: #800080; font-weight: bold\">LayerNorm</span><span style=\"font-weight: bold\">((</span><span style=\"color: #008080; text-decoration-color: #008080; font-weight: bold\">512</span>,<span style=\"font-weight: bold\">)</span>, <span style=\"color: #808000; text-decoration-color: #808000\">eps</span>=<span style=\"color: #008080; text-decoration-color: #008080; font-weight: bold\">1e-05</span>, <span style=\"color: #808000; text-decoration-color: #808000\">elementwise_affine</span>=<span style=\"color: #00ff00; text-decoration-color: #00ff00; font-style: italic\">True</span><span style=\"font-weight: bold\">)</span>\n",
              "        <span style=\"font-weight: bold\">(</span>norm2<span style=\"font-weight: bold\">)</span>: <span style=\"color: #800080; text-decoration-color: #800080; font-weight: bold\">LayerNorm</span><span style=\"font-weight: bold\">((</span><span style=\"color: #008080; text-decoration-color: #008080; font-weight: bold\">512</span>,<span style=\"font-weight: bold\">)</span>, <span style=\"color: #808000; text-decoration-color: #808000\">eps</span>=<span style=\"color: #008080; text-decoration-color: #008080; font-weight: bold\">1e-05</span>, <span style=\"color: #808000; text-decoration-color: #808000\">elementwise_affine</span>=<span style=\"color: #00ff00; text-decoration-color: #00ff00; font-style: italic\">True</span><span style=\"font-weight: bold\">)</span>\n",
              "        <span style=\"font-weight: bold\">(</span>norm3<span style=\"font-weight: bold\">)</span>: <span style=\"color: #800080; text-decoration-color: #800080; font-weight: bold\">LayerNorm</span><span style=\"font-weight: bold\">((</span><span style=\"color: #008080; text-decoration-color: #008080; font-weight: bold\">512</span>,<span style=\"font-weight: bold\">)</span>, <span style=\"color: #808000; text-decoration-color: #808000\">eps</span>=<span style=\"color: #008080; text-decoration-color: #008080; font-weight: bold\">1e-05</span>, <span style=\"color: #808000; text-decoration-color: #808000\">elementwise_affine</span>=<span style=\"color: #00ff00; text-decoration-color: #00ff00; font-style: italic\">True</span><span style=\"font-weight: bold\">)</span>\n",
              "        <span style=\"font-weight: bold\">(</span>dropout1<span style=\"font-weight: bold\">)</span>: <span style=\"color: #800080; text-decoration-color: #800080; font-weight: bold\">Dropout</span><span style=\"font-weight: bold\">(</span><span style=\"color: #808000; text-decoration-color: #808000\">p</span>=<span style=\"color: #008080; text-decoration-color: #008080; font-weight: bold\">0.1</span>, <span style=\"color: #808000; text-decoration-color: #808000\">inplace</span>=<span style=\"color: #ff0000; text-decoration-color: #ff0000; font-style: italic\">False</span><span style=\"font-weight: bold\">)</span>\n",
              "        <span style=\"font-weight: bold\">(</span>dropout2<span style=\"font-weight: bold\">)</span>: <span style=\"color: #800080; text-decoration-color: #800080; font-weight: bold\">Dropout</span><span style=\"font-weight: bold\">(</span><span style=\"color: #808000; text-decoration-color: #808000\">p</span>=<span style=\"color: #008080; text-decoration-color: #008080; font-weight: bold\">0.1</span>, <span style=\"color: #808000; text-decoration-color: #808000\">inplace</span>=<span style=\"color: #ff0000; text-decoration-color: #ff0000; font-style: italic\">False</span><span style=\"font-weight: bold\">)</span>\n",
              "        <span style=\"font-weight: bold\">(</span>dropout3<span style=\"font-weight: bold\">)</span>: <span style=\"color: #800080; text-decoration-color: #800080; font-weight: bold\">Dropout</span><span style=\"font-weight: bold\">(</span><span style=\"color: #808000; text-decoration-color: #808000\">p</span>=<span style=\"color: #008080; text-decoration-color: #008080; font-weight: bold\">0.1</span>, <span style=\"color: #808000; text-decoration-color: #808000\">inplace</span>=<span style=\"color: #ff0000; text-decoration-color: #ff0000; font-style: italic\">False</span><span style=\"font-weight: bold\">)</span>\n",
              "      <span style=\"font-weight: bold\">)</span>\n",
              "      <span style=\"font-weight: bold\">(</span><span style=\"color: #008080; text-decoration-color: #008080; font-weight: bold\">2</span><span style=\"font-weight: bold\">)</span>: <span style=\"color: #800080; text-decoration-color: #800080; font-weight: bold\">TransformerDecoderLayer</span><span style=\"font-weight: bold\">(</span>\n",
              "        <span style=\"font-weight: bold\">(</span>self_attn<span style=\"font-weight: bold\">)</span>: <span style=\"color: #800080; text-decoration-color: #800080; font-weight: bold\">MultiheadAttention</span><span style=\"font-weight: bold\">(</span>\n",
              "          <span style=\"font-weight: bold\">(</span>out_proj<span style=\"font-weight: bold\">)</span>: <span style=\"color: #800080; text-decoration-color: #800080; font-weight: bold\">_LinearWithBias</span><span style=\"font-weight: bold\">(</span><span style=\"color: #808000; text-decoration-color: #808000\">in_features</span>=<span style=\"color: #008080; text-decoration-color: #008080; font-weight: bold\">512</span>, <span style=\"color: #808000; text-decoration-color: #808000\">out_features</span>=<span style=\"color: #008080; text-decoration-color: #008080; font-weight: bold\">512</span>, <span style=\"color: #808000; text-decoration-color: #808000\">bias</span>=<span style=\"color: #00ff00; text-decoration-color: #00ff00; font-style: italic\">True</span><span style=\"font-weight: bold\">)</span>\n",
              "        <span style=\"font-weight: bold\">)</span>\n",
              "        <span style=\"font-weight: bold\">(</span>multihead_attn<span style=\"font-weight: bold\">)</span>: <span style=\"color: #800080; text-decoration-color: #800080; font-weight: bold\">MultiheadAttention</span><span style=\"font-weight: bold\">(</span>\n",
              "          <span style=\"font-weight: bold\">(</span>out_proj<span style=\"font-weight: bold\">)</span>: <span style=\"color: #800080; text-decoration-color: #800080; font-weight: bold\">_LinearWithBias</span><span style=\"font-weight: bold\">(</span><span style=\"color: #808000; text-decoration-color: #808000\">in_features</span>=<span style=\"color: #008080; text-decoration-color: #008080; font-weight: bold\">512</span>, <span style=\"color: #808000; text-decoration-color: #808000\">out_features</span>=<span style=\"color: #008080; text-decoration-color: #008080; font-weight: bold\">512</span>, <span style=\"color: #808000; text-decoration-color: #808000\">bias</span>=<span style=\"color: #00ff00; text-decoration-color: #00ff00; font-style: italic\">True</span><span style=\"font-weight: bold\">)</span>\n",
              "        <span style=\"font-weight: bold\">)</span>\n",
              "        <span style=\"font-weight: bold\">(</span>linear1<span style=\"font-weight: bold\">)</span>: <span style=\"color: #800080; text-decoration-color: #800080; font-weight: bold\">Linear</span><span style=\"font-weight: bold\">(</span><span style=\"color: #808000; text-decoration-color: #808000\">in_features</span>=<span style=\"color: #008080; text-decoration-color: #008080; font-weight: bold\">512</span>, <span style=\"color: #808000; text-decoration-color: #808000\">out_features</span>=<span style=\"color: #008080; text-decoration-color: #008080; font-weight: bold\">512</span>, <span style=\"color: #808000; text-decoration-color: #808000\">bias</span>=<span style=\"color: #00ff00; text-decoration-color: #00ff00; font-style: italic\">True</span><span style=\"font-weight: bold\">)</span>\n",
              "        <span style=\"font-weight: bold\">(</span>dropout<span style=\"font-weight: bold\">)</span>: <span style=\"color: #800080; text-decoration-color: #800080; font-weight: bold\">Dropout</span><span style=\"font-weight: bold\">(</span><span style=\"color: #808000; text-decoration-color: #808000\">p</span>=<span style=\"color: #008080; text-decoration-color: #008080; font-weight: bold\">0.1</span>, <span style=\"color: #808000; text-decoration-color: #808000\">inplace</span>=<span style=\"color: #ff0000; text-decoration-color: #ff0000; font-style: italic\">False</span><span style=\"font-weight: bold\">)</span>\n",
              "        <span style=\"font-weight: bold\">(</span>linear2<span style=\"font-weight: bold\">)</span>: <span style=\"color: #800080; text-decoration-color: #800080; font-weight: bold\">Linear</span><span style=\"font-weight: bold\">(</span><span style=\"color: #808000; text-decoration-color: #808000\">in_features</span>=<span style=\"color: #008080; text-decoration-color: #008080; font-weight: bold\">512</span>, <span style=\"color: #808000; text-decoration-color: #808000\">out_features</span>=<span style=\"color: #008080; text-decoration-color: #008080; font-weight: bold\">512</span>, <span style=\"color: #808000; text-decoration-color: #808000\">bias</span>=<span style=\"color: #00ff00; text-decoration-color: #00ff00; font-style: italic\">True</span><span style=\"font-weight: bold\">)</span>\n",
              "        <span style=\"font-weight: bold\">(</span>norm1<span style=\"font-weight: bold\">)</span>: <span style=\"color: #800080; text-decoration-color: #800080; font-weight: bold\">LayerNorm</span><span style=\"font-weight: bold\">((</span><span style=\"color: #008080; text-decoration-color: #008080; font-weight: bold\">512</span>,<span style=\"font-weight: bold\">)</span>, <span style=\"color: #808000; text-decoration-color: #808000\">eps</span>=<span style=\"color: #008080; text-decoration-color: #008080; font-weight: bold\">1e-05</span>, <span style=\"color: #808000; text-decoration-color: #808000\">elementwise_affine</span>=<span style=\"color: #00ff00; text-decoration-color: #00ff00; font-style: italic\">True</span><span style=\"font-weight: bold\">)</span>\n",
              "        <span style=\"font-weight: bold\">(</span>norm2<span style=\"font-weight: bold\">)</span>: <span style=\"color: #800080; text-decoration-color: #800080; font-weight: bold\">LayerNorm</span><span style=\"font-weight: bold\">((</span><span style=\"color: #008080; text-decoration-color: #008080; font-weight: bold\">512</span>,<span style=\"font-weight: bold\">)</span>, <span style=\"color: #808000; text-decoration-color: #808000\">eps</span>=<span style=\"color: #008080; text-decoration-color: #008080; font-weight: bold\">1e-05</span>, <span style=\"color: #808000; text-decoration-color: #808000\">elementwise_affine</span>=<span style=\"color: #00ff00; text-decoration-color: #00ff00; font-style: italic\">True</span><span style=\"font-weight: bold\">)</span>\n",
              "        <span style=\"font-weight: bold\">(</span>norm3<span style=\"font-weight: bold\">)</span>: <span style=\"color: #800080; text-decoration-color: #800080; font-weight: bold\">LayerNorm</span><span style=\"font-weight: bold\">((</span><span style=\"color: #008080; text-decoration-color: #008080; font-weight: bold\">512</span>,<span style=\"font-weight: bold\">)</span>, <span style=\"color: #808000; text-decoration-color: #808000\">eps</span>=<span style=\"color: #008080; text-decoration-color: #008080; font-weight: bold\">1e-05</span>, <span style=\"color: #808000; text-decoration-color: #808000\">elementwise_affine</span>=<span style=\"color: #00ff00; text-decoration-color: #00ff00; font-style: italic\">True</span><span style=\"font-weight: bold\">)</span>\n",
              "        <span style=\"font-weight: bold\">(</span>dropout1<span style=\"font-weight: bold\">)</span>: <span style=\"color: #800080; text-decoration-color: #800080; font-weight: bold\">Dropout</span><span style=\"font-weight: bold\">(</span><span style=\"color: #808000; text-decoration-color: #808000\">p</span>=<span style=\"color: #008080; text-decoration-color: #008080; font-weight: bold\">0.1</span>, <span style=\"color: #808000; text-decoration-color: #808000\">inplace</span>=<span style=\"color: #ff0000; text-decoration-color: #ff0000; font-style: italic\">False</span><span style=\"font-weight: bold\">)</span>\n",
              "        <span style=\"font-weight: bold\">(</span>dropout2<span style=\"font-weight: bold\">)</span>: <span style=\"color: #800080; text-decoration-color: #800080; font-weight: bold\">Dropout</span><span style=\"font-weight: bold\">(</span><span style=\"color: #808000; text-decoration-color: #808000\">p</span>=<span style=\"color: #008080; text-decoration-color: #008080; font-weight: bold\">0.1</span>, <span style=\"color: #808000; text-decoration-color: #808000\">inplace</span>=<span style=\"color: #ff0000; text-decoration-color: #ff0000; font-style: italic\">False</span><span style=\"font-weight: bold\">)</span>\n",
              "        <span style=\"font-weight: bold\">(</span>dropout3<span style=\"font-weight: bold\">)</span>: <span style=\"color: #800080; text-decoration-color: #800080; font-weight: bold\">Dropout</span><span style=\"font-weight: bold\">(</span><span style=\"color: #808000; text-decoration-color: #808000\">p</span>=<span style=\"color: #008080; text-decoration-color: #008080; font-weight: bold\">0.1</span>, <span style=\"color: #808000; text-decoration-color: #808000\">inplace</span>=<span style=\"color: #ff0000; text-decoration-color: #ff0000; font-style: italic\">False</span><span style=\"font-weight: bold\">)</span>\n",
              "      <span style=\"font-weight: bold\">)</span>\n",
              "    <span style=\"font-weight: bold\">)</span>\n",
              "  <span style=\"font-weight: bold\">)</span>\n",
              "  <span style=\"font-weight: bold\">(</span>generator<span style=\"font-weight: bold\">)</span>: <span style=\"color: #800080; text-decoration-color: #800080; font-weight: bold\">Linear</span><span style=\"font-weight: bold\">(</span><span style=\"color: #808000; text-decoration-color: #808000\">in_features</span>=<span style=\"color: #008080; text-decoration-color: #008080; font-weight: bold\">512</span>, <span style=\"color: #808000; text-decoration-color: #808000\">out_features</span>=<span style=\"color: #008080; text-decoration-color: #008080; font-weight: bold\">42</span>, <span style=\"color: #808000; text-decoration-color: #808000\">bias</span>=<span style=\"color: #00ff00; text-decoration-color: #00ff00; font-style: italic\">True</span><span style=\"font-weight: bold\">)</span>\n",
              "  <span style=\"font-weight: bold\">(</span>src_tok_emb<span style=\"font-weight: bold\">)</span>: <span style=\"color: #800080; text-decoration-color: #800080; font-weight: bold\">TokenEmbedding</span><span style=\"font-weight: bold\">(</span>\n",
              "    <span style=\"font-weight: bold\">(</span>embedding<span style=\"font-weight: bold\">)</span>: <span style=\"color: #800080; text-decoration-color: #800080; font-weight: bold\">Embedding</span><span style=\"font-weight: bold\">(</span><span style=\"color: #008080; text-decoration-color: #008080; font-weight: bold\">46</span>, <span style=\"color: #008080; text-decoration-color: #008080; font-weight: bold\">512</span><span style=\"font-weight: bold\">)</span>\n",
              "  <span style=\"font-weight: bold\">)</span>\n",
              "  <span style=\"font-weight: bold\">(</span>tgt_tok_emb<span style=\"font-weight: bold\">)</span>: <span style=\"color: #800080; text-decoration-color: #800080; font-weight: bold\">TokenEmbedding</span><span style=\"font-weight: bold\">(</span>\n",
              "    <span style=\"font-weight: bold\">(</span>embedding<span style=\"font-weight: bold\">)</span>: <span style=\"color: #800080; text-decoration-color: #800080; font-weight: bold\">Embedding</span><span style=\"font-weight: bold\">(</span><span style=\"color: #008080; text-decoration-color: #008080; font-weight: bold\">42</span>, <span style=\"color: #008080; text-decoration-color: #008080; font-weight: bold\">512</span><span style=\"font-weight: bold\">)</span>\n",
              "  <span style=\"font-weight: bold\">)</span>\n",
              "  <span style=\"font-weight: bold\">(</span>positional_encoding<span style=\"font-weight: bold\">)</span>: <span style=\"color: #800080; text-decoration-color: #800080; font-weight: bold\">PositionalEncoding</span><span style=\"font-weight: bold\">(</span>\n",
              "    <span style=\"font-weight: bold\">(</span>dropout<span style=\"font-weight: bold\">)</span>: <span style=\"color: #800080; text-decoration-color: #800080; font-weight: bold\">Dropout</span><span style=\"font-weight: bold\">(</span><span style=\"color: #808000; text-decoration-color: #808000\">p</span>=<span style=\"color: #008080; text-decoration-color: #008080; font-weight: bold\">0.1</span>, <span style=\"color: #808000; text-decoration-color: #808000\">inplace</span>=<span style=\"color: #ff0000; text-decoration-color: #ff0000; font-style: italic\">False</span><span style=\"font-weight: bold\">)</span>\n",
              "  <span style=\"font-weight: bold\">)</span>\n",
              "<span style=\"font-weight: bold\">)</span>\n",
              "</pre>\n"
            ],
            "text/plain": [
              "\u001b[1;35mSeq2SeqTransformer\u001b[0m\u001b[1m(\u001b[0m\n",
              "  \u001b[1m(\u001b[0mtransformer_encoder\u001b[1m)\u001b[0m: \u001b[1;35mTransformerEncoder\u001b[0m\u001b[1m(\u001b[0m\n",
              "    \u001b[1m(\u001b[0mlayers\u001b[1m)\u001b[0m: \u001b[1;35mModuleList\u001b[0m\u001b[1m(\u001b[0m\n",
              "      \u001b[1m(\u001b[0m\u001b[1;36m0\u001b[0m\u001b[1m)\u001b[0m: \u001b[1;35mTransformerEncoderLayer\u001b[0m\u001b[1m(\u001b[0m\n",
              "        \u001b[1m(\u001b[0mself_attn\u001b[1m)\u001b[0m: \u001b[1;35mMultiheadAttention\u001b[0m\u001b[1m(\u001b[0m\n",
              "          \u001b[1m(\u001b[0mout_proj\u001b[1m)\u001b[0m: \u001b[1;35m_LinearWithBias\u001b[0m\u001b[1m(\u001b[0m\u001b[33min_features\u001b[0m=\u001b[1;36m512\u001b[0m, \u001b[33mout_features\u001b[0m=\u001b[1;36m512\u001b[0m, \u001b[33mbias\u001b[0m=\u001b[3;92mTrue\u001b[0m\u001b[1m)\u001b[0m\n",
              "        \u001b[1m)\u001b[0m\n",
              "        \u001b[1m(\u001b[0mlinear1\u001b[1m)\u001b[0m: \u001b[1;35mLinear\u001b[0m\u001b[1m(\u001b[0m\u001b[33min_features\u001b[0m=\u001b[1;36m512\u001b[0m, \u001b[33mout_features\u001b[0m=\u001b[1;36m512\u001b[0m, \u001b[33mbias\u001b[0m=\u001b[3;92mTrue\u001b[0m\u001b[1m)\u001b[0m\n",
              "        \u001b[1m(\u001b[0mdropout\u001b[1m)\u001b[0m: \u001b[1;35mDropout\u001b[0m\u001b[1m(\u001b[0m\u001b[33mp\u001b[0m=\u001b[1;36m0\u001b[0m\u001b[1;36m.1\u001b[0m, \u001b[33minplace\u001b[0m=\u001b[3;91mFalse\u001b[0m\u001b[1m)\u001b[0m\n",
              "        \u001b[1m(\u001b[0mlinear2\u001b[1m)\u001b[0m: \u001b[1;35mLinear\u001b[0m\u001b[1m(\u001b[0m\u001b[33min_features\u001b[0m=\u001b[1;36m512\u001b[0m, \u001b[33mout_features\u001b[0m=\u001b[1;36m512\u001b[0m, \u001b[33mbias\u001b[0m=\u001b[3;92mTrue\u001b[0m\u001b[1m)\u001b[0m\n",
              "        \u001b[1m(\u001b[0mnorm1\u001b[1m)\u001b[0m: \u001b[1;35mLayerNorm\u001b[0m\u001b[1m(\u001b[0m\u001b[1m(\u001b[0m\u001b[1;36m512\u001b[0m,\u001b[1m)\u001b[0m, \u001b[33meps\u001b[0m=\u001b[1;36m1e\u001b[0m\u001b[1;36m-05\u001b[0m, \u001b[33melementwise_affine\u001b[0m=\u001b[3;92mTrue\u001b[0m\u001b[1m)\u001b[0m\n",
              "        \u001b[1m(\u001b[0mnorm2\u001b[1m)\u001b[0m: \u001b[1;35mLayerNorm\u001b[0m\u001b[1m(\u001b[0m\u001b[1m(\u001b[0m\u001b[1;36m512\u001b[0m,\u001b[1m)\u001b[0m, \u001b[33meps\u001b[0m=\u001b[1;36m1e\u001b[0m\u001b[1;36m-05\u001b[0m, \u001b[33melementwise_affine\u001b[0m=\u001b[3;92mTrue\u001b[0m\u001b[1m)\u001b[0m\n",
              "        \u001b[1m(\u001b[0mdropout1\u001b[1m)\u001b[0m: \u001b[1;35mDropout\u001b[0m\u001b[1m(\u001b[0m\u001b[33mp\u001b[0m=\u001b[1;36m0\u001b[0m\u001b[1;36m.1\u001b[0m, \u001b[33minplace\u001b[0m=\u001b[3;91mFalse\u001b[0m\u001b[1m)\u001b[0m\n",
              "        \u001b[1m(\u001b[0mdropout2\u001b[1m)\u001b[0m: \u001b[1;35mDropout\u001b[0m\u001b[1m(\u001b[0m\u001b[33mp\u001b[0m=\u001b[1;36m0\u001b[0m\u001b[1;36m.1\u001b[0m, \u001b[33minplace\u001b[0m=\u001b[3;91mFalse\u001b[0m\u001b[1m)\u001b[0m\n",
              "      \u001b[1m)\u001b[0m\n",
              "      \u001b[1m(\u001b[0m\u001b[1;36m1\u001b[0m\u001b[1m)\u001b[0m: \u001b[1;35mTransformerEncoderLayer\u001b[0m\u001b[1m(\u001b[0m\n",
              "        \u001b[1m(\u001b[0mself_attn\u001b[1m)\u001b[0m: \u001b[1;35mMultiheadAttention\u001b[0m\u001b[1m(\u001b[0m\n",
              "          \u001b[1m(\u001b[0mout_proj\u001b[1m)\u001b[0m: \u001b[1;35m_LinearWithBias\u001b[0m\u001b[1m(\u001b[0m\u001b[33min_features\u001b[0m=\u001b[1;36m512\u001b[0m, \u001b[33mout_features\u001b[0m=\u001b[1;36m512\u001b[0m, \u001b[33mbias\u001b[0m=\u001b[3;92mTrue\u001b[0m\u001b[1m)\u001b[0m\n",
              "        \u001b[1m)\u001b[0m\n",
              "        \u001b[1m(\u001b[0mlinear1\u001b[1m)\u001b[0m: \u001b[1;35mLinear\u001b[0m\u001b[1m(\u001b[0m\u001b[33min_features\u001b[0m=\u001b[1;36m512\u001b[0m, \u001b[33mout_features\u001b[0m=\u001b[1;36m512\u001b[0m, \u001b[33mbias\u001b[0m=\u001b[3;92mTrue\u001b[0m\u001b[1m)\u001b[0m\n",
              "        \u001b[1m(\u001b[0mdropout\u001b[1m)\u001b[0m: \u001b[1;35mDropout\u001b[0m\u001b[1m(\u001b[0m\u001b[33mp\u001b[0m=\u001b[1;36m0\u001b[0m\u001b[1;36m.1\u001b[0m, \u001b[33minplace\u001b[0m=\u001b[3;91mFalse\u001b[0m\u001b[1m)\u001b[0m\n",
              "        \u001b[1m(\u001b[0mlinear2\u001b[1m)\u001b[0m: \u001b[1;35mLinear\u001b[0m\u001b[1m(\u001b[0m\u001b[33min_features\u001b[0m=\u001b[1;36m512\u001b[0m, \u001b[33mout_features\u001b[0m=\u001b[1;36m512\u001b[0m, \u001b[33mbias\u001b[0m=\u001b[3;92mTrue\u001b[0m\u001b[1m)\u001b[0m\n",
              "        \u001b[1m(\u001b[0mnorm1\u001b[1m)\u001b[0m: \u001b[1;35mLayerNorm\u001b[0m\u001b[1m(\u001b[0m\u001b[1m(\u001b[0m\u001b[1;36m512\u001b[0m,\u001b[1m)\u001b[0m, \u001b[33meps\u001b[0m=\u001b[1;36m1e\u001b[0m\u001b[1;36m-05\u001b[0m, \u001b[33melementwise_affine\u001b[0m=\u001b[3;92mTrue\u001b[0m\u001b[1m)\u001b[0m\n",
              "        \u001b[1m(\u001b[0mnorm2\u001b[1m)\u001b[0m: \u001b[1;35mLayerNorm\u001b[0m\u001b[1m(\u001b[0m\u001b[1m(\u001b[0m\u001b[1;36m512\u001b[0m,\u001b[1m)\u001b[0m, \u001b[33meps\u001b[0m=\u001b[1;36m1e\u001b[0m\u001b[1;36m-05\u001b[0m, \u001b[33melementwise_affine\u001b[0m=\u001b[3;92mTrue\u001b[0m\u001b[1m)\u001b[0m\n",
              "        \u001b[1m(\u001b[0mdropout1\u001b[1m)\u001b[0m: \u001b[1;35mDropout\u001b[0m\u001b[1m(\u001b[0m\u001b[33mp\u001b[0m=\u001b[1;36m0\u001b[0m\u001b[1;36m.1\u001b[0m, \u001b[33minplace\u001b[0m=\u001b[3;91mFalse\u001b[0m\u001b[1m)\u001b[0m\n",
              "        \u001b[1m(\u001b[0mdropout2\u001b[1m)\u001b[0m: \u001b[1;35mDropout\u001b[0m\u001b[1m(\u001b[0m\u001b[33mp\u001b[0m=\u001b[1;36m0\u001b[0m\u001b[1;36m.1\u001b[0m, \u001b[33minplace\u001b[0m=\u001b[3;91mFalse\u001b[0m\u001b[1m)\u001b[0m\n",
              "      \u001b[1m)\u001b[0m\n",
              "      \u001b[1m(\u001b[0m\u001b[1;36m2\u001b[0m\u001b[1m)\u001b[0m: \u001b[1;35mTransformerEncoderLayer\u001b[0m\u001b[1m(\u001b[0m\n",
              "        \u001b[1m(\u001b[0mself_attn\u001b[1m)\u001b[0m: \u001b[1;35mMultiheadAttention\u001b[0m\u001b[1m(\u001b[0m\n",
              "          \u001b[1m(\u001b[0mout_proj\u001b[1m)\u001b[0m: \u001b[1;35m_LinearWithBias\u001b[0m\u001b[1m(\u001b[0m\u001b[33min_features\u001b[0m=\u001b[1;36m512\u001b[0m, \u001b[33mout_features\u001b[0m=\u001b[1;36m512\u001b[0m, \u001b[33mbias\u001b[0m=\u001b[3;92mTrue\u001b[0m\u001b[1m)\u001b[0m\n",
              "        \u001b[1m)\u001b[0m\n",
              "        \u001b[1m(\u001b[0mlinear1\u001b[1m)\u001b[0m: \u001b[1;35mLinear\u001b[0m\u001b[1m(\u001b[0m\u001b[33min_features\u001b[0m=\u001b[1;36m512\u001b[0m, \u001b[33mout_features\u001b[0m=\u001b[1;36m512\u001b[0m, \u001b[33mbias\u001b[0m=\u001b[3;92mTrue\u001b[0m\u001b[1m)\u001b[0m\n",
              "        \u001b[1m(\u001b[0mdropout\u001b[1m)\u001b[0m: \u001b[1;35mDropout\u001b[0m\u001b[1m(\u001b[0m\u001b[33mp\u001b[0m=\u001b[1;36m0\u001b[0m\u001b[1;36m.1\u001b[0m, \u001b[33minplace\u001b[0m=\u001b[3;91mFalse\u001b[0m\u001b[1m)\u001b[0m\n",
              "        \u001b[1m(\u001b[0mlinear2\u001b[1m)\u001b[0m: \u001b[1;35mLinear\u001b[0m\u001b[1m(\u001b[0m\u001b[33min_features\u001b[0m=\u001b[1;36m512\u001b[0m, \u001b[33mout_features\u001b[0m=\u001b[1;36m512\u001b[0m, \u001b[33mbias\u001b[0m=\u001b[3;92mTrue\u001b[0m\u001b[1m)\u001b[0m\n",
              "        \u001b[1m(\u001b[0mnorm1\u001b[1m)\u001b[0m: \u001b[1;35mLayerNorm\u001b[0m\u001b[1m(\u001b[0m\u001b[1m(\u001b[0m\u001b[1;36m512\u001b[0m,\u001b[1m)\u001b[0m, \u001b[33meps\u001b[0m=\u001b[1;36m1e\u001b[0m\u001b[1;36m-05\u001b[0m, \u001b[33melementwise_affine\u001b[0m=\u001b[3;92mTrue\u001b[0m\u001b[1m)\u001b[0m\n",
              "        \u001b[1m(\u001b[0mnorm2\u001b[1m)\u001b[0m: \u001b[1;35mLayerNorm\u001b[0m\u001b[1m(\u001b[0m\u001b[1m(\u001b[0m\u001b[1;36m512\u001b[0m,\u001b[1m)\u001b[0m, \u001b[33meps\u001b[0m=\u001b[1;36m1e\u001b[0m\u001b[1;36m-05\u001b[0m, \u001b[33melementwise_affine\u001b[0m=\u001b[3;92mTrue\u001b[0m\u001b[1m)\u001b[0m\n",
              "        \u001b[1m(\u001b[0mdropout1\u001b[1m)\u001b[0m: \u001b[1;35mDropout\u001b[0m\u001b[1m(\u001b[0m\u001b[33mp\u001b[0m=\u001b[1;36m0\u001b[0m\u001b[1;36m.1\u001b[0m, \u001b[33minplace\u001b[0m=\u001b[3;91mFalse\u001b[0m\u001b[1m)\u001b[0m\n",
              "        \u001b[1m(\u001b[0mdropout2\u001b[1m)\u001b[0m: \u001b[1;35mDropout\u001b[0m\u001b[1m(\u001b[0m\u001b[33mp\u001b[0m=\u001b[1;36m0\u001b[0m\u001b[1;36m.1\u001b[0m, \u001b[33minplace\u001b[0m=\u001b[3;91mFalse\u001b[0m\u001b[1m)\u001b[0m\n",
              "      \u001b[1m)\u001b[0m\n",
              "    \u001b[1m)\u001b[0m\n",
              "  \u001b[1m)\u001b[0m\n",
              "  \u001b[1m(\u001b[0mtransformer_decoder\u001b[1m)\u001b[0m: \u001b[1;35mTransformerDecoder\u001b[0m\u001b[1m(\u001b[0m\n",
              "    \u001b[1m(\u001b[0mlayers\u001b[1m)\u001b[0m: \u001b[1;35mModuleList\u001b[0m\u001b[1m(\u001b[0m\n",
              "      \u001b[1m(\u001b[0m\u001b[1;36m0\u001b[0m\u001b[1m)\u001b[0m: \u001b[1;35mTransformerDecoderLayer\u001b[0m\u001b[1m(\u001b[0m\n",
              "        \u001b[1m(\u001b[0mself_attn\u001b[1m)\u001b[0m: \u001b[1;35mMultiheadAttention\u001b[0m\u001b[1m(\u001b[0m\n",
              "          \u001b[1m(\u001b[0mout_proj\u001b[1m)\u001b[0m: \u001b[1;35m_LinearWithBias\u001b[0m\u001b[1m(\u001b[0m\u001b[33min_features\u001b[0m=\u001b[1;36m512\u001b[0m, \u001b[33mout_features\u001b[0m=\u001b[1;36m512\u001b[0m, \u001b[33mbias\u001b[0m=\u001b[3;92mTrue\u001b[0m\u001b[1m)\u001b[0m\n",
              "        \u001b[1m)\u001b[0m\n",
              "        \u001b[1m(\u001b[0mmultihead_attn\u001b[1m)\u001b[0m: \u001b[1;35mMultiheadAttention\u001b[0m\u001b[1m(\u001b[0m\n",
              "          \u001b[1m(\u001b[0mout_proj\u001b[1m)\u001b[0m: \u001b[1;35m_LinearWithBias\u001b[0m\u001b[1m(\u001b[0m\u001b[33min_features\u001b[0m=\u001b[1;36m512\u001b[0m, \u001b[33mout_features\u001b[0m=\u001b[1;36m512\u001b[0m, \u001b[33mbias\u001b[0m=\u001b[3;92mTrue\u001b[0m\u001b[1m)\u001b[0m\n",
              "        \u001b[1m)\u001b[0m\n",
              "        \u001b[1m(\u001b[0mlinear1\u001b[1m)\u001b[0m: \u001b[1;35mLinear\u001b[0m\u001b[1m(\u001b[0m\u001b[33min_features\u001b[0m=\u001b[1;36m512\u001b[0m, \u001b[33mout_features\u001b[0m=\u001b[1;36m512\u001b[0m, \u001b[33mbias\u001b[0m=\u001b[3;92mTrue\u001b[0m\u001b[1m)\u001b[0m\n",
              "        \u001b[1m(\u001b[0mdropout\u001b[1m)\u001b[0m: \u001b[1;35mDropout\u001b[0m\u001b[1m(\u001b[0m\u001b[33mp\u001b[0m=\u001b[1;36m0\u001b[0m\u001b[1;36m.1\u001b[0m, \u001b[33minplace\u001b[0m=\u001b[3;91mFalse\u001b[0m\u001b[1m)\u001b[0m\n",
              "        \u001b[1m(\u001b[0mlinear2\u001b[1m)\u001b[0m: \u001b[1;35mLinear\u001b[0m\u001b[1m(\u001b[0m\u001b[33min_features\u001b[0m=\u001b[1;36m512\u001b[0m, \u001b[33mout_features\u001b[0m=\u001b[1;36m512\u001b[0m, \u001b[33mbias\u001b[0m=\u001b[3;92mTrue\u001b[0m\u001b[1m)\u001b[0m\n",
              "        \u001b[1m(\u001b[0mnorm1\u001b[1m)\u001b[0m: \u001b[1;35mLayerNorm\u001b[0m\u001b[1m(\u001b[0m\u001b[1m(\u001b[0m\u001b[1;36m512\u001b[0m,\u001b[1m)\u001b[0m, \u001b[33meps\u001b[0m=\u001b[1;36m1e\u001b[0m\u001b[1;36m-05\u001b[0m, \u001b[33melementwise_affine\u001b[0m=\u001b[3;92mTrue\u001b[0m\u001b[1m)\u001b[0m\n",
              "        \u001b[1m(\u001b[0mnorm2\u001b[1m)\u001b[0m: \u001b[1;35mLayerNorm\u001b[0m\u001b[1m(\u001b[0m\u001b[1m(\u001b[0m\u001b[1;36m512\u001b[0m,\u001b[1m)\u001b[0m, \u001b[33meps\u001b[0m=\u001b[1;36m1e\u001b[0m\u001b[1;36m-05\u001b[0m, \u001b[33melementwise_affine\u001b[0m=\u001b[3;92mTrue\u001b[0m\u001b[1m)\u001b[0m\n",
              "        \u001b[1m(\u001b[0mnorm3\u001b[1m)\u001b[0m: \u001b[1;35mLayerNorm\u001b[0m\u001b[1m(\u001b[0m\u001b[1m(\u001b[0m\u001b[1;36m512\u001b[0m,\u001b[1m)\u001b[0m, \u001b[33meps\u001b[0m=\u001b[1;36m1e\u001b[0m\u001b[1;36m-05\u001b[0m, \u001b[33melementwise_affine\u001b[0m=\u001b[3;92mTrue\u001b[0m\u001b[1m)\u001b[0m\n",
              "        \u001b[1m(\u001b[0mdropout1\u001b[1m)\u001b[0m: \u001b[1;35mDropout\u001b[0m\u001b[1m(\u001b[0m\u001b[33mp\u001b[0m=\u001b[1;36m0\u001b[0m\u001b[1;36m.1\u001b[0m, \u001b[33minplace\u001b[0m=\u001b[3;91mFalse\u001b[0m\u001b[1m)\u001b[0m\n",
              "        \u001b[1m(\u001b[0mdropout2\u001b[1m)\u001b[0m: \u001b[1;35mDropout\u001b[0m\u001b[1m(\u001b[0m\u001b[33mp\u001b[0m=\u001b[1;36m0\u001b[0m\u001b[1;36m.1\u001b[0m, \u001b[33minplace\u001b[0m=\u001b[3;91mFalse\u001b[0m\u001b[1m)\u001b[0m\n",
              "        \u001b[1m(\u001b[0mdropout3\u001b[1m)\u001b[0m: \u001b[1;35mDropout\u001b[0m\u001b[1m(\u001b[0m\u001b[33mp\u001b[0m=\u001b[1;36m0\u001b[0m\u001b[1;36m.1\u001b[0m, \u001b[33minplace\u001b[0m=\u001b[3;91mFalse\u001b[0m\u001b[1m)\u001b[0m\n",
              "      \u001b[1m)\u001b[0m\n",
              "      \u001b[1m(\u001b[0m\u001b[1;36m1\u001b[0m\u001b[1m)\u001b[0m: \u001b[1;35mTransformerDecoderLayer\u001b[0m\u001b[1m(\u001b[0m\n",
              "        \u001b[1m(\u001b[0mself_attn\u001b[1m)\u001b[0m: \u001b[1;35mMultiheadAttention\u001b[0m\u001b[1m(\u001b[0m\n",
              "          \u001b[1m(\u001b[0mout_proj\u001b[1m)\u001b[0m: \u001b[1;35m_LinearWithBias\u001b[0m\u001b[1m(\u001b[0m\u001b[33min_features\u001b[0m=\u001b[1;36m512\u001b[0m, \u001b[33mout_features\u001b[0m=\u001b[1;36m512\u001b[0m, \u001b[33mbias\u001b[0m=\u001b[3;92mTrue\u001b[0m\u001b[1m)\u001b[0m\n",
              "        \u001b[1m)\u001b[0m\n",
              "        \u001b[1m(\u001b[0mmultihead_attn\u001b[1m)\u001b[0m: \u001b[1;35mMultiheadAttention\u001b[0m\u001b[1m(\u001b[0m\n",
              "          \u001b[1m(\u001b[0mout_proj\u001b[1m)\u001b[0m: \u001b[1;35m_LinearWithBias\u001b[0m\u001b[1m(\u001b[0m\u001b[33min_features\u001b[0m=\u001b[1;36m512\u001b[0m, \u001b[33mout_features\u001b[0m=\u001b[1;36m512\u001b[0m, \u001b[33mbias\u001b[0m=\u001b[3;92mTrue\u001b[0m\u001b[1m)\u001b[0m\n",
              "        \u001b[1m)\u001b[0m\n",
              "        \u001b[1m(\u001b[0mlinear1\u001b[1m)\u001b[0m: \u001b[1;35mLinear\u001b[0m\u001b[1m(\u001b[0m\u001b[33min_features\u001b[0m=\u001b[1;36m512\u001b[0m, \u001b[33mout_features\u001b[0m=\u001b[1;36m512\u001b[0m, \u001b[33mbias\u001b[0m=\u001b[3;92mTrue\u001b[0m\u001b[1m)\u001b[0m\n",
              "        \u001b[1m(\u001b[0mdropout\u001b[1m)\u001b[0m: \u001b[1;35mDropout\u001b[0m\u001b[1m(\u001b[0m\u001b[33mp\u001b[0m=\u001b[1;36m0\u001b[0m\u001b[1;36m.1\u001b[0m, \u001b[33minplace\u001b[0m=\u001b[3;91mFalse\u001b[0m\u001b[1m)\u001b[0m\n",
              "        \u001b[1m(\u001b[0mlinear2\u001b[1m)\u001b[0m: \u001b[1;35mLinear\u001b[0m\u001b[1m(\u001b[0m\u001b[33min_features\u001b[0m=\u001b[1;36m512\u001b[0m, \u001b[33mout_features\u001b[0m=\u001b[1;36m512\u001b[0m, \u001b[33mbias\u001b[0m=\u001b[3;92mTrue\u001b[0m\u001b[1m)\u001b[0m\n",
              "        \u001b[1m(\u001b[0mnorm1\u001b[1m)\u001b[0m: \u001b[1;35mLayerNorm\u001b[0m\u001b[1m(\u001b[0m\u001b[1m(\u001b[0m\u001b[1;36m512\u001b[0m,\u001b[1m)\u001b[0m, \u001b[33meps\u001b[0m=\u001b[1;36m1e\u001b[0m\u001b[1;36m-05\u001b[0m, \u001b[33melementwise_affine\u001b[0m=\u001b[3;92mTrue\u001b[0m\u001b[1m)\u001b[0m\n",
              "        \u001b[1m(\u001b[0mnorm2\u001b[1m)\u001b[0m: \u001b[1;35mLayerNorm\u001b[0m\u001b[1m(\u001b[0m\u001b[1m(\u001b[0m\u001b[1;36m512\u001b[0m,\u001b[1m)\u001b[0m, \u001b[33meps\u001b[0m=\u001b[1;36m1e\u001b[0m\u001b[1;36m-05\u001b[0m, \u001b[33melementwise_affine\u001b[0m=\u001b[3;92mTrue\u001b[0m\u001b[1m)\u001b[0m\n",
              "        \u001b[1m(\u001b[0mnorm3\u001b[1m)\u001b[0m: \u001b[1;35mLayerNorm\u001b[0m\u001b[1m(\u001b[0m\u001b[1m(\u001b[0m\u001b[1;36m512\u001b[0m,\u001b[1m)\u001b[0m, \u001b[33meps\u001b[0m=\u001b[1;36m1e\u001b[0m\u001b[1;36m-05\u001b[0m, \u001b[33melementwise_affine\u001b[0m=\u001b[3;92mTrue\u001b[0m\u001b[1m)\u001b[0m\n",
              "        \u001b[1m(\u001b[0mdropout1\u001b[1m)\u001b[0m: \u001b[1;35mDropout\u001b[0m\u001b[1m(\u001b[0m\u001b[33mp\u001b[0m=\u001b[1;36m0\u001b[0m\u001b[1;36m.1\u001b[0m, \u001b[33minplace\u001b[0m=\u001b[3;91mFalse\u001b[0m\u001b[1m)\u001b[0m\n",
              "        \u001b[1m(\u001b[0mdropout2\u001b[1m)\u001b[0m: \u001b[1;35mDropout\u001b[0m\u001b[1m(\u001b[0m\u001b[33mp\u001b[0m=\u001b[1;36m0\u001b[0m\u001b[1;36m.1\u001b[0m, \u001b[33minplace\u001b[0m=\u001b[3;91mFalse\u001b[0m\u001b[1m)\u001b[0m\n",
              "        \u001b[1m(\u001b[0mdropout3\u001b[1m)\u001b[0m: \u001b[1;35mDropout\u001b[0m\u001b[1m(\u001b[0m\u001b[33mp\u001b[0m=\u001b[1;36m0\u001b[0m\u001b[1;36m.1\u001b[0m, \u001b[33minplace\u001b[0m=\u001b[3;91mFalse\u001b[0m\u001b[1m)\u001b[0m\n",
              "      \u001b[1m)\u001b[0m\n",
              "      \u001b[1m(\u001b[0m\u001b[1;36m2\u001b[0m\u001b[1m)\u001b[0m: \u001b[1;35mTransformerDecoderLayer\u001b[0m\u001b[1m(\u001b[0m\n",
              "        \u001b[1m(\u001b[0mself_attn\u001b[1m)\u001b[0m: \u001b[1;35mMultiheadAttention\u001b[0m\u001b[1m(\u001b[0m\n",
              "          \u001b[1m(\u001b[0mout_proj\u001b[1m)\u001b[0m: \u001b[1;35m_LinearWithBias\u001b[0m\u001b[1m(\u001b[0m\u001b[33min_features\u001b[0m=\u001b[1;36m512\u001b[0m, \u001b[33mout_features\u001b[0m=\u001b[1;36m512\u001b[0m, \u001b[33mbias\u001b[0m=\u001b[3;92mTrue\u001b[0m\u001b[1m)\u001b[0m\n",
              "        \u001b[1m)\u001b[0m\n",
              "        \u001b[1m(\u001b[0mmultihead_attn\u001b[1m)\u001b[0m: \u001b[1;35mMultiheadAttention\u001b[0m\u001b[1m(\u001b[0m\n",
              "          \u001b[1m(\u001b[0mout_proj\u001b[1m)\u001b[0m: \u001b[1;35m_LinearWithBias\u001b[0m\u001b[1m(\u001b[0m\u001b[33min_features\u001b[0m=\u001b[1;36m512\u001b[0m, \u001b[33mout_features\u001b[0m=\u001b[1;36m512\u001b[0m, \u001b[33mbias\u001b[0m=\u001b[3;92mTrue\u001b[0m\u001b[1m)\u001b[0m\n",
              "        \u001b[1m)\u001b[0m\n",
              "        \u001b[1m(\u001b[0mlinear1\u001b[1m)\u001b[0m: \u001b[1;35mLinear\u001b[0m\u001b[1m(\u001b[0m\u001b[33min_features\u001b[0m=\u001b[1;36m512\u001b[0m, \u001b[33mout_features\u001b[0m=\u001b[1;36m512\u001b[0m, \u001b[33mbias\u001b[0m=\u001b[3;92mTrue\u001b[0m\u001b[1m)\u001b[0m\n",
              "        \u001b[1m(\u001b[0mdropout\u001b[1m)\u001b[0m: \u001b[1;35mDropout\u001b[0m\u001b[1m(\u001b[0m\u001b[33mp\u001b[0m=\u001b[1;36m0\u001b[0m\u001b[1;36m.1\u001b[0m, \u001b[33minplace\u001b[0m=\u001b[3;91mFalse\u001b[0m\u001b[1m)\u001b[0m\n",
              "        \u001b[1m(\u001b[0mlinear2\u001b[1m)\u001b[0m: \u001b[1;35mLinear\u001b[0m\u001b[1m(\u001b[0m\u001b[33min_features\u001b[0m=\u001b[1;36m512\u001b[0m, \u001b[33mout_features\u001b[0m=\u001b[1;36m512\u001b[0m, \u001b[33mbias\u001b[0m=\u001b[3;92mTrue\u001b[0m\u001b[1m)\u001b[0m\n",
              "        \u001b[1m(\u001b[0mnorm1\u001b[1m)\u001b[0m: \u001b[1;35mLayerNorm\u001b[0m\u001b[1m(\u001b[0m\u001b[1m(\u001b[0m\u001b[1;36m512\u001b[0m,\u001b[1m)\u001b[0m, \u001b[33meps\u001b[0m=\u001b[1;36m1e\u001b[0m\u001b[1;36m-05\u001b[0m, \u001b[33melementwise_affine\u001b[0m=\u001b[3;92mTrue\u001b[0m\u001b[1m)\u001b[0m\n",
              "        \u001b[1m(\u001b[0mnorm2\u001b[1m)\u001b[0m: \u001b[1;35mLayerNorm\u001b[0m\u001b[1m(\u001b[0m\u001b[1m(\u001b[0m\u001b[1;36m512\u001b[0m,\u001b[1m)\u001b[0m, \u001b[33meps\u001b[0m=\u001b[1;36m1e\u001b[0m\u001b[1;36m-05\u001b[0m, \u001b[33melementwise_affine\u001b[0m=\u001b[3;92mTrue\u001b[0m\u001b[1m)\u001b[0m\n",
              "        \u001b[1m(\u001b[0mnorm3\u001b[1m)\u001b[0m: \u001b[1;35mLayerNorm\u001b[0m\u001b[1m(\u001b[0m\u001b[1m(\u001b[0m\u001b[1;36m512\u001b[0m,\u001b[1m)\u001b[0m, \u001b[33meps\u001b[0m=\u001b[1;36m1e\u001b[0m\u001b[1;36m-05\u001b[0m, \u001b[33melementwise_affine\u001b[0m=\u001b[3;92mTrue\u001b[0m\u001b[1m)\u001b[0m\n",
              "        \u001b[1m(\u001b[0mdropout1\u001b[1m)\u001b[0m: \u001b[1;35mDropout\u001b[0m\u001b[1m(\u001b[0m\u001b[33mp\u001b[0m=\u001b[1;36m0\u001b[0m\u001b[1;36m.1\u001b[0m, \u001b[33minplace\u001b[0m=\u001b[3;91mFalse\u001b[0m\u001b[1m)\u001b[0m\n",
              "        \u001b[1m(\u001b[0mdropout2\u001b[1m)\u001b[0m: \u001b[1;35mDropout\u001b[0m\u001b[1m(\u001b[0m\u001b[33mp\u001b[0m=\u001b[1;36m0\u001b[0m\u001b[1;36m.1\u001b[0m, \u001b[33minplace\u001b[0m=\u001b[3;91mFalse\u001b[0m\u001b[1m)\u001b[0m\n",
              "        \u001b[1m(\u001b[0mdropout3\u001b[1m)\u001b[0m: \u001b[1;35mDropout\u001b[0m\u001b[1m(\u001b[0m\u001b[33mp\u001b[0m=\u001b[1;36m0\u001b[0m\u001b[1;36m.1\u001b[0m, \u001b[33minplace\u001b[0m=\u001b[3;91mFalse\u001b[0m\u001b[1m)\u001b[0m\n",
              "      \u001b[1m)\u001b[0m\n",
              "    \u001b[1m)\u001b[0m\n",
              "  \u001b[1m)\u001b[0m\n",
              "  \u001b[1m(\u001b[0mgenerator\u001b[1m)\u001b[0m: \u001b[1;35mLinear\u001b[0m\u001b[1m(\u001b[0m\u001b[33min_features\u001b[0m=\u001b[1;36m512\u001b[0m, \u001b[33mout_features\u001b[0m=\u001b[1;36m42\u001b[0m, \u001b[33mbias\u001b[0m=\u001b[3;92mTrue\u001b[0m\u001b[1m)\u001b[0m\n",
              "  \u001b[1m(\u001b[0msrc_tok_emb\u001b[1m)\u001b[0m: \u001b[1;35mTokenEmbedding\u001b[0m\u001b[1m(\u001b[0m\n",
              "    \u001b[1m(\u001b[0membedding\u001b[1m)\u001b[0m: \u001b[1;35mEmbedding\u001b[0m\u001b[1m(\u001b[0m\u001b[1;36m46\u001b[0m, \u001b[1;36m512\u001b[0m\u001b[1m)\u001b[0m\n",
              "  \u001b[1m)\u001b[0m\n",
              "  \u001b[1m(\u001b[0mtgt_tok_emb\u001b[1m)\u001b[0m: \u001b[1;35mTokenEmbedding\u001b[0m\u001b[1m(\u001b[0m\n",
              "    \u001b[1m(\u001b[0membedding\u001b[1m)\u001b[0m: \u001b[1;35mEmbedding\u001b[0m\u001b[1m(\u001b[0m\u001b[1;36m42\u001b[0m, \u001b[1;36m512\u001b[0m\u001b[1m)\u001b[0m\n",
              "  \u001b[1m)\u001b[0m\n",
              "  \u001b[1m(\u001b[0mpositional_encoding\u001b[1m)\u001b[0m: \u001b[1;35mPositionalEncoding\u001b[0m\u001b[1m(\u001b[0m\n",
              "    \u001b[1m(\u001b[0mdropout\u001b[1m)\u001b[0m: \u001b[1;35mDropout\u001b[0m\u001b[1m(\u001b[0m\u001b[33mp\u001b[0m=\u001b[1;36m0\u001b[0m\u001b[1;36m.1\u001b[0m, \u001b[33minplace\u001b[0m=\u001b[3;91mFalse\u001b[0m\u001b[1m)\u001b[0m\n",
              "  \u001b[1m)\u001b[0m\n",
              "\u001b[1m)\u001b[0m\n"
            ]
          },
          "metadata": {
            "tags": []
          }
        }
      ]
    },
    {
      "cell_type": "markdown",
      "metadata": {
        "id": "bXSMEOITdq_s"
      },
      "source": [
        "#Save checkpoint"
      ],
      "id": "bXSMEOITdq_s"
    },
    {
      "cell_type": "code",
      "metadata": {
        "id": "Jqj_bDp0iCgl"
      },
      "source": [
        "load_model = True\n",
        "save_model = True"
      ],
      "id": "Jqj_bDp0iCgl",
      "execution_count": 19,
      "outputs": []
    },
    {
      "cell_type": "code",
      "metadata": {
        "id": "MFgGyot-dqR6"
      },
      "source": [
        "def save_checkpoint(state, filename):\n",
        "    #filename=\"my_checkpoint_\"+str(epoch)+\".pth\"\n",
        "    print(\"=> Saving checkpoint\")\n",
        "    torch.save(state, filename)"
      ],
      "id": "MFgGyot-dqR6",
      "execution_count": 20,
      "outputs": []
    },
    {
      "cell_type": "markdown",
      "metadata": {
        "id": "PIW9IxYXe0FK"
      },
      "source": [
        "#Load checkpoint"
      ],
      "id": "PIW9IxYXe0FK"
    },
    {
      "cell_type": "code",
      "metadata": {
        "id": "fSK3X09Me4L-"
      },
      "source": [
        "def load_checkpoint(checkpoint, model, optimizer):\n",
        "    print(\"=> Loading checkpoint\")\n",
        "    model.load_state_dict(checkpoint[\"state_dict\"])\n",
        "    optimizer.load_state_dict(checkpoint[\"optimizer\"])"
      ],
      "id": "fSK3X09Me4L-",
      "execution_count": null,
      "outputs": []
    },
    {
      "cell_type": "code",
      "metadata": {
        "id": "F5Q-dpDvfLSC",
        "colab": {
          "base_uri": "https://localhost:8080/",
          "height": 34
        },
        "outputId": "e178e0de-e504-4346-c77c-a8864f1a37af"
      },
      "source": [
        "if load_model:\n",
        "    load_checkpoint(torch.load(\"my_checkpoint_10.pth\"), transformer, optimizer)\n",
        "\n"
      ],
      "id": "F5Q-dpDvfLSC",
      "execution_count": null,
      "outputs": [
        {
          "output_type": "display_data",
          "data": {
            "text/html": [
              "<pre style=\"white-space:pre;overflow-x:auto;line-height:normal;font-family:Menlo,'DejaVu Sans Mono',consolas,'Courier New',monospace\">=&gt; Loading checkpoint\n",
              "</pre>\n"
            ],
            "text/plain": [
              "=> Loading checkpoint\n"
            ]
          },
          "metadata": {
            "tags": []
          }
        }
      ]
    },
    {
      "cell_type": "markdown",
      "metadata": {
        "id": "iA-ga-sAPhK1"
      },
      "source": [
        "# Train model"
      ],
      "id": "iA-ga-sAPhK1"
    },
    {
      "cell_type": "code",
      "metadata": {
        "id": "obvious-curve"
      },
      "source": [
        "def train_epoch(model, train_iter, optimizer):\n",
        "  model.train()\n",
        "  losses = 0\n",
        "  for idx, (src, tgt) in enumerate(train_iter):\n",
        "      src = src.to(device)\n",
        "      tgt = tgt.to(device)\n",
        "\n",
        "      tgt_input = tgt[:-1, :]\n",
        "\n",
        "      src_mask, tgt_mask, src_padding_mask, tgt_padding_mask = create_mask(src, tgt_input)\n",
        "\n",
        "      logits = model(src, tgt_input, src_mask, tgt_mask,\n",
        "                                src_padding_mask, tgt_padding_mask, src_padding_mask)\n",
        "\n",
        "      optimizer.zero_grad()\n",
        "\n",
        "      tgt_out = tgt[1:,:]\n",
        "      loss = loss_fn(logits.reshape(-1, logits.shape[-1]), tgt_out.reshape(-1))\n",
        "      loss.backward()\n",
        "\n",
        "      optimizer.step()\n",
        "      losses += loss.item()\n",
        "  return losses / len(train_iter)\n",
        "\n",
        "\n",
        "def evaluate(model, val_iter):\n",
        "  model.eval()\n",
        "  losses = 0\n",
        "  for idx, (src, tgt) in (enumerate(valid_iter)):\n",
        "    src = src.to(device)\n",
        "    tgt = tgt.to(device)\n",
        "\n",
        "    tgt_input = tgt[:-1, :]\n",
        "\n",
        "    src_mask, tgt_mask, src_padding_mask, tgt_padding_mask = create_mask(src, tgt_input)\n",
        "\n",
        "    logits = model(src, tgt_input, src_mask, tgt_mask,\n",
        "                              src_padding_mask, tgt_padding_mask, src_padding_mask)\n",
        "    tgt_out = tgt[1:,:]\n",
        "    loss = loss_fn(logits.reshape(-1, logits.shape[-1]), tgt_out.reshape(-1))\n",
        "    losses += loss.item()\n",
        "  return losses / len(val_iter)"
      ],
      "id": "obvious-curve",
      "execution_count": 21,
      "outputs": []
    },
    {
      "cell_type": "code",
      "metadata": {
        "colab": {
          "base_uri": "https://localhost:8080/",
          "height": 1000
        },
        "id": "palestinian-singapore",
        "outputId": "a673b4db-b3cb-40f8-893f-ec5bc36adba3"
      },
      "source": [
        "train_loss_ex = []\n",
        "val_loss_ex = []\n",
        "epoch_ex=[]\n",
        "for epoch in range(1, NUM_EPOCHS+1):\n",
        "  start_time = time.time()\n",
        "  train_loss = train_epoch(transformer, train_iter, optimizer)\n",
        "  end_time = time.time()\n",
        "  val_loss = evaluate(transformer, valid_iter)\n",
        "  #Save the general checkpoint\n",
        "  if epoch%100==0:\n",
        "    filename=\"my_checkpoint_\"+str(epoch)+\".pth\"\n",
        "    print(\"true\")\n",
        "    checkpoint = {\"state_dict\": transformer.state_dict(),\"optimizer\": optimizer.state_dict(),}\n",
        "    save_checkpoint(checkpoint,filename)\n",
        "\n",
        "  print((f\"Epoch: {epoch}, Train loss: {train_loss:.3f}, Val loss: {val_loss:.3f}, \"\n",
        "          f\"Epoch time = {(end_time - start_time):.3f}s\"))\n",
        "  #plot\n",
        "  train_loss_ex.append(train_loss)\n",
        "  epoch_ex.append(epoch)\n",
        "  val_loss_ex.append(val_loss)\n",
        "  \n",
        "print(\"Done!\")"
      ],
      "id": "palestinian-singapore",
      "execution_count": null,
      "outputs": [
        {
          "output_type": "display_data",
          "data": {
            "text/html": [
              "<pre style=\"white-space:pre;overflow-x:auto;line-height:normal;font-family:Menlo,'DejaVu Sans Mono',consolas,'Courier New',monospace\">Epoch: <span style=\"color: #008080; text-decoration-color: #008080; font-weight: bold\">1</span>, Train loss: <span style=\"color: #008080; text-decoration-color: #008080; font-weight: bold\">0.023</span>, Val loss: <span style=\"color: #008080; text-decoration-color: #008080; font-weight: bold\">0.123</span>, Epoch time = <span style=\"color: #008080; text-decoration-color: #008080; font-weight: bold\">93.</span>513s\n",
              "</pre>\n"
            ],
            "text/plain": [
              "Epoch: \u001b[1;36m1\u001b[0m, Train loss: \u001b[1;36m0.023\u001b[0m, Val loss: \u001b[1;36m0.123\u001b[0m, Epoch time = \u001b[1;36m93.\u001b[0m513s\n"
            ]
          },
          "metadata": {
            "tags": []
          }
        },
        {
          "output_type": "display_data",
          "data": {
            "text/html": [
              "<pre style=\"white-space:pre;overflow-x:auto;line-height:normal;font-family:Menlo,'DejaVu Sans Mono',consolas,'Courier New',monospace\">Epoch: <span style=\"color: #008080; text-decoration-color: #008080; font-weight: bold\">2</span>, Train loss: <span style=\"color: #008080; text-decoration-color: #008080; font-weight: bold\">0.023</span>, Val loss: <span style=\"color: #008080; text-decoration-color: #008080; font-weight: bold\">0.122</span>, Epoch time = <span style=\"color: #008080; text-decoration-color: #008080; font-weight: bold\">93.</span>446s\n",
              "</pre>\n"
            ],
            "text/plain": [
              "Epoch: \u001b[1;36m2\u001b[0m, Train loss: \u001b[1;36m0.023\u001b[0m, Val loss: \u001b[1;36m0.122\u001b[0m, Epoch time = \u001b[1;36m93.\u001b[0m446s\n"
            ]
          },
          "metadata": {
            "tags": []
          }
        },
        {
          "output_type": "display_data",
          "data": {
            "text/html": [
              "<pre style=\"white-space:pre;overflow-x:auto;line-height:normal;font-family:Menlo,'DejaVu Sans Mono',consolas,'Courier New',monospace\">Epoch: <span style=\"color: #008080; text-decoration-color: #008080; font-weight: bold\">3</span>, Train loss: <span style=\"color: #008080; text-decoration-color: #008080; font-weight: bold\">0.022</span>, Val loss: <span style=\"color: #008080; text-decoration-color: #008080; font-weight: bold\">0.122</span>, Epoch time = <span style=\"color: #008080; text-decoration-color: #008080; font-weight: bold\">94.</span>023s\n",
              "</pre>\n"
            ],
            "text/plain": [
              "Epoch: \u001b[1;36m3\u001b[0m, Train loss: \u001b[1;36m0.022\u001b[0m, Val loss: \u001b[1;36m0.122\u001b[0m, Epoch time = \u001b[1;36m94.\u001b[0m023s\n"
            ]
          },
          "metadata": {
            "tags": []
          }
        },
        {
          "output_type": "display_data",
          "data": {
            "text/html": [
              "<pre style=\"white-space:pre;overflow-x:auto;line-height:normal;font-family:Menlo,'DejaVu Sans Mono',consolas,'Courier New',monospace\">Epoch: <span style=\"color: #008080; text-decoration-color: #008080; font-weight: bold\">4</span>, Train loss: <span style=\"color: #008080; text-decoration-color: #008080; font-weight: bold\">0.022</span>, Val loss: <span style=\"color: #008080; text-decoration-color: #008080; font-weight: bold\">0.124</span>, Epoch time = <span style=\"color: #008080; text-decoration-color: #008080; font-weight: bold\">93.</span>418s\n",
              "</pre>\n"
            ],
            "text/plain": [
              "Epoch: \u001b[1;36m4\u001b[0m, Train loss: \u001b[1;36m0.022\u001b[0m, Val loss: \u001b[1;36m0.124\u001b[0m, Epoch time = \u001b[1;36m93.\u001b[0m418s\n"
            ]
          },
          "metadata": {
            "tags": []
          }
        },
        {
          "output_type": "display_data",
          "data": {
            "text/html": [
              "<pre style=\"white-space:pre;overflow-x:auto;line-height:normal;font-family:Menlo,'DejaVu Sans Mono',consolas,'Courier New',monospace\">Epoch: <span style=\"color: #008080; text-decoration-color: #008080; font-weight: bold\">5</span>, Train loss: <span style=\"color: #008080; text-decoration-color: #008080; font-weight: bold\">0.022</span>, Val loss: <span style=\"color: #008080; text-decoration-color: #008080; font-weight: bold\">0.125</span>, Epoch time = <span style=\"color: #008080; text-decoration-color: #008080; font-weight: bold\">93.</span>316s\n",
              "</pre>\n"
            ],
            "text/plain": [
              "Epoch: \u001b[1;36m5\u001b[0m, Train loss: \u001b[1;36m0.022\u001b[0m, Val loss: \u001b[1;36m0.125\u001b[0m, Epoch time = \u001b[1;36m93.\u001b[0m316s\n"
            ]
          },
          "metadata": {
            "tags": []
          }
        },
        {
          "output_type": "display_data",
          "data": {
            "text/html": [
              "<pre style=\"white-space:pre;overflow-x:auto;line-height:normal;font-family:Menlo,'DejaVu Sans Mono',consolas,'Courier New',monospace\">Epoch: <span style=\"color: #008080; text-decoration-color: #008080; font-weight: bold\">6</span>, Train loss: <span style=\"color: #008080; text-decoration-color: #008080; font-weight: bold\">0.022</span>, Val loss: <span style=\"color: #008080; text-decoration-color: #008080; font-weight: bold\">0.122</span>, Epoch time = <span style=\"color: #008080; text-decoration-color: #008080; font-weight: bold\">93.</span>616s\n",
              "</pre>\n"
            ],
            "text/plain": [
              "Epoch: \u001b[1;36m6\u001b[0m, Train loss: \u001b[1;36m0.022\u001b[0m, Val loss: \u001b[1;36m0.122\u001b[0m, Epoch time = \u001b[1;36m93.\u001b[0m616s\n"
            ]
          },
          "metadata": {
            "tags": []
          }
        },
        {
          "output_type": "display_data",
          "data": {
            "text/html": [
              "<pre style=\"white-space:pre;overflow-x:auto;line-height:normal;font-family:Menlo,'DejaVu Sans Mono',consolas,'Courier New',monospace\">Epoch: <span style=\"color: #008080; text-decoration-color: #008080; font-weight: bold\">7</span>, Train loss: <span style=\"color: #008080; text-decoration-color: #008080; font-weight: bold\">0.022</span>, Val loss: <span style=\"color: #008080; text-decoration-color: #008080; font-weight: bold\">0.126</span>, Epoch time = <span style=\"color: #008080; text-decoration-color: #008080; font-weight: bold\">93.</span>657s\n",
              "</pre>\n"
            ],
            "text/plain": [
              "Epoch: \u001b[1;36m7\u001b[0m, Train loss: \u001b[1;36m0.022\u001b[0m, Val loss: \u001b[1;36m0.126\u001b[0m, Epoch time = \u001b[1;36m93.\u001b[0m657s\n"
            ]
          },
          "metadata": {
            "tags": []
          }
        },
        {
          "output_type": "display_data",
          "data": {
            "text/html": [
              "<pre style=\"white-space:pre;overflow-x:auto;line-height:normal;font-family:Menlo,'DejaVu Sans Mono',consolas,'Courier New',monospace\">Epoch: <span style=\"color: #008080; text-decoration-color: #008080; font-weight: bold\">8</span>, Train loss: <span style=\"color: #008080; text-decoration-color: #008080; font-weight: bold\">0.022</span>, Val loss: <span style=\"color: #008080; text-decoration-color: #008080; font-weight: bold\">0.127</span>, Epoch time = <span style=\"color: #008080; text-decoration-color: #008080; font-weight: bold\">93.</span>424s\n",
              "</pre>\n"
            ],
            "text/plain": [
              "Epoch: \u001b[1;36m8\u001b[0m, Train loss: \u001b[1;36m0.022\u001b[0m, Val loss: \u001b[1;36m0.127\u001b[0m, Epoch time = \u001b[1;36m93.\u001b[0m424s\n"
            ]
          },
          "metadata": {
            "tags": []
          }
        },
        {
          "output_type": "display_data",
          "data": {
            "text/html": [
              "<pre style=\"white-space:pre;overflow-x:auto;line-height:normal;font-family:Menlo,'DejaVu Sans Mono',consolas,'Courier New',monospace\">Epoch: <span style=\"color: #008080; text-decoration-color: #008080; font-weight: bold\">9</span>, Train loss: <span style=\"color: #008080; text-decoration-color: #008080; font-weight: bold\">0.022</span>, Val loss: <span style=\"color: #008080; text-decoration-color: #008080; font-weight: bold\">0.129</span>, Epoch time = <span style=\"color: #008080; text-decoration-color: #008080; font-weight: bold\">93.</span>176s\n",
              "</pre>\n"
            ],
            "text/plain": [
              "Epoch: \u001b[1;36m9\u001b[0m, Train loss: \u001b[1;36m0.022\u001b[0m, Val loss: \u001b[1;36m0.129\u001b[0m, Epoch time = \u001b[1;36m93.\u001b[0m176s\n"
            ]
          },
          "metadata": {
            "tags": []
          }
        },
        {
          "output_type": "display_data",
          "data": {
            "text/html": [
              "<pre style=\"white-space:pre;overflow-x:auto;line-height:normal;font-family:Menlo,'DejaVu Sans Mono',consolas,'Courier New',monospace\">Epoch: <span style=\"color: #008080; text-decoration-color: #008080; font-weight: bold\">10</span>, Train loss: <span style=\"color: #008080; text-decoration-color: #008080; font-weight: bold\">0.021</span>, Val loss: <span style=\"color: #008080; text-decoration-color: #008080; font-weight: bold\">0.127</span>, Epoch time = <span style=\"color: #008080; text-decoration-color: #008080; font-weight: bold\">93.</span>424s\n",
              "</pre>\n"
            ],
            "text/plain": [
              "Epoch: \u001b[1;36m10\u001b[0m, Train loss: \u001b[1;36m0.021\u001b[0m, Val loss: \u001b[1;36m0.127\u001b[0m, Epoch time = \u001b[1;36m93.\u001b[0m424s\n"
            ]
          },
          "metadata": {
            "tags": []
          }
        },
        {
          "output_type": "display_data",
          "data": {
            "text/html": [
              "<pre style=\"white-space:pre;overflow-x:auto;line-height:normal;font-family:Menlo,'DejaVu Sans Mono',consolas,'Courier New',monospace\">Epoch: <span style=\"color: #008080; text-decoration-color: #008080; font-weight: bold\">11</span>, Train loss: <span style=\"color: #008080; text-decoration-color: #008080; font-weight: bold\">0.022</span>, Val loss: <span style=\"color: #008080; text-decoration-color: #008080; font-weight: bold\">0.126</span>, Epoch time = <span style=\"color: #008080; text-decoration-color: #008080; font-weight: bold\">93.</span>662s\n",
              "</pre>\n"
            ],
            "text/plain": [
              "Epoch: \u001b[1;36m11\u001b[0m, Train loss: \u001b[1;36m0.022\u001b[0m, Val loss: \u001b[1;36m0.126\u001b[0m, Epoch time = \u001b[1;36m93.\u001b[0m662s\n"
            ]
          },
          "metadata": {
            "tags": []
          }
        },
        {
          "output_type": "display_data",
          "data": {
            "text/html": [
              "<pre style=\"white-space:pre;overflow-x:auto;line-height:normal;font-family:Menlo,'DejaVu Sans Mono',consolas,'Courier New',monospace\">Epoch: <span style=\"color: #008080; text-decoration-color: #008080; font-weight: bold\">12</span>, Train loss: <span style=\"color: #008080; text-decoration-color: #008080; font-weight: bold\">0.022</span>, Val loss: <span style=\"color: #008080; text-decoration-color: #008080; font-weight: bold\">0.125</span>, Epoch time = <span style=\"color: #008080; text-decoration-color: #008080; font-weight: bold\">93.</span>663s\n",
              "</pre>\n"
            ],
            "text/plain": [
              "Epoch: \u001b[1;36m12\u001b[0m, Train loss: \u001b[1;36m0.022\u001b[0m, Val loss: \u001b[1;36m0.125\u001b[0m, Epoch time = \u001b[1;36m93.\u001b[0m663s\n"
            ]
          },
          "metadata": {
            "tags": []
          }
        },
        {
          "output_type": "display_data",
          "data": {
            "text/html": [
              "<pre style=\"white-space:pre;overflow-x:auto;line-height:normal;font-family:Menlo,'DejaVu Sans Mono',consolas,'Courier New',monospace\">Epoch: <span style=\"color: #008080; text-decoration-color: #008080; font-weight: bold\">13</span>, Train loss: <span style=\"color: #008080; text-decoration-color: #008080; font-weight: bold\">0.021</span>, Val loss: <span style=\"color: #008080; text-decoration-color: #008080; font-weight: bold\">0.128</span>, Epoch time = <span style=\"color: #008080; text-decoration-color: #008080; font-weight: bold\">93.</span>339s\n",
              "</pre>\n"
            ],
            "text/plain": [
              "Epoch: \u001b[1;36m13\u001b[0m, Train loss: \u001b[1;36m0.021\u001b[0m, Val loss: \u001b[1;36m0.128\u001b[0m, Epoch time = \u001b[1;36m93.\u001b[0m339s\n"
            ]
          },
          "metadata": {
            "tags": []
          }
        },
        {
          "output_type": "display_data",
          "data": {
            "text/html": [
              "<pre style=\"white-space:pre;overflow-x:auto;line-height:normal;font-family:Menlo,'DejaVu Sans Mono',consolas,'Courier New',monospace\">Epoch: <span style=\"color: #008080; text-decoration-color: #008080; font-weight: bold\">14</span>, Train loss: <span style=\"color: #008080; text-decoration-color: #008080; font-weight: bold\">0.021</span>, Val loss: <span style=\"color: #008080; text-decoration-color: #008080; font-weight: bold\">0.126</span>, Epoch time = <span style=\"color: #008080; text-decoration-color: #008080; font-weight: bold\">93.</span>934s\n",
              "</pre>\n"
            ],
            "text/plain": [
              "Epoch: \u001b[1;36m14\u001b[0m, Train loss: \u001b[1;36m0.021\u001b[0m, Val loss: \u001b[1;36m0.126\u001b[0m, Epoch time = \u001b[1;36m93.\u001b[0m934s\n"
            ]
          },
          "metadata": {
            "tags": []
          }
        },
        {
          "output_type": "display_data",
          "data": {
            "text/html": [
              "<pre style=\"white-space:pre;overflow-x:auto;line-height:normal;font-family:Menlo,'DejaVu Sans Mono',consolas,'Courier New',monospace\">Epoch: <span style=\"color: #008080; text-decoration-color: #008080; font-weight: bold\">15</span>, Train loss: <span style=\"color: #008080; text-decoration-color: #008080; font-weight: bold\">0.021</span>, Val loss: <span style=\"color: #008080; text-decoration-color: #008080; font-weight: bold\">0.125</span>, Epoch time = <span style=\"color: #008080; text-decoration-color: #008080; font-weight: bold\">93.</span>259s\n",
              "</pre>\n"
            ],
            "text/plain": [
              "Epoch: \u001b[1;36m15\u001b[0m, Train loss: \u001b[1;36m0.021\u001b[0m, Val loss: \u001b[1;36m0.125\u001b[0m, Epoch time = \u001b[1;36m93.\u001b[0m259s\n"
            ]
          },
          "metadata": {
            "tags": []
          }
        },
        {
          "output_type": "display_data",
          "data": {
            "text/html": [
              "<pre style=\"white-space:pre;overflow-x:auto;line-height:normal;font-family:Menlo,'DejaVu Sans Mono',consolas,'Courier New',monospace\">Epoch: <span style=\"color: #008080; text-decoration-color: #008080; font-weight: bold\">16</span>, Train loss: <span style=\"color: #008080; text-decoration-color: #008080; font-weight: bold\">0.021</span>, Val loss: <span style=\"color: #008080; text-decoration-color: #008080; font-weight: bold\">0.127</span>, Epoch time = <span style=\"color: #008080; text-decoration-color: #008080; font-weight: bold\">93.</span>448s\n",
              "</pre>\n"
            ],
            "text/plain": [
              "Epoch: \u001b[1;36m16\u001b[0m, Train loss: \u001b[1;36m0.021\u001b[0m, Val loss: \u001b[1;36m0.127\u001b[0m, Epoch time = \u001b[1;36m93.\u001b[0m448s\n"
            ]
          },
          "metadata": {
            "tags": []
          }
        },
        {
          "output_type": "display_data",
          "data": {
            "text/html": [
              "<pre style=\"white-space:pre;overflow-x:auto;line-height:normal;font-family:Menlo,'DejaVu Sans Mono',consolas,'Courier New',monospace\">Epoch: <span style=\"color: #008080; text-decoration-color: #008080; font-weight: bold\">17</span>, Train loss: <span style=\"color: #008080; text-decoration-color: #008080; font-weight: bold\">0.021</span>, Val loss: <span style=\"color: #008080; text-decoration-color: #008080; font-weight: bold\">0.127</span>, Epoch time = <span style=\"color: #008080; text-decoration-color: #008080; font-weight: bold\">93.</span>245s\n",
              "</pre>\n"
            ],
            "text/plain": [
              "Epoch: \u001b[1;36m17\u001b[0m, Train loss: \u001b[1;36m0.021\u001b[0m, Val loss: \u001b[1;36m0.127\u001b[0m, Epoch time = \u001b[1;36m93.\u001b[0m245s\n"
            ]
          },
          "metadata": {
            "tags": []
          }
        },
        {
          "output_type": "display_data",
          "data": {
            "text/html": [
              "<pre style=\"white-space:pre;overflow-x:auto;line-height:normal;font-family:Menlo,'DejaVu Sans Mono',consolas,'Courier New',monospace\">Epoch: <span style=\"color: #008080; text-decoration-color: #008080; font-weight: bold\">18</span>, Train loss: <span style=\"color: #008080; text-decoration-color: #008080; font-weight: bold\">0.021</span>, Val loss: <span style=\"color: #008080; text-decoration-color: #008080; font-weight: bold\">0.125</span>, Epoch time = <span style=\"color: #008080; text-decoration-color: #008080; font-weight: bold\">93.</span>742s\n",
              "</pre>\n"
            ],
            "text/plain": [
              "Epoch: \u001b[1;36m18\u001b[0m, Train loss: \u001b[1;36m0.021\u001b[0m, Val loss: \u001b[1;36m0.125\u001b[0m, Epoch time = \u001b[1;36m93.\u001b[0m742s\n"
            ]
          },
          "metadata": {
            "tags": []
          }
        },
        {
          "output_type": "display_data",
          "data": {
            "text/html": [
              "<pre style=\"white-space:pre;overflow-x:auto;line-height:normal;font-family:Menlo,'DejaVu Sans Mono',consolas,'Courier New',monospace\">Epoch: <span style=\"color: #008080; text-decoration-color: #008080; font-weight: bold\">19</span>, Train loss: <span style=\"color: #008080; text-decoration-color: #008080; font-weight: bold\">0.021</span>, Val loss: <span style=\"color: #008080; text-decoration-color: #008080; font-weight: bold\">0.127</span>, Epoch time = <span style=\"color: #008080; text-decoration-color: #008080; font-weight: bold\">93.</span>377s\n",
              "</pre>\n"
            ],
            "text/plain": [
              "Epoch: \u001b[1;36m19\u001b[0m, Train loss: \u001b[1;36m0.021\u001b[0m, Val loss: \u001b[1;36m0.127\u001b[0m, Epoch time = \u001b[1;36m93.\u001b[0m377s\n"
            ]
          },
          "metadata": {
            "tags": []
          }
        },
        {
          "output_type": "display_data",
          "data": {
            "text/html": [
              "<pre style=\"white-space:pre;overflow-x:auto;line-height:normal;font-family:Menlo,'DejaVu Sans Mono',consolas,'Courier New',monospace\">Epoch: <span style=\"color: #008080; text-decoration-color: #008080; font-weight: bold\">20</span>, Train loss: <span style=\"color: #008080; text-decoration-color: #008080; font-weight: bold\">0.020</span>, Val loss: <span style=\"color: #008080; text-decoration-color: #008080; font-weight: bold\">0.126</span>, Epoch time = <span style=\"color: #008080; text-decoration-color: #008080; font-weight: bold\">93.</span>157s\n",
              "</pre>\n"
            ],
            "text/plain": [
              "Epoch: \u001b[1;36m20\u001b[0m, Train loss: \u001b[1;36m0.020\u001b[0m, Val loss: \u001b[1;36m0.126\u001b[0m, Epoch time = \u001b[1;36m93.\u001b[0m157s\n"
            ]
          },
          "metadata": {
            "tags": []
          }
        },
        {
          "output_type": "display_data",
          "data": {
            "text/html": [
              "<pre style=\"white-space:pre;overflow-x:auto;line-height:normal;font-family:Menlo,'DejaVu Sans Mono',consolas,'Courier New',monospace\">Epoch: <span style=\"color: #008080; text-decoration-color: #008080; font-weight: bold\">21</span>, Train loss: <span style=\"color: #008080; text-decoration-color: #008080; font-weight: bold\">0.021</span>, Val loss: <span style=\"color: #008080; text-decoration-color: #008080; font-weight: bold\">0.128</span>, Epoch time = <span style=\"color: #008080; text-decoration-color: #008080; font-weight: bold\">93.</span>403s\n",
              "</pre>\n"
            ],
            "text/plain": [
              "Epoch: \u001b[1;36m21\u001b[0m, Train loss: \u001b[1;36m0.021\u001b[0m, Val loss: \u001b[1;36m0.128\u001b[0m, Epoch time = \u001b[1;36m93.\u001b[0m403s\n"
            ]
          },
          "metadata": {
            "tags": []
          }
        },
        {
          "output_type": "display_data",
          "data": {
            "text/html": [
              "<pre style=\"white-space:pre;overflow-x:auto;line-height:normal;font-family:Menlo,'DejaVu Sans Mono',consolas,'Courier New',monospace\">Epoch: <span style=\"color: #008080; text-decoration-color: #008080; font-weight: bold\">22</span>, Train loss: <span style=\"color: #008080; text-decoration-color: #008080; font-weight: bold\">0.020</span>, Val loss: <span style=\"color: #008080; text-decoration-color: #008080; font-weight: bold\">0.130</span>, Epoch time = <span style=\"color: #008080; text-decoration-color: #008080; font-weight: bold\">93.</span>410s\n",
              "</pre>\n"
            ],
            "text/plain": [
              "Epoch: \u001b[1;36m22\u001b[0m, Train loss: \u001b[1;36m0.020\u001b[0m, Val loss: \u001b[1;36m0.130\u001b[0m, Epoch time = \u001b[1;36m93.\u001b[0m410s\n"
            ]
          },
          "metadata": {
            "tags": []
          }
        },
        {
          "output_type": "display_data",
          "data": {
            "text/html": [
              "<pre style=\"white-space:pre;overflow-x:auto;line-height:normal;font-family:Menlo,'DejaVu Sans Mono',consolas,'Courier New',monospace\">Epoch: <span style=\"color: #008080; text-decoration-color: #008080; font-weight: bold\">23</span>, Train loss: <span style=\"color: #008080; text-decoration-color: #008080; font-weight: bold\">0.020</span>, Val loss: <span style=\"color: #008080; text-decoration-color: #008080; font-weight: bold\">0.129</span>, Epoch time = <span style=\"color: #008080; text-decoration-color: #008080; font-weight: bold\">92.</span>888s\n",
              "</pre>\n"
            ],
            "text/plain": [
              "Epoch: \u001b[1;36m23\u001b[0m, Train loss: \u001b[1;36m0.020\u001b[0m, Val loss: \u001b[1;36m0.129\u001b[0m, Epoch time = \u001b[1;36m92.\u001b[0m888s\n"
            ]
          },
          "metadata": {
            "tags": []
          }
        },
        {
          "output_type": "display_data",
          "data": {
            "text/html": [
              "<pre style=\"white-space:pre;overflow-x:auto;line-height:normal;font-family:Menlo,'DejaVu Sans Mono',consolas,'Courier New',monospace\">Epoch: <span style=\"color: #008080; text-decoration-color: #008080; font-weight: bold\">24</span>, Train loss: <span style=\"color: #008080; text-decoration-color: #008080; font-weight: bold\">0.020</span>, Val loss: <span style=\"color: #008080; text-decoration-color: #008080; font-weight: bold\">0.127</span>, Epoch time = <span style=\"color: #008080; text-decoration-color: #008080; font-weight: bold\">93.</span>963s\n",
              "</pre>\n"
            ],
            "text/plain": [
              "Epoch: \u001b[1;36m24\u001b[0m, Train loss: \u001b[1;36m0.020\u001b[0m, Val loss: \u001b[1;36m0.127\u001b[0m, Epoch time = \u001b[1;36m93.\u001b[0m963s\n"
            ]
          },
          "metadata": {
            "tags": []
          }
        },
        {
          "output_type": "display_data",
          "data": {
            "text/html": [
              "<pre style=\"white-space:pre;overflow-x:auto;line-height:normal;font-family:Menlo,'DejaVu Sans Mono',consolas,'Courier New',monospace\">Epoch: <span style=\"color: #008080; text-decoration-color: #008080; font-weight: bold\">25</span>, Train loss: <span style=\"color: #008080; text-decoration-color: #008080; font-weight: bold\">0.020</span>, Val loss: <span style=\"color: #008080; text-decoration-color: #008080; font-weight: bold\">0.129</span>, Epoch time = <span style=\"color: #008080; text-decoration-color: #008080; font-weight: bold\">94.</span>050s\n",
              "</pre>\n"
            ],
            "text/plain": [
              "Epoch: \u001b[1;36m25\u001b[0m, Train loss: \u001b[1;36m0.020\u001b[0m, Val loss: \u001b[1;36m0.129\u001b[0m, Epoch time = \u001b[1;36m94.\u001b[0m050s\n"
            ]
          },
          "metadata": {
            "tags": []
          }
        },
        {
          "output_type": "display_data",
          "data": {
            "text/html": [
              "<pre style=\"white-space:pre;overflow-x:auto;line-height:normal;font-family:Menlo,'DejaVu Sans Mono',consolas,'Courier New',monospace\">Epoch: <span style=\"color: #008080; text-decoration-color: #008080; font-weight: bold\">26</span>, Train loss: <span style=\"color: #008080; text-decoration-color: #008080; font-weight: bold\">0.020</span>, Val loss: <span style=\"color: #008080; text-decoration-color: #008080; font-weight: bold\">0.129</span>, Epoch time = <span style=\"color: #008080; text-decoration-color: #008080; font-weight: bold\">92.</span>912s\n",
              "</pre>\n"
            ],
            "text/plain": [
              "Epoch: \u001b[1;36m26\u001b[0m, Train loss: \u001b[1;36m0.020\u001b[0m, Val loss: \u001b[1;36m0.129\u001b[0m, Epoch time = \u001b[1;36m92.\u001b[0m912s\n"
            ]
          },
          "metadata": {
            "tags": []
          }
        },
        {
          "output_type": "display_data",
          "data": {
            "text/html": [
              "<pre style=\"white-space:pre;overflow-x:auto;line-height:normal;font-family:Menlo,'DejaVu Sans Mono',consolas,'Courier New',monospace\">Epoch: <span style=\"color: #008080; text-decoration-color: #008080; font-weight: bold\">27</span>, Train loss: <span style=\"color: #008080; text-decoration-color: #008080; font-weight: bold\">0.020</span>, Val loss: <span style=\"color: #008080; text-decoration-color: #008080; font-weight: bold\">0.129</span>, Epoch time = <span style=\"color: #008080; text-decoration-color: #008080; font-weight: bold\">93.</span>658s\n",
              "</pre>\n"
            ],
            "text/plain": [
              "Epoch: \u001b[1;36m27\u001b[0m, Train loss: \u001b[1;36m0.020\u001b[0m, Val loss: \u001b[1;36m0.129\u001b[0m, Epoch time = \u001b[1;36m93.\u001b[0m658s\n"
            ]
          },
          "metadata": {
            "tags": []
          }
        },
        {
          "output_type": "display_data",
          "data": {
            "text/html": [
              "<pre style=\"white-space:pre;overflow-x:auto;line-height:normal;font-family:Menlo,'DejaVu Sans Mono',consolas,'Courier New',monospace\">Epoch: <span style=\"color: #008080; text-decoration-color: #008080; font-weight: bold\">28</span>, Train loss: <span style=\"color: #008080; text-decoration-color: #008080; font-weight: bold\">0.020</span>, Val loss: <span style=\"color: #008080; text-decoration-color: #008080; font-weight: bold\">0.126</span>, Epoch time = <span style=\"color: #008080; text-decoration-color: #008080; font-weight: bold\">93.</span>630s\n",
              "</pre>\n"
            ],
            "text/plain": [
              "Epoch: \u001b[1;36m28\u001b[0m, Train loss: \u001b[1;36m0.020\u001b[0m, Val loss: \u001b[1;36m0.126\u001b[0m, Epoch time = \u001b[1;36m93.\u001b[0m630s\n"
            ]
          },
          "metadata": {
            "tags": []
          }
        },
        {
          "output_type": "display_data",
          "data": {
            "text/html": [
              "<pre style=\"white-space:pre;overflow-x:auto;line-height:normal;font-family:Menlo,'DejaVu Sans Mono',consolas,'Courier New',monospace\">Epoch: <span style=\"color: #008080; text-decoration-color: #008080; font-weight: bold\">29</span>, Train loss: <span style=\"color: #008080; text-decoration-color: #008080; font-weight: bold\">0.020</span>, Val loss: <span style=\"color: #008080; text-decoration-color: #008080; font-weight: bold\">0.129</span>, Epoch time = <span style=\"color: #008080; text-decoration-color: #008080; font-weight: bold\">93.</span>809s\n",
              "</pre>\n"
            ],
            "text/plain": [
              "Epoch: \u001b[1;36m29\u001b[0m, Train loss: \u001b[1;36m0.020\u001b[0m, Val loss: \u001b[1;36m0.129\u001b[0m, Epoch time = \u001b[1;36m93.\u001b[0m809s\n"
            ]
          },
          "metadata": {
            "tags": []
          }
        },
        {
          "output_type": "display_data",
          "data": {
            "text/html": [
              "<pre style=\"white-space:pre;overflow-x:auto;line-height:normal;font-family:Menlo,'DejaVu Sans Mono',consolas,'Courier New',monospace\">Epoch: <span style=\"color: #008080; text-decoration-color: #008080; font-weight: bold\">30</span>, Train loss: <span style=\"color: #008080; text-decoration-color: #008080; font-weight: bold\">0.020</span>, Val loss: <span style=\"color: #008080; text-decoration-color: #008080; font-weight: bold\">0.136</span>, Epoch time = <span style=\"color: #008080; text-decoration-color: #008080; font-weight: bold\">94.</span>265s\n",
              "</pre>\n"
            ],
            "text/plain": [
              "Epoch: \u001b[1;36m30\u001b[0m, Train loss: \u001b[1;36m0.020\u001b[0m, Val loss: \u001b[1;36m0.136\u001b[0m, Epoch time = \u001b[1;36m94.\u001b[0m265s\n"
            ]
          },
          "metadata": {
            "tags": []
          }
        },
        {
          "output_type": "display_data",
          "data": {
            "text/html": [
              "<pre style=\"white-space:pre;overflow-x:auto;line-height:normal;font-family:Menlo,'DejaVu Sans Mono',consolas,'Courier New',monospace\">Epoch: <span style=\"color: #008080; text-decoration-color: #008080; font-weight: bold\">31</span>, Train loss: <span style=\"color: #008080; text-decoration-color: #008080; font-weight: bold\">0.019</span>, Val loss: <span style=\"color: #008080; text-decoration-color: #008080; font-weight: bold\">0.127</span>, Epoch time = <span style=\"color: #008080; text-decoration-color: #008080; font-weight: bold\">93.</span>743s\n",
              "</pre>\n"
            ],
            "text/plain": [
              "Epoch: \u001b[1;36m31\u001b[0m, Train loss: \u001b[1;36m0.019\u001b[0m, Val loss: \u001b[1;36m0.127\u001b[0m, Epoch time = \u001b[1;36m93.\u001b[0m743s\n"
            ]
          },
          "metadata": {
            "tags": []
          }
        },
        {
          "output_type": "display_data",
          "data": {
            "text/html": [
              "<pre style=\"white-space:pre;overflow-x:auto;line-height:normal;font-family:Menlo,'DejaVu Sans Mono',consolas,'Courier New',monospace\">Epoch: <span style=\"color: #008080; text-decoration-color: #008080; font-weight: bold\">32</span>, Train loss: <span style=\"color: #008080; text-decoration-color: #008080; font-weight: bold\">0.019</span>, Val loss: <span style=\"color: #008080; text-decoration-color: #008080; font-weight: bold\">0.131</span>, Epoch time = <span style=\"color: #008080; text-decoration-color: #008080; font-weight: bold\">93.</span>693s\n",
              "</pre>\n"
            ],
            "text/plain": [
              "Epoch: \u001b[1;36m32\u001b[0m, Train loss: \u001b[1;36m0.019\u001b[0m, Val loss: \u001b[1;36m0.131\u001b[0m, Epoch time = \u001b[1;36m93.\u001b[0m693s\n"
            ]
          },
          "metadata": {
            "tags": []
          }
        },
        {
          "output_type": "display_data",
          "data": {
            "text/html": [
              "<pre style=\"white-space:pre;overflow-x:auto;line-height:normal;font-family:Menlo,'DejaVu Sans Mono',consolas,'Courier New',monospace\">Epoch: <span style=\"color: #008080; text-decoration-color: #008080; font-weight: bold\">33</span>, Train loss: <span style=\"color: #008080; text-decoration-color: #008080; font-weight: bold\">0.019</span>, Val loss: <span style=\"color: #008080; text-decoration-color: #008080; font-weight: bold\">0.127</span>, Epoch time = <span style=\"color: #008080; text-decoration-color: #008080; font-weight: bold\">93.</span>411s\n",
              "</pre>\n"
            ],
            "text/plain": [
              "Epoch: \u001b[1;36m33\u001b[0m, Train loss: \u001b[1;36m0.019\u001b[0m, Val loss: \u001b[1;36m0.127\u001b[0m, Epoch time = \u001b[1;36m93.\u001b[0m411s\n"
            ]
          },
          "metadata": {
            "tags": []
          }
        },
        {
          "output_type": "display_data",
          "data": {
            "text/html": [
              "<pre style=\"white-space:pre;overflow-x:auto;line-height:normal;font-family:Menlo,'DejaVu Sans Mono',consolas,'Courier New',monospace\">Epoch: <span style=\"color: #008080; text-decoration-color: #008080; font-weight: bold\">34</span>, Train loss: <span style=\"color: #008080; text-decoration-color: #008080; font-weight: bold\">0.019</span>, Val loss: <span style=\"color: #008080; text-decoration-color: #008080; font-weight: bold\">0.128</span>, Epoch time = <span style=\"color: #008080; text-decoration-color: #008080; font-weight: bold\">92.</span>781s\n",
              "</pre>\n"
            ],
            "text/plain": [
              "Epoch: \u001b[1;36m34\u001b[0m, Train loss: \u001b[1;36m0.019\u001b[0m, Val loss: \u001b[1;36m0.128\u001b[0m, Epoch time = \u001b[1;36m92.\u001b[0m781s\n"
            ]
          },
          "metadata": {
            "tags": []
          }
        },
        {
          "output_type": "display_data",
          "data": {
            "text/html": [
              "<pre style=\"white-space:pre;overflow-x:auto;line-height:normal;font-family:Menlo,'DejaVu Sans Mono',consolas,'Courier New',monospace\">Epoch: <span style=\"color: #008080; text-decoration-color: #008080; font-weight: bold\">35</span>, Train loss: <span style=\"color: #008080; text-decoration-color: #008080; font-weight: bold\">0.019</span>, Val loss: <span style=\"color: #008080; text-decoration-color: #008080; font-weight: bold\">0.127</span>, Epoch time = <span style=\"color: #008080; text-decoration-color: #008080; font-weight: bold\">93.</span>786s\n",
              "</pre>\n"
            ],
            "text/plain": [
              "Epoch: \u001b[1;36m35\u001b[0m, Train loss: \u001b[1;36m0.019\u001b[0m, Val loss: \u001b[1;36m0.127\u001b[0m, Epoch time = \u001b[1;36m93.\u001b[0m786s\n"
            ]
          },
          "metadata": {
            "tags": []
          }
        },
        {
          "output_type": "display_data",
          "data": {
            "text/html": [
              "<pre style=\"white-space:pre;overflow-x:auto;line-height:normal;font-family:Menlo,'DejaVu Sans Mono',consolas,'Courier New',monospace\">Epoch: <span style=\"color: #008080; text-decoration-color: #008080; font-weight: bold\">36</span>, Train loss: <span style=\"color: #008080; text-decoration-color: #008080; font-weight: bold\">0.019</span>, Val loss: <span style=\"color: #008080; text-decoration-color: #008080; font-weight: bold\">0.133</span>, Epoch time = <span style=\"color: #008080; text-decoration-color: #008080; font-weight: bold\">93.</span>318s\n",
              "</pre>\n"
            ],
            "text/plain": [
              "Epoch: \u001b[1;36m36\u001b[0m, Train loss: \u001b[1;36m0.019\u001b[0m, Val loss: \u001b[1;36m0.133\u001b[0m, Epoch time = \u001b[1;36m93.\u001b[0m318s\n"
            ]
          },
          "metadata": {
            "tags": []
          }
        },
        {
          "output_type": "display_data",
          "data": {
            "text/html": [
              "<pre style=\"white-space:pre;overflow-x:auto;line-height:normal;font-family:Menlo,'DejaVu Sans Mono',consolas,'Courier New',monospace\">Epoch: <span style=\"color: #008080; text-decoration-color: #008080; font-weight: bold\">37</span>, Train loss: <span style=\"color: #008080; text-decoration-color: #008080; font-weight: bold\">0.019</span>, Val loss: <span style=\"color: #008080; text-decoration-color: #008080; font-weight: bold\">0.129</span>, Epoch time = <span style=\"color: #008080; text-decoration-color: #008080; font-weight: bold\">93.</span>236s\n",
              "</pre>\n"
            ],
            "text/plain": [
              "Epoch: \u001b[1;36m37\u001b[0m, Train loss: \u001b[1;36m0.019\u001b[0m, Val loss: \u001b[1;36m0.129\u001b[0m, Epoch time = \u001b[1;36m93.\u001b[0m236s\n"
            ]
          },
          "metadata": {
            "tags": []
          }
        },
        {
          "output_type": "display_data",
          "data": {
            "text/html": [
              "<pre style=\"white-space:pre;overflow-x:auto;line-height:normal;font-family:Menlo,'DejaVu Sans Mono',consolas,'Courier New',monospace\">Epoch: <span style=\"color: #008080; text-decoration-color: #008080; font-weight: bold\">38</span>, Train loss: <span style=\"color: #008080; text-decoration-color: #008080; font-weight: bold\">0.019</span>, Val loss: <span style=\"color: #008080; text-decoration-color: #008080; font-weight: bold\">0.128</span>, Epoch time = <span style=\"color: #008080; text-decoration-color: #008080; font-weight: bold\">93.</span>500s\n",
              "</pre>\n"
            ],
            "text/plain": [
              "Epoch: \u001b[1;36m38\u001b[0m, Train loss: \u001b[1;36m0.019\u001b[0m, Val loss: \u001b[1;36m0.128\u001b[0m, Epoch time = \u001b[1;36m93.\u001b[0m500s\n"
            ]
          },
          "metadata": {
            "tags": []
          }
        },
        {
          "output_type": "display_data",
          "data": {
            "text/html": [
              "<pre style=\"white-space:pre;overflow-x:auto;line-height:normal;font-family:Menlo,'DejaVu Sans Mono',consolas,'Courier New',monospace\">Epoch: <span style=\"color: #008080; text-decoration-color: #008080; font-weight: bold\">39</span>, Train loss: <span style=\"color: #008080; text-decoration-color: #008080; font-weight: bold\">0.018</span>, Val loss: <span style=\"color: #008080; text-decoration-color: #008080; font-weight: bold\">0.129</span>, Epoch time = <span style=\"color: #008080; text-decoration-color: #008080; font-weight: bold\">93.</span>073s\n",
              "</pre>\n"
            ],
            "text/plain": [
              "Epoch: \u001b[1;36m39\u001b[0m, Train loss: \u001b[1;36m0.018\u001b[0m, Val loss: \u001b[1;36m0.129\u001b[0m, Epoch time = \u001b[1;36m93.\u001b[0m073s\n"
            ]
          },
          "metadata": {
            "tags": []
          }
        },
        {
          "output_type": "display_data",
          "data": {
            "text/html": [
              "<pre style=\"white-space:pre;overflow-x:auto;line-height:normal;font-family:Menlo,'DejaVu Sans Mono',consolas,'Courier New',monospace\">Epoch: <span style=\"color: #008080; text-decoration-color: #008080; font-weight: bold\">40</span>, Train loss: <span style=\"color: #008080; text-decoration-color: #008080; font-weight: bold\">0.018</span>, Val loss: <span style=\"color: #008080; text-decoration-color: #008080; font-weight: bold\">0.128</span>, Epoch time = <span style=\"color: #008080; text-decoration-color: #008080; font-weight: bold\">93.</span>556s\n",
              "</pre>\n"
            ],
            "text/plain": [
              "Epoch: \u001b[1;36m40\u001b[0m, Train loss: \u001b[1;36m0.018\u001b[0m, Val loss: \u001b[1;36m0.128\u001b[0m, Epoch time = \u001b[1;36m93.\u001b[0m556s\n"
            ]
          },
          "metadata": {
            "tags": []
          }
        },
        {
          "output_type": "display_data",
          "data": {
            "text/html": [
              "<pre style=\"white-space:pre;overflow-x:auto;line-height:normal;font-family:Menlo,'DejaVu Sans Mono',consolas,'Courier New',monospace\">Epoch: <span style=\"color: #008080; text-decoration-color: #008080; font-weight: bold\">41</span>, Train loss: <span style=\"color: #008080; text-decoration-color: #008080; font-weight: bold\">0.018</span>, Val loss: <span style=\"color: #008080; text-decoration-color: #008080; font-weight: bold\">0.130</span>, Epoch time = <span style=\"color: #008080; text-decoration-color: #008080; font-weight: bold\">93.</span>862s\n",
              "</pre>\n"
            ],
            "text/plain": [
              "Epoch: \u001b[1;36m41\u001b[0m, Train loss: \u001b[1;36m0.018\u001b[0m, Val loss: \u001b[1;36m0.130\u001b[0m, Epoch time = \u001b[1;36m93.\u001b[0m862s\n"
            ]
          },
          "metadata": {
            "tags": []
          }
        },
        {
          "output_type": "display_data",
          "data": {
            "text/html": [
              "<pre style=\"white-space:pre;overflow-x:auto;line-height:normal;font-family:Menlo,'DejaVu Sans Mono',consolas,'Courier New',monospace\">Epoch: <span style=\"color: #008080; text-decoration-color: #008080; font-weight: bold\">42</span>, Train loss: <span style=\"color: #008080; text-decoration-color: #008080; font-weight: bold\">0.018</span>, Val loss: <span style=\"color: #008080; text-decoration-color: #008080; font-weight: bold\">0.128</span>, Epoch time = <span style=\"color: #008080; text-decoration-color: #008080; font-weight: bold\">93.</span>720s\n",
              "</pre>\n"
            ],
            "text/plain": [
              "Epoch: \u001b[1;36m42\u001b[0m, Train loss: \u001b[1;36m0.018\u001b[0m, Val loss: \u001b[1;36m0.128\u001b[0m, Epoch time = \u001b[1;36m93.\u001b[0m720s\n"
            ]
          },
          "metadata": {
            "tags": []
          }
        },
        {
          "output_type": "display_data",
          "data": {
            "text/html": [
              "<pre style=\"white-space:pre;overflow-x:auto;line-height:normal;font-family:Menlo,'DejaVu Sans Mono',consolas,'Courier New',monospace\">Epoch: <span style=\"color: #008080; text-decoration-color: #008080; font-weight: bold\">43</span>, Train loss: <span style=\"color: #008080; text-decoration-color: #008080; font-weight: bold\">0.018</span>, Val loss: <span style=\"color: #008080; text-decoration-color: #008080; font-weight: bold\">0.135</span>, Epoch time = <span style=\"color: #008080; text-decoration-color: #008080; font-weight: bold\">93.</span>544s\n",
              "</pre>\n"
            ],
            "text/plain": [
              "Epoch: \u001b[1;36m43\u001b[0m, Train loss: \u001b[1;36m0.018\u001b[0m, Val loss: \u001b[1;36m0.135\u001b[0m, Epoch time = \u001b[1;36m93.\u001b[0m544s\n"
            ]
          },
          "metadata": {
            "tags": []
          }
        },
        {
          "output_type": "display_data",
          "data": {
            "text/html": [
              "<pre style=\"white-space:pre;overflow-x:auto;line-height:normal;font-family:Menlo,'DejaVu Sans Mono',consolas,'Courier New',monospace\">Epoch: <span style=\"color: #008080; text-decoration-color: #008080; font-weight: bold\">44</span>, Train loss: <span style=\"color: #008080; text-decoration-color: #008080; font-weight: bold\">0.018</span>, Val loss: <span style=\"color: #008080; text-decoration-color: #008080; font-weight: bold\">0.129</span>, Epoch time = <span style=\"color: #008080; text-decoration-color: #008080; font-weight: bold\">93.</span>362s\n",
              "</pre>\n"
            ],
            "text/plain": [
              "Epoch: \u001b[1;36m44\u001b[0m, Train loss: \u001b[1;36m0.018\u001b[0m, Val loss: \u001b[1;36m0.129\u001b[0m, Epoch time = \u001b[1;36m93.\u001b[0m362s\n"
            ]
          },
          "metadata": {
            "tags": []
          }
        },
        {
          "output_type": "display_data",
          "data": {
            "text/html": [
              "<pre style=\"white-space:pre;overflow-x:auto;line-height:normal;font-family:Menlo,'DejaVu Sans Mono',consolas,'Courier New',monospace\">Epoch: <span style=\"color: #008080; text-decoration-color: #008080; font-weight: bold\">45</span>, Train loss: <span style=\"color: #008080; text-decoration-color: #008080; font-weight: bold\">0.018</span>, Val loss: <span style=\"color: #008080; text-decoration-color: #008080; font-weight: bold\">0.130</span>, Epoch time = <span style=\"color: #008080; text-decoration-color: #008080; font-weight: bold\">92.</span>943s\n",
              "</pre>\n"
            ],
            "text/plain": [
              "Epoch: \u001b[1;36m45\u001b[0m, Train loss: \u001b[1;36m0.018\u001b[0m, Val loss: \u001b[1;36m0.130\u001b[0m, Epoch time = \u001b[1;36m92.\u001b[0m943s\n"
            ]
          },
          "metadata": {
            "tags": []
          }
        },
        {
          "output_type": "display_data",
          "data": {
            "text/html": [
              "<pre style=\"white-space:pre;overflow-x:auto;line-height:normal;font-family:Menlo,'DejaVu Sans Mono',consolas,'Courier New',monospace\">Epoch: <span style=\"color: #008080; text-decoration-color: #008080; font-weight: bold\">46</span>, Train loss: <span style=\"color: #008080; text-decoration-color: #008080; font-weight: bold\">0.018</span>, Val loss: <span style=\"color: #008080; text-decoration-color: #008080; font-weight: bold\">0.131</span>, Epoch time = <span style=\"color: #008080; text-decoration-color: #008080; font-weight: bold\">93.</span>263s\n",
              "</pre>\n"
            ],
            "text/plain": [
              "Epoch: \u001b[1;36m46\u001b[0m, Train loss: \u001b[1;36m0.018\u001b[0m, Val loss: \u001b[1;36m0.131\u001b[0m, Epoch time = \u001b[1;36m93.\u001b[0m263s\n"
            ]
          },
          "metadata": {
            "tags": []
          }
        },
        {
          "output_type": "display_data",
          "data": {
            "text/html": [
              "<pre style=\"white-space:pre;overflow-x:auto;line-height:normal;font-family:Menlo,'DejaVu Sans Mono',consolas,'Courier New',monospace\">Epoch: <span style=\"color: #008080; text-decoration-color: #008080; font-weight: bold\">47</span>, Train loss: <span style=\"color: #008080; text-decoration-color: #008080; font-weight: bold\">0.018</span>, Val loss: <span style=\"color: #008080; text-decoration-color: #008080; font-weight: bold\">0.133</span>, Epoch time = <span style=\"color: #008080; text-decoration-color: #008080; font-weight: bold\">93.</span>390s\n",
              "</pre>\n"
            ],
            "text/plain": [
              "Epoch: \u001b[1;36m47\u001b[0m, Train loss: \u001b[1;36m0.018\u001b[0m, Val loss: \u001b[1;36m0.133\u001b[0m, Epoch time = \u001b[1;36m93.\u001b[0m390s\n"
            ]
          },
          "metadata": {
            "tags": []
          }
        },
        {
          "output_type": "display_data",
          "data": {
            "text/html": [
              "<pre style=\"white-space:pre;overflow-x:auto;line-height:normal;font-family:Menlo,'DejaVu Sans Mono',consolas,'Courier New',monospace\">Epoch: <span style=\"color: #008080; text-decoration-color: #008080; font-weight: bold\">48</span>, Train loss: <span style=\"color: #008080; text-decoration-color: #008080; font-weight: bold\">0.018</span>, Val loss: <span style=\"color: #008080; text-decoration-color: #008080; font-weight: bold\">0.130</span>, Epoch time = <span style=\"color: #008080; text-decoration-color: #008080; font-weight: bold\">93.</span>820s\n",
              "</pre>\n"
            ],
            "text/plain": [
              "Epoch: \u001b[1;36m48\u001b[0m, Train loss: \u001b[1;36m0.018\u001b[0m, Val loss: \u001b[1;36m0.130\u001b[0m, Epoch time = \u001b[1;36m93.\u001b[0m820s\n"
            ]
          },
          "metadata": {
            "tags": []
          }
        },
        {
          "output_type": "display_data",
          "data": {
            "text/html": [
              "<pre style=\"white-space:pre;overflow-x:auto;line-height:normal;font-family:Menlo,'DejaVu Sans Mono',consolas,'Courier New',monospace\">Epoch: <span style=\"color: #008080; text-decoration-color: #008080; font-weight: bold\">49</span>, Train loss: <span style=\"color: #008080; text-decoration-color: #008080; font-weight: bold\">0.018</span>, Val loss: <span style=\"color: #008080; text-decoration-color: #008080; font-weight: bold\">0.132</span>, Epoch time = <span style=\"color: #008080; text-decoration-color: #008080; font-weight: bold\">93.</span>268s\n",
              "</pre>\n"
            ],
            "text/plain": [
              "Epoch: \u001b[1;36m49\u001b[0m, Train loss: \u001b[1;36m0.018\u001b[0m, Val loss: \u001b[1;36m0.132\u001b[0m, Epoch time = \u001b[1;36m93.\u001b[0m268s\n"
            ]
          },
          "metadata": {
            "tags": []
          }
        },
        {
          "output_type": "display_data",
          "data": {
            "text/html": [
              "<pre style=\"white-space:pre;overflow-x:auto;line-height:normal;font-family:Menlo,'DejaVu Sans Mono',consolas,'Courier New',monospace\">Epoch: <span style=\"color: #008080; text-decoration-color: #008080; font-weight: bold\">50</span>, Train loss: <span style=\"color: #008080; text-decoration-color: #008080; font-weight: bold\">0.018</span>, Val loss: <span style=\"color: #008080; text-decoration-color: #008080; font-weight: bold\">0.131</span>, Epoch time = <span style=\"color: #008080; text-decoration-color: #008080; font-weight: bold\">94.</span>033s\n",
              "</pre>\n"
            ],
            "text/plain": [
              "Epoch: \u001b[1;36m50\u001b[0m, Train loss: \u001b[1;36m0.018\u001b[0m, Val loss: \u001b[1;36m0.131\u001b[0m, Epoch time = \u001b[1;36m94.\u001b[0m033s\n"
            ]
          },
          "metadata": {
            "tags": []
          }
        },
        {
          "output_type": "display_data",
          "data": {
            "text/html": [
              "<pre style=\"white-space:pre;overflow-x:auto;line-height:normal;font-family:Menlo,'DejaVu Sans Mono',consolas,'Courier New',monospace\">Epoch: <span style=\"color: #008080; text-decoration-color: #008080; font-weight: bold\">51</span>, Train loss: <span style=\"color: #008080; text-decoration-color: #008080; font-weight: bold\">0.018</span>, Val loss: <span style=\"color: #008080; text-decoration-color: #008080; font-weight: bold\">0.131</span>, Epoch time = <span style=\"color: #008080; text-decoration-color: #008080; font-weight: bold\">93.</span>206s\n",
              "</pre>\n"
            ],
            "text/plain": [
              "Epoch: \u001b[1;36m51\u001b[0m, Train loss: \u001b[1;36m0.018\u001b[0m, Val loss: \u001b[1;36m0.131\u001b[0m, Epoch time = \u001b[1;36m93.\u001b[0m206s\n"
            ]
          },
          "metadata": {
            "tags": []
          }
        },
        {
          "output_type": "display_data",
          "data": {
            "text/html": [
              "<pre style=\"white-space:pre;overflow-x:auto;line-height:normal;font-family:Menlo,'DejaVu Sans Mono',consolas,'Courier New',monospace\">Epoch: <span style=\"color: #008080; text-decoration-color: #008080; font-weight: bold\">52</span>, Train loss: <span style=\"color: #008080; text-decoration-color: #008080; font-weight: bold\">0.018</span>, Val loss: <span style=\"color: #008080; text-decoration-color: #008080; font-weight: bold\">0.132</span>, Epoch time = <span style=\"color: #008080; text-decoration-color: #008080; font-weight: bold\">94.</span>032s\n",
              "</pre>\n"
            ],
            "text/plain": [
              "Epoch: \u001b[1;36m52\u001b[0m, Train loss: \u001b[1;36m0.018\u001b[0m, Val loss: \u001b[1;36m0.132\u001b[0m, Epoch time = \u001b[1;36m94.\u001b[0m032s\n"
            ]
          },
          "metadata": {
            "tags": []
          }
        },
        {
          "output_type": "display_data",
          "data": {
            "text/html": [
              "<pre style=\"white-space:pre;overflow-x:auto;line-height:normal;font-family:Menlo,'DejaVu Sans Mono',consolas,'Courier New',monospace\">Epoch: <span style=\"color: #008080; text-decoration-color: #008080; font-weight: bold\">53</span>, Train loss: <span style=\"color: #008080; text-decoration-color: #008080; font-weight: bold\">0.017</span>, Val loss: <span style=\"color: #008080; text-decoration-color: #008080; font-weight: bold\">0.135</span>, Epoch time = <span style=\"color: #008080; text-decoration-color: #008080; font-weight: bold\">93.</span>758s\n",
              "</pre>\n"
            ],
            "text/plain": [
              "Epoch: \u001b[1;36m53\u001b[0m, Train loss: \u001b[1;36m0.017\u001b[0m, Val loss: \u001b[1;36m0.135\u001b[0m, Epoch time = \u001b[1;36m93.\u001b[0m758s\n"
            ]
          },
          "metadata": {
            "tags": []
          }
        },
        {
          "output_type": "display_data",
          "data": {
            "text/html": [
              "<pre style=\"white-space:pre;overflow-x:auto;line-height:normal;font-family:Menlo,'DejaVu Sans Mono',consolas,'Courier New',monospace\">Epoch: <span style=\"color: #008080; text-decoration-color: #008080; font-weight: bold\">54</span>, Train loss: <span style=\"color: #008080; text-decoration-color: #008080; font-weight: bold\">0.018</span>, Val loss: <span style=\"color: #008080; text-decoration-color: #008080; font-weight: bold\">0.132</span>, Epoch time = <span style=\"color: #008080; text-decoration-color: #008080; font-weight: bold\">92.</span>853s\n",
              "</pre>\n"
            ],
            "text/plain": [
              "Epoch: \u001b[1;36m54\u001b[0m, Train loss: \u001b[1;36m0.018\u001b[0m, Val loss: \u001b[1;36m0.132\u001b[0m, Epoch time = \u001b[1;36m92.\u001b[0m853s\n"
            ]
          },
          "metadata": {
            "tags": []
          }
        },
        {
          "output_type": "display_data",
          "data": {
            "text/html": [
              "<pre style=\"white-space:pre;overflow-x:auto;line-height:normal;font-family:Menlo,'DejaVu Sans Mono',consolas,'Courier New',monospace\">Epoch: <span style=\"color: #008080; text-decoration-color: #008080; font-weight: bold\">55</span>, Train loss: <span style=\"color: #008080; text-decoration-color: #008080; font-weight: bold\">0.017</span>, Val loss: <span style=\"color: #008080; text-decoration-color: #008080; font-weight: bold\">0.133</span>, Epoch time = <span style=\"color: #008080; text-decoration-color: #008080; font-weight: bold\">93.</span>313s\n",
              "</pre>\n"
            ],
            "text/plain": [
              "Epoch: \u001b[1;36m55\u001b[0m, Train loss: \u001b[1;36m0.017\u001b[0m, Val loss: \u001b[1;36m0.133\u001b[0m, Epoch time = \u001b[1;36m93.\u001b[0m313s\n"
            ]
          },
          "metadata": {
            "tags": []
          }
        },
        {
          "output_type": "display_data",
          "data": {
            "text/html": [
              "<pre style=\"white-space:pre;overflow-x:auto;line-height:normal;font-family:Menlo,'DejaVu Sans Mono',consolas,'Courier New',monospace\">Epoch: <span style=\"color: #008080; text-decoration-color: #008080; font-weight: bold\">56</span>, Train loss: <span style=\"color: #008080; text-decoration-color: #008080; font-weight: bold\">0.017</span>, Val loss: <span style=\"color: #008080; text-decoration-color: #008080; font-weight: bold\">0.133</span>, Epoch time = <span style=\"color: #008080; text-decoration-color: #008080; font-weight: bold\">92.</span>930s\n",
              "</pre>\n"
            ],
            "text/plain": [
              "Epoch: \u001b[1;36m56\u001b[0m, Train loss: \u001b[1;36m0.017\u001b[0m, Val loss: \u001b[1;36m0.133\u001b[0m, Epoch time = \u001b[1;36m92.\u001b[0m930s\n"
            ]
          },
          "metadata": {
            "tags": []
          }
        },
        {
          "output_type": "display_data",
          "data": {
            "text/html": [
              "<pre style=\"white-space:pre;overflow-x:auto;line-height:normal;font-family:Menlo,'DejaVu Sans Mono',consolas,'Courier New',monospace\">Epoch: <span style=\"color: #008080; text-decoration-color: #008080; font-weight: bold\">57</span>, Train loss: <span style=\"color: #008080; text-decoration-color: #008080; font-weight: bold\">0.017</span>, Val loss: <span style=\"color: #008080; text-decoration-color: #008080; font-weight: bold\">0.129</span>, Epoch time = <span style=\"color: #008080; text-decoration-color: #008080; font-weight: bold\">93.</span>883s\n",
              "</pre>\n"
            ],
            "text/plain": [
              "Epoch: \u001b[1;36m57\u001b[0m, Train loss: \u001b[1;36m0.017\u001b[0m, Val loss: \u001b[1;36m0.129\u001b[0m, Epoch time = \u001b[1;36m93.\u001b[0m883s\n"
            ]
          },
          "metadata": {
            "tags": []
          }
        },
        {
          "output_type": "display_data",
          "data": {
            "text/html": [
              "<pre style=\"white-space:pre;overflow-x:auto;line-height:normal;font-family:Menlo,'DejaVu Sans Mono',consolas,'Courier New',monospace\">Epoch: <span style=\"color: #008080; text-decoration-color: #008080; font-weight: bold\">58</span>, Train loss: <span style=\"color: #008080; text-decoration-color: #008080; font-weight: bold\">0.017</span>, Val loss: <span style=\"color: #008080; text-decoration-color: #008080; font-weight: bold\">0.132</span>, Epoch time = <span style=\"color: #008080; text-decoration-color: #008080; font-weight: bold\">94.</span>207s\n",
              "</pre>\n"
            ],
            "text/plain": [
              "Epoch: \u001b[1;36m58\u001b[0m, Train loss: \u001b[1;36m0.017\u001b[0m, Val loss: \u001b[1;36m0.132\u001b[0m, Epoch time = \u001b[1;36m94.\u001b[0m207s\n"
            ]
          },
          "metadata": {
            "tags": []
          }
        },
        {
          "output_type": "display_data",
          "data": {
            "text/html": [
              "<pre style=\"white-space:pre;overflow-x:auto;line-height:normal;font-family:Menlo,'DejaVu Sans Mono',consolas,'Courier New',monospace\">Epoch: <span style=\"color: #008080; text-decoration-color: #008080; font-weight: bold\">59</span>, Train loss: <span style=\"color: #008080; text-decoration-color: #008080; font-weight: bold\">0.017</span>, Val loss: <span style=\"color: #008080; text-decoration-color: #008080; font-weight: bold\">0.133</span>, Epoch time = <span style=\"color: #008080; text-decoration-color: #008080; font-weight: bold\">93.</span>127s\n",
              "</pre>\n"
            ],
            "text/plain": [
              "Epoch: \u001b[1;36m59\u001b[0m, Train loss: \u001b[1;36m0.017\u001b[0m, Val loss: \u001b[1;36m0.133\u001b[0m, Epoch time = \u001b[1;36m93.\u001b[0m127s\n"
            ]
          },
          "metadata": {
            "tags": []
          }
        },
        {
          "output_type": "display_data",
          "data": {
            "text/html": [
              "<pre style=\"white-space:pre;overflow-x:auto;line-height:normal;font-family:Menlo,'DejaVu Sans Mono',consolas,'Courier New',monospace\">Epoch: <span style=\"color: #008080; text-decoration-color: #008080; font-weight: bold\">60</span>, Train loss: <span style=\"color: #008080; text-decoration-color: #008080; font-weight: bold\">0.017</span>, Val loss: <span style=\"color: #008080; text-decoration-color: #008080; font-weight: bold\">0.135</span>, Epoch time = <span style=\"color: #008080; text-decoration-color: #008080; font-weight: bold\">93.</span>425s\n",
              "</pre>\n"
            ],
            "text/plain": [
              "Epoch: \u001b[1;36m60\u001b[0m, Train loss: \u001b[1;36m0.017\u001b[0m, Val loss: \u001b[1;36m0.135\u001b[0m, Epoch time = \u001b[1;36m93.\u001b[0m425s\n"
            ]
          },
          "metadata": {
            "tags": []
          }
        },
        {
          "output_type": "display_data",
          "data": {
            "text/html": [
              "<pre style=\"white-space:pre;overflow-x:auto;line-height:normal;font-family:Menlo,'DejaVu Sans Mono',consolas,'Courier New',monospace\">Epoch: <span style=\"color: #008080; text-decoration-color: #008080; font-weight: bold\">61</span>, Train loss: <span style=\"color: #008080; text-decoration-color: #008080; font-weight: bold\">0.017</span>, Val loss: <span style=\"color: #008080; text-decoration-color: #008080; font-weight: bold\">0.136</span>, Epoch time = <span style=\"color: #008080; text-decoration-color: #008080; font-weight: bold\">93.</span>515s\n",
              "</pre>\n"
            ],
            "text/plain": [
              "Epoch: \u001b[1;36m61\u001b[0m, Train loss: \u001b[1;36m0.017\u001b[0m, Val loss: \u001b[1;36m0.136\u001b[0m, Epoch time = \u001b[1;36m93.\u001b[0m515s\n"
            ]
          },
          "metadata": {
            "tags": []
          }
        },
        {
          "output_type": "display_data",
          "data": {
            "text/html": [
              "<pre style=\"white-space:pre;overflow-x:auto;line-height:normal;font-family:Menlo,'DejaVu Sans Mono',consolas,'Courier New',monospace\">Epoch: <span style=\"color: #008080; text-decoration-color: #008080; font-weight: bold\">62</span>, Train loss: <span style=\"color: #008080; text-decoration-color: #008080; font-weight: bold\">0.017</span>, Val loss: <span style=\"color: #008080; text-decoration-color: #008080; font-weight: bold\">0.137</span>, Epoch time = <span style=\"color: #008080; text-decoration-color: #008080; font-weight: bold\">93.</span>872s\n",
              "</pre>\n"
            ],
            "text/plain": [
              "Epoch: \u001b[1;36m62\u001b[0m, Train loss: \u001b[1;36m0.017\u001b[0m, Val loss: \u001b[1;36m0.137\u001b[0m, Epoch time = \u001b[1;36m93.\u001b[0m872s\n"
            ]
          },
          "metadata": {
            "tags": []
          }
        },
        {
          "output_type": "display_data",
          "data": {
            "text/html": [
              "<pre style=\"white-space:pre;overflow-x:auto;line-height:normal;font-family:Menlo,'DejaVu Sans Mono',consolas,'Courier New',monospace\">Epoch: <span style=\"color: #008080; text-decoration-color: #008080; font-weight: bold\">63</span>, Train loss: <span style=\"color: #008080; text-decoration-color: #008080; font-weight: bold\">0.017</span>, Val loss: <span style=\"color: #008080; text-decoration-color: #008080; font-weight: bold\">0.135</span>, Epoch time = <span style=\"color: #008080; text-decoration-color: #008080; font-weight: bold\">93.</span>972s\n",
              "</pre>\n"
            ],
            "text/plain": [
              "Epoch: \u001b[1;36m63\u001b[0m, Train loss: \u001b[1;36m0.017\u001b[0m, Val loss: \u001b[1;36m0.135\u001b[0m, Epoch time = \u001b[1;36m93.\u001b[0m972s\n"
            ]
          },
          "metadata": {
            "tags": []
          }
        },
        {
          "output_type": "display_data",
          "data": {
            "text/html": [
              "<pre style=\"white-space:pre;overflow-x:auto;line-height:normal;font-family:Menlo,'DejaVu Sans Mono',consolas,'Courier New',monospace\">Epoch: <span style=\"color: #008080; text-decoration-color: #008080; font-weight: bold\">64</span>, Train loss: <span style=\"color: #008080; text-decoration-color: #008080; font-weight: bold\">0.017</span>, Val loss: <span style=\"color: #008080; text-decoration-color: #008080; font-weight: bold\">0.135</span>, Epoch time = <span style=\"color: #008080; text-decoration-color: #008080; font-weight: bold\">93.</span>476s\n",
              "</pre>\n"
            ],
            "text/plain": [
              "Epoch: \u001b[1;36m64\u001b[0m, Train loss: \u001b[1;36m0.017\u001b[0m, Val loss: \u001b[1;36m0.135\u001b[0m, Epoch time = \u001b[1;36m93.\u001b[0m476s\n"
            ]
          },
          "metadata": {
            "tags": []
          }
        },
        {
          "output_type": "display_data",
          "data": {
            "text/html": [
              "<pre style=\"white-space:pre;overflow-x:auto;line-height:normal;font-family:Menlo,'DejaVu Sans Mono',consolas,'Courier New',monospace\">Epoch: <span style=\"color: #008080; text-decoration-color: #008080; font-weight: bold\">65</span>, Train loss: <span style=\"color: #008080; text-decoration-color: #008080; font-weight: bold\">0.017</span>, Val loss: <span style=\"color: #008080; text-decoration-color: #008080; font-weight: bold\">0.132</span>, Epoch time = <span style=\"color: #008080; text-decoration-color: #008080; font-weight: bold\">93.</span>325s\n",
              "</pre>\n"
            ],
            "text/plain": [
              "Epoch: \u001b[1;36m65\u001b[0m, Train loss: \u001b[1;36m0.017\u001b[0m, Val loss: \u001b[1;36m0.132\u001b[0m, Epoch time = \u001b[1;36m93.\u001b[0m325s\n"
            ]
          },
          "metadata": {
            "tags": []
          }
        },
        {
          "output_type": "display_data",
          "data": {
            "text/html": [
              "<pre style=\"white-space:pre;overflow-x:auto;line-height:normal;font-family:Menlo,'DejaVu Sans Mono',consolas,'Courier New',monospace\">Epoch: <span style=\"color: #008080; text-decoration-color: #008080; font-weight: bold\">66</span>, Train loss: <span style=\"color: #008080; text-decoration-color: #008080; font-weight: bold\">0.017</span>, Val loss: <span style=\"color: #008080; text-decoration-color: #008080; font-weight: bold\">0.134</span>, Epoch time = <span style=\"color: #008080; text-decoration-color: #008080; font-weight: bold\">93.</span>185s\n",
              "</pre>\n"
            ],
            "text/plain": [
              "Epoch: \u001b[1;36m66\u001b[0m, Train loss: \u001b[1;36m0.017\u001b[0m, Val loss: \u001b[1;36m0.134\u001b[0m, Epoch time = \u001b[1;36m93.\u001b[0m185s\n"
            ]
          },
          "metadata": {
            "tags": []
          }
        },
        {
          "output_type": "display_data",
          "data": {
            "text/html": [
              "<pre style=\"white-space:pre;overflow-x:auto;line-height:normal;font-family:Menlo,'DejaVu Sans Mono',consolas,'Courier New',monospace\">Epoch: <span style=\"color: #008080; text-decoration-color: #008080; font-weight: bold\">67</span>, Train loss: <span style=\"color: #008080; text-decoration-color: #008080; font-weight: bold\">0.017</span>, Val loss: <span style=\"color: #008080; text-decoration-color: #008080; font-weight: bold\">0.134</span>, Epoch time = <span style=\"color: #008080; text-decoration-color: #008080; font-weight: bold\">93.</span>165s\n",
              "</pre>\n"
            ],
            "text/plain": [
              "Epoch: \u001b[1;36m67\u001b[0m, Train loss: \u001b[1;36m0.017\u001b[0m, Val loss: \u001b[1;36m0.134\u001b[0m, Epoch time = \u001b[1;36m93.\u001b[0m165s\n"
            ]
          },
          "metadata": {
            "tags": []
          }
        },
        {
          "output_type": "display_data",
          "data": {
            "text/html": [
              "<pre style=\"white-space:pre;overflow-x:auto;line-height:normal;font-family:Menlo,'DejaVu Sans Mono',consolas,'Courier New',monospace\">Epoch: <span style=\"color: #008080; text-decoration-color: #008080; font-weight: bold\">68</span>, Train loss: <span style=\"color: #008080; text-decoration-color: #008080; font-weight: bold\">0.016</span>, Val loss: <span style=\"color: #008080; text-decoration-color: #008080; font-weight: bold\">0.134</span>, Epoch time = <span style=\"color: #008080; text-decoration-color: #008080; font-weight: bold\">93.</span>926s\n",
              "</pre>\n"
            ],
            "text/plain": [
              "Epoch: \u001b[1;36m68\u001b[0m, Train loss: \u001b[1;36m0.016\u001b[0m, Val loss: \u001b[1;36m0.134\u001b[0m, Epoch time = \u001b[1;36m93.\u001b[0m926s\n"
            ]
          },
          "metadata": {
            "tags": []
          }
        },
        {
          "output_type": "display_data",
          "data": {
            "text/html": [
              "<pre style=\"white-space:pre;overflow-x:auto;line-height:normal;font-family:Menlo,'DejaVu Sans Mono',consolas,'Courier New',monospace\">Epoch: <span style=\"color: #008080; text-decoration-color: #008080; font-weight: bold\">69</span>, Train loss: <span style=\"color: #008080; text-decoration-color: #008080; font-weight: bold\">0.016</span>, Val loss: <span style=\"color: #008080; text-decoration-color: #008080; font-weight: bold\">0.137</span>, Epoch time = <span style=\"color: #008080; text-decoration-color: #008080; font-weight: bold\">93.</span>686s\n",
              "</pre>\n"
            ],
            "text/plain": [
              "Epoch: \u001b[1;36m69\u001b[0m, Train loss: \u001b[1;36m0.016\u001b[0m, Val loss: \u001b[1;36m0.137\u001b[0m, Epoch time = \u001b[1;36m93.\u001b[0m686s\n"
            ]
          },
          "metadata": {
            "tags": []
          }
        },
        {
          "output_type": "display_data",
          "data": {
            "text/html": [
              "<pre style=\"white-space:pre;overflow-x:auto;line-height:normal;font-family:Menlo,'DejaVu Sans Mono',consolas,'Courier New',monospace\">Epoch: <span style=\"color: #008080; text-decoration-color: #008080; font-weight: bold\">70</span>, Train loss: <span style=\"color: #008080; text-decoration-color: #008080; font-weight: bold\">0.016</span>, Val loss: <span style=\"color: #008080; text-decoration-color: #008080; font-weight: bold\">0.133</span>, Epoch time = <span style=\"color: #008080; text-decoration-color: #008080; font-weight: bold\">92.</span>705s\n",
              "</pre>\n"
            ],
            "text/plain": [
              "Epoch: \u001b[1;36m70\u001b[0m, Train loss: \u001b[1;36m0.016\u001b[0m, Val loss: \u001b[1;36m0.133\u001b[0m, Epoch time = \u001b[1;36m92.\u001b[0m705s\n"
            ]
          },
          "metadata": {
            "tags": []
          }
        },
        {
          "output_type": "display_data",
          "data": {
            "text/html": [
              "<pre style=\"white-space:pre;overflow-x:auto;line-height:normal;font-family:Menlo,'DejaVu Sans Mono',consolas,'Courier New',monospace\">Epoch: <span style=\"color: #008080; text-decoration-color: #008080; font-weight: bold\">71</span>, Train loss: <span style=\"color: #008080; text-decoration-color: #008080; font-weight: bold\">0.016</span>, Val loss: <span style=\"color: #008080; text-decoration-color: #008080; font-weight: bold\">0.135</span>, Epoch time = <span style=\"color: #008080; text-decoration-color: #008080; font-weight: bold\">93.</span>877s\n",
              "</pre>\n"
            ],
            "text/plain": [
              "Epoch: \u001b[1;36m71\u001b[0m, Train loss: \u001b[1;36m0.016\u001b[0m, Val loss: \u001b[1;36m0.135\u001b[0m, Epoch time = \u001b[1;36m93.\u001b[0m877s\n"
            ]
          },
          "metadata": {
            "tags": []
          }
        },
        {
          "output_type": "display_data",
          "data": {
            "text/html": [
              "<pre style=\"white-space:pre;overflow-x:auto;line-height:normal;font-family:Menlo,'DejaVu Sans Mono',consolas,'Courier New',monospace\">Epoch: <span style=\"color: #008080; text-decoration-color: #008080; font-weight: bold\">72</span>, Train loss: <span style=\"color: #008080; text-decoration-color: #008080; font-weight: bold\">0.016</span>, Val loss: <span style=\"color: #008080; text-decoration-color: #008080; font-weight: bold\">0.143</span>, Epoch time = <span style=\"color: #008080; text-decoration-color: #008080; font-weight: bold\">94.</span>121s\n",
              "</pre>\n"
            ],
            "text/plain": [
              "Epoch: \u001b[1;36m72\u001b[0m, Train loss: \u001b[1;36m0.016\u001b[0m, Val loss: \u001b[1;36m0.143\u001b[0m, Epoch time = \u001b[1;36m94.\u001b[0m121s\n"
            ]
          },
          "metadata": {
            "tags": []
          }
        },
        {
          "output_type": "display_data",
          "data": {
            "text/html": [
              "<pre style=\"white-space:pre;overflow-x:auto;line-height:normal;font-family:Menlo,'DejaVu Sans Mono',consolas,'Courier New',monospace\">Epoch: <span style=\"color: #008080; text-decoration-color: #008080; font-weight: bold\">73</span>, Train loss: <span style=\"color: #008080; text-decoration-color: #008080; font-weight: bold\">0.016</span>, Val loss: <span style=\"color: #008080; text-decoration-color: #008080; font-weight: bold\">0.135</span>, Epoch time = <span style=\"color: #008080; text-decoration-color: #008080; font-weight: bold\">93.</span>932s\n",
              "</pre>\n"
            ],
            "text/plain": [
              "Epoch: \u001b[1;36m73\u001b[0m, Train loss: \u001b[1;36m0.016\u001b[0m, Val loss: \u001b[1;36m0.135\u001b[0m, Epoch time = \u001b[1;36m93.\u001b[0m932s\n"
            ]
          },
          "metadata": {
            "tags": []
          }
        },
        {
          "output_type": "display_data",
          "data": {
            "text/html": [
              "<pre style=\"white-space:pre;overflow-x:auto;line-height:normal;font-family:Menlo,'DejaVu Sans Mono',consolas,'Courier New',monospace\">Epoch: <span style=\"color: #008080; text-decoration-color: #008080; font-weight: bold\">74</span>, Train loss: <span style=\"color: #008080; text-decoration-color: #008080; font-weight: bold\">0.016</span>, Val loss: <span style=\"color: #008080; text-decoration-color: #008080; font-weight: bold\">0.136</span>, Epoch time = <span style=\"color: #008080; text-decoration-color: #008080; font-weight: bold\">93.</span>119s\n",
              "</pre>\n"
            ],
            "text/plain": [
              "Epoch: \u001b[1;36m74\u001b[0m, Train loss: \u001b[1;36m0.016\u001b[0m, Val loss: \u001b[1;36m0.136\u001b[0m, Epoch time = \u001b[1;36m93.\u001b[0m119s\n"
            ]
          },
          "metadata": {
            "tags": []
          }
        },
        {
          "output_type": "display_data",
          "data": {
            "text/html": [
              "<pre style=\"white-space:pre;overflow-x:auto;line-height:normal;font-family:Menlo,'DejaVu Sans Mono',consolas,'Courier New',monospace\">Epoch: <span style=\"color: #008080; text-decoration-color: #008080; font-weight: bold\">75</span>, Train loss: <span style=\"color: #008080; text-decoration-color: #008080; font-weight: bold\">0.016</span>, Val loss: <span style=\"color: #008080; text-decoration-color: #008080; font-weight: bold\">0.141</span>, Epoch time = <span style=\"color: #008080; text-decoration-color: #008080; font-weight: bold\">93.</span>629s\n",
              "</pre>\n"
            ],
            "text/plain": [
              "Epoch: \u001b[1;36m75\u001b[0m, Train loss: \u001b[1;36m0.016\u001b[0m, Val loss: \u001b[1;36m0.141\u001b[0m, Epoch time = \u001b[1;36m93.\u001b[0m629s\n"
            ]
          },
          "metadata": {
            "tags": []
          }
        },
        {
          "output_type": "display_data",
          "data": {
            "text/html": [
              "<pre style=\"white-space:pre;overflow-x:auto;line-height:normal;font-family:Menlo,'DejaVu Sans Mono',consolas,'Courier New',monospace\">Epoch: <span style=\"color: #008080; text-decoration-color: #008080; font-weight: bold\">76</span>, Train loss: <span style=\"color: #008080; text-decoration-color: #008080; font-weight: bold\">0.016</span>, Val loss: <span style=\"color: #008080; text-decoration-color: #008080; font-weight: bold\">0.136</span>, Epoch time = <span style=\"color: #008080; text-decoration-color: #008080; font-weight: bold\">93.</span>083s\n",
              "</pre>\n"
            ],
            "text/plain": [
              "Epoch: \u001b[1;36m76\u001b[0m, Train loss: \u001b[1;36m0.016\u001b[0m, Val loss: \u001b[1;36m0.136\u001b[0m, Epoch time = \u001b[1;36m93.\u001b[0m083s\n"
            ]
          },
          "metadata": {
            "tags": []
          }
        },
        {
          "output_type": "display_data",
          "data": {
            "text/html": [
              "<pre style=\"white-space:pre;overflow-x:auto;line-height:normal;font-family:Menlo,'DejaVu Sans Mono',consolas,'Courier New',monospace\">Epoch: <span style=\"color: #008080; text-decoration-color: #008080; font-weight: bold\">77</span>, Train loss: <span style=\"color: #008080; text-decoration-color: #008080; font-weight: bold\">0.016</span>, Val loss: <span style=\"color: #008080; text-decoration-color: #008080; font-weight: bold\">0.139</span>, Epoch time = <span style=\"color: #008080; text-decoration-color: #008080; font-weight: bold\">93.</span>453s\n",
              "</pre>\n"
            ],
            "text/plain": [
              "Epoch: \u001b[1;36m77\u001b[0m, Train loss: \u001b[1;36m0.016\u001b[0m, Val loss: \u001b[1;36m0.139\u001b[0m, Epoch time = \u001b[1;36m93.\u001b[0m453s\n"
            ]
          },
          "metadata": {
            "tags": []
          }
        },
        {
          "output_type": "display_data",
          "data": {
            "text/html": [
              "<pre style=\"white-space:pre;overflow-x:auto;line-height:normal;font-family:Menlo,'DejaVu Sans Mono',consolas,'Courier New',monospace\">Epoch: <span style=\"color: #008080; text-decoration-color: #008080; font-weight: bold\">78</span>, Train loss: <span style=\"color: #008080; text-decoration-color: #008080; font-weight: bold\">0.016</span>, Val loss: <span style=\"color: #008080; text-decoration-color: #008080; font-weight: bold\">0.137</span>, Epoch time = <span style=\"color: #008080; text-decoration-color: #008080; font-weight: bold\">93.</span>686s\n",
              "</pre>\n"
            ],
            "text/plain": [
              "Epoch: \u001b[1;36m78\u001b[0m, Train loss: \u001b[1;36m0.016\u001b[0m, Val loss: \u001b[1;36m0.137\u001b[0m, Epoch time = \u001b[1;36m93.\u001b[0m686s\n"
            ]
          },
          "metadata": {
            "tags": []
          }
        },
        {
          "output_type": "display_data",
          "data": {
            "text/html": [
              "<pre style=\"white-space:pre;overflow-x:auto;line-height:normal;font-family:Menlo,'DejaVu Sans Mono',consolas,'Courier New',monospace\">Epoch: <span style=\"color: #008080; text-decoration-color: #008080; font-weight: bold\">79</span>, Train loss: <span style=\"color: #008080; text-decoration-color: #008080; font-weight: bold\">0.016</span>, Val loss: <span style=\"color: #008080; text-decoration-color: #008080; font-weight: bold\">0.132</span>, Epoch time = <span style=\"color: #008080; text-decoration-color: #008080; font-weight: bold\">93.</span>520s\n",
              "</pre>\n"
            ],
            "text/plain": [
              "Epoch: \u001b[1;36m79\u001b[0m, Train loss: \u001b[1;36m0.016\u001b[0m, Val loss: \u001b[1;36m0.132\u001b[0m, Epoch time = \u001b[1;36m93.\u001b[0m520s\n"
            ]
          },
          "metadata": {
            "tags": []
          }
        },
        {
          "output_type": "display_data",
          "data": {
            "text/html": [
              "<pre style=\"white-space:pre;overflow-x:auto;line-height:normal;font-family:Menlo,'DejaVu Sans Mono',consolas,'Courier New',monospace\">Epoch: <span style=\"color: #008080; text-decoration-color: #008080; font-weight: bold\">80</span>, Train loss: <span style=\"color: #008080; text-decoration-color: #008080; font-weight: bold\">0.015</span>, Val loss: <span style=\"color: #008080; text-decoration-color: #008080; font-weight: bold\">0.137</span>, Epoch time = <span style=\"color: #008080; text-decoration-color: #008080; font-weight: bold\">93.</span>878s\n",
              "</pre>\n"
            ],
            "text/plain": [
              "Epoch: \u001b[1;36m80\u001b[0m, Train loss: \u001b[1;36m0.015\u001b[0m, Val loss: \u001b[1;36m0.137\u001b[0m, Epoch time = \u001b[1;36m93.\u001b[0m878s\n"
            ]
          },
          "metadata": {
            "tags": []
          }
        },
        {
          "output_type": "display_data",
          "data": {
            "text/html": [
              "<pre style=\"white-space:pre;overflow-x:auto;line-height:normal;font-family:Menlo,'DejaVu Sans Mono',consolas,'Courier New',monospace\">Epoch: <span style=\"color: #008080; text-decoration-color: #008080; font-weight: bold\">81</span>, Train loss: <span style=\"color: #008080; text-decoration-color: #008080; font-weight: bold\">0.016</span>, Val loss: <span style=\"color: #008080; text-decoration-color: #008080; font-weight: bold\">0.137</span>, Epoch time = <span style=\"color: #008080; text-decoration-color: #008080; font-weight: bold\">93.</span>164s\n",
              "</pre>\n"
            ],
            "text/plain": [
              "Epoch: \u001b[1;36m81\u001b[0m, Train loss: \u001b[1;36m0.016\u001b[0m, Val loss: \u001b[1;36m0.137\u001b[0m, Epoch time = \u001b[1;36m93.\u001b[0m164s\n"
            ]
          },
          "metadata": {
            "tags": []
          }
        },
        {
          "output_type": "display_data",
          "data": {
            "text/html": [
              "<pre style=\"white-space:pre;overflow-x:auto;line-height:normal;font-family:Menlo,'DejaVu Sans Mono',consolas,'Courier New',monospace\">Epoch: <span style=\"color: #008080; text-decoration-color: #008080; font-weight: bold\">82</span>, Train loss: <span style=\"color: #008080; text-decoration-color: #008080; font-weight: bold\">0.016</span>, Val loss: <span style=\"color: #008080; text-decoration-color: #008080; font-weight: bold\">0.139</span>, Epoch time = <span style=\"color: #008080; text-decoration-color: #008080; font-weight: bold\">93.</span>131s\n",
              "</pre>\n"
            ],
            "text/plain": [
              "Epoch: \u001b[1;36m82\u001b[0m, Train loss: \u001b[1;36m0.016\u001b[0m, Val loss: \u001b[1;36m0.139\u001b[0m, Epoch time = \u001b[1;36m93.\u001b[0m131s\n"
            ]
          },
          "metadata": {
            "tags": []
          }
        },
        {
          "output_type": "display_data",
          "data": {
            "text/html": [
              "<pre style=\"white-space:pre;overflow-x:auto;line-height:normal;font-family:Menlo,'DejaVu Sans Mono',consolas,'Courier New',monospace\">Epoch: <span style=\"color: #008080; text-decoration-color: #008080; font-weight: bold\">83</span>, Train loss: <span style=\"color: #008080; text-decoration-color: #008080; font-weight: bold\">0.016</span>, Val loss: <span style=\"color: #008080; text-decoration-color: #008080; font-weight: bold\">0.133</span>, Epoch time = <span style=\"color: #008080; text-decoration-color: #008080; font-weight: bold\">93.</span>592s\n",
              "</pre>\n"
            ],
            "text/plain": [
              "Epoch: \u001b[1;36m83\u001b[0m, Train loss: \u001b[1;36m0.016\u001b[0m, Val loss: \u001b[1;36m0.133\u001b[0m, Epoch time = \u001b[1;36m93.\u001b[0m592s\n"
            ]
          },
          "metadata": {
            "tags": []
          }
        },
        {
          "output_type": "display_data",
          "data": {
            "text/html": [
              "<pre style=\"white-space:pre;overflow-x:auto;line-height:normal;font-family:Menlo,'DejaVu Sans Mono',consolas,'Courier New',monospace\">Epoch: <span style=\"color: #008080; text-decoration-color: #008080; font-weight: bold\">84</span>, Train loss: <span style=\"color: #008080; text-decoration-color: #008080; font-weight: bold\">0.015</span>, Val loss: <span style=\"color: #008080; text-decoration-color: #008080; font-weight: bold\">0.137</span>, Epoch time = <span style=\"color: #008080; text-decoration-color: #008080; font-weight: bold\">93.</span>349s\n",
              "</pre>\n"
            ],
            "text/plain": [
              "Epoch: \u001b[1;36m84\u001b[0m, Train loss: \u001b[1;36m0.015\u001b[0m, Val loss: \u001b[1;36m0.137\u001b[0m, Epoch time = \u001b[1;36m93.\u001b[0m349s\n"
            ]
          },
          "metadata": {
            "tags": []
          }
        },
        {
          "output_type": "display_data",
          "data": {
            "text/html": [
              "<pre style=\"white-space:pre;overflow-x:auto;line-height:normal;font-family:Menlo,'DejaVu Sans Mono',consolas,'Courier New',monospace\">Epoch: <span style=\"color: #008080; text-decoration-color: #008080; font-weight: bold\">85</span>, Train loss: <span style=\"color: #008080; text-decoration-color: #008080; font-weight: bold\">0.015</span>, Val loss: <span style=\"color: #008080; text-decoration-color: #008080; font-weight: bold\">0.137</span>, Epoch time = <span style=\"color: #008080; text-decoration-color: #008080; font-weight: bold\">93.</span>236s\n",
              "</pre>\n"
            ],
            "text/plain": [
              "Epoch: \u001b[1;36m85\u001b[0m, Train loss: \u001b[1;36m0.015\u001b[0m, Val loss: \u001b[1;36m0.137\u001b[0m, Epoch time = \u001b[1;36m93.\u001b[0m236s\n"
            ]
          },
          "metadata": {
            "tags": []
          }
        },
        {
          "output_type": "display_data",
          "data": {
            "text/html": [
              "<pre style=\"white-space:pre;overflow-x:auto;line-height:normal;font-family:Menlo,'DejaVu Sans Mono',consolas,'Courier New',monospace\">Epoch: <span style=\"color: #008080; text-decoration-color: #008080; font-weight: bold\">86</span>, Train loss: <span style=\"color: #008080; text-decoration-color: #008080; font-weight: bold\">0.015</span>, Val loss: <span style=\"color: #008080; text-decoration-color: #008080; font-weight: bold\">0.136</span>, Epoch time = <span style=\"color: #008080; text-decoration-color: #008080; font-weight: bold\">93.</span>715s\n",
              "</pre>\n"
            ],
            "text/plain": [
              "Epoch: \u001b[1;36m86\u001b[0m, Train loss: \u001b[1;36m0.015\u001b[0m, Val loss: \u001b[1;36m0.136\u001b[0m, Epoch time = \u001b[1;36m93.\u001b[0m715s\n"
            ]
          },
          "metadata": {
            "tags": []
          }
        },
        {
          "output_type": "display_data",
          "data": {
            "text/html": [
              "<pre style=\"white-space:pre;overflow-x:auto;line-height:normal;font-family:Menlo,'DejaVu Sans Mono',consolas,'Courier New',monospace\">Epoch: <span style=\"color: #008080; text-decoration-color: #008080; font-weight: bold\">87</span>, Train loss: <span style=\"color: #008080; text-decoration-color: #008080; font-weight: bold\">0.015</span>, Val loss: <span style=\"color: #008080; text-decoration-color: #008080; font-weight: bold\">0.136</span>, Epoch time = <span style=\"color: #008080; text-decoration-color: #008080; font-weight: bold\">93.</span>280s\n",
              "</pre>\n"
            ],
            "text/plain": [
              "Epoch: \u001b[1;36m87\u001b[0m, Train loss: \u001b[1;36m0.015\u001b[0m, Val loss: \u001b[1;36m0.136\u001b[0m, Epoch time = \u001b[1;36m93.\u001b[0m280s\n"
            ]
          },
          "metadata": {
            "tags": []
          }
        },
        {
          "output_type": "display_data",
          "data": {
            "text/html": [
              "<pre style=\"white-space:pre;overflow-x:auto;line-height:normal;font-family:Menlo,'DejaVu Sans Mono',consolas,'Courier New',monospace\">Epoch: <span style=\"color: #008080; text-decoration-color: #008080; font-weight: bold\">88</span>, Train loss: <span style=\"color: #008080; text-decoration-color: #008080; font-weight: bold\">0.015</span>, Val loss: <span style=\"color: #008080; text-decoration-color: #008080; font-weight: bold\">0.138</span>, Epoch time = <span style=\"color: #008080; text-decoration-color: #008080; font-weight: bold\">93.</span>569s\n",
              "</pre>\n"
            ],
            "text/plain": [
              "Epoch: \u001b[1;36m88\u001b[0m, Train loss: \u001b[1;36m0.015\u001b[0m, Val loss: \u001b[1;36m0.138\u001b[0m, Epoch time = \u001b[1;36m93.\u001b[0m569s\n"
            ]
          },
          "metadata": {
            "tags": []
          }
        },
        {
          "output_type": "display_data",
          "data": {
            "text/html": [
              "<pre style=\"white-space:pre;overflow-x:auto;line-height:normal;font-family:Menlo,'DejaVu Sans Mono',consolas,'Courier New',monospace\">Epoch: <span style=\"color: #008080; text-decoration-color: #008080; font-weight: bold\">89</span>, Train loss: <span style=\"color: #008080; text-decoration-color: #008080; font-weight: bold\">0.015</span>, Val loss: <span style=\"color: #008080; text-decoration-color: #008080; font-weight: bold\">0.138</span>, Epoch time = <span style=\"color: #008080; text-decoration-color: #008080; font-weight: bold\">93.</span>453s\n",
              "</pre>\n"
            ],
            "text/plain": [
              "Epoch: \u001b[1;36m89\u001b[0m, Train loss: \u001b[1;36m0.015\u001b[0m, Val loss: \u001b[1;36m0.138\u001b[0m, Epoch time = \u001b[1;36m93.\u001b[0m453s\n"
            ]
          },
          "metadata": {
            "tags": []
          }
        },
        {
          "output_type": "display_data",
          "data": {
            "text/html": [
              "<pre style=\"white-space:pre;overflow-x:auto;line-height:normal;font-family:Menlo,'DejaVu Sans Mono',consolas,'Courier New',monospace\">Epoch: <span style=\"color: #008080; text-decoration-color: #008080; font-weight: bold\">90</span>, Train loss: <span style=\"color: #008080; text-decoration-color: #008080; font-weight: bold\">0.015</span>, Val loss: <span style=\"color: #008080; text-decoration-color: #008080; font-weight: bold\">0.136</span>, Epoch time = <span style=\"color: #008080; text-decoration-color: #008080; font-weight: bold\">93.</span>444s\n",
              "</pre>\n"
            ],
            "text/plain": [
              "Epoch: \u001b[1;36m90\u001b[0m, Train loss: \u001b[1;36m0.015\u001b[0m, Val loss: \u001b[1;36m0.136\u001b[0m, Epoch time = \u001b[1;36m93.\u001b[0m444s\n"
            ]
          },
          "metadata": {
            "tags": []
          }
        },
        {
          "output_type": "display_data",
          "data": {
            "text/html": [
              "<pre style=\"white-space:pre;overflow-x:auto;line-height:normal;font-family:Menlo,'DejaVu Sans Mono',consolas,'Courier New',monospace\">Epoch: <span style=\"color: #008080; text-decoration-color: #008080; font-weight: bold\">91</span>, Train loss: <span style=\"color: #008080; text-decoration-color: #008080; font-weight: bold\">0.015</span>, Val loss: <span style=\"color: #008080; text-decoration-color: #008080; font-weight: bold\">0.139</span>, Epoch time = <span style=\"color: #008080; text-decoration-color: #008080; font-weight: bold\">93.</span>500s\n",
              "</pre>\n"
            ],
            "text/plain": [
              "Epoch: \u001b[1;36m91\u001b[0m, Train loss: \u001b[1;36m0.015\u001b[0m, Val loss: \u001b[1;36m0.139\u001b[0m, Epoch time = \u001b[1;36m93.\u001b[0m500s\n"
            ]
          },
          "metadata": {
            "tags": []
          }
        },
        {
          "output_type": "display_data",
          "data": {
            "text/html": [
              "<pre style=\"white-space:pre;overflow-x:auto;line-height:normal;font-family:Menlo,'DejaVu Sans Mono',consolas,'Courier New',monospace\">Epoch: <span style=\"color: #008080; text-decoration-color: #008080; font-weight: bold\">92</span>, Train loss: <span style=\"color: #008080; text-decoration-color: #008080; font-weight: bold\">0.015</span>, Val loss: <span style=\"color: #008080; text-decoration-color: #008080; font-weight: bold\">0.138</span>, Epoch time = <span style=\"color: #008080; text-decoration-color: #008080; font-weight: bold\">94.</span>179s\n",
              "</pre>\n"
            ],
            "text/plain": [
              "Epoch: \u001b[1;36m92\u001b[0m, Train loss: \u001b[1;36m0.015\u001b[0m, Val loss: \u001b[1;36m0.138\u001b[0m, Epoch time = \u001b[1;36m94.\u001b[0m179s\n"
            ]
          },
          "metadata": {
            "tags": []
          }
        },
        {
          "output_type": "display_data",
          "data": {
            "text/html": [
              "<pre style=\"white-space:pre;overflow-x:auto;line-height:normal;font-family:Menlo,'DejaVu Sans Mono',consolas,'Courier New',monospace\">Epoch: <span style=\"color: #008080; text-decoration-color: #008080; font-weight: bold\">93</span>, Train loss: <span style=\"color: #008080; text-decoration-color: #008080; font-weight: bold\">0.015</span>, Val loss: <span style=\"color: #008080; text-decoration-color: #008080; font-weight: bold\">0.137</span>, Epoch time = <span style=\"color: #008080; text-decoration-color: #008080; font-weight: bold\">93.</span>331s\n",
              "</pre>\n"
            ],
            "text/plain": [
              "Epoch: \u001b[1;36m93\u001b[0m, Train loss: \u001b[1;36m0.015\u001b[0m, Val loss: \u001b[1;36m0.137\u001b[0m, Epoch time = \u001b[1;36m93.\u001b[0m331s\n"
            ]
          },
          "metadata": {
            "tags": []
          }
        },
        {
          "output_type": "display_data",
          "data": {
            "text/html": [
              "<pre style=\"white-space:pre;overflow-x:auto;line-height:normal;font-family:Menlo,'DejaVu Sans Mono',consolas,'Courier New',monospace\">Epoch: <span style=\"color: #008080; text-decoration-color: #008080; font-weight: bold\">94</span>, Train loss: <span style=\"color: #008080; text-decoration-color: #008080; font-weight: bold\">0.015</span>, Val loss: <span style=\"color: #008080; text-decoration-color: #008080; font-weight: bold\">0.138</span>, Epoch time = <span style=\"color: #008080; text-decoration-color: #008080; font-weight: bold\">92.</span>708s\n",
              "</pre>\n"
            ],
            "text/plain": [
              "Epoch: \u001b[1;36m94\u001b[0m, Train loss: \u001b[1;36m0.015\u001b[0m, Val loss: \u001b[1;36m0.138\u001b[0m, Epoch time = \u001b[1;36m92.\u001b[0m708s\n"
            ]
          },
          "metadata": {
            "tags": []
          }
        },
        {
          "output_type": "display_data",
          "data": {
            "text/html": [
              "<pre style=\"white-space:pre;overflow-x:auto;line-height:normal;font-family:Menlo,'DejaVu Sans Mono',consolas,'Courier New',monospace\">Epoch: <span style=\"color: #008080; text-decoration-color: #008080; font-weight: bold\">95</span>, Train loss: <span style=\"color: #008080; text-decoration-color: #008080; font-weight: bold\">0.015</span>, Val loss: <span style=\"color: #008080; text-decoration-color: #008080; font-weight: bold\">0.139</span>, Epoch time = <span style=\"color: #008080; text-decoration-color: #008080; font-weight: bold\">93.</span>967s\n",
              "</pre>\n"
            ],
            "text/plain": [
              "Epoch: \u001b[1;36m95\u001b[0m, Train loss: \u001b[1;36m0.015\u001b[0m, Val loss: \u001b[1;36m0.139\u001b[0m, Epoch time = \u001b[1;36m93.\u001b[0m967s\n"
            ]
          },
          "metadata": {
            "tags": []
          }
        },
        {
          "output_type": "display_data",
          "data": {
            "text/html": [
              "<pre style=\"white-space:pre;overflow-x:auto;line-height:normal;font-family:Menlo,'DejaVu Sans Mono',consolas,'Courier New',monospace\">Epoch: <span style=\"color: #008080; text-decoration-color: #008080; font-weight: bold\">96</span>, Train loss: <span style=\"color: #008080; text-decoration-color: #008080; font-weight: bold\">0.015</span>, Val loss: <span style=\"color: #008080; text-decoration-color: #008080; font-weight: bold\">0.139</span>, Epoch time = <span style=\"color: #008080; text-decoration-color: #008080; font-weight: bold\">93.</span>961s\n",
              "</pre>\n"
            ],
            "text/plain": [
              "Epoch: \u001b[1;36m96\u001b[0m, Train loss: \u001b[1;36m0.015\u001b[0m, Val loss: \u001b[1;36m0.139\u001b[0m, Epoch time = \u001b[1;36m93.\u001b[0m961s\n"
            ]
          },
          "metadata": {
            "tags": []
          }
        },
        {
          "output_type": "display_data",
          "data": {
            "text/html": [
              "<pre style=\"white-space:pre;overflow-x:auto;line-height:normal;font-family:Menlo,'DejaVu Sans Mono',consolas,'Courier New',monospace\">Epoch: <span style=\"color: #008080; text-decoration-color: #008080; font-weight: bold\">97</span>, Train loss: <span style=\"color: #008080; text-decoration-color: #008080; font-weight: bold\">0.015</span>, Val loss: <span style=\"color: #008080; text-decoration-color: #008080; font-weight: bold\">0.138</span>, Epoch time = <span style=\"color: #008080; text-decoration-color: #008080; font-weight: bold\">93.</span>346s\n",
              "</pre>\n"
            ],
            "text/plain": [
              "Epoch: \u001b[1;36m97\u001b[0m, Train loss: \u001b[1;36m0.015\u001b[0m, Val loss: \u001b[1;36m0.138\u001b[0m, Epoch time = \u001b[1;36m93.\u001b[0m346s\n"
            ]
          },
          "metadata": {
            "tags": []
          }
        },
        {
          "output_type": "display_data",
          "data": {
            "text/html": [
              "<pre style=\"white-space:pre;overflow-x:auto;line-height:normal;font-family:Menlo,'DejaVu Sans Mono',consolas,'Courier New',monospace\">Epoch: <span style=\"color: #008080; text-decoration-color: #008080; font-weight: bold\">98</span>, Train loss: <span style=\"color: #008080; text-decoration-color: #008080; font-weight: bold\">0.015</span>, Val loss: <span style=\"color: #008080; text-decoration-color: #008080; font-weight: bold\">0.140</span>, Epoch time = <span style=\"color: #008080; text-decoration-color: #008080; font-weight: bold\">93.</span>261s\n",
              "</pre>\n"
            ],
            "text/plain": [
              "Epoch: \u001b[1;36m98\u001b[0m, Train loss: \u001b[1;36m0.015\u001b[0m, Val loss: \u001b[1;36m0.140\u001b[0m, Epoch time = \u001b[1;36m93.\u001b[0m261s\n"
            ]
          },
          "metadata": {
            "tags": []
          }
        },
        {
          "output_type": "display_data",
          "data": {
            "text/html": [
              "<pre style=\"white-space:pre;overflow-x:auto;line-height:normal;font-family:Menlo,'DejaVu Sans Mono',consolas,'Courier New',monospace\">Epoch: <span style=\"color: #008080; text-decoration-color: #008080; font-weight: bold\">99</span>, Train loss: <span style=\"color: #008080; text-decoration-color: #008080; font-weight: bold\">0.015</span>, Val loss: <span style=\"color: #008080; text-decoration-color: #008080; font-weight: bold\">0.141</span>, Epoch time = <span style=\"color: #008080; text-decoration-color: #008080; font-weight: bold\">93.</span>447s\n",
              "</pre>\n"
            ],
            "text/plain": [
              "Epoch: \u001b[1;36m99\u001b[0m, Train loss: \u001b[1;36m0.015\u001b[0m, Val loss: \u001b[1;36m0.141\u001b[0m, Epoch time = \u001b[1;36m93.\u001b[0m447s\n"
            ]
          },
          "metadata": {
            "tags": []
          }
        },
        {
          "output_type": "display_data",
          "data": {
            "text/html": [
              "<pre style=\"white-space:pre;overflow-x:auto;line-height:normal;font-family:Menlo,'DejaVu Sans Mono',consolas,'Courier New',monospace\">true\n",
              "</pre>\n"
            ],
            "text/plain": [
              "true\n"
            ]
          },
          "metadata": {
            "tags": []
          }
        },
        {
          "output_type": "display_data",
          "data": {
            "text/html": [
              "<pre style=\"white-space:pre;overflow-x:auto;line-height:normal;font-family:Menlo,'DejaVu Sans Mono',consolas,'Courier New',monospace\">=&gt; Saving checkpoint\n",
              "</pre>\n"
            ],
            "text/plain": [
              "=> Saving checkpoint\n"
            ]
          },
          "metadata": {
            "tags": []
          }
        },
        {
          "output_type": "display_data",
          "data": {
            "text/html": [
              "<pre style=\"white-space:pre;overflow-x:auto;line-height:normal;font-family:Menlo,'DejaVu Sans Mono',consolas,'Courier New',monospace\">Epoch: <span style=\"color: #008080; text-decoration-color: #008080; font-weight: bold\">100</span>, Train loss: <span style=\"color: #008080; text-decoration-color: #008080; font-weight: bold\">0.014</span>, Val loss: <span style=\"color: #008080; text-decoration-color: #008080; font-weight: bold\">0.137</span>, Epoch time = <span style=\"color: #008080; text-decoration-color: #008080; font-weight: bold\">93.</span>691s\n",
              "</pre>\n"
            ],
            "text/plain": [
              "Epoch: \u001b[1;36m100\u001b[0m, Train loss: \u001b[1;36m0.014\u001b[0m, Val loss: \u001b[1;36m0.137\u001b[0m, Epoch time = \u001b[1;36m93.\u001b[0m691s\n"
            ]
          },
          "metadata": {
            "tags": []
          }
        },
        {
          "output_type": "display_data",
          "data": {
            "text/html": [
              "<pre style=\"white-space:pre;overflow-x:auto;line-height:normal;font-family:Menlo,'DejaVu Sans Mono',consolas,'Courier New',monospace\">Done!\n",
              "</pre>\n"
            ],
            "text/plain": [
              "Done!\n"
            ]
          },
          "metadata": {
            "tags": []
          }
        }
      ]
    },
    {
      "cell_type": "markdown",
      "metadata": {
        "id": "_G6RxBQKZECv"
      },
      "source": [
        "#Plot graph"
      ],
      "id": "_G6RxBQKZECv"
    },
    {
      "cell_type": "code",
      "metadata": {
        "colab": {
          "base_uri": "https://localhost:8080/",
          "height": 350
        },
        "id": "OgMZrMbwP_VO",
        "outputId": "2fae3519-db0a-490e-eec7-724b2a1c1a6c"
      },
      "source": [
        "#https://machinelearningmastery.com/display-deep-learning-model-training-history-in-keras/\n",
        "import numpy as np\n",
        "#https://pytorch.org/tutorials/beginner/fgsm_tutorial.html\n",
        "plt.figure(figsize=(5,5))\n",
        "plt.plot(train_loss_ex)\n",
        "plt.plot(val_loss_ex)\n",
        "#plt.yticks(np.arange(0.2, 1.5, step=0.1))\n",
        "#plt.xticks(np.arange(1, 15, step=1))\n",
        "plt.title(\"model loss\")\n",
        "plt.xlabel(\"Epoch\")\n",
        "plt.ylabel(\"Loss\")\n",
        "plt.legend(['train', 'val'], loc='upper left')\n",
        "plt.show()"
      ],
      "id": "OgMZrMbwP_VO",
      "execution_count": null,
      "outputs": [
        {
          "output_type": "display_data",
          "data": {
            "image/png": "[encoded data removed]",
            "text/plain": [
              "<Figure size 360x360 with 1 Axes>"
            ]
          },
          "metadata": {
            "tags": [],
            "needs_background": "light"
          }
        }
      ]
    },
    {
      "cell_type": "markdown",
      "metadata": {
        "id": "BR18XFXdTnG5"
      },
      "source": [
        "# Save model"
      ],
      "id": "BR18XFXdTnG5"
    },
    {
      "cell_type": "code",
      "metadata": {
        "id": "G6LO44AGTiGC"
      },
      "source": [
        "#https://pytorch.org/tutorials/beginner/basics/saveloadrun_tutorial.html"
      ],
      "id": "G6LO44AGTiGC",
      "execution_count": null,
      "outputs": []
    },
    {
      "cell_type": "code",
      "metadata": {
        "id": "Dp04s1QPSggC"
      },
      "source": [
        "save_name=\"model_tranformer_epochs_\"+str(NUM_EPOCHS)+\".pth\"\n",
        "torch.save(transformer,save_name)"
      ],
      "id": "Dp04s1QPSggC",
      "execution_count": null,
      "outputs": []
    },
    {
      "cell_type": "code",
      "metadata": {
        "colab": {
          "base_uri": "https://localhost:8080/",
          "height": 17
        },
        "id": "G727aVpIfFNd",
        "outputId": "716ae36e-4f9c-42b9-a650-c34609067585"
      },
      "source": [
        "from google.colab import files\n",
        "files.download(save_name)"
      ],
      "id": "G727aVpIfFNd",
      "execution_count": null,
      "outputs": [
        {
          "output_type": "display_data",
          "data": {
            "application/javascript": [
              "\n",
              "    async function download(id, filename, size) {\n",
              "      if (!google.colab.kernel.accessAllowed) {\n",
              "        return;\n",
              "      }\n",
              "      const div = document.createElement('div');\n",
              "      const label = document.createElement('label');\n",
              "      label.textContent = `Downloading \"${filename}\": `;\n",
              "      div.appendChild(label);\n",
              "      const progress = document.createElement('progress');\n",
              "      progress.max = size;\n",
              "      div.appendChild(progress);\n",
              "      document.body.appendChild(div);\n",
              "\n",
              "      const buffers = [];\n",
              "      let downloaded = 0;\n",
              "\n",
              "      const channel = await google.colab.kernel.comms.open(id);\n",
              "      // Send a message to notify the kernel that we're ready.\n",
              "      channel.send({})\n",
              "\n",
              "      for await (const message of channel.messages) {\n",
              "        // Send a message to notify the kernel that we're ready.\n",
              "        channel.send({})\n",
              "        if (message.buffers) {\n",
              "          for (const buffer of message.buffers) {\n",
              "            buffers.push(buffer);\n",
              "            downloaded += buffer.byteLength;\n",
              "            progress.value = downloaded;\n",
              "          }\n",
              "        }\n",
              "      }\n",
              "      const blob = new Blob(buffers, {type: 'application/binary'});\n",
              "      const a = document.createElement('a');\n",
              "      a.href = window.URL.createObjectURL(blob);\n",
              "      a.download = filename;\n",
              "      div.appendChild(a);\n",
              "      a.click();\n",
              "      div.remove();\n",
              "    }\n",
              "  "
            ],
            "text/plain": [
              "<IPython.core.display.Javascript object>"
            ]
          },
          "metadata": {
            "tags": []
          }
        },
        {
          "output_type": "display_data",
          "data": {
            "application/javascript": [
              "download(\"download_53dd1d86-b3d1-483f-8892-105448f6c217\", \"model_tranformer_epochs_200.pth\", 61044038)"
            ],
            "text/plain": [
              "<IPython.core.display.Javascript object>"
            ]
          },
          "metadata": {
            "tags": []
          }
        }
      ]
    },
    {
      "cell_type": "markdown",
      "metadata": {
        "id": "CG4a4hNDDzie"
      },
      "source": [
        "save file .pt"
      ],
      "id": "CG4a4hNDDzie"
    },
    {
      "cell_type": "code",
      "metadata": {
        "id": "LAInYkolDgXE"
      },
      "source": [
        "save_name_pt=\"model_tranformer_epochs_\"+str(NUM_EPOCHS)+\".pt\"\n",
        "torch.save(transformer,save_name_pt)"
      ],
      "id": "LAInYkolDgXE",
      "execution_count": null,
      "outputs": []
    },
    {
      "cell_type": "code",
      "metadata": {
        "colab": {
          "base_uri": "https://localhost:8080/",
          "height": 17
        },
        "id": "Wn2T5UBGDkBe",
        "outputId": "7cd49be8-cbc4-49ed-bf3b-647f1c625ca1"
      },
      "source": [
        "files.download(save_name_pt)"
      ],
      "id": "Wn2T5UBGDkBe",
      "execution_count": null,
      "outputs": [
        {
          "output_type": "display_data",
          "data": {
            "application/javascript": [
              "\n",
              "    async function download(id, filename, size) {\n",
              "      if (!google.colab.kernel.accessAllowed) {\n",
              "        return;\n",
              "      }\n",
              "      const div = document.createElement('div');\n",
              "      const label = document.createElement('label');\n",
              "      label.textContent = `Downloading \"${filename}\": `;\n",
              "      div.appendChild(label);\n",
              "      const progress = document.createElement('progress');\n",
              "      progress.max = size;\n",
              "      div.appendChild(progress);\n",
              "      document.body.appendChild(div);\n",
              "\n",
              "      const buffers = [];\n",
              "      let downloaded = 0;\n",
              "\n",
              "      const channel = await google.colab.kernel.comms.open(id);\n",
              "      // Send a message to notify the kernel that we're ready.\n",
              "      channel.send({})\n",
              "\n",
              "      for await (const message of channel.messages) {\n",
              "        // Send a message to notify the kernel that we're ready.\n",
              "        channel.send({})\n",
              "        if (message.buffers) {\n",
              "          for (const buffer of message.buffers) {\n",
              "            buffers.push(buffer);\n",
              "            downloaded += buffer.byteLength;\n",
              "            progress.value = downloaded;\n",
              "          }\n",
              "        }\n",
              "      }\n",
              "      const blob = new Blob(buffers, {type: 'application/binary'});\n",
              "      const a = document.createElement('a');\n",
              "      a.href = window.URL.createObjectURL(blob);\n",
              "      a.download = filename;\n",
              "      div.appendChild(a);\n",
              "      a.click();\n",
              "      div.remove();\n",
              "    }\n",
              "  "
            ],
            "text/plain": [
              "<IPython.core.display.Javascript object>"
            ]
          },
          "metadata": {
            "tags": []
          }
        },
        {
          "output_type": "display_data",
          "data": {
            "application/javascript": [
              "download(\"download_bdbe6780-ddfb-4f0b-ad18-dd0eb69e24c9\", \"model_tranformer_epochs_500.pt\", 61044038)"
            ],
            "text/plain": [
              "<IPython.core.display.Javascript object>"
            ]
          },
          "metadata": {
            "tags": []
          }
        }
      ]
    },
    {
      "cell_type": "markdown",
      "metadata": {
        "id": "oo_0B6raTtaI"
      },
      "source": [
        "# Load model"
      ],
      "id": "oo_0B6raTtaI"
    },
    {
      "cell_type": "code",
      "metadata": {
        "id": "tyaO_Dw7ThW9"
      },
      "source": [
        "model = torch.load('/content/gdrive/MyDrive/Colab Notebooks/code transformer/model/model/model_tranformer_epochs_500.pth')"
      ],
      "id": "tyaO_Dw7ThW9",
      "execution_count": 30,
      "outputs": []
    },
    {
      "cell_type": "markdown",
      "metadata": {
        "id": "nhokmIYyT81V"
      },
      "source": [
        "#Translation"
      ],
      "id": "nhokmIYyT81V"
    },
    {
      "cell_type": "code",
      "metadata": {
        "id": "molecular-newton"
      },
      "source": [
        "import pandas as pd\n",
        "import numpy as np"
      ],
      "id": "molecular-newton",
      "execution_count": 23,
      "outputs": []
    },
    {
      "cell_type": "code",
      "metadata": {
        "id": "supreme-sword",
        "colab": {
          "base_uri": "https://localhost:8080/",
          "height": 419
        },
        "outputId": "0a39bd28-ba65-4a4b-b513-6bfd67f952b0"
      },
      "source": [
        "df_src=pd.read_csv(src_filepath,names=[\"input\"])\n",
        "df_tgt=pd.read_csv(tgt_filepath,names=[\"target\"])\n",
        "df = pd.concat([df_src,df_tgt], axis=1)\n",
        "df"
      ],
      "id": "supreme-sword",
      "execution_count": 24,
      "outputs": [
        {
          "output_type": "execute_result",
          "data": {
            "text/html": [
              "<div>\n",
              "<style scoped>\n",
              "    .dataframe tbody tr th:only-of-type {\n",
              "        vertical-align: middle;\n",
              "    }\n",
              "\n",
              "    .dataframe tbody tr th {\n",
              "        vertical-align: top;\n",
              "    }\n",
              "\n",
              "    .dataframe thead th {\n",
              "        text-align: right;\n",
              "    }\n",
              "</style>\n",
              "<table border=\"1\" class=\"dataframe\">\n",
              "  <thead>\n",
              "    <tr style=\"text-align: right;\">\n",
              "      <th></th>\n",
              "      <th>input</th>\n",
              "      <th>target</th>\n",
              "    </tr>\n",
              "  </thead>\n",
              "  <tbody>\n",
              "    <tr>\n",
              "      <th>0</th>\n",
              "      <td>&lt;RX_1&gt; O = C 1 C C [ C @ H ] ( C N 2 C C N ( C...</td>\n",
              "      <td>C S ( = O ) ( = O ) O C [ C @ H ] 1 C C C ( = ...</td>\n",
              "    </tr>\n",
              "    <tr>\n",
              "      <th>1</th>\n",
              "      <td>&lt;RX_6&gt; N c 1 n c 2 [ n H ] c ( C C C c 3 c s c...</td>\n",
              "      <td>C O C ( = O ) c 1 c c ( C C C c 2 c c 3 c ( = ...</td>\n",
              "    </tr>\n",
              "    <tr>\n",
              "      <th>2</th>\n",
              "      <td>&lt;RX_9&gt; C C 1 ( C ) O B ( c 2 c c c c ( N c 3 n...</td>\n",
              "      <td>C C 1 ( C ) O B ( B 2 O C ( C ) ( C ) C ( C ) ...</td>\n",
              "    </tr>\n",
              "    <tr>\n",
              "      <th>3</th>\n",
              "      <td>&lt;RX_6&gt; C C ( C ) ( C ) O C ( = O ) N C C ( = O...</td>\n",
              "      <td>C C ( C ) ( C ) O C ( = O ) N C C ( = O ) C C ...</td>\n",
              "    </tr>\n",
              "    <tr>\n",
              "      <th>4</th>\n",
              "      <td>&lt;RX_1&gt; F c 1 c c 2 c ( N C 3 C C C C C C 3 ) n...</td>\n",
              "      <td>F c 1 c c 2 c ( C l ) n c n c 2 c n 1 . N C 1 ...</td>\n",
              "    </tr>\n",
              "    <tr>\n",
              "      <th>...</th>\n",
              "      <td>...</td>\n",
              "      <td>...</td>\n",
              "    </tr>\n",
              "    <tr>\n",
              "      <th>50032</th>\n",
              "      <td>&lt;RX_1&gt; C C ( C ) ( C ) O C ( = O ) N 1 C C c 2...</td>\n",
              "      <td>C C ( C ) ( C ) O C ( = O ) N 1 C C c 2 c c c ...</td>\n",
              "    </tr>\n",
              "    <tr>\n",
              "      <th>50033</th>\n",
              "      <td>&lt;RX_2&gt; C C ( = O ) O C C N C ( = O ) O C ( C )...</td>\n",
              "      <td>C C ( = O ) C l . C C ( C ) ( C ) O C ( = O ) ...</td>\n",
              "    </tr>\n",
              "    <tr>\n",
              "      <th>50034</th>\n",
              "      <td>&lt;RX_3&gt; C c 1 c c c ( - c 2 c c n c c 2 ) c c 1...</td>\n",
              "      <td>C c 1 c c c ( B r ) c c 1 C = O . O B ( O ) c ...</td>\n",
              "    </tr>\n",
              "    <tr>\n",
              "      <th>50035</th>\n",
              "      <td>&lt;RX_1&gt; C C ( C ) ( C ) O C 1 C [ C @ @ H ] 2 C...</td>\n",
              "      <td>C C ( C ) ( C ) O . O = C C 1 = C [ C @ H ] 2 ...</td>\n",
              "    </tr>\n",
              "    <tr>\n",
              "      <th>50036</th>\n",
              "      <td>&lt;RX_4&gt; F c 1 c c ( B r ) c c 2 [ n H ] c n c 1 2</td>\n",
              "      <td>N c 1 c c ( B r ) c c ( F ) c 1 N . O = C O</td>\n",
              "    </tr>\n",
              "  </tbody>\n",
              "</table>\n",
              "<p>50037 rows × 2 columns</p>\n",
              "</div>"
            ],
            "text/plain": [
              "                                                   input                                             target\n",
              "0      <RX_1> O = C 1 C C [ C @ H ] ( C N 2 C C N ( C...  C S ( = O ) ( = O ) O C [ C @ H ] 1 C C C ( = ...\n",
              "1      <RX_6> N c 1 n c 2 [ n H ] c ( C C C c 3 c s c...  C O C ( = O ) c 1 c c ( C C C c 2 c c 3 c ( = ...\n",
              "2      <RX_9> C C 1 ( C ) O B ( c 2 c c c c ( N c 3 n...  C C 1 ( C ) O B ( B 2 O C ( C ) ( C ) C ( C ) ...\n",
              "3      <RX_6> C C ( C ) ( C ) O C ( = O ) N C C ( = O...  C C ( C ) ( C ) O C ( = O ) N C C ( = O ) C C ...\n",
              "4      <RX_1> F c 1 c c 2 c ( N C 3 C C C C C C 3 ) n...  F c 1 c c 2 c ( C l ) n c n c 2 c n 1 . N C 1 ...\n",
              "...                                                  ...                                                ...\n",
              "50032  <RX_1> C C ( C ) ( C ) O C ( = O ) N 1 C C c 2...  C C ( C ) ( C ) O C ( = O ) N 1 C C c 2 c c c ...\n",
              "50033  <RX_2> C C ( = O ) O C C N C ( = O ) O C ( C )...  C C ( = O ) C l . C C ( C ) ( C ) O C ( = O ) ...\n",
              "50034  <RX_3> C c 1 c c c ( - c 2 c c n c c 2 ) c c 1...  C c 1 c c c ( B r ) c c 1 C = O . O B ( O ) c ...\n",
              "50035  <RX_1> C C ( C ) ( C ) O C 1 C [ C @ @ H ] 2 C...  C C ( C ) ( C ) O . O = C C 1 = C [ C @ H ] 2 ...\n",
              "50036   <RX_4> F c 1 c c ( B r ) c c 2 [ n H ] c n c 1 2        N c 1 c c ( B r ) c c ( F ) c 1 N . O = C O\n",
              "\n",
              "[50037 rows x 2 columns]"
            ]
          },
          "metadata": {
            "tags": []
          },
          "execution_count": 24
        }
      ]
    },
    {
      "cell_type": "code",
      "metadata": {
        "id": "Mx6FphMOK0ZK"
      },
      "source": [
        "def greedy_decode(model, src, src_mask, max_len, start_symbol):\n",
        "    src = src.to(device)\n",
        "    src_mask = src_mask.to(device)\n",
        "\n",
        "    memory = model.encode(src, src_mask)\n",
        "    ys = torch.ones(1, 1).fill_(start_symbol).type(torch.long).to(device)\n",
        "    for i in range(max_len-1):\n",
        "        memory = memory.to(device)\n",
        "        memory_mask = torch.zeros(ys.shape[0], memory.shape[0]).to(device).type(torch.bool)\n",
        "        tgt_mask = (generate_square_subsequent_mask(ys.size(0))\n",
        "                                    .type(torch.bool)).to(device)\n",
        "        out = model.decode(ys, memory, tgt_mask)\n",
        "        out = out.transpose(0, 1)\n",
        "        prob = model.generator(out[:, -1])\n",
        "        _, next_word = torch.max(prob, dim = 1)\n",
        "        next_word = next_word.item()\n",
        "\n",
        "        ys = torch.cat([ys,\n",
        "                        torch.ones(1, 1).type_as(src.data).fill_(next_word)], dim=0)\n",
        "        if next_word == EOS_IDX:\n",
        "          break\n",
        "    return ys\n",
        "\n",
        "\n",
        "def translate(model, src, src_vocab, tgt_vocab, src_tokenizer):\n",
        "  model.eval()\n",
        "  tokens = [BOS_IDX] + [src_vocab.stoi[tok] for tok in src_tokenizer(src)]+ [EOS_IDX]\n",
        "  num_tokens = len(tokens)\n",
        "  src = (torch.LongTensor(tokens).reshape(num_tokens, 1) )\n",
        "  src_mask = (torch.zeros(num_tokens, num_tokens)).type(torch.bool)\n",
        "  tgt_tokens = greedy_decode(model,  src, src_mask, max_len=num_tokens + 5, start_symbol=BOS_IDX).flatten()\n",
        "  #print(\"Product:\"+ \" \"+df.input[i])\n",
        "  #print(\"Reaction Real:\"+\" \"+df.target[i])\n",
        "  #return print(\"prediction:\"+\" \".join([tgt_vocab.itos[tok] for tok in tgt_tokens]).replace(\"<bos>\", \"\").replace(\"<eos>\", \"\"))\n",
        "  return \" \".join([tgt_vocab.itos[tok] for tok in tgt_tokens]).replace(\"<bos>\", \"\").replace(\"<eos>\", \"\")"
      ],
      "id": "Mx6FphMOK0ZK",
      "execution_count": 42,
      "outputs": []
    },
    {
      "cell_type": "code",
      "metadata": {
        "id": "yJbYgmqRaGYz"
      },
      "source": [
        "#epochs 200"
      ],
      "id": "yJbYgmqRaGYz",
      "execution_count": null,
      "outputs": []
    },
    {
      "cell_type": "code",
      "metadata": {
        "colab": {
          "base_uri": "https://localhost:8080/",
          "height": 187
        },
        "id": "79hdw1aEMr1C",
        "outputId": "fdf60442-48fb-49e1-d59c-bade3930bc3b"
      },
      "source": [
        "for i in range(50000,50010):\n",
        "  translate(transformer, df.input[i], src_vocab, tgt_vocab, tokenizer)\n",
        "  print(\"    \")"
      ],
      "id": "79hdw1aEMr1C",
      "execution_count": 46,
      "outputs": [
        {
          "output_type": "display_data",
          "data": {
            "text/html": [
              "<pre style=\"white-space:pre;overflow-x:auto;line-height:normal;font-family:Menlo,'DejaVu Sans Mono',consolas,'Courier New',monospace\">    \n",
              "</pre>\n"
            ],
            "text/plain": [
              "    \n"
            ]
          },
          "metadata": {
            "tags": []
          }
        },
        {
          "output_type": "display_data",
          "data": {
            "text/html": [
              "<pre style=\"white-space:pre;overflow-x:auto;line-height:normal;font-family:Menlo,'DejaVu Sans Mono',consolas,'Courier New',monospace\">    \n",
              "</pre>\n"
            ],
            "text/plain": [
              "    \n"
            ]
          },
          "metadata": {
            "tags": []
          }
        },
        {
          "output_type": "display_data",
          "data": {
            "text/html": [
              "<pre style=\"white-space:pre;overflow-x:auto;line-height:normal;font-family:Menlo,'DejaVu Sans Mono',consolas,'Courier New',monospace\">    \n",
              "</pre>\n"
            ],
            "text/plain": [
              "    \n"
            ]
          },
          "metadata": {
            "tags": []
          }
        },
        {
          "output_type": "display_data",
          "data": {
            "text/html": [
              "<pre style=\"white-space:pre;overflow-x:auto;line-height:normal;font-family:Menlo,'DejaVu Sans Mono',consolas,'Courier New',monospace\">    \n",
              "</pre>\n"
            ],
            "text/plain": [
              "    \n"
            ]
          },
          "metadata": {
            "tags": []
          }
        },
        {
          "output_type": "display_data",
          "data": {
            "text/html": [
              "<pre style=\"white-space:pre;overflow-x:auto;line-height:normal;font-family:Menlo,'DejaVu Sans Mono',consolas,'Courier New',monospace\">    \n",
              "</pre>\n"
            ],
            "text/plain": [
              "    \n"
            ]
          },
          "metadata": {
            "tags": []
          }
        },
        {
          "output_type": "display_data",
          "data": {
            "text/html": [
              "<pre style=\"white-space:pre;overflow-x:auto;line-height:normal;font-family:Menlo,'DejaVu Sans Mono',consolas,'Courier New',monospace\">    \n",
              "</pre>\n"
            ],
            "text/plain": [
              "    \n"
            ]
          },
          "metadata": {
            "tags": []
          }
        },
        {
          "output_type": "display_data",
          "data": {
            "text/html": [
              "<pre style=\"white-space:pre;overflow-x:auto;line-height:normal;font-family:Menlo,'DejaVu Sans Mono',consolas,'Courier New',monospace\">    \n",
              "</pre>\n"
            ],
            "text/plain": [
              "    \n"
            ]
          },
          "metadata": {
            "tags": []
          }
        },
        {
          "output_type": "display_data",
          "data": {
            "text/html": [
              "<pre style=\"white-space:pre;overflow-x:auto;line-height:normal;font-family:Menlo,'DejaVu Sans Mono',consolas,'Courier New',monospace\">    \n",
              "</pre>\n"
            ],
            "text/plain": [
              "    \n"
            ]
          },
          "metadata": {
            "tags": []
          }
        },
        {
          "output_type": "display_data",
          "data": {
            "text/html": [
              "<pre style=\"white-space:pre;overflow-x:auto;line-height:normal;font-family:Menlo,'DejaVu Sans Mono',consolas,'Courier New',monospace\">    \n",
              "</pre>\n"
            ],
            "text/plain": [
              "    \n"
            ]
          },
          "metadata": {
            "tags": []
          }
        },
        {
          "output_type": "display_data",
          "data": {
            "text/html": [
              "<pre style=\"white-space:pre;overflow-x:auto;line-height:normal;font-family:Menlo,'DejaVu Sans Mono',consolas,'Courier New',monospace\">    \n",
              "</pre>\n"
            ],
            "text/plain": [
              "    \n"
            ]
          },
          "metadata": {
            "tags": []
          }
        }
      ]
    },
    {
      "cell_type": "code",
      "metadata": {
        "id": "GP3-MBrVaK7E",
        "colab": {
          "base_uri": "https://localhost:8080/",
          "height": 35
        },
        "outputId": "030852ca-4b3d-47fc-bd0b-d550a7e725e4"
      },
      "source": [
        "##epochs 500\n",
        "i=0\n",
        "translate(model, df.input[i], src_vocab, tgt_vocab, tokenizer)\n"
      ],
      "id": "GP3-MBrVaK7E",
      "execution_count": 61,
      "outputs": [
        {
          "output_type": "execute_result",
          "data": {
            "application/vnd.google.colaboratory.intrinsic+json": {
              "type": "string"
            },
            "text/plain": [
              "' c s ( = o ) ( = o ) o c [ c @ h ] 1 c c c ( = o ) o 1 . f c 1 c c c ( n c 2 n c n c 3 c c ( o c c n 4 c c n c c 4 ) c ( o c 4 c c c c 4 ) c c 2 3 ) c c'"
            ]
          },
          "metadata": {
            "tags": []
          },
          "execution_count": 61
        }
      ]
    },
    {
      "cell_type": "code",
      "metadata": {
        "colab": {
          "base_uri": "https://localhost:8080/",
          "height": 255
        },
        "id": "vtcUNxEWZ9fy",
        "outputId": "112bd0ac-9c3d-461b-fdb8-cdb7cdf5979e"
      },
      "source": [
        "for i in range(50000,50010):\n",
        "  translate(model, df.input[i], src_vocab, tgt_vocab, tokenizer\n",
        "  "
      ],
      "id": "vtcUNxEWZ9fy",
      "execution_count": 49,
      "outputs": [
        {
          "output_type": "display_data",
          "data": {
            "text/html": [
              "<pre style=\"white-space:pre;overflow-x:auto;line-height:normal;font-family:Menlo,'DejaVu Sans Mono',consolas,'Courier New',monospace\"> o = c <span style=\"font-weight: bold\">(</span> c l <span style=\"font-weight: bold\">)</span> c <span style=\"color: #008080; text-decoration-color: #008080; font-weight: bold\">1</span> c c c c <span style=\"font-weight: bold\">(</span> o <span style=\"font-weight: bold\">)</span> c <span style=\"color: #008080; text-decoration-color: #008080; font-weight: bold\">1</span> \n",
              "</pre>\n"
            ],
            "text/plain": [
              " o = c \u001b[1m(\u001b[0m c l \u001b[1m)\u001b[0m c \u001b[1;36m1\u001b[0m c c c c \u001b[1m(\u001b[0m o \u001b[1m)\u001b[0m c \u001b[1;36m1\u001b[0m \n"
            ]
          },
          "metadata": {
            "tags": []
          }
        },
        {
          "output_type": "display_data",
          "data": {
            "text/html": [
              "<pre style=\"white-space:pre;overflow-x:auto;line-height:normal;font-family:Menlo,'DejaVu Sans Mono',consolas,'Courier New',monospace\"> c c o c <span style=\"font-weight: bold\">(</span> = o <span style=\"font-weight: bold\">)</span> c p <span style=\"font-weight: bold\">(</span> = o <span style=\"font-weight: bold\">)</span> <span style=\"font-weight: bold\">(</span> o c c <span style=\"font-weight: bold\">)</span> o c c . o = c c c <span style=\"color: #008080; text-decoration-color: #008080; font-weight: bold\">1</span> c c\n",
              "</pre>\n"
            ],
            "text/plain": [
              " c c o c \u001b[1m(\u001b[0m = o \u001b[1m)\u001b[0m c p \u001b[1m(\u001b[0m = o \u001b[1m)\u001b[0m \u001b[1m(\u001b[0m o c c \u001b[1m)\u001b[0m o c c . o = c c c \u001b[1;36m1\u001b[0m c c\n"
            ]
          },
          "metadata": {
            "tags": []
          }
        },
        {
          "output_type": "display_data",
          "data": {
            "text/html": [
              "<pre style=\"white-space:pre;overflow-x:auto;line-height:normal;font-family:Menlo,'DejaVu Sans Mono',consolas,'Courier New',monospace\"> c o c <span style=\"font-weight: bold\">(</span> = o <span style=\"font-weight: bold\">)</span> c <span style=\"color: #008080; text-decoration-color: #008080; font-weight: bold\">1</span> c c c <span style=\"font-weight: bold\">(</span> c <span style=\"color: #008080; text-decoration-color: #008080; font-weight: bold\">2</span> = n o c <span style=\"font-weight: bold\">(</span> c <span style=\"color: #008080; text-decoration-color: #008080; font-weight: bold\">3</span> c c <span style=\"font-weight: bold\">(</span> c l <span style=\"font-weight: bold\">)</span> c c <span style=\"font-weight: bold\">(</span> c l <span style=\"font-weight: bold\">)</span> c <span style=\"color: #008080; text-decoration-color: #008080; font-weight: bold\">3</span> <span style=\"font-weight: bold\">)</span> <span style=\"font-weight: bold\">(</span> c <span style=\"font-weight: bold\">(</span> f <span style=\"font-weight: bold\">)</span> <span style=\"font-weight: bold\">(</span> f <span style=\"font-weight: bold\">)</span> f \n",
              "<span style=\"font-weight: bold\">)</span> c <span style=\"color: #008080; text-decoration-color: #008080; font-weight: bold\">2</span> = n o <span style=\"font-weight: bold\">)</span> c c <span style=\"color: #008080; text-decoration-color: #008080; font-weight: bold\">1</span> c \n",
              "</pre>\n"
            ],
            "text/plain": [
              " c o c \u001b[1m(\u001b[0m = o \u001b[1m)\u001b[0m c \u001b[1;36m1\u001b[0m c c c \u001b[1m(\u001b[0m c \u001b[1;36m2\u001b[0m = n o c \u001b[1m(\u001b[0m c \u001b[1;36m3\u001b[0m c c \u001b[1m(\u001b[0m c l \u001b[1m)\u001b[0m c c \u001b[1m(\u001b[0m c l \u001b[1m)\u001b[0m c \u001b[1;36m3\u001b[0m \u001b[1m)\u001b[0m \u001b[1m(\u001b[0m c \u001b[1m(\u001b[0m f \u001b[1m)\u001b[0m \u001b[1m(\u001b[0m f \u001b[1m)\u001b[0m f \n",
              "\u001b[1m)\u001b[0m c \u001b[1;36m2\u001b[0m = n o \u001b[1m)\u001b[0m c c \u001b[1;36m1\u001b[0m c \n"
            ]
          },
          "metadata": {
            "tags": []
          }
        },
        {
          "output_type": "display_data",
          "data": {
            "text/html": [
              "<pre style=\"white-space:pre;overflow-x:auto;line-height:normal;font-family:Menlo,'DejaVu Sans Mono',consolas,'Courier New',monospace\"> n # c c <span style=\"color: #008080; text-decoration-color: #008080; font-weight: bold\">1</span> n c c <span style=\"font-weight: bold\">(</span> b r <span style=\"font-weight: bold\">)</span> c <span style=\"font-weight: bold\">(</span> n <span style=\"font-weight: bold\">(</span> c <span style=\"color: #008080; text-decoration-color: #008080; font-weight: bold\">2</span> c c o c c <span style=\"color: #008080; text-decoration-color: #008080; font-weight: bold\">2</span> <span style=\"font-weight: bold\">)</span> c <span style=\"color: #008080; text-decoration-color: #008080; font-weight: bold\">2</span> c c o c c <span style=\"color: #008080; text-decoration-color: #008080; font-weight: bold\">2</span> <span style=\"font-weight: bold\">)</span> n <span style=\"color: #008080; text-decoration-color: #008080; font-weight: bold\">1</span>\n",
              "</pre>\n"
            ],
            "text/plain": [
              " n # c c \u001b[1;36m1\u001b[0m n c c \u001b[1m(\u001b[0m b r \u001b[1m)\u001b[0m c \u001b[1m(\u001b[0m n \u001b[1m(\u001b[0m c \u001b[1;36m2\u001b[0m c c o c c \u001b[1;36m2\u001b[0m \u001b[1m)\u001b[0m c \u001b[1;36m2\u001b[0m c c o c c \u001b[1;36m2\u001b[0m \u001b[1m)\u001b[0m n \u001b[1;36m1\u001b[0m\n"
            ]
          },
          "metadata": {
            "tags": []
          }
        },
        {
          "output_type": "display_data",
          "data": {
            "text/html": [
              "<pre style=\"white-space:pre;overflow-x:auto;line-height:normal;font-family:Menlo,'DejaVu Sans Mono',consolas,'Courier New',monospace\"> n c c <span style=\"color: #008080; text-decoration-color: #008080; font-weight: bold\">1</span> c c c <span style=\"color: #008080; text-decoration-color: #008080; font-weight: bold\">2</span> c <span style=\"font-weight: bold\">(</span> c <span style=\"color: #008080; text-decoration-color: #008080; font-weight: bold\">1</span> <span style=\"font-weight: bold\">)</span> c n <span style=\"font-weight: bold\">(</span> c <span style=\"color: #008080; text-decoration-color: #008080; font-weight: bold\">1</span> c c c <span style=\"font-weight: bold\">(</span> = o <span style=\"font-weight: bold\">)</span> n c <span style=\"color: #008080; text-decoration-color: #008080; font-weight: bold\">1</span> = o <span style=\"font-weight: bold\">)</span> c <span style=\"color: #008080; text-decoration-color: #008080; font-weight: bold\">2</span> = o . o = c <span style=\"font-weight: bold\">(</span> c l <span style=\"font-weight: bold\">)</span> n <span style=\"color: #008080; text-decoration-color: #008080; font-weight: bold\">1</span> c \n",
              "c o c c <span style=\"color: #008080; text-decoration-color: #008080; font-weight: bold\">1</span> \n",
              "</pre>\n"
            ],
            "text/plain": [
              " n c c \u001b[1;36m1\u001b[0m c c c \u001b[1;36m2\u001b[0m c \u001b[1m(\u001b[0m c \u001b[1;36m1\u001b[0m \u001b[1m)\u001b[0m c n \u001b[1m(\u001b[0m c \u001b[1;36m1\u001b[0m c c c \u001b[1m(\u001b[0m = o \u001b[1m)\u001b[0m n c \u001b[1;36m1\u001b[0m = o \u001b[1m)\u001b[0m c \u001b[1;36m2\u001b[0m = o . o = c \u001b[1m(\u001b[0m c l \u001b[1m)\u001b[0m n \u001b[1;36m1\u001b[0m c \n",
              "c o c c \u001b[1;36m1\u001b[0m \n"
            ]
          },
          "metadata": {
            "tags": []
          }
        },
        {
          "output_type": "display_data",
          "data": {
            "text/html": [
              "<pre style=\"white-space:pre;overflow-x:auto;line-height:normal;font-family:Menlo,'DejaVu Sans Mono',consolas,'Courier New',monospace\"> c c <span style=\"color: #008080; text-decoration-color: #008080; font-weight: bold\">1</span> c c c <span style=\"font-weight: bold\">(</span> <span style=\"font-weight: bold\">[</span> n + <span style=\"font-weight: bold\">]</span> <span style=\"font-weight: bold\">(</span> = o <span style=\"font-weight: bold\">)</span> <span style=\"font-weight: bold\">[</span> o - <span style=\"font-weight: bold\">]</span> <span style=\"font-weight: bold\">)</span> c c <span style=\"color: #008080; text-decoration-color: #008080; font-weight: bold\">1</span> c <span style=\"font-weight: bold\">(</span> = o <span style=\"font-weight: bold\">)</span> n s <span style=\"font-weight: bold\">(</span> c <span style=\"font-weight: bold\">)</span> <span style=\"font-weight: bold\">(</span> =\n",
              "</pre>\n"
            ],
            "text/plain": [
              " c c \u001b[1;36m1\u001b[0m c c c \u001b[1m(\u001b[0m \u001b[1m[\u001b[0m n + \u001b[1m]\u001b[0m \u001b[1m(\u001b[0m = o \u001b[1m)\u001b[0m \u001b[1m[\u001b[0m o - \u001b[1m]\u001b[0m \u001b[1m)\u001b[0m c c \u001b[1;36m1\u001b[0m c \u001b[1m(\u001b[0m = o \u001b[1m)\u001b[0m n s \u001b[1m(\u001b[0m c \u001b[1m)\u001b[0m \u001b[1m(\u001b[0m =\n"
            ]
          },
          "metadata": {
            "tags": []
          }
        },
        {
          "output_type": "display_data",
          "data": {
            "text/html": [
              "<pre style=\"white-space:pre;overflow-x:auto;line-height:normal;font-family:Menlo,'DejaVu Sans Mono',consolas,'Courier New',monospace\"> c c o c <span style=\"font-weight: bold\">(</span> = o <span style=\"font-weight: bold\">)</span> c c <span style=\"color: #008080; text-decoration-color: #008080; font-weight: bold\">1</span> c c c <span style=\"color: #008080; text-decoration-color: #008080; font-weight: bold\">2</span> s c <span style=\"font-weight: bold\">(</span> = o <span style=\"font-weight: bold\">)</span> <span style=\"font-weight: bold\">[</span> n h <span style=\"font-weight: bold\">]</span> c <span style=\"color: #008080; text-decoration-color: #008080; font-weight: bold\">2</span> c <span style=\"color: #008080; text-decoration-color: #008080; font-weight: bold\">1</span> \n",
              "</pre>\n"
            ],
            "text/plain": [
              " c c o c \u001b[1m(\u001b[0m = o \u001b[1m)\u001b[0m c c \u001b[1;36m1\u001b[0m c c c \u001b[1;36m2\u001b[0m s c \u001b[1m(\u001b[0m = o \u001b[1m)\u001b[0m \u001b[1m[\u001b[0m n h \u001b[1m]\u001b[0m c \u001b[1;36m2\u001b[0m c \u001b[1;36m1\u001b[0m \n"
            ]
          },
          "metadata": {
            "tags": []
          }
        },
        {
          "output_type": "display_data",
          "data": {
            "text/html": [
              "<pre style=\"white-space:pre;overflow-x:auto;line-height:normal;font-family:Menlo,'DejaVu Sans Mono',consolas,'Courier New',monospace\"> c c o c <span style=\"font-weight: bold\">(</span> = o <span style=\"font-weight: bold\">)</span> c <span style=\"color: #008080; text-decoration-color: #008080; font-weight: bold\">1</span> c c n <span style=\"font-weight: bold\">(</span> c c c o c <span style=\"color: #008080; text-decoration-color: #008080; font-weight: bold\">2</span> c c c <span style=\"font-weight: bold\">(</span> - n <span style=\"color: #008080; text-decoration-color: #008080; font-weight: bold\">3</span> n c <span style=\"color: #008080; text-decoration-color: #008080; font-weight: bold\">4</span> c c c c c <span style=\"color: #008080; text-decoration-color: #008080; font-weight: bold\">4</span> c <span style=\"color: #008080; text-decoration-color: #008080; font-weight: bold\">3</span> c l <span style=\"font-weight: bold\">)</span> c c <span style=\"color: #008080; text-decoration-color: #008080; font-weight: bold\">2</span> <span style=\"font-weight: bold\">)</span> c \n",
              "c <span style=\"color: #008080; text-decoration-color: #008080; font-weight: bold\">1</span> . n \n",
              "</pre>\n"
            ],
            "text/plain": [
              " c c o c \u001b[1m(\u001b[0m = o \u001b[1m)\u001b[0m c \u001b[1;36m1\u001b[0m c c n \u001b[1m(\u001b[0m c c c o c \u001b[1;36m2\u001b[0m c c c \u001b[1m(\u001b[0m - n \u001b[1;36m3\u001b[0m n c \u001b[1;36m4\u001b[0m c c c c c \u001b[1;36m4\u001b[0m c \u001b[1;36m3\u001b[0m c l \u001b[1m)\u001b[0m c c \u001b[1;36m2\u001b[0m \u001b[1m)\u001b[0m c \n",
              "c \u001b[1;36m1\u001b[0m . n \n"
            ]
          },
          "metadata": {
            "tags": []
          }
        },
        {
          "output_type": "display_data",
          "data": {
            "text/html": [
              "<pre style=\"white-space:pre;overflow-x:auto;line-height:normal;font-family:Menlo,'DejaVu Sans Mono',consolas,'Courier New',monospace\"> c c <span style=\"font-weight: bold\">(</span> c <span style=\"font-weight: bold\">)</span> <span style=\"font-weight: bold\">(</span> c <span style=\"font-weight: bold\">)</span> c <span style=\"color: #008080; text-decoration-color: #008080; font-weight: bold\">1</span> c c c <span style=\"font-weight: bold\">(</span> c n c c c <span style=\"color: #008080; text-decoration-color: #008080; font-weight: bold\">2</span> c c <span style=\"font-weight: bold\">(</span> f <span style=\"font-weight: bold\">)</span> c c <span style=\"font-weight: bold\">(</span> c <span style=\"font-weight: bold\">(</span> f <span style=\"font-weight: bold\">)</span> <span style=\"font-weight: bold\">(</span> f <span style=\"font-weight: bold\">)</span> f <span style=\"font-weight: bold\">)</span> c <span style=\"color: #008080; text-decoration-color: #008080; font-weight: bold\">2</span> <span style=\"font-weight: bold\">)</span> c c <span style=\"color: #008080; text-decoration-color: #008080; font-weight: bold\">1</span> . o = \n",
              "c <span style=\"font-weight: bold\">(</span> o <span style=\"font-weight: bold\">)</span> c <span style=\"color: #008080; text-decoration-color: #008080; font-weight: bold\">1</span> c c <span style=\"font-weight: bold\">(</span> c <span style=\"font-weight: bold\">(</span> f <span style=\"font-weight: bold\">)</span> <span style=\"font-weight: bold\">(</span> f <span style=\"font-weight: bold\">)</span> f <span style=\"font-weight: bold\">)</span> c c <span style=\"font-weight: bold\">(</span> c l <span style=\"font-weight: bold\">)</span> c <span style=\"color: #008080; text-decoration-color: #008080; font-weight: bold\">1</span> f \n",
              "</pre>\n"
            ],
            "text/plain": [
              " c c \u001b[1m(\u001b[0m c \u001b[1m)\u001b[0m \u001b[1m(\u001b[0m c \u001b[1m)\u001b[0m c \u001b[1;36m1\u001b[0m c c c \u001b[1m(\u001b[0m c n c c c \u001b[1;36m2\u001b[0m c c \u001b[1m(\u001b[0m f \u001b[1m)\u001b[0m c c \u001b[1m(\u001b[0m c \u001b[1m(\u001b[0m f \u001b[1m)\u001b[0m \u001b[1m(\u001b[0m f \u001b[1m)\u001b[0m f \u001b[1m)\u001b[0m c \u001b[1;36m2\u001b[0m \u001b[1m)\u001b[0m c c \u001b[1;36m1\u001b[0m . o = \n",
              "c \u001b[1m(\u001b[0m o \u001b[1m)\u001b[0m c \u001b[1;36m1\u001b[0m c c \u001b[1m(\u001b[0m c \u001b[1m(\u001b[0m f \u001b[1m)\u001b[0m \u001b[1m(\u001b[0m f \u001b[1m)\u001b[0m f \u001b[1m)\u001b[0m c c \u001b[1m(\u001b[0m c l \u001b[1m)\u001b[0m c \u001b[1;36m1\u001b[0m f \n"
            ]
          },
          "metadata": {
            "tags": []
          }
        },
        {
          "output_type": "display_data",
          "data": {
            "text/html": [
              "<pre style=\"white-space:pre;overflow-x:auto;line-height:normal;font-family:Menlo,'DejaVu Sans Mono',consolas,'Courier New',monospace\"> c c o c <span style=\"font-weight: bold\">(</span> = o <span style=\"font-weight: bold\">)</span> c <span style=\"color: #008080; text-decoration-color: #008080; font-weight: bold\">1</span> c o c <span style=\"color: #008080; text-decoration-color: #008080; font-weight: bold\">2</span> c c <span style=\"font-weight: bold\">(</span> b r <span style=\"font-weight: bold\">)</span> c c c <span style=\"color: #008080; text-decoration-color: #008080; font-weight: bold\">1</span> <span style=\"color: #008080; text-decoration-color: #008080; font-weight: bold\">2</span> . o = c <span style=\"color: #008080; text-decoration-color: #008080; font-weight: bold\">1</span> n c <span style=\"font-weight: bold\">(</span> = o <span style=\"font-weight: bold\">)</span> c <span style=\"color: #008080; text-decoration-color: #008080; font-weight: bold\">2</span> c c c c c <span style=\"color: #008080; text-decoration-color: #008080; font-weight: bold\">2</span> <span style=\"color: #008080; text-decoration-color: #008080; font-weight: bold\">1</span> \n",
              "</pre>\n"
            ],
            "text/plain": [
              " c c o c \u001b[1m(\u001b[0m = o \u001b[1m)\u001b[0m c \u001b[1;36m1\u001b[0m c o c \u001b[1;36m2\u001b[0m c c \u001b[1m(\u001b[0m b r \u001b[1m)\u001b[0m c c c \u001b[1;36m1\u001b[0m \u001b[1;36m2\u001b[0m . o = c \u001b[1;36m1\u001b[0m n c \u001b[1m(\u001b[0m = o \u001b[1m)\u001b[0m c \u001b[1;36m2\u001b[0m c c c c c \u001b[1;36m2\u001b[0m \u001b[1;36m1\u001b[0m \n"
            ]
          },
          "metadata": {
            "tags": []
          }
        }
      ]
    },
    {
      "cell_type": "code",
      "metadata": {
        "colab": {
          "base_uri": "https://localhost:8080/",
          "height": 68
        },
        "id": "IGGb5BnRFdLj",
        "outputId": "26cd7ff5-b787-499d-8ac5-f522961456b2"
      },
      "source": [
        "i=50034\n",
        "translate(transformer, df.input[i], src_vocab, tgt_vocab, tokenizer)"
      ],
      "id": "IGGb5BnRFdLj",
      "execution_count": null,
      "outputs": [
        {
          "output_type": "display_data",
          "data": {
            "text/html": [
              "<pre style=\"white-space:pre;overflow-x:auto;line-height:normal;font-family:Menlo,'DejaVu Sans Mono',consolas,'Courier New',monospace\">Product: <span style=\"font-weight: bold\">&lt;</span><span style=\"color: #ff00ff; text-decoration-color: #ff00ff; font-weight: bold\">RX_3</span><span style=\"font-weight: bold\">&gt;</span> C c <span style=\"color: #008080; text-decoration-color: #008080; font-weight: bold\">1</span> c c c <span style=\"font-weight: bold\">(</span> - c <span style=\"color: #008080; text-decoration-color: #008080; font-weight: bold\">2</span> c c n c c <span style=\"color: #008080; text-decoration-color: #008080; font-weight: bold\">2</span> <span style=\"font-weight: bold\">)</span> c c <span style=\"color: #008080; text-decoration-color: #008080; font-weight: bold\">1</span> C = O\n",
              "</pre>\n"
            ],
            "text/plain": [
              "Product: \u001b[1m<\u001b[0m\u001b[1;95mRX_3\u001b[0m\u001b[1m>\u001b[0m C c \u001b[1;36m1\u001b[0m c c c \u001b[1m(\u001b[0m - c \u001b[1;36m2\u001b[0m c c n c c \u001b[1;36m2\u001b[0m \u001b[1m)\u001b[0m c c \u001b[1;36m1\u001b[0m C = O\n"
            ]
          },
          "metadata": {
            "tags": []
          }
        },
        {
          "output_type": "display_data",
          "data": {
            "text/html": [
              "<pre style=\"white-space:pre;overflow-x:auto;line-height:normal;font-family:Menlo,'DejaVu Sans Mono',consolas,'Courier New',monospace\">Reaction Real: C c <span style=\"color: #008080; text-decoration-color: #008080; font-weight: bold\">1</span> c c c <span style=\"font-weight: bold\">(</span> B r <span style=\"font-weight: bold\">)</span> c c <span style=\"color: #008080; text-decoration-color: #008080; font-weight: bold\">1</span> C = O . O B <span style=\"font-weight: bold\">(</span> O <span style=\"font-weight: bold\">)</span> c <span style=\"color: #008080; text-decoration-color: #008080; font-weight: bold\">1</span> c c n c c <span style=\"color: #008080; text-decoration-color: #008080; font-weight: bold\">1</span>\n",
              "</pre>\n"
            ],
            "text/plain": [
              "Reaction Real: C c \u001b[1;36m1\u001b[0m c c c \u001b[1m(\u001b[0m B r \u001b[1m)\u001b[0m c c \u001b[1;36m1\u001b[0m C = O . O B \u001b[1m(\u001b[0m O \u001b[1m)\u001b[0m c \u001b[1;36m1\u001b[0m c c n c c \u001b[1;36m1\u001b[0m\n"
            ]
          },
          "metadata": {
            "tags": []
          }
        },
        {
          "output_type": "display_data",
          "data": {
            "text/html": [
              "<pre style=\"white-space:pre;overflow-x:auto;line-height:normal;font-family:Menlo,'DejaVu Sans Mono',consolas,'Courier New',monospace\">prediction: c c <span style=\"color: #008080; text-decoration-color: #008080; font-weight: bold\">1</span> c c c <span style=\"font-weight: bold\">(</span> b r <span style=\"font-weight: bold\">)</span> c c <span style=\"color: #008080; text-decoration-color: #008080; font-weight: bold\">1</span> c = o . o b <span style=\"font-weight: bold\">(</span> o <span style=\"font-weight: bold\">)</span> c <span style=\"color: #008080; text-decoration-color: #008080; font-weight: bold\">1</span> c c n c c <span style=\"color: #008080; text-decoration-color: #008080; font-weight: bold\">1</span>\n",
              "</pre>\n"
            ],
            "text/plain": [
              "prediction: c c \u001b[1;36m1\u001b[0m c c c \u001b[1m(\u001b[0m b r \u001b[1m)\u001b[0m c c \u001b[1;36m1\u001b[0m c = o . o b \u001b[1m(\u001b[0m o \u001b[1m)\u001b[0m c \u001b[1;36m1\u001b[0m c c n c c \u001b[1;36m1\u001b[0m\n"
            ]
          },
          "metadata": {
            "tags": []
          }
        }
      ]
    },
    {
      "cell_type": "code",
      "metadata": {
        "id": "thrown-rebecca",
        "colab": {
          "base_uri": "https://localhost:8080/",
          "height": 68
        },
        "outputId": "44057b0d-edbb-40a9-ac33-7a50e5355a36"
      },
      "source": [
        "i=50034\n",
        "translate(model, df.input[i], src_vocab, tgt_vocab, tokenizer)"
      ],
      "id": "thrown-rebecca",
      "execution_count": null,
      "outputs": [
        {
          "output_type": "display_data",
          "data": {
            "text/html": [
              "<pre style=\"white-space:pre;overflow-x:auto;line-height:normal;font-family:Menlo,'DejaVu Sans Mono',consolas,'Courier New',monospace\">Product: <span style=\"font-weight: bold\">&lt;</span><span style=\"color: #ff00ff; text-decoration-color: #ff00ff; font-weight: bold\">RX_3</span><span style=\"font-weight: bold\">&gt;</span> C c <span style=\"color: #008080; text-decoration-color: #008080; font-weight: bold\">1</span> c c c <span style=\"font-weight: bold\">(</span> - c <span style=\"color: #008080; text-decoration-color: #008080; font-weight: bold\">2</span> c c n c c <span style=\"color: #008080; text-decoration-color: #008080; font-weight: bold\">2</span> <span style=\"font-weight: bold\">)</span> c c <span style=\"color: #008080; text-decoration-color: #008080; font-weight: bold\">1</span> C = O\n",
              "</pre>\n"
            ],
            "text/plain": [
              "Product: \u001b[1m<\u001b[0m\u001b[1;95mRX_3\u001b[0m\u001b[1m>\u001b[0m C c \u001b[1;36m1\u001b[0m c c c \u001b[1m(\u001b[0m - c \u001b[1;36m2\u001b[0m c c n c c \u001b[1;36m2\u001b[0m \u001b[1m)\u001b[0m c c \u001b[1;36m1\u001b[0m C = O\n"
            ]
          },
          "metadata": {
            "tags": []
          }
        },
        {
          "output_type": "display_data",
          "data": {
            "text/html": [
              "<pre style=\"white-space:pre;overflow-x:auto;line-height:normal;font-family:Menlo,'DejaVu Sans Mono',consolas,'Courier New',monospace\">Reaction Real: C c <span style=\"color: #008080; text-decoration-color: #008080; font-weight: bold\">1</span> c c c <span style=\"font-weight: bold\">(</span> B r <span style=\"font-weight: bold\">)</span> c c <span style=\"color: #008080; text-decoration-color: #008080; font-weight: bold\">1</span> C = O . O B <span style=\"font-weight: bold\">(</span> O <span style=\"font-weight: bold\">)</span> c <span style=\"color: #008080; text-decoration-color: #008080; font-weight: bold\">1</span> c c n c c <span style=\"color: #008080; text-decoration-color: #008080; font-weight: bold\">1</span>\n",
              "</pre>\n"
            ],
            "text/plain": [
              "Reaction Real: C c \u001b[1;36m1\u001b[0m c c c \u001b[1m(\u001b[0m B r \u001b[1m)\u001b[0m c c \u001b[1;36m1\u001b[0m C = O . O B \u001b[1m(\u001b[0m O \u001b[1m)\u001b[0m c \u001b[1;36m1\u001b[0m c c n c c \u001b[1;36m1\u001b[0m\n"
            ]
          },
          "metadata": {
            "tags": []
          }
        },
        {
          "output_type": "display_data",
          "data": {
            "text/html": [
              "<pre style=\"white-space:pre;overflow-x:auto;line-height:normal;font-family:Menlo,'DejaVu Sans Mono',consolas,'Courier New',monospace\">prediction: b r c <span style=\"color: #008080; text-decoration-color: #008080; font-weight: bold\">1</span> c c n c c <span style=\"color: #008080; text-decoration-color: #008080; font-weight: bold\">1</span> . c c <span style=\"color: #008080; text-decoration-color: #008080; font-weight: bold\">1</span> c c c <span style=\"font-weight: bold\">(</span> b <span style=\"font-weight: bold\">(</span> o <span style=\"font-weight: bold\">)</span> o <span style=\"font-weight: bold\">)</span> c c <span style=\"color: #008080; text-decoration-color: #008080; font-weight: bold\">1</span> c = o\n",
              "</pre>\n"
            ],
            "text/plain": [
              "prediction: b r c \u001b[1;36m1\u001b[0m c c n c c \u001b[1;36m1\u001b[0m . c c \u001b[1;36m1\u001b[0m c c c \u001b[1m(\u001b[0m b \u001b[1m(\u001b[0m o \u001b[1m)\u001b[0m o \u001b[1m)\u001b[0m c c \u001b[1;36m1\u001b[0m c = o\n"
            ]
          },
          "metadata": {
            "tags": []
          }
        }
      ]
    },
    {
      "cell_type": "code",
      "metadata": {
        "colab": {
          "base_uri": "https://localhost:8080/",
          "height": 17
        },
        "id": "b89JKvQEeh8N",
        "outputId": "35294081-fb1d-49e5-cc34-3da1d138a410"
      },
      "source": [
        "files.download(\"/content/my_checkpoint_200.pth\")"
      ],
      "id": "b89JKvQEeh8N",
      "execution_count": null,
      "outputs": [
        {
          "output_type": "display_data",
          "data": {
            "application/javascript": [
              "\n",
              "    async function download(id, filename, size) {\n",
              "      if (!google.colab.kernel.accessAllowed) {\n",
              "        return;\n",
              "      }\n",
              "      const div = document.createElement('div');\n",
              "      const label = document.createElement('label');\n",
              "      label.textContent = `Downloading \"${filename}\": `;\n",
              "      div.appendChild(label);\n",
              "      const progress = document.createElement('progress');\n",
              "      progress.max = size;\n",
              "      div.appendChild(progress);\n",
              "      document.body.appendChild(div);\n",
              "\n",
              "      const buffers = [];\n",
              "      let downloaded = 0;\n",
              "\n",
              "      const channel = await google.colab.kernel.comms.open(id);\n",
              "      // Send a message to notify the kernel that we're ready.\n",
              "      channel.send({})\n",
              "\n",
              "      for await (const message of channel.messages) {\n",
              "        // Send a message to notify the kernel that we're ready.\n",
              "        channel.send({})\n",
              "        if (message.buffers) {\n",
              "          for (const buffer of message.buffers) {\n",
              "            buffers.push(buffer);\n",
              "            downloaded += buffer.byteLength;\n",
              "            progress.value = downloaded;\n",
              "          }\n",
              "        }\n",
              "      }\n",
              "      const blob = new Blob(buffers, {type: 'application/binary'});\n",
              "      const a = document.createElement('a');\n",
              "      a.href = window.URL.createObjectURL(blob);\n",
              "      a.download = filename;\n",
              "      div.appendChild(a);\n",
              "      a.click();\n",
              "      div.remove();\n",
              "    }\n",
              "  "
            ],
            "text/plain": [
              "<IPython.core.display.Javascript object>"
            ]
          },
          "metadata": {
            "tags": []
          }
        },
        {
          "output_type": "display_data",
          "data": {
            "application/javascript": [
              "download(\"download_578ee837-b916-4db9-91c6-2bf3aebf6944\", \"my_checkpoint_200.pth\", 162612002)"
            ],
            "text/plain": [
              "<IPython.core.display.Javascript object>"
            ]
          },
          "metadata": {
            "tags": []
          }
        }
      ]
    },
    {
      "cell_type": "markdown",
      "metadata": {
        "id": "cQud1sNaKsK2"
      },
      "source": [
        "#TEST"
      ],
      "id": "cQud1sNaKsK2"
    },
    {
      "cell_type": "code",
      "metadata": {
        "colab": {
          "base_uri": "https://localhost:8080/",
          "height": 419
        },
        "id": "fiIkBfmNKzD9",
        "outputId": "5279c0ab-af9a-4e17-ad49-e64b793ab3e6"
      },
      "source": [
        "df_test=pd.read_csv(\"/content/Retrosynthesis_TF/USPTO-50K/src/src-test.txt\",names=[\"input\"])\n",
        "df_test"
      ],
      "id": "fiIkBfmNKzD9",
      "execution_count": 51,
      "outputs": [
        {
          "output_type": "execute_result",
          "data": {
            "text/html": [
              "<div>\n",
              "<style scoped>\n",
              "    .dataframe tbody tr th:only-of-type {\n",
              "        vertical-align: middle;\n",
              "    }\n",
              "\n",
              "    .dataframe tbody tr th {\n",
              "        vertical-align: top;\n",
              "    }\n",
              "\n",
              "    .dataframe thead th {\n",
              "        text-align: right;\n",
              "    }\n",
              "</style>\n",
              "<table border=\"1\" class=\"dataframe\">\n",
              "  <thead>\n",
              "    <tr style=\"text-align: right;\">\n",
              "      <th></th>\n",
              "      <th>input</th>\n",
              "    </tr>\n",
              "  </thead>\n",
              "  <tbody>\n",
              "    <tr>\n",
              "      <th>0</th>\n",
              "      <td>&lt;RX_1&gt; C O C ( = O ) C C C ( = O ) c 1 c c c (...</td>\n",
              "    </tr>\n",
              "    <tr>\n",
              "      <th>1</th>\n",
              "      <td>&lt;RX_4&gt; C O C ( = O ) c 1 c c c c ( - c 2 n c 3...</td>\n",
              "    </tr>\n",
              "    <tr>\n",
              "      <th>2</th>\n",
              "      <td>&lt;RX_2&gt; C O N ( C ) C ( = O ) C 1 C C C ( N C (...</td>\n",
              "    </tr>\n",
              "    <tr>\n",
              "      <th>3</th>\n",
              "      <td>&lt;RX_1&gt; O = [ N + ] ( [ O - ] ) c 1 c c c ( C l...</td>\n",
              "    </tr>\n",
              "    <tr>\n",
              "      <th>4</th>\n",
              "      <td>&lt;RX_9&gt; N C C 1 = C C [ C @ @ H ] ( c 2 c c c (...</td>\n",
              "    </tr>\n",
              "    <tr>\n",
              "      <th>...</th>\n",
              "      <td>...</td>\n",
              "    </tr>\n",
              "    <tr>\n",
              "      <th>4999</th>\n",
              "      <td>&lt;RX_1&gt; C c 1 c c ( [ N + ] ( = O ) [ O - ] ) c...</td>\n",
              "    </tr>\n",
              "    <tr>\n",
              "      <th>5000</th>\n",
              "      <td>&lt;RX_6&gt; C O C ( = O ) c 1 [ n H ] c 2 c c ( C l...</td>\n",
              "    </tr>\n",
              "    <tr>\n",
              "      <th>5001</th>\n",
              "      <td>&lt;RX_7&gt; C O c 1 c c ( C ( F ) ( F ) F ) c c ( S...</td>\n",
              "    </tr>\n",
              "    <tr>\n",
              "      <th>5002</th>\n",
              "      <td>&lt;RX_10&gt; C c 1 n n ( C C ( C ) C O ) c ( - c 2 ...</td>\n",
              "    </tr>\n",
              "    <tr>\n",
              "      <th>5003</th>\n",
              "      <td>&lt;RX_1&gt; C O C ( = O ) c 1 c c ( S C c 2 c c c (...</td>\n",
              "    </tr>\n",
              "  </tbody>\n",
              "</table>\n",
              "<p>5004 rows × 1 columns</p>\n",
              "</div>"
            ],
            "text/plain": [
              "                                                  input\n",
              "0     <RX_1> C O C ( = O ) C C C ( = O ) c 1 c c c (...\n",
              "1     <RX_4> C O C ( = O ) c 1 c c c c ( - c 2 n c 3...\n",
              "2     <RX_2> C O N ( C ) C ( = O ) C 1 C C C ( N C (...\n",
              "3     <RX_1> O = [ N + ] ( [ O - ] ) c 1 c c c ( C l...\n",
              "4     <RX_9> N C C 1 = C C [ C @ @ H ] ( c 2 c c c (...\n",
              "...                                                 ...\n",
              "4999  <RX_1> C c 1 c c ( [ N + ] ( = O ) [ O - ] ) c...\n",
              "5000  <RX_6> C O C ( = O ) c 1 [ n H ] c 2 c c ( C l...\n",
              "5001  <RX_7> C O c 1 c c ( C ( F ) ( F ) F ) c c ( S...\n",
              "5002  <RX_10> C c 1 n n ( C C ( C ) C O ) c ( - c 2 ...\n",
              "5003  <RX_1> C O C ( = O ) c 1 c c ( S C c 2 c c c (...\n",
              "\n",
              "[5004 rows x 1 columns]"
            ]
          },
          "metadata": {
            "tags": []
          },
          "execution_count": 51
        }
      ]
    },
    {
      "cell_type": "code",
      "metadata": {
        "colab": {
          "base_uri": "https://localhost:8080/"
        },
        "id": "uydV8ir4LpW7",
        "outputId": "736b0828-6eb7-42d4-f6e2-571c5eb1c8e4"
      },
      "source": [
        "len(df_test.input)\n",
        "len(df.input)"
      ],
      "id": "uydV8ir4LpW7",
      "execution_count": 66,
      "outputs": [
        {
          "output_type": "execute_result",
          "data": {
            "text/plain": [
              "50037"
            ]
          },
          "metadata": {
            "tags": []
          },
          "execution_count": 66
        }
      ]
    },
    {
      "cell_type": "code",
      "metadata": {
        "colab": {
          "base_uri": "https://localhost:8080/",
          "height": 34
        },
        "id": "NbT8HBEhJtvg",
        "outputId": "6da1b3d4-cbda-40de-e6f1-9c8679ee8e94"
      },
      "source": [
        "a=0\n",
        "src_input=[]\n",
        "for i in range(len(df.input)):\n",
        "  translate_src=translate(model, df.input[i], src_vocab, tgt_vocab, tokenizer)\n",
        "  src_input.append(translate_src)\n",
        "  a=a+1\n",
        "print(a)         "
      ],
      "id": "NbT8HBEhJtvg",
      "execution_count": 58,
      "outputs": [
        {
          "output_type": "display_data",
          "data": {
            "text/html": [
              "<pre style=\"white-space:pre;overflow-x:auto;line-height:normal;font-family:Menlo,'DejaVu Sans Mono',consolas,'Courier New',monospace\"><span style=\"color: #008080; text-decoration-color: #008080; font-weight: bold\">5004</span>\n",
              "</pre>\n"
            ],
            "text/plain": [
              "\u001b[1;36m5004\u001b[0m\n"
            ]
          },
          "metadata": {
            "tags": []
          }
        }
      ]
    },
    {
      "cell_type": "code",
      "metadata": {
        "colab": {
          "base_uri": "https://localhost:8080/"
        },
        "id": "qGURjRfVTaN7",
        "outputId": "1da0e267-17d2-4ab6-f693-68296180a983"
      },
      "source": [
        "df_test_prediction = pd.Series(src_input)\n",
        "df_test_prediction"
      ],
      "id": "qGURjRfVTaN7",
      "execution_count": 60,
      "outputs": [
        {
          "output_type": "execute_result",
          "data": {
            "text/plain": [
              "0        c s ( = o ) ( = o ) o c [ c @ h ] 1 c c c ( =...\n",
              "1        c o c ( = o ) c 1 c c ( c c c c 2 c c 3 c ( =...\n",
              "2        c c 1 ( c ) o b ( b 2 o c ( c ) ( c ) c ( c )...\n",
              "3        c c ( c ) ( c ) o c ( = o ) n c c ( = o ) c c...\n",
              "4        f c 1 c c 2 c ( c l ) n c n c 2 c n 1 . n c 1...\n",
              "                              ...                        \n",
              "4999            c c ( c ) ( c ) o c ( = o ) n 1 c c c ( c\n",
              "5000     n c 1 c c c ( n 2 c c n ( c 3 n c c c n 3 ) c...\n",
              "5001     b r c c c o c 1 c c c c c 1 . c o c ( = o ) c...\n",
              "5002     c n . o = c 1 n c ( = o ) c 2 c 1 c ( - c 1 c...\n",
              "5003     c c ( c ) n 1 c ( b r ) c c 2 c 1 c ( c 1 c c...\n",
              "Length: 5004, dtype: object"
            ]
          },
          "metadata": {
            "tags": []
          },
          "execution_count": 60
        }
      ]
    },
    {
      "cell_type": "code",
      "metadata": {
        "colab": {
          "base_uri": "https://localhost:8080/",
          "height": 419
        },
        "id": "SbDUmAhUT7K0",
        "outputId": "5fd667c8-172f-46fa-cefe-65d22a5498be"
      },
      "source": [
        "df_test_prediction= pd.DataFrame(df_test_prediction, columns=[\"prediction\"])\n",
        "df_test_prediction"
      ],
      "id": "SbDUmAhUT7K0",
      "execution_count": 62,
      "outputs": [
        {
          "output_type": "execute_result",
          "data": {
            "text/html": [
              "<div>\n",
              "<style scoped>\n",
              "    .dataframe tbody tr th:only-of-type {\n",
              "        vertical-align: middle;\n",
              "    }\n",
              "\n",
              "    .dataframe tbody tr th {\n",
              "        vertical-align: top;\n",
              "    }\n",
              "\n",
              "    .dataframe thead th {\n",
              "        text-align: right;\n",
              "    }\n",
              "</style>\n",
              "<table border=\"1\" class=\"dataframe\">\n",
              "  <thead>\n",
              "    <tr style=\"text-align: right;\">\n",
              "      <th></th>\n",
              "      <th>prediction</th>\n",
              "    </tr>\n",
              "  </thead>\n",
              "  <tbody>\n",
              "    <tr>\n",
              "      <th>0</th>\n",
              "      <td>c s ( = o ) ( = o ) o c [ c @ h ] 1 c c c ( =...</td>\n",
              "    </tr>\n",
              "    <tr>\n",
              "      <th>1</th>\n",
              "      <td>c o c ( = o ) c 1 c c ( c c c c 2 c c 3 c ( =...</td>\n",
              "    </tr>\n",
              "    <tr>\n",
              "      <th>2</th>\n",
              "      <td>c c 1 ( c ) o b ( b 2 o c ( c ) ( c ) c ( c )...</td>\n",
              "    </tr>\n",
              "    <tr>\n",
              "      <th>3</th>\n",
              "      <td>c c ( c ) ( c ) o c ( = o ) n c c ( = o ) c c...</td>\n",
              "    </tr>\n",
              "    <tr>\n",
              "      <th>4</th>\n",
              "      <td>f c 1 c c 2 c ( c l ) n c n c 2 c n 1 . n c 1...</td>\n",
              "    </tr>\n",
              "    <tr>\n",
              "      <th>...</th>\n",
              "      <td>...</td>\n",
              "    </tr>\n",
              "    <tr>\n",
              "      <th>4999</th>\n",
              "      <td>c c ( c ) ( c ) o c ( = o ) n 1 c c c ( c</td>\n",
              "    </tr>\n",
              "    <tr>\n",
              "      <th>5000</th>\n",
              "      <td>n c 1 c c c ( n 2 c c n ( c 3 n c c c n 3 ) c...</td>\n",
              "    </tr>\n",
              "    <tr>\n",
              "      <th>5001</th>\n",
              "      <td>b r c c c o c 1 c c c c c 1 . c o c ( = o ) c...</td>\n",
              "    </tr>\n",
              "    <tr>\n",
              "      <th>5002</th>\n",
              "      <td>c n . o = c 1 n c ( = o ) c 2 c 1 c ( - c 1 c...</td>\n",
              "    </tr>\n",
              "    <tr>\n",
              "      <th>5003</th>\n",
              "      <td>c c ( c ) n 1 c ( b r ) c c 2 c 1 c ( c 1 c c...</td>\n",
              "    </tr>\n",
              "  </tbody>\n",
              "</table>\n",
              "<p>5004 rows × 1 columns</p>\n",
              "</div>"
            ],
            "text/plain": [
              "                                             prediction\n",
              "0      c s ( = o ) ( = o ) o c [ c @ h ] 1 c c c ( =...\n",
              "1      c o c ( = o ) c 1 c c ( c c c c 2 c c 3 c ( =...\n",
              "2      c c 1 ( c ) o b ( b 2 o c ( c ) ( c ) c ( c )...\n",
              "3      c c ( c ) ( c ) o c ( = o ) n c c ( = o ) c c...\n",
              "4      f c 1 c c 2 c ( c l ) n c n c 2 c n 1 . n c 1...\n",
              "...                                                 ...\n",
              "4999          c c ( c ) ( c ) o c ( = o ) n 1 c c c ( c\n",
              "5000   n c 1 c c c ( n 2 c c n ( c 3 n c c c n 3 ) c...\n",
              "5001   b r c c c o c 1 c c c c c 1 . c o c ( = o ) c...\n",
              "5002   c n . o = c 1 n c ( = o ) c 2 c 1 c ( - c 1 c...\n",
              "5003   c c ( c ) n 1 c ( b r ) c c 2 c 1 c ( c 1 c c...\n",
              "\n",
              "[5004 rows x 1 columns]"
            ]
          },
          "metadata": {
            "tags": []
          },
          "execution_count": 62
        }
      ]
    },
    {
      "cell_type": "code",
      "metadata": {
        "id": "CKsSlIBvUHvA"
      },
      "source": [
        "#save df to .txt"
      ],
      "id": "CKsSlIBvUHvA",
      "execution_count": 63,
      "outputs": []
    },
    {
      "cell_type": "code",
      "metadata": {
        "id": "gO3ixMp_LCV_"
      },
      "source": [
        "#https://stackoverflow.com/questions/31247198/python-pandas-write-content-of-dataframe-into-text-file\n",
        "df_test_prediction.to_csv(r'predictions.csv', header=None, index=None)\n"
      ],
      "id": "gO3ixMp_LCV_",
      "execution_count": 65,
      "outputs": []
    },
    {
      "cell_type": "markdown",
      "metadata": {
        "id": "rdpUmPLI8MRv"
      },
      "source": [
        "#beam search "
      ],
      "id": "rdpUmPLI8MRv"
    },
    {
      "cell_type": "code",
      "metadata": {
        "colab": {
          "base_uri": "https://localhost:8080/",
          "height": 299
        },
        "id": "NTxdRT7ZFHna",
        "outputId": "16563771-b34d-4405-9016-f67b9e861309"
      },
      "source": [
        ""
      ],
      "id": "NTxdRT7ZFHna",
      "execution_count": 53,
      "outputs": [
        {
          "output_type": "error",
          "ename": "ModuleNotFoundError",
          "evalue": "ignored",
          "traceback": [
            "\u001b[0;31m---------------------------------------------------------------------------\u001b[0m",
            "\u001b[0;31mModuleNotFoundError\u001b[0m                       Traceback (most recent call last)",
            "\u001b[0;32m<ipython-input-53-3a181df69616>\u001b[0m in \u001b[0;36m<module>\u001b[0;34m()\u001b[0m\n\u001b[0;32m----> 1\u001b[0;31m \u001b[0;32mfrom\u001b[0m \u001b[0mrdkit\u001b[0m \u001b[0;32mimport\u001b[0m \u001b[0mChem\u001b[0m\u001b[0;34m\u001b[0m\u001b[0;34m\u001b[0m\u001b[0m\n\u001b[0m",
            "\u001b[0;31mModuleNotFoundError\u001b[0m: No module named 'rdkit'",
            "",
            "\u001b[0;31m---------------------------------------------------------------------------\u001b[0;32m\nNOTE: If your import is failing due to a missing package, you can\nmanually install dependencies using either !pip or !apt.\n\nTo view examples of installing some common dependencies, click the\n\"Open Examples\" button below.\n\u001b[0;31m---------------------------------------------------------------------------\u001b[0m\n"
          ]
        }
      ]
    }
  ]
}