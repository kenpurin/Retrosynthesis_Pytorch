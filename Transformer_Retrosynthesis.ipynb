{
  "nbformat": 4,
  "nbformat_minor": 5,
  "metadata": {
    "kernelspec": {
      "display_name": "Python 3",
      "language": "python",
      "name": "python3"
    },
    "language_info": {
      "codemirror_mode": {
        "name": "ipython",
        "version": 3
      },
      "file_extension": ".py",
      "mimetype": "text/x-python",
      "name": "python",
      "nbconvert_exporter": "python",
      "pygments_lexer": "ipython3",
      "version": "3.8.5"
    },
    "colab": {
      "name": "Transformer_Retrosynthesis.ipynb",
      "provenance": [],
      "machine_shape": "hm",
      "include_colab_link": true
    },
    "accelerator": "GPU"
  },
  "cells": [
    {
      "cell_type": "markdown",
      "metadata": {
        "id": "view-in-github",
        "colab_type": "text"
      },
      "source": [
        "<a href=\"https://colab.research.google.com/github/kenpurin/Retrosynthesis_TF/blob/main/Transformer_Retrosynthesis.ipynb\" target=\"_parent\"><img src=\"https://colab.research.google.com/assets/colab-badge.svg\" alt=\"Open In Colab\"/></a>"
      ]
    },
    {
      "cell_type": "markdown",
      "metadata": {
        "id": "AuyLoi9uOemv"
      },
      "source": [
        "# LANGUAGE TRANSLATION WITH TRANSFORMER"
      ],
      "id": "AuyLoi9uOemv"
    },
    {
      "cell_type": "markdown",
      "metadata": {
        "id": "yD3jtJw1Y07o"
      },
      "source": [
        "#load data"
      ],
      "id": "yD3jtJw1Y07o"
    },
    {
      "cell_type": "code",
      "metadata": {
        "colab": {
          "base_uri": "https://localhost:8080/"
        },
        "id": "Ij-QtfSdOxKG",
        "outputId": "0940f5d2-a1dc-4d01-8221-ae1cc563648c"
      },
      "source": [
        "!git clone https://github.com/kenpurin/Retrosynthesis_TF.git"
      ],
      "id": "Ij-QtfSdOxKG",
      "execution_count": 1,
      "outputs": [
        {
          "output_type": "stream",
          "text": [
            "Cloning into 'Retrosynthesis_TF'...\n",
            "remote: Enumerating objects: 50, done.\u001b[K\n",
            "remote: Counting objects: 100% (50/50), done.\u001b[K\n",
            "remote: Compressing objects: 100% (46/46), done.\u001b[K\n",
            "remote: Total 50 (delta 19), reused 0 (delta 0), pack-reused 0\u001b[K\n",
            "Unpacking objects: 100% (50/50), done.\n"
          ],
          "name": "stdout"
        }
      ]
    },
    {
      "cell_type": "markdown",
      "metadata": {
        "id": "k3YfZKcVOVBP"
      },
      "source": [
        "# Data Processing"
      ],
      "id": "k3YfZKcVOVBP"
    },
    {
      "cell_type": "code",
      "metadata": {
        "id": "greater-timeline"
      },
      "source": [
        "import math\n",
        "import torchtext\n",
        "import torch\n",
        "import torch.nn as nn\n",
        "from torchtext.data.utils import get_tokenizer\n",
        "from collections import Counter\n",
        "from torchtext.vocab import Vocab\n",
        "from torchtext.utils import download_from_url, extract_archive\n",
        "from torch import Tensor\n",
        "import io\n",
        "import time\n",
        "\n",
        "torch.manual_seed(0)\n",
        "torch.use_deterministic_algorithms(True)\n"
      ],
      "id": "greater-timeline",
      "execution_count": 2,
      "outputs": []
    },
    {
      "cell_type": "code",
      "metadata": {
        "id": "arbitrary-china"
      },
      "source": [
        "#load data USPTO-50K\n",
        "train_src_filepaths='Retrosynthesis_TF/USPTO-50K/src/src-train.txt'\n",
        "train_tgt_filepaths='Retrosynthesis_TF/USPTO-50K/tgt/tgt-train.txt'\n",
        "val_src_filepaths='Retrosynthesis_TF/USPTO-50K/src/src-val.txt'\n",
        "val_tgt_filepaths='Retrosynthesis_TF/USPTO-50K/tgt/tgt-val.txt'\n",
        "test_src_filepaths='Retrosynthesis_TF/USPTO-50K/src/src-test.txt'\n",
        "test_tgt_filepaths='Retrosynthesis_TF/USPTO-50K/tgt/tgt-test.txt'"
      ],
      "id": "arbitrary-china",
      "execution_count": 3,
      "outputs": []
    },
    {
      "cell_type": "code",
      "metadata": {
        "id": "circular-south"
      },
      "source": [
        "#build_vocab\n",
        "src_filepath='Retrosynthesis_TF/USPTO-50K/src/src.txt'\n",
        "tgt_filepath='Retrosynthesis_TF/USPTO-50K/tgt/tgt.txt'\n",
        "tokenizer = get_tokenizer('basic_english')\n",
        "def build_vocab(filepath, tokenizer):\n",
        "  counter = Counter()\n",
        "  with io.open(filepath, encoding=\"utf8\") as f:\n",
        "    for string_ in f:\n",
        "      counter.update(tokenizer(string_))\n",
        "  return Vocab(counter, specials=['<unk>', '<pad>', '<bos>', '<eos>'])\n",
        "src_vocab = build_vocab(src_filepath,tokenizer)\n",
        "tgt_vocab = build_vocab(tgt_filepath,tokenizer)"
      ],
      "id": "circular-south",
      "execution_count": 4,
      "outputs": []
    },
    {
      "cell_type": "code",
      "metadata": {
        "id": "recorded-crawford"
      },
      "source": [
        "def data_process(filepaths1,filepaths2):\n",
        "  raw_src_iter = iter(io.open(filepaths1, encoding=\"utf8\"))\n",
        "  raw_tgt_iter = iter(io.open(filepaths2, encoding=\"utf8\"))\n",
        "  data = []\n",
        "  for (raw_src, raw_tgt) in zip(raw_src_iter, raw_tgt_iter):\n",
        "    src_tensor_ = torch.tensor([src_vocab[token] for token in tokenizer(raw_src.rstrip(\"\\n\"))],\n",
        "                            dtype=torch.long)\n",
        "    tgt_tensor_ = torch.tensor([tgt_vocab[token] for token in tokenizer(raw_tgt.rstrip(\"\\n\"))],\n",
        "                            dtype=torch.long)\n",
        "    data.append((src_tensor_, tgt_tensor_))\n",
        "  return data"
      ],
      "id": "recorded-crawford",
      "execution_count": 5,
      "outputs": []
    },
    {
      "cell_type": "code",
      "metadata": {
        "id": "polished-truth"
      },
      "source": [
        "train_data = data_process(train_src_filepaths,train_tgt_filepaths)\n",
        "val_data = data_process(val_src_filepaths,val_tgt_filepaths)\n",
        "test_data = data_process(test_src_filepaths,test_tgt_filepaths)\n"
      ],
      "id": "polished-truth",
      "execution_count": 6,
      "outputs": []
    },
    {
      "cell_type": "code",
      "metadata": {
        "id": "korean-savage"
      },
      "source": [
        "device = torch.device('cuda' if torch.cuda.is_available() else 'cpu')\n",
        "BATCH_SIZE = 128\n",
        "PAD_IDX = src_vocab['<pad>']\n",
        "BOS_IDX = src_vocab['<bos>']\n",
        "EOS_IDX = src_vocab['<eos>']"
      ],
      "id": "korean-savage",
      "execution_count": 7,
      "outputs": []
    },
    {
      "cell_type": "markdown",
      "metadata": {
        "id": "dJcCX4xNOSgZ"
      },
      "source": [
        "# DataLoader"
      ],
      "id": "dJcCX4xNOSgZ"
    },
    {
      "cell_type": "code",
      "metadata": {
        "id": "hundred-translator"
      },
      "source": [
        "from torch.nn.utils.rnn import pad_sequence\n",
        "from torch.utils.data import DataLoader\n",
        "\n",
        "def generate_batch(data_batch):\n",
        "  src_batch, tgt_batch = [], []\n",
        "  for (src_item, tgt_item) in data_batch:\n",
        "    src_batch.append(torch.cat([torch.tensor([BOS_IDX]), src_item, torch.tensor([EOS_IDX])], dim=0))\n",
        "    tgt_batch.append(torch.cat([torch.tensor([BOS_IDX]), tgt_item, torch.tensor([EOS_IDX])], dim=0))\n",
        "  src_batch = pad_sequence(src_batch, padding_value=PAD_IDX)\n",
        "  tgt_batch = pad_sequence(tgt_batch, padding_value=PAD_IDX)\n",
        "  return src_batch, tgt_batch\n",
        "\n",
        "train_iter = DataLoader(train_data, batch_size=BATCH_SIZE,\n",
        "                        shuffle=True, collate_fn=generate_batch)\n",
        "valid_iter = DataLoader(val_data, batch_size=BATCH_SIZE,\n",
        "                        shuffle=True, collate_fn=generate_batch)\n",
        "test_iter = DataLoader(test_data, batch_size=BATCH_SIZE,\n",
        "                       shuffle=True, collate_fn=generate_batch)"
      ],
      "id": "hundred-translator",
      "execution_count": 8,
      "outputs": []
    },
    {
      "cell_type": "markdown",
      "metadata": {
        "id": "JsF46_xVOBv7"
      },
      "source": [
        "#Transformer"
      ],
      "id": "JsF46_xVOBv7"
    },
    {
      "cell_type": "code",
      "metadata": {
        "id": "coupled-ballot"
      },
      "source": [
        "from torch.nn import (TransformerEncoder, TransformerDecoder,\n",
        "                      TransformerEncoderLayer, TransformerDecoderLayer)\n",
        "\n",
        "\n",
        "class Seq2SeqTransformer(nn.Module):\n",
        "    def __init__(self, num_encoder_layers: int, num_decoder_layers: int,\n",
        "                 emb_size: int, src_vocab_size: int, tgt_vocab_size: int,\n",
        "                 dim_feedforward:int = 512, dropout:float = 0.1):\n",
        "        super(Seq2SeqTransformer, self).__init__()\n",
        "        encoder_layer = TransformerEncoderLayer(d_model=emb_size, nhead=NHEAD,\n",
        "                                                dim_feedforward=dim_feedforward)\n",
        "        self.transformer_encoder = TransformerEncoder(encoder_layer, num_layers=num_encoder_layers)\n",
        "        decoder_layer = TransformerDecoderLayer(d_model=emb_size, nhead=NHEAD,\n",
        "                                                dim_feedforward=dim_feedforward)\n",
        "        self.transformer_decoder = TransformerDecoder(decoder_layer, num_layers=num_decoder_layers)\n",
        "\n",
        "        self.generator = nn.Linear(emb_size, tgt_vocab_size)\n",
        "        self.src_tok_emb = TokenEmbedding(src_vocab_size, emb_size)\n",
        "        self.tgt_tok_emb = TokenEmbedding(tgt_vocab_size, emb_size)\n",
        "        self.positional_encoding = PositionalEncoding(emb_size, dropout=dropout)\n",
        "\n",
        "    def forward(self, src: Tensor, trg: Tensor, src_mask: Tensor,\n",
        "                tgt_mask: Tensor, src_padding_mask: Tensor,\n",
        "                tgt_padding_mask: Tensor, memory_key_padding_mask: Tensor):\n",
        "        src_emb = self.positional_encoding(self.src_tok_emb(src))\n",
        "        tgt_emb = self.positional_encoding(self.tgt_tok_emb(trg))\n",
        "        memory = self.transformer_encoder(src_emb, src_mask, src_padding_mask)\n",
        "        outs = self.transformer_decoder(tgt_emb, memory, tgt_mask, None,\n",
        "                                        tgt_padding_mask, memory_key_padding_mask)\n",
        "        return self.generator(outs)\n",
        "\n",
        "    def encode(self, src: Tensor, src_mask: Tensor):\n",
        "        return self.transformer_encoder(self.positional_encoding(\n",
        "                            self.src_tok_emb(src)), src_mask)\n",
        "\n",
        "    def decode(self, tgt: Tensor, memory: Tensor, tgt_mask: Tensor):\n",
        "        return self.transformer_decoder(self.positional_encoding(\n",
        "                          self.tgt_tok_emb(tgt)), memory,\n",
        "                          tgt_mask)"
      ],
      "id": "coupled-ballot",
      "execution_count": 9,
      "outputs": []
    },
    {
      "cell_type": "code",
      "metadata": {
        "id": "random-trance"
      },
      "source": [
        "class PositionalEncoding(nn.Module):\n",
        "    def __init__(self, emb_size: int, dropout, maxlen: int = 5000):\n",
        "        super(PositionalEncoding, self).__init__()\n",
        "        den = torch.exp(- torch.arange(0, emb_size, 2) * math.log(10000) / emb_size)\n",
        "        pos = torch.arange(0, maxlen).reshape(maxlen, 1)\n",
        "        pos_embedding = torch.zeros((maxlen, emb_size))\n",
        "        pos_embedding[:, 0::2] = torch.sin(pos * den)\n",
        "        pos_embedding[:, 1::2] = torch.cos(pos * den)\n",
        "        pos_embedding = pos_embedding.unsqueeze(-2)\n",
        "\n",
        "        self.dropout = nn.Dropout(dropout)\n",
        "        self.register_buffer('pos_embedding', pos_embedding)\n",
        "\n",
        "    def forward(self, token_embedding: Tensor):\n",
        "        return self.dropout(token_embedding +\n",
        "                            self.pos_embedding[:token_embedding.size(0),:])\n",
        "\n",
        "class TokenEmbedding(nn.Module):\n",
        "    def __init__(self, vocab_size: int, emb_size):\n",
        "        super(TokenEmbedding, self).__init__()\n",
        "        self.embedding = nn.Embedding(vocab_size, emb_size)\n",
        "        self.emb_size = emb_size\n",
        "    def forward(self, tokens: Tensor):\n",
        "        return self.embedding(tokens.long()) * math.sqrt(self.emb_size)"
      ],
      "id": "random-trance",
      "execution_count": 10,
      "outputs": []
    },
    {
      "cell_type": "code",
      "metadata": {
        "id": "japanese-polls"
      },
      "source": [
        "def generate_square_subsequent_mask(sz):\n",
        "    mask = (torch.triu(torch.ones((sz, sz), device=DEVICE)) == 1).transpose(0, 1)\n",
        "    mask = mask.float().masked_fill(mask == 0, float('-inf')).masked_fill(mask == 1, float(0.0))\n",
        "    return mask\n",
        "\n",
        "def create_mask(src, tgt):\n",
        "  src_seq_len = src.shape[0]\n",
        "  tgt_seq_len = tgt.shape[0]\n",
        "\n",
        "  tgt_mask = generate_square_subsequent_mask(tgt_seq_len)\n",
        "  src_mask = torch.zeros((src_seq_len, src_seq_len), device=DEVICE).type(torch.bool)\n",
        "\n",
        "  src_padding_mask = (src == PAD_IDX).transpose(0, 1)\n",
        "  tgt_padding_mask = (tgt == PAD_IDX).transpose(0, 1)\n",
        "  return src_mask, tgt_mask, src_padding_mask, tgt_padding_mask"
      ],
      "id": "japanese-polls",
      "execution_count": 11,
      "outputs": []
    },
    {
      "cell_type": "code",
      "metadata": {
        "id": "convenient-facial"
      },
      "source": [
        "SRC_VOCAB_SIZE = len(src_vocab)\n",
        "TGT_VOCAB_SIZE = len(tgt_vocab)\n",
        "EMB_SIZE = 512\n",
        "NHEAD = 8\n",
        "FFN_HID_DIM = 512\n",
        "BATCH_SIZE = 128\n",
        "NUM_ENCODER_LAYERS = 3\n",
        "NUM_DECODER_LAYERS = 3\n",
        "NUM_EPOCHS = 100\n",
        "\n",
        "DEVICE = torch.device('cuda:0' if torch.cuda.is_available() else 'cpu')\n",
        "\n",
        "transformer = Seq2SeqTransformer(NUM_ENCODER_LAYERS, NUM_DECODER_LAYERS,\n",
        "                                 EMB_SIZE, SRC_VOCAB_SIZE, TGT_VOCAB_SIZE,\n",
        "                                 FFN_HID_DIM)\n",
        "\n",
        "for p in transformer.parameters():\n",
        "    if p.dim() > 1:\n",
        "        nn.init.xavier_uniform_(p)\n",
        "\n",
        "transformer = transformer.to(device)\n",
        "\n",
        "loss_fn = torch.nn.CrossEntropyLoss(ignore_index=PAD_IDX)\n",
        "\n",
        "optimizer = torch.optim.Adam(\n",
        "    transformer.parameters(), lr=0.0001, betas=(0.9, 0.98), eps=1e-9\n",
        ")"
      ],
      "id": "convenient-facial",
      "execution_count": 13,
      "outputs": []
    },
    {
      "cell_type": "code",
      "metadata": {
        "id": "obvious-curve"
      },
      "source": [
        "def train_epoch(model, train_iter, optimizer):\n",
        "  model.train()\n",
        "  losses = 0\n",
        "  for idx, (src, tgt) in enumerate(train_iter):\n",
        "      src = src.to(device)\n",
        "      tgt = tgt.to(device)\n",
        "\n",
        "      tgt_input = tgt[:-1, :]\n",
        "\n",
        "      src_mask, tgt_mask, src_padding_mask, tgt_padding_mask = create_mask(src, tgt_input)\n",
        "\n",
        "      logits = model(src, tgt_input, src_mask, tgt_mask,\n",
        "                                src_padding_mask, tgt_padding_mask, src_padding_mask)\n",
        "\n",
        "      optimizer.zero_grad()\n",
        "\n",
        "      tgt_out = tgt[1:,:]\n",
        "      loss = loss_fn(logits.reshape(-1, logits.shape[-1]), tgt_out.reshape(-1))\n",
        "      loss.backward()\n",
        "\n",
        "      optimizer.step()\n",
        "      losses += loss.item()\n",
        "  return losses / len(train_iter)\n",
        "\n",
        "\n",
        "def evaluate(model, val_iter):\n",
        "  model.eval()\n",
        "  losses = 0\n",
        "  for idx, (src, tgt) in (enumerate(valid_iter)):\n",
        "    src = src.to(device)\n",
        "    tgt = tgt.to(device)\n",
        "\n",
        "    tgt_input = tgt[:-1, :]\n",
        "\n",
        "    src_mask, tgt_mask, src_padding_mask, tgt_padding_mask = create_mask(src, tgt_input)\n",
        "\n",
        "    logits = model(src, tgt_input, src_mask, tgt_mask,\n",
        "                              src_padding_mask, tgt_padding_mask, src_padding_mask)\n",
        "    tgt_out = tgt[1:,:]\n",
        "    loss = loss_fn(logits.reshape(-1, logits.shape[-1]), tgt_out.reshape(-1))\n",
        "    losses += loss.item()\n",
        "  return losses / len(val_iter)"
      ],
      "id": "obvious-curve",
      "execution_count": 14,
      "outputs": []
    },
    {
      "cell_type": "markdown",
      "metadata": {
        "id": "iA-ga-sAPhK1"
      },
      "source": [
        "# Train model"
      ],
      "id": "iA-ga-sAPhK1"
    },
    {
      "cell_type": "code",
      "metadata": {
        "colab": {
          "base_uri": "https://localhost:8080/"
        },
        "id": "palestinian-singapore",
        "outputId": "fe7521c9-c21c-4279-d5d8-6794d69eb8c2"
      },
      "source": [
        "for epoch in range(1, NUM_EPOCHS+1):\n",
        "  start_time = time.time()\n",
        "  train_loss = train_epoch(transformer, train_iter, optimizer)\n",
        "  end_time = time.time()\n",
        "  val_loss = evaluate(transformer, valid_iter)\n",
        "  print((f\"Epoch: {epoch}, Train loss: {train_loss:.3f}, Val loss: {val_loss:.3f}, \"\n",
        "          f\"Epoch time = {(end_time - start_time):.3f}s\"))"
      ],
      "id": "palestinian-singapore",
      "execution_count": 15,
      "outputs": [
        {
          "output_type": "stream",
          "text": [
            "Epoch: 1, Train loss: 1.491, Val loss: 1.056, Epoch time = 92.940s\n",
            "Epoch: 2, Train loss: 1.027, Val loss: 0.865, Epoch time = 91.985s\n",
            "Epoch: 3, Train loss: 0.898, Val loss: 0.773, Epoch time = 91.853s\n",
            "Epoch: 4, Train loss: 0.820, Val loss: 0.702, Epoch time = 92.316s\n",
            "Epoch: 5, Train loss: 0.762, Val loss: 0.653, Epoch time = 91.594s\n",
            "Epoch: 6, Train loss: 0.716, Val loss: 0.610, Epoch time = 91.564s\n",
            "Epoch: 7, Train loss: 0.678, Val loss: 0.582, Epoch time = 91.588s\n",
            "Epoch: 8, Train loss: 0.646, Val loss: 0.551, Epoch time = 92.222s\n",
            "Epoch: 9, Train loss: 0.616, Val loss: 0.529, Epoch time = 92.388s\n",
            "Epoch: 10, Train loss: 0.591, Val loss: 0.501, Epoch time = 92.082s\n",
            "Epoch: 11, Train loss: 0.568, Val loss: 0.481, Epoch time = 92.631s\n",
            "Epoch: 12, Train loss: 0.547, Val loss: 0.464, Epoch time = 92.110s\n",
            "Epoch: 13, Train loss: 0.526, Val loss: 0.434, Epoch time = 92.659s\n",
            "Epoch: 14, Train loss: 0.505, Val loss: 0.421, Epoch time = 92.335s\n",
            "Epoch: 15, Train loss: 0.484, Val loss: 0.399, Epoch time = 91.960s\n",
            "Epoch: 16, Train loss: 0.465, Val loss: 0.375, Epoch time = 91.823s\n",
            "Epoch: 17, Train loss: 0.446, Val loss: 0.355, Epoch time = 92.605s\n",
            "Epoch: 18, Train loss: 0.427, Val loss: 0.336, Epoch time = 92.831s\n",
            "Epoch: 19, Train loss: 0.409, Val loss: 0.317, Epoch time = 92.691s\n",
            "Epoch: 20, Train loss: 0.391, Val loss: 0.316, Epoch time = 92.093s\n",
            "Epoch: 21, Train loss: 0.374, Val loss: 0.306, Epoch time = 91.872s\n",
            "Epoch: 22, Train loss: 0.359, Val loss: 0.278, Epoch time = 92.446s\n",
            "Epoch: 23, Train loss: 0.344, Val loss: 0.264, Epoch time = 92.492s\n",
            "Epoch: 24, Train loss: 0.329, Val loss: 0.253, Epoch time = 92.282s\n",
            "Epoch: 25, Train loss: 0.315, Val loss: 0.240, Epoch time = 92.388s\n",
            "Epoch: 26, Train loss: 0.302, Val loss: 0.230, Epoch time = 92.225s\n",
            "Epoch: 27, Train loss: 0.289, Val loss: 0.223, Epoch time = 92.365s\n",
            "Epoch: 28, Train loss: 0.277, Val loss: 0.210, Epoch time = 92.184s\n",
            "Epoch: 29, Train loss: 0.265, Val loss: 0.202, Epoch time = 91.883s\n",
            "Epoch: 30, Train loss: 0.254, Val loss: 0.193, Epoch time = 92.572s\n",
            "Epoch: 31, Train loss: 0.243, Val loss: 0.189, Epoch time = 92.736s\n",
            "Epoch: 32, Train loss: 0.233, Val loss: 0.179, Epoch time = 92.253s\n",
            "Epoch: 33, Train loss: 0.224, Val loss: 0.170, Epoch time = 92.384s\n",
            "Epoch: 34, Train loss: 0.216, Val loss: 0.166, Epoch time = 91.847s\n",
            "Epoch: 35, Train loss: 0.208, Val loss: 0.167, Epoch time = 91.712s\n",
            "Epoch: 36, Train loss: 0.202, Val loss: 0.162, Epoch time = 92.037s\n",
            "Epoch: 37, Train loss: 0.195, Val loss: 0.160, Epoch time = 92.071s\n",
            "Epoch: 38, Train loss: 0.190, Val loss: 0.148, Epoch time = 92.502s\n",
            "Epoch: 39, Train loss: 0.183, Val loss: 0.148, Epoch time = 92.436s\n",
            "Epoch: 40, Train loss: 0.178, Val loss: 0.147, Epoch time = 92.153s\n",
            "Epoch: 41, Train loss: 0.173, Val loss: 0.139, Epoch time = 92.670s\n",
            "Epoch: 42, Train loss: 0.168, Val loss: 0.139, Epoch time = 91.838s\n",
            "Epoch: 43, Train loss: 0.164, Val loss: 0.138, Epoch time = 91.923s\n",
            "Epoch: 44, Train loss: 0.159, Val loss: 0.133, Epoch time = 92.371s\n",
            "Epoch: 45, Train loss: 0.155, Val loss: 0.133, Epoch time = 91.868s\n",
            "Epoch: 46, Train loss: 0.152, Val loss: 0.126, Epoch time = 92.543s\n",
            "Epoch: 47, Train loss: 0.148, Val loss: 0.128, Epoch time = 91.888s\n",
            "Epoch: 48, Train loss: 0.143, Val loss: 0.125, Epoch time = 92.390s\n",
            "Epoch: 49, Train loss: 0.140, Val loss: 0.123, Epoch time = 91.777s\n",
            "Epoch: 50, Train loss: 0.137, Val loss: 0.119, Epoch time = 91.402s\n",
            "Epoch: 51, Train loss: 0.134, Val loss: 0.123, Epoch time = 91.890s\n",
            "Epoch: 52, Train loss: 0.131, Val loss: 0.120, Epoch time = 92.211s\n",
            "Epoch: 53, Train loss: 0.128, Val loss: 0.118, Epoch time = 91.672s\n",
            "Epoch: 54, Train loss: 0.126, Val loss: 0.119, Epoch time = 92.023s\n",
            "Epoch: 55, Train loss: 0.123, Val loss: 0.118, Epoch time = 92.327s\n",
            "Epoch: 56, Train loss: 0.120, Val loss: 0.116, Epoch time = 91.726s\n",
            "Epoch: 57, Train loss: 0.118, Val loss: 0.112, Epoch time = 92.356s\n",
            "Epoch: 58, Train loss: 0.115, Val loss: 0.112, Epoch time = 92.619s\n",
            "Epoch: 59, Train loss: 0.113, Val loss: 0.112, Epoch time = 91.820s\n",
            "Epoch: 60, Train loss: 0.111, Val loss: 0.109, Epoch time = 91.814s\n",
            "Epoch: 61, Train loss: 0.109, Val loss: 0.109, Epoch time = 91.916s\n",
            "Epoch: 62, Train loss: 0.107, Val loss: 0.108, Epoch time = 91.690s\n",
            "Epoch: 63, Train loss: 0.104, Val loss: 0.108, Epoch time = 92.329s\n",
            "Epoch: 64, Train loss: 0.103, Val loss: 0.108, Epoch time = 91.414s\n",
            "Epoch: 65, Train loss: 0.101, Val loss: 0.106, Epoch time = 92.140s\n",
            "Epoch: 66, Train loss: 0.099, Val loss: 0.108, Epoch time = 91.665s\n",
            "Epoch: 67, Train loss: 0.098, Val loss: 0.106, Epoch time = 91.372s\n",
            "Epoch: 68, Train loss: 0.096, Val loss: 0.106, Epoch time = 92.912s\n",
            "Epoch: 69, Train loss: 0.095, Val loss: 0.103, Epoch time = 92.359s\n",
            "Epoch: 70, Train loss: 0.093, Val loss: 0.109, Epoch time = 92.810s\n",
            "Epoch: 71, Train loss: 0.092, Val loss: 0.105, Epoch time = 91.918s\n",
            "Epoch: 72, Train loss: 0.090, Val loss: 0.102, Epoch time = 92.064s\n",
            "Epoch: 73, Train loss: 0.089, Val loss: 0.105, Epoch time = 91.647s\n",
            "Epoch: 74, Train loss: 0.088, Val loss: 0.105, Epoch time = 92.520s\n",
            "Epoch: 75, Train loss: 0.085, Val loss: 0.103, Epoch time = 91.901s\n",
            "Epoch: 76, Train loss: 0.085, Val loss: 0.103, Epoch time = 91.846s\n",
            "Epoch: 77, Train loss: 0.083, Val loss: 0.104, Epoch time = 92.135s\n",
            "Epoch: 78, Train loss: 0.082, Val loss: 0.104, Epoch time = 91.609s\n",
            "Epoch: 79, Train loss: 0.081, Val loss: 0.103, Epoch time = 91.851s\n",
            "Epoch: 80, Train loss: 0.080, Val loss: 0.101, Epoch time = 92.061s\n",
            "Epoch: 81, Train loss: 0.078, Val loss: 0.104, Epoch time = 92.523s\n",
            "Epoch: 82, Train loss: 0.077, Val loss: 0.101, Epoch time = 91.879s\n",
            "Epoch: 83, Train loss: 0.076, Val loss: 0.105, Epoch time = 92.100s\n",
            "Epoch: 84, Train loss: 0.075, Val loss: 0.103, Epoch time = 91.586s\n",
            "Epoch: 85, Train loss: 0.074, Val loss: 0.103, Epoch time = 92.483s\n",
            "Epoch: 86, Train loss: 0.073, Val loss: 0.102, Epoch time = 92.442s\n",
            "Epoch: 87, Train loss: 0.072, Val loss: 0.101, Epoch time = 92.152s\n",
            "Epoch: 88, Train loss: 0.071, Val loss: 0.102, Epoch time = 92.621s\n",
            "Epoch: 89, Train loss: 0.070, Val loss: 0.104, Epoch time = 91.857s\n",
            "Epoch: 90, Train loss: 0.069, Val loss: 0.102, Epoch time = 92.093s\n",
            "Epoch: 91, Train loss: 0.068, Val loss: 0.103, Epoch time = 92.264s\n",
            "Epoch: 92, Train loss: 0.067, Val loss: 0.103, Epoch time = 92.399s\n",
            "Epoch: 93, Train loss: 0.066, Val loss: 0.104, Epoch time = 92.402s\n",
            "Epoch: 94, Train loss: 0.066, Val loss: 0.104, Epoch time = 92.468s\n",
            "Epoch: 95, Train loss: 0.065, Val loss: 0.103, Epoch time = 91.701s\n",
            "Epoch: 96, Train loss: 0.064, Val loss: 0.102, Epoch time = 91.724s\n",
            "Epoch: 97, Train loss: 0.063, Val loss: 0.101, Epoch time = 91.715s\n",
            "Epoch: 98, Train loss: 0.063, Val loss: 0.106, Epoch time = 92.145s\n",
            "Epoch: 99, Train loss: 0.062, Val loss: 0.104, Epoch time = 92.168s\n",
            "Epoch: 100, Train loss: 0.061, Val loss: 0.103, Epoch time = 91.947s\n"
          ],
          "name": "stdout"
        }
      ]
    },
    {
      "cell_type": "markdown",
      "metadata": {
        "id": "BR18XFXdTnG5"
      },
      "source": [
        "# Save model"
      ],
      "id": "BR18XFXdTnG5"
    },
    {
      "cell_type": "code",
      "metadata": {
        "id": "G6LO44AGTiGC"
      },
      "source": [
        "#https://pytorch.org/tutorials/beginner/basics/saveloadrun_tutorial.html"
      ],
      "id": "G6LO44AGTiGC",
      "execution_count": 16,
      "outputs": []
    },
    {
      "cell_type": "code",
      "metadata": {
        "id": "Dp04s1QPSggC"
      },
      "source": [
        "save_name=\"model_tranformer_epochs_\"+str(NUM_EPOCHS)+\".pth\"\n",
        "torch.save(transformer,save_name)"
      ],
      "id": "Dp04s1QPSggC",
      "execution_count": 17,
      "outputs": []
    },
    {
      "cell_type": "code",
      "metadata": {
        "colab": {
          "base_uri": "https://localhost:8080/",
          "height": 17
        },
        "id": "G727aVpIfFNd",
        "outputId": "74e0a563-0dfc-412a-8a57-fd18ce19e806"
      },
      "source": [
        "from google.colab import files\n",
        "files.download(save_name)"
      ],
      "id": "G727aVpIfFNd",
      "execution_count": 18,
      "outputs": [
        {
          "output_type": "display_data",
          "data": {
            "application/javascript": [
              "\n",
              "    async function download(id, filename, size) {\n",
              "      if (!google.colab.kernel.accessAllowed) {\n",
              "        return;\n",
              "      }\n",
              "      const div = document.createElement('div');\n",
              "      const label = document.createElement('label');\n",
              "      label.textContent = `Downloading \"${filename}\": `;\n",
              "      div.appendChild(label);\n",
              "      const progress = document.createElement('progress');\n",
              "      progress.max = size;\n",
              "      div.appendChild(progress);\n",
              "      document.body.appendChild(div);\n",
              "\n",
              "      const buffers = [];\n",
              "      let downloaded = 0;\n",
              "\n",
              "      const channel = await google.colab.kernel.comms.open(id);\n",
              "      // Send a message to notify the kernel that we're ready.\n",
              "      channel.send({})\n",
              "\n",
              "      for await (const message of channel.messages) {\n",
              "        // Send a message to notify the kernel that we're ready.\n",
              "        channel.send({})\n",
              "        if (message.buffers) {\n",
              "          for (const buffer of message.buffers) {\n",
              "            buffers.push(buffer);\n",
              "            downloaded += buffer.byteLength;\n",
              "            progress.value = downloaded;\n",
              "          }\n",
              "        }\n",
              "      }\n",
              "      const blob = new Blob(buffers, {type: 'application/binary'});\n",
              "      const a = document.createElement('a');\n",
              "      a.href = window.URL.createObjectURL(blob);\n",
              "      a.download = filename;\n",
              "      div.appendChild(a);\n",
              "      a.click();\n",
              "      div.remove();\n",
              "    }\n",
              "  "
            ],
            "text/plain": [
              "<IPython.core.display.Javascript object>"
            ]
          },
          "metadata": {
            "tags": []
          }
        },
        {
          "output_type": "display_data",
          "data": {
            "application/javascript": [
              "download(\"download_446d8569-42f1-4567-93d5-ee0ff5075ac3\", \"model_tranformer_epochs_100.pth\", 61044038)"
            ],
            "text/plain": [
              "<IPython.core.display.Javascript object>"
            ]
          },
          "metadata": {
            "tags": []
          }
        }
      ]
    },
    {
      "cell_type": "markdown",
      "metadata": {
        "id": "CG4a4hNDDzie"
      },
      "source": [
        "save file .pt"
      ],
      "id": "CG4a4hNDDzie"
    },
    {
      "cell_type": "code",
      "metadata": {
        "id": "LAInYkolDgXE"
      },
      "source": [
        "save_name_pt=\"model_tranformer_epochs_\"+str(NUM_EPOCHS)+\".pt\"\n",
        "torch.save(transformer,save_name_pt)"
      ],
      "id": "LAInYkolDgXE",
      "execution_count": 19,
      "outputs": []
    },
    {
      "cell_type": "code",
      "metadata": {
        "colab": {
          "base_uri": "https://localhost:8080/",
          "height": 34
        },
        "id": "Wn2T5UBGDkBe",
        "outputId": "cc76b951-86f5-4dbd-f0e1-ab3d7843a671"
      },
      "source": [
        "files.download(save_name_pt)"
      ],
      "id": "Wn2T5UBGDkBe",
      "execution_count": 30,
      "outputs": [
        {
          "output_type": "display_data",
          "data": {
            "application/javascript": [
              "\n",
              "    async function download(id, filename, size) {\n",
              "      if (!google.colab.kernel.accessAllowed) {\n",
              "        return;\n",
              "      }\n",
              "      const div = document.createElement('div');\n",
              "      const label = document.createElement('label');\n",
              "      label.textContent = `Downloading \"${filename}\": `;\n",
              "      div.appendChild(label);\n",
              "      const progress = document.createElement('progress');\n",
              "      progress.max = size;\n",
              "      div.appendChild(progress);\n",
              "      document.body.appendChild(div);\n",
              "\n",
              "      const buffers = [];\n",
              "      let downloaded = 0;\n",
              "\n",
              "      const channel = await google.colab.kernel.comms.open(id);\n",
              "      // Send a message to notify the kernel that we're ready.\n",
              "      channel.send({})\n",
              "\n",
              "      for await (const message of channel.messages) {\n",
              "        // Send a message to notify the kernel that we're ready.\n",
              "        channel.send({})\n",
              "        if (message.buffers) {\n",
              "          for (const buffer of message.buffers) {\n",
              "            buffers.push(buffer);\n",
              "            downloaded += buffer.byteLength;\n",
              "            progress.value = downloaded;\n",
              "          }\n",
              "        }\n",
              "      }\n",
              "      const blob = new Blob(buffers, {type: 'application/binary'});\n",
              "      const a = document.createElement('a');\n",
              "      a.href = window.URL.createObjectURL(blob);\n",
              "      a.download = filename;\n",
              "      div.appendChild(a);\n",
              "      a.click();\n",
              "      div.remove();\n",
              "    }\n",
              "  "
            ],
            "text/plain": [
              "<IPython.core.display.Javascript object>"
            ]
          },
          "metadata": {
            "tags": []
          }
        },
        {
          "output_type": "display_data",
          "data": {
            "application/javascript": [
              "download(\"download_ea4d5cde-cc92-4389-90d3-2a4874df0792\", \"model_tranformer_epochs_100.pt\", 61044038)"
            ],
            "text/plain": [
              "<IPython.core.display.Javascript object>"
            ]
          },
          "metadata": {
            "tags": []
          }
        }
      ]
    },
    {
      "cell_type": "markdown",
      "metadata": {
        "id": "oo_0B6raTtaI"
      },
      "source": [
        "# Load model"
      ],
      "id": "oo_0B6raTtaI"
    },
    {
      "cell_type": "code",
      "metadata": {
        "id": "tyaO_Dw7ThW9"
      },
      "source": [
        "model = torch.load('model_tranformer_epochs_5.pth')"
      ],
      "id": "tyaO_Dw7ThW9",
      "execution_count": null,
      "outputs": []
    },
    {
      "cell_type": "code",
      "metadata": {
        "id": "molecular-newton"
      },
      "source": [
        "import pandas as pd\n",
        "import numpy as np"
      ],
      "id": "molecular-newton",
      "execution_count": 21,
      "outputs": []
    },
    {
      "cell_type": "code",
      "metadata": {
        "id": "supreme-sword",
        "colab": {
          "base_uri": "https://localhost:8080/",
          "height": 419
        },
        "outputId": "7641d09a-ec28-412d-b033-cefcf7367e64"
      },
      "source": [
        "df_src=pd.read_csv(src_filepath,names=[\"input\"])\n",
        "df_tgt=pd.read_csv(tgt_filepath,names=[\"target\"])\n",
        "df = pd.concat([df_src,df_tgt], axis=1)\n",
        "df"
      ],
      "id": "supreme-sword",
      "execution_count": 22,
      "outputs": [
        {
          "output_type": "execute_result",
          "data": {
            "text/html": [
              "<div>\n",
              "<style scoped>\n",
              "    .dataframe tbody tr th:only-of-type {\n",
              "        vertical-align: middle;\n",
              "    }\n",
              "\n",
              "    .dataframe tbody tr th {\n",
              "        vertical-align: top;\n",
              "    }\n",
              "\n",
              "    .dataframe thead th {\n",
              "        text-align: right;\n",
              "    }\n",
              "</style>\n",
              "<table border=\"1\" class=\"dataframe\">\n",
              "  <thead>\n",
              "    <tr style=\"text-align: right;\">\n",
              "      <th></th>\n",
              "      <th>input</th>\n",
              "      <th>target</th>\n",
              "    </tr>\n",
              "  </thead>\n",
              "  <tbody>\n",
              "    <tr>\n",
              "      <th>0</th>\n",
              "      <td>&lt;RX_1&gt; O = C 1 C C [ C @ H ] ( C N 2 C C N ( C...</td>\n",
              "      <td>C S ( = O ) ( = O ) O C [ C @ H ] 1 C C C ( = ...</td>\n",
              "    </tr>\n",
              "    <tr>\n",
              "      <th>1</th>\n",
              "      <td>&lt;RX_6&gt; N c 1 n c 2 [ n H ] c ( C C C c 3 c s c...</td>\n",
              "      <td>C O C ( = O ) c 1 c c ( C C C c 2 c c 3 c ( = ...</td>\n",
              "    </tr>\n",
              "    <tr>\n",
              "      <th>2</th>\n",
              "      <td>&lt;RX_9&gt; C C 1 ( C ) O B ( c 2 c c c c ( N c 3 n...</td>\n",
              "      <td>C C 1 ( C ) O B ( B 2 O C ( C ) ( C ) C ( C ) ...</td>\n",
              "    </tr>\n",
              "    <tr>\n",
              "      <th>3</th>\n",
              "      <td>&lt;RX_6&gt; C C ( C ) ( C ) O C ( = O ) N C C ( = O...</td>\n",
              "      <td>C C ( C ) ( C ) O C ( = O ) N C C ( = O ) C C ...</td>\n",
              "    </tr>\n",
              "    <tr>\n",
              "      <th>4</th>\n",
              "      <td>&lt;RX_1&gt; F c 1 c c 2 c ( N C 3 C C C C C C 3 ) n...</td>\n",
              "      <td>F c 1 c c 2 c ( C l ) n c n c 2 c n 1 . N C 1 ...</td>\n",
              "    </tr>\n",
              "    <tr>\n",
              "      <th>...</th>\n",
              "      <td>...</td>\n",
              "      <td>...</td>\n",
              "    </tr>\n",
              "    <tr>\n",
              "      <th>50032</th>\n",
              "      <td>&lt;RX_1&gt; C C ( C ) ( C ) O C ( = O ) N 1 C C c 2...</td>\n",
              "      <td>C C ( C ) ( C ) O C ( = O ) N 1 C C c 2 c c c ...</td>\n",
              "    </tr>\n",
              "    <tr>\n",
              "      <th>50033</th>\n",
              "      <td>&lt;RX_2&gt; C C ( = O ) O C C N C ( = O ) O C ( C )...</td>\n",
              "      <td>C C ( = O ) C l . C C ( C ) ( C ) O C ( = O ) ...</td>\n",
              "    </tr>\n",
              "    <tr>\n",
              "      <th>50034</th>\n",
              "      <td>&lt;RX_3&gt; C c 1 c c c ( - c 2 c c n c c 2 ) c c 1...</td>\n",
              "      <td>C c 1 c c c ( B r ) c c 1 C = O . O B ( O ) c ...</td>\n",
              "    </tr>\n",
              "    <tr>\n",
              "      <th>50035</th>\n",
              "      <td>&lt;RX_1&gt; C C ( C ) ( C ) O C 1 C [ C @ @ H ] 2 C...</td>\n",
              "      <td>C C ( C ) ( C ) O . O = C C 1 = C [ C @ H ] 2 ...</td>\n",
              "    </tr>\n",
              "    <tr>\n",
              "      <th>50036</th>\n",
              "      <td>&lt;RX_4&gt; F c 1 c c ( B r ) c c 2 [ n H ] c n c 1 2</td>\n",
              "      <td>N c 1 c c ( B r ) c c ( F ) c 1 N . O = C O</td>\n",
              "    </tr>\n",
              "  </tbody>\n",
              "</table>\n",
              "<p>50037 rows × 2 columns</p>\n",
              "</div>"
            ],
            "text/plain": [
              "                                                   input                                             target\n",
              "0      <RX_1> O = C 1 C C [ C @ H ] ( C N 2 C C N ( C...  C S ( = O ) ( = O ) O C [ C @ H ] 1 C C C ( = ...\n",
              "1      <RX_6> N c 1 n c 2 [ n H ] c ( C C C c 3 c s c...  C O C ( = O ) c 1 c c ( C C C c 2 c c 3 c ( = ...\n",
              "2      <RX_9> C C 1 ( C ) O B ( c 2 c c c c ( N c 3 n...  C C 1 ( C ) O B ( B 2 O C ( C ) ( C ) C ( C ) ...\n",
              "3      <RX_6> C C ( C ) ( C ) O C ( = O ) N C C ( = O...  C C ( C ) ( C ) O C ( = O ) N C C ( = O ) C C ...\n",
              "4      <RX_1> F c 1 c c 2 c ( N C 3 C C C C C C 3 ) n...  F c 1 c c 2 c ( C l ) n c n c 2 c n 1 . N C 1 ...\n",
              "...                                                  ...                                                ...\n",
              "50032  <RX_1> C C ( C ) ( C ) O C ( = O ) N 1 C C c 2...  C C ( C ) ( C ) O C ( = O ) N 1 C C c 2 c c c ...\n",
              "50033  <RX_2> C C ( = O ) O C C N C ( = O ) O C ( C )...  C C ( = O ) C l . C C ( C ) ( C ) O C ( = O ) ...\n",
              "50034  <RX_3> C c 1 c c c ( - c 2 c c n c c 2 ) c c 1...  C c 1 c c c ( B r ) c c 1 C = O . O B ( O ) c ...\n",
              "50035  <RX_1> C C ( C ) ( C ) O C 1 C [ C @ @ H ] 2 C...  C C ( C ) ( C ) O . O = C C 1 = C [ C @ H ] 2 ...\n",
              "50036   <RX_4> F c 1 c c ( B r ) c c 2 [ n H ] c n c 1 2        N c 1 c c ( B r ) c c ( F ) c 1 N . O = C O\n",
              "\n",
              "[50037 rows x 2 columns]"
            ]
          },
          "metadata": {
            "tags": []
          },
          "execution_count": 22
        }
      ]
    },
    {
      "cell_type": "code",
      "metadata": {
        "id": "Mx6FphMOK0ZK"
      },
      "source": [
        "def greedy_decode(model, src, src_mask, max_len, start_symbol):\n",
        "    src = src.to(device)\n",
        "    src_mask = src_mask.to(device)\n",
        "\n",
        "    memory = model.encode(src, src_mask)\n",
        "    ys = torch.ones(1, 1).fill_(start_symbol).type(torch.long).to(device)\n",
        "    for i in range(max_len-1):\n",
        "        memory = memory.to(device)\n",
        "        memory_mask = torch.zeros(ys.shape[0], memory.shape[0]).to(device).type(torch.bool)\n",
        "        tgt_mask = (generate_square_subsequent_mask(ys.size(0))\n",
        "                                    .type(torch.bool)).to(device)\n",
        "        out = model.decode(ys, memory, tgt_mask)\n",
        "        out = out.transpose(0, 1)\n",
        "        prob = model.generator(out[:, -1])\n",
        "        _, next_word = torch.max(prob, dim = 1)\n",
        "        next_word = next_word.item()\n",
        "\n",
        "        ys = torch.cat([ys,\n",
        "                        torch.ones(1, 1).type_as(src.data).fill_(next_word)], dim=0)\n",
        "        if next_word == EOS_IDX:\n",
        "          break\n",
        "    return ys\n",
        "\n",
        "\n",
        "def translate(model, src, src_vocab, tgt_vocab, src_tokenizer):\n",
        "  model.eval()\n",
        "  tokens = [BOS_IDX] + [src_vocab.stoi[tok] for tok in src_tokenizer(src)]+ [EOS_IDX]\n",
        "  num_tokens = len(tokens)\n",
        "  src = (torch.LongTensor(tokens).reshape(num_tokens, 1) )\n",
        "  src_mask = (torch.zeros(num_tokens, num_tokens)).type(torch.bool)\n",
        "  tgt_tokens = greedy_decode(model,  src, src_mask, max_len=num_tokens + 5, start_symbol=BOS_IDX).flatten()\n",
        "  print(\"Product:\"+ \" \"+df.input[i])\n",
        "  print(\"Reaction Real:\"+\" \"+df.target[i])\n",
        "  return print(\"prediction:\"+\" \".join([tgt_vocab.itos[tok] for tok in tgt_tokens]).replace(\"<bos>\", \"\").replace(\"<eos>\", \"\"))"
      ],
      "id": "Mx6FphMOK0ZK",
      "execution_count": 23,
      "outputs": []
    },
    {
      "cell_type": "code",
      "metadata": {
        "colab": {
          "base_uri": "https://localhost:8080/"
        },
        "id": "79hdw1aEMr1C",
        "outputId": "61f1a2d8-3cdf-4e63-f0ab-9a525b750f78"
      },
      "source": [
        "for i in range(10,15):\n",
        "  translate(transformer, df.input[i], src_vocab, tgt_vocab, tokenizer)\n",
        "  print(\"/n\")"
      ],
      "id": "79hdw1aEMr1C",
      "execution_count": 29,
      "outputs": [
        {
          "output_type": "stream",
          "text": [
            "Product: <RX_3> C C C C C C ( O ) c 1 c c c ( O c 2 c c c 3 c c c c c 3 n 2 ) c n 1\n",
            "Reaction Real: C C C C C B r . O = C c 1 c c c ( O c 2 c c c 3 c c c c c 3 n 2 ) c n 1\n",
            "prediction: c c c c c c ( o ) c 1 c c c ( o c 2 c c c 3 c c c c c 3 n 2 ) c n 1 . c [ m g + ]\n",
            "/n\n",
            "Product: <RX_2> O = C 1 C [ C @ H ] ( C ( = O ) N c 2 c c ( - c 3 c c c c ( C O C ( C ( F ) ( F ) F ) C ( F ) ( F ) F ) c 3 ) n ( - c 3 c c c c c 3 ) n 2 ) C N 1\n",
            "Reaction Real: N c 1 c c ( - c 2 c c c c ( C O C ( C ( F ) ( F ) F ) C ( F ) ( F ) F ) c 2 ) n ( - c 2 c c c c c 2 ) n 1 . O = C 1 C [ C @ H ] ( C ( = O ) O ) C N 1\n",
            "prediction: n c 1 c c ( - c 2 c c c c ( c o c ( c ( f ) ( f ) f ) c ( f ) ( f ) f ) c 2 ) n ( - c 2 c c c c c 2 ) n 1 . o = c 1 c [ c @ h ] ( c ( = o ) o ) c n 1 \n",
            "/n\n",
            "Product: <RX_1> C C S ( = O ) ( = O ) c 1 c c c ( C l ) c c 1 C N C ( = O ) c 1 c c ( C l ) c ( C N 2 C C O C 3 ( C 2 ) C N ( C ( c 2 c c c c c 2 ) c 2 c c c c c 2 ) C 3 ) c ( C ( F ) ( F ) F ) c 1\n",
            "Reaction Real: C C S ( = O ) ( = O ) c 1 c c c ( C l ) c c 1 C N C ( = O ) c 1 c c ( C l ) c ( C B r ) c ( C ( F ) ( F ) F ) c 1 . c 1 c c c ( C ( c 2 c c c c c 2 ) N 2 C C 3 ( C N C C O 3 ) C 2 ) c c 1\n",
            "prediction: c c s ( = o ) ( = o ) c 1 c c c ( c l ) c c 1 c n c ( = o ) c 1 c c ( c l ) c ( c b r ) c ( c ( f ) ( f ) f ) c 1 . c 1 c c c ( c ( c 2 c c c c c 2 ) n 2 c c 3 ( c n c c o 3 ) c 2 ) c c 1 \n",
            "/n\n",
            "Product: <RX_2> C C C ( = O ) N 1 C C [ C @ @ H ] ( N C ( = O ) c 2 c ( C ) [ n H ] c 3 c ( - c 4 c c c ( O C ) c c 4 O C C 4 C C 4 ) n c n c 2 3 ) C 1\n",
            "Reaction Real: C C C ( = O ) C l . C O c 1 c c c ( - c 2 n c n c 3 c ( C ( = O ) N [ C @ @ H ] 4 C C N C 4 ) c ( C ) [ n H ] c 2 3 ) c ( O C C 2 C C 2 ) c 1\n",
            "prediction: c c c ( = o ) c l . c o c 1 c c c ( - c 2 n c n c 3 c ( c ( = o ) n [ c @ @ h ] 4 c c n c 4 ) c ( c ) [ n h ] c 2 3 ) c ( o c c 2 c c 2 ) c 1 \n",
            "/n\n",
            "Product: <RX_2> C O C ( = O ) c 1 c c ( B r ) c c ( C ( = O ) N [ C @ H ] ( C ) c 2 c c c c c 2 ) c 1\n",
            "Reaction Real: C O C ( = O ) c 1 c c ( B r ) c c ( C ( = O ) O ) c 1 . C [ C @ @ H ] ( N ) c 1 c c c c c 1\n",
            "prediction: c o c ( = o ) c 1 c c ( b r ) c c ( c ( = o ) o ) c 1 . c [ c @ @ h ] ( n ) c 1 c c c c c 1 \n",
            "/n\n"
          ],
          "name": "stdout"
        }
      ]
    },
    {
      "cell_type": "code",
      "metadata": {
        "colab": {
          "base_uri": "https://localhost:8080/"
        },
        "id": "IGGb5BnRFdLj",
        "outputId": "6fc8f45b-1286-43c1-c4c7-e36b943847f2"
      },
      "source": [
        "i=49001\n",
        "translate(transformer, df.input[i], src_vocab, tgt_vocab, tokenizer)"
      ],
      "id": "IGGb5BnRFdLj",
      "execution_count": 36,
      "outputs": [
        {
          "output_type": "stream",
          "text": [
            "Product: <RX_6> C N 1 C C C n 2 c ( c ( C 3 C C C C C 3 ) c 3 c c c ( C ( = O ) O ) c c 3 2 ) - c 2 c c c c c 2 1\n",
            "Reaction Real: C O C ( = O ) c 1 c c c 2 c ( C 3 C C C C C 3 ) c 3 n ( c 2 c 1 ) C C C N ( C ) c 1 c c c c c 1 - 3\n",
            "prediction: c o c ( = o ) c 1 c c c 2 c ( c ( c 3 c c c c c 3 ) c 3 n ( c 2 c c c c c 2 ) c c 1 ) c 1 c c c c c 1 - 3 \n"
          ],
          "name": "stdout"
        }
      ]
    },
    {
      "cell_type": "code",
      "metadata": {
        "id": "thrown-rebecca"
      },
      "source": [
        "#translate(transformer, \"<RX_1> O = C 1 C C [ C @ H ] ( C N 2 C C N ( C C O c 3 c c 4 n c n c ( N c 5 c c c ( F ) c ( C l ) c 5 ) c 4 c c 3 O C 3 C C C C 3 ) C C 2 ) O 1\", src_vocab, tgt_vocab, tokenizer)"
      ],
      "id": "thrown-rebecca",
      "execution_count": null,
      "outputs": []
    },
    {
      "cell_type": "markdown",
      "metadata": {
        "id": "rdpUmPLI8MRv"
      },
      "source": [
        "#beam search "
      ],
      "id": "rdpUmPLI8MRv"
    },
    {
      "cell_type": "code",
      "metadata": {
        "id": "WZkcWqq98T-Q"
      },
      "source": [
        "import torch\n",
        "\n",
        "\n",
        "def beam_search_decoder(post, k):\n",
        "    \"\"\"Beam Search Decoder\n",
        "\n",
        "    Parameters:\n",
        "\n",
        "        post(Tensor) – the posterior of network.\n",
        "        k(int) – beam size of decoder.\n",
        "\n",
        "    Outputs:\n",
        "\n",
        "        indices(Tensor) – a beam of index sequence.\n",
        "        log_prob(Tensor) – a beam of log likelihood of sequence.\n",
        "\n",
        "    Shape:\n",
        "\n",
        "        post: (batch_size, seq_length, vocab_size).\n",
        "        indices: (batch_size, beam_size, seq_length).\n",
        "        log_prob: (batch_size, beam_size).\n",
        "\n",
        "    Examples:\n",
        "\n",
        "        >>> post = torch.softmax(torch.randn([32, 20, 1000]), -1)\n",
        "        >>> indices, log_prob = beam_search_decoder(post, 3)\n",
        "\n",
        "    \"\"\"\n",
        "\n",
        "    batch_size, seq_length, _ = post.shape\n",
        "    log_post = post.log()\n",
        "    log_prob, indices = log_post[:, 0, :].topk(k, sorted=True)\n",
        "    indices = indices.unsqueeze(-1)\n",
        "    for i in range(1, seq_length):\n",
        "        log_prob = log_prob.unsqueeze(-1) + log_post[:, i, :].unsqueeze(1).repeat(1, k, 1)\n",
        "        log_prob, index = log_prob.view(batch_size, -1).topk(k, sorted=True)\n",
        "        indices = torch.cat([indices, index.unsqueeze(-1)], dim=-1)\n",
        "    return indices, log_prob"
      ],
      "id": "WZkcWqq98T-Q",
      "execution_count": 37,
      "outputs": []
    }
  ]
}