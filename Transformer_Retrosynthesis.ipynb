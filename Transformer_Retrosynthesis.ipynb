{
  "nbformat": 4,
  "nbformat_minor": 5,
  "metadata": {
    "kernelspec": {
      "display_name": "Python 3",
      "language": "python",
      "name": "python3"
    },
    "language_info": {
      "codemirror_mode": {
        "name": "ipython",
        "version": 3
      },
      "file_extension": ".py",
      "mimetype": "text/x-python",
      "name": "python",
      "nbconvert_exporter": "python",
      "pygments_lexer": "ipython3",
      "version": "3.8.5"
    },
    "colab": {
      "name": "Transformer_Retrosynthesis.ipynb",
      "provenance": [],
      "machine_shape": "hm",
      "include_colab_link": true
    },
    "accelerator": "GPU"
  },
  "cells": [
    {
      "cell_type": "markdown",
      "metadata": {
        "id": "view-in-github",
        "colab_type": "text"
      },
      "source": [
        "<a href=\"https://colab.research.google.com/github/kenpurin/Retrosynthesis_TF/blob/main/Transformer_Retrosynthesis.ipynb\" target=\"_parent\"><img src=\"https://colab.research.google.com/assets/colab-badge.svg\" alt=\"Open In Colab\"/></a>"
      ]
    },
    {
      "cell_type": "markdown",
      "metadata": {
        "id": "AuyLoi9uOemv"
      },
      "source": [
        "# LANGUAGE TRANSLATION WITH TRANSFORMER"
      ],
      "id": "AuyLoi9uOemv"
    },
    {
      "cell_type": "code",
      "metadata": {
        "colab": {
          "base_uri": "https://localhost:8080/"
        },
        "id": "n7-pt1ZNOj6f",
        "outputId": "0d7a9fbf-10a9-413c-ac71-e47aae15b8dc"
      },
      "source": [
        "!nvidia-smi"
      ],
      "id": "n7-pt1ZNOj6f",
      "execution_count": 1,
      "outputs": [
        {
          "output_type": "stream",
          "text": [
            "Fri May 21 11:26:35 2021       \n",
            "+-----------------------------------------------------------------------------+\n",
            "| NVIDIA-SMI 465.19.01    Driver Version: 460.32.03    CUDA Version: 11.2     |\n",
            "|-------------------------------+----------------------+----------------------+\n",
            "| GPU  Name        Persistence-M| Bus-Id        Disp.A | Volatile Uncorr. ECC |\n",
            "| Fan  Temp  Perf  Pwr:Usage/Cap|         Memory-Usage | GPU-Util  Compute M. |\n",
            "|                               |                      |               MIG M. |\n",
            "|===============================+======================+======================|\n",
            "|   0  Tesla P100-PCIE...  Off  | 00000000:00:04.0 Off |                    0 |\n",
            "| N/A   44C    P0    29W / 250W |      0MiB / 16280MiB |      0%      Default |\n",
            "|                               |                      |                  N/A |\n",
            "+-------------------------------+----------------------+----------------------+\n",
            "                                                                               \n",
            "+-----------------------------------------------------------------------------+\n",
            "| Processes:                                                                  |\n",
            "|  GPU   GI   CI        PID   Type   Process name                  GPU Memory |\n",
            "|        ID   ID                                                   Usage      |\n",
            "|=============================================================================|\n",
            "|  No running processes found                                                 |\n",
            "+-----------------------------------------------------------------------------+\n"
          ],
          "name": "stdout"
        }
      ]
    },
    {
      "cell_type": "markdown",
      "metadata": {
        "id": "yD3jtJw1Y07o"
      },
      "source": [
        "#load data and insatall"
      ],
      "id": "yD3jtJw1Y07o"
    },
    {
      "cell_type": "code",
      "metadata": {
        "colab": {
          "base_uri": "https://localhost:8080/"
        },
        "id": "Ij-QtfSdOxKG",
        "outputId": "5d2bfabc-0426-4000-ac1f-311911bca7bc"
      },
      "source": [
        "!git clone https://github.com/kenpurin/Retrosynthesis_TF.git"
      ],
      "id": "Ij-QtfSdOxKG",
      "execution_count": 2,
      "outputs": [
        {
          "output_type": "stream",
          "text": [
            "Cloning into 'Retrosynthesis_TF'...\n",
            "remote: Enumerating objects: 59, done.\u001b[K\n",
            "remote: Counting objects: 100% (59/59), done.\u001b[K\n",
            "remote: Compressing objects: 100% (55/55), done.\u001b[K\n",
            "remote: Total 59 (delta 22), reused 0 (delta 0), pack-reused 0\u001b[K\n",
            "Unpacking objects: 100% (59/59), done.\n"
          ],
          "name": "stdout"
        }
      ]
    },
    {
      "cell_type": "code",
      "metadata": {
        "colab": {
          "base_uri": "https://localhost:8080/"
        },
        "id": "RpYFi7_17AeU",
        "outputId": "4840f446-fc4e-4abe-8486-492539141327"
      },
      "source": [
        "!pip3 install rich\n",
        "!pip3 show torch"
      ],
      "id": "RpYFi7_17AeU",
      "execution_count": 3,
      "outputs": [
        {
          "output_type": "stream",
          "text": [
            "Collecting rich\n",
            "\u001b[?25l  Downloading https://files.pythonhosted.org/packages/6b/39/fbe8d15f0b017d63701f2a42e4ccb9a73cd4175e5c56214c1b5685e3dd79/rich-10.2.2-py3-none-any.whl (203kB)\n",
            "\r\u001b[K     |█▋                              | 10kB 17.5MB/s eta 0:00:01\r\u001b[K     |███▏                            | 20kB 8.9MB/s eta 0:00:01\r\u001b[K     |████▉                           | 30kB 5.6MB/s eta 0:00:01\r\u001b[K     |██████▍                         | 40kB 5.2MB/s eta 0:00:01\r\u001b[K     |████████                        | 51kB 2.9MB/s eta 0:00:01\r\u001b[K     |█████████▋                      | 61kB 3.2MB/s eta 0:00:01\r\u001b[K     |███████████▎                    | 71kB 3.4MB/s eta 0:00:01\r\u001b[K     |████████████▉                   | 81kB 3.6MB/s eta 0:00:01\r\u001b[K     |██████████████▌                 | 92kB 3.6MB/s eta 0:00:01\r\u001b[K     |████████████████                | 102kB 3.9MB/s eta 0:00:01\r\u001b[K     |█████████████████▊              | 112kB 3.9MB/s eta 0:00:01\r\u001b[K     |███████████████████▎            | 122kB 3.9MB/s eta 0:00:01\r\u001b[K     |█████████████████████           | 133kB 3.9MB/s eta 0:00:01\r\u001b[K     |██████████████████████▌         | 143kB 3.9MB/s eta 0:00:01\r\u001b[K     |████████████████████████▏       | 153kB 3.9MB/s eta 0:00:01\r\u001b[K     |█████████████████████████▊      | 163kB 3.9MB/s eta 0:00:01\r\u001b[K     |███████████████████████████▍    | 174kB 3.9MB/s eta 0:00:01\r\u001b[K     |█████████████████████████████   | 184kB 3.9MB/s eta 0:00:01\r\u001b[K     |██████████████████████████████▋ | 194kB 3.9MB/s eta 0:00:01\r\u001b[K     |████████████████████████████████| 204kB 3.9MB/s \n",
            "\u001b[?25hRequirement already satisfied: pygments<3.0.0,>=2.6.0 in /usr/local/lib/python3.7/dist-packages (from rich) (2.6.1)\n",
            "Collecting commonmark<0.10.0,>=0.9.0\n",
            "\u001b[?25l  Downloading https://files.pythonhosted.org/packages/b1/92/dfd892312d822f36c55366118b95d914e5f16de11044a27cf10a7d71bbbf/commonmark-0.9.1-py2.py3-none-any.whl (51kB)\n",
            "\u001b[K     |████████████████████████████████| 51kB 6.1MB/s \n",
            "\u001b[?25hCollecting colorama<0.5.0,>=0.4.0\n",
            "  Downloading https://files.pythonhosted.org/packages/44/98/5b86278fbbf250d239ae0ecb724f8572af1c91f4a11edf4d36a206189440/colorama-0.4.4-py2.py3-none-any.whl\n",
            "Requirement already satisfied: typing-extensions<4.0.0,>=3.7.4; python_version < \"3.8\" in /usr/local/lib/python3.7/dist-packages (from rich) (3.7.4.3)\n",
            "Installing collected packages: commonmark, colorama, rich\n",
            "Successfully installed colorama-0.4.4 commonmark-0.9.1 rich-10.2.2\n",
            "Name: torch\n",
            "Version: 1.8.1+cu101\n",
            "Summary: Tensors and Dynamic neural networks in Python with strong GPU acceleration\n",
            "Home-page: https://pytorch.org/\n",
            "Author: PyTorch Team\n",
            "Author-email: packages@pytorch.org\n",
            "License: BSD-3\n",
            "Location: /usr/local/lib/python3.7/dist-packages\n",
            "Requires: typing-extensions, numpy\n",
            "Required-by: torchvision, torchtext, fastai\n"
          ],
          "name": "stdout"
        }
      ]
    },
    {
      "cell_type": "markdown",
      "metadata": {
        "id": "k3YfZKcVOVBP"
      },
      "source": [
        "# Data Processing"
      ],
      "id": "k3YfZKcVOVBP"
    },
    {
      "cell_type": "code",
      "metadata": {
        "id": "greater-timeline"
      },
      "source": [
        "import math\n",
        "import torchtext\n",
        "import torch\n",
        "import torch.nn as nn\n",
        "from torchtext.data.utils import get_tokenizer\n",
        "from collections import Counter\n",
        "from torchtext.vocab import Vocab\n",
        "from torchtext.utils import download_from_url, extract_archive\n",
        "from torch import Tensor\n",
        "import io\n",
        "import time\n",
        "from rich import print\n",
        "import matplotlib.pyplot as plt\n"
      ],
      "id": "greater-timeline",
      "execution_count": 4,
      "outputs": []
    },
    {
      "cell_type": "code",
      "metadata": {
        "colab": {
          "base_uri": "https://localhost:8080/",
          "height": 204
        },
        "id": "aiIInor-9RHJ",
        "outputId": "f4b7430f-fdd5-4f77-afdb-2ff92d169bc6"
      },
      "source": [
        "torch.manual_seed(0)\n",
        "torch.use_deterministic_algorithms(True)\n",
        "device = torch.device('cuda' if torch.cuda.is_available() else 'cpu')\n",
        "print(torch.__version__)\n",
        "print(torch.cuda.is_available())\n",
        "\n",
        "if device.type == 'cuda':\n",
        "    print(torch.cuda.get_device_name(torch.cuda.current_device()))\n",
        "    print('Memory Usage:')\n",
        "    print('Allocated:', round(torch.cuda.memory_allocated(0)/1024**3,1), 'GB')\n",
        "    print('Cached:   ', round(torch.cuda.memory_reserved(0)/1024**3,1), 'GB')\n",
        "!nvcc --version"
      ],
      "id": "aiIInor-9RHJ",
      "execution_count": 5,
      "outputs": [
        {
          "output_type": "display_data",
          "data": {
            "text/html": [
              "<pre style=\"white-space:pre;overflow-x:auto;line-height:normal;font-family:Menlo,'DejaVu Sans Mono',consolas,'Courier New',monospace\"><span style=\"color: #008080; text-decoration-color: #008080; font-weight: bold\">1.8</span>.<span style=\"color: #008080; text-decoration-color: #008080; font-weight: bold\">1</span>+cu101\n",
              "</pre>\n"
            ],
            "text/plain": [
              "\u001b[1;36m1.8\u001b[0m.\u001b[1;36m1\u001b[0m+cu101\n"
            ]
          },
          "metadata": {
            "tags": []
          }
        },
        {
          "output_type": "display_data",
          "data": {
            "text/html": [
              "<pre style=\"white-space:pre;overflow-x:auto;line-height:normal;font-family:Menlo,'DejaVu Sans Mono',consolas,'Courier New',monospace\"><span style=\"color: #00ff00; text-decoration-color: #00ff00; font-style: italic\">True</span>\n",
              "</pre>\n"
            ],
            "text/plain": [
              "\u001b[3;92mTrue\u001b[0m\n"
            ]
          },
          "metadata": {
            "tags": []
          }
        },
        {
          "output_type": "display_data",
          "data": {
            "text/html": [
              "<pre style=\"white-space:pre;overflow-x:auto;line-height:normal;font-family:Menlo,'DejaVu Sans Mono',consolas,'Courier New',monospace\">Tesla P100-PCIE-16GB\n",
              "</pre>\n"
            ],
            "text/plain": [
              "Tesla P100-PCIE-16GB\n"
            ]
          },
          "metadata": {
            "tags": []
          }
        },
        {
          "output_type": "display_data",
          "data": {
            "text/html": [
              "<pre style=\"white-space:pre;overflow-x:auto;line-height:normal;font-family:Menlo,'DejaVu Sans Mono',consolas,'Courier New',monospace\">Memory Usage:\n",
              "</pre>\n"
            ],
            "text/plain": [
              "Memory Usage:\n"
            ]
          },
          "metadata": {
            "tags": []
          }
        },
        {
          "output_type": "display_data",
          "data": {
            "text/html": [
              "<pre style=\"white-space:pre;overflow-x:auto;line-height:normal;font-family:Menlo,'DejaVu Sans Mono',consolas,'Courier New',monospace\">Allocated: <span style=\"color: #008080; text-decoration-color: #008080; font-weight: bold\">0.0</span> GB\n",
              "</pre>\n"
            ],
            "text/plain": [
              "Allocated: \u001b[1;36m0.0\u001b[0m GB\n"
            ]
          },
          "metadata": {
            "tags": []
          }
        },
        {
          "output_type": "display_data",
          "data": {
            "text/html": [
              "<pre style=\"white-space:pre;overflow-x:auto;line-height:normal;font-family:Menlo,'DejaVu Sans Mono',consolas,'Courier New',monospace\">Cached:    <span style=\"color: #008080; text-decoration-color: #008080; font-weight: bold\">0.0</span> GB\n",
              "</pre>\n"
            ],
            "text/plain": [
              "Cached:    \u001b[1;36m0.0\u001b[0m GB\n"
            ]
          },
          "metadata": {
            "tags": []
          }
        },
        {
          "output_type": "stream",
          "text": [
            "nvcc: NVIDIA (R) Cuda compiler driver\n",
            "Copyright (c) 2005-2020 NVIDIA Corporation\n",
            "Built on Wed_Jul_22_19:09:09_PDT_2020\n",
            "Cuda compilation tools, release 11.0, V11.0.221\n",
            "Build cuda_11.0_bu.TC445_37.28845127_0\n"
          ],
          "name": "stdout"
        }
      ]
    },
    {
      "cell_type": "code",
      "metadata": {
        "id": "arbitrary-china"
      },
      "source": [
        "#load data USPTO-50K\n",
        "train_src_filepaths='Retrosynthesis_TF/USPTO-50K/src/src-train.txt'\n",
        "train_tgt_filepaths='Retrosynthesis_TF/USPTO-50K/tgt/tgt-train.txt'\n",
        "val_src_filepaths='Retrosynthesis_TF/USPTO-50K/src/src-val.txt'\n",
        "val_tgt_filepaths='Retrosynthesis_TF/USPTO-50K/tgt/tgt-val.txt'\n",
        "test_src_filepaths='Retrosynthesis_TF/USPTO-50K/src/src-test.txt'\n",
        "test_tgt_filepaths='Retrosynthesis_TF/USPTO-50K/tgt/tgt-test.txt'"
      ],
      "id": "arbitrary-china",
      "execution_count": 6,
      "outputs": []
    },
    {
      "cell_type": "code",
      "metadata": {
        "id": "circular-south"
      },
      "source": [
        "#build_vocab\n",
        "src_filepath='Retrosynthesis_TF/USPTO-50K/src/src.txt'\n",
        "tgt_filepath='Retrosynthesis_TF/USPTO-50K/tgt/tgt.txt'\n",
        "tokenizer = get_tokenizer('basic_english')\n",
        "def build_vocab(filepath, tokenizer):\n",
        "  counter = Counter()\n",
        "  with io.open(filepath, encoding=\"utf8\") as f:\n",
        "    for string_ in f:\n",
        "      counter.update(tokenizer(string_))\n",
        "  return Vocab(counter, specials=['<unk>', '<pad>', '<bos>', '<eos>'])\n",
        "src_vocab = build_vocab(src_filepath,tokenizer)\n",
        "tgt_vocab = build_vocab(tgt_filepath,tokenizer)"
      ],
      "id": "circular-south",
      "execution_count": 7,
      "outputs": []
    },
    {
      "cell_type": "code",
      "metadata": {
        "id": "recorded-crawford"
      },
      "source": [
        "def data_process(filepaths1,filepaths2):\n",
        "  raw_src_iter = iter(io.open(filepaths1, encoding=\"utf8\"))\n",
        "  raw_tgt_iter = iter(io.open(filepaths2, encoding=\"utf8\"))\n",
        "  data = []\n",
        "  for (raw_src, raw_tgt) in zip(raw_src_iter, raw_tgt_iter):\n",
        "    src_tensor_ = torch.tensor([src_vocab[token] for token in tokenizer(raw_src.rstrip(\"\\n\"))],\n",
        "                            dtype=torch.long)\n",
        "    tgt_tensor_ = torch.tensor([tgt_vocab[token] for token in tokenizer(raw_tgt.rstrip(\"\\n\"))],\n",
        "                            dtype=torch.long)\n",
        "    data.append((src_tensor_, tgt_tensor_))\n",
        "  return data"
      ],
      "id": "recorded-crawford",
      "execution_count": 8,
      "outputs": []
    },
    {
      "cell_type": "code",
      "metadata": {
        "id": "polished-truth"
      },
      "source": [
        "train_data = data_process(train_src_filepaths,train_tgt_filepaths)\n",
        "val_data = data_process(val_src_filepaths,val_tgt_filepaths)\n",
        "test_data = data_process(test_src_filepaths,test_tgt_filepaths)"
      ],
      "id": "polished-truth",
      "execution_count": 9,
      "outputs": []
    },
    {
      "cell_type": "code",
      "metadata": {
        "id": "korean-savage"
      },
      "source": [
        "device = torch.device('cuda' if torch.cuda.is_available() else 'cpu')\n",
        "BATCH_SIZE = 128\n",
        "PAD_IDX = src_vocab['<pad>']\n",
        "BOS_IDX = src_vocab['<bos>']\n",
        "EOS_IDX = src_vocab['<eos>']"
      ],
      "id": "korean-savage",
      "execution_count": 10,
      "outputs": []
    },
    {
      "cell_type": "markdown",
      "metadata": {
        "id": "dJcCX4xNOSgZ"
      },
      "source": [
        "# DataLoader"
      ],
      "id": "dJcCX4xNOSgZ"
    },
    {
      "cell_type": "code",
      "metadata": {
        "id": "hundred-translator"
      },
      "source": [
        "from torch.nn.utils.rnn import pad_sequence\n",
        "from torch.utils.data import DataLoader\n",
        "\n",
        "def generate_batch(data_batch):\n",
        "  src_batch, tgt_batch = [], []\n",
        "  for (src_item, tgt_item) in data_batch:\n",
        "    src_batch.append(torch.cat([torch.tensor([BOS_IDX]), src_item, torch.tensor([EOS_IDX])], dim=0))\n",
        "    tgt_batch.append(torch.cat([torch.tensor([BOS_IDX]), tgt_item, torch.tensor([EOS_IDX])], dim=0))\n",
        "  src_batch = pad_sequence(src_batch, padding_value=PAD_IDX)\n",
        "  tgt_batch = pad_sequence(tgt_batch, padding_value=PAD_IDX)\n",
        "  return src_batch, tgt_batch\n",
        "\n",
        "train_iter = DataLoader(train_data, batch_size=BATCH_SIZE,\n",
        "                        shuffle=True, collate_fn=generate_batch)\n",
        "valid_iter = DataLoader(val_data, batch_size=BATCH_SIZE,\n",
        "                        shuffle=True, collate_fn=generate_batch)\n",
        "test_iter = DataLoader(test_data, batch_size=BATCH_SIZE,\n",
        "                       shuffle=True, collate_fn=generate_batch)"
      ],
      "id": "hundred-translator",
      "execution_count": 11,
      "outputs": []
    },
    {
      "cell_type": "markdown",
      "metadata": {
        "id": "JsF46_xVOBv7"
      },
      "source": [
        "#Transformer"
      ],
      "id": "JsF46_xVOBv7"
    },
    {
      "cell_type": "code",
      "metadata": {
        "id": "coupled-ballot"
      },
      "source": [
        "#https://pytorch.org/docs/master/nn.html?highlight=multiheadattention#torch.nn.MultiheadAttention\n",
        "from torch.nn import (TransformerEncoder, TransformerDecoder,\n",
        "                      TransformerEncoderLayer, TransformerDecoderLayer)\n",
        "\n",
        "\n",
        "class Seq2SeqTransformer(nn.Module):\n",
        "    def __init__(self, num_encoder_layers: int, num_decoder_layers: int,\n",
        "                 emb_size: int, src_vocab_size: int, tgt_vocab_size: int,\n",
        "                 dim_feedforward:int = 512, dropout:float = 0.1):\n",
        "        super(Seq2SeqTransformer, self).__init__()\n",
        "        #TransformerEncoderLayer is made up of self-attn and feedforward network.\n",
        "        encoder_layer = TransformerEncoderLayer(d_model=emb_size, nhead=NHEAD,\n",
        "                                                dim_feedforward=dim_feedforward)\n",
        "        #TransformerEncoder is a stack of N encoder layers\n",
        "        self.transformer_encoder = TransformerEncoder(encoder_layer, num_layers=num_encoder_layers)\n",
        "        #\tTransformerDecoderLayer is made up of self-attn, multi-head-attn and feedforward network.\n",
        "        decoder_layer = TransformerDecoderLayer(d_model=emb_size, nhead=NHEAD,\n",
        "                                                dim_feedforward=dim_feedforward)\n",
        "        #TransformerDecoder is a stack of N decoder layers\n",
        "        self.transformer_decoder = TransformerDecoder(decoder_layer, num_layers=num_decoder_layers)\n",
        "\n",
        "        self.generator = nn.Linear(emb_size, tgt_vocab_size)\n",
        "        self.src_tok_emb = TokenEmbedding(src_vocab_size, emb_size)\n",
        "        self.tgt_tok_emb = TokenEmbedding(tgt_vocab_size, emb_size)\n",
        "        self.positional_encoding = PositionalEncoding(emb_size, dropout=dropout)\n",
        "\n",
        "    def forward(self, src: Tensor, trg: Tensor, src_mask: Tensor,\n",
        "                tgt_mask: Tensor, src_padding_mask: Tensor,\n",
        "                tgt_padding_mask: Tensor, memory_key_padding_mask: Tensor):\n",
        "        src_emb = self.positional_encoding(self.src_tok_emb(src))\n",
        "        tgt_emb = self.positional_encoding(self.tgt_tok_emb(trg))\n",
        "        memory = self.transformer_encoder(src_emb, src_mask, src_padding_mask)\n",
        "        outs = self.transformer_decoder(tgt_emb, memory, tgt_mask, None,\n",
        "                                        tgt_padding_mask, memory_key_padding_mask)\n",
        "        return self.generator(outs)\n",
        "\n",
        "    def encode(self, src: Tensor, src_mask: Tensor):\n",
        "        return self.transformer_encoder(self.positional_encoding(\n",
        "                            self.src_tok_emb(src)), src_mask)\n",
        "\n",
        "    def decode(self, tgt: Tensor, memory: Tensor, tgt_mask: Tensor):\n",
        "        return self.transformer_decoder(self.positional_encoding(\n",
        "                          self.tgt_tok_emb(tgt)), memory,\n",
        "                          tgt_mask)"
      ],
      "id": "coupled-ballot",
      "execution_count": 12,
      "outputs": []
    },
    {
      "cell_type": "code",
      "metadata": {
        "id": "random-trance"
      },
      "source": [
        "class PositionalEncoding(nn.Module):\n",
        "    def __init__(self, emb_size: int, dropout, maxlen: int = 5000):\n",
        "        super(PositionalEncoding, self).__init__()\n",
        "        den = torch.exp(- torch.arange(0, emb_size, 2) * math.log(10000) / emb_size)\n",
        "        pos = torch.arange(0, maxlen).reshape(maxlen, 1)\n",
        "        pos_embedding = torch.zeros((maxlen, emb_size))\n",
        "        pos_embedding[:, 0::2] = torch.sin(pos * den)\n",
        "        pos_embedding[:, 1::2] = torch.cos(pos * den)\n",
        "        pos_embedding = pos_embedding.unsqueeze(-2)\n",
        "\n",
        "        self.dropout = nn.Dropout(dropout)\n",
        "        self.register_buffer('pos_embedding', pos_embedding)\n",
        "\n",
        "    def forward(self, token_embedding: Tensor):\n",
        "        return self.dropout(token_embedding +\n",
        "                            self.pos_embedding[:token_embedding.size(0),:])\n",
        "\n",
        "class TokenEmbedding(nn.Module):\n",
        "    def __init__(self, vocab_size: int, emb_size):\n",
        "        super(TokenEmbedding, self).__init__()\n",
        "        self.embedding = nn.Embedding(vocab_size, emb_size)\n",
        "        self.emb_size = emb_size\n",
        "    def forward(self, tokens: Tensor):\n",
        "        return self.embedding(tokens.long()) * math.sqrt(self.emb_size)"
      ],
      "id": "random-trance",
      "execution_count": 13,
      "outputs": []
    },
    {
      "cell_type": "code",
      "metadata": {
        "id": "japanese-polls"
      },
      "source": [
        "def generate_square_subsequent_mask(sz):\n",
        "    mask = (torch.triu(torch.ones((sz, sz), device=DEVICE)) == 1).transpose(0, 1)\n",
        "    mask = mask.float().masked_fill(mask == 0, float('-inf')).masked_fill(mask == 1, float(0.0))\n",
        "    return mask\n",
        "\n",
        "def create_mask(src, tgt):\n",
        "  src_seq_len = src.shape[0]\n",
        "  tgt_seq_len = tgt.shape[0]\n",
        "\n",
        "  tgt_mask = generate_square_subsequent_mask(tgt_seq_len)\n",
        "  src_mask = torch.zeros((src_seq_len, src_seq_len), device=DEVICE).type(torch.bool)\n",
        "\n",
        "  src_padding_mask = (src == PAD_IDX).transpose(0, 1)\n",
        "  tgt_padding_mask = (tgt == PAD_IDX).transpose(0, 1)\n",
        "  return src_mask, tgt_mask, src_padding_mask, tgt_padding_mask"
      ],
      "id": "japanese-polls",
      "execution_count": 14,
      "outputs": []
    },
    {
      "cell_type": "code",
      "metadata": {
        "id": "convenient-facial"
      },
      "source": [
        "# Training hyperparameters\n",
        "SRC_VOCAB_SIZE = len(src_vocab)\n",
        "TGT_VOCAB_SIZE = len(tgt_vocab)\n",
        "EMB_SIZE = 512\n",
        "NHEAD = 8\n",
        "FFN_HID_DIM = 512\n",
        "BATCH_SIZE = 128\n",
        "NUM_ENCODER_LAYERS = 3\n",
        "NUM_DECODER_LAYERS = 3\n",
        "NUM_EPOCHS = 200\n",
        "\n",
        "DEVICE = torch.device('cuda:0' if torch.cuda.is_available() else 'cpu')\n",
        "\n",
        "transformer = Seq2SeqTransformer(NUM_ENCODER_LAYERS, NUM_DECODER_LAYERS,\n",
        "                                 EMB_SIZE, SRC_VOCAB_SIZE, TGT_VOCAB_SIZE,\n",
        "                                 FFN_HID_DIM)\n",
        "\n",
        "for p in transformer.parameters():\n",
        "    if p.dim() > 1:\n",
        "        nn.init.xavier_uniform_(p)\n",
        "#model \n",
        "transformer = transformer.to(device)\n",
        "\n",
        "loss_fn = torch.nn.CrossEntropyLoss(ignore_index=PAD_IDX)\n",
        "\n",
        "optimizer = torch.optim.Adam(\n",
        "    transformer.parameters(), lr=0.0001, betas=(0.9, 0.98), eps=1e-9\n",
        ")"
      ],
      "id": "convenient-facial",
      "execution_count": 15,
      "outputs": []
    },
    {
      "cell_type": "code",
      "metadata": {
        "colab": {
          "base_uri": "https://localhost:8080/",
          "height": 1000
        },
        "id": "n6OqEmQs7HrH",
        "outputId": "72ca9458-2a3e-438f-dd41-f55494f7f16c"
      },
      "source": [
        "#show model\n",
        "print(transformer)"
      ],
      "id": "n6OqEmQs7HrH",
      "execution_count": 16,
      "outputs": [
        {
          "output_type": "display_data",
          "data": {
            "text/html": [
              "<pre style=\"white-space:pre;overflow-x:auto;line-height:normal;font-family:Menlo,'DejaVu Sans Mono',consolas,'Courier New',monospace\"><span style=\"color: #800080; text-decoration-color: #800080; font-weight: bold\">Seq2SeqTransformer</span><span style=\"font-weight: bold\">(</span>\n",
              "  <span style=\"font-weight: bold\">(</span>transformer_encoder<span style=\"font-weight: bold\">)</span>: <span style=\"color: #800080; text-decoration-color: #800080; font-weight: bold\">TransformerEncoder</span><span style=\"font-weight: bold\">(</span>\n",
              "    <span style=\"font-weight: bold\">(</span>layers<span style=\"font-weight: bold\">)</span>: <span style=\"color: #800080; text-decoration-color: #800080; font-weight: bold\">ModuleList</span><span style=\"font-weight: bold\">(</span>\n",
              "      <span style=\"font-weight: bold\">(</span><span style=\"color: #008080; text-decoration-color: #008080; font-weight: bold\">0</span><span style=\"font-weight: bold\">)</span>: <span style=\"color: #800080; text-decoration-color: #800080; font-weight: bold\">TransformerEncoderLayer</span><span style=\"font-weight: bold\">(</span>\n",
              "        <span style=\"font-weight: bold\">(</span>self_attn<span style=\"font-weight: bold\">)</span>: <span style=\"color: #800080; text-decoration-color: #800080; font-weight: bold\">MultiheadAttention</span><span style=\"font-weight: bold\">(</span>\n",
              "          <span style=\"font-weight: bold\">(</span>out_proj<span style=\"font-weight: bold\">)</span>: <span style=\"color: #800080; text-decoration-color: #800080; font-weight: bold\">_LinearWithBias</span><span style=\"font-weight: bold\">(</span><span style=\"color: #808000; text-decoration-color: #808000\">in_features</span>=<span style=\"color: #008080; text-decoration-color: #008080; font-weight: bold\">512</span>, <span style=\"color: #808000; text-decoration-color: #808000\">out_features</span>=<span style=\"color: #008080; text-decoration-color: #008080; font-weight: bold\">512</span>, <span style=\"color: #808000; text-decoration-color: #808000\">bias</span>=<span style=\"color: #00ff00; text-decoration-color: #00ff00; font-style: italic\">True</span><span style=\"font-weight: bold\">)</span>\n",
              "        <span style=\"font-weight: bold\">)</span>\n",
              "        <span style=\"font-weight: bold\">(</span>linear1<span style=\"font-weight: bold\">)</span>: <span style=\"color: #800080; text-decoration-color: #800080; font-weight: bold\">Linear</span><span style=\"font-weight: bold\">(</span><span style=\"color: #808000; text-decoration-color: #808000\">in_features</span>=<span style=\"color: #008080; text-decoration-color: #008080; font-weight: bold\">512</span>, <span style=\"color: #808000; text-decoration-color: #808000\">out_features</span>=<span style=\"color: #008080; text-decoration-color: #008080; font-weight: bold\">512</span>, <span style=\"color: #808000; text-decoration-color: #808000\">bias</span>=<span style=\"color: #00ff00; text-decoration-color: #00ff00; font-style: italic\">True</span><span style=\"font-weight: bold\">)</span>\n",
              "        <span style=\"font-weight: bold\">(</span>dropout<span style=\"font-weight: bold\">)</span>: <span style=\"color: #800080; text-decoration-color: #800080; font-weight: bold\">Dropout</span><span style=\"font-weight: bold\">(</span><span style=\"color: #808000; text-decoration-color: #808000\">p</span>=<span style=\"color: #008080; text-decoration-color: #008080; font-weight: bold\">0.1</span>, <span style=\"color: #808000; text-decoration-color: #808000\">inplace</span>=<span style=\"color: #ff0000; text-decoration-color: #ff0000; font-style: italic\">False</span><span style=\"font-weight: bold\">)</span>\n",
              "        <span style=\"font-weight: bold\">(</span>linear2<span style=\"font-weight: bold\">)</span>: <span style=\"color: #800080; text-decoration-color: #800080; font-weight: bold\">Linear</span><span style=\"font-weight: bold\">(</span><span style=\"color: #808000; text-decoration-color: #808000\">in_features</span>=<span style=\"color: #008080; text-decoration-color: #008080; font-weight: bold\">512</span>, <span style=\"color: #808000; text-decoration-color: #808000\">out_features</span>=<span style=\"color: #008080; text-decoration-color: #008080; font-weight: bold\">512</span>, <span style=\"color: #808000; text-decoration-color: #808000\">bias</span>=<span style=\"color: #00ff00; text-decoration-color: #00ff00; font-style: italic\">True</span><span style=\"font-weight: bold\">)</span>\n",
              "        <span style=\"font-weight: bold\">(</span>norm1<span style=\"font-weight: bold\">)</span>: <span style=\"color: #800080; text-decoration-color: #800080; font-weight: bold\">LayerNorm</span><span style=\"font-weight: bold\">((</span><span style=\"color: #008080; text-decoration-color: #008080; font-weight: bold\">512</span>,<span style=\"font-weight: bold\">)</span>, <span style=\"color: #808000; text-decoration-color: #808000\">eps</span>=<span style=\"color: #008080; text-decoration-color: #008080; font-weight: bold\">1e-05</span>, <span style=\"color: #808000; text-decoration-color: #808000\">elementwise_affine</span>=<span style=\"color: #00ff00; text-decoration-color: #00ff00; font-style: italic\">True</span><span style=\"font-weight: bold\">)</span>\n",
              "        <span style=\"font-weight: bold\">(</span>norm2<span style=\"font-weight: bold\">)</span>: <span style=\"color: #800080; text-decoration-color: #800080; font-weight: bold\">LayerNorm</span><span style=\"font-weight: bold\">((</span><span style=\"color: #008080; text-decoration-color: #008080; font-weight: bold\">512</span>,<span style=\"font-weight: bold\">)</span>, <span style=\"color: #808000; text-decoration-color: #808000\">eps</span>=<span style=\"color: #008080; text-decoration-color: #008080; font-weight: bold\">1e-05</span>, <span style=\"color: #808000; text-decoration-color: #808000\">elementwise_affine</span>=<span style=\"color: #00ff00; text-decoration-color: #00ff00; font-style: italic\">True</span><span style=\"font-weight: bold\">)</span>\n",
              "        <span style=\"font-weight: bold\">(</span>dropout1<span style=\"font-weight: bold\">)</span>: <span style=\"color: #800080; text-decoration-color: #800080; font-weight: bold\">Dropout</span><span style=\"font-weight: bold\">(</span><span style=\"color: #808000; text-decoration-color: #808000\">p</span>=<span style=\"color: #008080; text-decoration-color: #008080; font-weight: bold\">0.1</span>, <span style=\"color: #808000; text-decoration-color: #808000\">inplace</span>=<span style=\"color: #ff0000; text-decoration-color: #ff0000; font-style: italic\">False</span><span style=\"font-weight: bold\">)</span>\n",
              "        <span style=\"font-weight: bold\">(</span>dropout2<span style=\"font-weight: bold\">)</span>: <span style=\"color: #800080; text-decoration-color: #800080; font-weight: bold\">Dropout</span><span style=\"font-weight: bold\">(</span><span style=\"color: #808000; text-decoration-color: #808000\">p</span>=<span style=\"color: #008080; text-decoration-color: #008080; font-weight: bold\">0.1</span>, <span style=\"color: #808000; text-decoration-color: #808000\">inplace</span>=<span style=\"color: #ff0000; text-decoration-color: #ff0000; font-style: italic\">False</span><span style=\"font-weight: bold\">)</span>\n",
              "      <span style=\"font-weight: bold\">)</span>\n",
              "      <span style=\"font-weight: bold\">(</span><span style=\"color: #008080; text-decoration-color: #008080; font-weight: bold\">1</span><span style=\"font-weight: bold\">)</span>: <span style=\"color: #800080; text-decoration-color: #800080; font-weight: bold\">TransformerEncoderLayer</span><span style=\"font-weight: bold\">(</span>\n",
              "        <span style=\"font-weight: bold\">(</span>self_attn<span style=\"font-weight: bold\">)</span>: <span style=\"color: #800080; text-decoration-color: #800080; font-weight: bold\">MultiheadAttention</span><span style=\"font-weight: bold\">(</span>\n",
              "          <span style=\"font-weight: bold\">(</span>out_proj<span style=\"font-weight: bold\">)</span>: <span style=\"color: #800080; text-decoration-color: #800080; font-weight: bold\">_LinearWithBias</span><span style=\"font-weight: bold\">(</span><span style=\"color: #808000; text-decoration-color: #808000\">in_features</span>=<span style=\"color: #008080; text-decoration-color: #008080; font-weight: bold\">512</span>, <span style=\"color: #808000; text-decoration-color: #808000\">out_features</span>=<span style=\"color: #008080; text-decoration-color: #008080; font-weight: bold\">512</span>, <span style=\"color: #808000; text-decoration-color: #808000\">bias</span>=<span style=\"color: #00ff00; text-decoration-color: #00ff00; font-style: italic\">True</span><span style=\"font-weight: bold\">)</span>\n",
              "        <span style=\"font-weight: bold\">)</span>\n",
              "        <span style=\"font-weight: bold\">(</span>linear1<span style=\"font-weight: bold\">)</span>: <span style=\"color: #800080; text-decoration-color: #800080; font-weight: bold\">Linear</span><span style=\"font-weight: bold\">(</span><span style=\"color: #808000; text-decoration-color: #808000\">in_features</span>=<span style=\"color: #008080; text-decoration-color: #008080; font-weight: bold\">512</span>, <span style=\"color: #808000; text-decoration-color: #808000\">out_features</span>=<span style=\"color: #008080; text-decoration-color: #008080; font-weight: bold\">512</span>, <span style=\"color: #808000; text-decoration-color: #808000\">bias</span>=<span style=\"color: #00ff00; text-decoration-color: #00ff00; font-style: italic\">True</span><span style=\"font-weight: bold\">)</span>\n",
              "        <span style=\"font-weight: bold\">(</span>dropout<span style=\"font-weight: bold\">)</span>: <span style=\"color: #800080; text-decoration-color: #800080; font-weight: bold\">Dropout</span><span style=\"font-weight: bold\">(</span><span style=\"color: #808000; text-decoration-color: #808000\">p</span>=<span style=\"color: #008080; text-decoration-color: #008080; font-weight: bold\">0.1</span>, <span style=\"color: #808000; text-decoration-color: #808000\">inplace</span>=<span style=\"color: #ff0000; text-decoration-color: #ff0000; font-style: italic\">False</span><span style=\"font-weight: bold\">)</span>\n",
              "        <span style=\"font-weight: bold\">(</span>linear2<span style=\"font-weight: bold\">)</span>: <span style=\"color: #800080; text-decoration-color: #800080; font-weight: bold\">Linear</span><span style=\"font-weight: bold\">(</span><span style=\"color: #808000; text-decoration-color: #808000\">in_features</span>=<span style=\"color: #008080; text-decoration-color: #008080; font-weight: bold\">512</span>, <span style=\"color: #808000; text-decoration-color: #808000\">out_features</span>=<span style=\"color: #008080; text-decoration-color: #008080; font-weight: bold\">512</span>, <span style=\"color: #808000; text-decoration-color: #808000\">bias</span>=<span style=\"color: #00ff00; text-decoration-color: #00ff00; font-style: italic\">True</span><span style=\"font-weight: bold\">)</span>\n",
              "        <span style=\"font-weight: bold\">(</span>norm1<span style=\"font-weight: bold\">)</span>: <span style=\"color: #800080; text-decoration-color: #800080; font-weight: bold\">LayerNorm</span><span style=\"font-weight: bold\">((</span><span style=\"color: #008080; text-decoration-color: #008080; font-weight: bold\">512</span>,<span style=\"font-weight: bold\">)</span>, <span style=\"color: #808000; text-decoration-color: #808000\">eps</span>=<span style=\"color: #008080; text-decoration-color: #008080; font-weight: bold\">1e-05</span>, <span style=\"color: #808000; text-decoration-color: #808000\">elementwise_affine</span>=<span style=\"color: #00ff00; text-decoration-color: #00ff00; font-style: italic\">True</span><span style=\"font-weight: bold\">)</span>\n",
              "        <span style=\"font-weight: bold\">(</span>norm2<span style=\"font-weight: bold\">)</span>: <span style=\"color: #800080; text-decoration-color: #800080; font-weight: bold\">LayerNorm</span><span style=\"font-weight: bold\">((</span><span style=\"color: #008080; text-decoration-color: #008080; font-weight: bold\">512</span>,<span style=\"font-weight: bold\">)</span>, <span style=\"color: #808000; text-decoration-color: #808000\">eps</span>=<span style=\"color: #008080; text-decoration-color: #008080; font-weight: bold\">1e-05</span>, <span style=\"color: #808000; text-decoration-color: #808000\">elementwise_affine</span>=<span style=\"color: #00ff00; text-decoration-color: #00ff00; font-style: italic\">True</span><span style=\"font-weight: bold\">)</span>\n",
              "        <span style=\"font-weight: bold\">(</span>dropout1<span style=\"font-weight: bold\">)</span>: <span style=\"color: #800080; text-decoration-color: #800080; font-weight: bold\">Dropout</span><span style=\"font-weight: bold\">(</span><span style=\"color: #808000; text-decoration-color: #808000\">p</span>=<span style=\"color: #008080; text-decoration-color: #008080; font-weight: bold\">0.1</span>, <span style=\"color: #808000; text-decoration-color: #808000\">inplace</span>=<span style=\"color: #ff0000; text-decoration-color: #ff0000; font-style: italic\">False</span><span style=\"font-weight: bold\">)</span>\n",
              "        <span style=\"font-weight: bold\">(</span>dropout2<span style=\"font-weight: bold\">)</span>: <span style=\"color: #800080; text-decoration-color: #800080; font-weight: bold\">Dropout</span><span style=\"font-weight: bold\">(</span><span style=\"color: #808000; text-decoration-color: #808000\">p</span>=<span style=\"color: #008080; text-decoration-color: #008080; font-weight: bold\">0.1</span>, <span style=\"color: #808000; text-decoration-color: #808000\">inplace</span>=<span style=\"color: #ff0000; text-decoration-color: #ff0000; font-style: italic\">False</span><span style=\"font-weight: bold\">)</span>\n",
              "      <span style=\"font-weight: bold\">)</span>\n",
              "      <span style=\"font-weight: bold\">(</span><span style=\"color: #008080; text-decoration-color: #008080; font-weight: bold\">2</span><span style=\"font-weight: bold\">)</span>: <span style=\"color: #800080; text-decoration-color: #800080; font-weight: bold\">TransformerEncoderLayer</span><span style=\"font-weight: bold\">(</span>\n",
              "        <span style=\"font-weight: bold\">(</span>self_attn<span style=\"font-weight: bold\">)</span>: <span style=\"color: #800080; text-decoration-color: #800080; font-weight: bold\">MultiheadAttention</span><span style=\"font-weight: bold\">(</span>\n",
              "          <span style=\"font-weight: bold\">(</span>out_proj<span style=\"font-weight: bold\">)</span>: <span style=\"color: #800080; text-decoration-color: #800080; font-weight: bold\">_LinearWithBias</span><span style=\"font-weight: bold\">(</span><span style=\"color: #808000; text-decoration-color: #808000\">in_features</span>=<span style=\"color: #008080; text-decoration-color: #008080; font-weight: bold\">512</span>, <span style=\"color: #808000; text-decoration-color: #808000\">out_features</span>=<span style=\"color: #008080; text-decoration-color: #008080; font-weight: bold\">512</span>, <span style=\"color: #808000; text-decoration-color: #808000\">bias</span>=<span style=\"color: #00ff00; text-decoration-color: #00ff00; font-style: italic\">True</span><span style=\"font-weight: bold\">)</span>\n",
              "        <span style=\"font-weight: bold\">)</span>\n",
              "        <span style=\"font-weight: bold\">(</span>linear1<span style=\"font-weight: bold\">)</span>: <span style=\"color: #800080; text-decoration-color: #800080; font-weight: bold\">Linear</span><span style=\"font-weight: bold\">(</span><span style=\"color: #808000; text-decoration-color: #808000\">in_features</span>=<span style=\"color: #008080; text-decoration-color: #008080; font-weight: bold\">512</span>, <span style=\"color: #808000; text-decoration-color: #808000\">out_features</span>=<span style=\"color: #008080; text-decoration-color: #008080; font-weight: bold\">512</span>, <span style=\"color: #808000; text-decoration-color: #808000\">bias</span>=<span style=\"color: #00ff00; text-decoration-color: #00ff00; font-style: italic\">True</span><span style=\"font-weight: bold\">)</span>\n",
              "        <span style=\"font-weight: bold\">(</span>dropout<span style=\"font-weight: bold\">)</span>: <span style=\"color: #800080; text-decoration-color: #800080; font-weight: bold\">Dropout</span><span style=\"font-weight: bold\">(</span><span style=\"color: #808000; text-decoration-color: #808000\">p</span>=<span style=\"color: #008080; text-decoration-color: #008080; font-weight: bold\">0.1</span>, <span style=\"color: #808000; text-decoration-color: #808000\">inplace</span>=<span style=\"color: #ff0000; text-decoration-color: #ff0000; font-style: italic\">False</span><span style=\"font-weight: bold\">)</span>\n",
              "        <span style=\"font-weight: bold\">(</span>linear2<span style=\"font-weight: bold\">)</span>: <span style=\"color: #800080; text-decoration-color: #800080; font-weight: bold\">Linear</span><span style=\"font-weight: bold\">(</span><span style=\"color: #808000; text-decoration-color: #808000\">in_features</span>=<span style=\"color: #008080; text-decoration-color: #008080; font-weight: bold\">512</span>, <span style=\"color: #808000; text-decoration-color: #808000\">out_features</span>=<span style=\"color: #008080; text-decoration-color: #008080; font-weight: bold\">512</span>, <span style=\"color: #808000; text-decoration-color: #808000\">bias</span>=<span style=\"color: #00ff00; text-decoration-color: #00ff00; font-style: italic\">True</span><span style=\"font-weight: bold\">)</span>\n",
              "        <span style=\"font-weight: bold\">(</span>norm1<span style=\"font-weight: bold\">)</span>: <span style=\"color: #800080; text-decoration-color: #800080; font-weight: bold\">LayerNorm</span><span style=\"font-weight: bold\">((</span><span style=\"color: #008080; text-decoration-color: #008080; font-weight: bold\">512</span>,<span style=\"font-weight: bold\">)</span>, <span style=\"color: #808000; text-decoration-color: #808000\">eps</span>=<span style=\"color: #008080; text-decoration-color: #008080; font-weight: bold\">1e-05</span>, <span style=\"color: #808000; text-decoration-color: #808000\">elementwise_affine</span>=<span style=\"color: #00ff00; text-decoration-color: #00ff00; font-style: italic\">True</span><span style=\"font-weight: bold\">)</span>\n",
              "        <span style=\"font-weight: bold\">(</span>norm2<span style=\"font-weight: bold\">)</span>: <span style=\"color: #800080; text-decoration-color: #800080; font-weight: bold\">LayerNorm</span><span style=\"font-weight: bold\">((</span><span style=\"color: #008080; text-decoration-color: #008080; font-weight: bold\">512</span>,<span style=\"font-weight: bold\">)</span>, <span style=\"color: #808000; text-decoration-color: #808000\">eps</span>=<span style=\"color: #008080; text-decoration-color: #008080; font-weight: bold\">1e-05</span>, <span style=\"color: #808000; text-decoration-color: #808000\">elementwise_affine</span>=<span style=\"color: #00ff00; text-decoration-color: #00ff00; font-style: italic\">True</span><span style=\"font-weight: bold\">)</span>\n",
              "        <span style=\"font-weight: bold\">(</span>dropout1<span style=\"font-weight: bold\">)</span>: <span style=\"color: #800080; text-decoration-color: #800080; font-weight: bold\">Dropout</span><span style=\"font-weight: bold\">(</span><span style=\"color: #808000; text-decoration-color: #808000\">p</span>=<span style=\"color: #008080; text-decoration-color: #008080; font-weight: bold\">0.1</span>, <span style=\"color: #808000; text-decoration-color: #808000\">inplace</span>=<span style=\"color: #ff0000; text-decoration-color: #ff0000; font-style: italic\">False</span><span style=\"font-weight: bold\">)</span>\n",
              "        <span style=\"font-weight: bold\">(</span>dropout2<span style=\"font-weight: bold\">)</span>: <span style=\"color: #800080; text-decoration-color: #800080; font-weight: bold\">Dropout</span><span style=\"font-weight: bold\">(</span><span style=\"color: #808000; text-decoration-color: #808000\">p</span>=<span style=\"color: #008080; text-decoration-color: #008080; font-weight: bold\">0.1</span>, <span style=\"color: #808000; text-decoration-color: #808000\">inplace</span>=<span style=\"color: #ff0000; text-decoration-color: #ff0000; font-style: italic\">False</span><span style=\"font-weight: bold\">)</span>\n",
              "      <span style=\"font-weight: bold\">)</span>\n",
              "    <span style=\"font-weight: bold\">)</span>\n",
              "  <span style=\"font-weight: bold\">)</span>\n",
              "  <span style=\"font-weight: bold\">(</span>transformer_decoder<span style=\"font-weight: bold\">)</span>: <span style=\"color: #800080; text-decoration-color: #800080; font-weight: bold\">TransformerDecoder</span><span style=\"font-weight: bold\">(</span>\n",
              "    <span style=\"font-weight: bold\">(</span>layers<span style=\"font-weight: bold\">)</span>: <span style=\"color: #800080; text-decoration-color: #800080; font-weight: bold\">ModuleList</span><span style=\"font-weight: bold\">(</span>\n",
              "      <span style=\"font-weight: bold\">(</span><span style=\"color: #008080; text-decoration-color: #008080; font-weight: bold\">0</span><span style=\"font-weight: bold\">)</span>: <span style=\"color: #800080; text-decoration-color: #800080; font-weight: bold\">TransformerDecoderLayer</span><span style=\"font-weight: bold\">(</span>\n",
              "        <span style=\"font-weight: bold\">(</span>self_attn<span style=\"font-weight: bold\">)</span>: <span style=\"color: #800080; text-decoration-color: #800080; font-weight: bold\">MultiheadAttention</span><span style=\"font-weight: bold\">(</span>\n",
              "          <span style=\"font-weight: bold\">(</span>out_proj<span style=\"font-weight: bold\">)</span>: <span style=\"color: #800080; text-decoration-color: #800080; font-weight: bold\">_LinearWithBias</span><span style=\"font-weight: bold\">(</span><span style=\"color: #808000; text-decoration-color: #808000\">in_features</span>=<span style=\"color: #008080; text-decoration-color: #008080; font-weight: bold\">512</span>, <span style=\"color: #808000; text-decoration-color: #808000\">out_features</span>=<span style=\"color: #008080; text-decoration-color: #008080; font-weight: bold\">512</span>, <span style=\"color: #808000; text-decoration-color: #808000\">bias</span>=<span style=\"color: #00ff00; text-decoration-color: #00ff00; font-style: italic\">True</span><span style=\"font-weight: bold\">)</span>\n",
              "        <span style=\"font-weight: bold\">)</span>\n",
              "        <span style=\"font-weight: bold\">(</span>multihead_attn<span style=\"font-weight: bold\">)</span>: <span style=\"color: #800080; text-decoration-color: #800080; font-weight: bold\">MultiheadAttention</span><span style=\"font-weight: bold\">(</span>\n",
              "          <span style=\"font-weight: bold\">(</span>out_proj<span style=\"font-weight: bold\">)</span>: <span style=\"color: #800080; text-decoration-color: #800080; font-weight: bold\">_LinearWithBias</span><span style=\"font-weight: bold\">(</span><span style=\"color: #808000; text-decoration-color: #808000\">in_features</span>=<span style=\"color: #008080; text-decoration-color: #008080; font-weight: bold\">512</span>, <span style=\"color: #808000; text-decoration-color: #808000\">out_features</span>=<span style=\"color: #008080; text-decoration-color: #008080; font-weight: bold\">512</span>, <span style=\"color: #808000; text-decoration-color: #808000\">bias</span>=<span style=\"color: #00ff00; text-decoration-color: #00ff00; font-style: italic\">True</span><span style=\"font-weight: bold\">)</span>\n",
              "        <span style=\"font-weight: bold\">)</span>\n",
              "        <span style=\"font-weight: bold\">(</span>linear1<span style=\"font-weight: bold\">)</span>: <span style=\"color: #800080; text-decoration-color: #800080; font-weight: bold\">Linear</span><span style=\"font-weight: bold\">(</span><span style=\"color: #808000; text-decoration-color: #808000\">in_features</span>=<span style=\"color: #008080; text-decoration-color: #008080; font-weight: bold\">512</span>, <span style=\"color: #808000; text-decoration-color: #808000\">out_features</span>=<span style=\"color: #008080; text-decoration-color: #008080; font-weight: bold\">512</span>, <span style=\"color: #808000; text-decoration-color: #808000\">bias</span>=<span style=\"color: #00ff00; text-decoration-color: #00ff00; font-style: italic\">True</span><span style=\"font-weight: bold\">)</span>\n",
              "        <span style=\"font-weight: bold\">(</span>dropout<span style=\"font-weight: bold\">)</span>: <span style=\"color: #800080; text-decoration-color: #800080; font-weight: bold\">Dropout</span><span style=\"font-weight: bold\">(</span><span style=\"color: #808000; text-decoration-color: #808000\">p</span>=<span style=\"color: #008080; text-decoration-color: #008080; font-weight: bold\">0.1</span>, <span style=\"color: #808000; text-decoration-color: #808000\">inplace</span>=<span style=\"color: #ff0000; text-decoration-color: #ff0000; font-style: italic\">False</span><span style=\"font-weight: bold\">)</span>\n",
              "        <span style=\"font-weight: bold\">(</span>linear2<span style=\"font-weight: bold\">)</span>: <span style=\"color: #800080; text-decoration-color: #800080; font-weight: bold\">Linear</span><span style=\"font-weight: bold\">(</span><span style=\"color: #808000; text-decoration-color: #808000\">in_features</span>=<span style=\"color: #008080; text-decoration-color: #008080; font-weight: bold\">512</span>, <span style=\"color: #808000; text-decoration-color: #808000\">out_features</span>=<span style=\"color: #008080; text-decoration-color: #008080; font-weight: bold\">512</span>, <span style=\"color: #808000; text-decoration-color: #808000\">bias</span>=<span style=\"color: #00ff00; text-decoration-color: #00ff00; font-style: italic\">True</span><span style=\"font-weight: bold\">)</span>\n",
              "        <span style=\"font-weight: bold\">(</span>norm1<span style=\"font-weight: bold\">)</span>: <span style=\"color: #800080; text-decoration-color: #800080; font-weight: bold\">LayerNorm</span><span style=\"font-weight: bold\">((</span><span style=\"color: #008080; text-decoration-color: #008080; font-weight: bold\">512</span>,<span style=\"font-weight: bold\">)</span>, <span style=\"color: #808000; text-decoration-color: #808000\">eps</span>=<span style=\"color: #008080; text-decoration-color: #008080; font-weight: bold\">1e-05</span>, <span style=\"color: #808000; text-decoration-color: #808000\">elementwise_affine</span>=<span style=\"color: #00ff00; text-decoration-color: #00ff00; font-style: italic\">True</span><span style=\"font-weight: bold\">)</span>\n",
              "        <span style=\"font-weight: bold\">(</span>norm2<span style=\"font-weight: bold\">)</span>: <span style=\"color: #800080; text-decoration-color: #800080; font-weight: bold\">LayerNorm</span><span style=\"font-weight: bold\">((</span><span style=\"color: #008080; text-decoration-color: #008080; font-weight: bold\">512</span>,<span style=\"font-weight: bold\">)</span>, <span style=\"color: #808000; text-decoration-color: #808000\">eps</span>=<span style=\"color: #008080; text-decoration-color: #008080; font-weight: bold\">1e-05</span>, <span style=\"color: #808000; text-decoration-color: #808000\">elementwise_affine</span>=<span style=\"color: #00ff00; text-decoration-color: #00ff00; font-style: italic\">True</span><span style=\"font-weight: bold\">)</span>\n",
              "        <span style=\"font-weight: bold\">(</span>norm3<span style=\"font-weight: bold\">)</span>: <span style=\"color: #800080; text-decoration-color: #800080; font-weight: bold\">LayerNorm</span><span style=\"font-weight: bold\">((</span><span style=\"color: #008080; text-decoration-color: #008080; font-weight: bold\">512</span>,<span style=\"font-weight: bold\">)</span>, <span style=\"color: #808000; text-decoration-color: #808000\">eps</span>=<span style=\"color: #008080; text-decoration-color: #008080; font-weight: bold\">1e-05</span>, <span style=\"color: #808000; text-decoration-color: #808000\">elementwise_affine</span>=<span style=\"color: #00ff00; text-decoration-color: #00ff00; font-style: italic\">True</span><span style=\"font-weight: bold\">)</span>\n",
              "        <span style=\"font-weight: bold\">(</span>dropout1<span style=\"font-weight: bold\">)</span>: <span style=\"color: #800080; text-decoration-color: #800080; font-weight: bold\">Dropout</span><span style=\"font-weight: bold\">(</span><span style=\"color: #808000; text-decoration-color: #808000\">p</span>=<span style=\"color: #008080; text-decoration-color: #008080; font-weight: bold\">0.1</span>, <span style=\"color: #808000; text-decoration-color: #808000\">inplace</span>=<span style=\"color: #ff0000; text-decoration-color: #ff0000; font-style: italic\">False</span><span style=\"font-weight: bold\">)</span>\n",
              "        <span style=\"font-weight: bold\">(</span>dropout2<span style=\"font-weight: bold\">)</span>: <span style=\"color: #800080; text-decoration-color: #800080; font-weight: bold\">Dropout</span><span style=\"font-weight: bold\">(</span><span style=\"color: #808000; text-decoration-color: #808000\">p</span>=<span style=\"color: #008080; text-decoration-color: #008080; font-weight: bold\">0.1</span>, <span style=\"color: #808000; text-decoration-color: #808000\">inplace</span>=<span style=\"color: #ff0000; text-decoration-color: #ff0000; font-style: italic\">False</span><span style=\"font-weight: bold\">)</span>\n",
              "        <span style=\"font-weight: bold\">(</span>dropout3<span style=\"font-weight: bold\">)</span>: <span style=\"color: #800080; text-decoration-color: #800080; font-weight: bold\">Dropout</span><span style=\"font-weight: bold\">(</span><span style=\"color: #808000; text-decoration-color: #808000\">p</span>=<span style=\"color: #008080; text-decoration-color: #008080; font-weight: bold\">0.1</span>, <span style=\"color: #808000; text-decoration-color: #808000\">inplace</span>=<span style=\"color: #ff0000; text-decoration-color: #ff0000; font-style: italic\">False</span><span style=\"font-weight: bold\">)</span>\n",
              "      <span style=\"font-weight: bold\">)</span>\n",
              "      <span style=\"font-weight: bold\">(</span><span style=\"color: #008080; text-decoration-color: #008080; font-weight: bold\">1</span><span style=\"font-weight: bold\">)</span>: <span style=\"color: #800080; text-decoration-color: #800080; font-weight: bold\">TransformerDecoderLayer</span><span style=\"font-weight: bold\">(</span>\n",
              "        <span style=\"font-weight: bold\">(</span>self_attn<span style=\"font-weight: bold\">)</span>: <span style=\"color: #800080; text-decoration-color: #800080; font-weight: bold\">MultiheadAttention</span><span style=\"font-weight: bold\">(</span>\n",
              "          <span style=\"font-weight: bold\">(</span>out_proj<span style=\"font-weight: bold\">)</span>: <span style=\"color: #800080; text-decoration-color: #800080; font-weight: bold\">_LinearWithBias</span><span style=\"font-weight: bold\">(</span><span style=\"color: #808000; text-decoration-color: #808000\">in_features</span>=<span style=\"color: #008080; text-decoration-color: #008080; font-weight: bold\">512</span>, <span style=\"color: #808000; text-decoration-color: #808000\">out_features</span>=<span style=\"color: #008080; text-decoration-color: #008080; font-weight: bold\">512</span>, <span style=\"color: #808000; text-decoration-color: #808000\">bias</span>=<span style=\"color: #00ff00; text-decoration-color: #00ff00; font-style: italic\">True</span><span style=\"font-weight: bold\">)</span>\n",
              "        <span style=\"font-weight: bold\">)</span>\n",
              "        <span style=\"font-weight: bold\">(</span>multihead_attn<span style=\"font-weight: bold\">)</span>: <span style=\"color: #800080; text-decoration-color: #800080; font-weight: bold\">MultiheadAttention</span><span style=\"font-weight: bold\">(</span>\n",
              "          <span style=\"font-weight: bold\">(</span>out_proj<span style=\"font-weight: bold\">)</span>: <span style=\"color: #800080; text-decoration-color: #800080; font-weight: bold\">_LinearWithBias</span><span style=\"font-weight: bold\">(</span><span style=\"color: #808000; text-decoration-color: #808000\">in_features</span>=<span style=\"color: #008080; text-decoration-color: #008080; font-weight: bold\">512</span>, <span style=\"color: #808000; text-decoration-color: #808000\">out_features</span>=<span style=\"color: #008080; text-decoration-color: #008080; font-weight: bold\">512</span>, <span style=\"color: #808000; text-decoration-color: #808000\">bias</span>=<span style=\"color: #00ff00; text-decoration-color: #00ff00; font-style: italic\">True</span><span style=\"font-weight: bold\">)</span>\n",
              "        <span style=\"font-weight: bold\">)</span>\n",
              "        <span style=\"font-weight: bold\">(</span>linear1<span style=\"font-weight: bold\">)</span>: <span style=\"color: #800080; text-decoration-color: #800080; font-weight: bold\">Linear</span><span style=\"font-weight: bold\">(</span><span style=\"color: #808000; text-decoration-color: #808000\">in_features</span>=<span style=\"color: #008080; text-decoration-color: #008080; font-weight: bold\">512</span>, <span style=\"color: #808000; text-decoration-color: #808000\">out_features</span>=<span style=\"color: #008080; text-decoration-color: #008080; font-weight: bold\">512</span>, <span style=\"color: #808000; text-decoration-color: #808000\">bias</span>=<span style=\"color: #00ff00; text-decoration-color: #00ff00; font-style: italic\">True</span><span style=\"font-weight: bold\">)</span>\n",
              "        <span style=\"font-weight: bold\">(</span>dropout<span style=\"font-weight: bold\">)</span>: <span style=\"color: #800080; text-decoration-color: #800080; font-weight: bold\">Dropout</span><span style=\"font-weight: bold\">(</span><span style=\"color: #808000; text-decoration-color: #808000\">p</span>=<span style=\"color: #008080; text-decoration-color: #008080; font-weight: bold\">0.1</span>, <span style=\"color: #808000; text-decoration-color: #808000\">inplace</span>=<span style=\"color: #ff0000; text-decoration-color: #ff0000; font-style: italic\">False</span><span style=\"font-weight: bold\">)</span>\n",
              "        <span style=\"font-weight: bold\">(</span>linear2<span style=\"font-weight: bold\">)</span>: <span style=\"color: #800080; text-decoration-color: #800080; font-weight: bold\">Linear</span><span style=\"font-weight: bold\">(</span><span style=\"color: #808000; text-decoration-color: #808000\">in_features</span>=<span style=\"color: #008080; text-decoration-color: #008080; font-weight: bold\">512</span>, <span style=\"color: #808000; text-decoration-color: #808000\">out_features</span>=<span style=\"color: #008080; text-decoration-color: #008080; font-weight: bold\">512</span>, <span style=\"color: #808000; text-decoration-color: #808000\">bias</span>=<span style=\"color: #00ff00; text-decoration-color: #00ff00; font-style: italic\">True</span><span style=\"font-weight: bold\">)</span>\n",
              "        <span style=\"font-weight: bold\">(</span>norm1<span style=\"font-weight: bold\">)</span>: <span style=\"color: #800080; text-decoration-color: #800080; font-weight: bold\">LayerNorm</span><span style=\"font-weight: bold\">((</span><span style=\"color: #008080; text-decoration-color: #008080; font-weight: bold\">512</span>,<span style=\"font-weight: bold\">)</span>, <span style=\"color: #808000; text-decoration-color: #808000\">eps</span>=<span style=\"color: #008080; text-decoration-color: #008080; font-weight: bold\">1e-05</span>, <span style=\"color: #808000; text-decoration-color: #808000\">elementwise_affine</span>=<span style=\"color: #00ff00; text-decoration-color: #00ff00; font-style: italic\">True</span><span style=\"font-weight: bold\">)</span>\n",
              "        <span style=\"font-weight: bold\">(</span>norm2<span style=\"font-weight: bold\">)</span>: <span style=\"color: #800080; text-decoration-color: #800080; font-weight: bold\">LayerNorm</span><span style=\"font-weight: bold\">((</span><span style=\"color: #008080; text-decoration-color: #008080; font-weight: bold\">512</span>,<span style=\"font-weight: bold\">)</span>, <span style=\"color: #808000; text-decoration-color: #808000\">eps</span>=<span style=\"color: #008080; text-decoration-color: #008080; font-weight: bold\">1e-05</span>, <span style=\"color: #808000; text-decoration-color: #808000\">elementwise_affine</span>=<span style=\"color: #00ff00; text-decoration-color: #00ff00; font-style: italic\">True</span><span style=\"font-weight: bold\">)</span>\n",
              "        <span style=\"font-weight: bold\">(</span>norm3<span style=\"font-weight: bold\">)</span>: <span style=\"color: #800080; text-decoration-color: #800080; font-weight: bold\">LayerNorm</span><span style=\"font-weight: bold\">((</span><span style=\"color: #008080; text-decoration-color: #008080; font-weight: bold\">512</span>,<span style=\"font-weight: bold\">)</span>, <span style=\"color: #808000; text-decoration-color: #808000\">eps</span>=<span style=\"color: #008080; text-decoration-color: #008080; font-weight: bold\">1e-05</span>, <span style=\"color: #808000; text-decoration-color: #808000\">elementwise_affine</span>=<span style=\"color: #00ff00; text-decoration-color: #00ff00; font-style: italic\">True</span><span style=\"font-weight: bold\">)</span>\n",
              "        <span style=\"font-weight: bold\">(</span>dropout1<span style=\"font-weight: bold\">)</span>: <span style=\"color: #800080; text-decoration-color: #800080; font-weight: bold\">Dropout</span><span style=\"font-weight: bold\">(</span><span style=\"color: #808000; text-decoration-color: #808000\">p</span>=<span style=\"color: #008080; text-decoration-color: #008080; font-weight: bold\">0.1</span>, <span style=\"color: #808000; text-decoration-color: #808000\">inplace</span>=<span style=\"color: #ff0000; text-decoration-color: #ff0000; font-style: italic\">False</span><span style=\"font-weight: bold\">)</span>\n",
              "        <span style=\"font-weight: bold\">(</span>dropout2<span style=\"font-weight: bold\">)</span>: <span style=\"color: #800080; text-decoration-color: #800080; font-weight: bold\">Dropout</span><span style=\"font-weight: bold\">(</span><span style=\"color: #808000; text-decoration-color: #808000\">p</span>=<span style=\"color: #008080; text-decoration-color: #008080; font-weight: bold\">0.1</span>, <span style=\"color: #808000; text-decoration-color: #808000\">inplace</span>=<span style=\"color: #ff0000; text-decoration-color: #ff0000; font-style: italic\">False</span><span style=\"font-weight: bold\">)</span>\n",
              "        <span style=\"font-weight: bold\">(</span>dropout3<span style=\"font-weight: bold\">)</span>: <span style=\"color: #800080; text-decoration-color: #800080; font-weight: bold\">Dropout</span><span style=\"font-weight: bold\">(</span><span style=\"color: #808000; text-decoration-color: #808000\">p</span>=<span style=\"color: #008080; text-decoration-color: #008080; font-weight: bold\">0.1</span>, <span style=\"color: #808000; text-decoration-color: #808000\">inplace</span>=<span style=\"color: #ff0000; text-decoration-color: #ff0000; font-style: italic\">False</span><span style=\"font-weight: bold\">)</span>\n",
              "      <span style=\"font-weight: bold\">)</span>\n",
              "      <span style=\"font-weight: bold\">(</span><span style=\"color: #008080; text-decoration-color: #008080; font-weight: bold\">2</span><span style=\"font-weight: bold\">)</span>: <span style=\"color: #800080; text-decoration-color: #800080; font-weight: bold\">TransformerDecoderLayer</span><span style=\"font-weight: bold\">(</span>\n",
              "        <span style=\"font-weight: bold\">(</span>self_attn<span style=\"font-weight: bold\">)</span>: <span style=\"color: #800080; text-decoration-color: #800080; font-weight: bold\">MultiheadAttention</span><span style=\"font-weight: bold\">(</span>\n",
              "          <span style=\"font-weight: bold\">(</span>out_proj<span style=\"font-weight: bold\">)</span>: <span style=\"color: #800080; text-decoration-color: #800080; font-weight: bold\">_LinearWithBias</span><span style=\"font-weight: bold\">(</span><span style=\"color: #808000; text-decoration-color: #808000\">in_features</span>=<span style=\"color: #008080; text-decoration-color: #008080; font-weight: bold\">512</span>, <span style=\"color: #808000; text-decoration-color: #808000\">out_features</span>=<span style=\"color: #008080; text-decoration-color: #008080; font-weight: bold\">512</span>, <span style=\"color: #808000; text-decoration-color: #808000\">bias</span>=<span style=\"color: #00ff00; text-decoration-color: #00ff00; font-style: italic\">True</span><span style=\"font-weight: bold\">)</span>\n",
              "        <span style=\"font-weight: bold\">)</span>\n",
              "        <span style=\"font-weight: bold\">(</span>multihead_attn<span style=\"font-weight: bold\">)</span>: <span style=\"color: #800080; text-decoration-color: #800080; font-weight: bold\">MultiheadAttention</span><span style=\"font-weight: bold\">(</span>\n",
              "          <span style=\"font-weight: bold\">(</span>out_proj<span style=\"font-weight: bold\">)</span>: <span style=\"color: #800080; text-decoration-color: #800080; font-weight: bold\">_LinearWithBias</span><span style=\"font-weight: bold\">(</span><span style=\"color: #808000; text-decoration-color: #808000\">in_features</span>=<span style=\"color: #008080; text-decoration-color: #008080; font-weight: bold\">512</span>, <span style=\"color: #808000; text-decoration-color: #808000\">out_features</span>=<span style=\"color: #008080; text-decoration-color: #008080; font-weight: bold\">512</span>, <span style=\"color: #808000; text-decoration-color: #808000\">bias</span>=<span style=\"color: #00ff00; text-decoration-color: #00ff00; font-style: italic\">True</span><span style=\"font-weight: bold\">)</span>\n",
              "        <span style=\"font-weight: bold\">)</span>\n",
              "        <span style=\"font-weight: bold\">(</span>linear1<span style=\"font-weight: bold\">)</span>: <span style=\"color: #800080; text-decoration-color: #800080; font-weight: bold\">Linear</span><span style=\"font-weight: bold\">(</span><span style=\"color: #808000; text-decoration-color: #808000\">in_features</span>=<span style=\"color: #008080; text-decoration-color: #008080; font-weight: bold\">512</span>, <span style=\"color: #808000; text-decoration-color: #808000\">out_features</span>=<span style=\"color: #008080; text-decoration-color: #008080; font-weight: bold\">512</span>, <span style=\"color: #808000; text-decoration-color: #808000\">bias</span>=<span style=\"color: #00ff00; text-decoration-color: #00ff00; font-style: italic\">True</span><span style=\"font-weight: bold\">)</span>\n",
              "        <span style=\"font-weight: bold\">(</span>dropout<span style=\"font-weight: bold\">)</span>: <span style=\"color: #800080; text-decoration-color: #800080; font-weight: bold\">Dropout</span><span style=\"font-weight: bold\">(</span><span style=\"color: #808000; text-decoration-color: #808000\">p</span>=<span style=\"color: #008080; text-decoration-color: #008080; font-weight: bold\">0.1</span>, <span style=\"color: #808000; text-decoration-color: #808000\">inplace</span>=<span style=\"color: #ff0000; text-decoration-color: #ff0000; font-style: italic\">False</span><span style=\"font-weight: bold\">)</span>\n",
              "        <span style=\"font-weight: bold\">(</span>linear2<span style=\"font-weight: bold\">)</span>: <span style=\"color: #800080; text-decoration-color: #800080; font-weight: bold\">Linear</span><span style=\"font-weight: bold\">(</span><span style=\"color: #808000; text-decoration-color: #808000\">in_features</span>=<span style=\"color: #008080; text-decoration-color: #008080; font-weight: bold\">512</span>, <span style=\"color: #808000; text-decoration-color: #808000\">out_features</span>=<span style=\"color: #008080; text-decoration-color: #008080; font-weight: bold\">512</span>, <span style=\"color: #808000; text-decoration-color: #808000\">bias</span>=<span style=\"color: #00ff00; text-decoration-color: #00ff00; font-style: italic\">True</span><span style=\"font-weight: bold\">)</span>\n",
              "        <span style=\"font-weight: bold\">(</span>norm1<span style=\"font-weight: bold\">)</span>: <span style=\"color: #800080; text-decoration-color: #800080; font-weight: bold\">LayerNorm</span><span style=\"font-weight: bold\">((</span><span style=\"color: #008080; text-decoration-color: #008080; font-weight: bold\">512</span>,<span style=\"font-weight: bold\">)</span>, <span style=\"color: #808000; text-decoration-color: #808000\">eps</span>=<span style=\"color: #008080; text-decoration-color: #008080; font-weight: bold\">1e-05</span>, <span style=\"color: #808000; text-decoration-color: #808000\">elementwise_affine</span>=<span style=\"color: #00ff00; text-decoration-color: #00ff00; font-style: italic\">True</span><span style=\"font-weight: bold\">)</span>\n",
              "        <span style=\"font-weight: bold\">(</span>norm2<span style=\"font-weight: bold\">)</span>: <span style=\"color: #800080; text-decoration-color: #800080; font-weight: bold\">LayerNorm</span><span style=\"font-weight: bold\">((</span><span style=\"color: #008080; text-decoration-color: #008080; font-weight: bold\">512</span>,<span style=\"font-weight: bold\">)</span>, <span style=\"color: #808000; text-decoration-color: #808000\">eps</span>=<span style=\"color: #008080; text-decoration-color: #008080; font-weight: bold\">1e-05</span>, <span style=\"color: #808000; text-decoration-color: #808000\">elementwise_affine</span>=<span style=\"color: #00ff00; text-decoration-color: #00ff00; font-style: italic\">True</span><span style=\"font-weight: bold\">)</span>\n",
              "        <span style=\"font-weight: bold\">(</span>norm3<span style=\"font-weight: bold\">)</span>: <span style=\"color: #800080; text-decoration-color: #800080; font-weight: bold\">LayerNorm</span><span style=\"font-weight: bold\">((</span><span style=\"color: #008080; text-decoration-color: #008080; font-weight: bold\">512</span>,<span style=\"font-weight: bold\">)</span>, <span style=\"color: #808000; text-decoration-color: #808000\">eps</span>=<span style=\"color: #008080; text-decoration-color: #008080; font-weight: bold\">1e-05</span>, <span style=\"color: #808000; text-decoration-color: #808000\">elementwise_affine</span>=<span style=\"color: #00ff00; text-decoration-color: #00ff00; font-style: italic\">True</span><span style=\"font-weight: bold\">)</span>\n",
              "        <span style=\"font-weight: bold\">(</span>dropout1<span style=\"font-weight: bold\">)</span>: <span style=\"color: #800080; text-decoration-color: #800080; font-weight: bold\">Dropout</span><span style=\"font-weight: bold\">(</span><span style=\"color: #808000; text-decoration-color: #808000\">p</span>=<span style=\"color: #008080; text-decoration-color: #008080; font-weight: bold\">0.1</span>, <span style=\"color: #808000; text-decoration-color: #808000\">inplace</span>=<span style=\"color: #ff0000; text-decoration-color: #ff0000; font-style: italic\">False</span><span style=\"font-weight: bold\">)</span>\n",
              "        <span style=\"font-weight: bold\">(</span>dropout2<span style=\"font-weight: bold\">)</span>: <span style=\"color: #800080; text-decoration-color: #800080; font-weight: bold\">Dropout</span><span style=\"font-weight: bold\">(</span><span style=\"color: #808000; text-decoration-color: #808000\">p</span>=<span style=\"color: #008080; text-decoration-color: #008080; font-weight: bold\">0.1</span>, <span style=\"color: #808000; text-decoration-color: #808000\">inplace</span>=<span style=\"color: #ff0000; text-decoration-color: #ff0000; font-style: italic\">False</span><span style=\"font-weight: bold\">)</span>\n",
              "        <span style=\"font-weight: bold\">(</span>dropout3<span style=\"font-weight: bold\">)</span>: <span style=\"color: #800080; text-decoration-color: #800080; font-weight: bold\">Dropout</span><span style=\"font-weight: bold\">(</span><span style=\"color: #808000; text-decoration-color: #808000\">p</span>=<span style=\"color: #008080; text-decoration-color: #008080; font-weight: bold\">0.1</span>, <span style=\"color: #808000; text-decoration-color: #808000\">inplace</span>=<span style=\"color: #ff0000; text-decoration-color: #ff0000; font-style: italic\">False</span><span style=\"font-weight: bold\">)</span>\n",
              "      <span style=\"font-weight: bold\">)</span>\n",
              "    <span style=\"font-weight: bold\">)</span>\n",
              "  <span style=\"font-weight: bold\">)</span>\n",
              "  <span style=\"font-weight: bold\">(</span>generator<span style=\"font-weight: bold\">)</span>: <span style=\"color: #800080; text-decoration-color: #800080; font-weight: bold\">Linear</span><span style=\"font-weight: bold\">(</span><span style=\"color: #808000; text-decoration-color: #808000\">in_features</span>=<span style=\"color: #008080; text-decoration-color: #008080; font-weight: bold\">512</span>, <span style=\"color: #808000; text-decoration-color: #808000\">out_features</span>=<span style=\"color: #008080; text-decoration-color: #008080; font-weight: bold\">42</span>, <span style=\"color: #808000; text-decoration-color: #808000\">bias</span>=<span style=\"color: #00ff00; text-decoration-color: #00ff00; font-style: italic\">True</span><span style=\"font-weight: bold\">)</span>\n",
              "  <span style=\"font-weight: bold\">(</span>src_tok_emb<span style=\"font-weight: bold\">)</span>: <span style=\"color: #800080; text-decoration-color: #800080; font-weight: bold\">TokenEmbedding</span><span style=\"font-weight: bold\">(</span>\n",
              "    <span style=\"font-weight: bold\">(</span>embedding<span style=\"font-weight: bold\">)</span>: <span style=\"color: #800080; text-decoration-color: #800080; font-weight: bold\">Embedding</span><span style=\"font-weight: bold\">(</span><span style=\"color: #008080; text-decoration-color: #008080; font-weight: bold\">46</span>, <span style=\"color: #008080; text-decoration-color: #008080; font-weight: bold\">512</span><span style=\"font-weight: bold\">)</span>\n",
              "  <span style=\"font-weight: bold\">)</span>\n",
              "  <span style=\"font-weight: bold\">(</span>tgt_tok_emb<span style=\"font-weight: bold\">)</span>: <span style=\"color: #800080; text-decoration-color: #800080; font-weight: bold\">TokenEmbedding</span><span style=\"font-weight: bold\">(</span>\n",
              "    <span style=\"font-weight: bold\">(</span>embedding<span style=\"font-weight: bold\">)</span>: <span style=\"color: #800080; text-decoration-color: #800080; font-weight: bold\">Embedding</span><span style=\"font-weight: bold\">(</span><span style=\"color: #008080; text-decoration-color: #008080; font-weight: bold\">42</span>, <span style=\"color: #008080; text-decoration-color: #008080; font-weight: bold\">512</span><span style=\"font-weight: bold\">)</span>\n",
              "  <span style=\"font-weight: bold\">)</span>\n",
              "  <span style=\"font-weight: bold\">(</span>positional_encoding<span style=\"font-weight: bold\">)</span>: <span style=\"color: #800080; text-decoration-color: #800080; font-weight: bold\">PositionalEncoding</span><span style=\"font-weight: bold\">(</span>\n",
              "    <span style=\"font-weight: bold\">(</span>dropout<span style=\"font-weight: bold\">)</span>: <span style=\"color: #800080; text-decoration-color: #800080; font-weight: bold\">Dropout</span><span style=\"font-weight: bold\">(</span><span style=\"color: #808000; text-decoration-color: #808000\">p</span>=<span style=\"color: #008080; text-decoration-color: #008080; font-weight: bold\">0.1</span>, <span style=\"color: #808000; text-decoration-color: #808000\">inplace</span>=<span style=\"color: #ff0000; text-decoration-color: #ff0000; font-style: italic\">False</span><span style=\"font-weight: bold\">)</span>\n",
              "  <span style=\"font-weight: bold\">)</span>\n",
              "<span style=\"font-weight: bold\">)</span>\n",
              "</pre>\n"
            ],
            "text/plain": [
              "\u001b[1;35mSeq2SeqTransformer\u001b[0m\u001b[1m(\u001b[0m\n",
              "  \u001b[1m(\u001b[0mtransformer_encoder\u001b[1m)\u001b[0m: \u001b[1;35mTransformerEncoder\u001b[0m\u001b[1m(\u001b[0m\n",
              "    \u001b[1m(\u001b[0mlayers\u001b[1m)\u001b[0m: \u001b[1;35mModuleList\u001b[0m\u001b[1m(\u001b[0m\n",
              "      \u001b[1m(\u001b[0m\u001b[1;36m0\u001b[0m\u001b[1m)\u001b[0m: \u001b[1;35mTransformerEncoderLayer\u001b[0m\u001b[1m(\u001b[0m\n",
              "        \u001b[1m(\u001b[0mself_attn\u001b[1m)\u001b[0m: \u001b[1;35mMultiheadAttention\u001b[0m\u001b[1m(\u001b[0m\n",
              "          \u001b[1m(\u001b[0mout_proj\u001b[1m)\u001b[0m: \u001b[1;35m_LinearWithBias\u001b[0m\u001b[1m(\u001b[0m\u001b[33min_features\u001b[0m=\u001b[1;36m512\u001b[0m, \u001b[33mout_features\u001b[0m=\u001b[1;36m512\u001b[0m, \u001b[33mbias\u001b[0m=\u001b[3;92mTrue\u001b[0m\u001b[1m)\u001b[0m\n",
              "        \u001b[1m)\u001b[0m\n",
              "        \u001b[1m(\u001b[0mlinear1\u001b[1m)\u001b[0m: \u001b[1;35mLinear\u001b[0m\u001b[1m(\u001b[0m\u001b[33min_features\u001b[0m=\u001b[1;36m512\u001b[0m, \u001b[33mout_features\u001b[0m=\u001b[1;36m512\u001b[0m, \u001b[33mbias\u001b[0m=\u001b[3;92mTrue\u001b[0m\u001b[1m)\u001b[0m\n",
              "        \u001b[1m(\u001b[0mdropout\u001b[1m)\u001b[0m: \u001b[1;35mDropout\u001b[0m\u001b[1m(\u001b[0m\u001b[33mp\u001b[0m=\u001b[1;36m0\u001b[0m\u001b[1;36m.1\u001b[0m, \u001b[33minplace\u001b[0m=\u001b[3;91mFalse\u001b[0m\u001b[1m)\u001b[0m\n",
              "        \u001b[1m(\u001b[0mlinear2\u001b[1m)\u001b[0m: \u001b[1;35mLinear\u001b[0m\u001b[1m(\u001b[0m\u001b[33min_features\u001b[0m=\u001b[1;36m512\u001b[0m, \u001b[33mout_features\u001b[0m=\u001b[1;36m512\u001b[0m, \u001b[33mbias\u001b[0m=\u001b[3;92mTrue\u001b[0m\u001b[1m)\u001b[0m\n",
              "        \u001b[1m(\u001b[0mnorm1\u001b[1m)\u001b[0m: \u001b[1;35mLayerNorm\u001b[0m\u001b[1m(\u001b[0m\u001b[1m(\u001b[0m\u001b[1;36m512\u001b[0m,\u001b[1m)\u001b[0m, \u001b[33meps\u001b[0m=\u001b[1;36m1e\u001b[0m\u001b[1;36m-05\u001b[0m, \u001b[33melementwise_affine\u001b[0m=\u001b[3;92mTrue\u001b[0m\u001b[1m)\u001b[0m\n",
              "        \u001b[1m(\u001b[0mnorm2\u001b[1m)\u001b[0m: \u001b[1;35mLayerNorm\u001b[0m\u001b[1m(\u001b[0m\u001b[1m(\u001b[0m\u001b[1;36m512\u001b[0m,\u001b[1m)\u001b[0m, \u001b[33meps\u001b[0m=\u001b[1;36m1e\u001b[0m\u001b[1;36m-05\u001b[0m, \u001b[33melementwise_affine\u001b[0m=\u001b[3;92mTrue\u001b[0m\u001b[1m)\u001b[0m\n",
              "        \u001b[1m(\u001b[0mdropout1\u001b[1m)\u001b[0m: \u001b[1;35mDropout\u001b[0m\u001b[1m(\u001b[0m\u001b[33mp\u001b[0m=\u001b[1;36m0\u001b[0m\u001b[1;36m.1\u001b[0m, \u001b[33minplace\u001b[0m=\u001b[3;91mFalse\u001b[0m\u001b[1m)\u001b[0m\n",
              "        \u001b[1m(\u001b[0mdropout2\u001b[1m)\u001b[0m: \u001b[1;35mDropout\u001b[0m\u001b[1m(\u001b[0m\u001b[33mp\u001b[0m=\u001b[1;36m0\u001b[0m\u001b[1;36m.1\u001b[0m, \u001b[33minplace\u001b[0m=\u001b[3;91mFalse\u001b[0m\u001b[1m)\u001b[0m\n",
              "      \u001b[1m)\u001b[0m\n",
              "      \u001b[1m(\u001b[0m\u001b[1;36m1\u001b[0m\u001b[1m)\u001b[0m: \u001b[1;35mTransformerEncoderLayer\u001b[0m\u001b[1m(\u001b[0m\n",
              "        \u001b[1m(\u001b[0mself_attn\u001b[1m)\u001b[0m: \u001b[1;35mMultiheadAttention\u001b[0m\u001b[1m(\u001b[0m\n",
              "          \u001b[1m(\u001b[0mout_proj\u001b[1m)\u001b[0m: \u001b[1;35m_LinearWithBias\u001b[0m\u001b[1m(\u001b[0m\u001b[33min_features\u001b[0m=\u001b[1;36m512\u001b[0m, \u001b[33mout_features\u001b[0m=\u001b[1;36m512\u001b[0m, \u001b[33mbias\u001b[0m=\u001b[3;92mTrue\u001b[0m\u001b[1m)\u001b[0m\n",
              "        \u001b[1m)\u001b[0m\n",
              "        \u001b[1m(\u001b[0mlinear1\u001b[1m)\u001b[0m: \u001b[1;35mLinear\u001b[0m\u001b[1m(\u001b[0m\u001b[33min_features\u001b[0m=\u001b[1;36m512\u001b[0m, \u001b[33mout_features\u001b[0m=\u001b[1;36m512\u001b[0m, \u001b[33mbias\u001b[0m=\u001b[3;92mTrue\u001b[0m\u001b[1m)\u001b[0m\n",
              "        \u001b[1m(\u001b[0mdropout\u001b[1m)\u001b[0m: \u001b[1;35mDropout\u001b[0m\u001b[1m(\u001b[0m\u001b[33mp\u001b[0m=\u001b[1;36m0\u001b[0m\u001b[1;36m.1\u001b[0m, \u001b[33minplace\u001b[0m=\u001b[3;91mFalse\u001b[0m\u001b[1m)\u001b[0m\n",
              "        \u001b[1m(\u001b[0mlinear2\u001b[1m)\u001b[0m: \u001b[1;35mLinear\u001b[0m\u001b[1m(\u001b[0m\u001b[33min_features\u001b[0m=\u001b[1;36m512\u001b[0m, \u001b[33mout_features\u001b[0m=\u001b[1;36m512\u001b[0m, \u001b[33mbias\u001b[0m=\u001b[3;92mTrue\u001b[0m\u001b[1m)\u001b[0m\n",
              "        \u001b[1m(\u001b[0mnorm1\u001b[1m)\u001b[0m: \u001b[1;35mLayerNorm\u001b[0m\u001b[1m(\u001b[0m\u001b[1m(\u001b[0m\u001b[1;36m512\u001b[0m,\u001b[1m)\u001b[0m, \u001b[33meps\u001b[0m=\u001b[1;36m1e\u001b[0m\u001b[1;36m-05\u001b[0m, \u001b[33melementwise_affine\u001b[0m=\u001b[3;92mTrue\u001b[0m\u001b[1m)\u001b[0m\n",
              "        \u001b[1m(\u001b[0mnorm2\u001b[1m)\u001b[0m: \u001b[1;35mLayerNorm\u001b[0m\u001b[1m(\u001b[0m\u001b[1m(\u001b[0m\u001b[1;36m512\u001b[0m,\u001b[1m)\u001b[0m, \u001b[33meps\u001b[0m=\u001b[1;36m1e\u001b[0m\u001b[1;36m-05\u001b[0m, \u001b[33melementwise_affine\u001b[0m=\u001b[3;92mTrue\u001b[0m\u001b[1m)\u001b[0m\n",
              "        \u001b[1m(\u001b[0mdropout1\u001b[1m)\u001b[0m: \u001b[1;35mDropout\u001b[0m\u001b[1m(\u001b[0m\u001b[33mp\u001b[0m=\u001b[1;36m0\u001b[0m\u001b[1;36m.1\u001b[0m, \u001b[33minplace\u001b[0m=\u001b[3;91mFalse\u001b[0m\u001b[1m)\u001b[0m\n",
              "        \u001b[1m(\u001b[0mdropout2\u001b[1m)\u001b[0m: \u001b[1;35mDropout\u001b[0m\u001b[1m(\u001b[0m\u001b[33mp\u001b[0m=\u001b[1;36m0\u001b[0m\u001b[1;36m.1\u001b[0m, \u001b[33minplace\u001b[0m=\u001b[3;91mFalse\u001b[0m\u001b[1m)\u001b[0m\n",
              "      \u001b[1m)\u001b[0m\n",
              "      \u001b[1m(\u001b[0m\u001b[1;36m2\u001b[0m\u001b[1m)\u001b[0m: \u001b[1;35mTransformerEncoderLayer\u001b[0m\u001b[1m(\u001b[0m\n",
              "        \u001b[1m(\u001b[0mself_attn\u001b[1m)\u001b[0m: \u001b[1;35mMultiheadAttention\u001b[0m\u001b[1m(\u001b[0m\n",
              "          \u001b[1m(\u001b[0mout_proj\u001b[1m)\u001b[0m: \u001b[1;35m_LinearWithBias\u001b[0m\u001b[1m(\u001b[0m\u001b[33min_features\u001b[0m=\u001b[1;36m512\u001b[0m, \u001b[33mout_features\u001b[0m=\u001b[1;36m512\u001b[0m, \u001b[33mbias\u001b[0m=\u001b[3;92mTrue\u001b[0m\u001b[1m)\u001b[0m\n",
              "        \u001b[1m)\u001b[0m\n",
              "        \u001b[1m(\u001b[0mlinear1\u001b[1m)\u001b[0m: \u001b[1;35mLinear\u001b[0m\u001b[1m(\u001b[0m\u001b[33min_features\u001b[0m=\u001b[1;36m512\u001b[0m, \u001b[33mout_features\u001b[0m=\u001b[1;36m512\u001b[0m, \u001b[33mbias\u001b[0m=\u001b[3;92mTrue\u001b[0m\u001b[1m)\u001b[0m\n",
              "        \u001b[1m(\u001b[0mdropout\u001b[1m)\u001b[0m: \u001b[1;35mDropout\u001b[0m\u001b[1m(\u001b[0m\u001b[33mp\u001b[0m=\u001b[1;36m0\u001b[0m\u001b[1;36m.1\u001b[0m, \u001b[33minplace\u001b[0m=\u001b[3;91mFalse\u001b[0m\u001b[1m)\u001b[0m\n",
              "        \u001b[1m(\u001b[0mlinear2\u001b[1m)\u001b[0m: \u001b[1;35mLinear\u001b[0m\u001b[1m(\u001b[0m\u001b[33min_features\u001b[0m=\u001b[1;36m512\u001b[0m, \u001b[33mout_features\u001b[0m=\u001b[1;36m512\u001b[0m, \u001b[33mbias\u001b[0m=\u001b[3;92mTrue\u001b[0m\u001b[1m)\u001b[0m\n",
              "        \u001b[1m(\u001b[0mnorm1\u001b[1m)\u001b[0m: \u001b[1;35mLayerNorm\u001b[0m\u001b[1m(\u001b[0m\u001b[1m(\u001b[0m\u001b[1;36m512\u001b[0m,\u001b[1m)\u001b[0m, \u001b[33meps\u001b[0m=\u001b[1;36m1e\u001b[0m\u001b[1;36m-05\u001b[0m, \u001b[33melementwise_affine\u001b[0m=\u001b[3;92mTrue\u001b[0m\u001b[1m)\u001b[0m\n",
              "        \u001b[1m(\u001b[0mnorm2\u001b[1m)\u001b[0m: \u001b[1;35mLayerNorm\u001b[0m\u001b[1m(\u001b[0m\u001b[1m(\u001b[0m\u001b[1;36m512\u001b[0m,\u001b[1m)\u001b[0m, \u001b[33meps\u001b[0m=\u001b[1;36m1e\u001b[0m\u001b[1;36m-05\u001b[0m, \u001b[33melementwise_affine\u001b[0m=\u001b[3;92mTrue\u001b[0m\u001b[1m)\u001b[0m\n",
              "        \u001b[1m(\u001b[0mdropout1\u001b[1m)\u001b[0m: \u001b[1;35mDropout\u001b[0m\u001b[1m(\u001b[0m\u001b[33mp\u001b[0m=\u001b[1;36m0\u001b[0m\u001b[1;36m.1\u001b[0m, \u001b[33minplace\u001b[0m=\u001b[3;91mFalse\u001b[0m\u001b[1m)\u001b[0m\n",
              "        \u001b[1m(\u001b[0mdropout2\u001b[1m)\u001b[0m: \u001b[1;35mDropout\u001b[0m\u001b[1m(\u001b[0m\u001b[33mp\u001b[0m=\u001b[1;36m0\u001b[0m\u001b[1;36m.1\u001b[0m, \u001b[33minplace\u001b[0m=\u001b[3;91mFalse\u001b[0m\u001b[1m)\u001b[0m\n",
              "      \u001b[1m)\u001b[0m\n",
              "    \u001b[1m)\u001b[0m\n",
              "  \u001b[1m)\u001b[0m\n",
              "  \u001b[1m(\u001b[0mtransformer_decoder\u001b[1m)\u001b[0m: \u001b[1;35mTransformerDecoder\u001b[0m\u001b[1m(\u001b[0m\n",
              "    \u001b[1m(\u001b[0mlayers\u001b[1m)\u001b[0m: \u001b[1;35mModuleList\u001b[0m\u001b[1m(\u001b[0m\n",
              "      \u001b[1m(\u001b[0m\u001b[1;36m0\u001b[0m\u001b[1m)\u001b[0m: \u001b[1;35mTransformerDecoderLayer\u001b[0m\u001b[1m(\u001b[0m\n",
              "        \u001b[1m(\u001b[0mself_attn\u001b[1m)\u001b[0m: \u001b[1;35mMultiheadAttention\u001b[0m\u001b[1m(\u001b[0m\n",
              "          \u001b[1m(\u001b[0mout_proj\u001b[1m)\u001b[0m: \u001b[1;35m_LinearWithBias\u001b[0m\u001b[1m(\u001b[0m\u001b[33min_features\u001b[0m=\u001b[1;36m512\u001b[0m, \u001b[33mout_features\u001b[0m=\u001b[1;36m512\u001b[0m, \u001b[33mbias\u001b[0m=\u001b[3;92mTrue\u001b[0m\u001b[1m)\u001b[0m\n",
              "        \u001b[1m)\u001b[0m\n",
              "        \u001b[1m(\u001b[0mmultihead_attn\u001b[1m)\u001b[0m: \u001b[1;35mMultiheadAttention\u001b[0m\u001b[1m(\u001b[0m\n",
              "          \u001b[1m(\u001b[0mout_proj\u001b[1m)\u001b[0m: \u001b[1;35m_LinearWithBias\u001b[0m\u001b[1m(\u001b[0m\u001b[33min_features\u001b[0m=\u001b[1;36m512\u001b[0m, \u001b[33mout_features\u001b[0m=\u001b[1;36m512\u001b[0m, \u001b[33mbias\u001b[0m=\u001b[3;92mTrue\u001b[0m\u001b[1m)\u001b[0m\n",
              "        \u001b[1m)\u001b[0m\n",
              "        \u001b[1m(\u001b[0mlinear1\u001b[1m)\u001b[0m: \u001b[1;35mLinear\u001b[0m\u001b[1m(\u001b[0m\u001b[33min_features\u001b[0m=\u001b[1;36m512\u001b[0m, \u001b[33mout_features\u001b[0m=\u001b[1;36m512\u001b[0m, \u001b[33mbias\u001b[0m=\u001b[3;92mTrue\u001b[0m\u001b[1m)\u001b[0m\n",
              "        \u001b[1m(\u001b[0mdropout\u001b[1m)\u001b[0m: \u001b[1;35mDropout\u001b[0m\u001b[1m(\u001b[0m\u001b[33mp\u001b[0m=\u001b[1;36m0\u001b[0m\u001b[1;36m.1\u001b[0m, \u001b[33minplace\u001b[0m=\u001b[3;91mFalse\u001b[0m\u001b[1m)\u001b[0m\n",
              "        \u001b[1m(\u001b[0mlinear2\u001b[1m)\u001b[0m: \u001b[1;35mLinear\u001b[0m\u001b[1m(\u001b[0m\u001b[33min_features\u001b[0m=\u001b[1;36m512\u001b[0m, \u001b[33mout_features\u001b[0m=\u001b[1;36m512\u001b[0m, \u001b[33mbias\u001b[0m=\u001b[3;92mTrue\u001b[0m\u001b[1m)\u001b[0m\n",
              "        \u001b[1m(\u001b[0mnorm1\u001b[1m)\u001b[0m: \u001b[1;35mLayerNorm\u001b[0m\u001b[1m(\u001b[0m\u001b[1m(\u001b[0m\u001b[1;36m512\u001b[0m,\u001b[1m)\u001b[0m, \u001b[33meps\u001b[0m=\u001b[1;36m1e\u001b[0m\u001b[1;36m-05\u001b[0m, \u001b[33melementwise_affine\u001b[0m=\u001b[3;92mTrue\u001b[0m\u001b[1m)\u001b[0m\n",
              "        \u001b[1m(\u001b[0mnorm2\u001b[1m)\u001b[0m: \u001b[1;35mLayerNorm\u001b[0m\u001b[1m(\u001b[0m\u001b[1m(\u001b[0m\u001b[1;36m512\u001b[0m,\u001b[1m)\u001b[0m, \u001b[33meps\u001b[0m=\u001b[1;36m1e\u001b[0m\u001b[1;36m-05\u001b[0m, \u001b[33melementwise_affine\u001b[0m=\u001b[3;92mTrue\u001b[0m\u001b[1m)\u001b[0m\n",
              "        \u001b[1m(\u001b[0mnorm3\u001b[1m)\u001b[0m: \u001b[1;35mLayerNorm\u001b[0m\u001b[1m(\u001b[0m\u001b[1m(\u001b[0m\u001b[1;36m512\u001b[0m,\u001b[1m)\u001b[0m, \u001b[33meps\u001b[0m=\u001b[1;36m1e\u001b[0m\u001b[1;36m-05\u001b[0m, \u001b[33melementwise_affine\u001b[0m=\u001b[3;92mTrue\u001b[0m\u001b[1m)\u001b[0m\n",
              "        \u001b[1m(\u001b[0mdropout1\u001b[1m)\u001b[0m: \u001b[1;35mDropout\u001b[0m\u001b[1m(\u001b[0m\u001b[33mp\u001b[0m=\u001b[1;36m0\u001b[0m\u001b[1;36m.1\u001b[0m, \u001b[33minplace\u001b[0m=\u001b[3;91mFalse\u001b[0m\u001b[1m)\u001b[0m\n",
              "        \u001b[1m(\u001b[0mdropout2\u001b[1m)\u001b[0m: \u001b[1;35mDropout\u001b[0m\u001b[1m(\u001b[0m\u001b[33mp\u001b[0m=\u001b[1;36m0\u001b[0m\u001b[1;36m.1\u001b[0m, \u001b[33minplace\u001b[0m=\u001b[3;91mFalse\u001b[0m\u001b[1m)\u001b[0m\n",
              "        \u001b[1m(\u001b[0mdropout3\u001b[1m)\u001b[0m: \u001b[1;35mDropout\u001b[0m\u001b[1m(\u001b[0m\u001b[33mp\u001b[0m=\u001b[1;36m0\u001b[0m\u001b[1;36m.1\u001b[0m, \u001b[33minplace\u001b[0m=\u001b[3;91mFalse\u001b[0m\u001b[1m)\u001b[0m\n",
              "      \u001b[1m)\u001b[0m\n",
              "      \u001b[1m(\u001b[0m\u001b[1;36m1\u001b[0m\u001b[1m)\u001b[0m: \u001b[1;35mTransformerDecoderLayer\u001b[0m\u001b[1m(\u001b[0m\n",
              "        \u001b[1m(\u001b[0mself_attn\u001b[1m)\u001b[0m: \u001b[1;35mMultiheadAttention\u001b[0m\u001b[1m(\u001b[0m\n",
              "          \u001b[1m(\u001b[0mout_proj\u001b[1m)\u001b[0m: \u001b[1;35m_LinearWithBias\u001b[0m\u001b[1m(\u001b[0m\u001b[33min_features\u001b[0m=\u001b[1;36m512\u001b[0m, \u001b[33mout_features\u001b[0m=\u001b[1;36m512\u001b[0m, \u001b[33mbias\u001b[0m=\u001b[3;92mTrue\u001b[0m\u001b[1m)\u001b[0m\n",
              "        \u001b[1m)\u001b[0m\n",
              "        \u001b[1m(\u001b[0mmultihead_attn\u001b[1m)\u001b[0m: \u001b[1;35mMultiheadAttention\u001b[0m\u001b[1m(\u001b[0m\n",
              "          \u001b[1m(\u001b[0mout_proj\u001b[1m)\u001b[0m: \u001b[1;35m_LinearWithBias\u001b[0m\u001b[1m(\u001b[0m\u001b[33min_features\u001b[0m=\u001b[1;36m512\u001b[0m, \u001b[33mout_features\u001b[0m=\u001b[1;36m512\u001b[0m, \u001b[33mbias\u001b[0m=\u001b[3;92mTrue\u001b[0m\u001b[1m)\u001b[0m\n",
              "        \u001b[1m)\u001b[0m\n",
              "        \u001b[1m(\u001b[0mlinear1\u001b[1m)\u001b[0m: \u001b[1;35mLinear\u001b[0m\u001b[1m(\u001b[0m\u001b[33min_features\u001b[0m=\u001b[1;36m512\u001b[0m, \u001b[33mout_features\u001b[0m=\u001b[1;36m512\u001b[0m, \u001b[33mbias\u001b[0m=\u001b[3;92mTrue\u001b[0m\u001b[1m)\u001b[0m\n",
              "        \u001b[1m(\u001b[0mdropout\u001b[1m)\u001b[0m: \u001b[1;35mDropout\u001b[0m\u001b[1m(\u001b[0m\u001b[33mp\u001b[0m=\u001b[1;36m0\u001b[0m\u001b[1;36m.1\u001b[0m, \u001b[33minplace\u001b[0m=\u001b[3;91mFalse\u001b[0m\u001b[1m)\u001b[0m\n",
              "        \u001b[1m(\u001b[0mlinear2\u001b[1m)\u001b[0m: \u001b[1;35mLinear\u001b[0m\u001b[1m(\u001b[0m\u001b[33min_features\u001b[0m=\u001b[1;36m512\u001b[0m, \u001b[33mout_features\u001b[0m=\u001b[1;36m512\u001b[0m, \u001b[33mbias\u001b[0m=\u001b[3;92mTrue\u001b[0m\u001b[1m)\u001b[0m\n",
              "        \u001b[1m(\u001b[0mnorm1\u001b[1m)\u001b[0m: \u001b[1;35mLayerNorm\u001b[0m\u001b[1m(\u001b[0m\u001b[1m(\u001b[0m\u001b[1;36m512\u001b[0m,\u001b[1m)\u001b[0m, \u001b[33meps\u001b[0m=\u001b[1;36m1e\u001b[0m\u001b[1;36m-05\u001b[0m, \u001b[33melementwise_affine\u001b[0m=\u001b[3;92mTrue\u001b[0m\u001b[1m)\u001b[0m\n",
              "        \u001b[1m(\u001b[0mnorm2\u001b[1m)\u001b[0m: \u001b[1;35mLayerNorm\u001b[0m\u001b[1m(\u001b[0m\u001b[1m(\u001b[0m\u001b[1;36m512\u001b[0m,\u001b[1m)\u001b[0m, \u001b[33meps\u001b[0m=\u001b[1;36m1e\u001b[0m\u001b[1;36m-05\u001b[0m, \u001b[33melementwise_affine\u001b[0m=\u001b[3;92mTrue\u001b[0m\u001b[1m)\u001b[0m\n",
              "        \u001b[1m(\u001b[0mnorm3\u001b[1m)\u001b[0m: \u001b[1;35mLayerNorm\u001b[0m\u001b[1m(\u001b[0m\u001b[1m(\u001b[0m\u001b[1;36m512\u001b[0m,\u001b[1m)\u001b[0m, \u001b[33meps\u001b[0m=\u001b[1;36m1e\u001b[0m\u001b[1;36m-05\u001b[0m, \u001b[33melementwise_affine\u001b[0m=\u001b[3;92mTrue\u001b[0m\u001b[1m)\u001b[0m\n",
              "        \u001b[1m(\u001b[0mdropout1\u001b[1m)\u001b[0m: \u001b[1;35mDropout\u001b[0m\u001b[1m(\u001b[0m\u001b[33mp\u001b[0m=\u001b[1;36m0\u001b[0m\u001b[1;36m.1\u001b[0m, \u001b[33minplace\u001b[0m=\u001b[3;91mFalse\u001b[0m\u001b[1m)\u001b[0m\n",
              "        \u001b[1m(\u001b[0mdropout2\u001b[1m)\u001b[0m: \u001b[1;35mDropout\u001b[0m\u001b[1m(\u001b[0m\u001b[33mp\u001b[0m=\u001b[1;36m0\u001b[0m\u001b[1;36m.1\u001b[0m, \u001b[33minplace\u001b[0m=\u001b[3;91mFalse\u001b[0m\u001b[1m)\u001b[0m\n",
              "        \u001b[1m(\u001b[0mdropout3\u001b[1m)\u001b[0m: \u001b[1;35mDropout\u001b[0m\u001b[1m(\u001b[0m\u001b[33mp\u001b[0m=\u001b[1;36m0\u001b[0m\u001b[1;36m.1\u001b[0m, \u001b[33minplace\u001b[0m=\u001b[3;91mFalse\u001b[0m\u001b[1m)\u001b[0m\n",
              "      \u001b[1m)\u001b[0m\n",
              "      \u001b[1m(\u001b[0m\u001b[1;36m2\u001b[0m\u001b[1m)\u001b[0m: \u001b[1;35mTransformerDecoderLayer\u001b[0m\u001b[1m(\u001b[0m\n",
              "        \u001b[1m(\u001b[0mself_attn\u001b[1m)\u001b[0m: \u001b[1;35mMultiheadAttention\u001b[0m\u001b[1m(\u001b[0m\n",
              "          \u001b[1m(\u001b[0mout_proj\u001b[1m)\u001b[0m: \u001b[1;35m_LinearWithBias\u001b[0m\u001b[1m(\u001b[0m\u001b[33min_features\u001b[0m=\u001b[1;36m512\u001b[0m, \u001b[33mout_features\u001b[0m=\u001b[1;36m512\u001b[0m, \u001b[33mbias\u001b[0m=\u001b[3;92mTrue\u001b[0m\u001b[1m)\u001b[0m\n",
              "        \u001b[1m)\u001b[0m\n",
              "        \u001b[1m(\u001b[0mmultihead_attn\u001b[1m)\u001b[0m: \u001b[1;35mMultiheadAttention\u001b[0m\u001b[1m(\u001b[0m\n",
              "          \u001b[1m(\u001b[0mout_proj\u001b[1m)\u001b[0m: \u001b[1;35m_LinearWithBias\u001b[0m\u001b[1m(\u001b[0m\u001b[33min_features\u001b[0m=\u001b[1;36m512\u001b[0m, \u001b[33mout_features\u001b[0m=\u001b[1;36m512\u001b[0m, \u001b[33mbias\u001b[0m=\u001b[3;92mTrue\u001b[0m\u001b[1m)\u001b[0m\n",
              "        \u001b[1m)\u001b[0m\n",
              "        \u001b[1m(\u001b[0mlinear1\u001b[1m)\u001b[0m: \u001b[1;35mLinear\u001b[0m\u001b[1m(\u001b[0m\u001b[33min_features\u001b[0m=\u001b[1;36m512\u001b[0m, \u001b[33mout_features\u001b[0m=\u001b[1;36m512\u001b[0m, \u001b[33mbias\u001b[0m=\u001b[3;92mTrue\u001b[0m\u001b[1m)\u001b[0m\n",
              "        \u001b[1m(\u001b[0mdropout\u001b[1m)\u001b[0m: \u001b[1;35mDropout\u001b[0m\u001b[1m(\u001b[0m\u001b[33mp\u001b[0m=\u001b[1;36m0\u001b[0m\u001b[1;36m.1\u001b[0m, \u001b[33minplace\u001b[0m=\u001b[3;91mFalse\u001b[0m\u001b[1m)\u001b[0m\n",
              "        \u001b[1m(\u001b[0mlinear2\u001b[1m)\u001b[0m: \u001b[1;35mLinear\u001b[0m\u001b[1m(\u001b[0m\u001b[33min_features\u001b[0m=\u001b[1;36m512\u001b[0m, \u001b[33mout_features\u001b[0m=\u001b[1;36m512\u001b[0m, \u001b[33mbias\u001b[0m=\u001b[3;92mTrue\u001b[0m\u001b[1m)\u001b[0m\n",
              "        \u001b[1m(\u001b[0mnorm1\u001b[1m)\u001b[0m: \u001b[1;35mLayerNorm\u001b[0m\u001b[1m(\u001b[0m\u001b[1m(\u001b[0m\u001b[1;36m512\u001b[0m,\u001b[1m)\u001b[0m, \u001b[33meps\u001b[0m=\u001b[1;36m1e\u001b[0m\u001b[1;36m-05\u001b[0m, \u001b[33melementwise_affine\u001b[0m=\u001b[3;92mTrue\u001b[0m\u001b[1m)\u001b[0m\n",
              "        \u001b[1m(\u001b[0mnorm2\u001b[1m)\u001b[0m: \u001b[1;35mLayerNorm\u001b[0m\u001b[1m(\u001b[0m\u001b[1m(\u001b[0m\u001b[1;36m512\u001b[0m,\u001b[1m)\u001b[0m, \u001b[33meps\u001b[0m=\u001b[1;36m1e\u001b[0m\u001b[1;36m-05\u001b[0m, \u001b[33melementwise_affine\u001b[0m=\u001b[3;92mTrue\u001b[0m\u001b[1m)\u001b[0m\n",
              "        \u001b[1m(\u001b[0mnorm3\u001b[1m)\u001b[0m: \u001b[1;35mLayerNorm\u001b[0m\u001b[1m(\u001b[0m\u001b[1m(\u001b[0m\u001b[1;36m512\u001b[0m,\u001b[1m)\u001b[0m, \u001b[33meps\u001b[0m=\u001b[1;36m1e\u001b[0m\u001b[1;36m-05\u001b[0m, \u001b[33melementwise_affine\u001b[0m=\u001b[3;92mTrue\u001b[0m\u001b[1m)\u001b[0m\n",
              "        \u001b[1m(\u001b[0mdropout1\u001b[1m)\u001b[0m: \u001b[1;35mDropout\u001b[0m\u001b[1m(\u001b[0m\u001b[33mp\u001b[0m=\u001b[1;36m0\u001b[0m\u001b[1;36m.1\u001b[0m, \u001b[33minplace\u001b[0m=\u001b[3;91mFalse\u001b[0m\u001b[1m)\u001b[0m\n",
              "        \u001b[1m(\u001b[0mdropout2\u001b[1m)\u001b[0m: \u001b[1;35mDropout\u001b[0m\u001b[1m(\u001b[0m\u001b[33mp\u001b[0m=\u001b[1;36m0\u001b[0m\u001b[1;36m.1\u001b[0m, \u001b[33minplace\u001b[0m=\u001b[3;91mFalse\u001b[0m\u001b[1m)\u001b[0m\n",
              "        \u001b[1m(\u001b[0mdropout3\u001b[1m)\u001b[0m: \u001b[1;35mDropout\u001b[0m\u001b[1m(\u001b[0m\u001b[33mp\u001b[0m=\u001b[1;36m0\u001b[0m\u001b[1;36m.1\u001b[0m, \u001b[33minplace\u001b[0m=\u001b[3;91mFalse\u001b[0m\u001b[1m)\u001b[0m\n",
              "      \u001b[1m)\u001b[0m\n",
              "    \u001b[1m)\u001b[0m\n",
              "  \u001b[1m)\u001b[0m\n",
              "  \u001b[1m(\u001b[0mgenerator\u001b[1m)\u001b[0m: \u001b[1;35mLinear\u001b[0m\u001b[1m(\u001b[0m\u001b[33min_features\u001b[0m=\u001b[1;36m512\u001b[0m, \u001b[33mout_features\u001b[0m=\u001b[1;36m42\u001b[0m, \u001b[33mbias\u001b[0m=\u001b[3;92mTrue\u001b[0m\u001b[1m)\u001b[0m\n",
              "  \u001b[1m(\u001b[0msrc_tok_emb\u001b[1m)\u001b[0m: \u001b[1;35mTokenEmbedding\u001b[0m\u001b[1m(\u001b[0m\n",
              "    \u001b[1m(\u001b[0membedding\u001b[1m)\u001b[0m: \u001b[1;35mEmbedding\u001b[0m\u001b[1m(\u001b[0m\u001b[1;36m46\u001b[0m, \u001b[1;36m512\u001b[0m\u001b[1m)\u001b[0m\n",
              "  \u001b[1m)\u001b[0m\n",
              "  \u001b[1m(\u001b[0mtgt_tok_emb\u001b[1m)\u001b[0m: \u001b[1;35mTokenEmbedding\u001b[0m\u001b[1m(\u001b[0m\n",
              "    \u001b[1m(\u001b[0membedding\u001b[1m)\u001b[0m: \u001b[1;35mEmbedding\u001b[0m\u001b[1m(\u001b[0m\u001b[1;36m42\u001b[0m, \u001b[1;36m512\u001b[0m\u001b[1m)\u001b[0m\n",
              "  \u001b[1m)\u001b[0m\n",
              "  \u001b[1m(\u001b[0mpositional_encoding\u001b[1m)\u001b[0m: \u001b[1;35mPositionalEncoding\u001b[0m\u001b[1m(\u001b[0m\n",
              "    \u001b[1m(\u001b[0mdropout\u001b[1m)\u001b[0m: \u001b[1;35mDropout\u001b[0m\u001b[1m(\u001b[0m\u001b[33mp\u001b[0m=\u001b[1;36m0\u001b[0m\u001b[1;36m.1\u001b[0m, \u001b[33minplace\u001b[0m=\u001b[3;91mFalse\u001b[0m\u001b[1m)\u001b[0m\n",
              "  \u001b[1m)\u001b[0m\n",
              "\u001b[1m)\u001b[0m\n"
            ]
          },
          "metadata": {
            "tags": []
          }
        }
      ]
    },
    {
      "cell_type": "markdown",
      "metadata": {
        "id": "bXSMEOITdq_s"
      },
      "source": [
        "#Save checkpoint"
      ],
      "id": "bXSMEOITdq_s"
    },
    {
      "cell_type": "code",
      "metadata": {
        "id": "Jqj_bDp0iCgl"
      },
      "source": [
        "load_model = True\n",
        "save_model = True"
      ],
      "id": "Jqj_bDp0iCgl",
      "execution_count": 17,
      "outputs": []
    },
    {
      "cell_type": "code",
      "metadata": {
        "id": "MFgGyot-dqR6"
      },
      "source": [
        "def save_checkpoint(state, filename):\n",
        "    #filename=\"my_checkpoint_\"+str(epoch)+\".pth\"\n",
        "    print(\"=> Saving checkpoint\")\n",
        "    torch.save(state, filename)"
      ],
      "id": "MFgGyot-dqR6",
      "execution_count": 24,
      "outputs": []
    },
    {
      "cell_type": "markdown",
      "metadata": {
        "id": "PIW9IxYXe0FK"
      },
      "source": [
        "#Load checkpoint"
      ],
      "id": "PIW9IxYXe0FK"
    },
    {
      "cell_type": "code",
      "metadata": {
        "id": "fSK3X09Me4L-"
      },
      "source": [
        "def load_checkpoint(checkpoint, model, optimizer):\n",
        "    print(\"=> Loading checkpoint\")\n",
        "    model.load_state_dict(checkpoint[\"state_dict\"])\n",
        "    optimizer.load_state_dict(checkpoint[\"optimizer\"])"
      ],
      "id": "fSK3X09Me4L-",
      "execution_count": 21,
      "outputs": []
    },
    {
      "cell_type": "code",
      "metadata": {
        "id": "F5Q-dpDvfLSC",
        "colab": {
          "base_uri": "https://localhost:8080/",
          "height": 34
        },
        "outputId": "40c57df5-ed0e-4a48-9caa-c00bb2937b6a"
      },
      "source": [
        "#if load_model:\n",
        "    #load_checkpoint(torch.load(\"my_checkpoint.pth\"), transformer, optimizer)\n",
        "\n"
      ],
      "id": "F5Q-dpDvfLSC",
      "execution_count": 29,
      "outputs": [
        {
          "output_type": "display_data",
          "data": {
            "text/html": [
              "<pre style=\"white-space:pre;overflow-x:auto;line-height:normal;font-family:Menlo,'DejaVu Sans Mono',consolas,'Courier New',monospace\">=&gt; Loading checkpoint\n",
              "</pre>\n"
            ],
            "text/plain": [
              "=> Loading checkpoint\n"
            ]
          },
          "metadata": {
            "tags": []
          }
        }
      ]
    },
    {
      "cell_type": "markdown",
      "metadata": {
        "id": "iA-ga-sAPhK1"
      },
      "source": [
        "# Train model"
      ],
      "id": "iA-ga-sAPhK1"
    },
    {
      "cell_type": "code",
      "metadata": {
        "id": "obvious-curve"
      },
      "source": [
        "def train_epoch(model, train_iter, optimizer):\n",
        "  model.train()\n",
        "  losses = 0\n",
        "  for idx, (src, tgt) in enumerate(train_iter):\n",
        "      src = src.to(device)\n",
        "      tgt = tgt.to(device)\n",
        "\n",
        "      tgt_input = tgt[:-1, :]\n",
        "\n",
        "      src_mask, tgt_mask, src_padding_mask, tgt_padding_mask = create_mask(src, tgt_input)\n",
        "\n",
        "      logits = model(src, tgt_input, src_mask, tgt_mask,\n",
        "                                src_padding_mask, tgt_padding_mask, src_padding_mask)\n",
        "\n",
        "      optimizer.zero_grad()\n",
        "\n",
        "      tgt_out = tgt[1:,:]\n",
        "      loss = loss_fn(logits.reshape(-1, logits.shape[-1]), tgt_out.reshape(-1))\n",
        "      loss.backward()\n",
        "\n",
        "      optimizer.step()\n",
        "      losses += loss.item()\n",
        "  return losses / len(train_iter)\n",
        "\n",
        "\n",
        "def evaluate(model, val_iter):\n",
        "  model.eval()\n",
        "  losses = 0\n",
        "  for idx, (src, tgt) in (enumerate(valid_iter)):\n",
        "    src = src.to(device)\n",
        "    tgt = tgt.to(device)\n",
        "\n",
        "    tgt_input = tgt[:-1, :]\n",
        "\n",
        "    src_mask, tgt_mask, src_padding_mask, tgt_padding_mask = create_mask(src, tgt_input)\n",
        "\n",
        "    logits = model(src, tgt_input, src_mask, tgt_mask,\n",
        "                              src_padding_mask, tgt_padding_mask, src_padding_mask)\n",
        "    tgt_out = tgt[1:,:]\n",
        "    loss = loss_fn(logits.reshape(-1, logits.shape[-1]), tgt_out.reshape(-1))\n",
        "    losses += loss.item()\n",
        "  return losses / len(val_iter)"
      ],
      "id": "obvious-curve",
      "execution_count": 81,
      "outputs": []
    },
    {
      "cell_type": "code",
      "metadata": {
        "colab": {
          "base_uri": "https://localhost:8080/",
          "height": 1000
        },
        "id": "palestinian-singapore",
        "outputId": "c76c5a2b-a717-4e26-a45f-775250217707"
      },
      "source": [
        "train_loss_ex = []\n",
        "val_loss_ex = []\n",
        "epoch_ex=[]\n",
        "for epoch in range(1, NUM_EPOCHS+1):\n",
        "  start_time = time.time()\n",
        "  train_loss = train_epoch(transformer, train_iter, optimizer)\n",
        "  end_time = time.time()\n",
        "  val_loss = evaluate(transformer, valid_iter)\n",
        "  #Save the general checkpoint\n",
        "  if epoch%100==0:\n",
        "    filename=\"my_checkpoint_\"+str(epoch)+\".pth\"\n",
        "    print(\"true\")\n",
        "    checkpoint = {\"state_dict\": transformer.state_dict(),\"optimizer\": optimizer.state_dict(),}\n",
        "    save_checkpoint(checkpoint,filename)\n",
        "\n",
        "  print((f\"Epoch: {epoch}, Train loss: {train_loss:.3f}, Val loss: {val_loss:.3f}, \"\n",
        "          f\"Epoch time = {(end_time - start_time):.3f}s\"))\n",
        "  #plot\n",
        "  train_loss_ex.append(train_loss)\n",
        "  epoch_ex.append(epoch)\n",
        "  val_loss_ex.append(val_loss)\n",
        "  \n",
        "print(\"Done!\")"
      ],
      "id": "palestinian-singapore",
      "execution_count": 26,
      "outputs": [
        {
          "output_type": "display_data",
          "data": {
            "text/html": [
              "<pre style=\"white-space:pre;overflow-x:auto;line-height:normal;font-family:Menlo,'DejaVu Sans Mono',consolas,'Courier New',monospace\">Epoch: <span style=\"color: #008080; text-decoration-color: #008080; font-weight: bold\">1</span>, Train loss: <span style=\"color: #008080; text-decoration-color: #008080; font-weight: bold\">0.704</span>, Val loss: <span style=\"color: #008080; text-decoration-color: #008080; font-weight: bold\">0.599</span>, Epoch time = <span style=\"color: #008080; text-decoration-color: #008080; font-weight: bold\">93.</span>634s\n",
              "</pre>\n"
            ],
            "text/plain": [
              "Epoch: \u001b[1;36m1\u001b[0m, Train loss: \u001b[1;36m0.704\u001b[0m, Val loss: \u001b[1;36m0.599\u001b[0m, Epoch time = \u001b[1;36m93.\u001b[0m634s\n"
            ]
          },
          "metadata": {
            "tags": []
          }
        },
        {
          "output_type": "display_data",
          "data": {
            "text/html": [
              "<pre style=\"white-space:pre;overflow-x:auto;line-height:normal;font-family:Menlo,'DejaVu Sans Mono',consolas,'Courier New',monospace\">Epoch: <span style=\"color: #008080; text-decoration-color: #008080; font-weight: bold\">2</span>, Train loss: <span style=\"color: #008080; text-decoration-color: #008080; font-weight: bold\">0.667</span>, Val loss: <span style=\"color: #008080; text-decoration-color: #008080; font-weight: bold\">0.564</span>, Epoch time = <span style=\"color: #008080; text-decoration-color: #008080; font-weight: bold\">94.</span>205s\n",
              "</pre>\n"
            ],
            "text/plain": [
              "Epoch: \u001b[1;36m2\u001b[0m, Train loss: \u001b[1;36m0.667\u001b[0m, Val loss: \u001b[1;36m0.564\u001b[0m, Epoch time = \u001b[1;36m94.\u001b[0m205s\n"
            ]
          },
          "metadata": {
            "tags": []
          }
        },
        {
          "output_type": "display_data",
          "data": {
            "text/html": [
              "<pre style=\"white-space:pre;overflow-x:auto;line-height:normal;font-family:Menlo,'DejaVu Sans Mono',consolas,'Courier New',monospace\">Epoch: <span style=\"color: #008080; text-decoration-color: #008080; font-weight: bold\">3</span>, Train loss: <span style=\"color: #008080; text-decoration-color: #008080; font-weight: bold\">0.636</span>, Val loss: <span style=\"color: #008080; text-decoration-color: #008080; font-weight: bold\">0.534</span>, Epoch time = <span style=\"color: #008080; text-decoration-color: #008080; font-weight: bold\">94.</span>029s\n",
              "</pre>\n"
            ],
            "text/plain": [
              "Epoch: \u001b[1;36m3\u001b[0m, Train loss: \u001b[1;36m0.636\u001b[0m, Val loss: \u001b[1;36m0.534\u001b[0m, Epoch time = \u001b[1;36m94.\u001b[0m029s\n"
            ]
          },
          "metadata": {
            "tags": []
          }
        },
        {
          "output_type": "display_data",
          "data": {
            "text/html": [
              "<pre style=\"white-space:pre;overflow-x:auto;line-height:normal;font-family:Menlo,'DejaVu Sans Mono',consolas,'Courier New',monospace\">Epoch: <span style=\"color: #008080; text-decoration-color: #008080; font-weight: bold\">4</span>, Train loss: <span style=\"color: #008080; text-decoration-color: #008080; font-weight: bold\">0.608</span>, Val loss: <span style=\"color: #008080; text-decoration-color: #008080; font-weight: bold\">0.518</span>, Epoch time = <span style=\"color: #008080; text-decoration-color: #008080; font-weight: bold\">93.</span>463s\n",
              "</pre>\n"
            ],
            "text/plain": [
              "Epoch: \u001b[1;36m4\u001b[0m, Train loss: \u001b[1;36m0.608\u001b[0m, Val loss: \u001b[1;36m0.518\u001b[0m, Epoch time = \u001b[1;36m93.\u001b[0m463s\n"
            ]
          },
          "metadata": {
            "tags": []
          }
        },
        {
          "output_type": "display_data",
          "data": {
            "text/html": [
              "<pre style=\"white-space:pre;overflow-x:auto;line-height:normal;font-family:Menlo,'DejaVu Sans Mono',consolas,'Courier New',monospace\">true\n",
              "</pre>\n"
            ],
            "text/plain": [
              "true\n"
            ]
          },
          "metadata": {
            "tags": []
          }
        },
        {
          "output_type": "display_data",
          "data": {
            "text/html": [
              "<pre style=\"white-space:pre;overflow-x:auto;line-height:normal;font-family:Menlo,'DejaVu Sans Mono',consolas,'Courier New',monospace\">=&gt; Saving checkpoint\n",
              "</pre>\n"
            ],
            "text/plain": [
              "=> Saving checkpoint\n"
            ]
          },
          "metadata": {
            "tags": []
          }
        },
        {
          "output_type": "display_data",
          "data": {
            "text/html": [
              "<pre style=\"white-space:pre;overflow-x:auto;line-height:normal;font-family:Menlo,'DejaVu Sans Mono',consolas,'Courier New',monospace\">Epoch: <span style=\"color: #008080; text-decoration-color: #008080; font-weight: bold\">5</span>, Train loss: <span style=\"color: #008080; text-decoration-color: #008080; font-weight: bold\">0.582</span>, Val loss: <span style=\"color: #008080; text-decoration-color: #008080; font-weight: bold\">0.488</span>, Epoch time = <span style=\"color: #008080; text-decoration-color: #008080; font-weight: bold\">94.</span>045s\n",
              "</pre>\n"
            ],
            "text/plain": [
              "Epoch: \u001b[1;36m5\u001b[0m, Train loss: \u001b[1;36m0.582\u001b[0m, Val loss: \u001b[1;36m0.488\u001b[0m, Epoch time = \u001b[1;36m94.\u001b[0m045s\n"
            ]
          },
          "metadata": {
            "tags": []
          }
        },
        {
          "output_type": "display_data",
          "data": {
            "text/html": [
              "<pre style=\"white-space:pre;overflow-x:auto;line-height:normal;font-family:Menlo,'DejaVu Sans Mono',consolas,'Courier New',monospace\">Epoch: <span style=\"color: #008080; text-decoration-color: #008080; font-weight: bold\">6</span>, Train loss: <span style=\"color: #008080; text-decoration-color: #008080; font-weight: bold\">0.559</span>, Val loss: <span style=\"color: #008080; text-decoration-color: #008080; font-weight: bold\">0.475</span>, Epoch time = <span style=\"color: #008080; text-decoration-color: #008080; font-weight: bold\">93.</span>689s\n",
              "</pre>\n"
            ],
            "text/plain": [
              "Epoch: \u001b[1;36m6\u001b[0m, Train loss: \u001b[1;36m0.559\u001b[0m, Val loss: \u001b[1;36m0.475\u001b[0m, Epoch time = \u001b[1;36m93.\u001b[0m689s\n"
            ]
          },
          "metadata": {
            "tags": []
          }
        },
        {
          "output_type": "display_data",
          "data": {
            "text/html": [
              "<pre style=\"white-space:pre;overflow-x:auto;line-height:normal;font-family:Menlo,'DejaVu Sans Mono',consolas,'Courier New',monospace\">Epoch: <span style=\"color: #008080; text-decoration-color: #008080; font-weight: bold\">7</span>, Train loss: <span style=\"color: #008080; text-decoration-color: #008080; font-weight: bold\">0.537</span>, Val loss: <span style=\"color: #008080; text-decoration-color: #008080; font-weight: bold\">0.440</span>, Epoch time = <span style=\"color: #008080; text-decoration-color: #008080; font-weight: bold\">93.</span>721s\n",
              "</pre>\n"
            ],
            "text/plain": [
              "Epoch: \u001b[1;36m7\u001b[0m, Train loss: \u001b[1;36m0.537\u001b[0m, Val loss: \u001b[1;36m0.440\u001b[0m, Epoch time = \u001b[1;36m93.\u001b[0m721s\n"
            ]
          },
          "metadata": {
            "tags": []
          }
        },
        {
          "output_type": "display_data",
          "data": {
            "text/html": [
              "<pre style=\"white-space:pre;overflow-x:auto;line-height:normal;font-family:Menlo,'DejaVu Sans Mono',consolas,'Courier New',monospace\">Epoch: <span style=\"color: #008080; text-decoration-color: #008080; font-weight: bold\">8</span>, Train loss: <span style=\"color: #008080; text-decoration-color: #008080; font-weight: bold\">0.514</span>, Val loss: <span style=\"color: #008080; text-decoration-color: #008080; font-weight: bold\">0.425</span>, Epoch time = <span style=\"color: #008080; text-decoration-color: #008080; font-weight: bold\">93.</span>430s\n",
              "</pre>\n"
            ],
            "text/plain": [
              "Epoch: \u001b[1;36m8\u001b[0m, Train loss: \u001b[1;36m0.514\u001b[0m, Val loss: \u001b[1;36m0.425\u001b[0m, Epoch time = \u001b[1;36m93.\u001b[0m430s\n"
            ]
          },
          "metadata": {
            "tags": []
          }
        },
        {
          "output_type": "display_data",
          "data": {
            "text/html": [
              "<pre style=\"white-space:pre;overflow-x:auto;line-height:normal;font-family:Menlo,'DejaVu Sans Mono',consolas,'Courier New',monospace\">Epoch: <span style=\"color: #008080; text-decoration-color: #008080; font-weight: bold\">9</span>, Train loss: <span style=\"color: #008080; text-decoration-color: #008080; font-weight: bold\">0.494</span>, Val loss: <span style=\"color: #008080; text-decoration-color: #008080; font-weight: bold\">0.410</span>, Epoch time = <span style=\"color: #008080; text-decoration-color: #008080; font-weight: bold\">93.</span>756s\n",
              "</pre>\n"
            ],
            "text/plain": [
              "Epoch: \u001b[1;36m9\u001b[0m, Train loss: \u001b[1;36m0.494\u001b[0m, Val loss: \u001b[1;36m0.410\u001b[0m, Epoch time = \u001b[1;36m93.\u001b[0m756s\n"
            ]
          },
          "metadata": {
            "tags": []
          }
        },
        {
          "output_type": "display_data",
          "data": {
            "text/html": [
              "<pre style=\"white-space:pre;overflow-x:auto;line-height:normal;font-family:Menlo,'DejaVu Sans Mono',consolas,'Courier New',monospace\">true\n",
              "</pre>\n"
            ],
            "text/plain": [
              "true\n"
            ]
          },
          "metadata": {
            "tags": []
          }
        },
        {
          "output_type": "display_data",
          "data": {
            "text/html": [
              "<pre style=\"white-space:pre;overflow-x:auto;line-height:normal;font-family:Menlo,'DejaVu Sans Mono',consolas,'Courier New',monospace\">=&gt; Saving checkpoint\n",
              "</pre>\n"
            ],
            "text/plain": [
              "=> Saving checkpoint\n"
            ]
          },
          "metadata": {
            "tags": []
          }
        },
        {
          "output_type": "display_data",
          "data": {
            "text/html": [
              "<pre style=\"white-space:pre;overflow-x:auto;line-height:normal;font-family:Menlo,'DejaVu Sans Mono',consolas,'Courier New',monospace\">Epoch: <span style=\"color: #008080; text-decoration-color: #008080; font-weight: bold\">10</span>, Train loss: <span style=\"color: #008080; text-decoration-color: #008080; font-weight: bold\">0.473</span>, Val loss: <span style=\"color: #008080; text-decoration-color: #008080; font-weight: bold\">0.378</span>, Epoch time = <span style=\"color: #008080; text-decoration-color: #008080; font-weight: bold\">94.</span>550s\n",
              "</pre>\n"
            ],
            "text/plain": [
              "Epoch: \u001b[1;36m10\u001b[0m, Train loss: \u001b[1;36m0.473\u001b[0m, Val loss: \u001b[1;36m0.378\u001b[0m, Epoch time = \u001b[1;36m94.\u001b[0m550s\n"
            ]
          },
          "metadata": {
            "tags": []
          }
        },
        {
          "output_type": "display_data",
          "data": {
            "text/html": [
              "<pre style=\"white-space:pre;overflow-x:auto;line-height:normal;font-family:Menlo,'DejaVu Sans Mono',consolas,'Courier New',monospace\">Epoch: <span style=\"color: #008080; text-decoration-color: #008080; font-weight: bold\">11</span>, Train loss: <span style=\"color: #008080; text-decoration-color: #008080; font-weight: bold\">0.451</span>, Val loss: <span style=\"color: #008080; text-decoration-color: #008080; font-weight: bold\">0.359</span>, Epoch time = <span style=\"color: #008080; text-decoration-color: #008080; font-weight: bold\">93.</span>653s\n",
              "</pre>\n"
            ],
            "text/plain": [
              "Epoch: \u001b[1;36m11\u001b[0m, Train loss: \u001b[1;36m0.451\u001b[0m, Val loss: \u001b[1;36m0.359\u001b[0m, Epoch time = \u001b[1;36m93.\u001b[0m653s\n"
            ]
          },
          "metadata": {
            "tags": []
          }
        },
        {
          "output_type": "display_data",
          "data": {
            "text/html": [
              "<pre style=\"white-space:pre;overflow-x:auto;line-height:normal;font-family:Menlo,'DejaVu Sans Mono',consolas,'Courier New',monospace\">Epoch: <span style=\"color: #008080; text-decoration-color: #008080; font-weight: bold\">12</span>, Train loss: <span style=\"color: #008080; text-decoration-color: #008080; font-weight: bold\">0.432</span>, Val loss: <span style=\"color: #008080; text-decoration-color: #008080; font-weight: bold\">0.348</span>, Epoch time = <span style=\"color: #008080; text-decoration-color: #008080; font-weight: bold\">94.</span>476s\n",
              "</pre>\n"
            ],
            "text/plain": [
              "Epoch: \u001b[1;36m12\u001b[0m, Train loss: \u001b[1;36m0.432\u001b[0m, Val loss: \u001b[1;36m0.348\u001b[0m, Epoch time = \u001b[1;36m94.\u001b[0m476s\n"
            ]
          },
          "metadata": {
            "tags": []
          }
        },
        {
          "output_type": "display_data",
          "data": {
            "text/html": [
              "<pre style=\"white-space:pre;overflow-x:auto;line-height:normal;font-family:Menlo,'DejaVu Sans Mono',consolas,'Courier New',monospace\">Epoch: <span style=\"color: #008080; text-decoration-color: #008080; font-weight: bold\">13</span>, Train loss: <span style=\"color: #008080; text-decoration-color: #008080; font-weight: bold\">0.412</span>, Val loss: <span style=\"color: #008080; text-decoration-color: #008080; font-weight: bold\">0.323</span>, Epoch time = <span style=\"color: #008080; text-decoration-color: #008080; font-weight: bold\">94.</span>188s\n",
              "</pre>\n"
            ],
            "text/plain": [
              "Epoch: \u001b[1;36m13\u001b[0m, Train loss: \u001b[1;36m0.412\u001b[0m, Val loss: \u001b[1;36m0.323\u001b[0m, Epoch time = \u001b[1;36m94.\u001b[0m188s\n"
            ]
          },
          "metadata": {
            "tags": []
          }
        },
        {
          "output_type": "display_data",
          "data": {
            "text/html": [
              "<pre style=\"white-space:pre;overflow-x:auto;line-height:normal;font-family:Menlo,'DejaVu Sans Mono',consolas,'Courier New',monospace\">Epoch: <span style=\"color: #008080; text-decoration-color: #008080; font-weight: bold\">14</span>, Train loss: <span style=\"color: #008080; text-decoration-color: #008080; font-weight: bold\">0.393</span>, Val loss: <span style=\"color: #008080; text-decoration-color: #008080; font-weight: bold\">0.310</span>, Epoch time = <span style=\"color: #008080; text-decoration-color: #008080; font-weight: bold\">93.</span>997s\n",
              "</pre>\n"
            ],
            "text/plain": [
              "Epoch: \u001b[1;36m14\u001b[0m, Train loss: \u001b[1;36m0.393\u001b[0m, Val loss: \u001b[1;36m0.310\u001b[0m, Epoch time = \u001b[1;36m93.\u001b[0m997s\n"
            ]
          },
          "metadata": {
            "tags": []
          }
        },
        {
          "output_type": "display_data",
          "data": {
            "text/html": [
              "<pre style=\"white-space:pre;overflow-x:auto;line-height:normal;font-family:Menlo,'DejaVu Sans Mono',consolas,'Courier New',monospace\">true\n",
              "</pre>\n"
            ],
            "text/plain": [
              "true\n"
            ]
          },
          "metadata": {
            "tags": []
          }
        },
        {
          "output_type": "display_data",
          "data": {
            "text/html": [
              "<pre style=\"white-space:pre;overflow-x:auto;line-height:normal;font-family:Menlo,'DejaVu Sans Mono',consolas,'Courier New',monospace\">=&gt; Saving checkpoint\n",
              "</pre>\n"
            ],
            "text/plain": [
              "=> Saving checkpoint\n"
            ]
          },
          "metadata": {
            "tags": []
          }
        },
        {
          "output_type": "display_data",
          "data": {
            "text/html": [
              "<pre style=\"white-space:pre;overflow-x:auto;line-height:normal;font-family:Menlo,'DejaVu Sans Mono',consolas,'Courier New',monospace\">Epoch: <span style=\"color: #008080; text-decoration-color: #008080; font-weight: bold\">15</span>, Train loss: <span style=\"color: #008080; text-decoration-color: #008080; font-weight: bold\">0.375</span>, Val loss: <span style=\"color: #008080; text-decoration-color: #008080; font-weight: bold\">0.288</span>, Epoch time = <span style=\"color: #008080; text-decoration-color: #008080; font-weight: bold\">93.</span>580s\n",
              "</pre>\n"
            ],
            "text/plain": [
              "Epoch: \u001b[1;36m15\u001b[0m, Train loss: \u001b[1;36m0.375\u001b[0m, Val loss: \u001b[1;36m0.288\u001b[0m, Epoch time = \u001b[1;36m93.\u001b[0m580s\n"
            ]
          },
          "metadata": {
            "tags": []
          }
        },
        {
          "output_type": "display_data",
          "data": {
            "text/html": [
              "<pre style=\"white-space:pre;overflow-x:auto;line-height:normal;font-family:Menlo,'DejaVu Sans Mono',consolas,'Courier New',monospace\">Epoch: <span style=\"color: #008080; text-decoration-color: #008080; font-weight: bold\">16</span>, Train loss: <span style=\"color: #008080; text-decoration-color: #008080; font-weight: bold\">0.357</span>, Val loss: <span style=\"color: #008080; text-decoration-color: #008080; font-weight: bold\">0.278</span>, Epoch time = <span style=\"color: #008080; text-decoration-color: #008080; font-weight: bold\">93.</span>908s\n",
              "</pre>\n"
            ],
            "text/plain": [
              "Epoch: \u001b[1;36m16\u001b[0m, Train loss: \u001b[1;36m0.357\u001b[0m, Val loss: \u001b[1;36m0.278\u001b[0m, Epoch time = \u001b[1;36m93.\u001b[0m908s\n"
            ]
          },
          "metadata": {
            "tags": []
          }
        },
        {
          "output_type": "display_data",
          "data": {
            "text/html": [
              "<pre style=\"white-space:pre;overflow-x:auto;line-height:normal;font-family:Menlo,'DejaVu Sans Mono',consolas,'Courier New',monospace\">Epoch: <span style=\"color: #008080; text-decoration-color: #008080; font-weight: bold\">17</span>, Train loss: <span style=\"color: #008080; text-decoration-color: #008080; font-weight: bold\">0.338</span>, Val loss: <span style=\"color: #008080; text-decoration-color: #008080; font-weight: bold\">0.258</span>, Epoch time = <span style=\"color: #008080; text-decoration-color: #008080; font-weight: bold\">93.</span>856s\n",
              "</pre>\n"
            ],
            "text/plain": [
              "Epoch: \u001b[1;36m17\u001b[0m, Train loss: \u001b[1;36m0.338\u001b[0m, Val loss: \u001b[1;36m0.258\u001b[0m, Epoch time = \u001b[1;36m93.\u001b[0m856s\n"
            ]
          },
          "metadata": {
            "tags": []
          }
        },
        {
          "output_type": "display_data",
          "data": {
            "text/html": [
              "<pre style=\"white-space:pre;overflow-x:auto;line-height:normal;font-family:Menlo,'DejaVu Sans Mono',consolas,'Courier New',monospace\">Epoch: <span style=\"color: #008080; text-decoration-color: #008080; font-weight: bold\">18</span>, Train loss: <span style=\"color: #008080; text-decoration-color: #008080; font-weight: bold\">0.321</span>, Val loss: <span style=\"color: #008080; text-decoration-color: #008080; font-weight: bold\">0.244</span>, Epoch time = <span style=\"color: #008080; text-decoration-color: #008080; font-weight: bold\">93.</span>533s\n",
              "</pre>\n"
            ],
            "text/plain": [
              "Epoch: \u001b[1;36m18\u001b[0m, Train loss: \u001b[1;36m0.321\u001b[0m, Val loss: \u001b[1;36m0.244\u001b[0m, Epoch time = \u001b[1;36m93.\u001b[0m533s\n"
            ]
          },
          "metadata": {
            "tags": []
          }
        },
        {
          "output_type": "display_data",
          "data": {
            "text/html": [
              "<pre style=\"white-space:pre;overflow-x:auto;line-height:normal;font-family:Menlo,'DejaVu Sans Mono',consolas,'Courier New',monospace\">Epoch: <span style=\"color: #008080; text-decoration-color: #008080; font-weight: bold\">19</span>, Train loss: <span style=\"color: #008080; text-decoration-color: #008080; font-weight: bold\">0.306</span>, Val loss: <span style=\"color: #008080; text-decoration-color: #008080; font-weight: bold\">0.229</span>, Epoch time = <span style=\"color: #008080; text-decoration-color: #008080; font-weight: bold\">93.</span>761s\n",
              "</pre>\n"
            ],
            "text/plain": [
              "Epoch: \u001b[1;36m19\u001b[0m, Train loss: \u001b[1;36m0.306\u001b[0m, Val loss: \u001b[1;36m0.229\u001b[0m, Epoch time = \u001b[1;36m93.\u001b[0m761s\n"
            ]
          },
          "metadata": {
            "tags": []
          }
        },
        {
          "output_type": "display_data",
          "data": {
            "text/html": [
              "<pre style=\"white-space:pre;overflow-x:auto;line-height:normal;font-family:Menlo,'DejaVu Sans Mono',consolas,'Courier New',monospace\">true\n",
              "</pre>\n"
            ],
            "text/plain": [
              "true\n"
            ]
          },
          "metadata": {
            "tags": []
          }
        },
        {
          "output_type": "display_data",
          "data": {
            "text/html": [
              "<pre style=\"white-space:pre;overflow-x:auto;line-height:normal;font-family:Menlo,'DejaVu Sans Mono',consolas,'Courier New',monospace\">=&gt; Saving checkpoint\n",
              "</pre>\n"
            ],
            "text/plain": [
              "=> Saving checkpoint\n"
            ]
          },
          "metadata": {
            "tags": []
          }
        },
        {
          "output_type": "display_data",
          "data": {
            "text/html": [
              "<pre style=\"white-space:pre;overflow-x:auto;line-height:normal;font-family:Menlo,'DejaVu Sans Mono',consolas,'Courier New',monospace\">Epoch: <span style=\"color: #008080; text-decoration-color: #008080; font-weight: bold\">20</span>, Train loss: <span style=\"color: #008080; text-decoration-color: #008080; font-weight: bold\">0.292</span>, Val loss: <span style=\"color: #008080; text-decoration-color: #008080; font-weight: bold\">0.222</span>, Epoch time = <span style=\"color: #008080; text-decoration-color: #008080; font-weight: bold\">93.</span>953s\n",
              "</pre>\n"
            ],
            "text/plain": [
              "Epoch: \u001b[1;36m20\u001b[0m, Train loss: \u001b[1;36m0.292\u001b[0m, Val loss: \u001b[1;36m0.222\u001b[0m, Epoch time = \u001b[1;36m93.\u001b[0m953s\n"
            ]
          },
          "metadata": {
            "tags": []
          }
        },
        {
          "output_type": "display_data",
          "data": {
            "text/html": [
              "<pre style=\"white-space:pre;overflow-x:auto;line-height:normal;font-family:Menlo,'DejaVu Sans Mono',consolas,'Courier New',monospace\">Epoch: <span style=\"color: #008080; text-decoration-color: #008080; font-weight: bold\">21</span>, Train loss: <span style=\"color: #008080; text-decoration-color: #008080; font-weight: bold\">0.278</span>, Val loss: <span style=\"color: #008080; text-decoration-color: #008080; font-weight: bold\">0.206</span>, Epoch time = <span style=\"color: #008080; text-decoration-color: #008080; font-weight: bold\">93.</span>913s\n",
              "</pre>\n"
            ],
            "text/plain": [
              "Epoch: \u001b[1;36m21\u001b[0m, Train loss: \u001b[1;36m0.278\u001b[0m, Val loss: \u001b[1;36m0.206\u001b[0m, Epoch time = \u001b[1;36m93.\u001b[0m913s\n"
            ]
          },
          "metadata": {
            "tags": []
          }
        },
        {
          "output_type": "display_data",
          "data": {
            "text/html": [
              "<pre style=\"white-space:pre;overflow-x:auto;line-height:normal;font-family:Menlo,'DejaVu Sans Mono',consolas,'Courier New',monospace\">Epoch: <span style=\"color: #008080; text-decoration-color: #008080; font-weight: bold\">22</span>, Train loss: <span style=\"color: #008080; text-decoration-color: #008080; font-weight: bold\">0.265</span>, Val loss: <span style=\"color: #008080; text-decoration-color: #008080; font-weight: bold\">0.200</span>, Epoch time = <span style=\"color: #008080; text-decoration-color: #008080; font-weight: bold\">93.</span>753s\n",
              "</pre>\n"
            ],
            "text/plain": [
              "Epoch: \u001b[1;36m22\u001b[0m, Train loss: \u001b[1;36m0.265\u001b[0m, Val loss: \u001b[1;36m0.200\u001b[0m, Epoch time = \u001b[1;36m93.\u001b[0m753s\n"
            ]
          },
          "metadata": {
            "tags": []
          }
        },
        {
          "output_type": "display_data",
          "data": {
            "text/html": [
              "<pre style=\"white-space:pre;overflow-x:auto;line-height:normal;font-family:Menlo,'DejaVu Sans Mono',consolas,'Courier New',monospace\">Epoch: <span style=\"color: #008080; text-decoration-color: #008080; font-weight: bold\">23</span>, Train loss: <span style=\"color: #008080; text-decoration-color: #008080; font-weight: bold\">0.253</span>, Val loss: <span style=\"color: #008080; text-decoration-color: #008080; font-weight: bold\">0.188</span>, Epoch time = <span style=\"color: #008080; text-decoration-color: #008080; font-weight: bold\">93.</span>582s\n",
              "</pre>\n"
            ],
            "text/plain": [
              "Epoch: \u001b[1;36m23\u001b[0m, Train loss: \u001b[1;36m0.253\u001b[0m, Val loss: \u001b[1;36m0.188\u001b[0m, Epoch time = \u001b[1;36m93.\u001b[0m582s\n"
            ]
          },
          "metadata": {
            "tags": []
          }
        },
        {
          "output_type": "display_data",
          "data": {
            "text/html": [
              "<pre style=\"white-space:pre;overflow-x:auto;line-height:normal;font-family:Menlo,'DejaVu Sans Mono',consolas,'Courier New',monospace\">Epoch: <span style=\"color: #008080; text-decoration-color: #008080; font-weight: bold\">24</span>, Train loss: <span style=\"color: #008080; text-decoration-color: #008080; font-weight: bold\">0.243</span>, Val loss: <span style=\"color: #008080; text-decoration-color: #008080; font-weight: bold\">0.180</span>, Epoch time = <span style=\"color: #008080; text-decoration-color: #008080; font-weight: bold\">93.</span>470s\n",
              "</pre>\n"
            ],
            "text/plain": [
              "Epoch: \u001b[1;36m24\u001b[0m, Train loss: \u001b[1;36m0.243\u001b[0m, Val loss: \u001b[1;36m0.180\u001b[0m, Epoch time = \u001b[1;36m93.\u001b[0m470s\n"
            ]
          },
          "metadata": {
            "tags": []
          }
        },
        {
          "output_type": "display_data",
          "data": {
            "text/html": [
              "<pre style=\"white-space:pre;overflow-x:auto;line-height:normal;font-family:Menlo,'DejaVu Sans Mono',consolas,'Courier New',monospace\">true\n",
              "</pre>\n"
            ],
            "text/plain": [
              "true\n"
            ]
          },
          "metadata": {
            "tags": []
          }
        },
        {
          "output_type": "display_data",
          "data": {
            "text/html": [
              "<pre style=\"white-space:pre;overflow-x:auto;line-height:normal;font-family:Menlo,'DejaVu Sans Mono',consolas,'Courier New',monospace\">=&gt; Saving checkpoint\n",
              "</pre>\n"
            ],
            "text/plain": [
              "=> Saving checkpoint\n"
            ]
          },
          "metadata": {
            "tags": []
          }
        },
        {
          "output_type": "display_data",
          "data": {
            "text/html": [
              "<pre style=\"white-space:pre;overflow-x:auto;line-height:normal;font-family:Menlo,'DejaVu Sans Mono',consolas,'Courier New',monospace\">Epoch: <span style=\"color: #008080; text-decoration-color: #008080; font-weight: bold\">25</span>, Train loss: <span style=\"color: #008080; text-decoration-color: #008080; font-weight: bold\">0.233</span>, Val loss: <span style=\"color: #008080; text-decoration-color: #008080; font-weight: bold\">0.177</span>, Epoch time = <span style=\"color: #008080; text-decoration-color: #008080; font-weight: bold\">93.</span>567s\n",
              "</pre>\n"
            ],
            "text/plain": [
              "Epoch: \u001b[1;36m25\u001b[0m, Train loss: \u001b[1;36m0.233\u001b[0m, Val loss: \u001b[1;36m0.177\u001b[0m, Epoch time = \u001b[1;36m93.\u001b[0m567s\n"
            ]
          },
          "metadata": {
            "tags": []
          }
        },
        {
          "output_type": "display_data",
          "data": {
            "text/html": [
              "<pre style=\"white-space:pre;overflow-x:auto;line-height:normal;font-family:Menlo,'DejaVu Sans Mono',consolas,'Courier New',monospace\">Epoch: <span style=\"color: #008080; text-decoration-color: #008080; font-weight: bold\">26</span>, Train loss: <span style=\"color: #008080; text-decoration-color: #008080; font-weight: bold\">0.223</span>, Val loss: <span style=\"color: #008080; text-decoration-color: #008080; font-weight: bold\">0.168</span>, Epoch time = <span style=\"color: #008080; text-decoration-color: #008080; font-weight: bold\">93.</span>535s\n",
              "</pre>\n"
            ],
            "text/plain": [
              "Epoch: \u001b[1;36m26\u001b[0m, Train loss: \u001b[1;36m0.223\u001b[0m, Val loss: \u001b[1;36m0.168\u001b[0m, Epoch time = \u001b[1;36m93.\u001b[0m535s\n"
            ]
          },
          "metadata": {
            "tags": []
          }
        },
        {
          "output_type": "display_data",
          "data": {
            "text/html": [
              "<pre style=\"white-space:pre;overflow-x:auto;line-height:normal;font-family:Menlo,'DejaVu Sans Mono',consolas,'Courier New',monospace\">Epoch: <span style=\"color: #008080; text-decoration-color: #008080; font-weight: bold\">27</span>, Train loss: <span style=\"color: #008080; text-decoration-color: #008080; font-weight: bold\">0.215</span>, Val loss: <span style=\"color: #008080; text-decoration-color: #008080; font-weight: bold\">0.164</span>, Epoch time = <span style=\"color: #008080; text-decoration-color: #008080; font-weight: bold\">94.</span>233s\n",
              "</pre>\n"
            ],
            "text/plain": [
              "Epoch: \u001b[1;36m27\u001b[0m, Train loss: \u001b[1;36m0.215\u001b[0m, Val loss: \u001b[1;36m0.164\u001b[0m, Epoch time = \u001b[1;36m94.\u001b[0m233s\n"
            ]
          },
          "metadata": {
            "tags": []
          }
        },
        {
          "output_type": "display_data",
          "data": {
            "text/html": [
              "<pre style=\"white-space:pre;overflow-x:auto;line-height:normal;font-family:Menlo,'DejaVu Sans Mono',consolas,'Courier New',monospace\">Epoch: <span style=\"color: #008080; text-decoration-color: #008080; font-weight: bold\">28</span>, Train loss: <span style=\"color: #008080; text-decoration-color: #008080; font-weight: bold\">0.207</span>, Val loss: <span style=\"color: #008080; text-decoration-color: #008080; font-weight: bold\">0.160</span>, Epoch time = <span style=\"color: #008080; text-decoration-color: #008080; font-weight: bold\">93.</span>305s\n",
              "</pre>\n"
            ],
            "text/plain": [
              "Epoch: \u001b[1;36m28\u001b[0m, Train loss: \u001b[1;36m0.207\u001b[0m, Val loss: \u001b[1;36m0.160\u001b[0m, Epoch time = \u001b[1;36m93.\u001b[0m305s\n"
            ]
          },
          "metadata": {
            "tags": []
          }
        },
        {
          "output_type": "display_data",
          "data": {
            "text/html": [
              "<pre style=\"white-space:pre;overflow-x:auto;line-height:normal;font-family:Menlo,'DejaVu Sans Mono',consolas,'Courier New',monospace\">Epoch: <span style=\"color: #008080; text-decoration-color: #008080; font-weight: bold\">29</span>, Train loss: <span style=\"color: #008080; text-decoration-color: #008080; font-weight: bold\">0.201</span>, Val loss: <span style=\"color: #008080; text-decoration-color: #008080; font-weight: bold\">0.154</span>, Epoch time = <span style=\"color: #008080; text-decoration-color: #008080; font-weight: bold\">94.</span>236s\n",
              "</pre>\n"
            ],
            "text/plain": [
              "Epoch: \u001b[1;36m29\u001b[0m, Train loss: \u001b[1;36m0.201\u001b[0m, Val loss: \u001b[1;36m0.154\u001b[0m, Epoch time = \u001b[1;36m94.\u001b[0m236s\n"
            ]
          },
          "metadata": {
            "tags": []
          }
        },
        {
          "output_type": "display_data",
          "data": {
            "text/html": [
              "<pre style=\"white-space:pre;overflow-x:auto;line-height:normal;font-family:Menlo,'DejaVu Sans Mono',consolas,'Courier New',monospace\">true\n",
              "</pre>\n"
            ],
            "text/plain": [
              "true\n"
            ]
          },
          "metadata": {
            "tags": []
          }
        },
        {
          "output_type": "display_data",
          "data": {
            "text/html": [
              "<pre style=\"white-space:pre;overflow-x:auto;line-height:normal;font-family:Menlo,'DejaVu Sans Mono',consolas,'Courier New',monospace\">=&gt; Saving checkpoint\n",
              "</pre>\n"
            ],
            "text/plain": [
              "=> Saving checkpoint\n"
            ]
          },
          "metadata": {
            "tags": []
          }
        },
        {
          "output_type": "display_data",
          "data": {
            "text/html": [
              "<pre style=\"white-space:pre;overflow-x:auto;line-height:normal;font-family:Menlo,'DejaVu Sans Mono',consolas,'Courier New',monospace\">Epoch: <span style=\"color: #008080; text-decoration-color: #008080; font-weight: bold\">30</span>, Train loss: <span style=\"color: #008080; text-decoration-color: #008080; font-weight: bold\">0.194</span>, Val loss: <span style=\"color: #008080; text-decoration-color: #008080; font-weight: bold\">0.150</span>, Epoch time = <span style=\"color: #008080; text-decoration-color: #008080; font-weight: bold\">94.</span>420s\n",
              "</pre>\n"
            ],
            "text/plain": [
              "Epoch: \u001b[1;36m30\u001b[0m, Train loss: \u001b[1;36m0.194\u001b[0m, Val loss: \u001b[1;36m0.150\u001b[0m, Epoch time = \u001b[1;36m94.\u001b[0m420s\n"
            ]
          },
          "metadata": {
            "tags": []
          }
        },
        {
          "output_type": "display_data",
          "data": {
            "text/html": [
              "<pre style=\"white-space:pre;overflow-x:auto;line-height:normal;font-family:Menlo,'DejaVu Sans Mono',consolas,'Courier New',monospace\">Epoch: <span style=\"color: #008080; text-decoration-color: #008080; font-weight: bold\">31</span>, Train loss: <span style=\"color: #008080; text-decoration-color: #008080; font-weight: bold\">0.187</span>, Val loss: <span style=\"color: #008080; text-decoration-color: #008080; font-weight: bold\">0.148</span>, Epoch time = <span style=\"color: #008080; text-decoration-color: #008080; font-weight: bold\">93.</span>740s\n",
              "</pre>\n"
            ],
            "text/plain": [
              "Epoch: \u001b[1;36m31\u001b[0m, Train loss: \u001b[1;36m0.187\u001b[0m, Val loss: \u001b[1;36m0.148\u001b[0m, Epoch time = \u001b[1;36m93.\u001b[0m740s\n"
            ]
          },
          "metadata": {
            "tags": []
          }
        },
        {
          "output_type": "display_data",
          "data": {
            "text/html": [
              "<pre style=\"white-space:pre;overflow-x:auto;line-height:normal;font-family:Menlo,'DejaVu Sans Mono',consolas,'Courier New',monospace\">Epoch: <span style=\"color: #008080; text-decoration-color: #008080; font-weight: bold\">32</span>, Train loss: <span style=\"color: #008080; text-decoration-color: #008080; font-weight: bold\">0.182</span>, Val loss: <span style=\"color: #008080; text-decoration-color: #008080; font-weight: bold\">0.146</span>, Epoch time = <span style=\"color: #008080; text-decoration-color: #008080; font-weight: bold\">93.</span>448s\n",
              "</pre>\n"
            ],
            "text/plain": [
              "Epoch: \u001b[1;36m32\u001b[0m, Train loss: \u001b[1;36m0.182\u001b[0m, Val loss: \u001b[1;36m0.146\u001b[0m, Epoch time = \u001b[1;36m93.\u001b[0m448s\n"
            ]
          },
          "metadata": {
            "tags": []
          }
        },
        {
          "output_type": "display_data",
          "data": {
            "text/html": [
              "<pre style=\"white-space:pre;overflow-x:auto;line-height:normal;font-family:Menlo,'DejaVu Sans Mono',consolas,'Courier New',monospace\">Epoch: <span style=\"color: #008080; text-decoration-color: #008080; font-weight: bold\">33</span>, Train loss: <span style=\"color: #008080; text-decoration-color: #008080; font-weight: bold\">0.176</span>, Val loss: <span style=\"color: #008080; text-decoration-color: #008080; font-weight: bold\">0.142</span>, Epoch time = <span style=\"color: #008080; text-decoration-color: #008080; font-weight: bold\">93.</span>765s\n",
              "</pre>\n"
            ],
            "text/plain": [
              "Epoch: \u001b[1;36m33\u001b[0m, Train loss: \u001b[1;36m0.176\u001b[0m, Val loss: \u001b[1;36m0.142\u001b[0m, Epoch time = \u001b[1;36m93.\u001b[0m765s\n"
            ]
          },
          "metadata": {
            "tags": []
          }
        },
        {
          "output_type": "display_data",
          "data": {
            "text/html": [
              "<pre style=\"white-space:pre;overflow-x:auto;line-height:normal;font-family:Menlo,'DejaVu Sans Mono',consolas,'Courier New',monospace\">Epoch: <span style=\"color: #008080; text-decoration-color: #008080; font-weight: bold\">34</span>, Train loss: <span style=\"color: #008080; text-decoration-color: #008080; font-weight: bold\">0.171</span>, Val loss: <span style=\"color: #008080; text-decoration-color: #008080; font-weight: bold\">0.138</span>, Epoch time = <span style=\"color: #008080; text-decoration-color: #008080; font-weight: bold\">93.</span>844s\n",
              "</pre>\n"
            ],
            "text/plain": [
              "Epoch: \u001b[1;36m34\u001b[0m, Train loss: \u001b[1;36m0.171\u001b[0m, Val loss: \u001b[1;36m0.138\u001b[0m, Epoch time = \u001b[1;36m93.\u001b[0m844s\n"
            ]
          },
          "metadata": {
            "tags": []
          }
        },
        {
          "output_type": "display_data",
          "data": {
            "text/html": [
              "<pre style=\"white-space:pre;overflow-x:auto;line-height:normal;font-family:Menlo,'DejaVu Sans Mono',consolas,'Courier New',monospace\">true\n",
              "</pre>\n"
            ],
            "text/plain": [
              "true\n"
            ]
          },
          "metadata": {
            "tags": []
          }
        },
        {
          "output_type": "display_data",
          "data": {
            "text/html": [
              "<pre style=\"white-space:pre;overflow-x:auto;line-height:normal;font-family:Menlo,'DejaVu Sans Mono',consolas,'Courier New',monospace\">=&gt; Saving checkpoint\n",
              "</pre>\n"
            ],
            "text/plain": [
              "=> Saving checkpoint\n"
            ]
          },
          "metadata": {
            "tags": []
          }
        },
        {
          "output_type": "display_data",
          "data": {
            "text/html": [
              "<pre style=\"white-space:pre;overflow-x:auto;line-height:normal;font-family:Menlo,'DejaVu Sans Mono',consolas,'Courier New',monospace\">Epoch: <span style=\"color: #008080; text-decoration-color: #008080; font-weight: bold\">35</span>, Train loss: <span style=\"color: #008080; text-decoration-color: #008080; font-weight: bold\">0.166</span>, Val loss: <span style=\"color: #008080; text-decoration-color: #008080; font-weight: bold\">0.134</span>, Epoch time = <span style=\"color: #008080; text-decoration-color: #008080; font-weight: bold\">93.</span>536s\n",
              "</pre>\n"
            ],
            "text/plain": [
              "Epoch: \u001b[1;36m35\u001b[0m, Train loss: \u001b[1;36m0.166\u001b[0m, Val loss: \u001b[1;36m0.134\u001b[0m, Epoch time = \u001b[1;36m93.\u001b[0m536s\n"
            ]
          },
          "metadata": {
            "tags": []
          }
        },
        {
          "output_type": "display_data",
          "data": {
            "text/html": [
              "<pre style=\"white-space:pre;overflow-x:auto;line-height:normal;font-family:Menlo,'DejaVu Sans Mono',consolas,'Courier New',monospace\">Epoch: <span style=\"color: #008080; text-decoration-color: #008080; font-weight: bold\">36</span>, Train loss: <span style=\"color: #008080; text-decoration-color: #008080; font-weight: bold\">0.161</span>, Val loss: <span style=\"color: #008080; text-decoration-color: #008080; font-weight: bold\">0.134</span>, Epoch time = <span style=\"color: #008080; text-decoration-color: #008080; font-weight: bold\">93.</span>891s\n",
              "</pre>\n"
            ],
            "text/plain": [
              "Epoch: \u001b[1;36m36\u001b[0m, Train loss: \u001b[1;36m0.161\u001b[0m, Val loss: \u001b[1;36m0.134\u001b[0m, Epoch time = \u001b[1;36m93.\u001b[0m891s\n"
            ]
          },
          "metadata": {
            "tags": []
          }
        },
        {
          "output_type": "display_data",
          "data": {
            "text/html": [
              "<pre style=\"white-space:pre;overflow-x:auto;line-height:normal;font-family:Menlo,'DejaVu Sans Mono',consolas,'Courier New',monospace\">Epoch: <span style=\"color: #008080; text-decoration-color: #008080; font-weight: bold\">37</span>, Train loss: <span style=\"color: #008080; text-decoration-color: #008080; font-weight: bold\">0.157</span>, Val loss: <span style=\"color: #008080; text-decoration-color: #008080; font-weight: bold\">0.130</span>, Epoch time = <span style=\"color: #008080; text-decoration-color: #008080; font-weight: bold\">93.</span>277s\n",
              "</pre>\n"
            ],
            "text/plain": [
              "Epoch: \u001b[1;36m37\u001b[0m, Train loss: \u001b[1;36m0.157\u001b[0m, Val loss: \u001b[1;36m0.130\u001b[0m, Epoch time = \u001b[1;36m93.\u001b[0m277s\n"
            ]
          },
          "metadata": {
            "tags": []
          }
        },
        {
          "output_type": "display_data",
          "data": {
            "text/html": [
              "<pre style=\"white-space:pre;overflow-x:auto;line-height:normal;font-family:Menlo,'DejaVu Sans Mono',consolas,'Courier New',monospace\">Epoch: <span style=\"color: #008080; text-decoration-color: #008080; font-weight: bold\">38</span>, Train loss: <span style=\"color: #008080; text-decoration-color: #008080; font-weight: bold\">0.153</span>, Val loss: <span style=\"color: #008080; text-decoration-color: #008080; font-weight: bold\">0.129</span>, Epoch time = <span style=\"color: #008080; text-decoration-color: #008080; font-weight: bold\">93.</span>227s\n",
              "</pre>\n"
            ],
            "text/plain": [
              "Epoch: \u001b[1;36m38\u001b[0m, Train loss: \u001b[1;36m0.153\u001b[0m, Val loss: \u001b[1;36m0.129\u001b[0m, Epoch time = \u001b[1;36m93.\u001b[0m227s\n"
            ]
          },
          "metadata": {
            "tags": []
          }
        },
        {
          "output_type": "display_data",
          "data": {
            "text/html": [
              "<pre style=\"white-space:pre;overflow-x:auto;line-height:normal;font-family:Menlo,'DejaVu Sans Mono',consolas,'Courier New',monospace\">Epoch: <span style=\"color: #008080; text-decoration-color: #008080; font-weight: bold\">39</span>, Train loss: <span style=\"color: #008080; text-decoration-color: #008080; font-weight: bold\">0.149</span>, Val loss: <span style=\"color: #008080; text-decoration-color: #008080; font-weight: bold\">0.123</span>, Epoch time = <span style=\"color: #008080; text-decoration-color: #008080; font-weight: bold\">93.</span>265s\n",
              "</pre>\n"
            ],
            "text/plain": [
              "Epoch: \u001b[1;36m39\u001b[0m, Train loss: \u001b[1;36m0.149\u001b[0m, Val loss: \u001b[1;36m0.123\u001b[0m, Epoch time = \u001b[1;36m93.\u001b[0m265s\n"
            ]
          },
          "metadata": {
            "tags": []
          }
        },
        {
          "output_type": "display_data",
          "data": {
            "text/html": [
              "<pre style=\"white-space:pre;overflow-x:auto;line-height:normal;font-family:Menlo,'DejaVu Sans Mono',consolas,'Courier New',monospace\">true\n",
              "</pre>\n"
            ],
            "text/plain": [
              "true\n"
            ]
          },
          "metadata": {
            "tags": []
          }
        },
        {
          "output_type": "display_data",
          "data": {
            "text/html": [
              "<pre style=\"white-space:pre;overflow-x:auto;line-height:normal;font-family:Menlo,'DejaVu Sans Mono',consolas,'Courier New',monospace\">=&gt; Saving checkpoint\n",
              "</pre>\n"
            ],
            "text/plain": [
              "=> Saving checkpoint\n"
            ]
          },
          "metadata": {
            "tags": []
          }
        },
        {
          "output_type": "display_data",
          "data": {
            "text/html": [
              "<pre style=\"white-space:pre;overflow-x:auto;line-height:normal;font-family:Menlo,'DejaVu Sans Mono',consolas,'Courier New',monospace\">Epoch: <span style=\"color: #008080; text-decoration-color: #008080; font-weight: bold\">40</span>, Train loss: <span style=\"color: #008080; text-decoration-color: #008080; font-weight: bold\">0.145</span>, Val loss: <span style=\"color: #008080; text-decoration-color: #008080; font-weight: bold\">0.125</span>, Epoch time = <span style=\"color: #008080; text-decoration-color: #008080; font-weight: bold\">93.</span>990s\n",
              "</pre>\n"
            ],
            "text/plain": [
              "Epoch: \u001b[1;36m40\u001b[0m, Train loss: \u001b[1;36m0.145\u001b[0m, Val loss: \u001b[1;36m0.125\u001b[0m, Epoch time = \u001b[1;36m93.\u001b[0m990s\n"
            ]
          },
          "metadata": {
            "tags": []
          }
        },
        {
          "output_type": "display_data",
          "data": {
            "text/html": [
              "<pre style=\"white-space:pre;overflow-x:auto;line-height:normal;font-family:Menlo,'DejaVu Sans Mono',consolas,'Courier New',monospace\">Epoch: <span style=\"color: #008080; text-decoration-color: #008080; font-weight: bold\">41</span>, Train loss: <span style=\"color: #008080; text-decoration-color: #008080; font-weight: bold\">0.142</span>, Val loss: <span style=\"color: #008080; text-decoration-color: #008080; font-weight: bold\">0.123</span>, Epoch time = <span style=\"color: #008080; text-decoration-color: #008080; font-weight: bold\">93.</span>562s\n",
              "</pre>\n"
            ],
            "text/plain": [
              "Epoch: \u001b[1;36m41\u001b[0m, Train loss: \u001b[1;36m0.142\u001b[0m, Val loss: \u001b[1;36m0.123\u001b[0m, Epoch time = \u001b[1;36m93.\u001b[0m562s\n"
            ]
          },
          "metadata": {
            "tags": []
          }
        },
        {
          "output_type": "display_data",
          "data": {
            "text/html": [
              "<pre style=\"white-space:pre;overflow-x:auto;line-height:normal;font-family:Menlo,'DejaVu Sans Mono',consolas,'Courier New',monospace\">Epoch: <span style=\"color: #008080; text-decoration-color: #008080; font-weight: bold\">42</span>, Train loss: <span style=\"color: #008080; text-decoration-color: #008080; font-weight: bold\">0.139</span>, Val loss: <span style=\"color: #008080; text-decoration-color: #008080; font-weight: bold\">0.121</span>, Epoch time = <span style=\"color: #008080; text-decoration-color: #008080; font-weight: bold\">93.</span>473s\n",
              "</pre>\n"
            ],
            "text/plain": [
              "Epoch: \u001b[1;36m42\u001b[0m, Train loss: \u001b[1;36m0.139\u001b[0m, Val loss: \u001b[1;36m0.121\u001b[0m, Epoch time = \u001b[1;36m93.\u001b[0m473s\n"
            ]
          },
          "metadata": {
            "tags": []
          }
        },
        {
          "output_type": "display_data",
          "data": {
            "text/html": [
              "<pre style=\"white-space:pre;overflow-x:auto;line-height:normal;font-family:Menlo,'DejaVu Sans Mono',consolas,'Courier New',monospace\">Epoch: <span style=\"color: #008080; text-decoration-color: #008080; font-weight: bold\">43</span>, Train loss: <span style=\"color: #008080; text-decoration-color: #008080; font-weight: bold\">0.136</span>, Val loss: <span style=\"color: #008080; text-decoration-color: #008080; font-weight: bold\">0.118</span>, Epoch time = <span style=\"color: #008080; text-decoration-color: #008080; font-weight: bold\">93.</span>118s\n",
              "</pre>\n"
            ],
            "text/plain": [
              "Epoch: \u001b[1;36m43\u001b[0m, Train loss: \u001b[1;36m0.136\u001b[0m, Val loss: \u001b[1;36m0.118\u001b[0m, Epoch time = \u001b[1;36m93.\u001b[0m118s\n"
            ]
          },
          "metadata": {
            "tags": []
          }
        },
        {
          "output_type": "display_data",
          "data": {
            "text/html": [
              "<pre style=\"white-space:pre;overflow-x:auto;line-height:normal;font-family:Menlo,'DejaVu Sans Mono',consolas,'Courier New',monospace\">Epoch: <span style=\"color: #008080; text-decoration-color: #008080; font-weight: bold\">44</span>, Train loss: <span style=\"color: #008080; text-decoration-color: #008080; font-weight: bold\">0.132</span>, Val loss: <span style=\"color: #008080; text-decoration-color: #008080; font-weight: bold\">0.119</span>, Epoch time = <span style=\"color: #008080; text-decoration-color: #008080; font-weight: bold\">92.</span>841s\n",
              "</pre>\n"
            ],
            "text/plain": [
              "Epoch: \u001b[1;36m44\u001b[0m, Train loss: \u001b[1;36m0.132\u001b[0m, Val loss: \u001b[1;36m0.119\u001b[0m, Epoch time = \u001b[1;36m92.\u001b[0m841s\n"
            ]
          },
          "metadata": {
            "tags": []
          }
        },
        {
          "output_type": "display_data",
          "data": {
            "text/html": [
              "<pre style=\"white-space:pre;overflow-x:auto;line-height:normal;font-family:Menlo,'DejaVu Sans Mono',consolas,'Courier New',monospace\">true\n",
              "</pre>\n"
            ],
            "text/plain": [
              "true\n"
            ]
          },
          "metadata": {
            "tags": []
          }
        },
        {
          "output_type": "display_data",
          "data": {
            "text/html": [
              "<pre style=\"white-space:pre;overflow-x:auto;line-height:normal;font-family:Menlo,'DejaVu Sans Mono',consolas,'Courier New',monospace\">=&gt; Saving checkpoint\n",
              "</pre>\n"
            ],
            "text/plain": [
              "=> Saving checkpoint\n"
            ]
          },
          "metadata": {
            "tags": []
          }
        },
        {
          "output_type": "display_data",
          "data": {
            "text/html": [
              "<pre style=\"white-space:pre;overflow-x:auto;line-height:normal;font-family:Menlo,'DejaVu Sans Mono',consolas,'Courier New',monospace\">Epoch: <span style=\"color: #008080; text-decoration-color: #008080; font-weight: bold\">45</span>, Train loss: <span style=\"color: #008080; text-decoration-color: #008080; font-weight: bold\">0.129</span>, Val loss: <span style=\"color: #008080; text-decoration-color: #008080; font-weight: bold\">0.117</span>, Epoch time = <span style=\"color: #008080; text-decoration-color: #008080; font-weight: bold\">93.</span>480s\n",
              "</pre>\n"
            ],
            "text/plain": [
              "Epoch: \u001b[1;36m45\u001b[0m, Train loss: \u001b[1;36m0.129\u001b[0m, Val loss: \u001b[1;36m0.117\u001b[0m, Epoch time = \u001b[1;36m93.\u001b[0m480s\n"
            ]
          },
          "metadata": {
            "tags": []
          }
        },
        {
          "output_type": "display_data",
          "data": {
            "text/html": [
              "<pre style=\"white-space:pre;overflow-x:auto;line-height:normal;font-family:Menlo,'DejaVu Sans Mono',consolas,'Courier New',monospace\">Epoch: <span style=\"color: #008080; text-decoration-color: #008080; font-weight: bold\">46</span>, Train loss: <span style=\"color: #008080; text-decoration-color: #008080; font-weight: bold\">0.126</span>, Val loss: <span style=\"color: #008080; text-decoration-color: #008080; font-weight: bold\">0.117</span>, Epoch time = <span style=\"color: #008080; text-decoration-color: #008080; font-weight: bold\">93.</span>160s\n",
              "</pre>\n"
            ],
            "text/plain": [
              "Epoch: \u001b[1;36m46\u001b[0m, Train loss: \u001b[1;36m0.126\u001b[0m, Val loss: \u001b[1;36m0.117\u001b[0m, Epoch time = \u001b[1;36m93.\u001b[0m160s\n"
            ]
          },
          "metadata": {
            "tags": []
          }
        },
        {
          "output_type": "display_data",
          "data": {
            "text/html": [
              "<pre style=\"white-space:pre;overflow-x:auto;line-height:normal;font-family:Menlo,'DejaVu Sans Mono',consolas,'Courier New',monospace\">Epoch: <span style=\"color: #008080; text-decoration-color: #008080; font-weight: bold\">47</span>, Train loss: <span style=\"color: #008080; text-decoration-color: #008080; font-weight: bold\">0.124</span>, Val loss: <span style=\"color: #008080; text-decoration-color: #008080; font-weight: bold\">0.114</span>, Epoch time = <span style=\"color: #008080; text-decoration-color: #008080; font-weight: bold\">93.</span>497s\n",
              "</pre>\n"
            ],
            "text/plain": [
              "Epoch: \u001b[1;36m47\u001b[0m, Train loss: \u001b[1;36m0.124\u001b[0m, Val loss: \u001b[1;36m0.114\u001b[0m, Epoch time = \u001b[1;36m93.\u001b[0m497s\n"
            ]
          },
          "metadata": {
            "tags": []
          }
        },
        {
          "output_type": "display_data",
          "data": {
            "text/html": [
              "<pre style=\"white-space:pre;overflow-x:auto;line-height:normal;font-family:Menlo,'DejaVu Sans Mono',consolas,'Courier New',monospace\">Epoch: <span style=\"color: #008080; text-decoration-color: #008080; font-weight: bold\">48</span>, Train loss: <span style=\"color: #008080; text-decoration-color: #008080; font-weight: bold\">0.122</span>, Val loss: <span style=\"color: #008080; text-decoration-color: #008080; font-weight: bold\">0.112</span>, Epoch time = <span style=\"color: #008080; text-decoration-color: #008080; font-weight: bold\">92.</span>757s\n",
              "</pre>\n"
            ],
            "text/plain": [
              "Epoch: \u001b[1;36m48\u001b[0m, Train loss: \u001b[1;36m0.122\u001b[0m, Val loss: \u001b[1;36m0.112\u001b[0m, Epoch time = \u001b[1;36m92.\u001b[0m757s\n"
            ]
          },
          "metadata": {
            "tags": []
          }
        },
        {
          "output_type": "display_data",
          "data": {
            "text/html": [
              "<pre style=\"white-space:pre;overflow-x:auto;line-height:normal;font-family:Menlo,'DejaVu Sans Mono',consolas,'Courier New',monospace\">Epoch: <span style=\"color: #008080; text-decoration-color: #008080; font-weight: bold\">49</span>, Train loss: <span style=\"color: #008080; text-decoration-color: #008080; font-weight: bold\">0.119</span>, Val loss: <span style=\"color: #008080; text-decoration-color: #008080; font-weight: bold\">0.111</span>, Epoch time = <span style=\"color: #008080; text-decoration-color: #008080; font-weight: bold\">92.</span>993s\n",
              "</pre>\n"
            ],
            "text/plain": [
              "Epoch: \u001b[1;36m49\u001b[0m, Train loss: \u001b[1;36m0.119\u001b[0m, Val loss: \u001b[1;36m0.111\u001b[0m, Epoch time = \u001b[1;36m92.\u001b[0m993s\n"
            ]
          },
          "metadata": {
            "tags": []
          }
        },
        {
          "output_type": "display_data",
          "data": {
            "text/html": [
              "<pre style=\"white-space:pre;overflow-x:auto;line-height:normal;font-family:Menlo,'DejaVu Sans Mono',consolas,'Courier New',monospace\">true\n",
              "</pre>\n"
            ],
            "text/plain": [
              "true\n"
            ]
          },
          "metadata": {
            "tags": []
          }
        },
        {
          "output_type": "display_data",
          "data": {
            "text/html": [
              "<pre style=\"white-space:pre;overflow-x:auto;line-height:normal;font-family:Menlo,'DejaVu Sans Mono',consolas,'Courier New',monospace\">=&gt; Saving checkpoint\n",
              "</pre>\n"
            ],
            "text/plain": [
              "=> Saving checkpoint\n"
            ]
          },
          "metadata": {
            "tags": []
          }
        },
        {
          "output_type": "display_data",
          "data": {
            "text/html": [
              "<pre style=\"white-space:pre;overflow-x:auto;line-height:normal;font-family:Menlo,'DejaVu Sans Mono',consolas,'Courier New',monospace\">Epoch: <span style=\"color: #008080; text-decoration-color: #008080; font-weight: bold\">50</span>, Train loss: <span style=\"color: #008080; text-decoration-color: #008080; font-weight: bold\">0.116</span>, Val loss: <span style=\"color: #008080; text-decoration-color: #008080; font-weight: bold\">0.111</span>, Epoch time = <span style=\"color: #008080; text-decoration-color: #008080; font-weight: bold\">93.</span>950s\n",
              "</pre>\n"
            ],
            "text/plain": [
              "Epoch: \u001b[1;36m50\u001b[0m, Train loss: \u001b[1;36m0.116\u001b[0m, Val loss: \u001b[1;36m0.111\u001b[0m, Epoch time = \u001b[1;36m93.\u001b[0m950s\n"
            ]
          },
          "metadata": {
            "tags": []
          }
        },
        {
          "output_type": "display_data",
          "data": {
            "text/html": [
              "<pre style=\"white-space:pre;overflow-x:auto;line-height:normal;font-family:Menlo,'DejaVu Sans Mono',consolas,'Courier New',monospace\">Epoch: <span style=\"color: #008080; text-decoration-color: #008080; font-weight: bold\">51</span>, Train loss: <span style=\"color: #008080; text-decoration-color: #008080; font-weight: bold\">0.114</span>, Val loss: <span style=\"color: #008080; text-decoration-color: #008080; font-weight: bold\">0.107</span>, Epoch time = <span style=\"color: #008080; text-decoration-color: #008080; font-weight: bold\">93.</span>201s\n",
              "</pre>\n"
            ],
            "text/plain": [
              "Epoch: \u001b[1;36m51\u001b[0m, Train loss: \u001b[1;36m0.114\u001b[0m, Val loss: \u001b[1;36m0.107\u001b[0m, Epoch time = \u001b[1;36m93.\u001b[0m201s\n"
            ]
          },
          "metadata": {
            "tags": []
          }
        },
        {
          "output_type": "display_data",
          "data": {
            "text/html": [
              "<pre style=\"white-space:pre;overflow-x:auto;line-height:normal;font-family:Menlo,'DejaVu Sans Mono',consolas,'Courier New',monospace\">Epoch: <span style=\"color: #008080; text-decoration-color: #008080; font-weight: bold\">52</span>, Train loss: <span style=\"color: #008080; text-decoration-color: #008080; font-weight: bold\">0.112</span>, Val loss: <span style=\"color: #008080; text-decoration-color: #008080; font-weight: bold\">0.111</span>, Epoch time = <span style=\"color: #008080; text-decoration-color: #008080; font-weight: bold\">93.</span>206s\n",
              "</pre>\n"
            ],
            "text/plain": [
              "Epoch: \u001b[1;36m52\u001b[0m, Train loss: \u001b[1;36m0.112\u001b[0m, Val loss: \u001b[1;36m0.111\u001b[0m, Epoch time = \u001b[1;36m93.\u001b[0m206s\n"
            ]
          },
          "metadata": {
            "tags": []
          }
        },
        {
          "output_type": "display_data",
          "data": {
            "text/html": [
              "<pre style=\"white-space:pre;overflow-x:auto;line-height:normal;font-family:Menlo,'DejaVu Sans Mono',consolas,'Courier New',monospace\">Epoch: <span style=\"color: #008080; text-decoration-color: #008080; font-weight: bold\">53</span>, Train loss: <span style=\"color: #008080; text-decoration-color: #008080; font-weight: bold\">0.110</span>, Val loss: <span style=\"color: #008080; text-decoration-color: #008080; font-weight: bold\">0.107</span>, Epoch time = <span style=\"color: #008080; text-decoration-color: #008080; font-weight: bold\">92.</span>598s\n",
              "</pre>\n"
            ],
            "text/plain": [
              "Epoch: \u001b[1;36m53\u001b[0m, Train loss: \u001b[1;36m0.110\u001b[0m, Val loss: \u001b[1;36m0.107\u001b[0m, Epoch time = \u001b[1;36m92.\u001b[0m598s\n"
            ]
          },
          "metadata": {
            "tags": []
          }
        },
        {
          "output_type": "display_data",
          "data": {
            "text/html": [
              "<pre style=\"white-space:pre;overflow-x:auto;line-height:normal;font-family:Menlo,'DejaVu Sans Mono',consolas,'Courier New',monospace\">Epoch: <span style=\"color: #008080; text-decoration-color: #008080; font-weight: bold\">54</span>, Train loss: <span style=\"color: #008080; text-decoration-color: #008080; font-weight: bold\">0.107</span>, Val loss: <span style=\"color: #008080; text-decoration-color: #008080; font-weight: bold\">0.107</span>, Epoch time = <span style=\"color: #008080; text-decoration-color: #008080; font-weight: bold\">93.</span>154s\n",
              "</pre>\n"
            ],
            "text/plain": [
              "Epoch: \u001b[1;36m54\u001b[0m, Train loss: \u001b[1;36m0.107\u001b[0m, Val loss: \u001b[1;36m0.107\u001b[0m, Epoch time = \u001b[1;36m93.\u001b[0m154s\n"
            ]
          },
          "metadata": {
            "tags": []
          }
        },
        {
          "output_type": "display_data",
          "data": {
            "text/html": [
              "<pre style=\"white-space:pre;overflow-x:auto;line-height:normal;font-family:Menlo,'DejaVu Sans Mono',consolas,'Courier New',monospace\">true\n",
              "</pre>\n"
            ],
            "text/plain": [
              "true\n"
            ]
          },
          "metadata": {
            "tags": []
          }
        },
        {
          "output_type": "display_data",
          "data": {
            "text/html": [
              "<pre style=\"white-space:pre;overflow-x:auto;line-height:normal;font-family:Menlo,'DejaVu Sans Mono',consolas,'Courier New',monospace\">=&gt; Saving checkpoint\n",
              "</pre>\n"
            ],
            "text/plain": [
              "=> Saving checkpoint\n"
            ]
          },
          "metadata": {
            "tags": []
          }
        },
        {
          "output_type": "display_data",
          "data": {
            "text/html": [
              "<pre style=\"white-space:pre;overflow-x:auto;line-height:normal;font-family:Menlo,'DejaVu Sans Mono',consolas,'Courier New',monospace\">Epoch: <span style=\"color: #008080; text-decoration-color: #008080; font-weight: bold\">55</span>, Train loss: <span style=\"color: #008080; text-decoration-color: #008080; font-weight: bold\">0.106</span>, Val loss: <span style=\"color: #008080; text-decoration-color: #008080; font-weight: bold\">0.106</span>, Epoch time = <span style=\"color: #008080; text-decoration-color: #008080; font-weight: bold\">92.</span>942s\n",
              "</pre>\n"
            ],
            "text/plain": [
              "Epoch: \u001b[1;36m55\u001b[0m, Train loss: \u001b[1;36m0.106\u001b[0m, Val loss: \u001b[1;36m0.106\u001b[0m, Epoch time = \u001b[1;36m92.\u001b[0m942s\n"
            ]
          },
          "metadata": {
            "tags": []
          }
        },
        {
          "output_type": "display_data",
          "data": {
            "text/html": [
              "<pre style=\"white-space:pre;overflow-x:auto;line-height:normal;font-family:Menlo,'DejaVu Sans Mono',consolas,'Courier New',monospace\">Epoch: <span style=\"color: #008080; text-decoration-color: #008080; font-weight: bold\">56</span>, Train loss: <span style=\"color: #008080; text-decoration-color: #008080; font-weight: bold\">0.104</span>, Val loss: <span style=\"color: #008080; text-decoration-color: #008080; font-weight: bold\">0.105</span>, Epoch time = <span style=\"color: #008080; text-decoration-color: #008080; font-weight: bold\">93.</span>374s\n",
              "</pre>\n"
            ],
            "text/plain": [
              "Epoch: \u001b[1;36m56\u001b[0m, Train loss: \u001b[1;36m0.104\u001b[0m, Val loss: \u001b[1;36m0.105\u001b[0m, Epoch time = \u001b[1;36m93.\u001b[0m374s\n"
            ]
          },
          "metadata": {
            "tags": []
          }
        },
        {
          "output_type": "display_data",
          "data": {
            "text/html": [
              "<pre style=\"white-space:pre;overflow-x:auto;line-height:normal;font-family:Menlo,'DejaVu Sans Mono',consolas,'Courier New',monospace\">Epoch: <span style=\"color: #008080; text-decoration-color: #008080; font-weight: bold\">57</span>, Train loss: <span style=\"color: #008080; text-decoration-color: #008080; font-weight: bold\">0.102</span>, Val loss: <span style=\"color: #008080; text-decoration-color: #008080; font-weight: bold\">0.105</span>, Epoch time = <span style=\"color: #008080; text-decoration-color: #008080; font-weight: bold\">93.</span>583s\n",
              "</pre>\n"
            ],
            "text/plain": [
              "Epoch: \u001b[1;36m57\u001b[0m, Train loss: \u001b[1;36m0.102\u001b[0m, Val loss: \u001b[1;36m0.105\u001b[0m, Epoch time = \u001b[1;36m93.\u001b[0m583s\n"
            ]
          },
          "metadata": {
            "tags": []
          }
        },
        {
          "output_type": "display_data",
          "data": {
            "text/html": [
              "<pre style=\"white-space:pre;overflow-x:auto;line-height:normal;font-family:Menlo,'DejaVu Sans Mono',consolas,'Courier New',monospace\">Epoch: <span style=\"color: #008080; text-decoration-color: #008080; font-weight: bold\">58</span>, Train loss: <span style=\"color: #008080; text-decoration-color: #008080; font-weight: bold\">0.100</span>, Val loss: <span style=\"color: #008080; text-decoration-color: #008080; font-weight: bold\">0.105</span>, Epoch time = <span style=\"color: #008080; text-decoration-color: #008080; font-weight: bold\">93.</span>076s\n",
              "</pre>\n"
            ],
            "text/plain": [
              "Epoch: \u001b[1;36m58\u001b[0m, Train loss: \u001b[1;36m0.100\u001b[0m, Val loss: \u001b[1;36m0.105\u001b[0m, Epoch time = \u001b[1;36m93.\u001b[0m076s\n"
            ]
          },
          "metadata": {
            "tags": []
          }
        },
        {
          "output_type": "display_data",
          "data": {
            "text/html": [
              "<pre style=\"white-space:pre;overflow-x:auto;line-height:normal;font-family:Menlo,'DejaVu Sans Mono',consolas,'Courier New',monospace\">Epoch: <span style=\"color: #008080; text-decoration-color: #008080; font-weight: bold\">59</span>, Train loss: <span style=\"color: #008080; text-decoration-color: #008080; font-weight: bold\">0.098</span>, Val loss: <span style=\"color: #008080; text-decoration-color: #008080; font-weight: bold\">0.104</span>, Epoch time = <span style=\"color: #008080; text-decoration-color: #008080; font-weight: bold\">93.</span>175s\n",
              "</pre>\n"
            ],
            "text/plain": [
              "Epoch: \u001b[1;36m59\u001b[0m, Train loss: \u001b[1;36m0.098\u001b[0m, Val loss: \u001b[1;36m0.104\u001b[0m, Epoch time = \u001b[1;36m93.\u001b[0m175s\n"
            ]
          },
          "metadata": {
            "tags": []
          }
        },
        {
          "output_type": "display_data",
          "data": {
            "text/html": [
              "<pre style=\"white-space:pre;overflow-x:auto;line-height:normal;font-family:Menlo,'DejaVu Sans Mono',consolas,'Courier New',monospace\">true\n",
              "</pre>\n"
            ],
            "text/plain": [
              "true\n"
            ]
          },
          "metadata": {
            "tags": []
          }
        },
        {
          "output_type": "display_data",
          "data": {
            "text/html": [
              "<pre style=\"white-space:pre;overflow-x:auto;line-height:normal;font-family:Menlo,'DejaVu Sans Mono',consolas,'Courier New',monospace\">=&gt; Saving checkpoint\n",
              "</pre>\n"
            ],
            "text/plain": [
              "=> Saving checkpoint\n"
            ]
          },
          "metadata": {
            "tags": []
          }
        },
        {
          "output_type": "display_data",
          "data": {
            "text/html": [
              "<pre style=\"white-space:pre;overflow-x:auto;line-height:normal;font-family:Menlo,'DejaVu Sans Mono',consolas,'Courier New',monospace\">Epoch: <span style=\"color: #008080; text-decoration-color: #008080; font-weight: bold\">60</span>, Train loss: <span style=\"color: #008080; text-decoration-color: #008080; font-weight: bold\">0.097</span>, Val loss: <span style=\"color: #008080; text-decoration-color: #008080; font-weight: bold\">0.102</span>, Epoch time = <span style=\"color: #008080; text-decoration-color: #008080; font-weight: bold\">93.</span>617s\n",
              "</pre>\n"
            ],
            "text/plain": [
              "Epoch: \u001b[1;36m60\u001b[0m, Train loss: \u001b[1;36m0.097\u001b[0m, Val loss: \u001b[1;36m0.102\u001b[0m, Epoch time = \u001b[1;36m93.\u001b[0m617s\n"
            ]
          },
          "metadata": {
            "tags": []
          }
        },
        {
          "output_type": "display_data",
          "data": {
            "text/html": [
              "<pre style=\"white-space:pre;overflow-x:auto;line-height:normal;font-family:Menlo,'DejaVu Sans Mono',consolas,'Courier New',monospace\">Epoch: <span style=\"color: #008080; text-decoration-color: #008080; font-weight: bold\">61</span>, Train loss: <span style=\"color: #008080; text-decoration-color: #008080; font-weight: bold\">0.095</span>, Val loss: <span style=\"color: #008080; text-decoration-color: #008080; font-weight: bold\">0.104</span>, Epoch time = <span style=\"color: #008080; text-decoration-color: #008080; font-weight: bold\">92.</span>964s\n",
              "</pre>\n"
            ],
            "text/plain": [
              "Epoch: \u001b[1;36m61\u001b[0m, Train loss: \u001b[1;36m0.095\u001b[0m, Val loss: \u001b[1;36m0.104\u001b[0m, Epoch time = \u001b[1;36m92.\u001b[0m964s\n"
            ]
          },
          "metadata": {
            "tags": []
          }
        },
        {
          "output_type": "display_data",
          "data": {
            "text/html": [
              "<pre style=\"white-space:pre;overflow-x:auto;line-height:normal;font-family:Menlo,'DejaVu Sans Mono',consolas,'Courier New',monospace\">Epoch: <span style=\"color: #008080; text-decoration-color: #008080; font-weight: bold\">62</span>, Train loss: <span style=\"color: #008080; text-decoration-color: #008080; font-weight: bold\">0.093</span>, Val loss: <span style=\"color: #008080; text-decoration-color: #008080; font-weight: bold\">0.102</span>, Epoch time = <span style=\"color: #008080; text-decoration-color: #008080; font-weight: bold\">92.</span>846s\n",
              "</pre>\n"
            ],
            "text/plain": [
              "Epoch: \u001b[1;36m62\u001b[0m, Train loss: \u001b[1;36m0.093\u001b[0m, Val loss: \u001b[1;36m0.102\u001b[0m, Epoch time = \u001b[1;36m92.\u001b[0m846s\n"
            ]
          },
          "metadata": {
            "tags": []
          }
        },
        {
          "output_type": "display_data",
          "data": {
            "text/html": [
              "<pre style=\"white-space:pre;overflow-x:auto;line-height:normal;font-family:Menlo,'DejaVu Sans Mono',consolas,'Courier New',monospace\">Epoch: <span style=\"color: #008080; text-decoration-color: #008080; font-weight: bold\">63</span>, Train loss: <span style=\"color: #008080; text-decoration-color: #008080; font-weight: bold\">0.092</span>, Val loss: <span style=\"color: #008080; text-decoration-color: #008080; font-weight: bold\">0.103</span>, Epoch time = <span style=\"color: #008080; text-decoration-color: #008080; font-weight: bold\">93.</span>391s\n",
              "</pre>\n"
            ],
            "text/plain": [
              "Epoch: \u001b[1;36m63\u001b[0m, Train loss: \u001b[1;36m0.092\u001b[0m, Val loss: \u001b[1;36m0.103\u001b[0m, Epoch time = \u001b[1;36m93.\u001b[0m391s\n"
            ]
          },
          "metadata": {
            "tags": []
          }
        },
        {
          "output_type": "display_data",
          "data": {
            "text/html": [
              "<pre style=\"white-space:pre;overflow-x:auto;line-height:normal;font-family:Menlo,'DejaVu Sans Mono',consolas,'Courier New',monospace\">Epoch: <span style=\"color: #008080; text-decoration-color: #008080; font-weight: bold\">64</span>, Train loss: <span style=\"color: #008080; text-decoration-color: #008080; font-weight: bold\">0.090</span>, Val loss: <span style=\"color: #008080; text-decoration-color: #008080; font-weight: bold\">0.102</span>, Epoch time = <span style=\"color: #008080; text-decoration-color: #008080; font-weight: bold\">93.</span>528s\n",
              "</pre>\n"
            ],
            "text/plain": [
              "Epoch: \u001b[1;36m64\u001b[0m, Train loss: \u001b[1;36m0.090\u001b[0m, Val loss: \u001b[1;36m0.102\u001b[0m, Epoch time = \u001b[1;36m93.\u001b[0m528s\n"
            ]
          },
          "metadata": {
            "tags": []
          }
        },
        {
          "output_type": "display_data",
          "data": {
            "text/html": [
              "<pre style=\"white-space:pre;overflow-x:auto;line-height:normal;font-family:Menlo,'DejaVu Sans Mono',consolas,'Courier New',monospace\">true\n",
              "</pre>\n"
            ],
            "text/plain": [
              "true\n"
            ]
          },
          "metadata": {
            "tags": []
          }
        },
        {
          "output_type": "display_data",
          "data": {
            "text/html": [
              "<pre style=\"white-space:pre;overflow-x:auto;line-height:normal;font-family:Menlo,'DejaVu Sans Mono',consolas,'Courier New',monospace\">=&gt; Saving checkpoint\n",
              "</pre>\n"
            ],
            "text/plain": [
              "=> Saving checkpoint\n"
            ]
          },
          "metadata": {
            "tags": []
          }
        },
        {
          "output_type": "display_data",
          "data": {
            "text/html": [
              "<pre style=\"white-space:pre;overflow-x:auto;line-height:normal;font-family:Menlo,'DejaVu Sans Mono',consolas,'Courier New',monospace\">Epoch: <span style=\"color: #008080; text-decoration-color: #008080; font-weight: bold\">65</span>, Train loss: <span style=\"color: #008080; text-decoration-color: #008080; font-weight: bold\">0.089</span>, Val loss: <span style=\"color: #008080; text-decoration-color: #008080; font-weight: bold\">0.102</span>, Epoch time = <span style=\"color: #008080; text-decoration-color: #008080; font-weight: bold\">93.</span>758s\n",
              "</pre>\n"
            ],
            "text/plain": [
              "Epoch: \u001b[1;36m65\u001b[0m, Train loss: \u001b[1;36m0.089\u001b[0m, Val loss: \u001b[1;36m0.102\u001b[0m, Epoch time = \u001b[1;36m93.\u001b[0m758s\n"
            ]
          },
          "metadata": {
            "tags": []
          }
        },
        {
          "output_type": "display_data",
          "data": {
            "text/html": [
              "<pre style=\"white-space:pre;overflow-x:auto;line-height:normal;font-family:Menlo,'DejaVu Sans Mono',consolas,'Courier New',monospace\">Epoch: <span style=\"color: #008080; text-decoration-color: #008080; font-weight: bold\">66</span>, Train loss: <span style=\"color: #008080; text-decoration-color: #008080; font-weight: bold\">0.087</span>, Val loss: <span style=\"color: #008080; text-decoration-color: #008080; font-weight: bold\">0.103</span>, Epoch time = <span style=\"color: #008080; text-decoration-color: #008080; font-weight: bold\">93.</span>329s\n",
              "</pre>\n"
            ],
            "text/plain": [
              "Epoch: \u001b[1;36m66\u001b[0m, Train loss: \u001b[1;36m0.087\u001b[0m, Val loss: \u001b[1;36m0.103\u001b[0m, Epoch time = \u001b[1;36m93.\u001b[0m329s\n"
            ]
          },
          "metadata": {
            "tags": []
          }
        },
        {
          "output_type": "display_data",
          "data": {
            "text/html": [
              "<pre style=\"white-space:pre;overflow-x:auto;line-height:normal;font-family:Menlo,'DejaVu Sans Mono',consolas,'Courier New',monospace\">Epoch: <span style=\"color: #008080; text-decoration-color: #008080; font-weight: bold\">67</span>, Train loss: <span style=\"color: #008080; text-decoration-color: #008080; font-weight: bold\">0.086</span>, Val loss: <span style=\"color: #008080; text-decoration-color: #008080; font-weight: bold\">0.102</span>, Epoch time = <span style=\"color: #008080; text-decoration-color: #008080; font-weight: bold\">93.</span>183s\n",
              "</pre>\n"
            ],
            "text/plain": [
              "Epoch: \u001b[1;36m67\u001b[0m, Train loss: \u001b[1;36m0.086\u001b[0m, Val loss: \u001b[1;36m0.102\u001b[0m, Epoch time = \u001b[1;36m93.\u001b[0m183s\n"
            ]
          },
          "metadata": {
            "tags": []
          }
        },
        {
          "output_type": "display_data",
          "data": {
            "text/html": [
              "<pre style=\"white-space:pre;overflow-x:auto;line-height:normal;font-family:Menlo,'DejaVu Sans Mono',consolas,'Courier New',monospace\">Epoch: <span style=\"color: #008080; text-decoration-color: #008080; font-weight: bold\">68</span>, Train loss: <span style=\"color: #008080; text-decoration-color: #008080; font-weight: bold\">0.085</span>, Val loss: <span style=\"color: #008080; text-decoration-color: #008080; font-weight: bold\">0.101</span>, Epoch time = <span style=\"color: #008080; text-decoration-color: #008080; font-weight: bold\">93.</span>836s\n",
              "</pre>\n"
            ],
            "text/plain": [
              "Epoch: \u001b[1;36m68\u001b[0m, Train loss: \u001b[1;36m0.085\u001b[0m, Val loss: \u001b[1;36m0.101\u001b[0m, Epoch time = \u001b[1;36m93.\u001b[0m836s\n"
            ]
          },
          "metadata": {
            "tags": []
          }
        },
        {
          "output_type": "display_data",
          "data": {
            "text/html": [
              "<pre style=\"white-space:pre;overflow-x:auto;line-height:normal;font-family:Menlo,'DejaVu Sans Mono',consolas,'Courier New',monospace\">Epoch: <span style=\"color: #008080; text-decoration-color: #008080; font-weight: bold\">69</span>, Train loss: <span style=\"color: #008080; text-decoration-color: #008080; font-weight: bold\">0.083</span>, Val loss: <span style=\"color: #008080; text-decoration-color: #008080; font-weight: bold\">0.102</span>, Epoch time = <span style=\"color: #008080; text-decoration-color: #008080; font-weight: bold\">93.</span>356s\n",
              "</pre>\n"
            ],
            "text/plain": [
              "Epoch: \u001b[1;36m69\u001b[0m, Train loss: \u001b[1;36m0.083\u001b[0m, Val loss: \u001b[1;36m0.102\u001b[0m, Epoch time = \u001b[1;36m93.\u001b[0m356s\n"
            ]
          },
          "metadata": {
            "tags": []
          }
        },
        {
          "output_type": "display_data",
          "data": {
            "text/html": [
              "<pre style=\"white-space:pre;overflow-x:auto;line-height:normal;font-family:Menlo,'DejaVu Sans Mono',consolas,'Courier New',monospace\">true\n",
              "</pre>\n"
            ],
            "text/plain": [
              "true\n"
            ]
          },
          "metadata": {
            "tags": []
          }
        },
        {
          "output_type": "display_data",
          "data": {
            "text/html": [
              "<pre style=\"white-space:pre;overflow-x:auto;line-height:normal;font-family:Menlo,'DejaVu Sans Mono',consolas,'Courier New',monospace\">=&gt; Saving checkpoint\n",
              "</pre>\n"
            ],
            "text/plain": [
              "=> Saving checkpoint\n"
            ]
          },
          "metadata": {
            "tags": []
          }
        },
        {
          "output_type": "display_data",
          "data": {
            "text/html": [
              "<pre style=\"white-space:pre;overflow-x:auto;line-height:normal;font-family:Menlo,'DejaVu Sans Mono',consolas,'Courier New',monospace\">Epoch: <span style=\"color: #008080; text-decoration-color: #008080; font-weight: bold\">70</span>, Train loss: <span style=\"color: #008080; text-decoration-color: #008080; font-weight: bold\">0.082</span>, Val loss: <span style=\"color: #008080; text-decoration-color: #008080; font-weight: bold\">0.098</span>, Epoch time = <span style=\"color: #008080; text-decoration-color: #008080; font-weight: bold\">93.</span>590s\n",
              "</pre>\n"
            ],
            "text/plain": [
              "Epoch: \u001b[1;36m70\u001b[0m, Train loss: \u001b[1;36m0.082\u001b[0m, Val loss: \u001b[1;36m0.098\u001b[0m, Epoch time = \u001b[1;36m93.\u001b[0m590s\n"
            ]
          },
          "metadata": {
            "tags": []
          }
        },
        {
          "output_type": "display_data",
          "data": {
            "text/html": [
              "<pre style=\"white-space:pre;overflow-x:auto;line-height:normal;font-family:Menlo,'DejaVu Sans Mono',consolas,'Courier New',monospace\">Epoch: <span style=\"color: #008080; text-decoration-color: #008080; font-weight: bold\">71</span>, Train loss: <span style=\"color: #008080; text-decoration-color: #008080; font-weight: bold\">0.081</span>, Val loss: <span style=\"color: #008080; text-decoration-color: #008080; font-weight: bold\">0.104</span>, Epoch time = <span style=\"color: #008080; text-decoration-color: #008080; font-weight: bold\">93.</span>680s\n",
              "</pre>\n"
            ],
            "text/plain": [
              "Epoch: \u001b[1;36m71\u001b[0m, Train loss: \u001b[1;36m0.081\u001b[0m, Val loss: \u001b[1;36m0.104\u001b[0m, Epoch time = \u001b[1;36m93.\u001b[0m680s\n"
            ]
          },
          "metadata": {
            "tags": []
          }
        },
        {
          "output_type": "display_data",
          "data": {
            "text/html": [
              "<pre style=\"white-space:pre;overflow-x:auto;line-height:normal;font-family:Menlo,'DejaVu Sans Mono',consolas,'Courier New',monospace\">Epoch: <span style=\"color: #008080; text-decoration-color: #008080; font-weight: bold\">72</span>, Train loss: <span style=\"color: #008080; text-decoration-color: #008080; font-weight: bold\">0.080</span>, Val loss: <span style=\"color: #008080; text-decoration-color: #008080; font-weight: bold\">0.100</span>, Epoch time = <span style=\"color: #008080; text-decoration-color: #008080; font-weight: bold\">93.</span>773s\n",
              "</pre>\n"
            ],
            "text/plain": [
              "Epoch: \u001b[1;36m72\u001b[0m, Train loss: \u001b[1;36m0.080\u001b[0m, Val loss: \u001b[1;36m0.100\u001b[0m, Epoch time = \u001b[1;36m93.\u001b[0m773s\n"
            ]
          },
          "metadata": {
            "tags": []
          }
        },
        {
          "output_type": "display_data",
          "data": {
            "text/html": [
              "<pre style=\"white-space:pre;overflow-x:auto;line-height:normal;font-family:Menlo,'DejaVu Sans Mono',consolas,'Courier New',monospace\">Epoch: <span style=\"color: #008080; text-decoration-color: #008080; font-weight: bold\">73</span>, Train loss: <span style=\"color: #008080; text-decoration-color: #008080; font-weight: bold\">0.078</span>, Val loss: <span style=\"color: #008080; text-decoration-color: #008080; font-weight: bold\">0.104</span>, Epoch time = <span style=\"color: #008080; text-decoration-color: #008080; font-weight: bold\">93.</span>061s\n",
              "</pre>\n"
            ],
            "text/plain": [
              "Epoch: \u001b[1;36m73\u001b[0m, Train loss: \u001b[1;36m0.078\u001b[0m, Val loss: \u001b[1;36m0.104\u001b[0m, Epoch time = \u001b[1;36m93.\u001b[0m061s\n"
            ]
          },
          "metadata": {
            "tags": []
          }
        },
        {
          "output_type": "display_data",
          "data": {
            "text/html": [
              "<pre style=\"white-space:pre;overflow-x:auto;line-height:normal;font-family:Menlo,'DejaVu Sans Mono',consolas,'Courier New',monospace\">Epoch: <span style=\"color: #008080; text-decoration-color: #008080; font-weight: bold\">74</span>, Train loss: <span style=\"color: #008080; text-decoration-color: #008080; font-weight: bold\">0.078</span>, Val loss: <span style=\"color: #008080; text-decoration-color: #008080; font-weight: bold\">0.100</span>, Epoch time = <span style=\"color: #008080; text-decoration-color: #008080; font-weight: bold\">93.</span>046s\n",
              "</pre>\n"
            ],
            "text/plain": [
              "Epoch: \u001b[1;36m74\u001b[0m, Train loss: \u001b[1;36m0.078\u001b[0m, Val loss: \u001b[1;36m0.100\u001b[0m, Epoch time = \u001b[1;36m93.\u001b[0m046s\n"
            ]
          },
          "metadata": {
            "tags": []
          }
        },
        {
          "output_type": "display_data",
          "data": {
            "text/html": [
              "<pre style=\"white-space:pre;overflow-x:auto;line-height:normal;font-family:Menlo,'DejaVu Sans Mono',consolas,'Courier New',monospace\">true\n",
              "</pre>\n"
            ],
            "text/plain": [
              "true\n"
            ]
          },
          "metadata": {
            "tags": []
          }
        },
        {
          "output_type": "display_data",
          "data": {
            "text/html": [
              "<pre style=\"white-space:pre;overflow-x:auto;line-height:normal;font-family:Menlo,'DejaVu Sans Mono',consolas,'Courier New',monospace\">=&gt; Saving checkpoint\n",
              "</pre>\n"
            ],
            "text/plain": [
              "=> Saving checkpoint\n"
            ]
          },
          "metadata": {
            "tags": []
          }
        },
        {
          "output_type": "display_data",
          "data": {
            "text/html": [
              "<pre style=\"white-space:pre;overflow-x:auto;line-height:normal;font-family:Menlo,'DejaVu Sans Mono',consolas,'Courier New',monospace\">Epoch: <span style=\"color: #008080; text-decoration-color: #008080; font-weight: bold\">75</span>, Train loss: <span style=\"color: #008080; text-decoration-color: #008080; font-weight: bold\">0.076</span>, Val loss: <span style=\"color: #008080; text-decoration-color: #008080; font-weight: bold\">0.100</span>, Epoch time = <span style=\"color: #008080; text-decoration-color: #008080; font-weight: bold\">93.</span>660s\n",
              "</pre>\n"
            ],
            "text/plain": [
              "Epoch: \u001b[1;36m75\u001b[0m, Train loss: \u001b[1;36m0.076\u001b[0m, Val loss: \u001b[1;36m0.100\u001b[0m, Epoch time = \u001b[1;36m93.\u001b[0m660s\n"
            ]
          },
          "metadata": {
            "tags": []
          }
        },
        {
          "output_type": "display_data",
          "data": {
            "text/html": [
              "<pre style=\"white-space:pre;overflow-x:auto;line-height:normal;font-family:Menlo,'DejaVu Sans Mono',consolas,'Courier New',monospace\">Epoch: <span style=\"color: #008080; text-decoration-color: #008080; font-weight: bold\">76</span>, Train loss: <span style=\"color: #008080; text-decoration-color: #008080; font-weight: bold\">0.076</span>, Val loss: <span style=\"color: #008080; text-decoration-color: #008080; font-weight: bold\">0.100</span>, Epoch time = <span style=\"color: #008080; text-decoration-color: #008080; font-weight: bold\">93.</span>019s\n",
              "</pre>\n"
            ],
            "text/plain": [
              "Epoch: \u001b[1;36m76\u001b[0m, Train loss: \u001b[1;36m0.076\u001b[0m, Val loss: \u001b[1;36m0.100\u001b[0m, Epoch time = \u001b[1;36m93.\u001b[0m019s\n"
            ]
          },
          "metadata": {
            "tags": []
          }
        },
        {
          "output_type": "display_data",
          "data": {
            "text/html": [
              "<pre style=\"white-space:pre;overflow-x:auto;line-height:normal;font-family:Menlo,'DejaVu Sans Mono',consolas,'Courier New',monospace\">Epoch: <span style=\"color: #008080; text-decoration-color: #008080; font-weight: bold\">77</span>, Train loss: <span style=\"color: #008080; text-decoration-color: #008080; font-weight: bold\">0.074</span>, Val loss: <span style=\"color: #008080; text-decoration-color: #008080; font-weight: bold\">0.100</span>, Epoch time = <span style=\"color: #008080; text-decoration-color: #008080; font-weight: bold\">94.</span>145s\n",
              "</pre>\n"
            ],
            "text/plain": [
              "Epoch: \u001b[1;36m77\u001b[0m, Train loss: \u001b[1;36m0.074\u001b[0m, Val loss: \u001b[1;36m0.100\u001b[0m, Epoch time = \u001b[1;36m94.\u001b[0m145s\n"
            ]
          },
          "metadata": {
            "tags": []
          }
        },
        {
          "output_type": "display_data",
          "data": {
            "text/html": [
              "<pre style=\"white-space:pre;overflow-x:auto;line-height:normal;font-family:Menlo,'DejaVu Sans Mono',consolas,'Courier New',monospace\">Epoch: <span style=\"color: #008080; text-decoration-color: #008080; font-weight: bold\">78</span>, Train loss: <span style=\"color: #008080; text-decoration-color: #008080; font-weight: bold\">0.074</span>, Val loss: <span style=\"color: #008080; text-decoration-color: #008080; font-weight: bold\">0.100</span>, Epoch time = <span style=\"color: #008080; text-decoration-color: #008080; font-weight: bold\">94.</span>432s\n",
              "</pre>\n"
            ],
            "text/plain": [
              "Epoch: \u001b[1;36m78\u001b[0m, Train loss: \u001b[1;36m0.074\u001b[0m, Val loss: \u001b[1;36m0.100\u001b[0m, Epoch time = \u001b[1;36m94.\u001b[0m432s\n"
            ]
          },
          "metadata": {
            "tags": []
          }
        },
        {
          "output_type": "display_data",
          "data": {
            "text/html": [
              "<pre style=\"white-space:pre;overflow-x:auto;line-height:normal;font-family:Menlo,'DejaVu Sans Mono',consolas,'Courier New',monospace\">Epoch: <span style=\"color: #008080; text-decoration-color: #008080; font-weight: bold\">79</span>, Train loss: <span style=\"color: #008080; text-decoration-color: #008080; font-weight: bold\">0.072</span>, Val loss: <span style=\"color: #008080; text-decoration-color: #008080; font-weight: bold\">0.098</span>, Epoch time = <span style=\"color: #008080; text-decoration-color: #008080; font-weight: bold\">93.</span>246s\n",
              "</pre>\n"
            ],
            "text/plain": [
              "Epoch: \u001b[1;36m79\u001b[0m, Train loss: \u001b[1;36m0.072\u001b[0m, Val loss: \u001b[1;36m0.098\u001b[0m, Epoch time = \u001b[1;36m93.\u001b[0m246s\n"
            ]
          },
          "metadata": {
            "tags": []
          }
        },
        {
          "output_type": "display_data",
          "data": {
            "text/html": [
              "<pre style=\"white-space:pre;overflow-x:auto;line-height:normal;font-family:Menlo,'DejaVu Sans Mono',consolas,'Courier New',monospace\">true\n",
              "</pre>\n"
            ],
            "text/plain": [
              "true\n"
            ]
          },
          "metadata": {
            "tags": []
          }
        },
        {
          "output_type": "display_data",
          "data": {
            "text/html": [
              "<pre style=\"white-space:pre;overflow-x:auto;line-height:normal;font-family:Menlo,'DejaVu Sans Mono',consolas,'Courier New',monospace\">=&gt; Saving checkpoint\n",
              "</pre>\n"
            ],
            "text/plain": [
              "=> Saving checkpoint\n"
            ]
          },
          "metadata": {
            "tags": []
          }
        },
        {
          "output_type": "display_data",
          "data": {
            "text/html": [
              "<pre style=\"white-space:pre;overflow-x:auto;line-height:normal;font-family:Menlo,'DejaVu Sans Mono',consolas,'Courier New',monospace\">Epoch: <span style=\"color: #008080; text-decoration-color: #008080; font-weight: bold\">80</span>, Train loss: <span style=\"color: #008080; text-decoration-color: #008080; font-weight: bold\">0.071</span>, Val loss: <span style=\"color: #008080; text-decoration-color: #008080; font-weight: bold\">0.100</span>, Epoch time = <span style=\"color: #008080; text-decoration-color: #008080; font-weight: bold\">93.</span>354s\n",
              "</pre>\n"
            ],
            "text/plain": [
              "Epoch: \u001b[1;36m80\u001b[0m, Train loss: \u001b[1;36m0.071\u001b[0m, Val loss: \u001b[1;36m0.100\u001b[0m, Epoch time = \u001b[1;36m93.\u001b[0m354s\n"
            ]
          },
          "metadata": {
            "tags": []
          }
        },
        {
          "output_type": "display_data",
          "data": {
            "text/html": [
              "<pre style=\"white-space:pre;overflow-x:auto;line-height:normal;font-family:Menlo,'DejaVu Sans Mono',consolas,'Courier New',monospace\">Epoch: <span style=\"color: #008080; text-decoration-color: #008080; font-weight: bold\">81</span>, Train loss: <span style=\"color: #008080; text-decoration-color: #008080; font-weight: bold\">0.070</span>, Val loss: <span style=\"color: #008080; text-decoration-color: #008080; font-weight: bold\">0.097</span>, Epoch time = <span style=\"color: #008080; text-decoration-color: #008080; font-weight: bold\">93.</span>521s\n",
              "</pre>\n"
            ],
            "text/plain": [
              "Epoch: \u001b[1;36m81\u001b[0m, Train loss: \u001b[1;36m0.070\u001b[0m, Val loss: \u001b[1;36m0.097\u001b[0m, Epoch time = \u001b[1;36m93.\u001b[0m521s\n"
            ]
          },
          "metadata": {
            "tags": []
          }
        },
        {
          "output_type": "display_data",
          "data": {
            "text/html": [
              "<pre style=\"white-space:pre;overflow-x:auto;line-height:normal;font-family:Menlo,'DejaVu Sans Mono',consolas,'Courier New',monospace\">Epoch: <span style=\"color: #008080; text-decoration-color: #008080; font-weight: bold\">82</span>, Train loss: <span style=\"color: #008080; text-decoration-color: #008080; font-weight: bold\">0.070</span>, Val loss: <span style=\"color: #008080; text-decoration-color: #008080; font-weight: bold\">0.100</span>, Epoch time = <span style=\"color: #008080; text-decoration-color: #008080; font-weight: bold\">92.</span>832s\n",
              "</pre>\n"
            ],
            "text/plain": [
              "Epoch: \u001b[1;36m82\u001b[0m, Train loss: \u001b[1;36m0.070\u001b[0m, Val loss: \u001b[1;36m0.100\u001b[0m, Epoch time = \u001b[1;36m92.\u001b[0m832s\n"
            ]
          },
          "metadata": {
            "tags": []
          }
        },
        {
          "output_type": "display_data",
          "data": {
            "text/html": [
              "<pre style=\"white-space:pre;overflow-x:auto;line-height:normal;font-family:Menlo,'DejaVu Sans Mono',consolas,'Courier New',monospace\">Epoch: <span style=\"color: #008080; text-decoration-color: #008080; font-weight: bold\">83</span>, Train loss: <span style=\"color: #008080; text-decoration-color: #008080; font-weight: bold\">0.069</span>, Val loss: <span style=\"color: #008080; text-decoration-color: #008080; font-weight: bold\">0.099</span>, Epoch time = <span style=\"color: #008080; text-decoration-color: #008080; font-weight: bold\">94.</span>307s\n",
              "</pre>\n"
            ],
            "text/plain": [
              "Epoch: \u001b[1;36m83\u001b[0m, Train loss: \u001b[1;36m0.069\u001b[0m, Val loss: \u001b[1;36m0.099\u001b[0m, Epoch time = \u001b[1;36m94.\u001b[0m307s\n"
            ]
          },
          "metadata": {
            "tags": []
          }
        },
        {
          "output_type": "display_data",
          "data": {
            "text/html": [
              "<pre style=\"white-space:pre;overflow-x:auto;line-height:normal;font-family:Menlo,'DejaVu Sans Mono',consolas,'Courier New',monospace\">Epoch: <span style=\"color: #008080; text-decoration-color: #008080; font-weight: bold\">84</span>, Train loss: <span style=\"color: #008080; text-decoration-color: #008080; font-weight: bold\">0.068</span>, Val loss: <span style=\"color: #008080; text-decoration-color: #008080; font-weight: bold\">0.100</span>, Epoch time = <span style=\"color: #008080; text-decoration-color: #008080; font-weight: bold\">93.</span>545s\n",
              "</pre>\n"
            ],
            "text/plain": [
              "Epoch: \u001b[1;36m84\u001b[0m, Train loss: \u001b[1;36m0.068\u001b[0m, Val loss: \u001b[1;36m0.100\u001b[0m, Epoch time = \u001b[1;36m93.\u001b[0m545s\n"
            ]
          },
          "metadata": {
            "tags": []
          }
        },
        {
          "output_type": "display_data",
          "data": {
            "text/html": [
              "<pre style=\"white-space:pre;overflow-x:auto;line-height:normal;font-family:Menlo,'DejaVu Sans Mono',consolas,'Courier New',monospace\">true\n",
              "</pre>\n"
            ],
            "text/plain": [
              "true\n"
            ]
          },
          "metadata": {
            "tags": []
          }
        },
        {
          "output_type": "display_data",
          "data": {
            "text/html": [
              "<pre style=\"white-space:pre;overflow-x:auto;line-height:normal;font-family:Menlo,'DejaVu Sans Mono',consolas,'Courier New',monospace\">=&gt; Saving checkpoint\n",
              "</pre>\n"
            ],
            "text/plain": [
              "=> Saving checkpoint\n"
            ]
          },
          "metadata": {
            "tags": []
          }
        },
        {
          "output_type": "display_data",
          "data": {
            "text/html": [
              "<pre style=\"white-space:pre;overflow-x:auto;line-height:normal;font-family:Menlo,'DejaVu Sans Mono',consolas,'Courier New',monospace\">Epoch: <span style=\"color: #008080; text-decoration-color: #008080; font-weight: bold\">85</span>, Train loss: <span style=\"color: #008080; text-decoration-color: #008080; font-weight: bold\">0.067</span>, Val loss: <span style=\"color: #008080; text-decoration-color: #008080; font-weight: bold\">0.103</span>, Epoch time = <span style=\"color: #008080; text-decoration-color: #008080; font-weight: bold\">93.</span>347s\n",
              "</pre>\n"
            ],
            "text/plain": [
              "Epoch: \u001b[1;36m85\u001b[0m, Train loss: \u001b[1;36m0.067\u001b[0m, Val loss: \u001b[1;36m0.103\u001b[0m, Epoch time = \u001b[1;36m93.\u001b[0m347s\n"
            ]
          },
          "metadata": {
            "tags": []
          }
        },
        {
          "output_type": "display_data",
          "data": {
            "text/html": [
              "<pre style=\"white-space:pre;overflow-x:auto;line-height:normal;font-family:Menlo,'DejaVu Sans Mono',consolas,'Courier New',monospace\">Epoch: <span style=\"color: #008080; text-decoration-color: #008080; font-weight: bold\">86</span>, Train loss: <span style=\"color: #008080; text-decoration-color: #008080; font-weight: bold\">0.066</span>, Val loss: <span style=\"color: #008080; text-decoration-color: #008080; font-weight: bold\">0.101</span>, Epoch time = <span style=\"color: #008080; text-decoration-color: #008080; font-weight: bold\">93.</span>420s\n",
              "</pre>\n"
            ],
            "text/plain": [
              "Epoch: \u001b[1;36m86\u001b[0m, Train loss: \u001b[1;36m0.066\u001b[0m, Val loss: \u001b[1;36m0.101\u001b[0m, Epoch time = \u001b[1;36m93.\u001b[0m420s\n"
            ]
          },
          "metadata": {
            "tags": []
          }
        },
        {
          "output_type": "display_data",
          "data": {
            "text/html": [
              "<pre style=\"white-space:pre;overflow-x:auto;line-height:normal;font-family:Menlo,'DejaVu Sans Mono',consolas,'Courier New',monospace\">Epoch: <span style=\"color: #008080; text-decoration-color: #008080; font-weight: bold\">87</span>, Train loss: <span style=\"color: #008080; text-decoration-color: #008080; font-weight: bold\">0.065</span>, Val loss: <span style=\"color: #008080; text-decoration-color: #008080; font-weight: bold\">0.104</span>, Epoch time = <span style=\"color: #008080; text-decoration-color: #008080; font-weight: bold\">93.</span>709s\n",
              "</pre>\n"
            ],
            "text/plain": [
              "Epoch: \u001b[1;36m87\u001b[0m, Train loss: \u001b[1;36m0.065\u001b[0m, Val loss: \u001b[1;36m0.104\u001b[0m, Epoch time = \u001b[1;36m93.\u001b[0m709s\n"
            ]
          },
          "metadata": {
            "tags": []
          }
        },
        {
          "output_type": "display_data",
          "data": {
            "text/html": [
              "<pre style=\"white-space:pre;overflow-x:auto;line-height:normal;font-family:Menlo,'DejaVu Sans Mono',consolas,'Courier New',monospace\">Epoch: <span style=\"color: #008080; text-decoration-color: #008080; font-weight: bold\">88</span>, Train loss: <span style=\"color: #008080; text-decoration-color: #008080; font-weight: bold\">0.064</span>, Val loss: <span style=\"color: #008080; text-decoration-color: #008080; font-weight: bold\">0.101</span>, Epoch time = <span style=\"color: #008080; text-decoration-color: #008080; font-weight: bold\">92.</span>937s\n",
              "</pre>\n"
            ],
            "text/plain": [
              "Epoch: \u001b[1;36m88\u001b[0m, Train loss: \u001b[1;36m0.064\u001b[0m, Val loss: \u001b[1;36m0.101\u001b[0m, Epoch time = \u001b[1;36m92.\u001b[0m937s\n"
            ]
          },
          "metadata": {
            "tags": []
          }
        },
        {
          "output_type": "display_data",
          "data": {
            "text/html": [
              "<pre style=\"white-space:pre;overflow-x:auto;line-height:normal;font-family:Menlo,'DejaVu Sans Mono',consolas,'Courier New',monospace\">Epoch: <span style=\"color: #008080; text-decoration-color: #008080; font-weight: bold\">89</span>, Train loss: <span style=\"color: #008080; text-decoration-color: #008080; font-weight: bold\">0.063</span>, Val loss: <span style=\"color: #008080; text-decoration-color: #008080; font-weight: bold\">0.100</span>, Epoch time = <span style=\"color: #008080; text-decoration-color: #008080; font-weight: bold\">93.</span>278s\n",
              "</pre>\n"
            ],
            "text/plain": [
              "Epoch: \u001b[1;36m89\u001b[0m, Train loss: \u001b[1;36m0.063\u001b[0m, Val loss: \u001b[1;36m0.100\u001b[0m, Epoch time = \u001b[1;36m93.\u001b[0m278s\n"
            ]
          },
          "metadata": {
            "tags": []
          }
        },
        {
          "output_type": "display_data",
          "data": {
            "text/html": [
              "<pre style=\"white-space:pre;overflow-x:auto;line-height:normal;font-family:Menlo,'DejaVu Sans Mono',consolas,'Courier New',monospace\">true\n",
              "</pre>\n"
            ],
            "text/plain": [
              "true\n"
            ]
          },
          "metadata": {
            "tags": []
          }
        },
        {
          "output_type": "display_data",
          "data": {
            "text/html": [
              "<pre style=\"white-space:pre;overflow-x:auto;line-height:normal;font-family:Menlo,'DejaVu Sans Mono',consolas,'Courier New',monospace\">=&gt; Saving checkpoint\n",
              "</pre>\n"
            ],
            "text/plain": [
              "=> Saving checkpoint\n"
            ]
          },
          "metadata": {
            "tags": []
          }
        },
        {
          "output_type": "display_data",
          "data": {
            "text/html": [
              "<pre style=\"white-space:pre;overflow-x:auto;line-height:normal;font-family:Menlo,'DejaVu Sans Mono',consolas,'Courier New',monospace\">Epoch: <span style=\"color: #008080; text-decoration-color: #008080; font-weight: bold\">90</span>, Train loss: <span style=\"color: #008080; text-decoration-color: #008080; font-weight: bold\">0.063</span>, Val loss: <span style=\"color: #008080; text-decoration-color: #008080; font-weight: bold\">0.100</span>, Epoch time = <span style=\"color: #008080; text-decoration-color: #008080; font-weight: bold\">94.</span>266s\n",
              "</pre>\n"
            ],
            "text/plain": [
              "Epoch: \u001b[1;36m90\u001b[0m, Train loss: \u001b[1;36m0.063\u001b[0m, Val loss: \u001b[1;36m0.100\u001b[0m, Epoch time = \u001b[1;36m94.\u001b[0m266s\n"
            ]
          },
          "metadata": {
            "tags": []
          }
        },
        {
          "output_type": "display_data",
          "data": {
            "text/html": [
              "<pre style=\"white-space:pre;overflow-x:auto;line-height:normal;font-family:Menlo,'DejaVu Sans Mono',consolas,'Courier New',monospace\">Epoch: <span style=\"color: #008080; text-decoration-color: #008080; font-weight: bold\">91</span>, Train loss: <span style=\"color: #008080; text-decoration-color: #008080; font-weight: bold\">0.062</span>, Val loss: <span style=\"color: #008080; text-decoration-color: #008080; font-weight: bold\">0.100</span>, Epoch time = <span style=\"color: #008080; text-decoration-color: #008080; font-weight: bold\">93.</span>676s\n",
              "</pre>\n"
            ],
            "text/plain": [
              "Epoch: \u001b[1;36m91\u001b[0m, Train loss: \u001b[1;36m0.062\u001b[0m, Val loss: \u001b[1;36m0.100\u001b[0m, Epoch time = \u001b[1;36m93.\u001b[0m676s\n"
            ]
          },
          "metadata": {
            "tags": []
          }
        },
        {
          "output_type": "display_data",
          "data": {
            "text/html": [
              "<pre style=\"white-space:pre;overflow-x:auto;line-height:normal;font-family:Menlo,'DejaVu Sans Mono',consolas,'Courier New',monospace\">Epoch: <span style=\"color: #008080; text-decoration-color: #008080; font-weight: bold\">92</span>, Train loss: <span style=\"color: #008080; text-decoration-color: #008080; font-weight: bold\">0.061</span>, Val loss: <span style=\"color: #008080; text-decoration-color: #008080; font-weight: bold\">0.100</span>, Epoch time = <span style=\"color: #008080; text-decoration-color: #008080; font-weight: bold\">92.</span>979s\n",
              "</pre>\n"
            ],
            "text/plain": [
              "Epoch: \u001b[1;36m92\u001b[0m, Train loss: \u001b[1;36m0.061\u001b[0m, Val loss: \u001b[1;36m0.100\u001b[0m, Epoch time = \u001b[1;36m92.\u001b[0m979s\n"
            ]
          },
          "metadata": {
            "tags": []
          }
        },
        {
          "output_type": "display_data",
          "data": {
            "text/html": [
              "<pre style=\"white-space:pre;overflow-x:auto;line-height:normal;font-family:Menlo,'DejaVu Sans Mono',consolas,'Courier New',monospace\">Epoch: <span style=\"color: #008080; text-decoration-color: #008080; font-weight: bold\">93</span>, Train loss: <span style=\"color: #008080; text-decoration-color: #008080; font-weight: bold\">0.061</span>, Val loss: <span style=\"color: #008080; text-decoration-color: #008080; font-weight: bold\">0.101</span>, Epoch time = <span style=\"color: #008080; text-decoration-color: #008080; font-weight: bold\">93.</span>907s\n",
              "</pre>\n"
            ],
            "text/plain": [
              "Epoch: \u001b[1;36m93\u001b[0m, Train loss: \u001b[1;36m0.061\u001b[0m, Val loss: \u001b[1;36m0.101\u001b[0m, Epoch time = \u001b[1;36m93.\u001b[0m907s\n"
            ]
          },
          "metadata": {
            "tags": []
          }
        },
        {
          "output_type": "display_data",
          "data": {
            "text/html": [
              "<pre style=\"white-space:pre;overflow-x:auto;line-height:normal;font-family:Menlo,'DejaVu Sans Mono',consolas,'Courier New',monospace\">Epoch: <span style=\"color: #008080; text-decoration-color: #008080; font-weight: bold\">94</span>, Train loss: <span style=\"color: #008080; text-decoration-color: #008080; font-weight: bold\">0.060</span>, Val loss: <span style=\"color: #008080; text-decoration-color: #008080; font-weight: bold\">0.100</span>, Epoch time = <span style=\"color: #008080; text-decoration-color: #008080; font-weight: bold\">92.</span>645s\n",
              "</pre>\n"
            ],
            "text/plain": [
              "Epoch: \u001b[1;36m94\u001b[0m, Train loss: \u001b[1;36m0.060\u001b[0m, Val loss: \u001b[1;36m0.100\u001b[0m, Epoch time = \u001b[1;36m92.\u001b[0m645s\n"
            ]
          },
          "metadata": {
            "tags": []
          }
        },
        {
          "output_type": "display_data",
          "data": {
            "text/html": [
              "<pre style=\"white-space:pre;overflow-x:auto;line-height:normal;font-family:Menlo,'DejaVu Sans Mono',consolas,'Courier New',monospace\">true\n",
              "</pre>\n"
            ],
            "text/plain": [
              "true\n"
            ]
          },
          "metadata": {
            "tags": []
          }
        },
        {
          "output_type": "display_data",
          "data": {
            "text/html": [
              "<pre style=\"white-space:pre;overflow-x:auto;line-height:normal;font-family:Menlo,'DejaVu Sans Mono',consolas,'Courier New',monospace\">=&gt; Saving checkpoint\n",
              "</pre>\n"
            ],
            "text/plain": [
              "=> Saving checkpoint\n"
            ]
          },
          "metadata": {
            "tags": []
          }
        },
        {
          "output_type": "display_data",
          "data": {
            "text/html": [
              "<pre style=\"white-space:pre;overflow-x:auto;line-height:normal;font-family:Menlo,'DejaVu Sans Mono',consolas,'Courier New',monospace\">Epoch: <span style=\"color: #008080; text-decoration-color: #008080; font-weight: bold\">95</span>, Train loss: <span style=\"color: #008080; text-decoration-color: #008080; font-weight: bold\">0.059</span>, Val loss: <span style=\"color: #008080; text-decoration-color: #008080; font-weight: bold\">0.104</span>, Epoch time = <span style=\"color: #008080; text-decoration-color: #008080; font-weight: bold\">93.</span>848s\n",
              "</pre>\n"
            ],
            "text/plain": [
              "Epoch: \u001b[1;36m95\u001b[0m, Train loss: \u001b[1;36m0.059\u001b[0m, Val loss: \u001b[1;36m0.104\u001b[0m, Epoch time = \u001b[1;36m93.\u001b[0m848s\n"
            ]
          },
          "metadata": {
            "tags": []
          }
        },
        {
          "output_type": "display_data",
          "data": {
            "text/html": [
              "<pre style=\"white-space:pre;overflow-x:auto;line-height:normal;font-family:Menlo,'DejaVu Sans Mono',consolas,'Courier New',monospace\">Epoch: <span style=\"color: #008080; text-decoration-color: #008080; font-weight: bold\">96</span>, Train loss: <span style=\"color: #008080; text-decoration-color: #008080; font-weight: bold\">0.058</span>, Val loss: <span style=\"color: #008080; text-decoration-color: #008080; font-weight: bold\">0.099</span>, Epoch time = <span style=\"color: #008080; text-decoration-color: #008080; font-weight: bold\">93.</span>423s\n",
              "</pre>\n"
            ],
            "text/plain": [
              "Epoch: \u001b[1;36m96\u001b[0m, Train loss: \u001b[1;36m0.058\u001b[0m, Val loss: \u001b[1;36m0.099\u001b[0m, Epoch time = \u001b[1;36m93.\u001b[0m423s\n"
            ]
          },
          "metadata": {
            "tags": []
          }
        },
        {
          "output_type": "display_data",
          "data": {
            "text/html": [
              "<pre style=\"white-space:pre;overflow-x:auto;line-height:normal;font-family:Menlo,'DejaVu Sans Mono',consolas,'Courier New',monospace\">Epoch: <span style=\"color: #008080; text-decoration-color: #008080; font-weight: bold\">97</span>, Train loss: <span style=\"color: #008080; text-decoration-color: #008080; font-weight: bold\">0.057</span>, Val loss: <span style=\"color: #008080; text-decoration-color: #008080; font-weight: bold\">0.099</span>, Epoch time = <span style=\"color: #008080; text-decoration-color: #008080; font-weight: bold\">93.</span>642s\n",
              "</pre>\n"
            ],
            "text/plain": [
              "Epoch: \u001b[1;36m97\u001b[0m, Train loss: \u001b[1;36m0.057\u001b[0m, Val loss: \u001b[1;36m0.099\u001b[0m, Epoch time = \u001b[1;36m93.\u001b[0m642s\n"
            ]
          },
          "metadata": {
            "tags": []
          }
        },
        {
          "output_type": "display_data",
          "data": {
            "text/html": [
              "<pre style=\"white-space:pre;overflow-x:auto;line-height:normal;font-family:Menlo,'DejaVu Sans Mono',consolas,'Courier New',monospace\">Epoch: <span style=\"color: #008080; text-decoration-color: #008080; font-weight: bold\">98</span>, Train loss: <span style=\"color: #008080; text-decoration-color: #008080; font-weight: bold\">0.057</span>, Val loss: <span style=\"color: #008080; text-decoration-color: #008080; font-weight: bold\">0.102</span>, Epoch time = <span style=\"color: #008080; text-decoration-color: #008080; font-weight: bold\">93.</span>456s\n",
              "</pre>\n"
            ],
            "text/plain": [
              "Epoch: \u001b[1;36m98\u001b[0m, Train loss: \u001b[1;36m0.057\u001b[0m, Val loss: \u001b[1;36m0.102\u001b[0m, Epoch time = \u001b[1;36m93.\u001b[0m456s\n"
            ]
          },
          "metadata": {
            "tags": []
          }
        },
        {
          "output_type": "display_data",
          "data": {
            "text/html": [
              "<pre style=\"white-space:pre;overflow-x:auto;line-height:normal;font-family:Menlo,'DejaVu Sans Mono',consolas,'Courier New',monospace\">Epoch: <span style=\"color: #008080; text-decoration-color: #008080; font-weight: bold\">99</span>, Train loss: <span style=\"color: #008080; text-decoration-color: #008080; font-weight: bold\">0.056</span>, Val loss: <span style=\"color: #008080; text-decoration-color: #008080; font-weight: bold\">0.102</span>, Epoch time = <span style=\"color: #008080; text-decoration-color: #008080; font-weight: bold\">93.</span>593s\n",
              "</pre>\n"
            ],
            "text/plain": [
              "Epoch: \u001b[1;36m99\u001b[0m, Train loss: \u001b[1;36m0.056\u001b[0m, Val loss: \u001b[1;36m0.102\u001b[0m, Epoch time = \u001b[1;36m93.\u001b[0m593s\n"
            ]
          },
          "metadata": {
            "tags": []
          }
        },
        {
          "output_type": "display_data",
          "data": {
            "text/html": [
              "<pre style=\"white-space:pre;overflow-x:auto;line-height:normal;font-family:Menlo,'DejaVu Sans Mono',consolas,'Courier New',monospace\">true\n",
              "</pre>\n"
            ],
            "text/plain": [
              "true\n"
            ]
          },
          "metadata": {
            "tags": []
          }
        },
        {
          "output_type": "display_data",
          "data": {
            "text/html": [
              "<pre style=\"white-space:pre;overflow-x:auto;line-height:normal;font-family:Menlo,'DejaVu Sans Mono',consolas,'Courier New',monospace\">=&gt; Saving checkpoint\n",
              "</pre>\n"
            ],
            "text/plain": [
              "=> Saving checkpoint\n"
            ]
          },
          "metadata": {
            "tags": []
          }
        },
        {
          "output_type": "display_data",
          "data": {
            "text/html": [
              "<pre style=\"white-space:pre;overflow-x:auto;line-height:normal;font-family:Menlo,'DejaVu Sans Mono',consolas,'Courier New',monospace\">Epoch: <span style=\"color: #008080; text-decoration-color: #008080; font-weight: bold\">100</span>, Train loss: <span style=\"color: #008080; text-decoration-color: #008080; font-weight: bold\">0.056</span>, Val loss: <span style=\"color: #008080; text-decoration-color: #008080; font-weight: bold\">0.101</span>, Epoch time = <span style=\"color: #008080; text-decoration-color: #008080; font-weight: bold\">93.</span>324s\n",
              "</pre>\n"
            ],
            "text/plain": [
              "Epoch: \u001b[1;36m100\u001b[0m, Train loss: \u001b[1;36m0.056\u001b[0m, Val loss: \u001b[1;36m0.101\u001b[0m, Epoch time = \u001b[1;36m93.\u001b[0m324s\n"
            ]
          },
          "metadata": {
            "tags": []
          }
        },
        {
          "output_type": "display_data",
          "data": {
            "text/html": [
              "<pre style=\"white-space:pre;overflow-x:auto;line-height:normal;font-family:Menlo,'DejaVu Sans Mono',consolas,'Courier New',monospace\">Epoch: <span style=\"color: #008080; text-decoration-color: #008080; font-weight: bold\">101</span>, Train loss: <span style=\"color: #008080; text-decoration-color: #008080; font-weight: bold\">0.055</span>, Val loss: <span style=\"color: #008080; text-decoration-color: #008080; font-weight: bold\">0.100</span>, Epoch time = <span style=\"color: #008080; text-decoration-color: #008080; font-weight: bold\">94.</span>097s\n",
              "</pre>\n"
            ],
            "text/plain": [
              "Epoch: \u001b[1;36m101\u001b[0m, Train loss: \u001b[1;36m0.055\u001b[0m, Val loss: \u001b[1;36m0.100\u001b[0m, Epoch time = \u001b[1;36m94.\u001b[0m097s\n"
            ]
          },
          "metadata": {
            "tags": []
          }
        },
        {
          "output_type": "display_data",
          "data": {
            "text/html": [
              "<pre style=\"white-space:pre;overflow-x:auto;line-height:normal;font-family:Menlo,'DejaVu Sans Mono',consolas,'Courier New',monospace\">Epoch: <span style=\"color: #008080; text-decoration-color: #008080; font-weight: bold\">102</span>, Train loss: <span style=\"color: #008080; text-decoration-color: #008080; font-weight: bold\">0.055</span>, Val loss: <span style=\"color: #008080; text-decoration-color: #008080; font-weight: bold\">0.101</span>, Epoch time = <span style=\"color: #008080; text-decoration-color: #008080; font-weight: bold\">93.</span>456s\n",
              "</pre>\n"
            ],
            "text/plain": [
              "Epoch: \u001b[1;36m102\u001b[0m, Train loss: \u001b[1;36m0.055\u001b[0m, Val loss: \u001b[1;36m0.101\u001b[0m, Epoch time = \u001b[1;36m93.\u001b[0m456s\n"
            ]
          },
          "metadata": {
            "tags": []
          }
        },
        {
          "output_type": "display_data",
          "data": {
            "text/html": [
              "<pre style=\"white-space:pre;overflow-x:auto;line-height:normal;font-family:Menlo,'DejaVu Sans Mono',consolas,'Courier New',monospace\">Epoch: <span style=\"color: #008080; text-decoration-color: #008080; font-weight: bold\">103</span>, Train loss: <span style=\"color: #008080; text-decoration-color: #008080; font-weight: bold\">0.054</span>, Val loss: <span style=\"color: #008080; text-decoration-color: #008080; font-weight: bold\">0.101</span>, Epoch time = <span style=\"color: #008080; text-decoration-color: #008080; font-weight: bold\">93.</span>520s\n",
              "</pre>\n"
            ],
            "text/plain": [
              "Epoch: \u001b[1;36m103\u001b[0m, Train loss: \u001b[1;36m0.054\u001b[0m, Val loss: \u001b[1;36m0.101\u001b[0m, Epoch time = \u001b[1;36m93.\u001b[0m520s\n"
            ]
          },
          "metadata": {
            "tags": []
          }
        },
        {
          "output_type": "display_data",
          "data": {
            "text/html": [
              "<pre style=\"white-space:pre;overflow-x:auto;line-height:normal;font-family:Menlo,'DejaVu Sans Mono',consolas,'Courier New',monospace\">Epoch: <span style=\"color: #008080; text-decoration-color: #008080; font-weight: bold\">104</span>, Train loss: <span style=\"color: #008080; text-decoration-color: #008080; font-weight: bold\">0.053</span>, Val loss: <span style=\"color: #008080; text-decoration-color: #008080; font-weight: bold\">0.102</span>, Epoch time = <span style=\"color: #008080; text-decoration-color: #008080; font-weight: bold\">93.</span>316s\n",
              "</pre>\n"
            ],
            "text/plain": [
              "Epoch: \u001b[1;36m104\u001b[0m, Train loss: \u001b[1;36m0.053\u001b[0m, Val loss: \u001b[1;36m0.102\u001b[0m, Epoch time = \u001b[1;36m93.\u001b[0m316s\n"
            ]
          },
          "metadata": {
            "tags": []
          }
        },
        {
          "output_type": "display_data",
          "data": {
            "text/html": [
              "<pre style=\"white-space:pre;overflow-x:auto;line-height:normal;font-family:Menlo,'DejaVu Sans Mono',consolas,'Courier New',monospace\">true\n",
              "</pre>\n"
            ],
            "text/plain": [
              "true\n"
            ]
          },
          "metadata": {
            "tags": []
          }
        },
        {
          "output_type": "display_data",
          "data": {
            "text/html": [
              "<pre style=\"white-space:pre;overflow-x:auto;line-height:normal;font-family:Menlo,'DejaVu Sans Mono',consolas,'Courier New',monospace\">=&gt; Saving checkpoint\n",
              "</pre>\n"
            ],
            "text/plain": [
              "=> Saving checkpoint\n"
            ]
          },
          "metadata": {
            "tags": []
          }
        },
        {
          "output_type": "display_data",
          "data": {
            "text/html": [
              "<pre style=\"white-space:pre;overflow-x:auto;line-height:normal;font-family:Menlo,'DejaVu Sans Mono',consolas,'Courier New',monospace\">Epoch: <span style=\"color: #008080; text-decoration-color: #008080; font-weight: bold\">105</span>, Train loss: <span style=\"color: #008080; text-decoration-color: #008080; font-weight: bold\">0.052</span>, Val loss: <span style=\"color: #008080; text-decoration-color: #008080; font-weight: bold\">0.100</span>, Epoch time = <span style=\"color: #008080; text-decoration-color: #008080; font-weight: bold\">94.</span>374s\n",
              "</pre>\n"
            ],
            "text/plain": [
              "Epoch: \u001b[1;36m105\u001b[0m, Train loss: \u001b[1;36m0.052\u001b[0m, Val loss: \u001b[1;36m0.100\u001b[0m, Epoch time = \u001b[1;36m94.\u001b[0m374s\n"
            ]
          },
          "metadata": {
            "tags": []
          }
        },
        {
          "output_type": "display_data",
          "data": {
            "text/html": [
              "<pre style=\"white-space:pre;overflow-x:auto;line-height:normal;font-family:Menlo,'DejaVu Sans Mono',consolas,'Courier New',monospace\">Epoch: <span style=\"color: #008080; text-decoration-color: #008080; font-weight: bold\">106</span>, Train loss: <span style=\"color: #008080; text-decoration-color: #008080; font-weight: bold\">0.052</span>, Val loss: <span style=\"color: #008080; text-decoration-color: #008080; font-weight: bold\">0.105</span>, Epoch time = <span style=\"color: #008080; text-decoration-color: #008080; font-weight: bold\">94.</span>441s\n",
              "</pre>\n"
            ],
            "text/plain": [
              "Epoch: \u001b[1;36m106\u001b[0m, Train loss: \u001b[1;36m0.052\u001b[0m, Val loss: \u001b[1;36m0.105\u001b[0m, Epoch time = \u001b[1;36m94.\u001b[0m441s\n"
            ]
          },
          "metadata": {
            "tags": []
          }
        },
        {
          "output_type": "display_data",
          "data": {
            "text/html": [
              "<pre style=\"white-space:pre;overflow-x:auto;line-height:normal;font-family:Menlo,'DejaVu Sans Mono',consolas,'Courier New',monospace\">Epoch: <span style=\"color: #008080; text-decoration-color: #008080; font-weight: bold\">107</span>, Train loss: <span style=\"color: #008080; text-decoration-color: #008080; font-weight: bold\">0.051</span>, Val loss: <span style=\"color: #008080; text-decoration-color: #008080; font-weight: bold\">0.103</span>, Epoch time = <span style=\"color: #008080; text-decoration-color: #008080; font-weight: bold\">93.</span>422s\n",
              "</pre>\n"
            ],
            "text/plain": [
              "Epoch: \u001b[1;36m107\u001b[0m, Train loss: \u001b[1;36m0.051\u001b[0m, Val loss: \u001b[1;36m0.103\u001b[0m, Epoch time = \u001b[1;36m93.\u001b[0m422s\n"
            ]
          },
          "metadata": {
            "tags": []
          }
        },
        {
          "output_type": "display_data",
          "data": {
            "text/html": [
              "<pre style=\"white-space:pre;overflow-x:auto;line-height:normal;font-family:Menlo,'DejaVu Sans Mono',consolas,'Courier New',monospace\">Epoch: <span style=\"color: #008080; text-decoration-color: #008080; font-weight: bold\">108</span>, Train loss: <span style=\"color: #008080; text-decoration-color: #008080; font-weight: bold\">0.051</span>, Val loss: <span style=\"color: #008080; text-decoration-color: #008080; font-weight: bold\">0.104</span>, Epoch time = <span style=\"color: #008080; text-decoration-color: #008080; font-weight: bold\">93.</span>919s\n",
              "</pre>\n"
            ],
            "text/plain": [
              "Epoch: \u001b[1;36m108\u001b[0m, Train loss: \u001b[1;36m0.051\u001b[0m, Val loss: \u001b[1;36m0.104\u001b[0m, Epoch time = \u001b[1;36m93.\u001b[0m919s\n"
            ]
          },
          "metadata": {
            "tags": []
          }
        },
        {
          "output_type": "display_data",
          "data": {
            "text/html": [
              "<pre style=\"white-space:pre;overflow-x:auto;line-height:normal;font-family:Menlo,'DejaVu Sans Mono',consolas,'Courier New',monospace\">Epoch: <span style=\"color: #008080; text-decoration-color: #008080; font-weight: bold\">109</span>, Train loss: <span style=\"color: #008080; text-decoration-color: #008080; font-weight: bold\">0.050</span>, Val loss: <span style=\"color: #008080; text-decoration-color: #008080; font-weight: bold\">0.101</span>, Epoch time = <span style=\"color: #008080; text-decoration-color: #008080; font-weight: bold\">93.</span>477s\n",
              "</pre>\n"
            ],
            "text/plain": [
              "Epoch: \u001b[1;36m109\u001b[0m, Train loss: \u001b[1;36m0.050\u001b[0m, Val loss: \u001b[1;36m0.101\u001b[0m, Epoch time = \u001b[1;36m93.\u001b[0m477s\n"
            ]
          },
          "metadata": {
            "tags": []
          }
        },
        {
          "output_type": "display_data",
          "data": {
            "text/html": [
              "<pre style=\"white-space:pre;overflow-x:auto;line-height:normal;font-family:Menlo,'DejaVu Sans Mono',consolas,'Courier New',monospace\">true\n",
              "</pre>\n"
            ],
            "text/plain": [
              "true\n"
            ]
          },
          "metadata": {
            "tags": []
          }
        },
        {
          "output_type": "display_data",
          "data": {
            "text/html": [
              "<pre style=\"white-space:pre;overflow-x:auto;line-height:normal;font-family:Menlo,'DejaVu Sans Mono',consolas,'Courier New',monospace\">=&gt; Saving checkpoint\n",
              "</pre>\n"
            ],
            "text/plain": [
              "=> Saving checkpoint\n"
            ]
          },
          "metadata": {
            "tags": []
          }
        },
        {
          "output_type": "display_data",
          "data": {
            "text/html": [
              "<pre style=\"white-space:pre;overflow-x:auto;line-height:normal;font-family:Menlo,'DejaVu Sans Mono',consolas,'Courier New',monospace\">Epoch: <span style=\"color: #008080; text-decoration-color: #008080; font-weight: bold\">110</span>, Train loss: <span style=\"color: #008080; text-decoration-color: #008080; font-weight: bold\">0.050</span>, Val loss: <span style=\"color: #008080; text-decoration-color: #008080; font-weight: bold\">0.101</span>, Epoch time = <span style=\"color: #008080; text-decoration-color: #008080; font-weight: bold\">93.</span>033s\n",
              "</pre>\n"
            ],
            "text/plain": [
              "Epoch: \u001b[1;36m110\u001b[0m, Train loss: \u001b[1;36m0.050\u001b[0m, Val loss: \u001b[1;36m0.101\u001b[0m, Epoch time = \u001b[1;36m93.\u001b[0m033s\n"
            ]
          },
          "metadata": {
            "tags": []
          }
        },
        {
          "output_type": "display_data",
          "data": {
            "text/html": [
              "<pre style=\"white-space:pre;overflow-x:auto;line-height:normal;font-family:Menlo,'DejaVu Sans Mono',consolas,'Courier New',monospace\">Epoch: <span style=\"color: #008080; text-decoration-color: #008080; font-weight: bold\">111</span>, Train loss: <span style=\"color: #008080; text-decoration-color: #008080; font-weight: bold\">0.049</span>, Val loss: <span style=\"color: #008080; text-decoration-color: #008080; font-weight: bold\">0.101</span>, Epoch time = <span style=\"color: #008080; text-decoration-color: #008080; font-weight: bold\">93.</span>131s\n",
              "</pre>\n"
            ],
            "text/plain": [
              "Epoch: \u001b[1;36m111\u001b[0m, Train loss: \u001b[1;36m0.049\u001b[0m, Val loss: \u001b[1;36m0.101\u001b[0m, Epoch time = \u001b[1;36m93.\u001b[0m131s\n"
            ]
          },
          "metadata": {
            "tags": []
          }
        },
        {
          "output_type": "display_data",
          "data": {
            "text/html": [
              "<pre style=\"white-space:pre;overflow-x:auto;line-height:normal;font-family:Menlo,'DejaVu Sans Mono',consolas,'Courier New',monospace\">Epoch: <span style=\"color: #008080; text-decoration-color: #008080; font-weight: bold\">112</span>, Train loss: <span style=\"color: #008080; text-decoration-color: #008080; font-weight: bold\">0.048</span>, Val loss: <span style=\"color: #008080; text-decoration-color: #008080; font-weight: bold\">0.104</span>, Epoch time = <span style=\"color: #008080; text-decoration-color: #008080; font-weight: bold\">93.</span>178s\n",
              "</pre>\n"
            ],
            "text/plain": [
              "Epoch: \u001b[1;36m112\u001b[0m, Train loss: \u001b[1;36m0.048\u001b[0m, Val loss: \u001b[1;36m0.104\u001b[0m, Epoch time = \u001b[1;36m93.\u001b[0m178s\n"
            ]
          },
          "metadata": {
            "tags": []
          }
        },
        {
          "output_type": "display_data",
          "data": {
            "text/html": [
              "<pre style=\"white-space:pre;overflow-x:auto;line-height:normal;font-family:Menlo,'DejaVu Sans Mono',consolas,'Courier New',monospace\">Epoch: <span style=\"color: #008080; text-decoration-color: #008080; font-weight: bold\">113</span>, Train loss: <span style=\"color: #008080; text-decoration-color: #008080; font-weight: bold\">0.048</span>, Val loss: <span style=\"color: #008080; text-decoration-color: #008080; font-weight: bold\">0.105</span>, Epoch time = <span style=\"color: #008080; text-decoration-color: #008080; font-weight: bold\">92.</span>991s\n",
              "</pre>\n"
            ],
            "text/plain": [
              "Epoch: \u001b[1;36m113\u001b[0m, Train loss: \u001b[1;36m0.048\u001b[0m, Val loss: \u001b[1;36m0.105\u001b[0m, Epoch time = \u001b[1;36m92.\u001b[0m991s\n"
            ]
          },
          "metadata": {
            "tags": []
          }
        },
        {
          "output_type": "display_data",
          "data": {
            "text/html": [
              "<pre style=\"white-space:pre;overflow-x:auto;line-height:normal;font-family:Menlo,'DejaVu Sans Mono',consolas,'Courier New',monospace\">Epoch: <span style=\"color: #008080; text-decoration-color: #008080; font-weight: bold\">114</span>, Train loss: <span style=\"color: #008080; text-decoration-color: #008080; font-weight: bold\">0.048</span>, Val loss: <span style=\"color: #008080; text-decoration-color: #008080; font-weight: bold\">0.107</span>, Epoch time = <span style=\"color: #008080; text-decoration-color: #008080; font-weight: bold\">93.</span>879s\n",
              "</pre>\n"
            ],
            "text/plain": [
              "Epoch: \u001b[1;36m114\u001b[0m, Train loss: \u001b[1;36m0.048\u001b[0m, Val loss: \u001b[1;36m0.107\u001b[0m, Epoch time = \u001b[1;36m93.\u001b[0m879s\n"
            ]
          },
          "metadata": {
            "tags": []
          }
        },
        {
          "output_type": "display_data",
          "data": {
            "text/html": [
              "<pre style=\"white-space:pre;overflow-x:auto;line-height:normal;font-family:Menlo,'DejaVu Sans Mono',consolas,'Courier New',monospace\">true\n",
              "</pre>\n"
            ],
            "text/plain": [
              "true\n"
            ]
          },
          "metadata": {
            "tags": []
          }
        },
        {
          "output_type": "display_data",
          "data": {
            "text/html": [
              "<pre style=\"white-space:pre;overflow-x:auto;line-height:normal;font-family:Menlo,'DejaVu Sans Mono',consolas,'Courier New',monospace\">=&gt; Saving checkpoint\n",
              "</pre>\n"
            ],
            "text/plain": [
              "=> Saving checkpoint\n"
            ]
          },
          "metadata": {
            "tags": []
          }
        },
        {
          "output_type": "display_data",
          "data": {
            "text/html": [
              "<pre style=\"white-space:pre;overflow-x:auto;line-height:normal;font-family:Menlo,'DejaVu Sans Mono',consolas,'Courier New',monospace\">Epoch: <span style=\"color: #008080; text-decoration-color: #008080; font-weight: bold\">115</span>, Train loss: <span style=\"color: #008080; text-decoration-color: #008080; font-weight: bold\">0.047</span>, Val loss: <span style=\"color: #008080; text-decoration-color: #008080; font-weight: bold\">0.102</span>, Epoch time = <span style=\"color: #008080; text-decoration-color: #008080; font-weight: bold\">94.</span>474s\n",
              "</pre>\n"
            ],
            "text/plain": [
              "Epoch: \u001b[1;36m115\u001b[0m, Train loss: \u001b[1;36m0.047\u001b[0m, Val loss: \u001b[1;36m0.102\u001b[0m, Epoch time = \u001b[1;36m94.\u001b[0m474s\n"
            ]
          },
          "metadata": {
            "tags": []
          }
        },
        {
          "output_type": "display_data",
          "data": {
            "text/html": [
              "<pre style=\"white-space:pre;overflow-x:auto;line-height:normal;font-family:Menlo,'DejaVu Sans Mono',consolas,'Courier New',monospace\">Epoch: <span style=\"color: #008080; text-decoration-color: #008080; font-weight: bold\">116</span>, Train loss: <span style=\"color: #008080; text-decoration-color: #008080; font-weight: bold\">0.047</span>, Val loss: <span style=\"color: #008080; text-decoration-color: #008080; font-weight: bold\">0.104</span>, Epoch time = <span style=\"color: #008080; text-decoration-color: #008080; font-weight: bold\">93.</span>521s\n",
              "</pre>\n"
            ],
            "text/plain": [
              "Epoch: \u001b[1;36m116\u001b[0m, Train loss: \u001b[1;36m0.047\u001b[0m, Val loss: \u001b[1;36m0.104\u001b[0m, Epoch time = \u001b[1;36m93.\u001b[0m521s\n"
            ]
          },
          "metadata": {
            "tags": []
          }
        },
        {
          "output_type": "display_data",
          "data": {
            "text/html": [
              "<pre style=\"white-space:pre;overflow-x:auto;line-height:normal;font-family:Menlo,'DejaVu Sans Mono',consolas,'Courier New',monospace\">Epoch: <span style=\"color: #008080; text-decoration-color: #008080; font-weight: bold\">117</span>, Train loss: <span style=\"color: #008080; text-decoration-color: #008080; font-weight: bold\">0.046</span>, Val loss: <span style=\"color: #008080; text-decoration-color: #008080; font-weight: bold\">0.105</span>, Epoch time = <span style=\"color: #008080; text-decoration-color: #008080; font-weight: bold\">92.</span>985s\n",
              "</pre>\n"
            ],
            "text/plain": [
              "Epoch: \u001b[1;36m117\u001b[0m, Train loss: \u001b[1;36m0.046\u001b[0m, Val loss: \u001b[1;36m0.105\u001b[0m, Epoch time = \u001b[1;36m92.\u001b[0m985s\n"
            ]
          },
          "metadata": {
            "tags": []
          }
        },
        {
          "output_type": "display_data",
          "data": {
            "text/html": [
              "<pre style=\"white-space:pre;overflow-x:auto;line-height:normal;font-family:Menlo,'DejaVu Sans Mono',consolas,'Courier New',monospace\">Epoch: <span style=\"color: #008080; text-decoration-color: #008080; font-weight: bold\">118</span>, Train loss: <span style=\"color: #008080; text-decoration-color: #008080; font-weight: bold\">0.046</span>, Val loss: <span style=\"color: #008080; text-decoration-color: #008080; font-weight: bold\">0.105</span>, Epoch time = <span style=\"color: #008080; text-decoration-color: #008080; font-weight: bold\">93.</span>396s\n",
              "</pre>\n"
            ],
            "text/plain": [
              "Epoch: \u001b[1;36m118\u001b[0m, Train loss: \u001b[1;36m0.046\u001b[0m, Val loss: \u001b[1;36m0.105\u001b[0m, Epoch time = \u001b[1;36m93.\u001b[0m396s\n"
            ]
          },
          "metadata": {
            "tags": []
          }
        },
        {
          "output_type": "display_data",
          "data": {
            "text/html": [
              "<pre style=\"white-space:pre;overflow-x:auto;line-height:normal;font-family:Menlo,'DejaVu Sans Mono',consolas,'Courier New',monospace\">Epoch: <span style=\"color: #008080; text-decoration-color: #008080; font-weight: bold\">119</span>, Train loss: <span style=\"color: #008080; text-decoration-color: #008080; font-weight: bold\">0.046</span>, Val loss: <span style=\"color: #008080; text-decoration-color: #008080; font-weight: bold\">0.104</span>, Epoch time = <span style=\"color: #008080; text-decoration-color: #008080; font-weight: bold\">93.</span>532s\n",
              "</pre>\n"
            ],
            "text/plain": [
              "Epoch: \u001b[1;36m119\u001b[0m, Train loss: \u001b[1;36m0.046\u001b[0m, Val loss: \u001b[1;36m0.104\u001b[0m, Epoch time = \u001b[1;36m93.\u001b[0m532s\n"
            ]
          },
          "metadata": {
            "tags": []
          }
        },
        {
          "output_type": "display_data",
          "data": {
            "text/html": [
              "<pre style=\"white-space:pre;overflow-x:auto;line-height:normal;font-family:Menlo,'DejaVu Sans Mono',consolas,'Courier New',monospace\">true\n",
              "</pre>\n"
            ],
            "text/plain": [
              "true\n"
            ]
          },
          "metadata": {
            "tags": []
          }
        },
        {
          "output_type": "display_data",
          "data": {
            "text/html": [
              "<pre style=\"white-space:pre;overflow-x:auto;line-height:normal;font-family:Menlo,'DejaVu Sans Mono',consolas,'Courier New',monospace\">=&gt; Saving checkpoint\n",
              "</pre>\n"
            ],
            "text/plain": [
              "=> Saving checkpoint\n"
            ]
          },
          "metadata": {
            "tags": []
          }
        },
        {
          "output_type": "display_data",
          "data": {
            "text/html": [
              "<pre style=\"white-space:pre;overflow-x:auto;line-height:normal;font-family:Menlo,'DejaVu Sans Mono',consolas,'Courier New',monospace\">Epoch: <span style=\"color: #008080; text-decoration-color: #008080; font-weight: bold\">120</span>, Train loss: <span style=\"color: #008080; text-decoration-color: #008080; font-weight: bold\">0.045</span>, Val loss: <span style=\"color: #008080; text-decoration-color: #008080; font-weight: bold\">0.104</span>, Epoch time = <span style=\"color: #008080; text-decoration-color: #008080; font-weight: bold\">93.</span>133s\n",
              "</pre>\n"
            ],
            "text/plain": [
              "Epoch: \u001b[1;36m120\u001b[0m, Train loss: \u001b[1;36m0.045\u001b[0m, Val loss: \u001b[1;36m0.104\u001b[0m, Epoch time = \u001b[1;36m93.\u001b[0m133s\n"
            ]
          },
          "metadata": {
            "tags": []
          }
        },
        {
          "output_type": "display_data",
          "data": {
            "text/html": [
              "<pre style=\"white-space:pre;overflow-x:auto;line-height:normal;font-family:Menlo,'DejaVu Sans Mono',consolas,'Courier New',monospace\">Epoch: <span style=\"color: #008080; text-decoration-color: #008080; font-weight: bold\">121</span>, Train loss: <span style=\"color: #008080; text-decoration-color: #008080; font-weight: bold\">0.044</span>, Val loss: <span style=\"color: #008080; text-decoration-color: #008080; font-weight: bold\">0.107</span>, Epoch time = <span style=\"color: #008080; text-decoration-color: #008080; font-weight: bold\">93.</span>034s\n",
              "</pre>\n"
            ],
            "text/plain": [
              "Epoch: \u001b[1;36m121\u001b[0m, Train loss: \u001b[1;36m0.044\u001b[0m, Val loss: \u001b[1;36m0.107\u001b[0m, Epoch time = \u001b[1;36m93.\u001b[0m034s\n"
            ]
          },
          "metadata": {
            "tags": []
          }
        },
        {
          "output_type": "display_data",
          "data": {
            "text/html": [
              "<pre style=\"white-space:pre;overflow-x:auto;line-height:normal;font-family:Menlo,'DejaVu Sans Mono',consolas,'Courier New',monospace\">Epoch: <span style=\"color: #008080; text-decoration-color: #008080; font-weight: bold\">122</span>, Train loss: <span style=\"color: #008080; text-decoration-color: #008080; font-weight: bold\">0.044</span>, Val loss: <span style=\"color: #008080; text-decoration-color: #008080; font-weight: bold\">0.108</span>, Epoch time = <span style=\"color: #008080; text-decoration-color: #008080; font-weight: bold\">94.</span>068s\n",
              "</pre>\n"
            ],
            "text/plain": [
              "Epoch: \u001b[1;36m122\u001b[0m, Train loss: \u001b[1;36m0.044\u001b[0m, Val loss: \u001b[1;36m0.108\u001b[0m, Epoch time = \u001b[1;36m94.\u001b[0m068s\n"
            ]
          },
          "metadata": {
            "tags": []
          }
        },
        {
          "output_type": "display_data",
          "data": {
            "text/html": [
              "<pre style=\"white-space:pre;overflow-x:auto;line-height:normal;font-family:Menlo,'DejaVu Sans Mono',consolas,'Courier New',monospace\">Epoch: <span style=\"color: #008080; text-decoration-color: #008080; font-weight: bold\">123</span>, Train loss: <span style=\"color: #008080; text-decoration-color: #008080; font-weight: bold\">0.044</span>, Val loss: <span style=\"color: #008080; text-decoration-color: #008080; font-weight: bold\">0.109</span>, Epoch time = <span style=\"color: #008080; text-decoration-color: #008080; font-weight: bold\">93.</span>260s\n",
              "</pre>\n"
            ],
            "text/plain": [
              "Epoch: \u001b[1;36m123\u001b[0m, Train loss: \u001b[1;36m0.044\u001b[0m, Val loss: \u001b[1;36m0.109\u001b[0m, Epoch time = \u001b[1;36m93.\u001b[0m260s\n"
            ]
          },
          "metadata": {
            "tags": []
          }
        },
        {
          "output_type": "display_data",
          "data": {
            "text/html": [
              "<pre style=\"white-space:pre;overflow-x:auto;line-height:normal;font-family:Menlo,'DejaVu Sans Mono',consolas,'Courier New',monospace\">Epoch: <span style=\"color: #008080; text-decoration-color: #008080; font-weight: bold\">124</span>, Train loss: <span style=\"color: #008080; text-decoration-color: #008080; font-weight: bold\">0.044</span>, Val loss: <span style=\"color: #008080; text-decoration-color: #008080; font-weight: bold\">0.107</span>, Epoch time = <span style=\"color: #008080; text-decoration-color: #008080; font-weight: bold\">93.</span>320s\n",
              "</pre>\n"
            ],
            "text/plain": [
              "Epoch: \u001b[1;36m124\u001b[0m, Train loss: \u001b[1;36m0.044\u001b[0m, Val loss: \u001b[1;36m0.107\u001b[0m, Epoch time = \u001b[1;36m93.\u001b[0m320s\n"
            ]
          },
          "metadata": {
            "tags": []
          }
        },
        {
          "output_type": "display_data",
          "data": {
            "text/html": [
              "<pre style=\"white-space:pre;overflow-x:auto;line-height:normal;font-family:Menlo,'DejaVu Sans Mono',consolas,'Courier New',monospace\">true\n",
              "</pre>\n"
            ],
            "text/plain": [
              "true\n"
            ]
          },
          "metadata": {
            "tags": []
          }
        },
        {
          "output_type": "display_data",
          "data": {
            "text/html": [
              "<pre style=\"white-space:pre;overflow-x:auto;line-height:normal;font-family:Menlo,'DejaVu Sans Mono',consolas,'Courier New',monospace\">=&gt; Saving checkpoint\n",
              "</pre>\n"
            ],
            "text/plain": [
              "=> Saving checkpoint\n"
            ]
          },
          "metadata": {
            "tags": []
          }
        },
        {
          "output_type": "display_data",
          "data": {
            "text/html": [
              "<pre style=\"white-space:pre;overflow-x:auto;line-height:normal;font-family:Menlo,'DejaVu Sans Mono',consolas,'Courier New',monospace\">Epoch: <span style=\"color: #008080; text-decoration-color: #008080; font-weight: bold\">125</span>, Train loss: <span style=\"color: #008080; text-decoration-color: #008080; font-weight: bold\">0.043</span>, Val loss: <span style=\"color: #008080; text-decoration-color: #008080; font-weight: bold\">0.106</span>, Epoch time = <span style=\"color: #008080; text-decoration-color: #008080; font-weight: bold\">93.</span>031s\n",
              "</pre>\n"
            ],
            "text/plain": [
              "Epoch: \u001b[1;36m125\u001b[0m, Train loss: \u001b[1;36m0.043\u001b[0m, Val loss: \u001b[1;36m0.106\u001b[0m, Epoch time = \u001b[1;36m93.\u001b[0m031s\n"
            ]
          },
          "metadata": {
            "tags": []
          }
        },
        {
          "output_type": "display_data",
          "data": {
            "text/html": [
              "<pre style=\"white-space:pre;overflow-x:auto;line-height:normal;font-family:Menlo,'DejaVu Sans Mono',consolas,'Courier New',monospace\">Epoch: <span style=\"color: #008080; text-decoration-color: #008080; font-weight: bold\">126</span>, Train loss: <span style=\"color: #008080; text-decoration-color: #008080; font-weight: bold\">0.042</span>, Val loss: <span style=\"color: #008080; text-decoration-color: #008080; font-weight: bold\">0.107</span>, Epoch time = <span style=\"color: #008080; text-decoration-color: #008080; font-weight: bold\">94.</span>050s\n",
              "</pre>\n"
            ],
            "text/plain": [
              "Epoch: \u001b[1;36m126\u001b[0m, Train loss: \u001b[1;36m0.042\u001b[0m, Val loss: \u001b[1;36m0.107\u001b[0m, Epoch time = \u001b[1;36m94.\u001b[0m050s\n"
            ]
          },
          "metadata": {
            "tags": []
          }
        },
        {
          "output_type": "display_data",
          "data": {
            "text/html": [
              "<pre style=\"white-space:pre;overflow-x:auto;line-height:normal;font-family:Menlo,'DejaVu Sans Mono',consolas,'Courier New',monospace\">Epoch: <span style=\"color: #008080; text-decoration-color: #008080; font-weight: bold\">127</span>, Train loss: <span style=\"color: #008080; text-decoration-color: #008080; font-weight: bold\">0.042</span>, Val loss: <span style=\"color: #008080; text-decoration-color: #008080; font-weight: bold\">0.109</span>, Epoch time = <span style=\"color: #008080; text-decoration-color: #008080; font-weight: bold\">93.</span>320s\n",
              "</pre>\n"
            ],
            "text/plain": [
              "Epoch: \u001b[1;36m127\u001b[0m, Train loss: \u001b[1;36m0.042\u001b[0m, Val loss: \u001b[1;36m0.109\u001b[0m, Epoch time = \u001b[1;36m93.\u001b[0m320s\n"
            ]
          },
          "metadata": {
            "tags": []
          }
        },
        {
          "output_type": "display_data",
          "data": {
            "text/html": [
              "<pre style=\"white-space:pre;overflow-x:auto;line-height:normal;font-family:Menlo,'DejaVu Sans Mono',consolas,'Courier New',monospace\">Epoch: <span style=\"color: #008080; text-decoration-color: #008080; font-weight: bold\">128</span>, Train loss: <span style=\"color: #008080; text-decoration-color: #008080; font-weight: bold\">0.041</span>, Val loss: <span style=\"color: #008080; text-decoration-color: #008080; font-weight: bold\">0.106</span>, Epoch time = <span style=\"color: #008080; text-decoration-color: #008080; font-weight: bold\">93.</span>467s\n",
              "</pre>\n"
            ],
            "text/plain": [
              "Epoch: \u001b[1;36m128\u001b[0m, Train loss: \u001b[1;36m0.041\u001b[0m, Val loss: \u001b[1;36m0.106\u001b[0m, Epoch time = \u001b[1;36m93.\u001b[0m467s\n"
            ]
          },
          "metadata": {
            "tags": []
          }
        },
        {
          "output_type": "display_data",
          "data": {
            "text/html": [
              "<pre style=\"white-space:pre;overflow-x:auto;line-height:normal;font-family:Menlo,'DejaVu Sans Mono',consolas,'Courier New',monospace\">Epoch: <span style=\"color: #008080; text-decoration-color: #008080; font-weight: bold\">129</span>, Train loss: <span style=\"color: #008080; text-decoration-color: #008080; font-weight: bold\">0.041</span>, Val loss: <span style=\"color: #008080; text-decoration-color: #008080; font-weight: bold\">0.105</span>, Epoch time = <span style=\"color: #008080; text-decoration-color: #008080; font-weight: bold\">93.</span>688s\n",
              "</pre>\n"
            ],
            "text/plain": [
              "Epoch: \u001b[1;36m129\u001b[0m, Train loss: \u001b[1;36m0.041\u001b[0m, Val loss: \u001b[1;36m0.105\u001b[0m, Epoch time = \u001b[1;36m93.\u001b[0m688s\n"
            ]
          },
          "metadata": {
            "tags": []
          }
        },
        {
          "output_type": "display_data",
          "data": {
            "text/html": [
              "<pre style=\"white-space:pre;overflow-x:auto;line-height:normal;font-family:Menlo,'DejaVu Sans Mono',consolas,'Courier New',monospace\">true\n",
              "</pre>\n"
            ],
            "text/plain": [
              "true\n"
            ]
          },
          "metadata": {
            "tags": []
          }
        },
        {
          "output_type": "display_data",
          "data": {
            "text/html": [
              "<pre style=\"white-space:pre;overflow-x:auto;line-height:normal;font-family:Menlo,'DejaVu Sans Mono',consolas,'Courier New',monospace\">=&gt; Saving checkpoint\n",
              "</pre>\n"
            ],
            "text/plain": [
              "=> Saving checkpoint\n"
            ]
          },
          "metadata": {
            "tags": []
          }
        },
        {
          "output_type": "display_data",
          "data": {
            "text/html": [
              "<pre style=\"white-space:pre;overflow-x:auto;line-height:normal;font-family:Menlo,'DejaVu Sans Mono',consolas,'Courier New',monospace\">Epoch: <span style=\"color: #008080; text-decoration-color: #008080; font-weight: bold\">130</span>, Train loss: <span style=\"color: #008080; text-decoration-color: #008080; font-weight: bold\">0.041</span>, Val loss: <span style=\"color: #008080; text-decoration-color: #008080; font-weight: bold\">0.108</span>, Epoch time = <span style=\"color: #008080; text-decoration-color: #008080; font-weight: bold\">93.</span>410s\n",
              "</pre>\n"
            ],
            "text/plain": [
              "Epoch: \u001b[1;36m130\u001b[0m, Train loss: \u001b[1;36m0.041\u001b[0m, Val loss: \u001b[1;36m0.108\u001b[0m, Epoch time = \u001b[1;36m93.\u001b[0m410s\n"
            ]
          },
          "metadata": {
            "tags": []
          }
        },
        {
          "output_type": "display_data",
          "data": {
            "text/html": [
              "<pre style=\"white-space:pre;overflow-x:auto;line-height:normal;font-family:Menlo,'DejaVu Sans Mono',consolas,'Courier New',monospace\">Epoch: <span style=\"color: #008080; text-decoration-color: #008080; font-weight: bold\">131</span>, Train loss: <span style=\"color: #008080; text-decoration-color: #008080; font-weight: bold\">0.041</span>, Val loss: <span style=\"color: #008080; text-decoration-color: #008080; font-weight: bold\">0.108</span>, Epoch time = <span style=\"color: #008080; text-decoration-color: #008080; font-weight: bold\">93.</span>888s\n",
              "</pre>\n"
            ],
            "text/plain": [
              "Epoch: \u001b[1;36m131\u001b[0m, Train loss: \u001b[1;36m0.041\u001b[0m, Val loss: \u001b[1;36m0.108\u001b[0m, Epoch time = \u001b[1;36m93.\u001b[0m888s\n"
            ]
          },
          "metadata": {
            "tags": []
          }
        },
        {
          "output_type": "display_data",
          "data": {
            "text/html": [
              "<pre style=\"white-space:pre;overflow-x:auto;line-height:normal;font-family:Menlo,'DejaVu Sans Mono',consolas,'Courier New',monospace\">Epoch: <span style=\"color: #008080; text-decoration-color: #008080; font-weight: bold\">132</span>, Train loss: <span style=\"color: #008080; text-decoration-color: #008080; font-weight: bold\">0.040</span>, Val loss: <span style=\"color: #008080; text-decoration-color: #008080; font-weight: bold\">0.106</span>, Epoch time = <span style=\"color: #008080; text-decoration-color: #008080; font-weight: bold\">94.</span>069s\n",
              "</pre>\n"
            ],
            "text/plain": [
              "Epoch: \u001b[1;36m132\u001b[0m, Train loss: \u001b[1;36m0.040\u001b[0m, Val loss: \u001b[1;36m0.106\u001b[0m, Epoch time = \u001b[1;36m94.\u001b[0m069s\n"
            ]
          },
          "metadata": {
            "tags": []
          }
        },
        {
          "output_type": "display_data",
          "data": {
            "text/html": [
              "<pre style=\"white-space:pre;overflow-x:auto;line-height:normal;font-family:Menlo,'DejaVu Sans Mono',consolas,'Courier New',monospace\">Epoch: <span style=\"color: #008080; text-decoration-color: #008080; font-weight: bold\">133</span>, Train loss: <span style=\"color: #008080; text-decoration-color: #008080; font-weight: bold\">0.040</span>, Val loss: <span style=\"color: #008080; text-decoration-color: #008080; font-weight: bold\">0.109</span>, Epoch time = <span style=\"color: #008080; text-decoration-color: #008080; font-weight: bold\">93.</span>659s\n",
              "</pre>\n"
            ],
            "text/plain": [
              "Epoch: \u001b[1;36m133\u001b[0m, Train loss: \u001b[1;36m0.040\u001b[0m, Val loss: \u001b[1;36m0.109\u001b[0m, Epoch time = \u001b[1;36m93.\u001b[0m659s\n"
            ]
          },
          "metadata": {
            "tags": []
          }
        },
        {
          "output_type": "display_data",
          "data": {
            "text/html": [
              "<pre style=\"white-space:pre;overflow-x:auto;line-height:normal;font-family:Menlo,'DejaVu Sans Mono',consolas,'Courier New',monospace\">Epoch: <span style=\"color: #008080; text-decoration-color: #008080; font-weight: bold\">134</span>, Train loss: <span style=\"color: #008080; text-decoration-color: #008080; font-weight: bold\">0.039</span>, Val loss: <span style=\"color: #008080; text-decoration-color: #008080; font-weight: bold\">0.108</span>, Epoch time = <span style=\"color: #008080; text-decoration-color: #008080; font-weight: bold\">94.</span>013s\n",
              "</pre>\n"
            ],
            "text/plain": [
              "Epoch: \u001b[1;36m134\u001b[0m, Train loss: \u001b[1;36m0.039\u001b[0m, Val loss: \u001b[1;36m0.108\u001b[0m, Epoch time = \u001b[1;36m94.\u001b[0m013s\n"
            ]
          },
          "metadata": {
            "tags": []
          }
        },
        {
          "output_type": "display_data",
          "data": {
            "text/html": [
              "<pre style=\"white-space:pre;overflow-x:auto;line-height:normal;font-family:Menlo,'DejaVu Sans Mono',consolas,'Courier New',monospace\">true\n",
              "</pre>\n"
            ],
            "text/plain": [
              "true\n"
            ]
          },
          "metadata": {
            "tags": []
          }
        },
        {
          "output_type": "display_data",
          "data": {
            "text/html": [
              "<pre style=\"white-space:pre;overflow-x:auto;line-height:normal;font-family:Menlo,'DejaVu Sans Mono',consolas,'Courier New',monospace\">=&gt; Saving checkpoint\n",
              "</pre>\n"
            ],
            "text/plain": [
              "=> Saving checkpoint\n"
            ]
          },
          "metadata": {
            "tags": []
          }
        },
        {
          "output_type": "display_data",
          "data": {
            "text/html": [
              "<pre style=\"white-space:pre;overflow-x:auto;line-height:normal;font-family:Menlo,'DejaVu Sans Mono',consolas,'Courier New',monospace\">Epoch: <span style=\"color: #008080; text-decoration-color: #008080; font-weight: bold\">135</span>, Train loss: <span style=\"color: #008080; text-decoration-color: #008080; font-weight: bold\">0.039</span>, Val loss: <span style=\"color: #008080; text-decoration-color: #008080; font-weight: bold\">0.108</span>, Epoch time = <span style=\"color: #008080; text-decoration-color: #008080; font-weight: bold\">93.</span>085s\n",
              "</pre>\n"
            ],
            "text/plain": [
              "Epoch: \u001b[1;36m135\u001b[0m, Train loss: \u001b[1;36m0.039\u001b[0m, Val loss: \u001b[1;36m0.108\u001b[0m, Epoch time = \u001b[1;36m93.\u001b[0m085s\n"
            ]
          },
          "metadata": {
            "tags": []
          }
        },
        {
          "output_type": "display_data",
          "data": {
            "text/html": [
              "<pre style=\"white-space:pre;overflow-x:auto;line-height:normal;font-family:Menlo,'DejaVu Sans Mono',consolas,'Courier New',monospace\">Epoch: <span style=\"color: #008080; text-decoration-color: #008080; font-weight: bold\">136</span>, Train loss: <span style=\"color: #008080; text-decoration-color: #008080; font-weight: bold\">0.039</span>, Val loss: <span style=\"color: #008080; text-decoration-color: #008080; font-weight: bold\">0.106</span>, Epoch time = <span style=\"color: #008080; text-decoration-color: #008080; font-weight: bold\">93.</span>881s\n",
              "</pre>\n"
            ],
            "text/plain": [
              "Epoch: \u001b[1;36m136\u001b[0m, Train loss: \u001b[1;36m0.039\u001b[0m, Val loss: \u001b[1;36m0.106\u001b[0m, Epoch time = \u001b[1;36m93.\u001b[0m881s\n"
            ]
          },
          "metadata": {
            "tags": []
          }
        },
        {
          "output_type": "display_data",
          "data": {
            "text/html": [
              "<pre style=\"white-space:pre;overflow-x:auto;line-height:normal;font-family:Menlo,'DejaVu Sans Mono',consolas,'Courier New',monospace\">Epoch: <span style=\"color: #008080; text-decoration-color: #008080; font-weight: bold\">137</span>, Train loss: <span style=\"color: #008080; text-decoration-color: #008080; font-weight: bold\">0.038</span>, Val loss: <span style=\"color: #008080; text-decoration-color: #008080; font-weight: bold\">0.111</span>, Epoch time = <span style=\"color: #008080; text-decoration-color: #008080; font-weight: bold\">93.</span>150s\n",
              "</pre>\n"
            ],
            "text/plain": [
              "Epoch: \u001b[1;36m137\u001b[0m, Train loss: \u001b[1;36m0.038\u001b[0m, Val loss: \u001b[1;36m0.111\u001b[0m, Epoch time = \u001b[1;36m93.\u001b[0m150s\n"
            ]
          },
          "metadata": {
            "tags": []
          }
        },
        {
          "output_type": "display_data",
          "data": {
            "text/html": [
              "<pre style=\"white-space:pre;overflow-x:auto;line-height:normal;font-family:Menlo,'DejaVu Sans Mono',consolas,'Courier New',monospace\">Epoch: <span style=\"color: #008080; text-decoration-color: #008080; font-weight: bold\">138</span>, Train loss: <span style=\"color: #008080; text-decoration-color: #008080; font-weight: bold\">0.038</span>, Val loss: <span style=\"color: #008080; text-decoration-color: #008080; font-weight: bold\">0.110</span>, Epoch time = <span style=\"color: #008080; text-decoration-color: #008080; font-weight: bold\">93.</span>458s\n",
              "</pre>\n"
            ],
            "text/plain": [
              "Epoch: \u001b[1;36m138\u001b[0m, Train loss: \u001b[1;36m0.038\u001b[0m, Val loss: \u001b[1;36m0.110\u001b[0m, Epoch time = \u001b[1;36m93.\u001b[0m458s\n"
            ]
          },
          "metadata": {
            "tags": []
          }
        },
        {
          "output_type": "display_data",
          "data": {
            "text/html": [
              "<pre style=\"white-space:pre;overflow-x:auto;line-height:normal;font-family:Menlo,'DejaVu Sans Mono',consolas,'Courier New',monospace\">Epoch: <span style=\"color: #008080; text-decoration-color: #008080; font-weight: bold\">139</span>, Train loss: <span style=\"color: #008080; text-decoration-color: #008080; font-weight: bold\">0.038</span>, Val loss: <span style=\"color: #008080; text-decoration-color: #008080; font-weight: bold\">0.110</span>, Epoch time = <span style=\"color: #008080; text-decoration-color: #008080; font-weight: bold\">93.</span>576s\n",
              "</pre>\n"
            ],
            "text/plain": [
              "Epoch: \u001b[1;36m139\u001b[0m, Train loss: \u001b[1;36m0.038\u001b[0m, Val loss: \u001b[1;36m0.110\u001b[0m, Epoch time = \u001b[1;36m93.\u001b[0m576s\n"
            ]
          },
          "metadata": {
            "tags": []
          }
        },
        {
          "output_type": "display_data",
          "data": {
            "text/html": [
              "<pre style=\"white-space:pre;overflow-x:auto;line-height:normal;font-family:Menlo,'DejaVu Sans Mono',consolas,'Courier New',monospace\">true\n",
              "</pre>\n"
            ],
            "text/plain": [
              "true\n"
            ]
          },
          "metadata": {
            "tags": []
          }
        },
        {
          "output_type": "display_data",
          "data": {
            "text/html": [
              "<pre style=\"white-space:pre;overflow-x:auto;line-height:normal;font-family:Menlo,'DejaVu Sans Mono',consolas,'Courier New',monospace\">=&gt; Saving checkpoint\n",
              "</pre>\n"
            ],
            "text/plain": [
              "=> Saving checkpoint\n"
            ]
          },
          "metadata": {
            "tags": []
          }
        },
        {
          "output_type": "display_data",
          "data": {
            "text/html": [
              "<pre style=\"white-space:pre;overflow-x:auto;line-height:normal;font-family:Menlo,'DejaVu Sans Mono',consolas,'Courier New',monospace\">Epoch: <span style=\"color: #008080; text-decoration-color: #008080; font-weight: bold\">140</span>, Train loss: <span style=\"color: #008080; text-decoration-color: #008080; font-weight: bold\">0.037</span>, Val loss: <span style=\"color: #008080; text-decoration-color: #008080; font-weight: bold\">0.112</span>, Epoch time = <span style=\"color: #008080; text-decoration-color: #008080; font-weight: bold\">93.</span>136s\n",
              "</pre>\n"
            ],
            "text/plain": [
              "Epoch: \u001b[1;36m140\u001b[0m, Train loss: \u001b[1;36m0.037\u001b[0m, Val loss: \u001b[1;36m0.112\u001b[0m, Epoch time = \u001b[1;36m93.\u001b[0m136s\n"
            ]
          },
          "metadata": {
            "tags": []
          }
        },
        {
          "output_type": "display_data",
          "data": {
            "text/html": [
              "<pre style=\"white-space:pre;overflow-x:auto;line-height:normal;font-family:Menlo,'DejaVu Sans Mono',consolas,'Courier New',monospace\">Epoch: <span style=\"color: #008080; text-decoration-color: #008080; font-weight: bold\">141</span>, Train loss: <span style=\"color: #008080; text-decoration-color: #008080; font-weight: bold\">0.037</span>, Val loss: <span style=\"color: #008080; text-decoration-color: #008080; font-weight: bold\">0.112</span>, Epoch time = <span style=\"color: #008080; text-decoration-color: #008080; font-weight: bold\">93.</span>450s\n",
              "</pre>\n"
            ],
            "text/plain": [
              "Epoch: \u001b[1;36m141\u001b[0m, Train loss: \u001b[1;36m0.037\u001b[0m, Val loss: \u001b[1;36m0.112\u001b[0m, Epoch time = \u001b[1;36m93.\u001b[0m450s\n"
            ]
          },
          "metadata": {
            "tags": []
          }
        },
        {
          "output_type": "display_data",
          "data": {
            "text/html": [
              "<pre style=\"white-space:pre;overflow-x:auto;line-height:normal;font-family:Menlo,'DejaVu Sans Mono',consolas,'Courier New',monospace\">Epoch: <span style=\"color: #008080; text-decoration-color: #008080; font-weight: bold\">142</span>, Train loss: <span style=\"color: #008080; text-decoration-color: #008080; font-weight: bold\">0.037</span>, Val loss: <span style=\"color: #008080; text-decoration-color: #008080; font-weight: bold\">0.109</span>, Epoch time = <span style=\"color: #008080; text-decoration-color: #008080; font-weight: bold\">92.</span>724s\n",
              "</pre>\n"
            ],
            "text/plain": [
              "Epoch: \u001b[1;36m142\u001b[0m, Train loss: \u001b[1;36m0.037\u001b[0m, Val loss: \u001b[1;36m0.109\u001b[0m, Epoch time = \u001b[1;36m92.\u001b[0m724s\n"
            ]
          },
          "metadata": {
            "tags": []
          }
        },
        {
          "output_type": "display_data",
          "data": {
            "text/html": [
              "<pre style=\"white-space:pre;overflow-x:auto;line-height:normal;font-family:Menlo,'DejaVu Sans Mono',consolas,'Courier New',monospace\">Epoch: <span style=\"color: #008080; text-decoration-color: #008080; font-weight: bold\">143</span>, Train loss: <span style=\"color: #008080; text-decoration-color: #008080; font-weight: bold\">0.036</span>, Val loss: <span style=\"color: #008080; text-decoration-color: #008080; font-weight: bold\">0.111</span>, Epoch time = <span style=\"color: #008080; text-decoration-color: #008080; font-weight: bold\">93.</span>384s\n",
              "</pre>\n"
            ],
            "text/plain": [
              "Epoch: \u001b[1;36m143\u001b[0m, Train loss: \u001b[1;36m0.036\u001b[0m, Val loss: \u001b[1;36m0.111\u001b[0m, Epoch time = \u001b[1;36m93.\u001b[0m384s\n"
            ]
          },
          "metadata": {
            "tags": []
          }
        },
        {
          "output_type": "display_data",
          "data": {
            "text/html": [
              "<pre style=\"white-space:pre;overflow-x:auto;line-height:normal;font-family:Menlo,'DejaVu Sans Mono',consolas,'Courier New',monospace\">Epoch: <span style=\"color: #008080; text-decoration-color: #008080; font-weight: bold\">144</span>, Train loss: <span style=\"color: #008080; text-decoration-color: #008080; font-weight: bold\">0.036</span>, Val loss: <span style=\"color: #008080; text-decoration-color: #008080; font-weight: bold\">0.112</span>, Epoch time = <span style=\"color: #008080; text-decoration-color: #008080; font-weight: bold\">93.</span>377s\n",
              "</pre>\n"
            ],
            "text/plain": [
              "Epoch: \u001b[1;36m144\u001b[0m, Train loss: \u001b[1;36m0.036\u001b[0m, Val loss: \u001b[1;36m0.112\u001b[0m, Epoch time = \u001b[1;36m93.\u001b[0m377s\n"
            ]
          },
          "metadata": {
            "tags": []
          }
        },
        {
          "output_type": "display_data",
          "data": {
            "text/html": [
              "<pre style=\"white-space:pre;overflow-x:auto;line-height:normal;font-family:Menlo,'DejaVu Sans Mono',consolas,'Courier New',monospace\">true\n",
              "</pre>\n"
            ],
            "text/plain": [
              "true\n"
            ]
          },
          "metadata": {
            "tags": []
          }
        },
        {
          "output_type": "display_data",
          "data": {
            "text/html": [
              "<pre style=\"white-space:pre;overflow-x:auto;line-height:normal;font-family:Menlo,'DejaVu Sans Mono',consolas,'Courier New',monospace\">=&gt; Saving checkpoint\n",
              "</pre>\n"
            ],
            "text/plain": [
              "=> Saving checkpoint\n"
            ]
          },
          "metadata": {
            "tags": []
          }
        },
        {
          "output_type": "display_data",
          "data": {
            "text/html": [
              "<pre style=\"white-space:pre;overflow-x:auto;line-height:normal;font-family:Menlo,'DejaVu Sans Mono',consolas,'Courier New',monospace\">Epoch: <span style=\"color: #008080; text-decoration-color: #008080; font-weight: bold\">145</span>, Train loss: <span style=\"color: #008080; text-decoration-color: #008080; font-weight: bold\">0.036</span>, Val loss: <span style=\"color: #008080; text-decoration-color: #008080; font-weight: bold\">0.111</span>, Epoch time = <span style=\"color: #008080; text-decoration-color: #008080; font-weight: bold\">93.</span>519s\n",
              "</pre>\n"
            ],
            "text/plain": [
              "Epoch: \u001b[1;36m145\u001b[0m, Train loss: \u001b[1;36m0.036\u001b[0m, Val loss: \u001b[1;36m0.111\u001b[0m, Epoch time = \u001b[1;36m93.\u001b[0m519s\n"
            ]
          },
          "metadata": {
            "tags": []
          }
        },
        {
          "output_type": "display_data",
          "data": {
            "text/html": [
              "<pre style=\"white-space:pre;overflow-x:auto;line-height:normal;font-family:Menlo,'DejaVu Sans Mono',consolas,'Courier New',monospace\">Epoch: <span style=\"color: #008080; text-decoration-color: #008080; font-weight: bold\">146</span>, Train loss: <span style=\"color: #008080; text-decoration-color: #008080; font-weight: bold\">0.035</span>, Val loss: <span style=\"color: #008080; text-decoration-color: #008080; font-weight: bold\">0.113</span>, Epoch time = <span style=\"color: #008080; text-decoration-color: #008080; font-weight: bold\">93.</span>449s\n",
              "</pre>\n"
            ],
            "text/plain": [
              "Epoch: \u001b[1;36m146\u001b[0m, Train loss: \u001b[1;36m0.035\u001b[0m, Val loss: \u001b[1;36m0.113\u001b[0m, Epoch time = \u001b[1;36m93.\u001b[0m449s\n"
            ]
          },
          "metadata": {
            "tags": []
          }
        },
        {
          "output_type": "display_data",
          "data": {
            "text/html": [
              "<pre style=\"white-space:pre;overflow-x:auto;line-height:normal;font-family:Menlo,'DejaVu Sans Mono',consolas,'Courier New',monospace\">Epoch: <span style=\"color: #008080; text-decoration-color: #008080; font-weight: bold\">147</span>, Train loss: <span style=\"color: #008080; text-decoration-color: #008080; font-weight: bold\">0.035</span>, Val loss: <span style=\"color: #008080; text-decoration-color: #008080; font-weight: bold\">0.109</span>, Epoch time = <span style=\"color: #008080; text-decoration-color: #008080; font-weight: bold\">93.</span>592s\n",
              "</pre>\n"
            ],
            "text/plain": [
              "Epoch: \u001b[1;36m147\u001b[0m, Train loss: \u001b[1;36m0.035\u001b[0m, Val loss: \u001b[1;36m0.109\u001b[0m, Epoch time = \u001b[1;36m93.\u001b[0m592s\n"
            ]
          },
          "metadata": {
            "tags": []
          }
        },
        {
          "output_type": "display_data",
          "data": {
            "text/html": [
              "<pre style=\"white-space:pre;overflow-x:auto;line-height:normal;font-family:Menlo,'DejaVu Sans Mono',consolas,'Courier New',monospace\">Epoch: <span style=\"color: #008080; text-decoration-color: #008080; font-weight: bold\">148</span>, Train loss: <span style=\"color: #008080; text-decoration-color: #008080; font-weight: bold\">0.035</span>, Val loss: <span style=\"color: #008080; text-decoration-color: #008080; font-weight: bold\">0.112</span>, Epoch time = <span style=\"color: #008080; text-decoration-color: #008080; font-weight: bold\">93.</span>867s\n",
              "</pre>\n"
            ],
            "text/plain": [
              "Epoch: \u001b[1;36m148\u001b[0m, Train loss: \u001b[1;36m0.035\u001b[0m, Val loss: \u001b[1;36m0.112\u001b[0m, Epoch time = \u001b[1;36m93.\u001b[0m867s\n"
            ]
          },
          "metadata": {
            "tags": []
          }
        },
        {
          "output_type": "display_data",
          "data": {
            "text/html": [
              "<pre style=\"white-space:pre;overflow-x:auto;line-height:normal;font-family:Menlo,'DejaVu Sans Mono',consolas,'Courier New',monospace\">Epoch: <span style=\"color: #008080; text-decoration-color: #008080; font-weight: bold\">149</span>, Train loss: <span style=\"color: #008080; text-decoration-color: #008080; font-weight: bold\">0.035</span>, Val loss: <span style=\"color: #008080; text-decoration-color: #008080; font-weight: bold\">0.113</span>, Epoch time = <span style=\"color: #008080; text-decoration-color: #008080; font-weight: bold\">93.</span>109s\n",
              "</pre>\n"
            ],
            "text/plain": [
              "Epoch: \u001b[1;36m149\u001b[0m, Train loss: \u001b[1;36m0.035\u001b[0m, Val loss: \u001b[1;36m0.113\u001b[0m, Epoch time = \u001b[1;36m93.\u001b[0m109s\n"
            ]
          },
          "metadata": {
            "tags": []
          }
        },
        {
          "output_type": "display_data",
          "data": {
            "text/html": [
              "<pre style=\"white-space:pre;overflow-x:auto;line-height:normal;font-family:Menlo,'DejaVu Sans Mono',consolas,'Courier New',monospace\">true\n",
              "</pre>\n"
            ],
            "text/plain": [
              "true\n"
            ]
          },
          "metadata": {
            "tags": []
          }
        },
        {
          "output_type": "display_data",
          "data": {
            "text/html": [
              "<pre style=\"white-space:pre;overflow-x:auto;line-height:normal;font-family:Menlo,'DejaVu Sans Mono',consolas,'Courier New',monospace\">=&gt; Saving checkpoint\n",
              "</pre>\n"
            ],
            "text/plain": [
              "=> Saving checkpoint\n"
            ]
          },
          "metadata": {
            "tags": []
          }
        },
        {
          "output_type": "display_data",
          "data": {
            "text/html": [
              "<pre style=\"white-space:pre;overflow-x:auto;line-height:normal;font-family:Menlo,'DejaVu Sans Mono',consolas,'Courier New',monospace\">Epoch: <span style=\"color: #008080; text-decoration-color: #008080; font-weight: bold\">150</span>, Train loss: <span style=\"color: #008080; text-decoration-color: #008080; font-weight: bold\">0.035</span>, Val loss: <span style=\"color: #008080; text-decoration-color: #008080; font-weight: bold\">0.112</span>, Epoch time = <span style=\"color: #008080; text-decoration-color: #008080; font-weight: bold\">93.</span>355s\n",
              "</pre>\n"
            ],
            "text/plain": [
              "Epoch: \u001b[1;36m150\u001b[0m, Train loss: \u001b[1;36m0.035\u001b[0m, Val loss: \u001b[1;36m0.112\u001b[0m, Epoch time = \u001b[1;36m93.\u001b[0m355s\n"
            ]
          },
          "metadata": {
            "tags": []
          }
        },
        {
          "output_type": "display_data",
          "data": {
            "text/html": [
              "<pre style=\"white-space:pre;overflow-x:auto;line-height:normal;font-family:Menlo,'DejaVu Sans Mono',consolas,'Courier New',monospace\">Epoch: <span style=\"color: #008080; text-decoration-color: #008080; font-weight: bold\">151</span>, Train loss: <span style=\"color: #008080; text-decoration-color: #008080; font-weight: bold\">0.034</span>, Val loss: <span style=\"color: #008080; text-decoration-color: #008080; font-weight: bold\">0.111</span>, Epoch time = <span style=\"color: #008080; text-decoration-color: #008080; font-weight: bold\">93.</span>833s\n",
              "</pre>\n"
            ],
            "text/plain": [
              "Epoch: \u001b[1;36m151\u001b[0m, Train loss: \u001b[1;36m0.034\u001b[0m, Val loss: \u001b[1;36m0.111\u001b[0m, Epoch time = \u001b[1;36m93.\u001b[0m833s\n"
            ]
          },
          "metadata": {
            "tags": []
          }
        },
        {
          "output_type": "display_data",
          "data": {
            "text/html": [
              "<pre style=\"white-space:pre;overflow-x:auto;line-height:normal;font-family:Menlo,'DejaVu Sans Mono',consolas,'Courier New',monospace\">Epoch: <span style=\"color: #008080; text-decoration-color: #008080; font-weight: bold\">152</span>, Train loss: <span style=\"color: #008080; text-decoration-color: #008080; font-weight: bold\">0.034</span>, Val loss: <span style=\"color: #008080; text-decoration-color: #008080; font-weight: bold\">0.111</span>, Epoch time = <span style=\"color: #008080; text-decoration-color: #008080; font-weight: bold\">93.</span>544s\n",
              "</pre>\n"
            ],
            "text/plain": [
              "Epoch: \u001b[1;36m152\u001b[0m, Train loss: \u001b[1;36m0.034\u001b[0m, Val loss: \u001b[1;36m0.111\u001b[0m, Epoch time = \u001b[1;36m93.\u001b[0m544s\n"
            ]
          },
          "metadata": {
            "tags": []
          }
        },
        {
          "output_type": "display_data",
          "data": {
            "text/html": [
              "<pre style=\"white-space:pre;overflow-x:auto;line-height:normal;font-family:Menlo,'DejaVu Sans Mono',consolas,'Courier New',monospace\">Epoch: <span style=\"color: #008080; text-decoration-color: #008080; font-weight: bold\">153</span>, Train loss: <span style=\"color: #008080; text-decoration-color: #008080; font-weight: bold\">0.034</span>, Val loss: <span style=\"color: #008080; text-decoration-color: #008080; font-weight: bold\">0.115</span>, Epoch time = <span style=\"color: #008080; text-decoration-color: #008080; font-weight: bold\">93.</span>382s\n",
              "</pre>\n"
            ],
            "text/plain": [
              "Epoch: \u001b[1;36m153\u001b[0m, Train loss: \u001b[1;36m0.034\u001b[0m, Val loss: \u001b[1;36m0.115\u001b[0m, Epoch time = \u001b[1;36m93.\u001b[0m382s\n"
            ]
          },
          "metadata": {
            "tags": []
          }
        },
        {
          "output_type": "display_data",
          "data": {
            "text/html": [
              "<pre style=\"white-space:pre;overflow-x:auto;line-height:normal;font-family:Menlo,'DejaVu Sans Mono',consolas,'Courier New',monospace\">Epoch: <span style=\"color: #008080; text-decoration-color: #008080; font-weight: bold\">154</span>, Train loss: <span style=\"color: #008080; text-decoration-color: #008080; font-weight: bold\">0.033</span>, Val loss: <span style=\"color: #008080; text-decoration-color: #008080; font-weight: bold\">0.111</span>, Epoch time = <span style=\"color: #008080; text-decoration-color: #008080; font-weight: bold\">92.</span>919s\n",
              "</pre>\n"
            ],
            "text/plain": [
              "Epoch: \u001b[1;36m154\u001b[0m, Train loss: \u001b[1;36m0.033\u001b[0m, Val loss: \u001b[1;36m0.111\u001b[0m, Epoch time = \u001b[1;36m92.\u001b[0m919s\n"
            ]
          },
          "metadata": {
            "tags": []
          }
        },
        {
          "output_type": "display_data",
          "data": {
            "text/html": [
              "<pre style=\"white-space:pre;overflow-x:auto;line-height:normal;font-family:Menlo,'DejaVu Sans Mono',consolas,'Courier New',monospace\">true\n",
              "</pre>\n"
            ],
            "text/plain": [
              "true\n"
            ]
          },
          "metadata": {
            "tags": []
          }
        },
        {
          "output_type": "display_data",
          "data": {
            "text/html": [
              "<pre style=\"white-space:pre;overflow-x:auto;line-height:normal;font-family:Menlo,'DejaVu Sans Mono',consolas,'Courier New',monospace\">=&gt; Saving checkpoint\n",
              "</pre>\n"
            ],
            "text/plain": [
              "=> Saving checkpoint\n"
            ]
          },
          "metadata": {
            "tags": []
          }
        },
        {
          "output_type": "display_data",
          "data": {
            "text/html": [
              "<pre style=\"white-space:pre;overflow-x:auto;line-height:normal;font-family:Menlo,'DejaVu Sans Mono',consolas,'Courier New',monospace\">Epoch: <span style=\"color: #008080; text-decoration-color: #008080; font-weight: bold\">155</span>, Train loss: <span style=\"color: #008080; text-decoration-color: #008080; font-weight: bold\">0.033</span>, Val loss: <span style=\"color: #008080; text-decoration-color: #008080; font-weight: bold\">0.111</span>, Epoch time = <span style=\"color: #008080; text-decoration-color: #008080; font-weight: bold\">93.</span>166s\n",
              "</pre>\n"
            ],
            "text/plain": [
              "Epoch: \u001b[1;36m155\u001b[0m, Train loss: \u001b[1;36m0.033\u001b[0m, Val loss: \u001b[1;36m0.111\u001b[0m, Epoch time = \u001b[1;36m93.\u001b[0m166s\n"
            ]
          },
          "metadata": {
            "tags": []
          }
        },
        {
          "output_type": "display_data",
          "data": {
            "text/html": [
              "<pre style=\"white-space:pre;overflow-x:auto;line-height:normal;font-family:Menlo,'DejaVu Sans Mono',consolas,'Courier New',monospace\">Epoch: <span style=\"color: #008080; text-decoration-color: #008080; font-weight: bold\">156</span>, Train loss: <span style=\"color: #008080; text-decoration-color: #008080; font-weight: bold\">0.033</span>, Val loss: <span style=\"color: #008080; text-decoration-color: #008080; font-weight: bold\">0.113</span>, Epoch time = <span style=\"color: #008080; text-decoration-color: #008080; font-weight: bold\">93.</span>882s\n",
              "</pre>\n"
            ],
            "text/plain": [
              "Epoch: \u001b[1;36m156\u001b[0m, Train loss: \u001b[1;36m0.033\u001b[0m, Val loss: \u001b[1;36m0.113\u001b[0m, Epoch time = \u001b[1;36m93.\u001b[0m882s\n"
            ]
          },
          "metadata": {
            "tags": []
          }
        },
        {
          "output_type": "display_data",
          "data": {
            "text/html": [
              "<pre style=\"white-space:pre;overflow-x:auto;line-height:normal;font-family:Menlo,'DejaVu Sans Mono',consolas,'Courier New',monospace\">Epoch: <span style=\"color: #008080; text-decoration-color: #008080; font-weight: bold\">157</span>, Train loss: <span style=\"color: #008080; text-decoration-color: #008080; font-weight: bold\">0.033</span>, Val loss: <span style=\"color: #008080; text-decoration-color: #008080; font-weight: bold\">0.114</span>, Epoch time = <span style=\"color: #008080; text-decoration-color: #008080; font-weight: bold\">93.</span>466s\n",
              "</pre>\n"
            ],
            "text/plain": [
              "Epoch: \u001b[1;36m157\u001b[0m, Train loss: \u001b[1;36m0.033\u001b[0m, Val loss: \u001b[1;36m0.114\u001b[0m, Epoch time = \u001b[1;36m93.\u001b[0m466s\n"
            ]
          },
          "metadata": {
            "tags": []
          }
        },
        {
          "output_type": "display_data",
          "data": {
            "text/html": [
              "<pre style=\"white-space:pre;overflow-x:auto;line-height:normal;font-family:Menlo,'DejaVu Sans Mono',consolas,'Courier New',monospace\">Epoch: <span style=\"color: #008080; text-decoration-color: #008080; font-weight: bold\">158</span>, Train loss: <span style=\"color: #008080; text-decoration-color: #008080; font-weight: bold\">0.032</span>, Val loss: <span style=\"color: #008080; text-decoration-color: #008080; font-weight: bold\">0.114</span>, Epoch time = <span style=\"color: #008080; text-decoration-color: #008080; font-weight: bold\">93.</span>513s\n",
              "</pre>\n"
            ],
            "text/plain": [
              "Epoch: \u001b[1;36m158\u001b[0m, Train loss: \u001b[1;36m0.032\u001b[0m, Val loss: \u001b[1;36m0.114\u001b[0m, Epoch time = \u001b[1;36m93.\u001b[0m513s\n"
            ]
          },
          "metadata": {
            "tags": []
          }
        },
        {
          "output_type": "display_data",
          "data": {
            "text/html": [
              "<pre style=\"white-space:pre;overflow-x:auto;line-height:normal;font-family:Menlo,'DejaVu Sans Mono',consolas,'Courier New',monospace\">Epoch: <span style=\"color: #008080; text-decoration-color: #008080; font-weight: bold\">159</span>, Train loss: <span style=\"color: #008080; text-decoration-color: #008080; font-weight: bold\">0.032</span>, Val loss: <span style=\"color: #008080; text-decoration-color: #008080; font-weight: bold\">0.115</span>, Epoch time = <span style=\"color: #008080; text-decoration-color: #008080; font-weight: bold\">93.</span>346s\n",
              "</pre>\n"
            ],
            "text/plain": [
              "Epoch: \u001b[1;36m159\u001b[0m, Train loss: \u001b[1;36m0.032\u001b[0m, Val loss: \u001b[1;36m0.115\u001b[0m, Epoch time = \u001b[1;36m93.\u001b[0m346s\n"
            ]
          },
          "metadata": {
            "tags": []
          }
        },
        {
          "output_type": "display_data",
          "data": {
            "text/html": [
              "<pre style=\"white-space:pre;overflow-x:auto;line-height:normal;font-family:Menlo,'DejaVu Sans Mono',consolas,'Courier New',monospace\">true\n",
              "</pre>\n"
            ],
            "text/plain": [
              "true\n"
            ]
          },
          "metadata": {
            "tags": []
          }
        },
        {
          "output_type": "display_data",
          "data": {
            "text/html": [
              "<pre style=\"white-space:pre;overflow-x:auto;line-height:normal;font-family:Menlo,'DejaVu Sans Mono',consolas,'Courier New',monospace\">=&gt; Saving checkpoint\n",
              "</pre>\n"
            ],
            "text/plain": [
              "=> Saving checkpoint\n"
            ]
          },
          "metadata": {
            "tags": []
          }
        },
        {
          "output_type": "display_data",
          "data": {
            "text/html": [
              "<pre style=\"white-space:pre;overflow-x:auto;line-height:normal;font-family:Menlo,'DejaVu Sans Mono',consolas,'Courier New',monospace\">Epoch: <span style=\"color: #008080; text-decoration-color: #008080; font-weight: bold\">160</span>, Train loss: <span style=\"color: #008080; text-decoration-color: #008080; font-weight: bold\">0.032</span>, Val loss: <span style=\"color: #008080; text-decoration-color: #008080; font-weight: bold\">0.115</span>, Epoch time = <span style=\"color: #008080; text-decoration-color: #008080; font-weight: bold\">93.</span>449s\n",
              "</pre>\n"
            ],
            "text/plain": [
              "Epoch: \u001b[1;36m160\u001b[0m, Train loss: \u001b[1;36m0.032\u001b[0m, Val loss: \u001b[1;36m0.115\u001b[0m, Epoch time = \u001b[1;36m93.\u001b[0m449s\n"
            ]
          },
          "metadata": {
            "tags": []
          }
        },
        {
          "output_type": "display_data",
          "data": {
            "text/html": [
              "<pre style=\"white-space:pre;overflow-x:auto;line-height:normal;font-family:Menlo,'DejaVu Sans Mono',consolas,'Courier New',monospace\">Epoch: <span style=\"color: #008080; text-decoration-color: #008080; font-weight: bold\">161</span>, Train loss: <span style=\"color: #008080; text-decoration-color: #008080; font-weight: bold\">0.032</span>, Val loss: <span style=\"color: #008080; text-decoration-color: #008080; font-weight: bold\">0.112</span>, Epoch time = <span style=\"color: #008080; text-decoration-color: #008080; font-weight: bold\">93.</span>968s\n",
              "</pre>\n"
            ],
            "text/plain": [
              "Epoch: \u001b[1;36m161\u001b[0m, Train loss: \u001b[1;36m0.032\u001b[0m, Val loss: \u001b[1;36m0.112\u001b[0m, Epoch time = \u001b[1;36m93.\u001b[0m968s\n"
            ]
          },
          "metadata": {
            "tags": []
          }
        },
        {
          "output_type": "display_data",
          "data": {
            "text/html": [
              "<pre style=\"white-space:pre;overflow-x:auto;line-height:normal;font-family:Menlo,'DejaVu Sans Mono',consolas,'Courier New',monospace\">Epoch: <span style=\"color: #008080; text-decoration-color: #008080; font-weight: bold\">162</span>, Train loss: <span style=\"color: #008080; text-decoration-color: #008080; font-weight: bold\">0.031</span>, Val loss: <span style=\"color: #008080; text-decoration-color: #008080; font-weight: bold\">0.115</span>, Epoch time = <span style=\"color: #008080; text-decoration-color: #008080; font-weight: bold\">93.</span>882s\n",
              "</pre>\n"
            ],
            "text/plain": [
              "Epoch: \u001b[1;36m162\u001b[0m, Train loss: \u001b[1;36m0.031\u001b[0m, Val loss: \u001b[1;36m0.115\u001b[0m, Epoch time = \u001b[1;36m93.\u001b[0m882s\n"
            ]
          },
          "metadata": {
            "tags": []
          }
        },
        {
          "output_type": "display_data",
          "data": {
            "text/html": [
              "<pre style=\"white-space:pre;overflow-x:auto;line-height:normal;font-family:Menlo,'DejaVu Sans Mono',consolas,'Courier New',monospace\">Epoch: <span style=\"color: #008080; text-decoration-color: #008080; font-weight: bold\">163</span>, Train loss: <span style=\"color: #008080; text-decoration-color: #008080; font-weight: bold\">0.031</span>, Val loss: <span style=\"color: #008080; text-decoration-color: #008080; font-weight: bold\">0.115</span>, Epoch time = <span style=\"color: #008080; text-decoration-color: #008080; font-weight: bold\">93.</span>766s\n",
              "</pre>\n"
            ],
            "text/plain": [
              "Epoch: \u001b[1;36m163\u001b[0m, Train loss: \u001b[1;36m0.031\u001b[0m, Val loss: \u001b[1;36m0.115\u001b[0m, Epoch time = \u001b[1;36m93.\u001b[0m766s\n"
            ]
          },
          "metadata": {
            "tags": []
          }
        },
        {
          "output_type": "display_data",
          "data": {
            "text/html": [
              "<pre style=\"white-space:pre;overflow-x:auto;line-height:normal;font-family:Menlo,'DejaVu Sans Mono',consolas,'Courier New',monospace\">Epoch: <span style=\"color: #008080; text-decoration-color: #008080; font-weight: bold\">164</span>, Train loss: <span style=\"color: #008080; text-decoration-color: #008080; font-weight: bold\">0.031</span>, Val loss: <span style=\"color: #008080; text-decoration-color: #008080; font-weight: bold\">0.115</span>, Epoch time = <span style=\"color: #008080; text-decoration-color: #008080; font-weight: bold\">93.</span>962s\n",
              "</pre>\n"
            ],
            "text/plain": [
              "Epoch: \u001b[1;36m164\u001b[0m, Train loss: \u001b[1;36m0.031\u001b[0m, Val loss: \u001b[1;36m0.115\u001b[0m, Epoch time = \u001b[1;36m93.\u001b[0m962s\n"
            ]
          },
          "metadata": {
            "tags": []
          }
        },
        {
          "output_type": "display_data",
          "data": {
            "text/html": [
              "<pre style=\"white-space:pre;overflow-x:auto;line-height:normal;font-family:Menlo,'DejaVu Sans Mono',consolas,'Courier New',monospace\">true\n",
              "</pre>\n"
            ],
            "text/plain": [
              "true\n"
            ]
          },
          "metadata": {
            "tags": []
          }
        },
        {
          "output_type": "display_data",
          "data": {
            "text/html": [
              "<pre style=\"white-space:pre;overflow-x:auto;line-height:normal;font-family:Menlo,'DejaVu Sans Mono',consolas,'Courier New',monospace\">=&gt; Saving checkpoint\n",
              "</pre>\n"
            ],
            "text/plain": [
              "=> Saving checkpoint\n"
            ]
          },
          "metadata": {
            "tags": []
          }
        },
        {
          "output_type": "display_data",
          "data": {
            "text/html": [
              "<pre style=\"white-space:pre;overflow-x:auto;line-height:normal;font-family:Menlo,'DejaVu Sans Mono',consolas,'Courier New',monospace\">Epoch: <span style=\"color: #008080; text-decoration-color: #008080; font-weight: bold\">165</span>, Train loss: <span style=\"color: #008080; text-decoration-color: #008080; font-weight: bold\">0.030</span>, Val loss: <span style=\"color: #008080; text-decoration-color: #008080; font-weight: bold\">0.115</span>, Epoch time = <span style=\"color: #008080; text-decoration-color: #008080; font-weight: bold\">93.</span>655s\n",
              "</pre>\n"
            ],
            "text/plain": [
              "Epoch: \u001b[1;36m165\u001b[0m, Train loss: \u001b[1;36m0.030\u001b[0m, Val loss: \u001b[1;36m0.115\u001b[0m, Epoch time = \u001b[1;36m93.\u001b[0m655s\n"
            ]
          },
          "metadata": {
            "tags": []
          }
        },
        {
          "output_type": "display_data",
          "data": {
            "text/html": [
              "<pre style=\"white-space:pre;overflow-x:auto;line-height:normal;font-family:Menlo,'DejaVu Sans Mono',consolas,'Courier New',monospace\">Epoch: <span style=\"color: #008080; text-decoration-color: #008080; font-weight: bold\">166</span>, Train loss: <span style=\"color: #008080; text-decoration-color: #008080; font-weight: bold\">0.030</span>, Val loss: <span style=\"color: #008080; text-decoration-color: #008080; font-weight: bold\">0.118</span>, Epoch time = <span style=\"color: #008080; text-decoration-color: #008080; font-weight: bold\">93.</span>383s\n",
              "</pre>\n"
            ],
            "text/plain": [
              "Epoch: \u001b[1;36m166\u001b[0m, Train loss: \u001b[1;36m0.030\u001b[0m, Val loss: \u001b[1;36m0.118\u001b[0m, Epoch time = \u001b[1;36m93.\u001b[0m383s\n"
            ]
          },
          "metadata": {
            "tags": []
          }
        },
        {
          "output_type": "display_data",
          "data": {
            "text/html": [
              "<pre style=\"white-space:pre;overflow-x:auto;line-height:normal;font-family:Menlo,'DejaVu Sans Mono',consolas,'Courier New',monospace\">Epoch: <span style=\"color: #008080; text-decoration-color: #008080; font-weight: bold\">167</span>, Train loss: <span style=\"color: #008080; text-decoration-color: #008080; font-weight: bold\">0.030</span>, Val loss: <span style=\"color: #008080; text-decoration-color: #008080; font-weight: bold\">0.114</span>, Epoch time = <span style=\"color: #008080; text-decoration-color: #008080; font-weight: bold\">93.</span>520s\n",
              "</pre>\n"
            ],
            "text/plain": [
              "Epoch: \u001b[1;36m167\u001b[0m, Train loss: \u001b[1;36m0.030\u001b[0m, Val loss: \u001b[1;36m0.114\u001b[0m, Epoch time = \u001b[1;36m93.\u001b[0m520s\n"
            ]
          },
          "metadata": {
            "tags": []
          }
        },
        {
          "output_type": "display_data",
          "data": {
            "text/html": [
              "<pre style=\"white-space:pre;overflow-x:auto;line-height:normal;font-family:Menlo,'DejaVu Sans Mono',consolas,'Courier New',monospace\">Epoch: <span style=\"color: #008080; text-decoration-color: #008080; font-weight: bold\">168</span>, Train loss: <span style=\"color: #008080; text-decoration-color: #008080; font-weight: bold\">0.030</span>, Val loss: <span style=\"color: #008080; text-decoration-color: #008080; font-weight: bold\">0.116</span>, Epoch time = <span style=\"color: #008080; text-decoration-color: #008080; font-weight: bold\">93.</span>418s\n",
              "</pre>\n"
            ],
            "text/plain": [
              "Epoch: \u001b[1;36m168\u001b[0m, Train loss: \u001b[1;36m0.030\u001b[0m, Val loss: \u001b[1;36m0.116\u001b[0m, Epoch time = \u001b[1;36m93.\u001b[0m418s\n"
            ]
          },
          "metadata": {
            "tags": []
          }
        },
        {
          "output_type": "display_data",
          "data": {
            "text/html": [
              "<pre style=\"white-space:pre;overflow-x:auto;line-height:normal;font-family:Menlo,'DejaVu Sans Mono',consolas,'Courier New',monospace\">Epoch: <span style=\"color: #008080; text-decoration-color: #008080; font-weight: bold\">169</span>, Train loss: <span style=\"color: #008080; text-decoration-color: #008080; font-weight: bold\">0.030</span>, Val loss: <span style=\"color: #008080; text-decoration-color: #008080; font-weight: bold\">0.115</span>, Epoch time = <span style=\"color: #008080; text-decoration-color: #008080; font-weight: bold\">93.</span>486s\n",
              "</pre>\n"
            ],
            "text/plain": [
              "Epoch: \u001b[1;36m169\u001b[0m, Train loss: \u001b[1;36m0.030\u001b[0m, Val loss: \u001b[1;36m0.115\u001b[0m, Epoch time = \u001b[1;36m93.\u001b[0m486s\n"
            ]
          },
          "metadata": {
            "tags": []
          }
        },
        {
          "output_type": "display_data",
          "data": {
            "text/html": [
              "<pre style=\"white-space:pre;overflow-x:auto;line-height:normal;font-family:Menlo,'DejaVu Sans Mono',consolas,'Courier New',monospace\">true\n",
              "</pre>\n"
            ],
            "text/plain": [
              "true\n"
            ]
          },
          "metadata": {
            "tags": []
          }
        },
        {
          "output_type": "display_data",
          "data": {
            "text/html": [
              "<pre style=\"white-space:pre;overflow-x:auto;line-height:normal;font-family:Menlo,'DejaVu Sans Mono',consolas,'Courier New',monospace\">=&gt; Saving checkpoint\n",
              "</pre>\n"
            ],
            "text/plain": [
              "=> Saving checkpoint\n"
            ]
          },
          "metadata": {
            "tags": []
          }
        },
        {
          "output_type": "display_data",
          "data": {
            "text/html": [
              "<pre style=\"white-space:pre;overflow-x:auto;line-height:normal;font-family:Menlo,'DejaVu Sans Mono',consolas,'Courier New',monospace\">Epoch: <span style=\"color: #008080; text-decoration-color: #008080; font-weight: bold\">170</span>, Train loss: <span style=\"color: #008080; text-decoration-color: #008080; font-weight: bold\">0.029</span>, Val loss: <span style=\"color: #008080; text-decoration-color: #008080; font-weight: bold\">0.117</span>, Epoch time = <span style=\"color: #008080; text-decoration-color: #008080; font-weight: bold\">92.</span>567s\n",
              "</pre>\n"
            ],
            "text/plain": [
              "Epoch: \u001b[1;36m170\u001b[0m, Train loss: \u001b[1;36m0.029\u001b[0m, Val loss: \u001b[1;36m0.117\u001b[0m, Epoch time = \u001b[1;36m92.\u001b[0m567s\n"
            ]
          },
          "metadata": {
            "tags": []
          }
        },
        {
          "output_type": "display_data",
          "data": {
            "text/html": [
              "<pre style=\"white-space:pre;overflow-x:auto;line-height:normal;font-family:Menlo,'DejaVu Sans Mono',consolas,'Courier New',monospace\">Epoch: <span style=\"color: #008080; text-decoration-color: #008080; font-weight: bold\">171</span>, Train loss: <span style=\"color: #008080; text-decoration-color: #008080; font-weight: bold\">0.029</span>, Val loss: <span style=\"color: #008080; text-decoration-color: #008080; font-weight: bold\">0.120</span>, Epoch time = <span style=\"color: #008080; text-decoration-color: #008080; font-weight: bold\">93.</span>172s\n",
              "</pre>\n"
            ],
            "text/plain": [
              "Epoch: \u001b[1;36m171\u001b[0m, Train loss: \u001b[1;36m0.029\u001b[0m, Val loss: \u001b[1;36m0.120\u001b[0m, Epoch time = \u001b[1;36m93.\u001b[0m172s\n"
            ]
          },
          "metadata": {
            "tags": []
          }
        },
        {
          "output_type": "display_data",
          "data": {
            "text/html": [
              "<pre style=\"white-space:pre;overflow-x:auto;line-height:normal;font-family:Menlo,'DejaVu Sans Mono',consolas,'Courier New',monospace\">Epoch: <span style=\"color: #008080; text-decoration-color: #008080; font-weight: bold\">172</span>, Train loss: <span style=\"color: #008080; text-decoration-color: #008080; font-weight: bold\">0.029</span>, Val loss: <span style=\"color: #008080; text-decoration-color: #008080; font-weight: bold\">0.117</span>, Epoch time = <span style=\"color: #008080; text-decoration-color: #008080; font-weight: bold\">93.</span>811s\n",
              "</pre>\n"
            ],
            "text/plain": [
              "Epoch: \u001b[1;36m172\u001b[0m, Train loss: \u001b[1;36m0.029\u001b[0m, Val loss: \u001b[1;36m0.117\u001b[0m, Epoch time = \u001b[1;36m93.\u001b[0m811s\n"
            ]
          },
          "metadata": {
            "tags": []
          }
        },
        {
          "output_type": "display_data",
          "data": {
            "text/html": [
              "<pre style=\"white-space:pre;overflow-x:auto;line-height:normal;font-family:Menlo,'DejaVu Sans Mono',consolas,'Courier New',monospace\">Epoch: <span style=\"color: #008080; text-decoration-color: #008080; font-weight: bold\">173</span>, Train loss: <span style=\"color: #008080; text-decoration-color: #008080; font-weight: bold\">0.029</span>, Val loss: <span style=\"color: #008080; text-decoration-color: #008080; font-weight: bold\">0.116</span>, Epoch time = <span style=\"color: #008080; text-decoration-color: #008080; font-weight: bold\">92.</span>951s\n",
              "</pre>\n"
            ],
            "text/plain": [
              "Epoch: \u001b[1;36m173\u001b[0m, Train loss: \u001b[1;36m0.029\u001b[0m, Val loss: \u001b[1;36m0.116\u001b[0m, Epoch time = \u001b[1;36m92.\u001b[0m951s\n"
            ]
          },
          "metadata": {
            "tags": []
          }
        },
        {
          "output_type": "display_data",
          "data": {
            "text/html": [
              "<pre style=\"white-space:pre;overflow-x:auto;line-height:normal;font-family:Menlo,'DejaVu Sans Mono',consolas,'Courier New',monospace\">Epoch: <span style=\"color: #008080; text-decoration-color: #008080; font-weight: bold\">174</span>, Train loss: <span style=\"color: #008080; text-decoration-color: #008080; font-weight: bold\">0.029</span>, Val loss: <span style=\"color: #008080; text-decoration-color: #008080; font-weight: bold\">0.115</span>, Epoch time = <span style=\"color: #008080; text-decoration-color: #008080; font-weight: bold\">93.</span>351s\n",
              "</pre>\n"
            ],
            "text/plain": [
              "Epoch: \u001b[1;36m174\u001b[0m, Train loss: \u001b[1;36m0.029\u001b[0m, Val loss: \u001b[1;36m0.115\u001b[0m, Epoch time = \u001b[1;36m93.\u001b[0m351s\n"
            ]
          },
          "metadata": {
            "tags": []
          }
        },
        {
          "output_type": "display_data",
          "data": {
            "text/html": [
              "<pre style=\"white-space:pre;overflow-x:auto;line-height:normal;font-family:Menlo,'DejaVu Sans Mono',consolas,'Courier New',monospace\">true\n",
              "</pre>\n"
            ],
            "text/plain": [
              "true\n"
            ]
          },
          "metadata": {
            "tags": []
          }
        },
        {
          "output_type": "display_data",
          "data": {
            "text/html": [
              "<pre style=\"white-space:pre;overflow-x:auto;line-height:normal;font-family:Menlo,'DejaVu Sans Mono',consolas,'Courier New',monospace\">=&gt; Saving checkpoint\n",
              "</pre>\n"
            ],
            "text/plain": [
              "=> Saving checkpoint\n"
            ]
          },
          "metadata": {
            "tags": []
          }
        },
        {
          "output_type": "display_data",
          "data": {
            "text/html": [
              "<pre style=\"white-space:pre;overflow-x:auto;line-height:normal;font-family:Menlo,'DejaVu Sans Mono',consolas,'Courier New',monospace\">Epoch: <span style=\"color: #008080; text-decoration-color: #008080; font-weight: bold\">175</span>, Train loss: <span style=\"color: #008080; text-decoration-color: #008080; font-weight: bold\">0.029</span>, Val loss: <span style=\"color: #008080; text-decoration-color: #008080; font-weight: bold\">0.118</span>, Epoch time = <span style=\"color: #008080; text-decoration-color: #008080; font-weight: bold\">93.</span>453s\n",
              "</pre>\n"
            ],
            "text/plain": [
              "Epoch: \u001b[1;36m175\u001b[0m, Train loss: \u001b[1;36m0.029\u001b[0m, Val loss: \u001b[1;36m0.118\u001b[0m, Epoch time = \u001b[1;36m93.\u001b[0m453s\n"
            ]
          },
          "metadata": {
            "tags": []
          }
        },
        {
          "output_type": "display_data",
          "data": {
            "text/html": [
              "<pre style=\"white-space:pre;overflow-x:auto;line-height:normal;font-family:Menlo,'DejaVu Sans Mono',consolas,'Courier New',monospace\">Epoch: <span style=\"color: #008080; text-decoration-color: #008080; font-weight: bold\">176</span>, Train loss: <span style=\"color: #008080; text-decoration-color: #008080; font-weight: bold\">0.028</span>, Val loss: <span style=\"color: #008080; text-decoration-color: #008080; font-weight: bold\">0.116</span>, Epoch time = <span style=\"color: #008080; text-decoration-color: #008080; font-weight: bold\">93.</span>285s\n",
              "</pre>\n"
            ],
            "text/plain": [
              "Epoch: \u001b[1;36m176\u001b[0m, Train loss: \u001b[1;36m0.028\u001b[0m, Val loss: \u001b[1;36m0.116\u001b[0m, Epoch time = \u001b[1;36m93.\u001b[0m285s\n"
            ]
          },
          "metadata": {
            "tags": []
          }
        },
        {
          "output_type": "display_data",
          "data": {
            "text/html": [
              "<pre style=\"white-space:pre;overflow-x:auto;line-height:normal;font-family:Menlo,'DejaVu Sans Mono',consolas,'Courier New',monospace\">Epoch: <span style=\"color: #008080; text-decoration-color: #008080; font-weight: bold\">177</span>, Train loss: <span style=\"color: #008080; text-decoration-color: #008080; font-weight: bold\">0.028</span>, Val loss: <span style=\"color: #008080; text-decoration-color: #008080; font-weight: bold\">0.118</span>, Epoch time = <span style=\"color: #008080; text-decoration-color: #008080; font-weight: bold\">92.</span>974s\n",
              "</pre>\n"
            ],
            "text/plain": [
              "Epoch: \u001b[1;36m177\u001b[0m, Train loss: \u001b[1;36m0.028\u001b[0m, Val loss: \u001b[1;36m0.118\u001b[0m, Epoch time = \u001b[1;36m92.\u001b[0m974s\n"
            ]
          },
          "metadata": {
            "tags": []
          }
        },
        {
          "output_type": "display_data",
          "data": {
            "text/html": [
              "<pre style=\"white-space:pre;overflow-x:auto;line-height:normal;font-family:Menlo,'DejaVu Sans Mono',consolas,'Courier New',monospace\">Epoch: <span style=\"color: #008080; text-decoration-color: #008080; font-weight: bold\">178</span>, Train loss: <span style=\"color: #008080; text-decoration-color: #008080; font-weight: bold\">0.028</span>, Val loss: <span style=\"color: #008080; text-decoration-color: #008080; font-weight: bold\">0.118</span>, Epoch time = <span style=\"color: #008080; text-decoration-color: #008080; font-weight: bold\">92.</span>845s\n",
              "</pre>\n"
            ],
            "text/plain": [
              "Epoch: \u001b[1;36m178\u001b[0m, Train loss: \u001b[1;36m0.028\u001b[0m, Val loss: \u001b[1;36m0.118\u001b[0m, Epoch time = \u001b[1;36m92.\u001b[0m845s\n"
            ]
          },
          "metadata": {
            "tags": []
          }
        },
        {
          "output_type": "display_data",
          "data": {
            "text/html": [
              "<pre style=\"white-space:pre;overflow-x:auto;line-height:normal;font-family:Menlo,'DejaVu Sans Mono',consolas,'Courier New',monospace\">Epoch: <span style=\"color: #008080; text-decoration-color: #008080; font-weight: bold\">179</span>, Train loss: <span style=\"color: #008080; text-decoration-color: #008080; font-weight: bold\">0.028</span>, Val loss: <span style=\"color: #008080; text-decoration-color: #008080; font-weight: bold\">0.117</span>, Epoch time = <span style=\"color: #008080; text-decoration-color: #008080; font-weight: bold\">93.</span>243s\n",
              "</pre>\n"
            ],
            "text/plain": [
              "Epoch: \u001b[1;36m179\u001b[0m, Train loss: \u001b[1;36m0.028\u001b[0m, Val loss: \u001b[1;36m0.117\u001b[0m, Epoch time = \u001b[1;36m93.\u001b[0m243s\n"
            ]
          },
          "metadata": {
            "tags": []
          }
        },
        {
          "output_type": "display_data",
          "data": {
            "text/html": [
              "<pre style=\"white-space:pre;overflow-x:auto;line-height:normal;font-family:Menlo,'DejaVu Sans Mono',consolas,'Courier New',monospace\">true\n",
              "</pre>\n"
            ],
            "text/plain": [
              "true\n"
            ]
          },
          "metadata": {
            "tags": []
          }
        },
        {
          "output_type": "display_data",
          "data": {
            "text/html": [
              "<pre style=\"white-space:pre;overflow-x:auto;line-height:normal;font-family:Menlo,'DejaVu Sans Mono',consolas,'Courier New',monospace\">=&gt; Saving checkpoint\n",
              "</pre>\n"
            ],
            "text/plain": [
              "=> Saving checkpoint\n"
            ]
          },
          "metadata": {
            "tags": []
          }
        },
        {
          "output_type": "display_data",
          "data": {
            "text/html": [
              "<pre style=\"white-space:pre;overflow-x:auto;line-height:normal;font-family:Menlo,'DejaVu Sans Mono',consolas,'Courier New',monospace\">Epoch: <span style=\"color: #008080; text-decoration-color: #008080; font-weight: bold\">180</span>, Train loss: <span style=\"color: #008080; text-decoration-color: #008080; font-weight: bold\">0.027</span>, Val loss: <span style=\"color: #008080; text-decoration-color: #008080; font-weight: bold\">0.117</span>, Epoch time = <span style=\"color: #008080; text-decoration-color: #008080; font-weight: bold\">93.</span>849s\n",
              "</pre>\n"
            ],
            "text/plain": [
              "Epoch: \u001b[1;36m180\u001b[0m, Train loss: \u001b[1;36m0.027\u001b[0m, Val loss: \u001b[1;36m0.117\u001b[0m, Epoch time = \u001b[1;36m93.\u001b[0m849s\n"
            ]
          },
          "metadata": {
            "tags": []
          }
        },
        {
          "output_type": "display_data",
          "data": {
            "text/html": [
              "<pre style=\"white-space:pre;overflow-x:auto;line-height:normal;font-family:Menlo,'DejaVu Sans Mono',consolas,'Courier New',monospace\">Epoch: <span style=\"color: #008080; text-decoration-color: #008080; font-weight: bold\">181</span>, Train loss: <span style=\"color: #008080; text-decoration-color: #008080; font-weight: bold\">0.027</span>, Val loss: <span style=\"color: #008080; text-decoration-color: #008080; font-weight: bold\">0.119</span>, Epoch time = <span style=\"color: #008080; text-decoration-color: #008080; font-weight: bold\">93.</span>310s\n",
              "</pre>\n"
            ],
            "text/plain": [
              "Epoch: \u001b[1;36m181\u001b[0m, Train loss: \u001b[1;36m0.027\u001b[0m, Val loss: \u001b[1;36m0.119\u001b[0m, Epoch time = \u001b[1;36m93.\u001b[0m310s\n"
            ]
          },
          "metadata": {
            "tags": []
          }
        },
        {
          "output_type": "display_data",
          "data": {
            "text/html": [
              "<pre style=\"white-space:pre;overflow-x:auto;line-height:normal;font-family:Menlo,'DejaVu Sans Mono',consolas,'Courier New',monospace\">Epoch: <span style=\"color: #008080; text-decoration-color: #008080; font-weight: bold\">182</span>, Train loss: <span style=\"color: #008080; text-decoration-color: #008080; font-weight: bold\">0.027</span>, Val loss: <span style=\"color: #008080; text-decoration-color: #008080; font-weight: bold\">0.118</span>, Epoch time = <span style=\"color: #008080; text-decoration-color: #008080; font-weight: bold\">92.</span>770s\n",
              "</pre>\n"
            ],
            "text/plain": [
              "Epoch: \u001b[1;36m182\u001b[0m, Train loss: \u001b[1;36m0.027\u001b[0m, Val loss: \u001b[1;36m0.118\u001b[0m, Epoch time = \u001b[1;36m92.\u001b[0m770s\n"
            ]
          },
          "metadata": {
            "tags": []
          }
        },
        {
          "output_type": "display_data",
          "data": {
            "text/html": [
              "<pre style=\"white-space:pre;overflow-x:auto;line-height:normal;font-family:Menlo,'DejaVu Sans Mono',consolas,'Courier New',monospace\">Epoch: <span style=\"color: #008080; text-decoration-color: #008080; font-weight: bold\">183</span>, Train loss: <span style=\"color: #008080; text-decoration-color: #008080; font-weight: bold\">0.027</span>, Val loss: <span style=\"color: #008080; text-decoration-color: #008080; font-weight: bold\">0.118</span>, Epoch time = <span style=\"color: #008080; text-decoration-color: #008080; font-weight: bold\">93.</span>474s\n",
              "</pre>\n"
            ],
            "text/plain": [
              "Epoch: \u001b[1;36m183\u001b[0m, Train loss: \u001b[1;36m0.027\u001b[0m, Val loss: \u001b[1;36m0.118\u001b[0m, Epoch time = \u001b[1;36m93.\u001b[0m474s\n"
            ]
          },
          "metadata": {
            "tags": []
          }
        },
        {
          "output_type": "display_data",
          "data": {
            "text/html": [
              "<pre style=\"white-space:pre;overflow-x:auto;line-height:normal;font-family:Menlo,'DejaVu Sans Mono',consolas,'Courier New',monospace\">Epoch: <span style=\"color: #008080; text-decoration-color: #008080; font-weight: bold\">184</span>, Train loss: <span style=\"color: #008080; text-decoration-color: #008080; font-weight: bold\">0.027</span>, Val loss: <span style=\"color: #008080; text-decoration-color: #008080; font-weight: bold\">0.119</span>, Epoch time = <span style=\"color: #008080; text-decoration-color: #008080; font-weight: bold\">92.</span>954s\n",
              "</pre>\n"
            ],
            "text/plain": [
              "Epoch: \u001b[1;36m184\u001b[0m, Train loss: \u001b[1;36m0.027\u001b[0m, Val loss: \u001b[1;36m0.119\u001b[0m, Epoch time = \u001b[1;36m92.\u001b[0m954s\n"
            ]
          },
          "metadata": {
            "tags": []
          }
        },
        {
          "output_type": "display_data",
          "data": {
            "text/html": [
              "<pre style=\"white-space:pre;overflow-x:auto;line-height:normal;font-family:Menlo,'DejaVu Sans Mono',consolas,'Courier New',monospace\">true\n",
              "</pre>\n"
            ],
            "text/plain": [
              "true\n"
            ]
          },
          "metadata": {
            "tags": []
          }
        },
        {
          "output_type": "display_data",
          "data": {
            "text/html": [
              "<pre style=\"white-space:pre;overflow-x:auto;line-height:normal;font-family:Menlo,'DejaVu Sans Mono',consolas,'Courier New',monospace\">=&gt; Saving checkpoint\n",
              "</pre>\n"
            ],
            "text/plain": [
              "=> Saving checkpoint\n"
            ]
          },
          "metadata": {
            "tags": []
          }
        },
        {
          "output_type": "display_data",
          "data": {
            "text/html": [
              "<pre style=\"white-space:pre;overflow-x:auto;line-height:normal;font-family:Menlo,'DejaVu Sans Mono',consolas,'Courier New',monospace\">Epoch: <span style=\"color: #008080; text-decoration-color: #008080; font-weight: bold\">185</span>, Train loss: <span style=\"color: #008080; text-decoration-color: #008080; font-weight: bold\">0.026</span>, Val loss: <span style=\"color: #008080; text-decoration-color: #008080; font-weight: bold\">0.118</span>, Epoch time = <span style=\"color: #008080; text-decoration-color: #008080; font-weight: bold\">93.</span>827s\n",
              "</pre>\n"
            ],
            "text/plain": [
              "Epoch: \u001b[1;36m185\u001b[0m, Train loss: \u001b[1;36m0.026\u001b[0m, Val loss: \u001b[1;36m0.118\u001b[0m, Epoch time = \u001b[1;36m93.\u001b[0m827s\n"
            ]
          },
          "metadata": {
            "tags": []
          }
        },
        {
          "output_type": "display_data",
          "data": {
            "text/html": [
              "<pre style=\"white-space:pre;overflow-x:auto;line-height:normal;font-family:Menlo,'DejaVu Sans Mono',consolas,'Courier New',monospace\">Epoch: <span style=\"color: #008080; text-decoration-color: #008080; font-weight: bold\">186</span>, Train loss: <span style=\"color: #008080; text-decoration-color: #008080; font-weight: bold\">0.027</span>, Val loss: <span style=\"color: #008080; text-decoration-color: #008080; font-weight: bold\">0.121</span>, Epoch time = <span style=\"color: #008080; text-decoration-color: #008080; font-weight: bold\">93.</span>560s\n",
              "</pre>\n"
            ],
            "text/plain": [
              "Epoch: \u001b[1;36m186\u001b[0m, Train loss: \u001b[1;36m0.027\u001b[0m, Val loss: \u001b[1;36m0.121\u001b[0m, Epoch time = \u001b[1;36m93.\u001b[0m560s\n"
            ]
          },
          "metadata": {
            "tags": []
          }
        },
        {
          "output_type": "display_data",
          "data": {
            "text/html": [
              "<pre style=\"white-space:pre;overflow-x:auto;line-height:normal;font-family:Menlo,'DejaVu Sans Mono',consolas,'Courier New',monospace\">Epoch: <span style=\"color: #008080; text-decoration-color: #008080; font-weight: bold\">187</span>, Train loss: <span style=\"color: #008080; text-decoration-color: #008080; font-weight: bold\">0.026</span>, Val loss: <span style=\"color: #008080; text-decoration-color: #008080; font-weight: bold\">0.124</span>, Epoch time = <span style=\"color: #008080; text-decoration-color: #008080; font-weight: bold\">93.</span>538s\n",
              "</pre>\n"
            ],
            "text/plain": [
              "Epoch: \u001b[1;36m187\u001b[0m, Train loss: \u001b[1;36m0.026\u001b[0m, Val loss: \u001b[1;36m0.124\u001b[0m, Epoch time = \u001b[1;36m93.\u001b[0m538s\n"
            ]
          },
          "metadata": {
            "tags": []
          }
        },
        {
          "output_type": "display_data",
          "data": {
            "text/html": [
              "<pre style=\"white-space:pre;overflow-x:auto;line-height:normal;font-family:Menlo,'DejaVu Sans Mono',consolas,'Courier New',monospace\">Epoch: <span style=\"color: #008080; text-decoration-color: #008080; font-weight: bold\">188</span>, Train loss: <span style=\"color: #008080; text-decoration-color: #008080; font-weight: bold\">0.026</span>, Val loss: <span style=\"color: #008080; text-decoration-color: #008080; font-weight: bold\">0.119</span>, Epoch time = <span style=\"color: #008080; text-decoration-color: #008080; font-weight: bold\">93.</span>381s\n",
              "</pre>\n"
            ],
            "text/plain": [
              "Epoch: \u001b[1;36m188\u001b[0m, Train loss: \u001b[1;36m0.026\u001b[0m, Val loss: \u001b[1;36m0.119\u001b[0m, Epoch time = \u001b[1;36m93.\u001b[0m381s\n"
            ]
          },
          "metadata": {
            "tags": []
          }
        },
        {
          "output_type": "display_data",
          "data": {
            "text/html": [
              "<pre style=\"white-space:pre;overflow-x:auto;line-height:normal;font-family:Menlo,'DejaVu Sans Mono',consolas,'Courier New',monospace\">Epoch: <span style=\"color: #008080; text-decoration-color: #008080; font-weight: bold\">189</span>, Train loss: <span style=\"color: #008080; text-decoration-color: #008080; font-weight: bold\">0.026</span>, Val loss: <span style=\"color: #008080; text-decoration-color: #008080; font-weight: bold\">0.121</span>, Epoch time = <span style=\"color: #008080; text-decoration-color: #008080; font-weight: bold\">93.</span>755s\n",
              "</pre>\n"
            ],
            "text/plain": [
              "Epoch: \u001b[1;36m189\u001b[0m, Train loss: \u001b[1;36m0.026\u001b[0m, Val loss: \u001b[1;36m0.121\u001b[0m, Epoch time = \u001b[1;36m93.\u001b[0m755s\n"
            ]
          },
          "metadata": {
            "tags": []
          }
        },
        {
          "output_type": "display_data",
          "data": {
            "text/html": [
              "<pre style=\"white-space:pre;overflow-x:auto;line-height:normal;font-family:Menlo,'DejaVu Sans Mono',consolas,'Courier New',monospace\">true\n",
              "</pre>\n"
            ],
            "text/plain": [
              "true\n"
            ]
          },
          "metadata": {
            "tags": []
          }
        },
        {
          "output_type": "display_data",
          "data": {
            "text/html": [
              "<pre style=\"white-space:pre;overflow-x:auto;line-height:normal;font-family:Menlo,'DejaVu Sans Mono',consolas,'Courier New',monospace\">=&gt; Saving checkpoint\n",
              "</pre>\n"
            ],
            "text/plain": [
              "=> Saving checkpoint\n"
            ]
          },
          "metadata": {
            "tags": []
          }
        },
        {
          "output_type": "display_data",
          "data": {
            "text/html": [
              "<pre style=\"white-space:pre;overflow-x:auto;line-height:normal;font-family:Menlo,'DejaVu Sans Mono',consolas,'Courier New',monospace\">Epoch: <span style=\"color: #008080; text-decoration-color: #008080; font-weight: bold\">190</span>, Train loss: <span style=\"color: #008080; text-decoration-color: #008080; font-weight: bold\">0.026</span>, Val loss: <span style=\"color: #008080; text-decoration-color: #008080; font-weight: bold\">0.118</span>, Epoch time = <span style=\"color: #008080; text-decoration-color: #008080; font-weight: bold\">93.</span>781s\n",
              "</pre>\n"
            ],
            "text/plain": [
              "Epoch: \u001b[1;36m190\u001b[0m, Train loss: \u001b[1;36m0.026\u001b[0m, Val loss: \u001b[1;36m0.118\u001b[0m, Epoch time = \u001b[1;36m93.\u001b[0m781s\n"
            ]
          },
          "metadata": {
            "tags": []
          }
        },
        {
          "output_type": "display_data",
          "data": {
            "text/html": [
              "<pre style=\"white-space:pre;overflow-x:auto;line-height:normal;font-family:Menlo,'DejaVu Sans Mono',consolas,'Courier New',monospace\">Epoch: <span style=\"color: #008080; text-decoration-color: #008080; font-weight: bold\">191</span>, Train loss: <span style=\"color: #008080; text-decoration-color: #008080; font-weight: bold\">0.025</span>, Val loss: <span style=\"color: #008080; text-decoration-color: #008080; font-weight: bold\">0.122</span>, Epoch time = <span style=\"color: #008080; text-decoration-color: #008080; font-weight: bold\">93.</span>394s\n",
              "</pre>\n"
            ],
            "text/plain": [
              "Epoch: \u001b[1;36m191\u001b[0m, Train loss: \u001b[1;36m0.025\u001b[0m, Val loss: \u001b[1;36m0.122\u001b[0m, Epoch time = \u001b[1;36m93.\u001b[0m394s\n"
            ]
          },
          "metadata": {
            "tags": []
          }
        },
        {
          "output_type": "display_data",
          "data": {
            "text/html": [
              "<pre style=\"white-space:pre;overflow-x:auto;line-height:normal;font-family:Menlo,'DejaVu Sans Mono',consolas,'Courier New',monospace\">Epoch: <span style=\"color: #008080; text-decoration-color: #008080; font-weight: bold\">192</span>, Train loss: <span style=\"color: #008080; text-decoration-color: #008080; font-weight: bold\">0.025</span>, Val loss: <span style=\"color: #008080; text-decoration-color: #008080; font-weight: bold\">0.120</span>, Epoch time = <span style=\"color: #008080; text-decoration-color: #008080; font-weight: bold\">93.</span>478s\n",
              "</pre>\n"
            ],
            "text/plain": [
              "Epoch: \u001b[1;36m192\u001b[0m, Train loss: \u001b[1;36m0.025\u001b[0m, Val loss: \u001b[1;36m0.120\u001b[0m, Epoch time = \u001b[1;36m93.\u001b[0m478s\n"
            ]
          },
          "metadata": {
            "tags": []
          }
        },
        {
          "output_type": "display_data",
          "data": {
            "text/html": [
              "<pre style=\"white-space:pre;overflow-x:auto;line-height:normal;font-family:Menlo,'DejaVu Sans Mono',consolas,'Courier New',monospace\">Epoch: <span style=\"color: #008080; text-decoration-color: #008080; font-weight: bold\">193</span>, Train loss: <span style=\"color: #008080; text-decoration-color: #008080; font-weight: bold\">0.025</span>, Val loss: <span style=\"color: #008080; text-decoration-color: #008080; font-weight: bold\">0.125</span>, Epoch time = <span style=\"color: #008080; text-decoration-color: #008080; font-weight: bold\">94.</span>373s\n",
              "</pre>\n"
            ],
            "text/plain": [
              "Epoch: \u001b[1;36m193\u001b[0m, Train loss: \u001b[1;36m0.025\u001b[0m, Val loss: \u001b[1;36m0.125\u001b[0m, Epoch time = \u001b[1;36m94.\u001b[0m373s\n"
            ]
          },
          "metadata": {
            "tags": []
          }
        },
        {
          "output_type": "display_data",
          "data": {
            "text/html": [
              "<pre style=\"white-space:pre;overflow-x:auto;line-height:normal;font-family:Menlo,'DejaVu Sans Mono',consolas,'Courier New',monospace\">Epoch: <span style=\"color: #008080; text-decoration-color: #008080; font-weight: bold\">194</span>, Train loss: <span style=\"color: #008080; text-decoration-color: #008080; font-weight: bold\">0.025</span>, Val loss: <span style=\"color: #008080; text-decoration-color: #008080; font-weight: bold\">0.121</span>, Epoch time = <span style=\"color: #008080; text-decoration-color: #008080; font-weight: bold\">94.</span>537s\n",
              "</pre>\n"
            ],
            "text/plain": [
              "Epoch: \u001b[1;36m194\u001b[0m, Train loss: \u001b[1;36m0.025\u001b[0m, Val loss: \u001b[1;36m0.121\u001b[0m, Epoch time = \u001b[1;36m94.\u001b[0m537s\n"
            ]
          },
          "metadata": {
            "tags": []
          }
        },
        {
          "output_type": "display_data",
          "data": {
            "text/html": [
              "<pre style=\"white-space:pre;overflow-x:auto;line-height:normal;font-family:Menlo,'DejaVu Sans Mono',consolas,'Courier New',monospace\">true\n",
              "</pre>\n"
            ],
            "text/plain": [
              "true\n"
            ]
          },
          "metadata": {
            "tags": []
          }
        },
        {
          "output_type": "display_data",
          "data": {
            "text/html": [
              "<pre style=\"white-space:pre;overflow-x:auto;line-height:normal;font-family:Menlo,'DejaVu Sans Mono',consolas,'Courier New',monospace\">=&gt; Saving checkpoint\n",
              "</pre>\n"
            ],
            "text/plain": [
              "=> Saving checkpoint\n"
            ]
          },
          "metadata": {
            "tags": []
          }
        },
        {
          "output_type": "display_data",
          "data": {
            "text/html": [
              "<pre style=\"white-space:pre;overflow-x:auto;line-height:normal;font-family:Menlo,'DejaVu Sans Mono',consolas,'Courier New',monospace\">Epoch: <span style=\"color: #008080; text-decoration-color: #008080; font-weight: bold\">195</span>, Train loss: <span style=\"color: #008080; text-decoration-color: #008080; font-weight: bold\">0.025</span>, Val loss: <span style=\"color: #008080; text-decoration-color: #008080; font-weight: bold\">0.121</span>, Epoch time = <span style=\"color: #008080; text-decoration-color: #008080; font-weight: bold\">94.</span>255s\n",
              "</pre>\n"
            ],
            "text/plain": [
              "Epoch: \u001b[1;36m195\u001b[0m, Train loss: \u001b[1;36m0.025\u001b[0m, Val loss: \u001b[1;36m0.121\u001b[0m, Epoch time = \u001b[1;36m94.\u001b[0m255s\n"
            ]
          },
          "metadata": {
            "tags": []
          }
        },
        {
          "output_type": "display_data",
          "data": {
            "text/html": [
              "<pre style=\"white-space:pre;overflow-x:auto;line-height:normal;font-family:Menlo,'DejaVu Sans Mono',consolas,'Courier New',monospace\">Epoch: <span style=\"color: #008080; text-decoration-color: #008080; font-weight: bold\">196</span>, Train loss: <span style=\"color: #008080; text-decoration-color: #008080; font-weight: bold\">0.025</span>, Val loss: <span style=\"color: #008080; text-decoration-color: #008080; font-weight: bold\">0.120</span>, Epoch time = <span style=\"color: #008080; text-decoration-color: #008080; font-weight: bold\">93.</span>639s\n",
              "</pre>\n"
            ],
            "text/plain": [
              "Epoch: \u001b[1;36m196\u001b[0m, Train loss: \u001b[1;36m0.025\u001b[0m, Val loss: \u001b[1;36m0.120\u001b[0m, Epoch time = \u001b[1;36m93.\u001b[0m639s\n"
            ]
          },
          "metadata": {
            "tags": []
          }
        },
        {
          "output_type": "display_data",
          "data": {
            "text/html": [
              "<pre style=\"white-space:pre;overflow-x:auto;line-height:normal;font-family:Menlo,'DejaVu Sans Mono',consolas,'Courier New',monospace\">Epoch: <span style=\"color: #008080; text-decoration-color: #008080; font-weight: bold\">197</span>, Train loss: <span style=\"color: #008080; text-decoration-color: #008080; font-weight: bold\">0.025</span>, Val loss: <span style=\"color: #008080; text-decoration-color: #008080; font-weight: bold\">0.122</span>, Epoch time = <span style=\"color: #008080; text-decoration-color: #008080; font-weight: bold\">93.</span>511s\n",
              "</pre>\n"
            ],
            "text/plain": [
              "Epoch: \u001b[1;36m197\u001b[0m, Train loss: \u001b[1;36m0.025\u001b[0m, Val loss: \u001b[1;36m0.122\u001b[0m, Epoch time = \u001b[1;36m93.\u001b[0m511s\n"
            ]
          },
          "metadata": {
            "tags": []
          }
        },
        {
          "output_type": "display_data",
          "data": {
            "text/html": [
              "<pre style=\"white-space:pre;overflow-x:auto;line-height:normal;font-family:Menlo,'DejaVu Sans Mono',consolas,'Courier New',monospace\">Epoch: <span style=\"color: #008080; text-decoration-color: #008080; font-weight: bold\">198</span>, Train loss: <span style=\"color: #008080; text-decoration-color: #008080; font-weight: bold\">0.024</span>, Val loss: <span style=\"color: #008080; text-decoration-color: #008080; font-weight: bold\">0.125</span>, Epoch time = <span style=\"color: #008080; text-decoration-color: #008080; font-weight: bold\">93.</span>501s\n",
              "</pre>\n"
            ],
            "text/plain": [
              "Epoch: \u001b[1;36m198\u001b[0m, Train loss: \u001b[1;36m0.024\u001b[0m, Val loss: \u001b[1;36m0.125\u001b[0m, Epoch time = \u001b[1;36m93.\u001b[0m501s\n"
            ]
          },
          "metadata": {
            "tags": []
          }
        },
        {
          "output_type": "display_data",
          "data": {
            "text/html": [
              "<pre style=\"white-space:pre;overflow-x:auto;line-height:normal;font-family:Menlo,'DejaVu Sans Mono',consolas,'Courier New',monospace\">Epoch: <span style=\"color: #008080; text-decoration-color: #008080; font-weight: bold\">199</span>, Train loss: <span style=\"color: #008080; text-decoration-color: #008080; font-weight: bold\">0.024</span>, Val loss: <span style=\"color: #008080; text-decoration-color: #008080; font-weight: bold\">0.120</span>, Epoch time = <span style=\"color: #008080; text-decoration-color: #008080; font-weight: bold\">93.</span>560s\n",
              "</pre>\n"
            ],
            "text/plain": [
              "Epoch: \u001b[1;36m199\u001b[0m, Train loss: \u001b[1;36m0.024\u001b[0m, Val loss: \u001b[1;36m0.120\u001b[0m, Epoch time = \u001b[1;36m93.\u001b[0m560s\n"
            ]
          },
          "metadata": {
            "tags": []
          }
        },
        {
          "output_type": "display_data",
          "data": {
            "text/html": [
              "<pre style=\"white-space:pre;overflow-x:auto;line-height:normal;font-family:Menlo,'DejaVu Sans Mono',consolas,'Courier New',monospace\">true\n",
              "</pre>\n"
            ],
            "text/plain": [
              "true\n"
            ]
          },
          "metadata": {
            "tags": []
          }
        },
        {
          "output_type": "display_data",
          "data": {
            "text/html": [
              "<pre style=\"white-space:pre;overflow-x:auto;line-height:normal;font-family:Menlo,'DejaVu Sans Mono',consolas,'Courier New',monospace\">=&gt; Saving checkpoint\n",
              "</pre>\n"
            ],
            "text/plain": [
              "=> Saving checkpoint\n"
            ]
          },
          "metadata": {
            "tags": []
          }
        },
        {
          "output_type": "display_data",
          "data": {
            "text/html": [
              "<pre style=\"white-space:pre;overflow-x:auto;line-height:normal;font-family:Menlo,'DejaVu Sans Mono',consolas,'Courier New',monospace\">Epoch: <span style=\"color: #008080; text-decoration-color: #008080; font-weight: bold\">200</span>, Train loss: <span style=\"color: #008080; text-decoration-color: #008080; font-weight: bold\">0.024</span>, Val loss: <span style=\"color: #008080; text-decoration-color: #008080; font-weight: bold\">0.122</span>, Epoch time = <span style=\"color: #008080; text-decoration-color: #008080; font-weight: bold\">93.</span>696s\n",
              "</pre>\n"
            ],
            "text/plain": [
              "Epoch: \u001b[1;36m200\u001b[0m, Train loss: \u001b[1;36m0.024\u001b[0m, Val loss: \u001b[1;36m0.122\u001b[0m, Epoch time = \u001b[1;36m93.\u001b[0m696s\n"
            ]
          },
          "metadata": {
            "tags": []
          }
        },
        {
          "output_type": "display_data",
          "data": {
            "text/html": [
              "<pre style=\"white-space:pre;overflow-x:auto;line-height:normal;font-family:Menlo,'DejaVu Sans Mono',consolas,'Courier New',monospace\">Done!\n",
              "</pre>\n"
            ],
            "text/plain": [
              "Done!\n"
            ]
          },
          "metadata": {
            "tags": []
          }
        }
      ]
    },
    {
      "cell_type": "markdown",
      "metadata": {
        "id": "_G6RxBQKZECv"
      },
      "source": [
        "#Plot graph"
      ],
      "id": "_G6RxBQKZECv"
    },
    {
      "cell_type": "code",
      "metadata": {
        "colab": {
          "base_uri": "https://localhost:8080/",
          "height": 350
        },
        "id": "OgMZrMbwP_VO",
        "outputId": "304999df-fbc4-4227-9c0c-40c13f76d7b0"
      },
      "source": [
        "#https://machinelearningmastery.com/display-deep-learning-model-training-history-in-keras/\n",
        "import numpy as np\n",
        "#https://pytorch.org/tutorials/beginner/fgsm_tutorial.html\n",
        "plt.figure(figsize=(5,5))\n",
        "plt.plot(train_loss_ex)\n",
        "plt.plot(val_loss_ex)\n",
        "#plt.yticks(np.arange(0.2, 1.5, step=0.1))\n",
        "#plt.xticks(np.arange(1, 15, step=1))\n",
        "plt.title(\"model loss\")\n",
        "plt.xlabel(\"Epoch\")\n",
        "plt.ylabel(\"Loss\")\n",
        "plt.legend(['train', 'val'], loc='upper left')\n",
        "plt.show()"
      ],
      "id": "OgMZrMbwP_VO",
      "execution_count": 39,
      "outputs": [
        {
          "output_type": "display_data",
          "data": {
            "image/png": "[encoded data removed]",
            "text/plain": [
              "<Figure size 360x360 with 1 Axes>"
            ]
          },
          "metadata": {
            "tags": [],
            "needs_background": "light"
          }
        }
      ]
    },
    {
      "cell_type": "markdown",
      "metadata": {
        "id": "BR18XFXdTnG5"
      },
      "source": [
        "# Save model"
      ],
      "id": "BR18XFXdTnG5"
    },
    {
      "cell_type": "code",
      "metadata": {
        "id": "G6LO44AGTiGC"
      },
      "source": [
        "#https://pytorch.org/tutorials/beginner/basics/saveloadrun_tutorial.html"
      ],
      "id": "G6LO44AGTiGC",
      "execution_count": null,
      "outputs": []
    },
    {
      "cell_type": "code",
      "metadata": {
        "id": "Dp04s1QPSggC"
      },
      "source": [
        "save_name=\"model_tranformer_epochs_\"+str(NUM_EPOCHS)+\".pth\"\n",
        "torch.save(transformer,save_name)"
      ],
      "id": "Dp04s1QPSggC",
      "execution_count": 40,
      "outputs": []
    },
    {
      "cell_type": "code",
      "metadata": {
        "colab": {
          "base_uri": "https://localhost:8080/",
          "height": 17
        },
        "id": "G727aVpIfFNd",
        "outputId": "716ae36e-4f9c-42b9-a650-c34609067585"
      },
      "source": [
        "from google.colab import files\n",
        "files.download(save_name)"
      ],
      "id": "G727aVpIfFNd",
      "execution_count": 41,
      "outputs": [
        {
          "output_type": "display_data",
          "data": {
            "application/javascript": [
              "\n",
              "    async function download(id, filename, size) {\n",
              "      if (!google.colab.kernel.accessAllowed) {\n",
              "        return;\n",
              "      }\n",
              "      const div = document.createElement('div');\n",
              "      const label = document.createElement('label');\n",
              "      label.textContent = `Downloading \"${filename}\": `;\n",
              "      div.appendChild(label);\n",
              "      const progress = document.createElement('progress');\n",
              "      progress.max = size;\n",
              "      div.appendChild(progress);\n",
              "      document.body.appendChild(div);\n",
              "\n",
              "      const buffers = [];\n",
              "      let downloaded = 0;\n",
              "\n",
              "      const channel = await google.colab.kernel.comms.open(id);\n",
              "      // Send a message to notify the kernel that we're ready.\n",
              "      channel.send({})\n",
              "\n",
              "      for await (const message of channel.messages) {\n",
              "        // Send a message to notify the kernel that we're ready.\n",
              "        channel.send({})\n",
              "        if (message.buffers) {\n",
              "          for (const buffer of message.buffers) {\n",
              "            buffers.push(buffer);\n",
              "            downloaded += buffer.byteLength;\n",
              "            progress.value = downloaded;\n",
              "          }\n",
              "        }\n",
              "      }\n",
              "      const blob = new Blob(buffers, {type: 'application/binary'});\n",
              "      const a = document.createElement('a');\n",
              "      a.href = window.URL.createObjectURL(blob);\n",
              "      a.download = filename;\n",
              "      div.appendChild(a);\n",
              "      a.click();\n",
              "      div.remove();\n",
              "    }\n",
              "  "
            ],
            "text/plain": [
              "<IPython.core.display.Javascript object>"
            ]
          },
          "metadata": {
            "tags": []
          }
        },
        {
          "output_type": "display_data",
          "data": {
            "application/javascript": [
              "download(\"download_53dd1d86-b3d1-483f-8892-105448f6c217\", \"model_tranformer_epochs_200.pth\", 61044038)"
            ],
            "text/plain": [
              "<IPython.core.display.Javascript object>"
            ]
          },
          "metadata": {
            "tags": []
          }
        }
      ]
    },
    {
      "cell_type": "markdown",
      "metadata": {
        "id": "CG4a4hNDDzie"
      },
      "source": [
        "save file .pt"
      ],
      "id": "CG4a4hNDDzie"
    },
    {
      "cell_type": "code",
      "metadata": {
        "id": "LAInYkolDgXE"
      },
      "source": [
        "save_name_pt=\"model_tranformer_epochs_\"+str(NUM_EPOCHS)+\".pt\"\n",
        "torch.save(transformer,save_name_pt)"
      ],
      "id": "LAInYkolDgXE",
      "execution_count": null,
      "outputs": []
    },
    {
      "cell_type": "code",
      "metadata": {
        "colab": {
          "base_uri": "https://localhost:8080/",
          "height": 17
        },
        "id": "Wn2T5UBGDkBe",
        "outputId": "7cd49be8-cbc4-49ed-bf3b-647f1c625ca1"
      },
      "source": [
        "files.download(save_name_pt)"
      ],
      "id": "Wn2T5UBGDkBe",
      "execution_count": null,
      "outputs": [
        {
          "output_type": "display_data",
          "data": {
            "application/javascript": [
              "\n",
              "    async function download(id, filename, size) {\n",
              "      if (!google.colab.kernel.accessAllowed) {\n",
              "        return;\n",
              "      }\n",
              "      const div = document.createElement('div');\n",
              "      const label = document.createElement('label');\n",
              "      label.textContent = `Downloading \"${filename}\": `;\n",
              "      div.appendChild(label);\n",
              "      const progress = document.createElement('progress');\n",
              "      progress.max = size;\n",
              "      div.appendChild(progress);\n",
              "      document.body.appendChild(div);\n",
              "\n",
              "      const buffers = [];\n",
              "      let downloaded = 0;\n",
              "\n",
              "      const channel = await google.colab.kernel.comms.open(id);\n",
              "      // Send a message to notify the kernel that we're ready.\n",
              "      channel.send({})\n",
              "\n",
              "      for await (const message of channel.messages) {\n",
              "        // Send a message to notify the kernel that we're ready.\n",
              "        channel.send({})\n",
              "        if (message.buffers) {\n",
              "          for (const buffer of message.buffers) {\n",
              "            buffers.push(buffer);\n",
              "            downloaded += buffer.byteLength;\n",
              "            progress.value = downloaded;\n",
              "          }\n",
              "        }\n",
              "      }\n",
              "      const blob = new Blob(buffers, {type: 'application/binary'});\n",
              "      const a = document.createElement('a');\n",
              "      a.href = window.URL.createObjectURL(blob);\n",
              "      a.download = filename;\n",
              "      div.appendChild(a);\n",
              "      a.click();\n",
              "      div.remove();\n",
              "    }\n",
              "  "
            ],
            "text/plain": [
              "<IPython.core.display.Javascript object>"
            ]
          },
          "metadata": {
            "tags": []
          }
        },
        {
          "output_type": "display_data",
          "data": {
            "application/javascript": [
              "download(\"download_bdbe6780-ddfb-4f0b-ad18-dd0eb69e24c9\", \"model_tranformer_epochs_500.pt\", 61044038)"
            ],
            "text/plain": [
              "<IPython.core.display.Javascript object>"
            ]
          },
          "metadata": {
            "tags": []
          }
        }
      ]
    },
    {
      "cell_type": "markdown",
      "metadata": {
        "id": "oo_0B6raTtaI"
      },
      "source": [
        "# Load model"
      ],
      "id": "oo_0B6raTtaI"
    },
    {
      "cell_type": "code",
      "metadata": {
        "id": "tyaO_Dw7ThW9"
      },
      "source": [
        "model = torch.load('model_tranformer_epochs_500.pth')"
      ],
      "id": "tyaO_Dw7ThW9",
      "execution_count": 84,
      "outputs": []
    },
    {
      "cell_type": "markdown",
      "metadata": {
        "id": "nhokmIYyT81V"
      },
      "source": [
        "#Translation"
      ],
      "id": "nhokmIYyT81V"
    },
    {
      "cell_type": "code",
      "metadata": {
        "id": "molecular-newton"
      },
      "source": [
        "import pandas as pd\n",
        "import numpy as np"
      ],
      "id": "molecular-newton",
      "execution_count": 42,
      "outputs": []
    },
    {
      "cell_type": "code",
      "metadata": {
        "id": "supreme-sword",
        "colab": {
          "base_uri": "https://localhost:8080/",
          "height": 555
        },
        "outputId": "9a44d513-7a01-4e26-fdea-14cca683036b"
      },
      "source": [
        "df_src=pd.read_csv(src_filepath,names=[\"input\"])\n",
        "df_tgt=pd.read_csv(tgt_filepath,names=[\"target\"])\n",
        "df = pd.concat([df_src,df_tgt], axis=1)\n",
        "df"
      ],
      "id": "supreme-sword",
      "execution_count": 43,
      "outputs": [
        {
          "output_type": "execute_result",
          "data": {
            "text/html": [
              "<div>\n",
              "<style scoped>\n",
              "    .dataframe tbody tr th:only-of-type {\n",
              "        vertical-align: middle;\n",
              "    }\n",
              "\n",
              "    .dataframe tbody tr th {\n",
              "        vertical-align: top;\n",
              "    }\n",
              "\n",
              "    .dataframe thead th {\n",
              "        text-align: right;\n",
              "    }\n",
              "</style>\n",
              "<table border=\"1\" class=\"dataframe\">\n",
              "  <thead>\n",
              "    <tr style=\"text-align: right;\">\n",
              "      <th></th>\n",
              "      <th>input</th>\n",
              "      <th>target</th>\n",
              "    </tr>\n",
              "  </thead>\n",
              "  <tbody>\n",
              "    <tr>\n",
              "      <th>0</th>\n",
              "      <td>&lt;RX_1&gt; O = C 1 C C [ C @ H ] ( C N 2 C C N ( C...</td>\n",
              "      <td>C S ( = O ) ( = O ) O C [ C @ H ] 1 C C C ( = ...</td>\n",
              "    </tr>\n",
              "    <tr>\n",
              "      <th>1</th>\n",
              "      <td>&lt;RX_6&gt; N c 1 n c 2 [ n H ] c ( C C C c 3 c s c...</td>\n",
              "      <td>C O C ( = O ) c 1 c c ( C C C c 2 c c 3 c ( = ...</td>\n",
              "    </tr>\n",
              "    <tr>\n",
              "      <th>2</th>\n",
              "      <td>&lt;RX_9&gt; C C 1 ( C ) O B ( c 2 c c c c ( N c 3 n...</td>\n",
              "      <td>C C 1 ( C ) O B ( B 2 O C ( C ) ( C ) C ( C ) ...</td>\n",
              "    </tr>\n",
              "    <tr>\n",
              "      <th>3</th>\n",
              "      <td>&lt;RX_6&gt; C C ( C ) ( C ) O C ( = O ) N C C ( = O...</td>\n",
              "      <td>C C ( C ) ( C ) O C ( = O ) N C C ( = O ) C C ...</td>\n",
              "    </tr>\n",
              "    <tr>\n",
              "      <th>4</th>\n",
              "      <td>&lt;RX_1&gt; F c 1 c c 2 c ( N C 3 C C C C C C 3 ) n...</td>\n",
              "      <td>F c 1 c c 2 c ( C l ) n c n c 2 c n 1 . N C 1 ...</td>\n",
              "    </tr>\n",
              "    <tr>\n",
              "      <th>...</th>\n",
              "      <td>...</td>\n",
              "      <td>...</td>\n",
              "    </tr>\n",
              "    <tr>\n",
              "      <th>50032</th>\n",
              "      <td>&lt;RX_1&gt; C C ( C ) ( C ) O C ( = O ) N 1 C C c 2...</td>\n",
              "      <td>C C ( C ) ( C ) O C ( = O ) N 1 C C c 2 c c c ...</td>\n",
              "    </tr>\n",
              "    <tr>\n",
              "      <th>50033</th>\n",
              "      <td>&lt;RX_2&gt; C C ( = O ) O C C N C ( = O ) O C ( C )...</td>\n",
              "      <td>C C ( = O ) C l . C C ( C ) ( C ) O C ( = O ) ...</td>\n",
              "    </tr>\n",
              "    <tr>\n",
              "      <th>50034</th>\n",
              "      <td>&lt;RX_3&gt; C c 1 c c c ( - c 2 c c n c c 2 ) c c 1...</td>\n",
              "      <td>C c 1 c c c ( B r ) c c 1 C = O . O B ( O ) c ...</td>\n",
              "    </tr>\n",
              "    <tr>\n",
              "      <th>50035</th>\n",
              "      <td>&lt;RX_1&gt; C C ( C ) ( C ) O C 1 C [ C @ @ H ] 2 C...</td>\n",
              "      <td>C C ( C ) ( C ) O . O = C C 1 = C [ C @ H ] 2 ...</td>\n",
              "    </tr>\n",
              "    <tr>\n",
              "      <th>50036</th>\n",
              "      <td>&lt;RX_4&gt; F c 1 c c ( B r ) c c 2 [ n H ] c n c 1 2</td>\n",
              "      <td>N c 1 c c ( B r ) c c ( F ) c 1 N . O = C O</td>\n",
              "    </tr>\n",
              "  </tbody>\n",
              "</table>\n",
              "<p>50037 rows × 2 columns</p>\n",
              "</div>"
            ],
            "text/plain": [
              "                                                   input                                             target\n",
              "0      <RX_1> O = C 1 C C [ C @ H ] ( C N 2 C C N ( C...  C S ( = O ) ( = O ) O C [ C @ H ] 1 C C C ( = ...\n",
              "1      <RX_6> N c 1 n c 2 [ n H ] c ( C C C c 3 c s c...  C O C ( = O ) c 1 c c ( C C C c 2 c c 3 c ( = ...\n",
              "2      <RX_9> C C 1 ( C ) O B ( c 2 c c c c ( N c 3 n...  C C 1 ( C ) O B ( B 2 O C ( C ) ( C ) C ( C ) ...\n",
              "3      <RX_6> C C ( C ) ( C ) O C ( = O ) N C C ( = O...  C C ( C ) ( C ) O C ( = O ) N C C ( = O ) C C ...\n",
              "4      <RX_1> F c 1 c c 2 c ( N C 3 C C C C C C 3 ) n...  F c 1 c c 2 c ( C l ) n c n c 2 c n 1 . N C 1 ...\n",
              "...                                                  ...                                                ...\n",
              "50032  <RX_1> C C ( C ) ( C ) O C ( = O ) N 1 C C c 2...  C C ( C ) ( C ) O C ( = O ) N 1 C C c 2 c c c ...\n",
              "50033  <RX_2> C C ( = O ) O C C N C ( = O ) O C ( C )...  C C ( = O ) C l . C C ( C ) ( C ) O C ( = O ) ...\n",
              "50034  <RX_3> C c 1 c c c ( - c 2 c c n c c 2 ) c c 1...  C c 1 c c c ( B r ) c c 1 C = O . O B ( O ) c ...\n",
              "50035  <RX_1> C C ( C ) ( C ) O C 1 C [ C @ @ H ] 2 C...  C C ( C ) ( C ) O . O = C C 1 = C [ C @ H ] 2 ...\n",
              "50036   <RX_4> F c 1 c c ( B r ) c c 2 [ n H ] c n c 1 2        N c 1 c c ( B r ) c c ( F ) c 1 N . O = C O\n",
              "\n",
              "[50037 rows x 2 columns]"
            ]
          },
          "metadata": {
            "tags": []
          },
          "execution_count": 43
        }
      ]
    },
    {
      "cell_type": "code",
      "metadata": {
        "id": "Mx6FphMOK0ZK"
      },
      "source": [
        "def greedy_decode(model, src, src_mask, max_len, start_symbol):\n",
        "    src = src.to(device)\n",
        "    src_mask = src_mask.to(device)\n",
        "\n",
        "    memory = model.encode(src, src_mask)\n",
        "    ys = torch.ones(1, 1).fill_(start_symbol).type(torch.long).to(device)\n",
        "    for i in range(max_len-1):\n",
        "        memory = memory.to(device)\n",
        "        memory_mask = torch.zeros(ys.shape[0], memory.shape[0]).to(device).type(torch.bool)\n",
        "        tgt_mask = (generate_square_subsequent_mask(ys.size(0))\n",
        "                                    .type(torch.bool)).to(device)\n",
        "        out = model.decode(ys, memory, tgt_mask)\n",
        "        out = out.transpose(0, 1)\n",
        "        prob = model.generator(out[:, -1])\n",
        "        _, next_word = torch.max(prob, dim = 1)\n",
        "        next_word = next_word.item()\n",
        "\n",
        "        ys = torch.cat([ys,\n",
        "                        torch.ones(1, 1).type_as(src.data).fill_(next_word)], dim=0)\n",
        "        if next_word == EOS_IDX:\n",
        "          break\n",
        "    return ys\n",
        "\n",
        "\n",
        "def translate(model, src, src_vocab, tgt_vocab, src_tokenizer):\n",
        "  model.eval()\n",
        "  tokens = [BOS_IDX] + [src_vocab.stoi[tok] for tok in src_tokenizer(src)]+ [EOS_IDX]\n",
        "  num_tokens = len(tokens)\n",
        "  src = (torch.LongTensor(tokens).reshape(num_tokens, 1) )\n",
        "  src_mask = (torch.zeros(num_tokens, num_tokens)).type(torch.bool)\n",
        "  tgt_tokens = greedy_decode(model,  src, src_mask, max_len=num_tokens + 5, start_symbol=BOS_IDX).flatten()\n",
        "  print(\"Product:\"+ \" \"+df.input[i])\n",
        "  print(\"Reaction Real:\"+\" \"+df.target[i])\n",
        "  return print(\"prediction:\"+\" \".join([tgt_vocab.itos[tok] for tok in tgt_tokens]).replace(\"<bos>\", \"\").replace(\"<eos>\", \"\"))"
      ],
      "id": "Mx6FphMOK0ZK",
      "execution_count": 80,
      "outputs": []
    },
    {
      "cell_type": "code",
      "metadata": {
        "id": "yJbYgmqRaGYz"
      },
      "source": [
        "#epochs 200"
      ],
      "id": "yJbYgmqRaGYz",
      "execution_count": null,
      "outputs": []
    },
    {
      "cell_type": "code",
      "metadata": {
        "colab": {
          "base_uri": "https://localhost:8080/",
          "height": 1000
        },
        "id": "79hdw1aEMr1C",
        "outputId": "9d6d3179-e5ae-40e1-ddeb-87f1e13e27fa"
      },
      "source": [
        "for i in range(50000,50010):\n",
        "  translate(transformer, df.input[i], src_vocab, tgt_vocab, tokenizer)\n",
        "  print(\"    \")"
      ],
      "id": "79hdw1aEMr1C",
      "execution_count": 47,
      "outputs": [
        {
          "output_type": "display_data",
          "data": {
            "text/html": [
              "<pre style=\"white-space:pre;overflow-x:auto;line-height:normal;font-family:Menlo,'DejaVu Sans Mono',consolas,'Courier New',monospace\">Product: <span style=\"font-weight: bold\">&lt;</span><span style=\"color: #ff00ff; text-decoration-color: #ff00ff; font-weight: bold\">RX_9</span><span style=\"font-weight: bold\">&gt;</span> O = C <span style=\"font-weight: bold\">(</span> O <span style=\"font-weight: bold\">)</span> C <span style=\"font-weight: bold\">(</span> = O <span style=\"font-weight: bold\">)</span> O\n",
              "</pre>\n"
            ],
            "text/plain": [
              "Product: \u001b[1m<\u001b[0m\u001b[1;95mRX_9\u001b[0m\u001b[1m>\u001b[0m O = C \u001b[1m(\u001b[0m O \u001b[1m)\u001b[0m C \u001b[1m(\u001b[0m = O \u001b[1m)\u001b[0m O\n"
            ]
          },
          "metadata": {
            "tags": []
          }
        },
        {
          "output_type": "display_data",
          "data": {
            "text/html": [
              "<pre style=\"white-space:pre;overflow-x:auto;line-height:normal;font-family:Menlo,'DejaVu Sans Mono',consolas,'Courier New',monospace\">Reaction Real: C c <span style=\"color: #008080; text-decoration-color: #008080; font-weight: bold\">1</span> c c c <span style=\"font-weight: bold\">(</span> B r <span style=\"font-weight: bold\">)</span> c <span style=\"color: #008080; text-decoration-color: #008080; font-weight: bold\">2</span> c <span style=\"color: #008080; text-decoration-color: #008080; font-weight: bold\">1</span> C <span style=\"font-weight: bold\">(</span> C <span style=\"font-weight: bold\">(</span> C <span style=\"font-weight: bold\">)</span> C <span style=\"font-weight: bold\">)</span> N <span style=\"font-weight: bold\">(</span> C <span style=\"font-weight: bold\">(</span> = O <span style=\"font-weight: bold\">)</span> C N C C <span style=\"color: #008080; text-decoration-color: #008080; font-weight: bold\">1</span> <span style=\"font-weight: bold\">(</span> O <span style=\"font-weight: bold\">)</span> C C \n",
              "C C C <span style=\"color: #008080; text-decoration-color: #008080; font-weight: bold\">1</span> <span style=\"font-weight: bold\">)</span> C C <span style=\"color: #008080; text-decoration-color: #008080; font-weight: bold\">2</span>\n",
              "</pre>\n"
            ],
            "text/plain": [
              "Reaction Real: C c \u001b[1;36m1\u001b[0m c c c \u001b[1m(\u001b[0m B r \u001b[1m)\u001b[0m c \u001b[1;36m2\u001b[0m c \u001b[1;36m1\u001b[0m C \u001b[1m(\u001b[0m C \u001b[1m(\u001b[0m C \u001b[1m)\u001b[0m C \u001b[1m)\u001b[0m N \u001b[1m(\u001b[0m C \u001b[1m(\u001b[0m = O \u001b[1m)\u001b[0m C N C C \u001b[1;36m1\u001b[0m \u001b[1m(\u001b[0m O \u001b[1m)\u001b[0m C C \n",
              "C C C \u001b[1;36m1\u001b[0m \u001b[1m)\u001b[0m C C \u001b[1;36m2\u001b[0m\n"
            ]
          },
          "metadata": {
            "tags": []
          }
        },
        {
          "output_type": "display_data",
          "data": {
            "text/html": [
              "<pre style=\"white-space:pre;overflow-x:auto;line-height:normal;font-family:Menlo,'DejaVu Sans Mono',consolas,'Courier New',monospace\">prediction: c s <span style=\"font-weight: bold\">(</span> = o <span style=\"font-weight: bold\">)</span> <span style=\"font-weight: bold\">(</span> = o <span style=\"font-weight: bold\">)</span> c <span style=\"color: #008080; text-decoration-color: #008080; font-weight: bold\">1</span> c c c c c <span style=\"color: #008080; text-decoration-color: #008080; font-weight: bold\">1</span> .\n",
              "</pre>\n"
            ],
            "text/plain": [
              "prediction: c s \u001b[1m(\u001b[0m = o \u001b[1m)\u001b[0m \u001b[1m(\u001b[0m = o \u001b[1m)\u001b[0m c \u001b[1;36m1\u001b[0m c c c c c \u001b[1;36m1\u001b[0m .\n"
            ]
          },
          "metadata": {
            "tags": []
          }
        },
        {
          "output_type": "display_data",
          "data": {
            "text/html": [
              "<pre style=\"white-space:pre;overflow-x:auto;line-height:normal;font-family:Menlo,'DejaVu Sans Mono',consolas,'Courier New',monospace\">    \n",
              "</pre>\n"
            ],
            "text/plain": [
              "    \n"
            ]
          },
          "metadata": {
            "tags": []
          }
        },
        {
          "output_type": "display_data",
          "data": {
            "text/html": [
              "<pre style=\"white-space:pre;overflow-x:auto;line-height:normal;font-family:Menlo,'DejaVu Sans Mono',consolas,'Courier New',monospace\">Product: <span style=\"font-weight: bold\">&lt;</span><span style=\"color: #ff00ff; text-decoration-color: #ff00ff; font-weight: bold\">RX_3</span><span style=\"font-weight: bold\">&gt;</span> C C O C <span style=\"font-weight: bold\">(</span> = O <span style=\"font-weight: bold\">)</span> C = C C c <span style=\"color: #008080; text-decoration-color: #008080; font-weight: bold\">1</span> c c c <span style=\"font-weight: bold\">(</span> B r <span style=\"font-weight: bold\">)</span> c c <span style=\"color: #008080; text-decoration-color: #008080; font-weight: bold\">1</span>\n",
              "</pre>\n"
            ],
            "text/plain": [
              "Product: \u001b[1m<\u001b[0m\u001b[1;95mRX_3\u001b[0m\u001b[1m>\u001b[0m C C O C \u001b[1m(\u001b[0m = O \u001b[1m)\u001b[0m C = C C c \u001b[1;36m1\u001b[0m c c c \u001b[1m(\u001b[0m B r \u001b[1m)\u001b[0m c c \u001b[1;36m1\u001b[0m\n"
            ]
          },
          "metadata": {
            "tags": []
          }
        },
        {
          "output_type": "display_data",
          "data": {
            "text/html": [
              "<pre style=\"white-space:pre;overflow-x:auto;line-height:normal;font-family:Menlo,'DejaVu Sans Mono',consolas,'Courier New',monospace\">Reaction Real: C C O C <span style=\"font-weight: bold\">(</span> = O <span style=\"font-weight: bold\">)</span> C = P <span style=\"font-weight: bold\">(</span> c <span style=\"color: #008080; text-decoration-color: #008080; font-weight: bold\">1</span> c c c c c <span style=\"color: #008080; text-decoration-color: #008080; font-weight: bold\">1</span> <span style=\"font-weight: bold\">)</span> <span style=\"font-weight: bold\">(</span> c <span style=\"color: #008080; text-decoration-color: #008080; font-weight: bold\">1</span> c c c c c <span style=\"color: #008080; text-decoration-color: #008080; font-weight: bold\">1</span> <span style=\"font-weight: bold\">)</span> c <span style=\"color: #008080; text-decoration-color: #008080; font-weight: bold\">1</span> c c c c c <span style=\"color: #008080; text-decoration-color: #008080; font-weight: bold\">1</span> \n",
              ". O = C C c <span style=\"color: #008080; text-decoration-color: #008080; font-weight: bold\">1</span> c c c <span style=\"font-weight: bold\">(</span> B r <span style=\"font-weight: bold\">)</span> c c <span style=\"color: #008080; text-decoration-color: #008080; font-weight: bold\">1</span>\n",
              "</pre>\n"
            ],
            "text/plain": [
              "Reaction Real: C C O C \u001b[1m(\u001b[0m = O \u001b[1m)\u001b[0m C = P \u001b[1m(\u001b[0m c \u001b[1;36m1\u001b[0m c c c c c \u001b[1;36m1\u001b[0m \u001b[1m)\u001b[0m \u001b[1m(\u001b[0m c \u001b[1;36m1\u001b[0m c c c c c \u001b[1;36m1\u001b[0m \u001b[1m)\u001b[0m c \u001b[1;36m1\u001b[0m c c c c c \u001b[1;36m1\u001b[0m \n",
              ". O = C C c \u001b[1;36m1\u001b[0m c c c \u001b[1m(\u001b[0m B r \u001b[1m)\u001b[0m c c \u001b[1;36m1\u001b[0m\n"
            ]
          },
          "metadata": {
            "tags": []
          }
        },
        {
          "output_type": "display_data",
          "data": {
            "text/html": [
              "<pre style=\"white-space:pre;overflow-x:auto;line-height:normal;font-family:Menlo,'DejaVu Sans Mono',consolas,'Courier New',monospace\">prediction: c c o c <span style=\"font-weight: bold\">(</span> = o <span style=\"font-weight: bold\">)</span> c p <span style=\"font-weight: bold\">(</span> = o <span style=\"font-weight: bold\">)</span> <span style=\"font-weight: bold\">(</span> o c c <span style=\"font-weight: bold\">)</span> o c c . o = c c <span style=\"color: #008080; text-decoration-color: #008080; font-weight: bold\">1</span> c c c\n",
              "</pre>\n"
            ],
            "text/plain": [
              "prediction: c c o c \u001b[1m(\u001b[0m = o \u001b[1m)\u001b[0m c p \u001b[1m(\u001b[0m = o \u001b[1m)\u001b[0m \u001b[1m(\u001b[0m o c c \u001b[1m)\u001b[0m o c c . o = c c \u001b[1;36m1\u001b[0m c c c\n"
            ]
          },
          "metadata": {
            "tags": []
          }
        },
        {
          "output_type": "display_data",
          "data": {
            "text/html": [
              "<pre style=\"white-space:pre;overflow-x:auto;line-height:normal;font-family:Menlo,'DejaVu Sans Mono',consolas,'Courier New',monospace\">    \n",
              "</pre>\n"
            ],
            "text/plain": [
              "    \n"
            ]
          },
          "metadata": {
            "tags": []
          }
        },
        {
          "output_type": "display_data",
          "data": {
            "text/html": [
              "<pre style=\"white-space:pre;overflow-x:auto;line-height:normal;font-family:Menlo,'DejaVu Sans Mono',consolas,'Courier New',monospace\">Product: <span style=\"font-weight: bold\">&lt;</span><span style=\"color: #ff00ff; text-decoration-color: #ff00ff; font-weight: bold\">RX_6</span><span style=\"font-weight: bold\">&gt;</span> C c <span style=\"color: #008080; text-decoration-color: #008080; font-weight: bold\">1</span> c c <span style=\"font-weight: bold\">(</span> C <span style=\"color: #008080; text-decoration-color: #008080; font-weight: bold\">2</span> = N O C <span style=\"font-weight: bold\">(</span> c <span style=\"color: #008080; text-decoration-color: #008080; font-weight: bold\">3</span> c c <span style=\"font-weight: bold\">(</span> C l <span style=\"font-weight: bold\">)</span> c c <span style=\"font-weight: bold\">(</span> C l <span style=\"font-weight: bold\">)</span> c <span style=\"color: #008080; text-decoration-color: #008080; font-weight: bold\">3</span> <span style=\"font-weight: bold\">)</span> <span style=\"font-weight: bold\">(</span> C <span style=\"font-weight: bold\">(</span> F <span style=\"font-weight: bold\">)</span> <span style=\"font-weight: bold\">(</span> F <span style=\"font-weight: bold\">)</span> F\n",
              "<span style=\"font-weight: bold\">)</span> C <span style=\"color: #008080; text-decoration-color: #008080; font-weight: bold\">2</span> = N O <span style=\"font-weight: bold\">)</span> c c c <span style=\"color: #008080; text-decoration-color: #008080; font-weight: bold\">1</span> C <span style=\"font-weight: bold\">(</span> = O <span style=\"font-weight: bold\">)</span> O\n",
              "</pre>\n"
            ],
            "text/plain": [
              "Product: \u001b[1m<\u001b[0m\u001b[1;95mRX_6\u001b[0m\u001b[1m>\u001b[0m C c \u001b[1;36m1\u001b[0m c c \u001b[1m(\u001b[0m C \u001b[1;36m2\u001b[0m = N O C \u001b[1m(\u001b[0m c \u001b[1;36m3\u001b[0m c c \u001b[1m(\u001b[0m C l \u001b[1m)\u001b[0m c c \u001b[1m(\u001b[0m C l \u001b[1m)\u001b[0m c \u001b[1;36m3\u001b[0m \u001b[1m)\u001b[0m \u001b[1m(\u001b[0m C \u001b[1m(\u001b[0m F \u001b[1m)\u001b[0m \u001b[1m(\u001b[0m F \u001b[1m)\u001b[0m F\n",
              "\u001b[1m)\u001b[0m C \u001b[1;36m2\u001b[0m = N O \u001b[1m)\u001b[0m c c c \u001b[1;36m1\u001b[0m C \u001b[1m(\u001b[0m = O \u001b[1m)\u001b[0m O\n"
            ]
          },
          "metadata": {
            "tags": []
          }
        },
        {
          "output_type": "display_data",
          "data": {
            "text/html": [
              "<pre style=\"white-space:pre;overflow-x:auto;line-height:normal;font-family:Menlo,'DejaVu Sans Mono',consolas,'Courier New',monospace\">Reaction Real: C c <span style=\"color: #008080; text-decoration-color: #008080; font-weight: bold\">1</span> c c <span style=\"font-weight: bold\">(</span> C <span style=\"color: #008080; text-decoration-color: #008080; font-weight: bold\">2</span> = N O C <span style=\"font-weight: bold\">(</span> c <span style=\"color: #008080; text-decoration-color: #008080; font-weight: bold\">3</span> c c <span style=\"font-weight: bold\">(</span> C l <span style=\"font-weight: bold\">)</span> c c <span style=\"font-weight: bold\">(</span> C l <span style=\"font-weight: bold\">)</span> c <span style=\"color: #008080; text-decoration-color: #008080; font-weight: bold\">3</span> <span style=\"font-weight: bold\">)</span> <span style=\"font-weight: bold\">(</span> C <span style=\"font-weight: bold\">(</span> F <span style=\"font-weight: bold\">)</span> <span style=\"font-weight: bold\">(</span> F <span style=\"font-weight: bold\">)</span> F \n",
              "<span style=\"font-weight: bold\">)</span> C <span style=\"color: #008080; text-decoration-color: #008080; font-weight: bold\">2</span> = N O <span style=\"font-weight: bold\">)</span> c c c <span style=\"color: #008080; text-decoration-color: #008080; font-weight: bold\">1</span> C <span style=\"font-weight: bold\">(</span> = O <span style=\"font-weight: bold\">)</span> O C <span style=\"font-weight: bold\">(</span> C <span style=\"font-weight: bold\">)</span> <span style=\"font-weight: bold\">(</span> C <span style=\"font-weight: bold\">)</span> C\n",
              "</pre>\n"
            ],
            "text/plain": [
              "Reaction Real: C c \u001b[1;36m1\u001b[0m c c \u001b[1m(\u001b[0m C \u001b[1;36m2\u001b[0m = N O C \u001b[1m(\u001b[0m c \u001b[1;36m3\u001b[0m c c \u001b[1m(\u001b[0m C l \u001b[1m)\u001b[0m c c \u001b[1m(\u001b[0m C l \u001b[1m)\u001b[0m c \u001b[1;36m3\u001b[0m \u001b[1m)\u001b[0m \u001b[1m(\u001b[0m C \u001b[1m(\u001b[0m F \u001b[1m)\u001b[0m \u001b[1m(\u001b[0m F \u001b[1m)\u001b[0m F \n",
              "\u001b[1m)\u001b[0m C \u001b[1;36m2\u001b[0m = N O \u001b[1m)\u001b[0m c c c \u001b[1;36m1\u001b[0m C \u001b[1m(\u001b[0m = O \u001b[1m)\u001b[0m O C \u001b[1m(\u001b[0m C \u001b[1m)\u001b[0m \u001b[1m(\u001b[0m C \u001b[1m)\u001b[0m C\n"
            ]
          },
          "metadata": {
            "tags": []
          }
        },
        {
          "output_type": "display_data",
          "data": {
            "text/html": [
              "<pre style=\"white-space:pre;overflow-x:auto;line-height:normal;font-family:Menlo,'DejaVu Sans Mono',consolas,'Courier New',monospace\">prediction: c o c <span style=\"font-weight: bold\">(</span> = o <span style=\"font-weight: bold\">)</span> c <span style=\"color: #008080; text-decoration-color: #008080; font-weight: bold\">1</span> c c c <span style=\"font-weight: bold\">(</span> c <span style=\"color: #008080; text-decoration-color: #008080; font-weight: bold\">2</span> = n o c <span style=\"font-weight: bold\">(</span> c <span style=\"color: #008080; text-decoration-color: #008080; font-weight: bold\">3</span> c c <span style=\"font-weight: bold\">(</span> c l <span style=\"font-weight: bold\">)</span> c c <span style=\"font-weight: bold\">(</span> c l <span style=\"font-weight: bold\">)</span> c <span style=\"color: #008080; text-decoration-color: #008080; font-weight: bold\">3</span> <span style=\"font-weight: bold\">)</span> <span style=\"font-weight: bold\">(</span> c <span style=\"font-weight: bold\">(</span> f\n",
              "<span style=\"font-weight: bold\">)</span> <span style=\"font-weight: bold\">(</span> f <span style=\"font-weight: bold\">)</span> f <span style=\"font-weight: bold\">)</span> c <span style=\"color: #008080; text-decoration-color: #008080; font-weight: bold\">2</span> = n o <span style=\"font-weight: bold\">)</span> c c <span style=\"color: #008080; text-decoration-color: #008080; font-weight: bold\">1</span> c \n",
              "</pre>\n"
            ],
            "text/plain": [
              "prediction: c o c \u001b[1m(\u001b[0m = o \u001b[1m)\u001b[0m c \u001b[1;36m1\u001b[0m c c c \u001b[1m(\u001b[0m c \u001b[1;36m2\u001b[0m = n o c \u001b[1m(\u001b[0m c \u001b[1;36m3\u001b[0m c c \u001b[1m(\u001b[0m c l \u001b[1m)\u001b[0m c c \u001b[1m(\u001b[0m c l \u001b[1m)\u001b[0m c \u001b[1;36m3\u001b[0m \u001b[1m)\u001b[0m \u001b[1m(\u001b[0m c \u001b[1m(\u001b[0m f\n",
              "\u001b[1m)\u001b[0m \u001b[1m(\u001b[0m f \u001b[1m)\u001b[0m f \u001b[1m)\u001b[0m c \u001b[1;36m2\u001b[0m = n o \u001b[1m)\u001b[0m c c \u001b[1;36m1\u001b[0m c \n"
            ]
          },
          "metadata": {
            "tags": []
          }
        },
        {
          "output_type": "display_data",
          "data": {
            "text/html": [
              "<pre style=\"white-space:pre;overflow-x:auto;line-height:normal;font-family:Menlo,'DejaVu Sans Mono',consolas,'Courier New',monospace\">    \n",
              "</pre>\n"
            ],
            "text/plain": [
              "    \n"
            ]
          },
          "metadata": {
            "tags": []
          }
        },
        {
          "output_type": "display_data",
          "data": {
            "text/html": [
              "<pre style=\"white-space:pre;overflow-x:auto;line-height:normal;font-family:Menlo,'DejaVu Sans Mono',consolas,'Courier New',monospace\">Product: <span style=\"font-weight: bold\">&lt;</span><span style=\"color: #ff00ff; text-decoration-color: #ff00ff; font-weight: bold\">RX_6</span><span style=\"font-weight: bold\">&gt;</span> N # C c <span style=\"color: #008080; text-decoration-color: #008080; font-weight: bold\">1</span> n c c <span style=\"font-weight: bold\">(</span> B r <span style=\"font-weight: bold\">)</span> c <span style=\"font-weight: bold\">(</span> N <span style=\"font-weight: bold\">(</span> N <span style=\"font-weight: bold\">)</span> C <span style=\"color: #008080; text-decoration-color: #008080; font-weight: bold\">2</span> C C O C C <span style=\"color: #008080; text-decoration-color: #008080; font-weight: bold\">2</span> <span style=\"font-weight: bold\">)</span> n <span style=\"color: #008080; text-decoration-color: #008080; font-weight: bold\">1</span>\n",
              "</pre>\n"
            ],
            "text/plain": [
              "Product: \u001b[1m<\u001b[0m\u001b[1;95mRX_6\u001b[0m\u001b[1m>\u001b[0m N # C c \u001b[1;36m1\u001b[0m n c c \u001b[1m(\u001b[0m B r \u001b[1m)\u001b[0m c \u001b[1m(\u001b[0m N \u001b[1m(\u001b[0m N \u001b[1m)\u001b[0m C \u001b[1;36m2\u001b[0m C C O C C \u001b[1;36m2\u001b[0m \u001b[1m)\u001b[0m n \u001b[1;36m1\u001b[0m\n"
            ]
          },
          "metadata": {
            "tags": []
          }
        },
        {
          "output_type": "display_data",
          "data": {
            "text/html": [
              "<pre style=\"white-space:pre;overflow-x:auto;line-height:normal;font-family:Menlo,'DejaVu Sans Mono',consolas,'Courier New',monospace\">Reaction Real: C C <span style=\"font-weight: bold\">(</span> C <span style=\"font-weight: bold\">)</span> <span style=\"font-weight: bold\">(</span> C <span style=\"font-weight: bold\">)</span> O C <span style=\"font-weight: bold\">(</span> = O <span style=\"font-weight: bold\">)</span> N N <span style=\"font-weight: bold\">(</span> c <span style=\"color: #008080; text-decoration-color: #008080; font-weight: bold\">1</span> n c <span style=\"font-weight: bold\">(</span> C # N <span style=\"font-weight: bold\">)</span> n c c <span style=\"color: #008080; text-decoration-color: #008080; font-weight: bold\">1</span> B r <span style=\"font-weight: bold\">)</span> C <span style=\"color: #008080; text-decoration-color: #008080; font-weight: bold\">1</span> C C O C \n",
              "C <span style=\"color: #008080; text-decoration-color: #008080; font-weight: bold\">1</span>\n",
              "</pre>\n"
            ],
            "text/plain": [
              "Reaction Real: C C \u001b[1m(\u001b[0m C \u001b[1m)\u001b[0m \u001b[1m(\u001b[0m C \u001b[1m)\u001b[0m O C \u001b[1m(\u001b[0m = O \u001b[1m)\u001b[0m N N \u001b[1m(\u001b[0m c \u001b[1;36m1\u001b[0m n c \u001b[1m(\u001b[0m C # N \u001b[1m)\u001b[0m n c c \u001b[1;36m1\u001b[0m B r \u001b[1m)\u001b[0m C \u001b[1;36m1\u001b[0m C C O C \n",
              "C \u001b[1;36m1\u001b[0m\n"
            ]
          },
          "metadata": {
            "tags": []
          }
        },
        {
          "output_type": "display_data",
          "data": {
            "text/html": [
              "<pre style=\"white-space:pre;overflow-x:auto;line-height:normal;font-family:Menlo,'DejaVu Sans Mono',consolas,'Courier New',monospace\">prediction: c c <span style=\"font-weight: bold\">(</span> c <span style=\"font-weight: bold\">)</span> <span style=\"font-weight: bold\">(</span> c <span style=\"font-weight: bold\">)</span> o c <span style=\"font-weight: bold\">(</span> = o <span style=\"font-weight: bold\">)</span> n n <span style=\"font-weight: bold\">(</span> c <span style=\"color: #008080; text-decoration-color: #008080; font-weight: bold\">1</span> n c <span style=\"font-weight: bold\">(</span> c # n <span style=\"font-weight: bold\">)</span> n c c <span style=\"color: #008080; text-decoration-color: #008080; font-weight: bold\">1</span> b r <span style=\"font-weight: bold\">)</span> c <span style=\"color: #008080; text-decoration-color: #008080; font-weight: bold\">1</span> c\n",
              "</pre>\n"
            ],
            "text/plain": [
              "prediction: c c \u001b[1m(\u001b[0m c \u001b[1m)\u001b[0m \u001b[1m(\u001b[0m c \u001b[1m)\u001b[0m o c \u001b[1m(\u001b[0m = o \u001b[1m)\u001b[0m n n \u001b[1m(\u001b[0m c \u001b[1;36m1\u001b[0m n c \u001b[1m(\u001b[0m c # n \u001b[1m)\u001b[0m n c c \u001b[1;36m1\u001b[0m b r \u001b[1m)\u001b[0m c \u001b[1;36m1\u001b[0m c\n"
            ]
          },
          "metadata": {
            "tags": []
          }
        },
        {
          "output_type": "display_data",
          "data": {
            "text/html": [
              "<pre style=\"white-space:pre;overflow-x:auto;line-height:normal;font-family:Menlo,'DejaVu Sans Mono',consolas,'Courier New',monospace\">    \n",
              "</pre>\n"
            ],
            "text/plain": [
              "    \n"
            ]
          },
          "metadata": {
            "tags": []
          }
        },
        {
          "output_type": "display_data",
          "data": {
            "text/html": [
              "<pre style=\"white-space:pre;overflow-x:auto;line-height:normal;font-family:Menlo,'DejaVu Sans Mono',consolas,'Courier New',monospace\">Product: <span style=\"font-weight: bold\">&lt;</span><span style=\"color: #ff00ff; text-decoration-color: #ff00ff; font-weight: bold\">RX_2</span><span style=\"font-weight: bold\">&gt;</span> O = C <span style=\"color: #008080; text-decoration-color: #008080; font-weight: bold\">1</span> C C C <span style=\"font-weight: bold\">(</span> N <span style=\"color: #008080; text-decoration-color: #008080; font-weight: bold\">2</span> C c <span style=\"color: #008080; text-decoration-color: #008080; font-weight: bold\">3</span> c c <span style=\"font-weight: bold\">(</span> C N C <span style=\"font-weight: bold\">(</span> = O <span style=\"font-weight: bold\">)</span> N <span style=\"color: #008080; text-decoration-color: #008080; font-weight: bold\">4</span> C C O C C <span style=\"color: #008080; text-decoration-color: #008080; font-weight: bold\">4</span> <span style=\"font-weight: bold\">)</span> c c c <span style=\"color: #008080; text-decoration-color: #008080; font-weight: bold\">3</span> C <span style=\"color: #008080; text-decoration-color: #008080; font-weight: bold\">2</span> =\n",
              "O <span style=\"font-weight: bold\">)</span> C <span style=\"font-weight: bold\">(</span> = O <span style=\"font-weight: bold\">)</span> N <span style=\"color: #008080; text-decoration-color: #008080; font-weight: bold\">1</span>\n",
              "</pre>\n"
            ],
            "text/plain": [
              "Product: \u001b[1m<\u001b[0m\u001b[1;95mRX_2\u001b[0m\u001b[1m>\u001b[0m O = C \u001b[1;36m1\u001b[0m C C C \u001b[1m(\u001b[0m N \u001b[1;36m2\u001b[0m C c \u001b[1;36m3\u001b[0m c c \u001b[1m(\u001b[0m C N C \u001b[1m(\u001b[0m = O \u001b[1m)\u001b[0m N \u001b[1;36m4\u001b[0m C C O C C \u001b[1;36m4\u001b[0m \u001b[1m)\u001b[0m c c c \u001b[1;36m3\u001b[0m C \u001b[1;36m2\u001b[0m =\n",
              "O \u001b[1m)\u001b[0m C \u001b[1m(\u001b[0m = O \u001b[1m)\u001b[0m N \u001b[1;36m1\u001b[0m\n"
            ]
          },
          "metadata": {
            "tags": []
          }
        },
        {
          "output_type": "display_data",
          "data": {
            "text/html": [
              "<pre style=\"white-space:pre;overflow-x:auto;line-height:normal;font-family:Menlo,'DejaVu Sans Mono',consolas,'Courier New',monospace\">Reaction Real: N C c <span style=\"color: #008080; text-decoration-color: #008080; font-weight: bold\">1</span> c c c <span style=\"color: #008080; text-decoration-color: #008080; font-weight: bold\">2</span> c <span style=\"font-weight: bold\">(</span> c <span style=\"color: #008080; text-decoration-color: #008080; font-weight: bold\">1</span> <span style=\"font-weight: bold\">)</span> C N <span style=\"font-weight: bold\">(</span> C <span style=\"color: #008080; text-decoration-color: #008080; font-weight: bold\">1</span> C C C <span style=\"font-weight: bold\">(</span> = O <span style=\"font-weight: bold\">)</span> N C <span style=\"color: #008080; text-decoration-color: #008080; font-weight: bold\">1</span> = O <span style=\"font-weight: bold\">)</span> C <span style=\"color: #008080; text-decoration-color: #008080; font-weight: bold\">2</span> = O . O = C \n",
              "<span style=\"font-weight: bold\">(</span> C l <span style=\"font-weight: bold\">)</span> N <span style=\"color: #008080; text-decoration-color: #008080; font-weight: bold\">1</span> C C O C C <span style=\"color: #008080; text-decoration-color: #008080; font-weight: bold\">1</span>\n",
              "</pre>\n"
            ],
            "text/plain": [
              "Reaction Real: N C c \u001b[1;36m1\u001b[0m c c c \u001b[1;36m2\u001b[0m c \u001b[1m(\u001b[0m c \u001b[1;36m1\u001b[0m \u001b[1m)\u001b[0m C N \u001b[1m(\u001b[0m C \u001b[1;36m1\u001b[0m C C C \u001b[1m(\u001b[0m = O \u001b[1m)\u001b[0m N C \u001b[1;36m1\u001b[0m = O \u001b[1m)\u001b[0m C \u001b[1;36m2\u001b[0m = O . O = C \n",
              "\u001b[1m(\u001b[0m C l \u001b[1m)\u001b[0m N \u001b[1;36m1\u001b[0m C C O C C \u001b[1;36m1\u001b[0m\n"
            ]
          },
          "metadata": {
            "tags": []
          }
        },
        {
          "output_type": "display_data",
          "data": {
            "text/html": [
              "<pre style=\"white-space:pre;overflow-x:auto;line-height:normal;font-family:Menlo,'DejaVu Sans Mono',consolas,'Courier New',monospace\">prediction: n c c <span style=\"color: #008080; text-decoration-color: #008080; font-weight: bold\">1</span> c c c <span style=\"color: #008080; text-decoration-color: #008080; font-weight: bold\">2</span> c <span style=\"font-weight: bold\">(</span> c <span style=\"color: #008080; text-decoration-color: #008080; font-weight: bold\">1</span> <span style=\"font-weight: bold\">)</span> c n <span style=\"font-weight: bold\">(</span> c <span style=\"color: #008080; text-decoration-color: #008080; font-weight: bold\">1</span> c c c <span style=\"font-weight: bold\">(</span> = o <span style=\"font-weight: bold\">)</span> n c <span style=\"color: #008080; text-decoration-color: #008080; font-weight: bold\">1</span> = o <span style=\"font-weight: bold\">)</span> c <span style=\"color: #008080; text-decoration-color: #008080; font-weight: bold\">2</span> = o . o = c <span style=\"font-weight: bold\">(</span> c\n",
              "l <span style=\"font-weight: bold\">)</span> n <span style=\"color: #008080; text-decoration-color: #008080; font-weight: bold\">1</span> c c o c c <span style=\"color: #008080; text-decoration-color: #008080; font-weight: bold\">1</span> \n",
              "</pre>\n"
            ],
            "text/plain": [
              "prediction: n c c \u001b[1;36m1\u001b[0m c c c \u001b[1;36m2\u001b[0m c \u001b[1m(\u001b[0m c \u001b[1;36m1\u001b[0m \u001b[1m)\u001b[0m c n \u001b[1m(\u001b[0m c \u001b[1;36m1\u001b[0m c c c \u001b[1m(\u001b[0m = o \u001b[1m)\u001b[0m n c \u001b[1;36m1\u001b[0m = o \u001b[1m)\u001b[0m c \u001b[1;36m2\u001b[0m = o . o = c \u001b[1m(\u001b[0m c\n",
              "l \u001b[1m)\u001b[0m n \u001b[1;36m1\u001b[0m c c o c c \u001b[1;36m1\u001b[0m \n"
            ]
          },
          "metadata": {
            "tags": []
          }
        },
        {
          "output_type": "display_data",
          "data": {
            "text/html": [
              "<pre style=\"white-space:pre;overflow-x:auto;line-height:normal;font-family:Menlo,'DejaVu Sans Mono',consolas,'Courier New',monospace\">    \n",
              "</pre>\n"
            ],
            "text/plain": [
              "    \n"
            ]
          },
          "metadata": {
            "tags": []
          }
        },
        {
          "output_type": "display_data",
          "data": {
            "text/html": [
              "<pre style=\"white-space:pre;overflow-x:auto;line-height:normal;font-family:Menlo,'DejaVu Sans Mono',consolas,'Courier New',monospace\">Product: <span style=\"font-weight: bold\">&lt;</span><span style=\"color: #ff00ff; text-decoration-color: #ff00ff; font-weight: bold\">RX_7</span><span style=\"font-weight: bold\">&gt;</span> C c <span style=\"color: #008080; text-decoration-color: #008080; font-weight: bold\">1</span> c c c <span style=\"font-weight: bold\">(</span> N <span style=\"font-weight: bold\">)</span> c c <span style=\"color: #008080; text-decoration-color: #008080; font-weight: bold\">1</span> C <span style=\"font-weight: bold\">(</span> = O <span style=\"font-weight: bold\">)</span> N S <span style=\"font-weight: bold\">(</span> C <span style=\"font-weight: bold\">)</span> <span style=\"font-weight: bold\">(</span> = O <span style=\"font-weight: bold\">)</span> = O\n",
              "</pre>\n"
            ],
            "text/plain": [
              "Product: \u001b[1m<\u001b[0m\u001b[1;95mRX_7\u001b[0m\u001b[1m>\u001b[0m C c \u001b[1;36m1\u001b[0m c c c \u001b[1m(\u001b[0m N \u001b[1m)\u001b[0m c c \u001b[1;36m1\u001b[0m C \u001b[1m(\u001b[0m = O \u001b[1m)\u001b[0m N S \u001b[1m(\u001b[0m C \u001b[1m)\u001b[0m \u001b[1m(\u001b[0m = O \u001b[1m)\u001b[0m = O\n"
            ]
          },
          "metadata": {
            "tags": []
          }
        },
        {
          "output_type": "display_data",
          "data": {
            "text/html": [
              "<pre style=\"white-space:pre;overflow-x:auto;line-height:normal;font-family:Menlo,'DejaVu Sans Mono',consolas,'Courier New',monospace\">Reaction Real: C c <span style=\"color: #008080; text-decoration-color: #008080; font-weight: bold\">1</span> c c c <span style=\"font-weight: bold\">(</span> <span style=\"font-weight: bold\">[</span> N + <span style=\"font-weight: bold\">]</span> <span style=\"font-weight: bold\">(</span> = O <span style=\"font-weight: bold\">)</span> <span style=\"font-weight: bold\">[</span> O - <span style=\"font-weight: bold\">]</span> <span style=\"font-weight: bold\">)</span> c c <span style=\"color: #008080; text-decoration-color: #008080; font-weight: bold\">1</span> C <span style=\"font-weight: bold\">(</span> = O <span style=\"font-weight: bold\">)</span> N S <span style=\"font-weight: bold\">(</span> C <span style=\"font-weight: bold\">)</span> <span style=\"font-weight: bold\">(</span> = O <span style=\"font-weight: bold\">)</span> = O\n",
              "</pre>\n"
            ],
            "text/plain": [
              "Reaction Real: C c \u001b[1;36m1\u001b[0m c c c \u001b[1m(\u001b[0m \u001b[1m[\u001b[0m N + \u001b[1m]\u001b[0m \u001b[1m(\u001b[0m = O \u001b[1m)\u001b[0m \u001b[1m[\u001b[0m O - \u001b[1m]\u001b[0m \u001b[1m)\u001b[0m c c \u001b[1;36m1\u001b[0m C \u001b[1m(\u001b[0m = O \u001b[1m)\u001b[0m N S \u001b[1m(\u001b[0m C \u001b[1m)\u001b[0m \u001b[1m(\u001b[0m = O \u001b[1m)\u001b[0m = O\n"
            ]
          },
          "metadata": {
            "tags": []
          }
        },
        {
          "output_type": "display_data",
          "data": {
            "text/html": [
              "<pre style=\"white-space:pre;overflow-x:auto;line-height:normal;font-family:Menlo,'DejaVu Sans Mono',consolas,'Courier New',monospace\">prediction: c c <span style=\"color: #008080; text-decoration-color: #008080; font-weight: bold\">1</span> c c c <span style=\"font-weight: bold\">(</span> <span style=\"font-weight: bold\">[</span> n + <span style=\"font-weight: bold\">]</span> <span style=\"font-weight: bold\">(</span> = o <span style=\"font-weight: bold\">)</span> <span style=\"font-weight: bold\">[</span> o - <span style=\"font-weight: bold\">]</span> <span style=\"font-weight: bold\">)</span> c c <span style=\"color: #008080; text-decoration-color: #008080; font-weight: bold\">1</span> c <span style=\"font-weight: bold\">(</span> = o <span style=\"font-weight: bold\">)</span> n s <span style=\"font-weight: bold\">(</span> c <span style=\"font-weight: bold\">)</span> <span style=\"font-weight: bold\">(</span> =\n",
              "</pre>\n"
            ],
            "text/plain": [
              "prediction: c c \u001b[1;36m1\u001b[0m c c c \u001b[1m(\u001b[0m \u001b[1m[\u001b[0m n + \u001b[1m]\u001b[0m \u001b[1m(\u001b[0m = o \u001b[1m)\u001b[0m \u001b[1m[\u001b[0m o - \u001b[1m]\u001b[0m \u001b[1m)\u001b[0m c c \u001b[1;36m1\u001b[0m c \u001b[1m(\u001b[0m = o \u001b[1m)\u001b[0m n s \u001b[1m(\u001b[0m c \u001b[1m)\u001b[0m \u001b[1m(\u001b[0m =\n"
            ]
          },
          "metadata": {
            "tags": []
          }
        },
        {
          "output_type": "display_data",
          "data": {
            "text/html": [
              "<pre style=\"white-space:pre;overflow-x:auto;line-height:normal;font-family:Menlo,'DejaVu Sans Mono',consolas,'Courier New',monospace\">    \n",
              "</pre>\n"
            ],
            "text/plain": [
              "    \n"
            ]
          },
          "metadata": {
            "tags": []
          }
        },
        {
          "output_type": "display_data",
          "data": {
            "text/html": [
              "<pre style=\"white-space:pre;overflow-x:auto;line-height:normal;font-family:Menlo,'DejaVu Sans Mono',consolas,'Courier New',monospace\">Product: <span style=\"font-weight: bold\">&lt;</span><span style=\"color: #ff00ff; text-decoration-color: #ff00ff; font-weight: bold\">RX_6</span><span style=\"font-weight: bold\">&gt;</span> O = C <span style=\"font-weight: bold\">(</span> O <span style=\"font-weight: bold\">)</span> C c <span style=\"color: #008080; text-decoration-color: #008080; font-weight: bold\">1</span> c c c <span style=\"color: #008080; text-decoration-color: #008080; font-weight: bold\">2</span> s c <span style=\"font-weight: bold\">(</span> = O <span style=\"font-weight: bold\">)</span> <span style=\"font-weight: bold\">[</span> n H <span style=\"font-weight: bold\">]</span> c <span style=\"color: #008080; text-decoration-color: #008080; font-weight: bold\">2</span> c <span style=\"color: #008080; text-decoration-color: #008080; font-weight: bold\">1</span>\n",
              "</pre>\n"
            ],
            "text/plain": [
              "Product: \u001b[1m<\u001b[0m\u001b[1;95mRX_6\u001b[0m\u001b[1m>\u001b[0m O = C \u001b[1m(\u001b[0m O \u001b[1m)\u001b[0m C c \u001b[1;36m1\u001b[0m c c c \u001b[1;36m2\u001b[0m s c \u001b[1m(\u001b[0m = O \u001b[1m)\u001b[0m \u001b[1m[\u001b[0m n H \u001b[1m]\u001b[0m c \u001b[1;36m2\u001b[0m c \u001b[1;36m1\u001b[0m\n"
            ]
          },
          "metadata": {
            "tags": []
          }
        },
        {
          "output_type": "display_data",
          "data": {
            "text/html": [
              "<pre style=\"white-space:pre;overflow-x:auto;line-height:normal;font-family:Menlo,'DejaVu Sans Mono',consolas,'Courier New',monospace\">Reaction Real: C C O C <span style=\"font-weight: bold\">(</span> = O <span style=\"font-weight: bold\">)</span> C c <span style=\"color: #008080; text-decoration-color: #008080; font-weight: bold\">1</span> c c c <span style=\"color: #008080; text-decoration-color: #008080; font-weight: bold\">2</span> s c <span style=\"font-weight: bold\">(</span> = O <span style=\"font-weight: bold\">)</span> <span style=\"font-weight: bold\">[</span> n H <span style=\"font-weight: bold\">]</span> c <span style=\"color: #008080; text-decoration-color: #008080; font-weight: bold\">2</span> c <span style=\"color: #008080; text-decoration-color: #008080; font-weight: bold\">1</span>\n",
              "</pre>\n"
            ],
            "text/plain": [
              "Reaction Real: C C O C \u001b[1m(\u001b[0m = O \u001b[1m)\u001b[0m C c \u001b[1;36m1\u001b[0m c c c \u001b[1;36m2\u001b[0m s c \u001b[1m(\u001b[0m = O \u001b[1m)\u001b[0m \u001b[1m[\u001b[0m n H \u001b[1m]\u001b[0m c \u001b[1;36m2\u001b[0m c \u001b[1;36m1\u001b[0m\n"
            ]
          },
          "metadata": {
            "tags": []
          }
        },
        {
          "output_type": "display_data",
          "data": {
            "text/html": [
              "<pre style=\"white-space:pre;overflow-x:auto;line-height:normal;font-family:Menlo,'DejaVu Sans Mono',consolas,'Courier New',monospace\">prediction: c c o c <span style=\"font-weight: bold\">(</span> = o <span style=\"font-weight: bold\">)</span> c c <span style=\"color: #008080; text-decoration-color: #008080; font-weight: bold\">1</span> c c c <span style=\"color: #008080; text-decoration-color: #008080; font-weight: bold\">2</span> s c <span style=\"font-weight: bold\">(</span> = o <span style=\"font-weight: bold\">)</span> <span style=\"font-weight: bold\">[</span> n h <span style=\"font-weight: bold\">]</span> c <span style=\"color: #008080; text-decoration-color: #008080; font-weight: bold\">2</span> c <span style=\"color: #008080; text-decoration-color: #008080; font-weight: bold\">1</span> \n",
              "</pre>\n"
            ],
            "text/plain": [
              "prediction: c c o c \u001b[1m(\u001b[0m = o \u001b[1m)\u001b[0m c c \u001b[1;36m1\u001b[0m c c c \u001b[1;36m2\u001b[0m s c \u001b[1m(\u001b[0m = o \u001b[1m)\u001b[0m \u001b[1m[\u001b[0m n h \u001b[1m]\u001b[0m c \u001b[1;36m2\u001b[0m c \u001b[1;36m1\u001b[0m \n"
            ]
          },
          "metadata": {
            "tags": []
          }
        },
        {
          "output_type": "display_data",
          "data": {
            "text/html": [
              "<pre style=\"white-space:pre;overflow-x:auto;line-height:normal;font-family:Menlo,'DejaVu Sans Mono',consolas,'Courier New',monospace\">    \n",
              "</pre>\n"
            ],
            "text/plain": [
              "    \n"
            ]
          },
          "metadata": {
            "tags": []
          }
        },
        {
          "output_type": "display_data",
          "data": {
            "text/html": [
              "<pre style=\"white-space:pre;overflow-x:auto;line-height:normal;font-family:Menlo,'DejaVu Sans Mono',consolas,'Courier New',monospace\">Product: <span style=\"font-weight: bold\">&lt;</span><span style=\"color: #ff00ff; text-decoration-color: #ff00ff; font-weight: bold\">RX_9</span><span style=\"font-weight: bold\">&gt;</span> N C <span style=\"font-weight: bold\">(</span> = O <span style=\"font-weight: bold\">)</span> C <span style=\"color: #008080; text-decoration-color: #008080; font-weight: bold\">1</span> C C N <span style=\"font-weight: bold\">(</span> C C C O c <span style=\"color: #008080; text-decoration-color: #008080; font-weight: bold\">2</span> c c c <span style=\"font-weight: bold\">(</span> - n <span style=\"color: #008080; text-decoration-color: #008080; font-weight: bold\">3</span> n c <span style=\"color: #008080; text-decoration-color: #008080; font-weight: bold\">4</span> c c c c c <span style=\"color: #008080; text-decoration-color: #008080; font-weight: bold\">4</span> c <span style=\"color: #008080; text-decoration-color: #008080; font-weight: bold\">3</span> C l <span style=\"font-weight: bold\">)</span>\n",
              "c c <span style=\"color: #008080; text-decoration-color: #008080; font-weight: bold\">2</span> <span style=\"font-weight: bold\">)</span> C C <span style=\"color: #008080; text-decoration-color: #008080; font-weight: bold\">1</span>\n",
              "</pre>\n"
            ],
            "text/plain": [
              "Product: \u001b[1m<\u001b[0m\u001b[1;95mRX_9\u001b[0m\u001b[1m>\u001b[0m N C \u001b[1m(\u001b[0m = O \u001b[1m)\u001b[0m C \u001b[1;36m1\u001b[0m C C N \u001b[1m(\u001b[0m C C C O c \u001b[1;36m2\u001b[0m c c c \u001b[1m(\u001b[0m - n \u001b[1;36m3\u001b[0m n c \u001b[1;36m4\u001b[0m c c c c c \u001b[1;36m4\u001b[0m c \u001b[1;36m3\u001b[0m C l \u001b[1m)\u001b[0m\n",
              "c c \u001b[1;36m2\u001b[0m \u001b[1m)\u001b[0m C C \u001b[1;36m1\u001b[0m\n"
            ]
          },
          "metadata": {
            "tags": []
          }
        },
        {
          "output_type": "display_data",
          "data": {
            "text/html": [
              "<pre style=\"white-space:pre;overflow-x:auto;line-height:normal;font-family:Menlo,'DejaVu Sans Mono',consolas,'Courier New',monospace\">Reaction Real: N . O = C <span style=\"font-weight: bold\">(</span> O <span style=\"font-weight: bold\">)</span> C <span style=\"color: #008080; text-decoration-color: #008080; font-weight: bold\">1</span> C C N <span style=\"font-weight: bold\">(</span> C C C O c <span style=\"color: #008080; text-decoration-color: #008080; font-weight: bold\">2</span> c c c <span style=\"font-weight: bold\">(</span> - n <span style=\"color: #008080; text-decoration-color: #008080; font-weight: bold\">3</span> n c <span style=\"color: #008080; text-decoration-color: #008080; font-weight: bold\">4</span> c c c c c <span style=\"color: #008080; text-decoration-color: #008080; font-weight: bold\">4</span> c <span style=\"color: #008080; text-decoration-color: #008080; font-weight: bold\">3</span> C \n",
              "l <span style=\"font-weight: bold\">)</span> c c <span style=\"color: #008080; text-decoration-color: #008080; font-weight: bold\">2</span> <span style=\"font-weight: bold\">)</span> C C <span style=\"color: #008080; text-decoration-color: #008080; font-weight: bold\">1</span>\n",
              "</pre>\n"
            ],
            "text/plain": [
              "Reaction Real: N . O = C \u001b[1m(\u001b[0m O \u001b[1m)\u001b[0m C \u001b[1;36m1\u001b[0m C C N \u001b[1m(\u001b[0m C C C O c \u001b[1;36m2\u001b[0m c c c \u001b[1m(\u001b[0m - n \u001b[1;36m3\u001b[0m n c \u001b[1;36m4\u001b[0m c c c c c \u001b[1;36m4\u001b[0m c \u001b[1;36m3\u001b[0m C \n",
              "l \u001b[1m)\u001b[0m c c \u001b[1;36m2\u001b[0m \u001b[1m)\u001b[0m C C \u001b[1;36m1\u001b[0m\n"
            ]
          },
          "metadata": {
            "tags": []
          }
        },
        {
          "output_type": "display_data",
          "data": {
            "text/html": [
              "<pre style=\"white-space:pre;overflow-x:auto;line-height:normal;font-family:Menlo,'DejaVu Sans Mono',consolas,'Courier New',monospace\">prediction: c c o c <span style=\"font-weight: bold\">(</span> = o <span style=\"font-weight: bold\">)</span> c <span style=\"color: #008080; text-decoration-color: #008080; font-weight: bold\">1</span> c c n <span style=\"font-weight: bold\">(</span> c c c o c <span style=\"color: #008080; text-decoration-color: #008080; font-weight: bold\">2</span> c c c <span style=\"font-weight: bold\">(</span> - n <span style=\"color: #008080; text-decoration-color: #008080; font-weight: bold\">3</span> n c <span style=\"color: #008080; text-decoration-color: #008080; font-weight: bold\">4</span> c c c c c <span style=\"color: #008080; text-decoration-color: #008080; font-weight: bold\">4</span> c <span style=\"color: #008080; text-decoration-color: #008080; font-weight: bold\">3</span> c l <span style=\"font-weight: bold\">)</span>\n",
              "c c <span style=\"color: #008080; text-decoration-color: #008080; font-weight: bold\">2</span> <span style=\"font-weight: bold\">)</span> c c <span style=\"color: #008080; text-decoration-color: #008080; font-weight: bold\">1</span> . n \n",
              "</pre>\n"
            ],
            "text/plain": [
              "prediction: c c o c \u001b[1m(\u001b[0m = o \u001b[1m)\u001b[0m c \u001b[1;36m1\u001b[0m c c n \u001b[1m(\u001b[0m c c c o c \u001b[1;36m2\u001b[0m c c c \u001b[1m(\u001b[0m - n \u001b[1;36m3\u001b[0m n c \u001b[1;36m4\u001b[0m c c c c c \u001b[1;36m4\u001b[0m c \u001b[1;36m3\u001b[0m c l \u001b[1m)\u001b[0m\n",
              "c c \u001b[1;36m2\u001b[0m \u001b[1m)\u001b[0m c c \u001b[1;36m1\u001b[0m . n \n"
            ]
          },
          "metadata": {
            "tags": []
          }
        },
        {
          "output_type": "display_data",
          "data": {
            "text/html": [
              "<pre style=\"white-space:pre;overflow-x:auto;line-height:normal;font-family:Menlo,'DejaVu Sans Mono',consolas,'Courier New',monospace\">    \n",
              "</pre>\n"
            ],
            "text/plain": [
              "    \n"
            ]
          },
          "metadata": {
            "tags": []
          }
        },
        {
          "output_type": "display_data",
          "data": {
            "text/html": [
              "<pre style=\"white-space:pre;overflow-x:auto;line-height:normal;font-family:Menlo,'DejaVu Sans Mono',consolas,'Courier New',monospace\">Product: <span style=\"font-weight: bold\">&lt;</span><span style=\"color: #ff00ff; text-decoration-color: #ff00ff; font-weight: bold\">RX_2</span><span style=\"font-weight: bold\">&gt;</span> C C <span style=\"font-weight: bold\">(</span> C <span style=\"font-weight: bold\">)</span> <span style=\"font-weight: bold\">(</span> C <span style=\"font-weight: bold\">)</span> c <span style=\"color: #008080; text-decoration-color: #008080; font-weight: bold\">1</span> c c c <span style=\"font-weight: bold\">(</span> C N <span style=\"font-weight: bold\">(</span> C C c <span style=\"color: #008080; text-decoration-color: #008080; font-weight: bold\">2</span> c c <span style=\"font-weight: bold\">(</span> F <span style=\"font-weight: bold\">)</span> c c <span style=\"font-weight: bold\">(</span> C <span style=\"font-weight: bold\">(</span> F <span style=\"font-weight: bold\">)</span> <span style=\"font-weight: bold\">(</span> F <span style=\"font-weight: bold\">)</span> F <span style=\"font-weight: bold\">)</span> c\n",
              "<span style=\"color: #008080; text-decoration-color: #008080; font-weight: bold\">2</span> <span style=\"font-weight: bold\">)</span> C <span style=\"font-weight: bold\">(</span> = O <span style=\"font-weight: bold\">)</span> c <span style=\"color: #008080; text-decoration-color: #008080; font-weight: bold\">2</span> c c <span style=\"font-weight: bold\">(</span> C <span style=\"font-weight: bold\">(</span> F <span style=\"font-weight: bold\">)</span> <span style=\"font-weight: bold\">(</span> F <span style=\"font-weight: bold\">)</span> F <span style=\"font-weight: bold\">)</span> c c <span style=\"font-weight: bold\">(</span> C l <span style=\"font-weight: bold\">)</span> c <span style=\"color: #008080; text-decoration-color: #008080; font-weight: bold\">2</span> F <span style=\"font-weight: bold\">)</span> c c <span style=\"color: #008080; text-decoration-color: #008080; font-weight: bold\">1</span>\n",
              "</pre>\n"
            ],
            "text/plain": [
              "Product: \u001b[1m<\u001b[0m\u001b[1;95mRX_2\u001b[0m\u001b[1m>\u001b[0m C C \u001b[1m(\u001b[0m C \u001b[1m)\u001b[0m \u001b[1m(\u001b[0m C \u001b[1m)\u001b[0m c \u001b[1;36m1\u001b[0m c c c \u001b[1m(\u001b[0m C N \u001b[1m(\u001b[0m C C c \u001b[1;36m2\u001b[0m c c \u001b[1m(\u001b[0m F \u001b[1m)\u001b[0m c c \u001b[1m(\u001b[0m C \u001b[1m(\u001b[0m F \u001b[1m)\u001b[0m \u001b[1m(\u001b[0m F \u001b[1m)\u001b[0m F \u001b[1m)\u001b[0m c\n",
              "\u001b[1;36m2\u001b[0m \u001b[1m)\u001b[0m C \u001b[1m(\u001b[0m = O \u001b[1m)\u001b[0m c \u001b[1;36m2\u001b[0m c c \u001b[1m(\u001b[0m C \u001b[1m(\u001b[0m F \u001b[1m)\u001b[0m \u001b[1m(\u001b[0m F \u001b[1m)\u001b[0m F \u001b[1m)\u001b[0m c c \u001b[1m(\u001b[0m C l \u001b[1m)\u001b[0m c \u001b[1;36m2\u001b[0m F \u001b[1m)\u001b[0m c c \u001b[1;36m1\u001b[0m\n"
            ]
          },
          "metadata": {
            "tags": []
          }
        },
        {
          "output_type": "display_data",
          "data": {
            "text/html": [
              "<pre style=\"white-space:pre;overflow-x:auto;line-height:normal;font-family:Menlo,'DejaVu Sans Mono',consolas,'Courier New',monospace\">Reaction Real: C C <span style=\"font-weight: bold\">(</span> C <span style=\"font-weight: bold\">)</span> <span style=\"font-weight: bold\">(</span> C <span style=\"font-weight: bold\">)</span> c <span style=\"color: #008080; text-decoration-color: #008080; font-weight: bold\">1</span> c c c <span style=\"font-weight: bold\">(</span> C N C C c <span style=\"color: #008080; text-decoration-color: #008080; font-weight: bold\">2</span> c c <span style=\"font-weight: bold\">(</span> F <span style=\"font-weight: bold\">)</span> c c <span style=\"font-weight: bold\">(</span> C <span style=\"font-weight: bold\">(</span> F <span style=\"font-weight: bold\">)</span> <span style=\"font-weight: bold\">(</span> F <span style=\"font-weight: bold\">)</span> F <span style=\"font-weight: bold\">)</span> c <span style=\"color: #008080; text-decoration-color: #008080; font-weight: bold\">2</span> \n",
              "<span style=\"font-weight: bold\">)</span> c c <span style=\"color: #008080; text-decoration-color: #008080; font-weight: bold\">1</span> . O = C <span style=\"font-weight: bold\">(</span> O <span style=\"font-weight: bold\">)</span> c <span style=\"color: #008080; text-decoration-color: #008080; font-weight: bold\">1</span> c c <span style=\"font-weight: bold\">(</span> C <span style=\"font-weight: bold\">(</span> F <span style=\"font-weight: bold\">)</span> <span style=\"font-weight: bold\">(</span> F <span style=\"font-weight: bold\">)</span> F <span style=\"font-weight: bold\">)</span> c c <span style=\"font-weight: bold\">(</span> C l <span style=\"font-weight: bold\">)</span> c <span style=\"color: #008080; text-decoration-color: #008080; font-weight: bold\">1</span> F\n",
              "</pre>\n"
            ],
            "text/plain": [
              "Reaction Real: C C \u001b[1m(\u001b[0m C \u001b[1m)\u001b[0m \u001b[1m(\u001b[0m C \u001b[1m)\u001b[0m c \u001b[1;36m1\u001b[0m c c c \u001b[1m(\u001b[0m C N C C c \u001b[1;36m2\u001b[0m c c \u001b[1m(\u001b[0m F \u001b[1m)\u001b[0m c c \u001b[1m(\u001b[0m C \u001b[1m(\u001b[0m F \u001b[1m)\u001b[0m \u001b[1m(\u001b[0m F \u001b[1m)\u001b[0m F \u001b[1m)\u001b[0m c \u001b[1;36m2\u001b[0m \n",
              "\u001b[1m)\u001b[0m c c \u001b[1;36m1\u001b[0m . O = C \u001b[1m(\u001b[0m O \u001b[1m)\u001b[0m c \u001b[1;36m1\u001b[0m c c \u001b[1m(\u001b[0m C \u001b[1m(\u001b[0m F \u001b[1m)\u001b[0m \u001b[1m(\u001b[0m F \u001b[1m)\u001b[0m F \u001b[1m)\u001b[0m c c \u001b[1m(\u001b[0m C l \u001b[1m)\u001b[0m c \u001b[1;36m1\u001b[0m F\n"
            ]
          },
          "metadata": {
            "tags": []
          }
        },
        {
          "output_type": "display_data",
          "data": {
            "text/html": [
              "<pre style=\"white-space:pre;overflow-x:auto;line-height:normal;font-family:Menlo,'DejaVu Sans Mono',consolas,'Courier New',monospace\">prediction: c c <span style=\"font-weight: bold\">(</span> c <span style=\"font-weight: bold\">)</span> <span style=\"font-weight: bold\">(</span> c <span style=\"font-weight: bold\">)</span> c <span style=\"color: #008080; text-decoration-color: #008080; font-weight: bold\">1</span> c c c <span style=\"font-weight: bold\">(</span> c n c c c <span style=\"color: #008080; text-decoration-color: #008080; font-weight: bold\">2</span> c c <span style=\"font-weight: bold\">(</span> f <span style=\"font-weight: bold\">)</span> c c <span style=\"font-weight: bold\">(</span> c <span style=\"font-weight: bold\">(</span> f <span style=\"font-weight: bold\">)</span> <span style=\"font-weight: bold\">(</span> f <span style=\"font-weight: bold\">)</span> f <span style=\"font-weight: bold\">)</span> c <span style=\"color: #008080; text-decoration-color: #008080; font-weight: bold\">2</span> <span style=\"font-weight: bold\">)</span> c\n",
              "c <span style=\"color: #008080; text-decoration-color: #008080; font-weight: bold\">1</span> . o = c <span style=\"font-weight: bold\">(</span> o <span style=\"font-weight: bold\">)</span> c <span style=\"color: #008080; text-decoration-color: #008080; font-weight: bold\">1</span> c c <span style=\"font-weight: bold\">(</span> c <span style=\"font-weight: bold\">(</span> f <span style=\"font-weight: bold\">)</span> <span style=\"font-weight: bold\">(</span> f <span style=\"font-weight: bold\">)</span> f <span style=\"font-weight: bold\">)</span> c c <span style=\"font-weight: bold\">(</span> c l <span style=\"font-weight: bold\">)</span> c <span style=\"color: #008080; text-decoration-color: #008080; font-weight: bold\">1</span> f \n",
              "</pre>\n"
            ],
            "text/plain": [
              "prediction: c c \u001b[1m(\u001b[0m c \u001b[1m)\u001b[0m \u001b[1m(\u001b[0m c \u001b[1m)\u001b[0m c \u001b[1;36m1\u001b[0m c c c \u001b[1m(\u001b[0m c n c c c \u001b[1;36m2\u001b[0m c c \u001b[1m(\u001b[0m f \u001b[1m)\u001b[0m c c \u001b[1m(\u001b[0m c \u001b[1m(\u001b[0m f \u001b[1m)\u001b[0m \u001b[1m(\u001b[0m f \u001b[1m)\u001b[0m f \u001b[1m)\u001b[0m c \u001b[1;36m2\u001b[0m \u001b[1m)\u001b[0m c\n",
              "c \u001b[1;36m1\u001b[0m . o = c \u001b[1m(\u001b[0m o \u001b[1m)\u001b[0m c \u001b[1;36m1\u001b[0m c c \u001b[1m(\u001b[0m c \u001b[1m(\u001b[0m f \u001b[1m)\u001b[0m \u001b[1m(\u001b[0m f \u001b[1m)\u001b[0m f \u001b[1m)\u001b[0m c c \u001b[1m(\u001b[0m c l \u001b[1m)\u001b[0m c \u001b[1;36m1\u001b[0m f \n"
            ]
          },
          "metadata": {
            "tags": []
          }
        },
        {
          "output_type": "display_data",
          "data": {
            "text/html": [
              "<pre style=\"white-space:pre;overflow-x:auto;line-height:normal;font-family:Menlo,'DejaVu Sans Mono',consolas,'Courier New',monospace\">    \n",
              "</pre>\n"
            ],
            "text/plain": [
              "    \n"
            ]
          },
          "metadata": {
            "tags": []
          }
        },
        {
          "output_type": "display_data",
          "data": {
            "text/html": [
              "<pre style=\"white-space:pre;overflow-x:auto;line-height:normal;font-family:Menlo,'DejaVu Sans Mono',consolas,'Courier New',monospace\">Product: <span style=\"font-weight: bold\">&lt;</span><span style=\"color: #ff00ff; text-decoration-color: #ff00ff; font-weight: bold\">RX_1</span><span style=\"font-weight: bold\">&gt;</span> C C O C <span style=\"font-weight: bold\">(</span> = O <span style=\"font-weight: bold\">)</span> c <span style=\"color: #008080; text-decoration-color: #008080; font-weight: bold\">1</span> c o c <span style=\"color: #008080; text-decoration-color: #008080; font-weight: bold\">2</span> c c <span style=\"font-weight: bold\">(</span> N <span style=\"color: #008080; text-decoration-color: #008080; font-weight: bold\">3</span> C <span style=\"font-weight: bold\">(</span> = O <span style=\"font-weight: bold\">)</span> c <span style=\"color: #008080; text-decoration-color: #008080; font-weight: bold\">4</span> c c c c c <span style=\"color: #008080; text-decoration-color: #008080; font-weight: bold\">4</span> C <span style=\"color: #008080; text-decoration-color: #008080; font-weight: bold\">3</span> = O <span style=\"font-weight: bold\">)</span> c c\n",
              "c <span style=\"color: #008080; text-decoration-color: #008080; font-weight: bold\">1</span> <span style=\"color: #008080; text-decoration-color: #008080; font-weight: bold\">2</span>\n",
              "</pre>\n"
            ],
            "text/plain": [
              "Product: \u001b[1m<\u001b[0m\u001b[1;95mRX_1\u001b[0m\u001b[1m>\u001b[0m C C O C \u001b[1m(\u001b[0m = O \u001b[1m)\u001b[0m c \u001b[1;36m1\u001b[0m c o c \u001b[1;36m2\u001b[0m c c \u001b[1m(\u001b[0m N \u001b[1;36m3\u001b[0m C \u001b[1m(\u001b[0m = O \u001b[1m)\u001b[0m c \u001b[1;36m4\u001b[0m c c c c c \u001b[1;36m4\u001b[0m C \u001b[1;36m3\u001b[0m = O \u001b[1m)\u001b[0m c c\n",
              "c \u001b[1;36m1\u001b[0m \u001b[1;36m2\u001b[0m\n"
            ]
          },
          "metadata": {
            "tags": []
          }
        },
        {
          "output_type": "display_data",
          "data": {
            "text/html": [
              "<pre style=\"white-space:pre;overflow-x:auto;line-height:normal;font-family:Menlo,'DejaVu Sans Mono',consolas,'Courier New',monospace\">Reaction Real: C C O C <span style=\"font-weight: bold\">(</span> = O <span style=\"font-weight: bold\">)</span> c <span style=\"color: #008080; text-decoration-color: #008080; font-weight: bold\">1</span> c o c <span style=\"color: #008080; text-decoration-color: #008080; font-weight: bold\">2</span> c c <span style=\"font-weight: bold\">(</span> B r <span style=\"font-weight: bold\">)</span> c c c <span style=\"color: #008080; text-decoration-color: #008080; font-weight: bold\">1</span> <span style=\"color: #008080; text-decoration-color: #008080; font-weight: bold\">2</span> . O = C <span style=\"color: #008080; text-decoration-color: #008080; font-weight: bold\">1</span> N C <span style=\"font-weight: bold\">(</span> = O <span style=\"font-weight: bold\">)</span> c <span style=\"color: #008080; text-decoration-color: #008080; font-weight: bold\">2</span> c \n",
              "c c c c <span style=\"color: #008080; text-decoration-color: #008080; font-weight: bold\">2</span> <span style=\"color: #008080; text-decoration-color: #008080; font-weight: bold\">1</span>\n",
              "</pre>\n"
            ],
            "text/plain": [
              "Reaction Real: C C O C \u001b[1m(\u001b[0m = O \u001b[1m)\u001b[0m c \u001b[1;36m1\u001b[0m c o c \u001b[1;36m2\u001b[0m c c \u001b[1m(\u001b[0m B r \u001b[1m)\u001b[0m c c c \u001b[1;36m1\u001b[0m \u001b[1;36m2\u001b[0m . O = C \u001b[1;36m1\u001b[0m N C \u001b[1m(\u001b[0m = O \u001b[1m)\u001b[0m c \u001b[1;36m2\u001b[0m c \n",
              "c c c c \u001b[1;36m2\u001b[0m \u001b[1;36m1\u001b[0m\n"
            ]
          },
          "metadata": {
            "tags": []
          }
        },
        {
          "output_type": "display_data",
          "data": {
            "text/html": [
              "<pre style=\"white-space:pre;overflow-x:auto;line-height:normal;font-family:Menlo,'DejaVu Sans Mono',consolas,'Courier New',monospace\">prediction: c c o c <span style=\"font-weight: bold\">(</span> = o <span style=\"font-weight: bold\">)</span> c <span style=\"color: #008080; text-decoration-color: #008080; font-weight: bold\">1</span> c o c <span style=\"color: #008080; text-decoration-color: #008080; font-weight: bold\">2</span> c c <span style=\"font-weight: bold\">(</span> b r <span style=\"font-weight: bold\">)</span> c c c <span style=\"color: #008080; text-decoration-color: #008080; font-weight: bold\">1</span> <span style=\"color: #008080; text-decoration-color: #008080; font-weight: bold\">2</span> . o = c <span style=\"color: #008080; text-decoration-color: #008080; font-weight: bold\">1</span> n c <span style=\"font-weight: bold\">(</span> = o <span style=\"font-weight: bold\">)</span> c <span style=\"color: #008080; text-decoration-color: #008080; font-weight: bold\">2</span> c c c\n",
              "c c <span style=\"color: #008080; text-decoration-color: #008080; font-weight: bold\">2</span> <span style=\"color: #008080; text-decoration-color: #008080; font-weight: bold\">1</span> \n",
              "</pre>\n"
            ],
            "text/plain": [
              "prediction: c c o c \u001b[1m(\u001b[0m = o \u001b[1m)\u001b[0m c \u001b[1;36m1\u001b[0m c o c \u001b[1;36m2\u001b[0m c c \u001b[1m(\u001b[0m b r \u001b[1m)\u001b[0m c c c \u001b[1;36m1\u001b[0m \u001b[1;36m2\u001b[0m . o = c \u001b[1;36m1\u001b[0m n c \u001b[1m(\u001b[0m = o \u001b[1m)\u001b[0m c \u001b[1;36m2\u001b[0m c c c\n",
              "c c \u001b[1;36m2\u001b[0m \u001b[1;36m1\u001b[0m \n"
            ]
          },
          "metadata": {
            "tags": []
          }
        },
        {
          "output_type": "display_data",
          "data": {
            "text/html": [
              "<pre style=\"white-space:pre;overflow-x:auto;line-height:normal;font-family:Menlo,'DejaVu Sans Mono',consolas,'Courier New',monospace\">    \n",
              "</pre>\n"
            ],
            "text/plain": [
              "    \n"
            ]
          },
          "metadata": {
            "tags": []
          }
        }
      ]
    },
    {
      "cell_type": "code",
      "metadata": {
        "id": "GP3-MBrVaK7E"
      },
      "source": [
        "##epochs 500"
      ],
      "id": "GP3-MBrVaK7E",
      "execution_count": null,
      "outputs": []
    },
    {
      "cell_type": "code",
      "metadata": {
        "colab": {
          "base_uri": "https://localhost:8080/",
          "height": 1000
        },
        "id": "vtcUNxEWZ9fy",
        "outputId": "2cb10fa0-796c-409a-a0a0-6853199f51ae"
      },
      "source": [
        "for i in range(50000,50010):\n",
        "  translate(model, df.input[i], src_vocab, tgt_vocab, tokenizer)\n",
        "  print(\"    \")"
      ],
      "id": "vtcUNxEWZ9fy",
      "execution_count": 49,
      "outputs": [
        {
          "output_type": "display_data",
          "data": {
            "text/html": [
              "<pre style=\"white-space:pre;overflow-x:auto;line-height:normal;font-family:Menlo,'DejaVu Sans Mono',consolas,'Courier New',monospace\">Product: <span style=\"font-weight: bold\">&lt;</span><span style=\"color: #ff00ff; text-decoration-color: #ff00ff; font-weight: bold\">RX_9</span><span style=\"font-weight: bold\">&gt;</span> O = C <span style=\"font-weight: bold\">(</span> O <span style=\"font-weight: bold\">)</span> C <span style=\"font-weight: bold\">(</span> = O <span style=\"font-weight: bold\">)</span> O\n",
              "</pre>\n"
            ],
            "text/plain": [
              "Product: \u001b[1m<\u001b[0m\u001b[1;95mRX_9\u001b[0m\u001b[1m>\u001b[0m O = C \u001b[1m(\u001b[0m O \u001b[1m)\u001b[0m C \u001b[1m(\u001b[0m = O \u001b[1m)\u001b[0m O\n"
            ]
          },
          "metadata": {
            "tags": []
          }
        },
        {
          "output_type": "display_data",
          "data": {
            "text/html": [
              "<pre style=\"white-space:pre;overflow-x:auto;line-height:normal;font-family:Menlo,'DejaVu Sans Mono',consolas,'Courier New',monospace\">Reaction Real: C c <span style=\"color: #008080; text-decoration-color: #008080; font-weight: bold\">1</span> c c c <span style=\"font-weight: bold\">(</span> B r <span style=\"font-weight: bold\">)</span> c <span style=\"color: #008080; text-decoration-color: #008080; font-weight: bold\">2</span> c <span style=\"color: #008080; text-decoration-color: #008080; font-weight: bold\">1</span> C <span style=\"font-weight: bold\">(</span> C <span style=\"font-weight: bold\">(</span> C <span style=\"font-weight: bold\">)</span> C <span style=\"font-weight: bold\">)</span> N <span style=\"font-weight: bold\">(</span> C <span style=\"font-weight: bold\">(</span> = O <span style=\"font-weight: bold\">)</span> C N C C <span style=\"color: #008080; text-decoration-color: #008080; font-weight: bold\">1</span> <span style=\"font-weight: bold\">(</span> O <span style=\"font-weight: bold\">)</span> C C \n",
              "C C C <span style=\"color: #008080; text-decoration-color: #008080; font-weight: bold\">1</span> <span style=\"font-weight: bold\">)</span> C C <span style=\"color: #008080; text-decoration-color: #008080; font-weight: bold\">2</span>\n",
              "</pre>\n"
            ],
            "text/plain": [
              "Reaction Real: C c \u001b[1;36m1\u001b[0m c c c \u001b[1m(\u001b[0m B r \u001b[1m)\u001b[0m c \u001b[1;36m2\u001b[0m c \u001b[1;36m1\u001b[0m C \u001b[1m(\u001b[0m C \u001b[1m(\u001b[0m C \u001b[1m)\u001b[0m C \u001b[1m)\u001b[0m N \u001b[1m(\u001b[0m C \u001b[1m(\u001b[0m = O \u001b[1m)\u001b[0m C N C C \u001b[1;36m1\u001b[0m \u001b[1m(\u001b[0m O \u001b[1m)\u001b[0m C C \n",
              "C C C \u001b[1;36m1\u001b[0m \u001b[1m)\u001b[0m C C \u001b[1;36m2\u001b[0m\n"
            ]
          },
          "metadata": {
            "tags": []
          }
        },
        {
          "output_type": "display_data",
          "data": {
            "text/html": [
              "<pre style=\"white-space:pre;overflow-x:auto;line-height:normal;font-family:Menlo,'DejaVu Sans Mono',consolas,'Courier New',monospace\">prediction: o = c <span style=\"font-weight: bold\">(</span> c l <span style=\"font-weight: bold\">)</span> c <span style=\"color: #008080; text-decoration-color: #008080; font-weight: bold\">1</span> c c c c <span style=\"font-weight: bold\">(</span> o <span style=\"font-weight: bold\">)</span> c <span style=\"color: #008080; text-decoration-color: #008080; font-weight: bold\">1</span> \n",
              "</pre>\n"
            ],
            "text/plain": [
              "prediction: o = c \u001b[1m(\u001b[0m c l \u001b[1m)\u001b[0m c \u001b[1;36m1\u001b[0m c c c c \u001b[1m(\u001b[0m o \u001b[1m)\u001b[0m c \u001b[1;36m1\u001b[0m \n"
            ]
          },
          "metadata": {
            "tags": []
          }
        },
        {
          "output_type": "display_data",
          "data": {
            "text/html": [
              "<pre style=\"white-space:pre;overflow-x:auto;line-height:normal;font-family:Menlo,'DejaVu Sans Mono',consolas,'Courier New',monospace\">    \n",
              "</pre>\n"
            ],
            "text/plain": [
              "    \n"
            ]
          },
          "metadata": {
            "tags": []
          }
        },
        {
          "output_type": "display_data",
          "data": {
            "text/html": [
              "<pre style=\"white-space:pre;overflow-x:auto;line-height:normal;font-family:Menlo,'DejaVu Sans Mono',consolas,'Courier New',monospace\">Product: <span style=\"font-weight: bold\">&lt;</span><span style=\"color: #ff00ff; text-decoration-color: #ff00ff; font-weight: bold\">RX_3</span><span style=\"font-weight: bold\">&gt;</span> C C O C <span style=\"font-weight: bold\">(</span> = O <span style=\"font-weight: bold\">)</span> C = C C c <span style=\"color: #008080; text-decoration-color: #008080; font-weight: bold\">1</span> c c c <span style=\"font-weight: bold\">(</span> B r <span style=\"font-weight: bold\">)</span> c c <span style=\"color: #008080; text-decoration-color: #008080; font-weight: bold\">1</span>\n",
              "</pre>\n"
            ],
            "text/plain": [
              "Product: \u001b[1m<\u001b[0m\u001b[1;95mRX_3\u001b[0m\u001b[1m>\u001b[0m C C O C \u001b[1m(\u001b[0m = O \u001b[1m)\u001b[0m C = C C c \u001b[1;36m1\u001b[0m c c c \u001b[1m(\u001b[0m B r \u001b[1m)\u001b[0m c c \u001b[1;36m1\u001b[0m\n"
            ]
          },
          "metadata": {
            "tags": []
          }
        },
        {
          "output_type": "display_data",
          "data": {
            "text/html": [
              "<pre style=\"white-space:pre;overflow-x:auto;line-height:normal;font-family:Menlo,'DejaVu Sans Mono',consolas,'Courier New',monospace\">Reaction Real: C C O C <span style=\"font-weight: bold\">(</span> = O <span style=\"font-weight: bold\">)</span> C = P <span style=\"font-weight: bold\">(</span> c <span style=\"color: #008080; text-decoration-color: #008080; font-weight: bold\">1</span> c c c c c <span style=\"color: #008080; text-decoration-color: #008080; font-weight: bold\">1</span> <span style=\"font-weight: bold\">)</span> <span style=\"font-weight: bold\">(</span> c <span style=\"color: #008080; text-decoration-color: #008080; font-weight: bold\">1</span> c c c c c <span style=\"color: #008080; text-decoration-color: #008080; font-weight: bold\">1</span> <span style=\"font-weight: bold\">)</span> c <span style=\"color: #008080; text-decoration-color: #008080; font-weight: bold\">1</span> c c c c c <span style=\"color: #008080; text-decoration-color: #008080; font-weight: bold\">1</span> \n",
              ". O = C C c <span style=\"color: #008080; text-decoration-color: #008080; font-weight: bold\">1</span> c c c <span style=\"font-weight: bold\">(</span> B r <span style=\"font-weight: bold\">)</span> c c <span style=\"color: #008080; text-decoration-color: #008080; font-weight: bold\">1</span>\n",
              "</pre>\n"
            ],
            "text/plain": [
              "Reaction Real: C C O C \u001b[1m(\u001b[0m = O \u001b[1m)\u001b[0m C = P \u001b[1m(\u001b[0m c \u001b[1;36m1\u001b[0m c c c c c \u001b[1;36m1\u001b[0m \u001b[1m)\u001b[0m \u001b[1m(\u001b[0m c \u001b[1;36m1\u001b[0m c c c c c \u001b[1;36m1\u001b[0m \u001b[1m)\u001b[0m c \u001b[1;36m1\u001b[0m c c c c c \u001b[1;36m1\u001b[0m \n",
              ". O = C C c \u001b[1;36m1\u001b[0m c c c \u001b[1m(\u001b[0m B r \u001b[1m)\u001b[0m c c \u001b[1;36m1\u001b[0m\n"
            ]
          },
          "metadata": {
            "tags": []
          }
        },
        {
          "output_type": "display_data",
          "data": {
            "text/html": [
              "<pre style=\"white-space:pre;overflow-x:auto;line-height:normal;font-family:Menlo,'DejaVu Sans Mono',consolas,'Courier New',monospace\">prediction: c c o c <span style=\"font-weight: bold\">(</span> = o <span style=\"font-weight: bold\">)</span> c p <span style=\"font-weight: bold\">(</span> = o <span style=\"font-weight: bold\">)</span> <span style=\"font-weight: bold\">(</span> o c c <span style=\"font-weight: bold\">)</span> o c c . o = c c c <span style=\"color: #008080; text-decoration-color: #008080; font-weight: bold\">1</span> c c\n",
              "</pre>\n"
            ],
            "text/plain": [
              "prediction: c c o c \u001b[1m(\u001b[0m = o \u001b[1m)\u001b[0m c p \u001b[1m(\u001b[0m = o \u001b[1m)\u001b[0m \u001b[1m(\u001b[0m o c c \u001b[1m)\u001b[0m o c c . o = c c c \u001b[1;36m1\u001b[0m c c\n"
            ]
          },
          "metadata": {
            "tags": []
          }
        },
        {
          "output_type": "display_data",
          "data": {
            "text/html": [
              "<pre style=\"white-space:pre;overflow-x:auto;line-height:normal;font-family:Menlo,'DejaVu Sans Mono',consolas,'Courier New',monospace\">    \n",
              "</pre>\n"
            ],
            "text/plain": [
              "    \n"
            ]
          },
          "metadata": {
            "tags": []
          }
        },
        {
          "output_type": "display_data",
          "data": {
            "text/html": [
              "<pre style=\"white-space:pre;overflow-x:auto;line-height:normal;font-family:Menlo,'DejaVu Sans Mono',consolas,'Courier New',monospace\">Product: <span style=\"font-weight: bold\">&lt;</span><span style=\"color: #ff00ff; text-decoration-color: #ff00ff; font-weight: bold\">RX_6</span><span style=\"font-weight: bold\">&gt;</span> C c <span style=\"color: #008080; text-decoration-color: #008080; font-weight: bold\">1</span> c c <span style=\"font-weight: bold\">(</span> C <span style=\"color: #008080; text-decoration-color: #008080; font-weight: bold\">2</span> = N O C <span style=\"font-weight: bold\">(</span> c <span style=\"color: #008080; text-decoration-color: #008080; font-weight: bold\">3</span> c c <span style=\"font-weight: bold\">(</span> C l <span style=\"font-weight: bold\">)</span> c c <span style=\"font-weight: bold\">(</span> C l <span style=\"font-weight: bold\">)</span> c <span style=\"color: #008080; text-decoration-color: #008080; font-weight: bold\">3</span> <span style=\"font-weight: bold\">)</span> <span style=\"font-weight: bold\">(</span> C <span style=\"font-weight: bold\">(</span> F <span style=\"font-weight: bold\">)</span> <span style=\"font-weight: bold\">(</span> F <span style=\"font-weight: bold\">)</span> F\n",
              "<span style=\"font-weight: bold\">)</span> C <span style=\"color: #008080; text-decoration-color: #008080; font-weight: bold\">2</span> = N O <span style=\"font-weight: bold\">)</span> c c c <span style=\"color: #008080; text-decoration-color: #008080; font-weight: bold\">1</span> C <span style=\"font-weight: bold\">(</span> = O <span style=\"font-weight: bold\">)</span> O\n",
              "</pre>\n"
            ],
            "text/plain": [
              "Product: \u001b[1m<\u001b[0m\u001b[1;95mRX_6\u001b[0m\u001b[1m>\u001b[0m C c \u001b[1;36m1\u001b[0m c c \u001b[1m(\u001b[0m C \u001b[1;36m2\u001b[0m = N O C \u001b[1m(\u001b[0m c \u001b[1;36m3\u001b[0m c c \u001b[1m(\u001b[0m C l \u001b[1m)\u001b[0m c c \u001b[1m(\u001b[0m C l \u001b[1m)\u001b[0m c \u001b[1;36m3\u001b[0m \u001b[1m)\u001b[0m \u001b[1m(\u001b[0m C \u001b[1m(\u001b[0m F \u001b[1m)\u001b[0m \u001b[1m(\u001b[0m F \u001b[1m)\u001b[0m F\n",
              "\u001b[1m)\u001b[0m C \u001b[1;36m2\u001b[0m = N O \u001b[1m)\u001b[0m c c c \u001b[1;36m1\u001b[0m C \u001b[1m(\u001b[0m = O \u001b[1m)\u001b[0m O\n"
            ]
          },
          "metadata": {
            "tags": []
          }
        },
        {
          "output_type": "display_data",
          "data": {
            "text/html": [
              "<pre style=\"white-space:pre;overflow-x:auto;line-height:normal;font-family:Menlo,'DejaVu Sans Mono',consolas,'Courier New',monospace\">Reaction Real: C c <span style=\"color: #008080; text-decoration-color: #008080; font-weight: bold\">1</span> c c <span style=\"font-weight: bold\">(</span> C <span style=\"color: #008080; text-decoration-color: #008080; font-weight: bold\">2</span> = N O C <span style=\"font-weight: bold\">(</span> c <span style=\"color: #008080; text-decoration-color: #008080; font-weight: bold\">3</span> c c <span style=\"font-weight: bold\">(</span> C l <span style=\"font-weight: bold\">)</span> c c <span style=\"font-weight: bold\">(</span> C l <span style=\"font-weight: bold\">)</span> c <span style=\"color: #008080; text-decoration-color: #008080; font-weight: bold\">3</span> <span style=\"font-weight: bold\">)</span> <span style=\"font-weight: bold\">(</span> C <span style=\"font-weight: bold\">(</span> F <span style=\"font-weight: bold\">)</span> <span style=\"font-weight: bold\">(</span> F <span style=\"font-weight: bold\">)</span> F \n",
              "<span style=\"font-weight: bold\">)</span> C <span style=\"color: #008080; text-decoration-color: #008080; font-weight: bold\">2</span> = N O <span style=\"font-weight: bold\">)</span> c c c <span style=\"color: #008080; text-decoration-color: #008080; font-weight: bold\">1</span> C <span style=\"font-weight: bold\">(</span> = O <span style=\"font-weight: bold\">)</span> O C <span style=\"font-weight: bold\">(</span> C <span style=\"font-weight: bold\">)</span> <span style=\"font-weight: bold\">(</span> C <span style=\"font-weight: bold\">)</span> C\n",
              "</pre>\n"
            ],
            "text/plain": [
              "Reaction Real: C c \u001b[1;36m1\u001b[0m c c \u001b[1m(\u001b[0m C \u001b[1;36m2\u001b[0m = N O C \u001b[1m(\u001b[0m c \u001b[1;36m3\u001b[0m c c \u001b[1m(\u001b[0m C l \u001b[1m)\u001b[0m c c \u001b[1m(\u001b[0m C l \u001b[1m)\u001b[0m c \u001b[1;36m3\u001b[0m \u001b[1m)\u001b[0m \u001b[1m(\u001b[0m C \u001b[1m(\u001b[0m F \u001b[1m)\u001b[0m \u001b[1m(\u001b[0m F \u001b[1m)\u001b[0m F \n",
              "\u001b[1m)\u001b[0m C \u001b[1;36m2\u001b[0m = N O \u001b[1m)\u001b[0m c c c \u001b[1;36m1\u001b[0m C \u001b[1m(\u001b[0m = O \u001b[1m)\u001b[0m O C \u001b[1m(\u001b[0m C \u001b[1m)\u001b[0m \u001b[1m(\u001b[0m C \u001b[1m)\u001b[0m C\n"
            ]
          },
          "metadata": {
            "tags": []
          }
        },
        {
          "output_type": "display_data",
          "data": {
            "text/html": [
              "<pre style=\"white-space:pre;overflow-x:auto;line-height:normal;font-family:Menlo,'DejaVu Sans Mono',consolas,'Courier New',monospace\">prediction: c o c <span style=\"font-weight: bold\">(</span> = o <span style=\"font-weight: bold\">)</span> c <span style=\"color: #008080; text-decoration-color: #008080; font-weight: bold\">1</span> c c c <span style=\"font-weight: bold\">(</span> c <span style=\"color: #008080; text-decoration-color: #008080; font-weight: bold\">2</span> = n o c <span style=\"font-weight: bold\">(</span> c <span style=\"color: #008080; text-decoration-color: #008080; font-weight: bold\">3</span> c c <span style=\"font-weight: bold\">(</span> c l <span style=\"font-weight: bold\">)</span> c c <span style=\"font-weight: bold\">(</span> c l <span style=\"font-weight: bold\">)</span> c <span style=\"color: #008080; text-decoration-color: #008080; font-weight: bold\">3</span> <span style=\"font-weight: bold\">)</span> <span style=\"font-weight: bold\">(</span> c <span style=\"font-weight: bold\">(</span> f\n",
              "<span style=\"font-weight: bold\">)</span> <span style=\"font-weight: bold\">(</span> f <span style=\"font-weight: bold\">)</span> f <span style=\"font-weight: bold\">)</span> c <span style=\"color: #008080; text-decoration-color: #008080; font-weight: bold\">2</span> = n o <span style=\"font-weight: bold\">)</span> c c <span style=\"color: #008080; text-decoration-color: #008080; font-weight: bold\">1</span> c \n",
              "</pre>\n"
            ],
            "text/plain": [
              "prediction: c o c \u001b[1m(\u001b[0m = o \u001b[1m)\u001b[0m c \u001b[1;36m1\u001b[0m c c c \u001b[1m(\u001b[0m c \u001b[1;36m2\u001b[0m = n o c \u001b[1m(\u001b[0m c \u001b[1;36m3\u001b[0m c c \u001b[1m(\u001b[0m c l \u001b[1m)\u001b[0m c c \u001b[1m(\u001b[0m c l \u001b[1m)\u001b[0m c \u001b[1;36m3\u001b[0m \u001b[1m)\u001b[0m \u001b[1m(\u001b[0m c \u001b[1m(\u001b[0m f\n",
              "\u001b[1m)\u001b[0m \u001b[1m(\u001b[0m f \u001b[1m)\u001b[0m f \u001b[1m)\u001b[0m c \u001b[1;36m2\u001b[0m = n o \u001b[1m)\u001b[0m c c \u001b[1;36m1\u001b[0m c \n"
            ]
          },
          "metadata": {
            "tags": []
          }
        },
        {
          "output_type": "display_data",
          "data": {
            "text/html": [
              "<pre style=\"white-space:pre;overflow-x:auto;line-height:normal;font-family:Menlo,'DejaVu Sans Mono',consolas,'Courier New',monospace\">    \n",
              "</pre>\n"
            ],
            "text/plain": [
              "    \n"
            ]
          },
          "metadata": {
            "tags": []
          }
        },
        {
          "output_type": "display_data",
          "data": {
            "text/html": [
              "<pre style=\"white-space:pre;overflow-x:auto;line-height:normal;font-family:Menlo,'DejaVu Sans Mono',consolas,'Courier New',monospace\">Product: <span style=\"font-weight: bold\">&lt;</span><span style=\"color: #ff00ff; text-decoration-color: #ff00ff; font-weight: bold\">RX_6</span><span style=\"font-weight: bold\">&gt;</span> N # C c <span style=\"color: #008080; text-decoration-color: #008080; font-weight: bold\">1</span> n c c <span style=\"font-weight: bold\">(</span> B r <span style=\"font-weight: bold\">)</span> c <span style=\"font-weight: bold\">(</span> N <span style=\"font-weight: bold\">(</span> N <span style=\"font-weight: bold\">)</span> C <span style=\"color: #008080; text-decoration-color: #008080; font-weight: bold\">2</span> C C O C C <span style=\"color: #008080; text-decoration-color: #008080; font-weight: bold\">2</span> <span style=\"font-weight: bold\">)</span> n <span style=\"color: #008080; text-decoration-color: #008080; font-weight: bold\">1</span>\n",
              "</pre>\n"
            ],
            "text/plain": [
              "Product: \u001b[1m<\u001b[0m\u001b[1;95mRX_6\u001b[0m\u001b[1m>\u001b[0m N # C c \u001b[1;36m1\u001b[0m n c c \u001b[1m(\u001b[0m B r \u001b[1m)\u001b[0m c \u001b[1m(\u001b[0m N \u001b[1m(\u001b[0m N \u001b[1m)\u001b[0m C \u001b[1;36m2\u001b[0m C C O C C \u001b[1;36m2\u001b[0m \u001b[1m)\u001b[0m n \u001b[1;36m1\u001b[0m\n"
            ]
          },
          "metadata": {
            "tags": []
          }
        },
        {
          "output_type": "display_data",
          "data": {
            "text/html": [
              "<pre style=\"white-space:pre;overflow-x:auto;line-height:normal;font-family:Menlo,'DejaVu Sans Mono',consolas,'Courier New',monospace\">Reaction Real: C C <span style=\"font-weight: bold\">(</span> C <span style=\"font-weight: bold\">)</span> <span style=\"font-weight: bold\">(</span> C <span style=\"font-weight: bold\">)</span> O C <span style=\"font-weight: bold\">(</span> = O <span style=\"font-weight: bold\">)</span> N N <span style=\"font-weight: bold\">(</span> c <span style=\"color: #008080; text-decoration-color: #008080; font-weight: bold\">1</span> n c <span style=\"font-weight: bold\">(</span> C # N <span style=\"font-weight: bold\">)</span> n c c <span style=\"color: #008080; text-decoration-color: #008080; font-weight: bold\">1</span> B r <span style=\"font-weight: bold\">)</span> C <span style=\"color: #008080; text-decoration-color: #008080; font-weight: bold\">1</span> C C O C \n",
              "C <span style=\"color: #008080; text-decoration-color: #008080; font-weight: bold\">1</span>\n",
              "</pre>\n"
            ],
            "text/plain": [
              "Reaction Real: C C \u001b[1m(\u001b[0m C \u001b[1m)\u001b[0m \u001b[1m(\u001b[0m C \u001b[1m)\u001b[0m O C \u001b[1m(\u001b[0m = O \u001b[1m)\u001b[0m N N \u001b[1m(\u001b[0m c \u001b[1;36m1\u001b[0m n c \u001b[1m(\u001b[0m C # N \u001b[1m)\u001b[0m n c c \u001b[1;36m1\u001b[0m B r \u001b[1m)\u001b[0m C \u001b[1;36m1\u001b[0m C C O C \n",
              "C \u001b[1;36m1\u001b[0m\n"
            ]
          },
          "metadata": {
            "tags": []
          }
        },
        {
          "output_type": "display_data",
          "data": {
            "text/html": [
              "<pre style=\"white-space:pre;overflow-x:auto;line-height:normal;font-family:Menlo,'DejaVu Sans Mono',consolas,'Courier New',monospace\">prediction: n # c c <span style=\"color: #008080; text-decoration-color: #008080; font-weight: bold\">1</span> n c c <span style=\"font-weight: bold\">(</span> b r <span style=\"font-weight: bold\">)</span> c <span style=\"font-weight: bold\">(</span> n <span style=\"font-weight: bold\">(</span> c <span style=\"color: #008080; text-decoration-color: #008080; font-weight: bold\">2</span> c c o c c <span style=\"color: #008080; text-decoration-color: #008080; font-weight: bold\">2</span> <span style=\"font-weight: bold\">)</span> c <span style=\"color: #008080; text-decoration-color: #008080; font-weight: bold\">2</span> c c o c c <span style=\"color: #008080; text-decoration-color: #008080; font-weight: bold\">2</span> <span style=\"font-weight: bold\">)</span> n <span style=\"color: #008080; text-decoration-color: #008080; font-weight: bold\">1</span>\n",
              "</pre>\n"
            ],
            "text/plain": [
              "prediction: n # c c \u001b[1;36m1\u001b[0m n c c \u001b[1m(\u001b[0m b r \u001b[1m)\u001b[0m c \u001b[1m(\u001b[0m n \u001b[1m(\u001b[0m c \u001b[1;36m2\u001b[0m c c o c c \u001b[1;36m2\u001b[0m \u001b[1m)\u001b[0m c \u001b[1;36m2\u001b[0m c c o c c \u001b[1;36m2\u001b[0m \u001b[1m)\u001b[0m n \u001b[1;36m1\u001b[0m\n"
            ]
          },
          "metadata": {
            "tags": []
          }
        },
        {
          "output_type": "display_data",
          "data": {
            "text/html": [
              "<pre style=\"white-space:pre;overflow-x:auto;line-height:normal;font-family:Menlo,'DejaVu Sans Mono',consolas,'Courier New',monospace\">    \n",
              "</pre>\n"
            ],
            "text/plain": [
              "    \n"
            ]
          },
          "metadata": {
            "tags": []
          }
        },
        {
          "output_type": "display_data",
          "data": {
            "text/html": [
              "<pre style=\"white-space:pre;overflow-x:auto;line-height:normal;font-family:Menlo,'DejaVu Sans Mono',consolas,'Courier New',monospace\">Product: <span style=\"font-weight: bold\">&lt;</span><span style=\"color: #ff00ff; text-decoration-color: #ff00ff; font-weight: bold\">RX_2</span><span style=\"font-weight: bold\">&gt;</span> O = C <span style=\"color: #008080; text-decoration-color: #008080; font-weight: bold\">1</span> C C C <span style=\"font-weight: bold\">(</span> N <span style=\"color: #008080; text-decoration-color: #008080; font-weight: bold\">2</span> C c <span style=\"color: #008080; text-decoration-color: #008080; font-weight: bold\">3</span> c c <span style=\"font-weight: bold\">(</span> C N C <span style=\"font-weight: bold\">(</span> = O <span style=\"font-weight: bold\">)</span> N <span style=\"color: #008080; text-decoration-color: #008080; font-weight: bold\">4</span> C C O C C <span style=\"color: #008080; text-decoration-color: #008080; font-weight: bold\">4</span> <span style=\"font-weight: bold\">)</span> c c c <span style=\"color: #008080; text-decoration-color: #008080; font-weight: bold\">3</span> C <span style=\"color: #008080; text-decoration-color: #008080; font-weight: bold\">2</span> =\n",
              "O <span style=\"font-weight: bold\">)</span> C <span style=\"font-weight: bold\">(</span> = O <span style=\"font-weight: bold\">)</span> N <span style=\"color: #008080; text-decoration-color: #008080; font-weight: bold\">1</span>\n",
              "</pre>\n"
            ],
            "text/plain": [
              "Product: \u001b[1m<\u001b[0m\u001b[1;95mRX_2\u001b[0m\u001b[1m>\u001b[0m O = C \u001b[1;36m1\u001b[0m C C C \u001b[1m(\u001b[0m N \u001b[1;36m2\u001b[0m C c \u001b[1;36m3\u001b[0m c c \u001b[1m(\u001b[0m C N C \u001b[1m(\u001b[0m = O \u001b[1m)\u001b[0m N \u001b[1;36m4\u001b[0m C C O C C \u001b[1;36m4\u001b[0m \u001b[1m)\u001b[0m c c c \u001b[1;36m3\u001b[0m C \u001b[1;36m2\u001b[0m =\n",
              "O \u001b[1m)\u001b[0m C \u001b[1m(\u001b[0m = O \u001b[1m)\u001b[0m N \u001b[1;36m1\u001b[0m\n"
            ]
          },
          "metadata": {
            "tags": []
          }
        },
        {
          "output_type": "display_data",
          "data": {
            "text/html": [
              "<pre style=\"white-space:pre;overflow-x:auto;line-height:normal;font-family:Menlo,'DejaVu Sans Mono',consolas,'Courier New',monospace\">Reaction Real: N C c <span style=\"color: #008080; text-decoration-color: #008080; font-weight: bold\">1</span> c c c <span style=\"color: #008080; text-decoration-color: #008080; font-weight: bold\">2</span> c <span style=\"font-weight: bold\">(</span> c <span style=\"color: #008080; text-decoration-color: #008080; font-weight: bold\">1</span> <span style=\"font-weight: bold\">)</span> C N <span style=\"font-weight: bold\">(</span> C <span style=\"color: #008080; text-decoration-color: #008080; font-weight: bold\">1</span> C C C <span style=\"font-weight: bold\">(</span> = O <span style=\"font-weight: bold\">)</span> N C <span style=\"color: #008080; text-decoration-color: #008080; font-weight: bold\">1</span> = O <span style=\"font-weight: bold\">)</span> C <span style=\"color: #008080; text-decoration-color: #008080; font-weight: bold\">2</span> = O . O = C \n",
              "<span style=\"font-weight: bold\">(</span> C l <span style=\"font-weight: bold\">)</span> N <span style=\"color: #008080; text-decoration-color: #008080; font-weight: bold\">1</span> C C O C C <span style=\"color: #008080; text-decoration-color: #008080; font-weight: bold\">1</span>\n",
              "</pre>\n"
            ],
            "text/plain": [
              "Reaction Real: N C c \u001b[1;36m1\u001b[0m c c c \u001b[1;36m2\u001b[0m c \u001b[1m(\u001b[0m c \u001b[1;36m1\u001b[0m \u001b[1m)\u001b[0m C N \u001b[1m(\u001b[0m C \u001b[1;36m1\u001b[0m C C C \u001b[1m(\u001b[0m = O \u001b[1m)\u001b[0m N C \u001b[1;36m1\u001b[0m = O \u001b[1m)\u001b[0m C \u001b[1;36m2\u001b[0m = O . O = C \n",
              "\u001b[1m(\u001b[0m C l \u001b[1m)\u001b[0m N \u001b[1;36m1\u001b[0m C C O C C \u001b[1;36m1\u001b[0m\n"
            ]
          },
          "metadata": {
            "tags": []
          }
        },
        {
          "output_type": "display_data",
          "data": {
            "text/html": [
              "<pre style=\"white-space:pre;overflow-x:auto;line-height:normal;font-family:Menlo,'DejaVu Sans Mono',consolas,'Courier New',monospace\">prediction: n c c <span style=\"color: #008080; text-decoration-color: #008080; font-weight: bold\">1</span> c c c <span style=\"color: #008080; text-decoration-color: #008080; font-weight: bold\">2</span> c <span style=\"font-weight: bold\">(</span> c <span style=\"color: #008080; text-decoration-color: #008080; font-weight: bold\">1</span> <span style=\"font-weight: bold\">)</span> c n <span style=\"font-weight: bold\">(</span> c <span style=\"color: #008080; text-decoration-color: #008080; font-weight: bold\">1</span> c c c <span style=\"font-weight: bold\">(</span> = o <span style=\"font-weight: bold\">)</span> n c <span style=\"color: #008080; text-decoration-color: #008080; font-weight: bold\">1</span> = o <span style=\"font-weight: bold\">)</span> c <span style=\"color: #008080; text-decoration-color: #008080; font-weight: bold\">2</span> = o . o = c <span style=\"font-weight: bold\">(</span> c\n",
              "l <span style=\"font-weight: bold\">)</span> n <span style=\"color: #008080; text-decoration-color: #008080; font-weight: bold\">1</span> c c o c c <span style=\"color: #008080; text-decoration-color: #008080; font-weight: bold\">1</span> \n",
              "</pre>\n"
            ],
            "text/plain": [
              "prediction: n c c \u001b[1;36m1\u001b[0m c c c \u001b[1;36m2\u001b[0m c \u001b[1m(\u001b[0m c \u001b[1;36m1\u001b[0m \u001b[1m)\u001b[0m c n \u001b[1m(\u001b[0m c \u001b[1;36m1\u001b[0m c c c \u001b[1m(\u001b[0m = o \u001b[1m)\u001b[0m n c \u001b[1;36m1\u001b[0m = o \u001b[1m)\u001b[0m c \u001b[1;36m2\u001b[0m = o . o = c \u001b[1m(\u001b[0m c\n",
              "l \u001b[1m)\u001b[0m n \u001b[1;36m1\u001b[0m c c o c c \u001b[1;36m1\u001b[0m \n"
            ]
          },
          "metadata": {
            "tags": []
          }
        },
        {
          "output_type": "display_data",
          "data": {
            "text/html": [
              "<pre style=\"white-space:pre;overflow-x:auto;line-height:normal;font-family:Menlo,'DejaVu Sans Mono',consolas,'Courier New',monospace\">    \n",
              "</pre>\n"
            ],
            "text/plain": [
              "    \n"
            ]
          },
          "metadata": {
            "tags": []
          }
        },
        {
          "output_type": "display_data",
          "data": {
            "text/html": [
              "<pre style=\"white-space:pre;overflow-x:auto;line-height:normal;font-family:Menlo,'DejaVu Sans Mono',consolas,'Courier New',monospace\">Product: <span style=\"font-weight: bold\">&lt;</span><span style=\"color: #ff00ff; text-decoration-color: #ff00ff; font-weight: bold\">RX_7</span><span style=\"font-weight: bold\">&gt;</span> C c <span style=\"color: #008080; text-decoration-color: #008080; font-weight: bold\">1</span> c c c <span style=\"font-weight: bold\">(</span> N <span style=\"font-weight: bold\">)</span> c c <span style=\"color: #008080; text-decoration-color: #008080; font-weight: bold\">1</span> C <span style=\"font-weight: bold\">(</span> = O <span style=\"font-weight: bold\">)</span> N S <span style=\"font-weight: bold\">(</span> C <span style=\"font-weight: bold\">)</span> <span style=\"font-weight: bold\">(</span> = O <span style=\"font-weight: bold\">)</span> = O\n",
              "</pre>\n"
            ],
            "text/plain": [
              "Product: \u001b[1m<\u001b[0m\u001b[1;95mRX_7\u001b[0m\u001b[1m>\u001b[0m C c \u001b[1;36m1\u001b[0m c c c \u001b[1m(\u001b[0m N \u001b[1m)\u001b[0m c c \u001b[1;36m1\u001b[0m C \u001b[1m(\u001b[0m = O \u001b[1m)\u001b[0m N S \u001b[1m(\u001b[0m C \u001b[1m)\u001b[0m \u001b[1m(\u001b[0m = O \u001b[1m)\u001b[0m = O\n"
            ]
          },
          "metadata": {
            "tags": []
          }
        },
        {
          "output_type": "display_data",
          "data": {
            "text/html": [
              "<pre style=\"white-space:pre;overflow-x:auto;line-height:normal;font-family:Menlo,'DejaVu Sans Mono',consolas,'Courier New',monospace\">Reaction Real: C c <span style=\"color: #008080; text-decoration-color: #008080; font-weight: bold\">1</span> c c c <span style=\"font-weight: bold\">(</span> <span style=\"font-weight: bold\">[</span> N + <span style=\"font-weight: bold\">]</span> <span style=\"font-weight: bold\">(</span> = O <span style=\"font-weight: bold\">)</span> <span style=\"font-weight: bold\">[</span> O - <span style=\"font-weight: bold\">]</span> <span style=\"font-weight: bold\">)</span> c c <span style=\"color: #008080; text-decoration-color: #008080; font-weight: bold\">1</span> C <span style=\"font-weight: bold\">(</span> = O <span style=\"font-weight: bold\">)</span> N S <span style=\"font-weight: bold\">(</span> C <span style=\"font-weight: bold\">)</span> <span style=\"font-weight: bold\">(</span> = O <span style=\"font-weight: bold\">)</span> = O\n",
              "</pre>\n"
            ],
            "text/plain": [
              "Reaction Real: C c \u001b[1;36m1\u001b[0m c c c \u001b[1m(\u001b[0m \u001b[1m[\u001b[0m N + \u001b[1m]\u001b[0m \u001b[1m(\u001b[0m = O \u001b[1m)\u001b[0m \u001b[1m[\u001b[0m O - \u001b[1m]\u001b[0m \u001b[1m)\u001b[0m c c \u001b[1;36m1\u001b[0m C \u001b[1m(\u001b[0m = O \u001b[1m)\u001b[0m N S \u001b[1m(\u001b[0m C \u001b[1m)\u001b[0m \u001b[1m(\u001b[0m = O \u001b[1m)\u001b[0m = O\n"
            ]
          },
          "metadata": {
            "tags": []
          }
        },
        {
          "output_type": "display_data",
          "data": {
            "text/html": [
              "<pre style=\"white-space:pre;overflow-x:auto;line-height:normal;font-family:Menlo,'DejaVu Sans Mono',consolas,'Courier New',monospace\">prediction: c c <span style=\"color: #008080; text-decoration-color: #008080; font-weight: bold\">1</span> c c c <span style=\"font-weight: bold\">(</span> <span style=\"font-weight: bold\">[</span> n + <span style=\"font-weight: bold\">]</span> <span style=\"font-weight: bold\">(</span> = o <span style=\"font-weight: bold\">)</span> <span style=\"font-weight: bold\">[</span> o - <span style=\"font-weight: bold\">]</span> <span style=\"font-weight: bold\">)</span> c c <span style=\"color: #008080; text-decoration-color: #008080; font-weight: bold\">1</span> c <span style=\"font-weight: bold\">(</span> = o <span style=\"font-weight: bold\">)</span> n s <span style=\"font-weight: bold\">(</span> c <span style=\"font-weight: bold\">)</span> <span style=\"font-weight: bold\">(</span> =\n",
              "</pre>\n"
            ],
            "text/plain": [
              "prediction: c c \u001b[1;36m1\u001b[0m c c c \u001b[1m(\u001b[0m \u001b[1m[\u001b[0m n + \u001b[1m]\u001b[0m \u001b[1m(\u001b[0m = o \u001b[1m)\u001b[0m \u001b[1m[\u001b[0m o - \u001b[1m]\u001b[0m \u001b[1m)\u001b[0m c c \u001b[1;36m1\u001b[0m c \u001b[1m(\u001b[0m = o \u001b[1m)\u001b[0m n s \u001b[1m(\u001b[0m c \u001b[1m)\u001b[0m \u001b[1m(\u001b[0m =\n"
            ]
          },
          "metadata": {
            "tags": []
          }
        },
        {
          "output_type": "display_data",
          "data": {
            "text/html": [
              "<pre style=\"white-space:pre;overflow-x:auto;line-height:normal;font-family:Menlo,'DejaVu Sans Mono',consolas,'Courier New',monospace\">    \n",
              "</pre>\n"
            ],
            "text/plain": [
              "    \n"
            ]
          },
          "metadata": {
            "tags": []
          }
        },
        {
          "output_type": "display_data",
          "data": {
            "text/html": [
              "<pre style=\"white-space:pre;overflow-x:auto;line-height:normal;font-family:Menlo,'DejaVu Sans Mono',consolas,'Courier New',monospace\">Product: <span style=\"font-weight: bold\">&lt;</span><span style=\"color: #ff00ff; text-decoration-color: #ff00ff; font-weight: bold\">RX_6</span><span style=\"font-weight: bold\">&gt;</span> O = C <span style=\"font-weight: bold\">(</span> O <span style=\"font-weight: bold\">)</span> C c <span style=\"color: #008080; text-decoration-color: #008080; font-weight: bold\">1</span> c c c <span style=\"color: #008080; text-decoration-color: #008080; font-weight: bold\">2</span> s c <span style=\"font-weight: bold\">(</span> = O <span style=\"font-weight: bold\">)</span> <span style=\"font-weight: bold\">[</span> n H <span style=\"font-weight: bold\">]</span> c <span style=\"color: #008080; text-decoration-color: #008080; font-weight: bold\">2</span> c <span style=\"color: #008080; text-decoration-color: #008080; font-weight: bold\">1</span>\n",
              "</pre>\n"
            ],
            "text/plain": [
              "Product: \u001b[1m<\u001b[0m\u001b[1;95mRX_6\u001b[0m\u001b[1m>\u001b[0m O = C \u001b[1m(\u001b[0m O \u001b[1m)\u001b[0m C c \u001b[1;36m1\u001b[0m c c c \u001b[1;36m2\u001b[0m s c \u001b[1m(\u001b[0m = O \u001b[1m)\u001b[0m \u001b[1m[\u001b[0m n H \u001b[1m]\u001b[0m c \u001b[1;36m2\u001b[0m c \u001b[1;36m1\u001b[0m\n"
            ]
          },
          "metadata": {
            "tags": []
          }
        },
        {
          "output_type": "display_data",
          "data": {
            "text/html": [
              "<pre style=\"white-space:pre;overflow-x:auto;line-height:normal;font-family:Menlo,'DejaVu Sans Mono',consolas,'Courier New',monospace\">Reaction Real: C C O C <span style=\"font-weight: bold\">(</span> = O <span style=\"font-weight: bold\">)</span> C c <span style=\"color: #008080; text-decoration-color: #008080; font-weight: bold\">1</span> c c c <span style=\"color: #008080; text-decoration-color: #008080; font-weight: bold\">2</span> s c <span style=\"font-weight: bold\">(</span> = O <span style=\"font-weight: bold\">)</span> <span style=\"font-weight: bold\">[</span> n H <span style=\"font-weight: bold\">]</span> c <span style=\"color: #008080; text-decoration-color: #008080; font-weight: bold\">2</span> c <span style=\"color: #008080; text-decoration-color: #008080; font-weight: bold\">1</span>\n",
              "</pre>\n"
            ],
            "text/plain": [
              "Reaction Real: C C O C \u001b[1m(\u001b[0m = O \u001b[1m)\u001b[0m C c \u001b[1;36m1\u001b[0m c c c \u001b[1;36m2\u001b[0m s c \u001b[1m(\u001b[0m = O \u001b[1m)\u001b[0m \u001b[1m[\u001b[0m n H \u001b[1m]\u001b[0m c \u001b[1;36m2\u001b[0m c \u001b[1;36m1\u001b[0m\n"
            ]
          },
          "metadata": {
            "tags": []
          }
        },
        {
          "output_type": "display_data",
          "data": {
            "text/html": [
              "<pre style=\"white-space:pre;overflow-x:auto;line-height:normal;font-family:Menlo,'DejaVu Sans Mono',consolas,'Courier New',monospace\">prediction: c c o c <span style=\"font-weight: bold\">(</span> = o <span style=\"font-weight: bold\">)</span> c c <span style=\"color: #008080; text-decoration-color: #008080; font-weight: bold\">1</span> c c c <span style=\"color: #008080; text-decoration-color: #008080; font-weight: bold\">2</span> s c <span style=\"font-weight: bold\">(</span> = o <span style=\"font-weight: bold\">)</span> <span style=\"font-weight: bold\">[</span> n h <span style=\"font-weight: bold\">]</span> c <span style=\"color: #008080; text-decoration-color: #008080; font-weight: bold\">2</span> c <span style=\"color: #008080; text-decoration-color: #008080; font-weight: bold\">1</span> \n",
              "</pre>\n"
            ],
            "text/plain": [
              "prediction: c c o c \u001b[1m(\u001b[0m = o \u001b[1m)\u001b[0m c c \u001b[1;36m1\u001b[0m c c c \u001b[1;36m2\u001b[0m s c \u001b[1m(\u001b[0m = o \u001b[1m)\u001b[0m \u001b[1m[\u001b[0m n h \u001b[1m]\u001b[0m c \u001b[1;36m2\u001b[0m c \u001b[1;36m1\u001b[0m \n"
            ]
          },
          "metadata": {
            "tags": []
          }
        },
        {
          "output_type": "display_data",
          "data": {
            "text/html": [
              "<pre style=\"white-space:pre;overflow-x:auto;line-height:normal;font-family:Menlo,'DejaVu Sans Mono',consolas,'Courier New',monospace\">    \n",
              "</pre>\n"
            ],
            "text/plain": [
              "    \n"
            ]
          },
          "metadata": {
            "tags": []
          }
        },
        {
          "output_type": "display_data",
          "data": {
            "text/html": [
              "<pre style=\"white-space:pre;overflow-x:auto;line-height:normal;font-family:Menlo,'DejaVu Sans Mono',consolas,'Courier New',monospace\">Product: <span style=\"font-weight: bold\">&lt;</span><span style=\"color: #ff00ff; text-decoration-color: #ff00ff; font-weight: bold\">RX_9</span><span style=\"font-weight: bold\">&gt;</span> N C <span style=\"font-weight: bold\">(</span> = O <span style=\"font-weight: bold\">)</span> C <span style=\"color: #008080; text-decoration-color: #008080; font-weight: bold\">1</span> C C N <span style=\"font-weight: bold\">(</span> C C C O c <span style=\"color: #008080; text-decoration-color: #008080; font-weight: bold\">2</span> c c c <span style=\"font-weight: bold\">(</span> - n <span style=\"color: #008080; text-decoration-color: #008080; font-weight: bold\">3</span> n c <span style=\"color: #008080; text-decoration-color: #008080; font-weight: bold\">4</span> c c c c c <span style=\"color: #008080; text-decoration-color: #008080; font-weight: bold\">4</span> c <span style=\"color: #008080; text-decoration-color: #008080; font-weight: bold\">3</span> C l <span style=\"font-weight: bold\">)</span>\n",
              "c c <span style=\"color: #008080; text-decoration-color: #008080; font-weight: bold\">2</span> <span style=\"font-weight: bold\">)</span> C C <span style=\"color: #008080; text-decoration-color: #008080; font-weight: bold\">1</span>\n",
              "</pre>\n"
            ],
            "text/plain": [
              "Product: \u001b[1m<\u001b[0m\u001b[1;95mRX_9\u001b[0m\u001b[1m>\u001b[0m N C \u001b[1m(\u001b[0m = O \u001b[1m)\u001b[0m C \u001b[1;36m1\u001b[0m C C N \u001b[1m(\u001b[0m C C C O c \u001b[1;36m2\u001b[0m c c c \u001b[1m(\u001b[0m - n \u001b[1;36m3\u001b[0m n c \u001b[1;36m4\u001b[0m c c c c c \u001b[1;36m4\u001b[0m c \u001b[1;36m3\u001b[0m C l \u001b[1m)\u001b[0m\n",
              "c c \u001b[1;36m2\u001b[0m \u001b[1m)\u001b[0m C C \u001b[1;36m1\u001b[0m\n"
            ]
          },
          "metadata": {
            "tags": []
          }
        },
        {
          "output_type": "display_data",
          "data": {
            "text/html": [
              "<pre style=\"white-space:pre;overflow-x:auto;line-height:normal;font-family:Menlo,'DejaVu Sans Mono',consolas,'Courier New',monospace\">Reaction Real: N . O = C <span style=\"font-weight: bold\">(</span> O <span style=\"font-weight: bold\">)</span> C <span style=\"color: #008080; text-decoration-color: #008080; font-weight: bold\">1</span> C C N <span style=\"font-weight: bold\">(</span> C C C O c <span style=\"color: #008080; text-decoration-color: #008080; font-weight: bold\">2</span> c c c <span style=\"font-weight: bold\">(</span> - n <span style=\"color: #008080; text-decoration-color: #008080; font-weight: bold\">3</span> n c <span style=\"color: #008080; text-decoration-color: #008080; font-weight: bold\">4</span> c c c c c <span style=\"color: #008080; text-decoration-color: #008080; font-weight: bold\">4</span> c <span style=\"color: #008080; text-decoration-color: #008080; font-weight: bold\">3</span> C \n",
              "l <span style=\"font-weight: bold\">)</span> c c <span style=\"color: #008080; text-decoration-color: #008080; font-weight: bold\">2</span> <span style=\"font-weight: bold\">)</span> C C <span style=\"color: #008080; text-decoration-color: #008080; font-weight: bold\">1</span>\n",
              "</pre>\n"
            ],
            "text/plain": [
              "Reaction Real: N . O = C \u001b[1m(\u001b[0m O \u001b[1m)\u001b[0m C \u001b[1;36m1\u001b[0m C C N \u001b[1m(\u001b[0m C C C O c \u001b[1;36m2\u001b[0m c c c \u001b[1m(\u001b[0m - n \u001b[1;36m3\u001b[0m n c \u001b[1;36m4\u001b[0m c c c c c \u001b[1;36m4\u001b[0m c \u001b[1;36m3\u001b[0m C \n",
              "l \u001b[1m)\u001b[0m c c \u001b[1;36m2\u001b[0m \u001b[1m)\u001b[0m C C \u001b[1;36m1\u001b[0m\n"
            ]
          },
          "metadata": {
            "tags": []
          }
        },
        {
          "output_type": "display_data",
          "data": {
            "text/html": [
              "<pre style=\"white-space:pre;overflow-x:auto;line-height:normal;font-family:Menlo,'DejaVu Sans Mono',consolas,'Courier New',monospace\">prediction: c c o c <span style=\"font-weight: bold\">(</span> = o <span style=\"font-weight: bold\">)</span> c <span style=\"color: #008080; text-decoration-color: #008080; font-weight: bold\">1</span> c c n <span style=\"font-weight: bold\">(</span> c c c o c <span style=\"color: #008080; text-decoration-color: #008080; font-weight: bold\">2</span> c c c <span style=\"font-weight: bold\">(</span> - n <span style=\"color: #008080; text-decoration-color: #008080; font-weight: bold\">3</span> n c <span style=\"color: #008080; text-decoration-color: #008080; font-weight: bold\">4</span> c c c c c <span style=\"color: #008080; text-decoration-color: #008080; font-weight: bold\">4</span> c <span style=\"color: #008080; text-decoration-color: #008080; font-weight: bold\">3</span> c l <span style=\"font-weight: bold\">)</span>\n",
              "c c <span style=\"color: #008080; text-decoration-color: #008080; font-weight: bold\">2</span> <span style=\"font-weight: bold\">)</span> c c <span style=\"color: #008080; text-decoration-color: #008080; font-weight: bold\">1</span> . n \n",
              "</pre>\n"
            ],
            "text/plain": [
              "prediction: c c o c \u001b[1m(\u001b[0m = o \u001b[1m)\u001b[0m c \u001b[1;36m1\u001b[0m c c n \u001b[1m(\u001b[0m c c c o c \u001b[1;36m2\u001b[0m c c c \u001b[1m(\u001b[0m - n \u001b[1;36m3\u001b[0m n c \u001b[1;36m4\u001b[0m c c c c c \u001b[1;36m4\u001b[0m c \u001b[1;36m3\u001b[0m c l \u001b[1m)\u001b[0m\n",
              "c c \u001b[1;36m2\u001b[0m \u001b[1m)\u001b[0m c c \u001b[1;36m1\u001b[0m . n \n"
            ]
          },
          "metadata": {
            "tags": []
          }
        },
        {
          "output_type": "display_data",
          "data": {
            "text/html": [
              "<pre style=\"white-space:pre;overflow-x:auto;line-height:normal;font-family:Menlo,'DejaVu Sans Mono',consolas,'Courier New',monospace\">    \n",
              "</pre>\n"
            ],
            "text/plain": [
              "    \n"
            ]
          },
          "metadata": {
            "tags": []
          }
        },
        {
          "output_type": "display_data",
          "data": {
            "text/html": [
              "<pre style=\"white-space:pre;overflow-x:auto;line-height:normal;font-family:Menlo,'DejaVu Sans Mono',consolas,'Courier New',monospace\">Product: <span style=\"font-weight: bold\">&lt;</span><span style=\"color: #ff00ff; text-decoration-color: #ff00ff; font-weight: bold\">RX_2</span><span style=\"font-weight: bold\">&gt;</span> C C <span style=\"font-weight: bold\">(</span> C <span style=\"font-weight: bold\">)</span> <span style=\"font-weight: bold\">(</span> C <span style=\"font-weight: bold\">)</span> c <span style=\"color: #008080; text-decoration-color: #008080; font-weight: bold\">1</span> c c c <span style=\"font-weight: bold\">(</span> C N <span style=\"font-weight: bold\">(</span> C C c <span style=\"color: #008080; text-decoration-color: #008080; font-weight: bold\">2</span> c c <span style=\"font-weight: bold\">(</span> F <span style=\"font-weight: bold\">)</span> c c <span style=\"font-weight: bold\">(</span> C <span style=\"font-weight: bold\">(</span> F <span style=\"font-weight: bold\">)</span> <span style=\"font-weight: bold\">(</span> F <span style=\"font-weight: bold\">)</span> F <span style=\"font-weight: bold\">)</span> c\n",
              "<span style=\"color: #008080; text-decoration-color: #008080; font-weight: bold\">2</span> <span style=\"font-weight: bold\">)</span> C <span style=\"font-weight: bold\">(</span> = O <span style=\"font-weight: bold\">)</span> c <span style=\"color: #008080; text-decoration-color: #008080; font-weight: bold\">2</span> c c <span style=\"font-weight: bold\">(</span> C <span style=\"font-weight: bold\">(</span> F <span style=\"font-weight: bold\">)</span> <span style=\"font-weight: bold\">(</span> F <span style=\"font-weight: bold\">)</span> F <span style=\"font-weight: bold\">)</span> c c <span style=\"font-weight: bold\">(</span> C l <span style=\"font-weight: bold\">)</span> c <span style=\"color: #008080; text-decoration-color: #008080; font-weight: bold\">2</span> F <span style=\"font-weight: bold\">)</span> c c <span style=\"color: #008080; text-decoration-color: #008080; font-weight: bold\">1</span>\n",
              "</pre>\n"
            ],
            "text/plain": [
              "Product: \u001b[1m<\u001b[0m\u001b[1;95mRX_2\u001b[0m\u001b[1m>\u001b[0m C C \u001b[1m(\u001b[0m C \u001b[1m)\u001b[0m \u001b[1m(\u001b[0m C \u001b[1m)\u001b[0m c \u001b[1;36m1\u001b[0m c c c \u001b[1m(\u001b[0m C N \u001b[1m(\u001b[0m C C c \u001b[1;36m2\u001b[0m c c \u001b[1m(\u001b[0m F \u001b[1m)\u001b[0m c c \u001b[1m(\u001b[0m C \u001b[1m(\u001b[0m F \u001b[1m)\u001b[0m \u001b[1m(\u001b[0m F \u001b[1m)\u001b[0m F \u001b[1m)\u001b[0m c\n",
              "\u001b[1;36m2\u001b[0m \u001b[1m)\u001b[0m C \u001b[1m(\u001b[0m = O \u001b[1m)\u001b[0m c \u001b[1;36m2\u001b[0m c c \u001b[1m(\u001b[0m C \u001b[1m(\u001b[0m F \u001b[1m)\u001b[0m \u001b[1m(\u001b[0m F \u001b[1m)\u001b[0m F \u001b[1m)\u001b[0m c c \u001b[1m(\u001b[0m C l \u001b[1m)\u001b[0m c \u001b[1;36m2\u001b[0m F \u001b[1m)\u001b[0m c c \u001b[1;36m1\u001b[0m\n"
            ]
          },
          "metadata": {
            "tags": []
          }
        },
        {
          "output_type": "display_data",
          "data": {
            "text/html": [
              "<pre style=\"white-space:pre;overflow-x:auto;line-height:normal;font-family:Menlo,'DejaVu Sans Mono',consolas,'Courier New',monospace\">Reaction Real: C C <span style=\"font-weight: bold\">(</span> C <span style=\"font-weight: bold\">)</span> <span style=\"font-weight: bold\">(</span> C <span style=\"font-weight: bold\">)</span> c <span style=\"color: #008080; text-decoration-color: #008080; font-weight: bold\">1</span> c c c <span style=\"font-weight: bold\">(</span> C N C C c <span style=\"color: #008080; text-decoration-color: #008080; font-weight: bold\">2</span> c c <span style=\"font-weight: bold\">(</span> F <span style=\"font-weight: bold\">)</span> c c <span style=\"font-weight: bold\">(</span> C <span style=\"font-weight: bold\">(</span> F <span style=\"font-weight: bold\">)</span> <span style=\"font-weight: bold\">(</span> F <span style=\"font-weight: bold\">)</span> F <span style=\"font-weight: bold\">)</span> c <span style=\"color: #008080; text-decoration-color: #008080; font-weight: bold\">2</span> \n",
              "<span style=\"font-weight: bold\">)</span> c c <span style=\"color: #008080; text-decoration-color: #008080; font-weight: bold\">1</span> . O = C <span style=\"font-weight: bold\">(</span> O <span style=\"font-weight: bold\">)</span> c <span style=\"color: #008080; text-decoration-color: #008080; font-weight: bold\">1</span> c c <span style=\"font-weight: bold\">(</span> C <span style=\"font-weight: bold\">(</span> F <span style=\"font-weight: bold\">)</span> <span style=\"font-weight: bold\">(</span> F <span style=\"font-weight: bold\">)</span> F <span style=\"font-weight: bold\">)</span> c c <span style=\"font-weight: bold\">(</span> C l <span style=\"font-weight: bold\">)</span> c <span style=\"color: #008080; text-decoration-color: #008080; font-weight: bold\">1</span> F\n",
              "</pre>\n"
            ],
            "text/plain": [
              "Reaction Real: C C \u001b[1m(\u001b[0m C \u001b[1m)\u001b[0m \u001b[1m(\u001b[0m C \u001b[1m)\u001b[0m c \u001b[1;36m1\u001b[0m c c c \u001b[1m(\u001b[0m C N C C c \u001b[1;36m2\u001b[0m c c \u001b[1m(\u001b[0m F \u001b[1m)\u001b[0m c c \u001b[1m(\u001b[0m C \u001b[1m(\u001b[0m F \u001b[1m)\u001b[0m \u001b[1m(\u001b[0m F \u001b[1m)\u001b[0m F \u001b[1m)\u001b[0m c \u001b[1;36m2\u001b[0m \n",
              "\u001b[1m)\u001b[0m c c \u001b[1;36m1\u001b[0m . O = C \u001b[1m(\u001b[0m O \u001b[1m)\u001b[0m c \u001b[1;36m1\u001b[0m c c \u001b[1m(\u001b[0m C \u001b[1m(\u001b[0m F \u001b[1m)\u001b[0m \u001b[1m(\u001b[0m F \u001b[1m)\u001b[0m F \u001b[1m)\u001b[0m c c \u001b[1m(\u001b[0m C l \u001b[1m)\u001b[0m c \u001b[1;36m1\u001b[0m F\n"
            ]
          },
          "metadata": {
            "tags": []
          }
        },
        {
          "output_type": "display_data",
          "data": {
            "text/html": [
              "<pre style=\"white-space:pre;overflow-x:auto;line-height:normal;font-family:Menlo,'DejaVu Sans Mono',consolas,'Courier New',monospace\">prediction: c c <span style=\"font-weight: bold\">(</span> c <span style=\"font-weight: bold\">)</span> <span style=\"font-weight: bold\">(</span> c <span style=\"font-weight: bold\">)</span> c <span style=\"color: #008080; text-decoration-color: #008080; font-weight: bold\">1</span> c c c <span style=\"font-weight: bold\">(</span> c n c c c <span style=\"color: #008080; text-decoration-color: #008080; font-weight: bold\">2</span> c c <span style=\"font-weight: bold\">(</span> f <span style=\"font-weight: bold\">)</span> c c <span style=\"font-weight: bold\">(</span> c <span style=\"font-weight: bold\">(</span> f <span style=\"font-weight: bold\">)</span> <span style=\"font-weight: bold\">(</span> f <span style=\"font-weight: bold\">)</span> f <span style=\"font-weight: bold\">)</span> c <span style=\"color: #008080; text-decoration-color: #008080; font-weight: bold\">2</span> <span style=\"font-weight: bold\">)</span> c\n",
              "c <span style=\"color: #008080; text-decoration-color: #008080; font-weight: bold\">1</span> . o = c <span style=\"font-weight: bold\">(</span> o <span style=\"font-weight: bold\">)</span> c <span style=\"color: #008080; text-decoration-color: #008080; font-weight: bold\">1</span> c c <span style=\"font-weight: bold\">(</span> c <span style=\"font-weight: bold\">(</span> f <span style=\"font-weight: bold\">)</span> <span style=\"font-weight: bold\">(</span> f <span style=\"font-weight: bold\">)</span> f <span style=\"font-weight: bold\">)</span> c c <span style=\"font-weight: bold\">(</span> c l <span style=\"font-weight: bold\">)</span> c <span style=\"color: #008080; text-decoration-color: #008080; font-weight: bold\">1</span> f \n",
              "</pre>\n"
            ],
            "text/plain": [
              "prediction: c c \u001b[1m(\u001b[0m c \u001b[1m)\u001b[0m \u001b[1m(\u001b[0m c \u001b[1m)\u001b[0m c \u001b[1;36m1\u001b[0m c c c \u001b[1m(\u001b[0m c n c c c \u001b[1;36m2\u001b[0m c c \u001b[1m(\u001b[0m f \u001b[1m)\u001b[0m c c \u001b[1m(\u001b[0m c \u001b[1m(\u001b[0m f \u001b[1m)\u001b[0m \u001b[1m(\u001b[0m f \u001b[1m)\u001b[0m f \u001b[1m)\u001b[0m c \u001b[1;36m2\u001b[0m \u001b[1m)\u001b[0m c\n",
              "c \u001b[1;36m1\u001b[0m . o = c \u001b[1m(\u001b[0m o \u001b[1m)\u001b[0m c \u001b[1;36m1\u001b[0m c c \u001b[1m(\u001b[0m c \u001b[1m(\u001b[0m f \u001b[1m)\u001b[0m \u001b[1m(\u001b[0m f \u001b[1m)\u001b[0m f \u001b[1m)\u001b[0m c c \u001b[1m(\u001b[0m c l \u001b[1m)\u001b[0m c \u001b[1;36m1\u001b[0m f \n"
            ]
          },
          "metadata": {
            "tags": []
          }
        },
        {
          "output_type": "display_data",
          "data": {
            "text/html": [
              "<pre style=\"white-space:pre;overflow-x:auto;line-height:normal;font-family:Menlo,'DejaVu Sans Mono',consolas,'Courier New',monospace\">    \n",
              "</pre>\n"
            ],
            "text/plain": [
              "    \n"
            ]
          },
          "metadata": {
            "tags": []
          }
        },
        {
          "output_type": "display_data",
          "data": {
            "text/html": [
              "<pre style=\"white-space:pre;overflow-x:auto;line-height:normal;font-family:Menlo,'DejaVu Sans Mono',consolas,'Courier New',monospace\">Product: <span style=\"font-weight: bold\">&lt;</span><span style=\"color: #ff00ff; text-decoration-color: #ff00ff; font-weight: bold\">RX_1</span><span style=\"font-weight: bold\">&gt;</span> C C O C <span style=\"font-weight: bold\">(</span> = O <span style=\"font-weight: bold\">)</span> c <span style=\"color: #008080; text-decoration-color: #008080; font-weight: bold\">1</span> c o c <span style=\"color: #008080; text-decoration-color: #008080; font-weight: bold\">2</span> c c <span style=\"font-weight: bold\">(</span> N <span style=\"color: #008080; text-decoration-color: #008080; font-weight: bold\">3</span> C <span style=\"font-weight: bold\">(</span> = O <span style=\"font-weight: bold\">)</span> c <span style=\"color: #008080; text-decoration-color: #008080; font-weight: bold\">4</span> c c c c c <span style=\"color: #008080; text-decoration-color: #008080; font-weight: bold\">4</span> C <span style=\"color: #008080; text-decoration-color: #008080; font-weight: bold\">3</span> = O <span style=\"font-weight: bold\">)</span> c c\n",
              "c <span style=\"color: #008080; text-decoration-color: #008080; font-weight: bold\">1</span> <span style=\"color: #008080; text-decoration-color: #008080; font-weight: bold\">2</span>\n",
              "</pre>\n"
            ],
            "text/plain": [
              "Product: \u001b[1m<\u001b[0m\u001b[1;95mRX_1\u001b[0m\u001b[1m>\u001b[0m C C O C \u001b[1m(\u001b[0m = O \u001b[1m)\u001b[0m c \u001b[1;36m1\u001b[0m c o c \u001b[1;36m2\u001b[0m c c \u001b[1m(\u001b[0m N \u001b[1;36m3\u001b[0m C \u001b[1m(\u001b[0m = O \u001b[1m)\u001b[0m c \u001b[1;36m4\u001b[0m c c c c c \u001b[1;36m4\u001b[0m C \u001b[1;36m3\u001b[0m = O \u001b[1m)\u001b[0m c c\n",
              "c \u001b[1;36m1\u001b[0m \u001b[1;36m2\u001b[0m\n"
            ]
          },
          "metadata": {
            "tags": []
          }
        },
        {
          "output_type": "display_data",
          "data": {
            "text/html": [
              "<pre style=\"white-space:pre;overflow-x:auto;line-height:normal;font-family:Menlo,'DejaVu Sans Mono',consolas,'Courier New',monospace\">Reaction Real: C C O C <span style=\"font-weight: bold\">(</span> = O <span style=\"font-weight: bold\">)</span> c <span style=\"color: #008080; text-decoration-color: #008080; font-weight: bold\">1</span> c o c <span style=\"color: #008080; text-decoration-color: #008080; font-weight: bold\">2</span> c c <span style=\"font-weight: bold\">(</span> B r <span style=\"font-weight: bold\">)</span> c c c <span style=\"color: #008080; text-decoration-color: #008080; font-weight: bold\">1</span> <span style=\"color: #008080; text-decoration-color: #008080; font-weight: bold\">2</span> . O = C <span style=\"color: #008080; text-decoration-color: #008080; font-weight: bold\">1</span> N C <span style=\"font-weight: bold\">(</span> = O <span style=\"font-weight: bold\">)</span> c <span style=\"color: #008080; text-decoration-color: #008080; font-weight: bold\">2</span> c \n",
              "c c c c <span style=\"color: #008080; text-decoration-color: #008080; font-weight: bold\">2</span> <span style=\"color: #008080; text-decoration-color: #008080; font-weight: bold\">1</span>\n",
              "</pre>\n"
            ],
            "text/plain": [
              "Reaction Real: C C O C \u001b[1m(\u001b[0m = O \u001b[1m)\u001b[0m c \u001b[1;36m1\u001b[0m c o c \u001b[1;36m2\u001b[0m c c \u001b[1m(\u001b[0m B r \u001b[1m)\u001b[0m c c c \u001b[1;36m1\u001b[0m \u001b[1;36m2\u001b[0m . O = C \u001b[1;36m1\u001b[0m N C \u001b[1m(\u001b[0m = O \u001b[1m)\u001b[0m c \u001b[1;36m2\u001b[0m c \n",
              "c c c c \u001b[1;36m2\u001b[0m \u001b[1;36m1\u001b[0m\n"
            ]
          },
          "metadata": {
            "tags": []
          }
        },
        {
          "output_type": "display_data",
          "data": {
            "text/html": [
              "<pre style=\"white-space:pre;overflow-x:auto;line-height:normal;font-family:Menlo,'DejaVu Sans Mono',consolas,'Courier New',monospace\">prediction: c c o c <span style=\"font-weight: bold\">(</span> = o <span style=\"font-weight: bold\">)</span> c <span style=\"color: #008080; text-decoration-color: #008080; font-weight: bold\">1</span> c o c <span style=\"color: #008080; text-decoration-color: #008080; font-weight: bold\">2</span> c c <span style=\"font-weight: bold\">(</span> b r <span style=\"font-weight: bold\">)</span> c c c <span style=\"color: #008080; text-decoration-color: #008080; font-weight: bold\">1</span> <span style=\"color: #008080; text-decoration-color: #008080; font-weight: bold\">2</span> . o = c <span style=\"color: #008080; text-decoration-color: #008080; font-weight: bold\">1</span> n c <span style=\"font-weight: bold\">(</span> = o <span style=\"font-weight: bold\">)</span> c <span style=\"color: #008080; text-decoration-color: #008080; font-weight: bold\">2</span> c c c\n",
              "c c <span style=\"color: #008080; text-decoration-color: #008080; font-weight: bold\">2</span> <span style=\"color: #008080; text-decoration-color: #008080; font-weight: bold\">1</span> \n",
              "</pre>\n"
            ],
            "text/plain": [
              "prediction: c c o c \u001b[1m(\u001b[0m = o \u001b[1m)\u001b[0m c \u001b[1;36m1\u001b[0m c o c \u001b[1;36m2\u001b[0m c c \u001b[1m(\u001b[0m b r \u001b[1m)\u001b[0m c c c \u001b[1;36m1\u001b[0m \u001b[1;36m2\u001b[0m . o = c \u001b[1;36m1\u001b[0m n c \u001b[1m(\u001b[0m = o \u001b[1m)\u001b[0m c \u001b[1;36m2\u001b[0m c c c\n",
              "c c \u001b[1;36m2\u001b[0m \u001b[1;36m1\u001b[0m \n"
            ]
          },
          "metadata": {
            "tags": []
          }
        },
        {
          "output_type": "display_data",
          "data": {
            "text/html": [
              "<pre style=\"white-space:pre;overflow-x:auto;line-height:normal;font-family:Menlo,'DejaVu Sans Mono',consolas,'Courier New',monospace\">    \n",
              "</pre>\n"
            ],
            "text/plain": [
              "    \n"
            ]
          },
          "metadata": {
            "tags": []
          }
        }
      ]
    },
    {
      "cell_type": "code",
      "metadata": {
        "colab": {
          "base_uri": "https://localhost:8080/",
          "height": 68
        },
        "id": "IGGb5BnRFdLj",
        "outputId": "26cd7ff5-b787-499d-8ac5-f522961456b2"
      },
      "source": [
        "i=50034\n",
        "translate(transformer, df.input[i], src_vocab, tgt_vocab, tokenizer)"
      ],
      "id": "IGGb5BnRFdLj",
      "execution_count": 71,
      "outputs": [
        {
          "output_type": "display_data",
          "data": {
            "text/html": [
              "<pre style=\"white-space:pre;overflow-x:auto;line-height:normal;font-family:Menlo,'DejaVu Sans Mono',consolas,'Courier New',monospace\">Product: <span style=\"font-weight: bold\">&lt;</span><span style=\"color: #ff00ff; text-decoration-color: #ff00ff; font-weight: bold\">RX_3</span><span style=\"font-weight: bold\">&gt;</span> C c <span style=\"color: #008080; text-decoration-color: #008080; font-weight: bold\">1</span> c c c <span style=\"font-weight: bold\">(</span> - c <span style=\"color: #008080; text-decoration-color: #008080; font-weight: bold\">2</span> c c n c c <span style=\"color: #008080; text-decoration-color: #008080; font-weight: bold\">2</span> <span style=\"font-weight: bold\">)</span> c c <span style=\"color: #008080; text-decoration-color: #008080; font-weight: bold\">1</span> C = O\n",
              "</pre>\n"
            ],
            "text/plain": [
              "Product: \u001b[1m<\u001b[0m\u001b[1;95mRX_3\u001b[0m\u001b[1m>\u001b[0m C c \u001b[1;36m1\u001b[0m c c c \u001b[1m(\u001b[0m - c \u001b[1;36m2\u001b[0m c c n c c \u001b[1;36m2\u001b[0m \u001b[1m)\u001b[0m c c \u001b[1;36m1\u001b[0m C = O\n"
            ]
          },
          "metadata": {
            "tags": []
          }
        },
        {
          "output_type": "display_data",
          "data": {
            "text/html": [
              "<pre style=\"white-space:pre;overflow-x:auto;line-height:normal;font-family:Menlo,'DejaVu Sans Mono',consolas,'Courier New',monospace\">Reaction Real: C c <span style=\"color: #008080; text-decoration-color: #008080; font-weight: bold\">1</span> c c c <span style=\"font-weight: bold\">(</span> B r <span style=\"font-weight: bold\">)</span> c c <span style=\"color: #008080; text-decoration-color: #008080; font-weight: bold\">1</span> C = O . O B <span style=\"font-weight: bold\">(</span> O <span style=\"font-weight: bold\">)</span> c <span style=\"color: #008080; text-decoration-color: #008080; font-weight: bold\">1</span> c c n c c <span style=\"color: #008080; text-decoration-color: #008080; font-weight: bold\">1</span>\n",
              "</pre>\n"
            ],
            "text/plain": [
              "Reaction Real: C c \u001b[1;36m1\u001b[0m c c c \u001b[1m(\u001b[0m B r \u001b[1m)\u001b[0m c c \u001b[1;36m1\u001b[0m C = O . O B \u001b[1m(\u001b[0m O \u001b[1m)\u001b[0m c \u001b[1;36m1\u001b[0m c c n c c \u001b[1;36m1\u001b[0m\n"
            ]
          },
          "metadata": {
            "tags": []
          }
        },
        {
          "output_type": "display_data",
          "data": {
            "text/html": [
              "<pre style=\"white-space:pre;overflow-x:auto;line-height:normal;font-family:Menlo,'DejaVu Sans Mono',consolas,'Courier New',monospace\">prediction: c c <span style=\"color: #008080; text-decoration-color: #008080; font-weight: bold\">1</span> c c c <span style=\"font-weight: bold\">(</span> b r <span style=\"font-weight: bold\">)</span> c c <span style=\"color: #008080; text-decoration-color: #008080; font-weight: bold\">1</span> c = o . o b <span style=\"font-weight: bold\">(</span> o <span style=\"font-weight: bold\">)</span> c <span style=\"color: #008080; text-decoration-color: #008080; font-weight: bold\">1</span> c c n c c <span style=\"color: #008080; text-decoration-color: #008080; font-weight: bold\">1</span>\n",
              "</pre>\n"
            ],
            "text/plain": [
              "prediction: c c \u001b[1;36m1\u001b[0m c c c \u001b[1m(\u001b[0m b r \u001b[1m)\u001b[0m c c \u001b[1;36m1\u001b[0m c = o . o b \u001b[1m(\u001b[0m o \u001b[1m)\u001b[0m c \u001b[1;36m1\u001b[0m c c n c c \u001b[1;36m1\u001b[0m\n"
            ]
          },
          "metadata": {
            "tags": []
          }
        }
      ]
    },
    {
      "cell_type": "code",
      "metadata": {
        "id": "thrown-rebecca",
        "colab": {
          "base_uri": "https://localhost:8080/",
          "height": 68
        },
        "outputId": "44057b0d-edbb-40a9-ac33-7a50e5355a36"
      },
      "source": [
        "i=50034\n",
        "translate(model, df.input[i], src_vocab, tgt_vocab, tokenizer)"
      ],
      "id": "thrown-rebecca",
      "execution_count": 85,
      "outputs": [
        {
          "output_type": "display_data",
          "data": {
            "text/html": [
              "<pre style=\"white-space:pre;overflow-x:auto;line-height:normal;font-family:Menlo,'DejaVu Sans Mono',consolas,'Courier New',monospace\">Product: <span style=\"font-weight: bold\">&lt;</span><span style=\"color: #ff00ff; text-decoration-color: #ff00ff; font-weight: bold\">RX_3</span><span style=\"font-weight: bold\">&gt;</span> C c <span style=\"color: #008080; text-decoration-color: #008080; font-weight: bold\">1</span> c c c <span style=\"font-weight: bold\">(</span> - c <span style=\"color: #008080; text-decoration-color: #008080; font-weight: bold\">2</span> c c n c c <span style=\"color: #008080; text-decoration-color: #008080; font-weight: bold\">2</span> <span style=\"font-weight: bold\">)</span> c c <span style=\"color: #008080; text-decoration-color: #008080; font-weight: bold\">1</span> C = O\n",
              "</pre>\n"
            ],
            "text/plain": [
              "Product: \u001b[1m<\u001b[0m\u001b[1;95mRX_3\u001b[0m\u001b[1m>\u001b[0m C c \u001b[1;36m1\u001b[0m c c c \u001b[1m(\u001b[0m - c \u001b[1;36m2\u001b[0m c c n c c \u001b[1;36m2\u001b[0m \u001b[1m)\u001b[0m c c \u001b[1;36m1\u001b[0m C = O\n"
            ]
          },
          "metadata": {
            "tags": []
          }
        },
        {
          "output_type": "display_data",
          "data": {
            "text/html": [
              "<pre style=\"white-space:pre;overflow-x:auto;line-height:normal;font-family:Menlo,'DejaVu Sans Mono',consolas,'Courier New',monospace\">Reaction Real: C c <span style=\"color: #008080; text-decoration-color: #008080; font-weight: bold\">1</span> c c c <span style=\"font-weight: bold\">(</span> B r <span style=\"font-weight: bold\">)</span> c c <span style=\"color: #008080; text-decoration-color: #008080; font-weight: bold\">1</span> C = O . O B <span style=\"font-weight: bold\">(</span> O <span style=\"font-weight: bold\">)</span> c <span style=\"color: #008080; text-decoration-color: #008080; font-weight: bold\">1</span> c c n c c <span style=\"color: #008080; text-decoration-color: #008080; font-weight: bold\">1</span>\n",
              "</pre>\n"
            ],
            "text/plain": [
              "Reaction Real: C c \u001b[1;36m1\u001b[0m c c c \u001b[1m(\u001b[0m B r \u001b[1m)\u001b[0m c c \u001b[1;36m1\u001b[0m C = O . O B \u001b[1m(\u001b[0m O \u001b[1m)\u001b[0m c \u001b[1;36m1\u001b[0m c c n c c \u001b[1;36m1\u001b[0m\n"
            ]
          },
          "metadata": {
            "tags": []
          }
        },
        {
          "output_type": "display_data",
          "data": {
            "text/html": [
              "<pre style=\"white-space:pre;overflow-x:auto;line-height:normal;font-family:Menlo,'DejaVu Sans Mono',consolas,'Courier New',monospace\">prediction: b r c <span style=\"color: #008080; text-decoration-color: #008080; font-weight: bold\">1</span> c c n c c <span style=\"color: #008080; text-decoration-color: #008080; font-weight: bold\">1</span> . c c <span style=\"color: #008080; text-decoration-color: #008080; font-weight: bold\">1</span> c c c <span style=\"font-weight: bold\">(</span> b <span style=\"font-weight: bold\">(</span> o <span style=\"font-weight: bold\">)</span> o <span style=\"font-weight: bold\">)</span> c c <span style=\"color: #008080; text-decoration-color: #008080; font-weight: bold\">1</span> c = o\n",
              "</pre>\n"
            ],
            "text/plain": [
              "prediction: b r c \u001b[1;36m1\u001b[0m c c n c c \u001b[1;36m1\u001b[0m . c c \u001b[1;36m1\u001b[0m c c c \u001b[1m(\u001b[0m b \u001b[1m(\u001b[0m o \u001b[1m)\u001b[0m o \u001b[1m)\u001b[0m c c \u001b[1;36m1\u001b[0m c = o\n"
            ]
          },
          "metadata": {
            "tags": []
          }
        }
      ]
    },
    {
      "cell_type": "code",
      "metadata": {
        "colab": {
          "base_uri": "https://localhost:8080/",
          "height": 17
        },
        "id": "b89JKvQEeh8N",
        "outputId": "35294081-fb1d-49e5-cc34-3da1d138a410"
      },
      "source": [
        "files.download(\"/content/my_checkpoint_200.pth\")"
      ],
      "id": "b89JKvQEeh8N",
      "execution_count": 86,
      "outputs": [
        {
          "output_type": "display_data",
          "data": {
            "application/javascript": [
              "\n",
              "    async function download(id, filename, size) {\n",
              "      if (!google.colab.kernel.accessAllowed) {\n",
              "        return;\n",
              "      }\n",
              "      const div = document.createElement('div');\n",
              "      const label = document.createElement('label');\n",
              "      label.textContent = `Downloading \"${filename}\": `;\n",
              "      div.appendChild(label);\n",
              "      const progress = document.createElement('progress');\n",
              "      progress.max = size;\n",
              "      div.appendChild(progress);\n",
              "      document.body.appendChild(div);\n",
              "\n",
              "      const buffers = [];\n",
              "      let downloaded = 0;\n",
              "\n",
              "      const channel = await google.colab.kernel.comms.open(id);\n",
              "      // Send a message to notify the kernel that we're ready.\n",
              "      channel.send({})\n",
              "\n",
              "      for await (const message of channel.messages) {\n",
              "        // Send a message to notify the kernel that we're ready.\n",
              "        channel.send({})\n",
              "        if (message.buffers) {\n",
              "          for (const buffer of message.buffers) {\n",
              "            buffers.push(buffer);\n",
              "            downloaded += buffer.byteLength;\n",
              "            progress.value = downloaded;\n",
              "          }\n",
              "        }\n",
              "      }\n",
              "      const blob = new Blob(buffers, {type: 'application/binary'});\n",
              "      const a = document.createElement('a');\n",
              "      a.href = window.URL.createObjectURL(blob);\n",
              "      a.download = filename;\n",
              "      div.appendChild(a);\n",
              "      a.click();\n",
              "      div.remove();\n",
              "    }\n",
              "  "
            ],
            "text/plain": [
              "<IPython.core.display.Javascript object>"
            ]
          },
          "metadata": {
            "tags": []
          }
        },
        {
          "output_type": "display_data",
          "data": {
            "application/javascript": [
              "download(\"download_578ee837-b916-4db9-91c6-2bf3aebf6944\", \"my_checkpoint_200.pth\", 162612002)"
            ],
            "text/plain": [
              "<IPython.core.display.Javascript object>"
            ]
          },
          "metadata": {
            "tags": []
          }
        }
      ]
    },
    {
      "cell_type": "markdown",
      "metadata": {
        "id": "rdpUmPLI8MRv"
      },
      "source": [
        "#beam search "
      ],
      "id": "rdpUmPLI8MRv"
    },
    {
      "cell_type": "code",
      "metadata": {
        "id": "WZkcWqq98T-Q"
      },
      "source": [
        ""
      ],
      "id": "WZkcWqq98T-Q",
      "execution_count": null,
      "outputs": []
    },
    {
      "cell_type": "markdown",
      "metadata": {
        "id": "Ejhr_C-PIR_I"
      },
      "source": [
        ""
      ],
      "id": "Ejhr_C-PIR_I"
    }
  ]
}