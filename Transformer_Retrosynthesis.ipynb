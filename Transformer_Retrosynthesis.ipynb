{
  "nbformat": 4,
  "nbformat_minor": 5,
  "metadata": {
    "kernelspec": {
      "display_name": "Python 3",
      "language": "python",
      "name": "python3"
    },
    "language_info": {
      "codemirror_mode": {
        "name": "ipython",
        "version": 3
      },
      "file_extension": ".py",
      "mimetype": "text/x-python",
      "name": "python",
      "nbconvert_exporter": "python",
      "pygments_lexer": "ipython3",
      "version": "3.8.5"
    },
    "colab": {
      "name": "Transformer_Retrosynthesis.ipynb",
      "provenance": [],
      "machine_shape": "hm",
      "include_colab_link": true
    },
    "accelerator": "GPU"
  },
  "cells": [
    {
      "cell_type": "markdown",
      "metadata": {
        "id": "view-in-github",
        "colab_type": "text"
      },
      "source": [
        "<a href=\"https://colab.research.google.com/github/kenpurin/Retrosynthesis_TF/blob/main/Transformer_Retrosynthesis.ipynb\" target=\"_parent\"><img src=\"https://colab.research.google.com/assets/colab-badge.svg\" alt=\"Open In Colab\"/></a>"
      ]
    },
    {
      "cell_type": "markdown",
      "metadata": {
        "id": "AuyLoi9uOemv"
      },
      "source": [
        "# LANGUAGE TRANSLATION WITH TRANSFORMER"
      ],
      "id": "AuyLoi9uOemv"
    },
    {
      "cell_type": "code",
      "metadata": {
        "colab": {
          "base_uri": "https://localhost:8080/"
        },
        "id": "n7-pt1ZNOj6f",
        "outputId": "a4cec700-1d07-4edc-87aa-cec4e97bd099"
      },
      "source": [
        "!nvidia-smi"
      ],
      "id": "n7-pt1ZNOj6f",
      "execution_count": 6,
      "outputs": [
        {
          "output_type": "stream",
          "text": [
            "Sun Jun  6 07:57:01 2021       \n",
            "+-----------------------------------------------------------------------------+\n",
            "| NVIDIA-SMI 465.27       Driver Version: 460.32.03    CUDA Version: 11.2     |\n",
            "|-------------------------------+----------------------+----------------------+\n",
            "| GPU  Name        Persistence-M| Bus-Id        Disp.A | Volatile Uncorr. ECC |\n",
            "| Fan  Temp  Perf  Pwr:Usage/Cap|         Memory-Usage | GPU-Util  Compute M. |\n",
            "|                               |                      |               MIG M. |\n",
            "|===============================+======================+======================|\n",
            "|   0  Tesla P100-PCIE...  Off  | 00000000:00:04.0 Off |                    0 |\n",
            "| N/A   43C    P0    28W / 250W |      0MiB / 16280MiB |      0%      Default |\n",
            "|                               |                      |                  N/A |\n",
            "+-------------------------------+----------------------+----------------------+\n",
            "                                                                               \n",
            "+-----------------------------------------------------------------------------+\n",
            "| Processes:                                                                  |\n",
            "|  GPU   GI   CI        PID   Type   Process name                  GPU Memory |\n",
            "|        ID   ID                                                   Usage      |\n",
            "|=============================================================================|\n",
            "|  No running processes found                                                 |\n",
            "+-----------------------------------------------------------------------------+\n"
          ],
          "name": "stdout"
        }
      ]
    },
    {
      "cell_type": "code",
      "metadata": {
        "colab": {
          "base_uri": "https://localhost:8080/"
        },
        "id": "rQUpW-B07Wvw",
        "outputId": "0783e684-a21f-4751-a63b-26c66dfeacc6"
      },
      "source": [
        "from google.colab import drive\n",
        "drive.mount('/content/gdrive')"
      ],
      "id": "rQUpW-B07Wvw",
      "execution_count": 7,
      "outputs": [
        {
          "output_type": "stream",
          "text": [
            "Mounted at /content/gdrive\n"
          ],
          "name": "stdout"
        }
      ]
    },
    {
      "cell_type": "markdown",
      "metadata": {
        "id": "yD3jtJw1Y07o"
      },
      "source": [
        "#load data and insatall"
      ],
      "id": "yD3jtJw1Y07o"
    },
    {
      "cell_type": "code",
      "metadata": {
        "colab": {
          "base_uri": "https://localhost:8080/"
        },
        "id": "Ij-QtfSdOxKG",
        "outputId": "3bbdee17-bab9-486f-9f13-ea7b7e74dd1f"
      },
      "source": [
        "!git clone https://github.com/kenpurin/Retrosynthesis_TF.git"
      ],
      "id": "Ij-QtfSdOxKG",
      "execution_count": 8,
      "outputs": [
        {
          "output_type": "stream",
          "text": [
            "Cloning into 'Retrosynthesis_TF'...\n",
            "remote: Enumerating objects: 133, done.\u001b[K\n",
            "remote: Counting objects: 100% (133/133), done.\u001b[K\n",
            "remote: Compressing objects: 100% (128/128), done.\u001b[K\n",
            "remote: Total 133 (delta 62), reused 0 (delta 0), pack-reused 0\u001b[K\n",
            "Receiving objects: 100% (133/133), 3.78 MiB | 3.40 MiB/s, done.\n",
            "Resolving deltas: 100% (62/62), done.\n"
          ],
          "name": "stdout"
        }
      ]
    },
    {
      "cell_type": "code",
      "metadata": {
        "colab": {
          "base_uri": "https://localhost:8080/"
        },
        "id": "RpYFi7_17AeU",
        "outputId": "3636cd77-0a5a-4e70-b79f-1b44b7c94c6f"
      },
      "source": [
        "!pip3 install rich\n",
        "!pip3 show torch"
      ],
      "id": "RpYFi7_17AeU",
      "execution_count": 9,
      "outputs": [
        {
          "output_type": "stream",
          "text": [
            "Collecting rich\n",
            "\u001b[?25l  Downloading https://files.pythonhosted.org/packages/6b/39/fbe8d15f0b017d63701f2a42e4ccb9a73cd4175e5c56214c1b5685e3dd79/rich-10.2.2-py3-none-any.whl (203kB)\n",
            "\r\u001b[K     |█▋                              | 10kB 19.5MB/s eta 0:00:01\r\u001b[K     |███▏                            | 20kB 18.5MB/s eta 0:00:01\r\u001b[K     |████▉                           | 30kB 15.1MB/s eta 0:00:01\r\u001b[K     |██████▍                         | 40kB 13.5MB/s eta 0:00:01\r\u001b[K     |████████                        | 51kB 8.2MB/s eta 0:00:01\r\u001b[K     |█████████▋                      | 61kB 8.2MB/s eta 0:00:01\r\u001b[K     |███████████▎                    | 71kB 9.2MB/s eta 0:00:01\r\u001b[K     |████████████▉                   | 81kB 9.7MB/s eta 0:00:01\r\u001b[K     |██████████████▌                 | 92kB 9.9MB/s eta 0:00:01\r\u001b[K     |████████████████                | 102kB 7.6MB/s eta 0:00:01\r\u001b[K     |█████████████████▊              | 112kB 7.6MB/s eta 0:00:01\r\u001b[K     |███████████████████▎            | 122kB 7.6MB/s eta 0:00:01\r\u001b[K     |█████████████████████           | 133kB 7.6MB/s eta 0:00:01\r\u001b[K     |██████████████████████▌         | 143kB 7.6MB/s eta 0:00:01\r\u001b[K     |████████████████████████▏       | 153kB 7.6MB/s eta 0:00:01\r\u001b[K     |█████████████████████████▊      | 163kB 7.6MB/s eta 0:00:01\r\u001b[K     |███████████████████████████▍    | 174kB 7.6MB/s eta 0:00:01\r\u001b[K     |█████████████████████████████   | 184kB 7.6MB/s eta 0:00:01\r\u001b[K     |██████████████████████████████▋ | 194kB 7.6MB/s eta 0:00:01\r\u001b[K     |████████████████████████████████| 204kB 7.6MB/s \n",
            "\u001b[?25hRequirement already satisfied: typing-extensions<4.0.0,>=3.7.4; python_version < \"3.8\" in /usr/local/lib/python3.7/dist-packages (from rich) (3.7.4.3)\n",
            "Requirement already satisfied: pygments<3.0.0,>=2.6.0 in /usr/local/lib/python3.7/dist-packages (from rich) (2.6.1)\n",
            "Collecting commonmark<0.10.0,>=0.9.0\n",
            "\u001b[?25l  Downloading https://files.pythonhosted.org/packages/b1/92/dfd892312d822f36c55366118b95d914e5f16de11044a27cf10a7d71bbbf/commonmark-0.9.1-py2.py3-none-any.whl (51kB)\n",
            "\u001b[K     |████████████████████████████████| 51kB 5.8MB/s \n",
            "\u001b[?25hCollecting colorama<0.5.0,>=0.4.0\n",
            "  Downloading https://files.pythonhosted.org/packages/44/98/5b86278fbbf250d239ae0ecb724f8572af1c91f4a11edf4d36a206189440/colorama-0.4.4-py2.py3-none-any.whl\n",
            "Installing collected packages: commonmark, colorama, rich\n",
            "Successfully installed colorama-0.4.4 commonmark-0.9.1 rich-10.2.2\n",
            "Name: torch\n",
            "Version: 1.8.1+cu101\n",
            "Summary: Tensors and Dynamic neural networks in Python with strong GPU acceleration\n",
            "Home-page: https://pytorch.org/\n",
            "Author: PyTorch Team\n",
            "Author-email: packages@pytorch.org\n",
            "License: BSD-3\n",
            "Location: /usr/local/lib/python3.7/dist-packages\n",
            "Requires: typing-extensions, numpy\n",
            "Required-by: torchvision, torchtext, fastai\n"
          ],
          "name": "stdout"
        }
      ]
    },
    {
      "cell_type": "markdown",
      "metadata": {
        "id": "k3YfZKcVOVBP"
      },
      "source": [
        "# Data Processing"
      ],
      "id": "k3YfZKcVOVBP"
    },
    {
      "cell_type": "code",
      "metadata": {
        "id": "greater-timeline"
      },
      "source": [
        "import math\n",
        "import torchtext\n",
        "import torch\n",
        "import torch.nn as nn\n",
        "from torchtext.data.utils import get_tokenizer\n",
        "from collections import Counter\n",
        "from torchtext.vocab import Vocab\n",
        "from torchtext.utils import download_from_url, extract_archive\n",
        "from torch import Tensor\n",
        "import io\n",
        "import time\n",
        "from rich import print\n",
        "import matplotlib.pyplot as plt\n"
      ],
      "id": "greater-timeline",
      "execution_count": 10,
      "outputs": []
    },
    {
      "cell_type": "code",
      "metadata": {
        "colab": {
          "base_uri": "https://localhost:8080/",
          "height": 0
        },
        "id": "aiIInor-9RHJ",
        "outputId": "c23f87c7-4414-4295-f481-d053a67c03e4"
      },
      "source": [
        "torch.manual_seed(42)\n",
        "torch.use_deterministic_algorithms(True)\n",
        "device = torch.device('cuda' if torch.cuda.is_available() else 'cpu')\n",
        "print(torch.__version__)\n",
        "print(torch.cuda.is_available())\n",
        "\n",
        "if device.type == 'cuda':\n",
        "    print(torch.cuda.get_device_name(torch.cuda.current_device()))\n",
        "    print('Memory Usage:')\n",
        "    print('Allocated:', round(torch.cuda.memory_allocated(0)/1024**3,1), 'GB')\n",
        "    print('Cached:   ', round(torch.cuda.memory_reserved(0)/1024**3,1), 'GB')\n",
        "!nvcc --version"
      ],
      "id": "aiIInor-9RHJ",
      "execution_count": 11,
      "outputs": [
        {
          "output_type": "display_data",
          "data": {
            "text/html": [
              "<pre style=\"white-space:pre;overflow-x:auto;line-height:normal;font-family:Menlo,'DejaVu Sans Mono',consolas,'Courier New',monospace\"><span style=\"color: #008080; text-decoration-color: #008080; font-weight: bold\">1.8</span>.<span style=\"color: #008080; text-decoration-color: #008080; font-weight: bold\">1</span>+cu101\n",
              "</pre>\n"
            ],
            "text/plain": [
              "\u001b[1;36m1.8\u001b[0m.\u001b[1;36m1\u001b[0m+cu101\n"
            ]
          },
          "metadata": {
            "tags": []
          }
        },
        {
          "output_type": "display_data",
          "data": {
            "text/html": [
              "<pre style=\"white-space:pre;overflow-x:auto;line-height:normal;font-family:Menlo,'DejaVu Sans Mono',consolas,'Courier New',monospace\"><span style=\"color: #00ff00; text-decoration-color: #00ff00; font-style: italic\">True</span>\n",
              "</pre>\n"
            ],
            "text/plain": [
              "\u001b[3;92mTrue\u001b[0m\n"
            ]
          },
          "metadata": {
            "tags": []
          }
        },
        {
          "output_type": "display_data",
          "data": {
            "text/html": [
              "<pre style=\"white-space:pre;overflow-x:auto;line-height:normal;font-family:Menlo,'DejaVu Sans Mono',consolas,'Courier New',monospace\">Tesla P100-PCIE-16GB\n",
              "</pre>\n"
            ],
            "text/plain": [
              "Tesla P100-PCIE-16GB\n"
            ]
          },
          "metadata": {
            "tags": []
          }
        },
        {
          "output_type": "display_data",
          "data": {
            "text/html": [
              "<pre style=\"white-space:pre;overflow-x:auto;line-height:normal;font-family:Menlo,'DejaVu Sans Mono',consolas,'Courier New',monospace\">Memory Usage:\n",
              "</pre>\n"
            ],
            "text/plain": [
              "Memory Usage:\n"
            ]
          },
          "metadata": {
            "tags": []
          }
        },
        {
          "output_type": "display_data",
          "data": {
            "text/html": [
              "<pre style=\"white-space:pre;overflow-x:auto;line-height:normal;font-family:Menlo,'DejaVu Sans Mono',consolas,'Courier New',monospace\">Allocated: <span style=\"color: #008080; text-decoration-color: #008080; font-weight: bold\">0.0</span> GB\n",
              "</pre>\n"
            ],
            "text/plain": [
              "Allocated: \u001b[1;36m0.0\u001b[0m GB\n"
            ]
          },
          "metadata": {
            "tags": []
          }
        },
        {
          "output_type": "display_data",
          "data": {
            "text/html": [
              "<pre style=\"white-space:pre;overflow-x:auto;line-height:normal;font-family:Menlo,'DejaVu Sans Mono',consolas,'Courier New',monospace\">Cached:    <span style=\"color: #008080; text-decoration-color: #008080; font-weight: bold\">0.0</span> GB\n",
              "</pre>\n"
            ],
            "text/plain": [
              "Cached:    \u001b[1;36m0.0\u001b[0m GB\n"
            ]
          },
          "metadata": {
            "tags": []
          }
        },
        {
          "output_type": "stream",
          "text": [
            "nvcc: NVIDIA (R) Cuda compiler driver\n",
            "Copyright (c) 2005-2020 NVIDIA Corporation\n",
            "Built on Wed_Jul_22_19:09:09_PDT_2020\n",
            "Cuda compilation tools, release 11.0, V11.0.221\n",
            "Build cuda_11.0_bu.TC445_37.28845127_0\n"
          ],
          "name": "stdout"
        }
      ]
    },
    {
      "cell_type": "code",
      "metadata": {
        "id": "arbitrary-china"
      },
      "source": [
        "#load data USPTO-50K\n",
        "train_src_filepaths='Retrosynthesis_TF/USPTO-50K/src/src-train.txt'\n",
        "train_tgt_filepaths='Retrosynthesis_TF/USPTO-50K/tgt/tgt-train.txt'\n",
        "val_src_filepaths='Retrosynthesis_TF/USPTO-50K/src/src-val.txt'\n",
        "val_tgt_filepaths='Retrosynthesis_TF/USPTO-50K/tgt/tgt-val.txt'\n",
        "test_src_filepaths='Retrosynthesis_TF/USPTO-50K/src/src-test.txt'\n",
        "test_tgt_filepaths='Retrosynthesis_TF/USPTO-50K/tgt/tgt-test.txt'"
      ],
      "id": "arbitrary-china",
      "execution_count": 12,
      "outputs": []
    },
    {
      "cell_type": "code",
      "metadata": {
        "id": "sIImMkN62sbz"
      },
      "source": [
        "#build_vocab\n",
        "src_filepath='Retrosynthesis_TF/USPTO-50K/src/src.txt'\n",
        "tgt_filepath='Retrosynthesis_TF/USPTO-50K/tgt/tgt.txt'"
      ],
      "id": "sIImMkN62sbz",
      "execution_count": 13,
      "outputs": []
    },
    {
      "cell_type": "code",
      "metadata": {
        "id": "circular-south"
      },
      "source": [
        "#https://pytorch.org/text/stable/data_utils.html use toktok or spacy\n",
        "tokenizer = get_tokenizer('toktok')"
      ],
      "id": "circular-south",
      "execution_count": 14,
      "outputs": []
    },
    {
      "cell_type": "code",
      "metadata": {
        "id": "g4nOKwrE2odn"
      },
      "source": [
        "def build_vocab(filepath, tokenizer):\n",
        "  counter = Counter()\n",
        "  with io.open(filepath, encoding=\"utf8\") as f:\n",
        "    for string_ in f:\n",
        "      counter.update(tokenizer(string_))\n",
        "  return Vocab(counter, specials=['<unk>', '<pad>', '<bos>', '<eos>'])\n",
        "src_vocab = build_vocab(src_filepath,tokenizer)\n",
        "tgt_vocab = build_vocab(tgt_filepath,tokenizer)"
      ],
      "id": "g4nOKwrE2odn",
      "execution_count": 15,
      "outputs": []
    },
    {
      "cell_type": "code",
      "metadata": {
        "id": "recorded-crawford"
      },
      "source": [
        "def data_process(filepaths1,filepaths2):\n",
        "  raw_src_iter = iter(io.open(filepaths1, encoding=\"utf8\"))\n",
        "  raw_tgt_iter = iter(io.open(filepaths2, encoding=\"utf8\"))\n",
        "  data = []\n",
        "  for (raw_src, raw_tgt) in zip(raw_src_iter, raw_tgt_iter):\n",
        "    src_tensor_ = torch.tensor([src_vocab[token] for token in tokenizer(raw_src.rstrip(\"\\n\"))],\n",
        "                            dtype=torch.long)\n",
        "    tgt_tensor_ = torch.tensor([tgt_vocab[token] for token in tokenizer(raw_tgt.rstrip(\"\\n\"))],\n",
        "                            dtype=torch.long)\n",
        "    data.append((src_tensor_, tgt_tensor_))\n",
        "  return data"
      ],
      "id": "recorded-crawford",
      "execution_count": 16,
      "outputs": []
    },
    {
      "cell_type": "code",
      "metadata": {
        "id": "polished-truth"
      },
      "source": [
        "train_data = data_process(train_src_filepaths,train_tgt_filepaths)\n",
        "val_data = data_process(val_src_filepaths,val_tgt_filepaths)\n",
        "test_data = data_process(test_src_filepaths,test_tgt_filepaths)"
      ],
      "id": "polished-truth",
      "execution_count": 17,
      "outputs": []
    },
    {
      "cell_type": "code",
      "metadata": {
        "id": "korean-savage"
      },
      "source": [
        "device = torch.device('cuda' if torch.cuda.is_available() else 'cpu')\n",
        "#default BATCH_SIZE =128\n",
        "BATCH_SIZE = 32\n",
        "PAD_IDX = src_vocab['<pad>']\n",
        "BOS_IDX = src_vocab['<bos>']\n",
        "EOS_IDX = src_vocab['<eos>']"
      ],
      "id": "korean-savage",
      "execution_count": 18,
      "outputs": []
    },
    {
      "cell_type": "markdown",
      "metadata": {
        "id": "dJcCX4xNOSgZ"
      },
      "source": [
        "# DataLoader"
      ],
      "id": "dJcCX4xNOSgZ"
    },
    {
      "cell_type": "code",
      "metadata": {
        "id": "hundred-translator"
      },
      "source": [
        "from torch.nn.utils.rnn import pad_sequence\n",
        "from torch.utils.data import DataLoader\n",
        "\n",
        "def generate_batch(data_batch):\n",
        "  src_batch, tgt_batch = [], []\n",
        "  for (src_item, tgt_item) in data_batch:\n",
        "    src_batch.append(torch.cat([torch.tensor([BOS_IDX]), src_item, torch.tensor([EOS_IDX])], dim=0))\n",
        "    tgt_batch.append(torch.cat([torch.tensor([BOS_IDX]), tgt_item, torch.tensor([EOS_IDX])], dim=0))\n",
        "  src_batch = pad_sequence(src_batch, padding_value=PAD_IDX)\n",
        "  tgt_batch = pad_sequence(tgt_batch, padding_value=PAD_IDX)\n",
        "  return src_batch, tgt_batch\n",
        "\n",
        "train_iter = DataLoader(train_data, batch_size=BATCH_SIZE,\n",
        "                        shuffle=True, collate_fn=generate_batch)\n",
        "valid_iter = DataLoader(val_data, batch_size=BATCH_SIZE,\n",
        "                        shuffle=True, collate_fn=generate_batch)\n",
        "test_iter = DataLoader(test_data, batch_size=BATCH_SIZE,\n",
        "                       shuffle=True, collate_fn=generate_batch)"
      ],
      "id": "hundred-translator",
      "execution_count": 19,
      "outputs": []
    },
    {
      "cell_type": "markdown",
      "metadata": {
        "id": "JsF46_xVOBv7"
      },
      "source": [
        "#Transformer"
      ],
      "id": "JsF46_xVOBv7"
    },
    {
      "cell_type": "code",
      "metadata": {
        "id": "coupled-ballot"
      },
      "source": [
        "#https://pytorch.org/docs/master/nn.html?highlight=multiheadattention#torch.nn.MultiheadAttention\n",
        "from torch.nn import (TransformerEncoder, TransformerDecoder,\n",
        "                      TransformerEncoderLayer, TransformerDecoderLayer)\n",
        "\n",
        "\n",
        "class Seq2SeqTransformer(nn.Module):\n",
        "    def __init__(self, num_encoder_layers: int, num_decoder_layers: int,\n",
        "                 emb_size: int, src_vocab_size: int, tgt_vocab_size: int,\n",
        "                 dim_feedforward:int = 512, dropout:float = 0.1):\n",
        "        super(Seq2SeqTransformer, self).__init__()\n",
        "        #TransformerEncoderLayer is made up of self-attn and feedforward network.\n",
        "        encoder_layer = TransformerEncoderLayer(d_model=emb_size, nhead=NHEAD,\n",
        "                                                dim_feedforward=dim_feedforward)\n",
        "        #TransformerEncoder is a stack of N encoder layers\n",
        "        self.transformer_encoder = TransformerEncoder(encoder_layer, num_layers=num_encoder_layers)\n",
        "        #\tTransformerDecoderLayer is made up of self-attn, multi-head-attn and feedforward network.\n",
        "        decoder_layer = TransformerDecoderLayer(d_model=emb_size, nhead=NHEAD,\n",
        "                                                dim_feedforward=dim_feedforward)\n",
        "        #TransformerDecoder is a stack of N decoder layers\n",
        "        self.transformer_decoder = TransformerDecoder(decoder_layer, num_layers=num_decoder_layers)\n",
        "\n",
        "        self.generator = nn.Linear(emb_size, tgt_vocab_size)\n",
        "        self.src_tok_emb = TokenEmbedding(src_vocab_size, emb_size)\n",
        "        self.tgt_tok_emb = TokenEmbedding(tgt_vocab_size, emb_size)\n",
        "        self.positional_encoding = PositionalEncoding(emb_size, dropout=dropout)\n",
        "\n",
        "    def forward(self, src: Tensor, trg: Tensor, src_mask: Tensor,\n",
        "                tgt_mask: Tensor, src_padding_mask: Tensor,\n",
        "                tgt_padding_mask: Tensor, memory_key_padding_mask: Tensor):\n",
        "        src_emb = self.positional_encoding(self.src_tok_emb(src))\n",
        "        tgt_emb = self.positional_encoding(self.tgt_tok_emb(trg))\n",
        "        memory = self.transformer_encoder(src_emb, src_mask, src_padding_mask)\n",
        "        outs = self.transformer_decoder(tgt_emb, memory, tgt_mask, None,\n",
        "                                        tgt_padding_mask, memory_key_padding_mask)\n",
        "        return self.generator(outs)\n",
        "\n",
        "    def encode(self, src: Tensor, src_mask: Tensor):\n",
        "        return self.transformer_encoder(self.positional_encoding(\n",
        "                            self.src_tok_emb(src)), src_mask)\n",
        "\n",
        "    def decode(self, tgt: Tensor, memory: Tensor, tgt_mask: Tensor):\n",
        "        return self.transformer_decoder(self.positional_encoding(\n",
        "                          self.tgt_tok_emb(tgt)), memory,\n",
        "                          tgt_mask)"
      ],
      "id": "coupled-ballot",
      "execution_count": 20,
      "outputs": []
    },
    {
      "cell_type": "code",
      "metadata": {
        "id": "random-trance"
      },
      "source": [
        "class PositionalEncoding(nn.Module):\n",
        "    def __init__(self, emb_size: int, dropout, maxlen: int = 5000):\n",
        "        super(PositionalEncoding, self).__init__()\n",
        "        den = torch.exp(- torch.arange(0, emb_size, 2) * math.log(10000) / emb_size)\n",
        "        pos = torch.arange(0, maxlen).reshape(maxlen, 1)\n",
        "        pos_embedding = torch.zeros((maxlen, emb_size))\n",
        "        pos_embedding[:, 0::2] = torch.sin(pos * den)\n",
        "        pos_embedding[:, 1::2] = torch.cos(pos * den)\n",
        "        pos_embedding = pos_embedding.unsqueeze(-2)\n",
        "\n",
        "        self.dropout = nn.Dropout(dropout)\n",
        "        self.register_buffer('pos_embedding', pos_embedding)\n",
        "\n",
        "    def forward(self, token_embedding: Tensor):\n",
        "        return self.dropout(token_embedding +\n",
        "                            self.pos_embedding[:token_embedding.size(0),:])\n",
        "\n",
        "class TokenEmbedding(nn.Module):\n",
        "    def __init__(self, vocab_size: int, emb_size):\n",
        "        super(TokenEmbedding, self).__init__()\n",
        "        self.embedding = nn.Embedding(vocab_size, emb_size)\n",
        "        self.emb_size = emb_size\n",
        "    def forward(self, tokens: Tensor):\n",
        "        return self.embedding(tokens.long()) * math.sqrt(self.emb_size)"
      ],
      "id": "random-trance",
      "execution_count": 21,
      "outputs": []
    },
    {
      "cell_type": "code",
      "metadata": {
        "id": "japanese-polls"
      },
      "source": [
        "def generate_square_subsequent_mask(sz):\n",
        "    mask = (torch.triu(torch.ones((sz, sz), device=DEVICE)) == 1).transpose(0, 1)\n",
        "    mask = mask.float().masked_fill(mask == 0, float('-inf')).masked_fill(mask == 1, float(0.0))\n",
        "    return mask\n",
        "\n",
        "def create_mask(src, tgt):\n",
        "  src_seq_len = src.shape[0]\n",
        "  tgt_seq_len = tgt.shape[0]\n",
        "\n",
        "  tgt_mask = generate_square_subsequent_mask(tgt_seq_len)\n",
        "  src_mask = torch.zeros((src_seq_len, src_seq_len), device=DEVICE).type(torch.bool)\n",
        "\n",
        "  src_padding_mask = (src == PAD_IDX).transpose(0, 1)\n",
        "  tgt_padding_mask = (tgt == PAD_IDX).transpose(0, 1)\n",
        "  return src_mask, tgt_mask, src_padding_mask, tgt_padding_mask"
      ],
      "id": "japanese-polls",
      "execution_count": 22,
      "outputs": []
    },
    {
      "cell_type": "code",
      "metadata": {
        "id": "convenient-facial"
      },
      "source": [
        "# Training hyperparameters\n",
        "#default BATCH_SIZE = 128 NUM_ENCODER_LAYERS = 3 NUM_DECODER_LAYERS = 3\n",
        "\n",
        "SRC_VOCAB_SIZE = len(src_vocab)\n",
        "TGT_VOCAB_SIZE = len(tgt_vocab)\n",
        "EMB_SIZE = 512\n",
        "NHEAD = 8\n",
        "FFN_HID_DIM = 512\n",
        "BATCH_SIZE = 32\n",
        "NUM_ENCODER_LAYERS = 4\n",
        "NUM_DECODER_LAYERS = 4\n",
        "NUM_EPOCHS = 100\n",
        "\n",
        "DEVICE = torch.device('cuda:0' if torch.cuda.is_available() else 'cpu')\n",
        "\n",
        "transformer = Seq2SeqTransformer(NUM_ENCODER_LAYERS, NUM_DECODER_LAYERS,\n",
        "                                 EMB_SIZE, SRC_VOCAB_SIZE, TGT_VOCAB_SIZE,\n",
        "                                 FFN_HID_DIM)\n",
        "\n",
        "for p in transformer.parameters():\n",
        "    if p.dim() > 1:\n",
        "        nn.init.xavier_uniform_(p)\n",
        "#model \n",
        "transformer = transformer.to(device)\n",
        "\n",
        "loss_fn = torch.nn.CrossEntropyLoss(ignore_index=PAD_IDX)\n",
        "#default optimizer  lr=0.0001 ,betas=(0.9, 0.98) ,eps=1e-9\n",
        "optimizer = torch.optim.Adam(\n",
        "    transformer.parameters(), lr=2, betas=(0.9, 0.998), eps=1e-9\n",
        ")"
      ],
      "id": "convenient-facial",
      "execution_count": 23,
      "outputs": []
    },
    {
      "cell_type": "code",
      "metadata": {
        "colab": {
          "base_uri": "https://localhost:8080/",
          "height": 0
        },
        "id": "n6OqEmQs7HrH",
        "outputId": "f37dda9c-9e9b-4e54-c782-d7f4590e6c37"
      },
      "source": [
        "#show model\n",
        "print(transformer)"
      ],
      "id": "n6OqEmQs7HrH",
      "execution_count": 24,
      "outputs": [
        {
          "output_type": "display_data",
          "data": {
            "text/html": [
              "<pre style=\"white-space:pre;overflow-x:auto;line-height:normal;font-family:Menlo,'DejaVu Sans Mono',consolas,'Courier New',monospace\"><span style=\"color: #800080; text-decoration-color: #800080; font-weight: bold\">Seq2SeqTransformer</span><span style=\"font-weight: bold\">(</span>\n",
              "  <span style=\"font-weight: bold\">(</span>transformer_encoder<span style=\"font-weight: bold\">)</span>: <span style=\"color: #800080; text-decoration-color: #800080; font-weight: bold\">TransformerEncoder</span><span style=\"font-weight: bold\">(</span>\n",
              "    <span style=\"font-weight: bold\">(</span>layers<span style=\"font-weight: bold\">)</span>: <span style=\"color: #800080; text-decoration-color: #800080; font-weight: bold\">ModuleList</span><span style=\"font-weight: bold\">(</span>\n",
              "      <span style=\"font-weight: bold\">(</span><span style=\"color: #008080; text-decoration-color: #008080; font-weight: bold\">0</span><span style=\"font-weight: bold\">)</span>: <span style=\"color: #800080; text-decoration-color: #800080; font-weight: bold\">TransformerEncoderLayer</span><span style=\"font-weight: bold\">(</span>\n",
              "        <span style=\"font-weight: bold\">(</span>self_attn<span style=\"font-weight: bold\">)</span>: <span style=\"color: #800080; text-decoration-color: #800080; font-weight: bold\">MultiheadAttention</span><span style=\"font-weight: bold\">(</span>\n",
              "          <span style=\"font-weight: bold\">(</span>out_proj<span style=\"font-weight: bold\">)</span>: <span style=\"color: #800080; text-decoration-color: #800080; font-weight: bold\">_LinearWithBias</span><span style=\"font-weight: bold\">(</span><span style=\"color: #808000; text-decoration-color: #808000\">in_features</span>=<span style=\"color: #008080; text-decoration-color: #008080; font-weight: bold\">512</span>, <span style=\"color: #808000; text-decoration-color: #808000\">out_features</span>=<span style=\"color: #008080; text-decoration-color: #008080; font-weight: bold\">512</span>, <span style=\"color: #808000; text-decoration-color: #808000\">bias</span>=<span style=\"color: #00ff00; text-decoration-color: #00ff00; font-style: italic\">True</span><span style=\"font-weight: bold\">)</span>\n",
              "        <span style=\"font-weight: bold\">)</span>\n",
              "        <span style=\"font-weight: bold\">(</span>linear1<span style=\"font-weight: bold\">)</span>: <span style=\"color: #800080; text-decoration-color: #800080; font-weight: bold\">Linear</span><span style=\"font-weight: bold\">(</span><span style=\"color: #808000; text-decoration-color: #808000\">in_features</span>=<span style=\"color: #008080; text-decoration-color: #008080; font-weight: bold\">512</span>, <span style=\"color: #808000; text-decoration-color: #808000\">out_features</span>=<span style=\"color: #008080; text-decoration-color: #008080; font-weight: bold\">512</span>, <span style=\"color: #808000; text-decoration-color: #808000\">bias</span>=<span style=\"color: #00ff00; text-decoration-color: #00ff00; font-style: italic\">True</span><span style=\"font-weight: bold\">)</span>\n",
              "        <span style=\"font-weight: bold\">(</span>dropout<span style=\"font-weight: bold\">)</span>: <span style=\"color: #800080; text-decoration-color: #800080; font-weight: bold\">Dropout</span><span style=\"font-weight: bold\">(</span><span style=\"color: #808000; text-decoration-color: #808000\">p</span>=<span style=\"color: #008080; text-decoration-color: #008080; font-weight: bold\">0.1</span>, <span style=\"color: #808000; text-decoration-color: #808000\">inplace</span>=<span style=\"color: #ff0000; text-decoration-color: #ff0000; font-style: italic\">False</span><span style=\"font-weight: bold\">)</span>\n",
              "        <span style=\"font-weight: bold\">(</span>linear2<span style=\"font-weight: bold\">)</span>: <span style=\"color: #800080; text-decoration-color: #800080; font-weight: bold\">Linear</span><span style=\"font-weight: bold\">(</span><span style=\"color: #808000; text-decoration-color: #808000\">in_features</span>=<span style=\"color: #008080; text-decoration-color: #008080; font-weight: bold\">512</span>, <span style=\"color: #808000; text-decoration-color: #808000\">out_features</span>=<span style=\"color: #008080; text-decoration-color: #008080; font-weight: bold\">512</span>, <span style=\"color: #808000; text-decoration-color: #808000\">bias</span>=<span style=\"color: #00ff00; text-decoration-color: #00ff00; font-style: italic\">True</span><span style=\"font-weight: bold\">)</span>\n",
              "        <span style=\"font-weight: bold\">(</span>norm1<span style=\"font-weight: bold\">)</span>: <span style=\"color: #800080; text-decoration-color: #800080; font-weight: bold\">LayerNorm</span><span style=\"font-weight: bold\">((</span><span style=\"color: #008080; text-decoration-color: #008080; font-weight: bold\">512</span>,<span style=\"font-weight: bold\">)</span>, <span style=\"color: #808000; text-decoration-color: #808000\">eps</span>=<span style=\"color: #008080; text-decoration-color: #008080; font-weight: bold\">1e-05</span>, <span style=\"color: #808000; text-decoration-color: #808000\">elementwise_affine</span>=<span style=\"color: #00ff00; text-decoration-color: #00ff00; font-style: italic\">True</span><span style=\"font-weight: bold\">)</span>\n",
              "        <span style=\"font-weight: bold\">(</span>norm2<span style=\"font-weight: bold\">)</span>: <span style=\"color: #800080; text-decoration-color: #800080; font-weight: bold\">LayerNorm</span><span style=\"font-weight: bold\">((</span><span style=\"color: #008080; text-decoration-color: #008080; font-weight: bold\">512</span>,<span style=\"font-weight: bold\">)</span>, <span style=\"color: #808000; text-decoration-color: #808000\">eps</span>=<span style=\"color: #008080; text-decoration-color: #008080; font-weight: bold\">1e-05</span>, <span style=\"color: #808000; text-decoration-color: #808000\">elementwise_affine</span>=<span style=\"color: #00ff00; text-decoration-color: #00ff00; font-style: italic\">True</span><span style=\"font-weight: bold\">)</span>\n",
              "        <span style=\"font-weight: bold\">(</span>dropout1<span style=\"font-weight: bold\">)</span>: <span style=\"color: #800080; text-decoration-color: #800080; font-weight: bold\">Dropout</span><span style=\"font-weight: bold\">(</span><span style=\"color: #808000; text-decoration-color: #808000\">p</span>=<span style=\"color: #008080; text-decoration-color: #008080; font-weight: bold\">0.1</span>, <span style=\"color: #808000; text-decoration-color: #808000\">inplace</span>=<span style=\"color: #ff0000; text-decoration-color: #ff0000; font-style: italic\">False</span><span style=\"font-weight: bold\">)</span>\n",
              "        <span style=\"font-weight: bold\">(</span>dropout2<span style=\"font-weight: bold\">)</span>: <span style=\"color: #800080; text-decoration-color: #800080; font-weight: bold\">Dropout</span><span style=\"font-weight: bold\">(</span><span style=\"color: #808000; text-decoration-color: #808000\">p</span>=<span style=\"color: #008080; text-decoration-color: #008080; font-weight: bold\">0.1</span>, <span style=\"color: #808000; text-decoration-color: #808000\">inplace</span>=<span style=\"color: #ff0000; text-decoration-color: #ff0000; font-style: italic\">False</span><span style=\"font-weight: bold\">)</span>\n",
              "      <span style=\"font-weight: bold\">)</span>\n",
              "      <span style=\"font-weight: bold\">(</span><span style=\"color: #008080; text-decoration-color: #008080; font-weight: bold\">1</span><span style=\"font-weight: bold\">)</span>: <span style=\"color: #800080; text-decoration-color: #800080; font-weight: bold\">TransformerEncoderLayer</span><span style=\"font-weight: bold\">(</span>\n",
              "        <span style=\"font-weight: bold\">(</span>self_attn<span style=\"font-weight: bold\">)</span>: <span style=\"color: #800080; text-decoration-color: #800080; font-weight: bold\">MultiheadAttention</span><span style=\"font-weight: bold\">(</span>\n",
              "          <span style=\"font-weight: bold\">(</span>out_proj<span style=\"font-weight: bold\">)</span>: <span style=\"color: #800080; text-decoration-color: #800080; font-weight: bold\">_LinearWithBias</span><span style=\"font-weight: bold\">(</span><span style=\"color: #808000; text-decoration-color: #808000\">in_features</span>=<span style=\"color: #008080; text-decoration-color: #008080; font-weight: bold\">512</span>, <span style=\"color: #808000; text-decoration-color: #808000\">out_features</span>=<span style=\"color: #008080; text-decoration-color: #008080; font-weight: bold\">512</span>, <span style=\"color: #808000; text-decoration-color: #808000\">bias</span>=<span style=\"color: #00ff00; text-decoration-color: #00ff00; font-style: italic\">True</span><span style=\"font-weight: bold\">)</span>\n",
              "        <span style=\"font-weight: bold\">)</span>\n",
              "        <span style=\"font-weight: bold\">(</span>linear1<span style=\"font-weight: bold\">)</span>: <span style=\"color: #800080; text-decoration-color: #800080; font-weight: bold\">Linear</span><span style=\"font-weight: bold\">(</span><span style=\"color: #808000; text-decoration-color: #808000\">in_features</span>=<span style=\"color: #008080; text-decoration-color: #008080; font-weight: bold\">512</span>, <span style=\"color: #808000; text-decoration-color: #808000\">out_features</span>=<span style=\"color: #008080; text-decoration-color: #008080; font-weight: bold\">512</span>, <span style=\"color: #808000; text-decoration-color: #808000\">bias</span>=<span style=\"color: #00ff00; text-decoration-color: #00ff00; font-style: italic\">True</span><span style=\"font-weight: bold\">)</span>\n",
              "        <span style=\"font-weight: bold\">(</span>dropout<span style=\"font-weight: bold\">)</span>: <span style=\"color: #800080; text-decoration-color: #800080; font-weight: bold\">Dropout</span><span style=\"font-weight: bold\">(</span><span style=\"color: #808000; text-decoration-color: #808000\">p</span>=<span style=\"color: #008080; text-decoration-color: #008080; font-weight: bold\">0.1</span>, <span style=\"color: #808000; text-decoration-color: #808000\">inplace</span>=<span style=\"color: #ff0000; text-decoration-color: #ff0000; font-style: italic\">False</span><span style=\"font-weight: bold\">)</span>\n",
              "        <span style=\"font-weight: bold\">(</span>linear2<span style=\"font-weight: bold\">)</span>: <span style=\"color: #800080; text-decoration-color: #800080; font-weight: bold\">Linear</span><span style=\"font-weight: bold\">(</span><span style=\"color: #808000; text-decoration-color: #808000\">in_features</span>=<span style=\"color: #008080; text-decoration-color: #008080; font-weight: bold\">512</span>, <span style=\"color: #808000; text-decoration-color: #808000\">out_features</span>=<span style=\"color: #008080; text-decoration-color: #008080; font-weight: bold\">512</span>, <span style=\"color: #808000; text-decoration-color: #808000\">bias</span>=<span style=\"color: #00ff00; text-decoration-color: #00ff00; font-style: italic\">True</span><span style=\"font-weight: bold\">)</span>\n",
              "        <span style=\"font-weight: bold\">(</span>norm1<span style=\"font-weight: bold\">)</span>: <span style=\"color: #800080; text-decoration-color: #800080; font-weight: bold\">LayerNorm</span><span style=\"font-weight: bold\">((</span><span style=\"color: #008080; text-decoration-color: #008080; font-weight: bold\">512</span>,<span style=\"font-weight: bold\">)</span>, <span style=\"color: #808000; text-decoration-color: #808000\">eps</span>=<span style=\"color: #008080; text-decoration-color: #008080; font-weight: bold\">1e-05</span>, <span style=\"color: #808000; text-decoration-color: #808000\">elementwise_affine</span>=<span style=\"color: #00ff00; text-decoration-color: #00ff00; font-style: italic\">True</span><span style=\"font-weight: bold\">)</span>\n",
              "        <span style=\"font-weight: bold\">(</span>norm2<span style=\"font-weight: bold\">)</span>: <span style=\"color: #800080; text-decoration-color: #800080; font-weight: bold\">LayerNorm</span><span style=\"font-weight: bold\">((</span><span style=\"color: #008080; text-decoration-color: #008080; font-weight: bold\">512</span>,<span style=\"font-weight: bold\">)</span>, <span style=\"color: #808000; text-decoration-color: #808000\">eps</span>=<span style=\"color: #008080; text-decoration-color: #008080; font-weight: bold\">1e-05</span>, <span style=\"color: #808000; text-decoration-color: #808000\">elementwise_affine</span>=<span style=\"color: #00ff00; text-decoration-color: #00ff00; font-style: italic\">True</span><span style=\"font-weight: bold\">)</span>\n",
              "        <span style=\"font-weight: bold\">(</span>dropout1<span style=\"font-weight: bold\">)</span>: <span style=\"color: #800080; text-decoration-color: #800080; font-weight: bold\">Dropout</span><span style=\"font-weight: bold\">(</span><span style=\"color: #808000; text-decoration-color: #808000\">p</span>=<span style=\"color: #008080; text-decoration-color: #008080; font-weight: bold\">0.1</span>, <span style=\"color: #808000; text-decoration-color: #808000\">inplace</span>=<span style=\"color: #ff0000; text-decoration-color: #ff0000; font-style: italic\">False</span><span style=\"font-weight: bold\">)</span>\n",
              "        <span style=\"font-weight: bold\">(</span>dropout2<span style=\"font-weight: bold\">)</span>: <span style=\"color: #800080; text-decoration-color: #800080; font-weight: bold\">Dropout</span><span style=\"font-weight: bold\">(</span><span style=\"color: #808000; text-decoration-color: #808000\">p</span>=<span style=\"color: #008080; text-decoration-color: #008080; font-weight: bold\">0.1</span>, <span style=\"color: #808000; text-decoration-color: #808000\">inplace</span>=<span style=\"color: #ff0000; text-decoration-color: #ff0000; font-style: italic\">False</span><span style=\"font-weight: bold\">)</span>\n",
              "      <span style=\"font-weight: bold\">)</span>\n",
              "      <span style=\"font-weight: bold\">(</span><span style=\"color: #008080; text-decoration-color: #008080; font-weight: bold\">2</span><span style=\"font-weight: bold\">)</span>: <span style=\"color: #800080; text-decoration-color: #800080; font-weight: bold\">TransformerEncoderLayer</span><span style=\"font-weight: bold\">(</span>\n",
              "        <span style=\"font-weight: bold\">(</span>self_attn<span style=\"font-weight: bold\">)</span>: <span style=\"color: #800080; text-decoration-color: #800080; font-weight: bold\">MultiheadAttention</span><span style=\"font-weight: bold\">(</span>\n",
              "          <span style=\"font-weight: bold\">(</span>out_proj<span style=\"font-weight: bold\">)</span>: <span style=\"color: #800080; text-decoration-color: #800080; font-weight: bold\">_LinearWithBias</span><span style=\"font-weight: bold\">(</span><span style=\"color: #808000; text-decoration-color: #808000\">in_features</span>=<span style=\"color: #008080; text-decoration-color: #008080; font-weight: bold\">512</span>, <span style=\"color: #808000; text-decoration-color: #808000\">out_features</span>=<span style=\"color: #008080; text-decoration-color: #008080; font-weight: bold\">512</span>, <span style=\"color: #808000; text-decoration-color: #808000\">bias</span>=<span style=\"color: #00ff00; text-decoration-color: #00ff00; font-style: italic\">True</span><span style=\"font-weight: bold\">)</span>\n",
              "        <span style=\"font-weight: bold\">)</span>\n",
              "        <span style=\"font-weight: bold\">(</span>linear1<span style=\"font-weight: bold\">)</span>: <span style=\"color: #800080; text-decoration-color: #800080; font-weight: bold\">Linear</span><span style=\"font-weight: bold\">(</span><span style=\"color: #808000; text-decoration-color: #808000\">in_features</span>=<span style=\"color: #008080; text-decoration-color: #008080; font-weight: bold\">512</span>, <span style=\"color: #808000; text-decoration-color: #808000\">out_features</span>=<span style=\"color: #008080; text-decoration-color: #008080; font-weight: bold\">512</span>, <span style=\"color: #808000; text-decoration-color: #808000\">bias</span>=<span style=\"color: #00ff00; text-decoration-color: #00ff00; font-style: italic\">True</span><span style=\"font-weight: bold\">)</span>\n",
              "        <span style=\"font-weight: bold\">(</span>dropout<span style=\"font-weight: bold\">)</span>: <span style=\"color: #800080; text-decoration-color: #800080; font-weight: bold\">Dropout</span><span style=\"font-weight: bold\">(</span><span style=\"color: #808000; text-decoration-color: #808000\">p</span>=<span style=\"color: #008080; text-decoration-color: #008080; font-weight: bold\">0.1</span>, <span style=\"color: #808000; text-decoration-color: #808000\">inplace</span>=<span style=\"color: #ff0000; text-decoration-color: #ff0000; font-style: italic\">False</span><span style=\"font-weight: bold\">)</span>\n",
              "        <span style=\"font-weight: bold\">(</span>linear2<span style=\"font-weight: bold\">)</span>: <span style=\"color: #800080; text-decoration-color: #800080; font-weight: bold\">Linear</span><span style=\"font-weight: bold\">(</span><span style=\"color: #808000; text-decoration-color: #808000\">in_features</span>=<span style=\"color: #008080; text-decoration-color: #008080; font-weight: bold\">512</span>, <span style=\"color: #808000; text-decoration-color: #808000\">out_features</span>=<span style=\"color: #008080; text-decoration-color: #008080; font-weight: bold\">512</span>, <span style=\"color: #808000; text-decoration-color: #808000\">bias</span>=<span style=\"color: #00ff00; text-decoration-color: #00ff00; font-style: italic\">True</span><span style=\"font-weight: bold\">)</span>\n",
              "        <span style=\"font-weight: bold\">(</span>norm1<span style=\"font-weight: bold\">)</span>: <span style=\"color: #800080; text-decoration-color: #800080; font-weight: bold\">LayerNorm</span><span style=\"font-weight: bold\">((</span><span style=\"color: #008080; text-decoration-color: #008080; font-weight: bold\">512</span>,<span style=\"font-weight: bold\">)</span>, <span style=\"color: #808000; text-decoration-color: #808000\">eps</span>=<span style=\"color: #008080; text-decoration-color: #008080; font-weight: bold\">1e-05</span>, <span style=\"color: #808000; text-decoration-color: #808000\">elementwise_affine</span>=<span style=\"color: #00ff00; text-decoration-color: #00ff00; font-style: italic\">True</span><span style=\"font-weight: bold\">)</span>\n",
              "        <span style=\"font-weight: bold\">(</span>norm2<span style=\"font-weight: bold\">)</span>: <span style=\"color: #800080; text-decoration-color: #800080; font-weight: bold\">LayerNorm</span><span style=\"font-weight: bold\">((</span><span style=\"color: #008080; text-decoration-color: #008080; font-weight: bold\">512</span>,<span style=\"font-weight: bold\">)</span>, <span style=\"color: #808000; text-decoration-color: #808000\">eps</span>=<span style=\"color: #008080; text-decoration-color: #008080; font-weight: bold\">1e-05</span>, <span style=\"color: #808000; text-decoration-color: #808000\">elementwise_affine</span>=<span style=\"color: #00ff00; text-decoration-color: #00ff00; font-style: italic\">True</span><span style=\"font-weight: bold\">)</span>\n",
              "        <span style=\"font-weight: bold\">(</span>dropout1<span style=\"font-weight: bold\">)</span>: <span style=\"color: #800080; text-decoration-color: #800080; font-weight: bold\">Dropout</span><span style=\"font-weight: bold\">(</span><span style=\"color: #808000; text-decoration-color: #808000\">p</span>=<span style=\"color: #008080; text-decoration-color: #008080; font-weight: bold\">0.1</span>, <span style=\"color: #808000; text-decoration-color: #808000\">inplace</span>=<span style=\"color: #ff0000; text-decoration-color: #ff0000; font-style: italic\">False</span><span style=\"font-weight: bold\">)</span>\n",
              "        <span style=\"font-weight: bold\">(</span>dropout2<span style=\"font-weight: bold\">)</span>: <span style=\"color: #800080; text-decoration-color: #800080; font-weight: bold\">Dropout</span><span style=\"font-weight: bold\">(</span><span style=\"color: #808000; text-decoration-color: #808000\">p</span>=<span style=\"color: #008080; text-decoration-color: #008080; font-weight: bold\">0.1</span>, <span style=\"color: #808000; text-decoration-color: #808000\">inplace</span>=<span style=\"color: #ff0000; text-decoration-color: #ff0000; font-style: italic\">False</span><span style=\"font-weight: bold\">)</span>\n",
              "      <span style=\"font-weight: bold\">)</span>\n",
              "      <span style=\"font-weight: bold\">(</span><span style=\"color: #008080; text-decoration-color: #008080; font-weight: bold\">3</span><span style=\"font-weight: bold\">)</span>: <span style=\"color: #800080; text-decoration-color: #800080; font-weight: bold\">TransformerEncoderLayer</span><span style=\"font-weight: bold\">(</span>\n",
              "        <span style=\"font-weight: bold\">(</span>self_attn<span style=\"font-weight: bold\">)</span>: <span style=\"color: #800080; text-decoration-color: #800080; font-weight: bold\">MultiheadAttention</span><span style=\"font-weight: bold\">(</span>\n",
              "          <span style=\"font-weight: bold\">(</span>out_proj<span style=\"font-weight: bold\">)</span>: <span style=\"color: #800080; text-decoration-color: #800080; font-weight: bold\">_LinearWithBias</span><span style=\"font-weight: bold\">(</span><span style=\"color: #808000; text-decoration-color: #808000\">in_features</span>=<span style=\"color: #008080; text-decoration-color: #008080; font-weight: bold\">512</span>, <span style=\"color: #808000; text-decoration-color: #808000\">out_features</span>=<span style=\"color: #008080; text-decoration-color: #008080; font-weight: bold\">512</span>, <span style=\"color: #808000; text-decoration-color: #808000\">bias</span>=<span style=\"color: #00ff00; text-decoration-color: #00ff00; font-style: italic\">True</span><span style=\"font-weight: bold\">)</span>\n",
              "        <span style=\"font-weight: bold\">)</span>\n",
              "        <span style=\"font-weight: bold\">(</span>linear1<span style=\"font-weight: bold\">)</span>: <span style=\"color: #800080; text-decoration-color: #800080; font-weight: bold\">Linear</span><span style=\"font-weight: bold\">(</span><span style=\"color: #808000; text-decoration-color: #808000\">in_features</span>=<span style=\"color: #008080; text-decoration-color: #008080; font-weight: bold\">512</span>, <span style=\"color: #808000; text-decoration-color: #808000\">out_features</span>=<span style=\"color: #008080; text-decoration-color: #008080; font-weight: bold\">512</span>, <span style=\"color: #808000; text-decoration-color: #808000\">bias</span>=<span style=\"color: #00ff00; text-decoration-color: #00ff00; font-style: italic\">True</span><span style=\"font-weight: bold\">)</span>\n",
              "        <span style=\"font-weight: bold\">(</span>dropout<span style=\"font-weight: bold\">)</span>: <span style=\"color: #800080; text-decoration-color: #800080; font-weight: bold\">Dropout</span><span style=\"font-weight: bold\">(</span><span style=\"color: #808000; text-decoration-color: #808000\">p</span>=<span style=\"color: #008080; text-decoration-color: #008080; font-weight: bold\">0.1</span>, <span style=\"color: #808000; text-decoration-color: #808000\">inplace</span>=<span style=\"color: #ff0000; text-decoration-color: #ff0000; font-style: italic\">False</span><span style=\"font-weight: bold\">)</span>\n",
              "        <span style=\"font-weight: bold\">(</span>linear2<span style=\"font-weight: bold\">)</span>: <span style=\"color: #800080; text-decoration-color: #800080; font-weight: bold\">Linear</span><span style=\"font-weight: bold\">(</span><span style=\"color: #808000; text-decoration-color: #808000\">in_features</span>=<span style=\"color: #008080; text-decoration-color: #008080; font-weight: bold\">512</span>, <span style=\"color: #808000; text-decoration-color: #808000\">out_features</span>=<span style=\"color: #008080; text-decoration-color: #008080; font-weight: bold\">512</span>, <span style=\"color: #808000; text-decoration-color: #808000\">bias</span>=<span style=\"color: #00ff00; text-decoration-color: #00ff00; font-style: italic\">True</span><span style=\"font-weight: bold\">)</span>\n",
              "        <span style=\"font-weight: bold\">(</span>norm1<span style=\"font-weight: bold\">)</span>: <span style=\"color: #800080; text-decoration-color: #800080; font-weight: bold\">LayerNorm</span><span style=\"font-weight: bold\">((</span><span style=\"color: #008080; text-decoration-color: #008080; font-weight: bold\">512</span>,<span style=\"font-weight: bold\">)</span>, <span style=\"color: #808000; text-decoration-color: #808000\">eps</span>=<span style=\"color: #008080; text-decoration-color: #008080; font-weight: bold\">1e-05</span>, <span style=\"color: #808000; text-decoration-color: #808000\">elementwise_affine</span>=<span style=\"color: #00ff00; text-decoration-color: #00ff00; font-style: italic\">True</span><span style=\"font-weight: bold\">)</span>\n",
              "        <span style=\"font-weight: bold\">(</span>norm2<span style=\"font-weight: bold\">)</span>: <span style=\"color: #800080; text-decoration-color: #800080; font-weight: bold\">LayerNorm</span><span style=\"font-weight: bold\">((</span><span style=\"color: #008080; text-decoration-color: #008080; font-weight: bold\">512</span>,<span style=\"font-weight: bold\">)</span>, <span style=\"color: #808000; text-decoration-color: #808000\">eps</span>=<span style=\"color: #008080; text-decoration-color: #008080; font-weight: bold\">1e-05</span>, <span style=\"color: #808000; text-decoration-color: #808000\">elementwise_affine</span>=<span style=\"color: #00ff00; text-decoration-color: #00ff00; font-style: italic\">True</span><span style=\"font-weight: bold\">)</span>\n",
              "        <span style=\"font-weight: bold\">(</span>dropout1<span style=\"font-weight: bold\">)</span>: <span style=\"color: #800080; text-decoration-color: #800080; font-weight: bold\">Dropout</span><span style=\"font-weight: bold\">(</span><span style=\"color: #808000; text-decoration-color: #808000\">p</span>=<span style=\"color: #008080; text-decoration-color: #008080; font-weight: bold\">0.1</span>, <span style=\"color: #808000; text-decoration-color: #808000\">inplace</span>=<span style=\"color: #ff0000; text-decoration-color: #ff0000; font-style: italic\">False</span><span style=\"font-weight: bold\">)</span>\n",
              "        <span style=\"font-weight: bold\">(</span>dropout2<span style=\"font-weight: bold\">)</span>: <span style=\"color: #800080; text-decoration-color: #800080; font-weight: bold\">Dropout</span><span style=\"font-weight: bold\">(</span><span style=\"color: #808000; text-decoration-color: #808000\">p</span>=<span style=\"color: #008080; text-decoration-color: #008080; font-weight: bold\">0.1</span>, <span style=\"color: #808000; text-decoration-color: #808000\">inplace</span>=<span style=\"color: #ff0000; text-decoration-color: #ff0000; font-style: italic\">False</span><span style=\"font-weight: bold\">)</span>\n",
              "      <span style=\"font-weight: bold\">)</span>\n",
              "    <span style=\"font-weight: bold\">)</span>\n",
              "  <span style=\"font-weight: bold\">)</span>\n",
              "  <span style=\"font-weight: bold\">(</span>transformer_decoder<span style=\"font-weight: bold\">)</span>: <span style=\"color: #800080; text-decoration-color: #800080; font-weight: bold\">TransformerDecoder</span><span style=\"font-weight: bold\">(</span>\n",
              "    <span style=\"font-weight: bold\">(</span>layers<span style=\"font-weight: bold\">)</span>: <span style=\"color: #800080; text-decoration-color: #800080; font-weight: bold\">ModuleList</span><span style=\"font-weight: bold\">(</span>\n",
              "      <span style=\"font-weight: bold\">(</span><span style=\"color: #008080; text-decoration-color: #008080; font-weight: bold\">0</span><span style=\"font-weight: bold\">)</span>: <span style=\"color: #800080; text-decoration-color: #800080; font-weight: bold\">TransformerDecoderLayer</span><span style=\"font-weight: bold\">(</span>\n",
              "        <span style=\"font-weight: bold\">(</span>self_attn<span style=\"font-weight: bold\">)</span>: <span style=\"color: #800080; text-decoration-color: #800080; font-weight: bold\">MultiheadAttention</span><span style=\"font-weight: bold\">(</span>\n",
              "          <span style=\"font-weight: bold\">(</span>out_proj<span style=\"font-weight: bold\">)</span>: <span style=\"color: #800080; text-decoration-color: #800080; font-weight: bold\">_LinearWithBias</span><span style=\"font-weight: bold\">(</span><span style=\"color: #808000; text-decoration-color: #808000\">in_features</span>=<span style=\"color: #008080; text-decoration-color: #008080; font-weight: bold\">512</span>, <span style=\"color: #808000; text-decoration-color: #808000\">out_features</span>=<span style=\"color: #008080; text-decoration-color: #008080; font-weight: bold\">512</span>, <span style=\"color: #808000; text-decoration-color: #808000\">bias</span>=<span style=\"color: #00ff00; text-decoration-color: #00ff00; font-style: italic\">True</span><span style=\"font-weight: bold\">)</span>\n",
              "        <span style=\"font-weight: bold\">)</span>\n",
              "        <span style=\"font-weight: bold\">(</span>multihead_attn<span style=\"font-weight: bold\">)</span>: <span style=\"color: #800080; text-decoration-color: #800080; font-weight: bold\">MultiheadAttention</span><span style=\"font-weight: bold\">(</span>\n",
              "          <span style=\"font-weight: bold\">(</span>out_proj<span style=\"font-weight: bold\">)</span>: <span style=\"color: #800080; text-decoration-color: #800080; font-weight: bold\">_LinearWithBias</span><span style=\"font-weight: bold\">(</span><span style=\"color: #808000; text-decoration-color: #808000\">in_features</span>=<span style=\"color: #008080; text-decoration-color: #008080; font-weight: bold\">512</span>, <span style=\"color: #808000; text-decoration-color: #808000\">out_features</span>=<span style=\"color: #008080; text-decoration-color: #008080; font-weight: bold\">512</span>, <span style=\"color: #808000; text-decoration-color: #808000\">bias</span>=<span style=\"color: #00ff00; text-decoration-color: #00ff00; font-style: italic\">True</span><span style=\"font-weight: bold\">)</span>\n",
              "        <span style=\"font-weight: bold\">)</span>\n",
              "        <span style=\"font-weight: bold\">(</span>linear1<span style=\"font-weight: bold\">)</span>: <span style=\"color: #800080; text-decoration-color: #800080; font-weight: bold\">Linear</span><span style=\"font-weight: bold\">(</span><span style=\"color: #808000; text-decoration-color: #808000\">in_features</span>=<span style=\"color: #008080; text-decoration-color: #008080; font-weight: bold\">512</span>, <span style=\"color: #808000; text-decoration-color: #808000\">out_features</span>=<span style=\"color: #008080; text-decoration-color: #008080; font-weight: bold\">512</span>, <span style=\"color: #808000; text-decoration-color: #808000\">bias</span>=<span style=\"color: #00ff00; text-decoration-color: #00ff00; font-style: italic\">True</span><span style=\"font-weight: bold\">)</span>\n",
              "        <span style=\"font-weight: bold\">(</span>dropout<span style=\"font-weight: bold\">)</span>: <span style=\"color: #800080; text-decoration-color: #800080; font-weight: bold\">Dropout</span><span style=\"font-weight: bold\">(</span><span style=\"color: #808000; text-decoration-color: #808000\">p</span>=<span style=\"color: #008080; text-decoration-color: #008080; font-weight: bold\">0.1</span>, <span style=\"color: #808000; text-decoration-color: #808000\">inplace</span>=<span style=\"color: #ff0000; text-decoration-color: #ff0000; font-style: italic\">False</span><span style=\"font-weight: bold\">)</span>\n",
              "        <span style=\"font-weight: bold\">(</span>linear2<span style=\"font-weight: bold\">)</span>: <span style=\"color: #800080; text-decoration-color: #800080; font-weight: bold\">Linear</span><span style=\"font-weight: bold\">(</span><span style=\"color: #808000; text-decoration-color: #808000\">in_features</span>=<span style=\"color: #008080; text-decoration-color: #008080; font-weight: bold\">512</span>, <span style=\"color: #808000; text-decoration-color: #808000\">out_features</span>=<span style=\"color: #008080; text-decoration-color: #008080; font-weight: bold\">512</span>, <span style=\"color: #808000; text-decoration-color: #808000\">bias</span>=<span style=\"color: #00ff00; text-decoration-color: #00ff00; font-style: italic\">True</span><span style=\"font-weight: bold\">)</span>\n",
              "        <span style=\"font-weight: bold\">(</span>norm1<span style=\"font-weight: bold\">)</span>: <span style=\"color: #800080; text-decoration-color: #800080; font-weight: bold\">LayerNorm</span><span style=\"font-weight: bold\">((</span><span style=\"color: #008080; text-decoration-color: #008080; font-weight: bold\">512</span>,<span style=\"font-weight: bold\">)</span>, <span style=\"color: #808000; text-decoration-color: #808000\">eps</span>=<span style=\"color: #008080; text-decoration-color: #008080; font-weight: bold\">1e-05</span>, <span style=\"color: #808000; text-decoration-color: #808000\">elementwise_affine</span>=<span style=\"color: #00ff00; text-decoration-color: #00ff00; font-style: italic\">True</span><span style=\"font-weight: bold\">)</span>\n",
              "        <span style=\"font-weight: bold\">(</span>norm2<span style=\"font-weight: bold\">)</span>: <span style=\"color: #800080; text-decoration-color: #800080; font-weight: bold\">LayerNorm</span><span style=\"font-weight: bold\">((</span><span style=\"color: #008080; text-decoration-color: #008080; font-weight: bold\">512</span>,<span style=\"font-weight: bold\">)</span>, <span style=\"color: #808000; text-decoration-color: #808000\">eps</span>=<span style=\"color: #008080; text-decoration-color: #008080; font-weight: bold\">1e-05</span>, <span style=\"color: #808000; text-decoration-color: #808000\">elementwise_affine</span>=<span style=\"color: #00ff00; text-decoration-color: #00ff00; font-style: italic\">True</span><span style=\"font-weight: bold\">)</span>\n",
              "        <span style=\"font-weight: bold\">(</span>norm3<span style=\"font-weight: bold\">)</span>: <span style=\"color: #800080; text-decoration-color: #800080; font-weight: bold\">LayerNorm</span><span style=\"font-weight: bold\">((</span><span style=\"color: #008080; text-decoration-color: #008080; font-weight: bold\">512</span>,<span style=\"font-weight: bold\">)</span>, <span style=\"color: #808000; text-decoration-color: #808000\">eps</span>=<span style=\"color: #008080; text-decoration-color: #008080; font-weight: bold\">1e-05</span>, <span style=\"color: #808000; text-decoration-color: #808000\">elementwise_affine</span>=<span style=\"color: #00ff00; text-decoration-color: #00ff00; font-style: italic\">True</span><span style=\"font-weight: bold\">)</span>\n",
              "        <span style=\"font-weight: bold\">(</span>dropout1<span style=\"font-weight: bold\">)</span>: <span style=\"color: #800080; text-decoration-color: #800080; font-weight: bold\">Dropout</span><span style=\"font-weight: bold\">(</span><span style=\"color: #808000; text-decoration-color: #808000\">p</span>=<span style=\"color: #008080; text-decoration-color: #008080; font-weight: bold\">0.1</span>, <span style=\"color: #808000; text-decoration-color: #808000\">inplace</span>=<span style=\"color: #ff0000; text-decoration-color: #ff0000; font-style: italic\">False</span><span style=\"font-weight: bold\">)</span>\n",
              "        <span style=\"font-weight: bold\">(</span>dropout2<span style=\"font-weight: bold\">)</span>: <span style=\"color: #800080; text-decoration-color: #800080; font-weight: bold\">Dropout</span><span style=\"font-weight: bold\">(</span><span style=\"color: #808000; text-decoration-color: #808000\">p</span>=<span style=\"color: #008080; text-decoration-color: #008080; font-weight: bold\">0.1</span>, <span style=\"color: #808000; text-decoration-color: #808000\">inplace</span>=<span style=\"color: #ff0000; text-decoration-color: #ff0000; font-style: italic\">False</span><span style=\"font-weight: bold\">)</span>\n",
              "        <span style=\"font-weight: bold\">(</span>dropout3<span style=\"font-weight: bold\">)</span>: <span style=\"color: #800080; text-decoration-color: #800080; font-weight: bold\">Dropout</span><span style=\"font-weight: bold\">(</span><span style=\"color: #808000; text-decoration-color: #808000\">p</span>=<span style=\"color: #008080; text-decoration-color: #008080; font-weight: bold\">0.1</span>, <span style=\"color: #808000; text-decoration-color: #808000\">inplace</span>=<span style=\"color: #ff0000; text-decoration-color: #ff0000; font-style: italic\">False</span><span style=\"font-weight: bold\">)</span>\n",
              "      <span style=\"font-weight: bold\">)</span>\n",
              "      <span style=\"font-weight: bold\">(</span><span style=\"color: #008080; text-decoration-color: #008080; font-weight: bold\">1</span><span style=\"font-weight: bold\">)</span>: <span style=\"color: #800080; text-decoration-color: #800080; font-weight: bold\">TransformerDecoderLayer</span><span style=\"font-weight: bold\">(</span>\n",
              "        <span style=\"font-weight: bold\">(</span>self_attn<span style=\"font-weight: bold\">)</span>: <span style=\"color: #800080; text-decoration-color: #800080; font-weight: bold\">MultiheadAttention</span><span style=\"font-weight: bold\">(</span>\n",
              "          <span style=\"font-weight: bold\">(</span>out_proj<span style=\"font-weight: bold\">)</span>: <span style=\"color: #800080; text-decoration-color: #800080; font-weight: bold\">_LinearWithBias</span><span style=\"font-weight: bold\">(</span><span style=\"color: #808000; text-decoration-color: #808000\">in_features</span>=<span style=\"color: #008080; text-decoration-color: #008080; font-weight: bold\">512</span>, <span style=\"color: #808000; text-decoration-color: #808000\">out_features</span>=<span style=\"color: #008080; text-decoration-color: #008080; font-weight: bold\">512</span>, <span style=\"color: #808000; text-decoration-color: #808000\">bias</span>=<span style=\"color: #00ff00; text-decoration-color: #00ff00; font-style: italic\">True</span><span style=\"font-weight: bold\">)</span>\n",
              "        <span style=\"font-weight: bold\">)</span>\n",
              "        <span style=\"font-weight: bold\">(</span>multihead_attn<span style=\"font-weight: bold\">)</span>: <span style=\"color: #800080; text-decoration-color: #800080; font-weight: bold\">MultiheadAttention</span><span style=\"font-weight: bold\">(</span>\n",
              "          <span style=\"font-weight: bold\">(</span>out_proj<span style=\"font-weight: bold\">)</span>: <span style=\"color: #800080; text-decoration-color: #800080; font-weight: bold\">_LinearWithBias</span><span style=\"font-weight: bold\">(</span><span style=\"color: #808000; text-decoration-color: #808000\">in_features</span>=<span style=\"color: #008080; text-decoration-color: #008080; font-weight: bold\">512</span>, <span style=\"color: #808000; text-decoration-color: #808000\">out_features</span>=<span style=\"color: #008080; text-decoration-color: #008080; font-weight: bold\">512</span>, <span style=\"color: #808000; text-decoration-color: #808000\">bias</span>=<span style=\"color: #00ff00; text-decoration-color: #00ff00; font-style: italic\">True</span><span style=\"font-weight: bold\">)</span>\n",
              "        <span style=\"font-weight: bold\">)</span>\n",
              "        <span style=\"font-weight: bold\">(</span>linear1<span style=\"font-weight: bold\">)</span>: <span style=\"color: #800080; text-decoration-color: #800080; font-weight: bold\">Linear</span><span style=\"font-weight: bold\">(</span><span style=\"color: #808000; text-decoration-color: #808000\">in_features</span>=<span style=\"color: #008080; text-decoration-color: #008080; font-weight: bold\">512</span>, <span style=\"color: #808000; text-decoration-color: #808000\">out_features</span>=<span style=\"color: #008080; text-decoration-color: #008080; font-weight: bold\">512</span>, <span style=\"color: #808000; text-decoration-color: #808000\">bias</span>=<span style=\"color: #00ff00; text-decoration-color: #00ff00; font-style: italic\">True</span><span style=\"font-weight: bold\">)</span>\n",
              "        <span style=\"font-weight: bold\">(</span>dropout<span style=\"font-weight: bold\">)</span>: <span style=\"color: #800080; text-decoration-color: #800080; font-weight: bold\">Dropout</span><span style=\"font-weight: bold\">(</span><span style=\"color: #808000; text-decoration-color: #808000\">p</span>=<span style=\"color: #008080; text-decoration-color: #008080; font-weight: bold\">0.1</span>, <span style=\"color: #808000; text-decoration-color: #808000\">inplace</span>=<span style=\"color: #ff0000; text-decoration-color: #ff0000; font-style: italic\">False</span><span style=\"font-weight: bold\">)</span>\n",
              "        <span style=\"font-weight: bold\">(</span>linear2<span style=\"font-weight: bold\">)</span>: <span style=\"color: #800080; text-decoration-color: #800080; font-weight: bold\">Linear</span><span style=\"font-weight: bold\">(</span><span style=\"color: #808000; text-decoration-color: #808000\">in_features</span>=<span style=\"color: #008080; text-decoration-color: #008080; font-weight: bold\">512</span>, <span style=\"color: #808000; text-decoration-color: #808000\">out_features</span>=<span style=\"color: #008080; text-decoration-color: #008080; font-weight: bold\">512</span>, <span style=\"color: #808000; text-decoration-color: #808000\">bias</span>=<span style=\"color: #00ff00; text-decoration-color: #00ff00; font-style: italic\">True</span><span style=\"font-weight: bold\">)</span>\n",
              "        <span style=\"font-weight: bold\">(</span>norm1<span style=\"font-weight: bold\">)</span>: <span style=\"color: #800080; text-decoration-color: #800080; font-weight: bold\">LayerNorm</span><span style=\"font-weight: bold\">((</span><span style=\"color: #008080; text-decoration-color: #008080; font-weight: bold\">512</span>,<span style=\"font-weight: bold\">)</span>, <span style=\"color: #808000; text-decoration-color: #808000\">eps</span>=<span style=\"color: #008080; text-decoration-color: #008080; font-weight: bold\">1e-05</span>, <span style=\"color: #808000; text-decoration-color: #808000\">elementwise_affine</span>=<span style=\"color: #00ff00; text-decoration-color: #00ff00; font-style: italic\">True</span><span style=\"font-weight: bold\">)</span>\n",
              "        <span style=\"font-weight: bold\">(</span>norm2<span style=\"font-weight: bold\">)</span>: <span style=\"color: #800080; text-decoration-color: #800080; font-weight: bold\">LayerNorm</span><span style=\"font-weight: bold\">((</span><span style=\"color: #008080; text-decoration-color: #008080; font-weight: bold\">512</span>,<span style=\"font-weight: bold\">)</span>, <span style=\"color: #808000; text-decoration-color: #808000\">eps</span>=<span style=\"color: #008080; text-decoration-color: #008080; font-weight: bold\">1e-05</span>, <span style=\"color: #808000; text-decoration-color: #808000\">elementwise_affine</span>=<span style=\"color: #00ff00; text-decoration-color: #00ff00; font-style: italic\">True</span><span style=\"font-weight: bold\">)</span>\n",
              "        <span style=\"font-weight: bold\">(</span>norm3<span style=\"font-weight: bold\">)</span>: <span style=\"color: #800080; text-decoration-color: #800080; font-weight: bold\">LayerNorm</span><span style=\"font-weight: bold\">((</span><span style=\"color: #008080; text-decoration-color: #008080; font-weight: bold\">512</span>,<span style=\"font-weight: bold\">)</span>, <span style=\"color: #808000; text-decoration-color: #808000\">eps</span>=<span style=\"color: #008080; text-decoration-color: #008080; font-weight: bold\">1e-05</span>, <span style=\"color: #808000; text-decoration-color: #808000\">elementwise_affine</span>=<span style=\"color: #00ff00; text-decoration-color: #00ff00; font-style: italic\">True</span><span style=\"font-weight: bold\">)</span>\n",
              "        <span style=\"font-weight: bold\">(</span>dropout1<span style=\"font-weight: bold\">)</span>: <span style=\"color: #800080; text-decoration-color: #800080; font-weight: bold\">Dropout</span><span style=\"font-weight: bold\">(</span><span style=\"color: #808000; text-decoration-color: #808000\">p</span>=<span style=\"color: #008080; text-decoration-color: #008080; font-weight: bold\">0.1</span>, <span style=\"color: #808000; text-decoration-color: #808000\">inplace</span>=<span style=\"color: #ff0000; text-decoration-color: #ff0000; font-style: italic\">False</span><span style=\"font-weight: bold\">)</span>\n",
              "        <span style=\"font-weight: bold\">(</span>dropout2<span style=\"font-weight: bold\">)</span>: <span style=\"color: #800080; text-decoration-color: #800080; font-weight: bold\">Dropout</span><span style=\"font-weight: bold\">(</span><span style=\"color: #808000; text-decoration-color: #808000\">p</span>=<span style=\"color: #008080; text-decoration-color: #008080; font-weight: bold\">0.1</span>, <span style=\"color: #808000; text-decoration-color: #808000\">inplace</span>=<span style=\"color: #ff0000; text-decoration-color: #ff0000; font-style: italic\">False</span><span style=\"font-weight: bold\">)</span>\n",
              "        <span style=\"font-weight: bold\">(</span>dropout3<span style=\"font-weight: bold\">)</span>: <span style=\"color: #800080; text-decoration-color: #800080; font-weight: bold\">Dropout</span><span style=\"font-weight: bold\">(</span><span style=\"color: #808000; text-decoration-color: #808000\">p</span>=<span style=\"color: #008080; text-decoration-color: #008080; font-weight: bold\">0.1</span>, <span style=\"color: #808000; text-decoration-color: #808000\">inplace</span>=<span style=\"color: #ff0000; text-decoration-color: #ff0000; font-style: italic\">False</span><span style=\"font-weight: bold\">)</span>\n",
              "      <span style=\"font-weight: bold\">)</span>\n",
              "      <span style=\"font-weight: bold\">(</span><span style=\"color: #008080; text-decoration-color: #008080; font-weight: bold\">2</span><span style=\"font-weight: bold\">)</span>: <span style=\"color: #800080; text-decoration-color: #800080; font-weight: bold\">TransformerDecoderLayer</span><span style=\"font-weight: bold\">(</span>\n",
              "        <span style=\"font-weight: bold\">(</span>self_attn<span style=\"font-weight: bold\">)</span>: <span style=\"color: #800080; text-decoration-color: #800080; font-weight: bold\">MultiheadAttention</span><span style=\"font-weight: bold\">(</span>\n",
              "          <span style=\"font-weight: bold\">(</span>out_proj<span style=\"font-weight: bold\">)</span>: <span style=\"color: #800080; text-decoration-color: #800080; font-weight: bold\">_LinearWithBias</span><span style=\"font-weight: bold\">(</span><span style=\"color: #808000; text-decoration-color: #808000\">in_features</span>=<span style=\"color: #008080; text-decoration-color: #008080; font-weight: bold\">512</span>, <span style=\"color: #808000; text-decoration-color: #808000\">out_features</span>=<span style=\"color: #008080; text-decoration-color: #008080; font-weight: bold\">512</span>, <span style=\"color: #808000; text-decoration-color: #808000\">bias</span>=<span style=\"color: #00ff00; text-decoration-color: #00ff00; font-style: italic\">True</span><span style=\"font-weight: bold\">)</span>\n",
              "        <span style=\"font-weight: bold\">)</span>\n",
              "        <span style=\"font-weight: bold\">(</span>multihead_attn<span style=\"font-weight: bold\">)</span>: <span style=\"color: #800080; text-decoration-color: #800080; font-weight: bold\">MultiheadAttention</span><span style=\"font-weight: bold\">(</span>\n",
              "          <span style=\"font-weight: bold\">(</span>out_proj<span style=\"font-weight: bold\">)</span>: <span style=\"color: #800080; text-decoration-color: #800080; font-weight: bold\">_LinearWithBias</span><span style=\"font-weight: bold\">(</span><span style=\"color: #808000; text-decoration-color: #808000\">in_features</span>=<span style=\"color: #008080; text-decoration-color: #008080; font-weight: bold\">512</span>, <span style=\"color: #808000; text-decoration-color: #808000\">out_features</span>=<span style=\"color: #008080; text-decoration-color: #008080; font-weight: bold\">512</span>, <span style=\"color: #808000; text-decoration-color: #808000\">bias</span>=<span style=\"color: #00ff00; text-decoration-color: #00ff00; font-style: italic\">True</span><span style=\"font-weight: bold\">)</span>\n",
              "        <span style=\"font-weight: bold\">)</span>\n",
              "        <span style=\"font-weight: bold\">(</span>linear1<span style=\"font-weight: bold\">)</span>: <span style=\"color: #800080; text-decoration-color: #800080; font-weight: bold\">Linear</span><span style=\"font-weight: bold\">(</span><span style=\"color: #808000; text-decoration-color: #808000\">in_features</span>=<span style=\"color: #008080; text-decoration-color: #008080; font-weight: bold\">512</span>, <span style=\"color: #808000; text-decoration-color: #808000\">out_features</span>=<span style=\"color: #008080; text-decoration-color: #008080; font-weight: bold\">512</span>, <span style=\"color: #808000; text-decoration-color: #808000\">bias</span>=<span style=\"color: #00ff00; text-decoration-color: #00ff00; font-style: italic\">True</span><span style=\"font-weight: bold\">)</span>\n",
              "        <span style=\"font-weight: bold\">(</span>dropout<span style=\"font-weight: bold\">)</span>: <span style=\"color: #800080; text-decoration-color: #800080; font-weight: bold\">Dropout</span><span style=\"font-weight: bold\">(</span><span style=\"color: #808000; text-decoration-color: #808000\">p</span>=<span style=\"color: #008080; text-decoration-color: #008080; font-weight: bold\">0.1</span>, <span style=\"color: #808000; text-decoration-color: #808000\">inplace</span>=<span style=\"color: #ff0000; text-decoration-color: #ff0000; font-style: italic\">False</span><span style=\"font-weight: bold\">)</span>\n",
              "        <span style=\"font-weight: bold\">(</span>linear2<span style=\"font-weight: bold\">)</span>: <span style=\"color: #800080; text-decoration-color: #800080; font-weight: bold\">Linear</span><span style=\"font-weight: bold\">(</span><span style=\"color: #808000; text-decoration-color: #808000\">in_features</span>=<span style=\"color: #008080; text-decoration-color: #008080; font-weight: bold\">512</span>, <span style=\"color: #808000; text-decoration-color: #808000\">out_features</span>=<span style=\"color: #008080; text-decoration-color: #008080; font-weight: bold\">512</span>, <span style=\"color: #808000; text-decoration-color: #808000\">bias</span>=<span style=\"color: #00ff00; text-decoration-color: #00ff00; font-style: italic\">True</span><span style=\"font-weight: bold\">)</span>\n",
              "        <span style=\"font-weight: bold\">(</span>norm1<span style=\"font-weight: bold\">)</span>: <span style=\"color: #800080; text-decoration-color: #800080; font-weight: bold\">LayerNorm</span><span style=\"font-weight: bold\">((</span><span style=\"color: #008080; text-decoration-color: #008080; font-weight: bold\">512</span>,<span style=\"font-weight: bold\">)</span>, <span style=\"color: #808000; text-decoration-color: #808000\">eps</span>=<span style=\"color: #008080; text-decoration-color: #008080; font-weight: bold\">1e-05</span>, <span style=\"color: #808000; text-decoration-color: #808000\">elementwise_affine</span>=<span style=\"color: #00ff00; text-decoration-color: #00ff00; font-style: italic\">True</span><span style=\"font-weight: bold\">)</span>\n",
              "        <span style=\"font-weight: bold\">(</span>norm2<span style=\"font-weight: bold\">)</span>: <span style=\"color: #800080; text-decoration-color: #800080; font-weight: bold\">LayerNorm</span><span style=\"font-weight: bold\">((</span><span style=\"color: #008080; text-decoration-color: #008080; font-weight: bold\">512</span>,<span style=\"font-weight: bold\">)</span>, <span style=\"color: #808000; text-decoration-color: #808000\">eps</span>=<span style=\"color: #008080; text-decoration-color: #008080; font-weight: bold\">1e-05</span>, <span style=\"color: #808000; text-decoration-color: #808000\">elementwise_affine</span>=<span style=\"color: #00ff00; text-decoration-color: #00ff00; font-style: italic\">True</span><span style=\"font-weight: bold\">)</span>\n",
              "        <span style=\"font-weight: bold\">(</span>norm3<span style=\"font-weight: bold\">)</span>: <span style=\"color: #800080; text-decoration-color: #800080; font-weight: bold\">LayerNorm</span><span style=\"font-weight: bold\">((</span><span style=\"color: #008080; text-decoration-color: #008080; font-weight: bold\">512</span>,<span style=\"font-weight: bold\">)</span>, <span style=\"color: #808000; text-decoration-color: #808000\">eps</span>=<span style=\"color: #008080; text-decoration-color: #008080; font-weight: bold\">1e-05</span>, <span style=\"color: #808000; text-decoration-color: #808000\">elementwise_affine</span>=<span style=\"color: #00ff00; text-decoration-color: #00ff00; font-style: italic\">True</span><span style=\"font-weight: bold\">)</span>\n",
              "        <span style=\"font-weight: bold\">(</span>dropout1<span style=\"font-weight: bold\">)</span>: <span style=\"color: #800080; text-decoration-color: #800080; font-weight: bold\">Dropout</span><span style=\"font-weight: bold\">(</span><span style=\"color: #808000; text-decoration-color: #808000\">p</span>=<span style=\"color: #008080; text-decoration-color: #008080; font-weight: bold\">0.1</span>, <span style=\"color: #808000; text-decoration-color: #808000\">inplace</span>=<span style=\"color: #ff0000; text-decoration-color: #ff0000; font-style: italic\">False</span><span style=\"font-weight: bold\">)</span>\n",
              "        <span style=\"font-weight: bold\">(</span>dropout2<span style=\"font-weight: bold\">)</span>: <span style=\"color: #800080; text-decoration-color: #800080; font-weight: bold\">Dropout</span><span style=\"font-weight: bold\">(</span><span style=\"color: #808000; text-decoration-color: #808000\">p</span>=<span style=\"color: #008080; text-decoration-color: #008080; font-weight: bold\">0.1</span>, <span style=\"color: #808000; text-decoration-color: #808000\">inplace</span>=<span style=\"color: #ff0000; text-decoration-color: #ff0000; font-style: italic\">False</span><span style=\"font-weight: bold\">)</span>\n",
              "        <span style=\"font-weight: bold\">(</span>dropout3<span style=\"font-weight: bold\">)</span>: <span style=\"color: #800080; text-decoration-color: #800080; font-weight: bold\">Dropout</span><span style=\"font-weight: bold\">(</span><span style=\"color: #808000; text-decoration-color: #808000\">p</span>=<span style=\"color: #008080; text-decoration-color: #008080; font-weight: bold\">0.1</span>, <span style=\"color: #808000; text-decoration-color: #808000\">inplace</span>=<span style=\"color: #ff0000; text-decoration-color: #ff0000; font-style: italic\">False</span><span style=\"font-weight: bold\">)</span>\n",
              "      <span style=\"font-weight: bold\">)</span>\n",
              "      <span style=\"font-weight: bold\">(</span><span style=\"color: #008080; text-decoration-color: #008080; font-weight: bold\">3</span><span style=\"font-weight: bold\">)</span>: <span style=\"color: #800080; text-decoration-color: #800080; font-weight: bold\">TransformerDecoderLayer</span><span style=\"font-weight: bold\">(</span>\n",
              "        <span style=\"font-weight: bold\">(</span>self_attn<span style=\"font-weight: bold\">)</span>: <span style=\"color: #800080; text-decoration-color: #800080; font-weight: bold\">MultiheadAttention</span><span style=\"font-weight: bold\">(</span>\n",
              "          <span style=\"font-weight: bold\">(</span>out_proj<span style=\"font-weight: bold\">)</span>: <span style=\"color: #800080; text-decoration-color: #800080; font-weight: bold\">_LinearWithBias</span><span style=\"font-weight: bold\">(</span><span style=\"color: #808000; text-decoration-color: #808000\">in_features</span>=<span style=\"color: #008080; text-decoration-color: #008080; font-weight: bold\">512</span>, <span style=\"color: #808000; text-decoration-color: #808000\">out_features</span>=<span style=\"color: #008080; text-decoration-color: #008080; font-weight: bold\">512</span>, <span style=\"color: #808000; text-decoration-color: #808000\">bias</span>=<span style=\"color: #00ff00; text-decoration-color: #00ff00; font-style: italic\">True</span><span style=\"font-weight: bold\">)</span>\n",
              "        <span style=\"font-weight: bold\">)</span>\n",
              "        <span style=\"font-weight: bold\">(</span>multihead_attn<span style=\"font-weight: bold\">)</span>: <span style=\"color: #800080; text-decoration-color: #800080; font-weight: bold\">MultiheadAttention</span><span style=\"font-weight: bold\">(</span>\n",
              "          <span style=\"font-weight: bold\">(</span>out_proj<span style=\"font-weight: bold\">)</span>: <span style=\"color: #800080; text-decoration-color: #800080; font-weight: bold\">_LinearWithBias</span><span style=\"font-weight: bold\">(</span><span style=\"color: #808000; text-decoration-color: #808000\">in_features</span>=<span style=\"color: #008080; text-decoration-color: #008080; font-weight: bold\">512</span>, <span style=\"color: #808000; text-decoration-color: #808000\">out_features</span>=<span style=\"color: #008080; text-decoration-color: #008080; font-weight: bold\">512</span>, <span style=\"color: #808000; text-decoration-color: #808000\">bias</span>=<span style=\"color: #00ff00; text-decoration-color: #00ff00; font-style: italic\">True</span><span style=\"font-weight: bold\">)</span>\n",
              "        <span style=\"font-weight: bold\">)</span>\n",
              "        <span style=\"font-weight: bold\">(</span>linear1<span style=\"font-weight: bold\">)</span>: <span style=\"color: #800080; text-decoration-color: #800080; font-weight: bold\">Linear</span><span style=\"font-weight: bold\">(</span><span style=\"color: #808000; text-decoration-color: #808000\">in_features</span>=<span style=\"color: #008080; text-decoration-color: #008080; font-weight: bold\">512</span>, <span style=\"color: #808000; text-decoration-color: #808000\">out_features</span>=<span style=\"color: #008080; text-decoration-color: #008080; font-weight: bold\">512</span>, <span style=\"color: #808000; text-decoration-color: #808000\">bias</span>=<span style=\"color: #00ff00; text-decoration-color: #00ff00; font-style: italic\">True</span><span style=\"font-weight: bold\">)</span>\n",
              "        <span style=\"font-weight: bold\">(</span>dropout<span style=\"font-weight: bold\">)</span>: <span style=\"color: #800080; text-decoration-color: #800080; font-weight: bold\">Dropout</span><span style=\"font-weight: bold\">(</span><span style=\"color: #808000; text-decoration-color: #808000\">p</span>=<span style=\"color: #008080; text-decoration-color: #008080; font-weight: bold\">0.1</span>, <span style=\"color: #808000; text-decoration-color: #808000\">inplace</span>=<span style=\"color: #ff0000; text-decoration-color: #ff0000; font-style: italic\">False</span><span style=\"font-weight: bold\">)</span>\n",
              "        <span style=\"font-weight: bold\">(</span>linear2<span style=\"font-weight: bold\">)</span>: <span style=\"color: #800080; text-decoration-color: #800080; font-weight: bold\">Linear</span><span style=\"font-weight: bold\">(</span><span style=\"color: #808000; text-decoration-color: #808000\">in_features</span>=<span style=\"color: #008080; text-decoration-color: #008080; font-weight: bold\">512</span>, <span style=\"color: #808000; text-decoration-color: #808000\">out_features</span>=<span style=\"color: #008080; text-decoration-color: #008080; font-weight: bold\">512</span>, <span style=\"color: #808000; text-decoration-color: #808000\">bias</span>=<span style=\"color: #00ff00; text-decoration-color: #00ff00; font-style: italic\">True</span><span style=\"font-weight: bold\">)</span>\n",
              "        <span style=\"font-weight: bold\">(</span>norm1<span style=\"font-weight: bold\">)</span>: <span style=\"color: #800080; text-decoration-color: #800080; font-weight: bold\">LayerNorm</span><span style=\"font-weight: bold\">((</span><span style=\"color: #008080; text-decoration-color: #008080; font-weight: bold\">512</span>,<span style=\"font-weight: bold\">)</span>, <span style=\"color: #808000; text-decoration-color: #808000\">eps</span>=<span style=\"color: #008080; text-decoration-color: #008080; font-weight: bold\">1e-05</span>, <span style=\"color: #808000; text-decoration-color: #808000\">elementwise_affine</span>=<span style=\"color: #00ff00; text-decoration-color: #00ff00; font-style: italic\">True</span><span style=\"font-weight: bold\">)</span>\n",
              "        <span style=\"font-weight: bold\">(</span>norm2<span style=\"font-weight: bold\">)</span>: <span style=\"color: #800080; text-decoration-color: #800080; font-weight: bold\">LayerNorm</span><span style=\"font-weight: bold\">((</span><span style=\"color: #008080; text-decoration-color: #008080; font-weight: bold\">512</span>,<span style=\"font-weight: bold\">)</span>, <span style=\"color: #808000; text-decoration-color: #808000\">eps</span>=<span style=\"color: #008080; text-decoration-color: #008080; font-weight: bold\">1e-05</span>, <span style=\"color: #808000; text-decoration-color: #808000\">elementwise_affine</span>=<span style=\"color: #00ff00; text-decoration-color: #00ff00; font-style: italic\">True</span><span style=\"font-weight: bold\">)</span>\n",
              "        <span style=\"font-weight: bold\">(</span>norm3<span style=\"font-weight: bold\">)</span>: <span style=\"color: #800080; text-decoration-color: #800080; font-weight: bold\">LayerNorm</span><span style=\"font-weight: bold\">((</span><span style=\"color: #008080; text-decoration-color: #008080; font-weight: bold\">512</span>,<span style=\"font-weight: bold\">)</span>, <span style=\"color: #808000; text-decoration-color: #808000\">eps</span>=<span style=\"color: #008080; text-decoration-color: #008080; font-weight: bold\">1e-05</span>, <span style=\"color: #808000; text-decoration-color: #808000\">elementwise_affine</span>=<span style=\"color: #00ff00; text-decoration-color: #00ff00; font-style: italic\">True</span><span style=\"font-weight: bold\">)</span>\n",
              "        <span style=\"font-weight: bold\">(</span>dropout1<span style=\"font-weight: bold\">)</span>: <span style=\"color: #800080; text-decoration-color: #800080; font-weight: bold\">Dropout</span><span style=\"font-weight: bold\">(</span><span style=\"color: #808000; text-decoration-color: #808000\">p</span>=<span style=\"color: #008080; text-decoration-color: #008080; font-weight: bold\">0.1</span>, <span style=\"color: #808000; text-decoration-color: #808000\">inplace</span>=<span style=\"color: #ff0000; text-decoration-color: #ff0000; font-style: italic\">False</span><span style=\"font-weight: bold\">)</span>\n",
              "        <span style=\"font-weight: bold\">(</span>dropout2<span style=\"font-weight: bold\">)</span>: <span style=\"color: #800080; text-decoration-color: #800080; font-weight: bold\">Dropout</span><span style=\"font-weight: bold\">(</span><span style=\"color: #808000; text-decoration-color: #808000\">p</span>=<span style=\"color: #008080; text-decoration-color: #008080; font-weight: bold\">0.1</span>, <span style=\"color: #808000; text-decoration-color: #808000\">inplace</span>=<span style=\"color: #ff0000; text-decoration-color: #ff0000; font-style: italic\">False</span><span style=\"font-weight: bold\">)</span>\n",
              "        <span style=\"font-weight: bold\">(</span>dropout3<span style=\"font-weight: bold\">)</span>: <span style=\"color: #800080; text-decoration-color: #800080; font-weight: bold\">Dropout</span><span style=\"font-weight: bold\">(</span><span style=\"color: #808000; text-decoration-color: #808000\">p</span>=<span style=\"color: #008080; text-decoration-color: #008080; font-weight: bold\">0.1</span>, <span style=\"color: #808000; text-decoration-color: #808000\">inplace</span>=<span style=\"color: #ff0000; text-decoration-color: #ff0000; font-style: italic\">False</span><span style=\"font-weight: bold\">)</span>\n",
              "      <span style=\"font-weight: bold\">)</span>\n",
              "    <span style=\"font-weight: bold\">)</span>\n",
              "  <span style=\"font-weight: bold\">)</span>\n",
              "  <span style=\"font-weight: bold\">(</span>generator<span style=\"font-weight: bold\">)</span>: <span style=\"color: #800080; text-decoration-color: #800080; font-weight: bold\">Linear</span><span style=\"font-weight: bold\">(</span><span style=\"color: #808000; text-decoration-color: #808000\">in_features</span>=<span style=\"color: #008080; text-decoration-color: #008080; font-weight: bold\">512</span>, <span style=\"color: #808000; text-decoration-color: #808000\">out_features</span>=<span style=\"color: #008080; text-decoration-color: #008080; font-weight: bold\">50</span>, <span style=\"color: #808000; text-decoration-color: #808000\">bias</span>=<span style=\"color: #00ff00; text-decoration-color: #00ff00; font-style: italic\">True</span><span style=\"font-weight: bold\">)</span>\n",
              "  <span style=\"font-weight: bold\">(</span>src_tok_emb<span style=\"font-weight: bold\">)</span>: <span style=\"color: #800080; text-decoration-color: #800080; font-weight: bold\">TokenEmbedding</span><span style=\"font-weight: bold\">(</span>\n",
              "    <span style=\"font-weight: bold\">(</span>embedding<span style=\"font-weight: bold\">)</span>: <span style=\"color: #800080; text-decoration-color: #800080; font-weight: bold\">Embedding</span><span style=\"font-weight: bold\">(</span><span style=\"color: #008080; text-decoration-color: #008080; font-weight: bold\">52</span>, <span style=\"color: #008080; text-decoration-color: #008080; font-weight: bold\">512</span><span style=\"font-weight: bold\">)</span>\n",
              "  <span style=\"font-weight: bold\">)</span>\n",
              "  <span style=\"font-weight: bold\">(</span>tgt_tok_emb<span style=\"font-weight: bold\">)</span>: <span style=\"color: #800080; text-decoration-color: #800080; font-weight: bold\">TokenEmbedding</span><span style=\"font-weight: bold\">(</span>\n",
              "    <span style=\"font-weight: bold\">(</span>embedding<span style=\"font-weight: bold\">)</span>: <span style=\"color: #800080; text-decoration-color: #800080; font-weight: bold\">Embedding</span><span style=\"font-weight: bold\">(</span><span style=\"color: #008080; text-decoration-color: #008080; font-weight: bold\">50</span>, <span style=\"color: #008080; text-decoration-color: #008080; font-weight: bold\">512</span><span style=\"font-weight: bold\">)</span>\n",
              "  <span style=\"font-weight: bold\">)</span>\n",
              "  <span style=\"font-weight: bold\">(</span>positional_encoding<span style=\"font-weight: bold\">)</span>: <span style=\"color: #800080; text-decoration-color: #800080; font-weight: bold\">PositionalEncoding</span><span style=\"font-weight: bold\">(</span>\n",
              "    <span style=\"font-weight: bold\">(</span>dropout<span style=\"font-weight: bold\">)</span>: <span style=\"color: #800080; text-decoration-color: #800080; font-weight: bold\">Dropout</span><span style=\"font-weight: bold\">(</span><span style=\"color: #808000; text-decoration-color: #808000\">p</span>=<span style=\"color: #008080; text-decoration-color: #008080; font-weight: bold\">0.1</span>, <span style=\"color: #808000; text-decoration-color: #808000\">inplace</span>=<span style=\"color: #ff0000; text-decoration-color: #ff0000; font-style: italic\">False</span><span style=\"font-weight: bold\">)</span>\n",
              "  <span style=\"font-weight: bold\">)</span>\n",
              "<span style=\"font-weight: bold\">)</span>\n",
              "</pre>\n"
            ],
            "text/plain": [
              "\u001b[1;35mSeq2SeqTransformer\u001b[0m\u001b[1m(\u001b[0m\n",
              "  \u001b[1m(\u001b[0mtransformer_encoder\u001b[1m)\u001b[0m: \u001b[1;35mTransformerEncoder\u001b[0m\u001b[1m(\u001b[0m\n",
              "    \u001b[1m(\u001b[0mlayers\u001b[1m)\u001b[0m: \u001b[1;35mModuleList\u001b[0m\u001b[1m(\u001b[0m\n",
              "      \u001b[1m(\u001b[0m\u001b[1;36m0\u001b[0m\u001b[1m)\u001b[0m: \u001b[1;35mTransformerEncoderLayer\u001b[0m\u001b[1m(\u001b[0m\n",
              "        \u001b[1m(\u001b[0mself_attn\u001b[1m)\u001b[0m: \u001b[1;35mMultiheadAttention\u001b[0m\u001b[1m(\u001b[0m\n",
              "          \u001b[1m(\u001b[0mout_proj\u001b[1m)\u001b[0m: \u001b[1;35m_LinearWithBias\u001b[0m\u001b[1m(\u001b[0m\u001b[33min_features\u001b[0m=\u001b[1;36m512\u001b[0m, \u001b[33mout_features\u001b[0m=\u001b[1;36m512\u001b[0m, \u001b[33mbias\u001b[0m=\u001b[3;92mTrue\u001b[0m\u001b[1m)\u001b[0m\n",
              "        \u001b[1m)\u001b[0m\n",
              "        \u001b[1m(\u001b[0mlinear1\u001b[1m)\u001b[0m: \u001b[1;35mLinear\u001b[0m\u001b[1m(\u001b[0m\u001b[33min_features\u001b[0m=\u001b[1;36m512\u001b[0m, \u001b[33mout_features\u001b[0m=\u001b[1;36m512\u001b[0m, \u001b[33mbias\u001b[0m=\u001b[3;92mTrue\u001b[0m\u001b[1m)\u001b[0m\n",
              "        \u001b[1m(\u001b[0mdropout\u001b[1m)\u001b[0m: \u001b[1;35mDropout\u001b[0m\u001b[1m(\u001b[0m\u001b[33mp\u001b[0m=\u001b[1;36m0\u001b[0m\u001b[1;36m.1\u001b[0m, \u001b[33minplace\u001b[0m=\u001b[3;91mFalse\u001b[0m\u001b[1m)\u001b[0m\n",
              "        \u001b[1m(\u001b[0mlinear2\u001b[1m)\u001b[0m: \u001b[1;35mLinear\u001b[0m\u001b[1m(\u001b[0m\u001b[33min_features\u001b[0m=\u001b[1;36m512\u001b[0m, \u001b[33mout_features\u001b[0m=\u001b[1;36m512\u001b[0m, \u001b[33mbias\u001b[0m=\u001b[3;92mTrue\u001b[0m\u001b[1m)\u001b[0m\n",
              "        \u001b[1m(\u001b[0mnorm1\u001b[1m)\u001b[0m: \u001b[1;35mLayerNorm\u001b[0m\u001b[1m(\u001b[0m\u001b[1m(\u001b[0m\u001b[1;36m512\u001b[0m,\u001b[1m)\u001b[0m, \u001b[33meps\u001b[0m=\u001b[1;36m1e\u001b[0m\u001b[1;36m-05\u001b[0m, \u001b[33melementwise_affine\u001b[0m=\u001b[3;92mTrue\u001b[0m\u001b[1m)\u001b[0m\n",
              "        \u001b[1m(\u001b[0mnorm2\u001b[1m)\u001b[0m: \u001b[1;35mLayerNorm\u001b[0m\u001b[1m(\u001b[0m\u001b[1m(\u001b[0m\u001b[1;36m512\u001b[0m,\u001b[1m)\u001b[0m, \u001b[33meps\u001b[0m=\u001b[1;36m1e\u001b[0m\u001b[1;36m-05\u001b[0m, \u001b[33melementwise_affine\u001b[0m=\u001b[3;92mTrue\u001b[0m\u001b[1m)\u001b[0m\n",
              "        \u001b[1m(\u001b[0mdropout1\u001b[1m)\u001b[0m: \u001b[1;35mDropout\u001b[0m\u001b[1m(\u001b[0m\u001b[33mp\u001b[0m=\u001b[1;36m0\u001b[0m\u001b[1;36m.1\u001b[0m, \u001b[33minplace\u001b[0m=\u001b[3;91mFalse\u001b[0m\u001b[1m)\u001b[0m\n",
              "        \u001b[1m(\u001b[0mdropout2\u001b[1m)\u001b[0m: \u001b[1;35mDropout\u001b[0m\u001b[1m(\u001b[0m\u001b[33mp\u001b[0m=\u001b[1;36m0\u001b[0m\u001b[1;36m.1\u001b[0m, \u001b[33minplace\u001b[0m=\u001b[3;91mFalse\u001b[0m\u001b[1m)\u001b[0m\n",
              "      \u001b[1m)\u001b[0m\n",
              "      \u001b[1m(\u001b[0m\u001b[1;36m1\u001b[0m\u001b[1m)\u001b[0m: \u001b[1;35mTransformerEncoderLayer\u001b[0m\u001b[1m(\u001b[0m\n",
              "        \u001b[1m(\u001b[0mself_attn\u001b[1m)\u001b[0m: \u001b[1;35mMultiheadAttention\u001b[0m\u001b[1m(\u001b[0m\n",
              "          \u001b[1m(\u001b[0mout_proj\u001b[1m)\u001b[0m: \u001b[1;35m_LinearWithBias\u001b[0m\u001b[1m(\u001b[0m\u001b[33min_features\u001b[0m=\u001b[1;36m512\u001b[0m, \u001b[33mout_features\u001b[0m=\u001b[1;36m512\u001b[0m, \u001b[33mbias\u001b[0m=\u001b[3;92mTrue\u001b[0m\u001b[1m)\u001b[0m\n",
              "        \u001b[1m)\u001b[0m\n",
              "        \u001b[1m(\u001b[0mlinear1\u001b[1m)\u001b[0m: \u001b[1;35mLinear\u001b[0m\u001b[1m(\u001b[0m\u001b[33min_features\u001b[0m=\u001b[1;36m512\u001b[0m, \u001b[33mout_features\u001b[0m=\u001b[1;36m512\u001b[0m, \u001b[33mbias\u001b[0m=\u001b[3;92mTrue\u001b[0m\u001b[1m)\u001b[0m\n",
              "        \u001b[1m(\u001b[0mdropout\u001b[1m)\u001b[0m: \u001b[1;35mDropout\u001b[0m\u001b[1m(\u001b[0m\u001b[33mp\u001b[0m=\u001b[1;36m0\u001b[0m\u001b[1;36m.1\u001b[0m, \u001b[33minplace\u001b[0m=\u001b[3;91mFalse\u001b[0m\u001b[1m)\u001b[0m\n",
              "        \u001b[1m(\u001b[0mlinear2\u001b[1m)\u001b[0m: \u001b[1;35mLinear\u001b[0m\u001b[1m(\u001b[0m\u001b[33min_features\u001b[0m=\u001b[1;36m512\u001b[0m, \u001b[33mout_features\u001b[0m=\u001b[1;36m512\u001b[0m, \u001b[33mbias\u001b[0m=\u001b[3;92mTrue\u001b[0m\u001b[1m)\u001b[0m\n",
              "        \u001b[1m(\u001b[0mnorm1\u001b[1m)\u001b[0m: \u001b[1;35mLayerNorm\u001b[0m\u001b[1m(\u001b[0m\u001b[1m(\u001b[0m\u001b[1;36m512\u001b[0m,\u001b[1m)\u001b[0m, \u001b[33meps\u001b[0m=\u001b[1;36m1e\u001b[0m\u001b[1;36m-05\u001b[0m, \u001b[33melementwise_affine\u001b[0m=\u001b[3;92mTrue\u001b[0m\u001b[1m)\u001b[0m\n",
              "        \u001b[1m(\u001b[0mnorm2\u001b[1m)\u001b[0m: \u001b[1;35mLayerNorm\u001b[0m\u001b[1m(\u001b[0m\u001b[1m(\u001b[0m\u001b[1;36m512\u001b[0m,\u001b[1m)\u001b[0m, \u001b[33meps\u001b[0m=\u001b[1;36m1e\u001b[0m\u001b[1;36m-05\u001b[0m, \u001b[33melementwise_affine\u001b[0m=\u001b[3;92mTrue\u001b[0m\u001b[1m)\u001b[0m\n",
              "        \u001b[1m(\u001b[0mdropout1\u001b[1m)\u001b[0m: \u001b[1;35mDropout\u001b[0m\u001b[1m(\u001b[0m\u001b[33mp\u001b[0m=\u001b[1;36m0\u001b[0m\u001b[1;36m.1\u001b[0m, \u001b[33minplace\u001b[0m=\u001b[3;91mFalse\u001b[0m\u001b[1m)\u001b[0m\n",
              "        \u001b[1m(\u001b[0mdropout2\u001b[1m)\u001b[0m: \u001b[1;35mDropout\u001b[0m\u001b[1m(\u001b[0m\u001b[33mp\u001b[0m=\u001b[1;36m0\u001b[0m\u001b[1;36m.1\u001b[0m, \u001b[33minplace\u001b[0m=\u001b[3;91mFalse\u001b[0m\u001b[1m)\u001b[0m\n",
              "      \u001b[1m)\u001b[0m\n",
              "      \u001b[1m(\u001b[0m\u001b[1;36m2\u001b[0m\u001b[1m)\u001b[0m: \u001b[1;35mTransformerEncoderLayer\u001b[0m\u001b[1m(\u001b[0m\n",
              "        \u001b[1m(\u001b[0mself_attn\u001b[1m)\u001b[0m: \u001b[1;35mMultiheadAttention\u001b[0m\u001b[1m(\u001b[0m\n",
              "          \u001b[1m(\u001b[0mout_proj\u001b[1m)\u001b[0m: \u001b[1;35m_LinearWithBias\u001b[0m\u001b[1m(\u001b[0m\u001b[33min_features\u001b[0m=\u001b[1;36m512\u001b[0m, \u001b[33mout_features\u001b[0m=\u001b[1;36m512\u001b[0m, \u001b[33mbias\u001b[0m=\u001b[3;92mTrue\u001b[0m\u001b[1m)\u001b[0m\n",
              "        \u001b[1m)\u001b[0m\n",
              "        \u001b[1m(\u001b[0mlinear1\u001b[1m)\u001b[0m: \u001b[1;35mLinear\u001b[0m\u001b[1m(\u001b[0m\u001b[33min_features\u001b[0m=\u001b[1;36m512\u001b[0m, \u001b[33mout_features\u001b[0m=\u001b[1;36m512\u001b[0m, \u001b[33mbias\u001b[0m=\u001b[3;92mTrue\u001b[0m\u001b[1m)\u001b[0m\n",
              "        \u001b[1m(\u001b[0mdropout\u001b[1m)\u001b[0m: \u001b[1;35mDropout\u001b[0m\u001b[1m(\u001b[0m\u001b[33mp\u001b[0m=\u001b[1;36m0\u001b[0m\u001b[1;36m.1\u001b[0m, \u001b[33minplace\u001b[0m=\u001b[3;91mFalse\u001b[0m\u001b[1m)\u001b[0m\n",
              "        \u001b[1m(\u001b[0mlinear2\u001b[1m)\u001b[0m: \u001b[1;35mLinear\u001b[0m\u001b[1m(\u001b[0m\u001b[33min_features\u001b[0m=\u001b[1;36m512\u001b[0m, \u001b[33mout_features\u001b[0m=\u001b[1;36m512\u001b[0m, \u001b[33mbias\u001b[0m=\u001b[3;92mTrue\u001b[0m\u001b[1m)\u001b[0m\n",
              "        \u001b[1m(\u001b[0mnorm1\u001b[1m)\u001b[0m: \u001b[1;35mLayerNorm\u001b[0m\u001b[1m(\u001b[0m\u001b[1m(\u001b[0m\u001b[1;36m512\u001b[0m,\u001b[1m)\u001b[0m, \u001b[33meps\u001b[0m=\u001b[1;36m1e\u001b[0m\u001b[1;36m-05\u001b[0m, \u001b[33melementwise_affine\u001b[0m=\u001b[3;92mTrue\u001b[0m\u001b[1m)\u001b[0m\n",
              "        \u001b[1m(\u001b[0mnorm2\u001b[1m)\u001b[0m: \u001b[1;35mLayerNorm\u001b[0m\u001b[1m(\u001b[0m\u001b[1m(\u001b[0m\u001b[1;36m512\u001b[0m,\u001b[1m)\u001b[0m, \u001b[33meps\u001b[0m=\u001b[1;36m1e\u001b[0m\u001b[1;36m-05\u001b[0m, \u001b[33melementwise_affine\u001b[0m=\u001b[3;92mTrue\u001b[0m\u001b[1m)\u001b[0m\n",
              "        \u001b[1m(\u001b[0mdropout1\u001b[1m)\u001b[0m: \u001b[1;35mDropout\u001b[0m\u001b[1m(\u001b[0m\u001b[33mp\u001b[0m=\u001b[1;36m0\u001b[0m\u001b[1;36m.1\u001b[0m, \u001b[33minplace\u001b[0m=\u001b[3;91mFalse\u001b[0m\u001b[1m)\u001b[0m\n",
              "        \u001b[1m(\u001b[0mdropout2\u001b[1m)\u001b[0m: \u001b[1;35mDropout\u001b[0m\u001b[1m(\u001b[0m\u001b[33mp\u001b[0m=\u001b[1;36m0\u001b[0m\u001b[1;36m.1\u001b[0m, \u001b[33minplace\u001b[0m=\u001b[3;91mFalse\u001b[0m\u001b[1m)\u001b[0m\n",
              "      \u001b[1m)\u001b[0m\n",
              "      \u001b[1m(\u001b[0m\u001b[1;36m3\u001b[0m\u001b[1m)\u001b[0m: \u001b[1;35mTransformerEncoderLayer\u001b[0m\u001b[1m(\u001b[0m\n",
              "        \u001b[1m(\u001b[0mself_attn\u001b[1m)\u001b[0m: \u001b[1;35mMultiheadAttention\u001b[0m\u001b[1m(\u001b[0m\n",
              "          \u001b[1m(\u001b[0mout_proj\u001b[1m)\u001b[0m: \u001b[1;35m_LinearWithBias\u001b[0m\u001b[1m(\u001b[0m\u001b[33min_features\u001b[0m=\u001b[1;36m512\u001b[0m, \u001b[33mout_features\u001b[0m=\u001b[1;36m512\u001b[0m, \u001b[33mbias\u001b[0m=\u001b[3;92mTrue\u001b[0m\u001b[1m)\u001b[0m\n",
              "        \u001b[1m)\u001b[0m\n",
              "        \u001b[1m(\u001b[0mlinear1\u001b[1m)\u001b[0m: \u001b[1;35mLinear\u001b[0m\u001b[1m(\u001b[0m\u001b[33min_features\u001b[0m=\u001b[1;36m512\u001b[0m, \u001b[33mout_features\u001b[0m=\u001b[1;36m512\u001b[0m, \u001b[33mbias\u001b[0m=\u001b[3;92mTrue\u001b[0m\u001b[1m)\u001b[0m\n",
              "        \u001b[1m(\u001b[0mdropout\u001b[1m)\u001b[0m: \u001b[1;35mDropout\u001b[0m\u001b[1m(\u001b[0m\u001b[33mp\u001b[0m=\u001b[1;36m0\u001b[0m\u001b[1;36m.1\u001b[0m, \u001b[33minplace\u001b[0m=\u001b[3;91mFalse\u001b[0m\u001b[1m)\u001b[0m\n",
              "        \u001b[1m(\u001b[0mlinear2\u001b[1m)\u001b[0m: \u001b[1;35mLinear\u001b[0m\u001b[1m(\u001b[0m\u001b[33min_features\u001b[0m=\u001b[1;36m512\u001b[0m, \u001b[33mout_features\u001b[0m=\u001b[1;36m512\u001b[0m, \u001b[33mbias\u001b[0m=\u001b[3;92mTrue\u001b[0m\u001b[1m)\u001b[0m\n",
              "        \u001b[1m(\u001b[0mnorm1\u001b[1m)\u001b[0m: \u001b[1;35mLayerNorm\u001b[0m\u001b[1m(\u001b[0m\u001b[1m(\u001b[0m\u001b[1;36m512\u001b[0m,\u001b[1m)\u001b[0m, \u001b[33meps\u001b[0m=\u001b[1;36m1e\u001b[0m\u001b[1;36m-05\u001b[0m, \u001b[33melementwise_affine\u001b[0m=\u001b[3;92mTrue\u001b[0m\u001b[1m)\u001b[0m\n",
              "        \u001b[1m(\u001b[0mnorm2\u001b[1m)\u001b[0m: \u001b[1;35mLayerNorm\u001b[0m\u001b[1m(\u001b[0m\u001b[1m(\u001b[0m\u001b[1;36m512\u001b[0m,\u001b[1m)\u001b[0m, \u001b[33meps\u001b[0m=\u001b[1;36m1e\u001b[0m\u001b[1;36m-05\u001b[0m, \u001b[33melementwise_affine\u001b[0m=\u001b[3;92mTrue\u001b[0m\u001b[1m)\u001b[0m\n",
              "        \u001b[1m(\u001b[0mdropout1\u001b[1m)\u001b[0m: \u001b[1;35mDropout\u001b[0m\u001b[1m(\u001b[0m\u001b[33mp\u001b[0m=\u001b[1;36m0\u001b[0m\u001b[1;36m.1\u001b[0m, \u001b[33minplace\u001b[0m=\u001b[3;91mFalse\u001b[0m\u001b[1m)\u001b[0m\n",
              "        \u001b[1m(\u001b[0mdropout2\u001b[1m)\u001b[0m: \u001b[1;35mDropout\u001b[0m\u001b[1m(\u001b[0m\u001b[33mp\u001b[0m=\u001b[1;36m0\u001b[0m\u001b[1;36m.1\u001b[0m, \u001b[33minplace\u001b[0m=\u001b[3;91mFalse\u001b[0m\u001b[1m)\u001b[0m\n",
              "      \u001b[1m)\u001b[0m\n",
              "    \u001b[1m)\u001b[0m\n",
              "  \u001b[1m)\u001b[0m\n",
              "  \u001b[1m(\u001b[0mtransformer_decoder\u001b[1m)\u001b[0m: \u001b[1;35mTransformerDecoder\u001b[0m\u001b[1m(\u001b[0m\n",
              "    \u001b[1m(\u001b[0mlayers\u001b[1m)\u001b[0m: \u001b[1;35mModuleList\u001b[0m\u001b[1m(\u001b[0m\n",
              "      \u001b[1m(\u001b[0m\u001b[1;36m0\u001b[0m\u001b[1m)\u001b[0m: \u001b[1;35mTransformerDecoderLayer\u001b[0m\u001b[1m(\u001b[0m\n",
              "        \u001b[1m(\u001b[0mself_attn\u001b[1m)\u001b[0m: \u001b[1;35mMultiheadAttention\u001b[0m\u001b[1m(\u001b[0m\n",
              "          \u001b[1m(\u001b[0mout_proj\u001b[1m)\u001b[0m: \u001b[1;35m_LinearWithBias\u001b[0m\u001b[1m(\u001b[0m\u001b[33min_features\u001b[0m=\u001b[1;36m512\u001b[0m, \u001b[33mout_features\u001b[0m=\u001b[1;36m512\u001b[0m, \u001b[33mbias\u001b[0m=\u001b[3;92mTrue\u001b[0m\u001b[1m)\u001b[0m\n",
              "        \u001b[1m)\u001b[0m\n",
              "        \u001b[1m(\u001b[0mmultihead_attn\u001b[1m)\u001b[0m: \u001b[1;35mMultiheadAttention\u001b[0m\u001b[1m(\u001b[0m\n",
              "          \u001b[1m(\u001b[0mout_proj\u001b[1m)\u001b[0m: \u001b[1;35m_LinearWithBias\u001b[0m\u001b[1m(\u001b[0m\u001b[33min_features\u001b[0m=\u001b[1;36m512\u001b[0m, \u001b[33mout_features\u001b[0m=\u001b[1;36m512\u001b[0m, \u001b[33mbias\u001b[0m=\u001b[3;92mTrue\u001b[0m\u001b[1m)\u001b[0m\n",
              "        \u001b[1m)\u001b[0m\n",
              "        \u001b[1m(\u001b[0mlinear1\u001b[1m)\u001b[0m: \u001b[1;35mLinear\u001b[0m\u001b[1m(\u001b[0m\u001b[33min_features\u001b[0m=\u001b[1;36m512\u001b[0m, \u001b[33mout_features\u001b[0m=\u001b[1;36m512\u001b[0m, \u001b[33mbias\u001b[0m=\u001b[3;92mTrue\u001b[0m\u001b[1m)\u001b[0m\n",
              "        \u001b[1m(\u001b[0mdropout\u001b[1m)\u001b[0m: \u001b[1;35mDropout\u001b[0m\u001b[1m(\u001b[0m\u001b[33mp\u001b[0m=\u001b[1;36m0\u001b[0m\u001b[1;36m.1\u001b[0m, \u001b[33minplace\u001b[0m=\u001b[3;91mFalse\u001b[0m\u001b[1m)\u001b[0m\n",
              "        \u001b[1m(\u001b[0mlinear2\u001b[1m)\u001b[0m: \u001b[1;35mLinear\u001b[0m\u001b[1m(\u001b[0m\u001b[33min_features\u001b[0m=\u001b[1;36m512\u001b[0m, \u001b[33mout_features\u001b[0m=\u001b[1;36m512\u001b[0m, \u001b[33mbias\u001b[0m=\u001b[3;92mTrue\u001b[0m\u001b[1m)\u001b[0m\n",
              "        \u001b[1m(\u001b[0mnorm1\u001b[1m)\u001b[0m: \u001b[1;35mLayerNorm\u001b[0m\u001b[1m(\u001b[0m\u001b[1m(\u001b[0m\u001b[1;36m512\u001b[0m,\u001b[1m)\u001b[0m, \u001b[33meps\u001b[0m=\u001b[1;36m1e\u001b[0m\u001b[1;36m-05\u001b[0m, \u001b[33melementwise_affine\u001b[0m=\u001b[3;92mTrue\u001b[0m\u001b[1m)\u001b[0m\n",
              "        \u001b[1m(\u001b[0mnorm2\u001b[1m)\u001b[0m: \u001b[1;35mLayerNorm\u001b[0m\u001b[1m(\u001b[0m\u001b[1m(\u001b[0m\u001b[1;36m512\u001b[0m,\u001b[1m)\u001b[0m, \u001b[33meps\u001b[0m=\u001b[1;36m1e\u001b[0m\u001b[1;36m-05\u001b[0m, \u001b[33melementwise_affine\u001b[0m=\u001b[3;92mTrue\u001b[0m\u001b[1m)\u001b[0m\n",
              "        \u001b[1m(\u001b[0mnorm3\u001b[1m)\u001b[0m: \u001b[1;35mLayerNorm\u001b[0m\u001b[1m(\u001b[0m\u001b[1m(\u001b[0m\u001b[1;36m512\u001b[0m,\u001b[1m)\u001b[0m, \u001b[33meps\u001b[0m=\u001b[1;36m1e\u001b[0m\u001b[1;36m-05\u001b[0m, \u001b[33melementwise_affine\u001b[0m=\u001b[3;92mTrue\u001b[0m\u001b[1m)\u001b[0m\n",
              "        \u001b[1m(\u001b[0mdropout1\u001b[1m)\u001b[0m: \u001b[1;35mDropout\u001b[0m\u001b[1m(\u001b[0m\u001b[33mp\u001b[0m=\u001b[1;36m0\u001b[0m\u001b[1;36m.1\u001b[0m, \u001b[33minplace\u001b[0m=\u001b[3;91mFalse\u001b[0m\u001b[1m)\u001b[0m\n",
              "        \u001b[1m(\u001b[0mdropout2\u001b[1m)\u001b[0m: \u001b[1;35mDropout\u001b[0m\u001b[1m(\u001b[0m\u001b[33mp\u001b[0m=\u001b[1;36m0\u001b[0m\u001b[1;36m.1\u001b[0m, \u001b[33minplace\u001b[0m=\u001b[3;91mFalse\u001b[0m\u001b[1m)\u001b[0m\n",
              "        \u001b[1m(\u001b[0mdropout3\u001b[1m)\u001b[0m: \u001b[1;35mDropout\u001b[0m\u001b[1m(\u001b[0m\u001b[33mp\u001b[0m=\u001b[1;36m0\u001b[0m\u001b[1;36m.1\u001b[0m, \u001b[33minplace\u001b[0m=\u001b[3;91mFalse\u001b[0m\u001b[1m)\u001b[0m\n",
              "      \u001b[1m)\u001b[0m\n",
              "      \u001b[1m(\u001b[0m\u001b[1;36m1\u001b[0m\u001b[1m)\u001b[0m: \u001b[1;35mTransformerDecoderLayer\u001b[0m\u001b[1m(\u001b[0m\n",
              "        \u001b[1m(\u001b[0mself_attn\u001b[1m)\u001b[0m: \u001b[1;35mMultiheadAttention\u001b[0m\u001b[1m(\u001b[0m\n",
              "          \u001b[1m(\u001b[0mout_proj\u001b[1m)\u001b[0m: \u001b[1;35m_LinearWithBias\u001b[0m\u001b[1m(\u001b[0m\u001b[33min_features\u001b[0m=\u001b[1;36m512\u001b[0m, \u001b[33mout_features\u001b[0m=\u001b[1;36m512\u001b[0m, \u001b[33mbias\u001b[0m=\u001b[3;92mTrue\u001b[0m\u001b[1m)\u001b[0m\n",
              "        \u001b[1m)\u001b[0m\n",
              "        \u001b[1m(\u001b[0mmultihead_attn\u001b[1m)\u001b[0m: \u001b[1;35mMultiheadAttention\u001b[0m\u001b[1m(\u001b[0m\n",
              "          \u001b[1m(\u001b[0mout_proj\u001b[1m)\u001b[0m: \u001b[1;35m_LinearWithBias\u001b[0m\u001b[1m(\u001b[0m\u001b[33min_features\u001b[0m=\u001b[1;36m512\u001b[0m, \u001b[33mout_features\u001b[0m=\u001b[1;36m512\u001b[0m, \u001b[33mbias\u001b[0m=\u001b[3;92mTrue\u001b[0m\u001b[1m)\u001b[0m\n",
              "        \u001b[1m)\u001b[0m\n",
              "        \u001b[1m(\u001b[0mlinear1\u001b[1m)\u001b[0m: \u001b[1;35mLinear\u001b[0m\u001b[1m(\u001b[0m\u001b[33min_features\u001b[0m=\u001b[1;36m512\u001b[0m, \u001b[33mout_features\u001b[0m=\u001b[1;36m512\u001b[0m, \u001b[33mbias\u001b[0m=\u001b[3;92mTrue\u001b[0m\u001b[1m)\u001b[0m\n",
              "        \u001b[1m(\u001b[0mdropout\u001b[1m)\u001b[0m: \u001b[1;35mDropout\u001b[0m\u001b[1m(\u001b[0m\u001b[33mp\u001b[0m=\u001b[1;36m0\u001b[0m\u001b[1;36m.1\u001b[0m, \u001b[33minplace\u001b[0m=\u001b[3;91mFalse\u001b[0m\u001b[1m)\u001b[0m\n",
              "        \u001b[1m(\u001b[0mlinear2\u001b[1m)\u001b[0m: \u001b[1;35mLinear\u001b[0m\u001b[1m(\u001b[0m\u001b[33min_features\u001b[0m=\u001b[1;36m512\u001b[0m, \u001b[33mout_features\u001b[0m=\u001b[1;36m512\u001b[0m, \u001b[33mbias\u001b[0m=\u001b[3;92mTrue\u001b[0m\u001b[1m)\u001b[0m\n",
              "        \u001b[1m(\u001b[0mnorm1\u001b[1m)\u001b[0m: \u001b[1;35mLayerNorm\u001b[0m\u001b[1m(\u001b[0m\u001b[1m(\u001b[0m\u001b[1;36m512\u001b[0m,\u001b[1m)\u001b[0m, \u001b[33meps\u001b[0m=\u001b[1;36m1e\u001b[0m\u001b[1;36m-05\u001b[0m, \u001b[33melementwise_affine\u001b[0m=\u001b[3;92mTrue\u001b[0m\u001b[1m)\u001b[0m\n",
              "        \u001b[1m(\u001b[0mnorm2\u001b[1m)\u001b[0m: \u001b[1;35mLayerNorm\u001b[0m\u001b[1m(\u001b[0m\u001b[1m(\u001b[0m\u001b[1;36m512\u001b[0m,\u001b[1m)\u001b[0m, \u001b[33meps\u001b[0m=\u001b[1;36m1e\u001b[0m\u001b[1;36m-05\u001b[0m, \u001b[33melementwise_affine\u001b[0m=\u001b[3;92mTrue\u001b[0m\u001b[1m)\u001b[0m\n",
              "        \u001b[1m(\u001b[0mnorm3\u001b[1m)\u001b[0m: \u001b[1;35mLayerNorm\u001b[0m\u001b[1m(\u001b[0m\u001b[1m(\u001b[0m\u001b[1;36m512\u001b[0m,\u001b[1m)\u001b[0m, \u001b[33meps\u001b[0m=\u001b[1;36m1e\u001b[0m\u001b[1;36m-05\u001b[0m, \u001b[33melementwise_affine\u001b[0m=\u001b[3;92mTrue\u001b[0m\u001b[1m)\u001b[0m\n",
              "        \u001b[1m(\u001b[0mdropout1\u001b[1m)\u001b[0m: \u001b[1;35mDropout\u001b[0m\u001b[1m(\u001b[0m\u001b[33mp\u001b[0m=\u001b[1;36m0\u001b[0m\u001b[1;36m.1\u001b[0m, \u001b[33minplace\u001b[0m=\u001b[3;91mFalse\u001b[0m\u001b[1m)\u001b[0m\n",
              "        \u001b[1m(\u001b[0mdropout2\u001b[1m)\u001b[0m: \u001b[1;35mDropout\u001b[0m\u001b[1m(\u001b[0m\u001b[33mp\u001b[0m=\u001b[1;36m0\u001b[0m\u001b[1;36m.1\u001b[0m, \u001b[33minplace\u001b[0m=\u001b[3;91mFalse\u001b[0m\u001b[1m)\u001b[0m\n",
              "        \u001b[1m(\u001b[0mdropout3\u001b[1m)\u001b[0m: \u001b[1;35mDropout\u001b[0m\u001b[1m(\u001b[0m\u001b[33mp\u001b[0m=\u001b[1;36m0\u001b[0m\u001b[1;36m.1\u001b[0m, \u001b[33minplace\u001b[0m=\u001b[3;91mFalse\u001b[0m\u001b[1m)\u001b[0m\n",
              "      \u001b[1m)\u001b[0m\n",
              "      \u001b[1m(\u001b[0m\u001b[1;36m2\u001b[0m\u001b[1m)\u001b[0m: \u001b[1;35mTransformerDecoderLayer\u001b[0m\u001b[1m(\u001b[0m\n",
              "        \u001b[1m(\u001b[0mself_attn\u001b[1m)\u001b[0m: \u001b[1;35mMultiheadAttention\u001b[0m\u001b[1m(\u001b[0m\n",
              "          \u001b[1m(\u001b[0mout_proj\u001b[1m)\u001b[0m: \u001b[1;35m_LinearWithBias\u001b[0m\u001b[1m(\u001b[0m\u001b[33min_features\u001b[0m=\u001b[1;36m512\u001b[0m, \u001b[33mout_features\u001b[0m=\u001b[1;36m512\u001b[0m, \u001b[33mbias\u001b[0m=\u001b[3;92mTrue\u001b[0m\u001b[1m)\u001b[0m\n",
              "        \u001b[1m)\u001b[0m\n",
              "        \u001b[1m(\u001b[0mmultihead_attn\u001b[1m)\u001b[0m: \u001b[1;35mMultiheadAttention\u001b[0m\u001b[1m(\u001b[0m\n",
              "          \u001b[1m(\u001b[0mout_proj\u001b[1m)\u001b[0m: \u001b[1;35m_LinearWithBias\u001b[0m\u001b[1m(\u001b[0m\u001b[33min_features\u001b[0m=\u001b[1;36m512\u001b[0m, \u001b[33mout_features\u001b[0m=\u001b[1;36m512\u001b[0m, \u001b[33mbias\u001b[0m=\u001b[3;92mTrue\u001b[0m\u001b[1m)\u001b[0m\n",
              "        \u001b[1m)\u001b[0m\n",
              "        \u001b[1m(\u001b[0mlinear1\u001b[1m)\u001b[0m: \u001b[1;35mLinear\u001b[0m\u001b[1m(\u001b[0m\u001b[33min_features\u001b[0m=\u001b[1;36m512\u001b[0m, \u001b[33mout_features\u001b[0m=\u001b[1;36m512\u001b[0m, \u001b[33mbias\u001b[0m=\u001b[3;92mTrue\u001b[0m\u001b[1m)\u001b[0m\n",
              "        \u001b[1m(\u001b[0mdropout\u001b[1m)\u001b[0m: \u001b[1;35mDropout\u001b[0m\u001b[1m(\u001b[0m\u001b[33mp\u001b[0m=\u001b[1;36m0\u001b[0m\u001b[1;36m.1\u001b[0m, \u001b[33minplace\u001b[0m=\u001b[3;91mFalse\u001b[0m\u001b[1m)\u001b[0m\n",
              "        \u001b[1m(\u001b[0mlinear2\u001b[1m)\u001b[0m: \u001b[1;35mLinear\u001b[0m\u001b[1m(\u001b[0m\u001b[33min_features\u001b[0m=\u001b[1;36m512\u001b[0m, \u001b[33mout_features\u001b[0m=\u001b[1;36m512\u001b[0m, \u001b[33mbias\u001b[0m=\u001b[3;92mTrue\u001b[0m\u001b[1m)\u001b[0m\n",
              "        \u001b[1m(\u001b[0mnorm1\u001b[1m)\u001b[0m: \u001b[1;35mLayerNorm\u001b[0m\u001b[1m(\u001b[0m\u001b[1m(\u001b[0m\u001b[1;36m512\u001b[0m,\u001b[1m)\u001b[0m, \u001b[33meps\u001b[0m=\u001b[1;36m1e\u001b[0m\u001b[1;36m-05\u001b[0m, \u001b[33melementwise_affine\u001b[0m=\u001b[3;92mTrue\u001b[0m\u001b[1m)\u001b[0m\n",
              "        \u001b[1m(\u001b[0mnorm2\u001b[1m)\u001b[0m: \u001b[1;35mLayerNorm\u001b[0m\u001b[1m(\u001b[0m\u001b[1m(\u001b[0m\u001b[1;36m512\u001b[0m,\u001b[1m)\u001b[0m, \u001b[33meps\u001b[0m=\u001b[1;36m1e\u001b[0m\u001b[1;36m-05\u001b[0m, \u001b[33melementwise_affine\u001b[0m=\u001b[3;92mTrue\u001b[0m\u001b[1m)\u001b[0m\n",
              "        \u001b[1m(\u001b[0mnorm3\u001b[1m)\u001b[0m: \u001b[1;35mLayerNorm\u001b[0m\u001b[1m(\u001b[0m\u001b[1m(\u001b[0m\u001b[1;36m512\u001b[0m,\u001b[1m)\u001b[0m, \u001b[33meps\u001b[0m=\u001b[1;36m1e\u001b[0m\u001b[1;36m-05\u001b[0m, \u001b[33melementwise_affine\u001b[0m=\u001b[3;92mTrue\u001b[0m\u001b[1m)\u001b[0m\n",
              "        \u001b[1m(\u001b[0mdropout1\u001b[1m)\u001b[0m: \u001b[1;35mDropout\u001b[0m\u001b[1m(\u001b[0m\u001b[33mp\u001b[0m=\u001b[1;36m0\u001b[0m\u001b[1;36m.1\u001b[0m, \u001b[33minplace\u001b[0m=\u001b[3;91mFalse\u001b[0m\u001b[1m)\u001b[0m\n",
              "        \u001b[1m(\u001b[0mdropout2\u001b[1m)\u001b[0m: \u001b[1;35mDropout\u001b[0m\u001b[1m(\u001b[0m\u001b[33mp\u001b[0m=\u001b[1;36m0\u001b[0m\u001b[1;36m.1\u001b[0m, \u001b[33minplace\u001b[0m=\u001b[3;91mFalse\u001b[0m\u001b[1m)\u001b[0m\n",
              "        \u001b[1m(\u001b[0mdropout3\u001b[1m)\u001b[0m: \u001b[1;35mDropout\u001b[0m\u001b[1m(\u001b[0m\u001b[33mp\u001b[0m=\u001b[1;36m0\u001b[0m\u001b[1;36m.1\u001b[0m, \u001b[33minplace\u001b[0m=\u001b[3;91mFalse\u001b[0m\u001b[1m)\u001b[0m\n",
              "      \u001b[1m)\u001b[0m\n",
              "      \u001b[1m(\u001b[0m\u001b[1;36m3\u001b[0m\u001b[1m)\u001b[0m: \u001b[1;35mTransformerDecoderLayer\u001b[0m\u001b[1m(\u001b[0m\n",
              "        \u001b[1m(\u001b[0mself_attn\u001b[1m)\u001b[0m: \u001b[1;35mMultiheadAttention\u001b[0m\u001b[1m(\u001b[0m\n",
              "          \u001b[1m(\u001b[0mout_proj\u001b[1m)\u001b[0m: \u001b[1;35m_LinearWithBias\u001b[0m\u001b[1m(\u001b[0m\u001b[33min_features\u001b[0m=\u001b[1;36m512\u001b[0m, \u001b[33mout_features\u001b[0m=\u001b[1;36m512\u001b[0m, \u001b[33mbias\u001b[0m=\u001b[3;92mTrue\u001b[0m\u001b[1m)\u001b[0m\n",
              "        \u001b[1m)\u001b[0m\n",
              "        \u001b[1m(\u001b[0mmultihead_attn\u001b[1m)\u001b[0m: \u001b[1;35mMultiheadAttention\u001b[0m\u001b[1m(\u001b[0m\n",
              "          \u001b[1m(\u001b[0mout_proj\u001b[1m)\u001b[0m: \u001b[1;35m_LinearWithBias\u001b[0m\u001b[1m(\u001b[0m\u001b[33min_features\u001b[0m=\u001b[1;36m512\u001b[0m, \u001b[33mout_features\u001b[0m=\u001b[1;36m512\u001b[0m, \u001b[33mbias\u001b[0m=\u001b[3;92mTrue\u001b[0m\u001b[1m)\u001b[0m\n",
              "        \u001b[1m)\u001b[0m\n",
              "        \u001b[1m(\u001b[0mlinear1\u001b[1m)\u001b[0m: \u001b[1;35mLinear\u001b[0m\u001b[1m(\u001b[0m\u001b[33min_features\u001b[0m=\u001b[1;36m512\u001b[0m, \u001b[33mout_features\u001b[0m=\u001b[1;36m512\u001b[0m, \u001b[33mbias\u001b[0m=\u001b[3;92mTrue\u001b[0m\u001b[1m)\u001b[0m\n",
              "        \u001b[1m(\u001b[0mdropout\u001b[1m)\u001b[0m: \u001b[1;35mDropout\u001b[0m\u001b[1m(\u001b[0m\u001b[33mp\u001b[0m=\u001b[1;36m0\u001b[0m\u001b[1;36m.1\u001b[0m, \u001b[33minplace\u001b[0m=\u001b[3;91mFalse\u001b[0m\u001b[1m)\u001b[0m\n",
              "        \u001b[1m(\u001b[0mlinear2\u001b[1m)\u001b[0m: \u001b[1;35mLinear\u001b[0m\u001b[1m(\u001b[0m\u001b[33min_features\u001b[0m=\u001b[1;36m512\u001b[0m, \u001b[33mout_features\u001b[0m=\u001b[1;36m512\u001b[0m, \u001b[33mbias\u001b[0m=\u001b[3;92mTrue\u001b[0m\u001b[1m)\u001b[0m\n",
              "        \u001b[1m(\u001b[0mnorm1\u001b[1m)\u001b[0m: \u001b[1;35mLayerNorm\u001b[0m\u001b[1m(\u001b[0m\u001b[1m(\u001b[0m\u001b[1;36m512\u001b[0m,\u001b[1m)\u001b[0m, \u001b[33meps\u001b[0m=\u001b[1;36m1e\u001b[0m\u001b[1;36m-05\u001b[0m, \u001b[33melementwise_affine\u001b[0m=\u001b[3;92mTrue\u001b[0m\u001b[1m)\u001b[0m\n",
              "        \u001b[1m(\u001b[0mnorm2\u001b[1m)\u001b[0m: \u001b[1;35mLayerNorm\u001b[0m\u001b[1m(\u001b[0m\u001b[1m(\u001b[0m\u001b[1;36m512\u001b[0m,\u001b[1m)\u001b[0m, \u001b[33meps\u001b[0m=\u001b[1;36m1e\u001b[0m\u001b[1;36m-05\u001b[0m, \u001b[33melementwise_affine\u001b[0m=\u001b[3;92mTrue\u001b[0m\u001b[1m)\u001b[0m\n",
              "        \u001b[1m(\u001b[0mnorm3\u001b[1m)\u001b[0m: \u001b[1;35mLayerNorm\u001b[0m\u001b[1m(\u001b[0m\u001b[1m(\u001b[0m\u001b[1;36m512\u001b[0m,\u001b[1m)\u001b[0m, \u001b[33meps\u001b[0m=\u001b[1;36m1e\u001b[0m\u001b[1;36m-05\u001b[0m, \u001b[33melementwise_affine\u001b[0m=\u001b[3;92mTrue\u001b[0m\u001b[1m)\u001b[0m\n",
              "        \u001b[1m(\u001b[0mdropout1\u001b[1m)\u001b[0m: \u001b[1;35mDropout\u001b[0m\u001b[1m(\u001b[0m\u001b[33mp\u001b[0m=\u001b[1;36m0\u001b[0m\u001b[1;36m.1\u001b[0m, \u001b[33minplace\u001b[0m=\u001b[3;91mFalse\u001b[0m\u001b[1m)\u001b[0m\n",
              "        \u001b[1m(\u001b[0mdropout2\u001b[1m)\u001b[0m: \u001b[1;35mDropout\u001b[0m\u001b[1m(\u001b[0m\u001b[33mp\u001b[0m=\u001b[1;36m0\u001b[0m\u001b[1;36m.1\u001b[0m, \u001b[33minplace\u001b[0m=\u001b[3;91mFalse\u001b[0m\u001b[1m)\u001b[0m\n",
              "        \u001b[1m(\u001b[0mdropout3\u001b[1m)\u001b[0m: \u001b[1;35mDropout\u001b[0m\u001b[1m(\u001b[0m\u001b[33mp\u001b[0m=\u001b[1;36m0\u001b[0m\u001b[1;36m.1\u001b[0m, \u001b[33minplace\u001b[0m=\u001b[3;91mFalse\u001b[0m\u001b[1m)\u001b[0m\n",
              "      \u001b[1m)\u001b[0m\n",
              "    \u001b[1m)\u001b[0m\n",
              "  \u001b[1m)\u001b[0m\n",
              "  \u001b[1m(\u001b[0mgenerator\u001b[1m)\u001b[0m: \u001b[1;35mLinear\u001b[0m\u001b[1m(\u001b[0m\u001b[33min_features\u001b[0m=\u001b[1;36m512\u001b[0m, \u001b[33mout_features\u001b[0m=\u001b[1;36m50\u001b[0m, \u001b[33mbias\u001b[0m=\u001b[3;92mTrue\u001b[0m\u001b[1m)\u001b[0m\n",
              "  \u001b[1m(\u001b[0msrc_tok_emb\u001b[1m)\u001b[0m: \u001b[1;35mTokenEmbedding\u001b[0m\u001b[1m(\u001b[0m\n",
              "    \u001b[1m(\u001b[0membedding\u001b[1m)\u001b[0m: \u001b[1;35mEmbedding\u001b[0m\u001b[1m(\u001b[0m\u001b[1;36m52\u001b[0m, \u001b[1;36m512\u001b[0m\u001b[1m)\u001b[0m\n",
              "  \u001b[1m)\u001b[0m\n",
              "  \u001b[1m(\u001b[0mtgt_tok_emb\u001b[1m)\u001b[0m: \u001b[1;35mTokenEmbedding\u001b[0m\u001b[1m(\u001b[0m\n",
              "    \u001b[1m(\u001b[0membedding\u001b[1m)\u001b[0m: \u001b[1;35mEmbedding\u001b[0m\u001b[1m(\u001b[0m\u001b[1;36m50\u001b[0m, \u001b[1;36m512\u001b[0m\u001b[1m)\u001b[0m\n",
              "  \u001b[1m)\u001b[0m\n",
              "  \u001b[1m(\u001b[0mpositional_encoding\u001b[1m)\u001b[0m: \u001b[1;35mPositionalEncoding\u001b[0m\u001b[1m(\u001b[0m\n",
              "    \u001b[1m(\u001b[0mdropout\u001b[1m)\u001b[0m: \u001b[1;35mDropout\u001b[0m\u001b[1m(\u001b[0m\u001b[33mp\u001b[0m=\u001b[1;36m0\u001b[0m\u001b[1;36m.1\u001b[0m, \u001b[33minplace\u001b[0m=\u001b[3;91mFalse\u001b[0m\u001b[1m)\u001b[0m\n",
              "  \u001b[1m)\u001b[0m\n",
              "\u001b[1m)\u001b[0m\n"
            ]
          },
          "metadata": {
            "tags": []
          }
        }
      ]
    },
    {
      "cell_type": "markdown",
      "metadata": {
        "id": "bXSMEOITdq_s"
      },
      "source": [
        "#Save checkpoint"
      ],
      "id": "bXSMEOITdq_s"
    },
    {
      "cell_type": "code",
      "metadata": {
        "id": "Jqj_bDp0iCgl"
      },
      "source": [
        "load_model = True\n",
        "save_model = True"
      ],
      "id": "Jqj_bDp0iCgl",
      "execution_count": 25,
      "outputs": []
    },
    {
      "cell_type": "code",
      "metadata": {
        "id": "MFgGyot-dqR6"
      },
      "source": [
        "def save_checkpoint(state, filename):\n",
        "    #filename=\"my_checkpoint_\"+str(epoch)+\".pth\"\n",
        "    print(\"=> Saving checkpoint\")\n",
        "    torch.save(state, filename)"
      ],
      "id": "MFgGyot-dqR6",
      "execution_count": 26,
      "outputs": []
    },
    {
      "cell_type": "markdown",
      "metadata": {
        "id": "PIW9IxYXe0FK"
      },
      "source": [
        "#Load checkpoint"
      ],
      "id": "PIW9IxYXe0FK"
    },
    {
      "cell_type": "code",
      "metadata": {
        "id": "fSK3X09Me4L-"
      },
      "source": [
        "def load_checkpoint(checkpoint, model, optimizer):\n",
        "    print(\"=> Loading checkpoint\")\n",
        "    model.load_state_dict(checkpoint[\"state_dict\"])\n",
        "    optimizer.load_state_dict(checkpoint[\"optimizer\"])"
      ],
      "id": "fSK3X09Me4L-",
      "execution_count": null,
      "outputs": []
    },
    {
      "cell_type": "code",
      "metadata": {
        "id": "F5Q-dpDvfLSC",
        "colab": {
          "base_uri": "https://localhost:8080/",
          "height": 34
        },
        "outputId": "634f7c4e-6f74-40f2-e398-14df39b4d205"
      },
      "source": [
        "if load_model:\n",
        "    load_checkpoint(torch.load(\"/content/gdrive/MyDrive/code retrosynthesis/checkpoint/my_checkpoint_200.pth\"), transformer, optimizer)\n",
        "\n"
      ],
      "id": "F5Q-dpDvfLSC",
      "execution_count": null,
      "outputs": [
        {
          "output_type": "display_data",
          "data": {
            "text/html": [
              "<pre style=\"white-space:pre;overflow-x:auto;line-height:normal;font-family:Menlo,'DejaVu Sans Mono',consolas,'Courier New',monospace\">=&gt; Loading checkpoint\n",
              "</pre>\n"
            ],
            "text/plain": [
              "=> Loading checkpoint\n"
            ]
          },
          "metadata": {
            "tags": []
          }
        }
      ]
    },
    {
      "cell_type": "markdown",
      "metadata": {
        "id": "iA-ga-sAPhK1"
      },
      "source": [
        "# Train and Evaluate function"
      ],
      "id": "iA-ga-sAPhK1"
    },
    {
      "cell_type": "code",
      "metadata": {
        "id": "obvious-curve"
      },
      "source": [
        "def train_epoch(model, train_iter, optimizer):\n",
        "  model.train()\n",
        "  losses = 0\n",
        "  for idx, (src, tgt) in enumerate(train_iter):\n",
        "      src = src.to(device)\n",
        "      tgt = tgt.to(device)\n",
        "\n",
        "      tgt_input = tgt[:-1, :]\n",
        "\n",
        "      src_mask, tgt_mask, src_padding_mask, tgt_padding_mask = create_mask(src, tgt_input)\n",
        "\n",
        "      logits = model(src, tgt_input, src_mask, tgt_mask,\n",
        "                                src_padding_mask, tgt_padding_mask, src_padding_mask)\n",
        "\n",
        "      optimizer.zero_grad()\n",
        "\n",
        "      tgt_out = tgt[1:,:]\n",
        "      loss = loss_fn(logits.reshape(-1, logits.shape[-1]), tgt_out.reshape(-1))\n",
        "      loss.backward()\n",
        "\n",
        "      optimizer.step()\n",
        "      losses += loss.item()\n",
        "  return losses / len(train_iter)\n",
        "\n",
        "\n",
        "def evaluate(model, val_iter):\n",
        "  model.eval()\n",
        "  losses = 0\n",
        "  for idx, (src, tgt) in (enumerate(valid_iter)):\n",
        "    src = src.to(device)\n",
        "    tgt = tgt.to(device)\n",
        "\n",
        "    tgt_input = tgt[:-1, :]\n",
        "\n",
        "    src_mask, tgt_mask, src_padding_mask, tgt_padding_mask = create_mask(src, tgt_input)\n",
        "\n",
        "    logits = model(src, tgt_input, src_mask, tgt_mask,\n",
        "                              src_padding_mask, tgt_padding_mask, src_padding_mask)\n",
        "    tgt_out = tgt[1:,:]\n",
        "    loss = loss_fn(logits.reshape(-1, logits.shape[-1]), tgt_out.reshape(-1))\n",
        "    losses += loss.item()\n",
        "  return losses / len(val_iter)"
      ],
      "id": "obvious-curve",
      "execution_count": 27,
      "outputs": []
    },
    {
      "cell_type": "markdown",
      "metadata": {
        "id": "XNv4SGj-FN0h"
      },
      "source": [
        "#Train model"
      ],
      "id": "XNv4SGj-FN0h"
    },
    {
      "cell_type": "code",
      "metadata": {
        "colab": {
          "base_uri": "https://localhost:8080/",
          "height": 51
        },
        "id": "palestinian-singapore",
        "outputId": "cfd699ec-75fb-4c17-9de4-e4ed8b6619cd"
      },
      "source": [
        "train_loss_ex = []\n",
        "val_loss_ex = []\n",
        "epoch_ex=[]\n",
        "for epoch in range(1, NUM_EPOCHS+1):\n",
        "  start_time = time.time()\n",
        "  train_loss = train_epoch(transformer, train_iter, optimizer)\n",
        "  end_time = time.time()\n",
        "  val_loss = evaluate(transformer, valid_iter)\n",
        "  #Save the general checkpoint\n",
        "  if epoch%100==0:\n",
        "    filename=\"my_checkpoint_\"+str(epoch)+\".pth\"\n",
        "    print(\"true\")\n",
        "    checkpoint = {\"state_dict\": transformer.state_dict(),\"optimizer\": optimizer.state_dict(),}\n",
        "    save_checkpoint(checkpoint,filename)\n",
        "\n",
        "  print((f\"Epoch: {epoch}, Train loss: {train_loss:.3f}, Val loss: {val_loss:.3f}, \"\n",
        "          f\"Epoch time = {(end_time - start_time):.3f}s\"))\n",
        "  #plot\n",
        "  train_loss_ex.append(train_loss)\n",
        "  epoch_ex.append(epoch)\n",
        "  val_loss_ex.append(val_loss)\n",
        "  \n",
        "print(\"Done!\")"
      ],
      "id": "palestinian-singapore",
      "execution_count": null,
      "outputs": [
        {
          "output_type": "display_data",
          "data": {
            "text/html": [
              "<pre style=\"white-space:pre;overflow-x:auto;line-height:normal;font-family:Menlo,'DejaVu Sans Mono',consolas,'Courier New',monospace\">Epoch: <span style=\"color: #008080; text-decoration-color: #008080; font-weight: bold\">1</span>, Train loss: <span style=\"color: #008080; text-decoration-color: #008080; font-weight: bold\">0.023</span>, Val loss: <span style=\"color: #008080; text-decoration-color: #008080; font-weight: bold\">0.134</span>, Epoch time = <span style=\"color: #008080; text-decoration-color: #008080; font-weight: bold\">94.</span>601s\n",
              "</pre>\n"
            ],
            "text/plain": [
              "Epoch: \u001b[1;36m1\u001b[0m, Train loss: \u001b[1;36m0.023\u001b[0m, Val loss: \u001b[1;36m0.134\u001b[0m, Epoch time = \u001b[1;36m94.\u001b[0m601s\n"
            ]
          },
          "metadata": {
            "tags": []
          }
        },
        {
          "output_type": "display_data",
          "data": {
            "text/html": [
              "<pre style=\"white-space:pre;overflow-x:auto;line-height:normal;font-family:Menlo,'DejaVu Sans Mono',consolas,'Courier New',monospace\">Done!\n",
              "</pre>\n"
            ],
            "text/plain": [
              "Done!\n"
            ]
          },
          "metadata": {
            "tags": []
          }
        }
      ]
    },
    {
      "cell_type": "markdown",
      "metadata": {
        "id": "_G6RxBQKZECv"
      },
      "source": [
        "#Plot graph"
      ],
      "id": "_G6RxBQKZECv"
    },
    {
      "cell_type": "code",
      "metadata": {
        "colab": {
          "base_uri": "https://localhost:8080/",
          "height": 350
        },
        "id": "OgMZrMbwP_VO",
        "outputId": "1ad5317c-a589-4256-cbb2-33cc97aaffb0"
      },
      "source": [
        "#https://machinelearningmastery.com/display-deep-learning-model-training-history-in-keras/\n",
        "import numpy as np\n",
        "#https://pytorch.org/tutorials/beginner/fgsm_tutorial.html\n",
        "plt.figure(figsize=(5,5))\n",
        "plt.plot(train_loss_ex)\n",
        "plt.plot(val_loss_ex)\n",
        "#plt.yticks(np.arange(0.2, 1.5, step=0.1))\n",
        "#plt.xticks(np.arange(1, 15, step=1))\n",
        "plt.title(\"model loss\")\n",
        "plt.xlabel(\"Epoch\")\n",
        "plt.ylabel(\"Loss\")\n",
        "plt.legend(['train', 'val'], loc='upper left')\n",
        "plt.show()"
      ],
      "id": "OgMZrMbwP_VO",
      "execution_count": null,
      "outputs": [
        {
          "output_type": "display_data",
          "data": {
            "image/png": "[encoded data removed]",
            "text/plain": [
              "<Figure size 360x360 with 1 Axes>"
            ]
          },
          "metadata": {
            "tags": [],
            "needs_background": "light"
          }
        }
      ]
    },
    {
      "cell_type": "code",
      "metadata": {
        "id": "vuD7kQ2U8Ywj"
      },
      "source": [
        "#total_data_loss = pd.Series(epoch_ex,train_loss_ex,val_loss_ex)\n",
        "total_train_loss = pd.Series(train_loss_ex)\n",
        "total_val_loss = pd.Series(val_loss_ex)\n",
        "total_train_loss=pd.DataFrame(total_train_loss, columns=[\"train loss\"])\n",
        "total_val_loss =pd.DataFrame(total_val_loss, columns=[\"val loss\"])\n",
        "total_data_loss=pd.concat([total_train_loss,total_val_loss], axis=1)\n",
        "total_train_loss\n",
        "total_data_loss.to_csv(r'total_loss.csv',  index=None)"
      ],
      "id": "vuD7kQ2U8Ywj",
      "execution_count": null,
      "outputs": []
    },
    {
      "cell_type": "markdown",
      "metadata": {
        "id": "BR18XFXdTnG5"
      },
      "source": [
        "# Save model"
      ],
      "id": "BR18XFXdTnG5"
    },
    {
      "cell_type": "code",
      "metadata": {
        "id": "G6LO44AGTiGC"
      },
      "source": [
        "#https://pytorch.org/tutorials/beginner/basics/saveloadrun_tutorial.html"
      ],
      "id": "G6LO44AGTiGC",
      "execution_count": null,
      "outputs": []
    },
    {
      "cell_type": "code",
      "metadata": {
        "id": "Dp04s1QPSggC"
      },
      "source": [
        "save_name=\"model_tranformer_epochs_\"+str(NUM_EPOCHS)+\".pth\"\n",
        "torch.save(transformer,save_name)"
      ],
      "id": "Dp04s1QPSggC",
      "execution_count": null,
      "outputs": []
    },
    {
      "cell_type": "code",
      "metadata": {
        "colab": {
          "base_uri": "https://localhost:8080/",
          "height": 17
        },
        "id": "G727aVpIfFNd",
        "outputId": "e99f1ac2-5b99-44a7-a953-40aa2f8ec7b6"
      },
      "source": [
        "from google.colab import files\n",
        "files.download(save_name)"
      ],
      "id": "G727aVpIfFNd",
      "execution_count": null,
      "outputs": [
        {
          "output_type": "display_data",
          "data": {
            "application/javascript": [
              "\n",
              "    async function download(id, filename, size) {\n",
              "      if (!google.colab.kernel.accessAllowed) {\n",
              "        return;\n",
              "      }\n",
              "      const div = document.createElement('div');\n",
              "      const label = document.createElement('label');\n",
              "      label.textContent = `Downloading \"${filename}\": `;\n",
              "      div.appendChild(label);\n",
              "      const progress = document.createElement('progress');\n",
              "      progress.max = size;\n",
              "      div.appendChild(progress);\n",
              "      document.body.appendChild(div);\n",
              "\n",
              "      const buffers = [];\n",
              "      let downloaded = 0;\n",
              "\n",
              "      const channel = await google.colab.kernel.comms.open(id);\n",
              "      // Send a message to notify the kernel that we're ready.\n",
              "      channel.send({})\n",
              "\n",
              "      for await (const message of channel.messages) {\n",
              "        // Send a message to notify the kernel that we're ready.\n",
              "        channel.send({})\n",
              "        if (message.buffers) {\n",
              "          for (const buffer of message.buffers) {\n",
              "            buffers.push(buffer);\n",
              "            downloaded += buffer.byteLength;\n",
              "            progress.value = downloaded;\n",
              "          }\n",
              "        }\n",
              "      }\n",
              "      const blob = new Blob(buffers, {type: 'application/binary'});\n",
              "      const a = document.createElement('a');\n",
              "      a.href = window.URL.createObjectURL(blob);\n",
              "      a.download = filename;\n",
              "      div.appendChild(a);\n",
              "      a.click();\n",
              "      div.remove();\n",
              "    }\n",
              "  "
            ],
            "text/plain": [
              "<IPython.core.display.Javascript object>"
            ]
          },
          "metadata": {
            "tags": []
          }
        },
        {
          "output_type": "display_data",
          "data": {
            "application/javascript": [
              "download(\"download_fe2af2ce-d093-43bf-88aa-fb0e74f98523\", \"model_tranformer_epochs_500.pth\", 61089158)"
            ],
            "text/plain": [
              "<IPython.core.display.Javascript object>"
            ]
          },
          "metadata": {
            "tags": []
          }
        }
      ]
    },
    {
      "cell_type": "markdown",
      "metadata": {
        "id": "CG4a4hNDDzie"
      },
      "source": [
        "save file .pt"
      ],
      "id": "CG4a4hNDDzie"
    },
    {
      "cell_type": "code",
      "metadata": {
        "id": "LAInYkolDgXE"
      },
      "source": [
        "save_name_pt=\"model_tranformer_epochs_\"+str(NUM_EPOCHS)+\".pt\"\n",
        "torch.save(transformer,save_name_pt)"
      ],
      "id": "LAInYkolDgXE",
      "execution_count": null,
      "outputs": []
    },
    {
      "cell_type": "code",
      "metadata": {
        "colab": {
          "base_uri": "https://localhost:8080/",
          "height": 34
        },
        "id": "Wn2T5UBGDkBe",
        "outputId": "41dd0d91-3cf7-42f0-a978-6198e6c10482"
      },
      "source": [
        "files.download(\"/content/my_checkpoint_300.pth\")"
      ],
      "id": "Wn2T5UBGDkBe",
      "execution_count": null,
      "outputs": [
        {
          "output_type": "display_data",
          "data": {
            "application/javascript": [
              "\n",
              "    async function download(id, filename, size) {\n",
              "      if (!google.colab.kernel.accessAllowed) {\n",
              "        return;\n",
              "      }\n",
              "      const div = document.createElement('div');\n",
              "      const label = document.createElement('label');\n",
              "      label.textContent = `Downloading \"${filename}\": `;\n",
              "      div.appendChild(label);\n",
              "      const progress = document.createElement('progress');\n",
              "      progress.max = size;\n",
              "      div.appendChild(progress);\n",
              "      document.body.appendChild(div);\n",
              "\n",
              "      const buffers = [];\n",
              "      let downloaded = 0;\n",
              "\n",
              "      const channel = await google.colab.kernel.comms.open(id);\n",
              "      // Send a message to notify the kernel that we're ready.\n",
              "      channel.send({})\n",
              "\n",
              "      for await (const message of channel.messages) {\n",
              "        // Send a message to notify the kernel that we're ready.\n",
              "        channel.send({})\n",
              "        if (message.buffers) {\n",
              "          for (const buffer of message.buffers) {\n",
              "            buffers.push(buffer);\n",
              "            downloaded += buffer.byteLength;\n",
              "            progress.value = downloaded;\n",
              "          }\n",
              "        }\n",
              "      }\n",
              "      const blob = new Blob(buffers, {type: 'application/binary'});\n",
              "      const a = document.createElement('a');\n",
              "      a.href = window.URL.createObjectURL(blob);\n",
              "      a.download = filename;\n",
              "      div.appendChild(a);\n",
              "      a.click();\n",
              "      div.remove();\n",
              "    }\n",
              "  "
            ],
            "text/plain": [
              "<IPython.core.display.Javascript object>"
            ]
          },
          "metadata": {
            "tags": []
          }
        },
        {
          "output_type": "display_data",
          "data": {
            "application/javascript": [
              "download(\"download_56e0e2eb-ceb6-4987-81dd-fcffa59c521f\", \"my_checkpoint_300.pth\", 162747554)"
            ],
            "text/plain": [
              "<IPython.core.display.Javascript object>"
            ]
          },
          "metadata": {
            "tags": []
          }
        }
      ]
    },
    {
      "cell_type": "markdown",
      "metadata": {
        "id": "oo_0B6raTtaI"
      },
      "source": [
        "# Load model"
      ],
      "id": "oo_0B6raTtaI"
    },
    {
      "cell_type": "code",
      "metadata": {
        "id": "tyaO_Dw7ThW9"
      },
      "source": [
        "model = torch.load('/content/gdrive/MyDrive/code retrosynthesis/model/model_tranformer_epochs_500.pth')\n",
        "print(True)"
      ],
      "id": "tyaO_Dw7ThW9",
      "execution_count": 28,
      "outputs": []
    },
    {
      "cell_type": "markdown",
      "metadata": {
        "id": "nhokmIYyT81V"
      },
      "source": [
        "#Translation"
      ],
      "id": "nhokmIYyT81V"
    },
    {
      "cell_type": "code",
      "metadata": {
        "id": "molecular-newton"
      },
      "source": [
        "import pandas as pd\n",
        "import numpy as np"
      ],
      "id": "molecular-newton",
      "execution_count": null,
      "outputs": []
    },
    {
      "cell_type": "code",
      "metadata": {
        "id": "supreme-sword",
        "colab": {
          "base_uri": "https://localhost:8080/"
        },
        "outputId": "6173c5a1-3d90-42a7-ba92-1c953e0845b2"
      },
      "source": [
        "df_src=pd.read_csv(src_filepath,names=[\"input\"])\n",
        "df_tgt=pd.read_csv(tgt_filepath,names=[\"target\"])\n",
        "df = pd.concat([df_src,df_tgt], axis=1)\n",
        "df"
      ],
      "id": "supreme-sword",
      "execution_count": null,
      "outputs": [
        {
          "output_type": "execute_result",
          "data": {
            "text/html": [
              "<div>\n",
              "<style scoped>\n",
              "    .dataframe tbody tr th:only-of-type {\n",
              "        vertical-align: middle;\n",
              "    }\n",
              "\n",
              "    .dataframe tbody tr th {\n",
              "        vertical-align: top;\n",
              "    }\n",
              "\n",
              "    .dataframe thead th {\n",
              "        text-align: right;\n",
              "    }\n",
              "</style>\n",
              "<table border=\"1\" class=\"dataframe\">\n",
              "  <thead>\n",
              "    <tr style=\"text-align: right;\">\n",
              "      <th></th>\n",
              "      <th>input</th>\n",
              "      <th>target</th>\n",
              "    </tr>\n",
              "  </thead>\n",
              "  <tbody>\n",
              "    <tr>\n",
              "      <th>0</th>\n",
              "      <td>&lt;RX_1&gt; O = C 1 C C [ C @ H ] ( C N 2 C C N ( C...</td>\n",
              "      <td>C S ( = O ) ( = O ) O C [ C @ H ] 1 C C C ( = ...</td>\n",
              "    </tr>\n",
              "    <tr>\n",
              "      <th>1</th>\n",
              "      <td>&lt;RX_6&gt; N c 1 n c 2 [ n H ] c ( C C C c 3 c s c...</td>\n",
              "      <td>C O C ( = O ) c 1 c c ( C C C c 2 c c 3 c ( = ...</td>\n",
              "    </tr>\n",
              "    <tr>\n",
              "      <th>2</th>\n",
              "      <td>&lt;RX_9&gt; C C 1 ( C ) O B ( c 2 c c c c ( N c 3 n...</td>\n",
              "      <td>C C 1 ( C ) O B ( B 2 O C ( C ) ( C ) C ( C ) ...</td>\n",
              "    </tr>\n",
              "    <tr>\n",
              "      <th>3</th>\n",
              "      <td>&lt;RX_6&gt; C C ( C ) ( C ) O C ( = O ) N C C ( = O...</td>\n",
              "      <td>C C ( C ) ( C ) O C ( = O ) N C C ( = O ) C C ...</td>\n",
              "    </tr>\n",
              "    <tr>\n",
              "      <th>4</th>\n",
              "      <td>&lt;RX_1&gt; F c 1 c c 2 c ( N C 3 C C C C C C 3 ) n...</td>\n",
              "      <td>F c 1 c c 2 c ( C l ) n c n c 2 c n 1 . N C 1 ...</td>\n",
              "    </tr>\n",
              "    <tr>\n",
              "      <th>...</th>\n",
              "      <td>...</td>\n",
              "      <td>...</td>\n",
              "    </tr>\n",
              "    <tr>\n",
              "      <th>50032</th>\n",
              "      <td>&lt;RX_1&gt; C C ( C ) ( C ) O C ( = O ) N 1 C C c 2...</td>\n",
              "      <td>C C ( C ) ( C ) O C ( = O ) N 1 C C c 2 c c c ...</td>\n",
              "    </tr>\n",
              "    <tr>\n",
              "      <th>50033</th>\n",
              "      <td>&lt;RX_2&gt; C C ( = O ) O C C N C ( = O ) O C ( C )...</td>\n",
              "      <td>C C ( = O ) C l . C C ( C ) ( C ) O C ( = O ) ...</td>\n",
              "    </tr>\n",
              "    <tr>\n",
              "      <th>50034</th>\n",
              "      <td>&lt;RX_3&gt; C c 1 c c c ( - c 2 c c n c c 2 ) c c 1...</td>\n",
              "      <td>C c 1 c c c ( B r ) c c 1 C = O . O B ( O ) c ...</td>\n",
              "    </tr>\n",
              "    <tr>\n",
              "      <th>50035</th>\n",
              "      <td>&lt;RX_1&gt; C C ( C ) ( C ) O C 1 C [ C @ @ H ] 2 C...</td>\n",
              "      <td>C C ( C ) ( C ) O . O = C C 1 = C [ C @ H ] 2 ...</td>\n",
              "    </tr>\n",
              "    <tr>\n",
              "      <th>50036</th>\n",
              "      <td>&lt;RX_4&gt; F c 1 c c ( B r ) c c 2 [ n H ] c n c 1 2</td>\n",
              "      <td>N c 1 c c ( B r ) c c ( F ) c 1 N . O = C O</td>\n",
              "    </tr>\n",
              "  </tbody>\n",
              "</table>\n",
              "<p>50037 rows × 2 columns</p>\n",
              "</div>"
            ],
            "text/plain": [
              "                                                   input                                             target\n",
              "0      <RX_1> O = C 1 C C [ C @ H ] ( C N 2 C C N ( C...  C S ( = O ) ( = O ) O C [ C @ H ] 1 C C C ( = ...\n",
              "1      <RX_6> N c 1 n c 2 [ n H ] c ( C C C c 3 c s c...  C O C ( = O ) c 1 c c ( C C C c 2 c c 3 c ( = ...\n",
              "2      <RX_9> C C 1 ( C ) O B ( c 2 c c c c ( N c 3 n...  C C 1 ( C ) O B ( B 2 O C ( C ) ( C ) C ( C ) ...\n",
              "3      <RX_6> C C ( C ) ( C ) O C ( = O ) N C C ( = O...  C C ( C ) ( C ) O C ( = O ) N C C ( = O ) C C ...\n",
              "4      <RX_1> F c 1 c c 2 c ( N C 3 C C C C C C 3 ) n...  F c 1 c c 2 c ( C l ) n c n c 2 c n 1 . N C 1 ...\n",
              "...                                                  ...                                                ...\n",
              "50032  <RX_1> C C ( C ) ( C ) O C ( = O ) N 1 C C c 2...  C C ( C ) ( C ) O C ( = O ) N 1 C C c 2 c c c ...\n",
              "50033  <RX_2> C C ( = O ) O C C N C ( = O ) O C ( C )...  C C ( = O ) C l . C C ( C ) ( C ) O C ( = O ) ...\n",
              "50034  <RX_3> C c 1 c c c ( - c 2 c c n c c 2 ) c c 1...  C c 1 c c c ( B r ) c c 1 C = O . O B ( O ) c ...\n",
              "50035  <RX_1> C C ( C ) ( C ) O C 1 C [ C @ @ H ] 2 C...  C C ( C ) ( C ) O . O = C C 1 = C [ C @ H ] 2 ...\n",
              "50036   <RX_4> F c 1 c c ( B r ) c c 2 [ n H ] c n c 1 2        N c 1 c c ( B r ) c c ( F ) c 1 N . O = C O\n",
              "\n",
              "[50037 rows x 2 columns]"
            ]
          },
          "metadata": {
            "tags": []
          },
          "execution_count": 28
        }
      ]
    },
    {
      "cell_type": "code",
      "metadata": {
        "id": "Mx6FphMOK0ZK"
      },
      "source": [
        "def greedy_decode(model, src, src_mask, max_len, start_symbol):\n",
        "    src = src.to(device)\n",
        "    src_mask = src_mask.to(device)\n",
        "\n",
        "    memory = model.encode(src, src_mask)\n",
        "    ys = torch.ones(1, 1).fill_(start_symbol).type(torch.long).to(device)\n",
        "    for i in range(max_len-1):\n",
        "        memory = memory.to(device)\n",
        "        memory_mask = torch.zeros(ys.shape[0], memory.shape[0]).to(device).type(torch.bool)\n",
        "        tgt_mask = (generate_square_subsequent_mask(ys.size(0))\n",
        "                                    .type(torch.bool)).to(device)\n",
        "        out = model.decode(ys, memory, tgt_mask)\n",
        "        out = out.transpose(0, 1)\n",
        "        prob = model.generator(out[:, -1])\n",
        "        _, next_word = torch.max(prob, dim = 1)\n",
        "        next_word = next_word.item()\n",
        "\n",
        "        ys = torch.cat([ys,\n",
        "                        torch.ones(1, 1).type_as(src.data).fill_(next_word)], dim=0)\n",
        "        \n",
        "        if next_word == EOS_IDX:\n",
        "          break\n",
        "    return ys\n",
        "\n",
        "\n",
        "def translate(model, src, src_vocab, tgt_vocab, src_tokenizer):\n",
        "  model.eval()\n",
        "  tokens = [BOS_IDX] + [src_vocab.stoi[tok] for tok in src_tokenizer(src)]+ [EOS_IDX]\n",
        "  num_tokens = len(tokens)\n",
        "  src = (torch.LongTensor(tokens).reshape(num_tokens, 1) )\n",
        "  src_mask = (torch.zeros(num_tokens, num_tokens)).type(torch.bool)\n",
        "  tgt_tokens = greedy_decode(model,  src, src_mask, max_len=num_tokens + 5, start_symbol=BOS_IDX).flatten()\n",
        " \n",
        "  print(\"Product:\"+ \" \"+df.input[i])\n",
        "  print(\"Reaction Real:\"+\" \"+df.target[i])\n",
        "  return print(\"prediction:\"+\" \".join([tgt_vocab.itos[tok] for tok in tgt_tokens]).replace(\"<bos>\", \"\").replace(\"<eos>\", \"\"))\n",
        "  #return \" \".join([tgt_vocab.itos[tok] for tok in tgt_tokens]).replace(\"<bos>\", \"\").replace(\"<eos>\", \"\")"
      ],
      "id": "Mx6FphMOK0ZK",
      "execution_count": null,
      "outputs": []
    },
    {
      "cell_type": "code",
      "metadata": {
        "colab": {
          "base_uri": "https://localhost:8080/"
        },
        "id": "IGGb5BnRFdLj",
        "outputId": "f10a400b-39dc-4b2d-a5ba-b4e02a015331"
      },
      "source": [
        "i=50034\n",
        "translate(transformer, df.input[i], src_vocab, tgt_vocab, tokenizer)"
      ],
      "id": "IGGb5BnRFdLj",
      "execution_count": null,
      "outputs": [
        {
          "output_type": "display_data",
          "data": {
            "text/html": [
              "<pre style=\"white-space:pre;overflow-x:auto;line-height:normal;font-family:Menlo,'DejaVu Sans Mono',consolas,'Courier New',monospace\">Product: <span style=\"font-weight: bold\">&lt;</span><span style=\"color: #ff00ff; text-decoration-color: #ff00ff; font-weight: bold\">RX_3</span><span style=\"font-weight: bold\">&gt;</span> C c <span style=\"color: #008080; text-decoration-color: #008080; font-weight: bold\">1</span> c c c <span style=\"font-weight: bold\">(</span> - c <span style=\"color: #008080; text-decoration-color: #008080; font-weight: bold\">2</span> c c n c c <span style=\"color: #008080; text-decoration-color: #008080; font-weight: bold\">2</span> <span style=\"font-weight: bold\">)</span> c c <span style=\"color: #008080; text-decoration-color: #008080; font-weight: bold\">1</span> C = O\n",
              "</pre>\n"
            ],
            "text/plain": [
              "Product: \u001b[1m<\u001b[0m\u001b[1;95mRX_3\u001b[0m\u001b[1m>\u001b[0m C c \u001b[1;36m1\u001b[0m c c c \u001b[1m(\u001b[0m - c \u001b[1;36m2\u001b[0m c c n c c \u001b[1;36m2\u001b[0m \u001b[1m)\u001b[0m c c \u001b[1;36m1\u001b[0m C = O\n"
            ]
          },
          "metadata": {
            "tags": []
          }
        },
        {
          "output_type": "display_data",
          "data": {
            "text/html": [
              "<pre style=\"white-space:pre;overflow-x:auto;line-height:normal;font-family:Menlo,'DejaVu Sans Mono',consolas,'Courier New',monospace\">Reaction Real: C c <span style=\"color: #008080; text-decoration-color: #008080; font-weight: bold\">1</span> c c c <span style=\"font-weight: bold\">(</span> B r <span style=\"font-weight: bold\">)</span> c c <span style=\"color: #008080; text-decoration-color: #008080; font-weight: bold\">1</span> C = O . O B <span style=\"font-weight: bold\">(</span> O <span style=\"font-weight: bold\">)</span> c <span style=\"color: #008080; text-decoration-color: #008080; font-weight: bold\">1</span> c c n c c <span style=\"color: #008080; text-decoration-color: #008080; font-weight: bold\">1</span>\n",
              "</pre>\n"
            ],
            "text/plain": [
              "Reaction Real: C c \u001b[1;36m1\u001b[0m c c c \u001b[1m(\u001b[0m B r \u001b[1m)\u001b[0m c c \u001b[1;36m1\u001b[0m C = O . O B \u001b[1m(\u001b[0m O \u001b[1m)\u001b[0m c \u001b[1;36m1\u001b[0m c c n c c \u001b[1;36m1\u001b[0m\n"
            ]
          },
          "metadata": {
            "tags": []
          }
        },
        {
          "output_type": "display_data",
          "data": {
            "text/html": [
              "<pre style=\"white-space:pre;overflow-x:auto;line-height:normal;font-family:Menlo,'DejaVu Sans Mono',consolas,'Courier New',monospace\">prediction: <span style=\"font-weight: bold\">&lt;</span><span style=\"color: #ff00ff; text-decoration-color: #ff00ff; font-weight: bold\">unk</span><span style=\"font-weight: bold\">&gt;</span> <span style=\"font-weight: bold\">&lt;</span><span style=\"color: #ff00ff; text-decoration-color: #ff00ff; font-weight: bold\">unk</span><span style=\"font-weight: bold\">&gt;</span> <span style=\"font-weight: bold\">&lt;</span><span style=\"color: #ff00ff; text-decoration-color: #ff00ff; font-weight: bold\">unk</span><span style=\"font-weight: bold\">&gt;</span> <span style=\"font-weight: bold\">&lt;</span><span style=\"color: #ff00ff; text-decoration-color: #ff00ff; font-weight: bold\">unk</span><span style=\"font-weight: bold\">&gt;</span> <span style=\"font-weight: bold\">&lt;</span><span style=\"color: #ff00ff; text-decoration-color: #ff00ff; font-weight: bold\">unk</span><span style=\"font-weight: bold\">&gt;</span> <span style=\"font-weight: bold\">&lt;</span><span style=\"color: #ff00ff; text-decoration-color: #ff00ff; font-weight: bold\">unk</span><span style=\"font-weight: bold\">&gt;</span> <span style=\"font-weight: bold\">&lt;</span><span style=\"color: #ff00ff; text-decoration-color: #ff00ff; font-weight: bold\">unk</span><span style=\"font-weight: bold\">&gt;</span> <span style=\"font-weight: bold\">&lt;</span><span style=\"color: #ff00ff; text-decoration-color: #ff00ff; font-weight: bold\">unk</span><span style=\"font-weight: bold\">&gt;</span> <span style=\"font-weight: bold\">&lt;</span><span style=\"color: #ff00ff; text-decoration-color: #ff00ff; font-weight: bold\">unk</span><span style=\"font-weight: bold\">&gt;</span> <span style=\"font-weight: bold\">&lt;</span><span style=\"color: #ff00ff; text-decoration-color: #ff00ff; font-weight: bold\">unk</span><span style=\"font-weight: bold\">&gt;</span> <span style=\"font-weight: bold\">&lt;</span><span style=\"color: #ff00ff; text-decoration-color: #ff00ff; font-weight: bold\">unk</span><span style=\"font-weight: bold\">&gt;</span> <span style=\"font-weight: bold\">&lt;</span><span style=\"color: #ff00ff; text-decoration-color: #ff00ff; font-weight: bold\">unk</span><span style=\"font-weight: bold\">&gt;</span> <span style=\"font-weight: bold\">&lt;</span><span style=\"color: #ff00ff; text-decoration-color: #ff00ff; font-weight: bold\">unk</span><span style=\"font-weight: bold\">&gt;</span> \n",
              "<span style=\"font-weight: bold\">&lt;</span><span style=\"color: #ff00ff; text-decoration-color: #ff00ff; font-weight: bold\">unk</span><span style=\"font-weight: bold\">&gt;</span> <span style=\"font-weight: bold\">&lt;</span><span style=\"color: #ff00ff; text-decoration-color: #ff00ff; font-weight: bold\">unk</span><span style=\"font-weight: bold\">&gt;</span> <span style=\"font-weight: bold\">&lt;</span><span style=\"color: #ff00ff; text-decoration-color: #ff00ff; font-weight: bold\">unk</span><span style=\"font-weight: bold\">&gt;</span> <span style=\"font-weight: bold\">&lt;</span><span style=\"color: #ff00ff; text-decoration-color: #ff00ff; font-weight: bold\">unk</span><span style=\"font-weight: bold\">&gt;</span> <span style=\"font-weight: bold\">&lt;</span><span style=\"color: #ff00ff; text-decoration-color: #ff00ff; font-weight: bold\">unk</span><span style=\"font-weight: bold\">&gt;</span> <span style=\"font-weight: bold\">&lt;</span><span style=\"color: #ff00ff; text-decoration-color: #ff00ff; font-weight: bold\">unk</span><span style=\"font-weight: bold\">&gt;</span> <span style=\"font-weight: bold\">&lt;</span><span style=\"color: #ff00ff; text-decoration-color: #ff00ff; font-weight: bold\">unk</span><span style=\"font-weight: bold\">&gt;</span> <span style=\"font-weight: bold\">&lt;</span><span style=\"color: #ff00ff; text-decoration-color: #ff00ff; font-weight: bold\">unk</span><span style=\"font-weight: bold\">&gt;</span> <span style=\"font-weight: bold\">&lt;</span><span style=\"color: #ff00ff; text-decoration-color: #ff00ff; font-weight: bold\">unk</span><span style=\"font-weight: bold\">&gt;</span> <span style=\"font-weight: bold\">&lt;</span><span style=\"color: #ff00ff; text-decoration-color: #ff00ff; font-weight: bold\">unk</span><span style=\"font-weight: bold\">&gt;</span> <span style=\"font-weight: bold\">&lt;</span><span style=\"color: #ff00ff; text-decoration-color: #ff00ff; font-weight: bold\">unk</span><span style=\"font-weight: bold\">&gt;</span> <span style=\"font-weight: bold\">&lt;</span><span style=\"color: #ff00ff; text-decoration-color: #ff00ff; font-weight: bold\">unk</span><span style=\"font-weight: bold\">&gt;</span> <span style=\"font-weight: bold\">&lt;</span><span style=\"color: #ff00ff; text-decoration-color: #ff00ff; font-weight: bold\">unk</span><span style=\"font-weight: bold\">&gt;</span> <span style=\"font-weight: bold\">&lt;</span><span style=\"color: #ff00ff; text-decoration-color: #ff00ff; font-weight: bold\">unk</span><span style=\"font-weight: bold\">&gt;</span> <span style=\"font-weight: bold\">&lt;</span><span style=\"color: #ff00ff; text-decoration-color: #ff00ff; font-weight: bold\">unk</span><span style=\"font-weight: bold\">&gt;</span> \n",
              "<span style=\"font-weight: bold\">&lt;</span><span style=\"color: #ff00ff; text-decoration-color: #ff00ff; font-weight: bold\">unk</span><span style=\"font-weight: bold\">&gt;</span> <span style=\"font-weight: bold\">&lt;</span><span style=\"color: #ff00ff; text-decoration-color: #ff00ff; font-weight: bold\">unk</span><span style=\"font-weight: bold\">&gt;</span>\n",
              "</pre>\n"
            ],
            "text/plain": [
              "prediction: \u001b[1m<\u001b[0m\u001b[1;95munk\u001b[0m\u001b[1m>\u001b[0m \u001b[1m<\u001b[0m\u001b[1;95munk\u001b[0m\u001b[1m>\u001b[0m \u001b[1m<\u001b[0m\u001b[1;95munk\u001b[0m\u001b[1m>\u001b[0m \u001b[1m<\u001b[0m\u001b[1;95munk\u001b[0m\u001b[1m>\u001b[0m \u001b[1m<\u001b[0m\u001b[1;95munk\u001b[0m\u001b[1m>\u001b[0m \u001b[1m<\u001b[0m\u001b[1;95munk\u001b[0m\u001b[1m>\u001b[0m \u001b[1m<\u001b[0m\u001b[1;95munk\u001b[0m\u001b[1m>\u001b[0m \u001b[1m<\u001b[0m\u001b[1;95munk\u001b[0m\u001b[1m>\u001b[0m \u001b[1m<\u001b[0m\u001b[1;95munk\u001b[0m\u001b[1m>\u001b[0m \u001b[1m<\u001b[0m\u001b[1;95munk\u001b[0m\u001b[1m>\u001b[0m \u001b[1m<\u001b[0m\u001b[1;95munk\u001b[0m\u001b[1m>\u001b[0m \u001b[1m<\u001b[0m\u001b[1;95munk\u001b[0m\u001b[1m>\u001b[0m \u001b[1m<\u001b[0m\u001b[1;95munk\u001b[0m\u001b[1m>\u001b[0m \n",
              "\u001b[1m<\u001b[0m\u001b[1;95munk\u001b[0m\u001b[1m>\u001b[0m \u001b[1m<\u001b[0m\u001b[1;95munk\u001b[0m\u001b[1m>\u001b[0m \u001b[1m<\u001b[0m\u001b[1;95munk\u001b[0m\u001b[1m>\u001b[0m \u001b[1m<\u001b[0m\u001b[1;95munk\u001b[0m\u001b[1m>\u001b[0m \u001b[1m<\u001b[0m\u001b[1;95munk\u001b[0m\u001b[1m>\u001b[0m \u001b[1m<\u001b[0m\u001b[1;95munk\u001b[0m\u001b[1m>\u001b[0m \u001b[1m<\u001b[0m\u001b[1;95munk\u001b[0m\u001b[1m>\u001b[0m \u001b[1m<\u001b[0m\u001b[1;95munk\u001b[0m\u001b[1m>\u001b[0m \u001b[1m<\u001b[0m\u001b[1;95munk\u001b[0m\u001b[1m>\u001b[0m \u001b[1m<\u001b[0m\u001b[1;95munk\u001b[0m\u001b[1m>\u001b[0m \u001b[1m<\u001b[0m\u001b[1;95munk\u001b[0m\u001b[1m>\u001b[0m \u001b[1m<\u001b[0m\u001b[1;95munk\u001b[0m\u001b[1m>\u001b[0m \u001b[1m<\u001b[0m\u001b[1;95munk\u001b[0m\u001b[1m>\u001b[0m \u001b[1m<\u001b[0m\u001b[1;95munk\u001b[0m\u001b[1m>\u001b[0m \u001b[1m<\u001b[0m\u001b[1;95munk\u001b[0m\u001b[1m>\u001b[0m \n",
              "\u001b[1m<\u001b[0m\u001b[1;95munk\u001b[0m\u001b[1m>\u001b[0m \u001b[1m<\u001b[0m\u001b[1;95munk\u001b[0m\u001b[1m>\u001b[0m\n"
            ]
          },
          "metadata": {
            "tags": []
          }
        }
      ]
    },
    {
      "cell_type": "code",
      "metadata": {
        "id": "79hdw1aEMr1C"
      },
      "source": [
        "for i in range(50000,50010):\n",
        "  translate(transformer, df.input[i], src_vocab, tgt_vocab, tokenizer)\n",
        "  print(\"    \")"
      ],
      "id": "79hdw1aEMr1C",
      "execution_count": null,
      "outputs": []
    },
    {
      "cell_type": "markdown",
      "metadata": {
        "id": "rdpUmPLI8MRv"
      },
      "source": [
        "#beam search "
      ],
      "id": "rdpUmPLI8MRv"
    },
    {
      "cell_type": "code",
      "metadata": {
        "id": "3cH2BcRT2nbO"
      },
      "source": [
        "import pandas as pd\n",
        "import numpy as np\n",
        "df_src=pd.read_csv(src_filepath,names=[\"input\"])\n",
        "df_tgt=pd.read_csv(tgt_filepath,names=[\"target\"])\n",
        "df = pd.concat([df_src,df_tgt], axis=1)"
      ],
      "id": "3cH2BcRT2nbO",
      "execution_count": 29,
      "outputs": []
    },
    {
      "cell_type": "code",
      "metadata": {
        "colab": {
          "base_uri": "https://localhost:8080/",
          "height": 419
        },
        "id": "Ml-1zZXAps4W",
        "outputId": "5d54c8e2-0e96-42c8-cd17-18ea99012578"
      },
      "source": [
        "df_test=pd.read_csv(\"/content/Retrosynthesis_TF/USPTO-50K/src/src-test.txt\",names=[\"input\"])\n",
        "df_test"
      ],
      "id": "Ml-1zZXAps4W",
      "execution_count": 30,
      "outputs": [
        {
          "output_type": "execute_result",
          "data": {
            "text/html": [
              "<div>\n",
              "<style scoped>\n",
              "    .dataframe tbody tr th:only-of-type {\n",
              "        vertical-align: middle;\n",
              "    }\n",
              "\n",
              "    .dataframe tbody tr th {\n",
              "        vertical-align: top;\n",
              "    }\n",
              "\n",
              "    .dataframe thead th {\n",
              "        text-align: right;\n",
              "    }\n",
              "</style>\n",
              "<table border=\"1\" class=\"dataframe\">\n",
              "  <thead>\n",
              "    <tr style=\"text-align: right;\">\n",
              "      <th></th>\n",
              "      <th>input</th>\n",
              "    </tr>\n",
              "  </thead>\n",
              "  <tbody>\n",
              "    <tr>\n",
              "      <th>0</th>\n",
              "      <td>&lt;RX_1&gt; C O C ( = O ) C C C ( = O ) c 1 c c c (...</td>\n",
              "    </tr>\n",
              "    <tr>\n",
              "      <th>1</th>\n",
              "      <td>&lt;RX_4&gt; C O C ( = O ) c 1 c c c c ( - c 2 n c 3...</td>\n",
              "    </tr>\n",
              "    <tr>\n",
              "      <th>2</th>\n",
              "      <td>&lt;RX_2&gt; C O N ( C ) C ( = O ) C 1 C C C ( N C (...</td>\n",
              "    </tr>\n",
              "    <tr>\n",
              "      <th>3</th>\n",
              "      <td>&lt;RX_1&gt; O = [ N + ] ( [ O - ] ) c 1 c c c ( C l...</td>\n",
              "    </tr>\n",
              "    <tr>\n",
              "      <th>4</th>\n",
              "      <td>&lt;RX_9&gt; N C C 1 = C C [ C @ @ H ] ( c 2 c c c (...</td>\n",
              "    </tr>\n",
              "    <tr>\n",
              "      <th>...</th>\n",
              "      <td>...</td>\n",
              "    </tr>\n",
              "    <tr>\n",
              "      <th>4999</th>\n",
              "      <td>&lt;RX_1&gt; C c 1 c c ( [ N + ] ( = O ) [ O - ] ) c...</td>\n",
              "    </tr>\n",
              "    <tr>\n",
              "      <th>5000</th>\n",
              "      <td>&lt;RX_6&gt; C O C ( = O ) c 1 [ n H ] c 2 c c ( C l...</td>\n",
              "    </tr>\n",
              "    <tr>\n",
              "      <th>5001</th>\n",
              "      <td>&lt;RX_7&gt; C O c 1 c c ( C ( F ) ( F ) F ) c c ( S...</td>\n",
              "    </tr>\n",
              "    <tr>\n",
              "      <th>5002</th>\n",
              "      <td>&lt;RX_10&gt; C c 1 n n ( C C ( C ) C O ) c ( - c 2 ...</td>\n",
              "    </tr>\n",
              "    <tr>\n",
              "      <th>5003</th>\n",
              "      <td>&lt;RX_1&gt; C O C ( = O ) c 1 c c ( S C c 2 c c c (...</td>\n",
              "    </tr>\n",
              "  </tbody>\n",
              "</table>\n",
              "<p>5004 rows × 1 columns</p>\n",
              "</div>"
            ],
            "text/plain": [
              "                                                  input\n",
              "0     <RX_1> C O C ( = O ) C C C ( = O ) c 1 c c c (...\n",
              "1     <RX_4> C O C ( = O ) c 1 c c c c ( - c 2 n c 3...\n",
              "2     <RX_2> C O N ( C ) C ( = O ) C 1 C C C ( N C (...\n",
              "3     <RX_1> O = [ N + ] ( [ O - ] ) c 1 c c c ( C l...\n",
              "4     <RX_9> N C C 1 = C C [ C @ @ H ] ( c 2 c c c (...\n",
              "...                                                 ...\n",
              "4999  <RX_1> C c 1 c c ( [ N + ] ( = O ) [ O - ] ) c...\n",
              "5000  <RX_6> C O C ( = O ) c 1 [ n H ] c 2 c c ( C l...\n",
              "5001  <RX_7> C O c 1 c c ( C ( F ) ( F ) F ) c c ( S...\n",
              "5002  <RX_10> C c 1 n n ( C C ( C ) C O ) c ( - c 2 ...\n",
              "5003  <RX_1> C O C ( = O ) c 1 c c ( S C c 2 c c c (...\n",
              "\n",
              "[5004 rows x 1 columns]"
            ]
          },
          "metadata": {
            "tags": []
          },
          "execution_count": 30
        }
      ]
    },
    {
      "cell_type": "markdown",
      "metadata": {
        "id": "ykPs2_Zppcwn"
      },
      "source": [
        "![image.png](data:image/png;base64,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)"
      ],
      "id": "ykPs2_Zppcwn"
    },
    {
      "cell_type": "markdown",
      "metadata": {
        "id": "1Omc0NpmplOU"
      },
      "source": [
        "ref https://attapol.github.io/compling/slides/machine-translation-2020.pdf"
      ],
      "id": "1Omc0NpmplOU"
    },
    {
      "cell_type": "code",
      "metadata": {
        "id": "LE982UA4Zun-",
        "colab": {
          "base_uri": "https://localhost:8080/",
          "height": 1000
        },
        "outputId": "ec840487-9866-4b17-bde8-b2d1de4a8947"
      },
      "source": [
        "#https://towardsdatascience.com/boosting-your-sequence-generation-performance-with-beam-search-language-model-decoding-74ee64de435a\n",
        "\n",
        "import numpy as np\n",
        "import math\n",
        "\n",
        "def beam_search_decoder(predictions, top_k = 3):\n",
        "    #start with an empty sequence with zero score\n",
        "    output_sequences = [([], 0)]\n",
        "    \n",
        "    #looping through all the predictions\n",
        "    for token_probs in predictions:\n",
        "        new_sequences = []\n",
        "        \n",
        "        #append new tokens to old sequences and re-score\n",
        "        for old_seq, old_score in output_sequences:\n",
        "            for char_index in range(len(token_probs)):\n",
        "                \n",
        "                new_seq = old_seq + [char_index]\n",
        "                print(new_seq)\n",
        "                #considering log-likelihood for scoring\n",
        "                new_score = old_score + math.log(token_probs[char_index])\n",
        "                print(old_score )\n",
        "                #print(new_seq, new_score)\n",
        "                #print(token_probs[char_index],math.log(token_probs[char_index]))\n",
        "                new_sequences.append((new_seq, new_score))\n",
        "                #print(new_sequences)\n",
        "                \n",
        "        #sort all new sequences in the de-creasing order of their score\n",
        "        output_sequences = sorted(new_sequences, key = lambda val: val[1], reverse = True)\n",
        "        \n",
        "        #select top-k based on score \n",
        "        # *Note- best sequence is with the highest score\n",
        "        output_sequences = output_sequences[:top_k]\n",
        "        \n",
        "    return output_sequences\n",
        "    \n",
        "\n",
        "model_prediction = [[0.1, 0.7, 0.1, 0.1],\n",
        "                    [0.7, 0.1, 0.1, 0.1],\n",
        "                    [0.1, 0.1, 0.6, 0.2],\n",
        "                    [0.1, 0.1, 0.1, 0.7],\n",
        "                    [0.4, 0.3, 0.2, 0.1]]\n",
        "                    \n",
        "beam_search_decoder(model_prediction, top_k = 5)\n",
        "\n"
      ],
      "id": "LE982UA4Zun-",
      "execution_count": 32,
      "outputs": [
        {
          "output_type": "display_data",
          "data": {
            "text/html": [
              "<pre style=\"white-space:pre;overflow-x:auto;line-height:normal;font-family:Menlo,'DejaVu Sans Mono',consolas,'Courier New',monospace\"><span style=\"font-weight: bold\">[</span><span style=\"color: #008080; text-decoration-color: #008080; font-weight: bold\">0</span><span style=\"font-weight: bold\">]</span>\n",
              "</pre>\n"
            ],
            "text/plain": [
              "\u001b[1m[\u001b[0m\u001b[1;36m0\u001b[0m\u001b[1m]\u001b[0m\n"
            ]
          },
          "metadata": {
            "tags": []
          }
        },
        {
          "output_type": "display_data",
          "data": {
            "text/html": [
              "<pre style=\"white-space:pre;overflow-x:auto;line-height:normal;font-family:Menlo,'DejaVu Sans Mono',consolas,'Courier New',monospace\"><span style=\"color: #008080; text-decoration-color: #008080; font-weight: bold\">0</span>\n",
              "</pre>\n"
            ],
            "text/plain": [
              "\u001b[1;36m0\u001b[0m\n"
            ]
          },
          "metadata": {
            "tags": []
          }
        },
        {
          "output_type": "display_data",
          "data": {
            "text/html": [
              "<pre style=\"white-space:pre;overflow-x:auto;line-height:normal;font-family:Menlo,'DejaVu Sans Mono',consolas,'Courier New',monospace\"><span style=\"font-weight: bold\">[</span><span style=\"color: #008080; text-decoration-color: #008080; font-weight: bold\">1</span><span style=\"font-weight: bold\">]</span>\n",
              "</pre>\n"
            ],
            "text/plain": [
              "\u001b[1m[\u001b[0m\u001b[1;36m1\u001b[0m\u001b[1m]\u001b[0m\n"
            ]
          },
          "metadata": {
            "tags": []
          }
        },
        {
          "output_type": "display_data",
          "data": {
            "text/html": [
              "<pre style=\"white-space:pre;overflow-x:auto;line-height:normal;font-family:Menlo,'DejaVu Sans Mono',consolas,'Courier New',monospace\"><span style=\"color: #008080; text-decoration-color: #008080; font-weight: bold\">0</span>\n",
              "</pre>\n"
            ],
            "text/plain": [
              "\u001b[1;36m0\u001b[0m\n"
            ]
          },
          "metadata": {
            "tags": []
          }
        },
        {
          "output_type": "display_data",
          "data": {
            "text/html": [
              "<pre style=\"white-space:pre;overflow-x:auto;line-height:normal;font-family:Menlo,'DejaVu Sans Mono',consolas,'Courier New',monospace\"><span style=\"font-weight: bold\">[</span><span style=\"color: #008080; text-decoration-color: #008080; font-weight: bold\">2</span><span style=\"font-weight: bold\">]</span>\n",
              "</pre>\n"
            ],
            "text/plain": [
              "\u001b[1m[\u001b[0m\u001b[1;36m2\u001b[0m\u001b[1m]\u001b[0m\n"
            ]
          },
          "metadata": {
            "tags": []
          }
        },
        {
          "output_type": "display_data",
          "data": {
            "text/html": [
              "<pre style=\"white-space:pre;overflow-x:auto;line-height:normal;font-family:Menlo,'DejaVu Sans Mono',consolas,'Courier New',monospace\"><span style=\"color: #008080; text-decoration-color: #008080; font-weight: bold\">0</span>\n",
              "</pre>\n"
            ],
            "text/plain": [
              "\u001b[1;36m0\u001b[0m\n"
            ]
          },
          "metadata": {
            "tags": []
          }
        },
        {
          "output_type": "display_data",
          "data": {
            "text/html": [
              "<pre style=\"white-space:pre;overflow-x:auto;line-height:normal;font-family:Menlo,'DejaVu Sans Mono',consolas,'Courier New',monospace\"><span style=\"font-weight: bold\">[</span><span style=\"color: #008080; text-decoration-color: #008080; font-weight: bold\">3</span><span style=\"font-weight: bold\">]</span>\n",
              "</pre>\n"
            ],
            "text/plain": [
              "\u001b[1m[\u001b[0m\u001b[1;36m3\u001b[0m\u001b[1m]\u001b[0m\n"
            ]
          },
          "metadata": {
            "tags": []
          }
        },
        {
          "output_type": "display_data",
          "data": {
            "text/html": [
              "<pre style=\"white-space:pre;overflow-x:auto;line-height:normal;font-family:Menlo,'DejaVu Sans Mono',consolas,'Courier New',monospace\"><span style=\"color: #008080; text-decoration-color: #008080; font-weight: bold\">0</span>\n",
              "</pre>\n"
            ],
            "text/plain": [
              "\u001b[1;36m0\u001b[0m\n"
            ]
          },
          "metadata": {
            "tags": []
          }
        },
        {
          "output_type": "display_data",
          "data": {
            "text/html": [
              "<pre style=\"white-space:pre;overflow-x:auto;line-height:normal;font-family:Menlo,'DejaVu Sans Mono',consolas,'Courier New',monospace\"><span style=\"font-weight: bold\">[</span><span style=\"color: #008080; text-decoration-color: #008080; font-weight: bold\">1</span>, <span style=\"color: #008080; text-decoration-color: #008080; font-weight: bold\">0</span><span style=\"font-weight: bold\">]</span>\n",
              "</pre>\n"
            ],
            "text/plain": [
              "\u001b[1m[\u001b[0m\u001b[1;36m1\u001b[0m, \u001b[1;36m0\u001b[0m\u001b[1m]\u001b[0m\n"
            ]
          },
          "metadata": {
            "tags": []
          }
        },
        {
          "output_type": "display_data",
          "data": {
            "text/html": [
              "<pre style=\"white-space:pre;overflow-x:auto;line-height:normal;font-family:Menlo,'DejaVu Sans Mono',consolas,'Courier New',monospace\"><span style=\"color: #008080; text-decoration-color: #008080; font-weight: bold\">-0.35667494393873245</span>\n",
              "</pre>\n"
            ],
            "text/plain": [
              "\u001b[1;36m-0.35667494393873245\u001b[0m\n"
            ]
          },
          "metadata": {
            "tags": []
          }
        },
        {
          "output_type": "display_data",
          "data": {
            "text/html": [
              "<pre style=\"white-space:pre;overflow-x:auto;line-height:normal;font-family:Menlo,'DejaVu Sans Mono',consolas,'Courier New',monospace\"><span style=\"font-weight: bold\">[</span><span style=\"color: #008080; text-decoration-color: #008080; font-weight: bold\">1</span>, <span style=\"color: #008080; text-decoration-color: #008080; font-weight: bold\">1</span><span style=\"font-weight: bold\">]</span>\n",
              "</pre>\n"
            ],
            "text/plain": [
              "\u001b[1m[\u001b[0m\u001b[1;36m1\u001b[0m, \u001b[1;36m1\u001b[0m\u001b[1m]\u001b[0m\n"
            ]
          },
          "metadata": {
            "tags": []
          }
        },
        {
          "output_type": "display_data",
          "data": {
            "text/html": [
              "<pre style=\"white-space:pre;overflow-x:auto;line-height:normal;font-family:Menlo,'DejaVu Sans Mono',consolas,'Courier New',monospace\"><span style=\"color: #008080; text-decoration-color: #008080; font-weight: bold\">-0.35667494393873245</span>\n",
              "</pre>\n"
            ],
            "text/plain": [
              "\u001b[1;36m-0.35667494393873245\u001b[0m\n"
            ]
          },
          "metadata": {
            "tags": []
          }
        },
        {
          "output_type": "display_data",
          "data": {
            "text/html": [
              "<pre style=\"white-space:pre;overflow-x:auto;line-height:normal;font-family:Menlo,'DejaVu Sans Mono',consolas,'Courier New',monospace\"><span style=\"font-weight: bold\">[</span><span style=\"color: #008080; text-decoration-color: #008080; font-weight: bold\">1</span>, <span style=\"color: #008080; text-decoration-color: #008080; font-weight: bold\">2</span><span style=\"font-weight: bold\">]</span>\n",
              "</pre>\n"
            ],
            "text/plain": [
              "\u001b[1m[\u001b[0m\u001b[1;36m1\u001b[0m, \u001b[1;36m2\u001b[0m\u001b[1m]\u001b[0m\n"
            ]
          },
          "metadata": {
            "tags": []
          }
        },
        {
          "output_type": "display_data",
          "data": {
            "text/html": [
              "<pre style=\"white-space:pre;overflow-x:auto;line-height:normal;font-family:Menlo,'DejaVu Sans Mono',consolas,'Courier New',monospace\"><span style=\"color: #008080; text-decoration-color: #008080; font-weight: bold\">-0.35667494393873245</span>\n",
              "</pre>\n"
            ],
            "text/plain": [
              "\u001b[1;36m-0.35667494393873245\u001b[0m\n"
            ]
          },
          "metadata": {
            "tags": []
          }
        },
        {
          "output_type": "display_data",
          "data": {
            "text/html": [
              "<pre style=\"white-space:pre;overflow-x:auto;line-height:normal;font-family:Menlo,'DejaVu Sans Mono',consolas,'Courier New',monospace\"><span style=\"font-weight: bold\">[</span><span style=\"color: #008080; text-decoration-color: #008080; font-weight: bold\">1</span>, <span style=\"color: #008080; text-decoration-color: #008080; font-weight: bold\">3</span><span style=\"font-weight: bold\">]</span>\n",
              "</pre>\n"
            ],
            "text/plain": [
              "\u001b[1m[\u001b[0m\u001b[1;36m1\u001b[0m, \u001b[1;36m3\u001b[0m\u001b[1m]\u001b[0m\n"
            ]
          },
          "metadata": {
            "tags": []
          }
        },
        {
          "output_type": "display_data",
          "data": {
            "text/html": [
              "<pre style=\"white-space:pre;overflow-x:auto;line-height:normal;font-family:Menlo,'DejaVu Sans Mono',consolas,'Courier New',monospace\"><span style=\"color: #008080; text-decoration-color: #008080; font-weight: bold\">-0.35667494393873245</span>\n",
              "</pre>\n"
            ],
            "text/plain": [
              "\u001b[1;36m-0.35667494393873245\u001b[0m\n"
            ]
          },
          "metadata": {
            "tags": []
          }
        },
        {
          "output_type": "display_data",
          "data": {
            "text/html": [
              "<pre style=\"white-space:pre;overflow-x:auto;line-height:normal;font-family:Menlo,'DejaVu Sans Mono',consolas,'Courier New',monospace\"><span style=\"font-weight: bold\">[</span><span style=\"color: #008080; text-decoration-color: #008080; font-weight: bold\">0</span>, <span style=\"color: #008080; text-decoration-color: #008080; font-weight: bold\">0</span><span style=\"font-weight: bold\">]</span>\n",
              "</pre>\n"
            ],
            "text/plain": [
              "\u001b[1m[\u001b[0m\u001b[1;36m0\u001b[0m, \u001b[1;36m0\u001b[0m\u001b[1m]\u001b[0m\n"
            ]
          },
          "metadata": {
            "tags": []
          }
        },
        {
          "output_type": "display_data",
          "data": {
            "text/html": [
              "<pre style=\"white-space:pre;overflow-x:auto;line-height:normal;font-family:Menlo,'DejaVu Sans Mono',consolas,'Courier New',monospace\"><span style=\"color: #008080; text-decoration-color: #008080; font-weight: bold\">-2.3025850929940455</span>\n",
              "</pre>\n"
            ],
            "text/plain": [
              "\u001b[1;36m-2.3025850929940455\u001b[0m\n"
            ]
          },
          "metadata": {
            "tags": []
          }
        },
        {
          "output_type": "display_data",
          "data": {
            "text/html": [
              "<pre style=\"white-space:pre;overflow-x:auto;line-height:normal;font-family:Menlo,'DejaVu Sans Mono',consolas,'Courier New',monospace\"><span style=\"font-weight: bold\">[</span><span style=\"color: #008080; text-decoration-color: #008080; font-weight: bold\">0</span>, <span style=\"color: #008080; text-decoration-color: #008080; font-weight: bold\">1</span><span style=\"font-weight: bold\">]</span>\n",
              "</pre>\n"
            ],
            "text/plain": [
              "\u001b[1m[\u001b[0m\u001b[1;36m0\u001b[0m, \u001b[1;36m1\u001b[0m\u001b[1m]\u001b[0m\n"
            ]
          },
          "metadata": {
            "tags": []
          }
        },
        {
          "output_type": "display_data",
          "data": {
            "text/html": [
              "<pre style=\"white-space:pre;overflow-x:auto;line-height:normal;font-family:Menlo,'DejaVu Sans Mono',consolas,'Courier New',monospace\"><span style=\"color: #008080; text-decoration-color: #008080; font-weight: bold\">-2.3025850929940455</span>\n",
              "</pre>\n"
            ],
            "text/plain": [
              "\u001b[1;36m-2.3025850929940455\u001b[0m\n"
            ]
          },
          "metadata": {
            "tags": []
          }
        },
        {
          "output_type": "display_data",
          "data": {
            "text/html": [
              "<pre style=\"white-space:pre;overflow-x:auto;line-height:normal;font-family:Menlo,'DejaVu Sans Mono',consolas,'Courier New',monospace\"><span style=\"font-weight: bold\">[</span><span style=\"color: #008080; text-decoration-color: #008080; font-weight: bold\">0</span>, <span style=\"color: #008080; text-decoration-color: #008080; font-weight: bold\">2</span><span style=\"font-weight: bold\">]</span>\n",
              "</pre>\n"
            ],
            "text/plain": [
              "\u001b[1m[\u001b[0m\u001b[1;36m0\u001b[0m, \u001b[1;36m2\u001b[0m\u001b[1m]\u001b[0m\n"
            ]
          },
          "metadata": {
            "tags": []
          }
        },
        {
          "output_type": "display_data",
          "data": {
            "text/html": [
              "<pre style=\"white-space:pre;overflow-x:auto;line-height:normal;font-family:Menlo,'DejaVu Sans Mono',consolas,'Courier New',monospace\"><span style=\"color: #008080; text-decoration-color: #008080; font-weight: bold\">-2.3025850929940455</span>\n",
              "</pre>\n"
            ],
            "text/plain": [
              "\u001b[1;36m-2.3025850929940455\u001b[0m\n"
            ]
          },
          "metadata": {
            "tags": []
          }
        },
        {
          "output_type": "display_data",
          "data": {
            "text/html": [
              "<pre style=\"white-space:pre;overflow-x:auto;line-height:normal;font-family:Menlo,'DejaVu Sans Mono',consolas,'Courier New',monospace\"><span style=\"font-weight: bold\">[</span><span style=\"color: #008080; text-decoration-color: #008080; font-weight: bold\">0</span>, <span style=\"color: #008080; text-decoration-color: #008080; font-weight: bold\">3</span><span style=\"font-weight: bold\">]</span>\n",
              "</pre>\n"
            ],
            "text/plain": [
              "\u001b[1m[\u001b[0m\u001b[1;36m0\u001b[0m, \u001b[1;36m3\u001b[0m\u001b[1m]\u001b[0m\n"
            ]
          },
          "metadata": {
            "tags": []
          }
        },
        {
          "output_type": "display_data",
          "data": {
            "text/html": [
              "<pre style=\"white-space:pre;overflow-x:auto;line-height:normal;font-family:Menlo,'DejaVu Sans Mono',consolas,'Courier New',monospace\"><span style=\"color: #008080; text-decoration-color: #008080; font-weight: bold\">-2.3025850929940455</span>\n",
              "</pre>\n"
            ],
            "text/plain": [
              "\u001b[1;36m-2.3025850929940455\u001b[0m\n"
            ]
          },
          "metadata": {
            "tags": []
          }
        },
        {
          "output_type": "display_data",
          "data": {
            "text/html": [
              "<pre style=\"white-space:pre;overflow-x:auto;line-height:normal;font-family:Menlo,'DejaVu Sans Mono',consolas,'Courier New',monospace\"><span style=\"font-weight: bold\">[</span><span style=\"color: #008080; text-decoration-color: #008080; font-weight: bold\">2</span>, <span style=\"color: #008080; text-decoration-color: #008080; font-weight: bold\">0</span><span style=\"font-weight: bold\">]</span>\n",
              "</pre>\n"
            ],
            "text/plain": [
              "\u001b[1m[\u001b[0m\u001b[1;36m2\u001b[0m, \u001b[1;36m0\u001b[0m\u001b[1m]\u001b[0m\n"
            ]
          },
          "metadata": {
            "tags": []
          }
        },
        {
          "output_type": "display_data",
          "data": {
            "text/html": [
              "<pre style=\"white-space:pre;overflow-x:auto;line-height:normal;font-family:Menlo,'DejaVu Sans Mono',consolas,'Courier New',monospace\"><span style=\"color: #008080; text-decoration-color: #008080; font-weight: bold\">-2.3025850929940455</span>\n",
              "</pre>\n"
            ],
            "text/plain": [
              "\u001b[1;36m-2.3025850929940455\u001b[0m\n"
            ]
          },
          "metadata": {
            "tags": []
          }
        },
        {
          "output_type": "display_data",
          "data": {
            "text/html": [
              "<pre style=\"white-space:pre;overflow-x:auto;line-height:normal;font-family:Menlo,'DejaVu Sans Mono',consolas,'Courier New',monospace\"><span style=\"font-weight: bold\">[</span><span style=\"color: #008080; text-decoration-color: #008080; font-weight: bold\">2</span>, <span style=\"color: #008080; text-decoration-color: #008080; font-weight: bold\">1</span><span style=\"font-weight: bold\">]</span>\n",
              "</pre>\n"
            ],
            "text/plain": [
              "\u001b[1m[\u001b[0m\u001b[1;36m2\u001b[0m, \u001b[1;36m1\u001b[0m\u001b[1m]\u001b[0m\n"
            ]
          },
          "metadata": {
            "tags": []
          }
        },
        {
          "output_type": "display_data",
          "data": {
            "text/html": [
              "<pre style=\"white-space:pre;overflow-x:auto;line-height:normal;font-family:Menlo,'DejaVu Sans Mono',consolas,'Courier New',monospace\"><span style=\"color: #008080; text-decoration-color: #008080; font-weight: bold\">-2.3025850929940455</span>\n",
              "</pre>\n"
            ],
            "text/plain": [
              "\u001b[1;36m-2.3025850929940455\u001b[0m\n"
            ]
          },
          "metadata": {
            "tags": []
          }
        },
        {
          "output_type": "display_data",
          "data": {
            "text/html": [
              "<pre style=\"white-space:pre;overflow-x:auto;line-height:normal;font-family:Menlo,'DejaVu Sans Mono',consolas,'Courier New',monospace\"><span style=\"font-weight: bold\">[</span><span style=\"color: #008080; text-decoration-color: #008080; font-weight: bold\">2</span>, <span style=\"color: #008080; text-decoration-color: #008080; font-weight: bold\">2</span><span style=\"font-weight: bold\">]</span>\n",
              "</pre>\n"
            ],
            "text/plain": [
              "\u001b[1m[\u001b[0m\u001b[1;36m2\u001b[0m, \u001b[1;36m2\u001b[0m\u001b[1m]\u001b[0m\n"
            ]
          },
          "metadata": {
            "tags": []
          }
        },
        {
          "output_type": "display_data",
          "data": {
            "text/html": [
              "<pre style=\"white-space:pre;overflow-x:auto;line-height:normal;font-family:Menlo,'DejaVu Sans Mono',consolas,'Courier New',monospace\"><span style=\"color: #008080; text-decoration-color: #008080; font-weight: bold\">-2.3025850929940455</span>\n",
              "</pre>\n"
            ],
            "text/plain": [
              "\u001b[1;36m-2.3025850929940455\u001b[0m\n"
            ]
          },
          "metadata": {
            "tags": []
          }
        },
        {
          "output_type": "display_data",
          "data": {
            "text/html": [
              "<pre style=\"white-space:pre;overflow-x:auto;line-height:normal;font-family:Menlo,'DejaVu Sans Mono',consolas,'Courier New',monospace\"><span style=\"font-weight: bold\">[</span><span style=\"color: #008080; text-decoration-color: #008080; font-weight: bold\">2</span>, <span style=\"color: #008080; text-decoration-color: #008080; font-weight: bold\">3</span><span style=\"font-weight: bold\">]</span>\n",
              "</pre>\n"
            ],
            "text/plain": [
              "\u001b[1m[\u001b[0m\u001b[1;36m2\u001b[0m, \u001b[1;36m3\u001b[0m\u001b[1m]\u001b[0m\n"
            ]
          },
          "metadata": {
            "tags": []
          }
        },
        {
          "output_type": "display_data",
          "data": {
            "text/html": [
              "<pre style=\"white-space:pre;overflow-x:auto;line-height:normal;font-family:Menlo,'DejaVu Sans Mono',consolas,'Courier New',monospace\"><span style=\"color: #008080; text-decoration-color: #008080; font-weight: bold\">-2.3025850929940455</span>\n",
              "</pre>\n"
            ],
            "text/plain": [
              "\u001b[1;36m-2.3025850929940455\u001b[0m\n"
            ]
          },
          "metadata": {
            "tags": []
          }
        },
        {
          "output_type": "display_data",
          "data": {
            "text/html": [
              "<pre style=\"white-space:pre;overflow-x:auto;line-height:normal;font-family:Menlo,'DejaVu Sans Mono',consolas,'Courier New',monospace\"><span style=\"font-weight: bold\">[</span><span style=\"color: #008080; text-decoration-color: #008080; font-weight: bold\">3</span>, <span style=\"color: #008080; text-decoration-color: #008080; font-weight: bold\">0</span><span style=\"font-weight: bold\">]</span>\n",
              "</pre>\n"
            ],
            "text/plain": [
              "\u001b[1m[\u001b[0m\u001b[1;36m3\u001b[0m, \u001b[1;36m0\u001b[0m\u001b[1m]\u001b[0m\n"
            ]
          },
          "metadata": {
            "tags": []
          }
        },
        {
          "output_type": "display_data",
          "data": {
            "text/html": [
              "<pre style=\"white-space:pre;overflow-x:auto;line-height:normal;font-family:Menlo,'DejaVu Sans Mono',consolas,'Courier New',monospace\"><span style=\"color: #008080; text-decoration-color: #008080; font-weight: bold\">-2.3025850929940455</span>\n",
              "</pre>\n"
            ],
            "text/plain": [
              "\u001b[1;36m-2.3025850929940455\u001b[0m\n"
            ]
          },
          "metadata": {
            "tags": []
          }
        },
        {
          "output_type": "display_data",
          "data": {
            "text/html": [
              "<pre style=\"white-space:pre;overflow-x:auto;line-height:normal;font-family:Menlo,'DejaVu Sans Mono',consolas,'Courier New',monospace\"><span style=\"font-weight: bold\">[</span><span style=\"color: #008080; text-decoration-color: #008080; font-weight: bold\">3</span>, <span style=\"color: #008080; text-decoration-color: #008080; font-weight: bold\">1</span><span style=\"font-weight: bold\">]</span>\n",
              "</pre>\n"
            ],
            "text/plain": [
              "\u001b[1m[\u001b[0m\u001b[1;36m3\u001b[0m, \u001b[1;36m1\u001b[0m\u001b[1m]\u001b[0m\n"
            ]
          },
          "metadata": {
            "tags": []
          }
        },
        {
          "output_type": "display_data",
          "data": {
            "text/html": [
              "<pre style=\"white-space:pre;overflow-x:auto;line-height:normal;font-family:Menlo,'DejaVu Sans Mono',consolas,'Courier New',monospace\"><span style=\"color: #008080; text-decoration-color: #008080; font-weight: bold\">-2.3025850929940455</span>\n",
              "</pre>\n"
            ],
            "text/plain": [
              "\u001b[1;36m-2.3025850929940455\u001b[0m\n"
            ]
          },
          "metadata": {
            "tags": []
          }
        },
        {
          "output_type": "display_data",
          "data": {
            "text/html": [
              "<pre style=\"white-space:pre;overflow-x:auto;line-height:normal;font-family:Menlo,'DejaVu Sans Mono',consolas,'Courier New',monospace\"><span style=\"font-weight: bold\">[</span><span style=\"color: #008080; text-decoration-color: #008080; font-weight: bold\">3</span>, <span style=\"color: #008080; text-decoration-color: #008080; font-weight: bold\">2</span><span style=\"font-weight: bold\">]</span>\n",
              "</pre>\n"
            ],
            "text/plain": [
              "\u001b[1m[\u001b[0m\u001b[1;36m3\u001b[0m, \u001b[1;36m2\u001b[0m\u001b[1m]\u001b[0m\n"
            ]
          },
          "metadata": {
            "tags": []
          }
        },
        {
          "output_type": "display_data",
          "data": {
            "text/html": [
              "<pre style=\"white-space:pre;overflow-x:auto;line-height:normal;font-family:Menlo,'DejaVu Sans Mono',consolas,'Courier New',monospace\"><span style=\"color: #008080; text-decoration-color: #008080; font-weight: bold\">-2.3025850929940455</span>\n",
              "</pre>\n"
            ],
            "text/plain": [
              "\u001b[1;36m-2.3025850929940455\u001b[0m\n"
            ]
          },
          "metadata": {
            "tags": []
          }
        },
        {
          "output_type": "display_data",
          "data": {
            "text/html": [
              "<pre style=\"white-space:pre;overflow-x:auto;line-height:normal;font-family:Menlo,'DejaVu Sans Mono',consolas,'Courier New',monospace\"><span style=\"font-weight: bold\">[</span><span style=\"color: #008080; text-decoration-color: #008080; font-weight: bold\">3</span>, <span style=\"color: #008080; text-decoration-color: #008080; font-weight: bold\">3</span><span style=\"font-weight: bold\">]</span>\n",
              "</pre>\n"
            ],
            "text/plain": [
              "\u001b[1m[\u001b[0m\u001b[1;36m3\u001b[0m, \u001b[1;36m3\u001b[0m\u001b[1m]\u001b[0m\n"
            ]
          },
          "metadata": {
            "tags": []
          }
        },
        {
          "output_type": "display_data",
          "data": {
            "text/html": [
              "<pre style=\"white-space:pre;overflow-x:auto;line-height:normal;font-family:Menlo,'DejaVu Sans Mono',consolas,'Courier New',monospace\"><span style=\"color: #008080; text-decoration-color: #008080; font-weight: bold\">-2.3025850929940455</span>\n",
              "</pre>\n"
            ],
            "text/plain": [
              "\u001b[1;36m-2.3025850929940455\u001b[0m\n"
            ]
          },
          "metadata": {
            "tags": []
          }
        },
        {
          "output_type": "display_data",
          "data": {
            "text/html": [
              "<pre style=\"white-space:pre;overflow-x:auto;line-height:normal;font-family:Menlo,'DejaVu Sans Mono',consolas,'Courier New',monospace\"><span style=\"font-weight: bold\">[</span><span style=\"color: #008080; text-decoration-color: #008080; font-weight: bold\">1</span>, <span style=\"color: #008080; text-decoration-color: #008080; font-weight: bold\">0</span>, <span style=\"color: #008080; text-decoration-color: #008080; font-weight: bold\">0</span><span style=\"font-weight: bold\">]</span>\n",
              "</pre>\n"
            ],
            "text/plain": [
              "\u001b[1m[\u001b[0m\u001b[1;36m1\u001b[0m, \u001b[1;36m0\u001b[0m, \u001b[1;36m0\u001b[0m\u001b[1m]\u001b[0m\n"
            ]
          },
          "metadata": {
            "tags": []
          }
        },
        {
          "output_type": "display_data",
          "data": {
            "text/html": [
              "<pre style=\"white-space:pre;overflow-x:auto;line-height:normal;font-family:Menlo,'DejaVu Sans Mono',consolas,'Courier New',monospace\"><span style=\"color: #008080; text-decoration-color: #008080; font-weight: bold\">-0.7133498878774649</span>\n",
              "</pre>\n"
            ],
            "text/plain": [
              "\u001b[1;36m-0.7133498878774649\u001b[0m\n"
            ]
          },
          "metadata": {
            "tags": []
          }
        },
        {
          "output_type": "display_data",
          "data": {
            "text/html": [
              "<pre style=\"white-space:pre;overflow-x:auto;line-height:normal;font-family:Menlo,'DejaVu Sans Mono',consolas,'Courier New',monospace\"><span style=\"font-weight: bold\">[</span><span style=\"color: #008080; text-decoration-color: #008080; font-weight: bold\">1</span>, <span style=\"color: #008080; text-decoration-color: #008080; font-weight: bold\">0</span>, <span style=\"color: #008080; text-decoration-color: #008080; font-weight: bold\">1</span><span style=\"font-weight: bold\">]</span>\n",
              "</pre>\n"
            ],
            "text/plain": [
              "\u001b[1m[\u001b[0m\u001b[1;36m1\u001b[0m, \u001b[1;36m0\u001b[0m, \u001b[1;36m1\u001b[0m\u001b[1m]\u001b[0m\n"
            ]
          },
          "metadata": {
            "tags": []
          }
        },
        {
          "output_type": "display_data",
          "data": {
            "text/html": [
              "<pre style=\"white-space:pre;overflow-x:auto;line-height:normal;font-family:Menlo,'DejaVu Sans Mono',consolas,'Courier New',monospace\"><span style=\"color: #008080; text-decoration-color: #008080; font-weight: bold\">-0.7133498878774649</span>\n",
              "</pre>\n"
            ],
            "text/plain": [
              "\u001b[1;36m-0.7133498878774649\u001b[0m\n"
            ]
          },
          "metadata": {
            "tags": []
          }
        },
        {
          "output_type": "display_data",
          "data": {
            "text/html": [
              "<pre style=\"white-space:pre;overflow-x:auto;line-height:normal;font-family:Menlo,'DejaVu Sans Mono',consolas,'Courier New',monospace\"><span style=\"font-weight: bold\">[</span><span style=\"color: #008080; text-decoration-color: #008080; font-weight: bold\">1</span>, <span style=\"color: #008080; text-decoration-color: #008080; font-weight: bold\">0</span>, <span style=\"color: #008080; text-decoration-color: #008080; font-weight: bold\">2</span><span style=\"font-weight: bold\">]</span>\n",
              "</pre>\n"
            ],
            "text/plain": [
              "\u001b[1m[\u001b[0m\u001b[1;36m1\u001b[0m, \u001b[1;36m0\u001b[0m, \u001b[1;36m2\u001b[0m\u001b[1m]\u001b[0m\n"
            ]
          },
          "metadata": {
            "tags": []
          }
        },
        {
          "output_type": "display_data",
          "data": {
            "text/html": [
              "<pre style=\"white-space:pre;overflow-x:auto;line-height:normal;font-family:Menlo,'DejaVu Sans Mono',consolas,'Courier New',monospace\"><span style=\"color: #008080; text-decoration-color: #008080; font-weight: bold\">-0.7133498878774649</span>\n",
              "</pre>\n"
            ],
            "text/plain": [
              "\u001b[1;36m-0.7133498878774649\u001b[0m\n"
            ]
          },
          "metadata": {
            "tags": []
          }
        },
        {
          "output_type": "display_data",
          "data": {
            "text/html": [
              "<pre style=\"white-space:pre;overflow-x:auto;line-height:normal;font-family:Menlo,'DejaVu Sans Mono',consolas,'Courier New',monospace\"><span style=\"font-weight: bold\">[</span><span style=\"color: #008080; text-decoration-color: #008080; font-weight: bold\">1</span>, <span style=\"color: #008080; text-decoration-color: #008080; font-weight: bold\">0</span>, <span style=\"color: #008080; text-decoration-color: #008080; font-weight: bold\">3</span><span style=\"font-weight: bold\">]</span>\n",
              "</pre>\n"
            ],
            "text/plain": [
              "\u001b[1m[\u001b[0m\u001b[1;36m1\u001b[0m, \u001b[1;36m0\u001b[0m, \u001b[1;36m3\u001b[0m\u001b[1m]\u001b[0m\n"
            ]
          },
          "metadata": {
            "tags": []
          }
        },
        {
          "output_type": "display_data",
          "data": {
            "text/html": [
              "<pre style=\"white-space:pre;overflow-x:auto;line-height:normal;font-family:Menlo,'DejaVu Sans Mono',consolas,'Courier New',monospace\"><span style=\"color: #008080; text-decoration-color: #008080; font-weight: bold\">-0.7133498878774649</span>\n",
              "</pre>\n"
            ],
            "text/plain": [
              "\u001b[1;36m-0.7133498878774649\u001b[0m\n"
            ]
          },
          "metadata": {
            "tags": []
          }
        },
        {
          "output_type": "display_data",
          "data": {
            "text/html": [
              "<pre style=\"white-space:pre;overflow-x:auto;line-height:normal;font-family:Menlo,'DejaVu Sans Mono',consolas,'Courier New',monospace\"><span style=\"font-weight: bold\">[</span><span style=\"color: #008080; text-decoration-color: #008080; font-weight: bold\">1</span>, <span style=\"color: #008080; text-decoration-color: #008080; font-weight: bold\">1</span>, <span style=\"color: #008080; text-decoration-color: #008080; font-weight: bold\">0</span><span style=\"font-weight: bold\">]</span>\n",
              "</pre>\n"
            ],
            "text/plain": [
              "\u001b[1m[\u001b[0m\u001b[1;36m1\u001b[0m, \u001b[1;36m1\u001b[0m, \u001b[1;36m0\u001b[0m\u001b[1m]\u001b[0m\n"
            ]
          },
          "metadata": {
            "tags": []
          }
        },
        {
          "output_type": "display_data",
          "data": {
            "text/html": [
              "<pre style=\"white-space:pre;overflow-x:auto;line-height:normal;font-family:Menlo,'DejaVu Sans Mono',consolas,'Courier New',monospace\"><span style=\"color: #008080; text-decoration-color: #008080; font-weight: bold\">-2.659260036932778</span>\n",
              "</pre>\n"
            ],
            "text/plain": [
              "\u001b[1;36m-2.659260036932778\u001b[0m\n"
            ]
          },
          "metadata": {
            "tags": []
          }
        },
        {
          "output_type": "display_data",
          "data": {
            "text/html": [
              "<pre style=\"white-space:pre;overflow-x:auto;line-height:normal;font-family:Menlo,'DejaVu Sans Mono',consolas,'Courier New',monospace\"><span style=\"font-weight: bold\">[</span><span style=\"color: #008080; text-decoration-color: #008080; font-weight: bold\">1</span>, <span style=\"color: #008080; text-decoration-color: #008080; font-weight: bold\">1</span>, <span style=\"color: #008080; text-decoration-color: #008080; font-weight: bold\">1</span><span style=\"font-weight: bold\">]</span>\n",
              "</pre>\n"
            ],
            "text/plain": [
              "\u001b[1m[\u001b[0m\u001b[1;36m1\u001b[0m, \u001b[1;36m1\u001b[0m, \u001b[1;36m1\u001b[0m\u001b[1m]\u001b[0m\n"
            ]
          },
          "metadata": {
            "tags": []
          }
        },
        {
          "output_type": "display_data",
          "data": {
            "text/html": [
              "<pre style=\"white-space:pre;overflow-x:auto;line-height:normal;font-family:Menlo,'DejaVu Sans Mono',consolas,'Courier New',monospace\"><span style=\"color: #008080; text-decoration-color: #008080; font-weight: bold\">-2.659260036932778</span>\n",
              "</pre>\n"
            ],
            "text/plain": [
              "\u001b[1;36m-2.659260036932778\u001b[0m\n"
            ]
          },
          "metadata": {
            "tags": []
          }
        },
        {
          "output_type": "display_data",
          "data": {
            "text/html": [
              "<pre style=\"white-space:pre;overflow-x:auto;line-height:normal;font-family:Menlo,'DejaVu Sans Mono',consolas,'Courier New',monospace\"><span style=\"font-weight: bold\">[</span><span style=\"color: #008080; text-decoration-color: #008080; font-weight: bold\">1</span>, <span style=\"color: #008080; text-decoration-color: #008080; font-weight: bold\">1</span>, <span style=\"color: #008080; text-decoration-color: #008080; font-weight: bold\">2</span><span style=\"font-weight: bold\">]</span>\n",
              "</pre>\n"
            ],
            "text/plain": [
              "\u001b[1m[\u001b[0m\u001b[1;36m1\u001b[0m, \u001b[1;36m1\u001b[0m, \u001b[1;36m2\u001b[0m\u001b[1m]\u001b[0m\n"
            ]
          },
          "metadata": {
            "tags": []
          }
        },
        {
          "output_type": "display_data",
          "data": {
            "text/html": [
              "<pre style=\"white-space:pre;overflow-x:auto;line-height:normal;font-family:Menlo,'DejaVu Sans Mono',consolas,'Courier New',monospace\"><span style=\"color: #008080; text-decoration-color: #008080; font-weight: bold\">-2.659260036932778</span>\n",
              "</pre>\n"
            ],
            "text/plain": [
              "\u001b[1;36m-2.659260036932778\u001b[0m\n"
            ]
          },
          "metadata": {
            "tags": []
          }
        },
        {
          "output_type": "display_data",
          "data": {
            "text/html": [
              "<pre style=\"white-space:pre;overflow-x:auto;line-height:normal;font-family:Menlo,'DejaVu Sans Mono',consolas,'Courier New',monospace\"><span style=\"font-weight: bold\">[</span><span style=\"color: #008080; text-decoration-color: #008080; font-weight: bold\">1</span>, <span style=\"color: #008080; text-decoration-color: #008080; font-weight: bold\">1</span>, <span style=\"color: #008080; text-decoration-color: #008080; font-weight: bold\">3</span><span style=\"font-weight: bold\">]</span>\n",
              "</pre>\n"
            ],
            "text/plain": [
              "\u001b[1m[\u001b[0m\u001b[1;36m1\u001b[0m, \u001b[1;36m1\u001b[0m, \u001b[1;36m3\u001b[0m\u001b[1m]\u001b[0m\n"
            ]
          },
          "metadata": {
            "tags": []
          }
        },
        {
          "output_type": "display_data",
          "data": {
            "text/html": [
              "<pre style=\"white-space:pre;overflow-x:auto;line-height:normal;font-family:Menlo,'DejaVu Sans Mono',consolas,'Courier New',monospace\"><span style=\"color: #008080; text-decoration-color: #008080; font-weight: bold\">-2.659260036932778</span>\n",
              "</pre>\n"
            ],
            "text/plain": [
              "\u001b[1;36m-2.659260036932778\u001b[0m\n"
            ]
          },
          "metadata": {
            "tags": []
          }
        },
        {
          "output_type": "display_data",
          "data": {
            "text/html": [
              "<pre style=\"white-space:pre;overflow-x:auto;line-height:normal;font-family:Menlo,'DejaVu Sans Mono',consolas,'Courier New',monospace\"><span style=\"font-weight: bold\">[</span><span style=\"color: #008080; text-decoration-color: #008080; font-weight: bold\">1</span>, <span style=\"color: #008080; text-decoration-color: #008080; font-weight: bold\">2</span>, <span style=\"color: #008080; text-decoration-color: #008080; font-weight: bold\">0</span><span style=\"font-weight: bold\">]</span>\n",
              "</pre>\n"
            ],
            "text/plain": [
              "\u001b[1m[\u001b[0m\u001b[1;36m1\u001b[0m, \u001b[1;36m2\u001b[0m, \u001b[1;36m0\u001b[0m\u001b[1m]\u001b[0m\n"
            ]
          },
          "metadata": {
            "tags": []
          }
        },
        {
          "output_type": "display_data",
          "data": {
            "text/html": [
              "<pre style=\"white-space:pre;overflow-x:auto;line-height:normal;font-family:Menlo,'DejaVu Sans Mono',consolas,'Courier New',monospace\"><span style=\"color: #008080; text-decoration-color: #008080; font-weight: bold\">-2.659260036932778</span>\n",
              "</pre>\n"
            ],
            "text/plain": [
              "\u001b[1;36m-2.659260036932778\u001b[0m\n"
            ]
          },
          "metadata": {
            "tags": []
          }
        },
        {
          "output_type": "display_data",
          "data": {
            "text/html": [
              "<pre style=\"white-space:pre;overflow-x:auto;line-height:normal;font-family:Menlo,'DejaVu Sans Mono',consolas,'Courier New',monospace\"><span style=\"font-weight: bold\">[</span><span style=\"color: #008080; text-decoration-color: #008080; font-weight: bold\">1</span>, <span style=\"color: #008080; text-decoration-color: #008080; font-weight: bold\">2</span>, <span style=\"color: #008080; text-decoration-color: #008080; font-weight: bold\">1</span><span style=\"font-weight: bold\">]</span>\n",
              "</pre>\n"
            ],
            "text/plain": [
              "\u001b[1m[\u001b[0m\u001b[1;36m1\u001b[0m, \u001b[1;36m2\u001b[0m, \u001b[1;36m1\u001b[0m\u001b[1m]\u001b[0m\n"
            ]
          },
          "metadata": {
            "tags": []
          }
        },
        {
          "output_type": "display_data",
          "data": {
            "text/html": [
              "<pre style=\"white-space:pre;overflow-x:auto;line-height:normal;font-family:Menlo,'DejaVu Sans Mono',consolas,'Courier New',monospace\"><span style=\"color: #008080; text-decoration-color: #008080; font-weight: bold\">-2.659260036932778</span>\n",
              "</pre>\n"
            ],
            "text/plain": [
              "\u001b[1;36m-2.659260036932778\u001b[0m\n"
            ]
          },
          "metadata": {
            "tags": []
          }
        },
        {
          "output_type": "display_data",
          "data": {
            "text/html": [
              "<pre style=\"white-space:pre;overflow-x:auto;line-height:normal;font-family:Menlo,'DejaVu Sans Mono',consolas,'Courier New',monospace\"><span style=\"font-weight: bold\">[</span><span style=\"color: #008080; text-decoration-color: #008080; font-weight: bold\">1</span>, <span style=\"color: #008080; text-decoration-color: #008080; font-weight: bold\">2</span>, <span style=\"color: #008080; text-decoration-color: #008080; font-weight: bold\">2</span><span style=\"font-weight: bold\">]</span>\n",
              "</pre>\n"
            ],
            "text/plain": [
              "\u001b[1m[\u001b[0m\u001b[1;36m1\u001b[0m, \u001b[1;36m2\u001b[0m, \u001b[1;36m2\u001b[0m\u001b[1m]\u001b[0m\n"
            ]
          },
          "metadata": {
            "tags": []
          }
        },
        {
          "output_type": "display_data",
          "data": {
            "text/html": [
              "<pre style=\"white-space:pre;overflow-x:auto;line-height:normal;font-family:Menlo,'DejaVu Sans Mono',consolas,'Courier New',monospace\"><span style=\"color: #008080; text-decoration-color: #008080; font-weight: bold\">-2.659260036932778</span>\n",
              "</pre>\n"
            ],
            "text/plain": [
              "\u001b[1;36m-2.659260036932778\u001b[0m\n"
            ]
          },
          "metadata": {
            "tags": []
          }
        },
        {
          "output_type": "display_data",
          "data": {
            "text/html": [
              "<pre style=\"white-space:pre;overflow-x:auto;line-height:normal;font-family:Menlo,'DejaVu Sans Mono',consolas,'Courier New',monospace\"><span style=\"font-weight: bold\">[</span><span style=\"color: #008080; text-decoration-color: #008080; font-weight: bold\">1</span>, <span style=\"color: #008080; text-decoration-color: #008080; font-weight: bold\">2</span>, <span style=\"color: #008080; text-decoration-color: #008080; font-weight: bold\">3</span><span style=\"font-weight: bold\">]</span>\n",
              "</pre>\n"
            ],
            "text/plain": [
              "\u001b[1m[\u001b[0m\u001b[1;36m1\u001b[0m, \u001b[1;36m2\u001b[0m, \u001b[1;36m3\u001b[0m\u001b[1m]\u001b[0m\n"
            ]
          },
          "metadata": {
            "tags": []
          }
        },
        {
          "output_type": "display_data",
          "data": {
            "text/html": [
              "<pre style=\"white-space:pre;overflow-x:auto;line-height:normal;font-family:Menlo,'DejaVu Sans Mono',consolas,'Courier New',monospace\"><span style=\"color: #008080; text-decoration-color: #008080; font-weight: bold\">-2.659260036932778</span>\n",
              "</pre>\n"
            ],
            "text/plain": [
              "\u001b[1;36m-2.659260036932778\u001b[0m\n"
            ]
          },
          "metadata": {
            "tags": []
          }
        },
        {
          "output_type": "display_data",
          "data": {
            "text/html": [
              "<pre style=\"white-space:pre;overflow-x:auto;line-height:normal;font-family:Menlo,'DejaVu Sans Mono',consolas,'Courier New',monospace\"><span style=\"font-weight: bold\">[</span><span style=\"color: #008080; text-decoration-color: #008080; font-weight: bold\">1</span>, <span style=\"color: #008080; text-decoration-color: #008080; font-weight: bold\">3</span>, <span style=\"color: #008080; text-decoration-color: #008080; font-weight: bold\">0</span><span style=\"font-weight: bold\">]</span>\n",
              "</pre>\n"
            ],
            "text/plain": [
              "\u001b[1m[\u001b[0m\u001b[1;36m1\u001b[0m, \u001b[1;36m3\u001b[0m, \u001b[1;36m0\u001b[0m\u001b[1m]\u001b[0m\n"
            ]
          },
          "metadata": {
            "tags": []
          }
        },
        {
          "output_type": "display_data",
          "data": {
            "text/html": [
              "<pre style=\"white-space:pre;overflow-x:auto;line-height:normal;font-family:Menlo,'DejaVu Sans Mono',consolas,'Courier New',monospace\"><span style=\"color: #008080; text-decoration-color: #008080; font-weight: bold\">-2.659260036932778</span>\n",
              "</pre>\n"
            ],
            "text/plain": [
              "\u001b[1;36m-2.659260036932778\u001b[0m\n"
            ]
          },
          "metadata": {
            "tags": []
          }
        },
        {
          "output_type": "display_data",
          "data": {
            "text/html": [
              "<pre style=\"white-space:pre;overflow-x:auto;line-height:normal;font-family:Menlo,'DejaVu Sans Mono',consolas,'Courier New',monospace\"><span style=\"font-weight: bold\">[</span><span style=\"color: #008080; text-decoration-color: #008080; font-weight: bold\">1</span>, <span style=\"color: #008080; text-decoration-color: #008080; font-weight: bold\">3</span>, <span style=\"color: #008080; text-decoration-color: #008080; font-weight: bold\">1</span><span style=\"font-weight: bold\">]</span>\n",
              "</pre>\n"
            ],
            "text/plain": [
              "\u001b[1m[\u001b[0m\u001b[1;36m1\u001b[0m, \u001b[1;36m3\u001b[0m, \u001b[1;36m1\u001b[0m\u001b[1m]\u001b[0m\n"
            ]
          },
          "metadata": {
            "tags": []
          }
        },
        {
          "output_type": "display_data",
          "data": {
            "text/html": [
              "<pre style=\"white-space:pre;overflow-x:auto;line-height:normal;font-family:Menlo,'DejaVu Sans Mono',consolas,'Courier New',monospace\"><span style=\"color: #008080; text-decoration-color: #008080; font-weight: bold\">-2.659260036932778</span>\n",
              "</pre>\n"
            ],
            "text/plain": [
              "\u001b[1;36m-2.659260036932778\u001b[0m\n"
            ]
          },
          "metadata": {
            "tags": []
          }
        },
        {
          "output_type": "display_data",
          "data": {
            "text/html": [
              "<pre style=\"white-space:pre;overflow-x:auto;line-height:normal;font-family:Menlo,'DejaVu Sans Mono',consolas,'Courier New',monospace\"><span style=\"font-weight: bold\">[</span><span style=\"color: #008080; text-decoration-color: #008080; font-weight: bold\">1</span>, <span style=\"color: #008080; text-decoration-color: #008080; font-weight: bold\">3</span>, <span style=\"color: #008080; text-decoration-color: #008080; font-weight: bold\">2</span><span style=\"font-weight: bold\">]</span>\n",
              "</pre>\n"
            ],
            "text/plain": [
              "\u001b[1m[\u001b[0m\u001b[1;36m1\u001b[0m, \u001b[1;36m3\u001b[0m, \u001b[1;36m2\u001b[0m\u001b[1m]\u001b[0m\n"
            ]
          },
          "metadata": {
            "tags": []
          }
        },
        {
          "output_type": "display_data",
          "data": {
            "text/html": [
              "<pre style=\"white-space:pre;overflow-x:auto;line-height:normal;font-family:Menlo,'DejaVu Sans Mono',consolas,'Courier New',monospace\"><span style=\"color: #008080; text-decoration-color: #008080; font-weight: bold\">-2.659260036932778</span>\n",
              "</pre>\n"
            ],
            "text/plain": [
              "\u001b[1;36m-2.659260036932778\u001b[0m\n"
            ]
          },
          "metadata": {
            "tags": []
          }
        },
        {
          "output_type": "display_data",
          "data": {
            "text/html": [
              "<pre style=\"white-space:pre;overflow-x:auto;line-height:normal;font-family:Menlo,'DejaVu Sans Mono',consolas,'Courier New',monospace\"><span style=\"font-weight: bold\">[</span><span style=\"color: #008080; text-decoration-color: #008080; font-weight: bold\">1</span>, <span style=\"color: #008080; text-decoration-color: #008080; font-weight: bold\">3</span>, <span style=\"color: #008080; text-decoration-color: #008080; font-weight: bold\">3</span><span style=\"font-weight: bold\">]</span>\n",
              "</pre>\n"
            ],
            "text/plain": [
              "\u001b[1m[\u001b[0m\u001b[1;36m1\u001b[0m, \u001b[1;36m3\u001b[0m, \u001b[1;36m3\u001b[0m\u001b[1m]\u001b[0m\n"
            ]
          },
          "metadata": {
            "tags": []
          }
        },
        {
          "output_type": "display_data",
          "data": {
            "text/html": [
              "<pre style=\"white-space:pre;overflow-x:auto;line-height:normal;font-family:Menlo,'DejaVu Sans Mono',consolas,'Courier New',monospace\"><span style=\"color: #008080; text-decoration-color: #008080; font-weight: bold\">-2.659260036932778</span>\n",
              "</pre>\n"
            ],
            "text/plain": [
              "\u001b[1;36m-2.659260036932778\u001b[0m\n"
            ]
          },
          "metadata": {
            "tags": []
          }
        },
        {
          "output_type": "display_data",
          "data": {
            "text/html": [
              "<pre style=\"white-space:pre;overflow-x:auto;line-height:normal;font-family:Menlo,'DejaVu Sans Mono',consolas,'Courier New',monospace\"><span style=\"font-weight: bold\">[</span><span style=\"color: #008080; text-decoration-color: #008080; font-weight: bold\">0</span>, <span style=\"color: #008080; text-decoration-color: #008080; font-weight: bold\">0</span>, <span style=\"color: #008080; text-decoration-color: #008080; font-weight: bold\">0</span><span style=\"font-weight: bold\">]</span>\n",
              "</pre>\n"
            ],
            "text/plain": [
              "\u001b[1m[\u001b[0m\u001b[1;36m0\u001b[0m, \u001b[1;36m0\u001b[0m, \u001b[1;36m0\u001b[0m\u001b[1m]\u001b[0m\n"
            ]
          },
          "metadata": {
            "tags": []
          }
        },
        {
          "output_type": "display_data",
          "data": {
            "text/html": [
              "<pre style=\"white-space:pre;overflow-x:auto;line-height:normal;font-family:Menlo,'DejaVu Sans Mono',consolas,'Courier New',monospace\"><span style=\"color: #008080; text-decoration-color: #008080; font-weight: bold\">-2.659260036932778</span>\n",
              "</pre>\n"
            ],
            "text/plain": [
              "\u001b[1;36m-2.659260036932778\u001b[0m\n"
            ]
          },
          "metadata": {
            "tags": []
          }
        },
        {
          "output_type": "display_data",
          "data": {
            "text/html": [
              "<pre style=\"white-space:pre;overflow-x:auto;line-height:normal;font-family:Menlo,'DejaVu Sans Mono',consolas,'Courier New',monospace\"><span style=\"font-weight: bold\">[</span><span style=\"color: #008080; text-decoration-color: #008080; font-weight: bold\">0</span>, <span style=\"color: #008080; text-decoration-color: #008080; font-weight: bold\">0</span>, <span style=\"color: #008080; text-decoration-color: #008080; font-weight: bold\">1</span><span style=\"font-weight: bold\">]</span>\n",
              "</pre>\n"
            ],
            "text/plain": [
              "\u001b[1m[\u001b[0m\u001b[1;36m0\u001b[0m, \u001b[1;36m0\u001b[0m, \u001b[1;36m1\u001b[0m\u001b[1m]\u001b[0m\n"
            ]
          },
          "metadata": {
            "tags": []
          }
        },
        {
          "output_type": "display_data",
          "data": {
            "text/html": [
              "<pre style=\"white-space:pre;overflow-x:auto;line-height:normal;font-family:Menlo,'DejaVu Sans Mono',consolas,'Courier New',monospace\"><span style=\"color: #008080; text-decoration-color: #008080; font-weight: bold\">-2.659260036932778</span>\n",
              "</pre>\n"
            ],
            "text/plain": [
              "\u001b[1;36m-2.659260036932778\u001b[0m\n"
            ]
          },
          "metadata": {
            "tags": []
          }
        },
        {
          "output_type": "display_data",
          "data": {
            "text/html": [
              "<pre style=\"white-space:pre;overflow-x:auto;line-height:normal;font-family:Menlo,'DejaVu Sans Mono',consolas,'Courier New',monospace\"><span style=\"font-weight: bold\">[</span><span style=\"color: #008080; text-decoration-color: #008080; font-weight: bold\">0</span>, <span style=\"color: #008080; text-decoration-color: #008080; font-weight: bold\">0</span>, <span style=\"color: #008080; text-decoration-color: #008080; font-weight: bold\">2</span><span style=\"font-weight: bold\">]</span>\n",
              "</pre>\n"
            ],
            "text/plain": [
              "\u001b[1m[\u001b[0m\u001b[1;36m0\u001b[0m, \u001b[1;36m0\u001b[0m, \u001b[1;36m2\u001b[0m\u001b[1m]\u001b[0m\n"
            ]
          },
          "metadata": {
            "tags": []
          }
        },
        {
          "output_type": "display_data",
          "data": {
            "text/html": [
              "<pre style=\"white-space:pre;overflow-x:auto;line-height:normal;font-family:Menlo,'DejaVu Sans Mono',consolas,'Courier New',monospace\"><span style=\"color: #008080; text-decoration-color: #008080; font-weight: bold\">-2.659260036932778</span>\n",
              "</pre>\n"
            ],
            "text/plain": [
              "\u001b[1;36m-2.659260036932778\u001b[0m\n"
            ]
          },
          "metadata": {
            "tags": []
          }
        },
        {
          "output_type": "display_data",
          "data": {
            "text/html": [
              "<pre style=\"white-space:pre;overflow-x:auto;line-height:normal;font-family:Menlo,'DejaVu Sans Mono',consolas,'Courier New',monospace\"><span style=\"font-weight: bold\">[</span><span style=\"color: #008080; text-decoration-color: #008080; font-weight: bold\">0</span>, <span style=\"color: #008080; text-decoration-color: #008080; font-weight: bold\">0</span>, <span style=\"color: #008080; text-decoration-color: #008080; font-weight: bold\">3</span><span style=\"font-weight: bold\">]</span>\n",
              "</pre>\n"
            ],
            "text/plain": [
              "\u001b[1m[\u001b[0m\u001b[1;36m0\u001b[0m, \u001b[1;36m0\u001b[0m, \u001b[1;36m3\u001b[0m\u001b[1m]\u001b[0m\n"
            ]
          },
          "metadata": {
            "tags": []
          }
        },
        {
          "output_type": "display_data",
          "data": {
            "text/html": [
              "<pre style=\"white-space:pre;overflow-x:auto;line-height:normal;font-family:Menlo,'DejaVu Sans Mono',consolas,'Courier New',monospace\"><span style=\"color: #008080; text-decoration-color: #008080; font-weight: bold\">-2.659260036932778</span>\n",
              "</pre>\n"
            ],
            "text/plain": [
              "\u001b[1;36m-2.659260036932778\u001b[0m\n"
            ]
          },
          "metadata": {
            "tags": []
          }
        },
        {
          "output_type": "display_data",
          "data": {
            "text/html": [
              "<pre style=\"white-space:pre;overflow-x:auto;line-height:normal;font-family:Menlo,'DejaVu Sans Mono',consolas,'Courier New',monospace\"><span style=\"font-weight: bold\">[</span><span style=\"color: #008080; text-decoration-color: #008080; font-weight: bold\">1</span>, <span style=\"color: #008080; text-decoration-color: #008080; font-weight: bold\">0</span>, <span style=\"color: #008080; text-decoration-color: #008080; font-weight: bold\">2</span>, <span style=\"color: #008080; text-decoration-color: #008080; font-weight: bold\">0</span><span style=\"font-weight: bold\">]</span>\n",
              "</pre>\n"
            ],
            "text/plain": [
              "\u001b[1m[\u001b[0m\u001b[1;36m1\u001b[0m, \u001b[1;36m0\u001b[0m, \u001b[1;36m2\u001b[0m, \u001b[1;36m0\u001b[0m\u001b[1m]\u001b[0m\n"
            ]
          },
          "metadata": {
            "tags": []
          }
        },
        {
          "output_type": "display_data",
          "data": {
            "text/html": [
              "<pre style=\"white-space:pre;overflow-x:auto;line-height:normal;font-family:Menlo,'DejaVu Sans Mono',consolas,'Courier New',monospace\"><span style=\"color: #008080; text-decoration-color: #008080; font-weight: bold\">-1.2241755116434556</span>\n",
              "</pre>\n"
            ],
            "text/plain": [
              "\u001b[1;36m-1.2241755116434556\u001b[0m\n"
            ]
          },
          "metadata": {
            "tags": []
          }
        },
        {
          "output_type": "display_data",
          "data": {
            "text/html": [
              "<pre style=\"white-space:pre;overflow-x:auto;line-height:normal;font-family:Menlo,'DejaVu Sans Mono',consolas,'Courier New',monospace\"><span style=\"font-weight: bold\">[</span><span style=\"color: #008080; text-decoration-color: #008080; font-weight: bold\">1</span>, <span style=\"color: #008080; text-decoration-color: #008080; font-weight: bold\">0</span>, <span style=\"color: #008080; text-decoration-color: #008080; font-weight: bold\">2</span>, <span style=\"color: #008080; text-decoration-color: #008080; font-weight: bold\">1</span><span style=\"font-weight: bold\">]</span>\n",
              "</pre>\n"
            ],
            "text/plain": [
              "\u001b[1m[\u001b[0m\u001b[1;36m1\u001b[0m, \u001b[1;36m0\u001b[0m, \u001b[1;36m2\u001b[0m, \u001b[1;36m1\u001b[0m\u001b[1m]\u001b[0m\n"
            ]
          },
          "metadata": {
            "tags": []
          }
        },
        {
          "output_type": "display_data",
          "data": {
            "text/html": [
              "<pre style=\"white-space:pre;overflow-x:auto;line-height:normal;font-family:Menlo,'DejaVu Sans Mono',consolas,'Courier New',monospace\"><span style=\"color: #008080; text-decoration-color: #008080; font-weight: bold\">-1.2241755116434556</span>\n",
              "</pre>\n"
            ],
            "text/plain": [
              "\u001b[1;36m-1.2241755116434556\u001b[0m\n"
            ]
          },
          "metadata": {
            "tags": []
          }
        },
        {
          "output_type": "display_data",
          "data": {
            "text/html": [
              "<pre style=\"white-space:pre;overflow-x:auto;line-height:normal;font-family:Menlo,'DejaVu Sans Mono',consolas,'Courier New',monospace\"><span style=\"font-weight: bold\">[</span><span style=\"color: #008080; text-decoration-color: #008080; font-weight: bold\">1</span>, <span style=\"color: #008080; text-decoration-color: #008080; font-weight: bold\">0</span>, <span style=\"color: #008080; text-decoration-color: #008080; font-weight: bold\">2</span>, <span style=\"color: #008080; text-decoration-color: #008080; font-weight: bold\">2</span><span style=\"font-weight: bold\">]</span>\n",
              "</pre>\n"
            ],
            "text/plain": [
              "\u001b[1m[\u001b[0m\u001b[1;36m1\u001b[0m, \u001b[1;36m0\u001b[0m, \u001b[1;36m2\u001b[0m, \u001b[1;36m2\u001b[0m\u001b[1m]\u001b[0m\n"
            ]
          },
          "metadata": {
            "tags": []
          }
        },
        {
          "output_type": "display_data",
          "data": {
            "text/html": [
              "<pre style=\"white-space:pre;overflow-x:auto;line-height:normal;font-family:Menlo,'DejaVu Sans Mono',consolas,'Courier New',monospace\"><span style=\"color: #008080; text-decoration-color: #008080; font-weight: bold\">-1.2241755116434556</span>\n",
              "</pre>\n"
            ],
            "text/plain": [
              "\u001b[1;36m-1.2241755116434556\u001b[0m\n"
            ]
          },
          "metadata": {
            "tags": []
          }
        },
        {
          "output_type": "display_data",
          "data": {
            "text/html": [
              "<pre style=\"white-space:pre;overflow-x:auto;line-height:normal;font-family:Menlo,'DejaVu Sans Mono',consolas,'Courier New',monospace\"><span style=\"font-weight: bold\">[</span><span style=\"color: #008080; text-decoration-color: #008080; font-weight: bold\">1</span>, <span style=\"color: #008080; text-decoration-color: #008080; font-weight: bold\">0</span>, <span style=\"color: #008080; text-decoration-color: #008080; font-weight: bold\">2</span>, <span style=\"color: #008080; text-decoration-color: #008080; font-weight: bold\">3</span><span style=\"font-weight: bold\">]</span>\n",
              "</pre>\n"
            ],
            "text/plain": [
              "\u001b[1m[\u001b[0m\u001b[1;36m1\u001b[0m, \u001b[1;36m0\u001b[0m, \u001b[1;36m2\u001b[0m, \u001b[1;36m3\u001b[0m\u001b[1m]\u001b[0m\n"
            ]
          },
          "metadata": {
            "tags": []
          }
        },
        {
          "output_type": "display_data",
          "data": {
            "text/html": [
              "<pre style=\"white-space:pre;overflow-x:auto;line-height:normal;font-family:Menlo,'DejaVu Sans Mono',consolas,'Courier New',monospace\"><span style=\"color: #008080; text-decoration-color: #008080; font-weight: bold\">-1.2241755116434556</span>\n",
              "</pre>\n"
            ],
            "text/plain": [
              "\u001b[1;36m-1.2241755116434556\u001b[0m\n"
            ]
          },
          "metadata": {
            "tags": []
          }
        },
        {
          "output_type": "display_data",
          "data": {
            "text/html": [
              "<pre style=\"white-space:pre;overflow-x:auto;line-height:normal;font-family:Menlo,'DejaVu Sans Mono',consolas,'Courier New',monospace\"><span style=\"font-weight: bold\">[</span><span style=\"color: #008080; text-decoration-color: #008080; font-weight: bold\">1</span>, <span style=\"color: #008080; text-decoration-color: #008080; font-weight: bold\">0</span>, <span style=\"color: #008080; text-decoration-color: #008080; font-weight: bold\">3</span>, <span style=\"color: #008080; text-decoration-color: #008080; font-weight: bold\">0</span><span style=\"font-weight: bold\">]</span>\n",
              "</pre>\n"
            ],
            "text/plain": [
              "\u001b[1m[\u001b[0m\u001b[1;36m1\u001b[0m, \u001b[1;36m0\u001b[0m, \u001b[1;36m3\u001b[0m, \u001b[1;36m0\u001b[0m\u001b[1m]\u001b[0m\n"
            ]
          },
          "metadata": {
            "tags": []
          }
        },
        {
          "output_type": "display_data",
          "data": {
            "text/html": [
              "<pre style=\"white-space:pre;overflow-x:auto;line-height:normal;font-family:Menlo,'DejaVu Sans Mono',consolas,'Courier New',monospace\"><span style=\"color: #008080; text-decoration-color: #008080; font-weight: bold\">-2.3227878003115654</span>\n",
              "</pre>\n"
            ],
            "text/plain": [
              "\u001b[1;36m-2.3227878003115654\u001b[0m\n"
            ]
          },
          "metadata": {
            "tags": []
          }
        },
        {
          "output_type": "display_data",
          "data": {
            "text/html": [
              "<pre style=\"white-space:pre;overflow-x:auto;line-height:normal;font-family:Menlo,'DejaVu Sans Mono',consolas,'Courier New',monospace\"><span style=\"font-weight: bold\">[</span><span style=\"color: #008080; text-decoration-color: #008080; font-weight: bold\">1</span>, <span style=\"color: #008080; text-decoration-color: #008080; font-weight: bold\">0</span>, <span style=\"color: #008080; text-decoration-color: #008080; font-weight: bold\">3</span>, <span style=\"color: #008080; text-decoration-color: #008080; font-weight: bold\">1</span><span style=\"font-weight: bold\">]</span>\n",
              "</pre>\n"
            ],
            "text/plain": [
              "\u001b[1m[\u001b[0m\u001b[1;36m1\u001b[0m, \u001b[1;36m0\u001b[0m, \u001b[1;36m3\u001b[0m, \u001b[1;36m1\u001b[0m\u001b[1m]\u001b[0m\n"
            ]
          },
          "metadata": {
            "tags": []
          }
        },
        {
          "output_type": "display_data",
          "data": {
            "text/html": [
              "<pre style=\"white-space:pre;overflow-x:auto;line-height:normal;font-family:Menlo,'DejaVu Sans Mono',consolas,'Courier New',monospace\"><span style=\"color: #008080; text-decoration-color: #008080; font-weight: bold\">-2.3227878003115654</span>\n",
              "</pre>\n"
            ],
            "text/plain": [
              "\u001b[1;36m-2.3227878003115654\u001b[0m\n"
            ]
          },
          "metadata": {
            "tags": []
          }
        },
        {
          "output_type": "display_data",
          "data": {
            "text/html": [
              "<pre style=\"white-space:pre;overflow-x:auto;line-height:normal;font-family:Menlo,'DejaVu Sans Mono',consolas,'Courier New',monospace\"><span style=\"font-weight: bold\">[</span><span style=\"color: #008080; text-decoration-color: #008080; font-weight: bold\">1</span>, <span style=\"color: #008080; text-decoration-color: #008080; font-weight: bold\">0</span>, <span style=\"color: #008080; text-decoration-color: #008080; font-weight: bold\">3</span>, <span style=\"color: #008080; text-decoration-color: #008080; font-weight: bold\">2</span><span style=\"font-weight: bold\">]</span>\n",
              "</pre>\n"
            ],
            "text/plain": [
              "\u001b[1m[\u001b[0m\u001b[1;36m1\u001b[0m, \u001b[1;36m0\u001b[0m, \u001b[1;36m3\u001b[0m, \u001b[1;36m2\u001b[0m\u001b[1m]\u001b[0m\n"
            ]
          },
          "metadata": {
            "tags": []
          }
        },
        {
          "output_type": "display_data",
          "data": {
            "text/html": [
              "<pre style=\"white-space:pre;overflow-x:auto;line-height:normal;font-family:Menlo,'DejaVu Sans Mono',consolas,'Courier New',monospace\"><span style=\"color: #008080; text-decoration-color: #008080; font-weight: bold\">-2.3227878003115654</span>\n",
              "</pre>\n"
            ],
            "text/plain": [
              "\u001b[1;36m-2.3227878003115654\u001b[0m\n"
            ]
          },
          "metadata": {
            "tags": []
          }
        },
        {
          "output_type": "display_data",
          "data": {
            "text/html": [
              "<pre style=\"white-space:pre;overflow-x:auto;line-height:normal;font-family:Menlo,'DejaVu Sans Mono',consolas,'Courier New',monospace\"><span style=\"font-weight: bold\">[</span><span style=\"color: #008080; text-decoration-color: #008080; font-weight: bold\">1</span>, <span style=\"color: #008080; text-decoration-color: #008080; font-weight: bold\">0</span>, <span style=\"color: #008080; text-decoration-color: #008080; font-weight: bold\">3</span>, <span style=\"color: #008080; text-decoration-color: #008080; font-weight: bold\">3</span><span style=\"font-weight: bold\">]</span>\n",
              "</pre>\n"
            ],
            "text/plain": [
              "\u001b[1m[\u001b[0m\u001b[1;36m1\u001b[0m, \u001b[1;36m0\u001b[0m, \u001b[1;36m3\u001b[0m, \u001b[1;36m3\u001b[0m\u001b[1m]\u001b[0m\n"
            ]
          },
          "metadata": {
            "tags": []
          }
        },
        {
          "output_type": "display_data",
          "data": {
            "text/html": [
              "<pre style=\"white-space:pre;overflow-x:auto;line-height:normal;font-family:Menlo,'DejaVu Sans Mono',consolas,'Courier New',monospace\"><span style=\"color: #008080; text-decoration-color: #008080; font-weight: bold\">-2.3227878003115654</span>\n",
              "</pre>\n"
            ],
            "text/plain": [
              "\u001b[1;36m-2.3227878003115654\u001b[0m\n"
            ]
          },
          "metadata": {
            "tags": []
          }
        },
        {
          "output_type": "display_data",
          "data": {
            "text/html": [
              "<pre style=\"white-space:pre;overflow-x:auto;line-height:normal;font-family:Menlo,'DejaVu Sans Mono',consolas,'Courier New',monospace\"><span style=\"font-weight: bold\">[</span><span style=\"color: #008080; text-decoration-color: #008080; font-weight: bold\">1</span>, <span style=\"color: #008080; text-decoration-color: #008080; font-weight: bold\">0</span>, <span style=\"color: #008080; text-decoration-color: #008080; font-weight: bold\">0</span>, <span style=\"color: #008080; text-decoration-color: #008080; font-weight: bold\">0</span><span style=\"font-weight: bold\">]</span>\n",
              "</pre>\n"
            ],
            "text/plain": [
              "\u001b[1m[\u001b[0m\u001b[1;36m1\u001b[0m, \u001b[1;36m0\u001b[0m, \u001b[1;36m0\u001b[0m, \u001b[1;36m0\u001b[0m\u001b[1m]\u001b[0m\n"
            ]
          },
          "metadata": {
            "tags": []
          }
        },
        {
          "output_type": "display_data",
          "data": {
            "text/html": [
              "<pre style=\"white-space:pre;overflow-x:auto;line-height:normal;font-family:Menlo,'DejaVu Sans Mono',consolas,'Courier New',monospace\"><span style=\"color: #008080; text-decoration-color: #008080; font-weight: bold\">-3.0159349808715104</span>\n",
              "</pre>\n"
            ],
            "text/plain": [
              "\u001b[1;36m-3.0159349808715104\u001b[0m\n"
            ]
          },
          "metadata": {
            "tags": []
          }
        },
        {
          "output_type": "display_data",
          "data": {
            "text/html": [
              "<pre style=\"white-space:pre;overflow-x:auto;line-height:normal;font-family:Menlo,'DejaVu Sans Mono',consolas,'Courier New',monospace\"><span style=\"font-weight: bold\">[</span><span style=\"color: #008080; text-decoration-color: #008080; font-weight: bold\">1</span>, <span style=\"color: #008080; text-decoration-color: #008080; font-weight: bold\">0</span>, <span style=\"color: #008080; text-decoration-color: #008080; font-weight: bold\">0</span>, <span style=\"color: #008080; text-decoration-color: #008080; font-weight: bold\">1</span><span style=\"font-weight: bold\">]</span>\n",
              "</pre>\n"
            ],
            "text/plain": [
              "\u001b[1m[\u001b[0m\u001b[1;36m1\u001b[0m, \u001b[1;36m0\u001b[0m, \u001b[1;36m0\u001b[0m, \u001b[1;36m1\u001b[0m\u001b[1m]\u001b[0m\n"
            ]
          },
          "metadata": {
            "tags": []
          }
        },
        {
          "output_type": "display_data",
          "data": {
            "text/html": [
              "<pre style=\"white-space:pre;overflow-x:auto;line-height:normal;font-family:Menlo,'DejaVu Sans Mono',consolas,'Courier New',monospace\"><span style=\"color: #008080; text-decoration-color: #008080; font-weight: bold\">-3.0159349808715104</span>\n",
              "</pre>\n"
            ],
            "text/plain": [
              "\u001b[1;36m-3.0159349808715104\u001b[0m\n"
            ]
          },
          "metadata": {
            "tags": []
          }
        },
        {
          "output_type": "display_data",
          "data": {
            "text/html": [
              "<pre style=\"white-space:pre;overflow-x:auto;line-height:normal;font-family:Menlo,'DejaVu Sans Mono',consolas,'Courier New',monospace\"><span style=\"font-weight: bold\">[</span><span style=\"color: #008080; text-decoration-color: #008080; font-weight: bold\">1</span>, <span style=\"color: #008080; text-decoration-color: #008080; font-weight: bold\">0</span>, <span style=\"color: #008080; text-decoration-color: #008080; font-weight: bold\">0</span>, <span style=\"color: #008080; text-decoration-color: #008080; font-weight: bold\">2</span><span style=\"font-weight: bold\">]</span>\n",
              "</pre>\n"
            ],
            "text/plain": [
              "\u001b[1m[\u001b[0m\u001b[1;36m1\u001b[0m, \u001b[1;36m0\u001b[0m, \u001b[1;36m0\u001b[0m, \u001b[1;36m2\u001b[0m\u001b[1m]\u001b[0m\n"
            ]
          },
          "metadata": {
            "tags": []
          }
        },
        {
          "output_type": "display_data",
          "data": {
            "text/html": [
              "<pre style=\"white-space:pre;overflow-x:auto;line-height:normal;font-family:Menlo,'DejaVu Sans Mono',consolas,'Courier New',monospace\"><span style=\"color: #008080; text-decoration-color: #008080; font-weight: bold\">-3.0159349808715104</span>\n",
              "</pre>\n"
            ],
            "text/plain": [
              "\u001b[1;36m-3.0159349808715104\u001b[0m\n"
            ]
          },
          "metadata": {
            "tags": []
          }
        },
        {
          "output_type": "display_data",
          "data": {
            "text/html": [
              "<pre style=\"white-space:pre;overflow-x:auto;line-height:normal;font-family:Menlo,'DejaVu Sans Mono',consolas,'Courier New',monospace\"><span style=\"font-weight: bold\">[</span><span style=\"color: #008080; text-decoration-color: #008080; font-weight: bold\">1</span>, <span style=\"color: #008080; text-decoration-color: #008080; font-weight: bold\">0</span>, <span style=\"color: #008080; text-decoration-color: #008080; font-weight: bold\">0</span>, <span style=\"color: #008080; text-decoration-color: #008080; font-weight: bold\">3</span><span style=\"font-weight: bold\">]</span>\n",
              "</pre>\n"
            ],
            "text/plain": [
              "\u001b[1m[\u001b[0m\u001b[1;36m1\u001b[0m, \u001b[1;36m0\u001b[0m, \u001b[1;36m0\u001b[0m, \u001b[1;36m3\u001b[0m\u001b[1m]\u001b[0m\n"
            ]
          },
          "metadata": {
            "tags": []
          }
        },
        {
          "output_type": "display_data",
          "data": {
            "text/html": [
              "<pre style=\"white-space:pre;overflow-x:auto;line-height:normal;font-family:Menlo,'DejaVu Sans Mono',consolas,'Courier New',monospace\"><span style=\"color: #008080; text-decoration-color: #008080; font-weight: bold\">-3.0159349808715104</span>\n",
              "</pre>\n"
            ],
            "text/plain": [
              "\u001b[1;36m-3.0159349808715104\u001b[0m\n"
            ]
          },
          "metadata": {
            "tags": []
          }
        },
        {
          "output_type": "display_data",
          "data": {
            "text/html": [
              "<pre style=\"white-space:pre;overflow-x:auto;line-height:normal;font-family:Menlo,'DejaVu Sans Mono',consolas,'Courier New',monospace\"><span style=\"font-weight: bold\">[</span><span style=\"color: #008080; text-decoration-color: #008080; font-weight: bold\">1</span>, <span style=\"color: #008080; text-decoration-color: #008080; font-weight: bold\">0</span>, <span style=\"color: #008080; text-decoration-color: #008080; font-weight: bold\">1</span>, <span style=\"color: #008080; text-decoration-color: #008080; font-weight: bold\">0</span><span style=\"font-weight: bold\">]</span>\n",
              "</pre>\n"
            ],
            "text/plain": [
              "\u001b[1m[\u001b[0m\u001b[1;36m1\u001b[0m, \u001b[1;36m0\u001b[0m, \u001b[1;36m1\u001b[0m, \u001b[1;36m0\u001b[0m\u001b[1m]\u001b[0m\n"
            ]
          },
          "metadata": {
            "tags": []
          }
        },
        {
          "output_type": "display_data",
          "data": {
            "text/html": [
              "<pre style=\"white-space:pre;overflow-x:auto;line-height:normal;font-family:Menlo,'DejaVu Sans Mono',consolas,'Courier New',monospace\"><span style=\"color: #008080; text-decoration-color: #008080; font-weight: bold\">-3.0159349808715104</span>\n",
              "</pre>\n"
            ],
            "text/plain": [
              "\u001b[1;36m-3.0159349808715104\u001b[0m\n"
            ]
          },
          "metadata": {
            "tags": []
          }
        },
        {
          "output_type": "display_data",
          "data": {
            "text/html": [
              "<pre style=\"white-space:pre;overflow-x:auto;line-height:normal;font-family:Menlo,'DejaVu Sans Mono',consolas,'Courier New',monospace\"><span style=\"font-weight: bold\">[</span><span style=\"color: #008080; text-decoration-color: #008080; font-weight: bold\">1</span>, <span style=\"color: #008080; text-decoration-color: #008080; font-weight: bold\">0</span>, <span style=\"color: #008080; text-decoration-color: #008080; font-weight: bold\">1</span>, <span style=\"color: #008080; text-decoration-color: #008080; font-weight: bold\">1</span><span style=\"font-weight: bold\">]</span>\n",
              "</pre>\n"
            ],
            "text/plain": [
              "\u001b[1m[\u001b[0m\u001b[1;36m1\u001b[0m, \u001b[1;36m0\u001b[0m, \u001b[1;36m1\u001b[0m, \u001b[1;36m1\u001b[0m\u001b[1m]\u001b[0m\n"
            ]
          },
          "metadata": {
            "tags": []
          }
        },
        {
          "output_type": "display_data",
          "data": {
            "text/html": [
              "<pre style=\"white-space:pre;overflow-x:auto;line-height:normal;font-family:Menlo,'DejaVu Sans Mono',consolas,'Courier New',monospace\"><span style=\"color: #008080; text-decoration-color: #008080; font-weight: bold\">-3.0159349808715104</span>\n",
              "</pre>\n"
            ],
            "text/plain": [
              "\u001b[1;36m-3.0159349808715104\u001b[0m\n"
            ]
          },
          "metadata": {
            "tags": []
          }
        },
        {
          "output_type": "display_data",
          "data": {
            "text/html": [
              "<pre style=\"white-space:pre;overflow-x:auto;line-height:normal;font-family:Menlo,'DejaVu Sans Mono',consolas,'Courier New',monospace\"><span style=\"font-weight: bold\">[</span><span style=\"color: #008080; text-decoration-color: #008080; font-weight: bold\">1</span>, <span style=\"color: #008080; text-decoration-color: #008080; font-weight: bold\">0</span>, <span style=\"color: #008080; text-decoration-color: #008080; font-weight: bold\">1</span>, <span style=\"color: #008080; text-decoration-color: #008080; font-weight: bold\">2</span><span style=\"font-weight: bold\">]</span>\n",
              "</pre>\n"
            ],
            "text/plain": [
              "\u001b[1m[\u001b[0m\u001b[1;36m1\u001b[0m, \u001b[1;36m0\u001b[0m, \u001b[1;36m1\u001b[0m, \u001b[1;36m2\u001b[0m\u001b[1m]\u001b[0m\n"
            ]
          },
          "metadata": {
            "tags": []
          }
        },
        {
          "output_type": "display_data",
          "data": {
            "text/html": [
              "<pre style=\"white-space:pre;overflow-x:auto;line-height:normal;font-family:Menlo,'DejaVu Sans Mono',consolas,'Courier New',monospace\"><span style=\"color: #008080; text-decoration-color: #008080; font-weight: bold\">-3.0159349808715104</span>\n",
              "</pre>\n"
            ],
            "text/plain": [
              "\u001b[1;36m-3.0159349808715104\u001b[0m\n"
            ]
          },
          "metadata": {
            "tags": []
          }
        },
        {
          "output_type": "display_data",
          "data": {
            "text/html": [
              "<pre style=\"white-space:pre;overflow-x:auto;line-height:normal;font-family:Menlo,'DejaVu Sans Mono',consolas,'Courier New',monospace\"><span style=\"font-weight: bold\">[</span><span style=\"color: #008080; text-decoration-color: #008080; font-weight: bold\">1</span>, <span style=\"color: #008080; text-decoration-color: #008080; font-weight: bold\">0</span>, <span style=\"color: #008080; text-decoration-color: #008080; font-weight: bold\">1</span>, <span style=\"color: #008080; text-decoration-color: #008080; font-weight: bold\">3</span><span style=\"font-weight: bold\">]</span>\n",
              "</pre>\n"
            ],
            "text/plain": [
              "\u001b[1m[\u001b[0m\u001b[1;36m1\u001b[0m, \u001b[1;36m0\u001b[0m, \u001b[1;36m1\u001b[0m, \u001b[1;36m3\u001b[0m\u001b[1m]\u001b[0m\n"
            ]
          },
          "metadata": {
            "tags": []
          }
        },
        {
          "output_type": "display_data",
          "data": {
            "text/html": [
              "<pre style=\"white-space:pre;overflow-x:auto;line-height:normal;font-family:Menlo,'DejaVu Sans Mono',consolas,'Courier New',monospace\"><span style=\"color: #008080; text-decoration-color: #008080; font-weight: bold\">-3.0159349808715104</span>\n",
              "</pre>\n"
            ],
            "text/plain": [
              "\u001b[1;36m-3.0159349808715104\u001b[0m\n"
            ]
          },
          "metadata": {
            "tags": []
          }
        },
        {
          "output_type": "display_data",
          "data": {
            "text/html": [
              "<pre style=\"white-space:pre;overflow-x:auto;line-height:normal;font-family:Menlo,'DejaVu Sans Mono',consolas,'Courier New',monospace\"><span style=\"font-weight: bold\">[</span><span style=\"color: #008080; text-decoration-color: #008080; font-weight: bold\">1</span>, <span style=\"color: #008080; text-decoration-color: #008080; font-weight: bold\">1</span>, <span style=\"color: #008080; text-decoration-color: #008080; font-weight: bold\">2</span>, <span style=\"color: #008080; text-decoration-color: #008080; font-weight: bold\">0</span><span style=\"font-weight: bold\">]</span>\n",
              "</pre>\n"
            ],
            "text/plain": [
              "\u001b[1m[\u001b[0m\u001b[1;36m1\u001b[0m, \u001b[1;36m1\u001b[0m, \u001b[1;36m2\u001b[0m, \u001b[1;36m0\u001b[0m\u001b[1m]\u001b[0m\n"
            ]
          },
          "metadata": {
            "tags": []
          }
        },
        {
          "output_type": "display_data",
          "data": {
            "text/html": [
              "<pre style=\"white-space:pre;overflow-x:auto;line-height:normal;font-family:Menlo,'DejaVu Sans Mono',consolas,'Courier New',monospace\"><span style=\"color: #008080; text-decoration-color: #008080; font-weight: bold\">-3.170085660698769</span>\n",
              "</pre>\n"
            ],
            "text/plain": [
              "\u001b[1;36m-3.170085660698769\u001b[0m\n"
            ]
          },
          "metadata": {
            "tags": []
          }
        },
        {
          "output_type": "display_data",
          "data": {
            "text/html": [
              "<pre style=\"white-space:pre;overflow-x:auto;line-height:normal;font-family:Menlo,'DejaVu Sans Mono',consolas,'Courier New',monospace\"><span style=\"font-weight: bold\">[</span><span style=\"color: #008080; text-decoration-color: #008080; font-weight: bold\">1</span>, <span style=\"color: #008080; text-decoration-color: #008080; font-weight: bold\">1</span>, <span style=\"color: #008080; text-decoration-color: #008080; font-weight: bold\">2</span>, <span style=\"color: #008080; text-decoration-color: #008080; font-weight: bold\">1</span><span style=\"font-weight: bold\">]</span>\n",
              "</pre>\n"
            ],
            "text/plain": [
              "\u001b[1m[\u001b[0m\u001b[1;36m1\u001b[0m, \u001b[1;36m1\u001b[0m, \u001b[1;36m2\u001b[0m, \u001b[1;36m1\u001b[0m\u001b[1m]\u001b[0m\n"
            ]
          },
          "metadata": {
            "tags": []
          }
        },
        {
          "output_type": "display_data",
          "data": {
            "text/html": [
              "<pre style=\"white-space:pre;overflow-x:auto;line-height:normal;font-family:Menlo,'DejaVu Sans Mono',consolas,'Courier New',monospace\"><span style=\"color: #008080; text-decoration-color: #008080; font-weight: bold\">-3.170085660698769</span>\n",
              "</pre>\n"
            ],
            "text/plain": [
              "\u001b[1;36m-3.170085660698769\u001b[0m\n"
            ]
          },
          "metadata": {
            "tags": []
          }
        },
        {
          "output_type": "display_data",
          "data": {
            "text/html": [
              "<pre style=\"white-space:pre;overflow-x:auto;line-height:normal;font-family:Menlo,'DejaVu Sans Mono',consolas,'Courier New',monospace\"><span style=\"font-weight: bold\">[</span><span style=\"color: #008080; text-decoration-color: #008080; font-weight: bold\">1</span>, <span style=\"color: #008080; text-decoration-color: #008080; font-weight: bold\">1</span>, <span style=\"color: #008080; text-decoration-color: #008080; font-weight: bold\">2</span>, <span style=\"color: #008080; text-decoration-color: #008080; font-weight: bold\">2</span><span style=\"font-weight: bold\">]</span>\n",
              "</pre>\n"
            ],
            "text/plain": [
              "\u001b[1m[\u001b[0m\u001b[1;36m1\u001b[0m, \u001b[1;36m1\u001b[0m, \u001b[1;36m2\u001b[0m, \u001b[1;36m2\u001b[0m\u001b[1m]\u001b[0m\n"
            ]
          },
          "metadata": {
            "tags": []
          }
        },
        {
          "output_type": "display_data",
          "data": {
            "text/html": [
              "<pre style=\"white-space:pre;overflow-x:auto;line-height:normal;font-family:Menlo,'DejaVu Sans Mono',consolas,'Courier New',monospace\"><span style=\"color: #008080; text-decoration-color: #008080; font-weight: bold\">-3.170085660698769</span>\n",
              "</pre>\n"
            ],
            "text/plain": [
              "\u001b[1;36m-3.170085660698769\u001b[0m\n"
            ]
          },
          "metadata": {
            "tags": []
          }
        },
        {
          "output_type": "display_data",
          "data": {
            "text/html": [
              "<pre style=\"white-space:pre;overflow-x:auto;line-height:normal;font-family:Menlo,'DejaVu Sans Mono',consolas,'Courier New',monospace\"><span style=\"font-weight: bold\">[</span><span style=\"color: #008080; text-decoration-color: #008080; font-weight: bold\">1</span>, <span style=\"color: #008080; text-decoration-color: #008080; font-weight: bold\">1</span>, <span style=\"color: #008080; text-decoration-color: #008080; font-weight: bold\">2</span>, <span style=\"color: #008080; text-decoration-color: #008080; font-weight: bold\">3</span><span style=\"font-weight: bold\">]</span>\n",
              "</pre>\n"
            ],
            "text/plain": [
              "\u001b[1m[\u001b[0m\u001b[1;36m1\u001b[0m, \u001b[1;36m1\u001b[0m, \u001b[1;36m2\u001b[0m, \u001b[1;36m3\u001b[0m\u001b[1m]\u001b[0m\n"
            ]
          },
          "metadata": {
            "tags": []
          }
        },
        {
          "output_type": "display_data",
          "data": {
            "text/html": [
              "<pre style=\"white-space:pre;overflow-x:auto;line-height:normal;font-family:Menlo,'DejaVu Sans Mono',consolas,'Courier New',monospace\"><span style=\"color: #008080; text-decoration-color: #008080; font-weight: bold\">-3.170085660698769</span>\n",
              "</pre>\n"
            ],
            "text/plain": [
              "\u001b[1;36m-3.170085660698769\u001b[0m\n"
            ]
          },
          "metadata": {
            "tags": []
          }
        },
        {
          "output_type": "display_data",
          "data": {
            "text/html": [
              "<pre style=\"white-space:pre;overflow-x:auto;line-height:normal;font-family:Menlo,'DejaVu Sans Mono',consolas,'Courier New',monospace\"><span style=\"font-weight: bold\">[</span><span style=\"color: #008080; text-decoration-color: #008080; font-weight: bold\">1</span>, <span style=\"color: #008080; text-decoration-color: #008080; font-weight: bold\">0</span>, <span style=\"color: #008080; text-decoration-color: #008080; font-weight: bold\">2</span>, <span style=\"color: #008080; text-decoration-color: #008080; font-weight: bold\">3</span>, <span style=\"color: #008080; text-decoration-color: #008080; font-weight: bold\">0</span><span style=\"font-weight: bold\">]</span>\n",
              "</pre>\n"
            ],
            "text/plain": [
              "\u001b[1m[\u001b[0m\u001b[1;36m1\u001b[0m, \u001b[1;36m0\u001b[0m, \u001b[1;36m2\u001b[0m, \u001b[1;36m3\u001b[0m, \u001b[1;36m0\u001b[0m\u001b[1m]\u001b[0m\n"
            ]
          },
          "metadata": {
            "tags": []
          }
        },
        {
          "output_type": "display_data",
          "data": {
            "text/html": [
              "<pre style=\"white-space:pre;overflow-x:auto;line-height:normal;font-family:Menlo,'DejaVu Sans Mono',consolas,'Courier New',monospace\"><span style=\"color: #008080; text-decoration-color: #008080; font-weight: bold\">-1.580850455582188</span>\n",
              "</pre>\n"
            ],
            "text/plain": [
              "\u001b[1;36m-1.580850455582188\u001b[0m\n"
            ]
          },
          "metadata": {
            "tags": []
          }
        },
        {
          "output_type": "display_data",
          "data": {
            "text/html": [
              "<pre style=\"white-space:pre;overflow-x:auto;line-height:normal;font-family:Menlo,'DejaVu Sans Mono',consolas,'Courier New',monospace\"><span style=\"font-weight: bold\">[</span><span style=\"color: #008080; text-decoration-color: #008080; font-weight: bold\">1</span>, <span style=\"color: #008080; text-decoration-color: #008080; font-weight: bold\">0</span>, <span style=\"color: #008080; text-decoration-color: #008080; font-weight: bold\">2</span>, <span style=\"color: #008080; text-decoration-color: #008080; font-weight: bold\">3</span>, <span style=\"color: #008080; text-decoration-color: #008080; font-weight: bold\">1</span><span style=\"font-weight: bold\">]</span>\n",
              "</pre>\n"
            ],
            "text/plain": [
              "\u001b[1m[\u001b[0m\u001b[1;36m1\u001b[0m, \u001b[1;36m0\u001b[0m, \u001b[1;36m2\u001b[0m, \u001b[1;36m3\u001b[0m, \u001b[1;36m1\u001b[0m\u001b[1m]\u001b[0m\n"
            ]
          },
          "metadata": {
            "tags": []
          }
        },
        {
          "output_type": "display_data",
          "data": {
            "text/html": [
              "<pre style=\"white-space:pre;overflow-x:auto;line-height:normal;font-family:Menlo,'DejaVu Sans Mono',consolas,'Courier New',monospace\"><span style=\"color: #008080; text-decoration-color: #008080; font-weight: bold\">-1.580850455582188</span>\n",
              "</pre>\n"
            ],
            "text/plain": [
              "\u001b[1;36m-1.580850455582188\u001b[0m\n"
            ]
          },
          "metadata": {
            "tags": []
          }
        },
        {
          "output_type": "display_data",
          "data": {
            "text/html": [
              "<pre style=\"white-space:pre;overflow-x:auto;line-height:normal;font-family:Menlo,'DejaVu Sans Mono',consolas,'Courier New',monospace\"><span style=\"font-weight: bold\">[</span><span style=\"color: #008080; text-decoration-color: #008080; font-weight: bold\">1</span>, <span style=\"color: #008080; text-decoration-color: #008080; font-weight: bold\">0</span>, <span style=\"color: #008080; text-decoration-color: #008080; font-weight: bold\">2</span>, <span style=\"color: #008080; text-decoration-color: #008080; font-weight: bold\">3</span>, <span style=\"color: #008080; text-decoration-color: #008080; font-weight: bold\">2</span><span style=\"font-weight: bold\">]</span>\n",
              "</pre>\n"
            ],
            "text/plain": [
              "\u001b[1m[\u001b[0m\u001b[1;36m1\u001b[0m, \u001b[1;36m0\u001b[0m, \u001b[1;36m2\u001b[0m, \u001b[1;36m3\u001b[0m, \u001b[1;36m2\u001b[0m\u001b[1m]\u001b[0m\n"
            ]
          },
          "metadata": {
            "tags": []
          }
        },
        {
          "output_type": "display_data",
          "data": {
            "text/html": [
              "<pre style=\"white-space:pre;overflow-x:auto;line-height:normal;font-family:Menlo,'DejaVu Sans Mono',consolas,'Courier New',monospace\"><span style=\"color: #008080; text-decoration-color: #008080; font-weight: bold\">-1.580850455582188</span>\n",
              "</pre>\n"
            ],
            "text/plain": [
              "\u001b[1;36m-1.580850455582188\u001b[0m\n"
            ]
          },
          "metadata": {
            "tags": []
          }
        },
        {
          "output_type": "display_data",
          "data": {
            "text/html": [
              "<pre style=\"white-space:pre;overflow-x:auto;line-height:normal;font-family:Menlo,'DejaVu Sans Mono',consolas,'Courier New',monospace\"><span style=\"font-weight: bold\">[</span><span style=\"color: #008080; text-decoration-color: #008080; font-weight: bold\">1</span>, <span style=\"color: #008080; text-decoration-color: #008080; font-weight: bold\">0</span>, <span style=\"color: #008080; text-decoration-color: #008080; font-weight: bold\">2</span>, <span style=\"color: #008080; text-decoration-color: #008080; font-weight: bold\">3</span>, <span style=\"color: #008080; text-decoration-color: #008080; font-weight: bold\">3</span><span style=\"font-weight: bold\">]</span>\n",
              "</pre>\n"
            ],
            "text/plain": [
              "\u001b[1m[\u001b[0m\u001b[1;36m1\u001b[0m, \u001b[1;36m0\u001b[0m, \u001b[1;36m2\u001b[0m, \u001b[1;36m3\u001b[0m, \u001b[1;36m3\u001b[0m\u001b[1m]\u001b[0m\n"
            ]
          },
          "metadata": {
            "tags": []
          }
        },
        {
          "output_type": "display_data",
          "data": {
            "text/html": [
              "<pre style=\"white-space:pre;overflow-x:auto;line-height:normal;font-family:Menlo,'DejaVu Sans Mono',consolas,'Courier New',monospace\"><span style=\"color: #008080; text-decoration-color: #008080; font-weight: bold\">-1.580850455582188</span>\n",
              "</pre>\n"
            ],
            "text/plain": [
              "\u001b[1;36m-1.580850455582188\u001b[0m\n"
            ]
          },
          "metadata": {
            "tags": []
          }
        },
        {
          "output_type": "display_data",
          "data": {
            "text/html": [
              "<pre style=\"white-space:pre;overflow-x:auto;line-height:normal;font-family:Menlo,'DejaVu Sans Mono',consolas,'Courier New',monospace\"><span style=\"font-weight: bold\">[</span><span style=\"color: #008080; text-decoration-color: #008080; font-weight: bold\">1</span>, <span style=\"color: #008080; text-decoration-color: #008080; font-weight: bold\">0</span>, <span style=\"color: #008080; text-decoration-color: #008080; font-weight: bold\">3</span>, <span style=\"color: #008080; text-decoration-color: #008080; font-weight: bold\">3</span>, <span style=\"color: #008080; text-decoration-color: #008080; font-weight: bold\">0</span><span style=\"font-weight: bold\">]</span>\n",
              "</pre>\n"
            ],
            "text/plain": [
              "\u001b[1m[\u001b[0m\u001b[1;36m1\u001b[0m, \u001b[1;36m0\u001b[0m, \u001b[1;36m3\u001b[0m, \u001b[1;36m3\u001b[0m, \u001b[1;36m0\u001b[0m\u001b[1m]\u001b[0m\n"
            ]
          },
          "metadata": {
            "tags": []
          }
        },
        {
          "output_type": "display_data",
          "data": {
            "text/html": [
              "<pre style=\"white-space:pre;overflow-x:auto;line-height:normal;font-family:Menlo,'DejaVu Sans Mono',consolas,'Courier New',monospace\"><span style=\"color: #008080; text-decoration-color: #008080; font-weight: bold\">-2.679462744250298</span>\n",
              "</pre>\n"
            ],
            "text/plain": [
              "\u001b[1;36m-2.679462744250298\u001b[0m\n"
            ]
          },
          "metadata": {
            "tags": []
          }
        },
        {
          "output_type": "display_data",
          "data": {
            "text/html": [
              "<pre style=\"white-space:pre;overflow-x:auto;line-height:normal;font-family:Menlo,'DejaVu Sans Mono',consolas,'Courier New',monospace\"><span style=\"font-weight: bold\">[</span><span style=\"color: #008080; text-decoration-color: #008080; font-weight: bold\">1</span>, <span style=\"color: #008080; text-decoration-color: #008080; font-weight: bold\">0</span>, <span style=\"color: #008080; text-decoration-color: #008080; font-weight: bold\">3</span>, <span style=\"color: #008080; text-decoration-color: #008080; font-weight: bold\">3</span>, <span style=\"color: #008080; text-decoration-color: #008080; font-weight: bold\">1</span><span style=\"font-weight: bold\">]</span>\n",
              "</pre>\n"
            ],
            "text/plain": [
              "\u001b[1m[\u001b[0m\u001b[1;36m1\u001b[0m, \u001b[1;36m0\u001b[0m, \u001b[1;36m3\u001b[0m, \u001b[1;36m3\u001b[0m, \u001b[1;36m1\u001b[0m\u001b[1m]\u001b[0m\n"
            ]
          },
          "metadata": {
            "tags": []
          }
        },
        {
          "output_type": "display_data",
          "data": {
            "text/html": [
              "<pre style=\"white-space:pre;overflow-x:auto;line-height:normal;font-family:Menlo,'DejaVu Sans Mono',consolas,'Courier New',monospace\"><span style=\"color: #008080; text-decoration-color: #008080; font-weight: bold\">-2.679462744250298</span>\n",
              "</pre>\n"
            ],
            "text/plain": [
              "\u001b[1;36m-2.679462744250298\u001b[0m\n"
            ]
          },
          "metadata": {
            "tags": []
          }
        },
        {
          "output_type": "display_data",
          "data": {
            "text/html": [
              "<pre style=\"white-space:pre;overflow-x:auto;line-height:normal;font-family:Menlo,'DejaVu Sans Mono',consolas,'Courier New',monospace\"><span style=\"font-weight: bold\">[</span><span style=\"color: #008080; text-decoration-color: #008080; font-weight: bold\">1</span>, <span style=\"color: #008080; text-decoration-color: #008080; font-weight: bold\">0</span>, <span style=\"color: #008080; text-decoration-color: #008080; font-weight: bold\">3</span>, <span style=\"color: #008080; text-decoration-color: #008080; font-weight: bold\">3</span>, <span style=\"color: #008080; text-decoration-color: #008080; font-weight: bold\">2</span><span style=\"font-weight: bold\">]</span>\n",
              "</pre>\n"
            ],
            "text/plain": [
              "\u001b[1m[\u001b[0m\u001b[1;36m1\u001b[0m, \u001b[1;36m0\u001b[0m, \u001b[1;36m3\u001b[0m, \u001b[1;36m3\u001b[0m, \u001b[1;36m2\u001b[0m\u001b[1m]\u001b[0m\n"
            ]
          },
          "metadata": {
            "tags": []
          }
        },
        {
          "output_type": "display_data",
          "data": {
            "text/html": [
              "<pre style=\"white-space:pre;overflow-x:auto;line-height:normal;font-family:Menlo,'DejaVu Sans Mono',consolas,'Courier New',monospace\"><span style=\"color: #008080; text-decoration-color: #008080; font-weight: bold\">-2.679462744250298</span>\n",
              "</pre>\n"
            ],
            "text/plain": [
              "\u001b[1;36m-2.679462744250298\u001b[0m\n"
            ]
          },
          "metadata": {
            "tags": []
          }
        },
        {
          "output_type": "display_data",
          "data": {
            "text/html": [
              "<pre style=\"white-space:pre;overflow-x:auto;line-height:normal;font-family:Menlo,'DejaVu Sans Mono',consolas,'Courier New',monospace\"><span style=\"font-weight: bold\">[</span><span style=\"color: #008080; text-decoration-color: #008080; font-weight: bold\">1</span>, <span style=\"color: #008080; text-decoration-color: #008080; font-weight: bold\">0</span>, <span style=\"color: #008080; text-decoration-color: #008080; font-weight: bold\">3</span>, <span style=\"color: #008080; text-decoration-color: #008080; font-weight: bold\">3</span>, <span style=\"color: #008080; text-decoration-color: #008080; font-weight: bold\">3</span><span style=\"font-weight: bold\">]</span>\n",
              "</pre>\n"
            ],
            "text/plain": [
              "\u001b[1m[\u001b[0m\u001b[1;36m1\u001b[0m, \u001b[1;36m0\u001b[0m, \u001b[1;36m3\u001b[0m, \u001b[1;36m3\u001b[0m, \u001b[1;36m3\u001b[0m\u001b[1m]\u001b[0m\n"
            ]
          },
          "metadata": {
            "tags": []
          }
        },
        {
          "output_type": "display_data",
          "data": {
            "text/html": [
              "<pre style=\"white-space:pre;overflow-x:auto;line-height:normal;font-family:Menlo,'DejaVu Sans Mono',consolas,'Courier New',monospace\"><span style=\"color: #008080; text-decoration-color: #008080; font-weight: bold\">-2.679462744250298</span>\n",
              "</pre>\n"
            ],
            "text/plain": [
              "\u001b[1;36m-2.679462744250298\u001b[0m\n"
            ]
          },
          "metadata": {
            "tags": []
          }
        },
        {
          "output_type": "display_data",
          "data": {
            "text/html": [
              "<pre style=\"white-space:pre;overflow-x:auto;line-height:normal;font-family:Menlo,'DejaVu Sans Mono',consolas,'Courier New',monospace\"><span style=\"font-weight: bold\">[</span><span style=\"color: #008080; text-decoration-color: #008080; font-weight: bold\">1</span>, <span style=\"color: #008080; text-decoration-color: #008080; font-weight: bold\">0</span>, <span style=\"color: #008080; text-decoration-color: #008080; font-weight: bold\">0</span>, <span style=\"color: #008080; text-decoration-color: #008080; font-weight: bold\">3</span>, <span style=\"color: #008080; text-decoration-color: #008080; font-weight: bold\">0</span><span style=\"font-weight: bold\">]</span>\n",
              "</pre>\n"
            ],
            "text/plain": [
              "\u001b[1m[\u001b[0m\u001b[1;36m1\u001b[0m, \u001b[1;36m0\u001b[0m, \u001b[1;36m0\u001b[0m, \u001b[1;36m3\u001b[0m, \u001b[1;36m0\u001b[0m\u001b[1m]\u001b[0m\n"
            ]
          },
          "metadata": {
            "tags": []
          }
        },
        {
          "output_type": "display_data",
          "data": {
            "text/html": [
              "<pre style=\"white-space:pre;overflow-x:auto;line-height:normal;font-family:Menlo,'DejaVu Sans Mono',consolas,'Courier New',monospace\"><span style=\"color: #008080; text-decoration-color: #008080; font-weight: bold\">-3.372609924810243</span>\n",
              "</pre>\n"
            ],
            "text/plain": [
              "\u001b[1;36m-3.372609924810243\u001b[0m\n"
            ]
          },
          "metadata": {
            "tags": []
          }
        },
        {
          "output_type": "display_data",
          "data": {
            "text/html": [
              "<pre style=\"white-space:pre;overflow-x:auto;line-height:normal;font-family:Menlo,'DejaVu Sans Mono',consolas,'Courier New',monospace\"><span style=\"font-weight: bold\">[</span><span style=\"color: #008080; text-decoration-color: #008080; font-weight: bold\">1</span>, <span style=\"color: #008080; text-decoration-color: #008080; font-weight: bold\">0</span>, <span style=\"color: #008080; text-decoration-color: #008080; font-weight: bold\">0</span>, <span style=\"color: #008080; text-decoration-color: #008080; font-weight: bold\">3</span>, <span style=\"color: #008080; text-decoration-color: #008080; font-weight: bold\">1</span><span style=\"font-weight: bold\">]</span>\n",
              "</pre>\n"
            ],
            "text/plain": [
              "\u001b[1m[\u001b[0m\u001b[1;36m1\u001b[0m, \u001b[1;36m0\u001b[0m, \u001b[1;36m0\u001b[0m, \u001b[1;36m3\u001b[0m, \u001b[1;36m1\u001b[0m\u001b[1m]\u001b[0m\n"
            ]
          },
          "metadata": {
            "tags": []
          }
        },
        {
          "output_type": "display_data",
          "data": {
            "text/html": [
              "<pre style=\"white-space:pre;overflow-x:auto;line-height:normal;font-family:Menlo,'DejaVu Sans Mono',consolas,'Courier New',monospace\"><span style=\"color: #008080; text-decoration-color: #008080; font-weight: bold\">-3.372609924810243</span>\n",
              "</pre>\n"
            ],
            "text/plain": [
              "\u001b[1;36m-3.372609924810243\u001b[0m\n"
            ]
          },
          "metadata": {
            "tags": []
          }
        },
        {
          "output_type": "display_data",
          "data": {
            "text/html": [
              "<pre style=\"white-space:pre;overflow-x:auto;line-height:normal;font-family:Menlo,'DejaVu Sans Mono',consolas,'Courier New',monospace\"><span style=\"font-weight: bold\">[</span><span style=\"color: #008080; text-decoration-color: #008080; font-weight: bold\">1</span>, <span style=\"color: #008080; text-decoration-color: #008080; font-weight: bold\">0</span>, <span style=\"color: #008080; text-decoration-color: #008080; font-weight: bold\">0</span>, <span style=\"color: #008080; text-decoration-color: #008080; font-weight: bold\">3</span>, <span style=\"color: #008080; text-decoration-color: #008080; font-weight: bold\">2</span><span style=\"font-weight: bold\">]</span>\n",
              "</pre>\n"
            ],
            "text/plain": [
              "\u001b[1m[\u001b[0m\u001b[1;36m1\u001b[0m, \u001b[1;36m0\u001b[0m, \u001b[1;36m0\u001b[0m, \u001b[1;36m3\u001b[0m, \u001b[1;36m2\u001b[0m\u001b[1m]\u001b[0m\n"
            ]
          },
          "metadata": {
            "tags": []
          }
        },
        {
          "output_type": "display_data",
          "data": {
            "text/html": [
              "<pre style=\"white-space:pre;overflow-x:auto;line-height:normal;font-family:Menlo,'DejaVu Sans Mono',consolas,'Courier New',monospace\"><span style=\"color: #008080; text-decoration-color: #008080; font-weight: bold\">-3.372609924810243</span>\n",
              "</pre>\n"
            ],
            "text/plain": [
              "\u001b[1;36m-3.372609924810243\u001b[0m\n"
            ]
          },
          "metadata": {
            "tags": []
          }
        },
        {
          "output_type": "display_data",
          "data": {
            "text/html": [
              "<pre style=\"white-space:pre;overflow-x:auto;line-height:normal;font-family:Menlo,'DejaVu Sans Mono',consolas,'Courier New',monospace\"><span style=\"font-weight: bold\">[</span><span style=\"color: #008080; text-decoration-color: #008080; font-weight: bold\">1</span>, <span style=\"color: #008080; text-decoration-color: #008080; font-weight: bold\">0</span>, <span style=\"color: #008080; text-decoration-color: #008080; font-weight: bold\">0</span>, <span style=\"color: #008080; text-decoration-color: #008080; font-weight: bold\">3</span>, <span style=\"color: #008080; text-decoration-color: #008080; font-weight: bold\">3</span><span style=\"font-weight: bold\">]</span>\n",
              "</pre>\n"
            ],
            "text/plain": [
              "\u001b[1m[\u001b[0m\u001b[1;36m1\u001b[0m, \u001b[1;36m0\u001b[0m, \u001b[1;36m0\u001b[0m, \u001b[1;36m3\u001b[0m, \u001b[1;36m3\u001b[0m\u001b[1m]\u001b[0m\n"
            ]
          },
          "metadata": {
            "tags": []
          }
        },
        {
          "output_type": "display_data",
          "data": {
            "text/html": [
              "<pre style=\"white-space:pre;overflow-x:auto;line-height:normal;font-family:Menlo,'DejaVu Sans Mono',consolas,'Courier New',monospace\"><span style=\"color: #008080; text-decoration-color: #008080; font-weight: bold\">-3.372609924810243</span>\n",
              "</pre>\n"
            ],
            "text/plain": [
              "\u001b[1;36m-3.372609924810243\u001b[0m\n"
            ]
          },
          "metadata": {
            "tags": []
          }
        },
        {
          "output_type": "display_data",
          "data": {
            "text/html": [
              "<pre style=\"white-space:pre;overflow-x:auto;line-height:normal;font-family:Menlo,'DejaVu Sans Mono',consolas,'Courier New',monospace\"><span style=\"font-weight: bold\">[</span><span style=\"color: #008080; text-decoration-color: #008080; font-weight: bold\">1</span>, <span style=\"color: #008080; text-decoration-color: #008080; font-weight: bold\">0</span>, <span style=\"color: #008080; text-decoration-color: #008080; font-weight: bold\">1</span>, <span style=\"color: #008080; text-decoration-color: #008080; font-weight: bold\">3</span>, <span style=\"color: #008080; text-decoration-color: #008080; font-weight: bold\">0</span><span style=\"font-weight: bold\">]</span>\n",
              "</pre>\n"
            ],
            "text/plain": [
              "\u001b[1m[\u001b[0m\u001b[1;36m1\u001b[0m, \u001b[1;36m0\u001b[0m, \u001b[1;36m1\u001b[0m, \u001b[1;36m3\u001b[0m, \u001b[1;36m0\u001b[0m\u001b[1m]\u001b[0m\n"
            ]
          },
          "metadata": {
            "tags": []
          }
        },
        {
          "output_type": "display_data",
          "data": {
            "text/html": [
              "<pre style=\"white-space:pre;overflow-x:auto;line-height:normal;font-family:Menlo,'DejaVu Sans Mono',consolas,'Courier New',monospace\"><span style=\"color: #008080; text-decoration-color: #008080; font-weight: bold\">-3.372609924810243</span>\n",
              "</pre>\n"
            ],
            "text/plain": [
              "\u001b[1;36m-3.372609924810243\u001b[0m\n"
            ]
          },
          "metadata": {
            "tags": []
          }
        },
        {
          "output_type": "display_data",
          "data": {
            "text/html": [
              "<pre style=\"white-space:pre;overflow-x:auto;line-height:normal;font-family:Menlo,'DejaVu Sans Mono',consolas,'Courier New',monospace\"><span style=\"font-weight: bold\">[</span><span style=\"color: #008080; text-decoration-color: #008080; font-weight: bold\">1</span>, <span style=\"color: #008080; text-decoration-color: #008080; font-weight: bold\">0</span>, <span style=\"color: #008080; text-decoration-color: #008080; font-weight: bold\">1</span>, <span style=\"color: #008080; text-decoration-color: #008080; font-weight: bold\">3</span>, <span style=\"color: #008080; text-decoration-color: #008080; font-weight: bold\">1</span><span style=\"font-weight: bold\">]</span>\n",
              "</pre>\n"
            ],
            "text/plain": [
              "\u001b[1m[\u001b[0m\u001b[1;36m1\u001b[0m, \u001b[1;36m0\u001b[0m, \u001b[1;36m1\u001b[0m, \u001b[1;36m3\u001b[0m, \u001b[1;36m1\u001b[0m\u001b[1m]\u001b[0m\n"
            ]
          },
          "metadata": {
            "tags": []
          }
        },
        {
          "output_type": "display_data",
          "data": {
            "text/html": [
              "<pre style=\"white-space:pre;overflow-x:auto;line-height:normal;font-family:Menlo,'DejaVu Sans Mono',consolas,'Courier New',monospace\"><span style=\"color: #008080; text-decoration-color: #008080; font-weight: bold\">-3.372609924810243</span>\n",
              "</pre>\n"
            ],
            "text/plain": [
              "\u001b[1;36m-3.372609924810243\u001b[0m\n"
            ]
          },
          "metadata": {
            "tags": []
          }
        },
        {
          "output_type": "display_data",
          "data": {
            "text/html": [
              "<pre style=\"white-space:pre;overflow-x:auto;line-height:normal;font-family:Menlo,'DejaVu Sans Mono',consolas,'Courier New',monospace\"><span style=\"font-weight: bold\">[</span><span style=\"color: #008080; text-decoration-color: #008080; font-weight: bold\">1</span>, <span style=\"color: #008080; text-decoration-color: #008080; font-weight: bold\">0</span>, <span style=\"color: #008080; text-decoration-color: #008080; font-weight: bold\">1</span>, <span style=\"color: #008080; text-decoration-color: #008080; font-weight: bold\">3</span>, <span style=\"color: #008080; text-decoration-color: #008080; font-weight: bold\">2</span><span style=\"font-weight: bold\">]</span>\n",
              "</pre>\n"
            ],
            "text/plain": [
              "\u001b[1m[\u001b[0m\u001b[1;36m1\u001b[0m, \u001b[1;36m0\u001b[0m, \u001b[1;36m1\u001b[0m, \u001b[1;36m3\u001b[0m, \u001b[1;36m2\u001b[0m\u001b[1m]\u001b[0m\n"
            ]
          },
          "metadata": {
            "tags": []
          }
        },
        {
          "output_type": "display_data",
          "data": {
            "text/html": [
              "<pre style=\"white-space:pre;overflow-x:auto;line-height:normal;font-family:Menlo,'DejaVu Sans Mono',consolas,'Courier New',monospace\"><span style=\"color: #008080; text-decoration-color: #008080; font-weight: bold\">-3.372609924810243</span>\n",
              "</pre>\n"
            ],
            "text/plain": [
              "\u001b[1;36m-3.372609924810243\u001b[0m\n"
            ]
          },
          "metadata": {
            "tags": []
          }
        },
        {
          "output_type": "display_data",
          "data": {
            "text/html": [
              "<pre style=\"white-space:pre;overflow-x:auto;line-height:normal;font-family:Menlo,'DejaVu Sans Mono',consolas,'Courier New',monospace\"><span style=\"font-weight: bold\">[</span><span style=\"color: #008080; text-decoration-color: #008080; font-weight: bold\">1</span>, <span style=\"color: #008080; text-decoration-color: #008080; font-weight: bold\">0</span>, <span style=\"color: #008080; text-decoration-color: #008080; font-weight: bold\">1</span>, <span style=\"color: #008080; text-decoration-color: #008080; font-weight: bold\">3</span>, <span style=\"color: #008080; text-decoration-color: #008080; font-weight: bold\">3</span><span style=\"font-weight: bold\">]</span>\n",
              "</pre>\n"
            ],
            "text/plain": [
              "\u001b[1m[\u001b[0m\u001b[1;36m1\u001b[0m, \u001b[1;36m0\u001b[0m, \u001b[1;36m1\u001b[0m, \u001b[1;36m3\u001b[0m, \u001b[1;36m3\u001b[0m\u001b[1m]\u001b[0m\n"
            ]
          },
          "metadata": {
            "tags": []
          }
        },
        {
          "output_type": "display_data",
          "data": {
            "text/html": [
              "<pre style=\"white-space:pre;overflow-x:auto;line-height:normal;font-family:Menlo,'DejaVu Sans Mono',consolas,'Courier New',monospace\"><span style=\"color: #008080; text-decoration-color: #008080; font-weight: bold\">-3.372609924810243</span>\n",
              "</pre>\n"
            ],
            "text/plain": [
              "\u001b[1;36m-3.372609924810243\u001b[0m\n"
            ]
          },
          "metadata": {
            "tags": []
          }
        },
        {
          "output_type": "display_data",
          "data": {
            "text/html": [
              "<pre style=\"white-space:pre;overflow-x:auto;line-height:normal;font-family:Menlo,'DejaVu Sans Mono',consolas,'Courier New',monospace\"><span style=\"font-weight: bold\">[</span><span style=\"color: #008080; text-decoration-color: #008080; font-weight: bold\">1</span>, <span style=\"color: #008080; text-decoration-color: #008080; font-weight: bold\">0</span>, <span style=\"color: #008080; text-decoration-color: #008080; font-weight: bold\">2</span>, <span style=\"color: #008080; text-decoration-color: #008080; font-weight: bold\">0</span>, <span style=\"color: #008080; text-decoration-color: #008080; font-weight: bold\">0</span><span style=\"font-weight: bold\">]</span>\n",
              "</pre>\n"
            ],
            "text/plain": [
              "\u001b[1m[\u001b[0m\u001b[1;36m1\u001b[0m, \u001b[1;36m0\u001b[0m, \u001b[1;36m2\u001b[0m, \u001b[1;36m0\u001b[0m, \u001b[1;36m0\u001b[0m\u001b[1m]\u001b[0m\n"
            ]
          },
          "metadata": {
            "tags": []
          }
        },
        {
          "output_type": "display_data",
          "data": {
            "text/html": [
              "<pre style=\"white-space:pre;overflow-x:auto;line-height:normal;font-family:Menlo,'DejaVu Sans Mono',consolas,'Courier New',monospace\"><span style=\"color: #008080; text-decoration-color: #008080; font-weight: bold\">-3.5267606046375013</span>\n",
              "</pre>\n"
            ],
            "text/plain": [
              "\u001b[1;36m-3.5267606046375013\u001b[0m\n"
            ]
          },
          "metadata": {
            "tags": []
          }
        },
        {
          "output_type": "display_data",
          "data": {
            "text/html": [
              "<pre style=\"white-space:pre;overflow-x:auto;line-height:normal;font-family:Menlo,'DejaVu Sans Mono',consolas,'Courier New',monospace\"><span style=\"font-weight: bold\">[</span><span style=\"color: #008080; text-decoration-color: #008080; font-weight: bold\">1</span>, <span style=\"color: #008080; text-decoration-color: #008080; font-weight: bold\">0</span>, <span style=\"color: #008080; text-decoration-color: #008080; font-weight: bold\">2</span>, <span style=\"color: #008080; text-decoration-color: #008080; font-weight: bold\">0</span>, <span style=\"color: #008080; text-decoration-color: #008080; font-weight: bold\">1</span><span style=\"font-weight: bold\">]</span>\n",
              "</pre>\n"
            ],
            "text/plain": [
              "\u001b[1m[\u001b[0m\u001b[1;36m1\u001b[0m, \u001b[1;36m0\u001b[0m, \u001b[1;36m2\u001b[0m, \u001b[1;36m0\u001b[0m, \u001b[1;36m1\u001b[0m\u001b[1m]\u001b[0m\n"
            ]
          },
          "metadata": {
            "tags": []
          }
        },
        {
          "output_type": "display_data",
          "data": {
            "text/html": [
              "<pre style=\"white-space:pre;overflow-x:auto;line-height:normal;font-family:Menlo,'DejaVu Sans Mono',consolas,'Courier New',monospace\"><span style=\"color: #008080; text-decoration-color: #008080; font-weight: bold\">-3.5267606046375013</span>\n",
              "</pre>\n"
            ],
            "text/plain": [
              "\u001b[1;36m-3.5267606046375013\u001b[0m\n"
            ]
          },
          "metadata": {
            "tags": []
          }
        },
        {
          "output_type": "display_data",
          "data": {
            "text/html": [
              "<pre style=\"white-space:pre;overflow-x:auto;line-height:normal;font-family:Menlo,'DejaVu Sans Mono',consolas,'Courier New',monospace\"><span style=\"font-weight: bold\">[</span><span style=\"color: #008080; text-decoration-color: #008080; font-weight: bold\">1</span>, <span style=\"color: #008080; text-decoration-color: #008080; font-weight: bold\">0</span>, <span style=\"color: #008080; text-decoration-color: #008080; font-weight: bold\">2</span>, <span style=\"color: #008080; text-decoration-color: #008080; font-weight: bold\">0</span>, <span style=\"color: #008080; text-decoration-color: #008080; font-weight: bold\">2</span><span style=\"font-weight: bold\">]</span>\n",
              "</pre>\n"
            ],
            "text/plain": [
              "\u001b[1m[\u001b[0m\u001b[1;36m1\u001b[0m, \u001b[1;36m0\u001b[0m, \u001b[1;36m2\u001b[0m, \u001b[1;36m0\u001b[0m, \u001b[1;36m2\u001b[0m\u001b[1m]\u001b[0m\n"
            ]
          },
          "metadata": {
            "tags": []
          }
        },
        {
          "output_type": "display_data",
          "data": {
            "text/html": [
              "<pre style=\"white-space:pre;overflow-x:auto;line-height:normal;font-family:Menlo,'DejaVu Sans Mono',consolas,'Courier New',monospace\"><span style=\"color: #008080; text-decoration-color: #008080; font-weight: bold\">-3.5267606046375013</span>\n",
              "</pre>\n"
            ],
            "text/plain": [
              "\u001b[1;36m-3.5267606046375013\u001b[0m\n"
            ]
          },
          "metadata": {
            "tags": []
          }
        },
        {
          "output_type": "display_data",
          "data": {
            "text/html": [
              "<pre style=\"white-space:pre;overflow-x:auto;line-height:normal;font-family:Menlo,'DejaVu Sans Mono',consolas,'Courier New',monospace\"><span style=\"font-weight: bold\">[</span><span style=\"color: #008080; text-decoration-color: #008080; font-weight: bold\">1</span>, <span style=\"color: #008080; text-decoration-color: #008080; font-weight: bold\">0</span>, <span style=\"color: #008080; text-decoration-color: #008080; font-weight: bold\">2</span>, <span style=\"color: #008080; text-decoration-color: #008080; font-weight: bold\">0</span>, <span style=\"color: #008080; text-decoration-color: #008080; font-weight: bold\">3</span><span style=\"font-weight: bold\">]</span>\n",
              "</pre>\n"
            ],
            "text/plain": [
              "\u001b[1m[\u001b[0m\u001b[1;36m1\u001b[0m, \u001b[1;36m0\u001b[0m, \u001b[1;36m2\u001b[0m, \u001b[1;36m0\u001b[0m, \u001b[1;36m3\u001b[0m\u001b[1m]\u001b[0m\n"
            ]
          },
          "metadata": {
            "tags": []
          }
        },
        {
          "output_type": "display_data",
          "data": {
            "text/html": [
              "<pre style=\"white-space:pre;overflow-x:auto;line-height:normal;font-family:Menlo,'DejaVu Sans Mono',consolas,'Courier New',monospace\"><span style=\"color: #008080; text-decoration-color: #008080; font-weight: bold\">-3.5267606046375013</span>\n",
              "</pre>\n"
            ],
            "text/plain": [
              "\u001b[1;36m-3.5267606046375013\u001b[0m\n"
            ]
          },
          "metadata": {
            "tags": []
          }
        },
        {
          "output_type": "execute_result",
          "data": {
            "text/plain": [
              "[([1, 0, 2, 3, 0], -2.497141187456343),\n",
              " ([1, 0, 2, 3, 1], -2.784823259908124),\n",
              " ([1, 0, 2, 3, 2], -3.1902883680162883),\n",
              " ([1, 0, 3, 3, 0], -3.595753476124453),\n",
              " ([1, 0, 2, 3, 3], -3.8834355485762337)]"
            ]
          },
          "metadata": {
            "tags": []
          },
          "execution_count": 32
        }
      ]
    },
    {
      "cell_type": "code",
      "metadata": {
        "id": "GnskjYilp0MO"
      },
      "source": [
        "#https://github.com/bigchem/synthesis/blob/master/transformer.py\n",
        "\n",
        "import math\n",
        "#a=-math.log(0.7)\n",
        "#print(a)\n"
      ],
      "id": "GnskjYilp0MO",
      "execution_count": 34,
      "outputs": []
    },
    {
      "cell_type": "code",
      "metadata": {
        "id": "UyHGn4BHNzg7"
      },
      "source": [
        "def beam_decode(model, src, src_mask, max_len, start_symbol,k):\n",
        "    src = src.to(device)\n",
        "    src_mask = src_mask.to(device)\n",
        "\n",
        "    memory = model.encode(src, src_mask)\n",
        "    ys = torch.ones(1, 1).fill_(start_symbol).type(torch.long).to(device)\n",
        "    output_sequences = [([], 0)]\n",
        "    old_prob=[]\n",
        "    old_score=[]\n",
        "    old_index=[]\n",
        "    new_sequences=[]\n",
        "    a=[]\n",
        "    for i in range(max_len-1):\n",
        "        memory = memory.to(device)\n",
        "        memory_mask = torch.zeros(ys.shape[0], memory.shape[0]).to(device).type(torch.bool)\n",
        "        tgt_mask = (generate_square_subsequent_mask(ys.size(0)).type(torch.bool)).to(device)\n",
        "        out = model.decode(ys, memory, tgt_mask)\n",
        "        out = out.transpose(0, 1)\n",
        "        prob = model.generator(out[:, -1])\n",
        "        #print(prob)\n",
        "\n",
        "\n",
        "\n",
        "        #note topK\n",
        "        prb,next_topk=torch.topk(prob,k,dim=1)\n",
        "        \n",
        "        #print(torch.topk(prob,k,dim=1))\n",
        "        #keep default prb\n",
        "        if i==0:\n",
        "          #print(torch.topk(prob,k,dim=1))\n",
        "\n",
        "          for n in range(k):\n",
        "            \n",
        "            old_prob.append(prb[0][n].item())\n",
        "            old_index.append(next_topk[0][n].item())\n",
        "            new_sequences.append((prb[0][n].item(),next_topk[0][n].item()))\n",
        "          print(old_prob)\n",
        "          a=torch.tensor([old_prob]).to(device)\n",
        "          #a=a.transpose(0, 1)\n",
        "          #a=a[:,-1]\n",
        "          print(a)\n",
        "          print(torch.topk(a,k,dim=1))\n",
        " \n",
        "\n",
        "\n",
        "\n",
        "          #print(old_index) \n",
        "         #print(new_sequences)\n",
        "          #print(new_sequences[1])\n",
        "    \n",
        "        if i>0:\n",
        "          None \n",
        "\n",
        "\n",
        "        #print(prb[0][0])\n",
        "        #print(next_topk[0][0])\n",
        "        _, next_word = torch.max(prob, dim = 1)\n",
        "        next_word = next_word.item()\n",
        "        #key pull numer out tensor\n",
        "        next_topk_k=next_topk[0][0].item()\n",
        "\n",
        "        print(next_topk[0][0])\n",
        "        ys = torch.cat([ys,torch.ones(1, 1).type_as(src.data).fill_(next_topk_k)], dim=0)\n",
        "        \n",
        "        if next_topk_k== EOS_IDX:\n",
        "          break\n",
        "    return ys\n",
        "\n",
        "\n",
        "def translate_beam(model, src, src_vocab, tgt_vocab, src_tokenizer,k):\n",
        "  model.eval()\n",
        "  tokens = [BOS_IDX] + [src_vocab.stoi[tok] for tok in src_tokenizer(src)]+ [EOS_IDX]\n",
        "  num_tokens = len(tokens)\n",
        "  src = (torch.LongTensor(tokens).reshape(num_tokens, 1) )\n",
        "  src_mask = (torch.zeros(num_tokens, num_tokens)).type(torch.bool)\n",
        "  tgt_tokens = beam_decode(model,  src, src_mask, max_len=num_tokens + 5, start_symbol=BOS_IDX,k=10).flatten()\n",
        "  print(tgt_tokens,len(tgt_tokens))\n",
        "  print(\"Product:\"+ \" \"+df.input[i])\n",
        "  print(\"Reaction Real:\"+\" \"+df.target[i])\n",
        "  return print(\"prediction:\"+\" \".join([tgt_vocab.itos[tok] for tok in tgt_tokens]).replace(\"<bos>\", \"\").replace(\"<eos>\", \"\"))\n",
        "  #return \" \".join([tgt_vocab.itos[tok] for tok in tgt_tokens]).replace(\"<bos>\", \"\").replace(\"<eos>\", \"\")"
      ],
      "id": "UyHGn4BHNzg7",
      "execution_count": 79,
      "outputs": []
    },
    {
      "cell_type": "code",
      "metadata": {
        "id": "XakK2uD1N219",
        "colab": {
          "base_uri": "https://localhost:8080/",
          "height": 1000
        },
        "outputId": "9709a11e-76b1-4800-bacb-245c58aac28a"
      },
      "source": [
        "i=5001\n",
        "translate_beam(model, df.input[i], src_vocab, tgt_vocab, tokenizer,k=10)"
      ],
      "id": "XakK2uD1N219",
      "execution_count": 80,
      "outputs": [
        {
          "output_type": "display_data",
          "data": {
            "text/html": [
              "<pre style=\"white-space:pre;overflow-x:auto;line-height:normal;font-family:Menlo,'DejaVu Sans Mono',consolas,'Courier New',monospace\"><span style=\"font-weight: bold\">[</span>\n",
              "    <span style=\"color: #008080; text-decoration-color: #008080; font-weight: bold\">27.419227600097656</span>,\n",
              "    <span style=\"color: #008080; text-decoration-color: #008080; font-weight: bold\">15.14890193939209</span>,\n",
              "    <span style=\"color: #008080; text-decoration-color: #008080; font-weight: bold\">2.3992440700531006</span>,\n",
              "    <span style=\"color: #008080; text-decoration-color: #008080; font-weight: bold\">1.077480435371399</span>,\n",
              "    <span style=\"color: #008080; text-decoration-color: #008080; font-weight: bold\">-0.24261318147182465</span>,\n",
              "    <span style=\"color: #008080; text-decoration-color: #008080; font-weight: bold\">-0.2513209879398346</span>,\n",
              "    <span style=\"color: #008080; text-decoration-color: #008080; font-weight: bold\">-0.5491771101951599</span>,\n",
              "    <span style=\"color: #008080; text-decoration-color: #008080; font-weight: bold\">-1.04194974899292</span>,\n",
              "    <span style=\"color: #008080; text-decoration-color: #008080; font-weight: bold\">-1.6403300762176514</span>,\n",
              "    <span style=\"color: #008080; text-decoration-color: #008080; font-weight: bold\">-1.8496094942092896</span>\n",
              "<span style=\"font-weight: bold\">]</span>\n",
              "</pre>\n"
            ],
            "text/plain": [
              "\u001b[1m[\u001b[0m\n",
              "    \u001b[1;36m27.419227600097656\u001b[0m,\n",
              "    \u001b[1;36m15.14890193939209\u001b[0m,\n",
              "    \u001b[1;36m2.3992440700531006\u001b[0m,\n",
              "    \u001b[1;36m1.077480435371399\u001b[0m,\n",
              "    \u001b[1;36m-0.24261318147182465\u001b[0m,\n",
              "    \u001b[1;36m-0.2513209879398346\u001b[0m,\n",
              "    \u001b[1;36m-0.5491771101951599\u001b[0m,\n",
              "    \u001b[1;36m-1.04194974899292\u001b[0m,\n",
              "    \u001b[1;36m-1.6403300762176514\u001b[0m,\n",
              "    \u001b[1;36m-1.8496094942092896\u001b[0m\n",
              "\u001b[1m]\u001b[0m\n"
            ]
          },
          "metadata": {
            "tags": []
          }
        },
        {
          "output_type": "display_data",
          "data": {
            "text/html": [
              "<pre style=\"white-space:pre;overflow-x:auto;line-height:normal;font-family:Menlo,'DejaVu Sans Mono',consolas,'Courier New',monospace\"><span style=\"color: #800080; text-decoration-color: #800080; font-weight: bold\">tensor</span><span style=\"font-weight: bold\">([[</span><span style=\"color: #008080; text-decoration-color: #008080; font-weight: bold\">27.4192</span>, <span style=\"color: #008080; text-decoration-color: #008080; font-weight: bold\">15.1489</span>,  <span style=\"color: #008080; text-decoration-color: #008080; font-weight: bold\">2.3992</span>,  <span style=\"color: #008080; text-decoration-color: #008080; font-weight: bold\">1.0775</span>, <span style=\"color: #008080; text-decoration-color: #008080; font-weight: bold\">-0.2426</span>, <span style=\"color: #008080; text-decoration-color: #008080; font-weight: bold\">-0.2513</span>, <span style=\"color: #008080; text-decoration-color: #008080; font-weight: bold\">-0.5492</span>, <span style=\"color: #008080; text-decoration-color: #008080; font-weight: bold\">-1.0419</span>,\n",
              "         <span style=\"color: #008080; text-decoration-color: #008080; font-weight: bold\">-1.6403</span>, <span style=\"color: #008080; text-decoration-color: #008080; font-weight: bold\">-1.8496</span><span style=\"font-weight: bold\">]]</span>, <span style=\"color: #808000; text-decoration-color: #808000\">device</span>=<span style=\"color: #008000; text-decoration-color: #008000\">'cuda:0'</span><span style=\"font-weight: bold\">)</span>\n",
              "</pre>\n"
            ],
            "text/plain": [
              "\u001b[1;35mtensor\u001b[0m\u001b[1m(\u001b[0m\u001b[1m[\u001b[0m\u001b[1m[\u001b[0m\u001b[1;36m27.4192\u001b[0m, \u001b[1;36m15.1489\u001b[0m,  \u001b[1;36m2.3992\u001b[0m,  \u001b[1;36m1.0775\u001b[0m, \u001b[1;36m-0.2426\u001b[0m, \u001b[1;36m-0.2513\u001b[0m, \u001b[1;36m-0.5492\u001b[0m, \u001b[1;36m-1.0419\u001b[0m,\n",
              "         \u001b[1;36m-1.6403\u001b[0m, \u001b[1;36m-1.8496\u001b[0m\u001b[1m]\u001b[0m\u001b[1m]\u001b[0m, \u001b[33mdevice\u001b[0m=\u001b[32m'cuda:0'\u001b[0m\u001b[1m)\u001b[0m\n"
            ]
          },
          "metadata": {
            "tags": []
          }
        },
        {
          "output_type": "display_data",
          "data": {
            "text/html": [
              "<pre style=\"white-space:pre;overflow-x:auto;line-height:normal;font-family:Menlo,'DejaVu Sans Mono',consolas,'Courier New',monospace\"><span style=\"color: #800080; text-decoration-color: #800080; font-weight: bold\">torch.return_types.topk</span><span style=\"font-weight: bold\">(</span>\n",
              "<span style=\"color: #808000; text-decoration-color: #808000\">values</span>=<span style=\"color: #800080; text-decoration-color: #800080; font-weight: bold\">tensor</span><span style=\"font-weight: bold\">([[</span><span style=\"color: #008080; text-decoration-color: #008080; font-weight: bold\">27.4192</span>, <span style=\"color: #008080; text-decoration-color: #008080; font-weight: bold\">15.1489</span>,  <span style=\"color: #008080; text-decoration-color: #008080; font-weight: bold\">2.3992</span>,  <span style=\"color: #008080; text-decoration-color: #008080; font-weight: bold\">1.0775</span>, <span style=\"color: #008080; text-decoration-color: #008080; font-weight: bold\">-0.2426</span>, <span style=\"color: #008080; text-decoration-color: #008080; font-weight: bold\">-0.2513</span>, <span style=\"color: #008080; text-decoration-color: #008080; font-weight: bold\">-0.5492</span>, <span style=\"color: #008080; text-decoration-color: #008080; font-weight: bold\">-1.0419</span>,\n",
              "         <span style=\"color: #008080; text-decoration-color: #008080; font-weight: bold\">-1.6403</span>, <span style=\"color: #008080; text-decoration-color: #008080; font-weight: bold\">-1.8496</span><span style=\"font-weight: bold\">]]</span>, <span style=\"color: #808000; text-decoration-color: #808000\">device</span>=<span style=\"color: #008000; text-decoration-color: #008000\">'cuda:0'</span><span style=\"font-weight: bold\">)</span>,\n",
              "<span style=\"color: #808000; text-decoration-color: #808000\">indices</span>=<span style=\"color: #800080; text-decoration-color: #800080; font-weight: bold\">tensor</span><span style=\"font-weight: bold\">([[</span><span style=\"color: #008080; text-decoration-color: #008080; font-weight: bold\">0</span>, <span style=\"color: #008080; text-decoration-color: #008080; font-weight: bold\">1</span>, <span style=\"color: #008080; text-decoration-color: #008080; font-weight: bold\">2</span>, <span style=\"color: #008080; text-decoration-color: #008080; font-weight: bold\">3</span>, <span style=\"color: #008080; text-decoration-color: #008080; font-weight: bold\">4</span>, <span style=\"color: #008080; text-decoration-color: #008080; font-weight: bold\">5</span>, <span style=\"color: #008080; text-decoration-color: #008080; font-weight: bold\">6</span>, <span style=\"color: #008080; text-decoration-color: #008080; font-weight: bold\">7</span>, <span style=\"color: #008080; text-decoration-color: #008080; font-weight: bold\">8</span>, <span style=\"color: #008080; text-decoration-color: #008080; font-weight: bold\">9</span><span style=\"font-weight: bold\">]]</span>, <span style=\"color: #808000; text-decoration-color: #808000\">device</span>=<span style=\"color: #008000; text-decoration-color: #008000\">'cuda:0'</span><span style=\"font-weight: bold\">))</span>\n",
              "</pre>\n"
            ],
            "text/plain": [
              "\u001b[1;35mtorch.return_types.topk\u001b[0m\u001b[1m(\u001b[0m\n",
              "\u001b[33mvalues\u001b[0m=\u001b[1;35mtensor\u001b[0m\u001b[1m(\u001b[0m\u001b[1m[\u001b[0m\u001b[1m[\u001b[0m\u001b[1;36m27.4192\u001b[0m, \u001b[1;36m15.1489\u001b[0m,  \u001b[1;36m2.3992\u001b[0m,  \u001b[1;36m1.0775\u001b[0m, \u001b[1;36m-0.2426\u001b[0m, \u001b[1;36m-0.2513\u001b[0m, \u001b[1;36m-0.5492\u001b[0m, \u001b[1;36m-1.0419\u001b[0m,\n",
              "         \u001b[1;36m-1.6403\u001b[0m, \u001b[1;36m-1.8496\u001b[0m\u001b[1m]\u001b[0m\u001b[1m]\u001b[0m, \u001b[33mdevice\u001b[0m=\u001b[32m'cuda:0'\u001b[0m\u001b[1m)\u001b[0m,\n",
              "\u001b[33mindices\u001b[0m=\u001b[1;35mtensor\u001b[0m\u001b[1m(\u001b[0m\u001b[1m[\u001b[0m\u001b[1m[\u001b[0m\u001b[1;36m0\u001b[0m, \u001b[1;36m1\u001b[0m, \u001b[1;36m2\u001b[0m, \u001b[1;36m3\u001b[0m, \u001b[1;36m4\u001b[0m, \u001b[1;36m5\u001b[0m, \u001b[1;36m6\u001b[0m, \u001b[1;36m7\u001b[0m, \u001b[1;36m8\u001b[0m, \u001b[1;36m9\u001b[0m\u001b[1m]\u001b[0m\u001b[1m]\u001b[0m, \u001b[33mdevice\u001b[0m=\u001b[32m'cuda:0'\u001b[0m\u001b[1m)\u001b[0m\u001b[1m)\u001b[0m\n"
            ]
          },
          "metadata": {
            "tags": []
          }
        },
        {
          "output_type": "display_data",
          "data": {
            "text/html": [
              "<pre style=\"white-space:pre;overflow-x:auto;line-height:normal;font-family:Menlo,'DejaVu Sans Mono',consolas,'Courier New',monospace\"><span style=\"color: #800080; text-decoration-color: #800080; font-weight: bold\">tensor</span><span style=\"font-weight: bold\">(</span><span style=\"color: #008080; text-decoration-color: #008080; font-weight: bold\">23</span>, <span style=\"color: #808000; text-decoration-color: #808000\">device</span>=<span style=\"color: #008000; text-decoration-color: #008000\">'cuda:0'</span><span style=\"font-weight: bold\">)</span>\n",
              "</pre>\n"
            ],
            "text/plain": [
              "\u001b[1;35mtensor\u001b[0m\u001b[1m(\u001b[0m\u001b[1;36m23\u001b[0m, \u001b[33mdevice\u001b[0m=\u001b[32m'cuda:0'\u001b[0m\u001b[1m)\u001b[0m\n"
            ]
          },
          "metadata": {
            "tags": []
          }
        },
        {
          "output_type": "display_data",
          "data": {
            "text/html": [
              "<pre style=\"white-space:pre;overflow-x:auto;line-height:normal;font-family:Menlo,'DejaVu Sans Mono',consolas,'Courier New',monospace\"><span style=\"color: #800080; text-decoration-color: #800080; font-weight: bold\">tensor</span><span style=\"font-weight: bold\">(</span><span style=\"color: #008080; text-decoration-color: #008080; font-weight: bold\">25</span>, <span style=\"color: #808000; text-decoration-color: #808000\">device</span>=<span style=\"color: #008000; text-decoration-color: #008000\">'cuda:0'</span><span style=\"font-weight: bold\">)</span>\n",
              "</pre>\n"
            ],
            "text/plain": [
              "\u001b[1;35mtensor\u001b[0m\u001b[1m(\u001b[0m\u001b[1;36m25\u001b[0m, \u001b[33mdevice\u001b[0m=\u001b[32m'cuda:0'\u001b[0m\u001b[1m)\u001b[0m\n"
            ]
          },
          "metadata": {
            "tags": []
          }
        },
        {
          "output_type": "display_data",
          "data": {
            "text/html": [
              "<pre style=\"white-space:pre;overflow-x:auto;line-height:normal;font-family:Menlo,'DejaVu Sans Mono',consolas,'Courier New',monospace\"><span style=\"color: #800080; text-decoration-color: #800080; font-weight: bold\">tensor</span><span style=\"font-weight: bold\">(</span><span style=\"color: #008080; text-decoration-color: #008080; font-weight: bold\">5</span>, <span style=\"color: #808000; text-decoration-color: #808000\">device</span>=<span style=\"color: #008000; text-decoration-color: #008000\">'cuda:0'</span><span style=\"font-weight: bold\">)</span>\n",
              "</pre>\n"
            ],
            "text/plain": [
              "\u001b[1;35mtensor\u001b[0m\u001b[1m(\u001b[0m\u001b[1;36m5\u001b[0m, \u001b[33mdevice\u001b[0m=\u001b[32m'cuda:0'\u001b[0m\u001b[1m)\u001b[0m\n"
            ]
          },
          "metadata": {
            "tags": []
          }
        },
        {
          "output_type": "display_data",
          "data": {
            "text/html": [
              "<pre style=\"white-space:pre;overflow-x:auto;line-height:normal;font-family:Menlo,'DejaVu Sans Mono',consolas,'Courier New',monospace\"><span style=\"color: #800080; text-decoration-color: #800080; font-weight: bold\">tensor</span><span style=\"font-weight: bold\">(</span><span style=\"color: #008080; text-decoration-color: #008080; font-weight: bold\">5</span>, <span style=\"color: #808000; text-decoration-color: #808000\">device</span>=<span style=\"color: #008000; text-decoration-color: #008000\">'cuda:0'</span><span style=\"font-weight: bold\">)</span>\n",
              "</pre>\n"
            ],
            "text/plain": [
              "\u001b[1;35mtensor\u001b[0m\u001b[1m(\u001b[0m\u001b[1;36m5\u001b[0m, \u001b[33mdevice\u001b[0m=\u001b[32m'cuda:0'\u001b[0m\u001b[1m)\u001b[0m\n"
            ]
          },
          "metadata": {
            "tags": []
          }
        },
        {
          "output_type": "display_data",
          "data": {
            "text/html": [
              "<pre style=\"white-space:pre;overflow-x:auto;line-height:normal;font-family:Menlo,'DejaVu Sans Mono',consolas,'Courier New',monospace\"><span style=\"color: #800080; text-decoration-color: #800080; font-weight: bold\">tensor</span><span style=\"font-weight: bold\">(</span><span style=\"color: #008080; text-decoration-color: #008080; font-weight: bold\">5</span>, <span style=\"color: #808000; text-decoration-color: #808000\">device</span>=<span style=\"color: #008000; text-decoration-color: #008000\">'cuda:0'</span><span style=\"font-weight: bold\">)</span>\n",
              "</pre>\n"
            ],
            "text/plain": [
              "\u001b[1;35mtensor\u001b[0m\u001b[1m(\u001b[0m\u001b[1;36m5\u001b[0m, \u001b[33mdevice\u001b[0m=\u001b[32m'cuda:0'\u001b[0m\u001b[1m)\u001b[0m\n"
            ]
          },
          "metadata": {
            "tags": []
          }
        },
        {
          "output_type": "display_data",
          "data": {
            "text/html": [
              "<pre style=\"white-space:pre;overflow-x:auto;line-height:normal;font-family:Menlo,'DejaVu Sans Mono',consolas,'Courier New',monospace\"><span style=\"color: #800080; text-decoration-color: #800080; font-weight: bold\">tensor</span><span style=\"font-weight: bold\">(</span><span style=\"color: #008080; text-decoration-color: #008080; font-weight: bold\">9</span>, <span style=\"color: #808000; text-decoration-color: #808000\">device</span>=<span style=\"color: #008000; text-decoration-color: #008000\">'cuda:0'</span><span style=\"font-weight: bold\">)</span>\n",
              "</pre>\n"
            ],
            "text/plain": [
              "\u001b[1;35mtensor\u001b[0m\u001b[1m(\u001b[0m\u001b[1;36m9\u001b[0m, \u001b[33mdevice\u001b[0m=\u001b[32m'cuda:0'\u001b[0m\u001b[1m)\u001b[0m\n"
            ]
          },
          "metadata": {
            "tags": []
          }
        },
        {
          "output_type": "display_data",
          "data": {
            "text/html": [
              "<pre style=\"white-space:pre;overflow-x:auto;line-height:normal;font-family:Menlo,'DejaVu Sans Mono',consolas,'Courier New',monospace\"><span style=\"color: #800080; text-decoration-color: #800080; font-weight: bold\">tensor</span><span style=\"font-weight: bold\">(</span><span style=\"color: #008080; text-decoration-color: #008080; font-weight: bold\">4</span>, <span style=\"color: #808000; text-decoration-color: #808000\">device</span>=<span style=\"color: #008000; text-decoration-color: #008000\">'cuda:0'</span><span style=\"font-weight: bold\">)</span>\n",
              "</pre>\n"
            ],
            "text/plain": [
              "\u001b[1;35mtensor\u001b[0m\u001b[1m(\u001b[0m\u001b[1;36m4\u001b[0m, \u001b[33mdevice\u001b[0m=\u001b[32m'cuda:0'\u001b[0m\u001b[1m)\u001b[0m\n"
            ]
          },
          "metadata": {
            "tags": []
          }
        },
        {
          "output_type": "display_data",
          "data": {
            "text/html": [
              "<pre style=\"white-space:pre;overflow-x:auto;line-height:normal;font-family:Menlo,'DejaVu Sans Mono',consolas,'Courier New',monospace\"><span style=\"color: #800080; text-decoration-color: #800080; font-weight: bold\">tensor</span><span style=\"font-weight: bold\">(</span><span style=\"color: #008080; text-decoration-color: #008080; font-weight: bold\">8</span>, <span style=\"color: #808000; text-decoration-color: #808000\">device</span>=<span style=\"color: #008000; text-decoration-color: #008000\">'cuda:0'</span><span style=\"font-weight: bold\">)</span>\n",
              "</pre>\n"
            ],
            "text/plain": [
              "\u001b[1;35mtensor\u001b[0m\u001b[1m(\u001b[0m\u001b[1;36m8\u001b[0m, \u001b[33mdevice\u001b[0m=\u001b[32m'cuda:0'\u001b[0m\u001b[1m)\u001b[0m\n"
            ]
          },
          "metadata": {
            "tags": []
          }
        },
        {
          "output_type": "display_data",
          "data": {
            "text/html": [
              "<pre style=\"white-space:pre;overflow-x:auto;line-height:normal;font-family:Menlo,'DejaVu Sans Mono',consolas,'Courier New',monospace\"><span style=\"color: #800080; text-decoration-color: #800080; font-weight: bold\">tensor</span><span style=\"font-weight: bold\">(</span><span style=\"color: #008080; text-decoration-color: #008080; font-weight: bold\">4</span>, <span style=\"color: #808000; text-decoration-color: #808000\">device</span>=<span style=\"color: #008000; text-decoration-color: #008000\">'cuda:0'</span><span style=\"font-weight: bold\">)</span>\n",
              "</pre>\n"
            ],
            "text/plain": [
              "\u001b[1;35mtensor\u001b[0m\u001b[1m(\u001b[0m\u001b[1;36m4\u001b[0m, \u001b[33mdevice\u001b[0m=\u001b[32m'cuda:0'\u001b[0m\u001b[1m)\u001b[0m\n"
            ]
          },
          "metadata": {
            "tags": []
          }
        },
        {
          "output_type": "display_data",
          "data": {
            "text/html": [
              "<pre style=\"white-space:pre;overflow-x:auto;line-height:normal;font-family:Menlo,'DejaVu Sans Mono',consolas,'Courier New',monospace\"><span style=\"color: #800080; text-decoration-color: #800080; font-weight: bold\">tensor</span><span style=\"font-weight: bold\">(</span><span style=\"color: #008080; text-decoration-color: #008080; font-weight: bold\">4</span>, <span style=\"color: #808000; text-decoration-color: #808000\">device</span>=<span style=\"color: #008000; text-decoration-color: #008000\">'cuda:0'</span><span style=\"font-weight: bold\">)</span>\n",
              "</pre>\n"
            ],
            "text/plain": [
              "\u001b[1;35mtensor\u001b[0m\u001b[1m(\u001b[0m\u001b[1;36m4\u001b[0m, \u001b[33mdevice\u001b[0m=\u001b[32m'cuda:0'\u001b[0m\u001b[1m)\u001b[0m\n"
            ]
          },
          "metadata": {
            "tags": []
          }
        },
        {
          "output_type": "display_data",
          "data": {
            "text/html": [
              "<pre style=\"white-space:pre;overflow-x:auto;line-height:normal;font-family:Menlo,'DejaVu Sans Mono',consolas,'Courier New',monospace\"><span style=\"color: #800080; text-decoration-color: #800080; font-weight: bold\">tensor</span><span style=\"font-weight: bold\">(</span><span style=\"color: #008080; text-decoration-color: #008080; font-weight: bold\">4</span>, <span style=\"color: #808000; text-decoration-color: #808000\">device</span>=<span style=\"color: #008000; text-decoration-color: #008000\">'cuda:0'</span><span style=\"font-weight: bold\">)</span>\n",
              "</pre>\n"
            ],
            "text/plain": [
              "\u001b[1;35mtensor\u001b[0m\u001b[1m(\u001b[0m\u001b[1;36m4\u001b[0m, \u001b[33mdevice\u001b[0m=\u001b[32m'cuda:0'\u001b[0m\u001b[1m)\u001b[0m\n"
            ]
          },
          "metadata": {
            "tags": []
          }
        },
        {
          "output_type": "display_data",
          "data": {
            "text/html": [
              "<pre style=\"white-space:pre;overflow-x:auto;line-height:normal;font-family:Menlo,'DejaVu Sans Mono',consolas,'Courier New',monospace\"><span style=\"color: #800080; text-decoration-color: #800080; font-weight: bold\">tensor</span><span style=\"font-weight: bold\">(</span><span style=\"color: #008080; text-decoration-color: #008080; font-weight: bold\">4</span>, <span style=\"color: #808000; text-decoration-color: #808000\">device</span>=<span style=\"color: #008000; text-decoration-color: #008000\">'cuda:0'</span><span style=\"font-weight: bold\">)</span>\n",
              "</pre>\n"
            ],
            "text/plain": [
              "\u001b[1;35mtensor\u001b[0m\u001b[1m(\u001b[0m\u001b[1;36m4\u001b[0m, \u001b[33mdevice\u001b[0m=\u001b[32m'cuda:0'\u001b[0m\u001b[1m)\u001b[0m\n"
            ]
          },
          "metadata": {
            "tags": []
          }
        },
        {
          "output_type": "display_data",
          "data": {
            "text/html": [
              "<pre style=\"white-space:pre;overflow-x:auto;line-height:normal;font-family:Menlo,'DejaVu Sans Mono',consolas,'Courier New',monospace\"><span style=\"color: #800080; text-decoration-color: #800080; font-weight: bold\">tensor</span><span style=\"font-weight: bold\">(</span><span style=\"color: #008080; text-decoration-color: #008080; font-weight: bold\">4</span>, <span style=\"color: #808000; text-decoration-color: #808000\">device</span>=<span style=\"color: #008000; text-decoration-color: #008000\">'cuda:0'</span><span style=\"font-weight: bold\">)</span>\n",
              "</pre>\n"
            ],
            "text/plain": [
              "\u001b[1;35mtensor\u001b[0m\u001b[1m(\u001b[0m\u001b[1;36m4\u001b[0m, \u001b[33mdevice\u001b[0m=\u001b[32m'cuda:0'\u001b[0m\u001b[1m)\u001b[0m\n"
            ]
          },
          "metadata": {
            "tags": []
          }
        },
        {
          "output_type": "display_data",
          "data": {
            "text/html": [
              "<pre style=\"white-space:pre;overflow-x:auto;line-height:normal;font-family:Menlo,'DejaVu Sans Mono',consolas,'Courier New',monospace\"><span style=\"color: #800080; text-decoration-color: #800080; font-weight: bold\">tensor</span><span style=\"font-weight: bold\">(</span><span style=\"color: #008080; text-decoration-color: #008080; font-weight: bold\">8</span>, <span style=\"color: #808000; text-decoration-color: #808000\">device</span>=<span style=\"color: #008000; text-decoration-color: #008000\">'cuda:0'</span><span style=\"font-weight: bold\">)</span>\n",
              "</pre>\n"
            ],
            "text/plain": [
              "\u001b[1;35mtensor\u001b[0m\u001b[1m(\u001b[0m\u001b[1;36m8\u001b[0m, \u001b[33mdevice\u001b[0m=\u001b[32m'cuda:0'\u001b[0m\u001b[1m)\u001b[0m\n"
            ]
          },
          "metadata": {
            "tags": []
          }
        },
        {
          "output_type": "display_data",
          "data": {
            "text/html": [
              "<pre style=\"white-space:pre;overflow-x:auto;line-height:normal;font-family:Menlo,'DejaVu Sans Mono',consolas,'Courier New',monospace\"><span style=\"color: #800080; text-decoration-color: #800080; font-weight: bold\">tensor</span><span style=\"font-weight: bold\">(</span><span style=\"color: #008080; text-decoration-color: #008080; font-weight: bold\">14</span>, <span style=\"color: #808000; text-decoration-color: #808000\">device</span>=<span style=\"color: #008000; text-decoration-color: #008000\">'cuda:0'</span><span style=\"font-weight: bold\">)</span>\n",
              "</pre>\n"
            ],
            "text/plain": [
              "\u001b[1;35mtensor\u001b[0m\u001b[1m(\u001b[0m\u001b[1;36m14\u001b[0m, \u001b[33mdevice\u001b[0m=\u001b[32m'cuda:0'\u001b[0m\u001b[1m)\u001b[0m\n"
            ]
          },
          "metadata": {
            "tags": []
          }
        },
        {
          "output_type": "display_data",
          "data": {
            "text/html": [
              "<pre style=\"white-space:pre;overflow-x:auto;line-height:normal;font-family:Menlo,'DejaVu Sans Mono',consolas,'Courier New',monospace\"><span style=\"color: #800080; text-decoration-color: #800080; font-weight: bold\">tensor</span><span style=\"font-weight: bold\">(</span><span style=\"color: #008080; text-decoration-color: #008080; font-weight: bold\">5</span>, <span style=\"color: #808000; text-decoration-color: #808000\">device</span>=<span style=\"color: #008000; text-decoration-color: #008000\">'cuda:0'</span><span style=\"font-weight: bold\">)</span>\n",
              "</pre>\n"
            ],
            "text/plain": [
              "\u001b[1;35mtensor\u001b[0m\u001b[1m(\u001b[0m\u001b[1;36m5\u001b[0m, \u001b[33mdevice\u001b[0m=\u001b[32m'cuda:0'\u001b[0m\u001b[1m)\u001b[0m\n"
            ]
          },
          "metadata": {
            "tags": []
          }
        },
        {
          "output_type": "display_data",
          "data": {
            "text/html": [
              "<pre style=\"white-space:pre;overflow-x:auto;line-height:normal;font-family:Menlo,'DejaVu Sans Mono',consolas,'Courier New',monospace\"><span style=\"color: #800080; text-decoration-color: #800080; font-weight: bold\">tensor</span><span style=\"font-weight: bold\">(</span><span style=\"color: #008080; text-decoration-color: #008080; font-weight: bold\">9</span>, <span style=\"color: #808000; text-decoration-color: #808000\">device</span>=<span style=\"color: #008000; text-decoration-color: #008000\">'cuda:0'</span><span style=\"font-weight: bold\">)</span>\n",
              "</pre>\n"
            ],
            "text/plain": [
              "\u001b[1;35mtensor\u001b[0m\u001b[1m(\u001b[0m\u001b[1;36m9\u001b[0m, \u001b[33mdevice\u001b[0m=\u001b[32m'cuda:0'\u001b[0m\u001b[1m)\u001b[0m\n"
            ]
          },
          "metadata": {
            "tags": []
          }
        },
        {
          "output_type": "display_data",
          "data": {
            "text/html": [
              "<pre style=\"white-space:pre;overflow-x:auto;line-height:normal;font-family:Menlo,'DejaVu Sans Mono',consolas,'Courier New',monospace\"><span style=\"color: #800080; text-decoration-color: #800080; font-weight: bold\">tensor</span><span style=\"font-weight: bold\">(</span><span style=\"color: #008080; text-decoration-color: #008080; font-weight: bold\">5</span>, <span style=\"color: #808000; text-decoration-color: #808000\">device</span>=<span style=\"color: #008000; text-decoration-color: #008000\">'cuda:0'</span><span style=\"font-weight: bold\">)</span>\n",
              "</pre>\n"
            ],
            "text/plain": [
              "\u001b[1;35mtensor\u001b[0m\u001b[1m(\u001b[0m\u001b[1;36m5\u001b[0m, \u001b[33mdevice\u001b[0m=\u001b[32m'cuda:0'\u001b[0m\u001b[1m)\u001b[0m\n"
            ]
          },
          "metadata": {
            "tags": []
          }
        },
        {
          "output_type": "display_data",
          "data": {
            "text/html": [
              "<pre style=\"white-space:pre;overflow-x:auto;line-height:normal;font-family:Menlo,'DejaVu Sans Mono',consolas,'Courier New',monospace\"><span style=\"color: #800080; text-decoration-color: #800080; font-weight: bold\">tensor</span><span style=\"font-weight: bold\">(</span><span style=\"color: #008080; text-decoration-color: #008080; font-weight: bold\">6</span>, <span style=\"color: #808000; text-decoration-color: #808000\">device</span>=<span style=\"color: #008000; text-decoration-color: #008000\">'cuda:0'</span><span style=\"font-weight: bold\">)</span>\n",
              "</pre>\n"
            ],
            "text/plain": [
              "\u001b[1;35mtensor\u001b[0m\u001b[1m(\u001b[0m\u001b[1;36m6\u001b[0m, \u001b[33mdevice\u001b[0m=\u001b[32m'cuda:0'\u001b[0m\u001b[1m)\u001b[0m\n"
            ]
          },
          "metadata": {
            "tags": []
          }
        },
        {
          "output_type": "display_data",
          "data": {
            "text/html": [
              "<pre style=\"white-space:pre;overflow-x:auto;line-height:normal;font-family:Menlo,'DejaVu Sans Mono',consolas,'Courier New',monospace\"><span style=\"color: #800080; text-decoration-color: #800080; font-weight: bold\">tensor</span><span style=\"font-weight: bold\">(</span><span style=\"color: #008080; text-decoration-color: #008080; font-weight: bold\">11</span>, <span style=\"color: #808000; text-decoration-color: #808000\">device</span>=<span style=\"color: #008000; text-decoration-color: #008000\">'cuda:0'</span><span style=\"font-weight: bold\">)</span>\n",
              "</pre>\n"
            ],
            "text/plain": [
              "\u001b[1;35mtensor\u001b[0m\u001b[1m(\u001b[0m\u001b[1;36m11\u001b[0m, \u001b[33mdevice\u001b[0m=\u001b[32m'cuda:0'\u001b[0m\u001b[1m)\u001b[0m\n"
            ]
          },
          "metadata": {
            "tags": []
          }
        },
        {
          "output_type": "display_data",
          "data": {
            "text/html": [
              "<pre style=\"white-space:pre;overflow-x:auto;line-height:normal;font-family:Menlo,'DejaVu Sans Mono',consolas,'Courier New',monospace\"><span style=\"color: #800080; text-decoration-color: #800080; font-weight: bold\">tensor</span><span style=\"font-weight: bold\">(</span><span style=\"color: #008080; text-decoration-color: #008080; font-weight: bold\">9</span>, <span style=\"color: #808000; text-decoration-color: #808000\">device</span>=<span style=\"color: #008000; text-decoration-color: #008000\">'cuda:0'</span><span style=\"font-weight: bold\">)</span>\n",
              "</pre>\n"
            ],
            "text/plain": [
              "\u001b[1;35mtensor\u001b[0m\u001b[1m(\u001b[0m\u001b[1;36m9\u001b[0m, \u001b[33mdevice\u001b[0m=\u001b[32m'cuda:0'\u001b[0m\u001b[1m)\u001b[0m\n"
            ]
          },
          "metadata": {
            "tags": []
          }
        },
        {
          "output_type": "display_data",
          "data": {
            "text/html": [
              "<pre style=\"white-space:pre;overflow-x:auto;line-height:normal;font-family:Menlo,'DejaVu Sans Mono',consolas,'Courier New',monospace\"><span style=\"color: #800080; text-decoration-color: #800080; font-weight: bold\">tensor</span><span style=\"font-weight: bold\">(</span><span style=\"color: #008080; text-decoration-color: #008080; font-weight: bold\">7</span>, <span style=\"color: #808000; text-decoration-color: #808000\">device</span>=<span style=\"color: #008000; text-decoration-color: #008000\">'cuda:0'</span><span style=\"font-weight: bold\">)</span>\n",
              "</pre>\n"
            ],
            "text/plain": [
              "\u001b[1;35mtensor\u001b[0m\u001b[1m(\u001b[0m\u001b[1;36m7\u001b[0m, \u001b[33mdevice\u001b[0m=\u001b[32m'cuda:0'\u001b[0m\u001b[1m)\u001b[0m\n"
            ]
          },
          "metadata": {
            "tags": []
          }
        },
        {
          "output_type": "display_data",
          "data": {
            "text/html": [
              "<pre style=\"white-space:pre;overflow-x:auto;line-height:normal;font-family:Menlo,'DejaVu Sans Mono',consolas,'Courier New',monospace\"><span style=\"color: #800080; text-decoration-color: #800080; font-weight: bold\">tensor</span><span style=\"font-weight: bold\">(</span><span style=\"color: #008080; text-decoration-color: #008080; font-weight: bold\">4</span>, <span style=\"color: #808000; text-decoration-color: #808000\">device</span>=<span style=\"color: #008000; text-decoration-color: #008000\">'cuda:0'</span><span style=\"font-weight: bold\">)</span>\n",
              "</pre>\n"
            ],
            "text/plain": [
              "\u001b[1;35mtensor\u001b[0m\u001b[1m(\u001b[0m\u001b[1;36m4\u001b[0m, \u001b[33mdevice\u001b[0m=\u001b[32m'cuda:0'\u001b[0m\u001b[1m)\u001b[0m\n"
            ]
          },
          "metadata": {
            "tags": []
          }
        },
        {
          "output_type": "display_data",
          "data": {
            "text/html": [
              "<pre style=\"white-space:pre;overflow-x:auto;line-height:normal;font-family:Menlo,'DejaVu Sans Mono',consolas,'Courier New',monospace\"><span style=\"color: #800080; text-decoration-color: #800080; font-weight: bold\">tensor</span><span style=\"font-weight: bold\">(</span><span style=\"color: #008080; text-decoration-color: #008080; font-weight: bold\">8</span>, <span style=\"color: #808000; text-decoration-color: #808000\">device</span>=<span style=\"color: #008000; text-decoration-color: #008000\">'cuda:0'</span><span style=\"font-weight: bold\">)</span>\n",
              "</pre>\n"
            ],
            "text/plain": [
              "\u001b[1;35mtensor\u001b[0m\u001b[1m(\u001b[0m\u001b[1;36m8\u001b[0m, \u001b[33mdevice\u001b[0m=\u001b[32m'cuda:0'\u001b[0m\u001b[1m)\u001b[0m\n"
            ]
          },
          "metadata": {
            "tags": []
          }
        },
        {
          "output_type": "display_data",
          "data": {
            "text/html": [
              "<pre style=\"white-space:pre;overflow-x:auto;line-height:normal;font-family:Menlo,'DejaVu Sans Mono',consolas,'Courier New',monospace\"><span style=\"color: #800080; text-decoration-color: #800080; font-weight: bold\">tensor</span><span style=\"font-weight: bold\">(</span><span style=\"color: #008080; text-decoration-color: #008080; font-weight: bold\">4</span>, <span style=\"color: #808000; text-decoration-color: #808000\">device</span>=<span style=\"color: #008000; text-decoration-color: #008000\">'cuda:0'</span><span style=\"font-weight: bold\">)</span>\n",
              "</pre>\n"
            ],
            "text/plain": [
              "\u001b[1;35mtensor\u001b[0m\u001b[1m(\u001b[0m\u001b[1;36m4\u001b[0m, \u001b[33mdevice\u001b[0m=\u001b[32m'cuda:0'\u001b[0m\u001b[1m)\u001b[0m\n"
            ]
          },
          "metadata": {
            "tags": []
          }
        },
        {
          "output_type": "display_data",
          "data": {
            "text/html": [
              "<pre style=\"white-space:pre;overflow-x:auto;line-height:normal;font-family:Menlo,'DejaVu Sans Mono',consolas,'Courier New',monospace\"><span style=\"color: #800080; text-decoration-color: #800080; font-weight: bold\">tensor</span><span style=\"font-weight: bold\">(</span><span style=\"color: #008080; text-decoration-color: #008080; font-weight: bold\">4</span>, <span style=\"color: #808000; text-decoration-color: #808000\">device</span>=<span style=\"color: #008000; text-decoration-color: #008000\">'cuda:0'</span><span style=\"font-weight: bold\">)</span>\n",
              "</pre>\n"
            ],
            "text/plain": [
              "\u001b[1;35mtensor\u001b[0m\u001b[1m(\u001b[0m\u001b[1;36m4\u001b[0m, \u001b[33mdevice\u001b[0m=\u001b[32m'cuda:0'\u001b[0m\u001b[1m)\u001b[0m\n"
            ]
          },
          "metadata": {
            "tags": []
          }
        },
        {
          "output_type": "display_data",
          "data": {
            "text/html": [
              "<pre style=\"white-space:pre;overflow-x:auto;line-height:normal;font-family:Menlo,'DejaVu Sans Mono',consolas,'Courier New',monospace\"><span style=\"color: #800080; text-decoration-color: #800080; font-weight: bold\">tensor</span><span style=\"font-weight: bold\">(</span><span style=\"color: #008080; text-decoration-color: #008080; font-weight: bold\">4</span>, <span style=\"color: #808000; text-decoration-color: #808000\">device</span>=<span style=\"color: #008000; text-decoration-color: #008000\">'cuda:0'</span><span style=\"font-weight: bold\">)</span>\n",
              "</pre>\n"
            ],
            "text/plain": [
              "\u001b[1;35mtensor\u001b[0m\u001b[1m(\u001b[0m\u001b[1;36m4\u001b[0m, \u001b[33mdevice\u001b[0m=\u001b[32m'cuda:0'\u001b[0m\u001b[1m)\u001b[0m\n"
            ]
          },
          "metadata": {
            "tags": []
          }
        },
        {
          "output_type": "display_data",
          "data": {
            "text/html": [
              "<pre style=\"white-space:pre;overflow-x:auto;line-height:normal;font-family:Menlo,'DejaVu Sans Mono',consolas,'Courier New',monospace\"><span style=\"color: #800080; text-decoration-color: #800080; font-weight: bold\">tensor</span><span style=\"font-weight: bold\">(</span><span style=\"color: #008080; text-decoration-color: #008080; font-weight: bold\">6</span>, <span style=\"color: #808000; text-decoration-color: #808000\">device</span>=<span style=\"color: #008000; text-decoration-color: #008000\">'cuda:0'</span><span style=\"font-weight: bold\">)</span>\n",
              "</pre>\n"
            ],
            "text/plain": [
              "\u001b[1;35mtensor\u001b[0m\u001b[1m(\u001b[0m\u001b[1;36m6\u001b[0m, \u001b[33mdevice\u001b[0m=\u001b[32m'cuda:0'\u001b[0m\u001b[1m)\u001b[0m\n"
            ]
          },
          "metadata": {
            "tags": []
          }
        },
        {
          "output_type": "display_data",
          "data": {
            "text/html": [
              "<pre style=\"white-space:pre;overflow-x:auto;line-height:normal;font-family:Menlo,'DejaVu Sans Mono',consolas,'Courier New',monospace\"><span style=\"color: #800080; text-decoration-color: #800080; font-weight: bold\">tensor</span><span style=\"font-weight: bold\">(</span><span style=\"color: #008080; text-decoration-color: #008080; font-weight: bold\">9</span>, <span style=\"color: #808000; text-decoration-color: #808000\">device</span>=<span style=\"color: #008000; text-decoration-color: #008000\">'cuda:0'</span><span style=\"font-weight: bold\">)</span>\n",
              "</pre>\n"
            ],
            "text/plain": [
              "\u001b[1;35mtensor\u001b[0m\u001b[1m(\u001b[0m\u001b[1;36m9\u001b[0m, \u001b[33mdevice\u001b[0m=\u001b[32m'cuda:0'\u001b[0m\u001b[1m)\u001b[0m\n"
            ]
          },
          "metadata": {
            "tags": []
          }
        },
        {
          "output_type": "display_data",
          "data": {
            "text/html": [
              "<pre style=\"white-space:pre;overflow-x:auto;line-height:normal;font-family:Menlo,'DejaVu Sans Mono',consolas,'Courier New',monospace\"><span style=\"color: #800080; text-decoration-color: #800080; font-weight: bold\">tensor</span><span style=\"font-weight: bold\">(</span><span style=\"color: #008080; text-decoration-color: #008080; font-weight: bold\">7</span>, <span style=\"color: #808000; text-decoration-color: #808000\">device</span>=<span style=\"color: #008000; text-decoration-color: #008000\">'cuda:0'</span><span style=\"font-weight: bold\">)</span>\n",
              "</pre>\n"
            ],
            "text/plain": [
              "\u001b[1;35mtensor\u001b[0m\u001b[1m(\u001b[0m\u001b[1;36m7\u001b[0m, \u001b[33mdevice\u001b[0m=\u001b[32m'cuda:0'\u001b[0m\u001b[1m)\u001b[0m\n"
            ]
          },
          "metadata": {
            "tags": []
          }
        },
        {
          "output_type": "display_data",
          "data": {
            "text/html": [
              "<pre style=\"white-space:pre;overflow-x:auto;line-height:normal;font-family:Menlo,'DejaVu Sans Mono',consolas,'Courier New',monospace\"><span style=\"color: #800080; text-decoration-color: #800080; font-weight: bold\">tensor</span><span style=\"font-weight: bold\">(</span><span style=\"color: #008080; text-decoration-color: #008080; font-weight: bold\">4</span>, <span style=\"color: #808000; text-decoration-color: #808000\">device</span>=<span style=\"color: #008000; text-decoration-color: #008000\">'cuda:0'</span><span style=\"font-weight: bold\">)</span>\n",
              "</pre>\n"
            ],
            "text/plain": [
              "\u001b[1;35mtensor\u001b[0m\u001b[1m(\u001b[0m\u001b[1;36m4\u001b[0m, \u001b[33mdevice\u001b[0m=\u001b[32m'cuda:0'\u001b[0m\u001b[1m)\u001b[0m\n"
            ]
          },
          "metadata": {
            "tags": []
          }
        },
        {
          "output_type": "display_data",
          "data": {
            "text/html": [
              "<pre style=\"white-space:pre;overflow-x:auto;line-height:normal;font-family:Menlo,'DejaVu Sans Mono',consolas,'Courier New',monospace\"><span style=\"color: #800080; text-decoration-color: #800080; font-weight: bold\">tensor</span><span style=\"font-weight: bold\">(</span><span style=\"color: #008080; text-decoration-color: #008080; font-weight: bold\">4</span>, <span style=\"color: #808000; text-decoration-color: #808000\">device</span>=<span style=\"color: #008000; text-decoration-color: #008000\">'cuda:0'</span><span style=\"font-weight: bold\">)</span>\n",
              "</pre>\n"
            ],
            "text/plain": [
              "\u001b[1;35mtensor\u001b[0m\u001b[1m(\u001b[0m\u001b[1;36m4\u001b[0m, \u001b[33mdevice\u001b[0m=\u001b[32m'cuda:0'\u001b[0m\u001b[1m)\u001b[0m\n"
            ]
          },
          "metadata": {
            "tags": []
          }
        },
        {
          "output_type": "display_data",
          "data": {
            "text/html": [
              "<pre style=\"white-space:pre;overflow-x:auto;line-height:normal;font-family:Menlo,'DejaVu Sans Mono',consolas,'Courier New',monospace\"><span style=\"color: #800080; text-decoration-color: #800080; font-weight: bold\">tensor</span><span style=\"font-weight: bold\">(</span><span style=\"color: #008080; text-decoration-color: #008080; font-weight: bold\">8</span>, <span style=\"color: #808000; text-decoration-color: #808000\">device</span>=<span style=\"color: #008000; text-decoration-color: #008000\">'cuda:0'</span><span style=\"font-weight: bold\">)</span>\n",
              "</pre>\n"
            ],
            "text/plain": [
              "\u001b[1;35mtensor\u001b[0m\u001b[1m(\u001b[0m\u001b[1;36m8\u001b[0m, \u001b[33mdevice\u001b[0m=\u001b[32m'cuda:0'\u001b[0m\u001b[1m)\u001b[0m\n"
            ]
          },
          "metadata": {
            "tags": []
          }
        },
        {
          "output_type": "display_data",
          "data": {
            "text/html": [
              "<pre style=\"white-space:pre;overflow-x:auto;line-height:normal;font-family:Menlo,'DejaVu Sans Mono',consolas,'Courier New',monospace\"><span style=\"color: #800080; text-decoration-color: #800080; font-weight: bold\">tensor</span><span style=\"font-weight: bold\">(</span><span style=\"color: #008080; text-decoration-color: #008080; font-weight: bold\">5</span>, <span style=\"color: #808000; text-decoration-color: #808000\">device</span>=<span style=\"color: #008000; text-decoration-color: #008000\">'cuda:0'</span><span style=\"font-weight: bold\">)</span>\n",
              "</pre>\n"
            ],
            "text/plain": [
              "\u001b[1;35mtensor\u001b[0m\u001b[1m(\u001b[0m\u001b[1;36m5\u001b[0m, \u001b[33mdevice\u001b[0m=\u001b[32m'cuda:0'\u001b[0m\u001b[1m)\u001b[0m\n"
            ]
          },
          "metadata": {
            "tags": []
          }
        },
        {
          "output_type": "display_data",
          "data": {
            "text/html": [
              "<pre style=\"white-space:pre;overflow-x:auto;line-height:normal;font-family:Menlo,'DejaVu Sans Mono',consolas,'Courier New',monospace\"><span style=\"color: #800080; text-decoration-color: #800080; font-weight: bold\">tensor</span><span style=\"font-weight: bold\">(</span><span style=\"color: #008080; text-decoration-color: #008080; font-weight: bold\">6</span>, <span style=\"color: #808000; text-decoration-color: #808000\">device</span>=<span style=\"color: #008000; text-decoration-color: #008000\">'cuda:0'</span><span style=\"font-weight: bold\">)</span>\n",
              "</pre>\n"
            ],
            "text/plain": [
              "\u001b[1;35mtensor\u001b[0m\u001b[1m(\u001b[0m\u001b[1;36m6\u001b[0m, \u001b[33mdevice\u001b[0m=\u001b[32m'cuda:0'\u001b[0m\u001b[1m)\u001b[0m\n"
            ]
          },
          "metadata": {
            "tags": []
          }
        },
        {
          "output_type": "display_data",
          "data": {
            "text/html": [
              "<pre style=\"white-space:pre;overflow-x:auto;line-height:normal;font-family:Menlo,'DejaVu Sans Mono',consolas,'Courier New',monospace\"><span style=\"color: #800080; text-decoration-color: #800080; font-weight: bold\">tensor</span><span style=\"font-weight: bold\">(</span><span style=\"color: #008080; text-decoration-color: #008080; font-weight: bold\">11</span>, <span style=\"color: #808000; text-decoration-color: #808000\">device</span>=<span style=\"color: #008000; text-decoration-color: #008000\">'cuda:0'</span><span style=\"font-weight: bold\">)</span>\n",
              "</pre>\n"
            ],
            "text/plain": [
              "\u001b[1;35mtensor\u001b[0m\u001b[1m(\u001b[0m\u001b[1;36m11\u001b[0m, \u001b[33mdevice\u001b[0m=\u001b[32m'cuda:0'\u001b[0m\u001b[1m)\u001b[0m\n"
            ]
          },
          "metadata": {
            "tags": []
          }
        },
        {
          "output_type": "display_data",
          "data": {
            "text/html": [
              "<pre style=\"white-space:pre;overflow-x:auto;line-height:normal;font-family:Menlo,'DejaVu Sans Mono',consolas,'Courier New',monospace\"><span style=\"color: #800080; text-decoration-color: #800080; font-weight: bold\">tensor</span><span style=\"font-weight: bold\">(</span><span style=\"color: #008080; text-decoration-color: #008080; font-weight: bold\">9</span>, <span style=\"color: #808000; text-decoration-color: #808000\">device</span>=<span style=\"color: #008000; text-decoration-color: #008000\">'cuda:0'</span><span style=\"font-weight: bold\">)</span>\n",
              "</pre>\n"
            ],
            "text/plain": [
              "\u001b[1;35mtensor\u001b[0m\u001b[1m(\u001b[0m\u001b[1;36m9\u001b[0m, \u001b[33mdevice\u001b[0m=\u001b[32m'cuda:0'\u001b[0m\u001b[1m)\u001b[0m\n"
            ]
          },
          "metadata": {
            "tags": []
          }
        },
        {
          "output_type": "display_data",
          "data": {
            "text/html": [
              "<pre style=\"white-space:pre;overflow-x:auto;line-height:normal;font-family:Menlo,'DejaVu Sans Mono',consolas,'Courier New',monospace\"><span style=\"color: #800080; text-decoration-color: #800080; font-weight: bold\">tensor</span><span style=\"font-weight: bold\">(</span><span style=\"color: #008080; text-decoration-color: #008080; font-weight: bold\">7</span>, <span style=\"color: #808000; text-decoration-color: #808000\">device</span>=<span style=\"color: #008000; text-decoration-color: #008000\">'cuda:0'</span><span style=\"font-weight: bold\">)</span>\n",
              "</pre>\n"
            ],
            "text/plain": [
              "\u001b[1;35mtensor\u001b[0m\u001b[1m(\u001b[0m\u001b[1;36m7\u001b[0m, \u001b[33mdevice\u001b[0m=\u001b[32m'cuda:0'\u001b[0m\u001b[1m)\u001b[0m\n"
            ]
          },
          "metadata": {
            "tags": []
          }
        },
        {
          "output_type": "display_data",
          "data": {
            "text/html": [
              "<pre style=\"white-space:pre;overflow-x:auto;line-height:normal;font-family:Menlo,'DejaVu Sans Mono',consolas,'Courier New',monospace\"><span style=\"color: #800080; text-decoration-color: #800080; font-weight: bold\">tensor</span><span style=\"font-weight: bold\">(</span><span style=\"color: #008080; text-decoration-color: #008080; font-weight: bold\">9</span>, <span style=\"color: #808000; text-decoration-color: #808000\">device</span>=<span style=\"color: #008000; text-decoration-color: #008000\">'cuda:0'</span><span style=\"font-weight: bold\">)</span>\n",
              "</pre>\n"
            ],
            "text/plain": [
              "\u001b[1;35mtensor\u001b[0m\u001b[1m(\u001b[0m\u001b[1;36m9\u001b[0m, \u001b[33mdevice\u001b[0m=\u001b[32m'cuda:0'\u001b[0m\u001b[1m)\u001b[0m\n"
            ]
          },
          "metadata": {
            "tags": []
          }
        },
        {
          "output_type": "display_data",
          "data": {
            "text/html": [
              "<pre style=\"white-space:pre;overflow-x:auto;line-height:normal;font-family:Menlo,'DejaVu Sans Mono',consolas,'Courier New',monospace\"><span style=\"color: #800080; text-decoration-color: #800080; font-weight: bold\">tensor</span><span style=\"font-weight: bold\">(</span><span style=\"color: #008080; text-decoration-color: #008080; font-weight: bold\">5</span>, <span style=\"color: #808000; text-decoration-color: #808000\">device</span>=<span style=\"color: #008000; text-decoration-color: #008000\">'cuda:0'</span><span style=\"font-weight: bold\">)</span>\n",
              "</pre>\n"
            ],
            "text/plain": [
              "\u001b[1;35mtensor\u001b[0m\u001b[1m(\u001b[0m\u001b[1;36m5\u001b[0m, \u001b[33mdevice\u001b[0m=\u001b[32m'cuda:0'\u001b[0m\u001b[1m)\u001b[0m\n"
            ]
          },
          "metadata": {
            "tags": []
          }
        },
        {
          "output_type": "display_data",
          "data": {
            "text/html": [
              "<pre style=\"white-space:pre;overflow-x:auto;line-height:normal;font-family:Menlo,'DejaVu Sans Mono',consolas,'Courier New',monospace\"><span style=\"color: #800080; text-decoration-color: #800080; font-weight: bold\">tensor</span><span style=\"font-weight: bold\">(</span><span style=\"color: #008080; text-decoration-color: #008080; font-weight: bold\">3</span>, <span style=\"color: #808000; text-decoration-color: #808000\">device</span>=<span style=\"color: #008000; text-decoration-color: #008000\">'cuda:0'</span><span style=\"font-weight: bold\">)</span>\n",
              "</pre>\n"
            ],
            "text/plain": [
              "\u001b[1;35mtensor\u001b[0m\u001b[1m(\u001b[0m\u001b[1;36m3\u001b[0m, \u001b[33mdevice\u001b[0m=\u001b[32m'cuda:0'\u001b[0m\u001b[1m)\u001b[0m\n"
            ]
          },
          "metadata": {
            "tags": []
          }
        },
        {
          "output_type": "display_data",
          "data": {
            "text/html": [
              "<pre style=\"white-space:pre;overflow-x:auto;line-height:normal;font-family:Menlo,'DejaVu Sans Mono',consolas,'Courier New',monospace\"><span style=\"color: #800080; text-decoration-color: #800080; font-weight: bold\">tensor</span><span style=\"font-weight: bold\">([</span> <span style=\"color: #008080; text-decoration-color: #008080; font-weight: bold\">2</span>, <span style=\"color: #008080; text-decoration-color: #008080; font-weight: bold\">23</span>, <span style=\"color: #008080; text-decoration-color: #008080; font-weight: bold\">25</span>,  <span style=\"color: #008080; text-decoration-color: #008080; font-weight: bold\">5</span>,  <span style=\"color: #008080; text-decoration-color: #008080; font-weight: bold\">5</span>,  <span style=\"color: #008080; text-decoration-color: #008080; font-weight: bold\">5</span>,  <span style=\"color: #008080; text-decoration-color: #008080; font-weight: bold\">9</span>,  <span style=\"color: #008080; text-decoration-color: #008080; font-weight: bold\">4</span>,  <span style=\"color: #008080; text-decoration-color: #008080; font-weight: bold\">8</span>,  <span style=\"color: #008080; text-decoration-color: #008080; font-weight: bold\">4</span>,  <span style=\"color: #008080; text-decoration-color: #008080; font-weight: bold\">4</span>,  <span style=\"color: #008080; text-decoration-color: #008080; font-weight: bold\">4</span>,  <span style=\"color: #008080; text-decoration-color: #008080; font-weight: bold\">4</span>,  <span style=\"color: #008080; text-decoration-color: #008080; font-weight: bold\">4</span>,  <span style=\"color: #008080; text-decoration-color: #008080; font-weight: bold\">8</span>, <span style=\"color: #008080; text-decoration-color: #008080; font-weight: bold\">14</span>,  <span style=\"color: #008080; text-decoration-color: #008080; font-weight: bold\">5</span>,  <span style=\"color: #008080; text-decoration-color: #008080; font-weight: bold\">9</span>,\n",
              "         <span style=\"color: #008080; text-decoration-color: #008080; font-weight: bold\">5</span>,  <span style=\"color: #008080; text-decoration-color: #008080; font-weight: bold\">6</span>, <span style=\"color: #008080; text-decoration-color: #008080; font-weight: bold\">11</span>,  <span style=\"color: #008080; text-decoration-color: #008080; font-weight: bold\">9</span>,  <span style=\"color: #008080; text-decoration-color: #008080; font-weight: bold\">7</span>,  <span style=\"color: #008080; text-decoration-color: #008080; font-weight: bold\">4</span>,  <span style=\"color: #008080; text-decoration-color: #008080; font-weight: bold\">8</span>,  <span style=\"color: #008080; text-decoration-color: #008080; font-weight: bold\">4</span>,  <span style=\"color: #008080; text-decoration-color: #008080; font-weight: bold\">4</span>,  <span style=\"color: #008080; text-decoration-color: #008080; font-weight: bold\">4</span>,  <span style=\"color: #008080; text-decoration-color: #008080; font-weight: bold\">6</span>,  <span style=\"color: #008080; text-decoration-color: #008080; font-weight: bold\">9</span>,  <span style=\"color: #008080; text-decoration-color: #008080; font-weight: bold\">7</span>,  <span style=\"color: #008080; text-decoration-color: #008080; font-weight: bold\">4</span>,  <span style=\"color: #008080; text-decoration-color: #008080; font-weight: bold\">4</span>,  <span style=\"color: #008080; text-decoration-color: #008080; font-weight: bold\">8</span>,  <span style=\"color: #008080; text-decoration-color: #008080; font-weight: bold\">5</span>,  <span style=\"color: #008080; text-decoration-color: #008080; font-weight: bold\">6</span>,\n",
              "        <span style=\"color: #008080; text-decoration-color: #008080; font-weight: bold\">11</span>,  <span style=\"color: #008080; text-decoration-color: #008080; font-weight: bold\">9</span>,  <span style=\"color: #008080; text-decoration-color: #008080; font-weight: bold\">7</span>,  <span style=\"color: #008080; text-decoration-color: #008080; font-weight: bold\">9</span>,  <span style=\"color: #008080; text-decoration-color: #008080; font-weight: bold\">5</span>,  <span style=\"color: #008080; text-decoration-color: #008080; font-weight: bold\">3</span><span style=\"font-weight: bold\">]</span>, <span style=\"color: #808000; text-decoration-color: #808000\">device</span>=<span style=\"color: #008000; text-decoration-color: #008000\">'cuda:0'</span><span style=\"font-weight: bold\">)</span> <span style=\"color: #008080; text-decoration-color: #008080; font-weight: bold\">42</span>\n",
              "</pre>\n"
            ],
            "text/plain": [
              "\u001b[1;35mtensor\u001b[0m\u001b[1m(\u001b[0m\u001b[1m[\u001b[0m \u001b[1;36m2\u001b[0m, \u001b[1;36m23\u001b[0m, \u001b[1;36m25\u001b[0m,  \u001b[1;36m5\u001b[0m,  \u001b[1;36m5\u001b[0m,  \u001b[1;36m5\u001b[0m,  \u001b[1;36m9\u001b[0m,  \u001b[1;36m4\u001b[0m,  \u001b[1;36m8\u001b[0m,  \u001b[1;36m4\u001b[0m,  \u001b[1;36m4\u001b[0m,  \u001b[1;36m4\u001b[0m,  \u001b[1;36m4\u001b[0m,  \u001b[1;36m4\u001b[0m,  \u001b[1;36m8\u001b[0m, \u001b[1;36m14\u001b[0m,  \u001b[1;36m5\u001b[0m,  \u001b[1;36m9\u001b[0m,\n",
              "         \u001b[1;36m5\u001b[0m,  \u001b[1;36m6\u001b[0m, \u001b[1;36m11\u001b[0m,  \u001b[1;36m9\u001b[0m,  \u001b[1;36m7\u001b[0m,  \u001b[1;36m4\u001b[0m,  \u001b[1;36m8\u001b[0m,  \u001b[1;36m4\u001b[0m,  \u001b[1;36m4\u001b[0m,  \u001b[1;36m4\u001b[0m,  \u001b[1;36m6\u001b[0m,  \u001b[1;36m9\u001b[0m,  \u001b[1;36m7\u001b[0m,  \u001b[1;36m4\u001b[0m,  \u001b[1;36m4\u001b[0m,  \u001b[1;36m8\u001b[0m,  \u001b[1;36m5\u001b[0m,  \u001b[1;36m6\u001b[0m,\n",
              "        \u001b[1;36m11\u001b[0m,  \u001b[1;36m9\u001b[0m,  \u001b[1;36m7\u001b[0m,  \u001b[1;36m9\u001b[0m,  \u001b[1;36m5\u001b[0m,  \u001b[1;36m3\u001b[0m\u001b[1m]\u001b[0m, \u001b[33mdevice\u001b[0m=\u001b[32m'cuda:0'\u001b[0m\u001b[1m)\u001b[0m \u001b[1;36m42\u001b[0m\n"
            ]
          },
          "metadata": {
            "tags": []
          }
        },
        {
          "output_type": "display_data",
          "data": {
            "text/html": [
              "<pre style=\"white-space:pre;overflow-x:auto;line-height:normal;font-family:Menlo,'DejaVu Sans Mono',consolas,'Courier New',monospace\">Product: <span style=\"font-weight: bold\">&lt;</span><span style=\"color: #ff00ff; text-decoration-color: #ff00ff; font-weight: bold\">RX_1</span><span style=\"font-weight: bold\">&gt;</span> C O C <span style=\"font-weight: bold\">(</span> = O <span style=\"font-weight: bold\">)</span> c <span style=\"color: #008080; text-decoration-color: #008080; font-weight: bold\">1</span> c c c <span style=\"font-weight: bold\">(</span> O C C C O c <span style=\"color: #008080; text-decoration-color: #008080; font-weight: bold\">2</span> c c c c c <span style=\"color: #008080; text-decoration-color: #008080; font-weight: bold\">2</span> <span style=\"font-weight: bold\">)</span> c c <span style=\"color: #008080; text-decoration-color: #008080; font-weight: bold\">1</span> C <span style=\"font-weight: bold\">(</span> = O <span style=\"font-weight: bold\">)</span> O C\n",
              "</pre>\n"
            ],
            "text/plain": [
              "Product: \u001b[1m<\u001b[0m\u001b[1;95mRX_1\u001b[0m\u001b[1m>\u001b[0m C O C \u001b[1m(\u001b[0m = O \u001b[1m)\u001b[0m c \u001b[1;36m1\u001b[0m c c c \u001b[1m(\u001b[0m O C C C O c \u001b[1;36m2\u001b[0m c c c c c \u001b[1;36m2\u001b[0m \u001b[1m)\u001b[0m c c \u001b[1;36m1\u001b[0m C \u001b[1m(\u001b[0m = O \u001b[1m)\u001b[0m O C\n"
            ]
          },
          "metadata": {
            "tags": []
          }
        },
        {
          "output_type": "display_data",
          "data": {
            "text/html": [
              "<pre style=\"white-space:pre;overflow-x:auto;line-height:normal;font-family:Menlo,'DejaVu Sans Mono',consolas,'Courier New',monospace\">Reaction Real: B r C C C O c <span style=\"color: #008080; text-decoration-color: #008080; font-weight: bold\">1</span> c c c c c <span style=\"color: #008080; text-decoration-color: #008080; font-weight: bold\">1</span> . C O C <span style=\"font-weight: bold\">(</span> = O <span style=\"font-weight: bold\">)</span> c <span style=\"color: #008080; text-decoration-color: #008080; font-weight: bold\">1</span> c c c <span style=\"font-weight: bold\">(</span> O <span style=\"font-weight: bold\">)</span> c c <span style=\"color: #008080; text-decoration-color: #008080; font-weight: bold\">1</span> C <span style=\"font-weight: bold\">(</span> = O <span style=\"font-weight: bold\">)</span> O \n",
              "C\n",
              "</pre>\n"
            ],
            "text/plain": [
              "Reaction Real: B r C C C O c \u001b[1;36m1\u001b[0m c c c c c \u001b[1;36m1\u001b[0m . C O C \u001b[1m(\u001b[0m = O \u001b[1m)\u001b[0m c \u001b[1;36m1\u001b[0m c c c \u001b[1m(\u001b[0m O \u001b[1m)\u001b[0m c c \u001b[1;36m1\u001b[0m C \u001b[1m(\u001b[0m = O \u001b[1m)\u001b[0m O \n",
              "C\n"
            ]
          },
          "metadata": {
            "tags": []
          }
        },
        {
          "output_type": "display_data",
          "data": {
            "text/html": [
              "<pre style=\"white-space:pre;overflow-x:auto;line-height:normal;font-family:Menlo,'DejaVu Sans Mono',consolas,'Courier New',monospace\">prediction: B r C C C O c <span style=\"color: #008080; text-decoration-color: #008080; font-weight: bold\">1</span> c c c c c <span style=\"color: #008080; text-decoration-color: #008080; font-weight: bold\">1</span> . C O C <span style=\"font-weight: bold\">(</span> = O <span style=\"font-weight: bold\">)</span> c <span style=\"color: #008080; text-decoration-color: #008080; font-weight: bold\">1</span> c c c <span style=\"font-weight: bold\">(</span> O <span style=\"font-weight: bold\">)</span> c c <span style=\"color: #008080; text-decoration-color: #008080; font-weight: bold\">1</span> C <span style=\"font-weight: bold\">(</span> = O <span style=\"font-weight: bold\">)</span> O C \n",
              "</pre>\n"
            ],
            "text/plain": [
              "prediction: B r C C C O c \u001b[1;36m1\u001b[0m c c c c c \u001b[1;36m1\u001b[0m . C O C \u001b[1m(\u001b[0m = O \u001b[1m)\u001b[0m c \u001b[1;36m1\u001b[0m c c c \u001b[1m(\u001b[0m O \u001b[1m)\u001b[0m c c \u001b[1;36m1\u001b[0m C \u001b[1m(\u001b[0m = O \u001b[1m)\u001b[0m O C \n"
            ]
          },
          "metadata": {
            "tags": []
          }
        }
      ]
    },
    {
      "cell_type": "code",
      "metadata": {
        "colab": {
          "base_uri": "https://localhost:8080/",
          "height": 34
        },
        "id": "CRfp-Rsn2HHB",
        "outputId": "cde8c247-15e3-41ab-ba3e-c426257bde13"
      },
      "source": [
        "print(torch.ones(1, 1))"
      ],
      "id": "CRfp-Rsn2HHB",
      "execution_count": 151,
      "outputs": [
        {
          "output_type": "display_data",
          "data": {
            "text/html": [
              "<pre style=\"white-space:pre;overflow-x:auto;line-height:normal;font-family:Menlo,'DejaVu Sans Mono',consolas,'Courier New',monospace\"><span style=\"color: #800080; text-decoration-color: #800080; font-weight: bold\">tensor</span><span style=\"font-weight: bold\">([[</span><span style=\"color: #008080; text-decoration-color: #008080; font-weight: bold\">1</span>.<span style=\"font-weight: bold\">]])</span>\n",
              "</pre>\n"
            ],
            "text/plain": [
              "\u001b[1;35mtensor\u001b[0m\u001b[1m(\u001b[0m\u001b[1m[\u001b[0m\u001b[1m[\u001b[0m\u001b[1;36m1\u001b[0m.\u001b[1m]\u001b[0m\u001b[1m]\u001b[0m\u001b[1m)\u001b[0m\n"
            ]
          },
          "metadata": {
            "tags": []
          }
        }
      ]
    },
    {
      "cell_type": "code",
      "metadata": {
        "id": "B0NC198s02rx"
      },
      "source": [
        "tensor([ 2, 23, 25,  5,  5,  5,  9,  4,  8,  4,  4,  4,  4,  4,  8, 14,  5,  9,\n",
        "         5,  6, 11,  9,  7,  4,  8,  4,  4,  4,  6,  9,  7,  4,  4,  8,  5,  6,\n",
        "        11,  9,  7,  9,  5,  3], device='cuda:0')\n",
        "\n",
        "tensor(27.4192, device='cuda:0', grad_fn=<SelectBackward>),\n",
        "    tensor(15.1489, device='cuda:0', grad_fn=<SelectBackward>),\n",
        "    tensor(2.3992, device='cuda:0', grad_fn=<SelectBackward>),\n",
        "    tensor(1.0775, device='cuda:0', grad_fn=<SelectBackward>),\n",
        "    tensor(-0.2426, device='cuda:0', grad_fn=<SelectBackward>),\n",
        "    tensor(-0.2513, device='cuda:0', grad_fn=<SelectBackward>),\n",
        "    tensor(-0.5492, device='cuda:0', grad_fn=<SelectBackward>),\n",
        "    tensor(-1.0419, device='cuda:0', grad_fn=<SelectBackward>),\n",
        "    tensor(-1.6403, device='cuda:0', grad_fn=<SelectBackward>),\n",
        "    tensor(-1.8496, device='cuda:0', grad_fn=<SelectBackward>)"
      ],
      "id": "B0NC198s02rx",
      "execution_count": null,
      "outputs": []
    },
    {
      "cell_type": "code",
      "metadata": {
        "colab": {
          "base_uri": "https://localhost:8080/",
          "height": 34
        },
        "id": "HwsVtgLtrbDF",
        "outputId": "54a3e745-8fb5-482f-f7db-9f234cb4097f"
      },
      "source": [
        "print(len(\"C O C ( = O ) c 1 c c c c ( C ( = O ) O ) c 1 . N c 1 c c c n c 1 N\".replace(\" \", \"\")))"
      ],
      "id": "HwsVtgLtrbDF",
      "execution_count": null,
      "outputs": [
        {
          "output_type": "display_data",
          "data": {
            "text/html": [
              "<pre style=\"white-space:pre;overflow-x:auto;line-height:normal;font-family:Menlo,'DejaVu Sans Mono',consolas,'Courier New',monospace\"><span style=\"color: #008080; text-decoration-color: #008080; font-weight: bold\">34</span>\n",
              "</pre>\n"
            ],
            "text/plain": [
              "\u001b[1;36m34\u001b[0m\n"
            ]
          },
          "metadata": {
            "tags": []
          }
        }
      ]
    },
    {
      "cell_type": "code",
      "metadata": {
        "colab": {
          "base_uri": "https://localhost:8080/",
          "height": 34
        },
        "id": "13Vt-6PkLS-y",
        "outputId": "d98c8522-47b6-4edc-896a-4ab4df2628d0"
      },
      "source": [
        "from math import log\n",
        "from numpy import array\n",
        "from numpy import argmax\n",
        "\n",
        "# beam search\n",
        "def beam_search_decoder(data, k):\n",
        "\tsequences = [[list(), 0.0]]\n",
        "  \n",
        "\t# walk over each step in sequence\n",
        "\tfor row in data:\n",
        "\t\tall_candidates = list()\n",
        "\t\t# expand each current candidate\n",
        "\t\tfor i in range(len(sequences)):\n",
        "\n",
        "\t\t\tseq, score = sequences[i]\n",
        "      \n",
        "\t\t\tfor j in range(len(row)):\n",
        "\t\t\t\tcandidate = [seq + [j], score - log(row[j])]\n",
        "\t\t\t\tall_candidates.append(candidate)\n",
        "\t\t# order all candidates by score\n",
        "\t\tordered = sorted(all_candidates, key=lambda tup:tup[1])\n",
        "\t\t# select k best\n",
        "\t\tsequences = ordered[:k]\n",
        "\treturn sequences\n",
        "\n",
        "# define a sequence of 10 words over a vocab of 5 words\n",
        "data = [[0.1, 0.2, 0.3, 0.4, 0.5],\n",
        "\t\t[0.5, 0.4, 0.3, 0.2, 0.1],\n",
        "\t\t[0.1, 0.2, 0.3, 0.4, 0.5],\n",
        "\t\t[0.5, 0.4, 0.3, 0.2, 0.1],\n",
        "\t\t[0.1, 0.2, 0.3, 0.4, 0.5],\n",
        "\t\t[0.5, 0.4, 0.3, 0.2, 0.1],\n",
        "\t\t[0.1, 0.2, 0.3, 0.4, 0.5],\n",
        "\t\t[0.5, 0.4, 0.3, 0.2, 0.1],\n",
        "\t\t[0.1, 0.2, 0.3, 0.4, 0.5],\n",
        "\t\t[0.5, 0.4, 0.3, 0.2, 0.1]]\n",
        "data = array(data)\n",
        "# decode sequence\n",
        "result = beam_search_decoder(data, 1)\n",
        "# print result\n",
        "for seq in result:\n",
        "\tprint(seq)"
      ],
      "id": "13Vt-6PkLS-y",
      "execution_count": null,
      "outputs": [
        {
          "output_type": "display_data",
          "data": {
            "text/html": [
              "<pre style=\"white-space:pre;overflow-x:auto;line-height:normal;font-family:Menlo,'DejaVu Sans Mono',consolas,'Courier New',monospace\"><span style=\"font-weight: bold\">[[</span><span style=\"color: #008080; text-decoration-color: #008080; font-weight: bold\">4</span>, <span style=\"color: #008080; text-decoration-color: #008080; font-weight: bold\">0</span>, <span style=\"color: #008080; text-decoration-color: #008080; font-weight: bold\">4</span>, <span style=\"color: #008080; text-decoration-color: #008080; font-weight: bold\">0</span>, <span style=\"color: #008080; text-decoration-color: #008080; font-weight: bold\">4</span>, <span style=\"color: #008080; text-decoration-color: #008080; font-weight: bold\">0</span>, <span style=\"color: #008080; text-decoration-color: #008080; font-weight: bold\">4</span>, <span style=\"color: #008080; text-decoration-color: #008080; font-weight: bold\">0</span>, <span style=\"color: #008080; text-decoration-color: #008080; font-weight: bold\">4</span>, <span style=\"color: #008080; text-decoration-color: #008080; font-weight: bold\">0</span><span style=\"font-weight: bold\">]</span>, <span style=\"color: #008080; text-decoration-color: #008080; font-weight: bold\">6.931471805599453</span><span style=\"font-weight: bold\">]</span>\n",
              "</pre>\n"
            ],
            "text/plain": [
              "\u001b[1m[\u001b[0m\u001b[1m[\u001b[0m\u001b[1;36m4\u001b[0m, \u001b[1;36m0\u001b[0m, \u001b[1;36m4\u001b[0m, \u001b[1;36m0\u001b[0m, \u001b[1;36m4\u001b[0m, \u001b[1;36m0\u001b[0m, \u001b[1;36m4\u001b[0m, \u001b[1;36m0\u001b[0m, \u001b[1;36m4\u001b[0m, \u001b[1;36m0\u001b[0m\u001b[1m]\u001b[0m, \u001b[1;36m6.931471805599453\u001b[0m\u001b[1m]\u001b[0m\n"
            ]
          },
          "metadata": {
            "tags": []
          }
        }
      ]
    },
    {
      "cell_type": "code",
      "metadata": {
        "colab": {
          "base_uri": "https://localhost:8080/"
        },
        "id": "EPP4H9Bmntpy",
        "outputId": "702cac60-b9e8-4c1a-bdb6-5c71d37b169d"
      },
      "source": [
        "import math\n",
        "a=-math.log(0.7)\n",
        "print(a)"
      ],
      "id": "EPP4H9Bmntpy",
      "execution_count": null,
      "outputs": [
        {
          "output_type": "stream",
          "text": [
            "0.35667494393873245\n"
          ],
          "name": "stdout"
        }
      ]
    },
    {
      "cell_type": "markdown",
      "metadata": {
        "id": "cQud1sNaKsK2"
      },
      "source": [
        "#TEST"
      ],
      "id": "cQud1sNaKsK2"
    },
    {
      "cell_type": "code",
      "metadata": {
        "colab": {
          "base_uri": "https://localhost:8080/",
          "height": 419
        },
        "id": "fiIkBfmNKzD9",
        "outputId": "09a74462-541f-42c8-e75b-ae0922df55ee"
      },
      "source": [
        "df_test=pd.read_csv(\"/content/Retrosynthesis_TF/USPTO-50K/src/src-test.txt\",names=[\"input\"])\n",
        "df_test"
      ],
      "id": "fiIkBfmNKzD9",
      "execution_count": null,
      "outputs": [
        {
          "output_type": "execute_result",
          "data": {
            "text/html": [
              "<div>\n",
              "<style scoped>\n",
              "    .dataframe tbody tr th:only-of-type {\n",
              "        vertical-align: middle;\n",
              "    }\n",
              "\n",
              "    .dataframe tbody tr th {\n",
              "        vertical-align: top;\n",
              "    }\n",
              "\n",
              "    .dataframe thead th {\n",
              "        text-align: right;\n",
              "    }\n",
              "</style>\n",
              "<table border=\"1\" class=\"dataframe\">\n",
              "  <thead>\n",
              "    <tr style=\"text-align: right;\">\n",
              "      <th></th>\n",
              "      <th>input</th>\n",
              "    </tr>\n",
              "  </thead>\n",
              "  <tbody>\n",
              "    <tr>\n",
              "      <th>0</th>\n",
              "      <td>&lt;RX_1&gt; C O C ( = O ) C C C ( = O ) c 1 c c c (...</td>\n",
              "    </tr>\n",
              "    <tr>\n",
              "      <th>1</th>\n",
              "      <td>&lt;RX_4&gt; C O C ( = O ) c 1 c c c c ( - c 2 n c 3...</td>\n",
              "    </tr>\n",
              "    <tr>\n",
              "      <th>2</th>\n",
              "      <td>&lt;RX_2&gt; C O N ( C ) C ( = O ) C 1 C C C ( N C (...</td>\n",
              "    </tr>\n",
              "    <tr>\n",
              "      <th>3</th>\n",
              "      <td>&lt;RX_1&gt; O = [ N + ] ( [ O - ] ) c 1 c c c ( C l...</td>\n",
              "    </tr>\n",
              "    <tr>\n",
              "      <th>4</th>\n",
              "      <td>&lt;RX_9&gt; N C C 1 = C C [ C @ @ H ] ( c 2 c c c (...</td>\n",
              "    </tr>\n",
              "    <tr>\n",
              "      <th>...</th>\n",
              "      <td>...</td>\n",
              "    </tr>\n",
              "    <tr>\n",
              "      <th>4999</th>\n",
              "      <td>&lt;RX_1&gt; C c 1 c c ( [ N + ] ( = O ) [ O - ] ) c...</td>\n",
              "    </tr>\n",
              "    <tr>\n",
              "      <th>5000</th>\n",
              "      <td>&lt;RX_6&gt; C O C ( = O ) c 1 [ n H ] c 2 c c ( C l...</td>\n",
              "    </tr>\n",
              "    <tr>\n",
              "      <th>5001</th>\n",
              "      <td>&lt;RX_7&gt; C O c 1 c c ( C ( F ) ( F ) F ) c c ( S...</td>\n",
              "    </tr>\n",
              "    <tr>\n",
              "      <th>5002</th>\n",
              "      <td>&lt;RX_10&gt; C c 1 n n ( C C ( C ) C O ) c ( - c 2 ...</td>\n",
              "    </tr>\n",
              "    <tr>\n",
              "      <th>5003</th>\n",
              "      <td>&lt;RX_1&gt; C O C ( = O ) c 1 c c ( S C c 2 c c c (...</td>\n",
              "    </tr>\n",
              "  </tbody>\n",
              "</table>\n",
              "<p>5004 rows × 1 columns</p>\n",
              "</div>"
            ],
            "text/plain": [
              "                                                  input\n",
              "0     <RX_1> C O C ( = O ) C C C ( = O ) c 1 c c c (...\n",
              "1     <RX_4> C O C ( = O ) c 1 c c c c ( - c 2 n c 3...\n",
              "2     <RX_2> C O N ( C ) C ( = O ) C 1 C C C ( N C (...\n",
              "3     <RX_1> O = [ N + ] ( [ O - ] ) c 1 c c c ( C l...\n",
              "4     <RX_9> N C C 1 = C C [ C @ @ H ] ( c 2 c c c (...\n",
              "...                                                 ...\n",
              "4999  <RX_1> C c 1 c c ( [ N + ] ( = O ) [ O - ] ) c...\n",
              "5000  <RX_6> C O C ( = O ) c 1 [ n H ] c 2 c c ( C l...\n",
              "5001  <RX_7> C O c 1 c c ( C ( F ) ( F ) F ) c c ( S...\n",
              "5002  <RX_10> C c 1 n n ( C C ( C ) C O ) c ( - c 2 ...\n",
              "5003  <RX_1> C O C ( = O ) c 1 c c ( S C c 2 c c c (...\n",
              "\n",
              "[5004 rows x 1 columns]"
            ]
          },
          "metadata": {
            "tags": []
          },
          "execution_count": 56
        }
      ]
    },
    {
      "cell_type": "code",
      "metadata": {
        "id": "MytR6oBY6A8Y"
      },
      "source": [
        "def greedy_decode(model, src, src_mask, max_len, start_symbol):\n",
        "    src = src.to(device)\n",
        "    src_mask = src_mask.to(device)\n",
        "\n",
        "    memory = model.encode(src, src_mask)\n",
        "    ys = torch.ones(1, 1).fill_(start_symbol).type(torch.long).to(device)\n",
        "    for i in range(max_len-1):\n",
        "        memory = memory.to(device)\n",
        "        memory_mask = torch.zeros(ys.shape[0], memory.shape[0]).to(device).type(torch.bool)\n",
        "        tgt_mask = (generate_square_subsequent_mask(ys.size(0))\n",
        "                                    .type(torch.bool)).to(device)\n",
        "        out = model.decode(ys, memory, tgt_mask)\n",
        "        out = out.transpose(0, 1)\n",
        "        prob = model.generator(out[:, -1])\n",
        "        _, next_word = torch.max(prob, dim = 1)\n",
        "        next_word = next_word.item()\n",
        "\n",
        "        ys = torch.cat([ys,\n",
        "                        torch.ones(1, 1).type_as(src.data).fill_(next_word)], dim=0)\n",
        "        \n",
        "        if next_word == EOS_IDX:\n",
        "          break\n",
        "    return ys\n",
        "\n",
        "\n",
        "def translate(model, src, src_vocab, tgt_vocab, src_tokenizer):\n",
        "  model.eval()\n",
        "  tokens = [BOS_IDX] + [src_vocab.stoi[tok] for tok in src_tokenizer(src)]+ [EOS_IDX]\n",
        "  num_tokens = len(tokens)\n",
        "  src = (torch.LongTensor(tokens).reshape(num_tokens, 1) )\n",
        "  src_mask = (torch.zeros(num_tokens, num_tokens)).type(torch.bool)\n",
        "  tgt_tokens = greedy_decode(model,  src, src_mask, max_len=num_tokens + 5, start_symbol=BOS_IDX).flatten()\n",
        " \n",
        "  #print(\"Product:\"+ \" \"+df.input[i])\n",
        "  #print(\"Reaction Real:\"+\" \"+df.target[i])\n",
        "  #return print(\"prediction:\"+\" \".join([tgt_vocab.itos[tok] for tok in tgt_tokens]).replace(\"<bos>\", \"\").replace(\"<eos>\", \"\"))\n",
        "  return \" \".join([tgt_vocab.itos[tok] for tok in tgt_tokens]).replace(\"<bos>\", \"\").replace(\"<eos>\", \"\")"
      ],
      "id": "MytR6oBY6A8Y",
      "execution_count": null,
      "outputs": []
    },
    {
      "cell_type": "code",
      "metadata": {
        "colab": {
          "base_uri": "https://localhost:8080/"
        },
        "id": "uydV8ir4LpW7",
        "outputId": "5283d2aa-c5ae-49b7-9b49-97a4fc848da5"
      },
      "source": [
        "len(df_test.input)\n"
      ],
      "id": "uydV8ir4LpW7",
      "execution_count": null,
      "outputs": [
        {
          "output_type": "execute_result",
          "data": {
            "text/plain": [
              "5004"
            ]
          },
          "metadata": {
            "tags": []
          },
          "execution_count": 46
        }
      ]
    },
    {
      "cell_type": "code",
      "metadata": {
        "id": "xqUcx1RfFvoc"
      },
      "source": [
        "#500 epoch\n",
        "model = torch.load('/content/gdrive/MyDrive/code retrosynthesis/model/model_tranformer_epochs_500.pth')"
      ],
      "id": "xqUcx1RfFvoc",
      "execution_count": null,
      "outputs": []
    },
    {
      "cell_type": "code",
      "metadata": {
        "id": "Hu1HQFboD-X-",
        "colab": {
          "base_uri": "https://localhost:8080/",
          "height": 35
        },
        "outputId": "e5493562-bece-4edd-f3c3-0ac9f5c34cd0"
      },
      "source": [
        "i=50034\n",
        "translate(model, df.input[i], src_vocab, tgt_vocab, tokenizer)"
      ],
      "id": "Hu1HQFboD-X-",
      "execution_count": null,
      "outputs": [
        {
          "output_type": "execute_result",
          "data": {
            "application/vnd.google.colaboratory.intrinsic+json": {
              "type": "string"
            },
            "text/plain": [
              "' C c 1 c c c ( B r ) c c 1 C = O . O B ( O ) c 1 c c n c c 1'"
            ]
          },
          "metadata": {
            "tags": []
          },
          "execution_count": 41
        }
      ]
    },
    {
      "cell_type": "code",
      "metadata": {
        "colab": {
          "base_uri": "https://localhost:8080/",
          "height": 34
        },
        "id": "NbT8HBEhJtvg",
        "outputId": "8d4ac719-51d0-4f5b-ce73-2dde9503b99f"
      },
      "source": [
        "a=0\n",
        "src_input=[]\n",
        "for i in range(len(df_test)):\n",
        "  #model\n",
        "  translate_src=translate(model, df_test.input[i], src_vocab, tgt_vocab, tokenizer)\n",
        "  #for n in range(1,11):\n",
        "    #translate_src=translate(transformer, df.input[i], src_vocab, tgt_vocab, tokenizer)\n",
        "  src_input.append(translate_src)\n",
        "  a=a+1\n",
        "print(a)         "
      ],
      "id": "NbT8HBEhJtvg",
      "execution_count": null,
      "outputs": [
        {
          "output_type": "display_data",
          "data": {
            "text/html": [
              "<pre style=\"white-space:pre;overflow-x:auto;line-height:normal;font-family:Menlo,'DejaVu Sans Mono',consolas,'Courier New',monospace\"><span style=\"color: #008080; text-decoration-color: #008080; font-weight: bold\">5004</span>\n",
              "</pre>\n"
            ],
            "text/plain": [
              "\u001b[1;36m5004\u001b[0m\n"
            ]
          },
          "metadata": {
            "tags": []
          }
        }
      ]
    },
    {
      "cell_type": "code",
      "metadata": {
        "colab": {
          "base_uri": "https://localhost:8080/"
        },
        "id": "qGURjRfVTaN7",
        "outputId": "ff387df2-1c17-4076-9fec-1ff460b5a6f9"
      },
      "source": [
        "df_test_prediction = pd.Series(src_input)\n",
        "df_test_prediction"
      ],
      "id": "qGURjRfVTaN7",
      "execution_count": null,
      "outputs": [
        {
          "output_type": "execute_result",
          "data": {
            "text/plain": [
              "0        C 1 = C O C C C 1 . C O C ( = O ) C C C ( = O...\n",
              "1        C O C ( = O ) c 1 c c c c ( C ( = O ) O ) c 1...\n",
              "2        C C ( C ) ( C ) O C ( = O ) N C 1 C C C ( C (...\n",
              "3        N c 1 c c c ( O ) c c 1 . O = [ N + ] ( [ O -...\n",
              "4        [ N - ] = [ N + ] = N C C 1 = C C [ C @ @ H ]...\n",
              "                              ...                        \n",
              "4999     C c 1 c c ( [ N + ] ( = O ) [ O - ] ) c c c 1...\n",
              "5000     C O C ( = O ) C C 1 C C c 2 c ( C l ) c c 3 [...\n",
              "5001     C O c 1 c c ( C ( F ) ( F ) F ) c c ( S C ) c...\n",
              "5002     C C ( C ) C n 1 n c ( C ) c ( B r ) c 1 - c 1...\n",
              "5003     C O C ( = O ) c 1 c c ( S C c 2 c c c ( O C )...\n",
              "Length: 5004, dtype: object"
            ]
          },
          "metadata": {
            "tags": []
          },
          "execution_count": 43
        }
      ]
    },
    {
      "cell_type": "code",
      "metadata": {
        "colab": {
          "base_uri": "https://localhost:8080/",
          "height": 419
        },
        "id": "SbDUmAhUT7K0",
        "outputId": "e271c712-865e-4230-8885-df19a5436220"
      },
      "source": [
        "df_test_prediction= pd.DataFrame(df_test_prediction, columns=[\"prediction\"])\n",
        "df_test_prediction"
      ],
      "id": "SbDUmAhUT7K0",
      "execution_count": null,
      "outputs": [
        {
          "output_type": "execute_result",
          "data": {
            "text/html": [
              "<div>\n",
              "<style scoped>\n",
              "    .dataframe tbody tr th:only-of-type {\n",
              "        vertical-align: middle;\n",
              "    }\n",
              "\n",
              "    .dataframe tbody tr th {\n",
              "        vertical-align: top;\n",
              "    }\n",
              "\n",
              "    .dataframe thead th {\n",
              "        text-align: right;\n",
              "    }\n",
              "</style>\n",
              "<table border=\"1\" class=\"dataframe\">\n",
              "  <thead>\n",
              "    <tr style=\"text-align: right;\">\n",
              "      <th></th>\n",
              "      <th>prediction</th>\n",
              "    </tr>\n",
              "  </thead>\n",
              "  <tbody>\n",
              "    <tr>\n",
              "      <th>0</th>\n",
              "      <td>C 1 = C O C C C 1 . C O C ( = O ) C C C ( = O...</td>\n",
              "    </tr>\n",
              "    <tr>\n",
              "      <th>1</th>\n",
              "      <td>C O C ( = O ) c 1 c c c c ( C ( = O ) O ) c 1...</td>\n",
              "    </tr>\n",
              "    <tr>\n",
              "      <th>2</th>\n",
              "      <td>C C ( C ) ( C ) O C ( = O ) N C 1 C C C ( C (...</td>\n",
              "    </tr>\n",
              "    <tr>\n",
              "      <th>3</th>\n",
              "      <td>N c 1 c c c ( O ) c c 1 . O = [ N + ] ( [ O -...</td>\n",
              "    </tr>\n",
              "    <tr>\n",
              "      <th>4</th>\n",
              "      <td>[ N - ] = [ N + ] = N C C 1 = C C [ C @ @ H ]...</td>\n",
              "    </tr>\n",
              "    <tr>\n",
              "      <th>...</th>\n",
              "      <td>...</td>\n",
              "    </tr>\n",
              "    <tr>\n",
              "      <th>4999</th>\n",
              "      <td>C c 1 c c ( [ N + ] ( = O ) [ O - ] ) c c c 1...</td>\n",
              "    </tr>\n",
              "    <tr>\n",
              "      <th>5000</th>\n",
              "      <td>C O C ( = O ) C C 1 C C c 2 c ( C l ) c c 3 [...</td>\n",
              "    </tr>\n",
              "    <tr>\n",
              "      <th>5001</th>\n",
              "      <td>C O c 1 c c ( C ( F ) ( F ) F ) c c ( S C ) c...</td>\n",
              "    </tr>\n",
              "    <tr>\n",
              "      <th>5002</th>\n",
              "      <td>C C ( C ) C n 1 n c ( C ) c ( B r ) c 1 - c 1...</td>\n",
              "    </tr>\n",
              "    <tr>\n",
              "      <th>5003</th>\n",
              "      <td>C O C ( = O ) c 1 c c ( S C c 2 c c c ( O C )...</td>\n",
              "    </tr>\n",
              "  </tbody>\n",
              "</table>\n",
              "<p>5004 rows × 1 columns</p>\n",
              "</div>"
            ],
            "text/plain": [
              "                                             prediction\n",
              "0      C 1 = C O C C C 1 . C O C ( = O ) C C C ( = O...\n",
              "1      C O C ( = O ) c 1 c c c c ( C ( = O ) O ) c 1...\n",
              "2      C C ( C ) ( C ) O C ( = O ) N C 1 C C C ( C (...\n",
              "3      N c 1 c c c ( O ) c c 1 . O = [ N + ] ( [ O -...\n",
              "4      [ N - ] = [ N + ] = N C C 1 = C C [ C @ @ H ]...\n",
              "...                                                 ...\n",
              "4999   C c 1 c c ( [ N + ] ( = O ) [ O - ] ) c c c 1...\n",
              "5000   C O C ( = O ) C C 1 C C c 2 c ( C l ) c c 3 [...\n",
              "5001   C O c 1 c c ( C ( F ) ( F ) F ) c c ( S C ) c...\n",
              "5002   C C ( C ) C n 1 n c ( C ) c ( B r ) c 1 - c 1...\n",
              "5003   C O C ( = O ) c 1 c c ( S C c 2 c c c ( O C )...\n",
              "\n",
              "[5004 rows x 1 columns]"
            ]
          },
          "metadata": {
            "tags": []
          },
          "execution_count": 44
        }
      ]
    },
    {
      "cell_type": "code",
      "metadata": {
        "id": "CKsSlIBvUHvA"
      },
      "source": [
        "#save df to .txt"
      ],
      "id": "CKsSlIBvUHvA",
      "execution_count": null,
      "outputs": []
    },
    {
      "cell_type": "code",
      "metadata": {
        "id": "gO3ixMp_LCV_"
      },
      "source": [
        "#https://stackoverflow.com/questions/31247198/python-pandas-write-content-of-dataframe-into-text-file\n",
        "df_test_prediction.to_csv(r'predictions_top2.txt', header=None, index=None)\n",
        "#files.download('predictions_top1.txt')"
      ],
      "id": "gO3ixMp_LCV_",
      "execution_count": null,
      "outputs": []
    }
  ]
}