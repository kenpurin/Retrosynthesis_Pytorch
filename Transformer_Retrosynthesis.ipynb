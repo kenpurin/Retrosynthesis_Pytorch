{
  "nbformat": 4,
  "nbformat_minor": 5,
  "metadata": {
    "kernelspec": {
      "display_name": "Python 3",
      "language": "python",
      "name": "python3"
    },
    "language_info": {
      "codemirror_mode": {
        "name": "ipython",
        "version": 3
      },
      "file_extension": ".py",
      "mimetype": "text/x-python",
      "name": "python",
      "nbconvert_exporter": "python",
      "pygments_lexer": "ipython3",
      "version": "3.8.5"
    },
    "colab": {
      "name": "Transformer_Retrosynthesis.ipynb",
      "provenance": [],
      "machine_shape": "hm",
      "include_colab_link": true
    },
    "accelerator": "GPU"
  },
  "cells": [
    {
      "cell_type": "markdown",
      "metadata": {
        "id": "view-in-github",
        "colab_type": "text"
      },
      "source": [
        "<a href=\"https://colab.research.google.com/github/kenpurin/Retrosynthesis_TF/blob/main/Transformer_Retrosynthesis.ipynb\" target=\"_parent\"><img src=\"https://colab.research.google.com/assets/colab-badge.svg\" alt=\"Open In Colab\"/></a>"
      ]
    },
    {
      "cell_type": "markdown",
      "metadata": {
        "id": "AuyLoi9uOemv"
      },
      "source": [
        "# LANGUAGE TRANSLATION WITH TRANSFORMER"
      ],
      "id": "AuyLoi9uOemv"
    },
    {
      "cell_type": "code",
      "metadata": {
        "colab": {
          "base_uri": "https://localhost:8080/"
        },
        "id": "n7-pt1ZNOj6f",
        "outputId": "5be7d154-8425-440e-833d-660edfd4ae34"
      },
      "source": [
        "!nvidia-smi"
      ],
      "id": "n7-pt1ZNOj6f",
      "execution_count": 2,
      "outputs": [
        {
          "output_type": "stream",
          "text": [
            "Thu May 20 00:44:01 2021       \n",
            "+-----------------------------------------------------------------------------+\n",
            "| NVIDIA-SMI 465.19.01    Driver Version: 460.32.03    CUDA Version: 11.2     |\n",
            "|-------------------------------+----------------------+----------------------+\n",
            "| GPU  Name        Persistence-M| Bus-Id        Disp.A | Volatile Uncorr. ECC |\n",
            "| Fan  Temp  Perf  Pwr:Usage/Cap|         Memory-Usage | GPU-Util  Compute M. |\n",
            "|                               |                      |               MIG M. |\n",
            "|===============================+======================+======================|\n",
            "|   0  Tesla P100-PCIE...  Off  | 00000000:00:04.0 Off |                    0 |\n",
            "| N/A   41C    P0    27W / 250W |      0MiB / 16280MiB |      0%      Default |\n",
            "|                               |                      |                  N/A |\n",
            "+-------------------------------+----------------------+----------------------+\n",
            "                                                                               \n",
            "+-----------------------------------------------------------------------------+\n",
            "| Processes:                                                                  |\n",
            "|  GPU   GI   CI        PID   Type   Process name                  GPU Memory |\n",
            "|        ID   ID                                                   Usage      |\n",
            "|=============================================================================|\n",
            "|  No running processes found                                                 |\n",
            "+-----------------------------------------------------------------------------+\n"
          ],
          "name": "stdout"
        }
      ]
    },
    {
      "cell_type": "markdown",
      "metadata": {
        "id": "yD3jtJw1Y07o"
      },
      "source": [
        "#load data and insatall"
      ],
      "id": "yD3jtJw1Y07o"
    },
    {
      "cell_type": "code",
      "metadata": {
        "colab": {
          "base_uri": "https://localhost:8080/"
        },
        "id": "Ij-QtfSdOxKG",
        "outputId": "9ab122f4-f2e5-4de1-e18a-98752a65a654"
      },
      "source": [
        "!git clone https://github.com/kenpurin/Retrosynthesis_TF.git"
      ],
      "id": "Ij-QtfSdOxKG",
      "execution_count": 3,
      "outputs": [
        {
          "output_type": "stream",
          "text": [
            "Cloning into 'Retrosynthesis_TF'...\n",
            "remote: Enumerating objects: 56, done.\u001b[K\n",
            "remote: Counting objects: 100% (56/56), done.\u001b[K\n",
            "remote: Compressing objects: 100% (52/52), done.\u001b[K\n",
            "remote: Total 56 (delta 21), reused 0 (delta 0), pack-reused 0\u001b[K\n",
            "Unpacking objects: 100% (56/56), done.\n"
          ],
          "name": "stdout"
        }
      ]
    },
    {
      "cell_type": "code",
      "metadata": {
        "colab": {
          "base_uri": "https://localhost:8080/"
        },
        "id": "RpYFi7_17AeU",
        "outputId": "26de3f45-a396-4a7a-a87d-f6e6670b2702"
      },
      "source": [
        "!pip3 install rich\n",
        "!pip3 show torch"
      ],
      "id": "RpYFi7_17AeU",
      "execution_count": 24,
      "outputs": [
        {
          "output_type": "stream",
          "text": [
            "Collecting rich\n",
            "\u001b[?25l  Downloading https://files.pythonhosted.org/packages/6b/39/fbe8d15f0b017d63701f2a42e4ccb9a73cd4175e5c56214c1b5685e3dd79/rich-10.2.2-py3-none-any.whl (203kB)\n",
            "\r\u001b[K     |█▋                              | 10kB 16.4MB/s eta 0:00:01\r\u001b[K     |███▏                            | 20kB 20.6MB/s eta 0:00:01\r\u001b[K     |████▉                           | 30kB 24.4MB/s eta 0:00:01\r\u001b[K     |██████▍                         | 40kB 21.1MB/s eta 0:00:01\r\u001b[K     |████████                        | 51kB 12.2MB/s eta 0:00:01\r\u001b[K     |█████████▋                      | 61kB 12.1MB/s eta 0:00:01\r\u001b[K     |███████████▎                    | 71kB 10.5MB/s eta 0:00:01\r\u001b[K     |████████████▉                   | 81kB 11.3MB/s eta 0:00:01\r\u001b[K     |██████████████▌                 | 92kB 12.4MB/s eta 0:00:01\r\u001b[K     |████████████████                | 102kB 11.5MB/s eta 0:00:01\r\u001b[K     |█████████████████▊              | 112kB 11.5MB/s eta 0:00:01\r\u001b[K     |███████████████████▎            | 122kB 11.5MB/s eta 0:00:01\r\u001b[K     |█████████████████████           | 133kB 11.5MB/s eta 0:00:01\r\u001b[K     |██████████████████████▌         | 143kB 11.5MB/s eta 0:00:01\r\u001b[K     |████████████████████████▏       | 153kB 11.5MB/s eta 0:00:01\r\u001b[K     |█████████████████████████▊      | 163kB 11.5MB/s eta 0:00:01\r\u001b[K     |███████████████████████████▍    | 174kB 11.5MB/s eta 0:00:01\r\u001b[K     |█████████████████████████████   | 184kB 11.5MB/s eta 0:00:01\r\u001b[K     |██████████████████████████████▋ | 194kB 11.5MB/s eta 0:00:01\r\u001b[K     |████████████████████████████████| 204kB 11.5MB/s \n",
            "\u001b[?25hRequirement already satisfied: pygments<3.0.0,>=2.6.0 in /usr/local/lib/python3.7/dist-packages (from rich) (2.6.1)\n",
            "Collecting colorama<0.5.0,>=0.4.0\n",
            "  Downloading https://files.pythonhosted.org/packages/44/98/5b86278fbbf250d239ae0ecb724f8572af1c91f4a11edf4d36a206189440/colorama-0.4.4-py2.py3-none-any.whl\n",
            "Collecting commonmark<0.10.0,>=0.9.0\n",
            "\u001b[?25l  Downloading https://files.pythonhosted.org/packages/b1/92/dfd892312d822f36c55366118b95d914e5f16de11044a27cf10a7d71bbbf/commonmark-0.9.1-py2.py3-none-any.whl (51kB)\n",
            "\u001b[K     |████████████████████████████████| 51kB 6.3MB/s \n",
            "\u001b[?25hRequirement already satisfied: typing-extensions<4.0.0,>=3.7.4; python_version < \"3.8\" in /usr/local/lib/python3.7/dist-packages (from rich) (3.7.4.3)\n",
            "Installing collected packages: colorama, commonmark, rich\n",
            "Successfully installed colorama-0.4.4 commonmark-0.9.1 rich-10.2.2\n",
            "Name: torch\n",
            "Version: 1.8.1+cu101\n",
            "Summary: Tensors and Dynamic neural networks in Python with strong GPU acceleration\n",
            "Home-page: https://pytorch.org/\n",
            "Author: PyTorch Team\n",
            "Author-email: packages@pytorch.org\n",
            "License: BSD-3\n",
            "Location: /usr/local/lib/python3.7/dist-packages\n",
            "Requires: typing-extensions, numpy\n",
            "Required-by: torchvision, torchtext, fastai\n"
          ],
          "name": "stdout"
        }
      ]
    },
    {
      "cell_type": "markdown",
      "metadata": {
        "id": "k3YfZKcVOVBP"
      },
      "source": [
        "# Data Processing"
      ],
      "id": "k3YfZKcVOVBP"
    },
    {
      "cell_type": "code",
      "metadata": {
        "id": "greater-timeline"
      },
      "source": [
        "import math\n",
        "import torchtext\n",
        "import torch\n",
        "import torch.nn as nn\n",
        "from torchtext.data.utils import get_tokenizer\n",
        "from collections import Counter\n",
        "from torchtext.vocab import Vocab\n",
        "from torchtext.utils import download_from_url, extract_archive\n",
        "from torch import Tensor\n",
        "import io\n",
        "import time\n",
        "from rich import print\n"
      ],
      "id": "greater-timeline",
      "execution_count": 27,
      "outputs": []
    },
    {
      "cell_type": "code",
      "metadata": {
        "colab": {
          "base_uri": "https://localhost:8080/",
          "height": 204
        },
        "id": "aiIInor-9RHJ",
        "outputId": "087c1b20-1000-4995-f13c-c9dace8bd2fa"
      },
      "source": [
        "torch.manual_seed(0)\n",
        "torch.use_deterministic_algorithms(True)\n",
        "device = torch.device('cuda' if torch.cuda.is_available() else 'cpu')\n",
        "print(torch.__version__)\n",
        "print(torch.cuda.is_available())\n",
        "\n",
        "if device.type == 'cuda':\n",
        "    print(torch.cuda.get_device_name(torch.cuda.current_device()))\n",
        "    print('Memory Usage:')\n",
        "    print('Allocated:', round(torch.cuda.memory_allocated(0)/1024**3,1), 'GB')\n",
        "    print('Cached:   ', round(torch.cuda.memory_reserved(0)/1024**3,1), 'GB')\n",
        "!nvcc --version"
      ],
      "id": "aiIInor-9RHJ",
      "execution_count": 28,
      "outputs": [
        {
          "output_type": "display_data",
          "data": {
            "text/html": [
              "<pre style=\"white-space:pre;overflow-x:auto;line-height:normal;font-family:Menlo,'DejaVu Sans Mono',consolas,'Courier New',monospace\"><span style=\"color: #008080; text-decoration-color: #008080; font-weight: bold\">1.8</span>.<span style=\"color: #008080; text-decoration-color: #008080; font-weight: bold\">1</span>+cu101\n",
              "</pre>\n"
            ],
            "text/plain": [
              "\u001b[1;36m1.8\u001b[0m.\u001b[1;36m1\u001b[0m+cu101\n"
            ]
          },
          "metadata": {
            "tags": []
          }
        },
        {
          "output_type": "display_data",
          "data": {
            "text/html": [
              "<pre style=\"white-space:pre;overflow-x:auto;line-height:normal;font-family:Menlo,'DejaVu Sans Mono',consolas,'Courier New',monospace\"><span style=\"color: #00ff00; text-decoration-color: #00ff00; font-style: italic\">True</span>\n",
              "</pre>\n"
            ],
            "text/plain": [
              "\u001b[3;92mTrue\u001b[0m\n"
            ]
          },
          "metadata": {
            "tags": []
          }
        },
        {
          "output_type": "display_data",
          "data": {
            "text/html": [
              "<pre style=\"white-space:pre;overflow-x:auto;line-height:normal;font-family:Menlo,'DejaVu Sans Mono',consolas,'Courier New',monospace\">Tesla P100-PCIE-16GB\n",
              "</pre>\n"
            ],
            "text/plain": [
              "Tesla P100-PCIE-16GB\n"
            ]
          },
          "metadata": {
            "tags": []
          }
        },
        {
          "output_type": "display_data",
          "data": {
            "text/html": [
              "<pre style=\"white-space:pre;overflow-x:auto;line-height:normal;font-family:Menlo,'DejaVu Sans Mono',consolas,'Courier New',monospace\">Memory Usage:\n",
              "</pre>\n"
            ],
            "text/plain": [
              "Memory Usage:\n"
            ]
          },
          "metadata": {
            "tags": []
          }
        },
        {
          "output_type": "display_data",
          "data": {
            "text/html": [
              "<pre style=\"white-space:pre;overflow-x:auto;line-height:normal;font-family:Menlo,'DejaVu Sans Mono',consolas,'Courier New',monospace\">Allocated: <span style=\"color: #008080; text-decoration-color: #008080; font-weight: bold\">0.2</span> GB\n",
              "</pre>\n"
            ],
            "text/plain": [
              "Allocated: \u001b[1;36m0.2\u001b[0m GB\n"
            ]
          },
          "metadata": {
            "tags": []
          }
        },
        {
          "output_type": "display_data",
          "data": {
            "text/html": [
              "<pre style=\"white-space:pre;overflow-x:auto;line-height:normal;font-family:Menlo,'DejaVu Sans Mono',consolas,'Courier New',monospace\">Cached:    <span style=\"color: #008080; text-decoration-color: #008080; font-weight: bold\">14.3</span> GB\n",
              "</pre>\n"
            ],
            "text/plain": [
              "Cached:    \u001b[1;36m14.3\u001b[0m GB\n"
            ]
          },
          "metadata": {
            "tags": []
          }
        },
        {
          "output_type": "stream",
          "text": [
            "nvcc: NVIDIA (R) Cuda compiler driver\n",
            "Copyright (c) 2005-2020 NVIDIA Corporation\n",
            "Built on Wed_Jul_22_19:09:09_PDT_2020\n",
            "Cuda compilation tools, release 11.0, V11.0.221\n",
            "Build cuda_11.0_bu.TC445_37.28845127_0\n"
          ],
          "name": "stdout"
        }
      ]
    },
    {
      "cell_type": "code",
      "metadata": {
        "id": "arbitrary-china"
      },
      "source": [
        "#load data USPTO-50K\n",
        "train_src_filepaths='Retrosynthesis_TF/USPTO-50K/src/src-train.txt'\n",
        "train_tgt_filepaths='Retrosynthesis_TF/USPTO-50K/tgt/tgt-train.txt'\n",
        "val_src_filepaths='Retrosynthesis_TF/USPTO-50K/src/src-val.txt'\n",
        "val_tgt_filepaths='Retrosynthesis_TF/USPTO-50K/tgt/tgt-val.txt'\n",
        "test_src_filepaths='Retrosynthesis_TF/USPTO-50K/src/src-test.txt'\n",
        "test_tgt_filepaths='Retrosynthesis_TF/USPTO-50K/tgt/tgt-test.txt'"
      ],
      "id": "arbitrary-china",
      "execution_count": 5,
      "outputs": []
    },
    {
      "cell_type": "code",
      "metadata": {
        "id": "circular-south"
      },
      "source": [
        "#build_vocab\n",
        "src_filepath='Retrosynthesis_TF/USPTO-50K/src/src.txt'\n",
        "tgt_filepath='Retrosynthesis_TF/USPTO-50K/tgt/tgt.txt'\n",
        "tokenizer = get_tokenizer('basic_english')\n",
        "def build_vocab(filepath, tokenizer):\n",
        "  counter = Counter()\n",
        "  with io.open(filepath, encoding=\"utf8\") as f:\n",
        "    for string_ in f:\n",
        "      counter.update(tokenizer(string_))\n",
        "  return Vocab(counter, specials=['<unk>', '<pad>', '<bos>', '<eos>'])\n",
        "src_vocab = build_vocab(src_filepath,tokenizer)\n",
        "tgt_vocab = build_vocab(tgt_filepath,tokenizer)"
      ],
      "id": "circular-south",
      "execution_count": 6,
      "outputs": []
    },
    {
      "cell_type": "code",
      "metadata": {
        "id": "recorded-crawford"
      },
      "source": [
        "def data_process(filepaths1,filepaths2):\n",
        "  raw_src_iter = iter(io.open(filepaths1, encoding=\"utf8\"))\n",
        "  raw_tgt_iter = iter(io.open(filepaths2, encoding=\"utf8\"))\n",
        "  data = []\n",
        "  for (raw_src, raw_tgt) in zip(raw_src_iter, raw_tgt_iter):\n",
        "    src_tensor_ = torch.tensor([src_vocab[token] for token in tokenizer(raw_src.rstrip(\"\\n\"))],\n",
        "                            dtype=torch.long)\n",
        "    tgt_tensor_ = torch.tensor([tgt_vocab[token] for token in tokenizer(raw_tgt.rstrip(\"\\n\"))],\n",
        "                            dtype=torch.long)\n",
        "    data.append((src_tensor_, tgt_tensor_))\n",
        "  return data"
      ],
      "id": "recorded-crawford",
      "execution_count": 7,
      "outputs": []
    },
    {
      "cell_type": "code",
      "metadata": {
        "id": "polished-truth"
      },
      "source": [
        "train_data = data_process(train_src_filepaths,train_tgt_filepaths)\n",
        "val_data = data_process(val_src_filepaths,val_tgt_filepaths)\n",
        "test_data = data_process(test_src_filepaths,test_tgt_filepaths)\n"
      ],
      "id": "polished-truth",
      "execution_count": 8,
      "outputs": []
    },
    {
      "cell_type": "code",
      "metadata": {
        "id": "korean-savage"
      },
      "source": [
        "device = torch.device('cuda' if torch.cuda.is_available() else 'cpu')\n",
        "BATCH_SIZE = 128\n",
        "PAD_IDX = src_vocab['<pad>']\n",
        "BOS_IDX = src_vocab['<bos>']\n",
        "EOS_IDX = src_vocab['<eos>']"
      ],
      "id": "korean-savage",
      "execution_count": 9,
      "outputs": []
    },
    {
      "cell_type": "markdown",
      "metadata": {
        "id": "dJcCX4xNOSgZ"
      },
      "source": [
        "# DataLoader"
      ],
      "id": "dJcCX4xNOSgZ"
    },
    {
      "cell_type": "code",
      "metadata": {
        "id": "hundred-translator"
      },
      "source": [
        "from torch.nn.utils.rnn import pad_sequence\n",
        "from torch.utils.data import DataLoader\n",
        "\n",
        "def generate_batch(data_batch):\n",
        "  src_batch, tgt_batch = [], []\n",
        "  for (src_item, tgt_item) in data_batch:\n",
        "    src_batch.append(torch.cat([torch.tensor([BOS_IDX]), src_item, torch.tensor([EOS_IDX])], dim=0))\n",
        "    tgt_batch.append(torch.cat([torch.tensor([BOS_IDX]), tgt_item, torch.tensor([EOS_IDX])], dim=0))\n",
        "  src_batch = pad_sequence(src_batch, padding_value=PAD_IDX)\n",
        "  tgt_batch = pad_sequence(tgt_batch, padding_value=PAD_IDX)\n",
        "  return src_batch, tgt_batch\n",
        "\n",
        "train_iter = DataLoader(train_data, batch_size=BATCH_SIZE,\n",
        "                        shuffle=True, collate_fn=generate_batch)\n",
        "valid_iter = DataLoader(val_data, batch_size=BATCH_SIZE,\n",
        "                        shuffle=True, collate_fn=generate_batch)\n",
        "test_iter = DataLoader(test_data, batch_size=BATCH_SIZE,\n",
        "                       shuffle=True, collate_fn=generate_batch)"
      ],
      "id": "hundred-translator",
      "execution_count": 10,
      "outputs": []
    },
    {
      "cell_type": "markdown",
      "metadata": {
        "id": "JsF46_xVOBv7"
      },
      "source": [
        "#Transformer"
      ],
      "id": "JsF46_xVOBv7"
    },
    {
      "cell_type": "code",
      "metadata": {
        "id": "coupled-ballot"
      },
      "source": [
        "from torch.nn import (TransformerEncoder, TransformerDecoder,\n",
        "                      TransformerEncoderLayer, TransformerDecoderLayer)\n",
        "\n",
        "\n",
        "class Seq2SeqTransformer(nn.Module):\n",
        "    def __init__(self, num_encoder_layers: int, num_decoder_layers: int,\n",
        "                 emb_size: int, src_vocab_size: int, tgt_vocab_size: int,\n",
        "                 dim_feedforward:int = 512, dropout:float = 0.1):\n",
        "        super(Seq2SeqTransformer, self).__init__()\n",
        "        encoder_layer = TransformerEncoderLayer(d_model=emb_size, nhead=NHEAD,\n",
        "                                                dim_feedforward=dim_feedforward)\n",
        "        self.transformer_encoder = TransformerEncoder(encoder_layer, num_layers=num_encoder_layers)\n",
        "        decoder_layer = TransformerDecoderLayer(d_model=emb_size, nhead=NHEAD,\n",
        "                                                dim_feedforward=dim_feedforward)\n",
        "        self.transformer_decoder = TransformerDecoder(decoder_layer, num_layers=num_decoder_layers)\n",
        "\n",
        "        self.generator = nn.Linear(emb_size, tgt_vocab_size)\n",
        "        self.src_tok_emb = TokenEmbedding(src_vocab_size, emb_size)\n",
        "        self.tgt_tok_emb = TokenEmbedding(tgt_vocab_size, emb_size)\n",
        "        self.positional_encoding = PositionalEncoding(emb_size, dropout=dropout)\n",
        "\n",
        "    def forward(self, src: Tensor, trg: Tensor, src_mask: Tensor,\n",
        "                tgt_mask: Tensor, src_padding_mask: Tensor,\n",
        "                tgt_padding_mask: Tensor, memory_key_padding_mask: Tensor):\n",
        "        src_emb = self.positional_encoding(self.src_tok_emb(src))\n",
        "        tgt_emb = self.positional_encoding(self.tgt_tok_emb(trg))\n",
        "        memory = self.transformer_encoder(src_emb, src_mask, src_padding_mask)\n",
        "        outs = self.transformer_decoder(tgt_emb, memory, tgt_mask, None,\n",
        "                                        tgt_padding_mask, memory_key_padding_mask)\n",
        "        return self.generator(outs)\n",
        "\n",
        "    def encode(self, src: Tensor, src_mask: Tensor):\n",
        "        return self.transformer_encoder(self.positional_encoding(\n",
        "                            self.src_tok_emb(src)), src_mask)\n",
        "\n",
        "    def decode(self, tgt: Tensor, memory: Tensor, tgt_mask: Tensor):\n",
        "        return self.transformer_decoder(self.positional_encoding(\n",
        "                          self.tgt_tok_emb(tgt)), memory,\n",
        "                          tgt_mask)"
      ],
      "id": "coupled-ballot",
      "execution_count": 11,
      "outputs": []
    },
    {
      "cell_type": "code",
      "metadata": {
        "id": "random-trance"
      },
      "source": [
        "class PositionalEncoding(nn.Module):\n",
        "    def __init__(self, emb_size: int, dropout, maxlen: int = 5000):\n",
        "        super(PositionalEncoding, self).__init__()\n",
        "        den = torch.exp(- torch.arange(0, emb_size, 2) * math.log(10000) / emb_size)\n",
        "        pos = torch.arange(0, maxlen).reshape(maxlen, 1)\n",
        "        pos_embedding = torch.zeros((maxlen, emb_size))\n",
        "        pos_embedding[:, 0::2] = torch.sin(pos * den)\n",
        "        pos_embedding[:, 1::2] = torch.cos(pos * den)\n",
        "        pos_embedding = pos_embedding.unsqueeze(-2)\n",
        "\n",
        "        self.dropout = nn.Dropout(dropout)\n",
        "        self.register_buffer('pos_embedding', pos_embedding)\n",
        "\n",
        "    def forward(self, token_embedding: Tensor):\n",
        "        return self.dropout(token_embedding +\n",
        "                            self.pos_embedding[:token_embedding.size(0),:])\n",
        "\n",
        "class TokenEmbedding(nn.Module):\n",
        "    def __init__(self, vocab_size: int, emb_size):\n",
        "        super(TokenEmbedding, self).__init__()\n",
        "        self.embedding = nn.Embedding(vocab_size, emb_size)\n",
        "        self.emb_size = emb_size\n",
        "    def forward(self, tokens: Tensor):\n",
        "        return self.embedding(tokens.long()) * math.sqrt(self.emb_size)"
      ],
      "id": "random-trance",
      "execution_count": 12,
      "outputs": []
    },
    {
      "cell_type": "code",
      "metadata": {
        "id": "japanese-polls"
      },
      "source": [
        "def generate_square_subsequent_mask(sz):\n",
        "    mask = (torch.triu(torch.ones((sz, sz), device=DEVICE)) == 1).transpose(0, 1)\n",
        "    mask = mask.float().masked_fill(mask == 0, float('-inf')).masked_fill(mask == 1, float(0.0))\n",
        "    return mask\n",
        "\n",
        "def create_mask(src, tgt):\n",
        "  src_seq_len = src.shape[0]\n",
        "  tgt_seq_len = tgt.shape[0]\n",
        "\n",
        "  tgt_mask = generate_square_subsequent_mask(tgt_seq_len)\n",
        "  src_mask = torch.zeros((src_seq_len, src_seq_len), device=DEVICE).type(torch.bool)\n",
        "\n",
        "  src_padding_mask = (src == PAD_IDX).transpose(0, 1)\n",
        "  tgt_padding_mask = (tgt == PAD_IDX).transpose(0, 1)\n",
        "  return src_mask, tgt_mask, src_padding_mask, tgt_padding_mask"
      ],
      "id": "japanese-polls",
      "execution_count": 13,
      "outputs": []
    },
    {
      "cell_type": "code",
      "metadata": {
        "id": "convenient-facial"
      },
      "source": [
        "# Training hyperparameters\n",
        "SRC_VOCAB_SIZE = len(src_vocab)\n",
        "TGT_VOCAB_SIZE = len(tgt_vocab)\n",
        "EMB_SIZE = 512\n",
        "NHEAD = 8\n",
        "FFN_HID_DIM = 512\n",
        "BATCH_SIZE = 128\n",
        "NUM_ENCODER_LAYERS = 3\n",
        "NUM_DECODER_LAYERS = 3\n",
        "NUM_EPOCHS = 500\n",
        "\n",
        "DEVICE = torch.device('cuda:0' if torch.cuda.is_available() else 'cpu')\n",
        "\n",
        "transformer = Seq2SeqTransformer(NUM_ENCODER_LAYERS, NUM_DECODER_LAYERS,\n",
        "                                 EMB_SIZE, SRC_VOCAB_SIZE, TGT_VOCAB_SIZE,\n",
        "                                 FFN_HID_DIM)\n",
        "\n",
        "for p in transformer.parameters():\n",
        "    if p.dim() > 1:\n",
        "        nn.init.xavier_uniform_(p)\n",
        "#model \n",
        "transformer = transformer.to(device)\n",
        "\n",
        "loss_fn = torch.nn.CrossEntropyLoss(ignore_index=PAD_IDX)\n",
        "\n",
        "optimizer = torch.optim.Adam(\n",
        "    transformer.parameters(), lr=0.0001, betas=(0.9, 0.98), eps=1e-9\n",
        ")"
      ],
      "id": "convenient-facial",
      "execution_count": 14,
      "outputs": []
    },
    {
      "cell_type": "code",
      "metadata": {
        "colab": {
          "base_uri": "https://localhost:8080/",
          "height": 1000
        },
        "id": "n6OqEmQs7HrH",
        "outputId": "c236662b-981c-43f1-f4c3-54892c00843f"
      },
      "source": [
        "#show model\n",
        "print(transformer)"
      ],
      "id": "n6OqEmQs7HrH",
      "execution_count": 29,
      "outputs": [
        {
          "output_type": "display_data",
          "data": {
            "text/html": [
              "<pre style=\"white-space:pre;overflow-x:auto;line-height:normal;font-family:Menlo,'DejaVu Sans Mono',consolas,'Courier New',monospace\"><span style=\"color: #800080; text-decoration-color: #800080; font-weight: bold\">Seq2SeqTransformer</span><span style=\"font-weight: bold\">(</span>\n",
              "  <span style=\"font-weight: bold\">(</span>transformer_encoder<span style=\"font-weight: bold\">)</span>: <span style=\"color: #800080; text-decoration-color: #800080; font-weight: bold\">TransformerEncoder</span><span style=\"font-weight: bold\">(</span>\n",
              "    <span style=\"font-weight: bold\">(</span>layers<span style=\"font-weight: bold\">)</span>: <span style=\"color: #800080; text-decoration-color: #800080; font-weight: bold\">ModuleList</span><span style=\"font-weight: bold\">(</span>\n",
              "      <span style=\"font-weight: bold\">(</span><span style=\"color: #008080; text-decoration-color: #008080; font-weight: bold\">0</span><span style=\"font-weight: bold\">)</span>: <span style=\"color: #800080; text-decoration-color: #800080; font-weight: bold\">TransformerEncoderLayer</span><span style=\"font-weight: bold\">(</span>\n",
              "        <span style=\"font-weight: bold\">(</span>self_attn<span style=\"font-weight: bold\">)</span>: <span style=\"color: #800080; text-decoration-color: #800080; font-weight: bold\">MultiheadAttention</span><span style=\"font-weight: bold\">(</span>\n",
              "          <span style=\"font-weight: bold\">(</span>out_proj<span style=\"font-weight: bold\">)</span>: <span style=\"color: #800080; text-decoration-color: #800080; font-weight: bold\">_LinearWithBias</span><span style=\"font-weight: bold\">(</span><span style=\"color: #808000; text-decoration-color: #808000\">in_features</span>=<span style=\"color: #008080; text-decoration-color: #008080; font-weight: bold\">512</span>, <span style=\"color: #808000; text-decoration-color: #808000\">out_features</span>=<span style=\"color: #008080; text-decoration-color: #008080; font-weight: bold\">512</span>, <span style=\"color: #808000; text-decoration-color: #808000\">bias</span>=<span style=\"color: #00ff00; text-decoration-color: #00ff00; font-style: italic\">True</span><span style=\"font-weight: bold\">)</span>\n",
              "        <span style=\"font-weight: bold\">)</span>\n",
              "        <span style=\"font-weight: bold\">(</span>linear1<span style=\"font-weight: bold\">)</span>: <span style=\"color: #800080; text-decoration-color: #800080; font-weight: bold\">Linear</span><span style=\"font-weight: bold\">(</span><span style=\"color: #808000; text-decoration-color: #808000\">in_features</span>=<span style=\"color: #008080; text-decoration-color: #008080; font-weight: bold\">512</span>, <span style=\"color: #808000; text-decoration-color: #808000\">out_features</span>=<span style=\"color: #008080; text-decoration-color: #008080; font-weight: bold\">512</span>, <span style=\"color: #808000; text-decoration-color: #808000\">bias</span>=<span style=\"color: #00ff00; text-decoration-color: #00ff00; font-style: italic\">True</span><span style=\"font-weight: bold\">)</span>\n",
              "        <span style=\"font-weight: bold\">(</span>dropout<span style=\"font-weight: bold\">)</span>: <span style=\"color: #800080; text-decoration-color: #800080; font-weight: bold\">Dropout</span><span style=\"font-weight: bold\">(</span><span style=\"color: #808000; text-decoration-color: #808000\">p</span>=<span style=\"color: #008080; text-decoration-color: #008080; font-weight: bold\">0.1</span>, <span style=\"color: #808000; text-decoration-color: #808000\">inplace</span>=<span style=\"color: #ff0000; text-decoration-color: #ff0000; font-style: italic\">False</span><span style=\"font-weight: bold\">)</span>\n",
              "        <span style=\"font-weight: bold\">(</span>linear2<span style=\"font-weight: bold\">)</span>: <span style=\"color: #800080; text-decoration-color: #800080; font-weight: bold\">Linear</span><span style=\"font-weight: bold\">(</span><span style=\"color: #808000; text-decoration-color: #808000\">in_features</span>=<span style=\"color: #008080; text-decoration-color: #008080; font-weight: bold\">512</span>, <span style=\"color: #808000; text-decoration-color: #808000\">out_features</span>=<span style=\"color: #008080; text-decoration-color: #008080; font-weight: bold\">512</span>, <span style=\"color: #808000; text-decoration-color: #808000\">bias</span>=<span style=\"color: #00ff00; text-decoration-color: #00ff00; font-style: italic\">True</span><span style=\"font-weight: bold\">)</span>\n",
              "        <span style=\"font-weight: bold\">(</span>norm1<span style=\"font-weight: bold\">)</span>: <span style=\"color: #800080; text-decoration-color: #800080; font-weight: bold\">LayerNorm</span><span style=\"font-weight: bold\">((</span><span style=\"color: #008080; text-decoration-color: #008080; font-weight: bold\">512</span>,<span style=\"font-weight: bold\">)</span>, <span style=\"color: #808000; text-decoration-color: #808000\">eps</span>=<span style=\"color: #008080; text-decoration-color: #008080; font-weight: bold\">1e-05</span>, <span style=\"color: #808000; text-decoration-color: #808000\">elementwise_affine</span>=<span style=\"color: #00ff00; text-decoration-color: #00ff00; font-style: italic\">True</span><span style=\"font-weight: bold\">)</span>\n",
              "        <span style=\"font-weight: bold\">(</span>norm2<span style=\"font-weight: bold\">)</span>: <span style=\"color: #800080; text-decoration-color: #800080; font-weight: bold\">LayerNorm</span><span style=\"font-weight: bold\">((</span><span style=\"color: #008080; text-decoration-color: #008080; font-weight: bold\">512</span>,<span style=\"font-weight: bold\">)</span>, <span style=\"color: #808000; text-decoration-color: #808000\">eps</span>=<span style=\"color: #008080; text-decoration-color: #008080; font-weight: bold\">1e-05</span>, <span style=\"color: #808000; text-decoration-color: #808000\">elementwise_affine</span>=<span style=\"color: #00ff00; text-decoration-color: #00ff00; font-style: italic\">True</span><span style=\"font-weight: bold\">)</span>\n",
              "        <span style=\"font-weight: bold\">(</span>dropout1<span style=\"font-weight: bold\">)</span>: <span style=\"color: #800080; text-decoration-color: #800080; font-weight: bold\">Dropout</span><span style=\"font-weight: bold\">(</span><span style=\"color: #808000; text-decoration-color: #808000\">p</span>=<span style=\"color: #008080; text-decoration-color: #008080; font-weight: bold\">0.1</span>, <span style=\"color: #808000; text-decoration-color: #808000\">inplace</span>=<span style=\"color: #ff0000; text-decoration-color: #ff0000; font-style: italic\">False</span><span style=\"font-weight: bold\">)</span>\n",
              "        <span style=\"font-weight: bold\">(</span>dropout2<span style=\"font-weight: bold\">)</span>: <span style=\"color: #800080; text-decoration-color: #800080; font-weight: bold\">Dropout</span><span style=\"font-weight: bold\">(</span><span style=\"color: #808000; text-decoration-color: #808000\">p</span>=<span style=\"color: #008080; text-decoration-color: #008080; font-weight: bold\">0.1</span>, <span style=\"color: #808000; text-decoration-color: #808000\">inplace</span>=<span style=\"color: #ff0000; text-decoration-color: #ff0000; font-style: italic\">False</span><span style=\"font-weight: bold\">)</span>\n",
              "      <span style=\"font-weight: bold\">)</span>\n",
              "      <span style=\"font-weight: bold\">(</span><span style=\"color: #008080; text-decoration-color: #008080; font-weight: bold\">1</span><span style=\"font-weight: bold\">)</span>: <span style=\"color: #800080; text-decoration-color: #800080; font-weight: bold\">TransformerEncoderLayer</span><span style=\"font-weight: bold\">(</span>\n",
              "        <span style=\"font-weight: bold\">(</span>self_attn<span style=\"font-weight: bold\">)</span>: <span style=\"color: #800080; text-decoration-color: #800080; font-weight: bold\">MultiheadAttention</span><span style=\"font-weight: bold\">(</span>\n",
              "          <span style=\"font-weight: bold\">(</span>out_proj<span style=\"font-weight: bold\">)</span>: <span style=\"color: #800080; text-decoration-color: #800080; font-weight: bold\">_LinearWithBias</span><span style=\"font-weight: bold\">(</span><span style=\"color: #808000; text-decoration-color: #808000\">in_features</span>=<span style=\"color: #008080; text-decoration-color: #008080; font-weight: bold\">512</span>, <span style=\"color: #808000; text-decoration-color: #808000\">out_features</span>=<span style=\"color: #008080; text-decoration-color: #008080; font-weight: bold\">512</span>, <span style=\"color: #808000; text-decoration-color: #808000\">bias</span>=<span style=\"color: #00ff00; text-decoration-color: #00ff00; font-style: italic\">True</span><span style=\"font-weight: bold\">)</span>\n",
              "        <span style=\"font-weight: bold\">)</span>\n",
              "        <span style=\"font-weight: bold\">(</span>linear1<span style=\"font-weight: bold\">)</span>: <span style=\"color: #800080; text-decoration-color: #800080; font-weight: bold\">Linear</span><span style=\"font-weight: bold\">(</span><span style=\"color: #808000; text-decoration-color: #808000\">in_features</span>=<span style=\"color: #008080; text-decoration-color: #008080; font-weight: bold\">512</span>, <span style=\"color: #808000; text-decoration-color: #808000\">out_features</span>=<span style=\"color: #008080; text-decoration-color: #008080; font-weight: bold\">512</span>, <span style=\"color: #808000; text-decoration-color: #808000\">bias</span>=<span style=\"color: #00ff00; text-decoration-color: #00ff00; font-style: italic\">True</span><span style=\"font-weight: bold\">)</span>\n",
              "        <span style=\"font-weight: bold\">(</span>dropout<span style=\"font-weight: bold\">)</span>: <span style=\"color: #800080; text-decoration-color: #800080; font-weight: bold\">Dropout</span><span style=\"font-weight: bold\">(</span><span style=\"color: #808000; text-decoration-color: #808000\">p</span>=<span style=\"color: #008080; text-decoration-color: #008080; font-weight: bold\">0.1</span>, <span style=\"color: #808000; text-decoration-color: #808000\">inplace</span>=<span style=\"color: #ff0000; text-decoration-color: #ff0000; font-style: italic\">False</span><span style=\"font-weight: bold\">)</span>\n",
              "        <span style=\"font-weight: bold\">(</span>linear2<span style=\"font-weight: bold\">)</span>: <span style=\"color: #800080; text-decoration-color: #800080; font-weight: bold\">Linear</span><span style=\"font-weight: bold\">(</span><span style=\"color: #808000; text-decoration-color: #808000\">in_features</span>=<span style=\"color: #008080; text-decoration-color: #008080; font-weight: bold\">512</span>, <span style=\"color: #808000; text-decoration-color: #808000\">out_features</span>=<span style=\"color: #008080; text-decoration-color: #008080; font-weight: bold\">512</span>, <span style=\"color: #808000; text-decoration-color: #808000\">bias</span>=<span style=\"color: #00ff00; text-decoration-color: #00ff00; font-style: italic\">True</span><span style=\"font-weight: bold\">)</span>\n",
              "        <span style=\"font-weight: bold\">(</span>norm1<span style=\"font-weight: bold\">)</span>: <span style=\"color: #800080; text-decoration-color: #800080; font-weight: bold\">LayerNorm</span><span style=\"font-weight: bold\">((</span><span style=\"color: #008080; text-decoration-color: #008080; font-weight: bold\">512</span>,<span style=\"font-weight: bold\">)</span>, <span style=\"color: #808000; text-decoration-color: #808000\">eps</span>=<span style=\"color: #008080; text-decoration-color: #008080; font-weight: bold\">1e-05</span>, <span style=\"color: #808000; text-decoration-color: #808000\">elementwise_affine</span>=<span style=\"color: #00ff00; text-decoration-color: #00ff00; font-style: italic\">True</span><span style=\"font-weight: bold\">)</span>\n",
              "        <span style=\"font-weight: bold\">(</span>norm2<span style=\"font-weight: bold\">)</span>: <span style=\"color: #800080; text-decoration-color: #800080; font-weight: bold\">LayerNorm</span><span style=\"font-weight: bold\">((</span><span style=\"color: #008080; text-decoration-color: #008080; font-weight: bold\">512</span>,<span style=\"font-weight: bold\">)</span>, <span style=\"color: #808000; text-decoration-color: #808000\">eps</span>=<span style=\"color: #008080; text-decoration-color: #008080; font-weight: bold\">1e-05</span>, <span style=\"color: #808000; text-decoration-color: #808000\">elementwise_affine</span>=<span style=\"color: #00ff00; text-decoration-color: #00ff00; font-style: italic\">True</span><span style=\"font-weight: bold\">)</span>\n",
              "        <span style=\"font-weight: bold\">(</span>dropout1<span style=\"font-weight: bold\">)</span>: <span style=\"color: #800080; text-decoration-color: #800080; font-weight: bold\">Dropout</span><span style=\"font-weight: bold\">(</span><span style=\"color: #808000; text-decoration-color: #808000\">p</span>=<span style=\"color: #008080; text-decoration-color: #008080; font-weight: bold\">0.1</span>, <span style=\"color: #808000; text-decoration-color: #808000\">inplace</span>=<span style=\"color: #ff0000; text-decoration-color: #ff0000; font-style: italic\">False</span><span style=\"font-weight: bold\">)</span>\n",
              "        <span style=\"font-weight: bold\">(</span>dropout2<span style=\"font-weight: bold\">)</span>: <span style=\"color: #800080; text-decoration-color: #800080; font-weight: bold\">Dropout</span><span style=\"font-weight: bold\">(</span><span style=\"color: #808000; text-decoration-color: #808000\">p</span>=<span style=\"color: #008080; text-decoration-color: #008080; font-weight: bold\">0.1</span>, <span style=\"color: #808000; text-decoration-color: #808000\">inplace</span>=<span style=\"color: #ff0000; text-decoration-color: #ff0000; font-style: italic\">False</span><span style=\"font-weight: bold\">)</span>\n",
              "      <span style=\"font-weight: bold\">)</span>\n",
              "      <span style=\"font-weight: bold\">(</span><span style=\"color: #008080; text-decoration-color: #008080; font-weight: bold\">2</span><span style=\"font-weight: bold\">)</span>: <span style=\"color: #800080; text-decoration-color: #800080; font-weight: bold\">TransformerEncoderLayer</span><span style=\"font-weight: bold\">(</span>\n",
              "        <span style=\"font-weight: bold\">(</span>self_attn<span style=\"font-weight: bold\">)</span>: <span style=\"color: #800080; text-decoration-color: #800080; font-weight: bold\">MultiheadAttention</span><span style=\"font-weight: bold\">(</span>\n",
              "          <span style=\"font-weight: bold\">(</span>out_proj<span style=\"font-weight: bold\">)</span>: <span style=\"color: #800080; text-decoration-color: #800080; font-weight: bold\">_LinearWithBias</span><span style=\"font-weight: bold\">(</span><span style=\"color: #808000; text-decoration-color: #808000\">in_features</span>=<span style=\"color: #008080; text-decoration-color: #008080; font-weight: bold\">512</span>, <span style=\"color: #808000; text-decoration-color: #808000\">out_features</span>=<span style=\"color: #008080; text-decoration-color: #008080; font-weight: bold\">512</span>, <span style=\"color: #808000; text-decoration-color: #808000\">bias</span>=<span style=\"color: #00ff00; text-decoration-color: #00ff00; font-style: italic\">True</span><span style=\"font-weight: bold\">)</span>\n",
              "        <span style=\"font-weight: bold\">)</span>\n",
              "        <span style=\"font-weight: bold\">(</span>linear1<span style=\"font-weight: bold\">)</span>: <span style=\"color: #800080; text-decoration-color: #800080; font-weight: bold\">Linear</span><span style=\"font-weight: bold\">(</span><span style=\"color: #808000; text-decoration-color: #808000\">in_features</span>=<span style=\"color: #008080; text-decoration-color: #008080; font-weight: bold\">512</span>, <span style=\"color: #808000; text-decoration-color: #808000\">out_features</span>=<span style=\"color: #008080; text-decoration-color: #008080; font-weight: bold\">512</span>, <span style=\"color: #808000; text-decoration-color: #808000\">bias</span>=<span style=\"color: #00ff00; text-decoration-color: #00ff00; font-style: italic\">True</span><span style=\"font-weight: bold\">)</span>\n",
              "        <span style=\"font-weight: bold\">(</span>dropout<span style=\"font-weight: bold\">)</span>: <span style=\"color: #800080; text-decoration-color: #800080; font-weight: bold\">Dropout</span><span style=\"font-weight: bold\">(</span><span style=\"color: #808000; text-decoration-color: #808000\">p</span>=<span style=\"color: #008080; text-decoration-color: #008080; font-weight: bold\">0.1</span>, <span style=\"color: #808000; text-decoration-color: #808000\">inplace</span>=<span style=\"color: #ff0000; text-decoration-color: #ff0000; font-style: italic\">False</span><span style=\"font-weight: bold\">)</span>\n",
              "        <span style=\"font-weight: bold\">(</span>linear2<span style=\"font-weight: bold\">)</span>: <span style=\"color: #800080; text-decoration-color: #800080; font-weight: bold\">Linear</span><span style=\"font-weight: bold\">(</span><span style=\"color: #808000; text-decoration-color: #808000\">in_features</span>=<span style=\"color: #008080; text-decoration-color: #008080; font-weight: bold\">512</span>, <span style=\"color: #808000; text-decoration-color: #808000\">out_features</span>=<span style=\"color: #008080; text-decoration-color: #008080; font-weight: bold\">512</span>, <span style=\"color: #808000; text-decoration-color: #808000\">bias</span>=<span style=\"color: #00ff00; text-decoration-color: #00ff00; font-style: italic\">True</span><span style=\"font-weight: bold\">)</span>\n",
              "        <span style=\"font-weight: bold\">(</span>norm1<span style=\"font-weight: bold\">)</span>: <span style=\"color: #800080; text-decoration-color: #800080; font-weight: bold\">LayerNorm</span><span style=\"font-weight: bold\">((</span><span style=\"color: #008080; text-decoration-color: #008080; font-weight: bold\">512</span>,<span style=\"font-weight: bold\">)</span>, <span style=\"color: #808000; text-decoration-color: #808000\">eps</span>=<span style=\"color: #008080; text-decoration-color: #008080; font-weight: bold\">1e-05</span>, <span style=\"color: #808000; text-decoration-color: #808000\">elementwise_affine</span>=<span style=\"color: #00ff00; text-decoration-color: #00ff00; font-style: italic\">True</span><span style=\"font-weight: bold\">)</span>\n",
              "        <span style=\"font-weight: bold\">(</span>norm2<span style=\"font-weight: bold\">)</span>: <span style=\"color: #800080; text-decoration-color: #800080; font-weight: bold\">LayerNorm</span><span style=\"font-weight: bold\">((</span><span style=\"color: #008080; text-decoration-color: #008080; font-weight: bold\">512</span>,<span style=\"font-weight: bold\">)</span>, <span style=\"color: #808000; text-decoration-color: #808000\">eps</span>=<span style=\"color: #008080; text-decoration-color: #008080; font-weight: bold\">1e-05</span>, <span style=\"color: #808000; text-decoration-color: #808000\">elementwise_affine</span>=<span style=\"color: #00ff00; text-decoration-color: #00ff00; font-style: italic\">True</span><span style=\"font-weight: bold\">)</span>\n",
              "        <span style=\"font-weight: bold\">(</span>dropout1<span style=\"font-weight: bold\">)</span>: <span style=\"color: #800080; text-decoration-color: #800080; font-weight: bold\">Dropout</span><span style=\"font-weight: bold\">(</span><span style=\"color: #808000; text-decoration-color: #808000\">p</span>=<span style=\"color: #008080; text-decoration-color: #008080; font-weight: bold\">0.1</span>, <span style=\"color: #808000; text-decoration-color: #808000\">inplace</span>=<span style=\"color: #ff0000; text-decoration-color: #ff0000; font-style: italic\">False</span><span style=\"font-weight: bold\">)</span>\n",
              "        <span style=\"font-weight: bold\">(</span>dropout2<span style=\"font-weight: bold\">)</span>: <span style=\"color: #800080; text-decoration-color: #800080; font-weight: bold\">Dropout</span><span style=\"font-weight: bold\">(</span><span style=\"color: #808000; text-decoration-color: #808000\">p</span>=<span style=\"color: #008080; text-decoration-color: #008080; font-weight: bold\">0.1</span>, <span style=\"color: #808000; text-decoration-color: #808000\">inplace</span>=<span style=\"color: #ff0000; text-decoration-color: #ff0000; font-style: italic\">False</span><span style=\"font-weight: bold\">)</span>\n",
              "      <span style=\"font-weight: bold\">)</span>\n",
              "    <span style=\"font-weight: bold\">)</span>\n",
              "  <span style=\"font-weight: bold\">)</span>\n",
              "  <span style=\"font-weight: bold\">(</span>transformer_decoder<span style=\"font-weight: bold\">)</span>: <span style=\"color: #800080; text-decoration-color: #800080; font-weight: bold\">TransformerDecoder</span><span style=\"font-weight: bold\">(</span>\n",
              "    <span style=\"font-weight: bold\">(</span>layers<span style=\"font-weight: bold\">)</span>: <span style=\"color: #800080; text-decoration-color: #800080; font-weight: bold\">ModuleList</span><span style=\"font-weight: bold\">(</span>\n",
              "      <span style=\"font-weight: bold\">(</span><span style=\"color: #008080; text-decoration-color: #008080; font-weight: bold\">0</span><span style=\"font-weight: bold\">)</span>: <span style=\"color: #800080; text-decoration-color: #800080; font-weight: bold\">TransformerDecoderLayer</span><span style=\"font-weight: bold\">(</span>\n",
              "        <span style=\"font-weight: bold\">(</span>self_attn<span style=\"font-weight: bold\">)</span>: <span style=\"color: #800080; text-decoration-color: #800080; font-weight: bold\">MultiheadAttention</span><span style=\"font-weight: bold\">(</span>\n",
              "          <span style=\"font-weight: bold\">(</span>out_proj<span style=\"font-weight: bold\">)</span>: <span style=\"color: #800080; text-decoration-color: #800080; font-weight: bold\">_LinearWithBias</span><span style=\"font-weight: bold\">(</span><span style=\"color: #808000; text-decoration-color: #808000\">in_features</span>=<span style=\"color: #008080; text-decoration-color: #008080; font-weight: bold\">512</span>, <span style=\"color: #808000; text-decoration-color: #808000\">out_features</span>=<span style=\"color: #008080; text-decoration-color: #008080; font-weight: bold\">512</span>, <span style=\"color: #808000; text-decoration-color: #808000\">bias</span>=<span style=\"color: #00ff00; text-decoration-color: #00ff00; font-style: italic\">True</span><span style=\"font-weight: bold\">)</span>\n",
              "        <span style=\"font-weight: bold\">)</span>\n",
              "        <span style=\"font-weight: bold\">(</span>multihead_attn<span style=\"font-weight: bold\">)</span>: <span style=\"color: #800080; text-decoration-color: #800080; font-weight: bold\">MultiheadAttention</span><span style=\"font-weight: bold\">(</span>\n",
              "          <span style=\"font-weight: bold\">(</span>out_proj<span style=\"font-weight: bold\">)</span>: <span style=\"color: #800080; text-decoration-color: #800080; font-weight: bold\">_LinearWithBias</span><span style=\"font-weight: bold\">(</span><span style=\"color: #808000; text-decoration-color: #808000\">in_features</span>=<span style=\"color: #008080; text-decoration-color: #008080; font-weight: bold\">512</span>, <span style=\"color: #808000; text-decoration-color: #808000\">out_features</span>=<span style=\"color: #008080; text-decoration-color: #008080; font-weight: bold\">512</span>, <span style=\"color: #808000; text-decoration-color: #808000\">bias</span>=<span style=\"color: #00ff00; text-decoration-color: #00ff00; font-style: italic\">True</span><span style=\"font-weight: bold\">)</span>\n",
              "        <span style=\"font-weight: bold\">)</span>\n",
              "        <span style=\"font-weight: bold\">(</span>linear1<span style=\"font-weight: bold\">)</span>: <span style=\"color: #800080; text-decoration-color: #800080; font-weight: bold\">Linear</span><span style=\"font-weight: bold\">(</span><span style=\"color: #808000; text-decoration-color: #808000\">in_features</span>=<span style=\"color: #008080; text-decoration-color: #008080; font-weight: bold\">512</span>, <span style=\"color: #808000; text-decoration-color: #808000\">out_features</span>=<span style=\"color: #008080; text-decoration-color: #008080; font-weight: bold\">512</span>, <span style=\"color: #808000; text-decoration-color: #808000\">bias</span>=<span style=\"color: #00ff00; text-decoration-color: #00ff00; font-style: italic\">True</span><span style=\"font-weight: bold\">)</span>\n",
              "        <span style=\"font-weight: bold\">(</span>dropout<span style=\"font-weight: bold\">)</span>: <span style=\"color: #800080; text-decoration-color: #800080; font-weight: bold\">Dropout</span><span style=\"font-weight: bold\">(</span><span style=\"color: #808000; text-decoration-color: #808000\">p</span>=<span style=\"color: #008080; text-decoration-color: #008080; font-weight: bold\">0.1</span>, <span style=\"color: #808000; text-decoration-color: #808000\">inplace</span>=<span style=\"color: #ff0000; text-decoration-color: #ff0000; font-style: italic\">False</span><span style=\"font-weight: bold\">)</span>\n",
              "        <span style=\"font-weight: bold\">(</span>linear2<span style=\"font-weight: bold\">)</span>: <span style=\"color: #800080; text-decoration-color: #800080; font-weight: bold\">Linear</span><span style=\"font-weight: bold\">(</span><span style=\"color: #808000; text-decoration-color: #808000\">in_features</span>=<span style=\"color: #008080; text-decoration-color: #008080; font-weight: bold\">512</span>, <span style=\"color: #808000; text-decoration-color: #808000\">out_features</span>=<span style=\"color: #008080; text-decoration-color: #008080; font-weight: bold\">512</span>, <span style=\"color: #808000; text-decoration-color: #808000\">bias</span>=<span style=\"color: #00ff00; text-decoration-color: #00ff00; font-style: italic\">True</span><span style=\"font-weight: bold\">)</span>\n",
              "        <span style=\"font-weight: bold\">(</span>norm1<span style=\"font-weight: bold\">)</span>: <span style=\"color: #800080; text-decoration-color: #800080; font-weight: bold\">LayerNorm</span><span style=\"font-weight: bold\">((</span><span style=\"color: #008080; text-decoration-color: #008080; font-weight: bold\">512</span>,<span style=\"font-weight: bold\">)</span>, <span style=\"color: #808000; text-decoration-color: #808000\">eps</span>=<span style=\"color: #008080; text-decoration-color: #008080; font-weight: bold\">1e-05</span>, <span style=\"color: #808000; text-decoration-color: #808000\">elementwise_affine</span>=<span style=\"color: #00ff00; text-decoration-color: #00ff00; font-style: italic\">True</span><span style=\"font-weight: bold\">)</span>\n",
              "        <span style=\"font-weight: bold\">(</span>norm2<span style=\"font-weight: bold\">)</span>: <span style=\"color: #800080; text-decoration-color: #800080; font-weight: bold\">LayerNorm</span><span style=\"font-weight: bold\">((</span><span style=\"color: #008080; text-decoration-color: #008080; font-weight: bold\">512</span>,<span style=\"font-weight: bold\">)</span>, <span style=\"color: #808000; text-decoration-color: #808000\">eps</span>=<span style=\"color: #008080; text-decoration-color: #008080; font-weight: bold\">1e-05</span>, <span style=\"color: #808000; text-decoration-color: #808000\">elementwise_affine</span>=<span style=\"color: #00ff00; text-decoration-color: #00ff00; font-style: italic\">True</span><span style=\"font-weight: bold\">)</span>\n",
              "        <span style=\"font-weight: bold\">(</span>norm3<span style=\"font-weight: bold\">)</span>: <span style=\"color: #800080; text-decoration-color: #800080; font-weight: bold\">LayerNorm</span><span style=\"font-weight: bold\">((</span><span style=\"color: #008080; text-decoration-color: #008080; font-weight: bold\">512</span>,<span style=\"font-weight: bold\">)</span>, <span style=\"color: #808000; text-decoration-color: #808000\">eps</span>=<span style=\"color: #008080; text-decoration-color: #008080; font-weight: bold\">1e-05</span>, <span style=\"color: #808000; text-decoration-color: #808000\">elementwise_affine</span>=<span style=\"color: #00ff00; text-decoration-color: #00ff00; font-style: italic\">True</span><span style=\"font-weight: bold\">)</span>\n",
              "        <span style=\"font-weight: bold\">(</span>dropout1<span style=\"font-weight: bold\">)</span>: <span style=\"color: #800080; text-decoration-color: #800080; font-weight: bold\">Dropout</span><span style=\"font-weight: bold\">(</span><span style=\"color: #808000; text-decoration-color: #808000\">p</span>=<span style=\"color: #008080; text-decoration-color: #008080; font-weight: bold\">0.1</span>, <span style=\"color: #808000; text-decoration-color: #808000\">inplace</span>=<span style=\"color: #ff0000; text-decoration-color: #ff0000; font-style: italic\">False</span><span style=\"font-weight: bold\">)</span>\n",
              "        <span style=\"font-weight: bold\">(</span>dropout2<span style=\"font-weight: bold\">)</span>: <span style=\"color: #800080; text-decoration-color: #800080; font-weight: bold\">Dropout</span><span style=\"font-weight: bold\">(</span><span style=\"color: #808000; text-decoration-color: #808000\">p</span>=<span style=\"color: #008080; text-decoration-color: #008080; font-weight: bold\">0.1</span>, <span style=\"color: #808000; text-decoration-color: #808000\">inplace</span>=<span style=\"color: #ff0000; text-decoration-color: #ff0000; font-style: italic\">False</span><span style=\"font-weight: bold\">)</span>\n",
              "        <span style=\"font-weight: bold\">(</span>dropout3<span style=\"font-weight: bold\">)</span>: <span style=\"color: #800080; text-decoration-color: #800080; font-weight: bold\">Dropout</span><span style=\"font-weight: bold\">(</span><span style=\"color: #808000; text-decoration-color: #808000\">p</span>=<span style=\"color: #008080; text-decoration-color: #008080; font-weight: bold\">0.1</span>, <span style=\"color: #808000; text-decoration-color: #808000\">inplace</span>=<span style=\"color: #ff0000; text-decoration-color: #ff0000; font-style: italic\">False</span><span style=\"font-weight: bold\">)</span>\n",
              "      <span style=\"font-weight: bold\">)</span>\n",
              "      <span style=\"font-weight: bold\">(</span><span style=\"color: #008080; text-decoration-color: #008080; font-weight: bold\">1</span><span style=\"font-weight: bold\">)</span>: <span style=\"color: #800080; text-decoration-color: #800080; font-weight: bold\">TransformerDecoderLayer</span><span style=\"font-weight: bold\">(</span>\n",
              "        <span style=\"font-weight: bold\">(</span>self_attn<span style=\"font-weight: bold\">)</span>: <span style=\"color: #800080; text-decoration-color: #800080; font-weight: bold\">MultiheadAttention</span><span style=\"font-weight: bold\">(</span>\n",
              "          <span style=\"font-weight: bold\">(</span>out_proj<span style=\"font-weight: bold\">)</span>: <span style=\"color: #800080; text-decoration-color: #800080; font-weight: bold\">_LinearWithBias</span><span style=\"font-weight: bold\">(</span><span style=\"color: #808000; text-decoration-color: #808000\">in_features</span>=<span style=\"color: #008080; text-decoration-color: #008080; font-weight: bold\">512</span>, <span style=\"color: #808000; text-decoration-color: #808000\">out_features</span>=<span style=\"color: #008080; text-decoration-color: #008080; font-weight: bold\">512</span>, <span style=\"color: #808000; text-decoration-color: #808000\">bias</span>=<span style=\"color: #00ff00; text-decoration-color: #00ff00; font-style: italic\">True</span><span style=\"font-weight: bold\">)</span>\n",
              "        <span style=\"font-weight: bold\">)</span>\n",
              "        <span style=\"font-weight: bold\">(</span>multihead_attn<span style=\"font-weight: bold\">)</span>: <span style=\"color: #800080; text-decoration-color: #800080; font-weight: bold\">MultiheadAttention</span><span style=\"font-weight: bold\">(</span>\n",
              "          <span style=\"font-weight: bold\">(</span>out_proj<span style=\"font-weight: bold\">)</span>: <span style=\"color: #800080; text-decoration-color: #800080; font-weight: bold\">_LinearWithBias</span><span style=\"font-weight: bold\">(</span><span style=\"color: #808000; text-decoration-color: #808000\">in_features</span>=<span style=\"color: #008080; text-decoration-color: #008080; font-weight: bold\">512</span>, <span style=\"color: #808000; text-decoration-color: #808000\">out_features</span>=<span style=\"color: #008080; text-decoration-color: #008080; font-weight: bold\">512</span>, <span style=\"color: #808000; text-decoration-color: #808000\">bias</span>=<span style=\"color: #00ff00; text-decoration-color: #00ff00; font-style: italic\">True</span><span style=\"font-weight: bold\">)</span>\n",
              "        <span style=\"font-weight: bold\">)</span>\n",
              "        <span style=\"font-weight: bold\">(</span>linear1<span style=\"font-weight: bold\">)</span>: <span style=\"color: #800080; text-decoration-color: #800080; font-weight: bold\">Linear</span><span style=\"font-weight: bold\">(</span><span style=\"color: #808000; text-decoration-color: #808000\">in_features</span>=<span style=\"color: #008080; text-decoration-color: #008080; font-weight: bold\">512</span>, <span style=\"color: #808000; text-decoration-color: #808000\">out_features</span>=<span style=\"color: #008080; text-decoration-color: #008080; font-weight: bold\">512</span>, <span style=\"color: #808000; text-decoration-color: #808000\">bias</span>=<span style=\"color: #00ff00; text-decoration-color: #00ff00; font-style: italic\">True</span><span style=\"font-weight: bold\">)</span>\n",
              "        <span style=\"font-weight: bold\">(</span>dropout<span style=\"font-weight: bold\">)</span>: <span style=\"color: #800080; text-decoration-color: #800080; font-weight: bold\">Dropout</span><span style=\"font-weight: bold\">(</span><span style=\"color: #808000; text-decoration-color: #808000\">p</span>=<span style=\"color: #008080; text-decoration-color: #008080; font-weight: bold\">0.1</span>, <span style=\"color: #808000; text-decoration-color: #808000\">inplace</span>=<span style=\"color: #ff0000; text-decoration-color: #ff0000; font-style: italic\">False</span><span style=\"font-weight: bold\">)</span>\n",
              "        <span style=\"font-weight: bold\">(</span>linear2<span style=\"font-weight: bold\">)</span>: <span style=\"color: #800080; text-decoration-color: #800080; font-weight: bold\">Linear</span><span style=\"font-weight: bold\">(</span><span style=\"color: #808000; text-decoration-color: #808000\">in_features</span>=<span style=\"color: #008080; text-decoration-color: #008080; font-weight: bold\">512</span>, <span style=\"color: #808000; text-decoration-color: #808000\">out_features</span>=<span style=\"color: #008080; text-decoration-color: #008080; font-weight: bold\">512</span>, <span style=\"color: #808000; text-decoration-color: #808000\">bias</span>=<span style=\"color: #00ff00; text-decoration-color: #00ff00; font-style: italic\">True</span><span style=\"font-weight: bold\">)</span>\n",
              "        <span style=\"font-weight: bold\">(</span>norm1<span style=\"font-weight: bold\">)</span>: <span style=\"color: #800080; text-decoration-color: #800080; font-weight: bold\">LayerNorm</span><span style=\"font-weight: bold\">((</span><span style=\"color: #008080; text-decoration-color: #008080; font-weight: bold\">512</span>,<span style=\"font-weight: bold\">)</span>, <span style=\"color: #808000; text-decoration-color: #808000\">eps</span>=<span style=\"color: #008080; text-decoration-color: #008080; font-weight: bold\">1e-05</span>, <span style=\"color: #808000; text-decoration-color: #808000\">elementwise_affine</span>=<span style=\"color: #00ff00; text-decoration-color: #00ff00; font-style: italic\">True</span><span style=\"font-weight: bold\">)</span>\n",
              "        <span style=\"font-weight: bold\">(</span>norm2<span style=\"font-weight: bold\">)</span>: <span style=\"color: #800080; text-decoration-color: #800080; font-weight: bold\">LayerNorm</span><span style=\"font-weight: bold\">((</span><span style=\"color: #008080; text-decoration-color: #008080; font-weight: bold\">512</span>,<span style=\"font-weight: bold\">)</span>, <span style=\"color: #808000; text-decoration-color: #808000\">eps</span>=<span style=\"color: #008080; text-decoration-color: #008080; font-weight: bold\">1e-05</span>, <span style=\"color: #808000; text-decoration-color: #808000\">elementwise_affine</span>=<span style=\"color: #00ff00; text-decoration-color: #00ff00; font-style: italic\">True</span><span style=\"font-weight: bold\">)</span>\n",
              "        <span style=\"font-weight: bold\">(</span>norm3<span style=\"font-weight: bold\">)</span>: <span style=\"color: #800080; text-decoration-color: #800080; font-weight: bold\">LayerNorm</span><span style=\"font-weight: bold\">((</span><span style=\"color: #008080; text-decoration-color: #008080; font-weight: bold\">512</span>,<span style=\"font-weight: bold\">)</span>, <span style=\"color: #808000; text-decoration-color: #808000\">eps</span>=<span style=\"color: #008080; text-decoration-color: #008080; font-weight: bold\">1e-05</span>, <span style=\"color: #808000; text-decoration-color: #808000\">elementwise_affine</span>=<span style=\"color: #00ff00; text-decoration-color: #00ff00; font-style: italic\">True</span><span style=\"font-weight: bold\">)</span>\n",
              "        <span style=\"font-weight: bold\">(</span>dropout1<span style=\"font-weight: bold\">)</span>: <span style=\"color: #800080; text-decoration-color: #800080; font-weight: bold\">Dropout</span><span style=\"font-weight: bold\">(</span><span style=\"color: #808000; text-decoration-color: #808000\">p</span>=<span style=\"color: #008080; text-decoration-color: #008080; font-weight: bold\">0.1</span>, <span style=\"color: #808000; text-decoration-color: #808000\">inplace</span>=<span style=\"color: #ff0000; text-decoration-color: #ff0000; font-style: italic\">False</span><span style=\"font-weight: bold\">)</span>\n",
              "        <span style=\"font-weight: bold\">(</span>dropout2<span style=\"font-weight: bold\">)</span>: <span style=\"color: #800080; text-decoration-color: #800080; font-weight: bold\">Dropout</span><span style=\"font-weight: bold\">(</span><span style=\"color: #808000; text-decoration-color: #808000\">p</span>=<span style=\"color: #008080; text-decoration-color: #008080; font-weight: bold\">0.1</span>, <span style=\"color: #808000; text-decoration-color: #808000\">inplace</span>=<span style=\"color: #ff0000; text-decoration-color: #ff0000; font-style: italic\">False</span><span style=\"font-weight: bold\">)</span>\n",
              "        <span style=\"font-weight: bold\">(</span>dropout3<span style=\"font-weight: bold\">)</span>: <span style=\"color: #800080; text-decoration-color: #800080; font-weight: bold\">Dropout</span><span style=\"font-weight: bold\">(</span><span style=\"color: #808000; text-decoration-color: #808000\">p</span>=<span style=\"color: #008080; text-decoration-color: #008080; font-weight: bold\">0.1</span>, <span style=\"color: #808000; text-decoration-color: #808000\">inplace</span>=<span style=\"color: #ff0000; text-decoration-color: #ff0000; font-style: italic\">False</span><span style=\"font-weight: bold\">)</span>\n",
              "      <span style=\"font-weight: bold\">)</span>\n",
              "      <span style=\"font-weight: bold\">(</span><span style=\"color: #008080; text-decoration-color: #008080; font-weight: bold\">2</span><span style=\"font-weight: bold\">)</span>: <span style=\"color: #800080; text-decoration-color: #800080; font-weight: bold\">TransformerDecoderLayer</span><span style=\"font-weight: bold\">(</span>\n",
              "        <span style=\"font-weight: bold\">(</span>self_attn<span style=\"font-weight: bold\">)</span>: <span style=\"color: #800080; text-decoration-color: #800080; font-weight: bold\">MultiheadAttention</span><span style=\"font-weight: bold\">(</span>\n",
              "          <span style=\"font-weight: bold\">(</span>out_proj<span style=\"font-weight: bold\">)</span>: <span style=\"color: #800080; text-decoration-color: #800080; font-weight: bold\">_LinearWithBias</span><span style=\"font-weight: bold\">(</span><span style=\"color: #808000; text-decoration-color: #808000\">in_features</span>=<span style=\"color: #008080; text-decoration-color: #008080; font-weight: bold\">512</span>, <span style=\"color: #808000; text-decoration-color: #808000\">out_features</span>=<span style=\"color: #008080; text-decoration-color: #008080; font-weight: bold\">512</span>, <span style=\"color: #808000; text-decoration-color: #808000\">bias</span>=<span style=\"color: #00ff00; text-decoration-color: #00ff00; font-style: italic\">True</span><span style=\"font-weight: bold\">)</span>\n",
              "        <span style=\"font-weight: bold\">)</span>\n",
              "        <span style=\"font-weight: bold\">(</span>multihead_attn<span style=\"font-weight: bold\">)</span>: <span style=\"color: #800080; text-decoration-color: #800080; font-weight: bold\">MultiheadAttention</span><span style=\"font-weight: bold\">(</span>\n",
              "          <span style=\"font-weight: bold\">(</span>out_proj<span style=\"font-weight: bold\">)</span>: <span style=\"color: #800080; text-decoration-color: #800080; font-weight: bold\">_LinearWithBias</span><span style=\"font-weight: bold\">(</span><span style=\"color: #808000; text-decoration-color: #808000\">in_features</span>=<span style=\"color: #008080; text-decoration-color: #008080; font-weight: bold\">512</span>, <span style=\"color: #808000; text-decoration-color: #808000\">out_features</span>=<span style=\"color: #008080; text-decoration-color: #008080; font-weight: bold\">512</span>, <span style=\"color: #808000; text-decoration-color: #808000\">bias</span>=<span style=\"color: #00ff00; text-decoration-color: #00ff00; font-style: italic\">True</span><span style=\"font-weight: bold\">)</span>\n",
              "        <span style=\"font-weight: bold\">)</span>\n",
              "        <span style=\"font-weight: bold\">(</span>linear1<span style=\"font-weight: bold\">)</span>: <span style=\"color: #800080; text-decoration-color: #800080; font-weight: bold\">Linear</span><span style=\"font-weight: bold\">(</span><span style=\"color: #808000; text-decoration-color: #808000\">in_features</span>=<span style=\"color: #008080; text-decoration-color: #008080; font-weight: bold\">512</span>, <span style=\"color: #808000; text-decoration-color: #808000\">out_features</span>=<span style=\"color: #008080; text-decoration-color: #008080; font-weight: bold\">512</span>, <span style=\"color: #808000; text-decoration-color: #808000\">bias</span>=<span style=\"color: #00ff00; text-decoration-color: #00ff00; font-style: italic\">True</span><span style=\"font-weight: bold\">)</span>\n",
              "        <span style=\"font-weight: bold\">(</span>dropout<span style=\"font-weight: bold\">)</span>: <span style=\"color: #800080; text-decoration-color: #800080; font-weight: bold\">Dropout</span><span style=\"font-weight: bold\">(</span><span style=\"color: #808000; text-decoration-color: #808000\">p</span>=<span style=\"color: #008080; text-decoration-color: #008080; font-weight: bold\">0.1</span>, <span style=\"color: #808000; text-decoration-color: #808000\">inplace</span>=<span style=\"color: #ff0000; text-decoration-color: #ff0000; font-style: italic\">False</span><span style=\"font-weight: bold\">)</span>\n",
              "        <span style=\"font-weight: bold\">(</span>linear2<span style=\"font-weight: bold\">)</span>: <span style=\"color: #800080; text-decoration-color: #800080; font-weight: bold\">Linear</span><span style=\"font-weight: bold\">(</span><span style=\"color: #808000; text-decoration-color: #808000\">in_features</span>=<span style=\"color: #008080; text-decoration-color: #008080; font-weight: bold\">512</span>, <span style=\"color: #808000; text-decoration-color: #808000\">out_features</span>=<span style=\"color: #008080; text-decoration-color: #008080; font-weight: bold\">512</span>, <span style=\"color: #808000; text-decoration-color: #808000\">bias</span>=<span style=\"color: #00ff00; text-decoration-color: #00ff00; font-style: italic\">True</span><span style=\"font-weight: bold\">)</span>\n",
              "        <span style=\"font-weight: bold\">(</span>norm1<span style=\"font-weight: bold\">)</span>: <span style=\"color: #800080; text-decoration-color: #800080; font-weight: bold\">LayerNorm</span><span style=\"font-weight: bold\">((</span><span style=\"color: #008080; text-decoration-color: #008080; font-weight: bold\">512</span>,<span style=\"font-weight: bold\">)</span>, <span style=\"color: #808000; text-decoration-color: #808000\">eps</span>=<span style=\"color: #008080; text-decoration-color: #008080; font-weight: bold\">1e-05</span>, <span style=\"color: #808000; text-decoration-color: #808000\">elementwise_affine</span>=<span style=\"color: #00ff00; text-decoration-color: #00ff00; font-style: italic\">True</span><span style=\"font-weight: bold\">)</span>\n",
              "        <span style=\"font-weight: bold\">(</span>norm2<span style=\"font-weight: bold\">)</span>: <span style=\"color: #800080; text-decoration-color: #800080; font-weight: bold\">LayerNorm</span><span style=\"font-weight: bold\">((</span><span style=\"color: #008080; text-decoration-color: #008080; font-weight: bold\">512</span>,<span style=\"font-weight: bold\">)</span>, <span style=\"color: #808000; text-decoration-color: #808000\">eps</span>=<span style=\"color: #008080; text-decoration-color: #008080; font-weight: bold\">1e-05</span>, <span style=\"color: #808000; text-decoration-color: #808000\">elementwise_affine</span>=<span style=\"color: #00ff00; text-decoration-color: #00ff00; font-style: italic\">True</span><span style=\"font-weight: bold\">)</span>\n",
              "        <span style=\"font-weight: bold\">(</span>norm3<span style=\"font-weight: bold\">)</span>: <span style=\"color: #800080; text-decoration-color: #800080; font-weight: bold\">LayerNorm</span><span style=\"font-weight: bold\">((</span><span style=\"color: #008080; text-decoration-color: #008080; font-weight: bold\">512</span>,<span style=\"font-weight: bold\">)</span>, <span style=\"color: #808000; text-decoration-color: #808000\">eps</span>=<span style=\"color: #008080; text-decoration-color: #008080; font-weight: bold\">1e-05</span>, <span style=\"color: #808000; text-decoration-color: #808000\">elementwise_affine</span>=<span style=\"color: #00ff00; text-decoration-color: #00ff00; font-style: italic\">True</span><span style=\"font-weight: bold\">)</span>\n",
              "        <span style=\"font-weight: bold\">(</span>dropout1<span style=\"font-weight: bold\">)</span>: <span style=\"color: #800080; text-decoration-color: #800080; font-weight: bold\">Dropout</span><span style=\"font-weight: bold\">(</span><span style=\"color: #808000; text-decoration-color: #808000\">p</span>=<span style=\"color: #008080; text-decoration-color: #008080; font-weight: bold\">0.1</span>, <span style=\"color: #808000; text-decoration-color: #808000\">inplace</span>=<span style=\"color: #ff0000; text-decoration-color: #ff0000; font-style: italic\">False</span><span style=\"font-weight: bold\">)</span>\n",
              "        <span style=\"font-weight: bold\">(</span>dropout2<span style=\"font-weight: bold\">)</span>: <span style=\"color: #800080; text-decoration-color: #800080; font-weight: bold\">Dropout</span><span style=\"font-weight: bold\">(</span><span style=\"color: #808000; text-decoration-color: #808000\">p</span>=<span style=\"color: #008080; text-decoration-color: #008080; font-weight: bold\">0.1</span>, <span style=\"color: #808000; text-decoration-color: #808000\">inplace</span>=<span style=\"color: #ff0000; text-decoration-color: #ff0000; font-style: italic\">False</span><span style=\"font-weight: bold\">)</span>\n",
              "        <span style=\"font-weight: bold\">(</span>dropout3<span style=\"font-weight: bold\">)</span>: <span style=\"color: #800080; text-decoration-color: #800080; font-weight: bold\">Dropout</span><span style=\"font-weight: bold\">(</span><span style=\"color: #808000; text-decoration-color: #808000\">p</span>=<span style=\"color: #008080; text-decoration-color: #008080; font-weight: bold\">0.1</span>, <span style=\"color: #808000; text-decoration-color: #808000\">inplace</span>=<span style=\"color: #ff0000; text-decoration-color: #ff0000; font-style: italic\">False</span><span style=\"font-weight: bold\">)</span>\n",
              "      <span style=\"font-weight: bold\">)</span>\n",
              "    <span style=\"font-weight: bold\">)</span>\n",
              "  <span style=\"font-weight: bold\">)</span>\n",
              "  <span style=\"font-weight: bold\">(</span>generator<span style=\"font-weight: bold\">)</span>: <span style=\"color: #800080; text-decoration-color: #800080; font-weight: bold\">Linear</span><span style=\"font-weight: bold\">(</span><span style=\"color: #808000; text-decoration-color: #808000\">in_features</span>=<span style=\"color: #008080; text-decoration-color: #008080; font-weight: bold\">512</span>, <span style=\"color: #808000; text-decoration-color: #808000\">out_features</span>=<span style=\"color: #008080; text-decoration-color: #008080; font-weight: bold\">42</span>, <span style=\"color: #808000; text-decoration-color: #808000\">bias</span>=<span style=\"color: #00ff00; text-decoration-color: #00ff00; font-style: italic\">True</span><span style=\"font-weight: bold\">)</span>\n",
              "  <span style=\"font-weight: bold\">(</span>src_tok_emb<span style=\"font-weight: bold\">)</span>: <span style=\"color: #800080; text-decoration-color: #800080; font-weight: bold\">TokenEmbedding</span><span style=\"font-weight: bold\">(</span>\n",
              "    <span style=\"font-weight: bold\">(</span>embedding<span style=\"font-weight: bold\">)</span>: <span style=\"color: #800080; text-decoration-color: #800080; font-weight: bold\">Embedding</span><span style=\"font-weight: bold\">(</span><span style=\"color: #008080; text-decoration-color: #008080; font-weight: bold\">46</span>, <span style=\"color: #008080; text-decoration-color: #008080; font-weight: bold\">512</span><span style=\"font-weight: bold\">)</span>\n",
              "  <span style=\"font-weight: bold\">)</span>\n",
              "  <span style=\"font-weight: bold\">(</span>tgt_tok_emb<span style=\"font-weight: bold\">)</span>: <span style=\"color: #800080; text-decoration-color: #800080; font-weight: bold\">TokenEmbedding</span><span style=\"font-weight: bold\">(</span>\n",
              "    <span style=\"font-weight: bold\">(</span>embedding<span style=\"font-weight: bold\">)</span>: <span style=\"color: #800080; text-decoration-color: #800080; font-weight: bold\">Embedding</span><span style=\"font-weight: bold\">(</span><span style=\"color: #008080; text-decoration-color: #008080; font-weight: bold\">42</span>, <span style=\"color: #008080; text-decoration-color: #008080; font-weight: bold\">512</span><span style=\"font-weight: bold\">)</span>\n",
              "  <span style=\"font-weight: bold\">)</span>\n",
              "  <span style=\"font-weight: bold\">(</span>positional_encoding<span style=\"font-weight: bold\">)</span>: <span style=\"color: #800080; text-decoration-color: #800080; font-weight: bold\">PositionalEncoding</span><span style=\"font-weight: bold\">(</span>\n",
              "    <span style=\"font-weight: bold\">(</span>dropout<span style=\"font-weight: bold\">)</span>: <span style=\"color: #800080; text-decoration-color: #800080; font-weight: bold\">Dropout</span><span style=\"font-weight: bold\">(</span><span style=\"color: #808000; text-decoration-color: #808000\">p</span>=<span style=\"color: #008080; text-decoration-color: #008080; font-weight: bold\">0.1</span>, <span style=\"color: #808000; text-decoration-color: #808000\">inplace</span>=<span style=\"color: #ff0000; text-decoration-color: #ff0000; font-style: italic\">False</span><span style=\"font-weight: bold\">)</span>\n",
              "  <span style=\"font-weight: bold\">)</span>\n",
              "<span style=\"font-weight: bold\">)</span>\n",
              "</pre>\n"
            ],
            "text/plain": [
              "\u001b[1;35mSeq2SeqTransformer\u001b[0m\u001b[1m(\u001b[0m\n",
              "  \u001b[1m(\u001b[0mtransformer_encoder\u001b[1m)\u001b[0m: \u001b[1;35mTransformerEncoder\u001b[0m\u001b[1m(\u001b[0m\n",
              "    \u001b[1m(\u001b[0mlayers\u001b[1m)\u001b[0m: \u001b[1;35mModuleList\u001b[0m\u001b[1m(\u001b[0m\n",
              "      \u001b[1m(\u001b[0m\u001b[1;36m0\u001b[0m\u001b[1m)\u001b[0m: \u001b[1;35mTransformerEncoderLayer\u001b[0m\u001b[1m(\u001b[0m\n",
              "        \u001b[1m(\u001b[0mself_attn\u001b[1m)\u001b[0m: \u001b[1;35mMultiheadAttention\u001b[0m\u001b[1m(\u001b[0m\n",
              "          \u001b[1m(\u001b[0mout_proj\u001b[1m)\u001b[0m: \u001b[1;35m_LinearWithBias\u001b[0m\u001b[1m(\u001b[0m\u001b[33min_features\u001b[0m=\u001b[1;36m512\u001b[0m, \u001b[33mout_features\u001b[0m=\u001b[1;36m512\u001b[0m, \u001b[33mbias\u001b[0m=\u001b[3;92mTrue\u001b[0m\u001b[1m)\u001b[0m\n",
              "        \u001b[1m)\u001b[0m\n",
              "        \u001b[1m(\u001b[0mlinear1\u001b[1m)\u001b[0m: \u001b[1;35mLinear\u001b[0m\u001b[1m(\u001b[0m\u001b[33min_features\u001b[0m=\u001b[1;36m512\u001b[0m, \u001b[33mout_features\u001b[0m=\u001b[1;36m512\u001b[0m, \u001b[33mbias\u001b[0m=\u001b[3;92mTrue\u001b[0m\u001b[1m)\u001b[0m\n",
              "        \u001b[1m(\u001b[0mdropout\u001b[1m)\u001b[0m: \u001b[1;35mDropout\u001b[0m\u001b[1m(\u001b[0m\u001b[33mp\u001b[0m=\u001b[1;36m0\u001b[0m\u001b[1;36m.1\u001b[0m, \u001b[33minplace\u001b[0m=\u001b[3;91mFalse\u001b[0m\u001b[1m)\u001b[0m\n",
              "        \u001b[1m(\u001b[0mlinear2\u001b[1m)\u001b[0m: \u001b[1;35mLinear\u001b[0m\u001b[1m(\u001b[0m\u001b[33min_features\u001b[0m=\u001b[1;36m512\u001b[0m, \u001b[33mout_features\u001b[0m=\u001b[1;36m512\u001b[0m, \u001b[33mbias\u001b[0m=\u001b[3;92mTrue\u001b[0m\u001b[1m)\u001b[0m\n",
              "        \u001b[1m(\u001b[0mnorm1\u001b[1m)\u001b[0m: \u001b[1;35mLayerNorm\u001b[0m\u001b[1m(\u001b[0m\u001b[1m(\u001b[0m\u001b[1;36m512\u001b[0m,\u001b[1m)\u001b[0m, \u001b[33meps\u001b[0m=\u001b[1;36m1e\u001b[0m\u001b[1;36m-05\u001b[0m, \u001b[33melementwise_affine\u001b[0m=\u001b[3;92mTrue\u001b[0m\u001b[1m)\u001b[0m\n",
              "        \u001b[1m(\u001b[0mnorm2\u001b[1m)\u001b[0m: \u001b[1;35mLayerNorm\u001b[0m\u001b[1m(\u001b[0m\u001b[1m(\u001b[0m\u001b[1;36m512\u001b[0m,\u001b[1m)\u001b[0m, \u001b[33meps\u001b[0m=\u001b[1;36m1e\u001b[0m\u001b[1;36m-05\u001b[0m, \u001b[33melementwise_affine\u001b[0m=\u001b[3;92mTrue\u001b[0m\u001b[1m)\u001b[0m\n",
              "        \u001b[1m(\u001b[0mdropout1\u001b[1m)\u001b[0m: \u001b[1;35mDropout\u001b[0m\u001b[1m(\u001b[0m\u001b[33mp\u001b[0m=\u001b[1;36m0\u001b[0m\u001b[1;36m.1\u001b[0m, \u001b[33minplace\u001b[0m=\u001b[3;91mFalse\u001b[0m\u001b[1m)\u001b[0m\n",
              "        \u001b[1m(\u001b[0mdropout2\u001b[1m)\u001b[0m: \u001b[1;35mDropout\u001b[0m\u001b[1m(\u001b[0m\u001b[33mp\u001b[0m=\u001b[1;36m0\u001b[0m\u001b[1;36m.1\u001b[0m, \u001b[33minplace\u001b[0m=\u001b[3;91mFalse\u001b[0m\u001b[1m)\u001b[0m\n",
              "      \u001b[1m)\u001b[0m\n",
              "      \u001b[1m(\u001b[0m\u001b[1;36m1\u001b[0m\u001b[1m)\u001b[0m: \u001b[1;35mTransformerEncoderLayer\u001b[0m\u001b[1m(\u001b[0m\n",
              "        \u001b[1m(\u001b[0mself_attn\u001b[1m)\u001b[0m: \u001b[1;35mMultiheadAttention\u001b[0m\u001b[1m(\u001b[0m\n",
              "          \u001b[1m(\u001b[0mout_proj\u001b[1m)\u001b[0m: \u001b[1;35m_LinearWithBias\u001b[0m\u001b[1m(\u001b[0m\u001b[33min_features\u001b[0m=\u001b[1;36m512\u001b[0m, \u001b[33mout_features\u001b[0m=\u001b[1;36m512\u001b[0m, \u001b[33mbias\u001b[0m=\u001b[3;92mTrue\u001b[0m\u001b[1m)\u001b[0m\n",
              "        \u001b[1m)\u001b[0m\n",
              "        \u001b[1m(\u001b[0mlinear1\u001b[1m)\u001b[0m: \u001b[1;35mLinear\u001b[0m\u001b[1m(\u001b[0m\u001b[33min_features\u001b[0m=\u001b[1;36m512\u001b[0m, \u001b[33mout_features\u001b[0m=\u001b[1;36m512\u001b[0m, \u001b[33mbias\u001b[0m=\u001b[3;92mTrue\u001b[0m\u001b[1m)\u001b[0m\n",
              "        \u001b[1m(\u001b[0mdropout\u001b[1m)\u001b[0m: \u001b[1;35mDropout\u001b[0m\u001b[1m(\u001b[0m\u001b[33mp\u001b[0m=\u001b[1;36m0\u001b[0m\u001b[1;36m.1\u001b[0m, \u001b[33minplace\u001b[0m=\u001b[3;91mFalse\u001b[0m\u001b[1m)\u001b[0m\n",
              "        \u001b[1m(\u001b[0mlinear2\u001b[1m)\u001b[0m: \u001b[1;35mLinear\u001b[0m\u001b[1m(\u001b[0m\u001b[33min_features\u001b[0m=\u001b[1;36m512\u001b[0m, \u001b[33mout_features\u001b[0m=\u001b[1;36m512\u001b[0m, \u001b[33mbias\u001b[0m=\u001b[3;92mTrue\u001b[0m\u001b[1m)\u001b[0m\n",
              "        \u001b[1m(\u001b[0mnorm1\u001b[1m)\u001b[0m: \u001b[1;35mLayerNorm\u001b[0m\u001b[1m(\u001b[0m\u001b[1m(\u001b[0m\u001b[1;36m512\u001b[0m,\u001b[1m)\u001b[0m, \u001b[33meps\u001b[0m=\u001b[1;36m1e\u001b[0m\u001b[1;36m-05\u001b[0m, \u001b[33melementwise_affine\u001b[0m=\u001b[3;92mTrue\u001b[0m\u001b[1m)\u001b[0m\n",
              "        \u001b[1m(\u001b[0mnorm2\u001b[1m)\u001b[0m: \u001b[1;35mLayerNorm\u001b[0m\u001b[1m(\u001b[0m\u001b[1m(\u001b[0m\u001b[1;36m512\u001b[0m,\u001b[1m)\u001b[0m, \u001b[33meps\u001b[0m=\u001b[1;36m1e\u001b[0m\u001b[1;36m-05\u001b[0m, \u001b[33melementwise_affine\u001b[0m=\u001b[3;92mTrue\u001b[0m\u001b[1m)\u001b[0m\n",
              "        \u001b[1m(\u001b[0mdropout1\u001b[1m)\u001b[0m: \u001b[1;35mDropout\u001b[0m\u001b[1m(\u001b[0m\u001b[33mp\u001b[0m=\u001b[1;36m0\u001b[0m\u001b[1;36m.1\u001b[0m, \u001b[33minplace\u001b[0m=\u001b[3;91mFalse\u001b[0m\u001b[1m)\u001b[0m\n",
              "        \u001b[1m(\u001b[0mdropout2\u001b[1m)\u001b[0m: \u001b[1;35mDropout\u001b[0m\u001b[1m(\u001b[0m\u001b[33mp\u001b[0m=\u001b[1;36m0\u001b[0m\u001b[1;36m.1\u001b[0m, \u001b[33minplace\u001b[0m=\u001b[3;91mFalse\u001b[0m\u001b[1m)\u001b[0m\n",
              "      \u001b[1m)\u001b[0m\n",
              "      \u001b[1m(\u001b[0m\u001b[1;36m2\u001b[0m\u001b[1m)\u001b[0m: \u001b[1;35mTransformerEncoderLayer\u001b[0m\u001b[1m(\u001b[0m\n",
              "        \u001b[1m(\u001b[0mself_attn\u001b[1m)\u001b[0m: \u001b[1;35mMultiheadAttention\u001b[0m\u001b[1m(\u001b[0m\n",
              "          \u001b[1m(\u001b[0mout_proj\u001b[1m)\u001b[0m: \u001b[1;35m_LinearWithBias\u001b[0m\u001b[1m(\u001b[0m\u001b[33min_features\u001b[0m=\u001b[1;36m512\u001b[0m, \u001b[33mout_features\u001b[0m=\u001b[1;36m512\u001b[0m, \u001b[33mbias\u001b[0m=\u001b[3;92mTrue\u001b[0m\u001b[1m)\u001b[0m\n",
              "        \u001b[1m)\u001b[0m\n",
              "        \u001b[1m(\u001b[0mlinear1\u001b[1m)\u001b[0m: \u001b[1;35mLinear\u001b[0m\u001b[1m(\u001b[0m\u001b[33min_features\u001b[0m=\u001b[1;36m512\u001b[0m, \u001b[33mout_features\u001b[0m=\u001b[1;36m512\u001b[0m, \u001b[33mbias\u001b[0m=\u001b[3;92mTrue\u001b[0m\u001b[1m)\u001b[0m\n",
              "        \u001b[1m(\u001b[0mdropout\u001b[1m)\u001b[0m: \u001b[1;35mDropout\u001b[0m\u001b[1m(\u001b[0m\u001b[33mp\u001b[0m=\u001b[1;36m0\u001b[0m\u001b[1;36m.1\u001b[0m, \u001b[33minplace\u001b[0m=\u001b[3;91mFalse\u001b[0m\u001b[1m)\u001b[0m\n",
              "        \u001b[1m(\u001b[0mlinear2\u001b[1m)\u001b[0m: \u001b[1;35mLinear\u001b[0m\u001b[1m(\u001b[0m\u001b[33min_features\u001b[0m=\u001b[1;36m512\u001b[0m, \u001b[33mout_features\u001b[0m=\u001b[1;36m512\u001b[0m, \u001b[33mbias\u001b[0m=\u001b[3;92mTrue\u001b[0m\u001b[1m)\u001b[0m\n",
              "        \u001b[1m(\u001b[0mnorm1\u001b[1m)\u001b[0m: \u001b[1;35mLayerNorm\u001b[0m\u001b[1m(\u001b[0m\u001b[1m(\u001b[0m\u001b[1;36m512\u001b[0m,\u001b[1m)\u001b[0m, \u001b[33meps\u001b[0m=\u001b[1;36m1e\u001b[0m\u001b[1;36m-05\u001b[0m, \u001b[33melementwise_affine\u001b[0m=\u001b[3;92mTrue\u001b[0m\u001b[1m)\u001b[0m\n",
              "        \u001b[1m(\u001b[0mnorm2\u001b[1m)\u001b[0m: \u001b[1;35mLayerNorm\u001b[0m\u001b[1m(\u001b[0m\u001b[1m(\u001b[0m\u001b[1;36m512\u001b[0m,\u001b[1m)\u001b[0m, \u001b[33meps\u001b[0m=\u001b[1;36m1e\u001b[0m\u001b[1;36m-05\u001b[0m, \u001b[33melementwise_affine\u001b[0m=\u001b[3;92mTrue\u001b[0m\u001b[1m)\u001b[0m\n",
              "        \u001b[1m(\u001b[0mdropout1\u001b[1m)\u001b[0m: \u001b[1;35mDropout\u001b[0m\u001b[1m(\u001b[0m\u001b[33mp\u001b[0m=\u001b[1;36m0\u001b[0m\u001b[1;36m.1\u001b[0m, \u001b[33minplace\u001b[0m=\u001b[3;91mFalse\u001b[0m\u001b[1m)\u001b[0m\n",
              "        \u001b[1m(\u001b[0mdropout2\u001b[1m)\u001b[0m: \u001b[1;35mDropout\u001b[0m\u001b[1m(\u001b[0m\u001b[33mp\u001b[0m=\u001b[1;36m0\u001b[0m\u001b[1;36m.1\u001b[0m, \u001b[33minplace\u001b[0m=\u001b[3;91mFalse\u001b[0m\u001b[1m)\u001b[0m\n",
              "      \u001b[1m)\u001b[0m\n",
              "    \u001b[1m)\u001b[0m\n",
              "  \u001b[1m)\u001b[0m\n",
              "  \u001b[1m(\u001b[0mtransformer_decoder\u001b[1m)\u001b[0m: \u001b[1;35mTransformerDecoder\u001b[0m\u001b[1m(\u001b[0m\n",
              "    \u001b[1m(\u001b[0mlayers\u001b[1m)\u001b[0m: \u001b[1;35mModuleList\u001b[0m\u001b[1m(\u001b[0m\n",
              "      \u001b[1m(\u001b[0m\u001b[1;36m0\u001b[0m\u001b[1m)\u001b[0m: \u001b[1;35mTransformerDecoderLayer\u001b[0m\u001b[1m(\u001b[0m\n",
              "        \u001b[1m(\u001b[0mself_attn\u001b[1m)\u001b[0m: \u001b[1;35mMultiheadAttention\u001b[0m\u001b[1m(\u001b[0m\n",
              "          \u001b[1m(\u001b[0mout_proj\u001b[1m)\u001b[0m: \u001b[1;35m_LinearWithBias\u001b[0m\u001b[1m(\u001b[0m\u001b[33min_features\u001b[0m=\u001b[1;36m512\u001b[0m, \u001b[33mout_features\u001b[0m=\u001b[1;36m512\u001b[0m, \u001b[33mbias\u001b[0m=\u001b[3;92mTrue\u001b[0m\u001b[1m)\u001b[0m\n",
              "        \u001b[1m)\u001b[0m\n",
              "        \u001b[1m(\u001b[0mmultihead_attn\u001b[1m)\u001b[0m: \u001b[1;35mMultiheadAttention\u001b[0m\u001b[1m(\u001b[0m\n",
              "          \u001b[1m(\u001b[0mout_proj\u001b[1m)\u001b[0m: \u001b[1;35m_LinearWithBias\u001b[0m\u001b[1m(\u001b[0m\u001b[33min_features\u001b[0m=\u001b[1;36m512\u001b[0m, \u001b[33mout_features\u001b[0m=\u001b[1;36m512\u001b[0m, \u001b[33mbias\u001b[0m=\u001b[3;92mTrue\u001b[0m\u001b[1m)\u001b[0m\n",
              "        \u001b[1m)\u001b[0m\n",
              "        \u001b[1m(\u001b[0mlinear1\u001b[1m)\u001b[0m: \u001b[1;35mLinear\u001b[0m\u001b[1m(\u001b[0m\u001b[33min_features\u001b[0m=\u001b[1;36m512\u001b[0m, \u001b[33mout_features\u001b[0m=\u001b[1;36m512\u001b[0m, \u001b[33mbias\u001b[0m=\u001b[3;92mTrue\u001b[0m\u001b[1m)\u001b[0m\n",
              "        \u001b[1m(\u001b[0mdropout\u001b[1m)\u001b[0m: \u001b[1;35mDropout\u001b[0m\u001b[1m(\u001b[0m\u001b[33mp\u001b[0m=\u001b[1;36m0\u001b[0m\u001b[1;36m.1\u001b[0m, \u001b[33minplace\u001b[0m=\u001b[3;91mFalse\u001b[0m\u001b[1m)\u001b[0m\n",
              "        \u001b[1m(\u001b[0mlinear2\u001b[1m)\u001b[0m: \u001b[1;35mLinear\u001b[0m\u001b[1m(\u001b[0m\u001b[33min_features\u001b[0m=\u001b[1;36m512\u001b[0m, \u001b[33mout_features\u001b[0m=\u001b[1;36m512\u001b[0m, \u001b[33mbias\u001b[0m=\u001b[3;92mTrue\u001b[0m\u001b[1m)\u001b[0m\n",
              "        \u001b[1m(\u001b[0mnorm1\u001b[1m)\u001b[0m: \u001b[1;35mLayerNorm\u001b[0m\u001b[1m(\u001b[0m\u001b[1m(\u001b[0m\u001b[1;36m512\u001b[0m,\u001b[1m)\u001b[0m, \u001b[33meps\u001b[0m=\u001b[1;36m1e\u001b[0m\u001b[1;36m-05\u001b[0m, \u001b[33melementwise_affine\u001b[0m=\u001b[3;92mTrue\u001b[0m\u001b[1m)\u001b[0m\n",
              "        \u001b[1m(\u001b[0mnorm2\u001b[1m)\u001b[0m: \u001b[1;35mLayerNorm\u001b[0m\u001b[1m(\u001b[0m\u001b[1m(\u001b[0m\u001b[1;36m512\u001b[0m,\u001b[1m)\u001b[0m, \u001b[33meps\u001b[0m=\u001b[1;36m1e\u001b[0m\u001b[1;36m-05\u001b[0m, \u001b[33melementwise_affine\u001b[0m=\u001b[3;92mTrue\u001b[0m\u001b[1m)\u001b[0m\n",
              "        \u001b[1m(\u001b[0mnorm3\u001b[1m)\u001b[0m: \u001b[1;35mLayerNorm\u001b[0m\u001b[1m(\u001b[0m\u001b[1m(\u001b[0m\u001b[1;36m512\u001b[0m,\u001b[1m)\u001b[0m, \u001b[33meps\u001b[0m=\u001b[1;36m1e\u001b[0m\u001b[1;36m-05\u001b[0m, \u001b[33melementwise_affine\u001b[0m=\u001b[3;92mTrue\u001b[0m\u001b[1m)\u001b[0m\n",
              "        \u001b[1m(\u001b[0mdropout1\u001b[1m)\u001b[0m: \u001b[1;35mDropout\u001b[0m\u001b[1m(\u001b[0m\u001b[33mp\u001b[0m=\u001b[1;36m0\u001b[0m\u001b[1;36m.1\u001b[0m, \u001b[33minplace\u001b[0m=\u001b[3;91mFalse\u001b[0m\u001b[1m)\u001b[0m\n",
              "        \u001b[1m(\u001b[0mdropout2\u001b[1m)\u001b[0m: \u001b[1;35mDropout\u001b[0m\u001b[1m(\u001b[0m\u001b[33mp\u001b[0m=\u001b[1;36m0\u001b[0m\u001b[1;36m.1\u001b[0m, \u001b[33minplace\u001b[0m=\u001b[3;91mFalse\u001b[0m\u001b[1m)\u001b[0m\n",
              "        \u001b[1m(\u001b[0mdropout3\u001b[1m)\u001b[0m: \u001b[1;35mDropout\u001b[0m\u001b[1m(\u001b[0m\u001b[33mp\u001b[0m=\u001b[1;36m0\u001b[0m\u001b[1;36m.1\u001b[0m, \u001b[33minplace\u001b[0m=\u001b[3;91mFalse\u001b[0m\u001b[1m)\u001b[0m\n",
              "      \u001b[1m)\u001b[0m\n",
              "      \u001b[1m(\u001b[0m\u001b[1;36m1\u001b[0m\u001b[1m)\u001b[0m: \u001b[1;35mTransformerDecoderLayer\u001b[0m\u001b[1m(\u001b[0m\n",
              "        \u001b[1m(\u001b[0mself_attn\u001b[1m)\u001b[0m: \u001b[1;35mMultiheadAttention\u001b[0m\u001b[1m(\u001b[0m\n",
              "          \u001b[1m(\u001b[0mout_proj\u001b[1m)\u001b[0m: \u001b[1;35m_LinearWithBias\u001b[0m\u001b[1m(\u001b[0m\u001b[33min_features\u001b[0m=\u001b[1;36m512\u001b[0m, \u001b[33mout_features\u001b[0m=\u001b[1;36m512\u001b[0m, \u001b[33mbias\u001b[0m=\u001b[3;92mTrue\u001b[0m\u001b[1m)\u001b[0m\n",
              "        \u001b[1m)\u001b[0m\n",
              "        \u001b[1m(\u001b[0mmultihead_attn\u001b[1m)\u001b[0m: \u001b[1;35mMultiheadAttention\u001b[0m\u001b[1m(\u001b[0m\n",
              "          \u001b[1m(\u001b[0mout_proj\u001b[1m)\u001b[0m: \u001b[1;35m_LinearWithBias\u001b[0m\u001b[1m(\u001b[0m\u001b[33min_features\u001b[0m=\u001b[1;36m512\u001b[0m, \u001b[33mout_features\u001b[0m=\u001b[1;36m512\u001b[0m, \u001b[33mbias\u001b[0m=\u001b[3;92mTrue\u001b[0m\u001b[1m)\u001b[0m\n",
              "        \u001b[1m)\u001b[0m\n",
              "        \u001b[1m(\u001b[0mlinear1\u001b[1m)\u001b[0m: \u001b[1;35mLinear\u001b[0m\u001b[1m(\u001b[0m\u001b[33min_features\u001b[0m=\u001b[1;36m512\u001b[0m, \u001b[33mout_features\u001b[0m=\u001b[1;36m512\u001b[0m, \u001b[33mbias\u001b[0m=\u001b[3;92mTrue\u001b[0m\u001b[1m)\u001b[0m\n",
              "        \u001b[1m(\u001b[0mdropout\u001b[1m)\u001b[0m: \u001b[1;35mDropout\u001b[0m\u001b[1m(\u001b[0m\u001b[33mp\u001b[0m=\u001b[1;36m0\u001b[0m\u001b[1;36m.1\u001b[0m, \u001b[33minplace\u001b[0m=\u001b[3;91mFalse\u001b[0m\u001b[1m)\u001b[0m\n",
              "        \u001b[1m(\u001b[0mlinear2\u001b[1m)\u001b[0m: \u001b[1;35mLinear\u001b[0m\u001b[1m(\u001b[0m\u001b[33min_features\u001b[0m=\u001b[1;36m512\u001b[0m, \u001b[33mout_features\u001b[0m=\u001b[1;36m512\u001b[0m, \u001b[33mbias\u001b[0m=\u001b[3;92mTrue\u001b[0m\u001b[1m)\u001b[0m\n",
              "        \u001b[1m(\u001b[0mnorm1\u001b[1m)\u001b[0m: \u001b[1;35mLayerNorm\u001b[0m\u001b[1m(\u001b[0m\u001b[1m(\u001b[0m\u001b[1;36m512\u001b[0m,\u001b[1m)\u001b[0m, \u001b[33meps\u001b[0m=\u001b[1;36m1e\u001b[0m\u001b[1;36m-05\u001b[0m, \u001b[33melementwise_affine\u001b[0m=\u001b[3;92mTrue\u001b[0m\u001b[1m)\u001b[0m\n",
              "        \u001b[1m(\u001b[0mnorm2\u001b[1m)\u001b[0m: \u001b[1;35mLayerNorm\u001b[0m\u001b[1m(\u001b[0m\u001b[1m(\u001b[0m\u001b[1;36m512\u001b[0m,\u001b[1m)\u001b[0m, \u001b[33meps\u001b[0m=\u001b[1;36m1e\u001b[0m\u001b[1;36m-05\u001b[0m, \u001b[33melementwise_affine\u001b[0m=\u001b[3;92mTrue\u001b[0m\u001b[1m)\u001b[0m\n",
              "        \u001b[1m(\u001b[0mnorm3\u001b[1m)\u001b[0m: \u001b[1;35mLayerNorm\u001b[0m\u001b[1m(\u001b[0m\u001b[1m(\u001b[0m\u001b[1;36m512\u001b[0m,\u001b[1m)\u001b[0m, \u001b[33meps\u001b[0m=\u001b[1;36m1e\u001b[0m\u001b[1;36m-05\u001b[0m, \u001b[33melementwise_affine\u001b[0m=\u001b[3;92mTrue\u001b[0m\u001b[1m)\u001b[0m\n",
              "        \u001b[1m(\u001b[0mdropout1\u001b[1m)\u001b[0m: \u001b[1;35mDropout\u001b[0m\u001b[1m(\u001b[0m\u001b[33mp\u001b[0m=\u001b[1;36m0\u001b[0m\u001b[1;36m.1\u001b[0m, \u001b[33minplace\u001b[0m=\u001b[3;91mFalse\u001b[0m\u001b[1m)\u001b[0m\n",
              "        \u001b[1m(\u001b[0mdropout2\u001b[1m)\u001b[0m: \u001b[1;35mDropout\u001b[0m\u001b[1m(\u001b[0m\u001b[33mp\u001b[0m=\u001b[1;36m0\u001b[0m\u001b[1;36m.1\u001b[0m, \u001b[33minplace\u001b[0m=\u001b[3;91mFalse\u001b[0m\u001b[1m)\u001b[0m\n",
              "        \u001b[1m(\u001b[0mdropout3\u001b[1m)\u001b[0m: \u001b[1;35mDropout\u001b[0m\u001b[1m(\u001b[0m\u001b[33mp\u001b[0m=\u001b[1;36m0\u001b[0m\u001b[1;36m.1\u001b[0m, \u001b[33minplace\u001b[0m=\u001b[3;91mFalse\u001b[0m\u001b[1m)\u001b[0m\n",
              "      \u001b[1m)\u001b[0m\n",
              "      \u001b[1m(\u001b[0m\u001b[1;36m2\u001b[0m\u001b[1m)\u001b[0m: \u001b[1;35mTransformerDecoderLayer\u001b[0m\u001b[1m(\u001b[0m\n",
              "        \u001b[1m(\u001b[0mself_attn\u001b[1m)\u001b[0m: \u001b[1;35mMultiheadAttention\u001b[0m\u001b[1m(\u001b[0m\n",
              "          \u001b[1m(\u001b[0mout_proj\u001b[1m)\u001b[0m: \u001b[1;35m_LinearWithBias\u001b[0m\u001b[1m(\u001b[0m\u001b[33min_features\u001b[0m=\u001b[1;36m512\u001b[0m, \u001b[33mout_features\u001b[0m=\u001b[1;36m512\u001b[0m, \u001b[33mbias\u001b[0m=\u001b[3;92mTrue\u001b[0m\u001b[1m)\u001b[0m\n",
              "        \u001b[1m)\u001b[0m\n",
              "        \u001b[1m(\u001b[0mmultihead_attn\u001b[1m)\u001b[0m: \u001b[1;35mMultiheadAttention\u001b[0m\u001b[1m(\u001b[0m\n",
              "          \u001b[1m(\u001b[0mout_proj\u001b[1m)\u001b[0m: \u001b[1;35m_LinearWithBias\u001b[0m\u001b[1m(\u001b[0m\u001b[33min_features\u001b[0m=\u001b[1;36m512\u001b[0m, \u001b[33mout_features\u001b[0m=\u001b[1;36m512\u001b[0m, \u001b[33mbias\u001b[0m=\u001b[3;92mTrue\u001b[0m\u001b[1m)\u001b[0m\n",
              "        \u001b[1m)\u001b[0m\n",
              "        \u001b[1m(\u001b[0mlinear1\u001b[1m)\u001b[0m: \u001b[1;35mLinear\u001b[0m\u001b[1m(\u001b[0m\u001b[33min_features\u001b[0m=\u001b[1;36m512\u001b[0m, \u001b[33mout_features\u001b[0m=\u001b[1;36m512\u001b[0m, \u001b[33mbias\u001b[0m=\u001b[3;92mTrue\u001b[0m\u001b[1m)\u001b[0m\n",
              "        \u001b[1m(\u001b[0mdropout\u001b[1m)\u001b[0m: \u001b[1;35mDropout\u001b[0m\u001b[1m(\u001b[0m\u001b[33mp\u001b[0m=\u001b[1;36m0\u001b[0m\u001b[1;36m.1\u001b[0m, \u001b[33minplace\u001b[0m=\u001b[3;91mFalse\u001b[0m\u001b[1m)\u001b[0m\n",
              "        \u001b[1m(\u001b[0mlinear2\u001b[1m)\u001b[0m: \u001b[1;35mLinear\u001b[0m\u001b[1m(\u001b[0m\u001b[33min_features\u001b[0m=\u001b[1;36m512\u001b[0m, \u001b[33mout_features\u001b[0m=\u001b[1;36m512\u001b[0m, \u001b[33mbias\u001b[0m=\u001b[3;92mTrue\u001b[0m\u001b[1m)\u001b[0m\n",
              "        \u001b[1m(\u001b[0mnorm1\u001b[1m)\u001b[0m: \u001b[1;35mLayerNorm\u001b[0m\u001b[1m(\u001b[0m\u001b[1m(\u001b[0m\u001b[1;36m512\u001b[0m,\u001b[1m)\u001b[0m, \u001b[33meps\u001b[0m=\u001b[1;36m1e\u001b[0m\u001b[1;36m-05\u001b[0m, \u001b[33melementwise_affine\u001b[0m=\u001b[3;92mTrue\u001b[0m\u001b[1m)\u001b[0m\n",
              "        \u001b[1m(\u001b[0mnorm2\u001b[1m)\u001b[0m: \u001b[1;35mLayerNorm\u001b[0m\u001b[1m(\u001b[0m\u001b[1m(\u001b[0m\u001b[1;36m512\u001b[0m,\u001b[1m)\u001b[0m, \u001b[33meps\u001b[0m=\u001b[1;36m1e\u001b[0m\u001b[1;36m-05\u001b[0m, \u001b[33melementwise_affine\u001b[0m=\u001b[3;92mTrue\u001b[0m\u001b[1m)\u001b[0m\n",
              "        \u001b[1m(\u001b[0mnorm3\u001b[1m)\u001b[0m: \u001b[1;35mLayerNorm\u001b[0m\u001b[1m(\u001b[0m\u001b[1m(\u001b[0m\u001b[1;36m512\u001b[0m,\u001b[1m)\u001b[0m, \u001b[33meps\u001b[0m=\u001b[1;36m1e\u001b[0m\u001b[1;36m-05\u001b[0m, \u001b[33melementwise_affine\u001b[0m=\u001b[3;92mTrue\u001b[0m\u001b[1m)\u001b[0m\n",
              "        \u001b[1m(\u001b[0mdropout1\u001b[1m)\u001b[0m: \u001b[1;35mDropout\u001b[0m\u001b[1m(\u001b[0m\u001b[33mp\u001b[0m=\u001b[1;36m0\u001b[0m\u001b[1;36m.1\u001b[0m, \u001b[33minplace\u001b[0m=\u001b[3;91mFalse\u001b[0m\u001b[1m)\u001b[0m\n",
              "        \u001b[1m(\u001b[0mdropout2\u001b[1m)\u001b[0m: \u001b[1;35mDropout\u001b[0m\u001b[1m(\u001b[0m\u001b[33mp\u001b[0m=\u001b[1;36m0\u001b[0m\u001b[1;36m.1\u001b[0m, \u001b[33minplace\u001b[0m=\u001b[3;91mFalse\u001b[0m\u001b[1m)\u001b[0m\n",
              "        \u001b[1m(\u001b[0mdropout3\u001b[1m)\u001b[0m: \u001b[1;35mDropout\u001b[0m\u001b[1m(\u001b[0m\u001b[33mp\u001b[0m=\u001b[1;36m0\u001b[0m\u001b[1;36m.1\u001b[0m, \u001b[33minplace\u001b[0m=\u001b[3;91mFalse\u001b[0m\u001b[1m)\u001b[0m\n",
              "      \u001b[1m)\u001b[0m\n",
              "    \u001b[1m)\u001b[0m\n",
              "  \u001b[1m)\u001b[0m\n",
              "  \u001b[1m(\u001b[0mgenerator\u001b[1m)\u001b[0m: \u001b[1;35mLinear\u001b[0m\u001b[1m(\u001b[0m\u001b[33min_features\u001b[0m=\u001b[1;36m512\u001b[0m, \u001b[33mout_features\u001b[0m=\u001b[1;36m42\u001b[0m, \u001b[33mbias\u001b[0m=\u001b[3;92mTrue\u001b[0m\u001b[1m)\u001b[0m\n",
              "  \u001b[1m(\u001b[0msrc_tok_emb\u001b[1m)\u001b[0m: \u001b[1;35mTokenEmbedding\u001b[0m\u001b[1m(\u001b[0m\n",
              "    \u001b[1m(\u001b[0membedding\u001b[1m)\u001b[0m: \u001b[1;35mEmbedding\u001b[0m\u001b[1m(\u001b[0m\u001b[1;36m46\u001b[0m, \u001b[1;36m512\u001b[0m\u001b[1m)\u001b[0m\n",
              "  \u001b[1m)\u001b[0m\n",
              "  \u001b[1m(\u001b[0mtgt_tok_emb\u001b[1m)\u001b[0m: \u001b[1;35mTokenEmbedding\u001b[0m\u001b[1m(\u001b[0m\n",
              "    \u001b[1m(\u001b[0membedding\u001b[1m)\u001b[0m: \u001b[1;35mEmbedding\u001b[0m\u001b[1m(\u001b[0m\u001b[1;36m42\u001b[0m, \u001b[1;36m512\u001b[0m\u001b[1m)\u001b[0m\n",
              "  \u001b[1m)\u001b[0m\n",
              "  \u001b[1m(\u001b[0mpositional_encoding\u001b[1m)\u001b[0m: \u001b[1;35mPositionalEncoding\u001b[0m\u001b[1m(\u001b[0m\n",
              "    \u001b[1m(\u001b[0mdropout\u001b[1m)\u001b[0m: \u001b[1;35mDropout\u001b[0m\u001b[1m(\u001b[0m\u001b[33mp\u001b[0m=\u001b[1;36m0\u001b[0m\u001b[1;36m.1\u001b[0m, \u001b[33minplace\u001b[0m=\u001b[3;91mFalse\u001b[0m\u001b[1m)\u001b[0m\n",
              "  \u001b[1m)\u001b[0m\n",
              "\u001b[1m)\u001b[0m\n"
            ]
          },
          "metadata": {
            "tags": []
          }
        }
      ]
    },
    {
      "cell_type": "markdown",
      "metadata": {
        "id": "bXSMEOITdq_s"
      },
      "source": [
        "#Save checkpoint"
      ],
      "id": "bXSMEOITdq_s"
    },
    {
      "cell_type": "code",
      "metadata": {
        "id": "MFgGyot-dqR6"
      },
      "source": [
        "def save_checkpoint(state, filename=\"my_checkpoint.pth\"):\n",
        "    print(\"=> Saving checkpoint\")\n",
        "    torch.save(state, filename)"
      ],
      "id": "MFgGyot-dqR6",
      "execution_count": null,
      "outputs": []
    },
    {
      "cell_type": "markdown",
      "metadata": {
        "id": "PIW9IxYXe0FK"
      },
      "source": [
        "#Load checkpoint"
      ],
      "id": "PIW9IxYXe0FK"
    },
    {
      "cell_type": "code",
      "metadata": {
        "id": "fSK3X09Me4L-"
      },
      "source": [
        "def load_checkpoint(checkpoint, model, optimizer):\n",
        "    print(\"=> Loading checkpoint\")\n",
        "    model.load_state_dict(checkpoint[\"state_dict\"])\n",
        "    optimizer.load_state_dict(checkpoint[\"optimizer\"])"
      ],
      "id": "fSK3X09Me4L-",
      "execution_count": null,
      "outputs": []
    },
    {
      "cell_type": "code",
      "metadata": {
        "id": "F5Q-dpDvfLSC"
      },
      "source": [
        "load_model = True\n",
        "save_model = True\n",
        "if load_model:\n",
        "    load_checkpoint(torch.load(\"my_checkpoint.pth\"), transformer, optimizer)\n",
        "\n"
      ],
      "id": "F5Q-dpDvfLSC",
      "execution_count": null,
      "outputs": []
    },
    {
      "cell_type": "markdown",
      "metadata": {
        "id": "iA-ga-sAPhK1"
      },
      "source": [
        "# Train model"
      ],
      "id": "iA-ga-sAPhK1"
    },
    {
      "cell_type": "code",
      "metadata": {
        "id": "obvious-curve"
      },
      "source": [
        "def train_epoch(model, train_iter, optimizer):\n",
        "  model.train()\n",
        "  losses = 0\n",
        "  for idx, (src, tgt) in enumerate(train_iter):\n",
        "      src = src.to(device)\n",
        "      tgt = tgt.to(device)\n",
        "\n",
        "      tgt_input = tgt[:-1, :]\n",
        "\n",
        "      src_mask, tgt_mask, src_padding_mask, tgt_padding_mask = create_mask(src, tgt_input)\n",
        "\n",
        "      logits = model(src, tgt_input, src_mask, tgt_mask,\n",
        "                                src_padding_mask, tgt_padding_mask, src_padding_mask)\n",
        "\n",
        "      optimizer.zero_grad()\n",
        "\n",
        "      tgt_out = tgt[1:,:]\n",
        "      loss = loss_fn(logits.reshape(-1, logits.shape[-1]), tgt_out.reshape(-1))\n",
        "      loss.backward()\n",
        "\n",
        "      optimizer.step()\n",
        "      losses += loss.item()\n",
        "  return losses / len(train_iter)\n",
        "\n",
        "\n",
        "def evaluate(model, val_iter):\n",
        "  model.eval()\n",
        "  losses = 0\n",
        "  for idx, (src, tgt) in (enumerate(valid_iter)):\n",
        "    src = src.to(device)\n",
        "    tgt = tgt.to(device)\n",
        "\n",
        "    tgt_input = tgt[:-1, :]\n",
        "\n",
        "    src_mask, tgt_mask, src_padding_mask, tgt_padding_mask = create_mask(src, tgt_input)\n",
        "\n",
        "    logits = model(src, tgt_input, src_mask, tgt_mask,\n",
        "                              src_padding_mask, tgt_padding_mask, src_padding_mask)\n",
        "    tgt_out = tgt[1:,:]\n",
        "    loss = loss_fn(logits.reshape(-1, logits.shape[-1]), tgt_out.reshape(-1))\n",
        "    losses += loss.item()\n",
        "  return losses / len(val_iter)"
      ],
      "id": "obvious-curve",
      "execution_count": 15,
      "outputs": []
    },
    {
      "cell_type": "code",
      "metadata": {
        "colab": {
          "base_uri": "https://localhost:8080/"
        },
        "id": "palestinian-singapore",
        "outputId": "34558dbf-0f5e-44b1-e0f2-035796ec8928"
      },
      "source": [
        "for epoch in range(1, NUM_EPOCHS+1):\n",
        "  start_time = time.time()\n",
        "  train_loss = train_epoch(transformer, train_iter, optimizer)\n",
        "  end_time = time.time()\n",
        "  val_loss = evaluate(transformer, valid_iter)\n",
        "  #Save the general checkpoint\n",
        "  if NUM_EPOCHS%5==0:\n",
        "    checkpoint = {\n",
        "            \"state_dict\": transformer.state_dict(),\n",
        "            \"optimizer\": optimizer.state_dict(),}\n",
        "    save_checkpoint(checkpoint)\n",
        "\n",
        "  print((f\"Epoch: {epoch}, Train loss: {train_loss:.3f}, Val loss: {val_loss:.3f}, \"\n",
        "          f\"Epoch time = {(end_time - start_time):.3f}s\"))\n",
        "print(\"Done!\")"
      ],
      "id": "palestinian-singapore",
      "execution_count": 16,
      "outputs": [
        {
          "output_type": "stream",
          "text": [
            "Epoch: 1, Train loss: 1.456, Val loss: 1.031, Epoch time = 94.327s\n",
            "Epoch: 2, Train loss: 1.017, Val loss: 0.853, Epoch time = 93.500s\n",
            "Epoch: 3, Train loss: 0.887, Val loss: 0.750, Epoch time = 94.456s\n",
            "Epoch: 4, Train loss: 0.807, Val loss: 0.691, Epoch time = 94.214s\n",
            "Epoch: 5, Train loss: 0.748, Val loss: 0.650, Epoch time = 93.735s\n",
            "Epoch: 6, Train loss: 0.704, Val loss: 0.599, Epoch time = 94.126s\n",
            "Epoch: 7, Train loss: 0.667, Val loss: 0.564, Epoch time = 94.687s\n",
            "Epoch: 8, Train loss: 0.636, Val loss: 0.534, Epoch time = 94.424s\n",
            "Epoch: 9, Train loss: 0.608, Val loss: 0.518, Epoch time = 93.669s\n",
            "Epoch: 10, Train loss: 0.582, Val loss: 0.488, Epoch time = 94.281s\n",
            "Epoch: 11, Train loss: 0.559, Val loss: 0.475, Epoch time = 93.890s\n",
            "Epoch: 12, Train loss: 0.537, Val loss: 0.440, Epoch time = 93.963s\n",
            "Epoch: 13, Train loss: 0.514, Val loss: 0.425, Epoch time = 93.694s\n",
            "Epoch: 14, Train loss: 0.494, Val loss: 0.410, Epoch time = 93.949s\n",
            "Epoch: 15, Train loss: 0.473, Val loss: 0.378, Epoch time = 94.789s\n",
            "Epoch: 16, Train loss: 0.451, Val loss: 0.359, Epoch time = 93.892s\n",
            "Epoch: 17, Train loss: 0.432, Val loss: 0.348, Epoch time = 94.666s\n",
            "Epoch: 18, Train loss: 0.412, Val loss: 0.323, Epoch time = 94.411s\n",
            "Epoch: 19, Train loss: 0.393, Val loss: 0.310, Epoch time = 94.105s\n",
            "Epoch: 20, Train loss: 0.375, Val loss: 0.288, Epoch time = 93.845s\n",
            "Epoch: 21, Train loss: 0.357, Val loss: 0.278, Epoch time = 94.097s\n",
            "Epoch: 22, Train loss: 0.338, Val loss: 0.258, Epoch time = 94.115s\n",
            "Epoch: 23, Train loss: 0.321, Val loss: 0.244, Epoch time = 93.738s\n",
            "Epoch: 24, Train loss: 0.306, Val loss: 0.229, Epoch time = 93.977s\n",
            "Epoch: 25, Train loss: 0.292, Val loss: 0.222, Epoch time = 94.265s\n",
            "Epoch: 26, Train loss: 0.278, Val loss: 0.206, Epoch time = 94.124s\n",
            "Epoch: 27, Train loss: 0.265, Val loss: 0.200, Epoch time = 94.003s\n",
            "Epoch: 28, Train loss: 0.253, Val loss: 0.188, Epoch time = 93.886s\n",
            "Epoch: 29, Train loss: 0.243, Val loss: 0.180, Epoch time = 93.835s\n",
            "Epoch: 30, Train loss: 0.233, Val loss: 0.177, Epoch time = 93.847s\n",
            "Epoch: 31, Train loss: 0.223, Val loss: 0.168, Epoch time = 93.876s\n",
            "Epoch: 32, Train loss: 0.215, Val loss: 0.164, Epoch time = 94.613s\n",
            "Epoch: 33, Train loss: 0.207, Val loss: 0.160, Epoch time = 93.630s\n",
            "Epoch: 34, Train loss: 0.201, Val loss: 0.154, Epoch time = 94.601s\n",
            "Epoch: 35, Train loss: 0.194, Val loss: 0.150, Epoch time = 94.728s\n",
            "Epoch: 36, Train loss: 0.187, Val loss: 0.148, Epoch time = 94.042s\n",
            "Epoch: 37, Train loss: 0.182, Val loss: 0.146, Epoch time = 93.756s\n",
            "Epoch: 38, Train loss: 0.176, Val loss: 0.142, Epoch time = 94.114s\n",
            "Epoch: 39, Train loss: 0.171, Val loss: 0.138, Epoch time = 94.138s\n",
            "Epoch: 40, Train loss: 0.166, Val loss: 0.134, Epoch time = 93.985s\n",
            "Epoch: 41, Train loss: 0.161, Val loss: 0.134, Epoch time = 94.297s\n",
            "Epoch: 42, Train loss: 0.157, Val loss: 0.130, Epoch time = 93.941s\n",
            "Epoch: 43, Train loss: 0.153, Val loss: 0.129, Epoch time = 93.902s\n",
            "Epoch: 44, Train loss: 0.149, Val loss: 0.123, Epoch time = 93.958s\n",
            "Epoch: 45, Train loss: 0.145, Val loss: 0.125, Epoch time = 94.659s\n",
            "Epoch: 46, Train loss: 0.142, Val loss: 0.123, Epoch time = 94.239s\n",
            "Epoch: 47, Train loss: 0.139, Val loss: 0.121, Epoch time = 94.098s\n",
            "Epoch: 48, Train loss: 0.136, Val loss: 0.118, Epoch time = 93.814s\n",
            "Epoch: 49, Train loss: 0.132, Val loss: 0.119, Epoch time = 93.558s\n",
            "Epoch: 50, Train loss: 0.129, Val loss: 0.117, Epoch time = 94.174s\n",
            "Epoch: 51, Train loss: 0.126, Val loss: 0.117, Epoch time = 93.724s\n",
            "Epoch: 52, Train loss: 0.124, Val loss: 0.114, Epoch time = 94.215s\n",
            "Epoch: 53, Train loss: 0.122, Val loss: 0.112, Epoch time = 93.573s\n",
            "Epoch: 54, Train loss: 0.119, Val loss: 0.111, Epoch time = 93.813s\n",
            "Epoch: 55, Train loss: 0.116, Val loss: 0.111, Epoch time = 94.791s\n",
            "Epoch: 56, Train loss: 0.114, Val loss: 0.107, Epoch time = 94.015s\n",
            "Epoch: 57, Train loss: 0.112, Val loss: 0.111, Epoch time = 94.067s\n",
            "Epoch: 58, Train loss: 0.110, Val loss: 0.107, Epoch time = 93.454s\n",
            "Epoch: 59, Train loss: 0.107, Val loss: 0.107, Epoch time = 94.055s\n",
            "Epoch: 60, Train loss: 0.106, Val loss: 0.106, Epoch time = 93.811s\n",
            "Epoch: 61, Train loss: 0.104, Val loss: 0.105, Epoch time = 94.196s\n",
            "Epoch: 62, Train loss: 0.102, Val loss: 0.105, Epoch time = 94.477s\n",
            "Epoch: 63, Train loss: 0.100, Val loss: 0.105, Epoch time = 93.932s\n",
            "Epoch: 64, Train loss: 0.098, Val loss: 0.104, Epoch time = 94.080s\n",
            "Epoch: 65, Train loss: 0.097, Val loss: 0.102, Epoch time = 94.463s\n",
            "Epoch: 66, Train loss: 0.095, Val loss: 0.104, Epoch time = 93.560s\n",
            "Epoch: 67, Train loss: 0.093, Val loss: 0.102, Epoch time = 93.444s\n",
            "Epoch: 68, Train loss: 0.092, Val loss: 0.103, Epoch time = 94.058s\n",
            "Epoch: 69, Train loss: 0.090, Val loss: 0.102, Epoch time = 94.247s\n",
            "Epoch: 70, Train loss: 0.089, Val loss: 0.102, Epoch time = 94.429s\n",
            "Epoch: 71, Train loss: 0.087, Val loss: 0.103, Epoch time = 93.944s\n",
            "Epoch: 72, Train loss: 0.086, Val loss: 0.102, Epoch time = 93.848s\n",
            "Epoch: 73, Train loss: 0.085, Val loss: 0.101, Epoch time = 94.391s\n",
            "Epoch: 74, Train loss: 0.083, Val loss: 0.102, Epoch time = 93.981s\n",
            "Epoch: 75, Train loss: 0.082, Val loss: 0.098, Epoch time = 94.170s\n",
            "Epoch: 76, Train loss: 0.081, Val loss: 0.104, Epoch time = 94.278s\n",
            "Epoch: 77, Train loss: 0.080, Val loss: 0.100, Epoch time = 94.366s\n",
            "Epoch: 78, Train loss: 0.078, Val loss: 0.104, Epoch time = 93.697s\n",
            "Epoch: 79, Train loss: 0.078, Val loss: 0.100, Epoch time = 93.659s\n",
            "Epoch: 80, Train loss: 0.076, Val loss: 0.100, Epoch time = 94.240s\n",
            "Epoch: 81, Train loss: 0.076, Val loss: 0.100, Epoch time = 93.595s\n",
            "Epoch: 82, Train loss: 0.074, Val loss: 0.100, Epoch time = 94.711s\n",
            "Epoch: 83, Train loss: 0.074, Val loss: 0.100, Epoch time = 94.961s\n",
            "Epoch: 84, Train loss: 0.072, Val loss: 0.098, Epoch time = 93.762s\n",
            "Epoch: 85, Train loss: 0.071, Val loss: 0.100, Epoch time = 93.900s\n",
            "Epoch: 86, Train loss: 0.070, Val loss: 0.097, Epoch time = 93.903s\n",
            "Epoch: 87, Train loss: 0.070, Val loss: 0.100, Epoch time = 93.452s\n",
            "Epoch: 88, Train loss: 0.069, Val loss: 0.099, Epoch time = 94.953s\n",
            "Epoch: 89, Train loss: 0.068, Val loss: 0.100, Epoch time = 94.162s\n",
            "Epoch: 90, Train loss: 0.067, Val loss: 0.103, Epoch time = 93.954s\n",
            "Epoch: 91, Train loss: 0.066, Val loss: 0.101, Epoch time = 94.018s\n",
            "Epoch: 92, Train loss: 0.065, Val loss: 0.104, Epoch time = 94.295s\n",
            "Epoch: 93, Train loss: 0.064, Val loss: 0.101, Epoch time = 93.564s\n",
            "Epoch: 94, Train loss: 0.063, Val loss: 0.100, Epoch time = 93.867s\n",
            "Epoch: 95, Train loss: 0.063, Val loss: 0.100, Epoch time = 94.931s\n",
            "Epoch: 96, Train loss: 0.062, Val loss: 0.100, Epoch time = 94.240s\n",
            "Epoch: 97, Train loss: 0.061, Val loss: 0.100, Epoch time = 93.606s\n",
            "Epoch: 98, Train loss: 0.061, Val loss: 0.101, Epoch time = 94.581s\n",
            "Epoch: 99, Train loss: 0.060, Val loss: 0.100, Epoch time = 93.284s\n",
            "Epoch: 100, Train loss: 0.059, Val loss: 0.104, Epoch time = 94.495s\n",
            "Epoch: 101, Train loss: 0.058, Val loss: 0.099, Epoch time = 94.032s\n",
            "Epoch: 102, Train loss: 0.057, Val loss: 0.099, Epoch time = 94.262s\n",
            "Epoch: 103, Train loss: 0.057, Val loss: 0.102, Epoch time = 94.035s\n",
            "Epoch: 104, Train loss: 0.056, Val loss: 0.102, Epoch time = 94.235s\n",
            "Epoch: 105, Train loss: 0.056, Val loss: 0.101, Epoch time = 93.924s\n",
            "Epoch: 106, Train loss: 0.055, Val loss: 0.100, Epoch time = 94.670s\n",
            "Epoch: 107, Train loss: 0.055, Val loss: 0.101, Epoch time = 94.058s\n",
            "Epoch: 108, Train loss: 0.054, Val loss: 0.101, Epoch time = 94.103s\n",
            "Epoch: 109, Train loss: 0.053, Val loss: 0.102, Epoch time = 93.920s\n",
            "Epoch: 110, Train loss: 0.052, Val loss: 0.100, Epoch time = 94.982s\n",
            "Epoch: 111, Train loss: 0.052, Val loss: 0.105, Epoch time = 94.711s\n",
            "Epoch: 112, Train loss: 0.051, Val loss: 0.103, Epoch time = 93.557s\n",
            "Epoch: 113, Train loss: 0.051, Val loss: 0.104, Epoch time = 94.135s\n",
            "Epoch: 114, Train loss: 0.050, Val loss: 0.101, Epoch time = 94.028s\n",
            "Epoch: 115, Train loss: 0.050, Val loss: 0.101, Epoch time = 93.559s\n",
            "Epoch: 116, Train loss: 0.049, Val loss: 0.101, Epoch time = 93.682s\n",
            "Epoch: 117, Train loss: 0.048, Val loss: 0.104, Epoch time = 93.730s\n",
            "Epoch: 118, Train loss: 0.048, Val loss: 0.105, Epoch time = 93.544s\n",
            "Epoch: 119, Train loss: 0.048, Val loss: 0.107, Epoch time = 94.259s\n",
            "Epoch: 120, Train loss: 0.047, Val loss: 0.102, Epoch time = 95.010s\n",
            "Epoch: 121, Train loss: 0.047, Val loss: 0.104, Epoch time = 94.089s\n",
            "Epoch: 122, Train loss: 0.046, Val loss: 0.105, Epoch time = 93.617s\n",
            "Epoch: 123, Train loss: 0.046, Val loss: 0.105, Epoch time = 93.981s\n",
            "Epoch: 124, Train loss: 0.046, Val loss: 0.104, Epoch time = 94.149s\n",
            "Epoch: 125, Train loss: 0.045, Val loss: 0.104, Epoch time = 93.717s\n",
            "Epoch: 126, Train loss: 0.044, Val loss: 0.107, Epoch time = 93.680s\n",
            "Epoch: 127, Train loss: 0.044, Val loss: 0.108, Epoch time = 94.569s\n",
            "Epoch: 128, Train loss: 0.044, Val loss: 0.109, Epoch time = 93.880s\n",
            "Epoch: 129, Train loss: 0.044, Val loss: 0.107, Epoch time = 94.015s\n",
            "Epoch: 130, Train loss: 0.043, Val loss: 0.106, Epoch time = 93.662s\n",
            "Epoch: 131, Train loss: 0.042, Val loss: 0.107, Epoch time = 94.653s\n",
            "Epoch: 132, Train loss: 0.042, Val loss: 0.109, Epoch time = 94.090s\n",
            "Epoch: 133, Train loss: 0.041, Val loss: 0.106, Epoch time = 94.221s\n",
            "Epoch: 134, Train loss: 0.041, Val loss: 0.105, Epoch time = 94.408s\n",
            "Epoch: 135, Train loss: 0.041, Val loss: 0.108, Epoch time = 93.949s\n",
            "Epoch: 136, Train loss: 0.041, Val loss: 0.108, Epoch time = 94.515s\n",
            "Epoch: 137, Train loss: 0.040, Val loss: 0.106, Epoch time = 94.565s\n",
            "Epoch: 138, Train loss: 0.040, Val loss: 0.109, Epoch time = 94.334s\n",
            "Epoch: 139, Train loss: 0.039, Val loss: 0.108, Epoch time = 94.519s\n",
            "Epoch: 140, Train loss: 0.039, Val loss: 0.108, Epoch time = 93.779s\n",
            "Epoch: 141, Train loss: 0.039, Val loss: 0.106, Epoch time = 94.425s\n",
            "Epoch: 142, Train loss: 0.038, Val loss: 0.111, Epoch time = 93.725s\n",
            "Epoch: 143, Train loss: 0.038, Val loss: 0.110, Epoch time = 94.109s\n",
            "Epoch: 144, Train loss: 0.038, Val loss: 0.110, Epoch time = 94.325s\n",
            "Epoch: 145, Train loss: 0.037, Val loss: 0.112, Epoch time = 93.796s\n",
            "Epoch: 146, Train loss: 0.037, Val loss: 0.112, Epoch time = 93.975s\n",
            "Epoch: 147, Train loss: 0.037, Val loss: 0.109, Epoch time = 93.388s\n",
            "Epoch: 148, Train loss: 0.036, Val loss: 0.111, Epoch time = 93.898s\n",
            "Epoch: 149, Train loss: 0.036, Val loss: 0.112, Epoch time = 93.931s\n",
            "Epoch: 150, Train loss: 0.036, Val loss: 0.111, Epoch time = 94.278s\n",
            "Epoch: 151, Train loss: 0.035, Val loss: 0.113, Epoch time = 94.143s\n",
            "Epoch: 152, Train loss: 0.035, Val loss: 0.109, Epoch time = 94.248s\n",
            "Epoch: 153, Train loss: 0.035, Val loss: 0.112, Epoch time = 94.484s\n",
            "Epoch: 154, Train loss: 0.035, Val loss: 0.113, Epoch time = 93.806s\n",
            "Epoch: 155, Train loss: 0.035, Val loss: 0.112, Epoch time = 93.947s\n",
            "Epoch: 156, Train loss: 0.034, Val loss: 0.111, Epoch time = 94.493s\n",
            "Epoch: 157, Train loss: 0.034, Val loss: 0.111, Epoch time = 94.116s\n",
            "Epoch: 158, Train loss: 0.034, Val loss: 0.115, Epoch time = 94.146s\n",
            "Epoch: 159, Train loss: 0.033, Val loss: 0.111, Epoch time = 93.697s\n",
            "Epoch: 160, Train loss: 0.033, Val loss: 0.111, Epoch time = 93.945s\n",
            "Epoch: 161, Train loss: 0.033, Val loss: 0.113, Epoch time = 94.654s\n",
            "Epoch: 162, Train loss: 0.033, Val loss: 0.114, Epoch time = 94.149s\n",
            "Epoch: 163, Train loss: 0.032, Val loss: 0.114, Epoch time = 94.129s\n",
            "Epoch: 164, Train loss: 0.032, Val loss: 0.115, Epoch time = 93.840s\n",
            "Epoch: 165, Train loss: 0.032, Val loss: 0.115, Epoch time = 93.936s\n",
            "Epoch: 166, Train loss: 0.032, Val loss: 0.112, Epoch time = 94.527s\n",
            "Epoch: 167, Train loss: 0.031, Val loss: 0.115, Epoch time = 94.486s\n",
            "Epoch: 168, Train loss: 0.031, Val loss: 0.115, Epoch time = 94.327s\n",
            "Epoch: 169, Train loss: 0.031, Val loss: 0.115, Epoch time = 94.487s\n",
            "Epoch: 170, Train loss: 0.030, Val loss: 0.115, Epoch time = 94.075s\n",
            "Epoch: 171, Train loss: 0.030, Val loss: 0.118, Epoch time = 94.009s\n",
            "Epoch: 172, Train loss: 0.030, Val loss: 0.114, Epoch time = 94.208s\n",
            "Epoch: 173, Train loss: 0.030, Val loss: 0.116, Epoch time = 94.134s\n",
            "Epoch: 174, Train loss: 0.030, Val loss: 0.115, Epoch time = 94.018s\n",
            "Epoch: 175, Train loss: 0.029, Val loss: 0.117, Epoch time = 93.302s\n",
            "Epoch: 176, Train loss: 0.029, Val loss: 0.120, Epoch time = 93.797s\n",
            "Epoch: 177, Train loss: 0.029, Val loss: 0.117, Epoch time = 94.335s\n",
            "Epoch: 178, Train loss: 0.029, Val loss: 0.116, Epoch time = 93.671s\n",
            "Epoch: 179, Train loss: 0.029, Val loss: 0.115, Epoch time = 94.111s\n",
            "Epoch: 180, Train loss: 0.029, Val loss: 0.118, Epoch time = 94.057s\n",
            "Epoch: 181, Train loss: 0.028, Val loss: 0.116, Epoch time = 93.884s\n",
            "Epoch: 182, Train loss: 0.028, Val loss: 0.118, Epoch time = 93.674s\n",
            "Epoch: 183, Train loss: 0.028, Val loss: 0.118, Epoch time = 93.415s\n",
            "Epoch: 184, Train loss: 0.028, Val loss: 0.117, Epoch time = 93.826s\n",
            "Epoch: 185, Train loss: 0.027, Val loss: 0.117, Epoch time = 94.441s\n",
            "Epoch: 186, Train loss: 0.027, Val loss: 0.119, Epoch time = 93.847s\n",
            "Epoch: 187, Train loss: 0.027, Val loss: 0.118, Epoch time = 93.319s\n",
            "Epoch: 188, Train loss: 0.027, Val loss: 0.118, Epoch time = 94.013s\n",
            "Epoch: 189, Train loss: 0.027, Val loss: 0.119, Epoch time = 93.311s\n",
            "Epoch: 190, Train loss: 0.026, Val loss: 0.118, Epoch time = 94.237s\n",
            "Epoch: 191, Train loss: 0.027, Val loss: 0.121, Epoch time = 93.986s\n",
            "Epoch: 192, Train loss: 0.026, Val loss: 0.124, Epoch time = 94.140s\n",
            "Epoch: 193, Train loss: 0.026, Val loss: 0.119, Epoch time = 94.123s\n",
            "Epoch: 194, Train loss: 0.026, Val loss: 0.121, Epoch time = 94.489s\n",
            "Epoch: 195, Train loss: 0.026, Val loss: 0.118, Epoch time = 94.457s\n",
            "Epoch: 196, Train loss: 0.025, Val loss: 0.122, Epoch time = 93.970s\n",
            "Epoch: 197, Train loss: 0.025, Val loss: 0.120, Epoch time = 94.067s\n",
            "Epoch: 198, Train loss: 0.025, Val loss: 0.125, Epoch time = 94.757s\n",
            "Epoch: 199, Train loss: 0.025, Val loss: 0.121, Epoch time = 94.804s\n",
            "Epoch: 200, Train loss: 0.025, Val loss: 0.121, Epoch time = 94.528s\n",
            "Epoch: 201, Train loss: 0.025, Val loss: 0.120, Epoch time = 93.951s\n",
            "Epoch: 202, Train loss: 0.025, Val loss: 0.122, Epoch time = 93.763s\n",
            "Epoch: 203, Train loss: 0.024, Val loss: 0.125, Epoch time = 93.874s\n",
            "Epoch: 204, Train loss: 0.024, Val loss: 0.120, Epoch time = 94.431s\n",
            "Epoch: 205, Train loss: 0.024, Val loss: 0.122, Epoch time = 94.471s\n",
            "Epoch: 206, Train loss: 0.024, Val loss: 0.120, Epoch time = 94.521s\n",
            "Epoch: 207, Train loss: 0.024, Val loss: 0.124, Epoch time = 94.342s\n",
            "Epoch: 208, Train loss: 0.024, Val loss: 0.127, Epoch time = 93.792s\n",
            "Epoch: 209, Train loss: 0.024, Val loss: 0.124, Epoch time = 94.561s\n",
            "Epoch: 210, Train loss: 0.024, Val loss: 0.124, Epoch time = 94.156s\n",
            "Epoch: 211, Train loss: 0.023, Val loss: 0.123, Epoch time = 93.873s\n",
            "Epoch: 212, Train loss: 0.023, Val loss: 0.125, Epoch time = 94.261s\n",
            "Epoch: 213, Train loss: 0.023, Val loss: 0.122, Epoch time = 94.187s\n",
            "Epoch: 214, Train loss: 0.023, Val loss: 0.126, Epoch time = 94.338s\n",
            "Epoch: 215, Train loss: 0.023, Val loss: 0.131, Epoch time = 94.333s\n",
            "Epoch: 216, Train loss: 0.023, Val loss: 0.127, Epoch time = 93.709s\n",
            "Epoch: 217, Train loss: 0.022, Val loss: 0.127, Epoch time = 94.217s\n",
            "Epoch: 218, Train loss: 0.023, Val loss: 0.124, Epoch time = 94.762s\n",
            "Epoch: 219, Train loss: 0.022, Val loss: 0.123, Epoch time = 94.665s\n",
            "Epoch: 220, Train loss: 0.022, Val loss: 0.123, Epoch time = 94.477s\n",
            "Epoch: 221, Train loss: 0.022, Val loss: 0.125, Epoch time = 94.326s\n",
            "Epoch: 222, Train loss: 0.022, Val loss: 0.128, Epoch time = 94.275s\n",
            "Epoch: 223, Train loss: 0.022, Val loss: 0.125, Epoch time = 94.603s\n",
            "Epoch: 224, Train loss: 0.022, Val loss: 0.125, Epoch time = 94.483s\n",
            "Epoch: 225, Train loss: 0.022, Val loss: 0.125, Epoch time = 94.434s\n",
            "Epoch: 226, Train loss: 0.022, Val loss: 0.126, Epoch time = 94.147s\n",
            "Epoch: 227, Train loss: 0.022, Val loss: 0.125, Epoch time = 94.452s\n",
            "Epoch: 228, Train loss: 0.021, Val loss: 0.127, Epoch time = 94.002s\n",
            "Epoch: 229, Train loss: 0.021, Val loss: 0.128, Epoch time = 93.686s\n",
            "Epoch: 230, Train loss: 0.021, Val loss: 0.127, Epoch time = 94.447s\n",
            "Epoch: 231, Train loss: 0.021, Val loss: 0.126, Epoch time = 94.197s\n",
            "Epoch: 232, Train loss: 0.021, Val loss: 0.125, Epoch time = 93.859s\n",
            "Epoch: 233, Train loss: 0.021, Val loss: 0.126, Epoch time = 93.779s\n",
            "Epoch: 234, Train loss: 0.021, Val loss: 0.126, Epoch time = 94.049s\n",
            "Epoch: 235, Train loss: 0.020, Val loss: 0.128, Epoch time = 94.180s\n",
            "Epoch: 236, Train loss: 0.020, Val loss: 0.128, Epoch time = 94.081s\n",
            "Epoch: 237, Train loss: 0.020, Val loss: 0.127, Epoch time = 94.085s\n",
            "Epoch: 238, Train loss: 0.020, Val loss: 0.128, Epoch time = 93.757s\n",
            "Epoch: 239, Train loss: 0.020, Val loss: 0.130, Epoch time = 94.404s\n",
            "Epoch: 240, Train loss: 0.020, Val loss: 0.127, Epoch time = 93.681s\n",
            "Epoch: 241, Train loss: 0.020, Val loss: 0.131, Epoch time = 94.352s\n",
            "Epoch: 242, Train loss: 0.020, Val loss: 0.129, Epoch time = 94.241s\n",
            "Epoch: 243, Train loss: 0.020, Val loss: 0.128, Epoch time = 93.743s\n",
            "Epoch: 244, Train loss: 0.020, Val loss: 0.127, Epoch time = 93.538s\n",
            "Epoch: 245, Train loss: 0.020, Val loss: 0.129, Epoch time = 94.649s\n",
            "Epoch: 246, Train loss: 0.020, Val loss: 0.134, Epoch time = 94.688s\n",
            "Epoch: 247, Train loss: 0.019, Val loss: 0.127, Epoch time = 94.254s\n",
            "Epoch: 248, Train loss: 0.019, Val loss: 0.127, Epoch time = 94.458s\n",
            "Epoch: 249, Train loss: 0.019, Val loss: 0.132, Epoch time = 94.579s\n",
            "Epoch: 250, Train loss: 0.019, Val loss: 0.127, Epoch time = 94.591s\n",
            "Epoch: 251, Train loss: 0.019, Val loss: 0.130, Epoch time = 93.531s\n",
            "Epoch: 252, Train loss: 0.019, Val loss: 0.132, Epoch time = 93.950s\n",
            "Epoch: 253, Train loss: 0.019, Val loss: 0.128, Epoch time = 94.153s\n",
            "Epoch: 254, Train loss: 0.019, Val loss: 0.133, Epoch time = 93.451s\n",
            "Epoch: 255, Train loss: 0.019, Val loss: 0.130, Epoch time = 94.568s\n",
            "Epoch: 256, Train loss: 0.018, Val loss: 0.131, Epoch time = 93.921s\n",
            "Epoch: 257, Train loss: 0.018, Val loss: 0.128, Epoch time = 93.721s\n",
            "Epoch: 258, Train loss: 0.018, Val loss: 0.131, Epoch time = 93.709s\n",
            "Epoch: 259, Train loss: 0.018, Val loss: 0.129, Epoch time = 93.665s\n",
            "Epoch: 260, Train loss: 0.018, Val loss: 0.132, Epoch time = 93.961s\n",
            "Epoch: 261, Train loss: 0.018, Val loss: 0.130, Epoch time = 93.633s\n",
            "Epoch: 262, Train loss: 0.018, Val loss: 0.129, Epoch time = 93.953s\n",
            "Epoch: 263, Train loss: 0.018, Val loss: 0.132, Epoch time = 94.761s\n",
            "Epoch: 264, Train loss: 0.018, Val loss: 0.133, Epoch time = 93.714s\n",
            "Epoch: 265, Train loss: 0.018, Val loss: 0.130, Epoch time = 95.041s\n",
            "Epoch: 266, Train loss: 0.017, Val loss: 0.132, Epoch time = 94.136s\n",
            "Epoch: 267, Train loss: 0.018, Val loss: 0.134, Epoch time = 94.117s\n",
            "Epoch: 268, Train loss: 0.018, Val loss: 0.131, Epoch time = 93.790s\n",
            "Epoch: 269, Train loss: 0.018, Val loss: 0.132, Epoch time = 93.927s\n",
            "Epoch: 270, Train loss: 0.018, Val loss: 0.132, Epoch time = 94.182s\n",
            "Epoch: 271, Train loss: 0.017, Val loss: 0.130, Epoch time = 94.313s\n",
            "Epoch: 272, Train loss: 0.017, Val loss: 0.140, Epoch time = 94.230s\n",
            "Epoch: 273, Train loss: 0.017, Val loss: 0.135, Epoch time = 94.113s\n",
            "Epoch: 274, Train loss: 0.017, Val loss: 0.132, Epoch time = 93.786s\n",
            "Epoch: 275, Train loss: 0.017, Val loss: 0.133, Epoch time = 93.715s\n",
            "Epoch: 276, Train loss: 0.017, Val loss: 0.130, Epoch time = 93.821s\n",
            "Epoch: 277, Train loss: 0.017, Val loss: 0.133, Epoch time = 93.969s\n",
            "Epoch: 278, Train loss: 0.017, Val loss: 0.135, Epoch time = 93.816s\n",
            "Epoch: 279, Train loss: 0.017, Val loss: 0.138, Epoch time = 93.608s\n",
            "Epoch: 280, Train loss: 0.017, Val loss: 0.133, Epoch time = 94.392s\n",
            "Epoch: 281, Train loss: 0.017, Val loss: 0.132, Epoch time = 93.822s\n",
            "Epoch: 282, Train loss: 0.017, Val loss: 0.132, Epoch time = 94.006s\n",
            "Epoch: 283, Train loss: 0.016, Val loss: 0.134, Epoch time = 94.126s\n",
            "Epoch: 284, Train loss: 0.016, Val loss: 0.140, Epoch time = 93.776s\n",
            "Epoch: 285, Train loss: 0.016, Val loss: 0.139, Epoch time = 93.547s\n",
            "Epoch: 286, Train loss: 0.016, Val loss: 0.133, Epoch time = 94.129s\n",
            "Epoch: 287, Train loss: 0.016, Val loss: 0.135, Epoch time = 93.709s\n",
            "Epoch: 288, Train loss: 0.016, Val loss: 0.136, Epoch time = 93.906s\n",
            "Epoch: 289, Train loss: 0.016, Val loss: 0.135, Epoch time = 94.309s\n",
            "Epoch: 290, Train loss: 0.016, Val loss: 0.131, Epoch time = 94.377s\n",
            "Epoch: 291, Train loss: 0.016, Val loss: 0.134, Epoch time = 94.155s\n",
            "Epoch: 292, Train loss: 0.016, Val loss: 0.141, Epoch time = 94.852s\n",
            "Epoch: 293, Train loss: 0.016, Val loss: 0.136, Epoch time = 93.731s\n",
            "Epoch: 294, Train loss: 0.016, Val loss: 0.137, Epoch time = 94.080s\n",
            "Epoch: 295, Train loss: 0.016, Val loss: 0.134, Epoch time = 94.367s\n",
            "Epoch: 296, Train loss: 0.016, Val loss: 0.136, Epoch time = 93.984s\n",
            "Epoch: 297, Train loss: 0.016, Val loss: 0.135, Epoch time = 94.284s\n",
            "Epoch: 298, Train loss: 0.015, Val loss: 0.138, Epoch time = 93.892s\n",
            "Epoch: 299, Train loss: 0.015, Val loss: 0.140, Epoch time = 93.368s\n",
            "Epoch: 300, Train loss: 0.015, Val loss: 0.138, Epoch time = 94.057s\n",
            "Epoch: 301, Train loss: 0.015, Val loss: 0.144, Epoch time = 94.451s\n",
            "Epoch: 302, Train loss: 0.015, Val loss: 0.140, Epoch time = 93.984s\n",
            "Epoch: 303, Train loss: 0.015, Val loss: 0.136, Epoch time = 94.122s\n",
            "Epoch: 304, Train loss: 0.015, Val loss: 0.138, Epoch time = 94.075s\n",
            "Epoch: 305, Train loss: 0.015, Val loss: 0.137, Epoch time = 93.862s\n",
            "Epoch: 306, Train loss: 0.015, Val loss: 0.134, Epoch time = 94.864s\n",
            "Epoch: 307, Train loss: 0.015, Val loss: 0.137, Epoch time = 94.137s\n",
            "Epoch: 308, Train loss: 0.015, Val loss: 0.142, Epoch time = 94.333s\n",
            "Epoch: 309, Train loss: 0.015, Val loss: 0.137, Epoch time = 93.609s\n",
            "Epoch: 310, Train loss: 0.015, Val loss: 0.138, Epoch time = 94.163s\n",
            "Epoch: 311, Train loss: 0.015, Val loss: 0.148, Epoch time = 94.140s\n",
            "Epoch: 312, Train loss: 0.015, Val loss: 0.137, Epoch time = 94.303s\n",
            "Epoch: 313, Train loss: 0.015, Val loss: 0.138, Epoch time = 93.766s\n",
            "Epoch: 314, Train loss: 0.015, Val loss: 0.137, Epoch time = 93.770s\n",
            "Epoch: 315, Train loss: 0.015, Val loss: 0.137, Epoch time = 94.741s\n",
            "Epoch: 316, Train loss: 0.014, Val loss: 0.140, Epoch time = 93.981s\n",
            "Epoch: 317, Train loss: 0.015, Val loss: 0.140, Epoch time = 94.305s\n",
            "Epoch: 318, Train loss: 0.015, Val loss: 0.138, Epoch time = 94.981s\n",
            "Epoch: 319, Train loss: 0.014, Val loss: 0.140, Epoch time = 93.302s\n",
            "Epoch: 320, Train loss: 0.014, Val loss: 0.138, Epoch time = 94.306s\n",
            "Epoch: 321, Train loss: 0.014, Val loss: 0.139, Epoch time = 93.764s\n",
            "Epoch: 322, Train loss: 0.014, Val loss: 0.140, Epoch time = 94.477s\n",
            "Epoch: 323, Train loss: 0.014, Val loss: 0.138, Epoch time = 93.807s\n",
            "Epoch: 324, Train loss: 0.014, Val loss: 0.146, Epoch time = 94.203s\n",
            "Epoch: 325, Train loss: 0.014, Val loss: 0.139, Epoch time = 94.700s\n",
            "Epoch: 326, Train loss: 0.014, Val loss: 0.139, Epoch time = 94.232s\n",
            "Epoch: 327, Train loss: 0.014, Val loss: 0.141, Epoch time = 93.917s\n",
            "Epoch: 328, Train loss: 0.014, Val loss: 0.140, Epoch time = 94.122s\n",
            "Epoch: 329, Train loss: 0.014, Val loss: 0.143, Epoch time = 94.272s\n",
            "Epoch: 330, Train loss: 0.014, Val loss: 0.138, Epoch time = 94.070s\n",
            "Epoch: 331, Train loss: 0.014, Val loss: 0.140, Epoch time = 93.972s\n",
            "Epoch: 332, Train loss: 0.014, Val loss: 0.138, Epoch time = 94.156s\n",
            "Epoch: 333, Train loss: 0.014, Val loss: 0.138, Epoch time = 94.116s\n",
            "Epoch: 334, Train loss: 0.014, Val loss: 0.139, Epoch time = 94.358s\n",
            "Epoch: 335, Train loss: 0.013, Val loss: 0.141, Epoch time = 94.273s\n",
            "Epoch: 336, Train loss: 0.014, Val loss: 0.139, Epoch time = 93.791s\n",
            "Epoch: 337, Train loss: 0.014, Val loss: 0.140, Epoch time = 93.501s\n",
            "Epoch: 338, Train loss: 0.014, Val loss: 0.142, Epoch time = 93.830s\n",
            "Epoch: 339, Train loss: 0.014, Val loss: 0.139, Epoch time = 94.530s\n",
            "Epoch: 340, Train loss: 0.014, Val loss: 0.138, Epoch time = 93.903s\n",
            "Epoch: 341, Train loss: 0.013, Val loss: 0.151, Epoch time = 94.087s\n",
            "Epoch: 342, Train loss: 0.014, Val loss: 0.140, Epoch time = 94.053s\n",
            "Epoch: 343, Train loss: 0.013, Val loss: 0.141, Epoch time = 93.607s\n",
            "Epoch: 344, Train loss: 0.013, Val loss: 0.142, Epoch time = 94.561s\n",
            "Epoch: 345, Train loss: 0.013, Val loss: 0.140, Epoch time = 93.986s\n",
            "Epoch: 346, Train loss: 0.013, Val loss: 0.139, Epoch time = 94.316s\n",
            "Epoch: 347, Train loss: 0.013, Val loss: 0.141, Epoch time = 94.309s\n",
            "Epoch: 348, Train loss: 0.013, Val loss: 0.140, Epoch time = 93.795s\n",
            "Epoch: 349, Train loss: 0.013, Val loss: 0.140, Epoch time = 93.650s\n",
            "Epoch: 350, Train loss: 0.013, Val loss: 0.142, Epoch time = 94.382s\n",
            "Epoch: 351, Train loss: 0.013, Val loss: 0.139, Epoch time = 94.335s\n",
            "Epoch: 352, Train loss: 0.013, Val loss: 0.145, Epoch time = 94.222s\n",
            "Epoch: 353, Train loss: 0.013, Val loss: 0.140, Epoch time = 94.450s\n",
            "Epoch: 354, Train loss: 0.013, Val loss: 0.140, Epoch time = 94.287s\n",
            "Epoch: 355, Train loss: 0.013, Val loss: 0.141, Epoch time = 93.938s\n",
            "Epoch: 356, Train loss: 0.013, Val loss: 0.141, Epoch time = 93.729s\n",
            "Epoch: 357, Train loss: 0.013, Val loss: 0.148, Epoch time = 93.893s\n",
            "Epoch: 358, Train loss: 0.013, Val loss: 0.139, Epoch time = 94.453s\n",
            "Epoch: 359, Train loss: 0.013, Val loss: 0.145, Epoch time = 94.275s\n",
            "Epoch: 360, Train loss: 0.013, Val loss: 0.139, Epoch time = 94.667s\n",
            "Epoch: 361, Train loss: 0.013, Val loss: 0.141, Epoch time = 94.050s\n",
            "Epoch: 362, Train loss: 0.013, Val loss: 0.143, Epoch time = 94.186s\n",
            "Epoch: 363, Train loss: 0.013, Val loss: 0.142, Epoch time = 94.018s\n",
            "Epoch: 364, Train loss: 0.013, Val loss: 0.141, Epoch time = 93.959s\n",
            "Epoch: 365, Train loss: 0.012, Val loss: 0.145, Epoch time = 93.306s\n",
            "Epoch: 366, Train loss: 0.012, Val loss: 0.139, Epoch time = 93.730s\n",
            "Epoch: 367, Train loss: 0.012, Val loss: 0.145, Epoch time = 93.751s\n",
            "Epoch: 368, Train loss: 0.013, Val loss: 0.141, Epoch time = 93.995s\n",
            "Epoch: 369, Train loss: 0.012, Val loss: 0.141, Epoch time = 94.234s\n",
            "Epoch: 370, Train loss: 0.012, Val loss: 0.141, Epoch time = 93.304s\n",
            "Epoch: 371, Train loss: 0.013, Val loss: 0.140, Epoch time = 94.121s\n",
            "Epoch: 372, Train loss: 0.012, Val loss: 0.141, Epoch time = 94.062s\n",
            "Epoch: 373, Train loss: 0.012, Val loss: 0.142, Epoch time = 93.767s\n",
            "Epoch: 374, Train loss: 0.012, Val loss: 0.146, Epoch time = 93.970s\n",
            "Epoch: 375, Train loss: 0.012, Val loss: 0.139, Epoch time = 93.836s\n",
            "Epoch: 376, Train loss: 0.012, Val loss: 0.140, Epoch time = 94.059s\n",
            "Epoch: 377, Train loss: 0.012, Val loss: 0.142, Epoch time = 93.921s\n",
            "Epoch: 378, Train loss: 0.012, Val loss: 0.147, Epoch time = 93.943s\n",
            "Epoch: 379, Train loss: 0.012, Val loss: 0.143, Epoch time = 94.603s\n",
            "Epoch: 380, Train loss: 0.012, Val loss: 0.142, Epoch time = 94.123s\n",
            "Epoch: 381, Train loss: 0.012, Val loss: 0.143, Epoch time = 93.861s\n",
            "Epoch: 382, Train loss: 0.012, Val loss: 0.146, Epoch time = 93.654s\n",
            "Epoch: 383, Train loss: 0.012, Val loss: 0.143, Epoch time = 94.399s\n",
            "Epoch: 384, Train loss: 0.012, Val loss: 0.144, Epoch time = 93.971s\n",
            "Epoch: 385, Train loss: 0.012, Val loss: 0.142, Epoch time = 94.515s\n",
            "Epoch: 386, Train loss: 0.012, Val loss: 0.144, Epoch time = 94.622s\n",
            "Epoch: 387, Train loss: 0.012, Val loss: 0.143, Epoch time = 93.894s\n",
            "Epoch: 388, Train loss: 0.012, Val loss: 0.144, Epoch time = 94.124s\n",
            "Epoch: 389, Train loss: 0.012, Val loss: 0.146, Epoch time = 93.615s\n",
            "Epoch: 390, Train loss: 0.012, Val loss: 0.143, Epoch time = 93.762s\n",
            "Epoch: 391, Train loss: 0.012, Val loss: 0.149, Epoch time = 94.167s\n",
            "Epoch: 392, Train loss: 0.012, Val loss: 0.147, Epoch time = 94.211s\n",
            "Epoch: 393, Train loss: 0.012, Val loss: 0.147, Epoch time = 94.084s\n",
            "Epoch: 394, Train loss: 0.012, Val loss: 0.146, Epoch time = 94.391s\n",
            "Epoch: 395, Train loss: 0.011, Val loss: 0.143, Epoch time = 93.363s\n",
            "Epoch: 396, Train loss: 0.011, Val loss: 0.147, Epoch time = 93.821s\n",
            "Epoch: 397, Train loss: 0.011, Val loss: 0.143, Epoch time = 94.336s\n",
            "Epoch: 398, Train loss: 0.011, Val loss: 0.145, Epoch time = 93.525s\n",
            "Epoch: 399, Train loss: 0.011, Val loss: 0.145, Epoch time = 93.782s\n",
            "Epoch: 400, Train loss: 0.011, Val loss: 0.150, Epoch time = 94.011s\n",
            "Epoch: 401, Train loss: 0.011, Val loss: 0.153, Epoch time = 94.114s\n",
            "Epoch: 402, Train loss: 0.011, Val loss: 0.147, Epoch time = 93.569s\n",
            "Epoch: 403, Train loss: 0.011, Val loss: 0.144, Epoch time = 93.489s\n",
            "Epoch: 404, Train loss: 0.011, Val loss: 0.144, Epoch time = 94.003s\n",
            "Epoch: 405, Train loss: 0.011, Val loss: 0.145, Epoch time = 94.190s\n",
            "Epoch: 406, Train loss: 0.011, Val loss: 0.144, Epoch time = 93.770s\n",
            "Epoch: 407, Train loss: 0.011, Val loss: 0.143, Epoch time = 93.585s\n",
            "Epoch: 408, Train loss: 0.011, Val loss: 0.146, Epoch time = 94.101s\n",
            "Epoch: 409, Train loss: 0.011, Val loss: 0.148, Epoch time = 94.493s\n",
            "Epoch: 410, Train loss: 0.011, Val loss: 0.147, Epoch time = 93.813s\n",
            "Epoch: 411, Train loss: 0.011, Val loss: 0.143, Epoch time = 93.535s\n",
            "Epoch: 412, Train loss: 0.011, Val loss: 0.146, Epoch time = 93.922s\n",
            "Epoch: 413, Train loss: 0.011, Val loss: 0.144, Epoch time = 93.989s\n",
            "Epoch: 414, Train loss: 0.011, Val loss: 0.146, Epoch time = 93.521s\n",
            "Epoch: 415, Train loss: 0.011, Val loss: 0.146, Epoch time = 94.517s\n",
            "Epoch: 416, Train loss: 0.011, Val loss: 0.146, Epoch time = 94.103s\n",
            "Epoch: 417, Train loss: 0.011, Val loss: 0.148, Epoch time = 94.438s\n",
            "Epoch: 418, Train loss: 0.011, Val loss: 0.145, Epoch time = 94.818s\n",
            "Epoch: 419, Train loss: 0.011, Val loss: 0.143, Epoch time = 93.973s\n",
            "Epoch: 420, Train loss: 0.011, Val loss: 0.144, Epoch time = 94.689s\n",
            "Epoch: 421, Train loss: 0.011, Val loss: 0.147, Epoch time = 94.474s\n",
            "Epoch: 422, Train loss: 0.011, Val loss: 0.146, Epoch time = 94.518s\n",
            "Epoch: 423, Train loss: 0.011, Val loss: 0.145, Epoch time = 94.107s\n",
            "Epoch: 424, Train loss: 0.011, Val loss: 0.146, Epoch time = 93.747s\n",
            "Epoch: 425, Train loss: 0.011, Val loss: 0.147, Epoch time = 93.661s\n",
            "Epoch: 426, Train loss: 0.011, Val loss: 0.147, Epoch time = 93.804s\n",
            "Epoch: 427, Train loss: 0.011, Val loss: 0.145, Epoch time = 93.728s\n",
            "Epoch: 428, Train loss: 0.011, Val loss: 0.145, Epoch time = 93.964s\n",
            "Epoch: 429, Train loss: 0.011, Val loss: 0.146, Epoch time = 94.343s\n",
            "Epoch: 430, Train loss: 0.010, Val loss: 0.148, Epoch time = 93.680s\n",
            "Epoch: 431, Train loss: 0.011, Val loss: 0.142, Epoch time = 94.014s\n",
            "Epoch: 432, Train loss: 0.010, Val loss: 0.143, Epoch time = 94.381s\n",
            "Epoch: 433, Train loss: 0.011, Val loss: 0.147, Epoch time = 93.528s\n",
            "Epoch: 434, Train loss: 0.011, Val loss: 0.145, Epoch time = 94.489s\n",
            "Epoch: 435, Train loss: 0.011, Val loss: 0.144, Epoch time = 93.789s\n",
            "Epoch: 436, Train loss: 0.010, Val loss: 0.146, Epoch time = 93.761s\n",
            "Epoch: 437, Train loss: 0.010, Val loss: 0.145, Epoch time = 93.839s\n",
            "Epoch: 438, Train loss: 0.010, Val loss: 0.147, Epoch time = 94.741s\n",
            "Epoch: 439, Train loss: 0.010, Val loss: 0.148, Epoch time = 93.598s\n",
            "Epoch: 440, Train loss: 0.010, Val loss: 0.142, Epoch time = 94.593s\n",
            "Epoch: 441, Train loss: 0.010, Val loss: 0.150, Epoch time = 95.060s\n",
            "Epoch: 442, Train loss: 0.010, Val loss: 0.146, Epoch time = 95.122s\n",
            "Epoch: 443, Train loss: 0.010, Val loss: 0.147, Epoch time = 93.800s\n",
            "Epoch: 444, Train loss: 0.010, Val loss: 0.146, Epoch time = 94.214s\n",
            "Epoch: 445, Train loss: 0.010, Val loss: 0.146, Epoch time = 93.937s\n",
            "Epoch: 446, Train loss: 0.010, Val loss: 0.151, Epoch time = 94.102s\n",
            "Epoch: 447, Train loss: 0.010, Val loss: 0.145, Epoch time = 93.802s\n",
            "Epoch: 448, Train loss: 0.010, Val loss: 0.146, Epoch time = 94.429s\n",
            "Epoch: 449, Train loss: 0.010, Val loss: 0.150, Epoch time = 94.393s\n",
            "Epoch: 450, Train loss: 0.010, Val loss: 0.149, Epoch time = 93.725s\n",
            "Epoch: 451, Train loss: 0.010, Val loss: 0.146, Epoch time = 93.643s\n",
            "Epoch: 452, Train loss: 0.010, Val loss: 0.145, Epoch time = 93.701s\n",
            "Epoch: 453, Train loss: 0.010, Val loss: 0.147, Epoch time = 94.086s\n",
            "Epoch: 454, Train loss: 0.010, Val loss: 0.148, Epoch time = 93.846s\n",
            "Epoch: 455, Train loss: 0.010, Val loss: 0.149, Epoch time = 94.246s\n",
            "Epoch: 456, Train loss: 0.010, Val loss: 0.146, Epoch time = 94.067s\n",
            "Epoch: 457, Train loss: 0.010, Val loss: 0.152, Epoch time = 94.393s\n",
            "Epoch: 458, Train loss: 0.010, Val loss: 0.148, Epoch time = 94.191s\n",
            "Epoch: 459, Train loss: 0.010, Val loss: 0.146, Epoch time = 93.565s\n",
            "Epoch: 460, Train loss: 0.010, Val loss: 0.148, Epoch time = 93.342s\n",
            "Epoch: 461, Train loss: 0.010, Val loss: 0.149, Epoch time = 93.857s\n",
            "Epoch: 462, Train loss: 0.010, Val loss: 0.148, Epoch time = 94.451s\n",
            "Epoch: 463, Train loss: 0.010, Val loss: 0.149, Epoch time = 94.351s\n",
            "Epoch: 464, Train loss: 0.010, Val loss: 0.148, Epoch time = 94.238s\n",
            "Epoch: 465, Train loss: 0.010, Val loss: 0.149, Epoch time = 93.632s\n",
            "Epoch: 466, Train loss: 0.010, Val loss: 0.150, Epoch time = 93.984s\n",
            "Epoch: 467, Train loss: 0.010, Val loss: 0.149, Epoch time = 94.216s\n",
            "Epoch: 468, Train loss: 0.010, Val loss: 0.149, Epoch time = 94.628s\n",
            "Epoch: 469, Train loss: 0.010, Val loss: 0.145, Epoch time = 93.595s\n",
            "Epoch: 470, Train loss: 0.010, Val loss: 0.150, Epoch time = 94.111s\n",
            "Epoch: 471, Train loss: 0.010, Val loss: 0.148, Epoch time = 94.295s\n",
            "Epoch: 472, Train loss: 0.010, Val loss: 0.144, Epoch time = 93.851s\n",
            "Epoch: 473, Train loss: 0.010, Val loss: 0.150, Epoch time = 93.817s\n",
            "Epoch: 474, Train loss: 0.010, Val loss: 0.151, Epoch time = 93.486s\n",
            "Epoch: 475, Train loss: 0.010, Val loss: 0.148, Epoch time = 94.180s\n",
            "Epoch: 476, Train loss: 0.010, Val loss: 0.150, Epoch time = 93.994s\n",
            "Epoch: 477, Train loss: 0.010, Val loss: 0.151, Epoch time = 94.516s\n",
            "Epoch: 478, Train loss: 0.010, Val loss: 0.148, Epoch time = 94.577s\n",
            "Epoch: 479, Train loss: 0.010, Val loss: 0.158, Epoch time = 94.808s\n",
            "Epoch: 480, Train loss: 0.009, Val loss: 0.149, Epoch time = 93.996s\n",
            "Epoch: 481, Train loss: 0.010, Val loss: 0.147, Epoch time = 93.683s\n",
            "Epoch: 482, Train loss: 0.010, Val loss: 0.151, Epoch time = 93.833s\n",
            "Epoch: 483, Train loss: 0.009, Val loss: 0.151, Epoch time = 94.327s\n",
            "Epoch: 484, Train loss: 0.009, Val loss: 0.151, Epoch time = 94.297s\n",
            "Epoch: 485, Train loss: 0.009, Val loss: 0.150, Epoch time = 94.293s\n",
            "Epoch: 486, Train loss: 0.009, Val loss: 0.152, Epoch time = 94.226s\n",
            "Epoch: 487, Train loss: 0.009, Val loss: 0.150, Epoch time = 94.516s\n",
            "Epoch: 488, Train loss: 0.009, Val loss: 0.150, Epoch time = 93.813s\n",
            "Epoch: 489, Train loss: 0.009, Val loss: 0.150, Epoch time = 93.883s\n",
            "Epoch: 490, Train loss: 0.009, Val loss: 0.149, Epoch time = 94.699s\n",
            "Epoch: 491, Train loss: 0.009, Val loss: 0.150, Epoch time = 94.542s\n",
            "Epoch: 492, Train loss: 0.009, Val loss: 0.149, Epoch time = 94.086s\n",
            "Epoch: 493, Train loss: 0.009, Val loss: 0.148, Epoch time = 94.669s\n",
            "Epoch: 494, Train loss: 0.009, Val loss: 0.146, Epoch time = 93.933s\n",
            "Epoch: 495, Train loss: 0.009, Val loss: 0.151, Epoch time = 94.618s\n",
            "Epoch: 496, Train loss: 0.009, Val loss: 0.149, Epoch time = 93.830s\n",
            "Epoch: 497, Train loss: 0.009, Val loss: 0.152, Epoch time = 93.989s\n",
            "Epoch: 498, Train loss: 0.009, Val loss: 0.152, Epoch time = 94.502s\n",
            "Epoch: 499, Train loss: 0.009, Val loss: 0.149, Epoch time = 93.925s\n",
            "Epoch: 500, Train loss: 0.009, Val loss: 0.150, Epoch time = 93.773s\n"
          ],
          "name": "stdout"
        }
      ]
    },
    {
      "cell_type": "markdown",
      "metadata": {
        "id": "BR18XFXdTnG5"
      },
      "source": [
        "# Save model"
      ],
      "id": "BR18XFXdTnG5"
    },
    {
      "cell_type": "code",
      "metadata": {
        "id": "G6LO44AGTiGC"
      },
      "source": [
        "#https://pytorch.org/tutorials/beginner/basics/saveloadrun_tutorial.html"
      ],
      "id": "G6LO44AGTiGC",
      "execution_count": 17,
      "outputs": []
    },
    {
      "cell_type": "code",
      "metadata": {
        "id": "Dp04s1QPSggC"
      },
      "source": [
        "save_name=\"model_tranformer_epochs_\"+str(NUM_EPOCHS)+\".pth\"\n",
        "torch.save(transformer,save_name)"
      ],
      "id": "Dp04s1QPSggC",
      "execution_count": 18,
      "outputs": []
    },
    {
      "cell_type": "code",
      "metadata": {
        "colab": {
          "base_uri": "https://localhost:8080/",
          "height": 17
        },
        "id": "G727aVpIfFNd",
        "outputId": "97576316-0aa9-414e-845a-500d1ab08f5e"
      },
      "source": [
        "from google.colab import files\n",
        "files.download(save_name)"
      ],
      "id": "G727aVpIfFNd",
      "execution_count": 19,
      "outputs": [
        {
          "output_type": "display_data",
          "data": {
            "application/javascript": [
              "\n",
              "    async function download(id, filename, size) {\n",
              "      if (!google.colab.kernel.accessAllowed) {\n",
              "        return;\n",
              "      }\n",
              "      const div = document.createElement('div');\n",
              "      const label = document.createElement('label');\n",
              "      label.textContent = `Downloading \"${filename}\": `;\n",
              "      div.appendChild(label);\n",
              "      const progress = document.createElement('progress');\n",
              "      progress.max = size;\n",
              "      div.appendChild(progress);\n",
              "      document.body.appendChild(div);\n",
              "\n",
              "      const buffers = [];\n",
              "      let downloaded = 0;\n",
              "\n",
              "      const channel = await google.colab.kernel.comms.open(id);\n",
              "      // Send a message to notify the kernel that we're ready.\n",
              "      channel.send({})\n",
              "\n",
              "      for await (const message of channel.messages) {\n",
              "        // Send a message to notify the kernel that we're ready.\n",
              "        channel.send({})\n",
              "        if (message.buffers) {\n",
              "          for (const buffer of message.buffers) {\n",
              "            buffers.push(buffer);\n",
              "            downloaded += buffer.byteLength;\n",
              "            progress.value = downloaded;\n",
              "          }\n",
              "        }\n",
              "      }\n",
              "      const blob = new Blob(buffers, {type: 'application/binary'});\n",
              "      const a = document.createElement('a');\n",
              "      a.href = window.URL.createObjectURL(blob);\n",
              "      a.download = filename;\n",
              "      div.appendChild(a);\n",
              "      a.click();\n",
              "      div.remove();\n",
              "    }\n",
              "  "
            ],
            "text/plain": [
              "<IPython.core.display.Javascript object>"
            ]
          },
          "metadata": {
            "tags": []
          }
        },
        {
          "output_type": "display_data",
          "data": {
            "application/javascript": [
              "download(\"download_e2880dac-671f-49f9-a3da-fd6616317211\", \"model_tranformer_epochs_500.pth\", 61044038)"
            ],
            "text/plain": [
              "<IPython.core.display.Javascript object>"
            ]
          },
          "metadata": {
            "tags": []
          }
        }
      ]
    },
    {
      "cell_type": "markdown",
      "metadata": {
        "id": "CG4a4hNDDzie"
      },
      "source": [
        "save file .pt"
      ],
      "id": "CG4a4hNDDzie"
    },
    {
      "cell_type": "code",
      "metadata": {
        "id": "LAInYkolDgXE"
      },
      "source": [
        "save_name_pt=\"model_tranformer_epochs_\"+str(NUM_EPOCHS)+\".pt\"\n",
        "torch.save(transformer,save_name_pt)"
      ],
      "id": "LAInYkolDgXE",
      "execution_count": 35,
      "outputs": []
    },
    {
      "cell_type": "code",
      "metadata": {
        "colab": {
          "base_uri": "https://localhost:8080/",
          "height": 17
        },
        "id": "Wn2T5UBGDkBe",
        "outputId": "7cd49be8-cbc4-49ed-bf3b-647f1c625ca1"
      },
      "source": [
        "files.download(save_name_pt)"
      ],
      "id": "Wn2T5UBGDkBe",
      "execution_count": 36,
      "outputs": [
        {
          "output_type": "display_data",
          "data": {
            "application/javascript": [
              "\n",
              "    async function download(id, filename, size) {\n",
              "      if (!google.colab.kernel.accessAllowed) {\n",
              "        return;\n",
              "      }\n",
              "      const div = document.createElement('div');\n",
              "      const label = document.createElement('label');\n",
              "      label.textContent = `Downloading \"${filename}\": `;\n",
              "      div.appendChild(label);\n",
              "      const progress = document.createElement('progress');\n",
              "      progress.max = size;\n",
              "      div.appendChild(progress);\n",
              "      document.body.appendChild(div);\n",
              "\n",
              "      const buffers = [];\n",
              "      let downloaded = 0;\n",
              "\n",
              "      const channel = await google.colab.kernel.comms.open(id);\n",
              "      // Send a message to notify the kernel that we're ready.\n",
              "      channel.send({})\n",
              "\n",
              "      for await (const message of channel.messages) {\n",
              "        // Send a message to notify the kernel that we're ready.\n",
              "        channel.send({})\n",
              "        if (message.buffers) {\n",
              "          for (const buffer of message.buffers) {\n",
              "            buffers.push(buffer);\n",
              "            downloaded += buffer.byteLength;\n",
              "            progress.value = downloaded;\n",
              "          }\n",
              "        }\n",
              "      }\n",
              "      const blob = new Blob(buffers, {type: 'application/binary'});\n",
              "      const a = document.createElement('a');\n",
              "      a.href = window.URL.createObjectURL(blob);\n",
              "      a.download = filename;\n",
              "      div.appendChild(a);\n",
              "      a.click();\n",
              "      div.remove();\n",
              "    }\n",
              "  "
            ],
            "text/plain": [
              "<IPython.core.display.Javascript object>"
            ]
          },
          "metadata": {
            "tags": []
          }
        },
        {
          "output_type": "display_data",
          "data": {
            "application/javascript": [
              "download(\"download_bdbe6780-ddfb-4f0b-ad18-dd0eb69e24c9\", \"model_tranformer_epochs_500.pt\", 61044038)"
            ],
            "text/plain": [
              "<IPython.core.display.Javascript object>"
            ]
          },
          "metadata": {
            "tags": []
          }
        }
      ]
    },
    {
      "cell_type": "markdown",
      "metadata": {
        "id": "oo_0B6raTtaI"
      },
      "source": [
        "# Load model"
      ],
      "id": "oo_0B6raTtaI"
    },
    {
      "cell_type": "code",
      "metadata": {
        "id": "tyaO_Dw7ThW9"
      },
      "source": [
        "model = torch.load('model_tranformer_epochs_5.pth')"
      ],
      "id": "tyaO_Dw7ThW9",
      "execution_count": null,
      "outputs": []
    },
    {
      "cell_type": "markdown",
      "metadata": {
        "id": "nhokmIYyT81V"
      },
      "source": [
        "#Translation"
      ],
      "id": "nhokmIYyT81V"
    },
    {
      "cell_type": "code",
      "metadata": {
        "id": "molecular-newton"
      },
      "source": [
        "import pandas as pd\n",
        "import numpy as np"
      ],
      "id": "molecular-newton",
      "execution_count": 20,
      "outputs": []
    },
    {
      "cell_type": "code",
      "metadata": {
        "id": "supreme-sword",
        "colab": {
          "base_uri": "https://localhost:8080/",
          "height": 419
        },
        "outputId": "5d27952e-51a2-451e-ceff-27a8028b40aa"
      },
      "source": [
        "df_src=pd.read_csv(src_filepath,names=[\"input\"])\n",
        "df_tgt=pd.read_csv(tgt_filepath,names=[\"target\"])\n",
        "df = pd.concat([df_src,df_tgt], axis=1)\n",
        "df"
      ],
      "id": "supreme-sword",
      "execution_count": 21,
      "outputs": [
        {
          "output_type": "execute_result",
          "data": {
            "text/html": [
              "<div>\n",
              "<style scoped>\n",
              "    .dataframe tbody tr th:only-of-type {\n",
              "        vertical-align: middle;\n",
              "    }\n",
              "\n",
              "    .dataframe tbody tr th {\n",
              "        vertical-align: top;\n",
              "    }\n",
              "\n",
              "    .dataframe thead th {\n",
              "        text-align: right;\n",
              "    }\n",
              "</style>\n",
              "<table border=\"1\" class=\"dataframe\">\n",
              "  <thead>\n",
              "    <tr style=\"text-align: right;\">\n",
              "      <th></th>\n",
              "      <th>input</th>\n",
              "      <th>target</th>\n",
              "    </tr>\n",
              "  </thead>\n",
              "  <tbody>\n",
              "    <tr>\n",
              "      <th>0</th>\n",
              "      <td>&lt;RX_1&gt; O = C 1 C C [ C @ H ] ( C N 2 C C N ( C...</td>\n",
              "      <td>C S ( = O ) ( = O ) O C [ C @ H ] 1 C C C ( = ...</td>\n",
              "    </tr>\n",
              "    <tr>\n",
              "      <th>1</th>\n",
              "      <td>&lt;RX_6&gt; N c 1 n c 2 [ n H ] c ( C C C c 3 c s c...</td>\n",
              "      <td>C O C ( = O ) c 1 c c ( C C C c 2 c c 3 c ( = ...</td>\n",
              "    </tr>\n",
              "    <tr>\n",
              "      <th>2</th>\n",
              "      <td>&lt;RX_9&gt; C C 1 ( C ) O B ( c 2 c c c c ( N c 3 n...</td>\n",
              "      <td>C C 1 ( C ) O B ( B 2 O C ( C ) ( C ) C ( C ) ...</td>\n",
              "    </tr>\n",
              "    <tr>\n",
              "      <th>3</th>\n",
              "      <td>&lt;RX_6&gt; C C ( C ) ( C ) O C ( = O ) N C C ( = O...</td>\n",
              "      <td>C C ( C ) ( C ) O C ( = O ) N C C ( = O ) C C ...</td>\n",
              "    </tr>\n",
              "    <tr>\n",
              "      <th>4</th>\n",
              "      <td>&lt;RX_1&gt; F c 1 c c 2 c ( N C 3 C C C C C C 3 ) n...</td>\n",
              "      <td>F c 1 c c 2 c ( C l ) n c n c 2 c n 1 . N C 1 ...</td>\n",
              "    </tr>\n",
              "    <tr>\n",
              "      <th>...</th>\n",
              "      <td>...</td>\n",
              "      <td>...</td>\n",
              "    </tr>\n",
              "    <tr>\n",
              "      <th>50032</th>\n",
              "      <td>&lt;RX_1&gt; C C ( C ) ( C ) O C ( = O ) N 1 C C c 2...</td>\n",
              "      <td>C C ( C ) ( C ) O C ( = O ) N 1 C C c 2 c c c ...</td>\n",
              "    </tr>\n",
              "    <tr>\n",
              "      <th>50033</th>\n",
              "      <td>&lt;RX_2&gt; C C ( = O ) O C C N C ( = O ) O C ( C )...</td>\n",
              "      <td>C C ( = O ) C l . C C ( C ) ( C ) O C ( = O ) ...</td>\n",
              "    </tr>\n",
              "    <tr>\n",
              "      <th>50034</th>\n",
              "      <td>&lt;RX_3&gt; C c 1 c c c ( - c 2 c c n c c 2 ) c c 1...</td>\n",
              "      <td>C c 1 c c c ( B r ) c c 1 C = O . O B ( O ) c ...</td>\n",
              "    </tr>\n",
              "    <tr>\n",
              "      <th>50035</th>\n",
              "      <td>&lt;RX_1&gt; C C ( C ) ( C ) O C 1 C [ C @ @ H ] 2 C...</td>\n",
              "      <td>C C ( C ) ( C ) O . O = C C 1 = C [ C @ H ] 2 ...</td>\n",
              "    </tr>\n",
              "    <tr>\n",
              "      <th>50036</th>\n",
              "      <td>&lt;RX_4&gt; F c 1 c c ( B r ) c c 2 [ n H ] c n c 1 2</td>\n",
              "      <td>N c 1 c c ( B r ) c c ( F ) c 1 N . O = C O</td>\n",
              "    </tr>\n",
              "  </tbody>\n",
              "</table>\n",
              "<p>50037 rows × 2 columns</p>\n",
              "</div>"
            ],
            "text/plain": [
              "                                                   input                                             target\n",
              "0      <RX_1> O = C 1 C C [ C @ H ] ( C N 2 C C N ( C...  C S ( = O ) ( = O ) O C [ C @ H ] 1 C C C ( = ...\n",
              "1      <RX_6> N c 1 n c 2 [ n H ] c ( C C C c 3 c s c...  C O C ( = O ) c 1 c c ( C C C c 2 c c 3 c ( = ...\n",
              "2      <RX_9> C C 1 ( C ) O B ( c 2 c c c c ( N c 3 n...  C C 1 ( C ) O B ( B 2 O C ( C ) ( C ) C ( C ) ...\n",
              "3      <RX_6> C C ( C ) ( C ) O C ( = O ) N C C ( = O...  C C ( C ) ( C ) O C ( = O ) N C C ( = O ) C C ...\n",
              "4      <RX_1> F c 1 c c 2 c ( N C 3 C C C C C C 3 ) n...  F c 1 c c 2 c ( C l ) n c n c 2 c n 1 . N C 1 ...\n",
              "...                                                  ...                                                ...\n",
              "50032  <RX_1> C C ( C ) ( C ) O C ( = O ) N 1 C C c 2...  C C ( C ) ( C ) O C ( = O ) N 1 C C c 2 c c c ...\n",
              "50033  <RX_2> C C ( = O ) O C C N C ( = O ) O C ( C )...  C C ( = O ) C l . C C ( C ) ( C ) O C ( = O ) ...\n",
              "50034  <RX_3> C c 1 c c c ( - c 2 c c n c c 2 ) c c 1...  C c 1 c c c ( B r ) c c 1 C = O . O B ( O ) c ...\n",
              "50035  <RX_1> C C ( C ) ( C ) O C 1 C [ C @ @ H ] 2 C...  C C ( C ) ( C ) O . O = C C 1 = C [ C @ H ] 2 ...\n",
              "50036   <RX_4> F c 1 c c ( B r ) c c 2 [ n H ] c n c 1 2        N c 1 c c ( B r ) c c ( F ) c 1 N . O = C O\n",
              "\n",
              "[50037 rows x 2 columns]"
            ]
          },
          "metadata": {
            "tags": []
          },
          "execution_count": 21
        }
      ]
    },
    {
      "cell_type": "code",
      "metadata": {
        "id": "Mx6FphMOK0ZK"
      },
      "source": [
        "def greedy_decode(model, src, src_mask, max_len, start_symbol):\n",
        "    src = src.to(device)\n",
        "    src_mask = src_mask.to(device)\n",
        "\n",
        "    memory = model.encode(src, src_mask)\n",
        "    ys = torch.ones(1, 1).fill_(start_symbol).type(torch.long).to(device)\n",
        "    for i in range(max_len-1):\n",
        "        memory = memory.to(device)\n",
        "        memory_mask = torch.zeros(ys.shape[0], memory.shape[0]).to(device).type(torch.bool)\n",
        "        tgt_mask = (generate_square_subsequent_mask(ys.size(0))\n",
        "                                    .type(torch.bool)).to(device)\n",
        "        out = model.decode(ys, memory, tgt_mask)\n",
        "        out = out.transpose(0, 1)\n",
        "        prob = model.generator(out[:, -1])\n",
        "        _, next_word = torch.max(prob, dim = 1)\n",
        "        next_word = next_word.item()\n",
        "\n",
        "        ys = torch.cat([ys,\n",
        "                        torch.ones(1, 1).type_as(src.data).fill_(next_word)], dim=0)\n",
        "        if next_word == EOS_IDX:\n",
        "          break\n",
        "    return ys\n",
        "\n",
        "\n",
        "def translate(model, src, src_vocab, tgt_vocab, src_tokenizer):\n",
        "  model.eval()\n",
        "  tokens = [BOS_IDX] + [src_vocab.stoi[tok] for tok in src_tokenizer(src)]+ [EOS_IDX]\n",
        "  num_tokens = len(tokens)\n",
        "  src = (torch.LongTensor(tokens).reshape(num_tokens, 1) )\n",
        "  src_mask = (torch.zeros(num_tokens, num_tokens)).type(torch.bool)\n",
        "  tgt_tokens = greedy_decode(model,  src, src_mask, max_len=num_tokens + 5, start_symbol=BOS_IDX).flatten()\n",
        "  print(\"Product:\"+ \" \"+df.input[i])\n",
        "  print(\"Reaction Real:\"+\" \"+df.target[i])\n",
        "  return print(\"prediction:\"+\" \".join([tgt_vocab.itos[tok] for tok in tgt_tokens]).replace(\"<bos>\", \"\").replace(\"<eos>\", \"\"))"
      ],
      "id": "Mx6FphMOK0ZK",
      "execution_count": 22,
      "outputs": []
    },
    {
      "cell_type": "code",
      "metadata": {
        "colab": {
          "base_uri": "https://localhost:8080/",
          "height": 1000
        },
        "id": "79hdw1aEMr1C",
        "outputId": "460198dc-0721-4367-f692-ecea5a21d433"
      },
      "source": [
        "for i in range(50000,50010):\n",
        "  translate(transformer, df.input[i], src_vocab, tgt_vocab, tokenizer)\n",
        "  print(\"    \")"
      ],
      "id": "79hdw1aEMr1C",
      "execution_count": 39,
      "outputs": [
        {
          "output_type": "display_data",
          "data": {
            "text/html": [
              "<pre style=\"white-space:pre;overflow-x:auto;line-height:normal;font-family:Menlo,'DejaVu Sans Mono',consolas,'Courier New',monospace\">Product: <span style=\"font-weight: bold\">&lt;</span><span style=\"color: #ff00ff; text-decoration-color: #ff00ff; font-weight: bold\">RX_9</span><span style=\"font-weight: bold\">&gt;</span> O = C <span style=\"font-weight: bold\">(</span> O <span style=\"font-weight: bold\">)</span> C <span style=\"font-weight: bold\">(</span> = O <span style=\"font-weight: bold\">)</span> O\n",
              "</pre>\n"
            ],
            "text/plain": [
              "Product: \u001b[1m<\u001b[0m\u001b[1;95mRX_9\u001b[0m\u001b[1m>\u001b[0m O = C \u001b[1m(\u001b[0m O \u001b[1m)\u001b[0m C \u001b[1m(\u001b[0m = O \u001b[1m)\u001b[0m O\n"
            ]
          },
          "metadata": {
            "tags": []
          }
        },
        {
          "output_type": "display_data",
          "data": {
            "text/html": [
              "<pre style=\"white-space:pre;overflow-x:auto;line-height:normal;font-family:Menlo,'DejaVu Sans Mono',consolas,'Courier New',monospace\">Reaction Real: C c <span style=\"color: #008080; text-decoration-color: #008080; font-weight: bold\">1</span> c c c <span style=\"font-weight: bold\">(</span> B r <span style=\"font-weight: bold\">)</span> c <span style=\"color: #008080; text-decoration-color: #008080; font-weight: bold\">2</span> c <span style=\"color: #008080; text-decoration-color: #008080; font-weight: bold\">1</span> C <span style=\"font-weight: bold\">(</span> C <span style=\"font-weight: bold\">(</span> C <span style=\"font-weight: bold\">)</span> C <span style=\"font-weight: bold\">)</span> N <span style=\"font-weight: bold\">(</span> C <span style=\"font-weight: bold\">(</span> = O <span style=\"font-weight: bold\">)</span> C N C C <span style=\"color: #008080; text-decoration-color: #008080; font-weight: bold\">1</span> <span style=\"font-weight: bold\">(</span> O <span style=\"font-weight: bold\">)</span> C C \n",
              "C C C <span style=\"color: #008080; text-decoration-color: #008080; font-weight: bold\">1</span> <span style=\"font-weight: bold\">)</span> C C <span style=\"color: #008080; text-decoration-color: #008080; font-weight: bold\">2</span>\n",
              "</pre>\n"
            ],
            "text/plain": [
              "Reaction Real: C c \u001b[1;36m1\u001b[0m c c c \u001b[1m(\u001b[0m B r \u001b[1m)\u001b[0m c \u001b[1;36m2\u001b[0m c \u001b[1;36m1\u001b[0m C \u001b[1m(\u001b[0m C \u001b[1m(\u001b[0m C \u001b[1m)\u001b[0m C \u001b[1m)\u001b[0m N \u001b[1m(\u001b[0m C \u001b[1m(\u001b[0m = O \u001b[1m)\u001b[0m C N C C \u001b[1;36m1\u001b[0m \u001b[1m(\u001b[0m O \u001b[1m)\u001b[0m C C \n",
              "C C C \u001b[1;36m1\u001b[0m \u001b[1m)\u001b[0m C C \u001b[1;36m2\u001b[0m\n"
            ]
          },
          "metadata": {
            "tags": []
          }
        },
        {
          "output_type": "display_data",
          "data": {
            "text/html": [
              "<pre style=\"white-space:pre;overflow-x:auto;line-height:normal;font-family:Menlo,'DejaVu Sans Mono',consolas,'Courier New',monospace\">prediction: o = c <span style=\"font-weight: bold\">(</span> c l <span style=\"font-weight: bold\">)</span> c <span style=\"color: #008080; text-decoration-color: #008080; font-weight: bold\">1</span> c c c c <span style=\"font-weight: bold\">(</span> o <span style=\"font-weight: bold\">)</span> c <span style=\"color: #008080; text-decoration-color: #008080; font-weight: bold\">1</span> \n",
              "</pre>\n"
            ],
            "text/plain": [
              "prediction: o = c \u001b[1m(\u001b[0m c l \u001b[1m)\u001b[0m c \u001b[1;36m1\u001b[0m c c c c \u001b[1m(\u001b[0m o \u001b[1m)\u001b[0m c \u001b[1;36m1\u001b[0m \n"
            ]
          },
          "metadata": {
            "tags": []
          }
        },
        {
          "output_type": "display_data",
          "data": {
            "text/html": [
              "<pre style=\"white-space:pre;overflow-x:auto;line-height:normal;font-family:Menlo,'DejaVu Sans Mono',consolas,'Courier New',monospace\">    \n",
              "</pre>\n"
            ],
            "text/plain": [
              "    \n"
            ]
          },
          "metadata": {
            "tags": []
          }
        },
        {
          "output_type": "display_data",
          "data": {
            "text/html": [
              "<pre style=\"white-space:pre;overflow-x:auto;line-height:normal;font-family:Menlo,'DejaVu Sans Mono',consolas,'Courier New',monospace\">Product: <span style=\"font-weight: bold\">&lt;</span><span style=\"color: #ff00ff; text-decoration-color: #ff00ff; font-weight: bold\">RX_3</span><span style=\"font-weight: bold\">&gt;</span> C C O C <span style=\"font-weight: bold\">(</span> = O <span style=\"font-weight: bold\">)</span> C = C C c <span style=\"color: #008080; text-decoration-color: #008080; font-weight: bold\">1</span> c c c <span style=\"font-weight: bold\">(</span> B r <span style=\"font-weight: bold\">)</span> c c <span style=\"color: #008080; text-decoration-color: #008080; font-weight: bold\">1</span>\n",
              "</pre>\n"
            ],
            "text/plain": [
              "Product: \u001b[1m<\u001b[0m\u001b[1;95mRX_3\u001b[0m\u001b[1m>\u001b[0m C C O C \u001b[1m(\u001b[0m = O \u001b[1m)\u001b[0m C = C C c \u001b[1;36m1\u001b[0m c c c \u001b[1m(\u001b[0m B r \u001b[1m)\u001b[0m c c \u001b[1;36m1\u001b[0m\n"
            ]
          },
          "metadata": {
            "tags": []
          }
        },
        {
          "output_type": "display_data",
          "data": {
            "text/html": [
              "<pre style=\"white-space:pre;overflow-x:auto;line-height:normal;font-family:Menlo,'DejaVu Sans Mono',consolas,'Courier New',monospace\">Reaction Real: C C O C <span style=\"font-weight: bold\">(</span> = O <span style=\"font-weight: bold\">)</span> C = P <span style=\"font-weight: bold\">(</span> c <span style=\"color: #008080; text-decoration-color: #008080; font-weight: bold\">1</span> c c c c c <span style=\"color: #008080; text-decoration-color: #008080; font-weight: bold\">1</span> <span style=\"font-weight: bold\">)</span> <span style=\"font-weight: bold\">(</span> c <span style=\"color: #008080; text-decoration-color: #008080; font-weight: bold\">1</span> c c c c c <span style=\"color: #008080; text-decoration-color: #008080; font-weight: bold\">1</span> <span style=\"font-weight: bold\">)</span> c <span style=\"color: #008080; text-decoration-color: #008080; font-weight: bold\">1</span> c c c c c <span style=\"color: #008080; text-decoration-color: #008080; font-weight: bold\">1</span> \n",
              ". O = C C c <span style=\"color: #008080; text-decoration-color: #008080; font-weight: bold\">1</span> c c c <span style=\"font-weight: bold\">(</span> B r <span style=\"font-weight: bold\">)</span> c c <span style=\"color: #008080; text-decoration-color: #008080; font-weight: bold\">1</span>\n",
              "</pre>\n"
            ],
            "text/plain": [
              "Reaction Real: C C O C \u001b[1m(\u001b[0m = O \u001b[1m)\u001b[0m C = P \u001b[1m(\u001b[0m c \u001b[1;36m1\u001b[0m c c c c c \u001b[1;36m1\u001b[0m \u001b[1m)\u001b[0m \u001b[1m(\u001b[0m c \u001b[1;36m1\u001b[0m c c c c c \u001b[1;36m1\u001b[0m \u001b[1m)\u001b[0m c \u001b[1;36m1\u001b[0m c c c c c \u001b[1;36m1\u001b[0m \n",
              ". O = C C c \u001b[1;36m1\u001b[0m c c c \u001b[1m(\u001b[0m B r \u001b[1m)\u001b[0m c c \u001b[1;36m1\u001b[0m\n"
            ]
          },
          "metadata": {
            "tags": []
          }
        },
        {
          "output_type": "display_data",
          "data": {
            "text/html": [
              "<pre style=\"white-space:pre;overflow-x:auto;line-height:normal;font-family:Menlo,'DejaVu Sans Mono',consolas,'Courier New',monospace\">prediction: c c o c <span style=\"font-weight: bold\">(</span> = o <span style=\"font-weight: bold\">)</span> c p <span style=\"font-weight: bold\">(</span> = o <span style=\"font-weight: bold\">)</span> <span style=\"font-weight: bold\">(</span> o c c <span style=\"font-weight: bold\">)</span> o c c . o = c c c <span style=\"color: #008080; text-decoration-color: #008080; font-weight: bold\">1</span> c c\n",
              "</pre>\n"
            ],
            "text/plain": [
              "prediction: c c o c \u001b[1m(\u001b[0m = o \u001b[1m)\u001b[0m c p \u001b[1m(\u001b[0m = o \u001b[1m)\u001b[0m \u001b[1m(\u001b[0m o c c \u001b[1m)\u001b[0m o c c . o = c c c \u001b[1;36m1\u001b[0m c c\n"
            ]
          },
          "metadata": {
            "tags": []
          }
        },
        {
          "output_type": "display_data",
          "data": {
            "text/html": [
              "<pre style=\"white-space:pre;overflow-x:auto;line-height:normal;font-family:Menlo,'DejaVu Sans Mono',consolas,'Courier New',monospace\">    \n",
              "</pre>\n"
            ],
            "text/plain": [
              "    \n"
            ]
          },
          "metadata": {
            "tags": []
          }
        },
        {
          "output_type": "display_data",
          "data": {
            "text/html": [
              "<pre style=\"white-space:pre;overflow-x:auto;line-height:normal;font-family:Menlo,'DejaVu Sans Mono',consolas,'Courier New',monospace\">Product: <span style=\"font-weight: bold\">&lt;</span><span style=\"color: #ff00ff; text-decoration-color: #ff00ff; font-weight: bold\">RX_6</span><span style=\"font-weight: bold\">&gt;</span> C c <span style=\"color: #008080; text-decoration-color: #008080; font-weight: bold\">1</span> c c <span style=\"font-weight: bold\">(</span> C <span style=\"color: #008080; text-decoration-color: #008080; font-weight: bold\">2</span> = N O C <span style=\"font-weight: bold\">(</span> c <span style=\"color: #008080; text-decoration-color: #008080; font-weight: bold\">3</span> c c <span style=\"font-weight: bold\">(</span> C l <span style=\"font-weight: bold\">)</span> c c <span style=\"font-weight: bold\">(</span> C l <span style=\"font-weight: bold\">)</span> c <span style=\"color: #008080; text-decoration-color: #008080; font-weight: bold\">3</span> <span style=\"font-weight: bold\">)</span> <span style=\"font-weight: bold\">(</span> C <span style=\"font-weight: bold\">(</span> F <span style=\"font-weight: bold\">)</span> <span style=\"font-weight: bold\">(</span> F <span style=\"font-weight: bold\">)</span> F\n",
              "<span style=\"font-weight: bold\">)</span> C <span style=\"color: #008080; text-decoration-color: #008080; font-weight: bold\">2</span> = N O <span style=\"font-weight: bold\">)</span> c c c <span style=\"color: #008080; text-decoration-color: #008080; font-weight: bold\">1</span> C <span style=\"font-weight: bold\">(</span> = O <span style=\"font-weight: bold\">)</span> O\n",
              "</pre>\n"
            ],
            "text/plain": [
              "Product: \u001b[1m<\u001b[0m\u001b[1;95mRX_6\u001b[0m\u001b[1m>\u001b[0m C c \u001b[1;36m1\u001b[0m c c \u001b[1m(\u001b[0m C \u001b[1;36m2\u001b[0m = N O C \u001b[1m(\u001b[0m c \u001b[1;36m3\u001b[0m c c \u001b[1m(\u001b[0m C l \u001b[1m)\u001b[0m c c \u001b[1m(\u001b[0m C l \u001b[1m)\u001b[0m c \u001b[1;36m3\u001b[0m \u001b[1m)\u001b[0m \u001b[1m(\u001b[0m C \u001b[1m(\u001b[0m F \u001b[1m)\u001b[0m \u001b[1m(\u001b[0m F \u001b[1m)\u001b[0m F\n",
              "\u001b[1m)\u001b[0m C \u001b[1;36m2\u001b[0m = N O \u001b[1m)\u001b[0m c c c \u001b[1;36m1\u001b[0m C \u001b[1m(\u001b[0m = O \u001b[1m)\u001b[0m O\n"
            ]
          },
          "metadata": {
            "tags": []
          }
        },
        {
          "output_type": "display_data",
          "data": {
            "text/html": [
              "<pre style=\"white-space:pre;overflow-x:auto;line-height:normal;font-family:Menlo,'DejaVu Sans Mono',consolas,'Courier New',monospace\">Reaction Real: C c <span style=\"color: #008080; text-decoration-color: #008080; font-weight: bold\">1</span> c c <span style=\"font-weight: bold\">(</span> C <span style=\"color: #008080; text-decoration-color: #008080; font-weight: bold\">2</span> = N O C <span style=\"font-weight: bold\">(</span> c <span style=\"color: #008080; text-decoration-color: #008080; font-weight: bold\">3</span> c c <span style=\"font-weight: bold\">(</span> C l <span style=\"font-weight: bold\">)</span> c c <span style=\"font-weight: bold\">(</span> C l <span style=\"font-weight: bold\">)</span> c <span style=\"color: #008080; text-decoration-color: #008080; font-weight: bold\">3</span> <span style=\"font-weight: bold\">)</span> <span style=\"font-weight: bold\">(</span> C <span style=\"font-weight: bold\">(</span> F <span style=\"font-weight: bold\">)</span> <span style=\"font-weight: bold\">(</span> F <span style=\"font-weight: bold\">)</span> F \n",
              "<span style=\"font-weight: bold\">)</span> C <span style=\"color: #008080; text-decoration-color: #008080; font-weight: bold\">2</span> = N O <span style=\"font-weight: bold\">)</span> c c c <span style=\"color: #008080; text-decoration-color: #008080; font-weight: bold\">1</span> C <span style=\"font-weight: bold\">(</span> = O <span style=\"font-weight: bold\">)</span> O C <span style=\"font-weight: bold\">(</span> C <span style=\"font-weight: bold\">)</span> <span style=\"font-weight: bold\">(</span> C <span style=\"font-weight: bold\">)</span> C\n",
              "</pre>\n"
            ],
            "text/plain": [
              "Reaction Real: C c \u001b[1;36m1\u001b[0m c c \u001b[1m(\u001b[0m C \u001b[1;36m2\u001b[0m = N O C \u001b[1m(\u001b[0m c \u001b[1;36m3\u001b[0m c c \u001b[1m(\u001b[0m C l \u001b[1m)\u001b[0m c c \u001b[1m(\u001b[0m C l \u001b[1m)\u001b[0m c \u001b[1;36m3\u001b[0m \u001b[1m)\u001b[0m \u001b[1m(\u001b[0m C \u001b[1m(\u001b[0m F \u001b[1m)\u001b[0m \u001b[1m(\u001b[0m F \u001b[1m)\u001b[0m F \n",
              "\u001b[1m)\u001b[0m C \u001b[1;36m2\u001b[0m = N O \u001b[1m)\u001b[0m c c c \u001b[1;36m1\u001b[0m C \u001b[1m(\u001b[0m = O \u001b[1m)\u001b[0m O C \u001b[1m(\u001b[0m C \u001b[1m)\u001b[0m \u001b[1m(\u001b[0m C \u001b[1m)\u001b[0m C\n"
            ]
          },
          "metadata": {
            "tags": []
          }
        },
        {
          "output_type": "display_data",
          "data": {
            "text/html": [
              "<pre style=\"white-space:pre;overflow-x:auto;line-height:normal;font-family:Menlo,'DejaVu Sans Mono',consolas,'Courier New',monospace\">prediction: c o c <span style=\"font-weight: bold\">(</span> = o <span style=\"font-weight: bold\">)</span> c <span style=\"color: #008080; text-decoration-color: #008080; font-weight: bold\">1</span> c c c <span style=\"font-weight: bold\">(</span> c <span style=\"color: #008080; text-decoration-color: #008080; font-weight: bold\">2</span> = n o c <span style=\"font-weight: bold\">(</span> c <span style=\"color: #008080; text-decoration-color: #008080; font-weight: bold\">3</span> c c <span style=\"font-weight: bold\">(</span> c l <span style=\"font-weight: bold\">)</span> c c <span style=\"font-weight: bold\">(</span> c l <span style=\"font-weight: bold\">)</span> c <span style=\"color: #008080; text-decoration-color: #008080; font-weight: bold\">3</span> <span style=\"font-weight: bold\">)</span> <span style=\"font-weight: bold\">(</span> c <span style=\"font-weight: bold\">(</span> f\n",
              "<span style=\"font-weight: bold\">)</span> <span style=\"font-weight: bold\">(</span> f <span style=\"font-weight: bold\">)</span> f <span style=\"font-weight: bold\">)</span> c <span style=\"color: #008080; text-decoration-color: #008080; font-weight: bold\">2</span> = n o <span style=\"font-weight: bold\">)</span> c c <span style=\"color: #008080; text-decoration-color: #008080; font-weight: bold\">1</span> c \n",
              "</pre>\n"
            ],
            "text/plain": [
              "prediction: c o c \u001b[1m(\u001b[0m = o \u001b[1m)\u001b[0m c \u001b[1;36m1\u001b[0m c c c \u001b[1m(\u001b[0m c \u001b[1;36m2\u001b[0m = n o c \u001b[1m(\u001b[0m c \u001b[1;36m3\u001b[0m c c \u001b[1m(\u001b[0m c l \u001b[1m)\u001b[0m c c \u001b[1m(\u001b[0m c l \u001b[1m)\u001b[0m c \u001b[1;36m3\u001b[0m \u001b[1m)\u001b[0m \u001b[1m(\u001b[0m c \u001b[1m(\u001b[0m f\n",
              "\u001b[1m)\u001b[0m \u001b[1m(\u001b[0m f \u001b[1m)\u001b[0m f \u001b[1m)\u001b[0m c \u001b[1;36m2\u001b[0m = n o \u001b[1m)\u001b[0m c c \u001b[1;36m1\u001b[0m c \n"
            ]
          },
          "metadata": {
            "tags": []
          }
        },
        {
          "output_type": "display_data",
          "data": {
            "text/html": [
              "<pre style=\"white-space:pre;overflow-x:auto;line-height:normal;font-family:Menlo,'DejaVu Sans Mono',consolas,'Courier New',monospace\">    \n",
              "</pre>\n"
            ],
            "text/plain": [
              "    \n"
            ]
          },
          "metadata": {
            "tags": []
          }
        },
        {
          "output_type": "display_data",
          "data": {
            "text/html": [
              "<pre style=\"white-space:pre;overflow-x:auto;line-height:normal;font-family:Menlo,'DejaVu Sans Mono',consolas,'Courier New',monospace\">Product: <span style=\"font-weight: bold\">&lt;</span><span style=\"color: #ff00ff; text-decoration-color: #ff00ff; font-weight: bold\">RX_6</span><span style=\"font-weight: bold\">&gt;</span> N # C c <span style=\"color: #008080; text-decoration-color: #008080; font-weight: bold\">1</span> n c c <span style=\"font-weight: bold\">(</span> B r <span style=\"font-weight: bold\">)</span> c <span style=\"font-weight: bold\">(</span> N <span style=\"font-weight: bold\">(</span> N <span style=\"font-weight: bold\">)</span> C <span style=\"color: #008080; text-decoration-color: #008080; font-weight: bold\">2</span> C C O C C <span style=\"color: #008080; text-decoration-color: #008080; font-weight: bold\">2</span> <span style=\"font-weight: bold\">)</span> n <span style=\"color: #008080; text-decoration-color: #008080; font-weight: bold\">1</span>\n",
              "</pre>\n"
            ],
            "text/plain": [
              "Product: \u001b[1m<\u001b[0m\u001b[1;95mRX_6\u001b[0m\u001b[1m>\u001b[0m N # C c \u001b[1;36m1\u001b[0m n c c \u001b[1m(\u001b[0m B r \u001b[1m)\u001b[0m c \u001b[1m(\u001b[0m N \u001b[1m(\u001b[0m N \u001b[1m)\u001b[0m C \u001b[1;36m2\u001b[0m C C O C C \u001b[1;36m2\u001b[0m \u001b[1m)\u001b[0m n \u001b[1;36m1\u001b[0m\n"
            ]
          },
          "metadata": {
            "tags": []
          }
        },
        {
          "output_type": "display_data",
          "data": {
            "text/html": [
              "<pre style=\"white-space:pre;overflow-x:auto;line-height:normal;font-family:Menlo,'DejaVu Sans Mono',consolas,'Courier New',monospace\">Reaction Real: C C <span style=\"font-weight: bold\">(</span> C <span style=\"font-weight: bold\">)</span> <span style=\"font-weight: bold\">(</span> C <span style=\"font-weight: bold\">)</span> O C <span style=\"font-weight: bold\">(</span> = O <span style=\"font-weight: bold\">)</span> N N <span style=\"font-weight: bold\">(</span> c <span style=\"color: #008080; text-decoration-color: #008080; font-weight: bold\">1</span> n c <span style=\"font-weight: bold\">(</span> C # N <span style=\"font-weight: bold\">)</span> n c c <span style=\"color: #008080; text-decoration-color: #008080; font-weight: bold\">1</span> B r <span style=\"font-weight: bold\">)</span> C <span style=\"color: #008080; text-decoration-color: #008080; font-weight: bold\">1</span> C C O C \n",
              "C <span style=\"color: #008080; text-decoration-color: #008080; font-weight: bold\">1</span>\n",
              "</pre>\n"
            ],
            "text/plain": [
              "Reaction Real: C C \u001b[1m(\u001b[0m C \u001b[1m)\u001b[0m \u001b[1m(\u001b[0m C \u001b[1m)\u001b[0m O C \u001b[1m(\u001b[0m = O \u001b[1m)\u001b[0m N N \u001b[1m(\u001b[0m c \u001b[1;36m1\u001b[0m n c \u001b[1m(\u001b[0m C # N \u001b[1m)\u001b[0m n c c \u001b[1;36m1\u001b[0m B r \u001b[1m)\u001b[0m C \u001b[1;36m1\u001b[0m C C O C \n",
              "C \u001b[1;36m1\u001b[0m\n"
            ]
          },
          "metadata": {
            "tags": []
          }
        },
        {
          "output_type": "display_data",
          "data": {
            "text/html": [
              "<pre style=\"white-space:pre;overflow-x:auto;line-height:normal;font-family:Menlo,'DejaVu Sans Mono',consolas,'Courier New',monospace\">prediction: n # c c <span style=\"color: #008080; text-decoration-color: #008080; font-weight: bold\">1</span> n c c <span style=\"font-weight: bold\">(</span> b r <span style=\"font-weight: bold\">)</span> c <span style=\"font-weight: bold\">(</span> n <span style=\"font-weight: bold\">(</span> c <span style=\"color: #008080; text-decoration-color: #008080; font-weight: bold\">2</span> c c o c c <span style=\"color: #008080; text-decoration-color: #008080; font-weight: bold\">2</span> <span style=\"font-weight: bold\">)</span> c <span style=\"color: #008080; text-decoration-color: #008080; font-weight: bold\">2</span> c c o c c <span style=\"color: #008080; text-decoration-color: #008080; font-weight: bold\">2</span> <span style=\"font-weight: bold\">)</span> n <span style=\"color: #008080; text-decoration-color: #008080; font-weight: bold\">1</span>\n",
              "</pre>\n"
            ],
            "text/plain": [
              "prediction: n # c c \u001b[1;36m1\u001b[0m n c c \u001b[1m(\u001b[0m b r \u001b[1m)\u001b[0m c \u001b[1m(\u001b[0m n \u001b[1m(\u001b[0m c \u001b[1;36m2\u001b[0m c c o c c \u001b[1;36m2\u001b[0m \u001b[1m)\u001b[0m c \u001b[1;36m2\u001b[0m c c o c c \u001b[1;36m2\u001b[0m \u001b[1m)\u001b[0m n \u001b[1;36m1\u001b[0m\n"
            ]
          },
          "metadata": {
            "tags": []
          }
        },
        {
          "output_type": "display_data",
          "data": {
            "text/html": [
              "<pre style=\"white-space:pre;overflow-x:auto;line-height:normal;font-family:Menlo,'DejaVu Sans Mono',consolas,'Courier New',monospace\">    \n",
              "</pre>\n"
            ],
            "text/plain": [
              "    \n"
            ]
          },
          "metadata": {
            "tags": []
          }
        },
        {
          "output_type": "display_data",
          "data": {
            "text/html": [
              "<pre style=\"white-space:pre;overflow-x:auto;line-height:normal;font-family:Menlo,'DejaVu Sans Mono',consolas,'Courier New',monospace\">Product: <span style=\"font-weight: bold\">&lt;</span><span style=\"color: #ff00ff; text-decoration-color: #ff00ff; font-weight: bold\">RX_2</span><span style=\"font-weight: bold\">&gt;</span> O = C <span style=\"color: #008080; text-decoration-color: #008080; font-weight: bold\">1</span> C C C <span style=\"font-weight: bold\">(</span> N <span style=\"color: #008080; text-decoration-color: #008080; font-weight: bold\">2</span> C c <span style=\"color: #008080; text-decoration-color: #008080; font-weight: bold\">3</span> c c <span style=\"font-weight: bold\">(</span> C N C <span style=\"font-weight: bold\">(</span> = O <span style=\"font-weight: bold\">)</span> N <span style=\"color: #008080; text-decoration-color: #008080; font-weight: bold\">4</span> C C O C C <span style=\"color: #008080; text-decoration-color: #008080; font-weight: bold\">4</span> <span style=\"font-weight: bold\">)</span> c c c <span style=\"color: #008080; text-decoration-color: #008080; font-weight: bold\">3</span> C <span style=\"color: #008080; text-decoration-color: #008080; font-weight: bold\">2</span> =\n",
              "O <span style=\"font-weight: bold\">)</span> C <span style=\"font-weight: bold\">(</span> = O <span style=\"font-weight: bold\">)</span> N <span style=\"color: #008080; text-decoration-color: #008080; font-weight: bold\">1</span>\n",
              "</pre>\n"
            ],
            "text/plain": [
              "Product: \u001b[1m<\u001b[0m\u001b[1;95mRX_2\u001b[0m\u001b[1m>\u001b[0m O = C \u001b[1;36m1\u001b[0m C C C \u001b[1m(\u001b[0m N \u001b[1;36m2\u001b[0m C c \u001b[1;36m3\u001b[0m c c \u001b[1m(\u001b[0m C N C \u001b[1m(\u001b[0m = O \u001b[1m)\u001b[0m N \u001b[1;36m4\u001b[0m C C O C C \u001b[1;36m4\u001b[0m \u001b[1m)\u001b[0m c c c \u001b[1;36m3\u001b[0m C \u001b[1;36m2\u001b[0m =\n",
              "O \u001b[1m)\u001b[0m C \u001b[1m(\u001b[0m = O \u001b[1m)\u001b[0m N \u001b[1;36m1\u001b[0m\n"
            ]
          },
          "metadata": {
            "tags": []
          }
        },
        {
          "output_type": "display_data",
          "data": {
            "text/html": [
              "<pre style=\"white-space:pre;overflow-x:auto;line-height:normal;font-family:Menlo,'DejaVu Sans Mono',consolas,'Courier New',monospace\">Reaction Real: N C c <span style=\"color: #008080; text-decoration-color: #008080; font-weight: bold\">1</span> c c c <span style=\"color: #008080; text-decoration-color: #008080; font-weight: bold\">2</span> c <span style=\"font-weight: bold\">(</span> c <span style=\"color: #008080; text-decoration-color: #008080; font-weight: bold\">1</span> <span style=\"font-weight: bold\">)</span> C N <span style=\"font-weight: bold\">(</span> C <span style=\"color: #008080; text-decoration-color: #008080; font-weight: bold\">1</span> C C C <span style=\"font-weight: bold\">(</span> = O <span style=\"font-weight: bold\">)</span> N C <span style=\"color: #008080; text-decoration-color: #008080; font-weight: bold\">1</span> = O <span style=\"font-weight: bold\">)</span> C <span style=\"color: #008080; text-decoration-color: #008080; font-weight: bold\">2</span> = O . O = C \n",
              "<span style=\"font-weight: bold\">(</span> C l <span style=\"font-weight: bold\">)</span> N <span style=\"color: #008080; text-decoration-color: #008080; font-weight: bold\">1</span> C C O C C <span style=\"color: #008080; text-decoration-color: #008080; font-weight: bold\">1</span>\n",
              "</pre>\n"
            ],
            "text/plain": [
              "Reaction Real: N C c \u001b[1;36m1\u001b[0m c c c \u001b[1;36m2\u001b[0m c \u001b[1m(\u001b[0m c \u001b[1;36m1\u001b[0m \u001b[1m)\u001b[0m C N \u001b[1m(\u001b[0m C \u001b[1;36m1\u001b[0m C C C \u001b[1m(\u001b[0m = O \u001b[1m)\u001b[0m N C \u001b[1;36m1\u001b[0m = O \u001b[1m)\u001b[0m C \u001b[1;36m2\u001b[0m = O . O = C \n",
              "\u001b[1m(\u001b[0m C l \u001b[1m)\u001b[0m N \u001b[1;36m1\u001b[0m C C O C C \u001b[1;36m1\u001b[0m\n"
            ]
          },
          "metadata": {
            "tags": []
          }
        },
        {
          "output_type": "display_data",
          "data": {
            "text/html": [
              "<pre style=\"white-space:pre;overflow-x:auto;line-height:normal;font-family:Menlo,'DejaVu Sans Mono',consolas,'Courier New',monospace\">prediction: n c c <span style=\"color: #008080; text-decoration-color: #008080; font-weight: bold\">1</span> c c c <span style=\"color: #008080; text-decoration-color: #008080; font-weight: bold\">2</span> c <span style=\"font-weight: bold\">(</span> c <span style=\"color: #008080; text-decoration-color: #008080; font-weight: bold\">1</span> <span style=\"font-weight: bold\">)</span> c n <span style=\"font-weight: bold\">(</span> c <span style=\"color: #008080; text-decoration-color: #008080; font-weight: bold\">1</span> c c c <span style=\"font-weight: bold\">(</span> = o <span style=\"font-weight: bold\">)</span> n c <span style=\"color: #008080; text-decoration-color: #008080; font-weight: bold\">1</span> = o <span style=\"font-weight: bold\">)</span> c <span style=\"color: #008080; text-decoration-color: #008080; font-weight: bold\">2</span> = o . o = c <span style=\"font-weight: bold\">(</span> c\n",
              "l <span style=\"font-weight: bold\">)</span> n <span style=\"color: #008080; text-decoration-color: #008080; font-weight: bold\">1</span> c c o c c <span style=\"color: #008080; text-decoration-color: #008080; font-weight: bold\">1</span> \n",
              "</pre>\n"
            ],
            "text/plain": [
              "prediction: n c c \u001b[1;36m1\u001b[0m c c c \u001b[1;36m2\u001b[0m c \u001b[1m(\u001b[0m c \u001b[1;36m1\u001b[0m \u001b[1m)\u001b[0m c n \u001b[1m(\u001b[0m c \u001b[1;36m1\u001b[0m c c c \u001b[1m(\u001b[0m = o \u001b[1m)\u001b[0m n c \u001b[1;36m1\u001b[0m = o \u001b[1m)\u001b[0m c \u001b[1;36m2\u001b[0m = o . o = c \u001b[1m(\u001b[0m c\n",
              "l \u001b[1m)\u001b[0m n \u001b[1;36m1\u001b[0m c c o c c \u001b[1;36m1\u001b[0m \n"
            ]
          },
          "metadata": {
            "tags": []
          }
        },
        {
          "output_type": "display_data",
          "data": {
            "text/html": [
              "<pre style=\"white-space:pre;overflow-x:auto;line-height:normal;font-family:Menlo,'DejaVu Sans Mono',consolas,'Courier New',monospace\">    \n",
              "</pre>\n"
            ],
            "text/plain": [
              "    \n"
            ]
          },
          "metadata": {
            "tags": []
          }
        },
        {
          "output_type": "display_data",
          "data": {
            "text/html": [
              "<pre style=\"white-space:pre;overflow-x:auto;line-height:normal;font-family:Menlo,'DejaVu Sans Mono',consolas,'Courier New',monospace\">Product: <span style=\"font-weight: bold\">&lt;</span><span style=\"color: #ff00ff; text-decoration-color: #ff00ff; font-weight: bold\">RX_7</span><span style=\"font-weight: bold\">&gt;</span> C c <span style=\"color: #008080; text-decoration-color: #008080; font-weight: bold\">1</span> c c c <span style=\"font-weight: bold\">(</span> N <span style=\"font-weight: bold\">)</span> c c <span style=\"color: #008080; text-decoration-color: #008080; font-weight: bold\">1</span> C <span style=\"font-weight: bold\">(</span> = O <span style=\"font-weight: bold\">)</span> N S <span style=\"font-weight: bold\">(</span> C <span style=\"font-weight: bold\">)</span> <span style=\"font-weight: bold\">(</span> = O <span style=\"font-weight: bold\">)</span> = O\n",
              "</pre>\n"
            ],
            "text/plain": [
              "Product: \u001b[1m<\u001b[0m\u001b[1;95mRX_7\u001b[0m\u001b[1m>\u001b[0m C c \u001b[1;36m1\u001b[0m c c c \u001b[1m(\u001b[0m N \u001b[1m)\u001b[0m c c \u001b[1;36m1\u001b[0m C \u001b[1m(\u001b[0m = O \u001b[1m)\u001b[0m N S \u001b[1m(\u001b[0m C \u001b[1m)\u001b[0m \u001b[1m(\u001b[0m = O \u001b[1m)\u001b[0m = O\n"
            ]
          },
          "metadata": {
            "tags": []
          }
        },
        {
          "output_type": "display_data",
          "data": {
            "text/html": [
              "<pre style=\"white-space:pre;overflow-x:auto;line-height:normal;font-family:Menlo,'DejaVu Sans Mono',consolas,'Courier New',monospace\">Reaction Real: C c <span style=\"color: #008080; text-decoration-color: #008080; font-weight: bold\">1</span> c c c <span style=\"font-weight: bold\">(</span> <span style=\"font-weight: bold\">[</span> N + <span style=\"font-weight: bold\">]</span> <span style=\"font-weight: bold\">(</span> = O <span style=\"font-weight: bold\">)</span> <span style=\"font-weight: bold\">[</span> O - <span style=\"font-weight: bold\">]</span> <span style=\"font-weight: bold\">)</span> c c <span style=\"color: #008080; text-decoration-color: #008080; font-weight: bold\">1</span> C <span style=\"font-weight: bold\">(</span> = O <span style=\"font-weight: bold\">)</span> N S <span style=\"font-weight: bold\">(</span> C <span style=\"font-weight: bold\">)</span> <span style=\"font-weight: bold\">(</span> = O <span style=\"font-weight: bold\">)</span> = O\n",
              "</pre>\n"
            ],
            "text/plain": [
              "Reaction Real: C c \u001b[1;36m1\u001b[0m c c c \u001b[1m(\u001b[0m \u001b[1m[\u001b[0m N + \u001b[1m]\u001b[0m \u001b[1m(\u001b[0m = O \u001b[1m)\u001b[0m \u001b[1m[\u001b[0m O - \u001b[1m]\u001b[0m \u001b[1m)\u001b[0m c c \u001b[1;36m1\u001b[0m C \u001b[1m(\u001b[0m = O \u001b[1m)\u001b[0m N S \u001b[1m(\u001b[0m C \u001b[1m)\u001b[0m \u001b[1m(\u001b[0m = O \u001b[1m)\u001b[0m = O\n"
            ]
          },
          "metadata": {
            "tags": []
          }
        },
        {
          "output_type": "display_data",
          "data": {
            "text/html": [
              "<pre style=\"white-space:pre;overflow-x:auto;line-height:normal;font-family:Menlo,'DejaVu Sans Mono',consolas,'Courier New',monospace\">prediction: c c <span style=\"color: #008080; text-decoration-color: #008080; font-weight: bold\">1</span> c c c <span style=\"font-weight: bold\">(</span> <span style=\"font-weight: bold\">[</span> n + <span style=\"font-weight: bold\">]</span> <span style=\"font-weight: bold\">(</span> = o <span style=\"font-weight: bold\">)</span> <span style=\"font-weight: bold\">[</span> o - <span style=\"font-weight: bold\">]</span> <span style=\"font-weight: bold\">)</span> c c <span style=\"color: #008080; text-decoration-color: #008080; font-weight: bold\">1</span> c <span style=\"font-weight: bold\">(</span> = o <span style=\"font-weight: bold\">)</span> n s <span style=\"font-weight: bold\">(</span> c <span style=\"font-weight: bold\">)</span> <span style=\"font-weight: bold\">(</span> =\n",
              "</pre>\n"
            ],
            "text/plain": [
              "prediction: c c \u001b[1;36m1\u001b[0m c c c \u001b[1m(\u001b[0m \u001b[1m[\u001b[0m n + \u001b[1m]\u001b[0m \u001b[1m(\u001b[0m = o \u001b[1m)\u001b[0m \u001b[1m[\u001b[0m o - \u001b[1m]\u001b[0m \u001b[1m)\u001b[0m c c \u001b[1;36m1\u001b[0m c \u001b[1m(\u001b[0m = o \u001b[1m)\u001b[0m n s \u001b[1m(\u001b[0m c \u001b[1m)\u001b[0m \u001b[1m(\u001b[0m =\n"
            ]
          },
          "metadata": {
            "tags": []
          }
        },
        {
          "output_type": "display_data",
          "data": {
            "text/html": [
              "<pre style=\"white-space:pre;overflow-x:auto;line-height:normal;font-family:Menlo,'DejaVu Sans Mono',consolas,'Courier New',monospace\">    \n",
              "</pre>\n"
            ],
            "text/plain": [
              "    \n"
            ]
          },
          "metadata": {
            "tags": []
          }
        },
        {
          "output_type": "display_data",
          "data": {
            "text/html": [
              "<pre style=\"white-space:pre;overflow-x:auto;line-height:normal;font-family:Menlo,'DejaVu Sans Mono',consolas,'Courier New',monospace\">Product: <span style=\"font-weight: bold\">&lt;</span><span style=\"color: #ff00ff; text-decoration-color: #ff00ff; font-weight: bold\">RX_6</span><span style=\"font-weight: bold\">&gt;</span> O = C <span style=\"font-weight: bold\">(</span> O <span style=\"font-weight: bold\">)</span> C c <span style=\"color: #008080; text-decoration-color: #008080; font-weight: bold\">1</span> c c c <span style=\"color: #008080; text-decoration-color: #008080; font-weight: bold\">2</span> s c <span style=\"font-weight: bold\">(</span> = O <span style=\"font-weight: bold\">)</span> <span style=\"font-weight: bold\">[</span> n H <span style=\"font-weight: bold\">]</span> c <span style=\"color: #008080; text-decoration-color: #008080; font-weight: bold\">2</span> c <span style=\"color: #008080; text-decoration-color: #008080; font-weight: bold\">1</span>\n",
              "</pre>\n"
            ],
            "text/plain": [
              "Product: \u001b[1m<\u001b[0m\u001b[1;95mRX_6\u001b[0m\u001b[1m>\u001b[0m O = C \u001b[1m(\u001b[0m O \u001b[1m)\u001b[0m C c \u001b[1;36m1\u001b[0m c c c \u001b[1;36m2\u001b[0m s c \u001b[1m(\u001b[0m = O \u001b[1m)\u001b[0m \u001b[1m[\u001b[0m n H \u001b[1m]\u001b[0m c \u001b[1;36m2\u001b[0m c \u001b[1;36m1\u001b[0m\n"
            ]
          },
          "metadata": {
            "tags": []
          }
        },
        {
          "output_type": "display_data",
          "data": {
            "text/html": [
              "<pre style=\"white-space:pre;overflow-x:auto;line-height:normal;font-family:Menlo,'DejaVu Sans Mono',consolas,'Courier New',monospace\">Reaction Real: C C O C <span style=\"font-weight: bold\">(</span> = O <span style=\"font-weight: bold\">)</span> C c <span style=\"color: #008080; text-decoration-color: #008080; font-weight: bold\">1</span> c c c <span style=\"color: #008080; text-decoration-color: #008080; font-weight: bold\">2</span> s c <span style=\"font-weight: bold\">(</span> = O <span style=\"font-weight: bold\">)</span> <span style=\"font-weight: bold\">[</span> n H <span style=\"font-weight: bold\">]</span> c <span style=\"color: #008080; text-decoration-color: #008080; font-weight: bold\">2</span> c <span style=\"color: #008080; text-decoration-color: #008080; font-weight: bold\">1</span>\n",
              "</pre>\n"
            ],
            "text/plain": [
              "Reaction Real: C C O C \u001b[1m(\u001b[0m = O \u001b[1m)\u001b[0m C c \u001b[1;36m1\u001b[0m c c c \u001b[1;36m2\u001b[0m s c \u001b[1m(\u001b[0m = O \u001b[1m)\u001b[0m \u001b[1m[\u001b[0m n H \u001b[1m]\u001b[0m c \u001b[1;36m2\u001b[0m c \u001b[1;36m1\u001b[0m\n"
            ]
          },
          "metadata": {
            "tags": []
          }
        },
        {
          "output_type": "display_data",
          "data": {
            "text/html": [
              "<pre style=\"white-space:pre;overflow-x:auto;line-height:normal;font-family:Menlo,'DejaVu Sans Mono',consolas,'Courier New',monospace\">prediction: c c o c <span style=\"font-weight: bold\">(</span> = o <span style=\"font-weight: bold\">)</span> c c <span style=\"color: #008080; text-decoration-color: #008080; font-weight: bold\">1</span> c c c <span style=\"color: #008080; text-decoration-color: #008080; font-weight: bold\">2</span> s c <span style=\"font-weight: bold\">(</span> = o <span style=\"font-weight: bold\">)</span> <span style=\"font-weight: bold\">[</span> n h <span style=\"font-weight: bold\">]</span> c <span style=\"color: #008080; text-decoration-color: #008080; font-weight: bold\">2</span> c <span style=\"color: #008080; text-decoration-color: #008080; font-weight: bold\">1</span> \n",
              "</pre>\n"
            ],
            "text/plain": [
              "prediction: c c o c \u001b[1m(\u001b[0m = o \u001b[1m)\u001b[0m c c \u001b[1;36m1\u001b[0m c c c \u001b[1;36m2\u001b[0m s c \u001b[1m(\u001b[0m = o \u001b[1m)\u001b[0m \u001b[1m[\u001b[0m n h \u001b[1m]\u001b[0m c \u001b[1;36m2\u001b[0m c \u001b[1;36m1\u001b[0m \n"
            ]
          },
          "metadata": {
            "tags": []
          }
        },
        {
          "output_type": "display_data",
          "data": {
            "text/html": [
              "<pre style=\"white-space:pre;overflow-x:auto;line-height:normal;font-family:Menlo,'DejaVu Sans Mono',consolas,'Courier New',monospace\">    \n",
              "</pre>\n"
            ],
            "text/plain": [
              "    \n"
            ]
          },
          "metadata": {
            "tags": []
          }
        },
        {
          "output_type": "display_data",
          "data": {
            "text/html": [
              "<pre style=\"white-space:pre;overflow-x:auto;line-height:normal;font-family:Menlo,'DejaVu Sans Mono',consolas,'Courier New',monospace\">Product: <span style=\"font-weight: bold\">&lt;</span><span style=\"color: #ff00ff; text-decoration-color: #ff00ff; font-weight: bold\">RX_9</span><span style=\"font-weight: bold\">&gt;</span> N C <span style=\"font-weight: bold\">(</span> = O <span style=\"font-weight: bold\">)</span> C <span style=\"color: #008080; text-decoration-color: #008080; font-weight: bold\">1</span> C C N <span style=\"font-weight: bold\">(</span> C C C O c <span style=\"color: #008080; text-decoration-color: #008080; font-weight: bold\">2</span> c c c <span style=\"font-weight: bold\">(</span> - n <span style=\"color: #008080; text-decoration-color: #008080; font-weight: bold\">3</span> n c <span style=\"color: #008080; text-decoration-color: #008080; font-weight: bold\">4</span> c c c c c <span style=\"color: #008080; text-decoration-color: #008080; font-weight: bold\">4</span> c <span style=\"color: #008080; text-decoration-color: #008080; font-weight: bold\">3</span> C l <span style=\"font-weight: bold\">)</span>\n",
              "c c <span style=\"color: #008080; text-decoration-color: #008080; font-weight: bold\">2</span> <span style=\"font-weight: bold\">)</span> C C <span style=\"color: #008080; text-decoration-color: #008080; font-weight: bold\">1</span>\n",
              "</pre>\n"
            ],
            "text/plain": [
              "Product: \u001b[1m<\u001b[0m\u001b[1;95mRX_9\u001b[0m\u001b[1m>\u001b[0m N C \u001b[1m(\u001b[0m = O \u001b[1m)\u001b[0m C \u001b[1;36m1\u001b[0m C C N \u001b[1m(\u001b[0m C C C O c \u001b[1;36m2\u001b[0m c c c \u001b[1m(\u001b[0m - n \u001b[1;36m3\u001b[0m n c \u001b[1;36m4\u001b[0m c c c c c \u001b[1;36m4\u001b[0m c \u001b[1;36m3\u001b[0m C l \u001b[1m)\u001b[0m\n",
              "c c \u001b[1;36m2\u001b[0m \u001b[1m)\u001b[0m C C \u001b[1;36m1\u001b[0m\n"
            ]
          },
          "metadata": {
            "tags": []
          }
        },
        {
          "output_type": "display_data",
          "data": {
            "text/html": [
              "<pre style=\"white-space:pre;overflow-x:auto;line-height:normal;font-family:Menlo,'DejaVu Sans Mono',consolas,'Courier New',monospace\">Reaction Real: N . O = C <span style=\"font-weight: bold\">(</span> O <span style=\"font-weight: bold\">)</span> C <span style=\"color: #008080; text-decoration-color: #008080; font-weight: bold\">1</span> C C N <span style=\"font-weight: bold\">(</span> C C C O c <span style=\"color: #008080; text-decoration-color: #008080; font-weight: bold\">2</span> c c c <span style=\"font-weight: bold\">(</span> - n <span style=\"color: #008080; text-decoration-color: #008080; font-weight: bold\">3</span> n c <span style=\"color: #008080; text-decoration-color: #008080; font-weight: bold\">4</span> c c c c c <span style=\"color: #008080; text-decoration-color: #008080; font-weight: bold\">4</span> c <span style=\"color: #008080; text-decoration-color: #008080; font-weight: bold\">3</span> C \n",
              "l <span style=\"font-weight: bold\">)</span> c c <span style=\"color: #008080; text-decoration-color: #008080; font-weight: bold\">2</span> <span style=\"font-weight: bold\">)</span> C C <span style=\"color: #008080; text-decoration-color: #008080; font-weight: bold\">1</span>\n",
              "</pre>\n"
            ],
            "text/plain": [
              "Reaction Real: N . O = C \u001b[1m(\u001b[0m O \u001b[1m)\u001b[0m C \u001b[1;36m1\u001b[0m C C N \u001b[1m(\u001b[0m C C C O c \u001b[1;36m2\u001b[0m c c c \u001b[1m(\u001b[0m - n \u001b[1;36m3\u001b[0m n c \u001b[1;36m4\u001b[0m c c c c c \u001b[1;36m4\u001b[0m c \u001b[1;36m3\u001b[0m C \n",
              "l \u001b[1m)\u001b[0m c c \u001b[1;36m2\u001b[0m \u001b[1m)\u001b[0m C C \u001b[1;36m1\u001b[0m\n"
            ]
          },
          "metadata": {
            "tags": []
          }
        },
        {
          "output_type": "display_data",
          "data": {
            "text/html": [
              "<pre style=\"white-space:pre;overflow-x:auto;line-height:normal;font-family:Menlo,'DejaVu Sans Mono',consolas,'Courier New',monospace\">prediction: c c o c <span style=\"font-weight: bold\">(</span> = o <span style=\"font-weight: bold\">)</span> c <span style=\"color: #008080; text-decoration-color: #008080; font-weight: bold\">1</span> c c n <span style=\"font-weight: bold\">(</span> c c c o c <span style=\"color: #008080; text-decoration-color: #008080; font-weight: bold\">2</span> c c c <span style=\"font-weight: bold\">(</span> - n <span style=\"color: #008080; text-decoration-color: #008080; font-weight: bold\">3</span> n c <span style=\"color: #008080; text-decoration-color: #008080; font-weight: bold\">4</span> c c c c c <span style=\"color: #008080; text-decoration-color: #008080; font-weight: bold\">4</span> c <span style=\"color: #008080; text-decoration-color: #008080; font-weight: bold\">3</span> c l <span style=\"font-weight: bold\">)</span>\n",
              "c c <span style=\"color: #008080; text-decoration-color: #008080; font-weight: bold\">2</span> <span style=\"font-weight: bold\">)</span> c c <span style=\"color: #008080; text-decoration-color: #008080; font-weight: bold\">1</span> . n \n",
              "</pre>\n"
            ],
            "text/plain": [
              "prediction: c c o c \u001b[1m(\u001b[0m = o \u001b[1m)\u001b[0m c \u001b[1;36m1\u001b[0m c c n \u001b[1m(\u001b[0m c c c o c \u001b[1;36m2\u001b[0m c c c \u001b[1m(\u001b[0m - n \u001b[1;36m3\u001b[0m n c \u001b[1;36m4\u001b[0m c c c c c \u001b[1;36m4\u001b[0m c \u001b[1;36m3\u001b[0m c l \u001b[1m)\u001b[0m\n",
              "c c \u001b[1;36m2\u001b[0m \u001b[1m)\u001b[0m c c \u001b[1;36m1\u001b[0m . n \n"
            ]
          },
          "metadata": {
            "tags": []
          }
        },
        {
          "output_type": "display_data",
          "data": {
            "text/html": [
              "<pre style=\"white-space:pre;overflow-x:auto;line-height:normal;font-family:Menlo,'DejaVu Sans Mono',consolas,'Courier New',monospace\">    \n",
              "</pre>\n"
            ],
            "text/plain": [
              "    \n"
            ]
          },
          "metadata": {
            "tags": []
          }
        },
        {
          "output_type": "display_data",
          "data": {
            "text/html": [
              "<pre style=\"white-space:pre;overflow-x:auto;line-height:normal;font-family:Menlo,'DejaVu Sans Mono',consolas,'Courier New',monospace\">Product: <span style=\"font-weight: bold\">&lt;</span><span style=\"color: #ff00ff; text-decoration-color: #ff00ff; font-weight: bold\">RX_2</span><span style=\"font-weight: bold\">&gt;</span> C C <span style=\"font-weight: bold\">(</span> C <span style=\"font-weight: bold\">)</span> <span style=\"font-weight: bold\">(</span> C <span style=\"font-weight: bold\">)</span> c <span style=\"color: #008080; text-decoration-color: #008080; font-weight: bold\">1</span> c c c <span style=\"font-weight: bold\">(</span> C N <span style=\"font-weight: bold\">(</span> C C c <span style=\"color: #008080; text-decoration-color: #008080; font-weight: bold\">2</span> c c <span style=\"font-weight: bold\">(</span> F <span style=\"font-weight: bold\">)</span> c c <span style=\"font-weight: bold\">(</span> C <span style=\"font-weight: bold\">(</span> F <span style=\"font-weight: bold\">)</span> <span style=\"font-weight: bold\">(</span> F <span style=\"font-weight: bold\">)</span> F <span style=\"font-weight: bold\">)</span> c\n",
              "<span style=\"color: #008080; text-decoration-color: #008080; font-weight: bold\">2</span> <span style=\"font-weight: bold\">)</span> C <span style=\"font-weight: bold\">(</span> = O <span style=\"font-weight: bold\">)</span> c <span style=\"color: #008080; text-decoration-color: #008080; font-weight: bold\">2</span> c c <span style=\"font-weight: bold\">(</span> C <span style=\"font-weight: bold\">(</span> F <span style=\"font-weight: bold\">)</span> <span style=\"font-weight: bold\">(</span> F <span style=\"font-weight: bold\">)</span> F <span style=\"font-weight: bold\">)</span> c c <span style=\"font-weight: bold\">(</span> C l <span style=\"font-weight: bold\">)</span> c <span style=\"color: #008080; text-decoration-color: #008080; font-weight: bold\">2</span> F <span style=\"font-weight: bold\">)</span> c c <span style=\"color: #008080; text-decoration-color: #008080; font-weight: bold\">1</span>\n",
              "</pre>\n"
            ],
            "text/plain": [
              "Product: \u001b[1m<\u001b[0m\u001b[1;95mRX_2\u001b[0m\u001b[1m>\u001b[0m C C \u001b[1m(\u001b[0m C \u001b[1m)\u001b[0m \u001b[1m(\u001b[0m C \u001b[1m)\u001b[0m c \u001b[1;36m1\u001b[0m c c c \u001b[1m(\u001b[0m C N \u001b[1m(\u001b[0m C C c \u001b[1;36m2\u001b[0m c c \u001b[1m(\u001b[0m F \u001b[1m)\u001b[0m c c \u001b[1m(\u001b[0m C \u001b[1m(\u001b[0m F \u001b[1m)\u001b[0m \u001b[1m(\u001b[0m F \u001b[1m)\u001b[0m F \u001b[1m)\u001b[0m c\n",
              "\u001b[1;36m2\u001b[0m \u001b[1m)\u001b[0m C \u001b[1m(\u001b[0m = O \u001b[1m)\u001b[0m c \u001b[1;36m2\u001b[0m c c \u001b[1m(\u001b[0m C \u001b[1m(\u001b[0m F \u001b[1m)\u001b[0m \u001b[1m(\u001b[0m F \u001b[1m)\u001b[0m F \u001b[1m)\u001b[0m c c \u001b[1m(\u001b[0m C l \u001b[1m)\u001b[0m c \u001b[1;36m2\u001b[0m F \u001b[1m)\u001b[0m c c \u001b[1;36m1\u001b[0m\n"
            ]
          },
          "metadata": {
            "tags": []
          }
        },
        {
          "output_type": "display_data",
          "data": {
            "text/html": [
              "<pre style=\"white-space:pre;overflow-x:auto;line-height:normal;font-family:Menlo,'DejaVu Sans Mono',consolas,'Courier New',monospace\">Reaction Real: C C <span style=\"font-weight: bold\">(</span> C <span style=\"font-weight: bold\">)</span> <span style=\"font-weight: bold\">(</span> C <span style=\"font-weight: bold\">)</span> c <span style=\"color: #008080; text-decoration-color: #008080; font-weight: bold\">1</span> c c c <span style=\"font-weight: bold\">(</span> C N C C c <span style=\"color: #008080; text-decoration-color: #008080; font-weight: bold\">2</span> c c <span style=\"font-weight: bold\">(</span> F <span style=\"font-weight: bold\">)</span> c c <span style=\"font-weight: bold\">(</span> C <span style=\"font-weight: bold\">(</span> F <span style=\"font-weight: bold\">)</span> <span style=\"font-weight: bold\">(</span> F <span style=\"font-weight: bold\">)</span> F <span style=\"font-weight: bold\">)</span> c <span style=\"color: #008080; text-decoration-color: #008080; font-weight: bold\">2</span> \n",
              "<span style=\"font-weight: bold\">)</span> c c <span style=\"color: #008080; text-decoration-color: #008080; font-weight: bold\">1</span> . O = C <span style=\"font-weight: bold\">(</span> O <span style=\"font-weight: bold\">)</span> c <span style=\"color: #008080; text-decoration-color: #008080; font-weight: bold\">1</span> c c <span style=\"font-weight: bold\">(</span> C <span style=\"font-weight: bold\">(</span> F <span style=\"font-weight: bold\">)</span> <span style=\"font-weight: bold\">(</span> F <span style=\"font-weight: bold\">)</span> F <span style=\"font-weight: bold\">)</span> c c <span style=\"font-weight: bold\">(</span> C l <span style=\"font-weight: bold\">)</span> c <span style=\"color: #008080; text-decoration-color: #008080; font-weight: bold\">1</span> F\n",
              "</pre>\n"
            ],
            "text/plain": [
              "Reaction Real: C C \u001b[1m(\u001b[0m C \u001b[1m)\u001b[0m \u001b[1m(\u001b[0m C \u001b[1m)\u001b[0m c \u001b[1;36m1\u001b[0m c c c \u001b[1m(\u001b[0m C N C C c \u001b[1;36m2\u001b[0m c c \u001b[1m(\u001b[0m F \u001b[1m)\u001b[0m c c \u001b[1m(\u001b[0m C \u001b[1m(\u001b[0m F \u001b[1m)\u001b[0m \u001b[1m(\u001b[0m F \u001b[1m)\u001b[0m F \u001b[1m)\u001b[0m c \u001b[1;36m2\u001b[0m \n",
              "\u001b[1m)\u001b[0m c c \u001b[1;36m1\u001b[0m . O = C \u001b[1m(\u001b[0m O \u001b[1m)\u001b[0m c \u001b[1;36m1\u001b[0m c c \u001b[1m(\u001b[0m C \u001b[1m(\u001b[0m F \u001b[1m)\u001b[0m \u001b[1m(\u001b[0m F \u001b[1m)\u001b[0m F \u001b[1m)\u001b[0m c c \u001b[1m(\u001b[0m C l \u001b[1m)\u001b[0m c \u001b[1;36m1\u001b[0m F\n"
            ]
          },
          "metadata": {
            "tags": []
          }
        },
        {
          "output_type": "display_data",
          "data": {
            "text/html": [
              "<pre style=\"white-space:pre;overflow-x:auto;line-height:normal;font-family:Menlo,'DejaVu Sans Mono',consolas,'Courier New',monospace\">prediction: c c <span style=\"font-weight: bold\">(</span> c <span style=\"font-weight: bold\">)</span> <span style=\"font-weight: bold\">(</span> c <span style=\"font-weight: bold\">)</span> c <span style=\"color: #008080; text-decoration-color: #008080; font-weight: bold\">1</span> c c c <span style=\"font-weight: bold\">(</span> c n c c c <span style=\"color: #008080; text-decoration-color: #008080; font-weight: bold\">2</span> c c <span style=\"font-weight: bold\">(</span> f <span style=\"font-weight: bold\">)</span> c c <span style=\"font-weight: bold\">(</span> c <span style=\"font-weight: bold\">(</span> f <span style=\"font-weight: bold\">)</span> <span style=\"font-weight: bold\">(</span> f <span style=\"font-weight: bold\">)</span> f <span style=\"font-weight: bold\">)</span> c <span style=\"color: #008080; text-decoration-color: #008080; font-weight: bold\">2</span> <span style=\"font-weight: bold\">)</span> c\n",
              "c <span style=\"color: #008080; text-decoration-color: #008080; font-weight: bold\">1</span> . o = c <span style=\"font-weight: bold\">(</span> o <span style=\"font-weight: bold\">)</span> c <span style=\"color: #008080; text-decoration-color: #008080; font-weight: bold\">1</span> c c <span style=\"font-weight: bold\">(</span> c <span style=\"font-weight: bold\">(</span> f <span style=\"font-weight: bold\">)</span> <span style=\"font-weight: bold\">(</span> f <span style=\"font-weight: bold\">)</span> f <span style=\"font-weight: bold\">)</span> c c <span style=\"font-weight: bold\">(</span> c l <span style=\"font-weight: bold\">)</span> c <span style=\"color: #008080; text-decoration-color: #008080; font-weight: bold\">1</span> f \n",
              "</pre>\n"
            ],
            "text/plain": [
              "prediction: c c \u001b[1m(\u001b[0m c \u001b[1m)\u001b[0m \u001b[1m(\u001b[0m c \u001b[1m)\u001b[0m c \u001b[1;36m1\u001b[0m c c c \u001b[1m(\u001b[0m c n c c c \u001b[1;36m2\u001b[0m c c \u001b[1m(\u001b[0m f \u001b[1m)\u001b[0m c c \u001b[1m(\u001b[0m c \u001b[1m(\u001b[0m f \u001b[1m)\u001b[0m \u001b[1m(\u001b[0m f \u001b[1m)\u001b[0m f \u001b[1m)\u001b[0m c \u001b[1;36m2\u001b[0m \u001b[1m)\u001b[0m c\n",
              "c \u001b[1;36m1\u001b[0m . o = c \u001b[1m(\u001b[0m o \u001b[1m)\u001b[0m c \u001b[1;36m1\u001b[0m c c \u001b[1m(\u001b[0m c \u001b[1m(\u001b[0m f \u001b[1m)\u001b[0m \u001b[1m(\u001b[0m f \u001b[1m)\u001b[0m f \u001b[1m)\u001b[0m c c \u001b[1m(\u001b[0m c l \u001b[1m)\u001b[0m c \u001b[1;36m1\u001b[0m f \n"
            ]
          },
          "metadata": {
            "tags": []
          }
        },
        {
          "output_type": "display_data",
          "data": {
            "text/html": [
              "<pre style=\"white-space:pre;overflow-x:auto;line-height:normal;font-family:Menlo,'DejaVu Sans Mono',consolas,'Courier New',monospace\">    \n",
              "</pre>\n"
            ],
            "text/plain": [
              "    \n"
            ]
          },
          "metadata": {
            "tags": []
          }
        },
        {
          "output_type": "display_data",
          "data": {
            "text/html": [
              "<pre style=\"white-space:pre;overflow-x:auto;line-height:normal;font-family:Menlo,'DejaVu Sans Mono',consolas,'Courier New',monospace\">Product: <span style=\"font-weight: bold\">&lt;</span><span style=\"color: #ff00ff; text-decoration-color: #ff00ff; font-weight: bold\">RX_1</span><span style=\"font-weight: bold\">&gt;</span> C C O C <span style=\"font-weight: bold\">(</span> = O <span style=\"font-weight: bold\">)</span> c <span style=\"color: #008080; text-decoration-color: #008080; font-weight: bold\">1</span> c o c <span style=\"color: #008080; text-decoration-color: #008080; font-weight: bold\">2</span> c c <span style=\"font-weight: bold\">(</span> N <span style=\"color: #008080; text-decoration-color: #008080; font-weight: bold\">3</span> C <span style=\"font-weight: bold\">(</span> = O <span style=\"font-weight: bold\">)</span> c <span style=\"color: #008080; text-decoration-color: #008080; font-weight: bold\">4</span> c c c c c <span style=\"color: #008080; text-decoration-color: #008080; font-weight: bold\">4</span> C <span style=\"color: #008080; text-decoration-color: #008080; font-weight: bold\">3</span> = O <span style=\"font-weight: bold\">)</span> c c\n",
              "c <span style=\"color: #008080; text-decoration-color: #008080; font-weight: bold\">1</span> <span style=\"color: #008080; text-decoration-color: #008080; font-weight: bold\">2</span>\n",
              "</pre>\n"
            ],
            "text/plain": [
              "Product: \u001b[1m<\u001b[0m\u001b[1;95mRX_1\u001b[0m\u001b[1m>\u001b[0m C C O C \u001b[1m(\u001b[0m = O \u001b[1m)\u001b[0m c \u001b[1;36m1\u001b[0m c o c \u001b[1;36m2\u001b[0m c c \u001b[1m(\u001b[0m N \u001b[1;36m3\u001b[0m C \u001b[1m(\u001b[0m = O \u001b[1m)\u001b[0m c \u001b[1;36m4\u001b[0m c c c c c \u001b[1;36m4\u001b[0m C \u001b[1;36m3\u001b[0m = O \u001b[1m)\u001b[0m c c\n",
              "c \u001b[1;36m1\u001b[0m \u001b[1;36m2\u001b[0m\n"
            ]
          },
          "metadata": {
            "tags": []
          }
        },
        {
          "output_type": "display_data",
          "data": {
            "text/html": [
              "<pre style=\"white-space:pre;overflow-x:auto;line-height:normal;font-family:Menlo,'DejaVu Sans Mono',consolas,'Courier New',monospace\">Reaction Real: C C O C <span style=\"font-weight: bold\">(</span> = O <span style=\"font-weight: bold\">)</span> c <span style=\"color: #008080; text-decoration-color: #008080; font-weight: bold\">1</span> c o c <span style=\"color: #008080; text-decoration-color: #008080; font-weight: bold\">2</span> c c <span style=\"font-weight: bold\">(</span> B r <span style=\"font-weight: bold\">)</span> c c c <span style=\"color: #008080; text-decoration-color: #008080; font-weight: bold\">1</span> <span style=\"color: #008080; text-decoration-color: #008080; font-weight: bold\">2</span> . O = C <span style=\"color: #008080; text-decoration-color: #008080; font-weight: bold\">1</span> N C <span style=\"font-weight: bold\">(</span> = O <span style=\"font-weight: bold\">)</span> c <span style=\"color: #008080; text-decoration-color: #008080; font-weight: bold\">2</span> c \n",
              "c c c c <span style=\"color: #008080; text-decoration-color: #008080; font-weight: bold\">2</span> <span style=\"color: #008080; text-decoration-color: #008080; font-weight: bold\">1</span>\n",
              "</pre>\n"
            ],
            "text/plain": [
              "Reaction Real: C C O C \u001b[1m(\u001b[0m = O \u001b[1m)\u001b[0m c \u001b[1;36m1\u001b[0m c o c \u001b[1;36m2\u001b[0m c c \u001b[1m(\u001b[0m B r \u001b[1m)\u001b[0m c c c \u001b[1;36m1\u001b[0m \u001b[1;36m2\u001b[0m . O = C \u001b[1;36m1\u001b[0m N C \u001b[1m(\u001b[0m = O \u001b[1m)\u001b[0m c \u001b[1;36m2\u001b[0m c \n",
              "c c c c \u001b[1;36m2\u001b[0m \u001b[1;36m1\u001b[0m\n"
            ]
          },
          "metadata": {
            "tags": []
          }
        },
        {
          "output_type": "display_data",
          "data": {
            "text/html": [
              "<pre style=\"white-space:pre;overflow-x:auto;line-height:normal;font-family:Menlo,'DejaVu Sans Mono',consolas,'Courier New',monospace\">prediction: c c o c <span style=\"font-weight: bold\">(</span> = o <span style=\"font-weight: bold\">)</span> c <span style=\"color: #008080; text-decoration-color: #008080; font-weight: bold\">1</span> c o c <span style=\"color: #008080; text-decoration-color: #008080; font-weight: bold\">2</span> c c <span style=\"font-weight: bold\">(</span> b r <span style=\"font-weight: bold\">)</span> c c c <span style=\"color: #008080; text-decoration-color: #008080; font-weight: bold\">1</span> <span style=\"color: #008080; text-decoration-color: #008080; font-weight: bold\">2</span> . o = c <span style=\"color: #008080; text-decoration-color: #008080; font-weight: bold\">1</span> n c <span style=\"font-weight: bold\">(</span> = o <span style=\"font-weight: bold\">)</span> c <span style=\"color: #008080; text-decoration-color: #008080; font-weight: bold\">2</span> c c c\n",
              "c c <span style=\"color: #008080; text-decoration-color: #008080; font-weight: bold\">2</span> <span style=\"color: #008080; text-decoration-color: #008080; font-weight: bold\">1</span> \n",
              "</pre>\n"
            ],
            "text/plain": [
              "prediction: c c o c \u001b[1m(\u001b[0m = o \u001b[1m)\u001b[0m c \u001b[1;36m1\u001b[0m c o c \u001b[1;36m2\u001b[0m c c \u001b[1m(\u001b[0m b r \u001b[1m)\u001b[0m c c c \u001b[1;36m1\u001b[0m \u001b[1;36m2\u001b[0m . o = c \u001b[1;36m1\u001b[0m n c \u001b[1m(\u001b[0m = o \u001b[1m)\u001b[0m c \u001b[1;36m2\u001b[0m c c c\n",
              "c c \u001b[1;36m2\u001b[0m \u001b[1;36m1\u001b[0m \n"
            ]
          },
          "metadata": {
            "tags": []
          }
        },
        {
          "output_type": "display_data",
          "data": {
            "text/html": [
              "<pre style=\"white-space:pre;overflow-x:auto;line-height:normal;font-family:Menlo,'DejaVu Sans Mono',consolas,'Courier New',monospace\">    \n",
              "</pre>\n"
            ],
            "text/plain": [
              "    \n"
            ]
          },
          "metadata": {
            "tags": []
          }
        }
      ]
    },
    {
      "cell_type": "code",
      "metadata": {
        "colab": {
          "base_uri": "https://localhost:8080/",
          "height": 68
        },
        "id": "IGGb5BnRFdLj",
        "outputId": "a2ff723f-ae4f-42b6-aafb-27dac2667bf1"
      },
      "source": [
        "i=50034\n",
        "translate(transformer, df.input[i], src_vocab, tgt_vocab, tokenizer)"
      ],
      "id": "IGGb5BnRFdLj",
      "execution_count": 34,
      "outputs": [
        {
          "output_type": "display_data",
          "data": {
            "text/html": [
              "<pre style=\"white-space:pre;overflow-x:auto;line-height:normal;font-family:Menlo,'DejaVu Sans Mono',consolas,'Courier New',monospace\">Product: <span style=\"font-weight: bold\">&lt;</span><span style=\"color: #ff00ff; text-decoration-color: #ff00ff; font-weight: bold\">RX_3</span><span style=\"font-weight: bold\">&gt;</span> C c <span style=\"color: #008080; text-decoration-color: #008080; font-weight: bold\">1</span> c c c <span style=\"font-weight: bold\">(</span> - c <span style=\"color: #008080; text-decoration-color: #008080; font-weight: bold\">2</span> c c n c c <span style=\"color: #008080; text-decoration-color: #008080; font-weight: bold\">2</span> <span style=\"font-weight: bold\">)</span> c c <span style=\"color: #008080; text-decoration-color: #008080; font-weight: bold\">1</span> C = O\n",
              "</pre>\n"
            ],
            "text/plain": [
              "Product: \u001b[1m<\u001b[0m\u001b[1;95mRX_3\u001b[0m\u001b[1m>\u001b[0m C c \u001b[1;36m1\u001b[0m c c c \u001b[1m(\u001b[0m - c \u001b[1;36m2\u001b[0m c c n c c \u001b[1;36m2\u001b[0m \u001b[1m)\u001b[0m c c \u001b[1;36m1\u001b[0m C = O\n"
            ]
          },
          "metadata": {
            "tags": []
          }
        },
        {
          "output_type": "display_data",
          "data": {
            "text/html": [
              "<pre style=\"white-space:pre;overflow-x:auto;line-height:normal;font-family:Menlo,'DejaVu Sans Mono',consolas,'Courier New',monospace\">Reaction Real: C c <span style=\"color: #008080; text-decoration-color: #008080; font-weight: bold\">1</span> c c c <span style=\"font-weight: bold\">(</span> B r <span style=\"font-weight: bold\">)</span> c c <span style=\"color: #008080; text-decoration-color: #008080; font-weight: bold\">1</span> C = O . O B <span style=\"font-weight: bold\">(</span> O <span style=\"font-weight: bold\">)</span> c <span style=\"color: #008080; text-decoration-color: #008080; font-weight: bold\">1</span> c c n c c <span style=\"color: #008080; text-decoration-color: #008080; font-weight: bold\">1</span>\n",
              "</pre>\n"
            ],
            "text/plain": [
              "Reaction Real: C c \u001b[1;36m1\u001b[0m c c c \u001b[1m(\u001b[0m B r \u001b[1m)\u001b[0m c c \u001b[1;36m1\u001b[0m C = O . O B \u001b[1m(\u001b[0m O \u001b[1m)\u001b[0m c \u001b[1;36m1\u001b[0m c c n c c \u001b[1;36m1\u001b[0m\n"
            ]
          },
          "metadata": {
            "tags": []
          }
        },
        {
          "output_type": "display_data",
          "data": {
            "text/html": [
              "<pre style=\"white-space:pre;overflow-x:auto;line-height:normal;font-family:Menlo,'DejaVu Sans Mono',consolas,'Courier New',monospace\">prediction: b r c <span style=\"color: #008080; text-decoration-color: #008080; font-weight: bold\">1</span> c c n c c <span style=\"color: #008080; text-decoration-color: #008080; font-weight: bold\">1</span> . c c <span style=\"color: #008080; text-decoration-color: #008080; font-weight: bold\">1</span> c c c <span style=\"font-weight: bold\">(</span> b <span style=\"font-weight: bold\">(</span> o <span style=\"font-weight: bold\">)</span> o <span style=\"font-weight: bold\">)</span> c c <span style=\"color: #008080; text-decoration-color: #008080; font-weight: bold\">1</span> c = o\n",
              "</pre>\n"
            ],
            "text/plain": [
              "prediction: b r c \u001b[1;36m1\u001b[0m c c n c c \u001b[1;36m1\u001b[0m . c c \u001b[1;36m1\u001b[0m c c c \u001b[1m(\u001b[0m b \u001b[1m(\u001b[0m o \u001b[1m)\u001b[0m o \u001b[1m)\u001b[0m c c \u001b[1;36m1\u001b[0m c = o\n"
            ]
          },
          "metadata": {
            "tags": []
          }
        }
      ]
    },
    {
      "cell_type": "code",
      "metadata": {
        "id": "thrown-rebecca"
      },
      "source": [
        "#translate(transformer, \"<RX_1> O = C 1 C C [ C @ H ] ( C N 2 C C N ( C C O c 3 c c 4 n c n c ( N c 5 c c c ( F ) c ( C l ) c 5 ) c 4 c c 3 O C 3 C C C C 3 ) C C 2 ) O 1\", src_vocab, tgt_vocab, tokenizer)"
      ],
      "id": "thrown-rebecca",
      "execution_count": null,
      "outputs": []
    },
    {
      "cell_type": "markdown",
      "metadata": {
        "id": "rdpUmPLI8MRv"
      },
      "source": [
        "#beam search "
      ],
      "id": "rdpUmPLI8MRv"
    },
    {
      "cell_type": "code",
      "metadata": {
        "id": "WZkcWqq98T-Q"
      },
      "source": [
        ""
      ],
      "id": "WZkcWqq98T-Q",
      "execution_count": null,
      "outputs": []
    },
    {
      "cell_type": "markdown",
      "metadata": {
        "id": "Ejhr_C-PIR_I"
      },
      "source": [
        ""
      ],
      "id": "Ejhr_C-PIR_I"
    }
  ]
}