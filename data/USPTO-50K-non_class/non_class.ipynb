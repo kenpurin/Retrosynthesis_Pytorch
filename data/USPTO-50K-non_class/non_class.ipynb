{
 "cells": [
  {
   "cell_type": "code",
   "execution_count": 1,
   "id": "209a2811",
   "metadata": {},
   "outputs": [],
   "source": [
    "import pandas as pd "
   ]
  },
  {
   "cell_type": "code",
   "execution_count": 8,
   "id": "67159e79",
   "metadata": {},
   "outputs": [],
   "source": [
    "#classification \n",
    "df_train=pd.read_csv(\"src/src-train.txt\",sep=\">\",names=[\"Rx\",\"prod_smiles\"])\n",
    "df_test=pd.read_csv(\"src/src-test.txt\",sep=\">\",names=[\"Rx\",\"prod_smiles\"])\n",
    "df_val=pd.read_csv(\"src/src-val.txt\",sep=\">\",names=[\"Rx\",\"prod_smiles\"])"
   ]
  },
  {
   "cell_type": "code",
   "execution_count": 14,
   "id": "50d49c5b",
   "metadata": {},
   "outputs": [],
   "source": [
    "df_train.prod_smiles.replace(' ', '',regex=True,inplace=True)\n",
    "df_test.prod_smiles.replace(' ', '',regex=True,inplace=True)\n",
    "df_val.prod_smiles.replace(' ', '',regex=True,inplace=True)"
   ]
  },
  {
   "cell_type": "code",
   "execution_count": 16,
   "id": "1702f05f",
   "metadata": {},
   "outputs": [
    {
     "data": {
      "text/html": [
       "<div>\n",
       "<style scoped>\n",
       "    .dataframe tbody tr th:only-of-type {\n",
       "        vertical-align: middle;\n",
       "    }\n",
       "\n",
       "    .dataframe tbody tr th {\n",
       "        vertical-align: top;\n",
       "    }\n",
       "\n",
       "    .dataframe thead th {\n",
       "        text-align: right;\n",
       "    }\n",
       "</style>\n",
       "<table border=\"1\" class=\"dataframe\">\n",
       "  <thead>\n",
       "    <tr style=\"text-align: right;\">\n",
       "      <th></th>\n",
       "      <th>Rx</th>\n",
       "      <th>prod_smiles</th>\n",
       "    </tr>\n",
       "  </thead>\n",
       "  <tbody>\n",
       "    <tr>\n",
       "      <th>0</th>\n",
       "      <td>&lt;RX_1</td>\n",
       "      <td>COC(=O)CCC(=O)c1ccc(OC2CCCCO2)cc1O</td>\n",
       "    </tr>\n",
       "    <tr>\n",
       "      <th>1</th>\n",
       "      <td>&lt;RX_4</td>\n",
       "      <td>COC(=O)c1cccc(-c2nc3cccnc3[nH]2)c1</td>\n",
       "    </tr>\n",
       "    <tr>\n",
       "      <th>2</th>\n",
       "      <td>&lt;RX_2</td>\n",
       "      <td>CON(C)C(=O)C1CCC(NC(=O)OC(C)(C)C)CC1</td>\n",
       "    </tr>\n",
       "    <tr>\n",
       "      <th>3</th>\n",
       "      <td>&lt;RX_1</td>\n",
       "      <td>O=[N+]([O-])c1ccc(Cl)nc1Nc1ccc(O)cc1</td>\n",
       "    </tr>\n",
       "    <tr>\n",
       "      <th>4</th>\n",
       "      <td>&lt;RX_9</td>\n",
       "      <td>NCC1=CC[C@@H](c2ccc(Cl)cc2Cl)[C@H]([N+](=O)[O-...</td>\n",
       "    </tr>\n",
       "    <tr>\n",
       "      <th>...</th>\n",
       "      <td>...</td>\n",
       "      <td>...</td>\n",
       "    </tr>\n",
       "    <tr>\n",
       "      <th>4999</th>\n",
       "      <td>&lt;RX_1</td>\n",
       "      <td>Cc1cc([N+](=O)[O-])ccc1Oc1ccnc(N)c1</td>\n",
       "    </tr>\n",
       "    <tr>\n",
       "      <th>5000</th>\n",
       "      <td>&lt;RX_6</td>\n",
       "      <td>COC(=O)c1[nH]c2cc(Cl)cc3c2c1C(CC(=O)O)CC3</td>\n",
       "    </tr>\n",
       "    <tr>\n",
       "      <th>5001</th>\n",
       "      <td>&lt;RX_7</td>\n",
       "      <td>COc1cc(C(F)(F)F)cc(SC)c1C(=O)NC1(c2ccccc2)CC(O...</td>\n",
       "    </tr>\n",
       "    <tr>\n",
       "      <th>5002</th>\n",
       "      <td>&lt;RX_10</td>\n",
       "      <td>Cc1nn(CC(C)CO)c(-c2ccc(F)cc2)c1Br</td>\n",
       "    </tr>\n",
       "    <tr>\n",
       "      <th>5003</th>\n",
       "      <td>&lt;RX_1</td>\n",
       "      <td>COC(=O)c1cc(SCc2ccc(OC)cc2)c(F)c(F)c1Nc1ccccc1F</td>\n",
       "    </tr>\n",
       "  </tbody>\n",
       "</table>\n",
       "<p>5004 rows × 2 columns</p>\n",
       "</div>"
      ],
      "text/plain": [
       "          Rx                                        prod_smiles\n",
       "0      <RX_1                 COC(=O)CCC(=O)c1ccc(OC2CCCCO2)cc1O\n",
       "1      <RX_4                 COC(=O)c1cccc(-c2nc3cccnc3[nH]2)c1\n",
       "2      <RX_2               CON(C)C(=O)C1CCC(NC(=O)OC(C)(C)C)CC1\n",
       "3      <RX_1               O=[N+]([O-])c1ccc(Cl)nc1Nc1ccc(O)cc1\n",
       "4      <RX_9  NCC1=CC[C@@H](c2ccc(Cl)cc2Cl)[C@H]([N+](=O)[O-...\n",
       "...      ...                                                ...\n",
       "4999   <RX_1                Cc1cc([N+](=O)[O-])ccc1Oc1ccnc(N)c1\n",
       "5000   <RX_6          COC(=O)c1[nH]c2cc(Cl)cc3c2c1C(CC(=O)O)CC3\n",
       "5001   <RX_7  COc1cc(C(F)(F)F)cc(SC)c1C(=O)NC1(c2ccccc2)CC(O...\n",
       "5002  <RX_10                  Cc1nn(CC(C)CO)c(-c2ccc(F)cc2)c1Br\n",
       "5003   <RX_1    COC(=O)c1cc(SCc2ccc(OC)cc2)c(F)c(F)c1Nc1ccccc1F\n",
       "\n",
       "[5004 rows x 2 columns]"
      ]
     },
     "execution_count": 16,
     "metadata": {},
     "output_type": "execute_result"
    }
   ],
   "source": [
    "df_test"
   ]
  },
  {
   "cell_type": "code",
   "execution_count": 17,
   "id": "eb741778",
   "metadata": {},
   "outputs": [],
   "source": [
    "keep_replace_src=[]\n",
    "for i in range(len(df_train)):\n",
    "    keep_replace_src.append(' '.join(df_train.prod_smiles[i]))"
   ]
  },
  {
   "cell_type": "code",
   "execution_count": 19,
   "id": "bb223421",
   "metadata": {},
   "outputs": [],
   "source": [
    "df_train= pd.Series(keep_replace_src)"
   ]
  },
  {
   "cell_type": "code",
   "execution_count": 22,
   "id": "245bede7",
   "metadata": {},
   "outputs": [],
   "source": [
    "df_train.to_csv(r'src-train.txt', header=None, index=None)"
   ]
  },
  {
   "cell_type": "code",
   "execution_count": 23,
   "id": "d73e32fd",
   "metadata": {},
   "outputs": [],
   "source": [
    "keep_replace_src=[]\n",
    "for i in range(len(df_test)):\n",
    "    keep_replace_src.append(' '.join(df_test.prod_smiles[i]))\n",
    "df_test= pd.Series(keep_replace_src)\n",
    "df_test.to_csv(r'src-test.txt', header=None, index=None)"
   ]
  },
  {
   "cell_type": "code",
   "execution_count": 24,
   "id": "5124a342",
   "metadata": {},
   "outputs": [],
   "source": [
    "keep_replace_src=[]\n",
    "for i in range(len(df_val)):\n",
    "    keep_replace_src.append(' '.join(df_val.prod_smiles[i]))\n",
    "df_val= pd.Series(keep_replace_src)\n",
    "df_val.to_csv(r'src-val.txt', header=None, index=None)"
   ]
  },
  {
   "cell_type": "code",
   "execution_count": null,
   "id": "1d82f632",
   "metadata": {},
   "outputs": [],
   "source": []
  }
 ],
 "metadata": {
  "kernelspec": {
   "display_name": "Python 3",
   "language": "python",
   "name": "python3"
  },
  "language_info": {
   "codemirror_mode": {
    "name": "ipython",
    "version": 3
   },
   "file_extension": ".py",
   "mimetype": "text/x-python",
   "name": "python",
   "nbconvert_exporter": "python",
   "pygments_lexer": "ipython3",
   "version": "3.7.10"
  }
 },
 "nbformat": 4,
 "nbformat_minor": 5
}
