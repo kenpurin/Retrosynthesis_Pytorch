{
 "cells": [
  {
   "cell_type": "code",
   "execution_count": 31,
   "id": "annual-jesus",
   "metadata": {},
   "outputs": [],
   "source": [
    "from rdkit import Chem\n",
    "import pandas as pd\n"
   ]
  },
  {
   "cell_type": "code",
   "execution_count": 16,
   "id": "cellular-nepal",
   "metadata": {},
   "outputs": [],
   "source": [
    "def canonicalize_smiles(smiles):\n",
    "    mol = Chem.MolFromSmiles(smiles)\n",
    "    if mol is not None:\n",
    "        return Chem.MolToSmiles(mol, isomericSmiles=True)\n",
    "    else:\n",
    "        return ''"
   ]
  },
  {
   "cell_type": "code",
   "execution_count": 17,
   "id": "electoral-principal",
   "metadata": {},
   "outputs": [],
   "source": [
    "def get_rank(row, base, max_rank):\n",
    "    for i in range(1, max_rank+1):\n",
    "        if row['target'] == row['{}{}'.format(base, i)]:\n",
    "            return i\n",
    "    return 0"
   ]
  },
  {
   "cell_type": "code",
   "execution_count": 32,
   "id": "reserved-economy",
   "metadata": {},
   "outputs": [],
   "source": [
    "#data/USPTO-50K/tgt-test.txt\n",
    "targets=\"data/USPTO-50K/tgt/tgt-test.txt\"\n",
    "#predictions=\"predictions_USPTO-50K_model_full_version_step_500000_beam10.txt\"\n",
    "beam_size=10\n",
    "with open(targets, 'r') as f:\n",
    "    targets = [''.join(line.strip().split(' ')) for line in f.readlines()]\n",
    "targets = targets[:]\n",
    "predictions = [[] for i in range(beam_size)]\n",
    "test_df = pd.DataFrame(targets)\n",
    "test_df.columns = ['target']\n",
    "total = len(test_df)\n",
    "\n",
    "\n"
   ]
  },
  {
   "cell_type": "code",
   "execution_count": 33,
   "id": "responsible-relations",
   "metadata": {},
   "outputs": [
    {
     "data": {
      "text/html": [
       "<div>\n",
       "<style scoped>\n",
       "    .dataframe tbody tr th:only-of-type {\n",
       "        vertical-align: middle;\n",
       "    }\n",
       "\n",
       "    .dataframe tbody tr th {\n",
       "        vertical-align: top;\n",
       "    }\n",
       "\n",
       "    .dataframe thead th {\n",
       "        text-align: right;\n",
       "    }\n",
       "</style>\n",
       "<table border=\"1\" class=\"dataframe\">\n",
       "  <thead>\n",
       "    <tr style=\"text-align: right;\">\n",
       "      <th></th>\n",
       "      <th>target</th>\n",
       "    </tr>\n",
       "  </thead>\n",
       "  <tbody>\n",
       "    <tr>\n",
       "      <th>0</th>\n",
       "      <td>C1=COCCC1.COC(=O)CCC(=O)c1ccc(O)cc1O</td>\n",
       "    </tr>\n",
       "    <tr>\n",
       "      <th>1</th>\n",
       "      <td>COC(=O)c1cccc(C(=O)O)c1.Nc1cccnc1N</td>\n",
       "    </tr>\n",
       "    <tr>\n",
       "      <th>2</th>\n",
       "      <td>CC(C)(C)OC(=O)NC1CCC(C(=O)O)CC1.CNOC</td>\n",
       "    </tr>\n",
       "    <tr>\n",
       "      <th>3</th>\n",
       "      <td>Nc1ccc(O)cc1.O=[N+]([O-])c1ccc(Cl)nc1Cl</td>\n",
       "    </tr>\n",
       "    <tr>\n",
       "      <th>4</th>\n",
       "      <td>[N-]=[N+]=NCC1=CC[C@@H](c2ccc(Cl)cc2Cl)[C@H]([...</td>\n",
       "    </tr>\n",
       "    <tr>\n",
       "      <th>...</th>\n",
       "      <td>...</td>\n",
       "    </tr>\n",
       "    <tr>\n",
       "      <th>4999</th>\n",
       "      <td>Cc1cc([N+](=O)[O-])ccc1O.Nc1cc(Cl)ccn1</td>\n",
       "    </tr>\n",
       "    <tr>\n",
       "      <th>5000</th>\n",
       "      <td>COC(=O)c1[nH]c2cc(Cl)cc3c2c1C(CC(=O)OC(C)(C)C)CC3</td>\n",
       "    </tr>\n",
       "    <tr>\n",
       "      <th>5001</th>\n",
       "      <td>COc1cc(C(F)(F)F)cc(SC)c1C(=O)NC1(c2ccccc2)CC(=...</td>\n",
       "    </tr>\n",
       "    <tr>\n",
       "      <th>5002</th>\n",
       "      <td>C=C(C)Cn1nc(C)c(Br)c1-c1ccc(F)cc1.OO</td>\n",
       "    </tr>\n",
       "    <tr>\n",
       "      <th>5003</th>\n",
       "      <td>COC(=O)c1cc(Br)c(F)c(F)c1Nc1ccccc1F.COc1ccc(CS...</td>\n",
       "    </tr>\n",
       "  </tbody>\n",
       "</table>\n",
       "<p>5004 rows × 1 columns</p>\n",
       "</div>"
      ],
      "text/plain": [
       "                                                 target\n",
       "0                  C1=COCCC1.COC(=O)CCC(=O)c1ccc(O)cc1O\n",
       "1                    COC(=O)c1cccc(C(=O)O)c1.Nc1cccnc1N\n",
       "2                  CC(C)(C)OC(=O)NC1CCC(C(=O)O)CC1.CNOC\n",
       "3               Nc1ccc(O)cc1.O=[N+]([O-])c1ccc(Cl)nc1Cl\n",
       "4     [N-]=[N+]=NCC1=CC[C@@H](c2ccc(Cl)cc2Cl)[C@H]([...\n",
       "...                                                 ...\n",
       "4999             Cc1cc([N+](=O)[O-])ccc1O.Nc1cc(Cl)ccn1\n",
       "5000  COC(=O)c1[nH]c2cc(Cl)cc3c2c1C(CC(=O)OC(C)(C)C)CC3\n",
       "5001  COc1cc(C(F)(F)F)cc(SC)c1C(=O)NC1(c2ccccc2)CC(=...\n",
       "5002               C=C(C)Cn1nc(C)c(Br)c1-c1ccc(F)cc1.OO\n",
       "5003  COC(=O)c1cc(Br)c(F)c(F)c1Nc1ccccc1F.COc1ccc(CS...\n",
       "\n",
       "[5004 rows x 1 columns]"
      ]
     },
     "execution_count": 33,
     "metadata": {},
     "output_type": "execute_result"
    }
   ],
   "source": [
    "test_df"
   ]
  },
  {
   "cell_type": "code",
   "execution_count": 35,
   "id": "disciplinary-people",
   "metadata": {},
   "outputs": [
    {
     "name": "stdout",
     "output_type": "stream",
     "text": [
      "oc(=o)c1cc(cccc2cc3c(=o)[nh]c(n)nc3[nh]2)cs1\n"
     ]
    }
   ],
   "source": [
    "with open('predictions.txt', 'r') as f:\n",
    "  lines = f.readlines()\n",
    "  lines = [''.join(x.strip().split()[1:]) for x in lines]\n",
    "  print(lines[1])\n",
    "  for i, line in enumerate(f.readlines()):\n",
    "    predictions[i % beam_size].append(''.join(line.strip().split(' ')))"
   ]
  },
  {
   "cell_type": "code",
   "execution_count": 36,
   "id": "economic-berlin",
   "metadata": {},
   "outputs": [],
   "source": [
    "for i, preds in enumerate('predictions.txt'):\n",
    "    test_df['prediction_{}'.format(i + 1)] = preds\n",
    "    test_df['canonical_prediction_{}'.format(i + 1)] = test_df['prediction_{}'.format(i + 1)].apply(\n",
    "    lambda x: canonicalize_smiles(x))\n",
    "\n",
    "test_df['rank'] = test_df.apply(lambda row: get_rank(row, 'canonical_prediction_', beam_size), axis=1)\n",
    "correct = 0\n",
    "invalid_smiles = 0\n",
    "\n",
    "        "
   ]
  },
  {
   "cell_type": "code",
   "execution_count": 37,
   "id": "virtual-southeast",
   "metadata": {},
   "outputs": [
    {
     "name": "stdout",
     "output_type": "stream",
     "text": [
      "Top-1: 0.0% || Invalid SMILES 100.00%\n",
      "Top-2: 0.0% || Invalid SMILES 100.00%\n",
      "Top-3: 0.0% || Invalid SMILES 100.00%\n",
      "Top-4: 0.0% || Invalid SMILES 100.00%\n",
      "Top-5: 0.0% || Invalid SMILES 100.00%\n",
      "Top-6: 0.0% || Invalid SMILES 100.00%\n",
      "Top-7: 0.0% || Invalid SMILES 100.00%\n",
      "Top-8: 0.0% || Invalid SMILES 100.00%\n",
      "Top-9: 0.0% || Invalid SMILES 100.00%\n",
      "Top-10: 0.0% || Invalid SMILES 100.00%\n"
     ]
    }
   ],
   "source": [
    "test_df['rank'] = test_df.apply(lambda row: get_rank(row, 'canonical_prediction_', beam_size), axis=1)\n",
    "correct = 0\n",
    "invalid_smiles = 0\n",
    "for i in range(1, beam_size+1):\n",
    "    correct += (test_df['rank'] == i).sum()\n",
    "    invalid_smiles += (test_df['canonical_prediction_{}'.format(i)] == '').sum()\n",
    "    if invalid_smiles:\n",
    "        print('Top-{}: {:.1f}% || Invalid SMILES {:.2f}%'.format(i, correct/total*100,\n",
    "                                                                 invalid_smiles/(total*i)*100))\n",
    "    else:\n",
    "        print('Top-{}: {:.1f}%'.format(i, correct / total * 100))"
   ]
  },
  {
   "cell_type": "code",
   "execution_count": null,
   "id": "romantic-sweet",
   "metadata": {},
   "outputs": [],
   "source": []
  },
  {
   "cell_type": "code",
   "execution_count": null,
   "id": "republican-emperor",
   "metadata": {},
   "outputs": [],
   "source": []
  }
 ],
 "metadata": {
  "kernelspec": {
   "display_name": "Python 3",
   "language": "python",
   "name": "python3"
  },
  "language_info": {
   "codemirror_mode": {
    "name": "ipython",
    "version": 3
   },
   "file_extension": ".py",
   "mimetype": "text/x-python",
   "name": "python",
   "nbconvert_exporter": "python",
   "pygments_lexer": "ipython3",
   "version": "3.8.8"
  }
 },
 "nbformat": 4,
 "nbformat_minor": 5
}
