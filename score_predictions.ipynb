{
  "nbformat": 4,
  "nbformat_minor": 5,
  "metadata": {
    "kernelspec": {
      "display_name": "Python 3",
      "language": "python",
      "name": "python3"
    },
    "language_info": {
      "codemirror_mode": {
        "name": "ipython",
        "version": 3
      },
      "file_extension": ".py",
      "mimetype": "text/x-python",
      "name": "python",
      "nbconvert_exporter": "python",
      "pygments_lexer": "ipython3",
      "version": "3.8.8"
    },
    "colab": {
      "name": "score_predictions.ipynb",
      "provenance": [],
      "machine_shape": "hm",
      "include_colab_link": true
    },
    "accelerator": "GPU"
  },
  "cells": [
    {
      "cell_type": "markdown",
      "metadata": {
        "id": "view-in-github",
        "colab_type": "text"
      },
      "source": [
        "<a href=\"https://colab.research.google.com/github/kenpurin/Retrosynthesis_Pytorch/blob/main/score_predictions.ipynb\" target=\"_parent\"><img src=\"https://colab.research.google.com/assets/colab-badge.svg\" alt=\"Open In Colab\"/></a>"
      ]
    },
    {
      "cell_type": "code",
      "metadata": {
        "id": "3PbN3mwJpPE6",
        "colab": {
          "base_uri": "https://localhost:8080/"
        },
        "outputId": "dd79c148-6ffe-403b-e479-f7d31b58681e"
      },
      "source": [
        "!git clone https://github.com/kenpurin/Retrosynthesis_Pytorch.git"
      ],
      "id": "3PbN3mwJpPE6",
      "execution_count": 1,
      "outputs": [
        {
          "output_type": "stream",
          "text": [
            "Cloning into 'Retrosynthesis_Pytorch'...\n",
            "remote: Enumerating objects: 311, done.\u001b[K\n",
            "remote: Counting objects: 100% (26/26), done.\u001b[K\n",
            "remote: Compressing objects: 100% (24/24), done.\u001b[K\n",
            "remote: Total 311 (delta 13), reused 2 (delta 2), pack-reused 285\u001b[K\n",
            "Receiving objects: 100% (311/311), 14.74 MiB | 15.23 MiB/s, done.\n",
            "Resolving deltas: 100% (176/176), done.\n"
          ],
          "name": "stdout"
        }
      ]
    },
    {
      "cell_type": "code",
      "metadata": {
        "colab": {
          "base_uri": "https://localhost:8080/"
        },
        "id": "Cl4kWQGyS1Mr",
        "outputId": "840add2e-af8b-4e64-b8dc-b2fe1fb0a678"
      },
      "source": [
        "!pip -q install rdkit-pypi"
      ],
      "id": "Cl4kWQGyS1Mr",
      "execution_count": 2,
      "outputs": [
        {
          "output_type": "stream",
          "text": [
            "\u001b[K     |████████████████████████████████| 18.6 MB 1.4 MB/s \n",
            "\u001b[?25h"
          ],
          "name": "stdout"
        }
      ]
    },
    {
      "cell_type": "code",
      "metadata": {
        "id": "annual-jesus"
      },
      "source": [
        "from rdkit import Chem\n",
        "import pandas as pd"
      ],
      "id": "annual-jesus",
      "execution_count": 3,
      "outputs": []
    },
    {
      "cell_type": "code",
      "metadata": {
        "id": "H9CGCyn6x-_r"
      },
      "source": [
        "invalid_smiles_t= True\n",
        "beam_size=10\n",
        "#opt_predictions='/content/predictions_USPTO-50K_model_full_version_step_500000_beam10.txt'\n",
        "opt_targets='/content/Retrosynthesis_Pytorch/USPTO-50K/tgt/tgt-test.txt'\n",
        "opt_predictions=\"/content/Retrosynthesis_Pytorch/prediction/predictions_test.txt\""
      ],
      "id": "H9CGCyn6x-_r",
      "execution_count": 4,
      "outputs": []
    },
    {
      "cell_type": "code",
      "metadata": {
        "id": "cellular-nepal"
      },
      "source": [
        "def canonicalize_smiles(smiles):\n",
        "    mol = Chem.MolFromSmiles(smiles)\n",
        "    if mol is not None:\n",
        "        return Chem.MolToSmiles(mol, isomericSmiles=True)\n",
        "    else:\n",
        "        return ''"
      ],
      "id": "cellular-nepal",
      "execution_count": 5,
      "outputs": []
    },
    {
      "cell_type": "code",
      "metadata": {
        "id": "electoral-principal"
      },
      "source": [
        "def get_rank(row, base, max_rank):\n",
        "  for i in range(1, max_rank+1):\n",
        "    #print(row['{}{}'.format(base, i)])\n",
        "    if row['target'] == row['{}{}'.format(base, i)]:\n",
        "      return i\n",
        "  return 0"
      ],
      "id": "electoral-principal",
      "execution_count": 6,
      "outputs": []
    },
    {
      "cell_type": "code",
      "metadata": {
        "id": "reserved-economy",
        "colab": {
          "base_uri": "https://localhost:8080/"
        },
        "outputId": "5a8665d2-7575-4e5e-f107-dc0ce4cb48f0"
      },
      "source": [
        "with open(opt_targets, 'r') as f:\n",
        "    targets = [''.join(line.strip().split(' ')) for line in f.readlines()]\n",
        "targets = targets[:]\n",
        "predictions = [[] for i in range(beam_size)]\n",
        "test_df = pd.DataFrame(targets)\n",
        "test_df.columns = ['target']\n",
        "total = len(test_df)\n",
        "total"
      ],
      "id": "reserved-economy",
      "execution_count": 7,
      "outputs": [
        {
          "output_type": "execute_result",
          "data": {
            "text/plain": [
              "5004"
            ]
          },
          "metadata": {
            "tags": []
          },
          "execution_count": 7
        }
      ]
    },
    {
      "cell_type": "code",
      "metadata": {
        "id": "running-abortion"
      },
      "source": [
        "with open(opt_predictions, 'r') as f:\n",
        "  for i, line in enumerate(f.readlines()):\n",
        "    predictions[i % beam_size].append(''.join(line.strip().split(' ')))"
      ],
      "id": "running-abortion",
      "execution_count": 8,
      "outputs": []
    },
    {
      "cell_type": "code",
      "metadata": {
        "id": "economic-berlin"
      },
      "source": [
        "for i, preds in enumerate(predictions):\n",
        "    test_df['prediction_{}'.format(i + 1)] = preds\n",
        "    test_df['canonical_prediction_{}'.format(i + 1)] = test_df['prediction_{}'.format(i + 1)].apply(\n",
        "    lambda x: canonicalize_smiles(x))  "
      ],
      "id": "economic-berlin",
      "execution_count": 9,
      "outputs": []
    },
    {
      "cell_type": "code",
      "metadata": {
        "id": "oBd3bFgIPfWZ",
        "colab": {
          "base_uri": "https://localhost:8080/",
          "height": 507
        },
        "outputId": "14c3fbfc-a6d3-4b10-ba29-d4825d5d04f2"
      },
      "source": [
        "test_df"
      ],
      "id": "oBd3bFgIPfWZ",
      "execution_count": 10,
      "outputs": [
        {
          "output_type": "execute_result",
          "data": {
            "text/html": [
              "<div>\n",
              "<style scoped>\n",
              "    .dataframe tbody tr th:only-of-type {\n",
              "        vertical-align: middle;\n",
              "    }\n",
              "\n",
              "    .dataframe tbody tr th {\n",
              "        vertical-align: top;\n",
              "    }\n",
              "\n",
              "    .dataframe thead th {\n",
              "        text-align: right;\n",
              "    }\n",
              "</style>\n",
              "<table border=\"1\" class=\"dataframe\">\n",
              "  <thead>\n",
              "    <tr style=\"text-align: right;\">\n",
              "      <th></th>\n",
              "      <th>target</th>\n",
              "      <th>prediction_1</th>\n",
              "      <th>canonical_prediction_1</th>\n",
              "      <th>prediction_2</th>\n",
              "      <th>canonical_prediction_2</th>\n",
              "      <th>prediction_3</th>\n",
              "      <th>canonical_prediction_3</th>\n",
              "      <th>prediction_4</th>\n",
              "      <th>canonical_prediction_4</th>\n",
              "      <th>prediction_5</th>\n",
              "      <th>canonical_prediction_5</th>\n",
              "      <th>prediction_6</th>\n",
              "      <th>canonical_prediction_6</th>\n",
              "      <th>prediction_7</th>\n",
              "      <th>canonical_prediction_7</th>\n",
              "      <th>prediction_8</th>\n",
              "      <th>canonical_prediction_8</th>\n",
              "      <th>prediction_9</th>\n",
              "      <th>canonical_prediction_9</th>\n",
              "      <th>prediction_10</th>\n",
              "      <th>canonical_prediction_10</th>\n",
              "    </tr>\n",
              "  </thead>\n",
              "  <tbody>\n",
              "    <tr>\n",
              "      <th>0</th>\n",
              "      <td>C1=COCCC1.COC(=O)CCC(=O)c1ccc(O)cc1O</td>\n",
              "      <td>C1=COCCC1.COC(=O)CCC(=O)c1ccc(O)cc1O</td>\n",
              "      <td>C1=COCCC1.COC(=O)CCC(=O)c1ccc(O)cc1O</td>\n",
              "      <td>1=COCCC1.COC(=O)CCC(=O)c1ccc(O)cc1O</td>\n",
              "      <td></td>\n",
              "      <td>C1=COCCC1.COC(=O)Cc1ccc(O)cc1O</td>\n",
              "      <td>C1=COCCC1.COC(=O)Cc1ccc(O)cc1O</td>\n",
              "      <td>C1=COCCC1.COC(=O)CCc1ccc(O)cc1O</td>\n",
              "      <td>C1=COCCC1.COC(=O)CCc1ccc(O)cc1O</td>\n",
              "      <td>C1=COCCC1.COC(=O)CCC(=O)c1cc(O)cc1O</td>\n",
              "      <td></td>\n",
              "      <td>C1=COCCC1.COC(=O)CCC(=O)c1cc1O</td>\n",
              "      <td></td>\n",
              "      <td>C1=COCCC1.COC(=O)CCC(=O)c1cc(O)ccc1O</td>\n",
              "      <td>C1=COCCC1.COC(=O)CCC(=O)c1cc(O)ccc1O</td>\n",
              "      <td>rC1CCCCO1.COC(=O)CCC(=O)c1ccc(O)cc1O</td>\n",
              "      <td></td>\n",
              "      <td>C1=CoCCC1.COC(=O)CCC(=O)c1ccc(O)cc1O</td>\n",
              "      <td>C1=COCCC1.COC(=O)CCC(=O)c1ccc(O)cc1O</td>\n",
              "      <td>C1=COCCC1.COC(=O)CCC(=O)c1ccc(O)cc1OC</td>\n",
              "      <td>C1=COCCC1.COC(=O)CCC(=O)c1ccc(O)cc1OC</td>\n",
              "    </tr>\n",
              "    <tr>\n",
              "      <th>1</th>\n",
              "      <td>COC(=O)c1cccc(C(=O)O)c1.Nc1cccnc1N</td>\n",
              "      <td>COC(=O)c1cccc(C(=O)O)c1.Nc1cccnc1N</td>\n",
              "      <td>COC(=O)c1cccc(C(=O)O)c1.Nc1cccnc1N</td>\n",
              "      <td>COC(=O)c1cccc(C(=O)O)c1.Nc1ncccc1N</td>\n",
              "      <td>COC(=O)c1cccc(C(=O)O)c1.Nc1cccnc1N</td>\n",
              "      <td>COC(=O)c1cccc(C(=O)O)c1.Nc1cnccc1N</td>\n",
              "      <td>COC(=O)c1cccc(C(=O)O)c1.Nc1ccncc1N</td>\n",
              "      <td>COC(=O)c1cccc(C(=O)O)c1.Nc1ccccc1N</td>\n",
              "      <td>COC(=O)c1cccc(C(=O)O)c1.Nc1ccccc1N</td>\n",
              "      <td>COC(=O)c1cccc(C(=O)O)c1.Nc1ccncc1N</td>\n",
              "      <td>COC(=O)c1cccc(C(=O)O)c1.Nc1ccncc1N</td>\n",
              "      <td>COC(=O)c1cccc(C(=O)O)c1.Nc1c(N)cccn1</td>\n",
              "      <td>COC(=O)c1cccc(C(=O)O)c1.Nc1cccnc1N</td>\n",
              "      <td>COC(=O)c1cccc(C(=O)O)c1.Nc1cccN)cn1</td>\n",
              "      <td></td>\n",
              "      <td>COC(=O)c1cc(C(=O)O)cc1.Nc1cccnc1N</td>\n",
              "      <td></td>\n",
              "      <td>COC(=O)c1ccc2c(C(=O)O)c1.Nc1cccnc1N</td>\n",
              "      <td></td>\n",
              "      <td>COC(=O)c1cccc(C(=O)O)c1.Nc1cccnc1N.O</td>\n",
              "      <td>COC(=O)c1cccc(C(=O)O)c1.Nc1cccnc1N.O</td>\n",
              "    </tr>\n",
              "    <tr>\n",
              "      <th>2</th>\n",
              "      <td>CC(C)(C)OC(=O)NC1CCC(C(=O)O)CC1.CNOC</td>\n",
              "      <td>CC(C)(C)OC(=O)NC1CCC(C(=O)O)CC1.CNOC</td>\n",
              "      <td>CC(C)(C)OC(=O)NC1CCC(C(=O)O)CC1.CNOC</td>\n",
              "      <td>CC(C)(C)OC(=O)NC1CCC(C(=O)O)Cc1.CNOC</td>\n",
              "      <td>CC(C)(C)OC(=O)NC1CCC(C(=O)O)CC1.CNOC</td>\n",
              "      <td>CONC.CC(C)(C)OC(=O)NC1CCC(C(=O)O)CC1</td>\n",
              "      <td>CC(C)(C)OC(=O)NC1CCC(C(=O)O)CC1.CNOC</td>\n",
              "      <td>CC(C)(C)OC(=O)NC1CC=C(C(=O)O)CC1.CNOC</td>\n",
              "      <td>CC(C)(C)OC(=O)NC1CC=C(C(=O)O)CC1.CNOC</td>\n",
              "      <td>CC(C)(C)OC(=O)NC1CCC(C(=O)O)OC1.CNOC</td>\n",
              "      <td>CC(C)(C)OC(=O)NC1CCC(C(=O)O)OC1.CNOC</td>\n",
              "      <td>C(C)(C)OC(=O)NC1CCC(C(=O)O)CC1.CNOC</td>\n",
              "      <td>CC(C)OC(=O)NC1CCC(C(=O)O)CC1.CNOC</td>\n",
              "      <td>CNOC.CC(C)(C)OC(=O)NC1CCC(C(=O)O)CC1</td>\n",
              "      <td>CC(C)(C)OC(=O)NC1CCC(C(=O)O)CC1.CNOC</td>\n",
              "      <td>CC(C)(C)OC(=O)NC1CCCC(C(=O)O)CC1.CNOC</td>\n",
              "      <td>CC(C)(C)OC(=O)NC1CCCC(C(=O)O)CC1.CNOC</td>\n",
              "      <td>CC(C)(C)OC(=O)NC1CCC(C(=O)O)CC1.CNOC)</td>\n",
              "      <td></td>\n",
              "      <td>CC(C)(C)OC(=O)NC1CCC(C(=O)O)(CC)C)CC1</td>\n",
              "      <td></td>\n",
              "    </tr>\n",
              "    <tr>\n",
              "      <th>3</th>\n",
              "      <td>Nc1ccc(O)cc1.O=[N+]([O-])c1ccc(Cl)nc1Cl</td>\n",
              "      <td>Nc1ccc(O)cc1.O=[N+]([O-])c1ccc(Cl)nc1Cl</td>\n",
              "      <td>Nc1ccc(O)cc1.O=[N+]([O-])c1ccc(Cl)nc1Cl</td>\n",
              "      <td>Nc1ccc(O)cc1.O=[N+]([O-])c1ccC(Cl)nc1Cl</td>\n",
              "      <td></td>\n",
              "      <td>Nc1ccC(O)cc1.O=[N+]([O-])c1ccc(Cl)nc1Cl</td>\n",
              "      <td></td>\n",
              "      <td>Nc1ccc(O)cc1.O=[N+]([O-])c1cccCl)nc1Cl</td>\n",
              "      <td></td>\n",
              "      <td>Nc1ccc(O)cc1.O=[N+]([O-])c1cc(Cl)nc1Cl</td>\n",
              "      <td></td>\n",
              "      <td>Nc1ccc(O)cc1.O=[N+]([O-])c1cccc(Cl)nc1Cl</td>\n",
              "      <td></td>\n",
              "      <td>Nc1ccc(O)cC1.O=[N+]([O-])c1ccc(Cl)nc1Cl</td>\n",
              "      <td></td>\n",
              "      <td>Nc1c(O)ccc(O)c1.O=[N+]([O-])c1ccc(Cl)nc1Cl</td>\n",
              "      <td>Nc1cc(O)ccc1O.O=[N+]([O-])c1ccc(Cl)nc1Cl</td>\n",
              "      <td>Nc1cc(O)ccc1.O=[N+]([O-])c1ccc(Cl)nc1Cl</td>\n",
              "      <td>Nc1cccc(O)c1.O=[N+]([O-])c1ccc(Cl)nc1Cl</td>\n",
              "      <td>Nc1ccc(O)cc1.O=[N+]([O-])c1ccc(Cl)nc1ClCl</td>\n",
              "      <td></td>\n",
              "    </tr>\n",
              "    <tr>\n",
              "      <th>4</th>\n",
              "      <td>[N-]=[N+]=NCC1=CC[C@@H](c2ccc(Cl)cc2Cl)[C@H]([...</td>\n",
              "      <td>N.O=[N+]([O-])[C@H]1CC(CBr)=CC[C@@H]1c1ccc(Cl)...</td>\n",
              "      <td>N.O=[N+]([O-])[C@H]1CC(CBr)=CC[C@@H]1c1ccc(Cl)...</td>\n",
              "      <td>N.O=[N+]([O-])[C@@H]1CC(CN=[N+]=[N-])=CC[C@@H]...</td>\n",
              "      <td>N.[N-]=[N+]=NCC1=CC[C@H](c2ccc(Cl)cc2Cl)[C@H](...</td>\n",
              "      <td>[N-]=[N+]=NCC1=CC[C@@H](c2ccc(Cl)cc2Cl)[C@H]([...</td>\n",
              "      <td>[N-]=[N+]=NCC1=CC[C@@H](c2ccc(Cl)cc2Cl)[C@H]([...</td>\n",
              "      <td>N.O=[N+]([O-])C1CC(CBr)=CC[C@@H]1c1ccc(Cl)cc1Cl</td>\n",
              "      <td>N.O=[N+]([O-])C1CC(CBr)=CC[C@@H]1c1ccc(Cl)cc1Cl</td>\n",
              "      <td>N.O=[N+]([O-])[C@H]1CC(CCl)=CC[C@@H]1c1ccc(Cl)...</td>\n",
              "      <td>N.O=[N+]([O-])[C@H]1CC(CCl)=CC[C@@H]1c1ccc(Cl)...</td>\n",
              "      <td>N.O=[N+]([O-])[C@@H]1CC(CBr)=CC[C@@H]1c1ccc(Cl...</td>\n",
              "      <td>N.O=[N+]([O-])[C@@H]1CC(CBr)=CC[C@@H]1c1ccc(Cl...</td>\n",
              "      <td>N.O=[N+]([O-])[C@@H]1CC(CN=[N+]=[N-])=CC[C@H]1...</td>\n",
              "      <td>N.[N-]=[N+]=NCC1=CC[C@@H](c2ccc(Cl)cc2Cl)[C@H]...</td>\n",
              "      <td>N.O=[N+]([O-])[C@@H]1CC(CN)=CC[C@@H]1c1ccc(Cl)...</td>\n",
              "      <td>N.NCC1=CC[C@H](c2ccc(Cl)cc2Cl)[C@H]([N+](=O)[O...</td>\n",
              "      <td>N.O=[N+]([O-])[C@@H]1CC(CNC(=O)C2=CC[C@@H](c3c...</td>\n",
              "      <td>N.O=C(NCC1CC([N+](=O)[O-])C1)C1=CC[C@@H](c2ccc...</td>\n",
              "      <td>N.O=[N+]([O-])[C@@H]1CC(CBr)=CC[C@@H]1c1ccc(Cl...</td>\n",
              "      <td></td>\n",
              "    </tr>\n",
              "    <tr>\n",
              "      <th>...</th>\n",
              "      <td>...</td>\n",
              "      <td>...</td>\n",
              "      <td>...</td>\n",
              "      <td>...</td>\n",
              "      <td>...</td>\n",
              "      <td>...</td>\n",
              "      <td>...</td>\n",
              "      <td>...</td>\n",
              "      <td>...</td>\n",
              "      <td>...</td>\n",
              "      <td>...</td>\n",
              "      <td>...</td>\n",
              "      <td>...</td>\n",
              "      <td>...</td>\n",
              "      <td>...</td>\n",
              "      <td>...</td>\n",
              "      <td>...</td>\n",
              "      <td>...</td>\n",
              "      <td>...</td>\n",
              "      <td>...</td>\n",
              "      <td>...</td>\n",
              "    </tr>\n",
              "    <tr>\n",
              "      <th>4999</th>\n",
              "      <td>Cc1cc([N+](=O)[O-])ccc1O.Nc1cc(Cl)ccn1</td>\n",
              "      <td>Cc1cc([N+](=O)[O-])ccc1F.Nc1cc(O)ccn1</td>\n",
              "      <td>Cc1cc([N+](=O)[O-])ccc1F.Nc1cc(O)ccn1</td>\n",
              "      <td>Cc1cc([N+](=O)[O-])ccc1O.Nc1cc(Br)ccn1</td>\n",
              "      <td>Cc1cc([N+](=O)[O-])ccc1O.Nc1cc(Br)ccn1</td>\n",
              "      <td>Cc1cc([N+](=O)[O-])ccc1N.Nc1cc(Br)ccn1</td>\n",
              "      <td>Cc1cc([N+](=O)[O-])ccc1N.Nc1cc(Br)ccn1</td>\n",
              "      <td>Cc1cc([N+](=O)[O-])ccc1O.Nc1cc(Cl)ccn1</td>\n",
              "      <td>Cc1cc([N+](=O)[O-])ccc1O.Nc1cc(Cl)ccn1</td>\n",
              "      <td>Cc1cc([N+](=O)[O-])ccc1N.Nc1cc(I)ccn1</td>\n",
              "      <td>Cc1cc([N+](=O)[O-])ccc1N.Nc1cc(I)ccn1</td>\n",
              "      <td>Cc1cc([N+](=O)[O-])ccc1N.Nc1cc(F)ccn1</td>\n",
              "      <td>Cc1cc([N+](=O)[O-])ccc1N.Nc1cc(F)ccn1</td>\n",
              "      <td>Cc1cc([N+](=O)[O-])ccc1O.Nc1cc(I)ccn1</td>\n",
              "      <td>Cc1cc([N+](=O)[O-])ccc1O.Nc1cc(I)ccn1</td>\n",
              "      <td>Cc1cc([N+](=O)[O-])ccc1N.Nc1cc(Cl)ccn1</td>\n",
              "      <td>Cc1cc([N+](=O)[O-])ccc1N.Nc1cc(Cl)ccn1</td>\n",
              "      <td>Cc1cc([N+](=O)[O-])ccc1O.Nc1cc(F)ccn1</td>\n",
              "      <td>Cc1cc([N+](=O)[O-])ccc1O.Nc1cc(F)ccn1</td>\n",
              "      <td>Cc1cc([N+](=O)[O-])ccc1Cl.Nc1cc(O)ccn1</td>\n",
              "      <td>Cc1cc([N+](=O)[O-])ccc1Cl.Nc1cc(O)ccn1</td>\n",
              "    </tr>\n",
              "    <tr>\n",
              "      <th>5000</th>\n",
              "      <td>COC(=O)c1[nH]c2cc(Cl)cc3c2c1C(CC(=O)OC(C)(C)C)CC3</td>\n",
              "      <td>COC(=O)CC1CCc2c(cc(Cl)cc2[nH]c(C(=O)OC)c21</td>\n",
              "      <td></td>\n",
              "      <td>COC(=O)CC1CCc2c(cc(Cl)cc2[nH]c(C(=O)OC)c12</td>\n",
              "      <td></td>\n",
              "      <td>COC(=O)CC1CCc2c(C(=O)OC)[nH]c3cc(Cl)cc3c21</td>\n",
              "      <td>COC(=O)CC1CCc2c(C(=O)OC)[nH]c3cc(Cl)cc-3c21</td>\n",
              "      <td>COC(=O)CC1CCc2c(C(=O)OC)[nH]c3cc(Cl)cc4c21</td>\n",
              "      <td></td>\n",
              "      <td>COC(=O)CC1CCc2c(C(=O)OC)[nH]c3cc(Cl)cc3c2C1</td>\n",
              "      <td>COC(=O)CC1CCc2c(C(=O)OC)[nH]c3cc(Cl)cc-3c2C1</td>\n",
              "      <td>CCOC(=O)CC1CCc2c(C(=O)OC)[nH]c3cc(Cl)cc3c21</td>\n",
              "      <td>CCOC(=O)CC1CCc2c(C(=O)OC)[nH]c3cc(Cl)cc-3c21</td>\n",
              "      <td>COC(=O)CC1CCc2c(C(=O)OC)[nH]c3cc(Cl)cc1c23</td>\n",
              "      <td>COC(=O)CC1CCc2c(C(=O)OC)[nH]c3cc(Cl)cc1c23</td>\n",
              "      <td>C</td>\n",
              "      <td>C</td>\n",
              "      <td>C=O</td>\n",
              "      <td>C=O</td>\n",
              "      <td></td>\n",
              "      <td></td>\n",
              "    </tr>\n",
              "    <tr>\n",
              "      <th>5001</th>\n",
              "      <td>COc1cc(C(F)(F)F)cc(SC)c1C(=O)NC1(c2ccccc2)CC(=...</td>\n",
              "      <td>COc1cc(C(F)(F)F)cc(SC)c1C(=O)NC1(c2ccccc2)CC(=...</td>\n",
              "      <td>COc1cc(C(F)(F)F)cc(SC)c1C(=O)NC1(c2ccccc2)CC(=...</td>\n",
              "      <td>COc1cc(C(F)(F)F)cc(SC)c1C(=O)NC1(c2ccccc2)CC(=...</td>\n",
              "      <td>COc1cc(C(F)(F)F)cc(SC)c1C(=O)NC1(c2ccccc2)CC(=...</td>\n",
              "      <td>COc1cc(C(F)(F)F)cc(SC)c1C(=O)N=C1(c2ccccc2)CC(...</td>\n",
              "      <td></td>\n",
              "      <td>COc1cc(C(F)(F)F)cc(SC)c1C(=O)NC1(c2ccccc2)CC(=...</td>\n",
              "      <td>COc1cc(C(F)(F)F)cc(SC)c1C(=O)NC1(c2ccccc2)CCN(...</td>\n",
              "      <td>COC(=O)C1(NC(=O)c2c(SC)cc(C(F)(F)F)cc2OC)CN(C)C1</td>\n",
              "      <td>COC(=O)C1(NC(=O)c2c(OC)cc(C(F)(F)F)cc2SC)CN(C)C1</td>\n",
              "      <td>COc1c(C(F)(F)F)cc(SC)c1C(=O)NC1(c2ccccc2)CC(=O...</td>\n",
              "      <td></td>\n",
              "      <td>COc1cc(C(F)(F)F)cc(SC)c1C(=O)NC1(c2ccccc2)C(=O...</td>\n",
              "      <td>COc1cc(C(F)(F)F)cc(SC)c1C(=O)NC1(c2ccccc2)CN(C...</td>\n",
              "      <td>COc1cc(C(F)(F)F)cc(SC)c1C(=O)NC1(c2ccccc2)cC(=...</td>\n",
              "      <td>COc1cc(C(F)(F)F)cc(SC)c1C(=O)NC1(c2ccccc2)CC(=...</td>\n",
              "      <td>COc1ccC(F)(F)F)cc(SC)c1C(=O)NC1(c2ccccc2)CC(=O...</td>\n",
              "      <td></td>\n",
              "      <td>COc1cc(C(F)(F)F)cc(SC)c1C(=O)NC1(c2ccccc2)CC(=...</td>\n",
              "      <td></td>\n",
              "    </tr>\n",
              "    <tr>\n",
              "      <th>5002</th>\n",
              "      <td>C=C(C)Cn1nc(C)c(Br)c1-c1ccc(F)cc1.OO</td>\n",
              "      <td>Cc1nn(CC(C)CO)c(-c2ccc(F)cc2)c1Br.O=C1CCC(=O)N1Br</td>\n",
              "      <td>Cc1nn(CC(C)CO)c(-c2ccc(F)cc2)c1Br.O=C1CCC(=O)N1Br</td>\n",
              "      <td>CC(=O)Cn1nc(C)c(Br)c1-c1ccc(F)cc1.OO</td>\n",
              "      <td>CC(=O)Cn1nc(C)c(Br)c1-c1ccc(F)cc1.OO</td>\n",
              "      <td>CC(C)Cn1nc(C)c(Br)c1-c1ccc(F)cc1.O=C1CCC(=O)N1Br</td>\n",
              "      <td>Cc1nn(CC(C)C)c(-c2ccc(F)cc2)c1Br.O=C1CCC(=O)N1Br</td>\n",
              "      <td>CC(C)Cn1nc(C)c(Br)c1-c1ccc(F)cc1.OO</td>\n",
              "      <td>Cc1nn(CC(C)C)c(-c2ccc(F)cc2)c1Br.OO</td>\n",
              "      <td>Cc1nn(CC(C)C=O)c(-c2ccc(F)cc2)c1Br.OO</td>\n",
              "      <td>Cc1nn(CC(C)C=O)c(-c2ccc(F)cc2)c1Br.OO</td>\n",
              "      <td>Cc1nn(CC(C)C)c(-c2ccc(F)cc2)c1Br.O=C1CCC(=O)N1Br</td>\n",
              "      <td>Cc1nn(CC(C)C)c(-c2ccc(F)cc2)c1Br.O=C1CCC(=O)N1Br</td>\n",
              "      <td>CC(=O)Cn1nc(C)c(Br)c1-c1ccc(F)cc1.O=C1CCC(=O)N1Br</td>\n",
              "      <td>CC(=O)Cn1nc(C)c(Br)c1-c1ccc(F)cc1.O=C1CCC(=O)N1Br</td>\n",
              "      <td>C=CC(C)Cn1nc(C)c(Br)c1-c1ccc(F)cc1.OO</td>\n",
              "      <td>C=CC(C)Cn1nc(C)c(Br)c1-c1ccc(F)cc1.OO</td>\n",
              "      <td>CC(CO)Cn1nc(C)c(Br)c1-c1ccc(F)cc1.O=C1CCC(=O)N1Br</td>\n",
              "      <td>Cc1nn(CC(C)CO)c(-c2ccc(F)cc2)c1Br.O=C1CCC(=O)N1Br</td>\n",
              "      <td>CC(C)Cn1nc(C)c(Br)c1-c1ccc(F)cc1.O=C1OC(=O)N1Br</td>\n",
              "      <td>Cc1nn(CC(C)C)c(-c2ccc(F)cc2)c1Br.O=C1OC(=O)N1Br</td>\n",
              "    </tr>\n",
              "    <tr>\n",
              "      <th>5003</th>\n",
              "      <td>COC(=O)c1cc(Br)c(F)c(F)c1Nc1ccccc1F.COc1ccc(CS...</td>\n",
              "      <td>COC(=O)c1cc(S)c(F)c(F)c1Nc1ccccc1F.COc1ccc(CBr...</td>\n",
              "      <td>COC(=O)c1cc(S)c(F)c(F)c1Nc1ccccc1F.COc1ccc(CBr...</td>\n",
              "      <td>COC(=O)c1cc(SCc2ccc(OC)cc2)c(F)c(F)c1F.Nc1ccccc1F</td>\n",
              "      <td>COC(=O)c1cc(SCc2ccc(OC)cc2)c(F)c(F)c1F.Nc1ccccc1F</td>\n",
              "      <td>COC(=O)c1cc(SCc2ccc(OC)cc2)c(F)c(F)c1F.Fc1cccc...</td>\n",
              "      <td>COC(=O)c1cc(SCc2ccc(OC)cc2)c(F)c(F)c1F.Fc1cccc...</td>\n",
              "      <td>COC(=O)c1cc(F)c(F)c(F)c1Nc1ccccc1F.COc1ccc(CS)cc1</td>\n",
              "      <td>COC(=O)c1cc(F)c(F)c(F)c1Nc1ccccc1F.COc1ccc(CS)cc1</td>\n",
              "      <td>COC(=O)c1cc(SCc2ccc(OC)cc2)c(F)c(F)c1N.Fc1cccc...</td>\n",
              "      <td>COC(=O)c1cc(SCc2ccc(OC)cc2)c(F)c(F)c1N.Fc1cccc...</td>\n",
              "      <td>COC(=O)c1cc(SCc2ccc(OC)cc2)c(F)c(F)c1Br.Nc1ccc...</td>\n",
              "      <td>COC(=O)c1cc(SCc2ccc(OC)cc2)c(F)c(F)c1Br.Nc1ccc...</td>\n",
              "      <td>COC(=O)c1cc(S)c(F)c(F)c1Nc1ccccc1F.COc1ccc(CCl...</td>\n",
              "      <td>COC(=O)c1cc(S)c(F)c(F)c1Nc1ccccc1F.COc1ccc(CCl...</td>\n",
              "      <td>COC(=O)c1cc(SCc2ccc(OC)cc2)c(F)c(F)c1F.Nc1ccccc1I</td>\n",
              "      <td>COC(=O)c1cc(SCc2ccc(OC)cc2)c(F)c(F)c1F.Nc1ccccc1I</td>\n",
              "      <td>COC(=O)c1cc(SCc2ccc(OC)cc2)c(F)c(F)c1Cl.Nc1ccc...</td>\n",
              "      <td>COC(=O)c1cc(SCc2ccc(OC)cc2)c(F)c(F)c1Cl.Nc1ccc...</td>\n",
              "      <td>COC(=O)c1cc(S.COc1ccc(CBr)cc1</td>\n",
              "      <td></td>\n",
              "    </tr>\n",
              "  </tbody>\n",
              "</table>\n",
              "<p>5004 rows × 21 columns</p>\n",
              "</div>"
            ],
            "text/plain": [
              "                                                 target  ...                          canonical_prediction_10\n",
              "0                  C1=COCCC1.COC(=O)CCC(=O)c1ccc(O)cc1O  ...            C1=COCCC1.COC(=O)CCC(=O)c1ccc(O)cc1OC\n",
              "1                    COC(=O)c1cccc(C(=O)O)c1.Nc1cccnc1N  ...             COC(=O)c1cccc(C(=O)O)c1.Nc1cccnc1N.O\n",
              "2                  CC(C)(C)OC(=O)NC1CCC(C(=O)O)CC1.CNOC  ...                                                 \n",
              "3               Nc1ccc(O)cc1.O=[N+]([O-])c1ccc(Cl)nc1Cl  ...                                                 \n",
              "4     [N-]=[N+]=NCC1=CC[C@@H](c2ccc(Cl)cc2Cl)[C@H]([...  ...                                                 \n",
              "...                                                 ...  ...                                              ...\n",
              "4999             Cc1cc([N+](=O)[O-])ccc1O.Nc1cc(Cl)ccn1  ...           Cc1cc([N+](=O)[O-])ccc1Cl.Nc1cc(O)ccn1\n",
              "5000  COC(=O)c1[nH]c2cc(Cl)cc3c2c1C(CC(=O)OC(C)(C)C)CC3  ...                                                 \n",
              "5001  COc1cc(C(F)(F)F)cc(SC)c1C(=O)NC1(c2ccccc2)CC(=...  ...                                                 \n",
              "5002               C=C(C)Cn1nc(C)c(Br)c1-c1ccc(F)cc1.OO  ...  Cc1nn(CC(C)C)c(-c2ccc(F)cc2)c1Br.O=C1OC(=O)N1Br\n",
              "5003  COC(=O)c1cc(Br)c(F)c(F)c1Nc1ccccc1F.COc1ccc(CS...  ...                                                 \n",
              "\n",
              "[5004 rows x 21 columns]"
            ]
          },
          "metadata": {
            "tags": []
          },
          "execution_count": 10
        }
      ]
    },
    {
      "cell_type": "code",
      "metadata": {
        "id": "virtual-southeast",
        "colab": {
          "base_uri": "https://localhost:8080/"
        },
        "outputId": "84063eb3-bc59-4912-cdb6-4ae152a4d7fa"
      },
      "source": [
        "test_df['rank'] = test_df.apply(lambda row: get_rank(row, 'canonical_prediction_', beam_size), axis=1)\n",
        "test_df['rank']"
      ],
      "id": "virtual-southeast",
      "execution_count": 11,
      "outputs": [
        {
          "output_type": "execute_result",
          "data": {
            "text/plain": [
              "0       1\n",
              "1       1\n",
              "2       1\n",
              "3       1\n",
              "4       3\n",
              "       ..\n",
              "4999    4\n",
              "5000    0\n",
              "5001    1\n",
              "5002    0\n",
              "5003    0\n",
              "Name: rank, Length: 5004, dtype: int64"
            ]
          },
          "metadata": {
            "tags": []
          },
          "execution_count": 11
        }
      ]
    },
    {
      "cell_type": "code",
      "metadata": {
        "id": "religious-speed",
        "colab": {
          "base_uri": "https://localhost:8080/"
        },
        "outputId": "c27a6698-af30-4b44-e7ae-ab8bb9b65322"
      },
      "source": [
        "correct = 0\n",
        "invalid_smiles = 0\n",
        "\n",
        "for i in range(1, beam_size+1):\n",
        "    correct += (test_df['rank'] == i).sum()\n",
        "    print((test_df['rank'] == i).sum(),correct)\n",
        "    \n",
        "    invalid_smiles += (test_df['canonical_prediction_{}'.format(i)] == '').sum()\n",
        "    if invalid_smiles_t:\n",
        "        print('Top-{}: {:.1f}% || Invalid SMILES {:.2f}%'.format(i, correct/total*100,\n",
        "                                                                 invalid_smiles/(total*i)*100))\n",
        "    else:\n",
        "        print('Top-{}: {:.1f}%'.format(i, correct / total * 100))"
      ],
      "id": "religious-speed",
      "execution_count": 12,
      "outputs": [
        {
          "output_type": "stream",
          "text": [
            "2810 2810\n",
            "Top-1: 56.2% || Invalid SMILES 2.24%\n",
            "500 3310\n",
            "Top-2: 66.1% || Invalid SMILES 9.70%\n",
            "194 3504\n",
            "Top-3: 70.0% || Invalid SMILES 14.86%\n",
            "101 3605\n",
            "Top-4: 72.0% || Invalid SMILES 18.75%\n",
            "57 3662\n",
            "Top-5: 73.2% || Invalid SMILES 21.81%\n",
            "50 3712\n",
            "Top-6: 74.2% || Invalid SMILES 24.26%\n",
            "32 3744\n",
            "Top-7: 74.8% || Invalid SMILES 26.29%\n",
            "19 3763\n",
            "Top-8: 75.2% || Invalid SMILES 28.32%\n",
            "14 3777\n",
            "Top-9: 75.5% || Invalid SMILES 30.54%\n",
            "10 3787\n",
            "Top-10: 75.7% || Invalid SMILES 33.20%\n"
          ],
          "name": "stdout"
        }
      ]
    }
  ]
}