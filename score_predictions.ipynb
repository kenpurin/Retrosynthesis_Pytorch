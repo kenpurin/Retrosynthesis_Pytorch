{
 "cells": [
  {
   "cell_type": "code",
   "execution_count": 1,
   "id": "annual-jesus",
   "metadata": {},
   "outputs": [],
   "source": [
    "from rdkit import Chem\n",
    "import pandas as pd"
   ]
  },
  {
   "cell_type": "code",
   "execution_count": 2,
   "id": "cellular-nepal",
   "metadata": {},
   "outputs": [],
   "source": [
    "def canonicalize_smiles(smiles):\n",
    "    mol = Chem.MolFromSmiles(smiles)\n",
    "    if mol is not None:\n",
    "        return Chem.MolToSmiles(mol, isomericSmiles=True)\n",
    "    else:\n",
    "        return ''"
   ]
  },
  {
   "cell_type": "code",
   "execution_count": 3,
   "id": "electoral-principal",
   "metadata": {},
   "outputs": [],
   "source": [
    "def get_rank(row, base, max_rank):\n",
    "    for i in range(1, max_rank+1):\n",
    "        if row['target'] == row['{}{}'.format(base, i)]:\n",
    "            return i\n",
    "    return 0"
   ]
  },
  {
   "cell_type": "code",
   "execution_count": 5,
   "id": "after-showcase",
   "metadata": {},
   "outputs": [],
   "source": [
    "#data/USPTO-50K/tgt-test.txt\n",
    "targets=\"data/USPTO-50K/tgt/tgt-test.txt\"\n",
    "beam_size=10\n",
    "with open(targets, 'r') as f:\n",
    "    targets = [''.join(line.strip().split(' ')) for line in f.readlines()]\n",
    "targets = targets[:]\n",
    "predictions = [[] for i in range(beam_size)]\n",
    "test_df = pd.DataFrame(targets)\n",
    "test_df.columns = ['target']\n",
    "total = len(test_df)\n",
    "\n",
    "\n"
   ]
  },
  {
   "cell_type": "code",
   "execution_count": null,
   "id": "light-selling",
   "metadata": {},
   "outputs": [],
   "source": [
    "#note model prediction\n",
    "#predictions=...........\n",
    "with open(predictions, 'r') as f:\n",
    "    for i, line in enumerate(f.readlines()):\n",
    "        predictions[i % beam_size].append(''.join(line.strip().split(' ')))\n",
    "        \n",
    "for i, preds in enumerate(predictions):\n",
    "    test_df['prediction_{}'.format(i + 1)] = preds\n",
    "    test_df['canonical_prediction_{}'.format(i + 1)] = test_df['prediction_{}'.format(i + 1)].apply(\n",
    "    lambda x: canonicalize_smiles(x))\n",
    "\n",
    "test_df['rank'] = test_df.apply(lambda row: get_rank(row, 'canonical_prediction_', beam_size), axis=1)\n",
    "correct = 0\n",
    "invalid_smiles = 0\n",
    "for i in range(1, beam_size+1):\n",
    "    correct += (test_df['rank'] == i).sum()\n",
    "    invalid_smiles += (test_df['canonical_prediction_{}'.format(i)] == '').sum()\n",
    "    if invalid_smiles:\n",
    "        print('Top-{}: {:.1f}% || Invalid SMILES {:.2f}%'.format(i, correct/total*100,\n",
    "                                                                 invalid_smiles/(total*i)*100))\n",
    "    else:\n",
    "        print('Top-{}: {:.1f}%'.format(i, correct / total * 100))\n",
    "        \n",
    "        \n",
    "\n"
   ]
  }
 ],
 "metadata": {
  "kernelspec": {
   "display_name": "Python 3",
   "language": "python",
   "name": "python3"
  },
  "language_info": {
   "codemirror_mode": {
    "name": "ipython",
    "version": 3
   },
   "file_extension": ".py",
   "mimetype": "text/x-python",
   "name": "python",
   "nbconvert_exporter": "python",
   "pygments_lexer": "ipython3",
   "version": "3.8.8"
  }
 },
 "nbformat": 4,
 "nbformat_minor": 5
}
